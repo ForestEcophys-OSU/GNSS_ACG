{
 "cells": [
  {
   "cell_type": "markdown",
   "id": "d18b5b0e",
   "metadata": {},
   "source": [
    "\n",
    "# 🧰 Paso previo: Descomprimir MetStation y reunir archivos `.25O` por estación\n"
   ]
  },
  {
   "cell_type": "code",
   "execution_count": 1,
   "id": "67e83a55",
   "metadata": {},
   "outputs": [
    {
     "data": {
      "text/plain": [
       "(WindowsPath('C:/Users/varga/Box/Data/RinexZipFiles/MetStation/Last'),\n",
       " WindowsPath('C:/Users/varga/Box/Data/nc Files/MetSta'),\n",
       " WindowsPath('C:/Users/varga/Box/Data/RinexZipFiles/MetStation/Last/unzipped'))"
      ]
     },
     "execution_count": 1,
     "metadata": {},
     "output_type": "execute_result"
    }
   ],
   "source": [
    "\n",
    "# === CONFIGURACIÓN DE RUTAS (AJUSTA SOLO SI ES NECESARIO) ===\n",
    "from pathlib import Path\n",
    "\n",
    "# Carpeta con los .zip (según lo solicitado)\n",
    "ZIP_ROOT = Path(r\"C:\\Users\\varga\\Box\\Data\\RinexZipFiles\\MetStation\\Last\")\n",
    "\n",
    "# Carpeta base donde se crearán subcarpetas por estación (nombre del zip sin extensión)\n",
    "DEST_ROOT = Path(r\"C:\\Users\\varga\\Box\\Data\\nc Files\\MetSta\")\n",
    "\n",
    "# Subcadena para identificar la carpeta RINEX (como en tu flujo original)\n",
    "RINEX_SUBSTR = \"RINEX_3_03\"\n",
    "\n",
    "# Patrón de zip a considerar\n",
    "ZIP_PATTERN = \"MetStation*.zip\"\n",
    "\n",
    "# Carpeta donde se extraerán los zips (se crea junto a ZIP_ROOT)\n",
    "UNZIP_ROOT = ZIP_ROOT / \"unzipped\"\n",
    "\n",
    "# Política de sobre-escritura de .25O\n",
    "OVERWRITE_25O = False\n",
    "\n",
    "ZIP_ROOT, DEST_ROOT, UNZIP_ROOT"
   ]
  },
  {
   "cell_type": "code",
   "execution_count": 2,
   "id": "fab7bbd0",
   "metadata": {},
   "outputs": [
    {
     "name": "stdout",
     "output_type": "stream",
     "text": [
      "[EXTRACT] MetStation(1).zip -> MetStation(1)\n",
      "[EXTRACT] MetStation(10).zip -> MetStation(10)\n",
      "[EXTRACT] MetStation(100).zip -> MetStation(100)\n",
      "[EXTRACT] MetStation(101).zip -> MetStation(101)\n",
      "[EXTRACT] MetStation(102).zip -> MetStation(102)\n",
      "[EXTRACT] MetStation(103).zip -> MetStation(103)\n",
      "[EXTRACT] MetStation(104).zip -> MetStation(104)\n",
      "[EXTRACT] MetStation(105).zip -> MetStation(105)\n",
      "[EXTRACT] MetStation(106).zip -> MetStation(106)\n",
      "[EXTRACT] MetStation(107).zip -> MetStation(107)\n",
      "[EXTRACT] MetStation(108).zip -> MetStation(108)\n",
      "[EXTRACT] MetStation(109).zip -> MetStation(109)\n",
      "[EXTRACT] MetStation(11).zip -> MetStation(11)\n",
      "[EXTRACT] MetStation(110).zip -> MetStation(110)\n",
      "[EXTRACT] MetStation(111).zip -> MetStation(111)\n",
      "[EXTRACT] MetStation(112).zip -> MetStation(112)\n",
      "[EXTRACT] MetStation(113).zip -> MetStation(113)\n",
      "[EXTRACT] MetStation(114).zip -> MetStation(114)\n",
      "[EXTRACT] MetStation(115).zip -> MetStation(115)\n",
      "[EXTRACT] MetStation(116).zip -> MetStation(116)\n",
      "[EXTRACT] MetStation(117).zip -> MetStation(117)\n",
      "[EXTRACT] MetStation(118).zip -> MetStation(118)\n",
      "[EXTRACT] MetStation(119).zip -> MetStation(119)\n",
      "[EXTRACT] MetStation(12).zip -> MetStation(12)\n",
      "[EXTRACT] MetStation(120).zip -> MetStation(120)\n",
      "[EXTRACT] MetStation(121).zip -> MetStation(121)\n",
      "[EXTRACT] MetStation(122).zip -> MetStation(122)\n",
      "[EXTRACT] MetStation(123).zip -> MetStation(123)\n",
      "[EXTRACT] MetStation(124).zip -> MetStation(124)\n",
      "[EXTRACT] MetStation(125).zip -> MetStation(125)\n",
      "[EXTRACT] MetStation(126).zip -> MetStation(126)\n",
      "[EXTRACT] MetStation(127).zip -> MetStation(127)\n",
      "[EXTRACT] MetStation(128).zip -> MetStation(128)\n",
      "[EXTRACT] MetStation(129).zip -> MetStation(129)\n",
      "[EXTRACT] MetStation(13).zip -> MetStation(13)\n",
      "[EXTRACT] MetStation(130).zip -> MetStation(130)\n",
      "[EXTRACT] MetStation(131).zip -> MetStation(131)\n",
      "[EXTRACT] MetStation(132).zip -> MetStation(132)\n",
      "[EXTRACT] MetStation(14).zip -> MetStation(14)\n",
      "[EXTRACT] MetStation(15).zip -> MetStation(15)\n",
      "[EXTRACT] MetStation(16).zip -> MetStation(16)\n",
      "[EXTRACT] MetStation(17).zip -> MetStation(17)\n",
      "[EXTRACT] MetStation(18).zip -> MetStation(18)\n",
      "[EXTRACT] MetStation(19).zip -> MetStation(19)\n",
      "[EXTRACT] MetStation(2).zip -> MetStation(2)\n",
      "[EXTRACT] MetStation(20).zip -> MetStation(20)\n",
      "[EXTRACT] MetStation(21).zip -> MetStation(21)\n",
      "[EXTRACT] MetStation(22).zip -> MetStation(22)\n",
      "[EXTRACT] MetStation(23).zip -> MetStation(23)\n",
      "[EXTRACT] MetStation(24).zip -> MetStation(24)\n",
      "[EXTRACT] MetStation(25).zip -> MetStation(25)\n",
      "[EXTRACT] MetStation(26).zip -> MetStation(26)\n",
      "[EXTRACT] MetStation(27).zip -> MetStation(27)\n",
      "[EXTRACT] MetStation(28).zip -> MetStation(28)\n",
      "[EXTRACT] MetStation(29).zip -> MetStation(29)\n",
      "[EXTRACT] MetStation(3).zip -> MetStation(3)\n",
      "[EXTRACT] MetStation(30).zip -> MetStation(30)\n",
      "[EXTRACT] MetStation(31).zip -> MetStation(31)\n",
      "[EXTRACT] MetStation(32).zip -> MetStation(32)\n",
      "[EXTRACT] MetStation(33).zip -> MetStation(33)\n",
      "[EXTRACT] MetStation(34).zip -> MetStation(34)\n",
      "[EXTRACT] MetStation(35).zip -> MetStation(35)\n",
      "[EXTRACT] MetStation(36).zip -> MetStation(36)\n",
      "[EXTRACT] MetStation(37).zip -> MetStation(37)\n",
      "[EXTRACT] MetStation(38).zip -> MetStation(38)\n",
      "[EXTRACT] MetStation(39).zip -> MetStation(39)\n",
      "[EXTRACT] MetStation(4).zip -> MetStation(4)\n",
      "[EXTRACT] MetStation(40).zip -> MetStation(40)\n",
      "[EXTRACT] MetStation(41).zip -> MetStation(41)\n",
      "[EXTRACT] MetStation(42).zip -> MetStation(42)\n",
      "[EXTRACT] MetStation(43).zip -> MetStation(43)\n",
      "[EXTRACT] MetStation(44).zip -> MetStation(44)\n",
      "[EXTRACT] MetStation(45).zip -> MetStation(45)\n",
      "[EXTRACT] MetStation(46).zip -> MetStation(46)\n",
      "[EXTRACT] MetStation(47).zip -> MetStation(47)\n",
      "[EXTRACT] MetStation(48).zip -> MetStation(48)\n",
      "[EXTRACT] MetStation(49).zip -> MetStation(49)\n",
      "[EXTRACT] MetStation(5).zip -> MetStation(5)\n",
      "[EXTRACT] MetStation(50).zip -> MetStation(50)\n",
      "[EXTRACT] MetStation(51).zip -> MetStation(51)\n",
      "[EXTRACT] MetStation(52).zip -> MetStation(52)\n",
      "[EXTRACT] MetStation(53).zip -> MetStation(53)\n",
      "[EXTRACT] MetStation(54).zip -> MetStation(54)\n",
      "[EXTRACT] MetStation(55).zip -> MetStation(55)\n",
      "[EXTRACT] MetStation(56).zip -> MetStation(56)\n",
      "[EXTRACT] MetStation(57).zip -> MetStation(57)\n",
      "[EXTRACT] MetStation(58).zip -> MetStation(58)\n",
      "[EXTRACT] MetStation(59).zip -> MetStation(59)\n",
      "[EXTRACT] MetStation(6).zip -> MetStation(6)\n",
      "[EXTRACT] MetStation(60).zip -> MetStation(60)\n",
      "[EXTRACT] MetStation(61).zip -> MetStation(61)\n",
      "[EXTRACT] MetStation(62).zip -> MetStation(62)\n",
      "[EXTRACT] MetStation(63).zip -> MetStation(63)\n",
      "[EXTRACT] MetStation(64).zip -> MetStation(64)\n",
      "[EXTRACT] MetStation(65).zip -> MetStation(65)\n",
      "[EXTRACT] MetStation(66).zip -> MetStation(66)\n",
      "[EXTRACT] MetStation(67).zip -> MetStation(67)\n",
      "[EXTRACT] MetStation(68).zip -> MetStation(68)\n",
      "[EXTRACT] MetStation(69).zip -> MetStation(69)\n",
      "[EXTRACT] MetStation(7).zip -> MetStation(7)\n",
      "[EXTRACT] MetStation(70).zip -> MetStation(70)\n",
      "[EXTRACT] MetStation(71).zip -> MetStation(71)\n",
      "[EXTRACT] MetStation(72).zip -> MetStation(72)\n",
      "[EXTRACT] MetStation(73).zip -> MetStation(73)\n",
      "[EXTRACT] MetStation(74).zip -> MetStation(74)\n",
      "[EXTRACT] MetStation(75).zip -> MetStation(75)\n",
      "[EXTRACT] MetStation(76).zip -> MetStation(76)\n",
      "[EXTRACT] MetStation(77).zip -> MetStation(77)\n",
      "[EXTRACT] MetStation(78).zip -> MetStation(78)\n",
      "[EXTRACT] MetStation(79).zip -> MetStation(79)\n",
      "[EXTRACT] MetStation(8).zip -> MetStation(8)\n",
      "[EXTRACT] MetStation(80).zip -> MetStation(80)\n",
      "[EXTRACT] MetStation(81).zip -> MetStation(81)\n",
      "[EXTRACT] MetStation(82).zip -> MetStation(82)\n",
      "[EXTRACT] MetStation(83).zip -> MetStation(83)\n",
      "[EXTRACT] MetStation(84).zip -> MetStation(84)\n",
      "[EXTRACT] MetStation(85).zip -> MetStation(85)\n",
      "[EXTRACT] MetStation(86).zip -> MetStation(86)\n",
      "[EXTRACT] MetStation(87).zip -> MetStation(87)\n",
      "[EXTRACT] MetStation(88).zip -> MetStation(88)\n",
      "[EXTRACT] MetStation(89).zip -> MetStation(89)\n",
      "[EXTRACT] MetStation(9).zip -> MetStation(9)\n",
      "[EXTRACT] MetStation(90).zip -> MetStation(90)\n",
      "[EXTRACT] MetStation(91).zip -> MetStation(91)\n",
      "[EXTRACT] MetStation(92).zip -> MetStation(92)\n",
      "[EXTRACT] MetStation(93).zip -> MetStation(93)\n",
      "[EXTRACT] MetStation(94).zip -> MetStation(94)\n",
      "[EXTRACT] MetStation(95).zip -> MetStation(95)\n",
      "[EXTRACT] MetStation(96).zip -> MetStation(96)\n",
      "[EXTRACT] MetStation(97).zip -> MetStation(97)\n",
      "[EXTRACT] MetStation(98).zip -> MetStation(98)\n",
      "[EXTRACT] MetStation(99).zip -> MetStation(99)\n",
      "[EXTRACT] MetStation.zip -> MetStation\n",
      "\n",
      "===== RESUMEN (Notebook) =====\n",
      "Zips procesados/existentes: 133\n",
      "Archivos *.25O copiados en total: 133\n",
      "Destino único: C:\\Users\\varga\\Box\\Data\\nc Files\\MetSta\n"
     ]
    }
   ],
   "source": [
    "\n",
    "# === LÓGICA: extraer zips y copiar TODOS los *.25O a una sola carpeta ===\n",
    "import zipfile, shutil\n",
    "\n",
    "def safe_extract(zf: zipfile.ZipFile, dest: Path):\n",
    "    for member in zf.infolist():\n",
    "        member_path = dest / member.filename\n",
    "        if not str(member_path.resolve()).startswith(str(dest.resolve())):\n",
    "            raise RuntimeError(f\"Entrada peligrosa en ZIP: {member.filename}\")\n",
    "        zf.extract(member, dest)\n",
    "\n",
    "def extract_all_zips(root: Path, unzip_root: Path, pattern: str):\n",
    "    unzip_root.mkdir(parents=True, exist_ok=True)\n",
    "    zips = sorted(root.glob(pattern), key=lambda p: p.name.lower())\n",
    "    extracted = []\n",
    "    for z in zips:\n",
    "        target_dir = unzip_root / z.stem\n",
    "        if target_dir.exists():\n",
    "            extracted.append(target_dir)\n",
    "            continue\n",
    "        try:\n",
    "            with zipfile.ZipFile(z) as zf:\n",
    "                print(f\"[EXTRACT] {z.name} -> {target_dir.name}\")\n",
    "                target_dir.mkdir(parents=True, exist_ok=True)\n",
    "                safe_extract(zf, target_dir)\n",
    "                extracted.append(target_dir)\n",
    "        except Exception as e:\n",
    "            print(f\"[ERROR] {z.name}: {e}\")\n",
    "    return extracted\n",
    "\n",
    "def find_rinex_dirs(base: Path, substr: str):\n",
    "    sub = substr.lower()\n",
    "    return [p for p in base.rglob(\"*\") if p.is_dir() and sub in p.name.lower()]\n",
    "\n",
    "def copy_25O_flat(unzip_root: Path, dest_root: Path, rinex_substr: str, overwrite=False):\n",
    "    dest_root.mkdir(parents=True, exist_ok=True)\n",
    "    total = 0\n",
    "    for station_dir in sorted(p for p in unzip_root.iterdir() if p.is_dir()):\n",
    "        rinex_dirs = find_rinex_dirs(station_dir, rinex_substr)\n",
    "        if rinex_dirs:\n",
    "            for rdir in rinex_dirs:\n",
    "                for f in rdir.glob(\"*.25O\"):\n",
    "                    df = dest_root / f.name\n",
    "                    if df.exists() and not overwrite:\n",
    "                        continue\n",
    "                    shutil.copy2(f, df)\n",
    "                    total += 1\n",
    "        else:\n",
    "            for f in station_dir.rglob(\"*.25O\"):\n",
    "                df = dest_root / f.name\n",
    "                if df.exists() and not overwrite:\n",
    "                    continue\n",
    "                shutil.copy2(f, df)\n",
    "                total += 1\n",
    "    return total\n",
    "\n",
    "# === Ejecutar flujo ===\n",
    "DEST_ROOT.mkdir(parents=True, exist_ok=True)\n",
    "extracted_dirs = extract_all_zips(ZIP_ROOT, UNZIP_ROOT, ZIP_PATTERN)\n",
    "for p in sorted(UNZIP_ROOT.iterdir() if UNZIP_ROOT.exists() else []):\n",
    "    if p.is_dir() and p not in extracted_dirs:\n",
    "        extracted_dirs.append(p)\n",
    "\n",
    "total_copiados = copy_25O_flat(UNZIP_ROOT, DEST_ROOT, RINEX_SUBSTR, overwrite=OVERWRITE_25O)\n",
    "print(\"\\n===== RESUMEN (Notebook) =====\")\n",
    "print(f\"Zips procesados/existentes: {len(extracted_dirs)}\")\n",
    "print(f\"Archivos *.25O copiados en total: {total_copiados}\")\n",
    "print(f\"Destino único: {DEST_ROOT}\")\n"
   ]
  },
  {
   "cell_type": "markdown",
   "id": "af80e10b",
   "metadata": {},
   "source": [
    "# Processing of Files for the MANCHI Station"
   ]
  },
  {
   "cell_type": "markdown",
   "id": "4836a1ea",
   "metadata": {},
   "source": [
    "Test notebook for data processing"
   ]
  },
  {
   "cell_type": "markdown",
   "id": "245300be",
   "metadata": {},
   "source": [
    "## Libraries"
   ]
  },
  {
   "cell_type": "code",
   "execution_count": 6,
   "id": "cc85df31",
   "metadata": {},
   "outputs": [],
   "source": [
    "%load_ext autoreload\n",
    "%autoreload 2\n",
    "import gnssvod as gv\n",
    "import numpy as np\n",
    "import pandas as pd\n",
    "import matplotlib.pyplot as plt\n",
    "import matplotlib.dates as mdates\n",
    "import pdb\n",
    "import importlib\n",
    "import zipfile\n",
    "import os\n",
    "import xarray as xr\n",
    "import glob\n",
    "import shutil\n",
    "from gnssvod.hemistats.hemistats import hemibuild\n",
    "#import georinex as gr\n",
    "#import qgrid as interactive table \n",
    "from matplotlib.collections import PatchCollection\n",
    "import matplotlib.dates as mdates\n",
    "import shutil\n",
    "from matplotlib import rcParams\n",
    "from datetime import datetime \n",
    "import shutil\n",
    "from pathlib import Path\n"
   ]
  },
  {
   "cell_type": "markdown",
   "id": "c632cc43",
   "metadata": {},
   "source": [
    "## Presets"
   ]
  },
  {
   "cell_type": "markdown",
   "id": "6029bdb6",
   "metadata": {},
   "source": [
    "### Time intervals"
   ]
  },
  {
   "cell_type": "code",
   "execution_count": 6,
   "id": "13073921",
   "metadata": {},
   "outputs": [
    {
     "data": {
      "text/plain": [
       "IntervalIndex([[2025-04-25 00:00:00, 2025-04-26 00:00:00),\n",
       "               [2025-04-26 00:00:00, 2025-04-27 00:00:00),\n",
       "               [2025-04-27 00:00:00, 2025-04-28 00:00:00),\n",
       "               [2025-04-28 00:00:00, 2025-04-29 00:00:00),\n",
       "               [2025-04-29 00:00:00, 2025-04-30 00:00:00),\n",
       "               [2025-04-30 00:00:00, 2025-05-01 00:00:00),\n",
       "               [2025-05-01 00:00:00, 2025-05-02 00:00:00),\n",
       "               [2025-05-02 00:00:00, 2025-05-03 00:00:00),\n",
       "               [2025-05-03 00:00:00, 2025-05-04 00:00:00),\n",
       "               [2025-05-04 00:00:00, 2025-05-05 00:00:00)],\n",
       "              dtype='interval[datetime64[ns], left]')"
      ]
     },
     "execution_count": 6,
     "metadata": {},
     "output_type": "execute_result"
    }
   ],
   "source": [
    "# Define the start day\n",
    "startday = pd.to_datetime('25-04-2025', format='%d-%m-%Y')\n",
    "# Generate a range of datetime values\n",
    "timeintervals=pd.interval_range(start=startday, periods=10, freq='D', closed='left')\n",
    "timeintervals"
   ]
  },
  {
   "cell_type": "markdown",
   "id": "276dda6e",
   "metadata": {},
   "source": [
    "## Process Rinex Files"
   ]
  },
  {
   "cell_type": "code",
   "execution_count": 7,
   "id": "c913789e",
   "metadata": {},
   "outputs": [
    {
     "name": "stdout",
     "output_type": "stream",
     "text": [
      "Found 133 files:\n",
      "MetStation_raw_20250413000420.25O\n",
      "MetStation_raw_20250414000421.25O\n",
      "MetStation_raw_20250415000422.25O\n",
      "MetStation_raw_20250415221018.25O\n",
      "MetStation_raw_20250416221018.25O\n",
      "MetStation_raw_20250417221019.25O\n",
      "MetStation_raw_20250418221020.25O\n",
      "MetStation_raw_20250419221021.25O\n",
      "MetStation_raw_20250420221022.25O\n",
      "MetStation_raw_20250421221023.25O\n",
      "MetStation_raw_20250422221025.25O\n",
      "MetStation_raw_20250423221026.25O\n",
      "MetStation_raw_20250424221027.25O\n",
      "MetStation_raw_20250425221028.25O\n",
      "MetStation_raw_20250426221029.25O\n",
      "MetStation_raw_20250427221030.25O\n",
      "MetStation_raw_20250430150820.25O\n",
      "MetStation_raw_20250501150821.25O\n",
      "MetStation_raw_20250502150821.25O\n",
      "MetStation_raw_20250503150822.25O\n",
      "MetStation_raw_20250504150823.25O\n",
      "MetStation_raw_20250505150824.25O\n",
      "MetStation_raw_20250506150825.25O\n",
      "MetStation_raw_20250507150825.25O\n",
      "MetStation_raw_20250508150826.25O\n",
      "MetStation_raw_20250509150827.25O\n",
      "MetStation_raw_20250510150827.25O\n",
      "MetStation_raw_20250511150828.25O\n",
      "MetStation_raw_20250512150829.25O\n",
      "MetStation_raw_20250513150829.25O\n",
      "MetStation_raw_20250514150830.25O\n",
      "MetStation_raw_20250515150831.25O\n",
      "MetStation_raw_20250516150831.25O\n",
      "MetStation_raw_20250517150832.25O\n",
      "MetStation_raw_20250518150832.25O\n",
      "MetStation_raw_20250519150833.25O\n",
      "MetStation_raw_20250520150834.25O\n",
      "MetStation_raw_20250520191911.25O\n",
      "MetStation_raw_20250521191913.25O\n",
      "MetStation_raw_20250522191914.25O\n",
      "MetStation_raw_20250523191914.25O\n",
      "MetStation_raw_20250524191915.25O\n",
      "MetStation_raw_20250525191916.25O\n",
      "MetStation_raw_20250526191916.25O\n",
      "MetStation_raw_20250528221758.25O\n",
      "MetStation_raw_20250529221759.25O\n",
      "MetStation_raw_20250530221759.25O\n",
      "MetStation_raw_20250531221801.25O\n",
      "MetStation_raw_20250601221801.25O\n",
      "MetStation_raw_20250602221802.25O\n",
      "MetStation_raw_20250603221802.25O\n",
      "MetStation_raw_20250604221803.25O\n",
      "MetStation_raw_20250605221803.25O\n",
      "MetStation_raw_20250606221804.25O\n",
      "MetStation_raw_20250607221805.25O\n",
      "MetStation_raw_20250608221805.25O\n",
      "MetStation_raw_20250609221805.25O\n",
      "MetStation_raw_20250610221806.25O\n",
      "MetStation_raw_20250611221807.25O\n",
      "MetStation_raw_20250612221807.25O\n",
      "MetStation_raw_20250613221809.25O\n",
      "MetStation_raw_20250614221809.25O\n",
      "MetStation_raw_20250615221810.25O\n",
      "MetStation_raw_20250616175232.25O\n",
      "MetStation_raw_20250617180633.25O\n",
      "MetStation_raw_20250618140827.25O\n",
      "MetStation_raw_20250619165014.25O\n",
      "MetStation_raw_20250620165015.25O\n",
      "MetStation_raw_20250621165016.25O\n",
      "MetStation_raw_20250622165016.25O\n",
      "MetStation_raw_20250623165017.25O\n",
      "MetStation_raw_20250624165018.25O\n",
      "MetStation_raw_20250625165018.25O\n",
      "MetStation_raw_20250626165019.25O\n",
      "MetStation_raw_20250627165020.25O\n",
      "MetStation_raw_20250628165021.25O\n",
      "MetStation_raw_20250629165022.25O\n",
      "MetStation_raw_20250630165022.25O\n",
      "MetStation_raw_20250701165023.25O\n",
      "MetStation_raw_20250702165024.25O\n",
      "MetStation_raw_20250703165025.25O\n",
      "MetStation_raw_20250704165025.25O\n",
      "MetStation_raw_20250705165026.25O\n",
      "MetStation_raw_20250706165027.25O\n",
      "MetStation_raw_20250707165027.25O\n",
      "MetStation_raw_20250708165029.25O\n",
      "MetStation_raw_20250709165029.25O\n",
      "MetStation_raw_20250710165030.25O\n",
      "MetStation_raw_20250711214033.25O\n",
      "MetStation_raw_20250712214033.25O\n",
      "MetStation_raw_20250713214034.25O\n",
      "MetStation_raw_20250714214034.25O\n",
      "MetStation_raw_20250715214035.25O\n",
      "MetStation_raw_20250716214037.25O\n",
      "MetStation_raw_20250717214038.25O\n",
      "MetStation_raw_20250718214038.25O\n",
      "MetStation_raw_20250719214039.25O\n",
      "MetStation_raw_20250720214040.25O\n",
      "MetStation_raw_20250721214041.25O\n",
      "MetStation_raw_20250722214042.25O\n",
      "MetStation_raw_20250723214043.25O\n",
      "MetStation_raw_20250724214043.25O\n",
      "MetStation_raw_20250725214045.25O\n",
      "MetStation_raw_20250726214045.25O\n",
      "MetStation_raw_20250727214046.25O\n",
      "MetStation_raw_20250728214047.25O\n",
      "MetStation_raw_20250729214047.25O\n",
      "MetStation_raw_20250730214048.25O\n",
      "MetStation_raw_20250731214048.25O\n",
      "MetStation_raw_20250801214049.25O\n",
      "MetStation_raw_20250802214050.25O\n",
      "MetStation_raw_20250803214050.25O\n",
      "MetStation_raw_20250804134835.25O\n",
      "MetStation_raw_20250804140451.25O\n",
      "MetStation_raw_20250805154841.25O\n",
      "MetStation_raw_20250806154842.25O\n",
      "MetStation_raw_20250807154843.25O\n",
      "MetStation_raw_20250808154845.25O\n",
      "MetStation_raw_20250809154846.25O\n",
      "MetStation_raw_20250810154847.25O\n",
      "MetStation_raw_20250811154847.25O\n",
      "MetStation_raw_20250812154848.25O\n",
      "MetStation_raw_20250813154848.25O\n",
      "MetStation_raw_20250814154849.25O\n",
      "MetStation_raw_20250815154850.25O\n",
      "MetStation_raw_20250816154852.25O\n",
      "MetStation_raw_20250817154852.25O\n",
      "MetStation_raw_20250818154853.25O\n",
      "MetStation_raw_20250819154854.25O\n",
      "MetStation_raw_20250820154855.25O\n",
      "MetStation_raw_20250821154855.25O\n",
      "MetStation_raw_20250822154857.25O\n",
      "MetStation_raw_20250823154859.25O\n"
     ]
    }
   ],
   "source": [
    "from pathlib import Path\n",
    "\n",
    "# Carpeta única donde se copiaron todos los .25O\n",
    "root = Path(r\"C:\\Users\\varga\\Box\\Data\\nc Files\\MetSta\")\n",
    "\n",
    "# Buscar todos los archivos con extensión .25O\n",
    "files = list(root.glob(\"*.25O\"))\n",
    "\n",
    "print(\"Found\", len(files), \"files:\")\n",
    "for f in files:\n",
    "    print(f.name)\n"
   ]
  },
  {
   "cell_type": "code",
   "execution_count": 9,
   "id": "041ec370",
   "metadata": {},
   "outputs": [
    {
     "name": "stdout",
     "output_type": "stream",
     "text": [
      "Found 133 .25O files (showing up to 5): ['C:\\\\Users\\\\varga\\\\Box\\\\Data\\\\nc Files\\\\MetSta\\\\MetStation_raw_20250413000420.25O', 'C:\\\\Users\\\\varga\\\\Box\\\\Data\\\\nc Files\\\\MetSta\\\\MetStation_raw_20250414000421.25O', 'C:\\\\Users\\\\varga\\\\Box\\\\Data\\\\nc Files\\\\MetSta\\\\MetStation_raw_20250415000422.25O', 'C:\\\\Users\\\\varga\\\\Box\\\\Data\\\\nc Files\\\\MetSta\\\\MetStation_raw_20250415221018.25O', 'C:\\\\Users\\\\varga\\\\Box\\\\Data\\\\nc Files\\\\MetSta\\\\MetStation_raw_20250416221018.25O']\n",
      "Could not find any files matching the pattern C:\\Users\\varga\\Box\\Data\\nc Files\\MetSta\\processed*.nc\n",
      "C:\\Users\\varga\\Box\\Data\\nc Files\\MetSta\\MetStation_raw_20250413000420.25O exists | Reading...\n",
      "Processed 0 out of 3195452 lines (0.0%)\n",
      "Processed 390829 out of 3195452 lines (12.2%)\n",
      "Processed 1165657 out of 3195452 lines (36.5%)\n",
      "Processed 1572407 out of 3195452 lines (49.2%)\n",
      "Processed 1827074 out of 3195452 lines (57.2%)\n",
      "Processed 2252978 out of 3195452 lines (70.5%)\n",
      "Processed 2855167 out of 3195452 lines (89.4%)\n",
      "Processed 2910074 out of 3195452 lines (91.1%)\n",
      "Processed 3183415 out of 3195452 lines (99.6%)\n",
      "Observation file  C:\\Users\\varga\\Box\\Data\\nc Files\\MetSta\\MetStation_raw_20250413000420.25O  is read in 2862.38 seconds.\n",
      "Processing 3109051 individual observations\n",
      "Calculating Azimuth and Elevation\n",
      "This file does not exist: C:\\Users\\varga\\Box\\Data\\nc Files\\MetSta\\aux_orbits\\GFZ0MGXRAP_20251020000_01D_05M_ORB.SP3\n",
      "Downloading: ftp://gssc.esa.int/gnss/products/2361//GFZ0MGXRAP_20251020000_01D_05M_ORB.SP3.gz"
     ]
    },
    {
     "name": "stderr",
     "output_type": "stream",
     "text": [
      "GFZ0MGXRAP_20251020000_01D_05M_ORB.SP3.gz: 1.04MB [00:03, 322kB/s]                             \n"
     ]
    },
    {
     "name": "stdout",
     "output_type": "stream",
     "text": [
      " | Download completed for ftp://gssc.esa.int/gnss/products/2361//GFZ0MGXRAP_20251020000_01D_05M_ORB.SP3.gz\n",
      "C:\\Users\\varga\\Box\\Data\\nc Files\\MetSta\\aux_orbits\\GFZ0MGXRAP_20251020000_01D_05M_ORB.SP3 file is read in 3.98 seconds\n",
      "This file does not exist: C:\\Users\\varga\\Box\\Data\\nc Files\\MetSta\\aux_orbits\\GFZ0MGXRAP_20251030000_01D_05M_ORB.SP3\n",
      "Downloading: ftp://gssc.esa.int/gnss/products/2362//GFZ0MGXRAP_20251030000_01D_05M_ORB.SP3.gz"
     ]
    },
    {
     "name": "stderr",
     "output_type": "stream",
     "text": [
      "GFZ0MGXRAP_20251030000_01D_05M_ORB.SP3.gz: 1.03MB [00:03, 346kB/s]                             \n"
     ]
    },
    {
     "name": "stdout",
     "output_type": "stream",
     "text": [
      " | Download completed for ftp://gssc.esa.int/gnss/products/2362//GFZ0MGXRAP_20251030000_01D_05M_ORB.SP3.gz\n",
      "C:\\Users\\varga\\Box\\Data\\nc Files\\MetSta\\aux_orbits\\GFZ0MGXRAP_20251030000_01D_05M_ORB.SP3 file is read in 4.08 seconds\n",
      "This file does not exist: C:\\Users\\varga\\Box\\Data\\nc Files\\MetSta\\aux_orbits\\GFZ0MGXRAP_20251040000_01D_05M_ORB.SP3\n",
      "Downloading: ftp://gssc.esa.int/gnss/products/2362//GFZ0MGXRAP_20251040000_01D_05M_ORB.SP3.gz"
     ]
    },
    {
     "name": "stderr",
     "output_type": "stream",
     "text": [
      "GFZ0MGXRAP_20251040000_01D_05M_ORB.SP3.gz: 1.03MB [00:07, 146kB/s]                             \n"
     ]
    },
    {
     "name": "stdout",
     "output_type": "stream",
     "text": [
      " | Download completed for ftp://gssc.esa.int/gnss/products/2362//GFZ0MGXRAP_20251040000_01D_05M_ORB.SP3.gz\n",
      "C:\\Users\\varga\\Box\\Data\\nc Files\\MetSta\\aux_orbits\\GFZ0MGXRAP_20251040000_01D_05M_ORB.SP3 file is read in 17.23 seconds\n",
      "This file does not exist: C:\\Users\\varga\\Box\\Data\\nc Files\\MetSta\\aux_orbits\\GFZ0MGXRAP_20251020000_01D_30S_CLK.CLK\n",
      "Downloading: GFZ0MGXRAP_20251020000_01D_30S_CLK.CLK.gz"
     ]
    },
    {
     "name": "stderr",
     "output_type": "stream",
     "text": [
      "GFZ0MGXRAP_20251020000_01D_30S_CLK.CLK.gz: 4.79MB [00:03, 1.36MB/s]                            \n"
     ]
    },
    {
     "name": "stdout",
     "output_type": "stream",
     "text": [
      " | Download completed for GFZ0MGXRAP_20251020000_01D_30S_CLK.CLK.gz\n",
      "C:\\Users\\varga\\Box\\Data\\nc Files\\MetSta\\aux_orbits\\GFZ0MGXRAP_20251020000_01D_30S_CLK.CLK file is read in 2.64 seconds\n",
      "This file does not exist: C:\\Users\\varga\\Box\\Data\\nc Files\\MetSta\\aux_orbits\\GFZ0MGXRAP_20251030000_01D_30S_CLK.CLK\n",
      "Downloading: GFZ0MGXRAP_20251030000_01D_30S_CLK.CLK.gz"
     ]
    },
    {
     "name": "stderr",
     "output_type": "stream",
     "text": [
      "GFZ0MGXRAP_20251030000_01D_30S_CLK.CLK.gz: 4.73MB [00:03, 1.33MB/s]                            \n"
     ]
    },
    {
     "name": "stdout",
     "output_type": "stream",
     "text": [
      " | Download completed for GFZ0MGXRAP_20251030000_01D_30S_CLK.CLK.gz\n",
      "C:\\Users\\varga\\Box\\Data\\nc Files\\MetSta\\aux_orbits\\GFZ0MGXRAP_20251030000_01D_30S_CLK.CLK file is read in 5.10 seconds\n",
      "This file does not exist: C:\\Users\\varga\\Box\\Data\\nc Files\\MetSta\\aux_orbits\\GFZ0MGXRAP_20251040000_01D_30S_CLK.CLK\n",
      "Downloading: GFZ0MGXRAP_20251040000_01D_30S_CLK.CLK.gz"
     ]
    },
    {
     "name": "stderr",
     "output_type": "stream",
     "text": [
      "GFZ0MGXRAP_20251040000_01D_30S_CLK.CLK.gz: 4.74MB [00:06, 721kB/s]                             \n"
     ]
    },
    {
     "name": "stdout",
     "output_type": "stream",
     "text": [
      " | Download completed for GFZ0MGXRAP_20251040000_01D_30S_CLK.CLK.gz\n",
      "C:\\Users\\varga\\Box\\Data\\nc Files\\MetSta\\aux_orbits\\GFZ0MGXRAP_20251040000_01D_30S_CLK.CLK file is read in 4.39 seconds\n",
      "SP3 interpolation is done in 4.46 seconds\n",
      "Saved 209016 individual observations in C:\\Users\\varga\\Box\\Data\\nc Files\\MetSta\\processed\\MetStation_raw_20250413000420.nc\n",
      "[OK] MetStation_raw_20250413000420.25O\n",
      "Could not find any files matching the pattern C:\\Users\\varga\\Box\\Data\\nc Files\\MetSta\\processed*.nc\n",
      "C:\\Users\\varga\\Box\\Data\\nc Files\\MetSta\\MetStation_raw_20250414000421.25O exists | Reading...\n",
      "Processed 117161 out of 3238519 lines (3.6%)\n",
      "Processed 649650 out of 3238519 lines (20.1%)\n",
      "Processed 1096540 out of 3238519 lines (33.9%)\n",
      "Processed 1645473 out of 3238519 lines (50.8%)\n",
      "Processed 1681770 out of 3238519 lines (51.9%)\n",
      "Processed 2926605 out of 3238519 lines (90.4%)\n",
      "Observation file  C:\\Users\\varga\\Box\\Data\\nc Files\\MetSta\\MetStation_raw_20250414000421.25O  is read in 1152.76 seconds.\n",
      "Processing 3152118 individual observations\n",
      "Calculating Azimuth and Elevation\n",
      "C:\\Users\\varga\\Box\\Data\\nc Files\\MetSta\\aux_orbits\\GFZ0MGXRAP_20251030000_01D_05M_ORB.SP3 exists | Reading...\n",
      "C:\\Users\\varga\\Box\\Data\\nc Files\\MetSta\\aux_orbits\\GFZ0MGXRAP_20251030000_01D_05M_ORB.SP3 file is read in 0.86 seconds\n",
      "C:\\Users\\varga\\Box\\Data\\nc Files\\MetSta\\aux_orbits\\GFZ0MGXRAP_20251040000_01D_05M_ORB.SP3 exists | Reading...\n",
      "C:\\Users\\varga\\Box\\Data\\nc Files\\MetSta\\aux_orbits\\GFZ0MGXRAP_20251040000_01D_05M_ORB.SP3 file is read in 0.56 seconds\n",
      "This file does not exist: C:\\Users\\varga\\Box\\Data\\nc Files\\MetSta\\aux_orbits\\GFZ0MGXRAP_20251050000_01D_05M_ORB.SP3\n",
      "Downloading: ftp://gssc.esa.int/gnss/products/2362//GFZ0MGXRAP_20251050000_01D_05M_ORB.SP3.gz"
     ]
    },
    {
     "name": "stderr",
     "output_type": "stream",
     "text": [
      "GFZ0MGXRAP_20251050000_01D_05M_ORB.SP3.gz: 1.04MB [00:03, 356kB/s]                             \n"
     ]
    },
    {
     "name": "stdout",
     "output_type": "stream",
     "text": [
      " | Download completed for ftp://gssc.esa.int/gnss/products/2362//GFZ0MGXRAP_20251050000_01D_05M_ORB.SP3.gz\n",
      "C:\\Users\\varga\\Box\\Data\\nc Files\\MetSta\\aux_orbits\\GFZ0MGXRAP_20251050000_01D_05M_ORB.SP3 file is read in 3.78 seconds\n",
      "C:\\Users\\varga\\Box\\Data\\nc Files\\MetSta\\aux_orbits\\GFZ0MGXRAP_20251030000_01D_30S_CLK.CLK exists | Reading...\n",
      "C:\\Users\\varga\\Box\\Data\\nc Files\\MetSta\\aux_orbits\\GFZ0MGXRAP_20251030000_01D_30S_CLK.CLK file is read in 31.58 seconds\n",
      "C:\\Users\\varga\\Box\\Data\\nc Files\\MetSta\\aux_orbits\\GFZ0MGXRAP_20251040000_01D_30S_CLK.CLK exists | Reading...\n",
      "C:\\Users\\varga\\Box\\Data\\nc Files\\MetSta\\aux_orbits\\GFZ0MGXRAP_20251040000_01D_30S_CLK.CLK file is read in 7.70 seconds\n",
      "This file does not exist: C:\\Users\\varga\\Box\\Data\\nc Files\\MetSta\\aux_orbits\\GFZ0MGXRAP_20251050000_01D_30S_CLK.CLK\n",
      "Downloading: GFZ0MGXRAP_20251050000_01D_30S_CLK.CLK.gz"
     ]
    },
    {
     "name": "stderr",
     "output_type": "stream",
     "text": [
      "GFZ0MGXRAP_20251050000_01D_30S_CLK.CLK.gz: 4.80MB [00:04, 1.21MB/s]                            \n"
     ]
    },
    {
     "name": "stdout",
     "output_type": "stream",
     "text": [
      " | Download completed for GFZ0MGXRAP_20251050000_01D_30S_CLK.CLK.gz\n",
      "C:\\Users\\varga\\Box\\Data\\nc Files\\MetSta\\aux_orbits\\GFZ0MGXRAP_20251050000_01D_30S_CLK.CLK file is read in 2.67 seconds\n",
      "SP3 interpolation is done in 19.19 seconds\n",
      "Saved 212040 individual observations in C:\\Users\\varga\\Box\\Data\\nc Files\\MetSta\\processed\\MetStation_raw_20250414000421.nc\n",
      "[OK] MetStation_raw_20250414000421.25O\n",
      "Could not find any files matching the pattern C:\\Users\\varga\\Box\\Data\\nc Files\\MetSta\\processed*.nc\n",
      "C:\\Users\\varga\\Box\\Data\\nc Files\\MetSta\\MetStation_raw_20250415000422.25O exists | Reading...\n",
      "Processed 303507 out of 2875528 lines (10.6%)\n",
      "Processed 951312 out of 2875528 lines (33.1%)\n",
      "Processed 1563296 out of 2875528 lines (54.4%)\n",
      "Processed 2022286 out of 2875528 lines (70.3%)\n",
      "Processed 2679063 out of 2875528 lines (93.2%)\n",
      "Observation file  C:\\Users\\varga\\Box\\Data\\nc Files\\MetSta\\MetStation_raw_20250415000422.25O  is read in 1244.86 seconds.\n",
      "Processing 2795972 individual observations\n",
      "Calculating Azimuth and Elevation\n",
      "C:\\Users\\varga\\Box\\Data\\nc Files\\MetSta\\aux_orbits\\GFZ0MGXRAP_20251040000_01D_05M_ORB.SP3 exists | Reading...\n",
      "C:\\Users\\varga\\Box\\Data\\nc Files\\MetSta\\aux_orbits\\GFZ0MGXRAP_20251040000_01D_05M_ORB.SP3 file is read in 0.65 seconds\n",
      "C:\\Users\\varga\\Box\\Data\\nc Files\\MetSta\\aux_orbits\\GFZ0MGXRAP_20251050000_01D_05M_ORB.SP3 exists | Reading...\n",
      "C:\\Users\\varga\\Box\\Data\\nc Files\\MetSta\\aux_orbits\\GFZ0MGXRAP_20251050000_01D_05M_ORB.SP3 file is read in 0.85 seconds\n",
      "This file does not exist: C:\\Users\\varga\\Box\\Data\\nc Files\\MetSta\\aux_orbits\\GFZ0MGXRAP_20251060000_01D_05M_ORB.SP3\n",
      "Downloading: ftp://gssc.esa.int/gnss/products/2362//GFZ0MGXRAP_20251060000_01D_05M_ORB.SP3.gz"
     ]
    },
    {
     "name": "stderr",
     "output_type": "stream",
     "text": [
      "GFZ0MGXRAP_20251060000_01D_05M_ORB.SP3.gz: 1.03MB [00:03, 341kB/s]                             \n"
     ]
    },
    {
     "name": "stdout",
     "output_type": "stream",
     "text": [
      " | Download completed for ftp://gssc.esa.int/gnss/products/2362//GFZ0MGXRAP_20251060000_01D_05M_ORB.SP3.gz\n",
      "C:\\Users\\varga\\Box\\Data\\nc Files\\MetSta\\aux_orbits\\GFZ0MGXRAP_20251060000_01D_05M_ORB.SP3 file is read in 3.90 seconds\n",
      "C:\\Users\\varga\\Box\\Data\\nc Files\\MetSta\\aux_orbits\\GFZ0MGXRAP_20251040000_01D_30S_CLK.CLK exists | Reading...\n",
      "C:\\Users\\varga\\Box\\Data\\nc Files\\MetSta\\aux_orbits\\GFZ0MGXRAP_20251040000_01D_30S_CLK.CLK file is read in 7.87 seconds\n",
      "C:\\Users\\varga\\Box\\Data\\nc Files\\MetSta\\aux_orbits\\GFZ0MGXRAP_20251050000_01D_30S_CLK.CLK exists | Reading...\n",
      "C:\\Users\\varga\\Box\\Data\\nc Files\\MetSta\\aux_orbits\\GFZ0MGXRAP_20251050000_01D_30S_CLK.CLK file is read in 13.26 seconds\n",
      "This file does not exist: C:\\Users\\varga\\Box\\Data\\nc Files\\MetSta\\aux_orbits\\GFZ0MGXRAP_20251060000_01D_30S_CLK.CLK\n",
      "Downloading: GFZ0MGXRAP_20251060000_01D_30S_CLK.CLK.gz"
     ]
    },
    {
     "name": "stderr",
     "output_type": "stream",
     "text": [
      "GFZ0MGXRAP_20251060000_01D_30S_CLK.CLK.gz: 4.77MB [00:03, 1.33MB/s]                            \n"
     ]
    },
    {
     "name": "stdout",
     "output_type": "stream",
     "text": [
      " | Download completed for GFZ0MGXRAP_20251060000_01D_30S_CLK.CLK.gz\n",
      "C:\\Users\\varga\\Box\\Data\\nc Files\\MetSta\\aux_orbits\\GFZ0MGXRAP_20251060000_01D_30S_CLK.CLK file is read in 2.89 seconds\n",
      "SP3 interpolation is done in 5.24 seconds\n",
      "Saved 188023 individual observations in C:\\Users\\varga\\Box\\Data\\nc Files\\MetSta\\processed\\MetStation_raw_20250415000422.nc\n",
      "[OK] MetStation_raw_20250415000422.25O\n",
      "Could not find any files matching the pattern C:\\Users\\varga\\Box\\Data\\nc Files\\MetSta\\processed*.nc\n",
      "C:\\Users\\varga\\Box\\Data\\nc Files\\MetSta\\MetStation_raw_20250415221018.25O exists | Reading...\n",
      "Observation file  C:\\Users\\varga\\Box\\Data\\nc Files\\MetSta\\MetStation_raw_20250415221018.25O  is read in 2.95 seconds.\n",
      "Processing 103714 individual observations\n",
      "Calculating Azimuth and Elevation\n",
      "C:\\Users\\varga\\Box\\Data\\nc Files\\MetSta\\aux_orbits\\GFZ0MGXRAP_20251050000_01D_05M_ORB.SP3 exists | Reading...\n",
      "C:\\Users\\varga\\Box\\Data\\nc Files\\MetSta\\aux_orbits\\GFZ0MGXRAP_20251050000_01D_05M_ORB.SP3 file is read in 0.78 seconds\n",
      "C:\\Users\\varga\\Box\\Data\\nc Files\\MetSta\\aux_orbits\\GFZ0MGXRAP_20251060000_01D_05M_ORB.SP3 exists | Reading...\n",
      "C:\\Users\\varga\\Box\\Data\\nc Files\\MetSta\\aux_orbits\\GFZ0MGXRAP_20251060000_01D_05M_ORB.SP3 file is read in 0.55 seconds\n",
      "This file does not exist: C:\\Users\\varga\\Box\\Data\\nc Files\\MetSta\\aux_orbits\\GFZ0MGXRAP_20251070000_01D_05M_ORB.SP3\n",
      "Downloading: ftp://gssc.esa.int/gnss/products/2362//GFZ0MGXRAP_20251070000_01D_05M_ORB.SP3.gz"
     ]
    },
    {
     "name": "stderr",
     "output_type": "stream",
     "text": [
      "GFZ0MGXRAP_20251070000_01D_05M_ORB.SP3.gz: 1.02MB [00:03, 337kB/s]                             \n"
     ]
    },
    {
     "name": "stdout",
     "output_type": "stream",
     "text": [
      " | Download completed for ftp://gssc.esa.int/gnss/products/2362//GFZ0MGXRAP_20251070000_01D_05M_ORB.SP3.gz\n",
      "C:\\Users\\varga\\Box\\Data\\nc Files\\MetSta\\aux_orbits\\GFZ0MGXRAP_20251070000_01D_05M_ORB.SP3 file is read in 3.78 seconds\n",
      "C:\\Users\\varga\\Box\\Data\\nc Files\\MetSta\\aux_orbits\\GFZ0MGXRAP_20251050000_01D_30S_CLK.CLK exists | Reading...\n",
      "C:\\Users\\varga\\Box\\Data\\nc Files\\MetSta\\aux_orbits\\GFZ0MGXRAP_20251050000_01D_30S_CLK.CLK file is read in 3.45 seconds\n",
      "C:\\Users\\varga\\Box\\Data\\nc Files\\MetSta\\aux_orbits\\GFZ0MGXRAP_20251060000_01D_30S_CLK.CLK exists | Reading...\n",
      "C:\\Users\\varga\\Box\\Data\\nc Files\\MetSta\\aux_orbits\\GFZ0MGXRAP_20251060000_01D_30S_CLK.CLK file is read in 22.42 seconds\n",
      "This file does not exist: C:\\Users\\varga\\Box\\Data\\nc Files\\MetSta\\aux_orbits\\GFZ0MGXRAP_20251070000_01D_30S_CLK.CLK\n",
      "Downloading: GFZ0MGXRAP_20251070000_01D_30S_CLK.CLK.gz"
     ]
    },
    {
     "name": "stderr",
     "output_type": "stream",
     "text": [
      "GFZ0MGXRAP_20251070000_01D_30S_CLK.CLK.gz: 4.71MB [00:03, 1.26MB/s]                            \n"
     ]
    },
    {
     "name": "stdout",
     "output_type": "stream",
     "text": [
      " | Download completed for GFZ0MGXRAP_20251070000_01D_30S_CLK.CLK.gz\n",
      "C:\\Users\\varga\\Box\\Data\\nc Files\\MetSta\\aux_orbits\\GFZ0MGXRAP_20251070000_01D_30S_CLK.CLK file is read in 2.45 seconds\n",
      "SP3 interpolation is done in 3.82 seconds\n",
      "Saved 103714 individual observations in C:\\Users\\varga\\Box\\Data\\nc Files\\MetSta\\processed\\MetStation_raw_20250415221018.nc\n",
      "[OK] MetStation_raw_20250415221018.25O\n",
      "Could not find any files matching the pattern C:\\Users\\varga\\Box\\Data\\nc Files\\MetSta\\processed*.nc\n",
      "C:\\Users\\varga\\Box\\Data\\nc Files\\MetSta\\MetStation_raw_20250416221018.25O exists | Reading...\n",
      "Observation file  C:\\Users\\varga\\Box\\Data\\nc Files\\MetSta\\MetStation_raw_20250416221018.25O  is read in 2.84 seconds.\n",
      "Processing 105101 individual observations\n",
      "Calculating Azimuth and Elevation\n",
      "C:\\Users\\varga\\Box\\Data\\nc Files\\MetSta\\aux_orbits\\GFZ0MGXRAP_20251060000_01D_05M_ORB.SP3 exists | Reading...\n",
      "C:\\Users\\varga\\Box\\Data\\nc Files\\MetSta\\aux_orbits\\GFZ0MGXRAP_20251060000_01D_05M_ORB.SP3 file is read in 0.64 seconds\n",
      "C:\\Users\\varga\\Box\\Data\\nc Files\\MetSta\\aux_orbits\\GFZ0MGXRAP_20251070000_01D_05M_ORB.SP3 exists | Reading...\n",
      "C:\\Users\\varga\\Box\\Data\\nc Files\\MetSta\\aux_orbits\\GFZ0MGXRAP_20251070000_01D_05M_ORB.SP3 file is read in 0.40 seconds\n",
      "This file does not exist: C:\\Users\\varga\\Box\\Data\\nc Files\\MetSta\\aux_orbits\\GFZ0MGXRAP_20251080000_01D_05M_ORB.SP3\n",
      "Downloading: ftp://gssc.esa.int/gnss/products/2362//GFZ0MGXRAP_20251080000_01D_05M_ORB.SP3.gz"
     ]
    },
    {
     "name": "stderr",
     "output_type": "stream",
     "text": [
      "GFZ0MGXRAP_20251080000_01D_05M_ORB.SP3.gz: 1.04MB [00:03, 345kB/s]                             \n"
     ]
    },
    {
     "name": "stdout",
     "output_type": "stream",
     "text": [
      " | Download completed for ftp://gssc.esa.int/gnss/products/2362//GFZ0MGXRAP_20251080000_01D_05M_ORB.SP3.gz\n",
      "C:\\Users\\varga\\Box\\Data\\nc Files\\MetSta\\aux_orbits\\GFZ0MGXRAP_20251080000_01D_05M_ORB.SP3 file is read in 3.73 seconds\n",
      "C:\\Users\\varga\\Box\\Data\\nc Files\\MetSta\\aux_orbits\\GFZ0MGXRAP_20251060000_01D_30S_CLK.CLK exists | Reading...\n",
      "C:\\Users\\varga\\Box\\Data\\nc Files\\MetSta\\aux_orbits\\GFZ0MGXRAP_20251060000_01D_30S_CLK.CLK file is read in 2.81 seconds\n",
      "C:\\Users\\varga\\Box\\Data\\nc Files\\MetSta\\aux_orbits\\GFZ0MGXRAP_20251070000_01D_30S_CLK.CLK exists | Reading...\n",
      "C:\\Users\\varga\\Box\\Data\\nc Files\\MetSta\\aux_orbits\\GFZ0MGXRAP_20251070000_01D_30S_CLK.CLK file is read in 2.61 seconds\n",
      "This file does not exist: C:\\Users\\varga\\Box\\Data\\nc Files\\MetSta\\aux_orbits\\GFZ0MGXRAP_20251080000_01D_30S_CLK.CLK\n",
      "Downloading: GFZ0MGXRAP_20251080000_01D_30S_CLK.CLK.gz"
     ]
    },
    {
     "name": "stderr",
     "output_type": "stream",
     "text": [
      "GFZ0MGXRAP_20251080000_01D_30S_CLK.CLK.gz: 4.77MB [00:03, 1.34MB/s]                            \n"
     ]
    },
    {
     "name": "stdout",
     "output_type": "stream",
     "text": [
      " | Download completed for GFZ0MGXRAP_20251080000_01D_30S_CLK.CLK.gz\n",
      "C:\\Users\\varga\\Box\\Data\\nc Files\\MetSta\\aux_orbits\\GFZ0MGXRAP_20251080000_01D_30S_CLK.CLK file is read in 18.47 seconds\n",
      "SP3 interpolation is done in 3.81 seconds\n",
      "Saved 105101 individual observations in C:\\Users\\varga\\Box\\Data\\nc Files\\MetSta\\processed\\MetStation_raw_20250416221018.nc\n",
      "[OK] MetStation_raw_20250416221018.25O\n",
      "Could not find any files matching the pattern C:\\Users\\varga\\Box\\Data\\nc Files\\MetSta\\processed*.nc\n",
      "C:\\Users\\varga\\Box\\Data\\nc Files\\MetSta\\MetStation_raw_20250417221019.25O exists | Reading...\n",
      "Observation file  C:\\Users\\varga\\Box\\Data\\nc Files\\MetSta\\MetStation_raw_20250417221019.25O  is read in 2.43 seconds.\n",
      "Processing 103192 individual observations\n",
      "Calculating Azimuth and Elevation\n",
      "C:\\Users\\varga\\Box\\Data\\nc Files\\MetSta\\aux_orbits\\GFZ0MGXRAP_20251070000_01D_05M_ORB.SP3 exists | Reading...\n",
      "C:\\Users\\varga\\Box\\Data\\nc Files\\MetSta\\aux_orbits\\GFZ0MGXRAP_20251070000_01D_05M_ORB.SP3 file is read in 1.68 seconds\n",
      "C:\\Users\\varga\\Box\\Data\\nc Files\\MetSta\\aux_orbits\\GFZ0MGXRAP_20251080000_01D_05M_ORB.SP3 exists | Reading...\n",
      "C:\\Users\\varga\\Box\\Data\\nc Files\\MetSta\\aux_orbits\\GFZ0MGXRAP_20251080000_01D_05M_ORB.SP3 file is read in 6.18 seconds\n",
      "This file does not exist: C:\\Users\\varga\\Box\\Data\\nc Files\\MetSta\\aux_orbits\\GFZ0MGXRAP_20251090000_01D_05M_ORB.SP3\n",
      "Downloading: ftp://gssc.esa.int/gnss/products/2362//GFZ0MGXRAP_20251090000_01D_05M_ORB.SP3.gz"
     ]
    },
    {
     "name": "stderr",
     "output_type": "stream",
     "text": [
      "GFZ0MGXRAP_20251090000_01D_05M_ORB.SP3.gz: 1.04MB [00:03, 312kB/s]                             \n"
     ]
    },
    {
     "name": "stdout",
     "output_type": "stream",
     "text": [
      " | Download completed for ftp://gssc.esa.int/gnss/products/2362//GFZ0MGXRAP_20251090000_01D_05M_ORB.SP3.gz\n",
      "C:\\Users\\varga\\Box\\Data\\nc Files\\MetSta\\aux_orbits\\GFZ0MGXRAP_20251090000_01D_05M_ORB.SP3 file is read in 9.65 seconds\n",
      "C:\\Users\\varga\\Box\\Data\\nc Files\\MetSta\\aux_orbits\\GFZ0MGXRAP_20251070000_01D_30S_CLK.CLK exists | Reading...\n",
      "C:\\Users\\varga\\Box\\Data\\nc Files\\MetSta\\aux_orbits\\GFZ0MGXRAP_20251070000_01D_30S_CLK.CLK file is read in 2.93 seconds\n",
      "C:\\Users\\varga\\Box\\Data\\nc Files\\MetSta\\aux_orbits\\GFZ0MGXRAP_20251080000_01D_30S_CLK.CLK exists | Reading...\n",
      "C:\\Users\\varga\\Box\\Data\\nc Files\\MetSta\\aux_orbits\\GFZ0MGXRAP_20251080000_01D_30S_CLK.CLK file is read in 2.27 seconds\n",
      "This file does not exist: C:\\Users\\varga\\Box\\Data\\nc Files\\MetSta\\aux_orbits\\GFZ0MGXRAP_20251090000_01D_30S_CLK.CLK\n",
      "Downloading: GFZ0MGXRAP_20251090000_01D_30S_CLK.CLK.gz"
     ]
    },
    {
     "name": "stderr",
     "output_type": "stream",
     "text": [
      "GFZ0MGXRAP_20251090000_01D_30S_CLK.CLK.gz: 4.80MB [00:03, 1.37MB/s]                            \n"
     ]
    },
    {
     "name": "stdout",
     "output_type": "stream",
     "text": [
      " | Download completed for GFZ0MGXRAP_20251090000_01D_30S_CLK.CLK.gz\n",
      "C:\\Users\\varga\\Box\\Data\\nc Files\\MetSta\\aux_orbits\\GFZ0MGXRAP_20251090000_01D_30S_CLK.CLK file is read in 3.93 seconds\n",
      "SP3 interpolation is done in 5.34 seconds\n",
      "Saved 103192 individual observations in C:\\Users\\varga\\Box\\Data\\nc Files\\MetSta\\processed\\MetStation_raw_20250417221019.nc\n",
      "[OK] MetStation_raw_20250417221019.25O\n",
      "Could not find any files matching the pattern C:\\Users\\varga\\Box\\Data\\nc Files\\MetSta\\processed*.nc\n",
      "C:\\Users\\varga\\Box\\Data\\nc Files\\MetSta\\MetStation_raw_20250418221020.25O exists | Reading...\n",
      "Observation file  C:\\Users\\varga\\Box\\Data\\nc Files\\MetSta\\MetStation_raw_20250418221020.25O  is read in 4.73 seconds.\n",
      "Processing 102383 individual observations\n",
      "Calculating Azimuth and Elevation\n",
      "C:\\Users\\varga\\Box\\Data\\nc Files\\MetSta\\aux_orbits\\GFZ0MGXRAP_20251080000_01D_05M_ORB.SP3 exists | Reading...\n",
      "C:\\Users\\varga\\Box\\Data\\nc Files\\MetSta\\aux_orbits\\GFZ0MGXRAP_20251080000_01D_05M_ORB.SP3 file is read in 0.87 seconds\n",
      "C:\\Users\\varga\\Box\\Data\\nc Files\\MetSta\\aux_orbits\\GFZ0MGXRAP_20251090000_01D_05M_ORB.SP3 exists | Reading...\n",
      "C:\\Users\\varga\\Box\\Data\\nc Files\\MetSta\\aux_orbits\\GFZ0MGXRAP_20251090000_01D_05M_ORB.SP3 file is read in 0.57 seconds\n",
      "This file does not exist: C:\\Users\\varga\\Box\\Data\\nc Files\\MetSta\\aux_orbits\\GFZ0MGXRAP_20251100000_01D_05M_ORB.SP3\n",
      "Downloading: ftp://gssc.esa.int/gnss/products/2363//GFZ0MGXRAP_20251100000_01D_05M_ORB.SP3.gz"
     ]
    },
    {
     "name": "stderr",
     "output_type": "stream",
     "text": [
      "GFZ0MGXRAP_20251100000_01D_05M_ORB.SP3.gz: 1.05MB [00:03, 344kB/s]                             \n"
     ]
    },
    {
     "name": "stdout",
     "output_type": "stream",
     "text": [
      " | Download completed for ftp://gssc.esa.int/gnss/products/2363//GFZ0MGXRAP_20251100000_01D_05M_ORB.SP3.gz\n",
      "C:\\Users\\varga\\Box\\Data\\nc Files\\MetSta\\aux_orbits\\GFZ0MGXRAP_20251100000_01D_05M_ORB.SP3 file is read in 4.04 seconds\n",
      "C:\\Users\\varga\\Box\\Data\\nc Files\\MetSta\\aux_orbits\\GFZ0MGXRAP_20251080000_01D_30S_CLK.CLK exists | Reading...\n",
      "C:\\Users\\varga\\Box\\Data\\nc Files\\MetSta\\aux_orbits\\GFZ0MGXRAP_20251080000_01D_30S_CLK.CLK file is read in 3.09 seconds\n",
      "C:\\Users\\varga\\Box\\Data\\nc Files\\MetSta\\aux_orbits\\GFZ0MGXRAP_20251090000_01D_30S_CLK.CLK exists | Reading...\n",
      "C:\\Users\\varga\\Box\\Data\\nc Files\\MetSta\\aux_orbits\\GFZ0MGXRAP_20251090000_01D_30S_CLK.CLK file is read in 3.25 seconds\n",
      "This file does not exist: C:\\Users\\varga\\Box\\Data\\nc Files\\MetSta\\aux_orbits\\GFZ0MGXRAP_20251100000_01D_30S_CLK.CLK\n",
      "Downloading: GFZ0MGXRAP_20251100000_01D_30S_CLK.CLK.gz"
     ]
    },
    {
     "name": "stderr",
     "output_type": "stream",
     "text": [
      "GFZ0MGXRAP_20251100000_01D_30S_CLK.CLK.gz: 4.84MB [00:03, 1.28MB/s]                            \n"
     ]
    },
    {
     "name": "stdout",
     "output_type": "stream",
     "text": [
      " | Download completed for GFZ0MGXRAP_20251100000_01D_30S_CLK.CLK.gz\n",
      "C:\\Users\\varga\\Box\\Data\\nc Files\\MetSta\\aux_orbits\\GFZ0MGXRAP_20251100000_01D_30S_CLK.CLK file is read in 2.76 seconds\n",
      "SP3 interpolation is done in 4.99 seconds\n",
      "Saved 102383 individual observations in C:\\Users\\varga\\Box\\Data\\nc Files\\MetSta\\processed\\MetStation_raw_20250418221020.nc\n",
      "[OK] MetStation_raw_20250418221020.25O\n",
      "Could not find any files matching the pattern C:\\Users\\varga\\Box\\Data\\nc Files\\MetSta\\processed*.nc\n",
      "C:\\Users\\varga\\Box\\Data\\nc Files\\MetSta\\MetStation_raw_20250419221021.25O exists | Reading...\n",
      "Observation file  C:\\Users\\varga\\Box\\Data\\nc Files\\MetSta\\MetStation_raw_20250419221021.25O  is read in 2.73 seconds.\n",
      "Processing 104549 individual observations\n",
      "Calculating Azimuth and Elevation\n",
      "C:\\Users\\varga\\Box\\Data\\nc Files\\MetSta\\aux_orbits\\GFZ0MGXRAP_20251090000_01D_05M_ORB.SP3 exists | Reading...\n",
      "C:\\Users\\varga\\Box\\Data\\nc Files\\MetSta\\aux_orbits\\GFZ0MGXRAP_20251090000_01D_05M_ORB.SP3 file is read in 0.43 seconds\n",
      "C:\\Users\\varga\\Box\\Data\\nc Files\\MetSta\\aux_orbits\\GFZ0MGXRAP_20251100000_01D_05M_ORB.SP3 exists | Reading...\n",
      "C:\\Users\\varga\\Box\\Data\\nc Files\\MetSta\\aux_orbits\\GFZ0MGXRAP_20251100000_01D_05M_ORB.SP3 file is read in 0.72 seconds\n",
      "This file does not exist: C:\\Users\\varga\\Box\\Data\\nc Files\\MetSta\\aux_orbits\\GFZ0MGXRAP_20251110000_01D_05M_ORB.SP3\n",
      "Downloading: ftp://gssc.esa.int/gnss/products/2363//GFZ0MGXRAP_20251110000_01D_05M_ORB.SP3.gz"
     ]
    },
    {
     "name": "stderr",
     "output_type": "stream",
     "text": [
      "GFZ0MGXRAP_20251110000_01D_05M_ORB.SP3.gz: 1.04MB [00:03, 343kB/s]                             \n"
     ]
    },
    {
     "name": "stdout",
     "output_type": "stream",
     "text": [
      " | Download completed for ftp://gssc.esa.int/gnss/products/2363//GFZ0MGXRAP_20251110000_01D_05M_ORB.SP3.gz\n",
      "C:\\Users\\varga\\Box\\Data\\nc Files\\MetSta\\aux_orbits\\GFZ0MGXRAP_20251110000_01D_05M_ORB.SP3 file is read in 3.67 seconds\n",
      "C:\\Users\\varga\\Box\\Data\\nc Files\\MetSta\\aux_orbits\\GFZ0MGXRAP_20251090000_01D_30S_CLK.CLK exists | Reading...\n",
      "C:\\Users\\varga\\Box\\Data\\nc Files\\MetSta\\aux_orbits\\GFZ0MGXRAP_20251090000_01D_30S_CLK.CLK file is read in 2.52 seconds\n",
      "C:\\Users\\varga\\Box\\Data\\nc Files\\MetSta\\aux_orbits\\GFZ0MGXRAP_20251100000_01D_30S_CLK.CLK exists | Reading...\n",
      "C:\\Users\\varga\\Box\\Data\\nc Files\\MetSta\\aux_orbits\\GFZ0MGXRAP_20251100000_01D_30S_CLK.CLK file is read in 2.91 seconds\n",
      "This file does not exist: C:\\Users\\varga\\Box\\Data\\nc Files\\MetSta\\aux_orbits\\GFZ0MGXRAP_20251110000_01D_30S_CLK.CLK\n",
      "Downloading: GFZ0MGXRAP_20251110000_01D_30S_CLK.CLK.gz"
     ]
    },
    {
     "name": "stderr",
     "output_type": "stream",
     "text": [
      "GFZ0MGXRAP_20251110000_01D_30S_CLK.CLK.gz: 4.80MB [00:05, 930kB/s]                             \n"
     ]
    },
    {
     "name": "stdout",
     "output_type": "stream",
     "text": [
      " | Download completed for GFZ0MGXRAP_20251110000_01D_30S_CLK.CLK.gz\n",
      "C:\\Users\\varga\\Box\\Data\\nc Files\\MetSta\\aux_orbits\\GFZ0MGXRAP_20251110000_01D_30S_CLK.CLK file is read in 2.35 seconds\n",
      "SP3 interpolation is done in 3.79 seconds\n",
      "Saved 104549 individual observations in C:\\Users\\varga\\Box\\Data\\nc Files\\MetSta\\processed\\MetStation_raw_20250419221021.nc\n",
      "[OK] MetStation_raw_20250419221021.25O\n",
      "Could not find any files matching the pattern C:\\Users\\varga\\Box\\Data\\nc Files\\MetSta\\processed*.nc\n",
      "C:\\Users\\varga\\Box\\Data\\nc Files\\MetSta\\MetStation_raw_20250420221022.25O exists | Reading...\n",
      "Observation file  C:\\Users\\varga\\Box\\Data\\nc Files\\MetSta\\MetStation_raw_20250420221022.25O  is read in 3.00 seconds.\n",
      "Processing 103673 individual observations\n",
      "Calculating Azimuth and Elevation\n",
      "C:\\Users\\varga\\Box\\Data\\nc Files\\MetSta\\aux_orbits\\GFZ0MGXRAP_20251100000_01D_05M_ORB.SP3 exists | Reading...\n",
      "C:\\Users\\varga\\Box\\Data\\nc Files\\MetSta\\aux_orbits\\GFZ0MGXRAP_20251100000_01D_05M_ORB.SP3 file is read in 0.86 seconds\n",
      "C:\\Users\\varga\\Box\\Data\\nc Files\\MetSta\\aux_orbits\\GFZ0MGXRAP_20251110000_01D_05M_ORB.SP3 exists | Reading...\n",
      "C:\\Users\\varga\\Box\\Data\\nc Files\\MetSta\\aux_orbits\\GFZ0MGXRAP_20251110000_01D_05M_ORB.SP3 file is read in 0.47 seconds\n",
      "This file does not exist: C:\\Users\\varga\\Box\\Data\\nc Files\\MetSta\\aux_orbits\\GFZ0MGXRAP_20251120000_01D_05M_ORB.SP3\n",
      "Downloading: ftp://gssc.esa.int/gnss/products/2363//GFZ0MGXRAP_20251120000_01D_05M_ORB.SP3.gz"
     ]
    },
    {
     "name": "stderr",
     "output_type": "stream",
     "text": [
      "GFZ0MGXRAP_20251120000_01D_05M_ORB.SP3.gz: 1.04MB [00:03, 328kB/s]                             \n"
     ]
    },
    {
     "name": "stdout",
     "output_type": "stream",
     "text": [
      " | Download completed for ftp://gssc.esa.int/gnss/products/2363//GFZ0MGXRAP_20251120000_01D_05M_ORB.SP3.gz\n",
      "C:\\Users\\varga\\Box\\Data\\nc Files\\MetSta\\aux_orbits\\GFZ0MGXRAP_20251120000_01D_05M_ORB.SP3 file is read in 4.12 seconds\n",
      "C:\\Users\\varga\\Box\\Data\\nc Files\\MetSta\\aux_orbits\\GFZ0MGXRAP_20251100000_01D_30S_CLK.CLK exists | Reading...\n",
      "C:\\Users\\varga\\Box\\Data\\nc Files\\MetSta\\aux_orbits\\GFZ0MGXRAP_20251100000_01D_30S_CLK.CLK file is read in 2.66 seconds\n",
      "C:\\Users\\varga\\Box\\Data\\nc Files\\MetSta\\aux_orbits\\GFZ0MGXRAP_20251110000_01D_30S_CLK.CLK exists | Reading...\n",
      "C:\\Users\\varga\\Box\\Data\\nc Files\\MetSta\\aux_orbits\\GFZ0MGXRAP_20251110000_01D_30S_CLK.CLK file is read in 2.61 seconds\n",
      "This file does not exist: C:\\Users\\varga\\Box\\Data\\nc Files\\MetSta\\aux_orbits\\GFZ0MGXRAP_20251120000_01D_30S_CLK.CLK\n",
      "Downloading: GFZ0MGXRAP_20251120000_01D_30S_CLK.CLK.gz"
     ]
    },
    {
     "name": "stderr",
     "output_type": "stream",
     "text": [
      "GFZ0MGXRAP_20251120000_01D_30S_CLK.CLK.gz: 4.80MB [00:03, 1.33MB/s]                            \n"
     ]
    },
    {
     "name": "stdout",
     "output_type": "stream",
     "text": [
      " | Download completed for GFZ0MGXRAP_20251120000_01D_30S_CLK.CLK.gz\n",
      "C:\\Users\\varga\\Box\\Data\\nc Files\\MetSta\\aux_orbits\\GFZ0MGXRAP_20251120000_01D_30S_CLK.CLK file is read in 2.71 seconds\n",
      "SP3 interpolation is done in 3.64 seconds\n",
      "Saved 103673 individual observations in C:\\Users\\varga\\Box\\Data\\nc Files\\MetSta\\processed\\MetStation_raw_20250420221022.nc\n",
      "[OK] MetStation_raw_20250420221022.25O\n",
      "Could not find any files matching the pattern C:\\Users\\varga\\Box\\Data\\nc Files\\MetSta\\processed*.nc\n",
      "C:\\Users\\varga\\Box\\Data\\nc Files\\MetSta\\MetStation_raw_20250421221023.25O exists | Reading...\n",
      "Observation file  C:\\Users\\varga\\Box\\Data\\nc Files\\MetSta\\MetStation_raw_20250421221023.25O  is read in 3.26 seconds.\n",
      "Processing 100779 individual observations\n",
      "Calculating Azimuth and Elevation\n",
      "C:\\Users\\varga\\Box\\Data\\nc Files\\MetSta\\aux_orbits\\GFZ0MGXRAP_20251110000_01D_05M_ORB.SP3 exists | Reading...\n",
      "C:\\Users\\varga\\Box\\Data\\nc Files\\MetSta\\aux_orbits\\GFZ0MGXRAP_20251110000_01D_05M_ORB.SP3 file is read in 0.51 seconds\n",
      "C:\\Users\\varga\\Box\\Data\\nc Files\\MetSta\\aux_orbits\\GFZ0MGXRAP_20251120000_01D_05M_ORB.SP3 exists | Reading...\n",
      "C:\\Users\\varga\\Box\\Data\\nc Files\\MetSta\\aux_orbits\\GFZ0MGXRAP_20251120000_01D_05M_ORB.SP3 file is read in 0.80 seconds\n",
      "This file does not exist: C:\\Users\\varga\\Box\\Data\\nc Files\\MetSta\\aux_orbits\\GFZ0MGXRAP_20251130000_01D_05M_ORB.SP3\n",
      "Downloading: ftp://gssc.esa.int/gnss/products/2363//GFZ0MGXRAP_20251130000_01D_05M_ORB.SP3.gz"
     ]
    },
    {
     "name": "stderr",
     "output_type": "stream",
     "text": [
      "GFZ0MGXRAP_20251130000_01D_05M_ORB.SP3.gz: 1.05MB [00:03, 353kB/s]                             \n"
     ]
    },
    {
     "name": "stdout",
     "output_type": "stream",
     "text": [
      " | Download completed for ftp://gssc.esa.int/gnss/products/2363//GFZ0MGXRAP_20251130000_01D_05M_ORB.SP3.gz\n",
      "C:\\Users\\varga\\Box\\Data\\nc Files\\MetSta\\aux_orbits\\GFZ0MGXRAP_20251130000_01D_05M_ORB.SP3 file is read in 3.64 seconds\n",
      "C:\\Users\\varga\\Box\\Data\\nc Files\\MetSta\\aux_orbits\\GFZ0MGXRAP_20251110000_01D_30S_CLK.CLK exists | Reading...\n",
      "C:\\Users\\varga\\Box\\Data\\nc Files\\MetSta\\aux_orbits\\GFZ0MGXRAP_20251110000_01D_30S_CLK.CLK file is read in 2.83 seconds\n",
      "C:\\Users\\varga\\Box\\Data\\nc Files\\MetSta\\aux_orbits\\GFZ0MGXRAP_20251120000_01D_30S_CLK.CLK exists | Reading...\n",
      "C:\\Users\\varga\\Box\\Data\\nc Files\\MetSta\\aux_orbits\\GFZ0MGXRAP_20251120000_01D_30S_CLK.CLK file is read in 2.64 seconds\n",
      "This file does not exist: C:\\Users\\varga\\Box\\Data\\nc Files\\MetSta\\aux_orbits\\GFZ0MGXRAP_20251130000_01D_30S_CLK.CLK\n",
      "Downloading: GFZ0MGXRAP_20251130000_01D_30S_CLK.CLK.gz"
     ]
    },
    {
     "name": "stderr",
     "output_type": "stream",
     "text": [
      "GFZ0MGXRAP_20251130000_01D_30S_CLK.CLK.gz: 4.84MB [00:03, 1.36MB/s]                            \n"
     ]
    },
    {
     "name": "stdout",
     "output_type": "stream",
     "text": [
      " | Download completed for GFZ0MGXRAP_20251130000_01D_30S_CLK.CLK.gz\n",
      "C:\\Users\\varga\\Box\\Data\\nc Files\\MetSta\\aux_orbits\\GFZ0MGXRAP_20251130000_01D_30S_CLK.CLK file is read in 2.30 seconds\n",
      "SP3 interpolation is done in 3.67 seconds\n",
      "Saved 100779 individual observations in C:\\Users\\varga\\Box\\Data\\nc Files\\MetSta\\processed\\MetStation_raw_20250421221023.nc\n",
      "[OK] MetStation_raw_20250421221023.25O\n",
      "Could not find any files matching the pattern C:\\Users\\varga\\Box\\Data\\nc Files\\MetSta\\processed*.nc\n",
      "C:\\Users\\varga\\Box\\Data\\nc Files\\MetSta\\MetStation_raw_20250422221025.25O exists | Reading...\n",
      "Observation file  C:\\Users\\varga\\Box\\Data\\nc Files\\MetSta\\MetStation_raw_20250422221025.25O  is read in 3.67 seconds.\n",
      "Processing 104189 individual observations\n",
      "Calculating Azimuth and Elevation\n",
      "C:\\Users\\varga\\Box\\Data\\nc Files\\MetSta\\aux_orbits\\GFZ0MGXRAP_20251120000_01D_05M_ORB.SP3 exists | Reading...\n",
      "C:\\Users\\varga\\Box\\Data\\nc Files\\MetSta\\aux_orbits\\GFZ0MGXRAP_20251120000_01D_05M_ORB.SP3 file is read in 0.68 seconds\n",
      "C:\\Users\\varga\\Box\\Data\\nc Files\\MetSta\\aux_orbits\\GFZ0MGXRAP_20251130000_01D_05M_ORB.SP3 exists | Reading...\n",
      "C:\\Users\\varga\\Box\\Data\\nc Files\\MetSta\\aux_orbits\\GFZ0MGXRAP_20251130000_01D_05M_ORB.SP3 file is read in 0.46 seconds\n",
      "This file does not exist: C:\\Users\\varga\\Box\\Data\\nc Files\\MetSta\\aux_orbits\\GFZ0MGXRAP_20251140000_01D_05M_ORB.SP3\n",
      "Downloading: ftp://gssc.esa.int/gnss/products/2363//GFZ0MGXRAP_20251140000_01D_05M_ORB.SP3.gz"
     ]
    },
    {
     "name": "stderr",
     "output_type": "stream",
     "text": [
      "GFZ0MGXRAP_20251140000_01D_05M_ORB.SP3.gz: 1.04MB [00:03, 340kB/s]                             \n"
     ]
    },
    {
     "name": "stdout",
     "output_type": "stream",
     "text": [
      " | Download completed for ftp://gssc.esa.int/gnss/products/2363//GFZ0MGXRAP_20251140000_01D_05M_ORB.SP3.gz\n",
      "C:\\Users\\varga\\Box\\Data\\nc Files\\MetSta\\aux_orbits\\GFZ0MGXRAP_20251140000_01D_05M_ORB.SP3 file is read in 3.75 seconds\n",
      "C:\\Users\\varga\\Box\\Data\\nc Files\\MetSta\\aux_orbits\\GFZ0MGXRAP_20251120000_01D_30S_CLK.CLK exists | Reading...\n",
      "C:\\Users\\varga\\Box\\Data\\nc Files\\MetSta\\aux_orbits\\GFZ0MGXRAP_20251120000_01D_30S_CLK.CLK file is read in 3.48 seconds\n",
      "C:\\Users\\varga\\Box\\Data\\nc Files\\MetSta\\aux_orbits\\GFZ0MGXRAP_20251130000_01D_30S_CLK.CLK exists | Reading...\n",
      "C:\\Users\\varga\\Box\\Data\\nc Files\\MetSta\\aux_orbits\\GFZ0MGXRAP_20251130000_01D_30S_CLK.CLK file is read in 3.63 seconds\n",
      "This file does not exist: C:\\Users\\varga\\Box\\Data\\nc Files\\MetSta\\aux_orbits\\GFZ0MGXRAP_20251140000_01D_30S_CLK.CLK\n",
      "Downloading: GFZ0MGXRAP_20251140000_01D_30S_CLK.CLK.gz"
     ]
    },
    {
     "name": "stderr",
     "output_type": "stream",
     "text": [
      "GFZ0MGXRAP_20251140000_01D_30S_CLK.CLK.gz: 4.78MB [00:04, 1.10MB/s]                            \n"
     ]
    },
    {
     "name": "stdout",
     "output_type": "stream",
     "text": [
      " | Download completed for GFZ0MGXRAP_20251140000_01D_30S_CLK.CLK.gz\n",
      "C:\\Users\\varga\\Box\\Data\\nc Files\\MetSta\\aux_orbits\\GFZ0MGXRAP_20251140000_01D_30S_CLK.CLK file is read in 4.93 seconds\n",
      "SP3 interpolation is done in 4.50 seconds\n",
      "Saved 104189 individual observations in C:\\Users\\varga\\Box\\Data\\nc Files\\MetSta\\processed\\MetStation_raw_20250422221025.nc\n",
      "[OK] MetStation_raw_20250422221025.25O\n",
      "Could not find any files matching the pattern C:\\Users\\varga\\Box\\Data\\nc Files\\MetSta\\processed*.nc\n",
      "C:\\Users\\varga\\Box\\Data\\nc Files\\MetSta\\MetStation_raw_20250423221026.25O exists | Reading...\n",
      "Observation file  C:\\Users\\varga\\Box\\Data\\nc Files\\MetSta\\MetStation_raw_20250423221026.25O  is read in 4.22 seconds.\n",
      "Processing 104661 individual observations\n",
      "Calculating Azimuth and Elevation\n",
      "C:\\Users\\varga\\Box\\Data\\nc Files\\MetSta\\aux_orbits\\GFZ0MGXRAP_20251130000_01D_05M_ORB.SP3 exists | Reading...\n",
      "C:\\Users\\varga\\Box\\Data\\nc Files\\MetSta\\aux_orbits\\GFZ0MGXRAP_20251130000_01D_05M_ORB.SP3 file is read in 4.33 seconds\n",
      "C:\\Users\\varga\\Box\\Data\\nc Files\\MetSta\\aux_orbits\\GFZ0MGXRAP_20251140000_01D_05M_ORB.SP3 exists | Reading...\n",
      "C:\\Users\\varga\\Box\\Data\\nc Files\\MetSta\\aux_orbits\\GFZ0MGXRAP_20251140000_01D_05M_ORB.SP3 file is read in 0.44 seconds\n",
      "This file does not exist: C:\\Users\\varga\\Box\\Data\\nc Files\\MetSta\\aux_orbits\\GFZ0MGXRAP_20251150000_01D_05M_ORB.SP3\n",
      "Downloading: ftp://gssc.esa.int/gnss/products/2363//GFZ0MGXRAP_20251150000_01D_05M_ORB.SP3.gz"
     ]
    },
    {
     "name": "stderr",
     "output_type": "stream",
     "text": [
      "GFZ0MGXRAP_20251150000_01D_05M_ORB.SP3.gz: 1.03MB [00:04, 258kB/s]                             \n"
     ]
    },
    {
     "name": "stdout",
     "output_type": "stream",
     "text": [
      " | Download completed for ftp://gssc.esa.int/gnss/products/2363//GFZ0MGXRAP_20251150000_01D_05M_ORB.SP3.gz\n",
      "C:\\Users\\varga\\Box\\Data\\nc Files\\MetSta\\aux_orbits\\GFZ0MGXRAP_20251150000_01D_05M_ORB.SP3 file is read in 5.10 seconds\n",
      "C:\\Users\\varga\\Box\\Data\\nc Files\\MetSta\\aux_orbits\\GFZ0MGXRAP_20251130000_01D_30S_CLK.CLK exists | Reading...\n",
      "C:\\Users\\varga\\Box\\Data\\nc Files\\MetSta\\aux_orbits\\GFZ0MGXRAP_20251130000_01D_30S_CLK.CLK file is read in 2.71 seconds\n",
      "C:\\Users\\varga\\Box\\Data\\nc Files\\MetSta\\aux_orbits\\GFZ0MGXRAP_20251140000_01D_30S_CLK.CLK exists | Reading...\n",
      "C:\\Users\\varga\\Box\\Data\\nc Files\\MetSta\\aux_orbits\\GFZ0MGXRAP_20251140000_01D_30S_CLK.CLK file is read in 2.95 seconds\n",
      "This file does not exist: C:\\Users\\varga\\Box\\Data\\nc Files\\MetSta\\aux_orbits\\GFZ0MGXRAP_20251150000_01D_30S_CLK.CLK\n",
      "Downloading: GFZ0MGXRAP_20251150000_01D_30S_CLK.CLK.gz"
     ]
    },
    {
     "name": "stderr",
     "output_type": "stream",
     "text": [
      "GFZ0MGXRAP_20251150000_01D_30S_CLK.CLK.gz: 4.78MB [00:03, 1.31MB/s]                            \n"
     ]
    },
    {
     "name": "stdout",
     "output_type": "stream",
     "text": [
      " | Download completed for GFZ0MGXRAP_20251150000_01D_30S_CLK.CLK.gz\n",
      "C:\\Users\\varga\\Box\\Data\\nc Files\\MetSta\\aux_orbits\\GFZ0MGXRAP_20251150000_01D_30S_CLK.CLK file is read in 4.61 seconds\n",
      "SP3 interpolation is done in 24.09 seconds\n",
      "Saved 104661 individual observations in C:\\Users\\varga\\Box\\Data\\nc Files\\MetSta\\processed\\MetStation_raw_20250423221026.nc\n",
      "[OK] MetStation_raw_20250423221026.25O\n",
      "Could not find any files matching the pattern C:\\Users\\varga\\Box\\Data\\nc Files\\MetSta\\processed*.nc\n",
      "C:\\Users\\varga\\Box\\Data\\nc Files\\MetSta\\MetStation_raw_20250424221027.25O exists | Reading...\n",
      "Observation file  C:\\Users\\varga\\Box\\Data\\nc Files\\MetSta\\MetStation_raw_20250424221027.25O  is read in 2.70 seconds.\n",
      "Processing 101618 individual observations\n",
      "Calculating Azimuth and Elevation\n",
      "C:\\Users\\varga\\Box\\Data\\nc Files\\MetSta\\aux_orbits\\GFZ0MGXRAP_20251140000_01D_05M_ORB.SP3 exists | Reading...\n",
      "C:\\Users\\varga\\Box\\Data\\nc Files\\MetSta\\aux_orbits\\GFZ0MGXRAP_20251140000_01D_05M_ORB.SP3 file is read in 0.66 seconds\n",
      "C:\\Users\\varga\\Box\\Data\\nc Files\\MetSta\\aux_orbits\\GFZ0MGXRAP_20251150000_01D_05M_ORB.SP3 exists | Reading...\n",
      "C:\\Users\\varga\\Box\\Data\\nc Files\\MetSta\\aux_orbits\\GFZ0MGXRAP_20251150000_01D_05M_ORB.SP3 file is read in 0.46 seconds\n",
      "This file does not exist: C:\\Users\\varga\\Box\\Data\\nc Files\\MetSta\\aux_orbits\\GFZ0MGXRAP_20251160000_01D_05M_ORB.SP3\n",
      "Downloading: ftp://gssc.esa.int/gnss/products/2363//GFZ0MGXRAP_20251160000_01D_05M_ORB.SP3.gz"
     ]
    },
    {
     "name": "stderr",
     "output_type": "stream",
     "text": [
      "GFZ0MGXRAP_20251160000_01D_05M_ORB.SP3.gz: 1.05MB [00:03, 323kB/s]                             \n"
     ]
    },
    {
     "name": "stdout",
     "output_type": "stream",
     "text": [
      " | Download completed for ftp://gssc.esa.int/gnss/products/2363//GFZ0MGXRAP_20251160000_01D_05M_ORB.SP3.gz\n",
      "C:\\Users\\varga\\Box\\Data\\nc Files\\MetSta\\aux_orbits\\GFZ0MGXRAP_20251160000_01D_05M_ORB.SP3 file is read in 12.36 seconds\n",
      "C:\\Users\\varga\\Box\\Data\\nc Files\\MetSta\\aux_orbits\\GFZ0MGXRAP_20251140000_01D_30S_CLK.CLK exists | Reading...\n",
      "C:\\Users\\varga\\Box\\Data\\nc Files\\MetSta\\aux_orbits\\GFZ0MGXRAP_20251140000_01D_30S_CLK.CLK file is read in 7.04 seconds\n",
      "C:\\Users\\varga\\Box\\Data\\nc Files\\MetSta\\aux_orbits\\GFZ0MGXRAP_20251150000_01D_30S_CLK.CLK exists | Reading...\n",
      "C:\\Users\\varga\\Box\\Data\\nc Files\\MetSta\\aux_orbits\\GFZ0MGXRAP_20251150000_01D_30S_CLK.CLK file is read in 3.11 seconds\n",
      "This file does not exist: C:\\Users\\varga\\Box\\Data\\nc Files\\MetSta\\aux_orbits\\GFZ0MGXRAP_20251160000_01D_30S_CLK.CLK\n",
      "Downloading: GFZ0MGXRAP_20251160000_01D_30S_CLK.CLK.gz"
     ]
    },
    {
     "name": "stderr",
     "output_type": "stream",
     "text": [
      "GFZ0MGXRAP_20251160000_01D_30S_CLK.CLK.gz: 4.83MB [00:04, 1.20MB/s]                            \n"
     ]
    },
    {
     "name": "stdout",
     "output_type": "stream",
     "text": [
      " | Download completed for GFZ0MGXRAP_20251160000_01D_30S_CLK.CLK.gz\n",
      "C:\\Users\\varga\\Box\\Data\\nc Files\\MetSta\\aux_orbits\\GFZ0MGXRAP_20251160000_01D_30S_CLK.CLK file is read in 2.76 seconds\n",
      "SP3 interpolation is done in 4.80 seconds\n",
      "Saved 101618 individual observations in C:\\Users\\varga\\Box\\Data\\nc Files\\MetSta\\processed\\MetStation_raw_20250424221027.nc\n",
      "[OK] MetStation_raw_20250424221027.25O\n",
      "Could not find any files matching the pattern C:\\Users\\varga\\Box\\Data\\nc Files\\MetSta\\processed*.nc\n",
      "C:\\Users\\varga\\Box\\Data\\nc Files\\MetSta\\MetStation_raw_20250425221028.25O exists | Reading...\n",
      "Observation file  C:\\Users\\varga\\Box\\Data\\nc Files\\MetSta\\MetStation_raw_20250425221028.25O  is read in 11.83 seconds.\n",
      "Processing 103473 individual observations\n",
      "Calculating Azimuth and Elevation\n",
      "C:\\Users\\varga\\Box\\Data\\nc Files\\MetSta\\aux_orbits\\GFZ0MGXRAP_20251150000_01D_05M_ORB.SP3 exists | Reading...\n",
      "C:\\Users\\varga\\Box\\Data\\nc Files\\MetSta\\aux_orbits\\GFZ0MGXRAP_20251150000_01D_05M_ORB.SP3 file is read in 0.62 seconds\n",
      "C:\\Users\\varga\\Box\\Data\\nc Files\\MetSta\\aux_orbits\\GFZ0MGXRAP_20251160000_01D_05M_ORB.SP3 exists | Reading...\n",
      "C:\\Users\\varga\\Box\\Data\\nc Files\\MetSta\\aux_orbits\\GFZ0MGXRAP_20251160000_01D_05M_ORB.SP3 file is read in 0.41 seconds\n",
      "This file does not exist: C:\\Users\\varga\\Box\\Data\\nc Files\\MetSta\\aux_orbits\\GFZ0MGXRAP_20251170000_01D_05M_ORB.SP3\n",
      "Downloading: ftp://gssc.esa.int/gnss/products/2364//GFZ0MGXRAP_20251170000_01D_05M_ORB.SP3.gz"
     ]
    },
    {
     "name": "stderr",
     "output_type": "stream",
     "text": [
      "GFZ0MGXRAP_20251170000_01D_05M_ORB.SP3.gz: 1.02MB [00:05, 212kB/s]                             \n"
     ]
    },
    {
     "name": "stdout",
     "output_type": "stream",
     "text": [
      " | Download completed for ftp://gssc.esa.int/gnss/products/2364//GFZ0MGXRAP_20251170000_01D_05M_ORB.SP3.gz\n",
      "C:\\Users\\varga\\Box\\Data\\nc Files\\MetSta\\aux_orbits\\GFZ0MGXRAP_20251170000_01D_05M_ORB.SP3 file is read in 5.57 seconds\n",
      "C:\\Users\\varga\\Box\\Data\\nc Files\\MetSta\\aux_orbits\\GFZ0MGXRAP_20251150000_01D_30S_CLK.CLK exists | Reading...\n",
      "C:\\Users\\varga\\Box\\Data\\nc Files\\MetSta\\aux_orbits\\GFZ0MGXRAP_20251150000_01D_30S_CLK.CLK file is read in 2.91 seconds\n",
      "C:\\Users\\varga\\Box\\Data\\nc Files\\MetSta\\aux_orbits\\GFZ0MGXRAP_20251160000_01D_30S_CLK.CLK exists | Reading...\n",
      "C:\\Users\\varga\\Box\\Data\\nc Files\\MetSta\\aux_orbits\\GFZ0MGXRAP_20251160000_01D_30S_CLK.CLK file is read in 2.31 seconds\n",
      "This file does not exist: C:\\Users\\varga\\Box\\Data\\nc Files\\MetSta\\aux_orbits\\GFZ0MGXRAP_20251170000_01D_30S_CLK.CLK\n",
      "Downloading: GFZ0MGXRAP_20251170000_01D_30S_CLK.CLK.gz"
     ]
    },
    {
     "name": "stderr",
     "output_type": "stream",
     "text": [
      "GFZ0MGXRAP_20251170000_01D_30S_CLK.CLK.gz: 4.74MB [00:03, 1.35MB/s]                            \n"
     ]
    },
    {
     "name": "stdout",
     "output_type": "stream",
     "text": [
      " | Download completed for GFZ0MGXRAP_20251170000_01D_30S_CLK.CLK.gz\n",
      "C:\\Users\\varga\\Box\\Data\\nc Files\\MetSta\\aux_orbits\\GFZ0MGXRAP_20251170000_01D_30S_CLK.CLK file is read in 4.30 seconds\n",
      "SP3 interpolation is done in 15.68 seconds\n",
      "Saved 103473 individual observations in C:\\Users\\varga\\Box\\Data\\nc Files\\MetSta\\processed\\MetStation_raw_20250425221028.nc\n",
      "[OK] MetStation_raw_20250425221028.25O\n",
      "Could not find any files matching the pattern C:\\Users\\varga\\Box\\Data\\nc Files\\MetSta\\processed*.nc\n",
      "C:\\Users\\varga\\Box\\Data\\nc Files\\MetSta\\MetStation_raw_20250426221029.25O exists | Reading...\n",
      "Observation file  C:\\Users\\varga\\Box\\Data\\nc Files\\MetSta\\MetStation_raw_20250426221029.25O  is read in 3.25 seconds.\n",
      "Processing 105157 individual observations\n",
      "Calculating Azimuth and Elevation\n",
      "C:\\Users\\varga\\Box\\Data\\nc Files\\MetSta\\aux_orbits\\GFZ0MGXRAP_20251160000_01D_05M_ORB.SP3 exists | Reading...\n",
      "C:\\Users\\varga\\Box\\Data\\nc Files\\MetSta\\aux_orbits\\GFZ0MGXRAP_20251160000_01D_05M_ORB.SP3 file is read in 5.41 seconds\n",
      "C:\\Users\\varga\\Box\\Data\\nc Files\\MetSta\\aux_orbits\\GFZ0MGXRAP_20251170000_01D_05M_ORB.SP3 exists | Reading...\n",
      "C:\\Users\\varga\\Box\\Data\\nc Files\\MetSta\\aux_orbits\\GFZ0MGXRAP_20251170000_01D_05M_ORB.SP3 file is read in 5.89 seconds\n",
      "This file does not exist: C:\\Users\\varga\\Box\\Data\\nc Files\\MetSta\\aux_orbits\\GFZ0MGXRAP_20251180000_01D_05M_ORB.SP3\n",
      "Downloading: ftp://gssc.esa.int/gnss/products/2364//GFZ0MGXRAP_20251180000_01D_05M_ORB.SP3.gz"
     ]
    },
    {
     "name": "stderr",
     "output_type": "stream",
     "text": [
      "GFZ0MGXRAP_20251180000_01D_05M_ORB.SP3.gz: 1.02MB [00:03, 339kB/s]                             \n"
     ]
    },
    {
     "name": "stdout",
     "output_type": "stream",
     "text": [
      " | Download completed for ftp://gssc.esa.int/gnss/products/2364//GFZ0MGXRAP_20251180000_01D_05M_ORB.SP3.gz\n",
      "C:\\Users\\varga\\Box\\Data\\nc Files\\MetSta\\aux_orbits\\GFZ0MGXRAP_20251180000_01D_05M_ORB.SP3 file is read in 3.74 seconds\n",
      "C:\\Users\\varga\\Box\\Data\\nc Files\\MetSta\\aux_orbits\\GFZ0MGXRAP_20251160000_01D_30S_CLK.CLK exists | Reading...\n",
      "C:\\Users\\varga\\Box\\Data\\nc Files\\MetSta\\aux_orbits\\GFZ0MGXRAP_20251160000_01D_30S_CLK.CLK file is read in 2.97 seconds\n",
      "C:\\Users\\varga\\Box\\Data\\nc Files\\MetSta\\aux_orbits\\GFZ0MGXRAP_20251170000_01D_30S_CLK.CLK exists | Reading...\n",
      "C:\\Users\\varga\\Box\\Data\\nc Files\\MetSta\\aux_orbits\\GFZ0MGXRAP_20251170000_01D_30S_CLK.CLK file is read in 2.36 seconds\n",
      "This file does not exist: C:\\Users\\varga\\Box\\Data\\nc Files\\MetSta\\aux_orbits\\GFZ0MGXRAP_20251180000_01D_30S_CLK.CLK\n",
      "Downloading: GFZ0MGXRAP_20251180000_01D_30S_CLK.CLK.gz"
     ]
    },
    {
     "name": "stderr",
     "output_type": "stream",
     "text": [
      "GFZ0MGXRAP_20251180000_01D_30S_CLK.CLK.gz: 4.70MB [00:03, 1.32MB/s]                            \n"
     ]
    },
    {
     "name": "stdout",
     "output_type": "stream",
     "text": [
      " | Download completed for GFZ0MGXRAP_20251180000_01D_30S_CLK.CLK.gz\n",
      "C:\\Users\\varga\\Box\\Data\\nc Files\\MetSta\\aux_orbits\\GFZ0MGXRAP_20251180000_01D_30S_CLK.CLK file is read in 2.53 seconds\n",
      "SP3 interpolation is done in 5.39 seconds\n",
      "Saved 105157 individual observations in C:\\Users\\varga\\Box\\Data\\nc Files\\MetSta\\processed\\MetStation_raw_20250426221029.nc\n",
      "[OK] MetStation_raw_20250426221029.25O\n",
      "Could not find any files matching the pattern C:\\Users\\varga\\Box\\Data\\nc Files\\MetSta\\processed*.nc\n",
      "C:\\Users\\varga\\Box\\Data\\nc Files\\MetSta\\MetStation_raw_20250427221030.25O exists | Reading...\n",
      "Observation file  C:\\Users\\varga\\Box\\Data\\nc Files\\MetSta\\MetStation_raw_20250427221030.25O  is read in 7.65 seconds.\n",
      "Processing 77975 individual observations\n",
      "Calculating Azimuth and Elevation\n",
      "C:\\Users\\varga\\Box\\Data\\nc Files\\MetSta\\aux_orbits\\GFZ0MGXRAP_20251170000_01D_05M_ORB.SP3 exists | Reading...\n",
      "C:\\Users\\varga\\Box\\Data\\nc Files\\MetSta\\aux_orbits\\GFZ0MGXRAP_20251170000_01D_05M_ORB.SP3 file is read in 0.39 seconds\n",
      "C:\\Users\\varga\\Box\\Data\\nc Files\\MetSta\\aux_orbits\\GFZ0MGXRAP_20251180000_01D_05M_ORB.SP3 exists | Reading...\n",
      "C:\\Users\\varga\\Box\\Data\\nc Files\\MetSta\\aux_orbits\\GFZ0MGXRAP_20251180000_01D_05M_ORB.SP3 file is read in 0.38 seconds\n",
      "C:\\Users\\varga\\Box\\Data\\nc Files\\MetSta\\aux_orbits\\GFZ0MGXRAP_20251170000_01D_30S_CLK.CLK exists | Reading...\n",
      "C:\\Users\\varga\\Box\\Data\\nc Files\\MetSta\\aux_orbits\\GFZ0MGXRAP_20251170000_01D_30S_CLK.CLK file is read in 3.01 seconds\n",
      "C:\\Users\\varga\\Box\\Data\\nc Files\\MetSta\\aux_orbits\\GFZ0MGXRAP_20251180000_01D_30S_CLK.CLK exists | Reading...\n",
      "C:\\Users\\varga\\Box\\Data\\nc Files\\MetSta\\aux_orbits\\GFZ0MGXRAP_20251180000_01D_30S_CLK.CLK file is read in 4.57 seconds\n",
      "SP3 interpolation is done in 16.55 seconds\n",
      "Saved 77975 individual observations in C:\\Users\\varga\\Box\\Data\\nc Files\\MetSta\\processed\\MetStation_raw_20250427221030.nc\n",
      "[OK] MetStation_raw_20250427221030.25O\n",
      "Could not find any files matching the pattern C:\\Users\\varga\\Box\\Data\\nc Files\\MetSta\\processed*.nc\n",
      "C:\\Users\\varga\\Box\\Data\\nc Files\\MetSta\\MetStation_raw_20250430150820.25O exists | Reading...\n",
      "Observation file  C:\\Users\\varga\\Box\\Data\\nc Files\\MetSta\\MetStation_raw_20250430150820.25O  is read in 2.46 seconds.\n",
      "Processing 102919 individual observations\n",
      "Calculating Azimuth and Elevation\n",
      "This file does not exist: C:\\Users\\varga\\Box\\Data\\nc Files\\MetSta\\aux_orbits\\GFZ0MGXRAP_20251200000_01D_05M_ORB.SP3\n",
      "Downloading: ftp://gssc.esa.int/gnss/products/2364//GFZ0MGXRAP_20251200000_01D_05M_ORB.SP3.gz"
     ]
    },
    {
     "name": "stderr",
     "output_type": "stream",
     "text": [
      "GFZ0MGXRAP_20251200000_01D_05M_ORB.SP3.gz: 1.03MB [00:03, 341kB/s]                             \n"
     ]
    },
    {
     "name": "stdout",
     "output_type": "stream",
     "text": [
      " | Download completed for ftp://gssc.esa.int/gnss/products/2364//GFZ0MGXRAP_20251200000_01D_05M_ORB.SP3.gz\n",
      "C:\\Users\\varga\\Box\\Data\\nc Files\\MetSta\\aux_orbits\\GFZ0MGXRAP_20251200000_01D_05M_ORB.SP3 file is read in 10.78 seconds\n",
      "This file does not exist: C:\\Users\\varga\\Box\\Data\\nc Files\\MetSta\\aux_orbits\\GFZ0MGXRAP_20251210000_01D_05M_ORB.SP3\n",
      "Downloading: ftp://gssc.esa.int/gnss/products/2364//GFZ0MGXRAP_20251210000_01D_05M_ORB.SP3.gz"
     ]
    },
    {
     "name": "stderr",
     "output_type": "stream",
     "text": [
      "GFZ0MGXRAP_20251210000_01D_05M_ORB.SP3.gz: 1.02MB [00:03, 315kB/s]                             \n"
     ]
    },
    {
     "name": "stdout",
     "output_type": "stream",
     "text": [
      " | Download completed for ftp://gssc.esa.int/gnss/products/2364//GFZ0MGXRAP_20251210000_01D_05M_ORB.SP3.gz\n",
      "C:\\Users\\varga\\Box\\Data\\nc Files\\MetSta\\aux_orbits\\GFZ0MGXRAP_20251210000_01D_05M_ORB.SP3 file is read in 9.31 seconds\n",
      "This file does not exist: C:\\Users\\varga\\Box\\Data\\nc Files\\MetSta\\aux_orbits\\GFZ0MGXRAP_20251200000_01D_30S_CLK.CLK\n",
      "Downloading: GFZ0MGXRAP_20251200000_01D_30S_CLK.CLK.gz"
     ]
    },
    {
     "name": "stderr",
     "output_type": "stream",
     "text": [
      "GFZ0MGXRAP_20251200000_01D_30S_CLK.CLK.gz: 4.74MB [00:03, 1.28MB/s]                            \n"
     ]
    },
    {
     "name": "stdout",
     "output_type": "stream",
     "text": [
      " | Download completed for GFZ0MGXRAP_20251200000_01D_30S_CLK.CLK.gz\n",
      "C:\\Users\\varga\\Box\\Data\\nc Files\\MetSta\\aux_orbits\\GFZ0MGXRAP_20251200000_01D_30S_CLK.CLK file is read in 2.59 seconds\n",
      "This file does not exist: C:\\Users\\varga\\Box\\Data\\nc Files\\MetSta\\aux_orbits\\GFZ0MGXRAP_20251210000_01D_30S_CLK.CLK\n",
      "Downloading: GFZ0MGXRAP_20251210000_01D_30S_CLK.CLK.gz"
     ]
    },
    {
     "name": "stderr",
     "output_type": "stream",
     "text": [
      "GFZ0MGXRAP_20251210000_01D_30S_CLK.CLK.gz: 4.75MB [00:03, 1.26MB/s]                            \n"
     ]
    },
    {
     "name": "stdout",
     "output_type": "stream",
     "text": [
      " | Download completed for GFZ0MGXRAP_20251210000_01D_30S_CLK.CLK.gz\n",
      "C:\\Users\\varga\\Box\\Data\\nc Files\\MetSta\\aux_orbits\\GFZ0MGXRAP_20251210000_01D_30S_CLK.CLK file is read in 2.64 seconds\n",
      "SP3 interpolation is done in 3.00 seconds\n",
      "Saved 102919 individual observations in C:\\Users\\varga\\Box\\Data\\nc Files\\MetSta\\processed\\MetStation_raw_20250430150820.nc\n",
      "[OK] MetStation_raw_20250430150820.25O\n",
      "Could not find any files matching the pattern C:\\Users\\varga\\Box\\Data\\nc Files\\MetSta\\processed*.nc\n",
      "C:\\Users\\varga\\Box\\Data\\nc Files\\MetSta\\MetStation_raw_20250501150821.25O exists | Reading...\n",
      "Observation file  C:\\Users\\varga\\Box\\Data\\nc Files\\MetSta\\MetStation_raw_20250501150821.25O  is read in 16.52 seconds.\n",
      "Processing 102999 individual observations\n",
      "Calculating Azimuth and Elevation\n",
      "C:\\Users\\varga\\Box\\Data\\nc Files\\MetSta\\aux_orbits\\GFZ0MGXRAP_20251210000_01D_05M_ORB.SP3 exists | Reading...\n",
      "C:\\Users\\varga\\Box\\Data\\nc Files\\MetSta\\aux_orbits\\GFZ0MGXRAP_20251210000_01D_05M_ORB.SP3 file is read in 5.25 seconds\n",
      "This file does not exist: C:\\Users\\varga\\Box\\Data\\nc Files\\MetSta\\aux_orbits\\GFZ0MGXRAP_20251220000_01D_05M_ORB.SP3\n",
      "Downloading: ftp://gssc.esa.int/gnss/products/2364//GFZ0MGXRAP_20251220000_01D_05M_ORB.SP3.gz"
     ]
    },
    {
     "name": "stderr",
     "output_type": "stream",
     "text": [
      "GFZ0MGXRAP_20251220000_01D_05M_ORB.SP3.gz: 1.04MB [00:06, 174kB/s]                             \n"
     ]
    },
    {
     "name": "stdout",
     "output_type": "stream",
     "text": [
      " | Download completed for ftp://gssc.esa.int/gnss/products/2364//GFZ0MGXRAP_20251220000_01D_05M_ORB.SP3.gz\n",
      "C:\\Users\\varga\\Box\\Data\\nc Files\\MetSta\\aux_orbits\\GFZ0MGXRAP_20251220000_01D_05M_ORB.SP3 file is read in 6.80 seconds\n",
      "C:\\Users\\varga\\Box\\Data\\nc Files\\MetSta\\aux_orbits\\GFZ0MGXRAP_20251210000_01D_30S_CLK.CLK exists | Reading...\n",
      "C:\\Users\\varga\\Box\\Data\\nc Files\\MetSta\\aux_orbits\\GFZ0MGXRAP_20251210000_01D_30S_CLK.CLK file is read in 2.85 seconds\n",
      "This file does not exist: C:\\Users\\varga\\Box\\Data\\nc Files\\MetSta\\aux_orbits\\GFZ0MGXRAP_20251220000_01D_30S_CLK.CLK\n",
      "Downloading: GFZ0MGXRAP_20251220000_01D_30S_CLK.CLK.gz"
     ]
    },
    {
     "name": "stderr",
     "output_type": "stream",
     "text": [
      "GFZ0MGXRAP_20251220000_01D_30S_CLK.CLK.gz: 4.76MB [00:04, 1.24MB/s]                            \n"
     ]
    },
    {
     "name": "stdout",
     "output_type": "stream",
     "text": [
      " | Download completed for GFZ0MGXRAP_20251220000_01D_30S_CLK.CLK.gz\n",
      "C:\\Users\\varga\\Box\\Data\\nc Files\\MetSta\\aux_orbits\\GFZ0MGXRAP_20251220000_01D_30S_CLK.CLK file is read in 2.63 seconds\n",
      "SP3 interpolation is done in 3.30 seconds\n",
      "Saved 102999 individual observations in C:\\Users\\varga\\Box\\Data\\nc Files\\MetSta\\processed\\MetStation_raw_20250501150821.nc\n",
      "[OK] MetStation_raw_20250501150821.25O\n",
      "Could not find any files matching the pattern C:\\Users\\varga\\Box\\Data\\nc Files\\MetSta\\processed*.nc\n",
      "C:\\Users\\varga\\Box\\Data\\nc Files\\MetSta\\MetStation_raw_20250502150821.25O exists | Reading...\n",
      "Observation file  C:\\Users\\varga\\Box\\Data\\nc Files\\MetSta\\MetStation_raw_20250502150821.25O  is read in 17.15 seconds.\n",
      "Processing 103996 individual observations\n",
      "Calculating Azimuth and Elevation\n",
      "C:\\Users\\varga\\Box\\Data\\nc Files\\MetSta\\aux_orbits\\GFZ0MGXRAP_20251220000_01D_05M_ORB.SP3 exists | Reading...\n",
      "C:\\Users\\varga\\Box\\Data\\nc Files\\MetSta\\aux_orbits\\GFZ0MGXRAP_20251220000_01D_05M_ORB.SP3 file is read in 5.43 seconds\n",
      "This file does not exist: C:\\Users\\varga\\Box\\Data\\nc Files\\MetSta\\aux_orbits\\GFZ0MGXRAP_20251230000_01D_05M_ORB.SP3\n",
      "Downloading: ftp://gssc.esa.int/gnss/products/2364//GFZ0MGXRAP_20251230000_01D_05M_ORB.SP3.gz"
     ]
    },
    {
     "name": "stderr",
     "output_type": "stream",
     "text": [
      "GFZ0MGXRAP_20251230000_01D_05M_ORB.SP3.gz: 1.05MB [00:03, 349kB/s]                             \n"
     ]
    },
    {
     "name": "stdout",
     "output_type": "stream",
     "text": [
      " | Download completed for ftp://gssc.esa.int/gnss/products/2364//GFZ0MGXRAP_20251230000_01D_05M_ORB.SP3.gz\n",
      "C:\\Users\\varga\\Box\\Data\\nc Files\\MetSta\\aux_orbits\\GFZ0MGXRAP_20251230000_01D_05M_ORB.SP3 file is read in 4.15 seconds\n",
      "C:\\Users\\varga\\Box\\Data\\nc Files\\MetSta\\aux_orbits\\GFZ0MGXRAP_20251220000_01D_30S_CLK.CLK exists | Reading...\n",
      "C:\\Users\\varga\\Box\\Data\\nc Files\\MetSta\\aux_orbits\\GFZ0MGXRAP_20251220000_01D_30S_CLK.CLK file is read in 2.61 seconds\n",
      "This file does not exist: C:\\Users\\varga\\Box\\Data\\nc Files\\MetSta\\aux_orbits\\GFZ0MGXRAP_20251230000_01D_30S_CLK.CLK\n",
      "Downloading: GFZ0MGXRAP_20251230000_01D_30S_CLK.CLK.gz"
     ]
    },
    {
     "name": "stderr",
     "output_type": "stream",
     "text": [
      "GFZ0MGXRAP_20251230000_01D_30S_CLK.CLK.gz: 4.84MB [00:04, 1.26MB/s]                            \n"
     ]
    },
    {
     "name": "stdout",
     "output_type": "stream",
     "text": [
      " | Download completed for GFZ0MGXRAP_20251230000_01D_30S_CLK.CLK.gz\n",
      "C:\\Users\\varga\\Box\\Data\\nc Files\\MetSta\\aux_orbits\\GFZ0MGXRAP_20251230000_01D_30S_CLK.CLK file is read in 3.65 seconds\n",
      "SP3 interpolation is done in 15.07 seconds\n",
      "Saved 103996 individual observations in C:\\Users\\varga\\Box\\Data\\nc Files\\MetSta\\processed\\MetStation_raw_20250502150821.nc\n",
      "[OK] MetStation_raw_20250502150821.25O\n",
      "Could not find any files matching the pattern C:\\Users\\varga\\Box\\Data\\nc Files\\MetSta\\processed*.nc\n",
      "C:\\Users\\varga\\Box\\Data\\nc Files\\MetSta\\MetStation_raw_20250503150822.25O exists | Reading...\n",
      "Observation file  C:\\Users\\varga\\Box\\Data\\nc Files\\MetSta\\MetStation_raw_20250503150822.25O  is read in 2.93 seconds.\n",
      "Processing 103392 individual observations\n",
      "Calculating Azimuth and Elevation\n",
      "C:\\Users\\varga\\Box\\Data\\nc Files\\MetSta\\aux_orbits\\GFZ0MGXRAP_20251230000_01D_05M_ORB.SP3 exists | Reading...\n",
      "C:\\Users\\varga\\Box\\Data\\nc Files\\MetSta\\aux_orbits\\GFZ0MGXRAP_20251230000_01D_05M_ORB.SP3 file is read in 0.52 seconds\n",
      "This file does not exist: C:\\Users\\varga\\Box\\Data\\nc Files\\MetSta\\aux_orbits\\GFZ0MGXRAP_20251240000_01D_05M_ORB.SP3\n",
      "Downloading: ftp://gssc.esa.int/gnss/products/2365//GFZ0MGXRAP_20251240000_01D_05M_ORB.SP3.gz"
     ]
    },
    {
     "name": "stderr",
     "output_type": "stream",
     "text": [
      "GFZ0MGXRAP_20251240000_01D_05M_ORB.SP3.gz: 1.04MB [00:03, 328kB/s]                             \n"
     ]
    },
    {
     "name": "stdout",
     "output_type": "stream",
     "text": [
      " | Download completed for ftp://gssc.esa.int/gnss/products/2365//GFZ0MGXRAP_20251240000_01D_05M_ORB.SP3.gz\n",
      "C:\\Users\\varga\\Box\\Data\\nc Files\\MetSta\\aux_orbits\\GFZ0MGXRAP_20251240000_01D_05M_ORB.SP3 file is read in 3.86 seconds\n",
      "C:\\Users\\varga\\Box\\Data\\nc Files\\MetSta\\aux_orbits\\GFZ0MGXRAP_20251230000_01D_30S_CLK.CLK exists | Reading...\n",
      "C:\\Users\\varga\\Box\\Data\\nc Files\\MetSta\\aux_orbits\\GFZ0MGXRAP_20251230000_01D_30S_CLK.CLK file is read in 3.03 seconds\n",
      "This file does not exist: C:\\Users\\varga\\Box\\Data\\nc Files\\MetSta\\aux_orbits\\GFZ0MGXRAP_20251240000_01D_30S_CLK.CLK\n",
      "Downloading: GFZ0MGXRAP_20251240000_01D_30S_CLK.CLK.gz"
     ]
    },
    {
     "name": "stderr",
     "output_type": "stream",
     "text": [
      "GFZ0MGXRAP_20251240000_01D_30S_CLK.CLK.gz: 4.80MB [00:03, 1.29MB/s]                            \n"
     ]
    },
    {
     "name": "stdout",
     "output_type": "stream",
     "text": [
      " | Download completed for GFZ0MGXRAP_20251240000_01D_30S_CLK.CLK.gz\n",
      "C:\\Users\\varga\\Box\\Data\\nc Files\\MetSta\\aux_orbits\\GFZ0MGXRAP_20251240000_01D_30S_CLK.CLK file is read in 2.73 seconds\n",
      "SP3 interpolation is done in 3.19 seconds\n",
      "Saved 103392 individual observations in C:\\Users\\varga\\Box\\Data\\nc Files\\MetSta\\processed\\MetStation_raw_20250503150822.nc\n",
      "[OK] MetStation_raw_20250503150822.25O\n",
      "Could not find any files matching the pattern C:\\Users\\varga\\Box\\Data\\nc Files\\MetSta\\processed*.nc\n",
      "C:\\Users\\varga\\Box\\Data\\nc Files\\MetSta\\MetStation_raw_20250504150823.25O exists | Reading...\n",
      "Observation file  C:\\Users\\varga\\Box\\Data\\nc Files\\MetSta\\MetStation_raw_20250504150823.25O  is read in 2.17 seconds.\n",
      "Processing 101593 individual observations\n",
      "Calculating Azimuth and Elevation\n",
      "C:\\Users\\varga\\Box\\Data\\nc Files\\MetSta\\aux_orbits\\GFZ0MGXRAP_20251240000_01D_05M_ORB.SP3 exists | Reading...\n",
      "C:\\Users\\varga\\Box\\Data\\nc Files\\MetSta\\aux_orbits\\GFZ0MGXRAP_20251240000_01D_05M_ORB.SP3 file is read in 0.61 seconds\n",
      "This file does not exist: C:\\Users\\varga\\Box\\Data\\nc Files\\MetSta\\aux_orbits\\GFZ0MGXRAP_20251250000_01D_05M_ORB.SP3\n",
      "Downloading: ftp://gssc.esa.int/gnss/products/2365//GFZ0MGXRAP_20251250000_01D_05M_ORB.SP3.gz"
     ]
    },
    {
     "name": "stderr",
     "output_type": "stream",
     "text": [
      "GFZ0MGXRAP_20251250000_01D_05M_ORB.SP3.gz: 1.04MB [00:03, 337kB/s]                             \n"
     ]
    },
    {
     "name": "stdout",
     "output_type": "stream",
     "text": [
      " | Download completed for ftp://gssc.esa.int/gnss/products/2365//GFZ0MGXRAP_20251250000_01D_05M_ORB.SP3.gz\n",
      "C:\\Users\\varga\\Box\\Data\\nc Files\\MetSta\\aux_orbits\\GFZ0MGXRAP_20251250000_01D_05M_ORB.SP3 file is read in 3.75 seconds\n",
      "C:\\Users\\varga\\Box\\Data\\nc Files\\MetSta\\aux_orbits\\GFZ0MGXRAP_20251240000_01D_30S_CLK.CLK exists | Reading...\n",
      "C:\\Users\\varga\\Box\\Data\\nc Files\\MetSta\\aux_orbits\\GFZ0MGXRAP_20251240000_01D_30S_CLK.CLK file is read in 2.88 seconds\n",
      "This file does not exist: C:\\Users\\varga\\Box\\Data\\nc Files\\MetSta\\aux_orbits\\GFZ0MGXRAP_20251250000_01D_30S_CLK.CLK\n",
      "Downloading: GFZ0MGXRAP_20251250000_01D_30S_CLK.CLK.gz"
     ]
    },
    {
     "name": "stderr",
     "output_type": "stream",
     "text": [
      "GFZ0MGXRAP_20251250000_01D_30S_CLK.CLK.gz: 4.80MB [00:03, 1.32MB/s]                            \n"
     ]
    },
    {
     "name": "stdout",
     "output_type": "stream",
     "text": [
      " | Download completed for GFZ0MGXRAP_20251250000_01D_30S_CLK.CLK.gz\n",
      "C:\\Users\\varga\\Box\\Data\\nc Files\\MetSta\\aux_orbits\\GFZ0MGXRAP_20251250000_01D_30S_CLK.CLK file is read in 2.32 seconds\n",
      "SP3 interpolation is done in 2.82 seconds\n",
      "Saved 101593 individual observations in C:\\Users\\varga\\Box\\Data\\nc Files\\MetSta\\processed\\MetStation_raw_20250504150823.nc\n",
      "[OK] MetStation_raw_20250504150823.25O\n",
      "Could not find any files matching the pattern C:\\Users\\varga\\Box\\Data\\nc Files\\MetSta\\processed*.nc\n",
      "C:\\Users\\varga\\Box\\Data\\nc Files\\MetSta\\MetStation_raw_20250505150824.25O exists | Reading...\n",
      "Observation file  C:\\Users\\varga\\Box\\Data\\nc Files\\MetSta\\MetStation_raw_20250505150824.25O  is read in 2.19 seconds.\n",
      "Processing 103563 individual observations\n",
      "Calculating Azimuth and Elevation\n",
      "C:\\Users\\varga\\Box\\Data\\nc Files\\MetSta\\aux_orbits\\GFZ0MGXRAP_20251250000_01D_05M_ORB.SP3 exists | Reading...\n",
      "C:\\Users\\varga\\Box\\Data\\nc Files\\MetSta\\aux_orbits\\GFZ0MGXRAP_20251250000_01D_05M_ORB.SP3 file is read in 0.61 seconds\n",
      "This file does not exist: C:\\Users\\varga\\Box\\Data\\nc Files\\MetSta\\aux_orbits\\GFZ0MGXRAP_20251260000_01D_05M_ORB.SP3\n",
      "Downloading: ftp://gssc.esa.int/gnss/products/2365//GFZ0MGXRAP_20251260000_01D_05M_ORB.SP3.gz"
     ]
    },
    {
     "name": "stderr",
     "output_type": "stream",
     "text": [
      "GFZ0MGXRAP_20251260000_01D_05M_ORB.SP3.gz: 1.04MB [00:03, 341kB/s]                             \n"
     ]
    },
    {
     "name": "stdout",
     "output_type": "stream",
     "text": [
      " | Download completed for ftp://gssc.esa.int/gnss/products/2365//GFZ0MGXRAP_20251260000_01D_05M_ORB.SP3.gz\n",
      "C:\\Users\\varga\\Box\\Data\\nc Files\\MetSta\\aux_orbits\\GFZ0MGXRAP_20251260000_01D_05M_ORB.SP3 file is read in 3.71 seconds\n",
      "C:\\Users\\varga\\Box\\Data\\nc Files\\MetSta\\aux_orbits\\GFZ0MGXRAP_20251250000_01D_30S_CLK.CLK exists | Reading...\n",
      "C:\\Users\\varga\\Box\\Data\\nc Files\\MetSta\\aux_orbits\\GFZ0MGXRAP_20251250000_01D_30S_CLK.CLK file is read in 3.04 seconds\n",
      "This file does not exist: C:\\Users\\varga\\Box\\Data\\nc Files\\MetSta\\aux_orbits\\GFZ0MGXRAP_20251260000_01D_30S_CLK.CLK\n",
      "Downloading: GFZ0MGXRAP_20251260000_01D_30S_CLK.CLK.gz"
     ]
    },
    {
     "name": "stderr",
     "output_type": "stream",
     "text": [
      "GFZ0MGXRAP_20251260000_01D_30S_CLK.CLK.gz: 4.80MB [00:03, 1.28MB/s]                            \n"
     ]
    },
    {
     "name": "stdout",
     "output_type": "stream",
     "text": [
      " | Download completed for GFZ0MGXRAP_20251260000_01D_30S_CLK.CLK.gz\n",
      "C:\\Users\\varga\\Box\\Data\\nc Files\\MetSta\\aux_orbits\\GFZ0MGXRAP_20251260000_01D_30S_CLK.CLK file is read in 2.34 seconds\n",
      "SP3 interpolation is done in 2.99 seconds\n",
      "Saved 103563 individual observations in C:\\Users\\varga\\Box\\Data\\nc Files\\MetSta\\processed\\MetStation_raw_20250505150824.nc\n",
      "[OK] MetStation_raw_20250505150824.25O\n",
      "Could not find any files matching the pattern C:\\Users\\varga\\Box\\Data\\nc Files\\MetSta\\processed*.nc\n",
      "C:\\Users\\varga\\Box\\Data\\nc Files\\MetSta\\MetStation_raw_20250506150825.25O exists | Reading...\n",
      "Observation file  C:\\Users\\varga\\Box\\Data\\nc Files\\MetSta\\MetStation_raw_20250506150825.25O  is read in 3.02 seconds.\n",
      "Processing 104445 individual observations\n",
      "Calculating Azimuth and Elevation\n",
      "C:\\Users\\varga\\Box\\Data\\nc Files\\MetSta\\aux_orbits\\GFZ0MGXRAP_20251260000_01D_05M_ORB.SP3 exists | Reading...\n",
      "C:\\Users\\varga\\Box\\Data\\nc Files\\MetSta\\aux_orbits\\GFZ0MGXRAP_20251260000_01D_05M_ORB.SP3 file is read in 0.78 seconds\n",
      "This file does not exist: C:\\Users\\varga\\Box\\Data\\nc Files\\MetSta\\aux_orbits\\GFZ0MGXRAP_20251270000_01D_05M_ORB.SP3\n",
      "Downloading: ftp://gssc.esa.int/gnss/products/2365//GFZ0MGXRAP_20251270000_01D_05M_ORB.SP3.gz"
     ]
    },
    {
     "name": "stderr",
     "output_type": "stream",
     "text": [
      "GFZ0MGXRAP_20251270000_01D_05M_ORB.SP3.gz: 1.04MB [00:03, 344kB/s]                             \n"
     ]
    },
    {
     "name": "stdout",
     "output_type": "stream",
     "text": [
      " | Download completed for ftp://gssc.esa.int/gnss/products/2365//GFZ0MGXRAP_20251270000_01D_05M_ORB.SP3.gz\n",
      "C:\\Users\\varga\\Box\\Data\\nc Files\\MetSta\\aux_orbits\\GFZ0MGXRAP_20251270000_01D_05M_ORB.SP3 file is read in 3.68 seconds\n",
      "C:\\Users\\varga\\Box\\Data\\nc Files\\MetSta\\aux_orbits\\GFZ0MGXRAP_20251260000_01D_30S_CLK.CLK exists | Reading...\n",
      "C:\\Users\\varga\\Box\\Data\\nc Files\\MetSta\\aux_orbits\\GFZ0MGXRAP_20251260000_01D_30S_CLK.CLK file is read in 2.48 seconds\n",
      "This file does not exist: C:\\Users\\varga\\Box\\Data\\nc Files\\MetSta\\aux_orbits\\GFZ0MGXRAP_20251270000_01D_30S_CLK.CLK\n",
      "Downloading: GFZ0MGXRAP_20251270000_01D_30S_CLK.CLK.gz"
     ]
    },
    {
     "name": "stderr",
     "output_type": "stream",
     "text": [
      "GFZ0MGXRAP_20251270000_01D_30S_CLK.CLK.gz: 4.75MB [00:03, 1.30MB/s]                            \n"
     ]
    },
    {
     "name": "stdout",
     "output_type": "stream",
     "text": [
      " | Download completed for GFZ0MGXRAP_20251270000_01D_30S_CLK.CLK.gz\n",
      "C:\\Users\\varga\\Box\\Data\\nc Files\\MetSta\\aux_orbits\\GFZ0MGXRAP_20251270000_01D_30S_CLK.CLK file is read in 2.55 seconds\n",
      "SP3 interpolation is done in 3.26 seconds\n",
      "Saved 104445 individual observations in C:\\Users\\varga\\Box\\Data\\nc Files\\MetSta\\processed\\MetStation_raw_20250506150825.nc\n",
      "[OK] MetStation_raw_20250506150825.25O\n",
      "Could not find any files matching the pattern C:\\Users\\varga\\Box\\Data\\nc Files\\MetSta\\processed*.nc\n",
      "C:\\Users\\varga\\Box\\Data\\nc Files\\MetSta\\MetStation_raw_20250507150825.25O exists | Reading...\n",
      "Observation file  C:\\Users\\varga\\Box\\Data\\nc Files\\MetSta\\MetStation_raw_20250507150825.25O  is read in 4.59 seconds.\n",
      "Processing 102106 individual observations\n",
      "Calculating Azimuth and Elevation\n",
      "C:\\Users\\varga\\Box\\Data\\nc Files\\MetSta\\aux_orbits\\GFZ0MGXRAP_20251270000_01D_05M_ORB.SP3 exists | Reading...\n",
      "C:\\Users\\varga\\Box\\Data\\nc Files\\MetSta\\aux_orbits\\GFZ0MGXRAP_20251270000_01D_05M_ORB.SP3 file is read in 0.43 seconds\n",
      "This file does not exist: C:\\Users\\varga\\Box\\Data\\nc Files\\MetSta\\aux_orbits\\GFZ0MGXRAP_20251280000_01D_05M_ORB.SP3\n",
      "Downloading: ftp://gssc.esa.int/gnss/products/2365//GFZ0MGXRAP_20251280000_01D_05M_ORB.SP3.gz"
     ]
    },
    {
     "name": "stderr",
     "output_type": "stream",
     "text": [
      "GFZ0MGXRAP_20251280000_01D_05M_ORB.SP3.gz: 1.03MB [00:03, 342kB/s]                             \n"
     ]
    },
    {
     "name": "stdout",
     "output_type": "stream",
     "text": [
      " | Download completed for ftp://gssc.esa.int/gnss/products/2365//GFZ0MGXRAP_20251280000_01D_05M_ORB.SP3.gz\n",
      "C:\\Users\\varga\\Box\\Data\\nc Files\\MetSta\\aux_orbits\\GFZ0MGXRAP_20251280000_01D_05M_ORB.SP3 file is read in 3.93 seconds\n",
      "C:\\Users\\varga\\Box\\Data\\nc Files\\MetSta\\aux_orbits\\GFZ0MGXRAP_20251270000_01D_30S_CLK.CLK exists | Reading...\n",
      "C:\\Users\\varga\\Box\\Data\\nc Files\\MetSta\\aux_orbits\\GFZ0MGXRAP_20251270000_01D_30S_CLK.CLK file is read in 2.55 seconds\n",
      "This file does not exist: C:\\Users\\varga\\Box\\Data\\nc Files\\MetSta\\aux_orbits\\GFZ0MGXRAP_20251280000_01D_30S_CLK.CLK\n",
      "Downloading: GFZ0MGXRAP_20251280000_01D_30S_CLK.CLK.gz"
     ]
    },
    {
     "name": "stderr",
     "output_type": "stream",
     "text": [
      "GFZ0MGXRAP_20251280000_01D_30S_CLK.CLK.gz: 4.75MB [00:03, 1.32MB/s]                            \n"
     ]
    },
    {
     "name": "stdout",
     "output_type": "stream",
     "text": [
      " | Download completed for GFZ0MGXRAP_20251280000_01D_30S_CLK.CLK.gz\n",
      "C:\\Users\\varga\\Box\\Data\\nc Files\\MetSta\\aux_orbits\\GFZ0MGXRAP_20251280000_01D_30S_CLK.CLK file is read in 2.61 seconds\n",
      "SP3 interpolation is done in 3.08 seconds\n",
      "Saved 102106 individual observations in C:\\Users\\varga\\Box\\Data\\nc Files\\MetSta\\processed\\MetStation_raw_20250507150825.nc\n",
      "[OK] MetStation_raw_20250507150825.25O\n",
      "Could not find any files matching the pattern C:\\Users\\varga\\Box\\Data\\nc Files\\MetSta\\processed*.nc\n",
      "C:\\Users\\varga\\Box\\Data\\nc Files\\MetSta\\MetStation_raw_20250508150826.25O exists | Reading...\n",
      "Observation file  C:\\Users\\varga\\Box\\Data\\nc Files\\MetSta\\MetStation_raw_20250508150826.25O  is read in 6.05 seconds.\n",
      "Processing 103166 individual observations\n",
      "Calculating Azimuth and Elevation\n",
      "C:\\Users\\varga\\Box\\Data\\nc Files\\MetSta\\aux_orbits\\GFZ0MGXRAP_20251280000_01D_05M_ORB.SP3 exists | Reading...\n",
      "C:\\Users\\varga\\Box\\Data\\nc Files\\MetSta\\aux_orbits\\GFZ0MGXRAP_20251280000_01D_05M_ORB.SP3 file is read in 0.78 seconds\n",
      "This file does not exist: C:\\Users\\varga\\Box\\Data\\nc Files\\MetSta\\aux_orbits\\GFZ0MGXRAP_20251290000_01D_05M_ORB.SP3\n",
      "Downloading: ftp://gssc.esa.int/gnss/products/2365//GFZ0MGXRAP_20251290000_01D_05M_ORB.SP3.gz"
     ]
    },
    {
     "name": "stderr",
     "output_type": "stream",
     "text": [
      "GFZ0MGXRAP_20251290000_01D_05M_ORB.SP3.gz: 1.03MB [00:03, 343kB/s]                             \n"
     ]
    },
    {
     "name": "stdout",
     "output_type": "stream",
     "text": [
      " | Download completed for ftp://gssc.esa.int/gnss/products/2365//GFZ0MGXRAP_20251290000_01D_05M_ORB.SP3.gz\n",
      "C:\\Users\\varga\\Box\\Data\\nc Files\\MetSta\\aux_orbits\\GFZ0MGXRAP_20251290000_01D_05M_ORB.SP3 file is read in 3.73 seconds\n",
      "C:\\Users\\varga\\Box\\Data\\nc Files\\MetSta\\aux_orbits\\GFZ0MGXRAP_20251280000_01D_30S_CLK.CLK exists | Reading...\n",
      "C:\\Users\\varga\\Box\\Data\\nc Files\\MetSta\\aux_orbits\\GFZ0MGXRAP_20251280000_01D_30S_CLK.CLK file is read in 2.53 seconds\n",
      "This file does not exist: C:\\Users\\varga\\Box\\Data\\nc Files\\MetSta\\aux_orbits\\GFZ0MGXRAP_20251290000_01D_30S_CLK.CLK\n",
      "Downloading: GFZ0MGXRAP_20251290000_01D_30S_CLK.CLK.gz"
     ]
    },
    {
     "name": "stderr",
     "output_type": "stream",
     "text": [
      "GFZ0MGXRAP_20251290000_01D_30S_CLK.CLK.gz: 4.77MB [00:03, 1.29MB/s]                            \n"
     ]
    },
    {
     "name": "stdout",
     "output_type": "stream",
     "text": [
      " | Download completed for GFZ0MGXRAP_20251290000_01D_30S_CLK.CLK.gz\n",
      "C:\\Users\\varga\\Box\\Data\\nc Files\\MetSta\\aux_orbits\\GFZ0MGXRAP_20251290000_01D_30S_CLK.CLK file is read in 3.02 seconds\n",
      "SP3 interpolation is done in 3.07 seconds\n",
      "Saved 103166 individual observations in C:\\Users\\varga\\Box\\Data\\nc Files\\MetSta\\processed\\MetStation_raw_20250508150826.nc\n",
      "[OK] MetStation_raw_20250508150826.25O\n",
      "Could not find any files matching the pattern C:\\Users\\varga\\Box\\Data\\nc Files\\MetSta\\processed*.nc\n",
      "C:\\Users\\varga\\Box\\Data\\nc Files\\MetSta\\MetStation_raw_20250509150827.25O exists | Reading...\n",
      "Observation file  C:\\Users\\varga\\Box\\Data\\nc Files\\MetSta\\MetStation_raw_20250509150827.25O  is read in 14.38 seconds.\n",
      "Processing 103577 individual observations\n",
      "Calculating Azimuth and Elevation\n",
      "C:\\Users\\varga\\Box\\Data\\nc Files\\MetSta\\aux_orbits\\GFZ0MGXRAP_20251290000_01D_05M_ORB.SP3 exists | Reading...\n",
      "C:\\Users\\varga\\Box\\Data\\nc Files\\MetSta\\aux_orbits\\GFZ0MGXRAP_20251290000_01D_05M_ORB.SP3 file is read in 0.41 seconds\n",
      "This file does not exist: C:\\Users\\varga\\Box\\Data\\nc Files\\MetSta\\aux_orbits\\GFZ0MGXRAP_20251300000_01D_05M_ORB.SP3\n",
      "Downloading: ftp://gssc.esa.int/gnss/products/2365//GFZ0MGXRAP_20251300000_01D_05M_ORB.SP3.gz"
     ]
    },
    {
     "name": "stderr",
     "output_type": "stream",
     "text": [
      "GFZ0MGXRAP_20251300000_01D_05M_ORB.SP3.gz: 1.04MB [00:03, 348kB/s]                             \n"
     ]
    },
    {
     "name": "stdout",
     "output_type": "stream",
     "text": [
      " | Download completed for ftp://gssc.esa.int/gnss/products/2365//GFZ0MGXRAP_20251300000_01D_05M_ORB.SP3.gz\n",
      "C:\\Users\\varga\\Box\\Data\\nc Files\\MetSta\\aux_orbits\\GFZ0MGXRAP_20251300000_01D_05M_ORB.SP3 file is read in 3.90 seconds\n",
      "C:\\Users\\varga\\Box\\Data\\nc Files\\MetSta\\aux_orbits\\GFZ0MGXRAP_20251290000_01D_30S_CLK.CLK exists | Reading...\n",
      "C:\\Users\\varga\\Box\\Data\\nc Files\\MetSta\\aux_orbits\\GFZ0MGXRAP_20251290000_01D_30S_CLK.CLK file is read in 2.58 seconds\n",
      "This file does not exist: C:\\Users\\varga\\Box\\Data\\nc Files\\MetSta\\aux_orbits\\GFZ0MGXRAP_20251300000_01D_30S_CLK.CLK\n",
      "Downloading: GFZ0MGXRAP_20251300000_01D_30S_CLK.CLK.gz"
     ]
    },
    {
     "name": "stderr",
     "output_type": "stream",
     "text": [
      "GFZ0MGXRAP_20251300000_01D_30S_CLK.CLK.gz: 4.80MB [00:03, 1.31MB/s]                            \n"
     ]
    },
    {
     "name": "stdout",
     "output_type": "stream",
     "text": [
      " | Download completed for GFZ0MGXRAP_20251300000_01D_30S_CLK.CLK.gz\n",
      "C:\\Users\\varga\\Box\\Data\\nc Files\\MetSta\\aux_orbits\\GFZ0MGXRAP_20251300000_01D_30S_CLK.CLK file is read in 2.84 seconds\n",
      "SP3 interpolation is done in 8.05 seconds\n",
      "Saved 103577 individual observations in C:\\Users\\varga\\Box\\Data\\nc Files\\MetSta\\processed\\MetStation_raw_20250509150827.nc\n",
      "[OK] MetStation_raw_20250509150827.25O\n",
      "Could not find any files matching the pattern C:\\Users\\varga\\Box\\Data\\nc Files\\MetSta\\processed*.nc\n",
      "C:\\Users\\varga\\Box\\Data\\nc Files\\MetSta\\MetStation_raw_20250510150827.25O exists | Reading...\n",
      "Observation file  C:\\Users\\varga\\Box\\Data\\nc Files\\MetSta\\MetStation_raw_20250510150827.25O  is read in 2.88 seconds.\n",
      "Processing 101756 individual observations\n",
      "Calculating Azimuth and Elevation\n",
      "C:\\Users\\varga\\Box\\Data\\nc Files\\MetSta\\aux_orbits\\GFZ0MGXRAP_20251300000_01D_05M_ORB.SP3 exists | Reading...\n",
      "C:\\Users\\varga\\Box\\Data\\nc Files\\MetSta\\aux_orbits\\GFZ0MGXRAP_20251300000_01D_05M_ORB.SP3 file is read in 0.88 seconds\n",
      "This file does not exist: C:\\Users\\varga\\Box\\Data\\nc Files\\MetSta\\aux_orbits\\GFZ0MGXRAP_20251310000_01D_05M_ORB.SP3\n",
      "Downloading: ftp://gssc.esa.int/gnss/products/2366//GFZ0MGXRAP_20251310000_01D_05M_ORB.SP3.gz"
     ]
    },
    {
     "name": "stderr",
     "output_type": "stream",
     "text": [
      "GFZ0MGXRAP_20251310000_01D_05M_ORB.SP3.gz: 1.05MB [00:03, 331kB/s]                             \n"
     ]
    },
    {
     "name": "stdout",
     "output_type": "stream",
     "text": [
      " | Download completed for ftp://gssc.esa.int/gnss/products/2366//GFZ0MGXRAP_20251310000_01D_05M_ORB.SP3.gz\n",
      "C:\\Users\\varga\\Box\\Data\\nc Files\\MetSta\\aux_orbits\\GFZ0MGXRAP_20251310000_01D_05M_ORB.SP3 file is read in 4.06 seconds\n",
      "C:\\Users\\varga\\Box\\Data\\nc Files\\MetSta\\aux_orbits\\GFZ0MGXRAP_20251300000_01D_30S_CLK.CLK exists | Reading...\n",
      "C:\\Users\\varga\\Box\\Data\\nc Files\\MetSta\\aux_orbits\\GFZ0MGXRAP_20251300000_01D_30S_CLK.CLK file is read in 3.23 seconds\n",
      "This file does not exist: C:\\Users\\varga\\Box\\Data\\nc Files\\MetSta\\aux_orbits\\GFZ0MGXRAP_20251310000_01D_30S_CLK.CLK\n",
      "Downloading: GFZ0MGXRAP_20251310000_01D_30S_CLK.CLK.gz"
     ]
    },
    {
     "name": "stderr",
     "output_type": "stream",
     "text": [
      "GFZ0MGXRAP_20251310000_01D_30S_CLK.CLK.gz: 4.83MB [00:04, 1.21MB/s]                            \n"
     ]
    },
    {
     "name": "stdout",
     "output_type": "stream",
     "text": [
      " | Download completed for GFZ0MGXRAP_20251310000_01D_30S_CLK.CLK.gz\n",
      "C:\\Users\\varga\\Box\\Data\\nc Files\\MetSta\\aux_orbits\\GFZ0MGXRAP_20251310000_01D_30S_CLK.CLK file is read in 3.07 seconds\n",
      "SP3 interpolation is done in 3.64 seconds\n",
      "Saved 101756 individual observations in C:\\Users\\varga\\Box\\Data\\nc Files\\MetSta\\processed\\MetStation_raw_20250510150827.nc\n",
      "[OK] MetStation_raw_20250510150827.25O\n",
      "Could not find any files matching the pattern C:\\Users\\varga\\Box\\Data\\nc Files\\MetSta\\processed*.nc\n",
      "C:\\Users\\varga\\Box\\Data\\nc Files\\MetSta\\MetStation_raw_20250511150828.25O exists | Reading...\n",
      "Observation file  C:\\Users\\varga\\Box\\Data\\nc Files\\MetSta\\MetStation_raw_20250511150828.25O  is read in 3.37 seconds.\n",
      "Processing 101963 individual observations\n",
      "Calculating Azimuth and Elevation\n",
      "C:\\Users\\varga\\Box\\Data\\nc Files\\MetSta\\aux_orbits\\GFZ0MGXRAP_20251310000_01D_05M_ORB.SP3 exists | Reading...\n",
      "C:\\Users\\varga\\Box\\Data\\nc Files\\MetSta\\aux_orbits\\GFZ0MGXRAP_20251310000_01D_05M_ORB.SP3 file is read in 0.53 seconds\n",
      "This file does not exist: C:\\Users\\varga\\Box\\Data\\nc Files\\MetSta\\aux_orbits\\GFZ0MGXRAP_20251320000_01D_05M_ORB.SP3\n",
      "Downloading: ftp://gssc.esa.int/gnss/products/2366//GFZ0MGXRAP_20251320000_01D_05M_ORB.SP3.gz"
     ]
    },
    {
     "name": "stderr",
     "output_type": "stream",
     "text": [
      "GFZ0MGXRAP_20251320000_01D_05M_ORB.SP3.gz: 1.04MB [00:03, 332kB/s]                             \n"
     ]
    },
    {
     "name": "stdout",
     "output_type": "stream",
     "text": [
      " | Download completed for ftp://gssc.esa.int/gnss/products/2366//GFZ0MGXRAP_20251320000_01D_05M_ORB.SP3.gz\n",
      "C:\\Users\\varga\\Box\\Data\\nc Files\\MetSta\\aux_orbits\\GFZ0MGXRAP_20251320000_01D_05M_ORB.SP3 file is read in 4.22 seconds\n",
      "C:\\Users\\varga\\Box\\Data\\nc Files\\MetSta\\aux_orbits\\GFZ0MGXRAP_20251310000_01D_30S_CLK.CLK exists | Reading...\n",
      "C:\\Users\\varga\\Box\\Data\\nc Files\\MetSta\\aux_orbits\\GFZ0MGXRAP_20251310000_01D_30S_CLK.CLK file is read in 3.37 seconds\n",
      "This file does not exist: C:\\Users\\varga\\Box\\Data\\nc Files\\MetSta\\aux_orbits\\GFZ0MGXRAP_20251320000_01D_30S_CLK.CLK\n",
      "Downloading: GFZ0MGXRAP_20251320000_01D_30S_CLK.CLK.gz"
     ]
    },
    {
     "name": "stderr",
     "output_type": "stream",
     "text": [
      "GFZ0MGXRAP_20251320000_01D_30S_CLK.CLK.gz: 4.77MB [00:12, 387kB/s]                             \n"
     ]
    },
    {
     "name": "stdout",
     "output_type": "stream",
     "text": [
      " | Download completed for GFZ0MGXRAP_20251320000_01D_30S_CLK.CLK.gz\n",
      "C:\\Users\\varga\\Box\\Data\\nc Files\\MetSta\\aux_orbits\\GFZ0MGXRAP_20251320000_01D_30S_CLK.CLK file is read in 12.23 seconds\n",
      "SP3 interpolation is done in 4.26 seconds\n",
      "Saved 101963 individual observations in C:\\Users\\varga\\Box\\Data\\nc Files\\MetSta\\processed\\MetStation_raw_20250511150828.nc\n",
      "[OK] MetStation_raw_20250511150828.25O\n",
      "Could not find any files matching the pattern C:\\Users\\varga\\Box\\Data\\nc Files\\MetSta\\processed*.nc\n",
      "C:\\Users\\varga\\Box\\Data\\nc Files\\MetSta\\MetStation_raw_20250512150829.25O exists | Reading...\n",
      "Observation file  C:\\Users\\varga\\Box\\Data\\nc Files\\MetSta\\MetStation_raw_20250512150829.25O  is read in 3.10 seconds.\n",
      "Processing 103303 individual observations\n",
      "Calculating Azimuth and Elevation\n",
      "C:\\Users\\varga\\Box\\Data\\nc Files\\MetSta\\aux_orbits\\GFZ0MGXRAP_20251320000_01D_05M_ORB.SP3 exists | Reading...\n",
      "C:\\Users\\varga\\Box\\Data\\nc Files\\MetSta\\aux_orbits\\GFZ0MGXRAP_20251320000_01D_05M_ORB.SP3 file is read in 2.92 seconds\n",
      "This file does not exist: C:\\Users\\varga\\Box\\Data\\nc Files\\MetSta\\aux_orbits\\GFZ0MGXRAP_20251330000_01D_05M_ORB.SP3\n",
      "Downloading: ftp://gssc.esa.int/gnss/products/2366//GFZ0MGXRAP_20251330000_01D_05M_ORB.SP3.gz"
     ]
    },
    {
     "name": "stderr",
     "output_type": "stream",
     "text": [
      "GFZ0MGXRAP_20251330000_01D_05M_ORB.SP3.gz: 1.03MB [00:04, 224kB/s]                             \n"
     ]
    },
    {
     "name": "stdout",
     "output_type": "stream",
     "text": [
      " | Download completed for ftp://gssc.esa.int/gnss/products/2366//GFZ0MGXRAP_20251330000_01D_05M_ORB.SP3.gz\n",
      "C:\\Users\\varga\\Box\\Data\\nc Files\\MetSta\\aux_orbits\\GFZ0MGXRAP_20251330000_01D_05M_ORB.SP3 file is read in 22.56 seconds\n",
      "C:\\Users\\varga\\Box\\Data\\nc Files\\MetSta\\aux_orbits\\GFZ0MGXRAP_20251320000_01D_30S_CLK.CLK exists | Reading...\n",
      "C:\\Users\\varga\\Box\\Data\\nc Files\\MetSta\\aux_orbits\\GFZ0MGXRAP_20251320000_01D_30S_CLK.CLK file is read in 5.20 seconds\n",
      "This file does not exist: C:\\Users\\varga\\Box\\Data\\nc Files\\MetSta\\aux_orbits\\GFZ0MGXRAP_20251330000_01D_30S_CLK.CLK\n",
      "Downloading: GFZ0MGXRAP_20251330000_01D_30S_CLK.CLK.gz"
     ]
    },
    {
     "name": "stderr",
     "output_type": "stream",
     "text": [
      "GFZ0MGXRAP_20251330000_01D_30S_CLK.CLK.gz: 4.74MB [00:03, 1.34MB/s]                            \n"
     ]
    },
    {
     "name": "stdout",
     "output_type": "stream",
     "text": [
      " | Download completed for GFZ0MGXRAP_20251330000_01D_30S_CLK.CLK.gz\n",
      "C:\\Users\\varga\\Box\\Data\\nc Files\\MetSta\\aux_orbits\\GFZ0MGXRAP_20251330000_01D_30S_CLK.CLK file is read in 27.38 seconds\n",
      "SP3 interpolation is done in 4.66 seconds\n",
      "Saved 103303 individual observations in C:\\Users\\varga\\Box\\Data\\nc Files\\MetSta\\processed\\MetStation_raw_20250512150829.nc\n",
      "[OK] MetStation_raw_20250512150829.25O\n",
      "Could not find any files matching the pattern C:\\Users\\varga\\Box\\Data\\nc Files\\MetSta\\processed*.nc\n",
      "C:\\Users\\varga\\Box\\Data\\nc Files\\MetSta\\MetStation_raw_20250513150829.25O exists | Reading...\n",
      "Observation file  C:\\Users\\varga\\Box\\Data\\nc Files\\MetSta\\MetStation_raw_20250513150829.25O  is read in 3.42 seconds.\n",
      "Processing 103594 individual observations\n",
      "Calculating Azimuth and Elevation\n",
      "C:\\Users\\varga\\Box\\Data\\nc Files\\MetSta\\aux_orbits\\GFZ0MGXRAP_20251330000_01D_05M_ORB.SP3 exists | Reading...\n",
      "C:\\Users\\varga\\Box\\Data\\nc Files\\MetSta\\aux_orbits\\GFZ0MGXRAP_20251330000_01D_05M_ORB.SP3 file is read in 5.95 seconds\n",
      "This file does not exist: C:\\Users\\varga\\Box\\Data\\nc Files\\MetSta\\aux_orbits\\GFZ0MGXRAP_20251340000_01D_05M_ORB.SP3\n",
      "Downloading: ftp://gssc.esa.int/gnss/products/2366//GFZ0MGXRAP_20251340000_01D_05M_ORB.SP3.gz"
     ]
    },
    {
     "name": "stderr",
     "output_type": "stream",
     "text": [
      "GFZ0MGXRAP_20251340000_01D_05M_ORB.SP3.gz: 1.04MB [00:05, 212kB/s]                             \n"
     ]
    },
    {
     "name": "stdout",
     "output_type": "stream",
     "text": [
      " | Download completed for ftp://gssc.esa.int/gnss/products/2366//GFZ0MGXRAP_20251340000_01D_05M_ORB.SP3.gz\n",
      "C:\\Users\\varga\\Box\\Data\\nc Files\\MetSta\\aux_orbits\\GFZ0MGXRAP_20251340000_01D_05M_ORB.SP3 file is read in 7.73 seconds\n",
      "C:\\Users\\varga\\Box\\Data\\nc Files\\MetSta\\aux_orbits\\GFZ0MGXRAP_20251330000_01D_30S_CLK.CLK exists | Reading...\n",
      "C:\\Users\\varga\\Box\\Data\\nc Files\\MetSta\\aux_orbits\\GFZ0MGXRAP_20251330000_01D_30S_CLK.CLK file is read in 3.58 seconds\n",
      "This file does not exist: C:\\Users\\varga\\Box\\Data\\nc Files\\MetSta\\aux_orbits\\GFZ0MGXRAP_20251340000_01D_30S_CLK.CLK\n",
      "Downloading: GFZ0MGXRAP_20251340000_01D_30S_CLK.CLK.gz"
     ]
    },
    {
     "name": "stderr",
     "output_type": "stream",
     "text": [
      "GFZ0MGXRAP_20251340000_01D_30S_CLK.CLK.gz: 4.77MB [00:04, 1.06MB/s]                            \n"
     ]
    },
    {
     "name": "stdout",
     "output_type": "stream",
     "text": [
      " | Download completed for GFZ0MGXRAP_20251340000_01D_30S_CLK.CLK.gz\n",
      "C:\\Users\\varga\\Box\\Data\\nc Files\\MetSta\\aux_orbits\\GFZ0MGXRAP_20251340000_01D_30S_CLK.CLK file is read in 6.87 seconds\n",
      "SP3 interpolation is done in 23.43 seconds\n",
      "Saved 103594 individual observations in C:\\Users\\varga\\Box\\Data\\nc Files\\MetSta\\processed\\MetStation_raw_20250513150829.nc\n",
      "[OK] MetStation_raw_20250513150829.25O\n",
      "Could not find any files matching the pattern C:\\Users\\varga\\Box\\Data\\nc Files\\MetSta\\processed*.nc\n",
      "C:\\Users\\varga\\Box\\Data\\nc Files\\MetSta\\MetStation_raw_20250514150830.25O exists | Reading...\n",
      "Processed 29722 out of 104122 lines (28.5%)\n",
      "Observation file  C:\\Users\\varga\\Box\\Data\\nc Files\\MetSta\\MetStation_raw_20250514150830.25O  is read in 1255.48 seconds.\n",
      "Processing 101242 individual observations\n",
      "Calculating Azimuth and Elevation\n",
      "C:\\Users\\varga\\Box\\Data\\nc Files\\MetSta\\aux_orbits\\GFZ0MGXRAP_20251340000_01D_05M_ORB.SP3 exists | Reading...\n",
      "C:\\Users\\varga\\Box\\Data\\nc Files\\MetSta\\aux_orbits\\GFZ0MGXRAP_20251340000_01D_05M_ORB.SP3 file is read in 2.70 seconds\n",
      "This file does not exist: C:\\Users\\varga\\Box\\Data\\nc Files\\MetSta\\aux_orbits\\GFZ0MGXRAP_20251350000_01D_05M_ORB.SP3\n",
      "Downloading: ftp://gssc.esa.int/gnss/products/2366//GFZ0MGXRAP_20251350000_01D_05M_ORB.SP3.gz"
     ]
    },
    {
     "name": "stderr",
     "output_type": "stream",
     "text": [
      "GFZ0MGXRAP_20251350000_01D_05M_ORB.SP3.gz: 1.05MB [00:03, 299kB/s]                             \n"
     ]
    },
    {
     "name": "stdout",
     "output_type": "stream",
     "text": [
      " | Download completed for ftp://gssc.esa.int/gnss/products/2366//GFZ0MGXRAP_20251350000_01D_05M_ORB.SP3.gz\n",
      "C:\\Users\\varga\\Box\\Data\\nc Files\\MetSta\\aux_orbits\\GFZ0MGXRAP_20251350000_01D_05M_ORB.SP3 file is read in 4.62 seconds\n",
      "C:\\Users\\varga\\Box\\Data\\nc Files\\MetSta\\aux_orbits\\GFZ0MGXRAP_20251340000_01D_30S_CLK.CLK exists | Reading...\n",
      "C:\\Users\\varga\\Box\\Data\\nc Files\\MetSta\\aux_orbits\\GFZ0MGXRAP_20251340000_01D_30S_CLK.CLK file is read in 3.77 seconds\n",
      "This file does not exist: C:\\Users\\varga\\Box\\Data\\nc Files\\MetSta\\aux_orbits\\GFZ0MGXRAP_20251350000_01D_30S_CLK.CLK\n",
      "Downloading: GFZ0MGXRAP_20251350000_01D_30S_CLK.CLK.gz"
     ]
    },
    {
     "name": "stderr",
     "output_type": "stream",
     "text": [
      "GFZ0MGXRAP_20251350000_01D_30S_CLK.CLK.gz: 4.77MB [00:04, 1.21MB/s]                            \n"
     ]
    },
    {
     "name": "stdout",
     "output_type": "stream",
     "text": [
      " | Download completed for GFZ0MGXRAP_20251350000_01D_30S_CLK.CLK.gz\n",
      "C:\\Users\\varga\\Box\\Data\\nc Files\\MetSta\\aux_orbits\\GFZ0MGXRAP_20251350000_01D_30S_CLK.CLK file is read in 2.84 seconds\n",
      "SP3 interpolation is done in 6.97 seconds\n",
      "Saved 101242 individual observations in C:\\Users\\varga\\Box\\Data\\nc Files\\MetSta\\processed\\MetStation_raw_20250514150830.nc\n",
      "[OK] MetStation_raw_20250514150830.25O\n",
      "Could not find any files matching the pattern C:\\Users\\varga\\Box\\Data\\nc Files\\MetSta\\processed*.nc\n",
      "C:\\Users\\varga\\Box\\Data\\nc Files\\MetSta\\MetStation_raw_20250515150831.25O exists | Reading...\n",
      "Observation file  C:\\Users\\varga\\Box\\Data\\nc Files\\MetSta\\MetStation_raw_20250515150831.25O  is read in 4.67 seconds.\n",
      "Processing 103732 individual observations\n",
      "Calculating Azimuth and Elevation\n",
      "C:\\Users\\varga\\Box\\Data\\nc Files\\MetSta\\aux_orbits\\GFZ0MGXRAP_20251350000_01D_05M_ORB.SP3 exists | Reading...\n",
      "C:\\Users\\varga\\Box\\Data\\nc Files\\MetSta\\aux_orbits\\GFZ0MGXRAP_20251350000_01D_05M_ORB.SP3 file is read in 1.09 seconds\n",
      "This file does not exist: C:\\Users\\varga\\Box\\Data\\nc Files\\MetSta\\aux_orbits\\GFZ0MGXRAP_20251360000_01D_05M_ORB.SP3\n",
      "Downloading: ftp://gssc.esa.int/gnss/products/2366//GFZ0MGXRAP_20251360000_01D_05M_ORB.SP3.gz"
     ]
    },
    {
     "name": "stderr",
     "output_type": "stream",
     "text": [
      "GFZ0MGXRAP_20251360000_01D_05M_ORB.SP3.gz: 1.03MB [00:03, 322kB/s]                             \n"
     ]
    },
    {
     "name": "stdout",
     "output_type": "stream",
     "text": [
      " | Download completed for ftp://gssc.esa.int/gnss/products/2366//GFZ0MGXRAP_20251360000_01D_05M_ORB.SP3.gz\n",
      "C:\\Users\\varga\\Box\\Data\\nc Files\\MetSta\\aux_orbits\\GFZ0MGXRAP_20251360000_01D_05M_ORB.SP3 file is read in 4.24 seconds\n",
      "C:\\Users\\varga\\Box\\Data\\nc Files\\MetSta\\aux_orbits\\GFZ0MGXRAP_20251350000_01D_30S_CLK.CLK exists | Reading...\n",
      "C:\\Users\\varga\\Box\\Data\\nc Files\\MetSta\\aux_orbits\\GFZ0MGXRAP_20251350000_01D_30S_CLK.CLK file is read in 5.44 seconds\n",
      "This file does not exist: C:\\Users\\varga\\Box\\Data\\nc Files\\MetSta\\aux_orbits\\GFZ0MGXRAP_20251360000_01D_30S_CLK.CLK\n",
      "Downloading: GFZ0MGXRAP_20251360000_01D_30S_CLK.CLK.gz"
     ]
    },
    {
     "name": "stderr",
     "output_type": "stream",
     "text": [
      "GFZ0MGXRAP_20251360000_01D_30S_CLK.CLK.gz: 4.73MB [00:03, 1.30MB/s]                            \n"
     ]
    },
    {
     "name": "stdout",
     "output_type": "stream",
     "text": [
      " | Download completed for GFZ0MGXRAP_20251360000_01D_30S_CLK.CLK.gz\n",
      "C:\\Users\\varga\\Box\\Data\\nc Files\\MetSta\\aux_orbits\\GFZ0MGXRAP_20251360000_01D_30S_CLK.CLK file is read in 3.27 seconds\n",
      "SP3 interpolation is done in 4.65 seconds\n",
      "Saved 103732 individual observations in C:\\Users\\varga\\Box\\Data\\nc Files\\MetSta\\processed\\MetStation_raw_20250515150831.nc\n",
      "[OK] MetStation_raw_20250515150831.25O\n",
      "Could not find any files matching the pattern C:\\Users\\varga\\Box\\Data\\nc Files\\MetSta\\processed*.nc\n",
      "C:\\Users\\varga\\Box\\Data\\nc Files\\MetSta\\MetStation_raw_20250516150831.25O exists | Reading...\n",
      "Observation file  C:\\Users\\varga\\Box\\Data\\nc Files\\MetSta\\MetStation_raw_20250516150831.25O  is read in 3.25 seconds.\n",
      "Processing 103187 individual observations\n",
      "Calculating Azimuth and Elevation\n",
      "C:\\Users\\varga\\Box\\Data\\nc Files\\MetSta\\aux_orbits\\GFZ0MGXRAP_20251360000_01D_05M_ORB.SP3 exists | Reading...\n",
      "C:\\Users\\varga\\Box\\Data\\nc Files\\MetSta\\aux_orbits\\GFZ0MGXRAP_20251360000_01D_05M_ORB.SP3 file is read in 0.88 seconds\n",
      "This file does not exist: C:\\Users\\varga\\Box\\Data\\nc Files\\MetSta\\aux_orbits\\GFZ0MGXRAP_20251370000_01D_05M_ORB.SP3\n",
      "Downloading: ftp://gssc.esa.int/gnss/products/2366//GFZ0MGXRAP_20251370000_01D_05M_ORB.SP3.gz"
     ]
    },
    {
     "name": "stderr",
     "output_type": "stream",
     "text": [
      "GFZ0MGXRAP_20251370000_01D_05M_ORB.SP3.gz: 1.03MB [00:03, 346kB/s]                             \n"
     ]
    },
    {
     "name": "stdout",
     "output_type": "stream",
     "text": [
      " | Download completed for ftp://gssc.esa.int/gnss/products/2366//GFZ0MGXRAP_20251370000_01D_05M_ORB.SP3.gz\n",
      "C:\\Users\\varga\\Box\\Data\\nc Files\\MetSta\\aux_orbits\\GFZ0MGXRAP_20251370000_01D_05M_ORB.SP3 file is read in 3.71 seconds\n",
      "C:\\Users\\varga\\Box\\Data\\nc Files\\MetSta\\aux_orbits\\GFZ0MGXRAP_20251360000_01D_30S_CLK.CLK exists | Reading...\n",
      "C:\\Users\\varga\\Box\\Data\\nc Files\\MetSta\\aux_orbits\\GFZ0MGXRAP_20251360000_01D_30S_CLK.CLK file is read in 3.18 seconds\n",
      "This file does not exist: C:\\Users\\varga\\Box\\Data\\nc Files\\MetSta\\aux_orbits\\GFZ0MGXRAP_20251370000_01D_30S_CLK.CLK\n",
      "Downloading: GFZ0MGXRAP_20251370000_01D_30S_CLK.CLK.gz"
     ]
    },
    {
     "name": "stderr",
     "output_type": "stream",
     "text": [
      "GFZ0MGXRAP_20251370000_01D_30S_CLK.CLK.gz: 4.71MB [00:03, 1.28MB/s]                            \n"
     ]
    },
    {
     "name": "stdout",
     "output_type": "stream",
     "text": [
      " | Download completed for GFZ0MGXRAP_20251370000_01D_30S_CLK.CLK.gz\n",
      "C:\\Users\\varga\\Box\\Data\\nc Files\\MetSta\\aux_orbits\\GFZ0MGXRAP_20251370000_01D_30S_CLK.CLK file is read in 3.97 seconds\n",
      "SP3 interpolation is done in 4.20 seconds\n",
      "Saved 103187 individual observations in C:\\Users\\varga\\Box\\Data\\nc Files\\MetSta\\processed\\MetStation_raw_20250516150831.nc\n",
      "[OK] MetStation_raw_20250516150831.25O\n",
      "Could not find any files matching the pattern C:\\Users\\varga\\Box\\Data\\nc Files\\MetSta\\processed*.nc\n",
      "C:\\Users\\varga\\Box\\Data\\nc Files\\MetSta\\MetStation_raw_20250517150832.25O exists | Reading...\n",
      "Observation file  C:\\Users\\varga\\Box\\Data\\nc Files\\MetSta\\MetStation_raw_20250517150832.25O  is read in 2.93 seconds.\n",
      "Processing 100638 individual observations\n",
      "Calculating Azimuth and Elevation\n",
      "C:\\Users\\varga\\Box\\Data\\nc Files\\MetSta\\aux_orbits\\GFZ0MGXRAP_20251370000_01D_05M_ORB.SP3 exists | Reading...\n",
      "C:\\Users\\varga\\Box\\Data\\nc Files\\MetSta\\aux_orbits\\GFZ0MGXRAP_20251370000_01D_05M_ORB.SP3 file is read in 0.49 seconds\n",
      "This file does not exist: C:\\Users\\varga\\Box\\Data\\nc Files\\MetSta\\aux_orbits\\GFZ0MGXRAP_20251380000_01D_05M_ORB.SP3\n",
      "Downloading: ftp://gssc.esa.int/gnss/products/2367//GFZ0MGXRAP_20251380000_01D_05M_ORB.SP3.gz"
     ]
    },
    {
     "name": "stderr",
     "output_type": "stream",
     "text": [
      "GFZ0MGXRAP_20251380000_01D_05M_ORB.SP3.gz: 1.05MB [00:03, 340kB/s]                             \n"
     ]
    },
    {
     "name": "stdout",
     "output_type": "stream",
     "text": [
      " | Download completed for ftp://gssc.esa.int/gnss/products/2367//GFZ0MGXRAP_20251380000_01D_05M_ORB.SP3.gz\n",
      "C:\\Users\\varga\\Box\\Data\\nc Files\\MetSta\\aux_orbits\\GFZ0MGXRAP_20251380000_01D_05M_ORB.SP3 file is read in 4.12 seconds\n",
      "C:\\Users\\varga\\Box\\Data\\nc Files\\MetSta\\aux_orbits\\GFZ0MGXRAP_20251370000_01D_30S_CLK.CLK exists | Reading...\n",
      "C:\\Users\\varga\\Box\\Data\\nc Files\\MetSta\\aux_orbits\\GFZ0MGXRAP_20251370000_01D_30S_CLK.CLK file is read in 3.51 seconds\n",
      "This file does not exist: C:\\Users\\varga\\Box\\Data\\nc Files\\MetSta\\aux_orbits\\GFZ0MGXRAP_20251380000_01D_30S_CLK.CLK\n",
      "Downloading: GFZ0MGXRAP_20251380000_01D_30S_CLK.CLK.gz"
     ]
    },
    {
     "name": "stderr",
     "output_type": "stream",
     "text": [
      "GFZ0MGXRAP_20251380000_01D_30S_CLK.CLK.gz: 4.78MB [00:05, 948kB/s]                             \n"
     ]
    },
    {
     "name": "stdout",
     "output_type": "stream",
     "text": [
      " | Download completed for GFZ0MGXRAP_20251380000_01D_30S_CLK.CLK.gz\n",
      "C:\\Users\\varga\\Box\\Data\\nc Files\\MetSta\\aux_orbits\\GFZ0MGXRAP_20251380000_01D_30S_CLK.CLK file is read in 12.12 seconds\n",
      "SP3 interpolation is done in 3.73 seconds\n",
      "Saved 100638 individual observations in C:\\Users\\varga\\Box\\Data\\nc Files\\MetSta\\processed\\MetStation_raw_20250517150832.nc\n",
      "[OK] MetStation_raw_20250517150832.25O\n",
      "Could not find any files matching the pattern C:\\Users\\varga\\Box\\Data\\nc Files\\MetSta\\processed*.nc\n",
      "C:\\Users\\varga\\Box\\Data\\nc Files\\MetSta\\MetStation_raw_20250518150832.25O exists | Reading...\n",
      "Observation file  C:\\Users\\varga\\Box\\Data\\nc Files\\MetSta\\MetStation_raw_20250518150832.25O  is read in 2.91 seconds.\n",
      "Processing 102355 individual observations\n",
      "Calculating Azimuth and Elevation\n",
      "C:\\Users\\varga\\Box\\Data\\nc Files\\MetSta\\aux_orbits\\GFZ0MGXRAP_20251380000_01D_05M_ORB.SP3 exists | Reading...\n",
      "C:\\Users\\varga\\Box\\Data\\nc Files\\MetSta\\aux_orbits\\GFZ0MGXRAP_20251380000_01D_05M_ORB.SP3 file is read in 0.45 seconds\n",
      "This file does not exist: C:\\Users\\varga\\Box\\Data\\nc Files\\MetSta\\aux_orbits\\GFZ0MGXRAP_20251390000_01D_05M_ORB.SP3\n",
      "Downloading: ftp://gssc.esa.int/gnss/products/2367//GFZ0MGXRAP_20251390000_01D_05M_ORB.SP3.gz"
     ]
    },
    {
     "name": "stderr",
     "output_type": "stream",
     "text": [
      "GFZ0MGXRAP_20251390000_01D_05M_ORB.SP3.gz: 1.05MB [00:05, 190kB/s]                             \n"
     ]
    },
    {
     "name": "stdout",
     "output_type": "stream",
     "text": [
      " | Download completed for ftp://gssc.esa.int/gnss/products/2367//GFZ0MGXRAP_20251390000_01D_05M_ORB.SP3.gz\n",
      "C:\\Users\\varga\\Box\\Data\\nc Files\\MetSta\\aux_orbits\\GFZ0MGXRAP_20251390000_01D_05M_ORB.SP3 file is read in 12.69 seconds\n",
      "C:\\Users\\varga\\Box\\Data\\nc Files\\MetSta\\aux_orbits\\GFZ0MGXRAP_20251380000_01D_30S_CLK.CLK exists | Reading...\n",
      "C:\\Users\\varga\\Box\\Data\\nc Files\\MetSta\\aux_orbits\\GFZ0MGXRAP_20251380000_01D_30S_CLK.CLK file is read in 3.62 seconds\n",
      "This file does not exist: C:\\Users\\varga\\Box\\Data\\nc Files\\MetSta\\aux_orbits\\GFZ0MGXRAP_20251390000_01D_30S_CLK.CLK\n",
      "Downloading: GFZ0MGXRAP_20251390000_01D_30S_CLK.CLK.gz"
     ]
    },
    {
     "name": "stderr",
     "output_type": "stream",
     "text": [
      "GFZ0MGXRAP_20251390000_01D_30S_CLK.CLK.gz: 4.79MB [00:04, 1.23MB/s]                            \n"
     ]
    },
    {
     "name": "stdout",
     "output_type": "stream",
     "text": [
      " | Download completed for GFZ0MGXRAP_20251390000_01D_30S_CLK.CLK.gz\n",
      "C:\\Users\\varga\\Box\\Data\\nc Files\\MetSta\\aux_orbits\\GFZ0MGXRAP_20251390000_01D_30S_CLK.CLK file is read in 2.73 seconds\n",
      "SP3 interpolation is done in 5.09 seconds\n",
      "Saved 102355 individual observations in C:\\Users\\varga\\Box\\Data\\nc Files\\MetSta\\processed\\MetStation_raw_20250518150832.nc\n",
      "[OK] MetStation_raw_20250518150832.25O\n",
      "Could not find any files matching the pattern C:\\Users\\varga\\Box\\Data\\nc Files\\MetSta\\processed*.nc\n",
      "C:\\Users\\varga\\Box\\Data\\nc Files\\MetSta\\MetStation_raw_20250519150833.25O exists | Reading...\n",
      "Observation file  C:\\Users\\varga\\Box\\Data\\nc Files\\MetSta\\MetStation_raw_20250519150833.25O  is read in 3.05 seconds.\n",
      "Processing 102450 individual observations\n",
      "Calculating Azimuth and Elevation\n",
      "C:\\Users\\varga\\Box\\Data\\nc Files\\MetSta\\aux_orbits\\GFZ0MGXRAP_20251390000_01D_05M_ORB.SP3 exists | Reading...\n",
      "C:\\Users\\varga\\Box\\Data\\nc Files\\MetSta\\aux_orbits\\GFZ0MGXRAP_20251390000_01D_05M_ORB.SP3 file is read in 0.73 seconds\n",
      "This file does not exist: C:\\Users\\varga\\Box\\Data\\nc Files\\MetSta\\aux_orbits\\GFZ0MGXRAP_20251400000_01D_05M_ORB.SP3\n",
      "Downloading: ftp://gssc.esa.int/gnss/products/2367//GFZ0MGXRAP_20251400000_01D_05M_ORB.SP3.gz"
     ]
    },
    {
     "name": "stderr",
     "output_type": "stream",
     "text": [
      "GFZ0MGXRAP_20251400000_01D_05M_ORB.SP3.gz: 1.05MB [00:03, 347kB/s]                             \n"
     ]
    },
    {
     "name": "stdout",
     "output_type": "stream",
     "text": [
      " | Download completed for ftp://gssc.esa.int/gnss/products/2367//GFZ0MGXRAP_20251400000_01D_05M_ORB.SP3.gz\n",
      "C:\\Users\\varga\\Box\\Data\\nc Files\\MetSta\\aux_orbits\\GFZ0MGXRAP_20251400000_01D_05M_ORB.SP3 file is read in 3.75 seconds\n",
      "C:\\Users\\varga\\Box\\Data\\nc Files\\MetSta\\aux_orbits\\GFZ0MGXRAP_20251390000_01D_30S_CLK.CLK exists | Reading...\n",
      "C:\\Users\\varga\\Box\\Data\\nc Files\\MetSta\\aux_orbits\\GFZ0MGXRAP_20251390000_01D_30S_CLK.CLK file is read in 3.29 seconds\n",
      "This file does not exist: C:\\Users\\varga\\Box\\Data\\nc Files\\MetSta\\aux_orbits\\GFZ0MGXRAP_20251400000_01D_30S_CLK.CLK\n",
      "Downloading: GFZ0MGXRAP_20251400000_01D_30S_CLK.CLK.gz"
     ]
    },
    {
     "name": "stderr",
     "output_type": "stream",
     "text": [
      "GFZ0MGXRAP_20251400000_01D_30S_CLK.CLK.gz: 4.80MB [00:12, 406kB/s]                             \n"
     ]
    },
    {
     "name": "stdout",
     "output_type": "stream",
     "text": [
      " | Download completed for GFZ0MGXRAP_20251400000_01D_30S_CLK.CLK.gz\n",
      "C:\\Users\\varga\\Box\\Data\\nc Files\\MetSta\\aux_orbits\\GFZ0MGXRAP_20251400000_01D_30S_CLK.CLK file is read in 13.25 seconds\n",
      "SP3 interpolation is done in 5.22 seconds\n",
      "Saved 102450 individual observations in C:\\Users\\varga\\Box\\Data\\nc Files\\MetSta\\processed\\MetStation_raw_20250519150833.nc\n",
      "[OK] MetStation_raw_20250519150833.25O\n",
      "Could not find any files matching the pattern C:\\Users\\varga\\Box\\Data\\nc Files\\MetSta\\processed*.nc\n",
      "C:\\Users\\varga\\Box\\Data\\nc Files\\MetSta\\MetStation_raw_20250520150834.25O exists | Reading...\n",
      "Observation file  C:\\Users\\varga\\Box\\Data\\nc Files\\MetSta\\MetStation_raw_20250520150834.25O  is read in 0.59 seconds.\n",
      "Processing 18223 individual observations\n",
      "Calculating Azimuth and Elevation\n",
      "C:\\Users\\varga\\Box\\Data\\nc Files\\MetSta\\aux_orbits\\GFZ0MGXRAP_20251400000_01D_05M_ORB.SP3 exists | Reading...\n",
      "C:\\Users\\varga\\Box\\Data\\nc Files\\MetSta\\aux_orbits\\GFZ0MGXRAP_20251400000_01D_05M_ORB.SP3 file is read in 0.60 seconds\n",
      "C:\\Users\\varga\\Box\\Data\\nc Files\\MetSta\\aux_orbits\\GFZ0MGXRAP_20251400000_01D_30S_CLK.CLK exists | Reading...\n",
      "C:\\Users\\varga\\Box\\Data\\nc Files\\MetSta\\aux_orbits\\GFZ0MGXRAP_20251400000_01D_30S_CLK.CLK file is read in 25.04 seconds\n",
      "SP3 interpolation is done in 2.25 seconds\n",
      "Saved 18223 individual observations in C:\\Users\\varga\\Box\\Data\\nc Files\\MetSta\\processed\\MetStation_raw_20250520150834.nc\n",
      "[OK] MetStation_raw_20250520150834.25O\n",
      "Could not find any files matching the pattern C:\\Users\\varga\\Box\\Data\\nc Files\\MetSta\\processed*.nc\n",
      "C:\\Users\\varga\\Box\\Data\\nc Files\\MetSta\\MetStation_raw_20250520191911.25O exists | Reading...\n",
      "Observation file  C:\\Users\\varga\\Box\\Data\\nc Files\\MetSta\\MetStation_raw_20250520191911.25O  is read in 878.43 seconds.\n",
      "Processing 102780 individual observations\n",
      "Calculating Azimuth and Elevation\n",
      "C:\\Users\\varga\\Box\\Data\\nc Files\\MetSta\\aux_orbits\\GFZ0MGXRAP_20251400000_01D_05M_ORB.SP3 exists | Reading...\n",
      "C:\\Users\\varga\\Box\\Data\\nc Files\\MetSta\\aux_orbits\\GFZ0MGXRAP_20251400000_01D_05M_ORB.SP3 file is read in 1.07 seconds\n",
      "This file does not exist: C:\\Users\\varga\\Box\\Data\\nc Files\\MetSta\\aux_orbits\\GFZ0MGXRAP_20251410000_01D_05M_ORB.SP3\n",
      "Downloading: ftp://gssc.esa.int/gnss/products/2367//GFZ0MGXRAP_20251410000_01D_05M_ORB.SP3.gz"
     ]
    },
    {
     "name": "stderr",
     "output_type": "stream",
     "text": [
      "GFZ0MGXRAP_20251410000_01D_05M_ORB.SP3.gz: 1.04MB [00:04, 250kB/s]                             \n"
     ]
    },
    {
     "name": "stdout",
     "output_type": "stream",
     "text": [
      " | Download completed for ftp://gssc.esa.int/gnss/products/2367//GFZ0MGXRAP_20251410000_01D_05M_ORB.SP3.gz\n",
      "C:\\Users\\varga\\Box\\Data\\nc Files\\MetSta\\aux_orbits\\GFZ0MGXRAP_20251410000_01D_05M_ORB.SP3 file is read in 5.89 seconds\n",
      "C:\\Users\\varga\\Box\\Data\\nc Files\\MetSta\\aux_orbits\\GFZ0MGXRAP_20251400000_01D_30S_CLK.CLK exists | Reading...\n",
      "C:\\Users\\varga\\Box\\Data\\nc Files\\MetSta\\aux_orbits\\GFZ0MGXRAP_20251400000_01D_30S_CLK.CLK file is read in 8.83 seconds\n",
      "This file does not exist: C:\\Users\\varga\\Box\\Data\\nc Files\\MetSta\\aux_orbits\\GFZ0MGXRAP_20251410000_01D_30S_CLK.CLK\n",
      "Downloading: GFZ0MGXRAP_20251410000_01D_30S_CLK.CLK.gz"
     ]
    },
    {
     "name": "stderr",
     "output_type": "stream",
     "text": [
      "GFZ0MGXRAP_20251410000_01D_30S_CLK.CLK.gz: 4.75MB [00:04, 1.05MB/s]                            \n"
     ]
    },
    {
     "name": "stdout",
     "output_type": "stream",
     "text": [
      " | Download completed for GFZ0MGXRAP_20251410000_01D_30S_CLK.CLK.gz\n",
      "C:\\Users\\varga\\Box\\Data\\nc Files\\MetSta\\aux_orbits\\GFZ0MGXRAP_20251410000_01D_30S_CLK.CLK file is read in 6.48 seconds\n",
      "SP3 interpolation is done in 8.22 seconds\n",
      "Saved 102780 individual observations in C:\\Users\\varga\\Box\\Data\\nc Files\\MetSta\\processed\\MetStation_raw_20250520191911.nc\n",
      "[OK] MetStation_raw_20250520191911.25O\n",
      "Could not find any files matching the pattern C:\\Users\\varga\\Box\\Data\\nc Files\\MetSta\\processed*.nc\n",
      "C:\\Users\\varga\\Box\\Data\\nc Files\\MetSta\\MetStation_raw_20250521191913.25O exists | Reading...\n",
      "Observation file  C:\\Users\\varga\\Box\\Data\\nc Files\\MetSta\\MetStation_raw_20250521191913.25O  is read in 5.86 seconds.\n",
      "Processing 99815 individual observations\n",
      "Calculating Azimuth and Elevation\n",
      "C:\\Users\\varga\\Box\\Data\\nc Files\\MetSta\\aux_orbits\\GFZ0MGXRAP_20251410000_01D_05M_ORB.SP3 exists | Reading...\n",
      "C:\\Users\\varga\\Box\\Data\\nc Files\\MetSta\\aux_orbits\\GFZ0MGXRAP_20251410000_01D_05M_ORB.SP3 file is read in 0.61 seconds\n",
      "This file does not exist: C:\\Users\\varga\\Box\\Data\\nc Files\\MetSta\\aux_orbits\\GFZ0MGXRAP_20251420000_01D_05M_ORB.SP3\n",
      "Downloading: ftp://gssc.esa.int/gnss/products/2367//GFZ0MGXRAP_20251420000_01D_05M_ORB.SP3.gz"
     ]
    },
    {
     "name": "stderr",
     "output_type": "stream",
     "text": [
      "GFZ0MGXRAP_20251420000_01D_05M_ORB.SP3.gz: 1.03MB [00:03, 334kB/s]                             \n"
     ]
    },
    {
     "name": "stdout",
     "output_type": "stream",
     "text": [
      " | Download completed for ftp://gssc.esa.int/gnss/products/2367//GFZ0MGXRAP_20251420000_01D_05M_ORB.SP3.gz\n",
      "C:\\Users\\varga\\Box\\Data\\nc Files\\MetSta\\aux_orbits\\GFZ0MGXRAP_20251420000_01D_05M_ORB.SP3 file is read in 4.45 seconds\n",
      "C:\\Users\\varga\\Box\\Data\\nc Files\\MetSta\\aux_orbits\\GFZ0MGXRAP_20251410000_01D_30S_CLK.CLK exists | Reading...\n",
      "C:\\Users\\varga\\Box\\Data\\nc Files\\MetSta\\aux_orbits\\GFZ0MGXRAP_20251410000_01D_30S_CLK.CLK file is read in 2.95 seconds\n",
      "This file does not exist: C:\\Users\\varga\\Box\\Data\\nc Files\\MetSta\\aux_orbits\\GFZ0MGXRAP_20251420000_01D_30S_CLK.CLK\n",
      "Downloading: GFZ0MGXRAP_20251420000_01D_30S_CLK.CLK.gz"
     ]
    },
    {
     "name": "stderr",
     "output_type": "stream",
     "text": [
      "GFZ0MGXRAP_20251420000_01D_30S_CLK.CLK.gz: 4.74MB [00:03, 1.28MB/s]                            \n"
     ]
    },
    {
     "name": "stdout",
     "output_type": "stream",
     "text": [
      " | Download completed for GFZ0MGXRAP_20251420000_01D_30S_CLK.CLK.gz\n",
      "C:\\Users\\varga\\Box\\Data\\nc Files\\MetSta\\aux_orbits\\GFZ0MGXRAP_20251420000_01D_30S_CLK.CLK file is read in 2.68 seconds\n",
      "SP3 interpolation is done in 2.85 seconds\n",
      "Saved 99815 individual observations in C:\\Users\\varga\\Box\\Data\\nc Files\\MetSta\\processed\\MetStation_raw_20250521191913.nc\n",
      "[OK] MetStation_raw_20250521191913.25O\n",
      "Could not find any files matching the pattern C:\\Users\\varga\\Box\\Data\\nc Files\\MetSta\\processed*.nc\n",
      "C:\\Users\\varga\\Box\\Data\\nc Files\\MetSta\\MetStation_raw_20250522191914.25O exists | Reading...\n",
      "Observation file  C:\\Users\\varga\\Box\\Data\\nc Files\\MetSta\\MetStation_raw_20250522191914.25O  is read in 4.77 seconds.\n",
      "Processing 102642 individual observations\n",
      "Calculating Azimuth and Elevation\n",
      "C:\\Users\\varga\\Box\\Data\\nc Files\\MetSta\\aux_orbits\\GFZ0MGXRAP_20251420000_01D_05M_ORB.SP3 exists | Reading...\n",
      "C:\\Users\\varga\\Box\\Data\\nc Files\\MetSta\\aux_orbits\\GFZ0MGXRAP_20251420000_01D_05M_ORB.SP3 file is read in 0.39 seconds\n",
      "This file does not exist: C:\\Users\\varga\\Box\\Data\\nc Files\\MetSta\\aux_orbits\\GFZ0MGXRAP_20251430000_01D_05M_ORB.SP3\n",
      "Downloading: ftp://gssc.esa.int/gnss/products/2367//GFZ0MGXRAP_20251430000_01D_05M_ORB.SP3.gz"
     ]
    },
    {
     "name": "stderr",
     "output_type": "stream",
     "text": [
      "GFZ0MGXRAP_20251430000_01D_05M_ORB.SP3.gz: 1.05MB [00:03, 342kB/s]                             \n"
     ]
    },
    {
     "name": "stdout",
     "output_type": "stream",
     "text": [
      " | Download completed for ftp://gssc.esa.int/gnss/products/2367//GFZ0MGXRAP_20251430000_01D_05M_ORB.SP3.gz\n",
      "C:\\Users\\varga\\Box\\Data\\nc Files\\MetSta\\aux_orbits\\GFZ0MGXRAP_20251430000_01D_05M_ORB.SP3 file is read in 3.72 seconds\n",
      "C:\\Users\\varga\\Box\\Data\\nc Files\\MetSta\\aux_orbits\\GFZ0MGXRAP_20251420000_01D_30S_CLK.CLK exists | Reading...\n",
      "C:\\Users\\varga\\Box\\Data\\nc Files\\MetSta\\aux_orbits\\GFZ0MGXRAP_20251420000_01D_30S_CLK.CLK file is read in 2.85 seconds\n",
      "This file does not exist: C:\\Users\\varga\\Box\\Data\\nc Files\\MetSta\\aux_orbits\\GFZ0MGXRAP_20251430000_01D_30S_CLK.CLK\n",
      "Downloading: GFZ0MGXRAP_20251430000_01D_30S_CLK.CLK.gz"
     ]
    },
    {
     "name": "stderr",
     "output_type": "stream",
     "text": [
      "GFZ0MGXRAP_20251430000_01D_30S_CLK.CLK.gz: 4.78MB [00:03, 1.29MB/s]                            \n"
     ]
    },
    {
     "name": "stdout",
     "output_type": "stream",
     "text": [
      " | Download completed for GFZ0MGXRAP_20251430000_01D_30S_CLK.CLK.gz\n",
      "C:\\Users\\varga\\Box\\Data\\nc Files\\MetSta\\aux_orbits\\GFZ0MGXRAP_20251430000_01D_30S_CLK.CLK file is read in 2.62 seconds\n",
      "SP3 interpolation is done in 2.98 seconds\n",
      "Saved 102642 individual observations in C:\\Users\\varga\\Box\\Data\\nc Files\\MetSta\\processed\\MetStation_raw_20250522191914.nc\n",
      "[OK] MetStation_raw_20250522191914.25O\n",
      "Could not find any files matching the pattern C:\\Users\\varga\\Box\\Data\\nc Files\\MetSta\\processed*.nc\n",
      "C:\\Users\\varga\\Box\\Data\\nc Files\\MetSta\\MetStation_raw_20250523191914.25O exists | Reading...\n",
      "Observation file  C:\\Users\\varga\\Box\\Data\\nc Files\\MetSta\\MetStation_raw_20250523191914.25O  is read in 3.49 seconds.\n",
      "Processing 103753 individual observations\n",
      "Calculating Azimuth and Elevation\n",
      "C:\\Users\\varga\\Box\\Data\\nc Files\\MetSta\\aux_orbits\\GFZ0MGXRAP_20251430000_01D_05M_ORB.SP3 exists | Reading...\n",
      "C:\\Users\\varga\\Box\\Data\\nc Files\\MetSta\\aux_orbits\\GFZ0MGXRAP_20251430000_01D_05M_ORB.SP3 file is read in 0.67 seconds\n",
      "This file does not exist: C:\\Users\\varga\\Box\\Data\\nc Files\\MetSta\\aux_orbits\\GFZ0MGXRAP_20251440000_01D_05M_ORB.SP3\n",
      "Downloading: ftp://gssc.esa.int/gnss/products/2367//GFZ0MGXRAP_20251440000_01D_05M_ORB.SP3.gz"
     ]
    },
    {
     "name": "stderr",
     "output_type": "stream",
     "text": [
      "GFZ0MGXRAP_20251440000_01D_05M_ORB.SP3.gz: 1.05MB [00:03, 337kB/s]                             \n"
     ]
    },
    {
     "name": "stdout",
     "output_type": "stream",
     "text": [
      " | Download completed for ftp://gssc.esa.int/gnss/products/2367//GFZ0MGXRAP_20251440000_01D_05M_ORB.SP3.gz\n",
      "C:\\Users\\varga\\Box\\Data\\nc Files\\MetSta\\aux_orbits\\GFZ0MGXRAP_20251440000_01D_05M_ORB.SP3 file is read in 4.23 seconds\n",
      "C:\\Users\\varga\\Box\\Data\\nc Files\\MetSta\\aux_orbits\\GFZ0MGXRAP_20251430000_01D_30S_CLK.CLK exists | Reading...\n",
      "C:\\Users\\varga\\Box\\Data\\nc Files\\MetSta\\aux_orbits\\GFZ0MGXRAP_20251430000_01D_30S_CLK.CLK file is read in 3.20 seconds\n",
      "This file does not exist: C:\\Users\\varga\\Box\\Data\\nc Files\\MetSta\\aux_orbits\\GFZ0MGXRAP_20251440000_01D_30S_CLK.CLK\n",
      "Downloading: GFZ0MGXRAP_20251440000_01D_30S_CLK.CLK.gz"
     ]
    },
    {
     "name": "stderr",
     "output_type": "stream",
     "text": [
      "GFZ0MGXRAP_20251440000_01D_30S_CLK.CLK.gz: 4.80MB [00:04, 1.07MB/s]                            \n"
     ]
    },
    {
     "name": "stdout",
     "output_type": "stream",
     "text": [
      " | Download completed for GFZ0MGXRAP_20251440000_01D_30S_CLK.CLK.gz\n",
      "C:\\Users\\varga\\Box\\Data\\nc Files\\MetSta\\aux_orbits\\GFZ0MGXRAP_20251440000_01D_30S_CLK.CLK file is read in 3.30 seconds\n",
      "SP3 interpolation is done in 5.70 seconds\n",
      "Saved 103753 individual observations in C:\\Users\\varga\\Box\\Data\\nc Files\\MetSta\\processed\\MetStation_raw_20250523191914.nc\n",
      "[OK] MetStation_raw_20250523191914.25O\n",
      "Could not find any files matching the pattern C:\\Users\\varga\\Box\\Data\\nc Files\\MetSta\\processed*.nc\n",
      "C:\\Users\\varga\\Box\\Data\\nc Files\\MetSta\\MetStation_raw_20250524191915.25O exists | Reading...\n",
      "Observation file  C:\\Users\\varga\\Box\\Data\\nc Files\\MetSta\\MetStation_raw_20250524191915.25O  is read in 3.07 seconds.\n",
      "Processing 99624 individual observations\n",
      "Calculating Azimuth and Elevation\n",
      "C:\\Users\\varga\\Box\\Data\\nc Files\\MetSta\\aux_orbits\\GFZ0MGXRAP_20251440000_01D_05M_ORB.SP3 exists | Reading...\n",
      "C:\\Users\\varga\\Box\\Data\\nc Files\\MetSta\\aux_orbits\\GFZ0MGXRAP_20251440000_01D_05M_ORB.SP3 file is read in 0.50 seconds\n",
      "This file does not exist: C:\\Users\\varga\\Box\\Data\\nc Files\\MetSta\\aux_orbits\\GFZ0MGXRAP_20251450000_01D_05M_ORB.SP3\n",
      "Downloading: ftp://gssc.esa.int/gnss/products/2368//GFZ0MGXRAP_20251450000_01D_05M_ORB.SP3.gz"
     ]
    },
    {
     "name": "stderr",
     "output_type": "stream",
     "text": [
      "GFZ0MGXRAP_20251450000_01D_05M_ORB.SP3.gz: 1.05MB [00:03, 347kB/s]                             \n"
     ]
    },
    {
     "name": "stdout",
     "output_type": "stream",
     "text": [
      " | Download completed for ftp://gssc.esa.int/gnss/products/2368//GFZ0MGXRAP_20251450000_01D_05M_ORB.SP3.gz\n",
      "C:\\Users\\varga\\Box\\Data\\nc Files\\MetSta\\aux_orbits\\GFZ0MGXRAP_20251450000_01D_05M_ORB.SP3 file is read in 4.05 seconds\n",
      "C:\\Users\\varga\\Box\\Data\\nc Files\\MetSta\\aux_orbits\\GFZ0MGXRAP_20251440000_01D_30S_CLK.CLK exists | Reading...\n",
      "C:\\Users\\varga\\Box\\Data\\nc Files\\MetSta\\aux_orbits\\GFZ0MGXRAP_20251440000_01D_30S_CLK.CLK file is read in 3.11 seconds\n",
      "This file does not exist: C:\\Users\\varga\\Box\\Data\\nc Files\\MetSta\\aux_orbits\\GFZ0MGXRAP_20251450000_01D_30S_CLK.CLK\n",
      "Downloading: GFZ0MGXRAP_20251450000_01D_30S_CLK.CLK.gz"
     ]
    },
    {
     "name": "stderr",
     "output_type": "stream",
     "text": [
      "GFZ0MGXRAP_20251450000_01D_30S_CLK.CLK.gz: 4.80MB [00:03, 1.29MB/s]                            \n"
     ]
    },
    {
     "name": "stdout",
     "output_type": "stream",
     "text": [
      " | Download completed for GFZ0MGXRAP_20251450000_01D_30S_CLK.CLK.gz\n",
      "C:\\Users\\varga\\Box\\Data\\nc Files\\MetSta\\aux_orbits\\GFZ0MGXRAP_20251450000_01D_30S_CLK.CLK file is read in 18.92 seconds\n",
      "SP3 interpolation is done in 3.98 seconds\n",
      "Saved 99624 individual observations in C:\\Users\\varga\\Box\\Data\\nc Files\\MetSta\\processed\\MetStation_raw_20250524191915.nc\n",
      "[OK] MetStation_raw_20250524191915.25O\n",
      "Could not find any files matching the pattern C:\\Users\\varga\\Box\\Data\\nc Files\\MetSta\\processed*.nc\n",
      "C:\\Users\\varga\\Box\\Data\\nc Files\\MetSta\\MetStation_raw_20250525191916.25O exists | Reading...\n",
      "Observation file  C:\\Users\\varga\\Box\\Data\\nc Files\\MetSta\\MetStation_raw_20250525191916.25O  is read in 2.97 seconds.\n",
      "Processing 101679 individual observations\n",
      "Calculating Azimuth and Elevation\n",
      "C:\\Users\\varga\\Box\\Data\\nc Files\\MetSta\\aux_orbits\\GFZ0MGXRAP_20251450000_01D_05M_ORB.SP3 exists | Reading...\n",
      "C:\\Users\\varga\\Box\\Data\\nc Files\\MetSta\\aux_orbits\\GFZ0MGXRAP_20251450000_01D_05M_ORB.SP3 file is read in 0.51 seconds\n",
      "This file does not exist: C:\\Users\\varga\\Box\\Data\\nc Files\\MetSta\\aux_orbits\\GFZ0MGXRAP_20251460000_01D_05M_ORB.SP3\n",
      "Downloading: ftp://gssc.esa.int/gnss/products/2368//GFZ0MGXRAP_20251460000_01D_05M_ORB.SP3.gz"
     ]
    },
    {
     "name": "stderr",
     "output_type": "stream",
     "text": [
      "GFZ0MGXRAP_20251460000_01D_05M_ORB.SP3.gz: 1.03MB [00:03, 333kB/s]                             \n"
     ]
    },
    {
     "name": "stdout",
     "output_type": "stream",
     "text": [
      " | Download completed for ftp://gssc.esa.int/gnss/products/2368//GFZ0MGXRAP_20251460000_01D_05M_ORB.SP3.gz\n",
      "C:\\Users\\varga\\Box\\Data\\nc Files\\MetSta\\aux_orbits\\GFZ0MGXRAP_20251460000_01D_05M_ORB.SP3 file is read in 4.15 seconds\n",
      "C:\\Users\\varga\\Box\\Data\\nc Files\\MetSta\\aux_orbits\\GFZ0MGXRAP_20251450000_01D_30S_CLK.CLK exists | Reading...\n",
      "C:\\Users\\varga\\Box\\Data\\nc Files\\MetSta\\aux_orbits\\GFZ0MGXRAP_20251450000_01D_30S_CLK.CLK file is read in 21.56 seconds\n",
      "This file does not exist: C:\\Users\\varga\\Box\\Data\\nc Files\\MetSta\\aux_orbits\\GFZ0MGXRAP_20251460000_01D_30S_CLK.CLK\n",
      "Downloading: GFZ0MGXRAP_20251460000_01D_30S_CLK.CLK.gz"
     ]
    },
    {
     "name": "stderr",
     "output_type": "stream",
     "text": [
      "GFZ0MGXRAP_20251460000_01D_30S_CLK.CLK.gz: 4.74MB [00:03, 1.30MB/s]                            \n"
     ]
    },
    {
     "name": "stdout",
     "output_type": "stream",
     "text": [
      " | Download completed for GFZ0MGXRAP_20251460000_01D_30S_CLK.CLK.gz\n",
      "C:\\Users\\varga\\Box\\Data\\nc Files\\MetSta\\aux_orbits\\GFZ0MGXRAP_20251460000_01D_30S_CLK.CLK file is read in 3.56 seconds\n",
      "SP3 interpolation is done in 2795.39 seconds\n",
      "Saved 101679 individual observations in C:\\Users\\varga\\Box\\Data\\nc Files\\MetSta\\processed\\MetStation_raw_20250525191916.nc\n",
      "[OK] MetStation_raw_20250525191916.25O\n",
      "Could not find any files matching the pattern C:\\Users\\varga\\Box\\Data\\nc Files\\MetSta\\processed*.nc\n",
      "C:\\Users\\varga\\Box\\Data\\nc Files\\MetSta\\MetStation_raw_20250526191916.25O exists | Reading...\n",
      "Observation file  C:\\Users\\varga\\Box\\Data\\nc Files\\MetSta\\MetStation_raw_20250526191916.25O  is read in 3.41 seconds.\n",
      "Processing 77494 individual observations\n",
      "Calculating Azimuth and Elevation\n",
      "C:\\Users\\varga\\Box\\Data\\nc Files\\MetSta\\aux_orbits\\GFZ0MGXRAP_20251460000_01D_05M_ORB.SP3 exists | Reading...\n",
      "C:\\Users\\varga\\Box\\Data\\nc Files\\MetSta\\aux_orbits\\GFZ0MGXRAP_20251460000_01D_05M_ORB.SP3 file is read in 0.78 seconds\n",
      "This file does not exist: C:\\Users\\varga\\Box\\Data\\nc Files\\MetSta\\aux_orbits\\GFZ0MGXRAP_20251470000_01D_05M_ORB.SP3\n",
      "Downloading: ftp://gssc.esa.int/gnss/products/2368//GFZ0MGXRAP_20251470000_01D_05M_ORB.SP3.gz"
     ]
    },
    {
     "name": "stderr",
     "output_type": "stream",
     "text": [
      "GFZ0MGXRAP_20251470000_01D_05M_ORB.SP3.gz: 1.04MB [00:06, 180kB/s]                             \n"
     ]
    },
    {
     "name": "stdout",
     "output_type": "stream",
     "text": [
      " | Download completed for ftp://gssc.esa.int/gnss/products/2368//GFZ0MGXRAP_20251470000_01D_05M_ORB.SP3.gz\n",
      "C:\\Users\\varga\\Box\\Data\\nc Files\\MetSta\\aux_orbits\\GFZ0MGXRAP_20251470000_01D_05M_ORB.SP3 file is read in 7.94 seconds\n",
      "C:\\Users\\varga\\Box\\Data\\nc Files\\MetSta\\aux_orbits\\GFZ0MGXRAP_20251460000_01D_30S_CLK.CLK exists | Reading...\n",
      "C:\\Users\\varga\\Box\\Data\\nc Files\\MetSta\\aux_orbits\\GFZ0MGXRAP_20251460000_01D_30S_CLK.CLK file is read in 13.66 seconds\n",
      "This file does not exist: C:\\Users\\varga\\Box\\Data\\nc Files\\MetSta\\aux_orbits\\GFZ0MGXRAP_20251470000_01D_30S_CLK.CLK\n",
      "Downloading: GFZ0MGXRAP_20251470000_01D_30S_CLK.CLK.gz"
     ]
    },
    {
     "name": "stderr",
     "output_type": "stream",
     "text": [
      "GFZ0MGXRAP_20251470000_01D_30S_CLK.CLK.gz: 4.76MB [00:03, 1.34MB/s]                            \n"
     ]
    },
    {
     "name": "stdout",
     "output_type": "stream",
     "text": [
      " | Download completed for GFZ0MGXRAP_20251470000_01D_30S_CLK.CLK.gz\n",
      "C:\\Users\\varga\\Box\\Data\\nc Files\\MetSta\\aux_orbits\\GFZ0MGXRAP_20251470000_01D_30S_CLK.CLK file is read in 3.24 seconds\n",
      "SP3 interpolation is done in 3.58 seconds\n",
      "Saved 77494 individual observations in C:\\Users\\varga\\Box\\Data\\nc Files\\MetSta\\processed\\MetStation_raw_20250526191916.nc\n",
      "[OK] MetStation_raw_20250526191916.25O\n",
      "Could not find any files matching the pattern C:\\Users\\varga\\Box\\Data\\nc Files\\MetSta\\processed*.nc\n",
      "C:\\Users\\varga\\Box\\Data\\nc Files\\MetSta\\MetStation_raw_20250528221758.25O exists | Reading...\n",
      "Observation file  C:\\Users\\varga\\Box\\Data\\nc Files\\MetSta\\MetStation_raw_20250528221758.25O  is read in 2.62 seconds.\n",
      "Processing 99709 individual observations\n",
      "Calculating Azimuth and Elevation\n",
      "This file does not exist: C:\\Users\\varga\\Box\\Data\\nc Files\\MetSta\\aux_orbits\\GFZ0MGXRAP_20251480000_01D_05M_ORB.SP3\n",
      "Downloading: ftp://gssc.esa.int/gnss/products/2368//GFZ0MGXRAP_20251480000_01D_05M_ORB.SP3.gz"
     ]
    },
    {
     "name": "stderr",
     "output_type": "stream",
     "text": [
      "GFZ0MGXRAP_20251480000_01D_05M_ORB.SP3.gz: 1.04MB [00:03, 347kB/s]                             \n"
     ]
    },
    {
     "name": "stdout",
     "output_type": "stream",
     "text": [
      " | Download completed for ftp://gssc.esa.int/gnss/products/2368//GFZ0MGXRAP_20251480000_01D_05M_ORB.SP3.gz\n",
      "C:\\Users\\varga\\Box\\Data\\nc Files\\MetSta\\aux_orbits\\GFZ0MGXRAP_20251480000_01D_05M_ORB.SP3 file is read in 3.90 seconds\n",
      "This file does not exist: C:\\Users\\varga\\Box\\Data\\nc Files\\MetSta\\aux_orbits\\GFZ0MGXRAP_20251490000_01D_05M_ORB.SP3\n",
      "Downloading: ftp://gssc.esa.int/gnss/products/2368//GFZ0MGXRAP_20251490000_01D_05M_ORB.SP3.gz"
     ]
    },
    {
     "name": "stderr",
     "output_type": "stream",
     "text": [
      "GFZ0MGXRAP_20251490000_01D_05M_ORB.SP3.gz: 1.05MB [00:03, 339kB/s]                             \n"
     ]
    },
    {
     "name": "stdout",
     "output_type": "stream",
     "text": [
      " | Download completed for ftp://gssc.esa.int/gnss/products/2368//GFZ0MGXRAP_20251490000_01D_05M_ORB.SP3.gz\n",
      "C:\\Users\\varga\\Box\\Data\\nc Files\\MetSta\\aux_orbits\\GFZ0MGXRAP_20251490000_01D_05M_ORB.SP3 file is read in 3.78 seconds\n",
      "This file does not exist: C:\\Users\\varga\\Box\\Data\\nc Files\\MetSta\\aux_orbits\\GFZ0MGXRAP_20251500000_01D_05M_ORB.SP3\n",
      "Downloading: ftp://gssc.esa.int/gnss/products/2368//GFZ0MGXRAP_20251500000_01D_05M_ORB.SP3.gz"
     ]
    },
    {
     "name": "stderr",
     "output_type": "stream",
     "text": [
      "GFZ0MGXRAP_20251500000_01D_05M_ORB.SP3.gz: 1.05MB [00:03, 344kB/s]                             \n"
     ]
    },
    {
     "name": "stdout",
     "output_type": "stream",
     "text": [
      " | Download completed for ftp://gssc.esa.int/gnss/products/2368//GFZ0MGXRAP_20251500000_01D_05M_ORB.SP3.gz\n",
      "C:\\Users\\varga\\Box\\Data\\nc Files\\MetSta\\aux_orbits\\GFZ0MGXRAP_20251500000_01D_05M_ORB.SP3 file is read in 3.95 seconds\n",
      "This file does not exist: C:\\Users\\varga\\Box\\Data\\nc Files\\MetSta\\aux_orbits\\GFZ0MGXRAP_20251480000_01D_30S_CLK.CLK\n",
      "Downloading: GFZ0MGXRAP_20251480000_01D_30S_CLK.CLK.gz"
     ]
    },
    {
     "name": "stderr",
     "output_type": "stream",
     "text": [
      "GFZ0MGXRAP_20251480000_01D_30S_CLK.CLK.gz: 4.77MB [00:03, 1.33MB/s]                            \n"
     ]
    },
    {
     "name": "stdout",
     "output_type": "stream",
     "text": [
      " | Download completed for GFZ0MGXRAP_20251480000_01D_30S_CLK.CLK.gz\n",
      "C:\\Users\\varga\\Box\\Data\\nc Files\\MetSta\\aux_orbits\\GFZ0MGXRAP_20251480000_01D_30S_CLK.CLK file is read in 2.56 seconds\n",
      "This file does not exist: C:\\Users\\varga\\Box\\Data\\nc Files\\MetSta\\aux_orbits\\GFZ0MGXRAP_20251490000_01D_30S_CLK.CLK\n",
      "Downloading: GFZ0MGXRAP_20251490000_01D_30S_CLK.CLK.gz"
     ]
    },
    {
     "name": "stderr",
     "output_type": "stream",
     "text": [
      "GFZ0MGXRAP_20251490000_01D_30S_CLK.CLK.gz: 4.80MB [00:03, 1.36MB/s]                            \n"
     ]
    },
    {
     "name": "stdout",
     "output_type": "stream",
     "text": [
      " | Download completed for GFZ0MGXRAP_20251490000_01D_30S_CLK.CLK.gz\n",
      "C:\\Users\\varga\\Box\\Data\\nc Files\\MetSta\\aux_orbits\\GFZ0MGXRAP_20251490000_01D_30S_CLK.CLK file is read in 2.77 seconds\n",
      "This file does not exist: C:\\Users\\varga\\Box\\Data\\nc Files\\MetSta\\aux_orbits\\GFZ0MGXRAP_20251500000_01D_30S_CLK.CLK\n",
      "Downloading: GFZ0MGXRAP_20251500000_01D_30S_CLK.CLK.gz"
     ]
    },
    {
     "name": "stderr",
     "output_type": "stream",
     "text": [
      "GFZ0MGXRAP_20251500000_01D_30S_CLK.CLK.gz: 4.77MB [00:03, 1.31MB/s]                            \n"
     ]
    },
    {
     "name": "stdout",
     "output_type": "stream",
     "text": [
      " | Download completed for GFZ0MGXRAP_20251500000_01D_30S_CLK.CLK.gz\n",
      "C:\\Users\\varga\\Box\\Data\\nc Files\\MetSta\\aux_orbits\\GFZ0MGXRAP_20251500000_01D_30S_CLK.CLK file is read in 3.40 seconds\n",
      "SP3 interpolation is done in 5.30 seconds\n",
      "Saved 99709 individual observations in C:\\Users\\varga\\Box\\Data\\nc Files\\MetSta\\processed\\MetStation_raw_20250528221758.nc\n",
      "[OK] MetStation_raw_20250528221758.25O\n",
      "Could not find any files matching the pattern C:\\Users\\varga\\Box\\Data\\nc Files\\MetSta\\processed*.nc\n",
      "C:\\Users\\varga\\Box\\Data\\nc Files\\MetSta\\MetStation_raw_20250529221759.25O exists | Reading...\n",
      "Observation file  C:\\Users\\varga\\Box\\Data\\nc Files\\MetSta\\MetStation_raw_20250529221759.25O  is read in 3.21 seconds.\n",
      "Processing 102744 individual observations\n",
      "Calculating Azimuth and Elevation\n",
      "C:\\Users\\varga\\Box\\Data\\nc Files\\MetSta\\aux_orbits\\GFZ0MGXRAP_20251490000_01D_05M_ORB.SP3 exists | Reading...\n",
      "C:\\Users\\varga\\Box\\Data\\nc Files\\MetSta\\aux_orbits\\GFZ0MGXRAP_20251490000_01D_05M_ORB.SP3 file is read in 0.51 seconds\n",
      "C:\\Users\\varga\\Box\\Data\\nc Files\\MetSta\\aux_orbits\\GFZ0MGXRAP_20251500000_01D_05M_ORB.SP3 exists | Reading...\n",
      "C:\\Users\\varga\\Box\\Data\\nc Files\\MetSta\\aux_orbits\\GFZ0MGXRAP_20251500000_01D_05M_ORB.SP3 file is read in 0.90 seconds\n",
      "This file does not exist: C:\\Users\\varga\\Box\\Data\\nc Files\\MetSta\\aux_orbits\\GFZ0MGXRAP_20251510000_01D_05M_ORB.SP3\n",
      "Downloading: ftp://gssc.esa.int/gnss/products/2368//GFZ0MGXRAP_20251510000_01D_05M_ORB.SP3.gz"
     ]
    },
    {
     "name": "stderr",
     "output_type": "stream",
     "text": [
      "GFZ0MGXRAP_20251510000_01D_05M_ORB.SP3.gz: 1.05MB [00:03, 339kB/s]                             \n"
     ]
    },
    {
     "name": "stdout",
     "output_type": "stream",
     "text": [
      " | Download completed for ftp://gssc.esa.int/gnss/products/2368//GFZ0MGXRAP_20251510000_01D_05M_ORB.SP3.gz\n",
      "C:\\Users\\varga\\Box\\Data\\nc Files\\MetSta\\aux_orbits\\GFZ0MGXRAP_20251510000_01D_05M_ORB.SP3 file is read in 3.78 seconds\n",
      "C:\\Users\\varga\\Box\\Data\\nc Files\\MetSta\\aux_orbits\\GFZ0MGXRAP_20251490000_01D_30S_CLK.CLK exists | Reading...\n",
      "C:\\Users\\varga\\Box\\Data\\nc Files\\MetSta\\aux_orbits\\GFZ0MGXRAP_20251490000_01D_30S_CLK.CLK file is read in 3.39 seconds\n",
      "C:\\Users\\varga\\Box\\Data\\nc Files\\MetSta\\aux_orbits\\GFZ0MGXRAP_20251500000_01D_30S_CLK.CLK exists | Reading...\n",
      "C:\\Users\\varga\\Box\\Data\\nc Files\\MetSta\\aux_orbits\\GFZ0MGXRAP_20251500000_01D_30S_CLK.CLK file is read in 2.68 seconds\n",
      "This file does not exist: C:\\Users\\varga\\Box\\Data\\nc Files\\MetSta\\aux_orbits\\GFZ0MGXRAP_20251510000_01D_30S_CLK.CLK\n",
      "Downloading: GFZ0MGXRAP_20251510000_01D_30S_CLK.CLK.gz"
     ]
    },
    {
     "name": "stderr",
     "output_type": "stream",
     "text": [
      "GFZ0MGXRAP_20251510000_01D_30S_CLK.CLK.gz: 4.77MB [00:03, 1.35MB/s]                            \n"
     ]
    },
    {
     "name": "stdout",
     "output_type": "stream",
     "text": [
      " | Download completed for GFZ0MGXRAP_20251510000_01D_30S_CLK.CLK.gz\n",
      "C:\\Users\\varga\\Box\\Data\\nc Files\\MetSta\\aux_orbits\\GFZ0MGXRAP_20251510000_01D_30S_CLK.CLK file is read in 2.92 seconds\n",
      "SP3 interpolation is done in 4.38 seconds\n",
      "Saved 102744 individual observations in C:\\Users\\varga\\Box\\Data\\nc Files\\MetSta\\processed\\MetStation_raw_20250529221759.nc\n",
      "[OK] MetStation_raw_20250529221759.25O\n",
      "Could not find any files matching the pattern C:\\Users\\varga\\Box\\Data\\nc Files\\MetSta\\processed*.nc\n",
      "C:\\Users\\varga\\Box\\Data\\nc Files\\MetSta\\MetStation_raw_20250530221759.25O exists | Reading...\n",
      "Observation file  C:\\Users\\varga\\Box\\Data\\nc Files\\MetSta\\MetStation_raw_20250530221759.25O  is read in 3.53 seconds.\n",
      "Processing 103366 individual observations\n",
      "Calculating Azimuth and Elevation\n",
      "C:\\Users\\varga\\Box\\Data\\nc Files\\MetSta\\aux_orbits\\GFZ0MGXRAP_20251500000_01D_05M_ORB.SP3 exists | Reading...\n",
      "C:\\Users\\varga\\Box\\Data\\nc Files\\MetSta\\aux_orbits\\GFZ0MGXRAP_20251500000_01D_05M_ORB.SP3 file is read in 0.45 seconds\n",
      "C:\\Users\\varga\\Box\\Data\\nc Files\\MetSta\\aux_orbits\\GFZ0MGXRAP_20251510000_01D_05M_ORB.SP3 exists | Reading...\n",
      "C:\\Users\\varga\\Box\\Data\\nc Files\\MetSta\\aux_orbits\\GFZ0MGXRAP_20251510000_01D_05M_ORB.SP3 file is read in 0.70 seconds\n",
      "This file does not exist: C:\\Users\\varga\\Box\\Data\\nc Files\\MetSta\\aux_orbits\\GFZ0MGXRAP_20251520000_01D_05M_ORB.SP3\n",
      "Downloading: ftp://gssc.esa.int/gnss/products/2369//GFZ0MGXRAP_20251520000_01D_05M_ORB.SP3.gz"
     ]
    },
    {
     "name": "stderr",
     "output_type": "stream",
     "text": [
      "GFZ0MGXRAP_20251520000_01D_05M_ORB.SP3.gz: 1.05MB [00:03, 350kB/s]                             \n"
     ]
    },
    {
     "name": "stdout",
     "output_type": "stream",
     "text": [
      " | Download completed for ftp://gssc.esa.int/gnss/products/2369//GFZ0MGXRAP_20251520000_01D_05M_ORB.SP3.gz\n",
      "C:\\Users\\varga\\Box\\Data\\nc Files\\MetSta\\aux_orbits\\GFZ0MGXRAP_20251520000_01D_05M_ORB.SP3 file is read in 3.80 seconds\n",
      "C:\\Users\\varga\\Box\\Data\\nc Files\\MetSta\\aux_orbits\\GFZ0MGXRAP_20251500000_01D_30S_CLK.CLK exists | Reading...\n",
      "C:\\Users\\varga\\Box\\Data\\nc Files\\MetSta\\aux_orbits\\GFZ0MGXRAP_20251500000_01D_30S_CLK.CLK file is read in 3.41 seconds\n",
      "C:\\Users\\varga\\Box\\Data\\nc Files\\MetSta\\aux_orbits\\GFZ0MGXRAP_20251510000_01D_30S_CLK.CLK exists | Reading...\n",
      "C:\\Users\\varga\\Box\\Data\\nc Files\\MetSta\\aux_orbits\\GFZ0MGXRAP_20251510000_01D_30S_CLK.CLK file is read in 2.81 seconds\n",
      "This file does not exist: C:\\Users\\varga\\Box\\Data\\nc Files\\MetSta\\aux_orbits\\GFZ0MGXRAP_20251520000_01D_30S_CLK.CLK\n",
      "Downloading: GFZ0MGXRAP_20251520000_01D_30S_CLK.CLK.gz"
     ]
    },
    {
     "name": "stderr",
     "output_type": "stream",
     "text": [
      "GFZ0MGXRAP_20251520000_01D_30S_CLK.CLK.gz: 4.80MB [00:03, 1.32MB/s]                            \n"
     ]
    },
    {
     "name": "stdout",
     "output_type": "stream",
     "text": [
      " | Download completed for GFZ0MGXRAP_20251520000_01D_30S_CLK.CLK.gz\n",
      "C:\\Users\\varga\\Box\\Data\\nc Files\\MetSta\\aux_orbits\\GFZ0MGXRAP_20251520000_01D_30S_CLK.CLK file is read in 3.03 seconds\n",
      "SP3 interpolation is done in 4.24 seconds\n",
      "Saved 103366 individual observations in C:\\Users\\varga\\Box\\Data\\nc Files\\MetSta\\processed\\MetStation_raw_20250530221759.nc\n",
      "[OK] MetStation_raw_20250530221759.25O\n",
      "Could not find any files matching the pattern C:\\Users\\varga\\Box\\Data\\nc Files\\MetSta\\processed*.nc\n",
      "C:\\Users\\varga\\Box\\Data\\nc Files\\MetSta\\MetStation_raw_20250531221801.25O exists | Reading...\n",
      "Observation file  C:\\Users\\varga\\Box\\Data\\nc Files\\MetSta\\MetStation_raw_20250531221801.25O  is read in 3.45 seconds.\n",
      "Processing 100001 individual observations\n",
      "Calculating Azimuth and Elevation\n",
      "C:\\Users\\varga\\Box\\Data\\nc Files\\MetSta\\aux_orbits\\GFZ0MGXRAP_20251510000_01D_05M_ORB.SP3 exists | Reading...\n",
      "C:\\Users\\varga\\Box\\Data\\nc Files\\MetSta\\aux_orbits\\GFZ0MGXRAP_20251510000_01D_05M_ORB.SP3 file is read in 1.04 seconds\n",
      "C:\\Users\\varga\\Box\\Data\\nc Files\\MetSta\\aux_orbits\\GFZ0MGXRAP_20251520000_01D_05M_ORB.SP3 exists | Reading...\n",
      "C:\\Users\\varga\\Box\\Data\\nc Files\\MetSta\\aux_orbits\\GFZ0MGXRAP_20251520000_01D_05M_ORB.SP3 file is read in 0.45 seconds\n",
      "This file does not exist: C:\\Users\\varga\\Box\\Data\\nc Files\\MetSta\\aux_orbits\\GFZ0MGXRAP_20251530000_01D_05M_ORB.SP3\n",
      "Downloading: ftp://gssc.esa.int/gnss/products/2369//GFZ0MGXRAP_20251530000_01D_05M_ORB.SP3.gz"
     ]
    },
    {
     "name": "stderr",
     "output_type": "stream",
     "text": [
      "GFZ0MGXRAP_20251530000_01D_05M_ORB.SP3.gz: 1.05MB [00:03, 347kB/s]                             \n"
     ]
    },
    {
     "name": "stdout",
     "output_type": "stream",
     "text": [
      " | Download completed for ftp://gssc.esa.int/gnss/products/2369//GFZ0MGXRAP_20251530000_01D_05M_ORB.SP3.gz\n",
      "C:\\Users\\varga\\Box\\Data\\nc Files\\MetSta\\aux_orbits\\GFZ0MGXRAP_20251530000_01D_05M_ORB.SP3 file is read in 4.08 seconds\n",
      "C:\\Users\\varga\\Box\\Data\\nc Files\\MetSta\\aux_orbits\\GFZ0MGXRAP_20251510000_01D_30S_CLK.CLK exists | Reading...\n",
      "C:\\Users\\varga\\Box\\Data\\nc Files\\MetSta\\aux_orbits\\GFZ0MGXRAP_20251510000_01D_30S_CLK.CLK file is read in 3.02 seconds\n",
      "C:\\Users\\varga\\Box\\Data\\nc Files\\MetSta\\aux_orbits\\GFZ0MGXRAP_20251520000_01D_30S_CLK.CLK exists | Reading...\n",
      "C:\\Users\\varga\\Box\\Data\\nc Files\\MetSta\\aux_orbits\\GFZ0MGXRAP_20251520000_01D_30S_CLK.CLK file is read in 3.07 seconds\n",
      "This file does not exist: C:\\Users\\varga\\Box\\Data\\nc Files\\MetSta\\aux_orbits\\GFZ0MGXRAP_20251530000_01D_30S_CLK.CLK\n",
      "Downloading: GFZ0MGXRAP_20251530000_01D_30S_CLK.CLK.gz"
     ]
    },
    {
     "name": "stderr",
     "output_type": "stream",
     "text": [
      "GFZ0MGXRAP_20251530000_01D_30S_CLK.CLK.gz: 4.81MB [00:03, 1.27MB/s]                            \n"
     ]
    },
    {
     "name": "stdout",
     "output_type": "stream",
     "text": [
      " | Download completed for GFZ0MGXRAP_20251530000_01D_30S_CLK.CLK.gz\n",
      "C:\\Users\\varga\\Box\\Data\\nc Files\\MetSta\\aux_orbits\\GFZ0MGXRAP_20251530000_01D_30S_CLK.CLK file is read in 4.77 seconds\n",
      "SP3 interpolation is done in 7.60 seconds\n",
      "Saved 100001 individual observations in C:\\Users\\varga\\Box\\Data\\nc Files\\MetSta\\processed\\MetStation_raw_20250531221801.nc\n",
      "[OK] MetStation_raw_20250531221801.25O\n",
      "Could not find any files matching the pattern C:\\Users\\varga\\Box\\Data\\nc Files\\MetSta\\processed*.nc\n",
      "C:\\Users\\varga\\Box\\Data\\nc Files\\MetSta\\MetStation_raw_20250601221801.25O exists | Reading...\n",
      "Observation file  C:\\Users\\varga\\Box\\Data\\nc Files\\MetSta\\MetStation_raw_20250601221801.25O  is read in 2.69 seconds.\n",
      "Processing 101724 individual observations\n",
      "Calculating Azimuth and Elevation\n",
      "C:\\Users\\varga\\Box\\Data\\nc Files\\MetSta\\aux_orbits\\GFZ0MGXRAP_20251520000_01D_05M_ORB.SP3 exists | Reading...\n",
      "C:\\Users\\varga\\Box\\Data\\nc Files\\MetSta\\aux_orbits\\GFZ0MGXRAP_20251520000_01D_05M_ORB.SP3 file is read in 0.73 seconds\n",
      "C:\\Users\\varga\\Box\\Data\\nc Files\\MetSta\\aux_orbits\\GFZ0MGXRAP_20251530000_01D_05M_ORB.SP3 exists | Reading...\n",
      "C:\\Users\\varga\\Box\\Data\\nc Files\\MetSta\\aux_orbits\\GFZ0MGXRAP_20251530000_01D_05M_ORB.SP3 file is read in 0.42 seconds\n",
      "This file does not exist: C:\\Users\\varga\\Box\\Data\\nc Files\\MetSta\\aux_orbits\\GFZ0MGXRAP_20251540000_01D_05M_ORB.SP3\n",
      "Downloading: ftp://gssc.esa.int/gnss/products/2369//GFZ0MGXRAP_20251540000_01D_05M_ORB.SP3.gz"
     ]
    },
    {
     "name": "stderr",
     "output_type": "stream",
     "text": [
      "GFZ0MGXRAP_20251540000_01D_05M_ORB.SP3.gz: 1.04MB [00:03, 341kB/s]                             \n"
     ]
    },
    {
     "name": "stdout",
     "output_type": "stream",
     "text": [
      " | Download completed for ftp://gssc.esa.int/gnss/products/2369//GFZ0MGXRAP_20251540000_01D_05M_ORB.SP3.gz\n",
      "C:\\Users\\varga\\Box\\Data\\nc Files\\MetSta\\aux_orbits\\GFZ0MGXRAP_20251540000_01D_05M_ORB.SP3 file is read in 4.10 seconds\n",
      "C:\\Users\\varga\\Box\\Data\\nc Files\\MetSta\\aux_orbits\\GFZ0MGXRAP_20251520000_01D_30S_CLK.CLK exists | Reading...\n",
      "C:\\Users\\varga\\Box\\Data\\nc Files\\MetSta\\aux_orbits\\GFZ0MGXRAP_20251520000_01D_30S_CLK.CLK file is read in 3.04 seconds\n",
      "C:\\Users\\varga\\Box\\Data\\nc Files\\MetSta\\aux_orbits\\GFZ0MGXRAP_20251530000_01D_30S_CLK.CLK exists | Reading...\n",
      "C:\\Users\\varga\\Box\\Data\\nc Files\\MetSta\\aux_orbits\\GFZ0MGXRAP_20251530000_01D_30S_CLK.CLK file is read in 4.36 seconds\n",
      "This file does not exist: C:\\Users\\varga\\Box\\Data\\nc Files\\MetSta\\aux_orbits\\GFZ0MGXRAP_20251540000_01D_30S_CLK.CLK\n",
      "Downloading: GFZ0MGXRAP_20251540000_01D_30S_CLK.CLK.gz"
     ]
    },
    {
     "name": "stderr",
     "output_type": "stream",
     "text": [
      "GFZ0MGXRAP_20251540000_01D_30S_CLK.CLK.gz: 4.75MB [00:03, 1.32MB/s]                            \n"
     ]
    },
    {
     "name": "stdout",
     "output_type": "stream",
     "text": [
      " | Download completed for GFZ0MGXRAP_20251540000_01D_30S_CLK.CLK.gz\n",
      "C:\\Users\\varga\\Box\\Data\\nc Files\\MetSta\\aux_orbits\\GFZ0MGXRAP_20251540000_01D_30S_CLK.CLK file is read in 11.86 seconds\n",
      "SP3 interpolation is done in 4.16 seconds\n",
      "Saved 101724 individual observations in C:\\Users\\varga\\Box\\Data\\nc Files\\MetSta\\processed\\MetStation_raw_20250601221801.nc\n",
      "[OK] MetStation_raw_20250601221801.25O\n",
      "Could not find any files matching the pattern C:\\Users\\varga\\Box\\Data\\nc Files\\MetSta\\processed*.nc\n",
      "C:\\Users\\varga\\Box\\Data\\nc Files\\MetSta\\MetStation_raw_20250602221802.25O exists | Reading...\n",
      "Observation file  C:\\Users\\varga\\Box\\Data\\nc Files\\MetSta\\MetStation_raw_20250602221802.25O  is read in 4.10 seconds.\n",
      "Processing 102140 individual observations\n",
      "Calculating Azimuth and Elevation\n",
      "C:\\Users\\varga\\Box\\Data\\nc Files\\MetSta\\aux_orbits\\GFZ0MGXRAP_20251530000_01D_05M_ORB.SP3 exists | Reading...\n",
      "C:\\Users\\varga\\Box\\Data\\nc Files\\MetSta\\aux_orbits\\GFZ0MGXRAP_20251530000_01D_05M_ORB.SP3 file is read in 0.49 seconds\n",
      "C:\\Users\\varga\\Box\\Data\\nc Files\\MetSta\\aux_orbits\\GFZ0MGXRAP_20251540000_01D_05M_ORB.SP3 exists | Reading...\n",
      "C:\\Users\\varga\\Box\\Data\\nc Files\\MetSta\\aux_orbits\\GFZ0MGXRAP_20251540000_01D_05M_ORB.SP3 file is read in 0.77 seconds\n",
      "This file does not exist: C:\\Users\\varga\\Box\\Data\\nc Files\\MetSta\\aux_orbits\\GFZ0MGXRAP_20251550000_01D_05M_ORB.SP3\n",
      "Downloading: ftp://gssc.esa.int/gnss/products/2369//GFZ0MGXRAP_20251550000_01D_05M_ORB.SP3.gz"
     ]
    },
    {
     "name": "stderr",
     "output_type": "stream",
     "text": [
      "GFZ0MGXRAP_20251550000_01D_05M_ORB.SP3.gz: 1.04MB [00:03, 342kB/s]                             \n"
     ]
    },
    {
     "name": "stdout",
     "output_type": "stream",
     "text": [
      " | Download completed for ftp://gssc.esa.int/gnss/products/2369//GFZ0MGXRAP_20251550000_01D_05M_ORB.SP3.gz\n",
      "C:\\Users\\varga\\Box\\Data\\nc Files\\MetSta\\aux_orbits\\GFZ0MGXRAP_20251550000_01D_05M_ORB.SP3 file is read in 3.77 seconds\n",
      "C:\\Users\\varga\\Box\\Data\\nc Files\\MetSta\\aux_orbits\\GFZ0MGXRAP_20251530000_01D_30S_CLK.CLK exists | Reading...\n",
      "C:\\Users\\varga\\Box\\Data\\nc Files\\MetSta\\aux_orbits\\GFZ0MGXRAP_20251530000_01D_30S_CLK.CLK file is read in 4.56 seconds\n",
      "C:\\Users\\varga\\Box\\Data\\nc Files\\MetSta\\aux_orbits\\GFZ0MGXRAP_20251540000_01D_30S_CLK.CLK exists | Reading...\n",
      "C:\\Users\\varga\\Box\\Data\\nc Files\\MetSta\\aux_orbits\\GFZ0MGXRAP_20251540000_01D_30S_CLK.CLK file is read in 3.34 seconds\n",
      "This file does not exist: C:\\Users\\varga\\Box\\Data\\nc Files\\MetSta\\aux_orbits\\GFZ0MGXRAP_20251550000_01D_30S_CLK.CLK\n",
      "Downloading: GFZ0MGXRAP_20251550000_01D_30S_CLK.CLK.gz"
     ]
    },
    {
     "name": "stderr",
     "output_type": "stream",
     "text": [
      "GFZ0MGXRAP_20251550000_01D_30S_CLK.CLK.gz: 4.74MB [00:05, 830kB/s]                             \n"
     ]
    },
    {
     "name": "stdout",
     "output_type": "stream",
     "text": [
      " | Download completed for GFZ0MGXRAP_20251550000_01D_30S_CLK.CLK.gz\n",
      "C:\\Users\\varga\\Box\\Data\\nc Files\\MetSta\\aux_orbits\\GFZ0MGXRAP_20251550000_01D_30S_CLK.CLK file is read in 8.10 seconds\n",
      "SP3 interpolation is done in 4.27 seconds\n",
      "Saved 102140 individual observations in C:\\Users\\varga\\Box\\Data\\nc Files\\MetSta\\processed\\MetStation_raw_20250602221802.nc\n",
      "[OK] MetStation_raw_20250602221802.25O\n",
      "Could not find any files matching the pattern C:\\Users\\varga\\Box\\Data\\nc Files\\MetSta\\processed*.nc\n",
      "C:\\Users\\varga\\Box\\Data\\nc Files\\MetSta\\MetStation_raw_20250603221802.25O exists | Reading...\n",
      "Observation file  C:\\Users\\varga\\Box\\Data\\nc Files\\MetSta\\MetStation_raw_20250603221802.25O  is read in 4.07 seconds.\n",
      "Processing 100173 individual observations\n",
      "Calculating Azimuth and Elevation\n",
      "C:\\Users\\varga\\Box\\Data\\nc Files\\MetSta\\aux_orbits\\GFZ0MGXRAP_20251540000_01D_05M_ORB.SP3 exists | Reading...\n",
      "C:\\Users\\varga\\Box\\Data\\nc Files\\MetSta\\aux_orbits\\GFZ0MGXRAP_20251540000_01D_05M_ORB.SP3 file is read in 0.81 seconds\n",
      "C:\\Users\\varga\\Box\\Data\\nc Files\\MetSta\\aux_orbits\\GFZ0MGXRAP_20251550000_01D_05M_ORB.SP3 exists | Reading...\n",
      "C:\\Users\\varga\\Box\\Data\\nc Files\\MetSta\\aux_orbits\\GFZ0MGXRAP_20251550000_01D_05M_ORB.SP3 file is read in 1.39 seconds\n",
      "This file does not exist: C:\\Users\\varga\\Box\\Data\\nc Files\\MetSta\\aux_orbits\\GFZ0MGXRAP_20251560000_01D_05M_ORB.SP3\n",
      "Downloading: ftp://gssc.esa.int/gnss/products/2369//GFZ0MGXRAP_20251560000_01D_05M_ORB.SP3.gz"
     ]
    },
    {
     "name": "stderr",
     "output_type": "stream",
     "text": [
      "GFZ0MGXRAP_20251560000_01D_05M_ORB.SP3.gz: 1.05MB [00:12, 84.5kB/s]                            \n"
     ]
    },
    {
     "name": "stdout",
     "output_type": "stream",
     "text": [
      " | Download completed for ftp://gssc.esa.int/gnss/products/2369//GFZ0MGXRAP_20251560000_01D_05M_ORB.SP3.gz\n",
      "C:\\Users\\varga\\Box\\Data\\nc Files\\MetSta\\aux_orbits\\GFZ0MGXRAP_20251560000_01D_05M_ORB.SP3 file is read in 19.01 seconds\n",
      "C:\\Users\\varga\\Box\\Data\\nc Files\\MetSta\\aux_orbits\\GFZ0MGXRAP_20251540000_01D_30S_CLK.CLK exists | Reading...\n",
      "C:\\Users\\varga\\Box\\Data\\nc Files\\MetSta\\aux_orbits\\GFZ0MGXRAP_20251540000_01D_30S_CLK.CLK file is read in 4.82 seconds\n",
      "C:\\Users\\varga\\Box\\Data\\nc Files\\MetSta\\aux_orbits\\GFZ0MGXRAP_20251550000_01D_30S_CLK.CLK exists | Reading...\n",
      "C:\\Users\\varga\\Box\\Data\\nc Files\\MetSta\\aux_orbits\\GFZ0MGXRAP_20251550000_01D_30S_CLK.CLK file is read in 5.40 seconds\n",
      "This file does not exist: C:\\Users\\varga\\Box\\Data\\nc Files\\MetSta\\aux_orbits\\GFZ0MGXRAP_20251560000_01D_30S_CLK.CLK\n",
      "Downloading: GFZ0MGXRAP_20251560000_01D_30S_CLK.CLK.gz"
     ]
    },
    {
     "name": "stderr",
     "output_type": "stream",
     "text": [
      "GFZ0MGXRAP_20251560000_01D_30S_CLK.CLK.gz: 4.79MB [00:13, 373kB/s]                             \n"
     ]
    },
    {
     "name": "stdout",
     "output_type": "stream",
     "text": [
      " | Download completed for GFZ0MGXRAP_20251560000_01D_30S_CLK.CLK.gz\n",
      "C:\\Users\\varga\\Box\\Data\\nc Files\\MetSta\\aux_orbits\\GFZ0MGXRAP_20251560000_01D_30S_CLK.CLK file is read in 9.80 seconds\n",
      "SP3 interpolation is done in 15.73 seconds\n",
      "Saved 100173 individual observations in C:\\Users\\varga\\Box\\Data\\nc Files\\MetSta\\processed\\MetStation_raw_20250603221802.nc\n",
      "[OK] MetStation_raw_20250603221802.25O\n",
      "Could not find any files matching the pattern C:\\Users\\varga\\Box\\Data\\nc Files\\MetSta\\processed*.nc\n",
      "C:\\Users\\varga\\Box\\Data\\nc Files\\MetSta\\MetStation_raw_20250604221803.25O exists | Reading...\n",
      "Observation file  C:\\Users\\varga\\Box\\Data\\nc Files\\MetSta\\MetStation_raw_20250604221803.25O  is read in 2.50 seconds.\n",
      "Processing 99821 individual observations\n",
      "Calculating Azimuth and Elevation\n",
      "C:\\Users\\varga\\Box\\Data\\nc Files\\MetSta\\aux_orbits\\GFZ0MGXRAP_20251550000_01D_05M_ORB.SP3 exists | Reading...\n",
      "C:\\Users\\varga\\Box\\Data\\nc Files\\MetSta\\aux_orbits\\GFZ0MGXRAP_20251550000_01D_05M_ORB.SP3 file is read in 0.51 seconds\n",
      "C:\\Users\\varga\\Box\\Data\\nc Files\\MetSta\\aux_orbits\\GFZ0MGXRAP_20251560000_01D_05M_ORB.SP3 exists | Reading...\n",
      "C:\\Users\\varga\\Box\\Data\\nc Files\\MetSta\\aux_orbits\\GFZ0MGXRAP_20251560000_01D_05M_ORB.SP3 file is read in 0.71 seconds\n",
      "This file does not exist: C:\\Users\\varga\\Box\\Data\\nc Files\\MetSta\\aux_orbits\\GFZ0MGXRAP_20251570000_01D_05M_ORB.SP3\n",
      "Downloading: ftp://gssc.esa.int/gnss/products/2369//GFZ0MGXRAP_20251570000_01D_05M_ORB.SP3.gz"
     ]
    },
    {
     "name": "stderr",
     "output_type": "stream",
     "text": [
      "GFZ0MGXRAP_20251570000_01D_05M_ORB.SP3.gz: 1.06MB [00:03, 340kB/s]                             \n"
     ]
    },
    {
     "name": "stdout",
     "output_type": "stream",
     "text": [
      " | Download completed for ftp://gssc.esa.int/gnss/products/2369//GFZ0MGXRAP_20251570000_01D_05M_ORB.SP3.gz\n",
      "C:\\Users\\varga\\Box\\Data\\nc Files\\MetSta\\aux_orbits\\GFZ0MGXRAP_20251570000_01D_05M_ORB.SP3 file is read in 3.89 seconds\n",
      "C:\\Users\\varga\\Box\\Data\\nc Files\\MetSta\\aux_orbits\\GFZ0MGXRAP_20251550000_01D_30S_CLK.CLK exists | Reading...\n",
      "C:\\Users\\varga\\Box\\Data\\nc Files\\MetSta\\aux_orbits\\GFZ0MGXRAP_20251550000_01D_30S_CLK.CLK file is read in 4.69 seconds\n",
      "C:\\Users\\varga\\Box\\Data\\nc Files\\MetSta\\aux_orbits\\GFZ0MGXRAP_20251560000_01D_30S_CLK.CLK exists | Reading...\n",
      "C:\\Users\\varga\\Box\\Data\\nc Files\\MetSta\\aux_orbits\\GFZ0MGXRAP_20251560000_01D_30S_CLK.CLK file is read in 12.44 seconds\n",
      "This file does not exist: C:\\Users\\varga\\Box\\Data\\nc Files\\MetSta\\aux_orbits\\GFZ0MGXRAP_20251570000_01D_30S_CLK.CLK\n",
      "Downloading: GFZ0MGXRAP_20251570000_01D_30S_CLK.CLK.gz"
     ]
    },
    {
     "name": "stderr",
     "output_type": "stream",
     "text": [
      "GFZ0MGXRAP_20251570000_01D_30S_CLK.CLK.gz: 4.81MB [00:14, 337kB/s]                             \n"
     ]
    },
    {
     "name": "stdout",
     "output_type": "stream",
     "text": [
      " | Download completed for GFZ0MGXRAP_20251570000_01D_30S_CLK.CLK.gz\n",
      "C:\\Users\\varga\\Box\\Data\\nc Files\\MetSta\\aux_orbits\\GFZ0MGXRAP_20251570000_01D_30S_CLK.CLK file is read in 3.15 seconds\n",
      "SP3 interpolation is done in 5.43 seconds\n",
      "Saved 99821 individual observations in C:\\Users\\varga\\Box\\Data\\nc Files\\MetSta\\processed\\MetStation_raw_20250604221803.nc\n",
      "[OK] MetStation_raw_20250604221803.25O\n",
      "Could not find any files matching the pattern C:\\Users\\varga\\Box\\Data\\nc Files\\MetSta\\processed*.nc\n",
      "C:\\Users\\varga\\Box\\Data\\nc Files\\MetSta\\MetStation_raw_20250605221803.25O exists | Reading...\n",
      "Observation file  C:\\Users\\varga\\Box\\Data\\nc Files\\MetSta\\MetStation_raw_20250605221803.25O  is read in 10.87 seconds.\n",
      "Processing 102958 individual observations\n",
      "Calculating Azimuth and Elevation\n",
      "C:\\Users\\varga\\Box\\Data\\nc Files\\MetSta\\aux_orbits\\GFZ0MGXRAP_20251560000_01D_05M_ORB.SP3 exists | Reading...\n",
      "C:\\Users\\varga\\Box\\Data\\nc Files\\MetSta\\aux_orbits\\GFZ0MGXRAP_20251560000_01D_05M_ORB.SP3 file is read in 7.84 seconds\n",
      "C:\\Users\\varga\\Box\\Data\\nc Files\\MetSta\\aux_orbits\\GFZ0MGXRAP_20251570000_01D_05M_ORB.SP3 exists | Reading...\n",
      "C:\\Users\\varga\\Box\\Data\\nc Files\\MetSta\\aux_orbits\\GFZ0MGXRAP_20251570000_01D_05M_ORB.SP3 file is read in 0.76 seconds\n",
      "This file does not exist: C:\\Users\\varga\\Box\\Data\\nc Files\\MetSta\\aux_orbits\\GFZ0MGXRAP_20251580000_01D_05M_ORB.SP3\n",
      "Downloading: ftp://gssc.esa.int/gnss/products/2369//GFZ0MGXRAP_20251580000_01D_05M_ORB.SP3.gz"
     ]
    },
    {
     "name": "stderr",
     "output_type": "stream",
     "text": [
      "GFZ0MGXRAP_20251580000_01D_05M_ORB.SP3.gz: 1.05MB [00:03, 342kB/s]                             \n"
     ]
    },
    {
     "name": "stdout",
     "output_type": "stream",
     "text": [
      " | Download completed for ftp://gssc.esa.int/gnss/products/2369//GFZ0MGXRAP_20251580000_01D_05M_ORB.SP3.gz\n",
      "C:\\Users\\varga\\Box\\Data\\nc Files\\MetSta\\aux_orbits\\GFZ0MGXRAP_20251580000_01D_05M_ORB.SP3 file is read in 4.14 seconds\n",
      "C:\\Users\\varga\\Box\\Data\\nc Files\\MetSta\\aux_orbits\\GFZ0MGXRAP_20251560000_01D_30S_CLK.CLK exists | Reading...\n",
      "C:\\Users\\varga\\Box\\Data\\nc Files\\MetSta\\aux_orbits\\GFZ0MGXRAP_20251560000_01D_30S_CLK.CLK file is read in 2.96 seconds\n",
      "C:\\Users\\varga\\Box\\Data\\nc Files\\MetSta\\aux_orbits\\GFZ0MGXRAP_20251570000_01D_30S_CLK.CLK exists | Reading...\n",
      "C:\\Users\\varga\\Box\\Data\\nc Files\\MetSta\\aux_orbits\\GFZ0MGXRAP_20251570000_01D_30S_CLK.CLK file is read in 2.97 seconds\n",
      "This file does not exist: C:\\Users\\varga\\Box\\Data\\nc Files\\MetSta\\aux_orbits\\GFZ0MGXRAP_20251580000_01D_30S_CLK.CLK\n",
      "Downloading: GFZ0MGXRAP_20251580000_01D_30S_CLK.CLK.gz"
     ]
    },
    {
     "name": "stderr",
     "output_type": "stream",
     "text": [
      "GFZ0MGXRAP_20251580000_01D_30S_CLK.CLK.gz: 4.80MB [00:03, 1.34MB/s]                            \n"
     ]
    },
    {
     "name": "stdout",
     "output_type": "stream",
     "text": [
      " | Download completed for GFZ0MGXRAP_20251580000_01D_30S_CLK.CLK.gz\n",
      "C:\\Users\\varga\\Box\\Data\\nc Files\\MetSta\\aux_orbits\\GFZ0MGXRAP_20251580000_01D_30S_CLK.CLK file is read in 3.57 seconds\n",
      "SP3 interpolation is done in 2687.04 seconds\n",
      "Saved 102958 individual observations in C:\\Users\\varga\\Box\\Data\\nc Files\\MetSta\\processed\\MetStation_raw_20250605221803.nc\n",
      "[OK] MetStation_raw_20250605221803.25O\n",
      "Could not find any files matching the pattern C:\\Users\\varga\\Box\\Data\\nc Files\\MetSta\\processed*.nc\n",
      "C:\\Users\\varga\\Box\\Data\\nc Files\\MetSta\\MetStation_raw_20250606221804.25O exists | Reading...\n",
      "Observation file  C:\\Users\\varga\\Box\\Data\\nc Files\\MetSta\\MetStation_raw_20250606221804.25O  is read in 10.04 seconds.\n",
      "Processing 101192 individual observations\n",
      "Calculating Azimuth and Elevation\n",
      "C:\\Users\\varga\\Box\\Data\\nc Files\\MetSta\\aux_orbits\\GFZ0MGXRAP_20251570000_01D_05M_ORB.SP3 exists | Reading...\n",
      "C:\\Users\\varga\\Box\\Data\\nc Files\\MetSta\\aux_orbits\\GFZ0MGXRAP_20251570000_01D_05M_ORB.SP3 file is read in 1.71 seconds\n",
      "C:\\Users\\varga\\Box\\Data\\nc Files\\MetSta\\aux_orbits\\GFZ0MGXRAP_20251580000_01D_05M_ORB.SP3 exists | Reading...\n",
      "C:\\Users\\varga\\Box\\Data\\nc Files\\MetSta\\aux_orbits\\GFZ0MGXRAP_20251580000_01D_05M_ORB.SP3 file is read in 2.20 seconds\n",
      "This file does not exist: C:\\Users\\varga\\Box\\Data\\nc Files\\MetSta\\aux_orbits\\GFZ0MGXRAP_20251590000_01D_05M_ORB.SP3\n",
      "Downloading: ftp://gssc.esa.int/gnss/products/2370//GFZ0MGXRAP_20251590000_01D_05M_ORB.SP3.gz"
     ]
    },
    {
     "name": "stderr",
     "output_type": "stream",
     "text": [
      "GFZ0MGXRAP_20251590000_01D_05M_ORB.SP3.gz: 1.05MB [00:04, 271kB/s]                             \n"
     ]
    },
    {
     "name": "stdout",
     "output_type": "stream",
     "text": [
      " | Download completed for ftp://gssc.esa.int/gnss/products/2370//GFZ0MGXRAP_20251590000_01D_05M_ORB.SP3.gz\n",
      "C:\\Users\\varga\\Box\\Data\\nc Files\\MetSta\\aux_orbits\\GFZ0MGXRAP_20251590000_01D_05M_ORB.SP3 file is read in 5.97 seconds\n",
      "C:\\Users\\varga\\Box\\Data\\nc Files\\MetSta\\aux_orbits\\GFZ0MGXRAP_20251570000_01D_30S_CLK.CLK exists | Reading...\n",
      "C:\\Users\\varga\\Box\\Data\\nc Files\\MetSta\\aux_orbits\\GFZ0MGXRAP_20251570000_01D_30S_CLK.CLK file is read in 8.96 seconds\n",
      "C:\\Users\\varga\\Box\\Data\\nc Files\\MetSta\\aux_orbits\\GFZ0MGXRAP_20251580000_01D_30S_CLK.CLK exists | Reading...\n",
      "C:\\Users\\varga\\Box\\Data\\nc Files\\MetSta\\aux_orbits\\GFZ0MGXRAP_20251580000_01D_30S_CLK.CLK file is read in 7.78 seconds\n",
      "This file does not exist: C:\\Users\\varga\\Box\\Data\\nc Files\\MetSta\\aux_orbits\\GFZ0MGXRAP_20251590000_01D_30S_CLK.CLK\n",
      "Downloading: GFZ0MGXRAP_20251590000_01D_30S_CLK.CLK.gz"
     ]
    },
    {
     "name": "stderr",
     "output_type": "stream",
     "text": [
      "GFZ0MGXRAP_20251590000_01D_30S_CLK.CLK.gz: 4.77MB [00:04, 1.07MB/s]                            \n"
     ]
    },
    {
     "name": "stdout",
     "output_type": "stream",
     "text": [
      " | Download completed for GFZ0MGXRAP_20251590000_01D_30S_CLK.CLK.gz\n",
      "C:\\Users\\varga\\Box\\Data\\nc Files\\MetSta\\aux_orbits\\GFZ0MGXRAP_20251590000_01D_30S_CLK.CLK file is read in 8.64 seconds\n",
      "SP3 interpolation is done in 13.42 seconds\n",
      "Saved 101192 individual observations in C:\\Users\\varga\\Box\\Data\\nc Files\\MetSta\\processed\\MetStation_raw_20250606221804.nc\n",
      "[OK] MetStation_raw_20250606221804.25O\n",
      "Could not find any files matching the pattern C:\\Users\\varga\\Box\\Data\\nc Files\\MetSta\\processed*.nc\n",
      "C:\\Users\\varga\\Box\\Data\\nc Files\\MetSta\\MetStation_raw_20250607221805.25O exists | Reading...\n",
      "Observation file  C:\\Users\\varga\\Box\\Data\\nc Files\\MetSta\\MetStation_raw_20250607221805.25O  is read in 8.74 seconds.\n",
      "Processing 99542 individual observations\n",
      "Calculating Azimuth and Elevation\n",
      "C:\\Users\\varga\\Box\\Data\\nc Files\\MetSta\\aux_orbits\\GFZ0MGXRAP_20251580000_01D_05M_ORB.SP3 exists | Reading...\n",
      "C:\\Users\\varga\\Box\\Data\\nc Files\\MetSta\\aux_orbits\\GFZ0MGXRAP_20251580000_01D_05M_ORB.SP3 file is read in 2.00 seconds\n",
      "C:\\Users\\varga\\Box\\Data\\nc Files\\MetSta\\aux_orbits\\GFZ0MGXRAP_20251590000_01D_05M_ORB.SP3 exists | Reading...\n",
      "C:\\Users\\varga\\Box\\Data\\nc Files\\MetSta\\aux_orbits\\GFZ0MGXRAP_20251590000_01D_05M_ORB.SP3 file is read in 1.46 seconds\n",
      "This file does not exist: C:\\Users\\varga\\Box\\Data\\nc Files\\MetSta\\aux_orbits\\GFZ0MGXRAP_20251600000_01D_05M_ORB.SP3\n",
      "Downloading: ftp://gssc.esa.int/gnss/products/2370//GFZ0MGXRAP_20251600000_01D_05M_ORB.SP3.gz"
     ]
    },
    {
     "name": "stderr",
     "output_type": "stream",
     "text": [
      "GFZ0MGXRAP_20251600000_01D_05M_ORB.SP3.gz: 1.04MB [00:05, 185kB/s]                             \n"
     ]
    },
    {
     "name": "stdout",
     "output_type": "stream",
     "text": [
      " | Download completed for ftp://gssc.esa.int/gnss/products/2370//GFZ0MGXRAP_20251600000_01D_05M_ORB.SP3.gz\n",
      "C:\\Users\\varga\\Box\\Data\\nc Files\\MetSta\\aux_orbits\\GFZ0MGXRAP_20251600000_01D_05M_ORB.SP3 file is read in 8.25 seconds\n",
      "C:\\Users\\varga\\Box\\Data\\nc Files\\MetSta\\aux_orbits\\GFZ0MGXRAP_20251580000_01D_30S_CLK.CLK exists | Reading...\n",
      "C:\\Users\\varga\\Box\\Data\\nc Files\\MetSta\\aux_orbits\\GFZ0MGXRAP_20251580000_01D_30S_CLK.CLK file is read in 8.28 seconds\n",
      "C:\\Users\\varga\\Box\\Data\\nc Files\\MetSta\\aux_orbits\\GFZ0MGXRAP_20251590000_01D_30S_CLK.CLK exists | Reading...\n",
      "C:\\Users\\varga\\Box\\Data\\nc Files\\MetSta\\aux_orbits\\GFZ0MGXRAP_20251590000_01D_30S_CLK.CLK file is read in 7.97 seconds\n",
      "This file does not exist: C:\\Users\\varga\\Box\\Data\\nc Files\\MetSta\\aux_orbits\\GFZ0MGXRAP_20251600000_01D_30S_CLK.CLK\n",
      "Downloading: GFZ0MGXRAP_20251600000_01D_30S_CLK.CLK.gz"
     ]
    },
    {
     "name": "stderr",
     "output_type": "stream",
     "text": [
      "GFZ0MGXRAP_20251600000_01D_30S_CLK.CLK.gz: 4.72MB [00:04, 1.08MB/s]                            \n"
     ]
    },
    {
     "name": "stdout",
     "output_type": "stream",
     "text": [
      " | Download completed for GFZ0MGXRAP_20251600000_01D_30S_CLK.CLK.gz\n",
      "C:\\Users\\varga\\Box\\Data\\nc Files\\MetSta\\aux_orbits\\GFZ0MGXRAP_20251600000_01D_30S_CLK.CLK file is read in 8.45 seconds\n",
      "SP3 interpolation is done in 12.94 seconds\n",
      "Saved 99542 individual observations in C:\\Users\\varga\\Box\\Data\\nc Files\\MetSta\\processed\\MetStation_raw_20250607221805.nc\n",
      "[OK] MetStation_raw_20250607221805.25O\n",
      "Could not find any files matching the pattern C:\\Users\\varga\\Box\\Data\\nc Files\\MetSta\\processed*.nc\n",
      "C:\\Users\\varga\\Box\\Data\\nc Files\\MetSta\\MetStation_raw_20250608221805.25O exists | Reading...\n",
      "Observation file  C:\\Users\\varga\\Box\\Data\\nc Files\\MetSta\\MetStation_raw_20250608221805.25O  is read in 8.52 seconds.\n",
      "Processing 102152 individual observations\n",
      "Calculating Azimuth and Elevation\n",
      "C:\\Users\\varga\\Box\\Data\\nc Files\\MetSta\\aux_orbits\\GFZ0MGXRAP_20251590000_01D_05M_ORB.SP3 exists | Reading...\n",
      "C:\\Users\\varga\\Box\\Data\\nc Files\\MetSta\\aux_orbits\\GFZ0MGXRAP_20251590000_01D_05M_ORB.SP3 file is read in 2.00 seconds\n",
      "C:\\Users\\varga\\Box\\Data\\nc Files\\MetSta\\aux_orbits\\GFZ0MGXRAP_20251600000_01D_05M_ORB.SP3 exists | Reading...\n",
      "C:\\Users\\varga\\Box\\Data\\nc Files\\MetSta\\aux_orbits\\GFZ0MGXRAP_20251600000_01D_05M_ORB.SP3 file is read in 1.52 seconds\n",
      "This file does not exist: C:\\Users\\varga\\Box\\Data\\nc Files\\MetSta\\aux_orbits\\GFZ0MGXRAP_20251610000_01D_05M_ORB.SP3\n",
      "Downloading: ftp://gssc.esa.int/gnss/products/2370//GFZ0MGXRAP_20251610000_01D_05M_ORB.SP3.gz"
     ]
    },
    {
     "name": "stderr",
     "output_type": "stream",
     "text": [
      "GFZ0MGXRAP_20251610000_01D_05M_ORB.SP3.gz: 1.05MB [00:05, 219kB/s]                             \n"
     ]
    },
    {
     "name": "stdout",
     "output_type": "stream",
     "text": [
      " | Download completed for ftp://gssc.esa.int/gnss/products/2370//GFZ0MGXRAP_20251610000_01D_05M_ORB.SP3.gz\n",
      "C:\\Users\\varga\\Box\\Data\\nc Files\\MetSta\\aux_orbits\\GFZ0MGXRAP_20251610000_01D_05M_ORB.SP3 file is read in 7.47 seconds\n",
      "C:\\Users\\varga\\Box\\Data\\nc Files\\MetSta\\aux_orbits\\GFZ0MGXRAP_20251590000_01D_30S_CLK.CLK exists | Reading...\n",
      "C:\\Users\\varga\\Box\\Data\\nc Files\\MetSta\\aux_orbits\\GFZ0MGXRAP_20251590000_01D_30S_CLK.CLK file is read in 8.07 seconds\n",
      "C:\\Users\\varga\\Box\\Data\\nc Files\\MetSta\\aux_orbits\\GFZ0MGXRAP_20251600000_01D_30S_CLK.CLK exists | Reading...\n",
      "C:\\Users\\varga\\Box\\Data\\nc Files\\MetSta\\aux_orbits\\GFZ0MGXRAP_20251600000_01D_30S_CLK.CLK file is read in 8.27 seconds\n",
      "This file does not exist: C:\\Users\\varga\\Box\\Data\\nc Files\\MetSta\\aux_orbits\\GFZ0MGXRAP_20251610000_01D_30S_CLK.CLK\n",
      "Downloading: GFZ0MGXRAP_20251610000_01D_30S_CLK.CLK.gz"
     ]
    },
    {
     "name": "stderr",
     "output_type": "stream",
     "text": [
      "GFZ0MGXRAP_20251610000_01D_30S_CLK.CLK.gz: 0.00B [06:34, ?B/s]\n"
     ]
    },
    {
     "name": "stdout",
     "output_type": "stream",
     "text": [
      "Requested file GFZ0MGXRAP_20251610000_01D_30S_CLK.CLK.gz cannot be not found in ftp server\n",
      "Looking for GFZ clock file in ftp server...\n",
      "Downloading: gfz0MGXRAP_20251610000_01D_30S_CLK.CLK.gz"
     ]
    },
    {
     "name": "stderr",
     "output_type": "stream",
     "text": [
      "GFZ0MGXRAP_20251610000_01D_30S_CLK.CLK.gz: 0.00B [00:01, ?B/s]\n"
     ]
    },
    {
     "name": "stdout",
     "output_type": "stream",
     "text": [
      "[WARN] Skipping due to error: MetStation_raw_20250608221805.25O\n",
      "        ('Requested file', 'GFZ0MGXRAP_20251610000_01D_30S_CLK.CLK.gz', 'cannot be not found in FTP server | Exiting')\n",
      "Could not find any files matching the pattern C:\\Users\\varga\\Box\\Data\\nc Files\\MetSta\\processed*.nc\n",
      "C:\\Users\\varga\\Box\\Data\\nc Files\\MetSta\\MetStation_raw_20250609221805.25O exists | Reading...\n",
      "Observation file  C:\\Users\\varga\\Box\\Data\\nc Files\\MetSta\\MetStation_raw_20250609221805.25O  is read in 9.08 seconds.\n",
      "Processing 102622 individual observations\n",
      "Calculating Azimuth and Elevation\n",
      "C:\\Users\\varga\\Box\\Data\\nc Files\\MetSta\\aux_orbits\\GFZ0MGXRAP_20251600000_01D_05M_ORB.SP3 exists | Reading...\n",
      "C:\\Users\\varga\\Box\\Data\\nc Files\\MetSta\\aux_orbits\\GFZ0MGXRAP_20251600000_01D_05M_ORB.SP3 file is read in 0.81 seconds\n",
      "C:\\Users\\varga\\Box\\Data\\nc Files\\MetSta\\aux_orbits\\GFZ0MGXRAP_20251610000_01D_05M_ORB.SP3 exists | Reading...\n",
      "C:\\Users\\varga\\Box\\Data\\nc Files\\MetSta\\aux_orbits\\GFZ0MGXRAP_20251610000_01D_05M_ORB.SP3 file is read in 0.41 seconds\n",
      "This file does not exist: C:\\Users\\varga\\Box\\Data\\nc Files\\MetSta\\aux_orbits\\GFZ0MGXRAP_20251620000_01D_05M_ORB.SP3\n",
      "Downloading: ftp://gssc.esa.int/gnss/products/2370//GFZ0MGXRAP_20251620000_01D_05M_ORB.SP3.gz"
     ]
    },
    {
     "name": "stderr",
     "output_type": "stream",
     "text": [
      "GFZ0MGXRAP_20251620000_01D_05M_ORB.SP3.gz: 1.03MB [00:10, 107kB/s]                             \n"
     ]
    },
    {
     "name": "stdout",
     "output_type": "stream",
     "text": [
      " | Download completed for ftp://gssc.esa.int/gnss/products/2370//GFZ0MGXRAP_20251620000_01D_05M_ORB.SP3.gz\n",
      "C:\\Users\\varga\\Box\\Data\\nc Files\\MetSta\\aux_orbits\\GFZ0MGXRAP_20251620000_01D_05M_ORB.SP3 file is read in 11.13 seconds\n",
      "C:\\Users\\varga\\Box\\Data\\nc Files\\MetSta\\aux_orbits\\GFZ0MGXRAP_20251600000_01D_30S_CLK.CLK exists | Reading...\n",
      "C:\\Users\\varga\\Box\\Data\\nc Files\\MetSta\\aux_orbits\\GFZ0MGXRAP_20251600000_01D_30S_CLK.CLK file is read in 3.04 seconds\n",
      "This file does not exist: C:\\Users\\varga\\Box\\Data\\nc Files\\MetSta\\aux_orbits\\GFZ0MGXRAP_20251610000_01D_30S_CLK.CLK\n",
      "Downloading: GFZ0MGXRAP_20251610000_01D_30S_CLK.CLK.gz"
     ]
    },
    {
     "name": "stderr",
     "output_type": "stream",
     "text": [
      "GFZ0MGXRAP_20251610000_01D_30S_CLK.CLK.gz: 4.76MB [00:05, 964kB/s]                             \n"
     ]
    },
    {
     "name": "stdout",
     "output_type": "stream",
     "text": [
      " | Download completed for GFZ0MGXRAP_20251610000_01D_30S_CLK.CLK.gz\n",
      "C:\\Users\\varga\\Box\\Data\\nc Files\\MetSta\\aux_orbits\\GFZ0MGXRAP_20251610000_01D_30S_CLK.CLK file is read in 3.19 seconds\n",
      "This file does not exist: C:\\Users\\varga\\Box\\Data\\nc Files\\MetSta\\aux_orbits\\GFZ0MGXRAP_20251620000_01D_30S_CLK.CLK\n",
      "Downloading: GFZ0MGXRAP_20251620000_01D_30S_CLK.CLK.gz"
     ]
    },
    {
     "name": "stderr",
     "output_type": "stream",
     "text": [
      "GFZ0MGXRAP_20251620000_01D_30S_CLK.CLK.gz: 4.73MB [00:07, 700kB/s]                             \n"
     ]
    },
    {
     "name": "stdout",
     "output_type": "stream",
     "text": [
      " | Download completed for GFZ0MGXRAP_20251620000_01D_30S_CLK.CLK.gz\n",
      "C:\\Users\\varga\\Box\\Data\\nc Files\\MetSta\\aux_orbits\\GFZ0MGXRAP_20251620000_01D_30S_CLK.CLK file is read in 3.15 seconds\n",
      "SP3 interpolation is done in 4.43 seconds\n",
      "Saved 102622 individual observations in C:\\Users\\varga\\Box\\Data\\nc Files\\MetSta\\processed\\MetStation_raw_20250609221805.nc\n",
      "[OK] MetStation_raw_20250609221805.25O\n",
      "Could not find any files matching the pattern C:\\Users\\varga\\Box\\Data\\nc Files\\MetSta\\processed*.nc\n",
      "C:\\Users\\varga\\Box\\Data\\nc Files\\MetSta\\MetStation_raw_20250610221806.25O exists | Reading...\n",
      "Observation file  C:\\Users\\varga\\Box\\Data\\nc Files\\MetSta\\MetStation_raw_20250610221806.25O  is read in 3.50 seconds.\n",
      "Processing 100142 individual observations\n",
      "Calculating Azimuth and Elevation\n",
      "C:\\Users\\varga\\Box\\Data\\nc Files\\MetSta\\aux_orbits\\GFZ0MGXRAP_20251610000_01D_05M_ORB.SP3 exists | Reading...\n",
      "C:\\Users\\varga\\Box\\Data\\nc Files\\MetSta\\aux_orbits\\GFZ0MGXRAP_20251610000_01D_05M_ORB.SP3 file is read in 0.74 seconds\n",
      "C:\\Users\\varga\\Box\\Data\\nc Files\\MetSta\\aux_orbits\\GFZ0MGXRAP_20251620000_01D_05M_ORB.SP3 exists | Reading...\n",
      "C:\\Users\\varga\\Box\\Data\\nc Files\\MetSta\\aux_orbits\\GFZ0MGXRAP_20251620000_01D_05M_ORB.SP3 file is read in 0.49 seconds\n",
      "This file does not exist: C:\\Users\\varga\\Box\\Data\\nc Files\\MetSta\\aux_orbits\\GFZ0MGXRAP_20251630000_01D_05M_ORB.SP3\n",
      "Downloading: ftp://gssc.esa.int/gnss/products/2370//GFZ0MGXRAP_20251630000_01D_05M_ORB.SP3.gz"
     ]
    },
    {
     "name": "stderr",
     "output_type": "stream",
     "text": [
      "GFZ0MGXRAP_20251630000_01D_05M_ORB.SP3.gz: 1.04MB [00:03, 340kB/s]                             \n"
     ]
    },
    {
     "name": "stdout",
     "output_type": "stream",
     "text": [
      " | Download completed for ftp://gssc.esa.int/gnss/products/2370//GFZ0MGXRAP_20251630000_01D_05M_ORB.SP3.gz\n",
      "C:\\Users\\varga\\Box\\Data\\nc Files\\MetSta\\aux_orbits\\GFZ0MGXRAP_20251630000_01D_05M_ORB.SP3 file is read in 4.12 seconds\n",
      "C:\\Users\\varga\\Box\\Data\\nc Files\\MetSta\\aux_orbits\\GFZ0MGXRAP_20251610000_01D_30S_CLK.CLK exists | Reading...\n",
      "C:\\Users\\varga\\Box\\Data\\nc Files\\MetSta\\aux_orbits\\GFZ0MGXRAP_20251610000_01D_30S_CLK.CLK file is read in 3.16 seconds\n",
      "C:\\Users\\varga\\Box\\Data\\nc Files\\MetSta\\aux_orbits\\GFZ0MGXRAP_20251620000_01D_30S_CLK.CLK exists | Reading...\n",
      "C:\\Users\\varga\\Box\\Data\\nc Files\\MetSta\\aux_orbits\\GFZ0MGXRAP_20251620000_01D_30S_CLK.CLK file is read in 3.06 seconds\n",
      "This file does not exist: C:\\Users\\varga\\Box\\Data\\nc Files\\MetSta\\aux_orbits\\GFZ0MGXRAP_20251630000_01D_30S_CLK.CLK\n",
      "Downloading: GFZ0MGXRAP_20251630000_01D_30S_CLK.CLK.gz"
     ]
    },
    {
     "name": "stderr",
     "output_type": "stream",
     "text": [
      "GFZ0MGXRAP_20251630000_01D_30S_CLK.CLK.gz: 4.71MB [00:03, 1.24MB/s]                            \n"
     ]
    },
    {
     "name": "stdout",
     "output_type": "stream",
     "text": [
      " | Download completed for GFZ0MGXRAP_20251630000_01D_30S_CLK.CLK.gz\n",
      "C:\\Users\\varga\\Box\\Data\\nc Files\\MetSta\\aux_orbits\\GFZ0MGXRAP_20251630000_01D_30S_CLK.CLK file is read in 3.15 seconds\n",
      "SP3 interpolation is done in 4.24 seconds\n",
      "Saved 100142 individual observations in C:\\Users\\varga\\Box\\Data\\nc Files\\MetSta\\processed\\MetStation_raw_20250610221806.nc\n",
      "[OK] MetStation_raw_20250610221806.25O\n",
      "Could not find any files matching the pattern C:\\Users\\varga\\Box\\Data\\nc Files\\MetSta\\processed*.nc\n",
      "C:\\Users\\varga\\Box\\Data\\nc Files\\MetSta\\MetStation_raw_20250611221807.25O exists | Reading...\n",
      "Observation file  C:\\Users\\varga\\Box\\Data\\nc Files\\MetSta\\MetStation_raw_20250611221807.25O  is read in 4.09 seconds.\n",
      "Processing 101411 individual observations\n",
      "Calculating Azimuth and Elevation\n",
      "C:\\Users\\varga\\Box\\Data\\nc Files\\MetSta\\aux_orbits\\GFZ0MGXRAP_20251620000_01D_05M_ORB.SP3 exists | Reading...\n",
      "C:\\Users\\varga\\Box\\Data\\nc Files\\MetSta\\aux_orbits\\GFZ0MGXRAP_20251620000_01D_05M_ORB.SP3 file is read in 0.92 seconds\n",
      "C:\\Users\\varga\\Box\\Data\\nc Files\\MetSta\\aux_orbits\\GFZ0MGXRAP_20251630000_01D_05M_ORB.SP3 exists | Reading...\n",
      "C:\\Users\\varga\\Box\\Data\\nc Files\\MetSta\\aux_orbits\\GFZ0MGXRAP_20251630000_01D_05M_ORB.SP3 file is read in 0.56 seconds\n",
      "This file does not exist: C:\\Users\\varga\\Box\\Data\\nc Files\\MetSta\\aux_orbits\\GFZ0MGXRAP_20251640000_01D_05M_ORB.SP3\n",
      "Downloading: ftp://gssc.esa.int/gnss/products/2370//GFZ0MGXRAP_20251640000_01D_05M_ORB.SP3.gz"
     ]
    },
    {
     "name": "stderr",
     "output_type": "stream",
     "text": [
      "GFZ0MGXRAP_20251640000_01D_05M_ORB.SP3.gz: 1.03MB [00:03, 327kB/s]                             \n"
     ]
    },
    {
     "name": "stdout",
     "output_type": "stream",
     "text": [
      " | Download completed for ftp://gssc.esa.int/gnss/products/2370//GFZ0MGXRAP_20251640000_01D_05M_ORB.SP3.gz\n",
      "C:\\Users\\varga\\Box\\Data\\nc Files\\MetSta\\aux_orbits\\GFZ0MGXRAP_20251640000_01D_05M_ORB.SP3 file is read in 5.17 seconds\n",
      "C:\\Users\\varga\\Box\\Data\\nc Files\\MetSta\\aux_orbits\\GFZ0MGXRAP_20251620000_01D_30S_CLK.CLK exists | Reading...\n",
      "C:\\Users\\varga\\Box\\Data\\nc Files\\MetSta\\aux_orbits\\GFZ0MGXRAP_20251620000_01D_30S_CLK.CLK file is read in 16.75 seconds\n",
      "C:\\Users\\varga\\Box\\Data\\nc Files\\MetSta\\aux_orbits\\GFZ0MGXRAP_20251630000_01D_30S_CLK.CLK exists | Reading...\n",
      "C:\\Users\\varga\\Box\\Data\\nc Files\\MetSta\\aux_orbits\\GFZ0MGXRAP_20251630000_01D_30S_CLK.CLK file is read in 3.94 seconds\n",
      "This file does not exist: C:\\Users\\varga\\Box\\Data\\nc Files\\MetSta\\aux_orbits\\GFZ0MGXRAP_20251640000_01D_30S_CLK.CLK\n",
      "Downloading: GFZ0MGXRAP_20251640000_01D_30S_CLK.CLK.gz"
     ]
    },
    {
     "name": "stderr",
     "output_type": "stream",
     "text": [
      "GFZ0MGXRAP_20251640000_01D_30S_CLK.CLK.gz: 4.73MB [00:04, 1.04MB/s]                            \n"
     ]
    },
    {
     "name": "stdout",
     "output_type": "stream",
     "text": [
      " | Download completed for GFZ0MGXRAP_20251640000_01D_30S_CLK.CLK.gz\n",
      "C:\\Users\\varga\\Box\\Data\\nc Files\\MetSta\\aux_orbits\\GFZ0MGXRAP_20251640000_01D_30S_CLK.CLK file is read in 3.95 seconds\n",
      "SP3 interpolation is done in 10.46 seconds\n",
      "Saved 101411 individual observations in C:\\Users\\varga\\Box\\Data\\nc Files\\MetSta\\processed\\MetStation_raw_20250611221807.nc\n",
      "[OK] MetStation_raw_20250611221807.25O\n",
      "Could not find any files matching the pattern C:\\Users\\varga\\Box\\Data\\nc Files\\MetSta\\processed*.nc\n",
      "C:\\Users\\varga\\Box\\Data\\nc Files\\MetSta\\MetStation_raw_20250612221807.25O exists | Reading...\n",
      "Observation file  C:\\Users\\varga\\Box\\Data\\nc Files\\MetSta\\MetStation_raw_20250612221807.25O  is read in 3.52 seconds.\n",
      "Processing 102839 individual observations\n",
      "Calculating Azimuth and Elevation\n",
      "C:\\Users\\varga\\Box\\Data\\nc Files\\MetSta\\aux_orbits\\GFZ0MGXRAP_20251630000_01D_05M_ORB.SP3 exists | Reading...\n",
      "C:\\Users\\varga\\Box\\Data\\nc Files\\MetSta\\aux_orbits\\GFZ0MGXRAP_20251630000_01D_05M_ORB.SP3 file is read in 0.87 seconds\n",
      "C:\\Users\\varga\\Box\\Data\\nc Files\\MetSta\\aux_orbits\\GFZ0MGXRAP_20251640000_01D_05M_ORB.SP3 exists | Reading...\n",
      "C:\\Users\\varga\\Box\\Data\\nc Files\\MetSta\\aux_orbits\\GFZ0MGXRAP_20251640000_01D_05M_ORB.SP3 file is read in 0.60 seconds\n",
      "This file does not exist: C:\\Users\\varga\\Box\\Data\\nc Files\\MetSta\\aux_orbits\\GFZ0MGXRAP_20251650000_01D_05M_ORB.SP3\n",
      "Downloading: ftp://gssc.esa.int/gnss/products/2370//GFZ0MGXRAP_20251650000_01D_05M_ORB.SP3.gz"
     ]
    },
    {
     "name": "stderr",
     "output_type": "stream",
     "text": [
      "GFZ0MGXRAP_20251650000_01D_05M_ORB.SP3.gz: 1.05MB [00:03, 316kB/s]                             \n"
     ]
    },
    {
     "name": "stdout",
     "output_type": "stream",
     "text": [
      " | Download completed for ftp://gssc.esa.int/gnss/products/2370//GFZ0MGXRAP_20251650000_01D_05M_ORB.SP3.gz\n",
      "C:\\Users\\varga\\Box\\Data\\nc Files\\MetSta\\aux_orbits\\GFZ0MGXRAP_20251650000_01D_05M_ORB.SP3 file is read in 4.26 seconds\n",
      "C:\\Users\\varga\\Box\\Data\\nc Files\\MetSta\\aux_orbits\\GFZ0MGXRAP_20251630000_01D_30S_CLK.CLK exists | Reading...\n",
      "C:\\Users\\varga\\Box\\Data\\nc Files\\MetSta\\aux_orbits\\GFZ0MGXRAP_20251630000_01D_30S_CLK.CLK file is read in 18.70 seconds\n",
      "C:\\Users\\varga\\Box\\Data\\nc Files\\MetSta\\aux_orbits\\GFZ0MGXRAP_20251640000_01D_30S_CLK.CLK exists | Reading...\n",
      "C:\\Users\\varga\\Box\\Data\\nc Files\\MetSta\\aux_orbits\\GFZ0MGXRAP_20251640000_01D_30S_CLK.CLK file is read in 3.79 seconds\n",
      "This file does not exist: C:\\Users\\varga\\Box\\Data\\nc Files\\MetSta\\aux_orbits\\GFZ0MGXRAP_20251650000_01D_30S_CLK.CLK\n",
      "Downloading: GFZ0MGXRAP_20251650000_01D_30S_CLK.CLK.gz"
     ]
    },
    {
     "name": "stderr",
     "output_type": "stream",
     "text": [
      "GFZ0MGXRAP_20251650000_01D_30S_CLK.CLK.gz: 4.75MB [00:03, 1.29MB/s]                            \n"
     ]
    },
    {
     "name": "stdout",
     "output_type": "stream",
     "text": [
      " | Download completed for GFZ0MGXRAP_20251650000_01D_30S_CLK.CLK.gz\n",
      "C:\\Users\\varga\\Box\\Data\\nc Files\\MetSta\\aux_orbits\\GFZ0MGXRAP_20251650000_01D_30S_CLK.CLK file is read in 3.44 seconds\n",
      "SP3 interpolation is done in 30.61 seconds\n",
      "Saved 102839 individual observations in C:\\Users\\varga\\Box\\Data\\nc Files\\MetSta\\processed\\MetStation_raw_20250612221807.nc\n",
      "[OK] MetStation_raw_20250612221807.25O\n",
      "Could not find any files matching the pattern C:\\Users\\varga\\Box\\Data\\nc Files\\MetSta\\processed*.nc\n",
      "C:\\Users\\varga\\Box\\Data\\nc Files\\MetSta\\MetStation_raw_20250613221809.25O exists | Reading...\n",
      "Observation file  C:\\Users\\varga\\Box\\Data\\nc Files\\MetSta\\MetStation_raw_20250613221809.25O  is read in 3.83 seconds.\n",
      "Processing 101214 individual observations\n",
      "Calculating Azimuth and Elevation\n",
      "C:\\Users\\varga\\Box\\Data\\nc Files\\MetSta\\aux_orbits\\GFZ0MGXRAP_20251640000_01D_05M_ORB.SP3 exists | Reading...\n",
      "C:\\Users\\varga\\Box\\Data\\nc Files\\MetSta\\aux_orbits\\GFZ0MGXRAP_20251640000_01D_05M_ORB.SP3 file is read in 0.89 seconds\n",
      "C:\\Users\\varga\\Box\\Data\\nc Files\\MetSta\\aux_orbits\\GFZ0MGXRAP_20251650000_01D_05M_ORB.SP3 exists | Reading...\n",
      "C:\\Users\\varga\\Box\\Data\\nc Files\\MetSta\\aux_orbits\\GFZ0MGXRAP_20251650000_01D_05M_ORB.SP3 file is read in 9842.59 seconds\n",
      "This file does not exist: C:\\Users\\varga\\Box\\Data\\nc Files\\MetSta\\aux_orbits\\GFZ0MGXRAP_20251660000_01D_05M_ORB.SP3\n",
      "Downloading: ftp://gssc.esa.int/gnss/products/2371//GFZ0MGXRAP_20251660000_01D_05M_ORB.SP3.gz"
     ]
    },
    {
     "name": "stderr",
     "output_type": "stream",
     "text": [
      "GFZ0MGXRAP_20251660000_01D_05M_ORB.SP3.gz: 1.05MB [00:03, 278kB/s]                             \n"
     ]
    },
    {
     "name": "stdout",
     "output_type": "stream",
     "text": [
      " | Download completed for ftp://gssc.esa.int/gnss/products/2371//GFZ0MGXRAP_20251660000_01D_05M_ORB.SP3.gz\n",
      "C:\\Users\\varga\\Box\\Data\\nc Files\\MetSta\\aux_orbits\\GFZ0MGXRAP_20251660000_01D_05M_ORB.SP3 file is read in 6.65 seconds\n",
      "C:\\Users\\varga\\Box\\Data\\nc Files\\MetSta\\aux_orbits\\GFZ0MGXRAP_20251640000_01D_30S_CLK.CLK exists | Reading...\n",
      "C:\\Users\\varga\\Box\\Data\\nc Files\\MetSta\\aux_orbits\\GFZ0MGXRAP_20251640000_01D_30S_CLK.CLK file is read in 21403.90 seconds\n",
      "C:\\Users\\varga\\Box\\Data\\nc Files\\MetSta\\aux_orbits\\GFZ0MGXRAP_20251650000_01D_30S_CLK.CLK exists | Reading...\n",
      "C:\\Users\\varga\\Box\\Data\\nc Files\\MetSta\\aux_orbits\\GFZ0MGXRAP_20251650000_01D_30S_CLK.CLK file is read in 10.97 seconds\n",
      "This file does not exist: C:\\Users\\varga\\Box\\Data\\nc Files\\MetSta\\aux_orbits\\GFZ0MGXRAP_20251660000_01D_30S_CLK.CLK\n",
      "Downloading: GFZ0MGXRAP_20251660000_01D_30S_CLK.CLK.gz"
     ]
    },
    {
     "name": "stderr",
     "output_type": "stream",
     "text": [
      "GFZ0MGXRAP_20251660000_01D_30S_CLK.CLK.gz: 4.79MB [00:05, 894kB/s]                             \n"
     ]
    },
    {
     "name": "stdout",
     "output_type": "stream",
     "text": [
      " | Download completed for GFZ0MGXRAP_20251660000_01D_30S_CLK.CLK.gz\n",
      "C:\\Users\\varga\\Box\\Data\\nc Files\\MetSta\\aux_orbits\\GFZ0MGXRAP_20251660000_01D_30S_CLK.CLK file is read in 7.18 seconds\n"
     ]
    },
    {
     "ename": "KeyboardInterrupt",
     "evalue": "",
     "output_type": "error",
     "traceback": [
      "\u001b[1;31m---------------------------------------------------------------------------\u001b[0m",
      "\u001b[1;31mKeyboardInterrupt\u001b[0m                         Traceback (most recent call last)",
      "Cell \u001b[1;32mIn[9], line 30\u001b[0m\n\u001b[0;32m     27\u001b[0m pattern \u001b[38;5;241m=\u001b[39m {\u001b[38;5;124m'\u001b[39m\u001b[38;5;124mMetSta\u001b[39m\u001b[38;5;124m'\u001b[39m: rinex}\n\u001b[0;32m     28\u001b[0m outputdir \u001b[38;5;241m=\u001b[39m {\u001b[38;5;124m'\u001b[39m\u001b[38;5;124mMetSta\u001b[39m\u001b[38;5;124m'\u001b[39m: \u001b[38;5;28mstr\u001b[39m(outdir)}\n\u001b[1;32m---> 30\u001b[0m result \u001b[38;5;241m=\u001b[39m \u001b[43mgv\u001b[49m\u001b[38;5;241;43m.\u001b[39;49m\u001b[43mpreprocess\u001b[49m\u001b[43m(\u001b[49m\n\u001b[0;32m     31\u001b[0m \u001b[43m    \u001b[49m\u001b[43mpattern\u001b[49m\u001b[43m,\u001b[49m\n\u001b[0;32m     32\u001b[0m \u001b[43m    \u001b[49m\u001b[43minterval\u001b[49m\u001b[38;5;241;43m=\u001b[39;49m\u001b[38;5;124;43m'\u001b[39;49m\u001b[38;5;124;43m15s\u001b[39;49m\u001b[38;5;124;43m'\u001b[39;49m\u001b[43m,\u001b[49m\n\u001b[0;32m     33\u001b[0m \u001b[43m    \u001b[49m\u001b[43mkeepvars\u001b[49m\u001b[38;5;241;43m=\u001b[39;49m\u001b[43mkeepvars\u001b[49m\u001b[43m,\u001b[49m\n\u001b[0;32m     34\u001b[0m \u001b[43m    \u001b[49m\u001b[43moutputdir\u001b[49m\u001b[38;5;241;43m=\u001b[39;49m\u001b[43moutputdir\u001b[49m\u001b[43m,\u001b[49m\n\u001b[0;32m     35\u001b[0m \u001b[43m    \u001b[49m\u001b[43moutputresult\u001b[49m\u001b[38;5;241;43m=\u001b[39;49m\u001b[38;5;28;43;01mTrue\u001b[39;49;00m\u001b[43m,\u001b[49m\n\u001b[0;32m     36\u001b[0m \u001b[43m    \u001b[49m\u001b[43maux_path\u001b[49m\u001b[38;5;241;43m=\u001b[39;49m\u001b[38;5;28;43mstr\u001b[39;49m\u001b[43m(\u001b[49m\u001b[43maux_dir\u001b[49m\u001b[43m)\u001b[49m\u001b[43m  \u001b[49m\u001b[38;5;66;43;03m# clave para cachear SP3/CLK\u001b[39;49;00m\n\u001b[0;32m     37\u001b[0m \u001b[43m\u001b[49m\u001b[43m)\u001b[49m\n\u001b[0;32m     39\u001b[0m \u001b[38;5;66;03m# Validación simple del resultado\u001b[39;00m\n\u001b[0;32m     40\u001b[0m metsta_res \u001b[38;5;241m=\u001b[39m result\u001b[38;5;241m.\u001b[39mget(\u001b[38;5;124m'\u001b[39m\u001b[38;5;124mMetSta\u001b[39m\u001b[38;5;124m'\u001b[39m, [])\n",
      "File \u001b[1;32m~\\Documents\\GitHub\\gnssvod\\gnssvod\\io\\preprocess.py:157\u001b[0m, in \u001b[0;36mpreprocess\u001b[1;34m(filepattern, orbit, interval, keepvars, outputdir, overwrite, encoding, outputresult, aux_path, approx_position)\u001b[0m\n\u001b[0;32m    153\u001b[0m \u001b[38;5;66;03m# note: orbit cannot be parallelized easily because it \u001b[39;00m\n\u001b[0;32m    154\u001b[0m \u001b[38;5;66;03m# downloads and unzips third-party files in the current directory\u001b[39;00m\n\u001b[0;32m    155\u001b[0m \u001b[38;5;28;01mif\u001b[39;00m \u001b[38;5;129;01mnot\u001b[39;00m \u001b[38;5;124m'\u001b[39m\u001b[38;5;124morbit_data\u001b[39m\u001b[38;5;124m'\u001b[39m \u001b[38;5;129;01min\u001b[39;00m \u001b[38;5;28mlocals\u001b[39m():\n\u001b[0;32m    156\u001b[0m     \u001b[38;5;66;03m# if there is no previous orbit data, the orbit data is returned as well\u001b[39;00m\n\u001b[1;32m--> 157\u001b[0m     x, orbit_data \u001b[38;5;241m=\u001b[39m \u001b[43madd_azi_ele\u001b[49m\u001b[43m(\u001b[49m\u001b[43mx\u001b[49m\u001b[43m,\u001b[49m\u001b[43m \u001b[49m\u001b[43maux_path\u001b[49m\u001b[43m \u001b[49m\u001b[38;5;241;43m=\u001b[39;49m\u001b[43m \u001b[49m\u001b[43maux_path\u001b[49m\u001b[43m)\u001b[49m\n\u001b[0;32m    158\u001b[0m \u001b[38;5;28;01melse\u001b[39;00m:\n\u001b[0;32m    159\u001b[0m     \u001b[38;5;66;03m# on following iterations the orbit data is tentatively recycled to reduce computational time\u001b[39;00m\n\u001b[0;32m    160\u001b[0m     x, orbit_data \u001b[38;5;241m=\u001b[39m add_azi_ele(x, orbit_data, aux_path \u001b[38;5;241m=\u001b[39m aux_path)\n",
      "File \u001b[1;32m~\\Documents\\GitHub\\gnssvod\\gnssvod\\io\\preprocess.py:239\u001b[0m, in \u001b[0;36madd_azi_ele\u001b[1;34m(obs, orbit_data, aux_path)\u001b[0m\n\u001b[0;32m    235\u001b[0m     do \u001b[38;5;241m=\u001b[39m \u001b[38;5;28;01mTrue\u001b[39;00m\n\u001b[0;32m    237\u001b[0m \u001b[38;5;28;01mif\u001b[39;00m do:\n\u001b[0;32m    238\u001b[0m     \u001b[38;5;66;03m# read (=usually download) orbit data\u001b[39;00m\n\u001b[1;32m--> 239\u001b[0m     orbit \u001b[38;5;241m=\u001b[39m \u001b[43msp3_interp_fast\u001b[49m\u001b[43m(\u001b[49m\u001b[43mstart_time\u001b[49m\u001b[43m,\u001b[49m\u001b[43m \u001b[49m\u001b[43mend_time\u001b[49m\u001b[43m,\u001b[49m\u001b[43m \u001b[49m\u001b[43minterval\u001b[49m\u001b[38;5;241;43m=\u001b[39;49m\u001b[43mobs\u001b[49m\u001b[38;5;241;43m.\u001b[39;49m\u001b[43minterval\u001b[49m\u001b[43m,\u001b[49m\u001b[43m \u001b[49m\u001b[43maux_path\u001b[49m\u001b[38;5;241;43m=\u001b[39;49m\u001b[43maux_path\u001b[49m\u001b[43m)\u001b[49m\n\u001b[0;32m    240\u001b[0m     \u001b[38;5;66;03m# prepare an orbit object as well\u001b[39;00m\n\u001b[0;32m    241\u001b[0m     orbit_data \u001b[38;5;241m=\u001b[39m orbit\n",
      "File \u001b[1;32m~\\Documents\\GitHub\\gnssvod\\gnssvod\\position\\interpolation.py:76\u001b[0m, in \u001b[0;36msp3_interp_fast\u001b[1;34m(start_time, end_time, interval, poly_degree, sp3_product, clock_product, aux_path)\u001b[0m\n\u001b[0;32m     74\u001b[0m     \u001b[38;5;28;01mif\u001b[39;00m \u001b[38;5;28mlen\u001b[39m(clock_temp)\u001b[38;5;241m>\u001b[39m\u001b[38;5;241m3\u001b[39m:\n\u001b[0;32m     75\u001b[0m         clock_temp_resampled \u001b[38;5;241m=\u001b[39m clock_temp\u001b[38;5;241m.\u001b[39mresample(\u001b[38;5;124mf\u001b[39m\u001b[38;5;124m\"\u001b[39m\u001b[38;5;132;01m{\u001b[39;00minterval\u001b[38;5;132;01m}\u001b[39;00m\u001b[38;5;124ms\u001b[39m\u001b[38;5;124m\"\u001b[39m)\n\u001b[1;32m---> 76\u001b[0m         clock_temp_resampled \u001b[38;5;241m=\u001b[39m \u001b[43mclock_temp_resampled\u001b[49m\u001b[38;5;241;43m.\u001b[39;49m\u001b[43minterpolate\u001b[49m\u001b[43m(\u001b[49m\u001b[43mmethod\u001b[49m\u001b[38;5;241;43m=\u001b[39;49m\u001b[38;5;124;43m'\u001b[39;49m\u001b[38;5;124;43mcubic\u001b[39;49m\u001b[38;5;124;43m'\u001b[39;49m\u001b[43m)\u001b[49m\n\u001b[0;32m     77\u001b[0m         clock_resampled\u001b[38;5;241m.\u001b[39mappend(clock_temp_resampled)\n\u001b[0;32m     79\u001b[0m clock_resampled \u001b[38;5;241m=\u001b[39m _pd\u001b[38;5;241m.\u001b[39mconcat(clock_resampled, keys\u001b[38;5;241m=\u001b[39msvList_clk, names\u001b[38;5;241m=\u001b[39m[\u001b[38;5;124m'\u001b[39m\u001b[38;5;124mSV\u001b[39m\u001b[38;5;124m'\u001b[39m])\u001b[38;5;241m.\u001b[39mreorder_levels([\u001b[38;5;124m'\u001b[39m\u001b[38;5;124mEpoch\u001b[39m\u001b[38;5;124m'\u001b[39m, \u001b[38;5;124m'\u001b[39m\u001b[38;5;124mSV\u001b[39m\u001b[38;5;124m'\u001b[39m])\u001b[38;5;241m.\u001b[39msort_index(level\u001b[38;5;241m=\u001b[39m\u001b[38;5;124m'\u001b[39m\u001b[38;5;124mEpoch\u001b[39m\u001b[38;5;124m'\u001b[39m)\n",
      "File \u001b[1;32m~\\AppData\\Local\\Packages\\PythonSoftwareFoundation.Python.3.11_qbz5n2kfra8p0\\LocalCache\\local-packages\\Python311\\site-packages\\pandas\\core\\resample.py:1087\u001b[0m, in \u001b[0;36mResampler.interpolate\u001b[1;34m(self, method, axis, limit, inplace, limit_direction, limit_area, downcast, **kwargs)\u001b[0m\n\u001b[0;32m    935\u001b[0m \u001b[38;5;250m\u001b[39m\u001b[38;5;124;03m\"\"\"\u001b[39;00m\n\u001b[0;32m    936\u001b[0m \u001b[38;5;124;03mInterpolate values between target timestamps according to different methods.\u001b[39;00m\n\u001b[0;32m    937\u001b[0m \n\u001b[1;32m   (...)\u001b[0m\n\u001b[0;32m   1084\u001b[0m \u001b[38;5;124;03m``07:00:00`` and ``07:00:02``.\u001b[39;00m\n\u001b[0;32m   1085\u001b[0m \u001b[38;5;124;03m\"\"\"\u001b[39;00m\n\u001b[0;32m   1086\u001b[0m \u001b[38;5;28;01massert\u001b[39;00m downcast \u001b[38;5;129;01mis\u001b[39;00m lib\u001b[38;5;241m.\u001b[39mno_default  \u001b[38;5;66;03m# just checking coverage\u001b[39;00m\n\u001b[1;32m-> 1087\u001b[0m result \u001b[38;5;241m=\u001b[39m \u001b[38;5;28;43mself\u001b[39;49m\u001b[38;5;241;43m.\u001b[39;49m\u001b[43m_upsample\u001b[49m\u001b[43m(\u001b[49m\u001b[38;5;124;43m\"\u001b[39;49m\u001b[38;5;124;43masfreq\u001b[39;49m\u001b[38;5;124;43m\"\u001b[39;49m\u001b[43m)\u001b[49m\n\u001b[0;32m   1088\u001b[0m \u001b[38;5;28;01mreturn\u001b[39;00m result\u001b[38;5;241m.\u001b[39minterpolate(\n\u001b[0;32m   1089\u001b[0m     method\u001b[38;5;241m=\u001b[39mmethod,\n\u001b[0;32m   1090\u001b[0m     axis\u001b[38;5;241m=\u001b[39maxis,\n\u001b[1;32m   (...)\u001b[0m\n\u001b[0;32m   1096\u001b[0m     \u001b[38;5;241m*\u001b[39m\u001b[38;5;241m*\u001b[39mkwargs,\n\u001b[0;32m   1097\u001b[0m )\n",
      "File \u001b[1;32m~\\AppData\\Local\\Packages\\PythonSoftwareFoundation.Python.3.11_qbz5n2kfra8p0\\LocalCache\\local-packages\\Python311\\site-packages\\pandas\\core\\resample.py:1842\u001b[0m, in \u001b[0;36mDatetimeIndexResampler._upsample\u001b[1;34m(self, method, limit, fill_value)\u001b[0m\n\u001b[0;32m   1840\u001b[0m     \u001b[38;5;28;01mif\u001b[39;00m method \u001b[38;5;241m==\u001b[39m \u001b[38;5;124m\"\u001b[39m\u001b[38;5;124masfreq\u001b[39m\u001b[38;5;124m\"\u001b[39m:\n\u001b[0;32m   1841\u001b[0m         method \u001b[38;5;241m=\u001b[39m \u001b[38;5;28;01mNone\u001b[39;00m\n\u001b[1;32m-> 1842\u001b[0m     result \u001b[38;5;241m=\u001b[39m \u001b[43mobj\u001b[49m\u001b[38;5;241;43m.\u001b[39;49m\u001b[43mreindex\u001b[49m\u001b[43m(\u001b[49m\n\u001b[0;32m   1843\u001b[0m \u001b[43m        \u001b[49m\u001b[43mres_index\u001b[49m\u001b[43m,\u001b[49m\u001b[43m \u001b[49m\u001b[43mmethod\u001b[49m\u001b[38;5;241;43m=\u001b[39;49m\u001b[43mmethod\u001b[49m\u001b[43m,\u001b[49m\u001b[43m \u001b[49m\u001b[43mlimit\u001b[49m\u001b[38;5;241;43m=\u001b[39;49m\u001b[43mlimit\u001b[49m\u001b[43m,\u001b[49m\u001b[43m \u001b[49m\u001b[43mfill_value\u001b[49m\u001b[38;5;241;43m=\u001b[39;49m\u001b[43mfill_value\u001b[49m\n\u001b[0;32m   1844\u001b[0m \u001b[43m    \u001b[49m\u001b[43m)\u001b[49m\n\u001b[0;32m   1846\u001b[0m \u001b[38;5;28;01mreturn\u001b[39;00m \u001b[38;5;28mself\u001b[39m\u001b[38;5;241m.\u001b[39m_wrap_result(result)\n",
      "File \u001b[1;32m~\\AppData\\Local\\Packages\\PythonSoftwareFoundation.Python.3.11_qbz5n2kfra8p0\\LocalCache\\local-packages\\Python311\\site-packages\\pandas\\core\\frame.py:5378\u001b[0m, in \u001b[0;36mDataFrame.reindex\u001b[1;34m(self, labels, index, columns, axis, method, copy, level, fill_value, limit, tolerance)\u001b[0m\n\u001b[0;32m   5359\u001b[0m \u001b[38;5;129m@doc\u001b[39m(\n\u001b[0;32m   5360\u001b[0m     NDFrame\u001b[38;5;241m.\u001b[39mreindex,\n\u001b[0;32m   5361\u001b[0m     klass\u001b[38;5;241m=\u001b[39m_shared_doc_kwargs[\u001b[38;5;124m\"\u001b[39m\u001b[38;5;124mklass\u001b[39m\u001b[38;5;124m\"\u001b[39m],\n\u001b[1;32m   (...)\u001b[0m\n\u001b[0;32m   5376\u001b[0m     tolerance\u001b[38;5;241m=\u001b[39m\u001b[38;5;28;01mNone\u001b[39;00m,\n\u001b[0;32m   5377\u001b[0m ) \u001b[38;5;241m-\u001b[39m\u001b[38;5;241m>\u001b[39m DataFrame:\n\u001b[1;32m-> 5378\u001b[0m     \u001b[38;5;28;01mreturn\u001b[39;00m \u001b[38;5;28;43msuper\u001b[39;49m\u001b[43m(\u001b[49m\u001b[43m)\u001b[49m\u001b[38;5;241;43m.\u001b[39;49m\u001b[43mreindex\u001b[49m\u001b[43m(\u001b[49m\n\u001b[0;32m   5379\u001b[0m \u001b[43m        \u001b[49m\u001b[43mlabels\u001b[49m\u001b[38;5;241;43m=\u001b[39;49m\u001b[43mlabels\u001b[49m\u001b[43m,\u001b[49m\n\u001b[0;32m   5380\u001b[0m \u001b[43m        \u001b[49m\u001b[43mindex\u001b[49m\u001b[38;5;241;43m=\u001b[39;49m\u001b[43mindex\u001b[49m\u001b[43m,\u001b[49m\n\u001b[0;32m   5381\u001b[0m \u001b[43m        \u001b[49m\u001b[43mcolumns\u001b[49m\u001b[38;5;241;43m=\u001b[39;49m\u001b[43mcolumns\u001b[49m\u001b[43m,\u001b[49m\n\u001b[0;32m   5382\u001b[0m \u001b[43m        \u001b[49m\u001b[43maxis\u001b[49m\u001b[38;5;241;43m=\u001b[39;49m\u001b[43maxis\u001b[49m\u001b[43m,\u001b[49m\n\u001b[0;32m   5383\u001b[0m \u001b[43m        \u001b[49m\u001b[43mmethod\u001b[49m\u001b[38;5;241;43m=\u001b[39;49m\u001b[43mmethod\u001b[49m\u001b[43m,\u001b[49m\n\u001b[0;32m   5384\u001b[0m \u001b[43m        \u001b[49m\u001b[43mcopy\u001b[49m\u001b[38;5;241;43m=\u001b[39;49m\u001b[43mcopy\u001b[49m\u001b[43m,\u001b[49m\n\u001b[0;32m   5385\u001b[0m \u001b[43m        \u001b[49m\u001b[43mlevel\u001b[49m\u001b[38;5;241;43m=\u001b[39;49m\u001b[43mlevel\u001b[49m\u001b[43m,\u001b[49m\n\u001b[0;32m   5386\u001b[0m \u001b[43m        \u001b[49m\u001b[43mfill_value\u001b[49m\u001b[38;5;241;43m=\u001b[39;49m\u001b[43mfill_value\u001b[49m\u001b[43m,\u001b[49m\n\u001b[0;32m   5387\u001b[0m \u001b[43m        \u001b[49m\u001b[43mlimit\u001b[49m\u001b[38;5;241;43m=\u001b[39;49m\u001b[43mlimit\u001b[49m\u001b[43m,\u001b[49m\n\u001b[0;32m   5388\u001b[0m \u001b[43m        \u001b[49m\u001b[43mtolerance\u001b[49m\u001b[38;5;241;43m=\u001b[39;49m\u001b[43mtolerance\u001b[49m\u001b[43m,\u001b[49m\n\u001b[0;32m   5389\u001b[0m \u001b[43m    \u001b[49m\u001b[43m)\u001b[49m\n",
      "File \u001b[1;32m~\\AppData\\Local\\Packages\\PythonSoftwareFoundation.Python.3.11_qbz5n2kfra8p0\\LocalCache\\local-packages\\Python311\\site-packages\\pandas\\core\\generic.py:5610\u001b[0m, in \u001b[0;36mNDFrame.reindex\u001b[1;34m(self, labels, index, columns, axis, method, copy, level, fill_value, limit, tolerance)\u001b[0m\n\u001b[0;32m   5607\u001b[0m     \u001b[38;5;28;01mreturn\u001b[39;00m \u001b[38;5;28mself\u001b[39m\u001b[38;5;241m.\u001b[39m_reindex_multi(axes, copy, fill_value)\n\u001b[0;32m   5609\u001b[0m \u001b[38;5;66;03m# perform the reindex on the axes\u001b[39;00m\n\u001b[1;32m-> 5610\u001b[0m \u001b[38;5;28;01mreturn\u001b[39;00m \u001b[38;5;28;43mself\u001b[39;49m\u001b[38;5;241;43m.\u001b[39;49m\u001b[43m_reindex_axes\u001b[49m\u001b[43m(\u001b[49m\n\u001b[0;32m   5611\u001b[0m \u001b[43m    \u001b[49m\u001b[43maxes\u001b[49m\u001b[43m,\u001b[49m\u001b[43m \u001b[49m\u001b[43mlevel\u001b[49m\u001b[43m,\u001b[49m\u001b[43m \u001b[49m\u001b[43mlimit\u001b[49m\u001b[43m,\u001b[49m\u001b[43m \u001b[49m\u001b[43mtolerance\u001b[49m\u001b[43m,\u001b[49m\u001b[43m \u001b[49m\u001b[43mmethod\u001b[49m\u001b[43m,\u001b[49m\u001b[43m \u001b[49m\u001b[43mfill_value\u001b[49m\u001b[43m,\u001b[49m\u001b[43m \u001b[49m\u001b[43mcopy\u001b[49m\n\u001b[0;32m   5612\u001b[0m \u001b[43m\u001b[49m\u001b[43m)\u001b[49m\u001b[38;5;241m.\u001b[39m__finalize__(\u001b[38;5;28mself\u001b[39m, method\u001b[38;5;241m=\u001b[39m\u001b[38;5;124m\"\u001b[39m\u001b[38;5;124mreindex\u001b[39m\u001b[38;5;124m\"\u001b[39m)\n",
      "File \u001b[1;32m~\\AppData\\Local\\Packages\\PythonSoftwareFoundation.Python.3.11_qbz5n2kfra8p0\\LocalCache\\local-packages\\Python311\\site-packages\\pandas\\core\\generic.py:5633\u001b[0m, in \u001b[0;36mNDFrame._reindex_axes\u001b[1;34m(self, axes, level, limit, tolerance, method, fill_value, copy)\u001b[0m\n\u001b[0;32m   5630\u001b[0m     \u001b[38;5;28;01mcontinue\u001b[39;00m\n\u001b[0;32m   5632\u001b[0m ax \u001b[38;5;241m=\u001b[39m \u001b[38;5;28mself\u001b[39m\u001b[38;5;241m.\u001b[39m_get_axis(a)\n\u001b[1;32m-> 5633\u001b[0m new_index, indexer \u001b[38;5;241m=\u001b[39m \u001b[43max\u001b[49m\u001b[38;5;241;43m.\u001b[39;49m\u001b[43mreindex\u001b[49m\u001b[43m(\u001b[49m\n\u001b[0;32m   5634\u001b[0m \u001b[43m    \u001b[49m\u001b[43mlabels\u001b[49m\u001b[43m,\u001b[49m\u001b[43m \u001b[49m\u001b[43mlevel\u001b[49m\u001b[38;5;241;43m=\u001b[39;49m\u001b[43mlevel\u001b[49m\u001b[43m,\u001b[49m\u001b[43m \u001b[49m\u001b[43mlimit\u001b[49m\u001b[38;5;241;43m=\u001b[39;49m\u001b[43mlimit\u001b[49m\u001b[43m,\u001b[49m\u001b[43m \u001b[49m\u001b[43mtolerance\u001b[49m\u001b[38;5;241;43m=\u001b[39;49m\u001b[43mtolerance\u001b[49m\u001b[43m,\u001b[49m\u001b[43m \u001b[49m\u001b[43mmethod\u001b[49m\u001b[38;5;241;43m=\u001b[39;49m\u001b[43mmethod\u001b[49m\n\u001b[0;32m   5635\u001b[0m \u001b[43m\u001b[49m\u001b[43m)\u001b[49m\n\u001b[0;32m   5637\u001b[0m axis \u001b[38;5;241m=\u001b[39m \u001b[38;5;28mself\u001b[39m\u001b[38;5;241m.\u001b[39m_get_axis_number(a)\n\u001b[0;32m   5638\u001b[0m obj \u001b[38;5;241m=\u001b[39m obj\u001b[38;5;241m.\u001b[39m_reindex_with_indexers(\n\u001b[0;32m   5639\u001b[0m     {axis: [new_index, indexer]},\n\u001b[0;32m   5640\u001b[0m     fill_value\u001b[38;5;241m=\u001b[39mfill_value,\n\u001b[0;32m   5641\u001b[0m     copy\u001b[38;5;241m=\u001b[39mcopy,\n\u001b[0;32m   5642\u001b[0m     allow_dups\u001b[38;5;241m=\u001b[39m\u001b[38;5;28;01mFalse\u001b[39;00m,\n\u001b[0;32m   5643\u001b[0m )\n",
      "File \u001b[1;32m~\\AppData\\Local\\Packages\\PythonSoftwareFoundation.Python.3.11_qbz5n2kfra8p0\\LocalCache\\local-packages\\Python311\\site-packages\\pandas\\core\\indexes\\base.py:4422\u001b[0m, in \u001b[0;36mIndex.reindex\u001b[1;34m(self, target, method, level, limit, tolerance)\u001b[0m\n\u001b[0;32m   4420\u001b[0m \u001b[38;5;28;01melse\u001b[39;00m:\n\u001b[0;32m   4421\u001b[0m     \u001b[38;5;28;01mif\u001b[39;00m \u001b[38;5;28mself\u001b[39m\u001b[38;5;241m.\u001b[39m_index_as_unique:\n\u001b[1;32m-> 4422\u001b[0m         indexer \u001b[38;5;241m=\u001b[39m \u001b[38;5;28;43mself\u001b[39;49m\u001b[38;5;241;43m.\u001b[39;49m\u001b[43mget_indexer\u001b[49m\u001b[43m(\u001b[49m\n\u001b[0;32m   4423\u001b[0m \u001b[43m            \u001b[49m\u001b[43mtarget\u001b[49m\u001b[43m,\u001b[49m\u001b[43m \u001b[49m\u001b[43mmethod\u001b[49m\u001b[38;5;241;43m=\u001b[39;49m\u001b[43mmethod\u001b[49m\u001b[43m,\u001b[49m\u001b[43m \u001b[49m\u001b[43mlimit\u001b[49m\u001b[38;5;241;43m=\u001b[39;49m\u001b[43mlimit\u001b[49m\u001b[43m,\u001b[49m\u001b[43m \u001b[49m\u001b[43mtolerance\u001b[49m\u001b[38;5;241;43m=\u001b[39;49m\u001b[43mtolerance\u001b[49m\n\u001b[0;32m   4424\u001b[0m \u001b[43m        \u001b[49m\u001b[43m)\u001b[49m\n\u001b[0;32m   4425\u001b[0m     \u001b[38;5;28;01melif\u001b[39;00m \u001b[38;5;28mself\u001b[39m\u001b[38;5;241m.\u001b[39m_is_multi:\n\u001b[0;32m   4426\u001b[0m         \u001b[38;5;28;01mraise\u001b[39;00m \u001b[38;5;167;01mValueError\u001b[39;00m(\u001b[38;5;124m\"\u001b[39m\u001b[38;5;124mcannot handle a non-unique multi-index!\u001b[39m\u001b[38;5;124m\"\u001b[39m)\n",
      "File \u001b[1;32m~\\AppData\\Local\\Packages\\PythonSoftwareFoundation.Python.3.11_qbz5n2kfra8p0\\LocalCache\\local-packages\\Python311\\site-packages\\pandas\\core\\indexes\\base.py:3953\u001b[0m, in \u001b[0;36mIndex.get_indexer\u001b[1;34m(self, target, method, limit, tolerance)\u001b[0m\n\u001b[0;32m   3948\u001b[0m     target \u001b[38;5;241m=\u001b[39m target\u001b[38;5;241m.\u001b[39mastype(dtype, copy\u001b[38;5;241m=\u001b[39m\u001b[38;5;28;01mFalse\u001b[39;00m)\n\u001b[0;32m   3949\u001b[0m     \u001b[38;5;28;01mreturn\u001b[39;00m this\u001b[38;5;241m.\u001b[39m_get_indexer(\n\u001b[0;32m   3950\u001b[0m         target, method\u001b[38;5;241m=\u001b[39mmethod, limit\u001b[38;5;241m=\u001b[39mlimit, tolerance\u001b[38;5;241m=\u001b[39mtolerance\n\u001b[0;32m   3951\u001b[0m     )\n\u001b[1;32m-> 3953\u001b[0m \u001b[38;5;28;01mreturn\u001b[39;00m \u001b[38;5;28;43mself\u001b[39;49m\u001b[38;5;241;43m.\u001b[39;49m\u001b[43m_get_indexer\u001b[49m\u001b[43m(\u001b[49m\u001b[43mtarget\u001b[49m\u001b[43m,\u001b[49m\u001b[43m \u001b[49m\u001b[43mmethod\u001b[49m\u001b[43m,\u001b[49m\u001b[43m \u001b[49m\u001b[43mlimit\u001b[49m\u001b[43m,\u001b[49m\u001b[43m \u001b[49m\u001b[43mtolerance\u001b[49m\u001b[43m)\u001b[49m\n",
      "File \u001b[1;32m~\\AppData\\Local\\Packages\\PythonSoftwareFoundation.Python.3.11_qbz5n2kfra8p0\\LocalCache\\local-packages\\Python311\\site-packages\\pandas\\core\\indexes\\base.py:3980\u001b[0m, in \u001b[0;36mIndex._get_indexer\u001b[1;34m(self, target, method, limit, tolerance)\u001b[0m\n\u001b[0;32m   3977\u001b[0m     \u001b[38;5;28;01melse\u001b[39;00m:\n\u001b[0;32m   3978\u001b[0m         tgt_values \u001b[38;5;241m=\u001b[39m target\u001b[38;5;241m.\u001b[39m_get_engine_target()\n\u001b[1;32m-> 3980\u001b[0m     indexer \u001b[38;5;241m=\u001b[39m \u001b[38;5;28;43mself\u001b[39;49m\u001b[38;5;241;43m.\u001b[39;49m\u001b[43m_engine\u001b[49m\u001b[38;5;241;43m.\u001b[39;49m\u001b[43mget_indexer\u001b[49m\u001b[43m(\u001b[49m\u001b[43mtgt_values\u001b[49m\u001b[43m)\u001b[49m\n\u001b[0;32m   3982\u001b[0m \u001b[38;5;28;01mreturn\u001b[39;00m ensure_platform_int(indexer)\n",
      "\u001b[1;31mKeyboardInterrupt\u001b[0m: "
     ]
    }
   ],
   "source": [
    "# Carpeta donde dejaste TODOS los .25O\n",
    "DEST = Path(r\"C:\\Users\\varga\\Box\\Data\\nc Files\\MetSta\")\n",
    "\n",
    "# 1) Lista de archivos de entrada (RINEX .25O)\n",
    "rinex_files = sorted(glob.glob(str(DEST / '*.25O')))\n",
    "print(f'Found {len(rinex_files)} .25O files (showing up to 5):', rinex_files[:5])\n",
    "if len(rinex_files) == 0:\n",
    "    raise FileNotFoundError(\"No .25O files found in DEST folder. Check DEST and file existence.\")\n",
    "\n",
    "# 2) Carpeta de salida para NetCDF (dentro de MetSta)\n",
    "outdir = DEST / \"processed\"\n",
    "outdir.mkdir(parents=True, exist_ok=True)\n",
    "\n",
    "# 3) Carpeta persistente para órbitas/relojes (evita fallos por SP3/CLK)\n",
    "aux_dir = DEST / \"aux_orbits\"\n",
    "aux_dir.mkdir(parents=True, exist_ok=True)\n",
    "\n",
    "# 4) Variables a conservar (SNR)\n",
    "keepvars = ['S?', 'S??']\n",
    "\n",
    "ok, bad = [], []\n",
    "\n",
    "# 5) Procesar uno por uno con control de errores\n",
    "for rinex in rinex_files:\n",
    "    try:\n",
    "        # patrón y salida para este archivo en particular\n",
    "        pattern = {'MetSta': rinex}\n",
    "        outputdir = {'MetSta': str(outdir)}\n",
    "\n",
    "        result = gv.preprocess(\n",
    "            pattern,\n",
    "            interval='15s',\n",
    "            keepvars=keepvars,\n",
    "            outputdir=outputdir,\n",
    "            outputresult=True,\n",
    "            aux_path=str(aux_dir)  # clave para cachear SP3/CLK\n",
    "        )\n",
    "\n",
    "        # Validación simple del resultado\n",
    "        metsta_res = result.get('MetSta', [])\n",
    "        if isinstance(metsta_res, list):\n",
    "            if not metsta_res:\n",
    "                raise ValueError(f\"No dataset produced for: {rinex}\")\n",
    "            _ = metsta_res[0]\n",
    "        elif isinstance(metsta_res, xr.Dataset):\n",
    "            _ = metsta_res\n",
    "        else:\n",
    "            raise TypeError(f\"Unexpected return type for 'MetSta': {type(metsta_res)}\")\n",
    "\n",
    "        print(f\"[OK] {Path(rinex).name}\")\n",
    "        ok.append(rinex)\n",
    "\n",
    "    except Exception as e:\n",
    "        print(f\"[WARN] Skipping due to error: {Path(rinex).name}\")\n",
    "        print(\"       \", e)\n",
    "        bad.append((rinex, str(e)))\n",
    "        continue\n",
    "\n",
    "# 6) Resumen final\n",
    "print(\"\\n===== SUMMARY =====\")\n",
    "print(f\"Processed OK: {len(ok)}\")\n",
    "print(f\"Failed     : {len(bad)}\")\n",
    "\n",
    "if bad:\n",
    "    print(\"\\nFiles that failed:\")\n",
    "    for fname, err in bad:\n",
    "        print(f\" - {fname}: {err}\")\n",
    "else:\n",
    "    print(\"\\n¡Todo fue un éxito! 🤙\")\n"
   ]
  },
  {
   "cell_type": "code",
   "execution_count": 7,
   "id": "43e69f0b",
   "metadata": {},
   "outputs": [
    {
     "name": "stdout",
     "output_type": "stream",
     "text": [
      "Found 133 .25O files (showing up to 5): ['C:\\\\Users\\\\varga\\\\Box\\\\Data\\\\nc Files\\\\MetSta\\\\MetStation_raw_20250413000420.25O', 'C:\\\\Users\\\\varga\\\\Box\\\\Data\\\\nc Files\\\\MetSta\\\\MetStation_raw_20250414000421.25O', 'C:\\\\Users\\\\varga\\\\Box\\\\Data\\\\nc Files\\\\MetSta\\\\MetStation_raw_20250415000422.25O', 'C:\\\\Users\\\\varga\\\\Box\\\\Data\\\\nc Files\\\\MetSta\\\\MetStation_raw_20250415221018.25O', 'C:\\\\Users\\\\varga\\\\Box\\\\Data\\\\nc Files\\\\MetSta\\\\MetStation_raw_20250416221018.25O']\n",
      "Created a temporary directory at C:\\Users\\varga\\AppData\\Local\\Temp\\tmp8_tc12px\n",
      "Could not find any files matching the pattern C:\\Users\\varga\\Box\\Data\\nc Files\\MetSta\\processed*.nc\n",
      "C:\\Users\\varga\\Box\\Data\\nc Files\\MetSta\\MetStation_raw_20250413000420.25O exists | Reading...\n",
      "Processed 88072 out of 3195452 lines (2.8%)\n",
      "Processed 865092 out of 3195452 lines (27.1%)\n",
      "Processed 1597967 out of 3195452 lines (50.0%)\n",
      "Processed 2206545 out of 3195452 lines (69.1%)\n",
      "Processed 2657434 out of 3195452 lines (83.2%)\n",
      "Observation file  C:\\Users\\varga\\Box\\Data\\nc Files\\MetSta\\MetStation_raw_20250413000420.25O  is read in 430.47 seconds.\n",
      "Processing 3109051 individual observations\n",
      "Calculating Azimuth and Elevation\n",
      "This file does not exist: C:\\Users\\varga\\AppData\\Local\\Temp\\tmp8_tc12px\\GFZ0MGXRAP_20251020000_01D_05M_ORB.SP3\n",
      "Downloading: ftp://gssc.esa.int/gnss/products/2361//GFZ0MGXRAP_20251020000_01D_05M_ORB.SP3.gz"
     ]
    },
    {
     "name": "stderr",
     "output_type": "stream",
     "text": [
      "GFZ0MGXRAP_20251020000_01D_05M_ORB.SP3.gz: 1.04MB [00:03, 315kB/s]                             \n"
     ]
    },
    {
     "name": "stdout",
     "output_type": "stream",
     "text": [
      " | Download completed for ftp://gssc.esa.int/gnss/products/2361//GFZ0MGXRAP_20251020000_01D_05M_ORB.SP3.gz\n",
      "C:\\Users\\varga\\AppData\\Local\\Temp\\tmp8_tc12px\\GFZ0MGXRAP_20251020000_01D_05M_ORB.SP3 file is read in 10.61 seconds\n",
      "This file does not exist: C:\\Users\\varga\\AppData\\Local\\Temp\\tmp8_tc12px\\GFZ0MGXRAP_20251030000_01D_05M_ORB.SP3\n",
      "Downloading: ftp://gssc.esa.int/gnss/products/2362//GFZ0MGXRAP_20251030000_01D_05M_ORB.SP3.gz"
     ]
    },
    {
     "name": "stderr",
     "output_type": "stream",
     "text": [
      "GFZ0MGXRAP_20251030000_01D_05M_ORB.SP3.gz: 1.03MB [00:03, 327kB/s]                             \n"
     ]
    },
    {
     "name": "stdout",
     "output_type": "stream",
     "text": [
      " | Download completed for ftp://gssc.esa.int/gnss/products/2362//GFZ0MGXRAP_20251030000_01D_05M_ORB.SP3.gz\n",
      "C:\\Users\\varga\\AppData\\Local\\Temp\\tmp8_tc12px\\GFZ0MGXRAP_20251030000_01D_05M_ORB.SP3 file is read in 9.43 seconds\n",
      "This file does not exist: C:\\Users\\varga\\AppData\\Local\\Temp\\tmp8_tc12px\\GFZ0MGXRAP_20251040000_01D_05M_ORB.SP3\n",
      "Downloading: ftp://gssc.esa.int/gnss/products/2362//GFZ0MGXRAP_20251040000_01D_05M_ORB.SP3.gz"
     ]
    },
    {
     "name": "stderr",
     "output_type": "stream",
     "text": [
      "GFZ0MGXRAP_20251040000_01D_05M_ORB.SP3.gz: 1.03MB [00:03, 320kB/s]                             \n"
     ]
    },
    {
     "name": "stdout",
     "output_type": "stream",
     "text": [
      " | Download completed for ftp://gssc.esa.int/gnss/products/2362//GFZ0MGXRAP_20251040000_01D_05M_ORB.SP3.gz\n",
      "C:\\Users\\varga\\AppData\\Local\\Temp\\tmp8_tc12px\\GFZ0MGXRAP_20251040000_01D_05M_ORB.SP3 file is read in 4.03 seconds\n",
      "This file does not exist: C:\\Users\\varga\\AppData\\Local\\Temp\\tmp8_tc12px\\GFZ0MGXRAP_20251020000_01D_30S_CLK.CLK\n",
      "Downloading: GFZ0MGXRAP_20251020000_01D_30S_CLK.CLK.gz"
     ]
    },
    {
     "name": "stderr",
     "output_type": "stream",
     "text": [
      "GFZ0MGXRAP_20251020000_01D_30S_CLK.CLK.gz: 4.79MB [00:29, 170kB/s]                             \n"
     ]
    },
    {
     "name": "stdout",
     "output_type": "stream",
     "text": [
      " | Download completed for GFZ0MGXRAP_20251020000_01D_30S_CLK.CLK.gz\n",
      "C:\\Users\\varga\\AppData\\Local\\Temp\\tmp8_tc12px\\GFZ0MGXRAP_20251020000_01D_30S_CLK.CLK file is read in 8.93 seconds\n",
      "This file does not exist: C:\\Users\\varga\\AppData\\Local\\Temp\\tmp8_tc12px\\GFZ0MGXRAP_20251030000_01D_30S_CLK.CLK\n",
      "Downloading: GFZ0MGXRAP_20251030000_01D_30S_CLK.CLK.gz"
     ]
    },
    {
     "name": "stderr",
     "output_type": "stream",
     "text": [
      "GFZ0MGXRAP_20251030000_01D_30S_CLK.CLK.gz: 4.73MB [00:03, 1.30MB/s]                            \n"
     ]
    },
    {
     "name": "stdout",
     "output_type": "stream",
     "text": [
      " | Download completed for GFZ0MGXRAP_20251030000_01D_30S_CLK.CLK.gz\n",
      "C:\\Users\\varga\\AppData\\Local\\Temp\\tmp8_tc12px\\GFZ0MGXRAP_20251030000_01D_30S_CLK.CLK file is read in 15.57 seconds\n",
      "This file does not exist: C:\\Users\\varga\\AppData\\Local\\Temp\\tmp8_tc12px\\GFZ0MGXRAP_20251040000_01D_30S_CLK.CLK\n",
      "Downloading: GFZ0MGXRAP_20251040000_01D_30S_CLK.CLK.gz"
     ]
    },
    {
     "name": "stderr",
     "output_type": "stream",
     "text": [
      "GFZ0MGXRAP_20251040000_01D_30S_CLK.CLK.gz: 4.74MB [00:05, 938kB/s]                             \n"
     ]
    },
    {
     "name": "stdout",
     "output_type": "stream",
     "text": [
      " | Download completed for GFZ0MGXRAP_20251040000_01D_30S_CLK.CLK.gz\n",
      "C:\\Users\\varga\\AppData\\Local\\Temp\\tmp8_tc12px\\GFZ0MGXRAP_20251040000_01D_30S_CLK.CLK file is read in 2.25 seconds\n",
      "SP3 interpolation is done in 23.47 seconds\n",
      "Saved 209016 individual observations in C:\\Users\\varga\\Box\\Data\\nc Files\\MetSta\\processed\\MetStation_raw_20250413000420.nc\n",
      "C:\\Users\\varga\\Box\\Data\\nc Files\\MetSta\\MetStation_raw_20250414000421.25O exists | Reading...\n",
      "Processed 36787 out of 3238519 lines (1.1%)\n",
      "Processed 773860 out of 3238519 lines (23.9%)\n",
      "Processed 1443689 out of 3238519 lines (44.6%)\n",
      "Processed 2052028 out of 3238519 lines (63.4%)\n",
      "Processed 2616080 out of 3238519 lines (80.8%)\n",
      "Processed 2906977 out of 3238519 lines (89.8%)\n",
      "Observation file  C:\\Users\\varga\\Box\\Data\\nc Files\\MetSta\\MetStation_raw_20250414000421.25O  is read in 514.01 seconds.\n",
      "Processing 3152118 individual observations\n",
      "Calculating Azimuth and Elevation\n",
      "C:\\Users\\varga\\AppData\\Local\\Temp\\tmp8_tc12px\\GFZ0MGXRAP_20251030000_01D_05M_ORB.SP3 exists | Reading...\n",
      "C:\\Users\\varga\\AppData\\Local\\Temp\\tmp8_tc12px\\GFZ0MGXRAP_20251030000_01D_05M_ORB.SP3 file is read in 6.28 seconds\n",
      "C:\\Users\\varga\\AppData\\Local\\Temp\\tmp8_tc12px\\GFZ0MGXRAP_20251040000_01D_05M_ORB.SP3 exists | Reading...\n",
      "C:\\Users\\varga\\AppData\\Local\\Temp\\tmp8_tc12px\\GFZ0MGXRAP_20251040000_01D_05M_ORB.SP3 file is read in 0.60 seconds\n",
      "This file does not exist: C:\\Users\\varga\\AppData\\Local\\Temp\\tmp8_tc12px\\GFZ0MGXRAP_20251050000_01D_05M_ORB.SP3\n",
      "Downloading: ftp://gssc.esa.int/gnss/products/2362//GFZ0MGXRAP_20251050000_01D_05M_ORB.SP3.gz"
     ]
    },
    {
     "name": "stderr",
     "output_type": "stream",
     "text": [
      "GFZ0MGXRAP_20251050000_01D_05M_ORB.SP3.gz: 1.04MB [00:03, 278kB/s]                             \n"
     ]
    },
    {
     "name": "stdout",
     "output_type": "stream",
     "text": [
      " | Download completed for ftp://gssc.esa.int/gnss/products/2362//GFZ0MGXRAP_20251050000_01D_05M_ORB.SP3.gz\n",
      "C:\\Users\\varga\\AppData\\Local\\Temp\\tmp8_tc12px\\GFZ0MGXRAP_20251050000_01D_05M_ORB.SP3 file is read in 4.42 seconds\n",
      "C:\\Users\\varga\\AppData\\Local\\Temp\\tmp8_tc12px\\GFZ0MGXRAP_20251030000_01D_30S_CLK.CLK exists | Reading...\n",
      "C:\\Users\\varga\\AppData\\Local\\Temp\\tmp8_tc12px\\GFZ0MGXRAP_20251030000_01D_30S_CLK.CLK file is read in 2.24 seconds\n",
      "C:\\Users\\varga\\AppData\\Local\\Temp\\tmp8_tc12px\\GFZ0MGXRAP_20251040000_01D_30S_CLK.CLK exists | Reading...\n",
      "C:\\Users\\varga\\AppData\\Local\\Temp\\tmp8_tc12px\\GFZ0MGXRAP_20251040000_01D_30S_CLK.CLK file is read in 2.17 seconds\n",
      "This file does not exist: C:\\Users\\varga\\AppData\\Local\\Temp\\tmp8_tc12px\\GFZ0MGXRAP_20251050000_01D_30S_CLK.CLK\n",
      "Downloading: GFZ0MGXRAP_20251050000_01D_30S_CLK.CLK.gz"
     ]
    },
    {
     "name": "stderr",
     "output_type": "stream",
     "text": [
      "GFZ0MGXRAP_20251050000_01D_30S_CLK.CLK.gz: 4.80MB [00:04, 1.06MB/s]                            \n"
     ]
    },
    {
     "name": "stdout",
     "output_type": "stream",
     "text": [
      " | Download completed for GFZ0MGXRAP_20251050000_01D_30S_CLK.CLK.gz\n",
      "C:\\Users\\varga\\AppData\\Local\\Temp\\tmp8_tc12px\\GFZ0MGXRAP_20251050000_01D_30S_CLK.CLK file is read in 6.67 seconds\n",
      "SP3 interpolation is done in 18.34 seconds\n",
      "Saved 212040 individual observations in C:\\Users\\varga\\Box\\Data\\nc Files\\MetSta\\processed\\MetStation_raw_20250414000421.nc\n",
      "C:\\Users\\varga\\Box\\Data\\nc Files\\MetSta\\MetStation_raw_20250415000422.25O exists | Reading...\n",
      "Processed 131673 out of 2875528 lines (4.6%)\n",
      "Processed 388012 out of 2875528 lines (13.5%)\n",
      "Processed 1941121 out of 2875528 lines (67.5%)\n",
      "Observation file  C:\\Users\\varga\\Box\\Data\\nc Files\\MetSta\\MetStation_raw_20250415000422.25O  is read in 405.75 seconds.\n",
      "Processing 2795972 individual observations\n",
      "Calculating Azimuth and Elevation\n",
      "C:\\Users\\varga\\AppData\\Local\\Temp\\tmp8_tc12px\\GFZ0MGXRAP_20251040000_01D_05M_ORB.SP3 exists | Reading...\n",
      "C:\\Users\\varga\\AppData\\Local\\Temp\\tmp8_tc12px\\GFZ0MGXRAP_20251040000_01D_05M_ORB.SP3 file is read in 5.34 seconds\n",
      "C:\\Users\\varga\\AppData\\Local\\Temp\\tmp8_tc12px\\GFZ0MGXRAP_20251050000_01D_05M_ORB.SP3 exists | Reading...\n",
      "C:\\Users\\varga\\AppData\\Local\\Temp\\tmp8_tc12px\\GFZ0MGXRAP_20251050000_01D_05M_ORB.SP3 file is read in 2.39 seconds\n",
      "This file does not exist: C:\\Users\\varga\\AppData\\Local\\Temp\\tmp8_tc12px\\GFZ0MGXRAP_20251060000_01D_05M_ORB.SP3\n",
      "Downloading: ftp://gssc.esa.int/gnss/products/2362//GFZ0MGXRAP_20251060000_01D_05M_ORB.SP3.gz"
     ]
    },
    {
     "name": "stderr",
     "output_type": "stream",
     "text": [
      "GFZ0MGXRAP_20251060000_01D_05M_ORB.SP3.gz: 1.03MB [00:03, 313kB/s]                             \n"
     ]
    },
    {
     "name": "stdout",
     "output_type": "stream",
     "text": [
      " | Download completed for ftp://gssc.esa.int/gnss/products/2362//GFZ0MGXRAP_20251060000_01D_05M_ORB.SP3.gz\n",
      "C:\\Users\\varga\\AppData\\Local\\Temp\\tmp8_tc12px\\GFZ0MGXRAP_20251060000_01D_05M_ORB.SP3 file is read in 4.00 seconds\n",
      "C:\\Users\\varga\\AppData\\Local\\Temp\\tmp8_tc12px\\GFZ0MGXRAP_20251040000_01D_30S_CLK.CLK exists | Reading...\n",
      "C:\\Users\\varga\\AppData\\Local\\Temp\\tmp8_tc12px\\GFZ0MGXRAP_20251040000_01D_30S_CLK.CLK file is read in 2.11 seconds\n",
      "C:\\Users\\varga\\AppData\\Local\\Temp\\tmp8_tc12px\\GFZ0MGXRAP_20251050000_01D_30S_CLK.CLK exists | Reading...\n",
      "C:\\Users\\varga\\AppData\\Local\\Temp\\tmp8_tc12px\\GFZ0MGXRAP_20251050000_01D_30S_CLK.CLK file is read in 2.04 seconds\n",
      "This file does not exist: C:\\Users\\varga\\AppData\\Local\\Temp\\tmp8_tc12px\\GFZ0MGXRAP_20251060000_01D_30S_CLK.CLK\n",
      "Downloading: GFZ0MGXRAP_20251060000_01D_30S_CLK.CLK.gz"
     ]
    },
    {
     "name": "stderr",
     "output_type": "stream",
     "text": [
      "GFZ0MGXRAP_20251060000_01D_30S_CLK.CLK.gz: 4.77MB [00:25, 196kB/s]                             \n"
     ]
    },
    {
     "name": "stdout",
     "output_type": "stream",
     "text": [
      " | Download completed for GFZ0MGXRAP_20251060000_01D_30S_CLK.CLK.gz\n",
      "C:\\Users\\varga\\AppData\\Local\\Temp\\tmp8_tc12px\\GFZ0MGXRAP_20251060000_01D_30S_CLK.CLK file is read in 229.11 seconds\n",
      "SP3 interpolation is done in 4.82 seconds\n",
      "Saved 188023 individual observations in C:\\Users\\varga\\Box\\Data\\nc Files\\MetSta\\processed\\MetStation_raw_20250415000422.nc\n",
      "C:\\Users\\varga\\Box\\Data\\nc Files\\MetSta\\MetStation_raw_20250415221018.25O exists | Reading...\n",
      "Observation file  C:\\Users\\varga\\Box\\Data\\nc Files\\MetSta\\MetStation_raw_20250415221018.25O  is read in 2.15 seconds.\n",
      "Processing 103714 individual observations\n",
      "Calculating Azimuth and Elevation\n",
      "C:\\Users\\varga\\AppData\\Local\\Temp\\tmp8_tc12px\\GFZ0MGXRAP_20251050000_01D_05M_ORB.SP3 exists | Reading...\n",
      "C:\\Users\\varga\\AppData\\Local\\Temp\\tmp8_tc12px\\GFZ0MGXRAP_20251050000_01D_05M_ORB.SP3 file is read in 0.32 seconds\n",
      "C:\\Users\\varga\\AppData\\Local\\Temp\\tmp8_tc12px\\GFZ0MGXRAP_20251060000_01D_05M_ORB.SP3 exists | Reading...\n",
      "C:\\Users\\varga\\AppData\\Local\\Temp\\tmp8_tc12px\\GFZ0MGXRAP_20251060000_01D_05M_ORB.SP3 file is read in 0.33 seconds\n",
      "This file does not exist: C:\\Users\\varga\\AppData\\Local\\Temp\\tmp8_tc12px\\GFZ0MGXRAP_20251070000_01D_05M_ORB.SP3\n",
      "Downloading: ftp://gssc.esa.int/gnss/products/2362//GFZ0MGXRAP_20251070000_01D_05M_ORB.SP3.gz"
     ]
    },
    {
     "name": "stderr",
     "output_type": "stream",
     "text": [
      "GFZ0MGXRAP_20251070000_01D_05M_ORB.SP3.gz: 1.02MB [00:03, 338kB/s]                             \n"
     ]
    },
    {
     "name": "stdout",
     "output_type": "stream",
     "text": [
      " | Download completed for ftp://gssc.esa.int/gnss/products/2362//GFZ0MGXRAP_20251070000_01D_05M_ORB.SP3.gz\n",
      "C:\\Users\\varga\\AppData\\Local\\Temp\\tmp8_tc12px\\GFZ0MGXRAP_20251070000_01D_05M_ORB.SP3 file is read in 3.69 seconds\n",
      "C:\\Users\\varga\\AppData\\Local\\Temp\\tmp8_tc12px\\GFZ0MGXRAP_20251050000_01D_30S_CLK.CLK exists | Reading...\n",
      "C:\\Users\\varga\\AppData\\Local\\Temp\\tmp8_tc12px\\GFZ0MGXRAP_20251050000_01D_30S_CLK.CLK file is read in 1.78 seconds\n",
      "C:\\Users\\varga\\AppData\\Local\\Temp\\tmp8_tc12px\\GFZ0MGXRAP_20251060000_01D_30S_CLK.CLK exists | Reading...\n",
      "C:\\Users\\varga\\AppData\\Local\\Temp\\tmp8_tc12px\\GFZ0MGXRAP_20251060000_01D_30S_CLK.CLK file is read in 1.92 seconds\n",
      "This file does not exist: C:\\Users\\varga\\AppData\\Local\\Temp\\tmp8_tc12px\\GFZ0MGXRAP_20251070000_01D_30S_CLK.CLK\n",
      "Downloading: GFZ0MGXRAP_20251070000_01D_30S_CLK.CLK.gz"
     ]
    },
    {
     "name": "stderr",
     "output_type": "stream",
     "text": [
      "GFZ0MGXRAP_20251070000_01D_30S_CLK.CLK.gz: 4.71MB [00:38, 128kB/s]                             \n"
     ]
    },
    {
     "name": "stdout",
     "output_type": "stream",
     "text": [
      " | Download completed for GFZ0MGXRAP_20251070000_01D_30S_CLK.CLK.gz\n",
      "C:\\Users\\varga\\AppData\\Local\\Temp\\tmp8_tc12px\\GFZ0MGXRAP_20251070000_01D_30S_CLK.CLK file is read in 1.86 seconds\n",
      "SP3 interpolation is done in 3.69 seconds\n",
      "Saved 103714 individual observations in C:\\Users\\varga\\Box\\Data\\nc Files\\MetSta\\processed\\MetStation_raw_20250415221018.nc\n",
      "C:\\Users\\varga\\Box\\Data\\nc Files\\MetSta\\MetStation_raw_20250416221018.25O exists | Reading...\n",
      "Observation file  C:\\Users\\varga\\Box\\Data\\nc Files\\MetSta\\MetStation_raw_20250416221018.25O  is read in 2.17 seconds.\n",
      "Processing 105101 individual observations\n",
      "Calculating Azimuth and Elevation\n",
      "C:\\Users\\varga\\AppData\\Local\\Temp\\tmp8_tc12px\\GFZ0MGXRAP_20251060000_01D_05M_ORB.SP3 exists | Reading...\n",
      "C:\\Users\\varga\\AppData\\Local\\Temp\\tmp8_tc12px\\GFZ0MGXRAP_20251060000_01D_05M_ORB.SP3 file is read in 0.39 seconds\n",
      "C:\\Users\\varga\\AppData\\Local\\Temp\\tmp8_tc12px\\GFZ0MGXRAP_20251070000_01D_05M_ORB.SP3 exists | Reading...\n",
      "C:\\Users\\varga\\AppData\\Local\\Temp\\tmp8_tc12px\\GFZ0MGXRAP_20251070000_01D_05M_ORB.SP3 file is read in 0.31 seconds\n",
      "This file does not exist: C:\\Users\\varga\\AppData\\Local\\Temp\\tmp8_tc12px\\GFZ0MGXRAP_20251080000_01D_05M_ORB.SP3\n",
      "Downloading: ftp://gssc.esa.int/gnss/products/2362//GFZ0MGXRAP_20251080000_01D_05M_ORB.SP3.gz"
     ]
    },
    {
     "name": "stderr",
     "output_type": "stream",
     "text": [
      "GFZ0MGXRAP_20251080000_01D_05M_ORB.SP3.gz: 1.04MB [00:14, 73.1kB/s]                            \n"
     ]
    },
    {
     "name": "stdout",
     "output_type": "stream",
     "text": [
      " | Download completed for ftp://gssc.esa.int/gnss/products/2362//GFZ0MGXRAP_20251080000_01D_05M_ORB.SP3.gz\n",
      "C:\\Users\\varga\\AppData\\Local\\Temp\\tmp8_tc12px\\GFZ0MGXRAP_20251080000_01D_05M_ORB.SP3 file is read in 15.40 seconds\n",
      "C:\\Users\\varga\\AppData\\Local\\Temp\\tmp8_tc12px\\GFZ0MGXRAP_20251060000_01D_30S_CLK.CLK exists | Reading...\n",
      "C:\\Users\\varga\\AppData\\Local\\Temp\\tmp8_tc12px\\GFZ0MGXRAP_20251060000_01D_30S_CLK.CLK file is read in 1.80 seconds\n",
      "C:\\Users\\varga\\AppData\\Local\\Temp\\tmp8_tc12px\\GFZ0MGXRAP_20251070000_01D_30S_CLK.CLK exists | Reading...\n",
      "C:\\Users\\varga\\AppData\\Local\\Temp\\tmp8_tc12px\\GFZ0MGXRAP_20251070000_01D_30S_CLK.CLK file is read in 1.71 seconds\n",
      "This file does not exist: C:\\Users\\varga\\AppData\\Local\\Temp\\tmp8_tc12px\\GFZ0MGXRAP_20251080000_01D_30S_CLK.CLK\n",
      "Downloading: GFZ0MGXRAP_20251080000_01D_30S_CLK.CLK.gz"
     ]
    },
    {
     "name": "stderr",
     "output_type": "stream",
     "text": [
      "GFZ0MGXRAP_20251080000_01D_30S_CLK.CLK.gz: 4.77MB [00:34, 144kB/s]                             \n"
     ]
    },
    {
     "name": "stdout",
     "output_type": "stream",
     "text": [
      " | Download completed for GFZ0MGXRAP_20251080000_01D_30S_CLK.CLK.gz\n",
      "C:\\Users\\varga\\AppData\\Local\\Temp\\tmp8_tc12px\\GFZ0MGXRAP_20251080000_01D_30S_CLK.CLK file is read in 1.98 seconds\n",
      "SP3 interpolation is done in 3.64 seconds\n",
      "Saved 105101 individual observations in C:\\Users\\varga\\Box\\Data\\nc Files\\MetSta\\processed\\MetStation_raw_20250416221018.nc\n",
      "C:\\Users\\varga\\Box\\Data\\nc Files\\MetSta\\MetStation_raw_20250417221019.25O exists | Reading...\n",
      "Observation file  C:\\Users\\varga\\Box\\Data\\nc Files\\MetSta\\MetStation_raw_20250417221019.25O  is read in 2.19 seconds.\n",
      "Processing 103192 individual observations\n",
      "Calculating Azimuth and Elevation\n",
      "C:\\Users\\varga\\AppData\\Local\\Temp\\tmp8_tc12px\\GFZ0MGXRAP_20251070000_01D_05M_ORB.SP3 exists | Reading...\n",
      "C:\\Users\\varga\\AppData\\Local\\Temp\\tmp8_tc12px\\GFZ0MGXRAP_20251070000_01D_05M_ORB.SP3 file is read in 0.32 seconds\n",
      "C:\\Users\\varga\\AppData\\Local\\Temp\\tmp8_tc12px\\GFZ0MGXRAP_20251080000_01D_05M_ORB.SP3 exists | Reading...\n",
      "C:\\Users\\varga\\AppData\\Local\\Temp\\tmp8_tc12px\\GFZ0MGXRAP_20251080000_01D_05M_ORB.SP3 file is read in 0.40 seconds\n",
      "This file does not exist: C:\\Users\\varga\\AppData\\Local\\Temp\\tmp8_tc12px\\GFZ0MGXRAP_20251090000_01D_05M_ORB.SP3\n",
      "Downloading: ftp://gssc.esa.int/gnss/products/2362//GFZ0MGXRAP_20251090000_01D_05M_ORB.SP3.gz"
     ]
    },
    {
     "name": "stderr",
     "output_type": "stream",
     "text": [
      "GFZ0MGXRAP_20251090000_01D_05M_ORB.SP3.gz: 1.04MB [00:03, 330kB/s]                             \n"
     ]
    },
    {
     "name": "stdout",
     "output_type": "stream",
     "text": [
      " | Download completed for ftp://gssc.esa.int/gnss/products/2362//GFZ0MGXRAP_20251090000_01D_05M_ORB.SP3.gz\n",
      "C:\\Users\\varga\\AppData\\Local\\Temp\\tmp8_tc12px\\GFZ0MGXRAP_20251090000_01D_05M_ORB.SP3 file is read in 3.77 seconds\n",
      "C:\\Users\\varga\\AppData\\Local\\Temp\\tmp8_tc12px\\GFZ0MGXRAP_20251070000_01D_30S_CLK.CLK exists | Reading...\n",
      "C:\\Users\\varga\\AppData\\Local\\Temp\\tmp8_tc12px\\GFZ0MGXRAP_20251070000_01D_30S_CLK.CLK file is read in 1.76 seconds\n",
      "C:\\Users\\varga\\AppData\\Local\\Temp\\tmp8_tc12px\\GFZ0MGXRAP_20251080000_01D_30S_CLK.CLK exists | Reading...\n",
      "C:\\Users\\varga\\AppData\\Local\\Temp\\tmp8_tc12px\\GFZ0MGXRAP_20251080000_01D_30S_CLK.CLK file is read in 1.91 seconds\n",
      "This file does not exist: C:\\Users\\varga\\AppData\\Local\\Temp\\tmp8_tc12px\\GFZ0MGXRAP_20251090000_01D_30S_CLK.CLK\n",
      "Downloading: GFZ0MGXRAP_20251090000_01D_30S_CLK.CLK.gz"
     ]
    },
    {
     "name": "stderr",
     "output_type": "stream",
     "text": [
      "GFZ0MGXRAP_20251090000_01D_30S_CLK.CLK.gz: 4.80MB [00:31, 159kB/s]                             \n"
     ]
    },
    {
     "name": "stdout",
     "output_type": "stream",
     "text": [
      " | Download completed for GFZ0MGXRAP_20251090000_01D_30S_CLK.CLK.gz\n",
      "C:\\Users\\varga\\AppData\\Local\\Temp\\tmp8_tc12px\\GFZ0MGXRAP_20251090000_01D_30S_CLK.CLK file is read in 1.87 seconds\n",
      "SP3 interpolation is done in 3.83 seconds\n",
      "Saved 103192 individual observations in C:\\Users\\varga\\Box\\Data\\nc Files\\MetSta\\processed\\MetStation_raw_20250417221019.nc\n",
      "C:\\Users\\varga\\Box\\Data\\nc Files\\MetSta\\MetStation_raw_20250418221020.25O exists | Reading...\n",
      "Observation file  C:\\Users\\varga\\Box\\Data\\nc Files\\MetSta\\MetStation_raw_20250418221020.25O  is read in 2.35 seconds.\n",
      "Processing 102383 individual observations\n",
      "Calculating Azimuth and Elevation\n",
      "C:\\Users\\varga\\AppData\\Local\\Temp\\tmp8_tc12px\\GFZ0MGXRAP_20251080000_01D_05M_ORB.SP3 exists | Reading...\n",
      "C:\\Users\\varga\\AppData\\Local\\Temp\\tmp8_tc12px\\GFZ0MGXRAP_20251080000_01D_05M_ORB.SP3 file is read in 0.53 seconds\n",
      "C:\\Users\\varga\\AppData\\Local\\Temp\\tmp8_tc12px\\GFZ0MGXRAP_20251090000_01D_05M_ORB.SP3 exists | Reading...\n",
      "C:\\Users\\varga\\AppData\\Local\\Temp\\tmp8_tc12px\\GFZ0MGXRAP_20251090000_01D_05M_ORB.SP3 file is read in 0.47 seconds\n",
      "This file does not exist: C:\\Users\\varga\\AppData\\Local\\Temp\\tmp8_tc12px\\GFZ0MGXRAP_20251100000_01D_05M_ORB.SP3\n",
      "Downloading: ftp://gssc.esa.int/gnss/products/2363//GFZ0MGXRAP_20251100000_01D_05M_ORB.SP3.gz"
     ]
    },
    {
     "name": "stderr",
     "output_type": "stream",
     "text": [
      "GFZ0MGXRAP_20251100000_01D_05M_ORB.SP3.gz: 0.00B [33:51, ?B/s]\n"
     ]
    },
    {
     "name": "stdout",
     "output_type": "stream",
     "text": [
      "<urlopen error [WinError 10054] Se ha forzado la interrupción de una conexión existente por el host remoto>\n",
      " | Requested file ftp://gssc.esa.int/gnss/products/2363//GFZ0MGXRAP_20251100000_01D_05M_ORB.SP3.gz cannot be not found!\n"
     ]
    },
    {
     "ename": "FileNotFoundError",
     "evalue": "[Errno 2] No such file or directory: 'C:\\\\Users\\\\varga\\\\AppData\\\\Local\\\\Temp\\\\tmp8_tc12px\\\\GFZ0MGXRAP_20251100000_01D_05M_ORB.SP3'",
     "output_type": "error",
     "traceback": [
      "\u001b[1;31m---------------------------------------------------------------------------\u001b[0m",
      "\u001b[1;31mFileNotFoundError\u001b[0m                         Traceback (most recent call last)",
      "Cell \u001b[1;32mIn[7], line 27\u001b[0m\n\u001b[0;32m     24\u001b[0m keepvars \u001b[38;5;241m=\u001b[39m [\u001b[38;5;124m'\u001b[39m\u001b[38;5;124mS?\u001b[39m\u001b[38;5;124m'\u001b[39m, \u001b[38;5;124m'\u001b[39m\u001b[38;5;124mS??\u001b[39m\u001b[38;5;124m'\u001b[39m]\n\u001b[0;32m     26\u001b[0m \u001b[38;5;66;03m# 4) Preprocesamiento\u001b[39;00m\n\u001b[1;32m---> 27\u001b[0m result \u001b[38;5;241m=\u001b[39m \u001b[43mgv\u001b[49m\u001b[38;5;241;43m.\u001b[39;49m\u001b[43mpreprocess\u001b[49m\u001b[43m(\u001b[49m\n\u001b[0;32m     28\u001b[0m \u001b[43m    \u001b[49m\u001b[43mpattern\u001b[49m\u001b[43m,\u001b[49m\n\u001b[0;32m     29\u001b[0m \u001b[43m    \u001b[49m\u001b[43minterval\u001b[49m\u001b[38;5;241;43m=\u001b[39;49m\u001b[38;5;124;43m'\u001b[39;49m\u001b[38;5;124;43m15s\u001b[39;49m\u001b[38;5;124;43m'\u001b[39;49m\u001b[43m,\u001b[49m\n\u001b[0;32m     30\u001b[0m \u001b[43m    \u001b[49m\u001b[43mkeepvars\u001b[49m\u001b[38;5;241;43m=\u001b[39;49m\u001b[43mkeepvars\u001b[49m\u001b[43m,\u001b[49m\n\u001b[0;32m     31\u001b[0m \u001b[43m    \u001b[49m\u001b[43moutputdir\u001b[49m\u001b[38;5;241;43m=\u001b[39;49m\u001b[43moutputdir\u001b[49m\u001b[43m,\u001b[49m\n\u001b[0;32m     32\u001b[0m \u001b[43m    \u001b[49m\u001b[43moutputresult\u001b[49m\u001b[38;5;241;43m=\u001b[39;49m\u001b[38;5;28;43;01mTrue\u001b[39;49;00m\n\u001b[0;32m     33\u001b[0m \u001b[43m)\u001b[49m\n\u001b[0;32m     35\u001b[0m \u001b[38;5;66;03m# 5) Extraer con seguridad el primer dataset procesado (xarray.Dataset)\u001b[39;00m\n\u001b[0;32m     36\u001b[0m metsta_res \u001b[38;5;241m=\u001b[39m result\u001b[38;5;241m.\u001b[39mget(\u001b[38;5;124m'\u001b[39m\u001b[38;5;124mMetSta\u001b[39m\u001b[38;5;124m'\u001b[39m, [])\n",
      "File \u001b[1;32m~\\Documents\\GitHub\\gnssvod\\gnssvod\\io\\preprocess.py:160\u001b[0m, in \u001b[0;36mpreprocess\u001b[1;34m(filepattern, orbit, interval, keepvars, outputdir, overwrite, encoding, outputresult, aux_path, approx_position)\u001b[0m\n\u001b[0;32m    157\u001b[0m         x, orbit_data \u001b[38;5;241m=\u001b[39m add_azi_ele(x, aux_path \u001b[38;5;241m=\u001b[39m aux_path)\n\u001b[0;32m    158\u001b[0m     \u001b[38;5;28;01melse\u001b[39;00m:\n\u001b[0;32m    159\u001b[0m         \u001b[38;5;66;03m# on following iterations the orbit data is tentatively recycled to reduce computational time\u001b[39;00m\n\u001b[1;32m--> 160\u001b[0m         x, orbit_data \u001b[38;5;241m=\u001b[39m \u001b[43madd_azi_ele\u001b[49m\u001b[43m(\u001b[49m\u001b[43mx\u001b[49m\u001b[43m,\u001b[49m\u001b[43m \u001b[49m\u001b[43morbit_data\u001b[49m\u001b[43m,\u001b[49m\u001b[43m \u001b[49m\u001b[43maux_path\u001b[49m\u001b[43m \u001b[49m\u001b[38;5;241;43m=\u001b[39;49m\u001b[43m \u001b[49m\u001b[43maux_path\u001b[49m\u001b[43m)\u001b[49m\n\u001b[0;32m    162\u001b[0m \u001b[38;5;66;03m# make sure we drop any duplicates\u001b[39;00m\n\u001b[0;32m    163\u001b[0m x\u001b[38;5;241m.\u001b[39mobservation\u001b[38;5;241m=\u001b[39mx\u001b[38;5;241m.\u001b[39mobservation[\u001b[38;5;241m~\u001b[39mx\u001b[38;5;241m.\u001b[39mobservation\u001b[38;5;241m.\u001b[39mindex\u001b[38;5;241m.\u001b[39mduplicated(keep\u001b[38;5;241m=\u001b[39m\u001b[38;5;124m'\u001b[39m\u001b[38;5;124mfirst\u001b[39m\u001b[38;5;124m'\u001b[39m)]\n",
      "File \u001b[1;32m~\\Documents\\GitHub\\gnssvod\\gnssvod\\io\\preprocess.py:239\u001b[0m, in \u001b[0;36madd_azi_ele\u001b[1;34m(obs, orbit_data, aux_path)\u001b[0m\n\u001b[0;32m    235\u001b[0m     do \u001b[38;5;241m=\u001b[39m \u001b[38;5;28;01mTrue\u001b[39;00m\n\u001b[0;32m    237\u001b[0m \u001b[38;5;28;01mif\u001b[39;00m do:\n\u001b[0;32m    238\u001b[0m     \u001b[38;5;66;03m# read (=usually download) orbit data\u001b[39;00m\n\u001b[1;32m--> 239\u001b[0m     orbit \u001b[38;5;241m=\u001b[39m \u001b[43msp3_interp_fast\u001b[49m\u001b[43m(\u001b[49m\u001b[43mstart_time\u001b[49m\u001b[43m,\u001b[49m\u001b[43m \u001b[49m\u001b[43mend_time\u001b[49m\u001b[43m,\u001b[49m\u001b[43m \u001b[49m\u001b[43minterval\u001b[49m\u001b[38;5;241;43m=\u001b[39;49m\u001b[43mobs\u001b[49m\u001b[38;5;241;43m.\u001b[39;49m\u001b[43minterval\u001b[49m\u001b[43m,\u001b[49m\u001b[43m \u001b[49m\u001b[43maux_path\u001b[49m\u001b[38;5;241;43m=\u001b[39;49m\u001b[43maux_path\u001b[49m\u001b[43m)\u001b[49m\n\u001b[0;32m    240\u001b[0m     \u001b[38;5;66;03m# prepare an orbit object as well\u001b[39;00m\n\u001b[0;32m    241\u001b[0m     orbit_data \u001b[38;5;241m=\u001b[39m orbit\n",
      "File \u001b[1;32m~\\Documents\\GitHub\\gnssvod\\gnssvod\\position\\interpolation.py:30\u001b[0m, in \u001b[0;36msp3_interp_fast\u001b[1;34m(start_time, end_time, interval, poly_degree, sp3_product, clock_product, aux_path)\u001b[0m\n\u001b[0;32m     27\u001b[0m clockFileNames \u001b[38;5;241m=\u001b[39m [clockFileName(x\u001b[38;5;241m.\u001b[39mdate(),interval,clock_product,aux_path) \u001b[38;5;28;01mfor\u001b[39;00m x \u001b[38;5;129;01min\u001b[39;00m epochs]\n\u001b[0;32m     28\u001b[0m \u001b[38;5;66;03m#--------------------------------------------------------------------------\u001b[39;00m\n\u001b[0;32m     29\u001b[0m \u001b[38;5;66;03m# reading all those files, downloading them if necessary\u001b[39;00m\n\u001b[1;32m---> 30\u001b[0m sp3 \u001b[38;5;241m=\u001b[39m \u001b[43m[\u001b[49m\u001b[43mreadFile\u001b[49m\u001b[38;5;241;43m.\u001b[39;49m\u001b[43mread_sp3File\u001b[49m\u001b[43m(\u001b[49m\u001b[43mx\u001b[49m\u001b[43m)\u001b[49m\u001b[43m \u001b[49m\u001b[38;5;28;43;01mfor\u001b[39;49;00m\u001b[43m \u001b[49m\u001b[43mx\u001b[49m\u001b[43m \u001b[49m\u001b[38;5;129;43;01min\u001b[39;49;00m\u001b[43m \u001b[49m\u001b[43msp3FileNames\u001b[49m\u001b[43m]\u001b[49m\n\u001b[0;32m     31\u001b[0m clock \u001b[38;5;241m=\u001b[39m [readFile\u001b[38;5;241m.\u001b[39mread_clockFile(x) \u001b[38;5;28;01mfor\u001b[39;00m x \u001b[38;5;129;01min\u001b[39;00m clockFileNames]\n\u001b[0;32m     32\u001b[0m \u001b[38;5;66;03m#--------------------------------------------------------------------------\u001b[39;00m\n\u001b[0;32m     33\u001b[0m \u001b[38;5;66;03m# concatenate data from current day and some buffer before and after\u001b[39;00m\n",
      "File \u001b[1;32m~\\Documents\\GitHub\\gnssvod\\gnssvod\\position\\interpolation.py:30\u001b[0m, in \u001b[0;36m<listcomp>\u001b[1;34m(.0)\u001b[0m\n\u001b[0;32m     27\u001b[0m clockFileNames \u001b[38;5;241m=\u001b[39m [clockFileName(x\u001b[38;5;241m.\u001b[39mdate(),interval,clock_product,aux_path) \u001b[38;5;28;01mfor\u001b[39;00m x \u001b[38;5;129;01min\u001b[39;00m epochs]\n\u001b[0;32m     28\u001b[0m \u001b[38;5;66;03m#--------------------------------------------------------------------------\u001b[39;00m\n\u001b[0;32m     29\u001b[0m \u001b[38;5;66;03m# reading all those files, downloading them if necessary\u001b[39;00m\n\u001b[1;32m---> 30\u001b[0m sp3 \u001b[38;5;241m=\u001b[39m [\u001b[43mreadFile\u001b[49m\u001b[38;5;241;43m.\u001b[39;49m\u001b[43mread_sp3File\u001b[49m\u001b[43m(\u001b[49m\u001b[43mx\u001b[49m\u001b[43m)\u001b[49m \u001b[38;5;28;01mfor\u001b[39;00m x \u001b[38;5;129;01min\u001b[39;00m sp3FileNames]\n\u001b[0;32m     31\u001b[0m clock \u001b[38;5;241m=\u001b[39m [readFile\u001b[38;5;241m.\u001b[39mread_clockFile(x) \u001b[38;5;28;01mfor\u001b[39;00m x \u001b[38;5;129;01min\u001b[39;00m clockFileNames]\n\u001b[0;32m     32\u001b[0m \u001b[38;5;66;03m#--------------------------------------------------------------------------\u001b[39;00m\n\u001b[0;32m     33\u001b[0m \u001b[38;5;66;03m# concatenate data from current day and some buffer before and after\u001b[39;00m\n",
      "File \u001b[1;32m~\\Documents\\GitHub\\gnssvod\\gnssvod\\io\\readFile.py:702\u001b[0m, in \u001b[0;36mread_sp3File\u001b[1;34m(sp3file)\u001b[0m\n\u001b[0;32m    700\u001b[0m start \u001b[38;5;241m=\u001b[39m time\u001b[38;5;241m.\u001b[39mtime()\n\u001b[0;32m    701\u001b[0m isexist(sp3file)\n\u001b[1;32m--> 702\u001b[0m f \u001b[38;5;241m=\u001b[39m \u001b[38;5;28mopen\u001b[39m(sp3file)\n\u001b[0;32m    703\u001b[0m sp3 \u001b[38;5;241m=\u001b[39m f\u001b[38;5;241m.\u001b[39mreadlines()\n\u001b[0;32m    704\u001b[0m line \u001b[38;5;241m=\u001b[39m \u001b[38;5;241m0\u001b[39m\n",
      "\u001b[1;31mFileNotFoundError\u001b[0m: [Errno 2] No such file or directory: 'C:\\\\Users\\\\varga\\\\AppData\\\\Local\\\\Temp\\\\tmp8_tc12px\\\\GFZ0MGXRAP_20251100000_01D_05M_ORB.SP3'"
     ]
    }
   ],
   "source": [
    "# Carpeta donde dejaste TODOS los .25O\n",
    "DEST = Path(r\"C:\\Users\\varga\\Box\\Data\\nc Files\\MetSta\")\n",
    "\n",
    "# 1) Archivos de entrada (RINEX .25O) - genérico\n",
    "pattern = {\n",
    "    'MetSta': str(DEST / '*.25O')\n",
    "    # Si eventualmente hay subcarpetas dentro de MetSta, usá:\n",
    "    # 'MetSta': str(DEST / '**' / '*.25O')\n",
    "    # (y agregá recursive=True en glob si lo usás manualmente)\n",
    "}\n",
    "\n",
    "# 2) Carpeta de salida para NetCDF (dentro de MetSta)\n",
    "outdir = DEST / \"processed\"\n",
    "outdir.mkdir(parents=True, exist_ok=True)\n",
    "outputdir = {'MetSta': str(outdir)}\n",
    "\n",
    "# (Opcional) chequeo rápido\n",
    "files = glob.glob(pattern['MetSta'])\n",
    "print(f'Found {len(files)} .25O files (showing up to 5):', files[:5])\n",
    "if len(files) == 0:\n",
    "    raise FileNotFoundError(\"No .25O files found in DEST folder. Check DEST and file existence.\")\n",
    "\n",
    "# 3) Variables a conservar (SNR)\n",
    "keepvars = ['S?', 'S??']\n",
    "\n",
    "# 4) Preprocesamiento\n",
    "result = gv.preprocess(\n",
    "    pattern,\n",
    "    interval='15s',\n",
    "    keepvars=keepvars,\n",
    "    outputdir=outputdir,\n",
    "    outputresult=True\n",
    ")\n",
    "\n",
    "# 5) Extraer con seguridad el primer dataset procesado (xarray.Dataset)\n",
    "metsta_res = result.get('MetSta', [])\n",
    "if isinstance(metsta_res, list):\n",
    "    if not metsta_res:\n",
    "        raise ValueError(\"No datasets produced for 'MetSta'. Check the pattern and/or keepvars.\")\n",
    "    obs = metsta_res[0]\n",
    "elif isinstance(metsta_res, xr.Dataset):\n",
    "    obs = metsta_res\n",
    "else:\n",
    "    raise TypeError(f\"Unexpected return type for 'MetSta': {type(metsta_res)}\")\n",
    "\n",
    "obs\n"
   ]
  }
 ],
 "metadata": {
  "kernelspec": {
   "display_name": "Python 3",
   "language": "python",
   "name": "python3"
  },
  "language_info": {
   "codemirror_mode": {
    "name": "ipython",
    "version": 3
   },
   "file_extension": ".py",
   "mimetype": "text/x-python",
   "name": "python",
   "nbconvert_exporter": "python",
   "pygments_lexer": "ipython3",
   "version": "3.11.9"
  }
 },
 "nbformat": 4,
 "nbformat_minor": 5
}
