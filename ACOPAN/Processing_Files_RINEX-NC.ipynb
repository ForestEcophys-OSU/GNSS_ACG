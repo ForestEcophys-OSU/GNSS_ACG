{
 "cells": [
  {
   "cell_type": "markdown",
   "id": "af80e10b",
   "metadata": {},
   "source": [
    "# Processing of Files for the MANCHI Station"
   ]
  },
  {
   "cell_type": "markdown",
   "id": "4836a1ea",
   "metadata": {},
   "source": [
    "Test notebook for data processing"
   ]
  },
  {
   "cell_type": "markdown",
   "id": "245300be",
   "metadata": {},
   "source": [
    "## Libraries"
   ]
  },
  {
   "cell_type": "code",
   "execution_count": 17,
   "id": "cc85df31",
   "metadata": {},
   "outputs": [
    {
     "name": "stdout",
     "output_type": "stream",
     "text": [
      "The autoreload extension is already loaded. To reload it, use:\n",
      "  %reload_ext autoreload\n"
     ]
    }
   ],
   "source": [
    "%load_ext autoreload\n",
    "%autoreload 2\n",
    "import gnssvod as gv\n",
    "import numpy as np\n",
    "import pandas as pd\n",
    "import matplotlib.pyplot as plt\n",
    "import matplotlib.dates as mdates\n",
    "import pdb\n",
    "import importlib\n",
    "import zipfile\n",
    "import os\n",
    "import xarray as xr\n",
    "import glob\n",
    "import shutil\n",
    "from gnssvod.hemistats.hemistats import hemibuild\n",
    "#import georinex as gr\n",
    "#import qgrid as interactive table \n",
    "from matplotlib.collections import PatchCollection\n",
    "import matplotlib.dates as mdates\n",
    "import shutil\n",
    "from matplotlib import rcParams\n",
    "from datetime import datetime \n",
    "import shutil\n",
    "from pathlib import Path\n"
   ]
  },
  {
   "cell_type": "markdown",
   "id": "73204d7c",
   "metadata": {},
   "source": [
    "## Processing 25O\n"
   ]
  },
  {
   "cell_type": "markdown",
   "id": "1a229f32",
   "metadata": {},
   "source": [
    "This chunk searches for all files with the .25O extension and copies them into a folder to be processed as nc"
   ]
  },
  {
   "cell_type": "code",
   "execution_count": 18,
   "id": "f9ddb875",
   "metadata": {},
   "outputs": [
    {
     "name": "stdout",
     "output_type": "stream",
     "text": [
      "Copying C:\\Users\\varga\\Box\\Data\\RinexZipFiles\\ACOPAN\\2025-05-25\\ACOPAN_20250413150519\\ACOPAN_raw_20250413150519_RINEX_3_03\\ACOPAN_raw_20250413150519.25O -> C:\\Users\\varga\\Box\\Data\\RinexZipFiles\\ACOPAN\\ACOPAN_nc\\ACOPAN_raw_20250413150519.25O\n",
      "Copying C:\\Users\\varga\\Box\\Data\\RinexZipFiles\\ACOPAN\\2025-05-25\\ACOPAN_20250414150520\\ACOPAN_raw_20250414150520_RINEX_3_03\\ACOPAN_raw_20250414150520.25O -> C:\\Users\\varga\\Box\\Data\\RinexZipFiles\\ACOPAN\\ACOPAN_nc\\ACOPAN_raw_20250414150520.25O\n",
      "Copying C:\\Users\\varga\\Box\\Data\\RinexZipFiles\\ACOPAN\\2025-05-25\\ACOPAN_20250415150521\\ACOPAN_raw_20250415150521_RINEX_3_03\\ACOPAN_raw_20250415150521.25O -> C:\\Users\\varga\\Box\\Data\\RinexZipFiles\\ACOPAN\\ACOPAN_nc\\ACOPAN_raw_20250415150521.25O\n",
      "Copying C:\\Users\\varga\\Box\\Data\\RinexZipFiles\\ACOPAN\\2025-05-25\\ACOPAN_20250415212838\\ACOPAN_raw_20250415212838_RINEX_3_03\\ACOPAN_raw_20250415212838.25O -> C:\\Users\\varga\\Box\\Data\\RinexZipFiles\\ACOPAN\\ACOPAN_nc\\ACOPAN_raw_20250415212838.25O\n",
      "Copying C:\\Users\\varga\\Box\\Data\\RinexZipFiles\\ACOPAN\\2025-05-25\\ACOPAN_20250416212840\\ACOPAN_raw_20250416212840_RINEX_3_03\\ACOPAN_raw_20250416212840.25O -> C:\\Users\\varga\\Box\\Data\\RinexZipFiles\\ACOPAN\\ACOPAN_nc\\ACOPAN_raw_20250416212840.25O\n",
      "Copying C:\\Users\\varga\\Box\\Data\\RinexZipFiles\\ACOPAN\\2025-05-25\\ACOPAN_20250417212841\\ACOPAN_raw_20250417212841_RINEX_3_03\\ACOPAN_raw_20250417212841.25O -> C:\\Users\\varga\\Box\\Data\\RinexZipFiles\\ACOPAN\\ACOPAN_nc\\ACOPAN_raw_20250417212841.25O\n",
      "Copying C:\\Users\\varga\\Box\\Data\\RinexZipFiles\\ACOPAN\\2025-05-25\\ACOPAN_20250418212841\\ACOPAN_raw_20250418212841_RINEX_3_03\\ACOPAN_raw_20250418212841.25O -> C:\\Users\\varga\\Box\\Data\\RinexZipFiles\\ACOPAN\\ACOPAN_nc\\ACOPAN_raw_20250418212841.25O\n",
      "Copying C:\\Users\\varga\\Box\\Data\\RinexZipFiles\\ACOPAN\\2025-05-25\\ACOPAN_20250419212843\\ACOPAN_raw_20250419212843_RINEX_3_03\\ACOPAN_raw_20250419212843.25O -> C:\\Users\\varga\\Box\\Data\\RinexZipFiles\\ACOPAN\\ACOPAN_nc\\ACOPAN_raw_20250419212843.25O\n",
      "Copying C:\\Users\\varga\\Box\\Data\\RinexZipFiles\\ACOPAN\\2025-05-25\\ACOPAN_20250420212844\\ACOPAN_raw_20250420212844_RINEX_3_03\\ACOPAN_raw_20250420212844.25O -> C:\\Users\\varga\\Box\\Data\\RinexZipFiles\\ACOPAN\\ACOPAN_nc\\ACOPAN_raw_20250420212844.25O\n",
      "Copying C:\\Users\\varga\\Box\\Data\\RinexZipFiles\\ACOPAN\\2025-05-25\\ACOPAN_20250421212844\\ACOPAN_raw_20250421212844_RINEX_3_03\\ACOPAN_raw_20250421212844.25O -> C:\\Users\\varga\\Box\\Data\\RinexZipFiles\\ACOPAN\\ACOPAN_nc\\ACOPAN_raw_20250421212844.25O\n",
      "Copying C:\\Users\\varga\\Box\\Data\\RinexZipFiles\\ACOPAN\\2025-05-25\\ACOPAN_20250422212845\\ACOPAN_raw_20250422212845_RINEX_3_03\\ACOPAN_raw_20250422212845.25O -> C:\\Users\\varga\\Box\\Data\\RinexZipFiles\\ACOPAN\\ACOPAN_nc\\ACOPAN_raw_20250422212845.25O\n",
      "Copying C:\\Users\\varga\\Box\\Data\\RinexZipFiles\\ACOPAN\\2025-05-25\\ACOPAN_20250423212846\\ACOPAN_raw_20250423212846_RINEX_3_03\\ACOPAN_raw_20250423212846.25O -> C:\\Users\\varga\\Box\\Data\\RinexZipFiles\\ACOPAN\\ACOPAN_nc\\ACOPAN_raw_20250423212846.25O\n",
      "Copying C:\\Users\\varga\\Box\\Data\\RinexZipFiles\\ACOPAN\\2025-05-25\\ACOPAN_20250424212847\\ACOPAN_raw_20250424212847_RINEX_3_03\\ACOPAN_raw_20250424212847.25O -> C:\\Users\\varga\\Box\\Data\\RinexZipFiles\\ACOPAN\\ACOPAN_nc\\ACOPAN_raw_20250424212847.25O\n",
      "Copying C:\\Users\\varga\\Box\\Data\\RinexZipFiles\\ACOPAN\\2025-05-25\\ACOPAN_20250425212848\\ACOPAN_raw_20250425212848_RINEX_3_03\\ACOPAN_raw_20250425212848.25O -> C:\\Users\\varga\\Box\\Data\\RinexZipFiles\\ACOPAN\\ACOPAN_nc\\ACOPAN_raw_20250425212848.25O\n",
      "Copying C:\\Users\\varga\\Box\\Data\\RinexZipFiles\\ACOPAN\\2025-05-25\\ACOPAN_20250426212849\\ACOPAN_raw_20250426212849_RINEX_3_03\\ACOPAN_raw_20250426212849.25O -> C:\\Users\\varga\\Box\\Data\\RinexZipFiles\\ACOPAN\\ACOPAN_nc\\ACOPAN_raw_20250426212849.25O\n",
      "Copying C:\\Users\\varga\\Box\\Data\\RinexZipFiles\\ACOPAN\\2025-05-25\\ACOPAN_20250427212850\\ACOPAN_raw_20250427212850_RINEX_3_03\\ACOPAN_raw_20250427212850.25O -> C:\\Users\\varga\\Box\\Data\\RinexZipFiles\\ACOPAN\\ACOPAN_nc\\ACOPAN_raw_20250427212850.25O\n",
      "Copying C:\\Users\\varga\\Box\\Data\\RinexZipFiles\\ACOPAN\\2025-05-25\\ACOPAN_20250428212851\\ACOPAN_raw_20250428212851_RINEX_3_03\\ACOPAN_raw_20250428212851.25O -> C:\\Users\\varga\\Box\\Data\\RinexZipFiles\\ACOPAN\\ACOPAN_nc\\ACOPAN_raw_20250428212851.25O\n",
      "Copying C:\\Users\\varga\\Box\\Data\\RinexZipFiles\\ACOPAN\\2025-05-25\\ACOPAN_20250429212852\\ACOPAN_raw_20250429212852_RINEX_3_03\\ACOPAN_raw_20250429212852.25O -> C:\\Users\\varga\\Box\\Data\\RinexZipFiles\\ACOPAN\\ACOPAN_nc\\ACOPAN_raw_20250429212852.25O\n",
      "Copying C:\\Users\\varga\\Box\\Data\\RinexZipFiles\\ACOPAN\\2025-05-25\\ACOPAN_20250430212853\\ACOPAN_raw_20250430212853_RINEX_3_03\\ACOPAN_raw_20250430212853.25O -> C:\\Users\\varga\\Box\\Data\\RinexZipFiles\\ACOPAN\\ACOPAN_nc\\ACOPAN_raw_20250430212853.25O\n",
      "Copying C:\\Users\\varga\\Box\\Data\\RinexZipFiles\\ACOPAN\\2025-05-25\\ACOPAN_20250501212854\\ACOPAN_raw_20250501212854_RINEX_3_03\\ACOPAN_raw_20250501212854.25O -> C:\\Users\\varga\\Box\\Data\\RinexZipFiles\\ACOPAN\\ACOPAN_nc\\ACOPAN_raw_20250501212854.25O\n",
      "Copying C:\\Users\\varga\\Box\\Data\\RinexZipFiles\\ACOPAN\\2025-05-25\\ACOPAN_20250502212855\\ACOPAN_raw_20250502212855_RINEX_3_03\\ACOPAN_raw_20250502212855.25O -> C:\\Users\\varga\\Box\\Data\\RinexZipFiles\\ACOPAN\\ACOPAN_nc\\ACOPAN_raw_20250502212855.25O\n",
      "Copying C:\\Users\\varga\\Box\\Data\\RinexZipFiles\\ACOPAN\\2025-05-25\\ACOPAN_20250503212856\\ACOPAN_raw_20250503212856_RINEX_3_03\\ACOPAN_raw_20250503212856.25O -> C:\\Users\\varga\\Box\\Data\\RinexZipFiles\\ACOPAN\\ACOPAN_nc\\ACOPAN_raw_20250503212856.25O\n",
      "Copying C:\\Users\\varga\\Box\\Data\\RinexZipFiles\\ACOPAN\\2025-05-25\\ACOPAN_20250504212857\\ACOPAN_raw_20250504212857_RINEX_3_03\\ACOPAN_raw_20250504212857.25O -> C:\\Users\\varga\\Box\\Data\\RinexZipFiles\\ACOPAN\\ACOPAN_nc\\ACOPAN_raw_20250504212857.25O\n",
      "Copying C:\\Users\\varga\\Box\\Data\\RinexZipFiles\\ACOPAN\\2025-05-25\\ACOPAN_20250505212858\\ACOPAN_raw_20250505212858_RINEX_3_03\\ACOPAN_raw_20250505212858.25O -> C:\\Users\\varga\\Box\\Data\\RinexZipFiles\\ACOPAN\\ACOPAN_nc\\ACOPAN_raw_20250505212858.25O\n",
      "Copying C:\\Users\\varga\\Box\\Data\\RinexZipFiles\\ACOPAN\\2025-05-25\\ACOPAN_20250506212859\\ACOPAN_raw_20250506212859_RINEX_3_03\\ACOPAN_raw_20250506212859.25O -> C:\\Users\\varga\\Box\\Data\\RinexZipFiles\\ACOPAN\\ACOPAN_nc\\ACOPAN_raw_20250506212859.25O\n",
      "Copying C:\\Users\\varga\\Box\\Data\\RinexZipFiles\\ACOPAN\\2025-05-25\\ACOPAN_20250507151751\\ACOPAN_raw_20250507151751_RINEX_3_03\\ACOPAN_raw_20250507151751.25O -> C:\\Users\\varga\\Box\\Data\\RinexZipFiles\\ACOPAN\\ACOPAN_nc\\ACOPAN_raw_20250507151751.25O\n",
      "Copying C:\\Users\\varga\\Box\\Data\\RinexZipFiles\\ACOPAN\\2025-05-25\\ACOPAN_20250508151752\\ACOPAN_raw_20250508151752_RINEX_3_03\\ACOPAN_raw_20250508151752.25O -> C:\\Users\\varga\\Box\\Data\\RinexZipFiles\\ACOPAN\\ACOPAN_nc\\ACOPAN_raw_20250508151752.25O\n",
      "Copying C:\\Users\\varga\\Box\\Data\\RinexZipFiles\\ACOPAN\\2025-05-25\\ACOPAN_20250509151752\\ACOPAN_raw_20250509151752_RINEX_3_03\\ACOPAN_raw_20250509151752.25O -> C:\\Users\\varga\\Box\\Data\\RinexZipFiles\\ACOPAN\\ACOPAN_nc\\ACOPAN_raw_20250509151752.25O\n",
      "Copying C:\\Users\\varga\\Box\\Data\\RinexZipFiles\\ACOPAN\\2025-05-25\\ACOPAN_20250510151753\\ACOPAN_raw_20250510151753_RINEX_3_03\\ACOPAN_raw_20250510151753.25O -> C:\\Users\\varga\\Box\\Data\\RinexZipFiles\\ACOPAN\\ACOPAN_nc\\ACOPAN_raw_20250510151753.25O\n",
      "Copying C:\\Users\\varga\\Box\\Data\\RinexZipFiles\\ACOPAN\\2025-05-25\\ACOPAN_20250511151753\\ACOPAN_raw_20250511151753_RINEX_3_03\\ACOPAN_raw_20250511151753.25O -> C:\\Users\\varga\\Box\\Data\\RinexZipFiles\\ACOPAN\\ACOPAN_nc\\ACOPAN_raw_20250511151753.25O\n",
      "Copying C:\\Users\\varga\\Box\\Data\\RinexZipFiles\\ACOPAN\\2025-05-25\\ACOPAN_20250512151754\\ACOPAN_raw_20250512151754_RINEX_3_03\\ACOPAN_raw_20250512151754.25O -> C:\\Users\\varga\\Box\\Data\\RinexZipFiles\\ACOPAN\\ACOPAN_nc\\ACOPAN_raw_20250512151754.25O\n",
      "Copying C:\\Users\\varga\\Box\\Data\\RinexZipFiles\\ACOPAN\\2025-05-25\\ACOPAN_20250513151755\\ACOPAN_raw_20250513151755_RINEX_3_03\\ACOPAN_raw_20250513151755.25O -> C:\\Users\\varga\\Box\\Data\\RinexZipFiles\\ACOPAN\\ACOPAN_nc\\ACOPAN_raw_20250513151755.25O\n",
      "Copying C:\\Users\\varga\\Box\\Data\\RinexZipFiles\\ACOPAN\\2025-05-25\\ACOPAN_20250514151756\\ACOPAN_raw_20250514151756_RINEX_3_03\\ACOPAN_raw_20250514151756.25O -> C:\\Users\\varga\\Box\\Data\\RinexZipFiles\\ACOPAN\\ACOPAN_nc\\ACOPAN_raw_20250514151756.25O\n",
      "Copying C:\\Users\\varga\\Box\\Data\\RinexZipFiles\\ACOPAN\\2025-05-25\\ACOPAN_20250515151757\\ACOPAN_raw_20250515151757_RINEX_3_03\\ACOPAN_raw_20250515151757.25O -> C:\\Users\\varga\\Box\\Data\\RinexZipFiles\\ACOPAN\\ACOPAN_nc\\ACOPAN_raw_20250515151757.25O\n",
      "Copying C:\\Users\\varga\\Box\\Data\\RinexZipFiles\\ACOPAN\\2025-05-25\\ACOPAN_20250516151758\\ACOPAN_raw_20250516151758_RINEX_3_03\\ACOPAN_raw_20250516151758.25O -> C:\\Users\\varga\\Box\\Data\\RinexZipFiles\\ACOPAN\\ACOPAN_nc\\ACOPAN_raw_20250516151758.25O\n",
      "Copying C:\\Users\\varga\\Box\\Data\\RinexZipFiles\\ACOPAN\\2025-05-25\\ACOPAN_20250517151758\\ACOPAN_raw_20250517151758_RINEX_3_03\\ACOPAN_raw_20250517151758.25O -> C:\\Users\\varga\\Box\\Data\\RinexZipFiles\\ACOPAN\\ACOPAN_nc\\ACOPAN_raw_20250517151758.25O\n",
      "Copying C:\\Users\\varga\\Box\\Data\\RinexZipFiles\\ACOPAN\\2025-05-25\\ACOPAN_20250518151759\\ACOPAN_raw_20250518151759_RINEX_3_03\\ACOPAN_raw_20250518151759.25O -> C:\\Users\\varga\\Box\\Data\\RinexZipFiles\\ACOPAN\\ACOPAN_nc\\ACOPAN_raw_20250518151759.25O\n",
      "Copying C:\\Users\\varga\\Box\\Data\\RinexZipFiles\\ACOPAN\\2025-05-25\\ACOPAN_20250519151800\\ACOPAN_raw_20250519151800_RINEX_3_03\\ACOPAN_raw_20250519151800.25O -> C:\\Users\\varga\\Box\\Data\\RinexZipFiles\\ACOPAN\\ACOPAN_nc\\ACOPAN_raw_20250519151800.25O\n",
      "Copying C:\\Users\\varga\\Box\\Data\\RinexZipFiles\\ACOPAN\\2025-05-25\\ACOPAN_20250520151801\\ACOPAN_raw_20250520151801_RINEX_3_03\\ACOPAN_raw_20250520151801.25O -> C:\\Users\\varga\\Box\\Data\\RinexZipFiles\\ACOPAN\\ACOPAN_nc\\ACOPAN_raw_20250520151801.25O\n",
      "Copying C:\\Users\\varga\\Box\\Data\\RinexZipFiles\\ACOPAN\\2025-05-25\\ACOPAN_20250521151802\\ACOPAN_raw_20250521151802_RINEX_3_03\\ACOPAN_raw_20250521151802.25O -> C:\\Users\\varga\\Box\\Data\\RinexZipFiles\\ACOPAN\\ACOPAN_nc\\ACOPAN_raw_20250521151802.25O\n",
      "Copying C:\\Users\\varga\\Box\\Data\\RinexZipFiles\\ACOPAN\\2025-05-25\\ACOPAN_20250522151802\\ACOPAN_raw_20250522151802_RINEX_3_03\\ACOPAN_raw_20250522151802.25O -> C:\\Users\\varga\\Box\\Data\\RinexZipFiles\\ACOPAN\\ACOPAN_nc\\ACOPAN_raw_20250522151802.25O\n",
      "Copying C:\\Users\\varga\\Box\\Data\\RinexZipFiles\\ACOPAN\\2025-05-25\\ACOPAN_20250523151803\\ACOPAN_raw_20250523151803_RINEX_3_03\\ACOPAN_raw_20250523151803.25O -> C:\\Users\\varga\\Box\\Data\\RinexZipFiles\\ACOPAN\\ACOPAN_nc\\ACOPAN_raw_20250523151803.25O\n",
      "Copying C:\\Users\\varga\\Box\\Data\\RinexZipFiles\\ACOPAN\\2025-05-25\\ACOPAN_20250524151803\\ACOPAN_raw_20250524151803_RINEX_3_03\\ACOPAN_raw_20250524151803.25O -> C:\\Users\\varga\\Box\\Data\\RinexZipFiles\\ACOPAN\\ACOPAN_nc\\ACOPAN_raw_20250524151803.25O\n",
      "Copying C:\\Users\\varga\\Box\\Data\\RinexZipFiles\\ACOPAN\\2025-05-25\\ACOPAN_20250525151804\\ACOPAN_raw_20250525151804_RINEX_3_03\\ACOPAN_raw_20250525151804.25O -> C:\\Users\\varga\\Box\\Data\\RinexZipFiles\\ACOPAN\\ACOPAN_nc\\ACOPAN_raw_20250525151804.25O\n",
      "Copying C:\\Users\\varga\\Box\\Data\\RinexZipFiles\\ACOPAN\\2025-05-25\\temp_extract\\ACOPAN_raw_20250413150519_RINEX_3_03\\ACOPAN_raw_20250413150519.25O -> C:\\Users\\varga\\Box\\Data\\RinexZipFiles\\ACOPAN\\ACOPAN_nc\\ACOPAN_raw_20250413150519.25O\n",
      "Copying C:\\Users\\varga\\Box\\Data\\RinexZipFiles\\ACOPAN\\2025-05-25\\temp_extract_2_1749510935\\ACOPAN_raw_20250414150520_RINEX_3_03\\ACOPAN_raw_20250414150520.25O -> C:\\Users\\varga\\Box\\Data\\RinexZipFiles\\ACOPAN\\ACOPAN_nc\\ACOPAN_raw_20250414150520.25O\n",
      "Done. All .25O files were copied to: C:\\Users\\varga\\Box\\Data\\RinexZipFiles\\ACOPAN\\ACOPAN_nc\n"
     ]
    }
   ],
   "source": [
    "# Root folder where the decompressed sessions are located\n",
    "ROOT = Path(r\"C:/Users/varga/Box/Data/RinexZipFiles/ACOPAN/2025-05-25\")\n",
    "# Output folder where all the .25O files will be copied\n",
    "DEST = ROOT.parent / \"ACOPAN_nc\"\n",
    "\n",
    "# Create destination folder if it does not exist\n",
    "DEST.mkdir(exist_ok=True)\n",
    "\n",
    "for session_dir in ROOT.iterdir():\n",
    "    if not session_dir.is_dir():\n",
    "        continue\n",
    "    raw_dirs = [d for d in session_dir.iterdir() if d.is_dir() and \"RINEX_3_03\" in d.name]\n",
    "    for raw_dir in raw_dirs:\n",
    "        obs_files = list(raw_dir.glob(\"*.25O\"))\n",
    "        for f in obs_files:\n",
    "            dest_file = DEST / f.name\n",
    "            print(f\"Copying {f} -> {dest_file}\")\n",
    "            shutil.copy2(f, dest_file)\n",
    "\n",
    "print(\"Done. All .25O files were copied to:\", DEST)\n"
   ]
  },
  {
   "cell_type": "markdown",
   "id": "c632cc43",
   "metadata": {},
   "source": [
    "## Presets"
   ]
  },
  {
   "cell_type": "markdown",
   "id": "6029bdb6",
   "metadata": {},
   "source": [
    "### Time intervals"
   ]
  },
  {
   "cell_type": "code",
   "execution_count": 19,
   "id": "13073921",
   "metadata": {},
   "outputs": [
    {
     "data": {
      "text/plain": [
       "IntervalIndex([[2025-04-25 00:00:00, 2025-04-26 00:00:00),\n",
       "               [2025-04-26 00:00:00, 2025-04-27 00:00:00),\n",
       "               [2025-04-27 00:00:00, 2025-04-28 00:00:00),\n",
       "               [2025-04-28 00:00:00, 2025-04-29 00:00:00),\n",
       "               [2025-04-29 00:00:00, 2025-04-30 00:00:00),\n",
       "               [2025-04-30 00:00:00, 2025-05-01 00:00:00),\n",
       "               [2025-05-01 00:00:00, 2025-05-02 00:00:00),\n",
       "               [2025-05-02 00:00:00, 2025-05-03 00:00:00),\n",
       "               [2025-05-03 00:00:00, 2025-05-04 00:00:00),\n",
       "               [2025-05-04 00:00:00, 2025-05-05 00:00:00)],\n",
       "              dtype='interval[datetime64[ns], left]')"
      ]
     },
     "execution_count": 19,
     "metadata": {},
     "output_type": "execute_result"
    }
   ],
   "source": [
    "# Define the start day\n",
    "startday = pd.to_datetime('25-04-2025', format='%d-%m-%Y')\n",
    "# Generate a range of datetime values\n",
    "timeintervals=pd.interval_range(start=startday, periods=10, freq='D', closed='left')\n",
    "timeintervals"
   ]
  },
  {
   "cell_type": "markdown",
   "id": "276dda6e",
   "metadata": {},
   "source": [
    "## Process Rinex Files"
   ]
  },
  {
   "cell_type": "code",
   "execution_count": 16,
   "id": "c913789e",
   "metadata": {},
   "outputs": [
    {
     "name": "stdout",
     "output_type": "stream",
     "text": [
      "Found 44 files:\n",
      "ACOPAN_raw_20250413150519.25O\n",
      "ACOPAN_raw_20250414150520.25O\n",
      "ACOPAN_raw_20250415150521.25O\n",
      "ACOPAN_raw_20250415212838.25O\n",
      "ACOPAN_raw_20250416212840.25O\n",
      "ACOPAN_raw_20250417212841.25O\n",
      "ACOPAN_raw_20250418212841.25O\n",
      "ACOPAN_raw_20250419212843.25O\n",
      "ACOPAN_raw_20250420212844.25O\n",
      "ACOPAN_raw_20250421212844.25O\n",
      "ACOPAN_raw_20250422212845.25O\n",
      "ACOPAN_raw_20250423212846.25O\n",
      "ACOPAN_raw_20250424212847.25O\n",
      "ACOPAN_raw_20250425212848.25O\n",
      "ACOPAN_raw_20250426212849.25O\n",
      "ACOPAN_raw_20250427212850.25O\n",
      "ACOPAN_raw_20250428212851.25O\n",
      "ACOPAN_raw_20250429212852.25O\n",
      "ACOPAN_raw_20250430212853.25O\n",
      "ACOPAN_raw_20250501212854.25O\n",
      "ACOPAN_raw_20250502212855.25O\n",
      "ACOPAN_raw_20250503212856.25O\n",
      "ACOPAN_raw_20250504212857.25O\n",
      "ACOPAN_raw_20250505212858.25O\n",
      "ACOPAN_raw_20250506212859.25O\n",
      "ACOPAN_raw_20250507151751.25O\n",
      "ACOPAN_raw_20250508151752.25O\n",
      "ACOPAN_raw_20250509151752.25O\n",
      "ACOPAN_raw_20250510151753.25O\n",
      "ACOPAN_raw_20250511151753.25O\n",
      "ACOPAN_raw_20250512151754.25O\n",
      "ACOPAN_raw_20250513151755.25O\n",
      "ACOPAN_raw_20250514151756.25O\n",
      "ACOPAN_raw_20250515151757.25O\n",
      "ACOPAN_raw_20250516151758.25O\n",
      "ACOPAN_raw_20250517151758.25O\n",
      "ACOPAN_raw_20250518151759.25O\n",
      "ACOPAN_raw_20250519151800.25O\n",
      "ACOPAN_raw_20250520151801.25O\n",
      "ACOPAN_raw_20250521151802.25O\n",
      "ACOPAN_raw_20250522151802.25O\n",
      "ACOPAN_raw_20250523151803.25O\n",
      "ACOPAN_raw_20250524151803.25O\n",
      "ACOPAN_raw_20250525151804.25O\n"
     ]
    }
   ],
   "source": [
    "root = Path(r\"C:\\Users\\varga\\Box\\Data\\nc Files\\ACOPAN_nc\")\n",
    "files = list(root.glob(\"*.*O\"))\n",
    "\n",
    "print(\"Found\", len(files), \"files:\")\n",
    "for f in files:\n",
    "    print(f.name)\n"
   ]
  },
  {
   "cell_type": "code",
   "execution_count": 22,
   "id": "1e478121",
   "metadata": {},
   "outputs": [
    {
     "name": "stdout",
     "output_type": "stream",
     "text": [
      "Found 44 .25O files (showing up to 5): ['C:\\\\Users\\\\varga\\\\Box\\\\Data\\\\RinexZipFiles\\\\ACOPAN\\\\ACOPAN_nc\\\\ACOPAN_raw_20250413150519.25O', 'C:\\\\Users\\\\varga\\\\Box\\\\Data\\\\RinexZipFiles\\\\ACOPAN\\\\ACOPAN_nc\\\\ACOPAN_raw_20250414150520.25O', 'C:\\\\Users\\\\varga\\\\Box\\\\Data\\\\RinexZipFiles\\\\ACOPAN\\\\ACOPAN_nc\\\\ACOPAN_raw_20250415150521.25O', 'C:\\\\Users\\\\varga\\\\Box\\\\Data\\\\RinexZipFiles\\\\ACOPAN\\\\ACOPAN_nc\\\\ACOPAN_raw_20250415212838.25O', 'C:\\\\Users\\\\varga\\\\Box\\\\Data\\\\RinexZipFiles\\\\ACOPAN\\\\ACOPAN_nc\\\\ACOPAN_raw_20250416212840.25O']\n",
      "Created a temporary directory at C:\\Users\\varga\\AppData\\Local\\Temp\\tmpftmbceon\n",
      "Could not find any files matching the pattern C:\\Users\\varga\\Box\\Data\\RinexZipFiles\\ACOPAN\\2025-05-25\\processed*.nc\n",
      "C:\\Users\\varga\\Box\\Data\\RinexZipFiles\\ACOPAN\\ACOPAN_nc\\ACOPAN_raw_20250413150519.25O exists | Reading...\n",
      "Processed 0 out of 3285505 lines (0.0%)\n",
      "Processed 252956 out of 3285505 lines (7.7%)\n",
      "Processed 557826 out of 3285505 lines (17.0%)\n",
      "Processed 772245 out of 3285505 lines (23.5%)\n",
      "Processed 900975 out of 3285505 lines (27.4%)\n",
      "Processed 1174640 out of 3285505 lines (35.8%)\n",
      "Processed 1224596 out of 3285505 lines (37.3%)\n",
      "Processed 1456457 out of 3285505 lines (44.3%)\n",
      "Processed 1631669 out of 3285505 lines (49.7%)\n",
      "Processed 1900362 out of 3285505 lines (57.8%)\n",
      "Processed 2293430 out of 3285505 lines (69.8%)\n",
      "Processed 2620511 out of 3285505 lines (79.8%)\n",
      "Processed 2850954 out of 3285505 lines (86.8%)\n",
      "Processed 3153924 out of 3285505 lines (96.0%)\n",
      "Observation file  C:\\Users\\varga\\Box\\Data\\RinexZipFiles\\ACOPAN\\ACOPAN_nc\\ACOPAN_raw_20250413150519.25O  is read in 1499.81 seconds.\n",
      "Processing 3199105 individual observations\n",
      "Calculating Azimuth and Elevation\n",
      "This file does not exist: C:\\Users\\varga\\AppData\\Local\\Temp\\tmpftmbceon\\GFZ0MGXRAP_20251030000_01D_05M_ORB.SP3\n",
      "Downloading: ftp://gssc.esa.int/gnss/products/2362//GFZ0MGXRAP_20251030000_01D_05M_ORB.SP3.gz"
     ]
    },
    {
     "name": "stderr",
     "output_type": "stream",
     "text": [
      "GFZ0MGXRAP_20251030000_01D_05M_ORB.SP3.gz: 1.03MB [00:03, 309kB/s]                             \n"
     ]
    },
    {
     "name": "stdout",
     "output_type": "stream",
     "text": [
      " | Download completed for ftp://gssc.esa.int/gnss/products/2362//GFZ0MGXRAP_20251030000_01D_05M_ORB.SP3.gz\n",
      "C:\\Users\\varga\\AppData\\Local\\Temp\\tmpftmbceon\\GFZ0MGXRAP_20251030000_01D_05M_ORB.SP3 file is read in 9.48 seconds\n",
      "This file does not exist: C:\\Users\\varga\\AppData\\Local\\Temp\\tmpftmbceon\\GFZ0MGXRAP_20251040000_01D_05M_ORB.SP3\n",
      "Downloading: ftp://gssc.esa.int/gnss/products/2362//GFZ0MGXRAP_20251040000_01D_05M_ORB.SP3.gz"
     ]
    },
    {
     "name": "stderr",
     "output_type": "stream",
     "text": [
      "GFZ0MGXRAP_20251040000_01D_05M_ORB.SP3.gz: 1.03MB [00:03, 328kB/s]                             \n"
     ]
    },
    {
     "name": "stdout",
     "output_type": "stream",
     "text": [
      " | Download completed for ftp://gssc.esa.int/gnss/products/2362//GFZ0MGXRAP_20251040000_01D_05M_ORB.SP3.gz\n",
      "C:\\Users\\varga\\AppData\\Local\\Temp\\tmpftmbceon\\GFZ0MGXRAP_20251040000_01D_05M_ORB.SP3 file is read in 9.77 seconds\n",
      "This file does not exist: C:\\Users\\varga\\AppData\\Local\\Temp\\tmpftmbceon\\GFZ0MGXRAP_20251030000_01D_30S_CLK.CLK\n",
      "Downloading: GFZ0MGXRAP_20251030000_01D_30S_CLK.CLK.gz"
     ]
    },
    {
     "name": "stderr",
     "output_type": "stream",
     "text": [
      "GFZ0MGXRAP_20251030000_01D_30S_CLK.CLK.gz: 4.73MB [00:05, 868kB/s]                             \n"
     ]
    },
    {
     "name": "stdout",
     "output_type": "stream",
     "text": [
      " | Download completed for GFZ0MGXRAP_20251030000_01D_30S_CLK.CLK.gz\n",
      "C:\\Users\\varga\\AppData\\Local\\Temp\\tmpftmbceon\\GFZ0MGXRAP_20251030000_01D_30S_CLK.CLK file is read in 8.25 seconds\n",
      "This file does not exist: C:\\Users\\varga\\AppData\\Local\\Temp\\tmpftmbceon\\GFZ0MGXRAP_20251040000_01D_30S_CLK.CLK\n",
      "Downloading: GFZ0MGXRAP_20251040000_01D_30S_CLK.CLK.gz"
     ]
    },
    {
     "name": "stderr",
     "output_type": "stream",
     "text": [
      "GFZ0MGXRAP_20251040000_01D_30S_CLK.CLK.gz: 4.74MB [00:03, 1.33MB/s]                            \n"
     ]
    },
    {
     "name": "stdout",
     "output_type": "stream",
     "text": [
      " | Download completed for GFZ0MGXRAP_20251040000_01D_30S_CLK.CLK.gz\n",
      "C:\\Users\\varga\\AppData\\Local\\Temp\\tmpftmbceon\\GFZ0MGXRAP_20251040000_01D_30S_CLK.CLK file is read in 2.17 seconds\n",
      "SP3 interpolation is done in 4.24 seconds\n",
      "Saved 215763 individual observations in C:\\Users\\varga\\Box\\Data\\RinexZipFiles\\ACOPAN\\2025-05-25\\processed\\ACOPAN_raw_20250413150519.nc\n",
      "C:\\Users\\varga\\Box\\Data\\RinexZipFiles\\ACOPAN\\ACOPAN_nc\\ACOPAN_raw_20250414150520.25O exists | Reading...\n",
      "Processed 100628 out of 3244220 lines (3.1%)\n",
      "Processed 211797 out of 3244220 lines (6.5%)\n",
      "Processed 751080 out of 3244220 lines (23.2%)\n",
      "Processed 1304588 out of 3244220 lines (40.2%)\n",
      "Processed 1507474 out of 3244220 lines (46.5%)\n",
      "Processed 1893802 out of 3244220 lines (58.4%)\n",
      "Processed 2300131 out of 3244220 lines (70.9%)\n",
      "Processed 2646067 out of 3244220 lines (81.6%)\n",
      "Processed 2966701 out of 3244220 lines (91.4%)\n",
      "Observation file  C:\\Users\\varga\\Box\\Data\\RinexZipFiles\\ACOPAN\\ACOPAN_nc\\ACOPAN_raw_20250414150520.25O  is read in 748.96 seconds.\n",
      "Processing 3157820 individual observations\n",
      "Calculating Azimuth and Elevation\n",
      "C:\\Users\\varga\\AppData\\Local\\Temp\\tmpftmbceon\\GFZ0MGXRAP_20251040000_01D_05M_ORB.SP3 exists | Reading...\n",
      "C:\\Users\\varga\\AppData\\Local\\Temp\\tmpftmbceon\\GFZ0MGXRAP_20251040000_01D_05M_ORB.SP3 file is read in 0.63 seconds\n",
      "This file does not exist: C:\\Users\\varga\\AppData\\Local\\Temp\\tmpftmbceon\\GFZ0MGXRAP_20251050000_01D_05M_ORB.SP3\n",
      "Downloading: ftp://gssc.esa.int/gnss/products/2362//GFZ0MGXRAP_20251050000_01D_05M_ORB.SP3.gz"
     ]
    },
    {
     "name": "stderr",
     "output_type": "stream",
     "text": [
      "GFZ0MGXRAP_20251050000_01D_05M_ORB.SP3.gz: 1.04MB [00:03, 334kB/s]                             \n"
     ]
    },
    {
     "name": "stdout",
     "output_type": "stream",
     "text": [
      " | Download completed for ftp://gssc.esa.int/gnss/products/2362//GFZ0MGXRAP_20251050000_01D_05M_ORB.SP3.gz\n",
      "C:\\Users\\varga\\AppData\\Local\\Temp\\tmpftmbceon\\GFZ0MGXRAP_20251050000_01D_05M_ORB.SP3 file is read in 10.05 seconds\n",
      "C:\\Users\\varga\\AppData\\Local\\Temp\\tmpftmbceon\\GFZ0MGXRAP_20251040000_01D_30S_CLK.CLK exists | Reading...\n",
      "C:\\Users\\varga\\AppData\\Local\\Temp\\tmpftmbceon\\GFZ0MGXRAP_20251040000_01D_30S_CLK.CLK file is read in 17.04 seconds\n",
      "This file does not exist: C:\\Users\\varga\\AppData\\Local\\Temp\\tmpftmbceon\\GFZ0MGXRAP_20251050000_01D_30S_CLK.CLK\n",
      "Downloading: GFZ0MGXRAP_20251050000_01D_30S_CLK.CLK.gz"
     ]
    },
    {
     "name": "stderr",
     "output_type": "stream",
     "text": [
      "GFZ0MGXRAP_20251050000_01D_30S_CLK.CLK.gz: 4.80MB [00:03, 1.34MB/s]                            \n"
     ]
    },
    {
     "name": "stdout",
     "output_type": "stream",
     "text": [
      " | Download completed for GFZ0MGXRAP_20251050000_01D_30S_CLK.CLK.gz\n",
      "C:\\Users\\varga\\AppData\\Local\\Temp\\tmpftmbceon\\GFZ0MGXRAP_20251050000_01D_30S_CLK.CLK file is read in 2.53 seconds\n",
      "SP3 interpolation is done in 4.22 seconds\n",
      "Saved 212531 individual observations in C:\\Users\\varga\\Box\\Data\\RinexZipFiles\\ACOPAN\\2025-05-25\\processed\\ACOPAN_raw_20250414150520.nc\n",
      "C:\\Users\\varga\\Box\\Data\\RinexZipFiles\\ACOPAN\\ACOPAN_nc\\ACOPAN_raw_20250415150521.25O exists | Reading...\n",
      "Processed 431993 out of 880619 lines (49.1%)\n",
      "Processed 815059 out of 880619 lines (92.6%)\n",
      "Observation file  C:\\Users\\varga\\Box\\Data\\RinexZipFiles\\ACOPAN\\ACOPAN_nc\\ACOPAN_raw_20250415150521.25O  is read in 82.69 seconds.\n",
      "Processing 857622 individual observations\n",
      "Calculating Azimuth and Elevation\n",
      "C:\\Users\\varga\\AppData\\Local\\Temp\\tmpftmbceon\\GFZ0MGXRAP_20251050000_01D_05M_ORB.SP3 exists | Reading...\n",
      "C:\\Users\\varga\\AppData\\Local\\Temp\\tmpftmbceon\\GFZ0MGXRAP_20251050000_01D_05M_ORB.SP3 file is read in 4.50 seconds\n",
      "C:\\Users\\varga\\AppData\\Local\\Temp\\tmpftmbceon\\GFZ0MGXRAP_20251050000_01D_30S_CLK.CLK exists | Reading...\n",
      "C:\\Users\\varga\\AppData\\Local\\Temp\\tmpftmbceon\\GFZ0MGXRAP_20251050000_01D_30S_CLK.CLK file is read in 18.31 seconds\n",
      "SP3 interpolation is done in 3.29 seconds\n",
      "Saved 57767 individual observations in C:\\Users\\varga\\Box\\Data\\RinexZipFiles\\ACOPAN\\2025-05-25\\processed\\ACOPAN_raw_20250415150521.nc\n",
      "C:\\Users\\varga\\Box\\Data\\RinexZipFiles\\ACOPAN\\ACOPAN_nc\\ACOPAN_raw_20250415212838.25O exists | Reading...\n",
      "Observation file  C:\\Users\\varga\\Box\\Data\\RinexZipFiles\\ACOPAN\\ACOPAN_nc\\ACOPAN_raw_20250415212838.25O  is read in 3.02 seconds.\n",
      "Processing 106079 individual observations\n",
      "Calculating Azimuth and Elevation\n",
      "C:\\Users\\varga\\AppData\\Local\\Temp\\tmpftmbceon\\GFZ0MGXRAP_20251050000_01D_05M_ORB.SP3 exists | Reading...\n",
      "C:\\Users\\varga\\AppData\\Local\\Temp\\tmpftmbceon\\GFZ0MGXRAP_20251050000_01D_05M_ORB.SP3 file is read in 0.57 seconds\n",
      "This file does not exist: C:\\Users\\varga\\AppData\\Local\\Temp\\tmpftmbceon\\GFZ0MGXRAP_20251060000_01D_05M_ORB.SP3\n",
      "Downloading: ftp://gssc.esa.int/gnss/products/2362//GFZ0MGXRAP_20251060000_01D_05M_ORB.SP3.gz"
     ]
    },
    {
     "name": "stderr",
     "output_type": "stream",
     "text": [
      "GFZ0MGXRAP_20251060000_01D_05M_ORB.SP3.gz: 1.03MB [00:03, 339kB/s]                             \n"
     ]
    },
    {
     "name": "stdout",
     "output_type": "stream",
     "text": [
      " | Download completed for ftp://gssc.esa.int/gnss/products/2362//GFZ0MGXRAP_20251060000_01D_05M_ORB.SP3.gz\n",
      "C:\\Users\\varga\\AppData\\Local\\Temp\\tmpftmbceon\\GFZ0MGXRAP_20251060000_01D_05M_ORB.SP3 file is read in 6.94 seconds\n",
      "C:\\Users\\varga\\AppData\\Local\\Temp\\tmpftmbceon\\GFZ0MGXRAP_20251050000_01D_30S_CLK.CLK exists | Reading...\n",
      "C:\\Users\\varga\\AppData\\Local\\Temp\\tmpftmbceon\\GFZ0MGXRAP_20251050000_01D_30S_CLK.CLK file is read in 18.06 seconds\n",
      "This file does not exist: C:\\Users\\varga\\AppData\\Local\\Temp\\tmpftmbceon\\GFZ0MGXRAP_20251060000_01D_30S_CLK.CLK\n",
      "Downloading: GFZ0MGXRAP_20251060000_01D_30S_CLK.CLK.gz"
     ]
    },
    {
     "name": "stderr",
     "output_type": "stream",
     "text": [
      "GFZ0MGXRAP_20251060000_01D_30S_CLK.CLK.gz: 4.77MB [00:04, 1.14MB/s]                            \n"
     ]
    },
    {
     "name": "stdout",
     "output_type": "stream",
     "text": [
      " | Download completed for GFZ0MGXRAP_20251060000_01D_30S_CLK.CLK.gz\n",
      "C:\\Users\\varga\\AppData\\Local\\Temp\\tmpftmbceon\\GFZ0MGXRAP_20251060000_01D_30S_CLK.CLK file is read in 2.52 seconds\n",
      "SP3 interpolation is done in 4.00 seconds\n",
      "Saved 106079 individual observations in C:\\Users\\varga\\Box\\Data\\RinexZipFiles\\ACOPAN\\2025-05-25\\processed\\ACOPAN_raw_20250415212838.nc\n",
      "C:\\Users\\varga\\Box\\Data\\RinexZipFiles\\ACOPAN\\ACOPAN_nc\\ACOPAN_raw_20250416212840.25O exists | Reading...\n",
      "Observation file  C:\\Users\\varga\\Box\\Data\\RinexZipFiles\\ACOPAN\\ACOPAN_nc\\ACOPAN_raw_20250416212840.25O  is read in 29.37 seconds.\n",
      "Processing 107928 individual observations\n",
      "Calculating Azimuth and Elevation\n",
      "C:\\Users\\varga\\AppData\\Local\\Temp\\tmpftmbceon\\GFZ0MGXRAP_20251060000_01D_05M_ORB.SP3 exists | Reading...\n",
      "C:\\Users\\varga\\AppData\\Local\\Temp\\tmpftmbceon\\GFZ0MGXRAP_20251060000_01D_05M_ORB.SP3 file is read in 0.57 seconds\n",
      "This file does not exist: C:\\Users\\varga\\AppData\\Local\\Temp\\tmpftmbceon\\GFZ0MGXRAP_20251070000_01D_05M_ORB.SP3\n",
      "Downloading: ftp://gssc.esa.int/gnss/products/2362//GFZ0MGXRAP_20251070000_01D_05M_ORB.SP3.gz"
     ]
    },
    {
     "name": "stderr",
     "output_type": "stream",
     "text": [
      "GFZ0MGXRAP_20251070000_01D_05M_ORB.SP3.gz: 1.02MB [00:03, 322kB/s]                             \n"
     ]
    },
    {
     "name": "stdout",
     "output_type": "stream",
     "text": [
      " | Download completed for ftp://gssc.esa.int/gnss/products/2362//GFZ0MGXRAP_20251070000_01D_05M_ORB.SP3.gz\n",
      "C:\\Users\\varga\\AppData\\Local\\Temp\\tmpftmbceon\\GFZ0MGXRAP_20251070000_01D_05M_ORB.SP3 file is read in 4.03 seconds\n",
      "C:\\Users\\varga\\AppData\\Local\\Temp\\tmpftmbceon\\GFZ0MGXRAP_20251060000_01D_30S_CLK.CLK exists | Reading...\n",
      "C:\\Users\\varga\\AppData\\Local\\Temp\\tmpftmbceon\\GFZ0MGXRAP_20251060000_01D_30S_CLK.CLK file is read in 2.73 seconds\n",
      "This file does not exist: C:\\Users\\varga\\AppData\\Local\\Temp\\tmpftmbceon\\GFZ0MGXRAP_20251070000_01D_30S_CLK.CLK\n",
      "Downloading: GFZ0MGXRAP_20251070000_01D_30S_CLK.CLK.gz"
     ]
    },
    {
     "name": "stderr",
     "output_type": "stream",
     "text": [
      "GFZ0MGXRAP_20251070000_01D_30S_CLK.CLK.gz: 4.71MB [00:03, 1.32MB/s]                            \n"
     ]
    },
    {
     "name": "stdout",
     "output_type": "stream",
     "text": [
      " | Download completed for GFZ0MGXRAP_20251070000_01D_30S_CLK.CLK.gz\n",
      "C:\\Users\\varga\\AppData\\Local\\Temp\\tmpftmbceon\\GFZ0MGXRAP_20251070000_01D_30S_CLK.CLK file is read in 3.10 seconds\n",
      "SP3 interpolation is done in 16.39 seconds\n",
      "Saved 107928 individual observations in C:\\Users\\varga\\Box\\Data\\RinexZipFiles\\ACOPAN\\2025-05-25\\processed\\ACOPAN_raw_20250416212840.nc\n",
      "C:\\Users\\varga\\Box\\Data\\RinexZipFiles\\ACOPAN\\ACOPAN_nc\\ACOPAN_raw_20250417212841.25O exists | Reading...\n",
      "Observation file  C:\\Users\\varga\\Box\\Data\\RinexZipFiles\\ACOPAN\\ACOPAN_nc\\ACOPAN_raw_20250417212841.25O  is read in 3.37 seconds.\n",
      "Processing 105752 individual observations\n",
      "Calculating Azimuth and Elevation\n",
      "C:\\Users\\varga\\AppData\\Local\\Temp\\tmpftmbceon\\GFZ0MGXRAP_20251070000_01D_05M_ORB.SP3 exists | Reading...\n",
      "C:\\Users\\varga\\AppData\\Local\\Temp\\tmpftmbceon\\GFZ0MGXRAP_20251070000_01D_05M_ORB.SP3 file is read in 0.54 seconds\n",
      "This file does not exist: C:\\Users\\varga\\AppData\\Local\\Temp\\tmpftmbceon\\GFZ0MGXRAP_20251080000_01D_05M_ORB.SP3\n",
      "Downloading: ftp://gssc.esa.int/gnss/products/2362//GFZ0MGXRAP_20251080000_01D_05M_ORB.SP3.gz"
     ]
    },
    {
     "name": "stderr",
     "output_type": "stream",
     "text": [
      "GFZ0MGXRAP_20251080000_01D_05M_ORB.SP3.gz: 1.04MB [00:03, 324kB/s]                             \n"
     ]
    },
    {
     "name": "stdout",
     "output_type": "stream",
     "text": [
      " | Download completed for ftp://gssc.esa.int/gnss/products/2362//GFZ0MGXRAP_20251080000_01D_05M_ORB.SP3.gz\n",
      "C:\\Users\\varga\\AppData\\Local\\Temp\\tmpftmbceon\\GFZ0MGXRAP_20251080000_01D_05M_ORB.SP3 file is read in 4.37 seconds\n",
      "C:\\Users\\varga\\AppData\\Local\\Temp\\tmpftmbceon\\GFZ0MGXRAP_20251070000_01D_30S_CLK.CLK exists | Reading...\n",
      "C:\\Users\\varga\\AppData\\Local\\Temp\\tmpftmbceon\\GFZ0MGXRAP_20251070000_01D_30S_CLK.CLK file is read in 13.43 seconds\n",
      "This file does not exist: C:\\Users\\varga\\AppData\\Local\\Temp\\tmpftmbceon\\GFZ0MGXRAP_20251080000_01D_30S_CLK.CLK\n",
      "Downloading: GFZ0MGXRAP_20251080000_01D_30S_CLK.CLK.gz"
     ]
    },
    {
     "name": "stderr",
     "output_type": "stream",
     "text": [
      "GFZ0MGXRAP_20251080000_01D_30S_CLK.CLK.gz: 4.77MB [00:03, 1.31MB/s]                            \n"
     ]
    },
    {
     "name": "stdout",
     "output_type": "stream",
     "text": [
      " | Download completed for GFZ0MGXRAP_20251080000_01D_30S_CLK.CLK.gz\n",
      "C:\\Users\\varga\\AppData\\Local\\Temp\\tmpftmbceon\\GFZ0MGXRAP_20251080000_01D_30S_CLK.CLK file is read in 3.99 seconds\n",
      "SP3 interpolation is done in 3.88 seconds\n",
      "Saved 105752 individual observations in C:\\Users\\varga\\Box\\Data\\RinexZipFiles\\ACOPAN\\2025-05-25\\processed\\ACOPAN_raw_20250417212841.nc\n",
      "C:\\Users\\varga\\Box\\Data\\RinexZipFiles\\ACOPAN\\ACOPAN_nc\\ACOPAN_raw_20250418212841.25O exists | Reading...\n",
      "Observation file  C:\\Users\\varga\\Box\\Data\\RinexZipFiles\\ACOPAN\\ACOPAN_nc\\ACOPAN_raw_20250418212841.25O  is read in 15.12 seconds.\n",
      "Processing 105020 individual observations\n",
      "Calculating Azimuth and Elevation\n",
      "C:\\Users\\varga\\AppData\\Local\\Temp\\tmpftmbceon\\GFZ0MGXRAP_20251080000_01D_05M_ORB.SP3 exists | Reading...\n",
      "C:\\Users\\varga\\AppData\\Local\\Temp\\tmpftmbceon\\GFZ0MGXRAP_20251080000_01D_05M_ORB.SP3 file is read in 4.64 seconds\n",
      "This file does not exist: C:\\Users\\varga\\AppData\\Local\\Temp\\tmpftmbceon\\GFZ0MGXRAP_20251090000_01D_05M_ORB.SP3\n",
      "Downloading: ftp://gssc.esa.int/gnss/products/2362//GFZ0MGXRAP_20251090000_01D_05M_ORB.SP3.gz"
     ]
    },
    {
     "name": "stderr",
     "output_type": "stream",
     "text": [
      "GFZ0MGXRAP_20251090000_01D_05M_ORB.SP3.gz: 1.04MB [00:03, 330kB/s]                             \n"
     ]
    },
    {
     "name": "stdout",
     "output_type": "stream",
     "text": [
      " | Download completed for ftp://gssc.esa.int/gnss/products/2362//GFZ0MGXRAP_20251090000_01D_05M_ORB.SP3.gz\n",
      "C:\\Users\\varga\\AppData\\Local\\Temp\\tmpftmbceon\\GFZ0MGXRAP_20251090000_01D_05M_ORB.SP3 file is read in 8.83 seconds\n",
      "C:\\Users\\varga\\AppData\\Local\\Temp\\tmpftmbceon\\GFZ0MGXRAP_20251080000_01D_30S_CLK.CLK exists | Reading...\n",
      "C:\\Users\\varga\\AppData\\Local\\Temp\\tmpftmbceon\\GFZ0MGXRAP_20251080000_01D_30S_CLK.CLK file is read in 3.15 seconds\n",
      "This file does not exist: C:\\Users\\varga\\AppData\\Local\\Temp\\tmpftmbceon\\GFZ0MGXRAP_20251090000_01D_30S_CLK.CLK\n",
      "Downloading: GFZ0MGXRAP_20251090000_01D_30S_CLK.CLK.gz"
     ]
    },
    {
     "name": "stderr",
     "output_type": "stream",
     "text": [
      "GFZ0MGXRAP_20251090000_01D_30S_CLK.CLK.gz: 4.80MB [00:03, 1.36MB/s]                            \n"
     ]
    },
    {
     "name": "stdout",
     "output_type": "stream",
     "text": [
      " | Download completed for GFZ0MGXRAP_20251090000_01D_30S_CLK.CLK.gz\n",
      "C:\\Users\\varga\\AppData\\Local\\Temp\\tmpftmbceon\\GFZ0MGXRAP_20251090000_01D_30S_CLK.CLK file is read in 2.51 seconds\n",
      "SP3 interpolation is done in 4.26 seconds\n",
      "Saved 105020 individual observations in C:\\Users\\varga\\Box\\Data\\RinexZipFiles\\ACOPAN\\2025-05-25\\processed\\ACOPAN_raw_20250418212841.nc\n",
      "C:\\Users\\varga\\Box\\Data\\RinexZipFiles\\ACOPAN\\ACOPAN_nc\\ACOPAN_raw_20250419212843.25O exists | Reading...\n",
      "Observation file  C:\\Users\\varga\\Box\\Data\\RinexZipFiles\\ACOPAN\\ACOPAN_nc\\ACOPAN_raw_20250419212843.25O  is read in 3.68 seconds.\n",
      "Processing 107352 individual observations\n",
      "Calculating Azimuth and Elevation\n",
      "C:\\Users\\varga\\AppData\\Local\\Temp\\tmpftmbceon\\GFZ0MGXRAP_20251090000_01D_05M_ORB.SP3 exists | Reading...\n",
      "C:\\Users\\varga\\AppData\\Local\\Temp\\tmpftmbceon\\GFZ0MGXRAP_20251090000_01D_05M_ORB.SP3 file is read in 0.61 seconds\n",
      "This file does not exist: C:\\Users\\varga\\AppData\\Local\\Temp\\tmpftmbceon\\GFZ0MGXRAP_20251100000_01D_05M_ORB.SP3\n",
      "Downloading: ftp://gssc.esa.int/gnss/products/2363//GFZ0MGXRAP_20251100000_01D_05M_ORB.SP3.gz"
     ]
    },
    {
     "name": "stderr",
     "output_type": "stream",
     "text": [
      "GFZ0MGXRAP_20251100000_01D_05M_ORB.SP3.gz: 1.05MB [00:03, 339kB/s]                             \n"
     ]
    },
    {
     "name": "stdout",
     "output_type": "stream",
     "text": [
      " | Download completed for ftp://gssc.esa.int/gnss/products/2363//GFZ0MGXRAP_20251100000_01D_05M_ORB.SP3.gz\n",
      "C:\\Users\\varga\\AppData\\Local\\Temp\\tmpftmbceon\\GFZ0MGXRAP_20251100000_01D_05M_ORB.SP3 file is read in 3.91 seconds\n",
      "C:\\Users\\varga\\AppData\\Local\\Temp\\tmpftmbceon\\GFZ0MGXRAP_20251090000_01D_30S_CLK.CLK exists | Reading...\n",
      "C:\\Users\\varga\\AppData\\Local\\Temp\\tmpftmbceon\\GFZ0MGXRAP_20251090000_01D_30S_CLK.CLK file is read in 7.85 seconds\n",
      "This file does not exist: C:\\Users\\varga\\AppData\\Local\\Temp\\tmpftmbceon\\GFZ0MGXRAP_20251100000_01D_30S_CLK.CLK\n",
      "Downloading: GFZ0MGXRAP_20251100000_01D_30S_CLK.CLK.gz"
     ]
    },
    {
     "name": "stderr",
     "output_type": "stream",
     "text": [
      "GFZ0MGXRAP_20251100000_01D_30S_CLK.CLK.gz: 4.84MB [00:03, 1.37MB/s]                            \n"
     ]
    },
    {
     "name": "stdout",
     "output_type": "stream",
     "text": [
      " | Download completed for GFZ0MGXRAP_20251100000_01D_30S_CLK.CLK.gz\n",
      "C:\\Users\\varga\\AppData\\Local\\Temp\\tmpftmbceon\\GFZ0MGXRAP_20251100000_01D_30S_CLK.CLK file is read in 16.23 seconds\n",
      "SP3 interpolation is done in 4.59 seconds\n",
      "Saved 107352 individual observations in C:\\Users\\varga\\Box\\Data\\RinexZipFiles\\ACOPAN\\2025-05-25\\processed\\ACOPAN_raw_20250419212843.nc\n",
      "C:\\Users\\varga\\Box\\Data\\RinexZipFiles\\ACOPAN\\ACOPAN_nc\\ACOPAN_raw_20250420212844.25O exists | Reading...\n",
      "Observation file  C:\\Users\\varga\\Box\\Data\\RinexZipFiles\\ACOPAN\\ACOPAN_nc\\ACOPAN_raw_20250420212844.25O  is read in 23.45 seconds.\n",
      "Processing 106010 individual observations\n",
      "Calculating Azimuth and Elevation\n",
      "C:\\Users\\varga\\AppData\\Local\\Temp\\tmpftmbceon\\GFZ0MGXRAP_20251100000_01D_05M_ORB.SP3 exists | Reading...\n",
      "C:\\Users\\varga\\AppData\\Local\\Temp\\tmpftmbceon\\GFZ0MGXRAP_20251100000_01D_05M_ORB.SP3 file is read in 0.61 seconds\n",
      "This file does not exist: C:\\Users\\varga\\AppData\\Local\\Temp\\tmpftmbceon\\GFZ0MGXRAP_20251110000_01D_05M_ORB.SP3\n",
      "Downloading: ftp://gssc.esa.int/gnss/products/2363//GFZ0MGXRAP_20251110000_01D_05M_ORB.SP3.gz"
     ]
    },
    {
     "name": "stderr",
     "output_type": "stream",
     "text": [
      "GFZ0MGXRAP_20251110000_01D_05M_ORB.SP3.gz: 1.04MB [00:03, 338kB/s]                             \n"
     ]
    },
    {
     "name": "stdout",
     "output_type": "stream",
     "text": [
      " | Download completed for ftp://gssc.esa.int/gnss/products/2363//GFZ0MGXRAP_20251110000_01D_05M_ORB.SP3.gz\n",
      "C:\\Users\\varga\\AppData\\Local\\Temp\\tmpftmbceon\\GFZ0MGXRAP_20251110000_01D_05M_ORB.SP3 file is read in 3.93 seconds\n",
      "C:\\Users\\varga\\AppData\\Local\\Temp\\tmpftmbceon\\GFZ0MGXRAP_20251100000_01D_30S_CLK.CLK exists | Reading...\n",
      "C:\\Users\\varga\\AppData\\Local\\Temp\\tmpftmbceon\\GFZ0MGXRAP_20251100000_01D_30S_CLK.CLK file is read in 2.42 seconds\n",
      "This file does not exist: C:\\Users\\varga\\AppData\\Local\\Temp\\tmpftmbceon\\GFZ0MGXRAP_20251110000_01D_30S_CLK.CLK\n",
      "Downloading: GFZ0MGXRAP_20251110000_01D_30S_CLK.CLK.gz"
     ]
    },
    {
     "name": "stderr",
     "output_type": "stream",
     "text": [
      "GFZ0MGXRAP_20251110000_01D_30S_CLK.CLK.gz: 4.80MB [00:05, 994kB/s]                             \n"
     ]
    },
    {
     "name": "stdout",
     "output_type": "stream",
     "text": [
      " | Download completed for GFZ0MGXRAP_20251110000_01D_30S_CLK.CLK.gz\n",
      "C:\\Users\\varga\\AppData\\Local\\Temp\\tmpftmbceon\\GFZ0MGXRAP_20251110000_01D_30S_CLK.CLK file is read in 17.35 seconds\n",
      "SP3 interpolation is done in 5.82 seconds\n",
      "Saved 106010 individual observations in C:\\Users\\varga\\Box\\Data\\RinexZipFiles\\ACOPAN\\2025-05-25\\processed\\ACOPAN_raw_20250420212844.nc\n",
      "C:\\Users\\varga\\Box\\Data\\RinexZipFiles\\ACOPAN\\ACOPAN_nc\\ACOPAN_raw_20250421212844.25O exists | Reading...\n",
      "Observation file  C:\\Users\\varga\\Box\\Data\\RinexZipFiles\\ACOPAN\\ACOPAN_nc\\ACOPAN_raw_20250421212844.25O  is read in 22.12 seconds.\n",
      "Processing 104481 individual observations\n",
      "Calculating Azimuth and Elevation\n",
      "C:\\Users\\varga\\AppData\\Local\\Temp\\tmpftmbceon\\GFZ0MGXRAP_20251110000_01D_05M_ORB.SP3 exists | Reading...\n",
      "C:\\Users\\varga\\AppData\\Local\\Temp\\tmpftmbceon\\GFZ0MGXRAP_20251110000_01D_05M_ORB.SP3 file is read in 3.01 seconds\n",
      "This file does not exist: C:\\Users\\varga\\AppData\\Local\\Temp\\tmpftmbceon\\GFZ0MGXRAP_20251120000_01D_05M_ORB.SP3\n",
      "Downloading: ftp://gssc.esa.int/gnss/products/2363//GFZ0MGXRAP_20251120000_01D_05M_ORB.SP3.gz"
     ]
    },
    {
     "name": "stderr",
     "output_type": "stream",
     "text": [
      "GFZ0MGXRAP_20251120000_01D_05M_ORB.SP3.gz: 1.04MB [00:03, 335kB/s]                             \n"
     ]
    },
    {
     "name": "stdout",
     "output_type": "stream",
     "text": [
      " | Download completed for ftp://gssc.esa.int/gnss/products/2363//GFZ0MGXRAP_20251120000_01D_05M_ORB.SP3.gz\n",
      "C:\\Users\\varga\\AppData\\Local\\Temp\\tmpftmbceon\\GFZ0MGXRAP_20251120000_01D_05M_ORB.SP3 file is read in 4.13 seconds\n",
      "C:\\Users\\varga\\AppData\\Local\\Temp\\tmpftmbceon\\GFZ0MGXRAP_20251110000_01D_30S_CLK.CLK exists | Reading...\n",
      "C:\\Users\\varga\\AppData\\Local\\Temp\\tmpftmbceon\\GFZ0MGXRAP_20251110000_01D_30S_CLK.CLK file is read in 3.31 seconds\n",
      "This file does not exist: C:\\Users\\varga\\AppData\\Local\\Temp\\tmpftmbceon\\GFZ0MGXRAP_20251120000_01D_30S_CLK.CLK\n",
      "Downloading: GFZ0MGXRAP_20251120000_01D_30S_CLK.CLK.gz"
     ]
    },
    {
     "name": "stderr",
     "output_type": "stream",
     "text": [
      "GFZ0MGXRAP_20251120000_01D_30S_CLK.CLK.gz: 4.80MB [00:03, 1.34MB/s]                            \n"
     ]
    },
    {
     "name": "stdout",
     "output_type": "stream",
     "text": [
      " | Download completed for GFZ0MGXRAP_20251120000_01D_30S_CLK.CLK.gz\n",
      "C:\\Users\\varga\\AppData\\Local\\Temp\\tmpftmbceon\\GFZ0MGXRAP_20251120000_01D_30S_CLK.CLK file is read in 20.18 seconds\n",
      "SP3 interpolation is done in 5.88 seconds\n",
      "Saved 104481 individual observations in C:\\Users\\varga\\Box\\Data\\RinexZipFiles\\ACOPAN\\2025-05-25\\processed\\ACOPAN_raw_20250421212844.nc\n",
      "C:\\Users\\varga\\Box\\Data\\RinexZipFiles\\ACOPAN\\ACOPAN_nc\\ACOPAN_raw_20250422212845.25O exists | Reading...\n",
      "Observation file  C:\\Users\\varga\\Box\\Data\\RinexZipFiles\\ACOPAN\\ACOPAN_nc\\ACOPAN_raw_20250422212845.25O  is read in 5.18 seconds.\n",
      "Processing 107153 individual observations\n",
      "Calculating Azimuth and Elevation\n",
      "C:\\Users\\varga\\AppData\\Local\\Temp\\tmpftmbceon\\GFZ0MGXRAP_20251120000_01D_05M_ORB.SP3 exists | Reading...\n",
      "C:\\Users\\varga\\AppData\\Local\\Temp\\tmpftmbceon\\GFZ0MGXRAP_20251120000_01D_05M_ORB.SP3 file is read in 0.65 seconds\n",
      "This file does not exist: C:\\Users\\varga\\AppData\\Local\\Temp\\tmpftmbceon\\GFZ0MGXRAP_20251130000_01D_05M_ORB.SP3\n",
      "Downloading: ftp://gssc.esa.int/gnss/products/2363//GFZ0MGXRAP_20251130000_01D_05M_ORB.SP3.gz"
     ]
    },
    {
     "name": "stderr",
     "output_type": "stream",
     "text": [
      "GFZ0MGXRAP_20251130000_01D_05M_ORB.SP3.gz: 1.05MB [00:03, 345kB/s]                             \n"
     ]
    },
    {
     "name": "stdout",
     "output_type": "stream",
     "text": [
      " | Download completed for ftp://gssc.esa.int/gnss/products/2363//GFZ0MGXRAP_20251130000_01D_05M_ORB.SP3.gz\n",
      "C:\\Users\\varga\\AppData\\Local\\Temp\\tmpftmbceon\\GFZ0MGXRAP_20251130000_01D_05M_ORB.SP3 file is read in 8.50 seconds\n",
      "C:\\Users\\varga\\AppData\\Local\\Temp\\tmpftmbceon\\GFZ0MGXRAP_20251120000_01D_30S_CLK.CLK exists | Reading...\n",
      "C:\\Users\\varga\\AppData\\Local\\Temp\\tmpftmbceon\\GFZ0MGXRAP_20251120000_01D_30S_CLK.CLK file is read in 14.56 seconds\n",
      "This file does not exist: C:\\Users\\varga\\AppData\\Local\\Temp\\tmpftmbceon\\GFZ0MGXRAP_20251130000_01D_30S_CLK.CLK\n",
      "Downloading: GFZ0MGXRAP_20251130000_01D_30S_CLK.CLK.gz"
     ]
    },
    {
     "name": "stderr",
     "output_type": "stream",
     "text": [
      "GFZ0MGXRAP_20251130000_01D_30S_CLK.CLK.gz: 4.84MB [00:03, 1.37MB/s]                            \n"
     ]
    },
    {
     "name": "stdout",
     "output_type": "stream",
     "text": [
      " | Download completed for GFZ0MGXRAP_20251130000_01D_30S_CLK.CLK.gz\n",
      "C:\\Users\\varga\\AppData\\Local\\Temp\\tmpftmbceon\\GFZ0MGXRAP_20251130000_01D_30S_CLK.CLK file is read in 2.44 seconds\n",
      "SP3 interpolation is done in 14.65 seconds\n",
      "Saved 107153 individual observations in C:\\Users\\varga\\Box\\Data\\RinexZipFiles\\ACOPAN\\2025-05-25\\processed\\ACOPAN_raw_20250422212845.nc\n",
      "C:\\Users\\varga\\Box\\Data\\RinexZipFiles\\ACOPAN\\ACOPAN_nc\\ACOPAN_raw_20250423212846.25O exists | Reading...\n",
      "Observation file  C:\\Users\\varga\\Box\\Data\\RinexZipFiles\\ACOPAN\\ACOPAN_nc\\ACOPAN_raw_20250423212846.25O  is read in 4.01 seconds.\n",
      "Processing 107763 individual observations\n",
      "Calculating Azimuth and Elevation\n",
      "C:\\Users\\varga\\AppData\\Local\\Temp\\tmpftmbceon\\GFZ0MGXRAP_20251130000_01D_05M_ORB.SP3 exists | Reading...\n",
      "C:\\Users\\varga\\AppData\\Local\\Temp\\tmpftmbceon\\GFZ0MGXRAP_20251130000_01D_05M_ORB.SP3 file is read in 0.54 seconds\n",
      "This file does not exist: C:\\Users\\varga\\AppData\\Local\\Temp\\tmpftmbceon\\GFZ0MGXRAP_20251140000_01D_05M_ORB.SP3\n",
      "Downloading: ftp://gssc.esa.int/gnss/products/2363//GFZ0MGXRAP_20251140000_01D_05M_ORB.SP3.gz"
     ]
    },
    {
     "name": "stderr",
     "output_type": "stream",
     "text": [
      "GFZ0MGXRAP_20251140000_01D_05M_ORB.SP3.gz: 1.04MB [00:03, 332kB/s]                             \n"
     ]
    },
    {
     "name": "stdout",
     "output_type": "stream",
     "text": [
      " | Download completed for ftp://gssc.esa.int/gnss/products/2363//GFZ0MGXRAP_20251140000_01D_05M_ORB.SP3.gz\n",
      "C:\\Users\\varga\\AppData\\Local\\Temp\\tmpftmbceon\\GFZ0MGXRAP_20251140000_01D_05M_ORB.SP3 file is read in 9.48 seconds\n",
      "C:\\Users\\varga\\AppData\\Local\\Temp\\tmpftmbceon\\GFZ0MGXRAP_20251130000_01D_30S_CLK.CLK exists | Reading...\n",
      "C:\\Users\\varga\\AppData\\Local\\Temp\\tmpftmbceon\\GFZ0MGXRAP_20251130000_01D_30S_CLK.CLK file is read in 15.18 seconds\n",
      "This file does not exist: C:\\Users\\varga\\AppData\\Local\\Temp\\tmpftmbceon\\GFZ0MGXRAP_20251140000_01D_30S_CLK.CLK\n",
      "Downloading: GFZ0MGXRAP_20251140000_01D_30S_CLK.CLK.gz"
     ]
    },
    {
     "name": "stderr",
     "output_type": "stream",
     "text": [
      "GFZ0MGXRAP_20251140000_01D_30S_CLK.CLK.gz: 4.78MB [00:04, 1.10MB/s]                            \n"
     ]
    },
    {
     "name": "stdout",
     "output_type": "stream",
     "text": [
      " | Download completed for GFZ0MGXRAP_20251140000_01D_30S_CLK.CLK.gz\n",
      "C:\\Users\\varga\\AppData\\Local\\Temp\\tmpftmbceon\\GFZ0MGXRAP_20251140000_01D_30S_CLK.CLK file is read in 2.29 seconds\n",
      "SP3 interpolation is done in 3.93 seconds\n",
      "Saved 107763 individual observations in C:\\Users\\varga\\Box\\Data\\RinexZipFiles\\ACOPAN\\2025-05-25\\processed\\ACOPAN_raw_20250423212846.nc\n",
      "C:\\Users\\varga\\Box\\Data\\RinexZipFiles\\ACOPAN\\ACOPAN_nc\\ACOPAN_raw_20250424212847.25O exists | Reading...\n",
      "Observation file  C:\\Users\\varga\\Box\\Data\\RinexZipFiles\\ACOPAN\\ACOPAN_nc\\ACOPAN_raw_20250424212847.25O  is read in 9.43 seconds.\n",
      "Processing 104568 individual observations\n",
      "Calculating Azimuth and Elevation\n",
      "C:\\Users\\varga\\AppData\\Local\\Temp\\tmpftmbceon\\GFZ0MGXRAP_20251140000_01D_05M_ORB.SP3 exists | Reading...\n",
      "C:\\Users\\varga\\AppData\\Local\\Temp\\tmpftmbceon\\GFZ0MGXRAP_20251140000_01D_05M_ORB.SP3 file is read in 0.48 seconds\n",
      "This file does not exist: C:\\Users\\varga\\AppData\\Local\\Temp\\tmpftmbceon\\GFZ0MGXRAP_20251150000_01D_05M_ORB.SP3\n",
      "Downloading: ftp://gssc.esa.int/gnss/products/2363//GFZ0MGXRAP_20251150000_01D_05M_ORB.SP3.gz"
     ]
    },
    {
     "name": "stderr",
     "output_type": "stream",
     "text": [
      "GFZ0MGXRAP_20251150000_01D_05M_ORB.SP3.gz: 1.03MB [00:03, 334kB/s]                             \n"
     ]
    },
    {
     "name": "stdout",
     "output_type": "stream",
     "text": [
      " | Download completed for ftp://gssc.esa.int/gnss/products/2363//GFZ0MGXRAP_20251150000_01D_05M_ORB.SP3.gz\n",
      "C:\\Users\\varga\\AppData\\Local\\Temp\\tmpftmbceon\\GFZ0MGXRAP_20251150000_01D_05M_ORB.SP3 file is read in 3.89 seconds\n",
      "C:\\Users\\varga\\AppData\\Local\\Temp\\tmpftmbceon\\GFZ0MGXRAP_20251140000_01D_30S_CLK.CLK exists | Reading...\n",
      "C:\\Users\\varga\\AppData\\Local\\Temp\\tmpftmbceon\\GFZ0MGXRAP_20251140000_01D_30S_CLK.CLK file is read in 2.37 seconds\n",
      "This file does not exist: C:\\Users\\varga\\AppData\\Local\\Temp\\tmpftmbceon\\GFZ0MGXRAP_20251150000_01D_30S_CLK.CLK\n",
      "Downloading: GFZ0MGXRAP_20251150000_01D_30S_CLK.CLK.gz"
     ]
    },
    {
     "name": "stderr",
     "output_type": "stream",
     "text": [
      "GFZ0MGXRAP_20251150000_01D_30S_CLK.CLK.gz: 4.78MB [00:03, 1.34MB/s]                            \n"
     ]
    },
    {
     "name": "stdout",
     "output_type": "stream",
     "text": [
      " | Download completed for GFZ0MGXRAP_20251150000_01D_30S_CLK.CLK.gz\n",
      "C:\\Users\\varga\\AppData\\Local\\Temp\\tmpftmbceon\\GFZ0MGXRAP_20251150000_01D_30S_CLK.CLK file is read in 16.33 seconds\n",
      "SP3 interpolation is done in 8.58 seconds\n",
      "Saved 104568 individual observations in C:\\Users\\varga\\Box\\Data\\RinexZipFiles\\ACOPAN\\2025-05-25\\processed\\ACOPAN_raw_20250424212847.nc\n",
      "C:\\Users\\varga\\Box\\Data\\RinexZipFiles\\ACOPAN\\ACOPAN_nc\\ACOPAN_raw_20250425212848.25O exists | Reading...\n",
      "Observation file  C:\\Users\\varga\\Box\\Data\\RinexZipFiles\\ACOPAN\\ACOPAN_nc\\ACOPAN_raw_20250425212848.25O  is read in 19.73 seconds.\n",
      "Processing 106168 individual observations\n",
      "Calculating Azimuth and Elevation\n",
      "C:\\Users\\varga\\AppData\\Local\\Temp\\tmpftmbceon\\GFZ0MGXRAP_20251150000_01D_05M_ORB.SP3 exists | Reading...\n",
      "C:\\Users\\varga\\AppData\\Local\\Temp\\tmpftmbceon\\GFZ0MGXRAP_20251150000_01D_05M_ORB.SP3 file is read in 0.70 seconds\n",
      "This file does not exist: C:\\Users\\varga\\AppData\\Local\\Temp\\tmpftmbceon\\GFZ0MGXRAP_20251160000_01D_05M_ORB.SP3\n",
      "Downloading: ftp://gssc.esa.int/gnss/products/2363//GFZ0MGXRAP_20251160000_01D_05M_ORB.SP3.gz"
     ]
    },
    {
     "name": "stderr",
     "output_type": "stream",
     "text": [
      "GFZ0MGXRAP_20251160000_01D_05M_ORB.SP3.gz: 1.05MB [00:03, 336kB/s]                             \n"
     ]
    },
    {
     "name": "stdout",
     "output_type": "stream",
     "text": [
      " | Download completed for ftp://gssc.esa.int/gnss/products/2363//GFZ0MGXRAP_20251160000_01D_05M_ORB.SP3.gz\n",
      "C:\\Users\\varga\\AppData\\Local\\Temp\\tmpftmbceon\\GFZ0MGXRAP_20251160000_01D_05M_ORB.SP3 file is read in 3.85 seconds\n",
      "C:\\Users\\varga\\AppData\\Local\\Temp\\tmpftmbceon\\GFZ0MGXRAP_20251150000_01D_30S_CLK.CLK exists | Reading...\n",
      "C:\\Users\\varga\\AppData\\Local\\Temp\\tmpftmbceon\\GFZ0MGXRAP_20251150000_01D_30S_CLK.CLK file is read in 2.25 seconds\n",
      "This file does not exist: C:\\Users\\varga\\AppData\\Local\\Temp\\tmpftmbceon\\GFZ0MGXRAP_20251160000_01D_30S_CLK.CLK\n",
      "Downloading: GFZ0MGXRAP_20251160000_01D_30S_CLK.CLK.gz"
     ]
    },
    {
     "name": "stderr",
     "output_type": "stream",
     "text": [
      "GFZ0MGXRAP_20251160000_01D_30S_CLK.CLK.gz: 4.83MB [00:03, 1.36MB/s]                            \n"
     ]
    },
    {
     "name": "stdout",
     "output_type": "stream",
     "text": [
      " | Download completed for GFZ0MGXRAP_20251160000_01D_30S_CLK.CLK.gz\n",
      "C:\\Users\\varga\\AppData\\Local\\Temp\\tmpftmbceon\\GFZ0MGXRAP_20251160000_01D_30S_CLK.CLK file is read in 6.44 seconds\n",
      "SP3 interpolation is done in 22.87 seconds\n",
      "Saved 106168 individual observations in C:\\Users\\varga\\Box\\Data\\RinexZipFiles\\ACOPAN\\2025-05-25\\processed\\ACOPAN_raw_20250425212848.nc\n",
      "C:\\Users\\varga\\Box\\Data\\RinexZipFiles\\ACOPAN\\ACOPAN_nc\\ACOPAN_raw_20250426212849.25O exists | Reading...\n",
      "Observation file  C:\\Users\\varga\\Box\\Data\\RinexZipFiles\\ACOPAN\\ACOPAN_nc\\ACOPAN_raw_20250426212849.25O  is read in 3.72 seconds.\n",
      "Processing 107488 individual observations\n",
      "Calculating Azimuth and Elevation\n",
      "C:\\Users\\varga\\AppData\\Local\\Temp\\tmpftmbceon\\GFZ0MGXRAP_20251160000_01D_05M_ORB.SP3 exists | Reading...\n",
      "C:\\Users\\varga\\AppData\\Local\\Temp\\tmpftmbceon\\GFZ0MGXRAP_20251160000_01D_05M_ORB.SP3 file is read in 0.53 seconds\n",
      "This file does not exist: C:\\Users\\varga\\AppData\\Local\\Temp\\tmpftmbceon\\GFZ0MGXRAP_20251170000_01D_05M_ORB.SP3\n",
      "Downloading: ftp://gssc.esa.int/gnss/products/2364//GFZ0MGXRAP_20251170000_01D_05M_ORB.SP3.gz"
     ]
    },
    {
     "name": "stderr",
     "output_type": "stream",
     "text": [
      "GFZ0MGXRAP_20251170000_01D_05M_ORB.SP3.gz: 1.02MB [00:03, 334kB/s]                             \n"
     ]
    },
    {
     "name": "stdout",
     "output_type": "stream",
     "text": [
      " | Download completed for ftp://gssc.esa.int/gnss/products/2364//GFZ0MGXRAP_20251170000_01D_05M_ORB.SP3.gz\n",
      "C:\\Users\\varga\\AppData\\Local\\Temp\\tmpftmbceon\\GFZ0MGXRAP_20251170000_01D_05M_ORB.SP3 file is read in 8.56 seconds\n",
      "C:\\Users\\varga\\AppData\\Local\\Temp\\tmpftmbceon\\GFZ0MGXRAP_20251160000_01D_30S_CLK.CLK exists | Reading...\n",
      "C:\\Users\\varga\\AppData\\Local\\Temp\\tmpftmbceon\\GFZ0MGXRAP_20251160000_01D_30S_CLK.CLK file is read in 17.21 seconds\n",
      "This file does not exist: C:\\Users\\varga\\AppData\\Local\\Temp\\tmpftmbceon\\GFZ0MGXRAP_20251170000_01D_30S_CLK.CLK\n",
      "Downloading: GFZ0MGXRAP_20251170000_01D_30S_CLK.CLK.gz"
     ]
    },
    {
     "name": "stderr",
     "output_type": "stream",
     "text": [
      "GFZ0MGXRAP_20251170000_01D_30S_CLK.CLK.gz: 4.74MB [00:03, 1.34MB/s]                            \n"
     ]
    },
    {
     "name": "stdout",
     "output_type": "stream",
     "text": [
      " | Download completed for GFZ0MGXRAP_20251170000_01D_30S_CLK.CLK.gz\n",
      "C:\\Users\\varga\\AppData\\Local\\Temp\\tmpftmbceon\\GFZ0MGXRAP_20251170000_01D_30S_CLK.CLK file is read in 2.37 seconds\n",
      "SP3 interpolation is done in 3.85 seconds\n",
      "Saved 107488 individual observations in C:\\Users\\varga\\Box\\Data\\RinexZipFiles\\ACOPAN\\2025-05-25\\processed\\ACOPAN_raw_20250426212849.nc\n",
      "C:\\Users\\varga\\Box\\Data\\RinexZipFiles\\ACOPAN\\ACOPAN_nc\\ACOPAN_raw_20250427212850.25O exists | Reading...\n",
      "Observation file  C:\\Users\\varga\\Box\\Data\\RinexZipFiles\\ACOPAN\\ACOPAN_nc\\ACOPAN_raw_20250427212850.25O  is read in 17.41 seconds.\n",
      "Processing 105068 individual observations\n",
      "Calculating Azimuth and Elevation\n",
      "C:\\Users\\varga\\AppData\\Local\\Temp\\tmpftmbceon\\GFZ0MGXRAP_20251170000_01D_05M_ORB.SP3 exists | Reading...\n",
      "C:\\Users\\varga\\AppData\\Local\\Temp\\tmpftmbceon\\GFZ0MGXRAP_20251170000_01D_05M_ORB.SP3 file is read in 0.55 seconds\n",
      "This file does not exist: C:\\Users\\varga\\AppData\\Local\\Temp\\tmpftmbceon\\GFZ0MGXRAP_20251180000_01D_05M_ORB.SP3\n",
      "Downloading: ftp://gssc.esa.int/gnss/products/2364//GFZ0MGXRAP_20251180000_01D_05M_ORB.SP3.gz"
     ]
    },
    {
     "name": "stderr",
     "output_type": "stream",
     "text": [
      "GFZ0MGXRAP_20251180000_01D_05M_ORB.SP3.gz: 1.02MB [00:03, 333kB/s]                             \n"
     ]
    },
    {
     "name": "stdout",
     "output_type": "stream",
     "text": [
      " | Download completed for ftp://gssc.esa.int/gnss/products/2364//GFZ0MGXRAP_20251180000_01D_05M_ORB.SP3.gz\n",
      "C:\\Users\\varga\\AppData\\Local\\Temp\\tmpftmbceon\\GFZ0MGXRAP_20251180000_01D_05M_ORB.SP3 file is read in 3.90 seconds\n",
      "C:\\Users\\varga\\AppData\\Local\\Temp\\tmpftmbceon\\GFZ0MGXRAP_20251170000_01D_30S_CLK.CLK exists | Reading...\n",
      "C:\\Users\\varga\\AppData\\Local\\Temp\\tmpftmbceon\\GFZ0MGXRAP_20251170000_01D_30S_CLK.CLK file is read in 2.66 seconds\n",
      "This file does not exist: C:\\Users\\varga\\AppData\\Local\\Temp\\tmpftmbceon\\GFZ0MGXRAP_20251180000_01D_30S_CLK.CLK\n",
      "Downloading: GFZ0MGXRAP_20251180000_01D_30S_CLK.CLK.gz"
     ]
    },
    {
     "name": "stderr",
     "output_type": "stream",
     "text": [
      "GFZ0MGXRAP_20251180000_01D_30S_CLK.CLK.gz: 4.70MB [00:03, 1.28MB/s]                            \n"
     ]
    },
    {
     "name": "stdout",
     "output_type": "stream",
     "text": [
      " | Download completed for GFZ0MGXRAP_20251180000_01D_30S_CLK.CLK.gz\n",
      "C:\\Users\\varga\\AppData\\Local\\Temp\\tmpftmbceon\\GFZ0MGXRAP_20251180000_01D_30S_CLK.CLK file is read in 17.71 seconds\n",
      "SP3 interpolation is done in 4.41 seconds\n",
      "Saved 105068 individual observations in C:\\Users\\varga\\Box\\Data\\RinexZipFiles\\ACOPAN\\2025-05-25\\processed\\ACOPAN_raw_20250427212850.nc\n",
      "C:\\Users\\varga\\Box\\Data\\RinexZipFiles\\ACOPAN\\ACOPAN_nc\\ACOPAN_raw_20250428212851.25O exists | Reading...\n",
      "Observation file  C:\\Users\\varga\\Box\\Data\\RinexZipFiles\\ACOPAN\\ACOPAN_nc\\ACOPAN_raw_20250428212851.25O  is read in 20.77 seconds.\n",
      "Processing 104805 individual observations\n",
      "Calculating Azimuth and Elevation\n",
      "C:\\Users\\varga\\AppData\\Local\\Temp\\tmpftmbceon\\GFZ0MGXRAP_20251180000_01D_05M_ORB.SP3 exists | Reading...\n",
      "C:\\Users\\varga\\AppData\\Local\\Temp\\tmpftmbceon\\GFZ0MGXRAP_20251180000_01D_05M_ORB.SP3 file is read in 1.53 seconds\n",
      "This file does not exist: C:\\Users\\varga\\AppData\\Local\\Temp\\tmpftmbceon\\GFZ0MGXRAP_20251190000_01D_05M_ORB.SP3\n",
      "Downloading: ftp://gssc.esa.int/gnss/products/2364//GFZ0MGXRAP_20251190000_01D_05M_ORB.SP3.gz"
     ]
    },
    {
     "name": "stderr",
     "output_type": "stream",
     "text": [
      "GFZ0MGXRAP_20251190000_01D_05M_ORB.SP3.gz: 1.04MB [00:03, 331kB/s]                             \n"
     ]
    },
    {
     "name": "stdout",
     "output_type": "stream",
     "text": [
      " | Download completed for ftp://gssc.esa.int/gnss/products/2364//GFZ0MGXRAP_20251190000_01D_05M_ORB.SP3.gz\n",
      "C:\\Users\\varga\\AppData\\Local\\Temp\\tmpftmbceon\\GFZ0MGXRAP_20251190000_01D_05M_ORB.SP3 file is read in 4.01 seconds\n",
      "C:\\Users\\varga\\AppData\\Local\\Temp\\tmpftmbceon\\GFZ0MGXRAP_20251180000_01D_30S_CLK.CLK exists | Reading...\n",
      "C:\\Users\\varga\\AppData\\Local\\Temp\\tmpftmbceon\\GFZ0MGXRAP_20251180000_01D_30S_CLK.CLK file is read in 2.21 seconds\n",
      "This file does not exist: C:\\Users\\varga\\AppData\\Local\\Temp\\tmpftmbceon\\GFZ0MGXRAP_20251190000_01D_30S_CLK.CLK\n",
      "Downloading: GFZ0MGXRAP_20251190000_01D_30S_CLK.CLK.gz"
     ]
    },
    {
     "name": "stderr",
     "output_type": "stream",
     "text": [
      "GFZ0MGXRAP_20251190000_01D_30S_CLK.CLK.gz: 4.77MB [00:03, 1.34MB/s]                            \n"
     ]
    },
    {
     "name": "stdout",
     "output_type": "stream",
     "text": [
      " | Download completed for GFZ0MGXRAP_20251190000_01D_30S_CLK.CLK.gz\n",
      "C:\\Users\\varga\\AppData\\Local\\Temp\\tmpftmbceon\\GFZ0MGXRAP_20251190000_01D_30S_CLK.CLK file is read in 2.30 seconds\n",
      "SP3 interpolation is done in 4.46 seconds\n",
      "Saved 104805 individual observations in C:\\Users\\varga\\Box\\Data\\RinexZipFiles\\ACOPAN\\2025-05-25\\processed\\ACOPAN_raw_20250428212851.nc\n",
      "C:\\Users\\varga\\Box\\Data\\RinexZipFiles\\ACOPAN\\ACOPAN_nc\\ACOPAN_raw_20250429212852.25O exists | Reading...\n",
      "Observation file  C:\\Users\\varga\\Box\\Data\\RinexZipFiles\\ACOPAN\\ACOPAN_nc\\ACOPAN_raw_20250429212852.25O  is read in 18.72 seconds.\n",
      "Processing 107802 individual observations\n",
      "Calculating Azimuth and Elevation\n",
      "C:\\Users\\varga\\AppData\\Local\\Temp\\tmpftmbceon\\GFZ0MGXRAP_20251190000_01D_05M_ORB.SP3 exists | Reading...\n",
      "C:\\Users\\varga\\AppData\\Local\\Temp\\tmpftmbceon\\GFZ0MGXRAP_20251190000_01D_05M_ORB.SP3 file is read in 0.49 seconds\n",
      "This file does not exist: C:\\Users\\varga\\AppData\\Local\\Temp\\tmpftmbceon\\GFZ0MGXRAP_20251200000_01D_05M_ORB.SP3\n",
      "Downloading: ftp://gssc.esa.int/gnss/products/2364//GFZ0MGXRAP_20251200000_01D_05M_ORB.SP3.gz"
     ]
    },
    {
     "name": "stderr",
     "output_type": "stream",
     "text": [
      "GFZ0MGXRAP_20251200000_01D_05M_ORB.SP3.gz: 1.03MB [00:03, 339kB/s]                             \n"
     ]
    },
    {
     "name": "stdout",
     "output_type": "stream",
     "text": [
      " | Download completed for ftp://gssc.esa.int/gnss/products/2364//GFZ0MGXRAP_20251200000_01D_05M_ORB.SP3.gz\n",
      "C:\\Users\\varga\\AppData\\Local\\Temp\\tmpftmbceon\\GFZ0MGXRAP_20251200000_01D_05M_ORB.SP3 file is read in 3.81 seconds\n",
      "C:\\Users\\varga\\AppData\\Local\\Temp\\tmpftmbceon\\GFZ0MGXRAP_20251190000_01D_30S_CLK.CLK exists | Reading...\n",
      "C:\\Users\\varga\\AppData\\Local\\Temp\\tmpftmbceon\\GFZ0MGXRAP_20251190000_01D_30S_CLK.CLK file is read in 2.59 seconds\n",
      "This file does not exist: C:\\Users\\varga\\AppData\\Local\\Temp\\tmpftmbceon\\GFZ0MGXRAP_20251200000_01D_30S_CLK.CLK\n",
      "Downloading: GFZ0MGXRAP_20251200000_01D_30S_CLK.CLK.gz"
     ]
    },
    {
     "name": "stderr",
     "output_type": "stream",
     "text": [
      "GFZ0MGXRAP_20251200000_01D_30S_CLK.CLK.gz: 4.74MB [00:03, 1.32MB/s]                            \n"
     ]
    },
    {
     "name": "stdout",
     "output_type": "stream",
     "text": [
      " | Download completed for GFZ0MGXRAP_20251200000_01D_30S_CLK.CLK.gz\n",
      "C:\\Users\\varga\\AppData\\Local\\Temp\\tmpftmbceon\\GFZ0MGXRAP_20251200000_01D_30S_CLK.CLK file is read in 2.30 seconds\n",
      "SP3 interpolation is done in 5.61 seconds\n",
      "Saved 107802 individual observations in C:\\Users\\varga\\Box\\Data\\RinexZipFiles\\ACOPAN\\2025-05-25\\processed\\ACOPAN_raw_20250429212852.nc\n",
      "C:\\Users\\varga\\Box\\Data\\RinexZipFiles\\ACOPAN\\ACOPAN_nc\\ACOPAN_raw_20250430212853.25O exists | Reading...\n",
      "Observation file  C:\\Users\\varga\\Box\\Data\\RinexZipFiles\\ACOPAN\\ACOPAN_nc\\ACOPAN_raw_20250430212853.25O  is read in 3.78 seconds.\n",
      "Processing 106958 individual observations\n",
      "Calculating Azimuth and Elevation\n",
      "C:\\Users\\varga\\AppData\\Local\\Temp\\tmpftmbceon\\GFZ0MGXRAP_20251200000_01D_05M_ORB.SP3 exists | Reading...\n",
      "C:\\Users\\varga\\AppData\\Local\\Temp\\tmpftmbceon\\GFZ0MGXRAP_20251200000_01D_05M_ORB.SP3 file is read in 0.52 seconds\n",
      "This file does not exist: C:\\Users\\varga\\AppData\\Local\\Temp\\tmpftmbceon\\GFZ0MGXRAP_20251210000_01D_05M_ORB.SP3\n",
      "Downloading: ftp://gssc.esa.int/gnss/products/2364//GFZ0MGXRAP_20251210000_01D_05M_ORB.SP3.gz"
     ]
    },
    {
     "name": "stderr",
     "output_type": "stream",
     "text": [
      "GFZ0MGXRAP_20251210000_01D_05M_ORB.SP3.gz: 1.02MB [00:03, 332kB/s]                             \n"
     ]
    },
    {
     "name": "stdout",
     "output_type": "stream",
     "text": [
      " | Download completed for ftp://gssc.esa.int/gnss/products/2364//GFZ0MGXRAP_20251210000_01D_05M_ORB.SP3.gz\n",
      "C:\\Users\\varga\\AppData\\Local\\Temp\\tmpftmbceon\\GFZ0MGXRAP_20251210000_01D_05M_ORB.SP3 file is read in 4.00 seconds\n",
      "C:\\Users\\varga\\AppData\\Local\\Temp\\tmpftmbceon\\GFZ0MGXRAP_20251200000_01D_30S_CLK.CLK exists | Reading...\n",
      "C:\\Users\\varga\\AppData\\Local\\Temp\\tmpftmbceon\\GFZ0MGXRAP_20251200000_01D_30S_CLK.CLK file is read in 3.15 seconds\n",
      "This file does not exist: C:\\Users\\varga\\AppData\\Local\\Temp\\tmpftmbceon\\GFZ0MGXRAP_20251210000_01D_30S_CLK.CLK\n",
      "Downloading: GFZ0MGXRAP_20251210000_01D_30S_CLK.CLK.gz"
     ]
    },
    {
     "name": "stderr",
     "output_type": "stream",
     "text": [
      "GFZ0MGXRAP_20251210000_01D_30S_CLK.CLK.gz: 4.75MB [00:04, 1.24MB/s]                            \n"
     ]
    },
    {
     "name": "stdout",
     "output_type": "stream",
     "text": [
      " | Download completed for GFZ0MGXRAP_20251210000_01D_30S_CLK.CLK.gz\n",
      "C:\\Users\\varga\\AppData\\Local\\Temp\\tmpftmbceon\\GFZ0MGXRAP_20251210000_01D_30S_CLK.CLK file is read in 15.46 seconds\n",
      "SP3 interpolation is done in 10.61 seconds\n",
      "Saved 106958 individual observations in C:\\Users\\varga\\Box\\Data\\RinexZipFiles\\ACOPAN\\2025-05-25\\processed\\ACOPAN_raw_20250430212853.nc\n",
      "C:\\Users\\varga\\Box\\Data\\RinexZipFiles\\ACOPAN\\ACOPAN_nc\\ACOPAN_raw_20250501212854.25O exists | Reading...\n",
      "Observation file  C:\\Users\\varga\\Box\\Data\\RinexZipFiles\\ACOPAN\\ACOPAN_nc\\ACOPAN_raw_20250501212854.25O  is read in 3.34 seconds.\n",
      "Processing 104163 individual observations\n",
      "Calculating Azimuth and Elevation\n",
      "C:\\Users\\varga\\AppData\\Local\\Temp\\tmpftmbceon\\GFZ0MGXRAP_20251210000_01D_05M_ORB.SP3 exists | Reading...\n",
      "C:\\Users\\varga\\AppData\\Local\\Temp\\tmpftmbceon\\GFZ0MGXRAP_20251210000_01D_05M_ORB.SP3 file is read in 0.63 seconds\n",
      "This file does not exist: C:\\Users\\varga\\AppData\\Local\\Temp\\tmpftmbceon\\GFZ0MGXRAP_20251220000_01D_05M_ORB.SP3\n",
      "Downloading: ftp://gssc.esa.int/gnss/products/2364//GFZ0MGXRAP_20251220000_01D_05M_ORB.SP3.gz"
     ]
    },
    {
     "name": "stderr",
     "output_type": "stream",
     "text": [
      "GFZ0MGXRAP_20251220000_01D_05M_ORB.SP3.gz: 1.04MB [00:03, 334kB/s]                             \n"
     ]
    },
    {
     "name": "stdout",
     "output_type": "stream",
     "text": [
      " | Download completed for ftp://gssc.esa.int/gnss/products/2364//GFZ0MGXRAP_20251220000_01D_05M_ORB.SP3.gz\n",
      "C:\\Users\\varga\\AppData\\Local\\Temp\\tmpftmbceon\\GFZ0MGXRAP_20251220000_01D_05M_ORB.SP3 file is read in 4.51 seconds\n",
      "C:\\Users\\varga\\AppData\\Local\\Temp\\tmpftmbceon\\GFZ0MGXRAP_20251210000_01D_30S_CLK.CLK exists | Reading...\n",
      "C:\\Users\\varga\\AppData\\Local\\Temp\\tmpftmbceon\\GFZ0MGXRAP_20251210000_01D_30S_CLK.CLK file is read in 19.24 seconds\n",
      "This file does not exist: C:\\Users\\varga\\AppData\\Local\\Temp\\tmpftmbceon\\GFZ0MGXRAP_20251220000_01D_30S_CLK.CLK\n",
      "Downloading: GFZ0MGXRAP_20251220000_01D_30S_CLK.CLK.gz"
     ]
    },
    {
     "name": "stderr",
     "output_type": "stream",
     "text": [
      "GFZ0MGXRAP_20251220000_01D_30S_CLK.CLK.gz: 4.76MB [00:03, 1.35MB/s]                            \n"
     ]
    },
    {
     "name": "stdout",
     "output_type": "stream",
     "text": [
      " | Download completed for GFZ0MGXRAP_20251220000_01D_30S_CLK.CLK.gz\n",
      "C:\\Users\\varga\\AppData\\Local\\Temp\\tmpftmbceon\\GFZ0MGXRAP_20251220000_01D_30S_CLK.CLK file is read in 3.26 seconds\n",
      "SP3 interpolation is done in 5.33 seconds\n",
      "Saved 104163 individual observations in C:\\Users\\varga\\Box\\Data\\RinexZipFiles\\ACOPAN\\2025-05-25\\processed\\ACOPAN_raw_20250501212854.nc\n",
      "C:\\Users\\varga\\Box\\Data\\RinexZipFiles\\ACOPAN\\ACOPAN_nc\\ACOPAN_raw_20250502212855.25O exists | Reading...\n",
      "Observation file  C:\\Users\\varga\\Box\\Data\\RinexZipFiles\\ACOPAN\\ACOPAN_nc\\ACOPAN_raw_20250502212855.25O  is read in 9.45 seconds.\n",
      "Processing 106534 individual observations\n",
      "Calculating Azimuth and Elevation\n",
      "C:\\Users\\varga\\AppData\\Local\\Temp\\tmpftmbceon\\GFZ0MGXRAP_20251220000_01D_05M_ORB.SP3 exists | Reading...\n",
      "C:\\Users\\varga\\AppData\\Local\\Temp\\tmpftmbceon\\GFZ0MGXRAP_20251220000_01D_05M_ORB.SP3 file is read in 0.63 seconds\n",
      "This file does not exist: C:\\Users\\varga\\AppData\\Local\\Temp\\tmpftmbceon\\GFZ0MGXRAP_20251230000_01D_05M_ORB.SP3\n",
      "Downloading: ftp://gssc.esa.int/gnss/products/2364//GFZ0MGXRAP_20251230000_01D_05M_ORB.SP3.gz"
     ]
    },
    {
     "name": "stderr",
     "output_type": "stream",
     "text": [
      "GFZ0MGXRAP_20251230000_01D_05M_ORB.SP3.gz: 1.05MB [00:03, 342kB/s]                             \n"
     ]
    },
    {
     "name": "stdout",
     "output_type": "stream",
     "text": [
      " | Download completed for ftp://gssc.esa.int/gnss/products/2364//GFZ0MGXRAP_20251230000_01D_05M_ORB.SP3.gz\n",
      "C:\\Users\\varga\\AppData\\Local\\Temp\\tmpftmbceon\\GFZ0MGXRAP_20251230000_01D_05M_ORB.SP3 file is read in 5.92 seconds\n",
      "C:\\Users\\varga\\AppData\\Local\\Temp\\tmpftmbceon\\GFZ0MGXRAP_20251220000_01D_30S_CLK.CLK exists | Reading...\n",
      "C:\\Users\\varga\\AppData\\Local\\Temp\\tmpftmbceon\\GFZ0MGXRAP_20251220000_01D_30S_CLK.CLK file is read in 15.78 seconds\n",
      "This file does not exist: C:\\Users\\varga\\AppData\\Local\\Temp\\tmpftmbceon\\GFZ0MGXRAP_20251230000_01D_30S_CLK.CLK\n",
      "Downloading: GFZ0MGXRAP_20251230000_01D_30S_CLK.CLK.gz"
     ]
    },
    {
     "name": "stderr",
     "output_type": "stream",
     "text": [
      "GFZ0MGXRAP_20251230000_01D_30S_CLK.CLK.gz: 4.84MB [00:03, 1.38MB/s]                            \n"
     ]
    },
    {
     "name": "stdout",
     "output_type": "stream",
     "text": [
      " | Download completed for GFZ0MGXRAP_20251230000_01D_30S_CLK.CLK.gz\n",
      "C:\\Users\\varga\\AppData\\Local\\Temp\\tmpftmbceon\\GFZ0MGXRAP_20251230000_01D_30S_CLK.CLK file is read in 2.47 seconds\n",
      "SP3 interpolation is done in 12.79 seconds\n",
      "Saved 106534 individual observations in C:\\Users\\varga\\Box\\Data\\RinexZipFiles\\ACOPAN\\2025-05-25\\processed\\ACOPAN_raw_20250502212855.nc\n",
      "C:\\Users\\varga\\Box\\Data\\RinexZipFiles\\ACOPAN\\ACOPAN_nc\\ACOPAN_raw_20250503212856.25O exists | Reading...\n",
      "Observation file  C:\\Users\\varga\\Box\\Data\\RinexZipFiles\\ACOPAN\\ACOPAN_nc\\ACOPAN_raw_20250503212856.25O  is read in 3.24 seconds.\n",
      "Processing 107498 individual observations\n",
      "Calculating Azimuth and Elevation\n",
      "C:\\Users\\varga\\AppData\\Local\\Temp\\tmpftmbceon\\GFZ0MGXRAP_20251230000_01D_05M_ORB.SP3 exists | Reading...\n",
      "C:\\Users\\varga\\AppData\\Local\\Temp\\tmpftmbceon\\GFZ0MGXRAP_20251230000_01D_05M_ORB.SP3 file is read in 0.49 seconds\n",
      "This file does not exist: C:\\Users\\varga\\AppData\\Local\\Temp\\tmpftmbceon\\GFZ0MGXRAP_20251240000_01D_05M_ORB.SP3\n",
      "Downloading: ftp://gssc.esa.int/gnss/products/2365//GFZ0MGXRAP_20251240000_01D_05M_ORB.SP3.gz"
     ]
    },
    {
     "name": "stderr",
     "output_type": "stream",
     "text": [
      "GFZ0MGXRAP_20251240000_01D_05M_ORB.SP3.gz: 1.04MB [00:03, 344kB/s]                             \n"
     ]
    },
    {
     "name": "stdout",
     "output_type": "stream",
     "text": [
      " | Download completed for ftp://gssc.esa.int/gnss/products/2365//GFZ0MGXRAP_20251240000_01D_05M_ORB.SP3.gz\n",
      "C:\\Users\\varga\\AppData\\Local\\Temp\\tmpftmbceon\\GFZ0MGXRAP_20251240000_01D_05M_ORB.SP3 file is read in 4.15 seconds\n",
      "C:\\Users\\varga\\AppData\\Local\\Temp\\tmpftmbceon\\GFZ0MGXRAP_20251230000_01D_30S_CLK.CLK exists | Reading...\n",
      "C:\\Users\\varga\\AppData\\Local\\Temp\\tmpftmbceon\\GFZ0MGXRAP_20251230000_01D_30S_CLK.CLK file is read in 3.44 seconds\n",
      "This file does not exist: C:\\Users\\varga\\AppData\\Local\\Temp\\tmpftmbceon\\GFZ0MGXRAP_20251240000_01D_30S_CLK.CLK\n",
      "Downloading: GFZ0MGXRAP_20251240000_01D_30S_CLK.CLK.gz"
     ]
    },
    {
     "name": "stderr",
     "output_type": "stream",
     "text": [
      "GFZ0MGXRAP_20251240000_01D_30S_CLK.CLK.gz: 4.80MB [00:03, 1.29MB/s]                            \n"
     ]
    },
    {
     "name": "stdout",
     "output_type": "stream",
     "text": [
      " | Download completed for GFZ0MGXRAP_20251240000_01D_30S_CLK.CLK.gz\n",
      "C:\\Users\\varga\\AppData\\Local\\Temp\\tmpftmbceon\\GFZ0MGXRAP_20251240000_01D_30S_CLK.CLK file is read in 15.66 seconds\n",
      "SP3 interpolation is done in 3.95 seconds\n",
      "Saved 107498 individual observations in C:\\Users\\varga\\Box\\Data\\RinexZipFiles\\ACOPAN\\2025-05-25\\processed\\ACOPAN_raw_20250503212856.nc\n",
      "C:\\Users\\varga\\Box\\Data\\RinexZipFiles\\ACOPAN\\ACOPAN_nc\\ACOPAN_raw_20250504212857.25O exists | Reading...\n",
      "Observation file  C:\\Users\\varga\\Box\\Data\\RinexZipFiles\\ACOPAN\\ACOPAN_nc\\ACOPAN_raw_20250504212857.25O  is read in 3.29 seconds.\n",
      "Processing 104212 individual observations\n",
      "Calculating Azimuth and Elevation\n",
      "C:\\Users\\varga\\AppData\\Local\\Temp\\tmpftmbceon\\GFZ0MGXRAP_20251240000_01D_05M_ORB.SP3 exists | Reading...\n",
      "C:\\Users\\varga\\AppData\\Local\\Temp\\tmpftmbceon\\GFZ0MGXRAP_20251240000_01D_05M_ORB.SP3 file is read in 0.49 seconds\n",
      "This file does not exist: C:\\Users\\varga\\AppData\\Local\\Temp\\tmpftmbceon\\GFZ0MGXRAP_20251250000_01D_05M_ORB.SP3\n",
      "Downloading: ftp://gssc.esa.int/gnss/products/2365//GFZ0MGXRAP_20251250000_01D_05M_ORB.SP3.gz"
     ]
    },
    {
     "name": "stderr",
     "output_type": "stream",
     "text": [
      "GFZ0MGXRAP_20251250000_01D_05M_ORB.SP3.gz: 1.04MB [00:03, 335kB/s]                             \n"
     ]
    },
    {
     "name": "stdout",
     "output_type": "stream",
     "text": [
      " | Download completed for ftp://gssc.esa.int/gnss/products/2365//GFZ0MGXRAP_20251250000_01D_05M_ORB.SP3.gz\n",
      "C:\\Users\\varga\\AppData\\Local\\Temp\\tmpftmbceon\\GFZ0MGXRAP_20251250000_01D_05M_ORB.SP3 file is read in 8.78 seconds\n",
      "C:\\Users\\varga\\AppData\\Local\\Temp\\tmpftmbceon\\GFZ0MGXRAP_20251240000_01D_30S_CLK.CLK exists | Reading...\n",
      "C:\\Users\\varga\\AppData\\Local\\Temp\\tmpftmbceon\\GFZ0MGXRAP_20251240000_01D_30S_CLK.CLK file is read in 18.40 seconds\n",
      "This file does not exist: C:\\Users\\varga\\AppData\\Local\\Temp\\tmpftmbceon\\GFZ0MGXRAP_20251250000_01D_30S_CLK.CLK\n",
      "Downloading: GFZ0MGXRAP_20251250000_01D_30S_CLK.CLK.gz"
     ]
    },
    {
     "name": "stderr",
     "output_type": "stream",
     "text": [
      "GFZ0MGXRAP_20251250000_01D_30S_CLK.CLK.gz: 4.80MB [00:03, 1.28MB/s]                            \n"
     ]
    },
    {
     "name": "stdout",
     "output_type": "stream",
     "text": [
      " | Download completed for GFZ0MGXRAP_20251250000_01D_30S_CLK.CLK.gz\n",
      "C:\\Users\\varga\\AppData\\Local\\Temp\\tmpftmbceon\\GFZ0MGXRAP_20251250000_01D_30S_CLK.CLK file is read in 2.07 seconds\n",
      "SP3 interpolation is done in 4.07 seconds\n",
      "Saved 104212 individual observations in C:\\Users\\varga\\Box\\Data\\RinexZipFiles\\ACOPAN\\2025-05-25\\processed\\ACOPAN_raw_20250504212857.nc\n",
      "C:\\Users\\varga\\Box\\Data\\RinexZipFiles\\ACOPAN\\ACOPAN_nc\\ACOPAN_raw_20250505212858.25O exists | Reading...\n",
      "Observation file  C:\\Users\\varga\\Box\\Data\\RinexZipFiles\\ACOPAN\\ACOPAN_nc\\ACOPAN_raw_20250505212858.25O  is read in 15.78 seconds.\n",
      "Processing 105354 individual observations\n",
      "Calculating Azimuth and Elevation\n",
      "C:\\Users\\varga\\AppData\\Local\\Temp\\tmpftmbceon\\GFZ0MGXRAP_20251250000_01D_05M_ORB.SP3 exists | Reading...\n",
      "C:\\Users\\varga\\AppData\\Local\\Temp\\tmpftmbceon\\GFZ0MGXRAP_20251250000_01D_05M_ORB.SP3 file is read in 0.48 seconds\n",
      "This file does not exist: C:\\Users\\varga\\AppData\\Local\\Temp\\tmpftmbceon\\GFZ0MGXRAP_20251260000_01D_05M_ORB.SP3\n",
      "Downloading: ftp://gssc.esa.int/gnss/products/2365//GFZ0MGXRAP_20251260000_01D_05M_ORB.SP3.gz"
     ]
    },
    {
     "name": "stderr",
     "output_type": "stream",
     "text": [
      "GFZ0MGXRAP_20251260000_01D_05M_ORB.SP3.gz: 1.04MB [00:03, 337kB/s]                             \n"
     ]
    },
    {
     "name": "stdout",
     "output_type": "stream",
     "text": [
      " | Download completed for ftp://gssc.esa.int/gnss/products/2365//GFZ0MGXRAP_20251260000_01D_05M_ORB.SP3.gz\n",
      "C:\\Users\\varga\\AppData\\Local\\Temp\\tmpftmbceon\\GFZ0MGXRAP_20251260000_01D_05M_ORB.SP3 file is read in 3.77 seconds\n",
      "C:\\Users\\varga\\AppData\\Local\\Temp\\tmpftmbceon\\GFZ0MGXRAP_20251250000_01D_30S_CLK.CLK exists | Reading...\n",
      "C:\\Users\\varga\\AppData\\Local\\Temp\\tmpftmbceon\\GFZ0MGXRAP_20251250000_01D_30S_CLK.CLK file is read in 2.42 seconds\n",
      "This file does not exist: C:\\Users\\varga\\AppData\\Local\\Temp\\tmpftmbceon\\GFZ0MGXRAP_20251260000_01D_30S_CLK.CLK\n",
      "Downloading: GFZ0MGXRAP_20251260000_01D_30S_CLK.CLK.gz"
     ]
    },
    {
     "name": "stderr",
     "output_type": "stream",
     "text": [
      "GFZ0MGXRAP_20251260000_01D_30S_CLK.CLK.gz: 4.80MB [00:03, 1.33MB/s]                            \n"
     ]
    },
    {
     "name": "stdout",
     "output_type": "stream",
     "text": [
      " | Download completed for GFZ0MGXRAP_20251260000_01D_30S_CLK.CLK.gz\n",
      "C:\\Users\\varga\\AppData\\Local\\Temp\\tmpftmbceon\\GFZ0MGXRAP_20251260000_01D_30S_CLK.CLK file is read in 3.25 seconds\n",
      "SP3 interpolation is done in 7.50 seconds\n",
      "Saved 105354 individual observations in C:\\Users\\varga\\Box\\Data\\RinexZipFiles\\ACOPAN\\2025-05-25\\processed\\ACOPAN_raw_20250505212858.nc\n",
      "C:\\Users\\varga\\Box\\Data\\RinexZipFiles\\ACOPAN\\ACOPAN_nc\\ACOPAN_raw_20250506212859.25O exists | Reading...\n",
      "Observation file  C:\\Users\\varga\\Box\\Data\\RinexZipFiles\\ACOPAN\\ACOPAN_nc\\ACOPAN_raw_20250506212859.25O  is read in 2.43 seconds.\n",
      "Processing 79199 individual observations\n",
      "Calculating Azimuth and Elevation\n",
      "C:\\Users\\varga\\AppData\\Local\\Temp\\tmpftmbceon\\GFZ0MGXRAP_20251260000_01D_05M_ORB.SP3 exists | Reading...\n",
      "C:\\Users\\varga\\AppData\\Local\\Temp\\tmpftmbceon\\GFZ0MGXRAP_20251260000_01D_05M_ORB.SP3 file is read in 0.69 seconds\n",
      "This file does not exist: C:\\Users\\varga\\AppData\\Local\\Temp\\tmpftmbceon\\GFZ0MGXRAP_20251270000_01D_05M_ORB.SP3\n",
      "Downloading: ftp://gssc.esa.int/gnss/products/2365//GFZ0MGXRAP_20251270000_01D_05M_ORB.SP3.gz"
     ]
    },
    {
     "name": "stderr",
     "output_type": "stream",
     "text": [
      "GFZ0MGXRAP_20251270000_01D_05M_ORB.SP3.gz: 1.04MB [00:03, 309kB/s]                             \n"
     ]
    },
    {
     "name": "stdout",
     "output_type": "stream",
     "text": [
      " | Download completed for ftp://gssc.esa.int/gnss/products/2365//GFZ0MGXRAP_20251270000_01D_05M_ORB.SP3.gz\n",
      "C:\\Users\\varga\\AppData\\Local\\Temp\\tmpftmbceon\\GFZ0MGXRAP_20251270000_01D_05M_ORB.SP3 file is read in 4.39 seconds\n",
      "C:\\Users\\varga\\AppData\\Local\\Temp\\tmpftmbceon\\GFZ0MGXRAP_20251260000_01D_30S_CLK.CLK exists | Reading...\n",
      "C:\\Users\\varga\\AppData\\Local\\Temp\\tmpftmbceon\\GFZ0MGXRAP_20251260000_01D_30S_CLK.CLK file is read in 3.29 seconds\n",
      "This file does not exist: C:\\Users\\varga\\AppData\\Local\\Temp\\tmpftmbceon\\GFZ0MGXRAP_20251270000_01D_30S_CLK.CLK\n",
      "Downloading: GFZ0MGXRAP_20251270000_01D_30S_CLK.CLK.gz"
     ]
    },
    {
     "name": "stderr",
     "output_type": "stream",
     "text": [
      "GFZ0MGXRAP_20251270000_01D_30S_CLK.CLK.gz: 4.75MB [00:03, 1.34MB/s]                            \n"
     ]
    },
    {
     "name": "stdout",
     "output_type": "stream",
     "text": [
      " | Download completed for GFZ0MGXRAP_20251270000_01D_30S_CLK.CLK.gz\n",
      "C:\\Users\\varga\\AppData\\Local\\Temp\\tmpftmbceon\\GFZ0MGXRAP_20251270000_01D_30S_CLK.CLK file is read in 14.88 seconds\n",
      "SP3 interpolation is done in 3.90 seconds\n",
      "Saved 79199 individual observations in C:\\Users\\varga\\Box\\Data\\RinexZipFiles\\ACOPAN\\2025-05-25\\processed\\ACOPAN_raw_20250506212859.nc\n",
      "C:\\Users\\varga\\Box\\Data\\RinexZipFiles\\ACOPAN\\ACOPAN_nc\\ACOPAN_raw_20250507151751.25O exists | Reading...\n",
      "Observation file  C:\\Users\\varga\\Box\\Data\\RinexZipFiles\\ACOPAN\\ACOPAN_nc\\ACOPAN_raw_20250507151751.25O  is read in 3.31 seconds.\n",
      "Processing 105618 individual observations\n",
      "Calculating Azimuth and Elevation\n",
      "C:\\Users\\varga\\AppData\\Local\\Temp\\tmpftmbceon\\GFZ0MGXRAP_20251270000_01D_05M_ORB.SP3 exists | Reading...\n",
      "C:\\Users\\varga\\AppData\\Local\\Temp\\tmpftmbceon\\GFZ0MGXRAP_20251270000_01D_05M_ORB.SP3 file is read in 1.79 seconds\n",
      "This file does not exist: C:\\Users\\varga\\AppData\\Local\\Temp\\tmpftmbceon\\GFZ0MGXRAP_20251280000_01D_05M_ORB.SP3\n",
      "Downloading: ftp://gssc.esa.int/gnss/products/2365//GFZ0MGXRAP_20251280000_01D_05M_ORB.SP3.gz"
     ]
    },
    {
     "name": "stderr",
     "output_type": "stream",
     "text": [
      "GFZ0MGXRAP_20251280000_01D_05M_ORB.SP3.gz: 1.03MB [00:07, 142kB/s]                             \n"
     ]
    },
    {
     "name": "stdout",
     "output_type": "stream",
     "text": [
      " | Download completed for ftp://gssc.esa.int/gnss/products/2365//GFZ0MGXRAP_20251280000_01D_05M_ORB.SP3.gz\n",
      "C:\\Users\\varga\\AppData\\Local\\Temp\\tmpftmbceon\\GFZ0MGXRAP_20251280000_01D_05M_ORB.SP3 file is read in 13.59 seconds\n",
      "C:\\Users\\varga\\AppData\\Local\\Temp\\tmpftmbceon\\GFZ0MGXRAP_20251270000_01D_30S_CLK.CLK exists | Reading...\n",
      "C:\\Users\\varga\\AppData\\Local\\Temp\\tmpftmbceon\\GFZ0MGXRAP_20251270000_01D_30S_CLK.CLK file is read in 10.58 seconds\n",
      "This file does not exist: C:\\Users\\varga\\AppData\\Local\\Temp\\tmpftmbceon\\GFZ0MGXRAP_20251280000_01D_30S_CLK.CLK\n",
      "Downloading: GFZ0MGXRAP_20251280000_01D_30S_CLK.CLK.gz"
     ]
    },
    {
     "name": "stderr",
     "output_type": "stream",
     "text": [
      "GFZ0MGXRAP_20251280000_01D_30S_CLK.CLK.gz: 4.75MB [00:03, 1.29MB/s]                            \n"
     ]
    },
    {
     "name": "stdout",
     "output_type": "stream",
     "text": [
      " | Download completed for GFZ0MGXRAP_20251280000_01D_30S_CLK.CLK.gz\n",
      "C:\\Users\\varga\\AppData\\Local\\Temp\\tmpftmbceon\\GFZ0MGXRAP_20251280000_01D_30S_CLK.CLK file is read in 2.25 seconds\n",
      "SP3 interpolation is done in 3.74 seconds\n",
      "Saved 105618 individual observations in C:\\Users\\varga\\Box\\Data\\RinexZipFiles\\ACOPAN\\2025-05-25\\processed\\ACOPAN_raw_20250507151751.nc\n",
      "C:\\Users\\varga\\Box\\Data\\RinexZipFiles\\ACOPAN\\ACOPAN_nc\\ACOPAN_raw_20250508151752.25O exists | Reading...\n",
      "Observation file  C:\\Users\\varga\\Box\\Data\\RinexZipFiles\\ACOPAN\\ACOPAN_nc\\ACOPAN_raw_20250508151752.25O  is read in 25.16 seconds.\n",
      "Processing 106295 individual observations\n",
      "Calculating Azimuth and Elevation\n",
      "C:\\Users\\varga\\AppData\\Local\\Temp\\tmpftmbceon\\GFZ0MGXRAP_20251280000_01D_05M_ORB.SP3 exists | Reading...\n",
      "C:\\Users\\varga\\AppData\\Local\\Temp\\tmpftmbceon\\GFZ0MGXRAP_20251280000_01D_05M_ORB.SP3 file is read in 0.59 seconds\n",
      "This file does not exist: C:\\Users\\varga\\AppData\\Local\\Temp\\tmpftmbceon\\GFZ0MGXRAP_20251290000_01D_05M_ORB.SP3\n",
      "Downloading: ftp://gssc.esa.int/gnss/products/2365//GFZ0MGXRAP_20251290000_01D_05M_ORB.SP3.gz"
     ]
    },
    {
     "name": "stderr",
     "output_type": "stream",
     "text": [
      "GFZ0MGXRAP_20251290000_01D_05M_ORB.SP3.gz: 1.03MB [00:03, 329kB/s]                             \n"
     ]
    },
    {
     "name": "stdout",
     "output_type": "stream",
     "text": [
      " | Download completed for ftp://gssc.esa.int/gnss/products/2365//GFZ0MGXRAP_20251290000_01D_05M_ORB.SP3.gz\n",
      "C:\\Users\\varga\\AppData\\Local\\Temp\\tmpftmbceon\\GFZ0MGXRAP_20251290000_01D_05M_ORB.SP3 file is read in 3.87 seconds\n",
      "C:\\Users\\varga\\AppData\\Local\\Temp\\tmpftmbceon\\GFZ0MGXRAP_20251280000_01D_30S_CLK.CLK exists | Reading...\n",
      "C:\\Users\\varga\\AppData\\Local\\Temp\\tmpftmbceon\\GFZ0MGXRAP_20251280000_01D_30S_CLK.CLK file is read in 2.30 seconds\n",
      "This file does not exist: C:\\Users\\varga\\AppData\\Local\\Temp\\tmpftmbceon\\GFZ0MGXRAP_20251290000_01D_30S_CLK.CLK\n",
      "Downloading: GFZ0MGXRAP_20251290000_01D_30S_CLK.CLK.gz"
     ]
    },
    {
     "name": "stderr",
     "output_type": "stream",
     "text": [
      "GFZ0MGXRAP_20251290000_01D_30S_CLK.CLK.gz: 4.77MB [00:03, 1.33MB/s]                            \n"
     ]
    },
    {
     "name": "stdout",
     "output_type": "stream",
     "text": [
      " | Download completed for GFZ0MGXRAP_20251290000_01D_30S_CLK.CLK.gz\n",
      "C:\\Users\\varga\\AppData\\Local\\Temp\\tmpftmbceon\\GFZ0MGXRAP_20251290000_01D_30S_CLK.CLK file is read in 2.95 seconds\n",
      "SP3 interpolation is done in 5.61 seconds\n",
      "Saved 106295 individual observations in C:\\Users\\varga\\Box\\Data\\RinexZipFiles\\ACOPAN\\2025-05-25\\processed\\ACOPAN_raw_20250508151752.nc\n",
      "C:\\Users\\varga\\Box\\Data\\RinexZipFiles\\ACOPAN\\ACOPAN_nc\\ACOPAN_raw_20250509151752.25O exists | Reading...\n",
      "Observation file  C:\\Users\\varga\\Box\\Data\\RinexZipFiles\\ACOPAN\\ACOPAN_nc\\ACOPAN_raw_20250509151752.25O  is read in 3.76 seconds.\n",
      "Processing 106497 individual observations\n",
      "Calculating Azimuth and Elevation\n",
      "C:\\Users\\varga\\AppData\\Local\\Temp\\tmpftmbceon\\GFZ0MGXRAP_20251290000_01D_05M_ORB.SP3 exists | Reading...\n",
      "C:\\Users\\varga\\AppData\\Local\\Temp\\tmpftmbceon\\GFZ0MGXRAP_20251290000_01D_05M_ORB.SP3 file is read in 0.69 seconds\n",
      "This file does not exist: C:\\Users\\varga\\AppData\\Local\\Temp\\tmpftmbceon\\GFZ0MGXRAP_20251300000_01D_05M_ORB.SP3\n",
      "Downloading: ftp://gssc.esa.int/gnss/products/2365//GFZ0MGXRAP_20251300000_01D_05M_ORB.SP3.gz"
     ]
    },
    {
     "name": "stderr",
     "output_type": "stream",
     "text": [
      "GFZ0MGXRAP_20251300000_01D_05M_ORB.SP3.gz: 1.04MB [00:03, 325kB/s]                             \n"
     ]
    },
    {
     "name": "stdout",
     "output_type": "stream",
     "text": [
      " | Download completed for ftp://gssc.esa.int/gnss/products/2365//GFZ0MGXRAP_20251300000_01D_05M_ORB.SP3.gz\n",
      "C:\\Users\\varga\\AppData\\Local\\Temp\\tmpftmbceon\\GFZ0MGXRAP_20251300000_01D_05M_ORB.SP3 file is read in 3.91 seconds\n",
      "C:\\Users\\varga\\AppData\\Local\\Temp\\tmpftmbceon\\GFZ0MGXRAP_20251290000_01D_30S_CLK.CLK exists | Reading...\n",
      "C:\\Users\\varga\\AppData\\Local\\Temp\\tmpftmbceon\\GFZ0MGXRAP_20251290000_01D_30S_CLK.CLK file is read in 3.09 seconds\n",
      "This file does not exist: C:\\Users\\varga\\AppData\\Local\\Temp\\tmpftmbceon\\GFZ0MGXRAP_20251300000_01D_30S_CLK.CLK\n",
      "Downloading: GFZ0MGXRAP_20251300000_01D_30S_CLK.CLK.gz"
     ]
    },
    {
     "name": "stderr",
     "output_type": "stream",
     "text": [
      "GFZ0MGXRAP_20251300000_01D_30S_CLK.CLK.gz: 4.80MB [00:03, 1.35MB/s]                            \n"
     ]
    },
    {
     "name": "stdout",
     "output_type": "stream",
     "text": [
      " | Download completed for GFZ0MGXRAP_20251300000_01D_30S_CLK.CLK.gz\n",
      "C:\\Users\\varga\\AppData\\Local\\Temp\\tmpftmbceon\\GFZ0MGXRAP_20251300000_01D_30S_CLK.CLK file is read in 19.83 seconds\n",
      "SP3 interpolation is done in 6.16 seconds\n",
      "Saved 106497 individual observations in C:\\Users\\varga\\Box\\Data\\RinexZipFiles\\ACOPAN\\2025-05-25\\processed\\ACOPAN_raw_20250509151752.nc\n",
      "C:\\Users\\varga\\Box\\Data\\RinexZipFiles\\ACOPAN\\ACOPAN_nc\\ACOPAN_raw_20250510151753.25O exists | Reading...\n",
      "Observation file  C:\\Users\\varga\\Box\\Data\\RinexZipFiles\\ACOPAN\\ACOPAN_nc\\ACOPAN_raw_20250510151753.25O  is read in 3.14 seconds.\n",
      "Processing 104843 individual observations\n",
      "Calculating Azimuth and Elevation\n",
      "C:\\Users\\varga\\AppData\\Local\\Temp\\tmpftmbceon\\GFZ0MGXRAP_20251300000_01D_05M_ORB.SP3 exists | Reading...\n",
      "C:\\Users\\varga\\AppData\\Local\\Temp\\tmpftmbceon\\GFZ0MGXRAP_20251300000_01D_05M_ORB.SP3 file is read in 0.60 seconds\n",
      "This file does not exist: C:\\Users\\varga\\AppData\\Local\\Temp\\tmpftmbceon\\GFZ0MGXRAP_20251310000_01D_05M_ORB.SP3\n",
      "Downloading: ftp://gssc.esa.int/gnss/products/2366//GFZ0MGXRAP_20251310000_01D_05M_ORB.SP3.gz"
     ]
    },
    {
     "name": "stderr",
     "output_type": "stream",
     "text": [
      "GFZ0MGXRAP_20251310000_01D_05M_ORB.SP3.gz: 1.05MB [00:03, 341kB/s]                             \n"
     ]
    },
    {
     "name": "stdout",
     "output_type": "stream",
     "text": [
      " | Download completed for ftp://gssc.esa.int/gnss/products/2366//GFZ0MGXRAP_20251310000_01D_05M_ORB.SP3.gz\n",
      "C:\\Users\\varga\\AppData\\Local\\Temp\\tmpftmbceon\\GFZ0MGXRAP_20251310000_01D_05M_ORB.SP3 file is read in 8.45 seconds\n",
      "C:\\Users\\varga\\AppData\\Local\\Temp\\tmpftmbceon\\GFZ0MGXRAP_20251300000_01D_30S_CLK.CLK exists | Reading...\n",
      "C:\\Users\\varga\\AppData\\Local\\Temp\\tmpftmbceon\\GFZ0MGXRAP_20251300000_01D_30S_CLK.CLK file is read in 20.46 seconds\n",
      "This file does not exist: C:\\Users\\varga\\AppData\\Local\\Temp\\tmpftmbceon\\GFZ0MGXRAP_20251310000_01D_30S_CLK.CLK\n",
      "Downloading: GFZ0MGXRAP_20251310000_01D_30S_CLK.CLK.gz"
     ]
    },
    {
     "name": "stderr",
     "output_type": "stream",
     "text": [
      "GFZ0MGXRAP_20251310000_01D_30S_CLK.CLK.gz: 4.83MB [00:04, 1.20MB/s]                            \n"
     ]
    },
    {
     "name": "stdout",
     "output_type": "stream",
     "text": [
      " | Download completed for GFZ0MGXRAP_20251310000_01D_30S_CLK.CLK.gz\n",
      "C:\\Users\\varga\\AppData\\Local\\Temp\\tmpftmbceon\\GFZ0MGXRAP_20251310000_01D_30S_CLK.CLK file is read in 2.62 seconds\n",
      "SP3 interpolation is done in 3.82 seconds\n",
      "Saved 104843 individual observations in C:\\Users\\varga\\Box\\Data\\RinexZipFiles\\ACOPAN\\2025-05-25\\processed\\ACOPAN_raw_20250510151753.nc\n",
      "C:\\Users\\varga\\Box\\Data\\RinexZipFiles\\ACOPAN\\ACOPAN_nc\\ACOPAN_raw_20250511151753.25O exists | Reading...\n",
      "Observation file  C:\\Users\\varga\\Box\\Data\\RinexZipFiles\\ACOPAN\\ACOPAN_nc\\ACOPAN_raw_20250511151753.25O  is read in 16.27 seconds.\n",
      "Processing 105503 individual observations\n",
      "Calculating Azimuth and Elevation\n",
      "C:\\Users\\varga\\AppData\\Local\\Temp\\tmpftmbceon\\GFZ0MGXRAP_20251310000_01D_05M_ORB.SP3 exists | Reading...\n",
      "C:\\Users\\varga\\AppData\\Local\\Temp\\tmpftmbceon\\GFZ0MGXRAP_20251310000_01D_05M_ORB.SP3 file is read in 4.90 seconds\n",
      "This file does not exist: C:\\Users\\varga\\AppData\\Local\\Temp\\tmpftmbceon\\GFZ0MGXRAP_20251320000_01D_05M_ORB.SP3\n",
      "Downloading: ftp://gssc.esa.int/gnss/products/2366//GFZ0MGXRAP_20251320000_01D_05M_ORB.SP3.gz"
     ]
    },
    {
     "name": "stderr",
     "output_type": "stream",
     "text": [
      "GFZ0MGXRAP_20251320000_01D_05M_ORB.SP3.gz: 1.04MB [00:03, 333kB/s]                             \n"
     ]
    },
    {
     "name": "stdout",
     "output_type": "stream",
     "text": [
      " | Download completed for ftp://gssc.esa.int/gnss/products/2366//GFZ0MGXRAP_20251320000_01D_05M_ORB.SP3.gz\n",
      "C:\\Users\\varga\\AppData\\Local\\Temp\\tmpftmbceon\\GFZ0MGXRAP_20251320000_01D_05M_ORB.SP3 file is read in 3.94 seconds\n",
      "C:\\Users\\varga\\AppData\\Local\\Temp\\tmpftmbceon\\GFZ0MGXRAP_20251310000_01D_30S_CLK.CLK exists | Reading...\n",
      "C:\\Users\\varga\\AppData\\Local\\Temp\\tmpftmbceon\\GFZ0MGXRAP_20251310000_01D_30S_CLK.CLK file is read in 2.45 seconds\n",
      "This file does not exist: C:\\Users\\varga\\AppData\\Local\\Temp\\tmpftmbceon\\GFZ0MGXRAP_20251320000_01D_30S_CLK.CLK\n",
      "Downloading: GFZ0MGXRAP_20251320000_01D_30S_CLK.CLK.gz"
     ]
    },
    {
     "name": "stderr",
     "output_type": "stream",
     "text": [
      "GFZ0MGXRAP_20251320000_01D_30S_CLK.CLK.gz: 4.77MB [00:03, 1.35MB/s]                            \n"
     ]
    },
    {
     "name": "stdout",
     "output_type": "stream",
     "text": [
      " | Download completed for GFZ0MGXRAP_20251320000_01D_30S_CLK.CLK.gz\n",
      "C:\\Users\\varga\\AppData\\Local\\Temp\\tmpftmbceon\\GFZ0MGXRAP_20251320000_01D_30S_CLK.CLK file is read in 2.85 seconds\n",
      "SP3 interpolation is done in 5.48 seconds\n",
      "Saved 105503 individual observations in C:\\Users\\varga\\Box\\Data\\RinexZipFiles\\ACOPAN\\2025-05-25\\processed\\ACOPAN_raw_20250511151753.nc\n",
      "C:\\Users\\varga\\Box\\Data\\RinexZipFiles\\ACOPAN\\ACOPAN_nc\\ACOPAN_raw_20250512151754.25O exists | Reading...\n",
      "Observation file  C:\\Users\\varga\\Box\\Data\\RinexZipFiles\\ACOPAN\\ACOPAN_nc\\ACOPAN_raw_20250512151754.25O  is read in 6.71 seconds.\n",
      "Processing 107002 individual observations\n",
      "Calculating Azimuth and Elevation\n",
      "C:\\Users\\varga\\AppData\\Local\\Temp\\tmpftmbceon\\GFZ0MGXRAP_20251320000_01D_05M_ORB.SP3 exists | Reading...\n",
      "C:\\Users\\varga\\AppData\\Local\\Temp\\tmpftmbceon\\GFZ0MGXRAP_20251320000_01D_05M_ORB.SP3 file is read in 0.72 seconds\n",
      "This file does not exist: C:\\Users\\varga\\AppData\\Local\\Temp\\tmpftmbceon\\GFZ0MGXRAP_20251330000_01D_05M_ORB.SP3\n",
      "Downloading: ftp://gssc.esa.int/gnss/products/2366//GFZ0MGXRAP_20251330000_01D_05M_ORB.SP3.gz"
     ]
    },
    {
     "name": "stderr",
     "output_type": "stream",
     "text": [
      "GFZ0MGXRAP_20251330000_01D_05M_ORB.SP3.gz: 1.03MB [00:03, 283kB/s]                             \n"
     ]
    },
    {
     "name": "stdout",
     "output_type": "stream",
     "text": [
      " | Download completed for ftp://gssc.esa.int/gnss/products/2366//GFZ0MGXRAP_20251330000_01D_05M_ORB.SP3.gz\n",
      "C:\\Users\\varga\\AppData\\Local\\Temp\\tmpftmbceon\\GFZ0MGXRAP_20251330000_01D_05M_ORB.SP3 file is read in 4.45 seconds\n",
      "C:\\Users\\varga\\AppData\\Local\\Temp\\tmpftmbceon\\GFZ0MGXRAP_20251320000_01D_30S_CLK.CLK exists | Reading...\n",
      "C:\\Users\\varga\\AppData\\Local\\Temp\\tmpftmbceon\\GFZ0MGXRAP_20251320000_01D_30S_CLK.CLK file is read in 2.32 seconds\n",
      "This file does not exist: C:\\Users\\varga\\AppData\\Local\\Temp\\tmpftmbceon\\GFZ0MGXRAP_20251330000_01D_30S_CLK.CLK\n",
      "Downloading: GFZ0MGXRAP_20251330000_01D_30S_CLK.CLK.gz"
     ]
    },
    {
     "name": "stderr",
     "output_type": "stream",
     "text": [
      "GFZ0MGXRAP_20251330000_01D_30S_CLK.CLK.gz: 4.74MB [00:04, 1.03MB/s]                            \n"
     ]
    },
    {
     "name": "stdout",
     "output_type": "stream",
     "text": [
      " | Download completed for GFZ0MGXRAP_20251330000_01D_30S_CLK.CLK.gz\n",
      "C:\\Users\\varga\\AppData\\Local\\Temp\\tmpftmbceon\\GFZ0MGXRAP_20251330000_01D_30S_CLK.CLK file is read in 3.57 seconds\n",
      "SP3 interpolation is done in 8.30 seconds\n",
      "Saved 107002 individual observations in C:\\Users\\varga\\Box\\Data\\RinexZipFiles\\ACOPAN\\2025-05-25\\processed\\ACOPAN_raw_20250512151754.nc\n",
      "C:\\Users\\varga\\Box\\Data\\RinexZipFiles\\ACOPAN\\ACOPAN_nc\\ACOPAN_raw_20250513151755.25O exists | Reading...\n",
      "Observation file  C:\\Users\\varga\\Box\\Data\\RinexZipFiles\\ACOPAN\\ACOPAN_nc\\ACOPAN_raw_20250513151755.25O  is read in 3.44 seconds.\n",
      "Processing 106294 individual observations\n",
      "Calculating Azimuth and Elevation\n",
      "C:\\Users\\varga\\AppData\\Local\\Temp\\tmpftmbceon\\GFZ0MGXRAP_20251330000_01D_05M_ORB.SP3 exists | Reading...\n",
      "C:\\Users\\varga\\AppData\\Local\\Temp\\tmpftmbceon\\GFZ0MGXRAP_20251330000_01D_05M_ORB.SP3 file is read in 0.54 seconds\n",
      "This file does not exist: C:\\Users\\varga\\AppData\\Local\\Temp\\tmpftmbceon\\GFZ0MGXRAP_20251340000_01D_05M_ORB.SP3\n",
      "Downloading: ftp://gssc.esa.int/gnss/products/2366//GFZ0MGXRAP_20251340000_01D_05M_ORB.SP3.gz"
     ]
    },
    {
     "name": "stderr",
     "output_type": "stream",
     "text": [
      "GFZ0MGXRAP_20251340000_01D_05M_ORB.SP3.gz: 1.04MB [00:03, 305kB/s]                             \n"
     ]
    },
    {
     "name": "stdout",
     "output_type": "stream",
     "text": [
      " | Download completed for ftp://gssc.esa.int/gnss/products/2366//GFZ0MGXRAP_20251340000_01D_05M_ORB.SP3.gz\n",
      "C:\\Users\\varga\\AppData\\Local\\Temp\\tmpftmbceon\\GFZ0MGXRAP_20251340000_01D_05M_ORB.SP3 file is read in 4.14 seconds\n",
      "C:\\Users\\varga\\AppData\\Local\\Temp\\tmpftmbceon\\GFZ0MGXRAP_20251330000_01D_30S_CLK.CLK exists | Reading...\n",
      "C:\\Users\\varga\\AppData\\Local\\Temp\\tmpftmbceon\\GFZ0MGXRAP_20251330000_01D_30S_CLK.CLK file is read in 3.76 seconds\n",
      "This file does not exist: C:\\Users\\varga\\AppData\\Local\\Temp\\tmpftmbceon\\GFZ0MGXRAP_20251340000_01D_30S_CLK.CLK\n",
      "Downloading: GFZ0MGXRAP_20251340000_01D_30S_CLK.CLK.gz"
     ]
    },
    {
     "name": "stderr",
     "output_type": "stream",
     "text": [
      "GFZ0MGXRAP_20251340000_01D_30S_CLK.CLK.gz: 4.77MB [00:03, 1.27MB/s]                            \n"
     ]
    },
    {
     "name": "stdout",
     "output_type": "stream",
     "text": [
      " | Download completed for GFZ0MGXRAP_20251340000_01D_30S_CLK.CLK.gz\n",
      "C:\\Users\\varga\\AppData\\Local\\Temp\\tmpftmbceon\\GFZ0MGXRAP_20251340000_01D_30S_CLK.CLK file is read in 18.15 seconds\n",
      "SP3 interpolation is done in 5.31 seconds\n",
      "Saved 106294 individual observations in C:\\Users\\varga\\Box\\Data\\RinexZipFiles\\ACOPAN\\2025-05-25\\processed\\ACOPAN_raw_20250513151755.nc\n",
      "C:\\Users\\varga\\Box\\Data\\RinexZipFiles\\ACOPAN\\ACOPAN_nc\\ACOPAN_raw_20250514151756.25O exists | Reading...\n",
      "Observation file  C:\\Users\\varga\\Box\\Data\\RinexZipFiles\\ACOPAN\\ACOPAN_nc\\ACOPAN_raw_20250514151756.25O  is read in 3.19 seconds.\n",
      "Processing 104717 individual observations\n",
      "Calculating Azimuth and Elevation\n",
      "C:\\Users\\varga\\AppData\\Local\\Temp\\tmpftmbceon\\GFZ0MGXRAP_20251340000_01D_05M_ORB.SP3 exists | Reading...\n",
      "C:\\Users\\varga\\AppData\\Local\\Temp\\tmpftmbceon\\GFZ0MGXRAP_20251340000_01D_05M_ORB.SP3 file is read in 0.56 seconds\n",
      "This file does not exist: C:\\Users\\varga\\AppData\\Local\\Temp\\tmpftmbceon\\GFZ0MGXRAP_20251350000_01D_05M_ORB.SP3\n",
      "Downloading: ftp://gssc.esa.int/gnss/products/2366//GFZ0MGXRAP_20251350000_01D_05M_ORB.SP3.gz"
     ]
    },
    {
     "name": "stderr",
     "output_type": "stream",
     "text": [
      "GFZ0MGXRAP_20251350000_01D_05M_ORB.SP3.gz: 1.05MB [00:03, 329kB/s]                             \n"
     ]
    },
    {
     "name": "stdout",
     "output_type": "stream",
     "text": [
      " | Download completed for ftp://gssc.esa.int/gnss/products/2366//GFZ0MGXRAP_20251350000_01D_05M_ORB.SP3.gz\n",
      "C:\\Users\\varga\\AppData\\Local\\Temp\\tmpftmbceon\\GFZ0MGXRAP_20251350000_01D_05M_ORB.SP3 file is read in 8.51 seconds\n",
      "C:\\Users\\varga\\AppData\\Local\\Temp\\tmpftmbceon\\GFZ0MGXRAP_20251340000_01D_30S_CLK.CLK exists | Reading...\n",
      "C:\\Users\\varga\\AppData\\Local\\Temp\\tmpftmbceon\\GFZ0MGXRAP_20251340000_01D_30S_CLK.CLK file is read in 20.31 seconds\n",
      "This file does not exist: C:\\Users\\varga\\AppData\\Local\\Temp\\tmpftmbceon\\GFZ0MGXRAP_20251350000_01D_30S_CLK.CLK\n",
      "Downloading: GFZ0MGXRAP_20251350000_01D_30S_CLK.CLK.gz"
     ]
    },
    {
     "name": "stderr",
     "output_type": "stream",
     "text": [
      "GFZ0MGXRAP_20251350000_01D_30S_CLK.CLK.gz: 4.77MB [00:03, 1.35MB/s]                            \n"
     ]
    },
    {
     "name": "stdout",
     "output_type": "stream",
     "text": [
      " | Download completed for GFZ0MGXRAP_20251350000_01D_30S_CLK.CLK.gz\n",
      "C:\\Users\\varga\\AppData\\Local\\Temp\\tmpftmbceon\\GFZ0MGXRAP_20251350000_01D_30S_CLK.CLK file is read in 2.70 seconds\n",
      "SP3 interpolation is done in 3.89 seconds\n",
      "Saved 104717 individual observations in C:\\Users\\varga\\Box\\Data\\RinexZipFiles\\ACOPAN\\2025-05-25\\processed\\ACOPAN_raw_20250514151756.nc\n",
      "C:\\Users\\varga\\Box\\Data\\RinexZipFiles\\ACOPAN\\ACOPAN_nc\\ACOPAN_raw_20250515151757.25O exists | Reading...\n",
      "Observation file  C:\\Users\\varga\\Box\\Data\\RinexZipFiles\\ACOPAN\\ACOPAN_nc\\ACOPAN_raw_20250515151757.25O  is read in 27.02 seconds.\n",
      "Processing 107087 individual observations\n",
      "Calculating Azimuth and Elevation\n",
      "C:\\Users\\varga\\AppData\\Local\\Temp\\tmpftmbceon\\GFZ0MGXRAP_20251350000_01D_05M_ORB.SP3 exists | Reading...\n",
      "C:\\Users\\varga\\AppData\\Local\\Temp\\tmpftmbceon\\GFZ0MGXRAP_20251350000_01D_05M_ORB.SP3 file is read in 0.52 seconds\n",
      "This file does not exist: C:\\Users\\varga\\AppData\\Local\\Temp\\tmpftmbceon\\GFZ0MGXRAP_20251360000_01D_05M_ORB.SP3\n",
      "Downloading: ftp://gssc.esa.int/gnss/products/2366//GFZ0MGXRAP_20251360000_01D_05M_ORB.SP3.gz"
     ]
    },
    {
     "name": "stderr",
     "output_type": "stream",
     "text": [
      "GFZ0MGXRAP_20251360000_01D_05M_ORB.SP3.gz: 1.03MB [00:03, 333kB/s]                             \n"
     ]
    },
    {
     "name": "stdout",
     "output_type": "stream",
     "text": [
      " | Download completed for ftp://gssc.esa.int/gnss/products/2366//GFZ0MGXRAP_20251360000_01D_05M_ORB.SP3.gz\n",
      "C:\\Users\\varga\\AppData\\Local\\Temp\\tmpftmbceon\\GFZ0MGXRAP_20251360000_01D_05M_ORB.SP3 file is read in 3.91 seconds\n",
      "C:\\Users\\varga\\AppData\\Local\\Temp\\tmpftmbceon\\GFZ0MGXRAP_20251350000_01D_30S_CLK.CLK exists | Reading...\n",
      "C:\\Users\\varga\\AppData\\Local\\Temp\\tmpftmbceon\\GFZ0MGXRAP_20251350000_01D_30S_CLK.CLK file is read in 2.51 seconds\n",
      "This file does not exist: C:\\Users\\varga\\AppData\\Local\\Temp\\tmpftmbceon\\GFZ0MGXRAP_20251360000_01D_30S_CLK.CLK\n",
      "Downloading: GFZ0MGXRAP_20251360000_01D_30S_CLK.CLK.gz"
     ]
    },
    {
     "name": "stderr",
     "output_type": "stream",
     "text": [
      "GFZ0MGXRAP_20251360000_01D_30S_CLK.CLK.gz: 4.73MB [00:03, 1.32MB/s]                            \n"
     ]
    },
    {
     "name": "stdout",
     "output_type": "stream",
     "text": [
      " | Download completed for GFZ0MGXRAP_20251360000_01D_30S_CLK.CLK.gz\n",
      "C:\\Users\\varga\\AppData\\Local\\Temp\\tmpftmbceon\\GFZ0MGXRAP_20251360000_01D_30S_CLK.CLK file is read in 3.25 seconds\n",
      "SP3 interpolation is done in 5.55 seconds\n",
      "Saved 107087 individual observations in C:\\Users\\varga\\Box\\Data\\RinexZipFiles\\ACOPAN\\2025-05-25\\processed\\ACOPAN_raw_20250515151757.nc\n",
      "C:\\Users\\varga\\Box\\Data\\RinexZipFiles\\ACOPAN\\ACOPAN_nc\\ACOPAN_raw_20250516151758.25O exists | Reading...\n",
      "Observation file  C:\\Users\\varga\\Box\\Data\\RinexZipFiles\\ACOPAN\\ACOPAN_nc\\ACOPAN_raw_20250516151758.25O  is read in 3.43 seconds.\n",
      "Processing 106587 individual observations\n",
      "Calculating Azimuth and Elevation\n",
      "C:\\Users\\varga\\AppData\\Local\\Temp\\tmpftmbceon\\GFZ0MGXRAP_20251360000_01D_05M_ORB.SP3 exists | Reading...\n",
      "C:\\Users\\varga\\AppData\\Local\\Temp\\tmpftmbceon\\GFZ0MGXRAP_20251360000_01D_05M_ORB.SP3 file is read in 0.49 seconds\n",
      "This file does not exist: C:\\Users\\varga\\AppData\\Local\\Temp\\tmpftmbceon\\GFZ0MGXRAP_20251370000_01D_05M_ORB.SP3\n",
      "Downloading: ftp://gssc.esa.int/gnss/products/2366//GFZ0MGXRAP_20251370000_01D_05M_ORB.SP3.gz"
     ]
    },
    {
     "name": "stderr",
     "output_type": "stream",
     "text": [
      "GFZ0MGXRAP_20251370000_01D_05M_ORB.SP3.gz: 1.03MB [00:03, 329kB/s]                             \n"
     ]
    },
    {
     "name": "stdout",
     "output_type": "stream",
     "text": [
      " | Download completed for ftp://gssc.esa.int/gnss/products/2366//GFZ0MGXRAP_20251370000_01D_05M_ORB.SP3.gz\n",
      "C:\\Users\\varga\\AppData\\Local\\Temp\\tmpftmbceon\\GFZ0MGXRAP_20251370000_01D_05M_ORB.SP3 file is read in 3.86 seconds\n",
      "C:\\Users\\varga\\AppData\\Local\\Temp\\tmpftmbceon\\GFZ0MGXRAP_20251360000_01D_30S_CLK.CLK exists | Reading...\n",
      "C:\\Users\\varga\\AppData\\Local\\Temp\\tmpftmbceon\\GFZ0MGXRAP_20251360000_01D_30S_CLK.CLK file is read in 2.67 seconds\n",
      "This file does not exist: C:\\Users\\varga\\AppData\\Local\\Temp\\tmpftmbceon\\GFZ0MGXRAP_20251370000_01D_30S_CLK.CLK\n",
      "Downloading: GFZ0MGXRAP_20251370000_01D_30S_CLK.CLK.gz"
     ]
    },
    {
     "name": "stderr",
     "output_type": "stream",
     "text": [
      "GFZ0MGXRAP_20251370000_01D_30S_CLK.CLK.gz: 4.71MB [00:03, 1.28MB/s]                            \n"
     ]
    },
    {
     "name": "stdout",
     "output_type": "stream",
     "text": [
      " | Download completed for GFZ0MGXRAP_20251370000_01D_30S_CLK.CLK.gz\n",
      "C:\\Users\\varga\\AppData\\Local\\Temp\\tmpftmbceon\\GFZ0MGXRAP_20251370000_01D_30S_CLK.CLK file is read in 3.42 seconds\n",
      "SP3 interpolation is done in 26.41 seconds\n",
      "Saved 106587 individual observations in C:\\Users\\varga\\Box\\Data\\RinexZipFiles\\ACOPAN\\2025-05-25\\processed\\ACOPAN_raw_20250516151758.nc\n",
      "C:\\Users\\varga\\Box\\Data\\RinexZipFiles\\ACOPAN\\ACOPAN_nc\\ACOPAN_raw_20250517151758.25O exists | Reading...\n",
      "Observation file  C:\\Users\\varga\\Box\\Data\\RinexZipFiles\\ACOPAN\\ACOPAN_nc\\ACOPAN_raw_20250517151758.25O  is read in 3.48 seconds.\n",
      "Processing 103925 individual observations\n",
      "Calculating Azimuth and Elevation\n",
      "C:\\Users\\varga\\AppData\\Local\\Temp\\tmpftmbceon\\GFZ0MGXRAP_20251370000_01D_05M_ORB.SP3 exists | Reading...\n",
      "C:\\Users\\varga\\AppData\\Local\\Temp\\tmpftmbceon\\GFZ0MGXRAP_20251370000_01D_05M_ORB.SP3 file is read in 0.49 seconds\n",
      "This file does not exist: C:\\Users\\varga\\AppData\\Local\\Temp\\tmpftmbceon\\GFZ0MGXRAP_20251380000_01D_05M_ORB.SP3\n",
      "Downloading: ftp://gssc.esa.int/gnss/products/2367//GFZ0MGXRAP_20251380000_01D_05M_ORB.SP3.gz"
     ]
    },
    {
     "name": "stderr",
     "output_type": "stream",
     "text": [
      "GFZ0MGXRAP_20251380000_01D_05M_ORB.SP3.gz: 1.05MB [00:03, 336kB/s]                             \n"
     ]
    },
    {
     "name": "stdout",
     "output_type": "stream",
     "text": [
      " | Download completed for ftp://gssc.esa.int/gnss/products/2367//GFZ0MGXRAP_20251380000_01D_05M_ORB.SP3.gz\n",
      "C:\\Users\\varga\\AppData\\Local\\Temp\\tmpftmbceon\\GFZ0MGXRAP_20251380000_01D_05M_ORB.SP3 file is read in 9.14 seconds\n",
      "C:\\Users\\varga\\AppData\\Local\\Temp\\tmpftmbceon\\GFZ0MGXRAP_20251370000_01D_30S_CLK.CLK exists | Reading...\n",
      "C:\\Users\\varga\\AppData\\Local\\Temp\\tmpftmbceon\\GFZ0MGXRAP_20251370000_01D_30S_CLK.CLK file is read in 15.73 seconds\n",
      "This file does not exist: C:\\Users\\varga\\AppData\\Local\\Temp\\tmpftmbceon\\GFZ0MGXRAP_20251380000_01D_30S_CLK.CLK\n",
      "Downloading: GFZ0MGXRAP_20251380000_01D_30S_CLK.CLK.gz"
     ]
    },
    {
     "name": "stderr",
     "output_type": "stream",
     "text": [
      "GFZ0MGXRAP_20251380000_01D_30S_CLK.CLK.gz: 4.78MB [00:03, 1.33MB/s]                            \n"
     ]
    },
    {
     "name": "stdout",
     "output_type": "stream",
     "text": [
      " | Download completed for GFZ0MGXRAP_20251380000_01D_30S_CLK.CLK.gz\n",
      "C:\\Users\\varga\\AppData\\Local\\Temp\\tmpftmbceon\\GFZ0MGXRAP_20251380000_01D_30S_CLK.CLK file is read in 2.51 seconds\n",
      "SP3 interpolation is done in 3.84 seconds\n",
      "Saved 103925 individual observations in C:\\Users\\varga\\Box\\Data\\RinexZipFiles\\ACOPAN\\2025-05-25\\processed\\ACOPAN_raw_20250517151758.nc\n",
      "C:\\Users\\varga\\Box\\Data\\RinexZipFiles\\ACOPAN\\ACOPAN_nc\\ACOPAN_raw_20250518151759.25O exists | Reading...\n",
      "Observation file  C:\\Users\\varga\\Box\\Data\\RinexZipFiles\\ACOPAN\\ACOPAN_nc\\ACOPAN_raw_20250518151759.25O  is read in 27.94 seconds.\n",
      "Processing 105802 individual observations\n",
      "Calculating Azimuth and Elevation\n",
      "C:\\Users\\varga\\AppData\\Local\\Temp\\tmpftmbceon\\GFZ0MGXRAP_20251380000_01D_05M_ORB.SP3 exists | Reading...\n",
      "C:\\Users\\varga\\AppData\\Local\\Temp\\tmpftmbceon\\GFZ0MGXRAP_20251380000_01D_05M_ORB.SP3 file is read in 0.57 seconds\n",
      "This file does not exist: C:\\Users\\varga\\AppData\\Local\\Temp\\tmpftmbceon\\GFZ0MGXRAP_20251390000_01D_05M_ORB.SP3\n",
      "Downloading: ftp://gssc.esa.int/gnss/products/2367//GFZ0MGXRAP_20251390000_01D_05M_ORB.SP3.gz"
     ]
    },
    {
     "name": "stderr",
     "output_type": "stream",
     "text": [
      "GFZ0MGXRAP_20251390000_01D_05M_ORB.SP3.gz: 1.05MB [00:03, 341kB/s]                             \n"
     ]
    },
    {
     "name": "stdout",
     "output_type": "stream",
     "text": [
      " | Download completed for ftp://gssc.esa.int/gnss/products/2367//GFZ0MGXRAP_20251390000_01D_05M_ORB.SP3.gz\n",
      "C:\\Users\\varga\\AppData\\Local\\Temp\\tmpftmbceon\\GFZ0MGXRAP_20251390000_01D_05M_ORB.SP3 file is read in 3.87 seconds\n",
      "C:\\Users\\varga\\AppData\\Local\\Temp\\tmpftmbceon\\GFZ0MGXRAP_20251380000_01D_30S_CLK.CLK exists | Reading...\n",
      "C:\\Users\\varga\\AppData\\Local\\Temp\\tmpftmbceon\\GFZ0MGXRAP_20251380000_01D_30S_CLK.CLK file is read in 2.59 seconds\n",
      "This file does not exist: C:\\Users\\varga\\AppData\\Local\\Temp\\tmpftmbceon\\GFZ0MGXRAP_20251390000_01D_30S_CLK.CLK\n",
      "Downloading: GFZ0MGXRAP_20251390000_01D_30S_CLK.CLK.gz"
     ]
    },
    {
     "name": "stderr",
     "output_type": "stream",
     "text": [
      "GFZ0MGXRAP_20251390000_01D_30S_CLK.CLK.gz: 4.79MB [00:03, 1.32MB/s]                            \n"
     ]
    },
    {
     "name": "stdout",
     "output_type": "stream",
     "text": [
      " | Download completed for GFZ0MGXRAP_20251390000_01D_30S_CLK.CLK.gz\n",
      "C:\\Users\\varga\\AppData\\Local\\Temp\\tmpftmbceon\\GFZ0MGXRAP_20251390000_01D_30S_CLK.CLK file is read in 3.90 seconds\n",
      "SP3 interpolation is done in 17.88 seconds\n",
      "Saved 105802 individual observations in C:\\Users\\varga\\Box\\Data\\RinexZipFiles\\ACOPAN\\2025-05-25\\processed\\ACOPAN_raw_20250518151759.nc\n",
      "C:\\Users\\varga\\Box\\Data\\RinexZipFiles\\ACOPAN\\ACOPAN_nc\\ACOPAN_raw_20250519151800.25O exists | Reading...\n",
      "Observation file  C:\\Users\\varga\\Box\\Data\\RinexZipFiles\\ACOPAN\\ACOPAN_nc\\ACOPAN_raw_20250519151800.25O  is read in 3.60 seconds.\n",
      "Processing 106452 individual observations\n",
      "Calculating Azimuth and Elevation\n",
      "C:\\Users\\varga\\AppData\\Local\\Temp\\tmpftmbceon\\GFZ0MGXRAP_20251390000_01D_05M_ORB.SP3 exists | Reading...\n",
      "C:\\Users\\varga\\AppData\\Local\\Temp\\tmpftmbceon\\GFZ0MGXRAP_20251390000_01D_05M_ORB.SP3 file is read in 0.50 seconds\n",
      "This file does not exist: C:\\Users\\varga\\AppData\\Local\\Temp\\tmpftmbceon\\GFZ0MGXRAP_20251400000_01D_05M_ORB.SP3\n",
      "Downloading: ftp://gssc.esa.int/gnss/products/2367//GFZ0MGXRAP_20251400000_01D_05M_ORB.SP3.gz"
     ]
    },
    {
     "name": "stderr",
     "output_type": "stream",
     "text": [
      "GFZ0MGXRAP_20251400000_01D_05M_ORB.SP3.gz: 1.05MB [00:03, 300kB/s]                             \n"
     ]
    },
    {
     "name": "stdout",
     "output_type": "stream",
     "text": [
      " | Download completed for ftp://gssc.esa.int/gnss/products/2367//GFZ0MGXRAP_20251400000_01D_05M_ORB.SP3.gz\n",
      "C:\\Users\\varga\\AppData\\Local\\Temp\\tmpftmbceon\\GFZ0MGXRAP_20251400000_01D_05M_ORB.SP3 file is read in 4.71 seconds\n",
      "C:\\Users\\varga\\AppData\\Local\\Temp\\tmpftmbceon\\GFZ0MGXRAP_20251390000_01D_30S_CLK.CLK exists | Reading...\n",
      "C:\\Users\\varga\\AppData\\Local\\Temp\\tmpftmbceon\\GFZ0MGXRAP_20251390000_01D_30S_CLK.CLK file is read in 13.55 seconds\n",
      "This file does not exist: C:\\Users\\varga\\AppData\\Local\\Temp\\tmpftmbceon\\GFZ0MGXRAP_20251400000_01D_30S_CLK.CLK\n",
      "Downloading: GFZ0MGXRAP_20251400000_01D_30S_CLK.CLK.gz"
     ]
    },
    {
     "name": "stderr",
     "output_type": "stream",
     "text": [
      "GFZ0MGXRAP_20251400000_01D_30S_CLK.CLK.gz: 4.80MB [00:06, 805kB/s]                             \n"
     ]
    },
    {
     "name": "stdout",
     "output_type": "stream",
     "text": [
      " | Download completed for GFZ0MGXRAP_20251400000_01D_30S_CLK.CLK.gz\n",
      "C:\\Users\\varga\\AppData\\Local\\Temp\\tmpftmbceon\\GFZ0MGXRAP_20251400000_01D_30S_CLK.CLK file is read in 5.47 seconds\n",
      "SP3 interpolation is done in 4.21 seconds\n",
      "Saved 106452 individual observations in C:\\Users\\varga\\Box\\Data\\RinexZipFiles\\ACOPAN\\2025-05-25\\processed\\ACOPAN_raw_20250519151800.nc\n",
      "C:\\Users\\varga\\Box\\Data\\RinexZipFiles\\ACOPAN\\ACOPAN_nc\\ACOPAN_raw_20250520151801.25O exists | Reading...\n",
      "Observation file  C:\\Users\\varga\\Box\\Data\\RinexZipFiles\\ACOPAN\\ACOPAN_nc\\ACOPAN_raw_20250520151801.25O  is read in 24.88 seconds.\n",
      "Processing 105594 individual observations\n",
      "Calculating Azimuth and Elevation\n",
      "C:\\Users\\varga\\AppData\\Local\\Temp\\tmpftmbceon\\GFZ0MGXRAP_20251400000_01D_05M_ORB.SP3 exists | Reading...\n",
      "C:\\Users\\varga\\AppData\\Local\\Temp\\tmpftmbceon\\GFZ0MGXRAP_20251400000_01D_05M_ORB.SP3 file is read in 0.49 seconds\n",
      "This file does not exist: C:\\Users\\varga\\AppData\\Local\\Temp\\tmpftmbceon\\GFZ0MGXRAP_20251410000_01D_05M_ORB.SP3\n",
      "Downloading: ftp://gssc.esa.int/gnss/products/2367//GFZ0MGXRAP_20251410000_01D_05M_ORB.SP3.gz"
     ]
    },
    {
     "name": "stderr",
     "output_type": "stream",
     "text": [
      "GFZ0MGXRAP_20251410000_01D_05M_ORB.SP3.gz: 1.04MB [00:03, 335kB/s]                             \n"
     ]
    },
    {
     "name": "stdout",
     "output_type": "stream",
     "text": [
      " | Download completed for ftp://gssc.esa.int/gnss/products/2367//GFZ0MGXRAP_20251410000_01D_05M_ORB.SP3.gz\n",
      "C:\\Users\\varga\\AppData\\Local\\Temp\\tmpftmbceon\\GFZ0MGXRAP_20251410000_01D_05M_ORB.SP3 file is read in 3.99 seconds\n",
      "C:\\Users\\varga\\AppData\\Local\\Temp\\tmpftmbceon\\GFZ0MGXRAP_20251400000_01D_30S_CLK.CLK exists | Reading...\n",
      "C:\\Users\\varga\\AppData\\Local\\Temp\\tmpftmbceon\\GFZ0MGXRAP_20251400000_01D_30S_CLK.CLK file is read in 2.48 seconds\n",
      "This file does not exist: C:\\Users\\varga\\AppData\\Local\\Temp\\tmpftmbceon\\GFZ0MGXRAP_20251410000_01D_30S_CLK.CLK\n",
      "Downloading: GFZ0MGXRAP_20251410000_01D_30S_CLK.CLK.gz"
     ]
    },
    {
     "name": "stderr",
     "output_type": "stream",
     "text": [
      "GFZ0MGXRAP_20251410000_01D_30S_CLK.CLK.gz: 4.75MB [00:03, 1.30MB/s]                            \n"
     ]
    },
    {
     "name": "stdout",
     "output_type": "stream",
     "text": [
      " | Download completed for GFZ0MGXRAP_20251410000_01D_30S_CLK.CLK.gz\n",
      "C:\\Users\\varga\\AppData\\Local\\Temp\\tmpftmbceon\\GFZ0MGXRAP_20251410000_01D_30S_CLK.CLK file is read in 3.59 seconds\n",
      "SP3 interpolation is done in 18.21 seconds\n",
      "Saved 105594 individual observations in C:\\Users\\varga\\Box\\Data\\RinexZipFiles\\ACOPAN\\2025-05-25\\processed\\ACOPAN_raw_20250520151801.nc\n",
      "C:\\Users\\varga\\Box\\Data\\RinexZipFiles\\ACOPAN\\ACOPAN_nc\\ACOPAN_raw_20250521151802.25O exists | Reading...\n",
      "Observation file  C:\\Users\\varga\\Box\\Data\\RinexZipFiles\\ACOPAN\\ACOPAN_nc\\ACOPAN_raw_20250521151802.25O  is read in 3.37 seconds.\n",
      "Processing 105057 individual observations\n",
      "Calculating Azimuth and Elevation\n",
      "C:\\Users\\varga\\AppData\\Local\\Temp\\tmpftmbceon\\GFZ0MGXRAP_20251410000_01D_05M_ORB.SP3 exists | Reading...\n",
      "C:\\Users\\varga\\AppData\\Local\\Temp\\tmpftmbceon\\GFZ0MGXRAP_20251410000_01D_05M_ORB.SP3 file is read in 1.80 seconds\n",
      "This file does not exist: C:\\Users\\varga\\AppData\\Local\\Temp\\tmpftmbceon\\GFZ0MGXRAP_20251420000_01D_05M_ORB.SP3\n",
      "Downloading: ftp://gssc.esa.int/gnss/products/2367//GFZ0MGXRAP_20251420000_01D_05M_ORB.SP3.gz"
     ]
    },
    {
     "name": "stderr",
     "output_type": "stream",
     "text": [
      "GFZ0MGXRAP_20251420000_01D_05M_ORB.SP3.gz: 1.03MB [00:03, 329kB/s]                             \n"
     ]
    },
    {
     "name": "stdout",
     "output_type": "stream",
     "text": [
      " | Download completed for ftp://gssc.esa.int/gnss/products/2367//GFZ0MGXRAP_20251420000_01D_05M_ORB.SP3.gz\n",
      "C:\\Users\\varga\\AppData\\Local\\Temp\\tmpftmbceon\\GFZ0MGXRAP_20251420000_01D_05M_ORB.SP3 file is read in 8.31 seconds\n",
      "C:\\Users\\varga\\AppData\\Local\\Temp\\tmpftmbceon\\GFZ0MGXRAP_20251410000_01D_30S_CLK.CLK exists | Reading...\n",
      "C:\\Users\\varga\\AppData\\Local\\Temp\\tmpftmbceon\\GFZ0MGXRAP_20251410000_01D_30S_CLK.CLK file is read in 13.48 seconds\n",
      "This file does not exist: C:\\Users\\varga\\AppData\\Local\\Temp\\tmpftmbceon\\GFZ0MGXRAP_20251420000_01D_30S_CLK.CLK\n",
      "Downloading: GFZ0MGXRAP_20251420000_01D_30S_CLK.CLK.gz"
     ]
    },
    {
     "name": "stderr",
     "output_type": "stream",
     "text": [
      "GFZ0MGXRAP_20251420000_01D_30S_CLK.CLK.gz: 4.74MB [00:03, 1.34MB/s]                            \n"
     ]
    },
    {
     "name": "stdout",
     "output_type": "stream",
     "text": [
      " | Download completed for GFZ0MGXRAP_20251420000_01D_30S_CLK.CLK.gz\n",
      "C:\\Users\\varga\\AppData\\Local\\Temp\\tmpftmbceon\\GFZ0MGXRAP_20251420000_01D_30S_CLK.CLK file is read in 2.78 seconds\n",
      "SP3 interpolation is done in 4.12 seconds\n",
      "Saved 105057 individual observations in C:\\Users\\varga\\Box\\Data\\RinexZipFiles\\ACOPAN\\2025-05-25\\processed\\ACOPAN_raw_20250521151802.nc\n",
      "C:\\Users\\varga\\Box\\Data\\RinexZipFiles\\ACOPAN\\ACOPAN_nc\\ACOPAN_raw_20250522151802.25O exists | Reading...\n",
      "Observation file  C:\\Users\\varga\\Box\\Data\\RinexZipFiles\\ACOPAN\\ACOPAN_nc\\ACOPAN_raw_20250522151802.25O  is read in 25.14 seconds.\n",
      "Processing 106834 individual observations\n",
      "Calculating Azimuth and Elevation\n",
      "C:\\Users\\varga\\AppData\\Local\\Temp\\tmpftmbceon\\GFZ0MGXRAP_20251420000_01D_05M_ORB.SP3 exists | Reading...\n",
      "C:\\Users\\varga\\AppData\\Local\\Temp\\tmpftmbceon\\GFZ0MGXRAP_20251420000_01D_05M_ORB.SP3 file is read in 0.55 seconds\n",
      "This file does not exist: C:\\Users\\varga\\AppData\\Local\\Temp\\tmpftmbceon\\GFZ0MGXRAP_20251430000_01D_05M_ORB.SP3\n",
      "Downloading: ftp://gssc.esa.int/gnss/products/2367//GFZ0MGXRAP_20251430000_01D_05M_ORB.SP3.gz"
     ]
    },
    {
     "name": "stderr",
     "output_type": "stream",
     "text": [
      "GFZ0MGXRAP_20251430000_01D_05M_ORB.SP3.gz: 1.05MB [00:03, 335kB/s]                             \n"
     ]
    },
    {
     "name": "stdout",
     "output_type": "stream",
     "text": [
      " | Download completed for ftp://gssc.esa.int/gnss/products/2367//GFZ0MGXRAP_20251430000_01D_05M_ORB.SP3.gz\n",
      "C:\\Users\\varga\\AppData\\Local\\Temp\\tmpftmbceon\\GFZ0MGXRAP_20251430000_01D_05M_ORB.SP3 file is read in 4.05 seconds\n",
      "C:\\Users\\varga\\AppData\\Local\\Temp\\tmpftmbceon\\GFZ0MGXRAP_20251420000_01D_30S_CLK.CLK exists | Reading...\n",
      "C:\\Users\\varga\\AppData\\Local\\Temp\\tmpftmbceon\\GFZ0MGXRAP_20251420000_01D_30S_CLK.CLK file is read in 2.52 seconds\n",
      "This file does not exist: C:\\Users\\varga\\AppData\\Local\\Temp\\tmpftmbceon\\GFZ0MGXRAP_20251430000_01D_30S_CLK.CLK\n",
      "Downloading: GFZ0MGXRAP_20251430000_01D_30S_CLK.CLK.gz"
     ]
    },
    {
     "name": "stderr",
     "output_type": "stream",
     "text": [
      "GFZ0MGXRAP_20251430000_01D_30S_CLK.CLK.gz: 4.78MB [00:03, 1.33MB/s]                            \n"
     ]
    },
    {
     "name": "stdout",
     "output_type": "stream",
     "text": [
      " | Download completed for GFZ0MGXRAP_20251430000_01D_30S_CLK.CLK.gz\n",
      "C:\\Users\\varga\\AppData\\Local\\Temp\\tmpftmbceon\\GFZ0MGXRAP_20251430000_01D_30S_CLK.CLK file is read in 3.61 seconds\n",
      "SP3 interpolation is done in 19.44 seconds\n",
      "Saved 106834 individual observations in C:\\Users\\varga\\Box\\Data\\RinexZipFiles\\ACOPAN\\2025-05-25\\processed\\ACOPAN_raw_20250522151802.nc\n",
      "C:\\Users\\varga\\Box\\Data\\RinexZipFiles\\ACOPAN\\ACOPAN_nc\\ACOPAN_raw_20250523151803.25O exists | Reading...\n",
      "Observation file  C:\\Users\\varga\\Box\\Data\\RinexZipFiles\\ACOPAN\\ACOPAN_nc\\ACOPAN_raw_20250523151803.25O  is read in 3.27 seconds.\n",
      "Processing 105864 individual observations\n",
      "Calculating Azimuth and Elevation\n",
      "C:\\Users\\varga\\AppData\\Local\\Temp\\tmpftmbceon\\GFZ0MGXRAP_20251430000_01D_05M_ORB.SP3 exists | Reading...\n",
      "C:\\Users\\varga\\AppData\\Local\\Temp\\tmpftmbceon\\GFZ0MGXRAP_20251430000_01D_05M_ORB.SP3 file is read in 0.63 seconds\n",
      "This file does not exist: C:\\Users\\varga\\AppData\\Local\\Temp\\tmpftmbceon\\GFZ0MGXRAP_20251440000_01D_05M_ORB.SP3\n",
      "Downloading: ftp://gssc.esa.int/gnss/products/2367//GFZ0MGXRAP_20251440000_01D_05M_ORB.SP3.gz"
     ]
    },
    {
     "name": "stderr",
     "output_type": "stream",
     "text": [
      "GFZ0MGXRAP_20251440000_01D_05M_ORB.SP3.gz: 1.05MB [00:03, 339kB/s]                             \n"
     ]
    },
    {
     "name": "stdout",
     "output_type": "stream",
     "text": [
      " | Download completed for ftp://gssc.esa.int/gnss/products/2367//GFZ0MGXRAP_20251440000_01D_05M_ORB.SP3.gz\n",
      "C:\\Users\\varga\\AppData\\Local\\Temp\\tmpftmbceon\\GFZ0MGXRAP_20251440000_01D_05M_ORB.SP3 file is read in 4.34 seconds\n",
      "C:\\Users\\varga\\AppData\\Local\\Temp\\tmpftmbceon\\GFZ0MGXRAP_20251430000_01D_30S_CLK.CLK exists | Reading...\n",
      "C:\\Users\\varga\\AppData\\Local\\Temp\\tmpftmbceon\\GFZ0MGXRAP_20251430000_01D_30S_CLK.CLK file is read in 9.51 seconds\n",
      "This file does not exist: C:\\Users\\varga\\AppData\\Local\\Temp\\tmpftmbceon\\GFZ0MGXRAP_20251440000_01D_30S_CLK.CLK\n",
      "Downloading: GFZ0MGXRAP_20251440000_01D_30S_CLK.CLK.gz"
     ]
    },
    {
     "name": "stderr",
     "output_type": "stream",
     "text": [
      "GFZ0MGXRAP_20251440000_01D_30S_CLK.CLK.gz: 4.80MB [00:04, 1.23MB/s]                            \n"
     ]
    },
    {
     "name": "stdout",
     "output_type": "stream",
     "text": [
      " | Download completed for GFZ0MGXRAP_20251440000_01D_30S_CLK.CLK.gz\n",
      "C:\\Users\\varga\\AppData\\Local\\Temp\\tmpftmbceon\\GFZ0MGXRAP_20251440000_01D_30S_CLK.CLK file is read in 11.64 seconds\n",
      "SP3 interpolation is done in 5.49 seconds\n",
      "Saved 105864 individual observations in C:\\Users\\varga\\Box\\Data\\RinexZipFiles\\ACOPAN\\2025-05-25\\processed\\ACOPAN_raw_20250523151803.nc\n",
      "C:\\Users\\varga\\Box\\Data\\RinexZipFiles\\ACOPAN\\ACOPAN_nc\\ACOPAN_raw_20250524151803.25O exists | Reading...\n",
      "Observation file  C:\\Users\\varga\\Box\\Data\\RinexZipFiles\\ACOPAN\\ACOPAN_nc\\ACOPAN_raw_20250524151803.25O  is read in 3.85 seconds.\n",
      "Processing 103112 individual observations\n",
      "Calculating Azimuth and Elevation\n",
      "C:\\Users\\varga\\AppData\\Local\\Temp\\tmpftmbceon\\GFZ0MGXRAP_20251440000_01D_05M_ORB.SP3 exists | Reading...\n",
      "C:\\Users\\varga\\AppData\\Local\\Temp\\tmpftmbceon\\GFZ0MGXRAP_20251440000_01D_05M_ORB.SP3 file is read in 4.81 seconds\n",
      "This file does not exist: C:\\Users\\varga\\AppData\\Local\\Temp\\tmpftmbceon\\GFZ0MGXRAP_20251450000_01D_05M_ORB.SP3\n",
      "Downloading: ftp://gssc.esa.int/gnss/products/2368//GFZ0MGXRAP_20251450000_01D_05M_ORB.SP3.gz"
     ]
    },
    {
     "name": "stderr",
     "output_type": "stream",
     "text": [
      "GFZ0MGXRAP_20251450000_01D_05M_ORB.SP3.gz: 1.05MB [00:03, 331kB/s]                             \n"
     ]
    },
    {
     "name": "stdout",
     "output_type": "stream",
     "text": [
      " | Download completed for ftp://gssc.esa.int/gnss/products/2368//GFZ0MGXRAP_20251450000_01D_05M_ORB.SP3.gz\n",
      "C:\\Users\\varga\\AppData\\Local\\Temp\\tmpftmbceon\\GFZ0MGXRAP_20251450000_01D_05M_ORB.SP3 file is read in 8.87 seconds\n",
      "C:\\Users\\varga\\AppData\\Local\\Temp\\tmpftmbceon\\GFZ0MGXRAP_20251440000_01D_30S_CLK.CLK exists | Reading...\n",
      "C:\\Users\\varga\\AppData\\Local\\Temp\\tmpftmbceon\\GFZ0MGXRAP_20251440000_01D_30S_CLK.CLK file is read in 15.49 seconds\n",
      "This file does not exist: C:\\Users\\varga\\AppData\\Local\\Temp\\tmpftmbceon\\GFZ0MGXRAP_20251450000_01D_30S_CLK.CLK\n",
      "Downloading: GFZ0MGXRAP_20251450000_01D_30S_CLK.CLK.gz"
     ]
    },
    {
     "name": "stderr",
     "output_type": "stream",
     "text": [
      "GFZ0MGXRAP_20251450000_01D_30S_CLK.CLK.gz: 4.80MB [00:03, 1.31MB/s]                            \n"
     ]
    },
    {
     "name": "stdout",
     "output_type": "stream",
     "text": [
      " | Download completed for GFZ0MGXRAP_20251450000_01D_30S_CLK.CLK.gz\n",
      "C:\\Users\\varga\\AppData\\Local\\Temp\\tmpftmbceon\\GFZ0MGXRAP_20251450000_01D_30S_CLK.CLK file is read in 2.27 seconds\n",
      "SP3 interpolation is done in 3.77 seconds\n",
      "Saved 103112 individual observations in C:\\Users\\varga\\Box\\Data\\RinexZipFiles\\ACOPAN\\2025-05-25\\processed\\ACOPAN_raw_20250524151803.nc\n",
      "C:\\Users\\varga\\Box\\Data\\RinexZipFiles\\ACOPAN\\ACOPAN_nc\\ACOPAN_raw_20250525151804.25O exists | Reading...\n",
      "Observation file  C:\\Users\\varga\\Box\\Data\\RinexZipFiles\\ACOPAN\\ACOPAN_nc\\ACOPAN_raw_20250525151804.25O  is read in 0.72 seconds.\n",
      "Processing 12687 individual observations\n",
      "Calculating Azimuth and Elevation\n",
      "C:\\Users\\varga\\AppData\\Local\\Temp\\tmpftmbceon\\GFZ0MGXRAP_20251450000_01D_05M_ORB.SP3 exists | Reading...\n",
      "C:\\Users\\varga\\AppData\\Local\\Temp\\tmpftmbceon\\GFZ0MGXRAP_20251450000_01D_05M_ORB.SP3 file is read in 0.83 seconds\n",
      "C:\\Users\\varga\\AppData\\Local\\Temp\\tmpftmbceon\\GFZ0MGXRAP_20251450000_01D_30S_CLK.CLK exists | Reading...\n",
      "C:\\Users\\varga\\AppData\\Local\\Temp\\tmpftmbceon\\GFZ0MGXRAP_20251450000_01D_30S_CLK.CLK file is read in 18.56 seconds\n",
      "SP3 interpolation is done in 15.35 seconds\n",
      "Saved 12687 individual observations in C:\\Users\\varga\\Box\\Data\\RinexZipFiles\\ACOPAN\\2025-05-25\\processed\\ACOPAN_raw_20250525151804.nc\n",
      "Removed the temporary directory at C:\\Users\\varga\\AppData\\Local\\Temp\\tmpftmbceon\n"
     ]
    },
    {
     "data": {
      "text/plain": [
       "<gnssvod.io.io.Observation at 0x1fdf03f6c90>"
      ]
     },
     "execution_count": 22,
     "metadata": {},
     "output_type": "execute_result"
    }
   ],
   "source": [
    "# 1) Input files (RINEX .25O) for ACOPAN\n",
    "pattern = {\n",
    "    'ACOPAN': str(DEST / '*.25O')\n",
    "    # If you had mixed extensions, use: str(DEST / '*.*O')\n",
    "    # If files can be in subfolders, use: str(DEST / '**' / '*.25O')\n",
    "}\n",
    "\n",
    "# 2) Output folder where NetCDF files will be written\n",
    "outdir = Path(r'C:\\Users\\varga\\Box\\Data\\RinexZipFiles\\ACOPAN\\2025-05-25\\processed')\n",
    "outdir.mkdir(parents=True, exist_ok=True)  # create the folder if it does not exist\n",
    "outputdir = {'ACOPAN': str(outdir)}\n",
    "\n",
    "# (Optional) quick sanity check\n",
    "files = glob.glob(pattern['ACOPAN'])\n",
    "print(f'Found {len(files)} .25O files (showing up to 5):', files[:5])\n",
    "if len(files) == 0:\n",
    "    raise FileNotFoundError(\"No .25O files found in DEST folder. Check DEST and file existence.\")\n",
    "\n",
    "# 3) Variables to keep (SNR)\n",
    "keepvars = ['S?', 'S??']\n",
    "\n",
    "# 4) Preprocessing\n",
    "result = gv.preprocess(\n",
    "    pattern,\n",
    "    interval='15s',\n",
    "    keepvars=keepvars,\n",
    "    outputdir=outputdir,\n",
    "    outputresult=True  # also return result in memory\n",
    ")\n",
    "\n",
    "# 5) Safe extraction of the first processed dataset from ACOPAN (xarray.Dataset)\n",
    "acopan_res = result.get('ACOPAN', [])\n",
    "if isinstance(acopan_res, list):\n",
    "    if not acopan_res:\n",
    "        raise ValueError(\"No datasets produced for 'ACOPAN'. \"\n",
    "                         \"Check the pattern and/or keepvars.\")\n",
    "    obs = acopan_res[0]\n",
    "elif isinstance(acopan_res, xr.Dataset):\n",
    "    obs = acopan_res\n",
    "else:\n",
    "    raise TypeError(f\"Unexpected return type for 'ACOPAN': {type(acopan_res)}\")\n",
    "\n",
    "obs\n"
   ]
  },
  {
   "cell_type": "code",
   "execution_count": 17,
   "id": "d6149e01",
   "metadata": {},
   "outputs": [
    {
     "data": {
      "text/plain": [
       "datetime.date(2025, 4, 21)"
      ]
     },
     "execution_count": 17,
     "metadata": {},
     "output_type": "execute_result"
    }
   ],
   "source": [
    "obs = result['MANCHI'][0]\n",
    "obs.epoch"
   ]
  },
  {
   "cell_type": "code",
   "execution_count": 20,
   "id": "613c64f9",
   "metadata": {},
   "outputs": [
    {
     "data": {
      "application/vnd.microsoft.datawrangler.viewer.v0+json": {
       "columns": [
        {
         "name": "('Epoch', 'SV')",
         "rawType": "object",
         "type": "unknown"
        },
        {
         "name": "S1C",
         "rawType": "float64",
         "type": "float"
        },
        {
         "name": "S1X",
         "rawType": "float64",
         "type": "float"
        },
        {
         "name": "S2C",
         "rawType": "float64",
         "type": "float"
        },
        {
         "name": "S2I",
         "rawType": "float64",
         "type": "float"
        },
        {
         "name": "S2X",
         "rawType": "float64",
         "type": "float"
        },
        {
         "name": "S7I",
         "rawType": "float64",
         "type": "float"
        },
        {
         "name": "S7X",
         "rawType": "float64",
         "type": "float"
        },
        {
         "name": "Azimuth",
         "rawType": "float64",
         "type": "float"
        },
        {
         "name": "Elevation",
         "rawType": "float64",
         "type": "float"
        }
       ],
       "ref": "d82e990f-e908-4812-bec8-9db65d9445ad",
       "rows": [
        [
         "(Timestamp('2025-04-20 22:33:30'), 'C23')",
         null,
         null,
         null,
         "20.0",
         null,
         null,
         null,
         "166.65044178323606",
         "10.878548461069066"
        ],
        [
         "(Timestamp('2025-04-20 22:33:30'), 'C27')",
         null,
         null,
         null,
         "48.0",
         null,
         null,
         null,
         "-18.417633209883544",
         "39.07635974920933"
        ],
        [
         "(Timestamp('2025-04-20 22:33:30'), 'C28')",
         null,
         null,
         null,
         "40.0",
         null,
         null,
         null,
         "51.844025668463814",
         "63.3428413382658"
        ],
        [
         "(Timestamp('2025-04-20 22:33:30'), 'C32')",
         null,
         null,
         null,
         "36.0",
         null,
         null,
         null,
         "-119.40387277634046",
         "45.99433444299289"
        ],
        [
         "(Timestamp('2025-04-20 22:33:30'), 'C33')",
         null,
         null,
         null,
         "17.0",
         null,
         null,
         null,
         "30.431648560431697",
         "18.276291603759883"
        ],
        [
         "(Timestamp('2025-04-20 22:33:30'), 'C37')",
         null,
         null,
         null,
         "30.0",
         null,
         null,
         null,
         "-145.26141128793353",
         "10.158855540711114"
        ],
        [
         "(Timestamp('2025-04-20 22:33:30'), 'E03')",
         null,
         "27.0",
         null,
         null,
         null,
         null,
         null,
         "43.613241885917425",
         "22.184728603611802"
        ],
        [
         "(Timestamp('2025-04-20 22:33:30'), 'E07')",
         null,
         "38.0",
         null,
         null,
         null,
         null,
         "28.0",
         "-166.9579246423767",
         "43.59205949663048"
        ],
        [
         "(Timestamp('2025-04-20 22:33:30'), 'E08')",
         null,
         "32.0",
         null,
         null,
         null,
         null,
         "30.0",
         "87.77871679759593",
         "67.07749425579064"
        ],
        [
         "(Timestamp('2025-04-20 22:33:30'), 'E13')",
         null,
         "33.0",
         null,
         null,
         null,
         null,
         "34.0",
         "-17.31230013284053",
         "28.885849171428756"
        ],
        [
         "(Timestamp('2025-04-20 22:33:30'), 'E15')",
         null,
         "26.0",
         null,
         null,
         null,
         null,
         null,
         "45.616910994216276",
         "34.14093773598233"
        ],
        [
         "(Timestamp('2025-04-20 22:33:30'), 'E21')",
         null,
         "34.0",
         null,
         null,
         null,
         null,
         "28.0",
         "-78.93757623649175",
         "20.29020453940013"
        ],
        [
         "(Timestamp('2025-04-20 22:33:30'), 'E27')",
         null,
         "43.0",
         null,
         null,
         null,
         null,
         "32.0",
         "-136.18042834144936",
         "33.96904492892681"
        ],
        [
         "(Timestamp('2025-04-20 22:33:30'), 'G05')",
         "32.0",
         null,
         null,
         null,
         "25.0",
         null,
         null,
         "11.53632800456309",
         "32.99514501064508"
        ],
        [
         "(Timestamp('2025-04-20 22:33:30'), 'G11')",
         "34.0",
         null,
         null,
         null,
         null,
         null,
         null,
         "81.75650343915245",
         "19.67690562236792"
        ],
        [
         "(Timestamp('2025-04-20 22:33:30'), 'G12')",
         null,
         null,
         null,
         null,
         "29.0",
         null,
         null,
         "-163.2556051444812",
         "25.556859318812993"
        ],
        [
         "(Timestamp('2025-04-20 22:33:30'), 'G13')",
         "32.0",
         null,
         null,
         null,
         null,
         null,
         null,
         "64.52620587505515",
         "51.53059944379777"
        ],
        [
         "(Timestamp('2025-04-20 22:33:30'), 'G15')",
         "47.0",
         null,
         null,
         null,
         "39.0",
         null,
         null,
         "-165.35361066005203",
         "80.2976928524127"
        ],
        [
         "(Timestamp('2025-04-20 22:33:30'), 'G18')",
         "34.0",
         null,
         null,
         null,
         "32.0",
         null,
         null,
         "-43.76401055085688",
         "9.04811600089093"
        ],
        [
         "(Timestamp('2025-04-20 22:33:30'), 'G20')",
         "26.0",
         null,
         null,
         null,
         null,
         null,
         null,
         "42.048611618540434",
         "11.729655691393477"
        ],
        [
         "(Timestamp('2025-04-20 22:33:30'), 'G23')",
         "35.0",
         null,
         null,
         null,
         "27.0",
         null,
         null,
         "-92.58459476538243",
         "23.742189750756285"
        ],
        [
         "(Timestamp('2025-04-20 22:33:30'), 'G24')",
         "36.0",
         null,
         null,
         null,
         "21.0",
         null,
         null,
         "170.41706303353993",
         "20.500204283468616"
        ],
        [
         "(Timestamp('2025-04-20 22:33:30'), 'G25')",
         "37.0",
         null,
         null,
         null,
         "23.0",
         null,
         null,
         "-124.44053529147956",
         "26.595402500074684"
        ],
        [
         "(Timestamp('2025-04-20 22:33:30'), 'G29')",
         "45.0",
         null,
         null,
         null,
         "36.0",
         null,
         null,
         "-33.4905757931177",
         "50.032299167171125"
        ],
        [
         "(Timestamp('2025-04-20 22:33:30'), 'R01')",
         "34.0",
         null,
         null,
         null,
         null,
         null,
         null,
         null,
         null
        ],
        [
         "(Timestamp('2025-04-20 22:33:30'), 'R07')",
         "45.0",
         null,
         "34.0",
         null,
         null,
         null,
         null,
         "15.39204305011206",
         "44.265992787610976"
        ],
        [
         "(Timestamp('2025-04-20 22:33:30'), 'R08')",
         "29.0",
         null,
         "31.0",
         null,
         null,
         null,
         null,
         "-106.80261393386242",
         "74.28124267729615"
        ],
        [
         "(Timestamp('2025-04-20 22:33:30'), 'R12')",
         "29.0",
         null,
         "8.0",
         null,
         null,
         null,
         null,
         "-117.98268576349419",
         "4.8532231561975765"
        ],
        [
         "(Timestamp('2025-04-20 22:33:30'), 'R21')",
         "33.0",
         null,
         "34.0",
         null,
         null,
         null,
         null,
         "95.46928489624936",
         "33.497089000614835"
        ],
        [
         "(Timestamp('2025-04-20 22:33:30'), 'R22')",
         "36.0",
         null,
         "26.0",
         null,
         null,
         null,
         null,
         "19.30794487992171",
         "40.43451558518409"
        ],
        [
         "(Timestamp('2025-04-20 22:33:30'), 'R23')",
         "37.0",
         null,
         null,
         null,
         null,
         null,
         null,
         null,
         null
        ],
        [
         "(Timestamp('2025-04-20 22:34:00'), 'C23')",
         null,
         null,
         null,
         "25.0",
         null,
         null,
         null,
         "166.47544039289093",
         "10.868870092018025"
        ],
        [
         "(Timestamp('2025-04-20 22:34:00'), 'C27')",
         null,
         null,
         null,
         "48.0",
         null,
         null,
         null,
         "-18.336943581172772",
         "39.26052498754726"
        ],
        [
         "(Timestamp('2025-04-20 22:34:00'), 'C28')",
         null,
         null,
         null,
         "39.0",
         null,
         null,
         null,
         "52.321080361048494",
         "63.43410508092629"
        ],
        [
         "(Timestamp('2025-04-20 22:34:00'), 'C32')",
         null,
         null,
         null,
         "38.0",
         null,
         null,
         null,
         "-119.11703430458019",
         "46.11752287013871"
        ],
        [
         "(Timestamp('2025-04-20 22:34:00'), 'C37')",
         null,
         null,
         null,
         "17.0",
         null,
         null,
         null,
         "-145.44345578433808",
         "10.131398474467595"
        ],
        [
         "(Timestamp('2025-04-20 22:34:00'), 'E07')",
         null,
         "30.0",
         null,
         null,
         null,
         null,
         "30.0",
         "-166.9259976172437",
         "43.786942220830205"
        ],
        [
         "(Timestamp('2025-04-20 22:34:00'), 'E08')",
         null,
         "38.0",
         null,
         null,
         null,
         null,
         "31.0",
         "87.2179974745614",
         "67.08154841015306"
        ],
        [
         "(Timestamp('2025-04-20 22:34:00'), 'E13')",
         null,
         "33.0",
         null,
         null,
         null,
         null,
         "33.0",
         "-17.140859088971705",
         "28.954808899253386"
        ],
        [
         "(Timestamp('2025-04-20 22:34:00'), 'E15')",
         null,
         "29.0",
         null,
         null,
         null,
         null,
         null,
         "45.84070945536406",
         "34.169455719253726"
        ],
        [
         "(Timestamp('2025-04-20 22:34:00'), 'E21')",
         null,
         "36.0",
         null,
         null,
         null,
         null,
         "29.0",
         "-79.14032215613457",
         "20.28381059874278"
        ],
        [
         "(Timestamp('2025-04-20 22:34:00'), 'E27')",
         null,
         "44.0",
         null,
         null,
         null,
         null,
         "31.0",
         "-136.36677924155114",
         "33.85205696718622"
        ],
        [
         "(Timestamp('2025-04-20 22:34:00'), 'G05')",
         "35.0",
         null,
         null,
         null,
         "25.0",
         null,
         null,
         "11.733738341192986",
         "32.85761439005297"
        ],
        [
         "(Timestamp('2025-04-20 22:34:00'), 'G11')",
         "38.0",
         null,
         null,
         null,
         "26.0",
         null,
         null,
         "81.99592010430383",
         "19.632184145907253"
        ],
        [
         "(Timestamp('2025-04-20 22:34:00'), 'G12')",
         "26.0",
         null,
         null,
         null,
         "28.0",
         null,
         null,
         "-163.43222514853414",
         "25.41722318940909"
        ],
        [
         "(Timestamp('2025-04-20 22:34:00'), 'G13')",
         "37.0",
         null,
         null,
         null,
         null,
         null,
         null,
         "64.16059293205096",
         "51.410707333341094"
        ],
        [
         "(Timestamp('2025-04-20 22:34:00'), 'G15')",
         "48.0",
         null,
         null,
         null,
         "38.0",
         null,
         null,
         "-165.13808970674512",
         "80.56431383981993"
        ],
        [
         "(Timestamp('2025-04-20 22:34:00'), 'G18')",
         "33.0",
         null,
         null,
         null,
         "30.0",
         null,
         null,
         "-43.59138740110377",
         "9.146684304211316"
        ],
        [
         "(Timestamp('2025-04-20 22:34:00'), 'G20')",
         "12.0",
         null,
         null,
         null,
         null,
         null,
         null,
         "42.22000357954389",
         "11.626486577478252"
        ],
        [
         "(Timestamp('2025-04-20 22:34:00'), 'G23')",
         "35.0",
         null,
         null,
         null,
         "27.0",
         null,
         null,
         "-92.33486202207223",
         "23.796402870450464"
        ]
       ],
       "shape": {
        "columns": 9,
        "rows": 95433
       }
      },
      "text/html": [
       "<div>\n",
       "<style scoped>\n",
       "    .dataframe tbody tr th:only-of-type {\n",
       "        vertical-align: middle;\n",
       "    }\n",
       "\n",
       "    .dataframe tbody tr th {\n",
       "        vertical-align: top;\n",
       "    }\n",
       "\n",
       "    .dataframe thead th {\n",
       "        text-align: right;\n",
       "    }\n",
       "</style>\n",
       "<table border=\"1\" class=\"dataframe\">\n",
       "  <thead>\n",
       "    <tr style=\"text-align: right;\">\n",
       "      <th></th>\n",
       "      <th></th>\n",
       "      <th>S1C</th>\n",
       "      <th>S1X</th>\n",
       "      <th>S2C</th>\n",
       "      <th>S2I</th>\n",
       "      <th>S2X</th>\n",
       "      <th>S7I</th>\n",
       "      <th>S7X</th>\n",
       "      <th>Azimuth</th>\n",
       "      <th>Elevation</th>\n",
       "    </tr>\n",
       "    <tr>\n",
       "      <th>Epoch</th>\n",
       "      <th>SV</th>\n",
       "      <th></th>\n",
       "      <th></th>\n",
       "      <th></th>\n",
       "      <th></th>\n",
       "      <th></th>\n",
       "      <th></th>\n",
       "      <th></th>\n",
       "      <th></th>\n",
       "      <th></th>\n",
       "    </tr>\n",
       "  </thead>\n",
       "  <tbody>\n",
       "    <tr>\n",
       "      <th rowspan=\"5\" valign=\"top\">2025-04-20 22:33:30</th>\n",
       "      <th>C23</th>\n",
       "      <td>NaN</td>\n",
       "      <td>NaN</td>\n",
       "      <td>NaN</td>\n",
       "      <td>20.0</td>\n",
       "      <td>NaN</td>\n",
       "      <td>NaN</td>\n",
       "      <td>NaN</td>\n",
       "      <td>166.650442</td>\n",
       "      <td>10.878548</td>\n",
       "    </tr>\n",
       "    <tr>\n",
       "      <th>C27</th>\n",
       "      <td>NaN</td>\n",
       "      <td>NaN</td>\n",
       "      <td>NaN</td>\n",
       "      <td>48.0</td>\n",
       "      <td>NaN</td>\n",
       "      <td>NaN</td>\n",
       "      <td>NaN</td>\n",
       "      <td>-18.417633</td>\n",
       "      <td>39.076360</td>\n",
       "    </tr>\n",
       "    <tr>\n",
       "      <th>C28</th>\n",
       "      <td>NaN</td>\n",
       "      <td>NaN</td>\n",
       "      <td>NaN</td>\n",
       "      <td>40.0</td>\n",
       "      <td>NaN</td>\n",
       "      <td>NaN</td>\n",
       "      <td>NaN</td>\n",
       "      <td>51.844026</td>\n",
       "      <td>63.342841</td>\n",
       "    </tr>\n",
       "    <tr>\n",
       "      <th>C32</th>\n",
       "      <td>NaN</td>\n",
       "      <td>NaN</td>\n",
       "      <td>NaN</td>\n",
       "      <td>36.0</td>\n",
       "      <td>NaN</td>\n",
       "      <td>NaN</td>\n",
       "      <td>NaN</td>\n",
       "      <td>-119.403873</td>\n",
       "      <td>45.994334</td>\n",
       "    </tr>\n",
       "    <tr>\n",
       "      <th>C33</th>\n",
       "      <td>NaN</td>\n",
       "      <td>NaN</td>\n",
       "      <td>NaN</td>\n",
       "      <td>17.0</td>\n",
       "      <td>NaN</td>\n",
       "      <td>NaN</td>\n",
       "      <td>NaN</td>\n",
       "      <td>30.431649</td>\n",
       "      <td>18.276292</td>\n",
       "    </tr>\n",
       "    <tr>\n",
       "      <th>...</th>\n",
       "      <th>...</th>\n",
       "      <td>...</td>\n",
       "      <td>...</td>\n",
       "      <td>...</td>\n",
       "      <td>...</td>\n",
       "      <td>...</td>\n",
       "      <td>...</td>\n",
       "      <td>...</td>\n",
       "      <td>...</td>\n",
       "      <td>...</td>\n",
       "    </tr>\n",
       "    <tr>\n",
       "      <th rowspan=\"5\" valign=\"top\">2025-04-21 22:33:00</th>\n",
       "      <th>R08</th>\n",
       "      <td>27.0</td>\n",
       "      <td>NaN</td>\n",
       "      <td>26.0</td>\n",
       "      <td>NaN</td>\n",
       "      <td>NaN</td>\n",
       "      <td>NaN</td>\n",
       "      <td>NaN</td>\n",
       "      <td>16.126631</td>\n",
       "      <td>39.955684</td>\n",
       "    </tr>\n",
       "    <tr>\n",
       "      <th>R12</th>\n",
       "      <td>19.0</td>\n",
       "      <td>NaN</td>\n",
       "      <td>NaN</td>\n",
       "      <td>NaN</td>\n",
       "      <td>NaN</td>\n",
       "      <td>NaN</td>\n",
       "      <td>NaN</td>\n",
       "      <td>-167.267077</td>\n",
       "      <td>3.436013</td>\n",
       "    </tr>\n",
       "    <tr>\n",
       "      <th>R22</th>\n",
       "      <td>42.0</td>\n",
       "      <td>NaN</td>\n",
       "      <td>33.0</td>\n",
       "      <td>NaN</td>\n",
       "      <td>NaN</td>\n",
       "      <td>NaN</td>\n",
       "      <td>NaN</td>\n",
       "      <td>92.813625</td>\n",
       "      <td>34.655140</td>\n",
       "    </tr>\n",
       "    <tr>\n",
       "      <th>R23</th>\n",
       "      <td>33.0</td>\n",
       "      <td>NaN</td>\n",
       "      <td>NaN</td>\n",
       "      <td>NaN</td>\n",
       "      <td>NaN</td>\n",
       "      <td>NaN</td>\n",
       "      <td>NaN</td>\n",
       "      <td>NaN</td>\n",
       "      <td>NaN</td>\n",
       "    </tr>\n",
       "    <tr>\n",
       "      <th>R24</th>\n",
       "      <td>37.0</td>\n",
       "      <td>NaN</td>\n",
       "      <td>29.0</td>\n",
       "      <td>NaN</td>\n",
       "      <td>NaN</td>\n",
       "      <td>NaN</td>\n",
       "      <td>NaN</td>\n",
       "      <td>-23.953310</td>\n",
       "      <td>8.772009</td>\n",
       "    </tr>\n",
       "  </tbody>\n",
       "</table>\n",
       "<p>95433 rows × 9 columns</p>\n",
       "</div>"
      ],
      "text/plain": [
       "                          S1C  S1X   S2C   S2I  S2X  S7I  S7X     Azimuth  \\\n",
       "Epoch               SV                                                      \n",
       "2025-04-20 22:33:30 C23   NaN  NaN   NaN  20.0  NaN  NaN  NaN  166.650442   \n",
       "                    C27   NaN  NaN   NaN  48.0  NaN  NaN  NaN  -18.417633   \n",
       "                    C28   NaN  NaN   NaN  40.0  NaN  NaN  NaN   51.844026   \n",
       "                    C32   NaN  NaN   NaN  36.0  NaN  NaN  NaN -119.403873   \n",
       "                    C33   NaN  NaN   NaN  17.0  NaN  NaN  NaN   30.431649   \n",
       "...                       ...  ...   ...   ...  ...  ...  ...         ...   \n",
       "2025-04-21 22:33:00 R08  27.0  NaN  26.0   NaN  NaN  NaN  NaN   16.126631   \n",
       "                    R12  19.0  NaN   NaN   NaN  NaN  NaN  NaN -167.267077   \n",
       "                    R22  42.0  NaN  33.0   NaN  NaN  NaN  NaN   92.813625   \n",
       "                    R23  33.0  NaN   NaN   NaN  NaN  NaN  NaN         NaN   \n",
       "                    R24  37.0  NaN  29.0   NaN  NaN  NaN  NaN  -23.953310   \n",
       "\n",
       "                         Elevation  \n",
       "Epoch               SV              \n",
       "2025-04-20 22:33:30 C23  10.878548  \n",
       "                    C27  39.076360  \n",
       "                    C28  63.342841  \n",
       "                    C32  45.994334  \n",
       "                    C33  18.276292  \n",
       "...                            ...  \n",
       "2025-04-21 22:33:00 R08  39.955684  \n",
       "                    R12   3.436013  \n",
       "                    R22  34.655140  \n",
       "                    R23        NaN  \n",
       "                    R24   8.772009  \n",
       "\n",
       "[95433 rows x 9 columns]"
      ]
     },
     "execution_count": 20,
     "metadata": {},
     "output_type": "execute_result"
    }
   ],
   "source": [
    "obs.observation"
   ]
  },
  {
   "cell_type": "markdown",
   "id": "499d87f5",
   "metadata": {},
   "source": [
    "## Save NCs"
   ]
  },
  {
   "cell_type": "code",
   "execution_count": 21,
   "id": "d28b8240",
   "metadata": {},
   "outputs": [
    {
     "name": "stdout",
     "output_type": "stream",
     "text": [
      "Created a temporary directory at C:\\Users\\varga\\AppData\\Local\\Temp\\tmparjp82yl\n",
      "Could not find any files matching the pattern C:\\Users\\varga\\Box\\Data\\RinexZipFiles\\MANCHI\\nc\\\\*.nc\n",
      "C:\\Users\\varga\\Box\\Data\\RinexZipFiles\\MANCHI\\Last\\MANCHI_20250420223245\\MANCHI_raw_20250420223245_RINEX_3_03\\MANCHI_raw_20250420223245.25O exists | Reading...\n",
      "Observation file  C:\\Users\\varga\\Box\\Data\\RinexZipFiles\\MANCHI\\Last\\MANCHI_20250420223245\\MANCHI_raw_20250420223245_RINEX_3_03\\MANCHI_raw_20250420223245.25O  is read in 3.66 seconds.\n",
      "Processing 95 433 individual observations\n",
      "Calculating Azimuth and Elevation\n",
      "This file does not exist: C:\\Users\\varga\\AppData\\Local\\Temp\\tmparjp82yl\\GFZ0MGXRAP_20251100000_01D_05M_ORB.SP3\n",
      "Downloading: ftp://gssc.esa.int/gnss/products/2363//GFZ0MGXRAP_20251100000_01D_05M_ORB.SP3.gz"
     ]
    },
    {
     "name": "stderr",
     "output_type": "stream",
     "text": [
      "GFZ0MGXRAP_20251100000_01D_05M_ORB.SP3.gz: 1.05MB [00:03, 340kB/s]                             \n"
     ]
    },
    {
     "name": "stdout",
     "output_type": "stream",
     "text": [
      " | Download completed for ftp://gssc.esa.int/gnss/products/2363//GFZ0MGXRAP_20251100000_01D_05M_ORB.SP3.gz\n",
      "C:\\Users\\varga\\AppData\\Local\\Temp\\tmparjp82yl\\GFZ0MGXRAP_20251100000_01D_05M_ORB.SP3 file is read in 7.27 seconds\n",
      "This file does not exist: C:\\Users\\varga\\AppData\\Local\\Temp\\tmparjp82yl\\GFZ0MGXRAP_20251110000_01D_05M_ORB.SP3\n",
      "Downloading: ftp://gssc.esa.int/gnss/products/2363//GFZ0MGXRAP_20251110000_01D_05M_ORB.SP3.gz"
     ]
    },
    {
     "name": "stderr",
     "output_type": "stream",
     "text": [
      "GFZ0MGXRAP_20251110000_01D_05M_ORB.SP3.gz: 1.04MB [00:03, 330kB/s]                             \n"
     ]
    },
    {
     "name": "stdout",
     "output_type": "stream",
     "text": [
      " | Download completed for ftp://gssc.esa.int/gnss/products/2363//GFZ0MGXRAP_20251110000_01D_05M_ORB.SP3.gz\n",
      "C:\\Users\\varga\\AppData\\Local\\Temp\\tmparjp82yl\\GFZ0MGXRAP_20251110000_01D_05M_ORB.SP3 file is read in 13.72 seconds\n",
      "This file does not exist: C:\\Users\\varga\\AppData\\Local\\Temp\\tmparjp82yl\\GFZ0MGXRAP_20251120000_01D_05M_ORB.SP3\n",
      "Downloading: ftp://gssc.esa.int/gnss/products/2363//GFZ0MGXRAP_20251120000_01D_05M_ORB.SP3.gz"
     ]
    },
    {
     "name": "stderr",
     "output_type": "stream",
     "text": [
      "GFZ0MGXRAP_20251120000_01D_05M_ORB.SP3.gz: 1.04MB [00:10, 101kB/s]                             \n"
     ]
    },
    {
     "name": "stdout",
     "output_type": "stream",
     "text": [
      " | Download completed for ftp://gssc.esa.int/gnss/products/2363//GFZ0MGXRAP_20251120000_01D_05M_ORB.SP3.gz\n",
      "C:\\Users\\varga\\AppData\\Local\\Temp\\tmparjp82yl\\GFZ0MGXRAP_20251120000_01D_05M_ORB.SP3 file is read in 11.57 seconds\n",
      "This file does not exist: C:\\Users\\varga\\AppData\\Local\\Temp\\tmparjp82yl\\GFZ0MGXRAP_20251100000_01D_30S_CLK.CLK\n",
      "Downloading: GFZ0MGXRAP_20251100000_01D_30S_CLK.CLK.gz"
     ]
    },
    {
     "name": "stderr",
     "output_type": "stream",
     "text": [
      "GFZ0MGXRAP_20251100000_01D_30S_CLK.CLK.gz: 4.84MB [00:03, 1.35MB/s]                            \n"
     ]
    },
    {
     "name": "stdout",
     "output_type": "stream",
     "text": [
      " | Download completed for GFZ0MGXRAP_20251100000_01D_30S_CLK.CLK.gz\n",
      "C:\\Users\\varga\\AppData\\Local\\Temp\\tmparjp82yl\\GFZ0MGXRAP_20251100000_01D_30S_CLK.CLK file is read in 4.02 seconds\n",
      "This file does not exist: C:\\Users\\varga\\AppData\\Local\\Temp\\tmparjp82yl\\GFZ0MGXRAP_20251110000_01D_30S_CLK.CLK\n",
      "Downloading: GFZ0MGXRAP_20251110000_01D_30S_CLK.CLK.gz"
     ]
    },
    {
     "name": "stderr",
     "output_type": "stream",
     "text": [
      "GFZ0MGXRAP_20251110000_01D_30S_CLK.CLK.gz: 4.80MB [00:03, 1.30MB/s]                            \n"
     ]
    },
    {
     "name": "stdout",
     "output_type": "stream",
     "text": [
      " | Download completed for GFZ0MGXRAP_20251110000_01D_30S_CLK.CLK.gz\n",
      "C:\\Users\\varga\\AppData\\Local\\Temp\\tmparjp82yl\\GFZ0MGXRAP_20251110000_01D_30S_CLK.CLK file is read in 31.18 seconds\n",
      "This file does not exist: C:\\Users\\varga\\AppData\\Local\\Temp\\tmparjp82yl\\GFZ0MGXRAP_20251120000_01D_30S_CLK.CLK\n",
      "Downloading: GFZ0MGXRAP_20251120000_01D_30S_CLK.CLK.gz"
     ]
    },
    {
     "name": "stderr",
     "output_type": "stream",
     "text": [
      "GFZ0MGXRAP_20251120000_01D_30S_CLK.CLK.gz: 4.80MB [00:04, 1.04MB/s]                            \n"
     ]
    },
    {
     "name": "stdout",
     "output_type": "stream",
     "text": [
      " | Download completed for GFZ0MGXRAP_20251120000_01D_30S_CLK.CLK.gz\n",
      "C:\\Users\\varga\\AppData\\Local\\Temp\\tmparjp82yl\\GFZ0MGXRAP_20251120000_01D_30S_CLK.CLK file is read in 4.97 seconds\n",
      "SP3 interpolation is done in 33.78 seconds\n",
      "Saved 95 433 individual observations in C:\\Users\\varga\\Box\\Data\\RinexZipFiles\\MANCHI\\nc\\MANCHI_raw_20250420223245.nc\n",
      "Removed the temporary directory at C:\\Users\\varga\\AppData\\Local\\Temp\\tmparjp82yl\n"
     ]
    }
   ],
   "source": [
    "\n",
    "pattern = {\n",
    "    'MANCHI': r'C:\\Users\\varga\\Box\\Data\\RinexZipFiles\\MANCHI\\Last\\MANCHI_20250420223245\\MANCHI_raw_20250420223245_RINEX_3_03\\MANCHI_raw_20250420223245.25O'\n",
    "}\n",
    "outputdir = {\n",
    "    'MANCHI': r'C:\\Users\\varga\\Box\\Data\\RinexZipFiles\\MANCHI\\nc\\\\'\n",
    "}\n",
    "result = gv.preprocess(\n",
    "    pattern,\n",
    "    interval='15s',\n",
    "    keepvars=['S?','S??'],   # SNR típicamente\n",
    "    outputdir=outputdir,\n",
    "    outputresult=True,\n",
    "    # approx_position=approx_position\n",
    ")"
   ]
  }
 ],
 "metadata": {
  "kernelspec": {
   "display_name": "Python 3",
   "language": "python",
   "name": "python3"
  },
  "language_info": {
   "codemirror_mode": {
    "name": "ipython",
    "version": 3
   },
   "file_extension": ".py",
   "mimetype": "text/x-python",
   "name": "python",
   "nbconvert_exporter": "python",
   "pygments_lexer": "ipython3",
   "version": "3.11.9"
  }
 },
 "nbformat": 4,
 "nbformat_minor": 5
}
