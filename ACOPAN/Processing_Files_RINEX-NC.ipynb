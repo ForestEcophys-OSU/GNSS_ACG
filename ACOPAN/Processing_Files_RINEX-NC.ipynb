{
 "cells": [
  {
   "cell_type": "markdown",
   "id": "af80e10b",
   "metadata": {},
   "source": [
    "# Processing of Files for the MANCHI Station"
   ]
  },
  {
   "cell_type": "markdown",
   "id": "4836a1ea",
   "metadata": {},
   "source": [
    "Test notebook for data processing"
   ]
  },
  {
   "cell_type": "markdown",
   "id": "245300be",
   "metadata": {},
   "source": [
    "## Libraries"
   ]
  },
  {
   "cell_type": "code",
   "execution_count": 2,
   "id": "cc85df31",
   "metadata": {},
   "outputs": [
    {
     "name": "stdout",
     "output_type": "stream",
     "text": [
      "The autoreload extension is already loaded. To reload it, use:\n",
      "  %reload_ext autoreload\n"
     ]
    }
   ],
   "source": [
    "%load_ext autoreload\n",
    "%autoreload 2\n",
    "import gnssvod as gv\n",
    "import numpy as np\n",
    "import pandas as pd\n",
    "import matplotlib.pyplot as plt\n",
    "import matplotlib.dates as mdates\n",
    "import pdb\n",
    "import importlib\n",
    "import zipfile\n",
    "import os\n",
    "import xarray as xr\n",
    "import glob\n",
    "import shutil\n",
    "from gnssvod.hemistats.hemistats import hemibuild\n",
    "#import georinex as gr\n",
    "#import qgrid as interactive table \n",
    "from matplotlib.collections import PatchCollection\n",
    "import matplotlib.dates as mdates\n",
    "import shutil\n",
    "from matplotlib import rcParams\n",
    "from datetime import datetime, timedelta"
   ]
  },
  {
   "cell_type": "markdown",
   "id": "c632cc43",
   "metadata": {},
   "source": [
    "## Presets"
   ]
  },
  {
   "cell_type": "markdown",
   "id": "6029bdb6",
   "metadata": {},
   "source": [
    "### Time intervals"
   ]
  },
  {
   "cell_type": "code",
   "execution_count": 19,
   "id": "13073921",
   "metadata": {},
   "outputs": [
    {
     "data": {
      "text/plain": [
       "IntervalIndex([[2025-04-25 00:00:00, 2025-04-26 00:00:00),\n",
       "               [2025-04-26 00:00:00, 2025-04-27 00:00:00),\n",
       "               [2025-04-27 00:00:00, 2025-04-28 00:00:00),\n",
       "               [2025-04-28 00:00:00, 2025-04-29 00:00:00),\n",
       "               [2025-04-29 00:00:00, 2025-04-30 00:00:00),\n",
       "               [2025-04-30 00:00:00, 2025-05-01 00:00:00),\n",
       "               [2025-05-01 00:00:00, 2025-05-02 00:00:00),\n",
       "               [2025-05-02 00:00:00, 2025-05-03 00:00:00),\n",
       "               [2025-05-03 00:00:00, 2025-05-04 00:00:00),\n",
       "               [2025-05-04 00:00:00, 2025-05-05 00:00:00)],\n",
       "              dtype='interval[datetime64[ns], left]')"
      ]
     },
     "execution_count": 19,
     "metadata": {},
     "output_type": "execute_result"
    }
   ],
   "source": [
    "# Define the start day\n",
    "startday = pd.to_datetime('25-04-2025', format='%d-%m-%Y')\n",
    "# Generate a range of datetime values\n",
    "timeintervals=pd.interval_range(start=startday, periods=10, freq='D', closed='left')\n",
    "timeintervals"
   ]
  },
  {
   "cell_type": "markdown",
   "id": "276dda6e",
   "metadata": {},
   "source": [
    "## Process Rinex Files"
   ]
  },
  {
   "cell_type": "code",
   "execution_count": 15,
   "id": "1e478121",
   "metadata": {},
   "outputs": [
    {
     "name": "stdout",
     "output_type": "stream",
     "text": [
      "Created a temporary directory at C:\\Users\\varga\\AppData\\Local\\Temp\\tmp5lcdpkra\n",
      "C:\\Users\\varga\\Box\\Data\\RinexZipFiles\\MANCHI\\Last\\MANCHI_20250420223245\\MANCHI_raw_20250420223245_RINEX_3_03\\MANCHI_raw_20250420223245.25O exists | Reading...\n",
      "Observation file  C:\\Users\\varga\\Box\\Data\\RinexZipFiles\\MANCHI\\Last\\MANCHI_20250420223245\\MANCHI_raw_20250420223245_RINEX_3_03\\MANCHI_raw_20250420223245.25O  is read in 7.42 seconds.\n",
      "Processing 95433 individual observations\n",
      "Calculating Azimuth and Elevation\n",
      "This file does not exist: C:\\Users\\varga\\AppData\\Local\\Temp\\tmp5lcdpkra\\GFZ0MGXRAP_20251100000_01D_05M_ORB.SP3\n",
      "Downloading: ftp://gssc.esa.int/gnss/products/2363//GFZ0MGXRAP_20251100000_01D_05M_ORB.SP3.gz"
     ]
    },
    {
     "name": "stderr",
     "output_type": "stream",
     "text": [
      "GFZ0MGXRAP_20251100000_01D_05M_ORB.SP3.gz: 1.05MB [00:03, 317kB/s]                             \n"
     ]
    },
    {
     "name": "stdout",
     "output_type": "stream",
     "text": [
      " | Download completed for ftp://gssc.esa.int/gnss/products/2363//GFZ0MGXRAP_20251100000_01D_05M_ORB.SP3.gz\n",
      "C:\\Users\\varga\\AppData\\Local\\Temp\\tmp5lcdpkra\\GFZ0MGXRAP_20251100000_01D_05M_ORB.SP3 file is read in 5.44 seconds\n",
      "This file does not exist: C:\\Users\\varga\\AppData\\Local\\Temp\\tmp5lcdpkra\\GFZ0MGXRAP_20251110000_01D_05M_ORB.SP3\n",
      "Downloading: ftp://gssc.esa.int/gnss/products/2363//GFZ0MGXRAP_20251110000_01D_05M_ORB.SP3.gz"
     ]
    },
    {
     "name": "stderr",
     "output_type": "stream",
     "text": [
      "GFZ0MGXRAP_20251110000_01D_05M_ORB.SP3.gz: 1.04MB [00:03, 320kB/s]                             \n"
     ]
    },
    {
     "name": "stdout",
     "output_type": "stream",
     "text": [
      " | Download completed for ftp://gssc.esa.int/gnss/products/2363//GFZ0MGXRAP_20251110000_01D_05M_ORB.SP3.gz\n",
      "C:\\Users\\varga\\AppData\\Local\\Temp\\tmp5lcdpkra\\GFZ0MGXRAP_20251110000_01D_05M_ORB.SP3 file is read in 12.57 seconds\n",
      "This file does not exist: C:\\Users\\varga\\AppData\\Local\\Temp\\tmp5lcdpkra\\GFZ0MGXRAP_20251120000_01D_05M_ORB.SP3\n",
      "Downloading: ftp://gssc.esa.int/gnss/products/2363//GFZ0MGXRAP_20251120000_01D_05M_ORB.SP3.gz"
     ]
    },
    {
     "name": "stderr",
     "output_type": "stream",
     "text": [
      "GFZ0MGXRAP_20251120000_01D_05M_ORB.SP3.gz: 1.04MB [00:03, 327kB/s]                             \n"
     ]
    },
    {
     "name": "stdout",
     "output_type": "stream",
     "text": [
      " | Download completed for ftp://gssc.esa.int/gnss/products/2363//GFZ0MGXRAP_20251120000_01D_05M_ORB.SP3.gz\n",
      "C:\\Users\\varga\\AppData\\Local\\Temp\\tmp5lcdpkra\\GFZ0MGXRAP_20251120000_01D_05M_ORB.SP3 file is read in 10.09 seconds\n",
      "This file does not exist: C:\\Users\\varga\\AppData\\Local\\Temp\\tmp5lcdpkra\\GFZ0MGXRAP_20251100000_01D_30S_CLK.CLK\n",
      "Downloading: GFZ0MGXRAP_20251100000_01D_30S_CLK.CLK.gz"
     ]
    },
    {
     "name": "stderr",
     "output_type": "stream",
     "text": [
      "GFZ0MGXRAP_20251100000_01D_30S_CLK.CLK.gz: 4.84MB [00:04, 1.23MB/s]                            \n"
     ]
    },
    {
     "name": "stdout",
     "output_type": "stream",
     "text": [
      " | Download completed for GFZ0MGXRAP_20251100000_01D_30S_CLK.CLK.gz\n",
      "C:\\Users\\varga\\AppData\\Local\\Temp\\tmp5lcdpkra\\GFZ0MGXRAP_20251100000_01D_30S_CLK.CLK file is read in 11.30 seconds\n",
      "This file does not exist: C:\\Users\\varga\\AppData\\Local\\Temp\\tmp5lcdpkra\\GFZ0MGXRAP_20251110000_01D_30S_CLK.CLK\n",
      "Downloading: GFZ0MGXRAP_20251110000_01D_30S_CLK.CLK.gz"
     ]
    },
    {
     "name": "stderr",
     "output_type": "stream",
     "text": [
      "GFZ0MGXRAP_20251110000_01D_30S_CLK.CLK.gz: 4.80MB [00:04, 1.09MB/s]                            \n"
     ]
    },
    {
     "name": "stdout",
     "output_type": "stream",
     "text": [
      " | Download completed for GFZ0MGXRAP_20251110000_01D_30S_CLK.CLK.gz\n",
      "C:\\Users\\varga\\AppData\\Local\\Temp\\tmp5lcdpkra\\GFZ0MGXRAP_20251110000_01D_30S_CLK.CLK file is read in 31.23 seconds\n",
      "This file does not exist: C:\\Users\\varga\\AppData\\Local\\Temp\\tmp5lcdpkra\\GFZ0MGXRAP_20251120000_01D_30S_CLK.CLK\n",
      "Downloading: GFZ0MGXRAP_20251120000_01D_30S_CLK.CLK.gz"
     ]
    },
    {
     "name": "stderr",
     "output_type": "stream",
     "text": [
      "GFZ0MGXRAP_20251120000_01D_30S_CLK.CLK.gz: 4.80MB [00:03, 1.30MB/s]                            \n"
     ]
    },
    {
     "name": "stdout",
     "output_type": "stream",
     "text": [
      " | Download completed for GFZ0MGXRAP_20251120000_01D_30S_CLK.CLK.gz\n",
      "C:\\Users\\varga\\AppData\\Local\\Temp\\tmp5lcdpkra\\GFZ0MGXRAP_20251120000_01D_30S_CLK.CLK file is read in 12.30 seconds\n",
      "SP3 interpolation is done in 48.78 seconds\n",
      "Removed the temporary directory at C:\\Users\\varga\\AppData\\Local\\Temp\\tmp5lcdpkra\n"
     ]
    },
    {
     "data": {
      "text/plain": [
       "<gnssvod.io.io.Observation at 0x177cb77b610>"
      ]
     },
     "execution_count": 15,
     "metadata": {},
     "output_type": "execute_result"
    }
   ],
   "source": [
    "import gnssvod as gv\n",
    "\n",
    "pattern = {\n",
    "    'MANCHI': r'C:\\Users\\varga\\Box\\Data\\RinexZipFiles\\MANCHI\\Last\\MANCHI_20250420223245\\MANCHI_raw_20250420223245_RINEX_3_03\\MANCHI_raw_20250420223245.25O'\n",
    "}\n",
    "\n",
    "result = gv.preprocess(pattern, interval='15s', keepvars=['S?','S??'], \n",
    "                       outputresult=True)\n",
    "\n",
    "obs = result['MANCHI'][0]\n",
    "obs\n"
   ]
  },
  {
   "cell_type": "code",
   "execution_count": 17,
   "id": "d6149e01",
   "metadata": {},
   "outputs": [
    {
     "data": {
      "text/plain": [
       "datetime.date(2025, 4, 21)"
      ]
     },
     "execution_count": 17,
     "metadata": {},
     "output_type": "execute_result"
    }
   ],
   "source": [
    "obs = result['MANCHI'][0]\n",
    "obs.epoch"
   ]
  },
  {
   "cell_type": "code",
   "execution_count": 20,
   "id": "613c64f9",
   "metadata": {},
   "outputs": [
    {
     "data": {
      "application/vnd.microsoft.datawrangler.viewer.v0+json": {
       "columns": [
        {
         "name": "('Epoch', 'SV')",
         "rawType": "object",
         "type": "unknown"
        },
        {
         "name": "S1C",
         "rawType": "float64",
         "type": "float"
        },
        {
         "name": "S1X",
         "rawType": "float64",
         "type": "float"
        },
        {
         "name": "S2C",
         "rawType": "float64",
         "type": "float"
        },
        {
         "name": "S2I",
         "rawType": "float64",
         "type": "float"
        },
        {
         "name": "S2X",
         "rawType": "float64",
         "type": "float"
        },
        {
         "name": "S7I",
         "rawType": "float64",
         "type": "float"
        },
        {
         "name": "S7X",
         "rawType": "float64",
         "type": "float"
        },
        {
         "name": "Azimuth",
         "rawType": "float64",
         "type": "float"
        },
        {
         "name": "Elevation",
         "rawType": "float64",
         "type": "float"
        }
       ],
       "ref": "d82e990f-e908-4812-bec8-9db65d9445ad",
       "rows": [
        [
         "(Timestamp('2025-04-20 22:33:30'), 'C23')",
         null,
         null,
         null,
         "20.0",
         null,
         null,
         null,
         "166.65044178323606",
         "10.878548461069066"
        ],
        [
         "(Timestamp('2025-04-20 22:33:30'), 'C27')",
         null,
         null,
         null,
         "48.0",
         null,
         null,
         null,
         "-18.417633209883544",
         "39.07635974920933"
        ],
        [
         "(Timestamp('2025-04-20 22:33:30'), 'C28')",
         null,
         null,
         null,
         "40.0",
         null,
         null,
         null,
         "51.844025668463814",
         "63.3428413382658"
        ],
        [
         "(Timestamp('2025-04-20 22:33:30'), 'C32')",
         null,
         null,
         null,
         "36.0",
         null,
         null,
         null,
         "-119.40387277634046",
         "45.99433444299289"
        ],
        [
         "(Timestamp('2025-04-20 22:33:30'), 'C33')",
         null,
         null,
         null,
         "17.0",
         null,
         null,
         null,
         "30.431648560431697",
         "18.276291603759883"
        ],
        [
         "(Timestamp('2025-04-20 22:33:30'), 'C37')",
         null,
         null,
         null,
         "30.0",
         null,
         null,
         null,
         "-145.26141128793353",
         "10.158855540711114"
        ],
        [
         "(Timestamp('2025-04-20 22:33:30'), 'E03')",
         null,
         "27.0",
         null,
         null,
         null,
         null,
         null,
         "43.613241885917425",
         "22.184728603611802"
        ],
        [
         "(Timestamp('2025-04-20 22:33:30'), 'E07')",
         null,
         "38.0",
         null,
         null,
         null,
         null,
         "28.0",
         "-166.9579246423767",
         "43.59205949663048"
        ],
        [
         "(Timestamp('2025-04-20 22:33:30'), 'E08')",
         null,
         "32.0",
         null,
         null,
         null,
         null,
         "30.0",
         "87.77871679759593",
         "67.07749425579064"
        ],
        [
         "(Timestamp('2025-04-20 22:33:30'), 'E13')",
         null,
         "33.0",
         null,
         null,
         null,
         null,
         "34.0",
         "-17.31230013284053",
         "28.885849171428756"
        ],
        [
         "(Timestamp('2025-04-20 22:33:30'), 'E15')",
         null,
         "26.0",
         null,
         null,
         null,
         null,
         null,
         "45.616910994216276",
         "34.14093773598233"
        ],
        [
         "(Timestamp('2025-04-20 22:33:30'), 'E21')",
         null,
         "34.0",
         null,
         null,
         null,
         null,
         "28.0",
         "-78.93757623649175",
         "20.29020453940013"
        ],
        [
         "(Timestamp('2025-04-20 22:33:30'), 'E27')",
         null,
         "43.0",
         null,
         null,
         null,
         null,
         "32.0",
         "-136.18042834144936",
         "33.96904492892681"
        ],
        [
         "(Timestamp('2025-04-20 22:33:30'), 'G05')",
         "32.0",
         null,
         null,
         null,
         "25.0",
         null,
         null,
         "11.53632800456309",
         "32.99514501064508"
        ],
        [
         "(Timestamp('2025-04-20 22:33:30'), 'G11')",
         "34.0",
         null,
         null,
         null,
         null,
         null,
         null,
         "81.75650343915245",
         "19.67690562236792"
        ],
        [
         "(Timestamp('2025-04-20 22:33:30'), 'G12')",
         null,
         null,
         null,
         null,
         "29.0",
         null,
         null,
         "-163.2556051444812",
         "25.556859318812993"
        ],
        [
         "(Timestamp('2025-04-20 22:33:30'), 'G13')",
         "32.0",
         null,
         null,
         null,
         null,
         null,
         null,
         "64.52620587505515",
         "51.53059944379777"
        ],
        [
         "(Timestamp('2025-04-20 22:33:30'), 'G15')",
         "47.0",
         null,
         null,
         null,
         "39.0",
         null,
         null,
         "-165.35361066005203",
         "80.2976928524127"
        ],
        [
         "(Timestamp('2025-04-20 22:33:30'), 'G18')",
         "34.0",
         null,
         null,
         null,
         "32.0",
         null,
         null,
         "-43.76401055085688",
         "9.04811600089093"
        ],
        [
         "(Timestamp('2025-04-20 22:33:30'), 'G20')",
         "26.0",
         null,
         null,
         null,
         null,
         null,
         null,
         "42.048611618540434",
         "11.729655691393477"
        ],
        [
         "(Timestamp('2025-04-20 22:33:30'), 'G23')",
         "35.0",
         null,
         null,
         null,
         "27.0",
         null,
         null,
         "-92.58459476538243",
         "23.742189750756285"
        ],
        [
         "(Timestamp('2025-04-20 22:33:30'), 'G24')",
         "36.0",
         null,
         null,
         null,
         "21.0",
         null,
         null,
         "170.41706303353993",
         "20.500204283468616"
        ],
        [
         "(Timestamp('2025-04-20 22:33:30'), 'G25')",
         "37.0",
         null,
         null,
         null,
         "23.0",
         null,
         null,
         "-124.44053529147956",
         "26.595402500074684"
        ],
        [
         "(Timestamp('2025-04-20 22:33:30'), 'G29')",
         "45.0",
         null,
         null,
         null,
         "36.0",
         null,
         null,
         "-33.4905757931177",
         "50.032299167171125"
        ],
        [
         "(Timestamp('2025-04-20 22:33:30'), 'R01')",
         "34.0",
         null,
         null,
         null,
         null,
         null,
         null,
         null,
         null
        ],
        [
         "(Timestamp('2025-04-20 22:33:30'), 'R07')",
         "45.0",
         null,
         "34.0",
         null,
         null,
         null,
         null,
         "15.39204305011206",
         "44.265992787610976"
        ],
        [
         "(Timestamp('2025-04-20 22:33:30'), 'R08')",
         "29.0",
         null,
         "31.0",
         null,
         null,
         null,
         null,
         "-106.80261393386242",
         "74.28124267729615"
        ],
        [
         "(Timestamp('2025-04-20 22:33:30'), 'R12')",
         "29.0",
         null,
         "8.0",
         null,
         null,
         null,
         null,
         "-117.98268576349419",
         "4.8532231561975765"
        ],
        [
         "(Timestamp('2025-04-20 22:33:30'), 'R21')",
         "33.0",
         null,
         "34.0",
         null,
         null,
         null,
         null,
         "95.46928489624936",
         "33.497089000614835"
        ],
        [
         "(Timestamp('2025-04-20 22:33:30'), 'R22')",
         "36.0",
         null,
         "26.0",
         null,
         null,
         null,
         null,
         "19.30794487992171",
         "40.43451558518409"
        ],
        [
         "(Timestamp('2025-04-20 22:33:30'), 'R23')",
         "37.0",
         null,
         null,
         null,
         null,
         null,
         null,
         null,
         null
        ],
        [
         "(Timestamp('2025-04-20 22:34:00'), 'C23')",
         null,
         null,
         null,
         "25.0",
         null,
         null,
         null,
         "166.47544039289093",
         "10.868870092018025"
        ],
        [
         "(Timestamp('2025-04-20 22:34:00'), 'C27')",
         null,
         null,
         null,
         "48.0",
         null,
         null,
         null,
         "-18.336943581172772",
         "39.26052498754726"
        ],
        [
         "(Timestamp('2025-04-20 22:34:00'), 'C28')",
         null,
         null,
         null,
         "39.0",
         null,
         null,
         null,
         "52.321080361048494",
         "63.43410508092629"
        ],
        [
         "(Timestamp('2025-04-20 22:34:00'), 'C32')",
         null,
         null,
         null,
         "38.0",
         null,
         null,
         null,
         "-119.11703430458019",
         "46.11752287013871"
        ],
        [
         "(Timestamp('2025-04-20 22:34:00'), 'C37')",
         null,
         null,
         null,
         "17.0",
         null,
         null,
         null,
         "-145.44345578433808",
         "10.131398474467595"
        ],
        [
         "(Timestamp('2025-04-20 22:34:00'), 'E07')",
         null,
         "30.0",
         null,
         null,
         null,
         null,
         "30.0",
         "-166.9259976172437",
         "43.786942220830205"
        ],
        [
         "(Timestamp('2025-04-20 22:34:00'), 'E08')",
         null,
         "38.0",
         null,
         null,
         null,
         null,
         "31.0",
         "87.2179974745614",
         "67.08154841015306"
        ],
        [
         "(Timestamp('2025-04-20 22:34:00'), 'E13')",
         null,
         "33.0",
         null,
         null,
         null,
         null,
         "33.0",
         "-17.140859088971705",
         "28.954808899253386"
        ],
        [
         "(Timestamp('2025-04-20 22:34:00'), 'E15')",
         null,
         "29.0",
         null,
         null,
         null,
         null,
         null,
         "45.84070945536406",
         "34.169455719253726"
        ],
        [
         "(Timestamp('2025-04-20 22:34:00'), 'E21')",
         null,
         "36.0",
         null,
         null,
         null,
         null,
         "29.0",
         "-79.14032215613457",
         "20.28381059874278"
        ],
        [
         "(Timestamp('2025-04-20 22:34:00'), 'E27')",
         null,
         "44.0",
         null,
         null,
         null,
         null,
         "31.0",
         "-136.36677924155114",
         "33.85205696718622"
        ],
        [
         "(Timestamp('2025-04-20 22:34:00'), 'G05')",
         "35.0",
         null,
         null,
         null,
         "25.0",
         null,
         null,
         "11.733738341192986",
         "32.85761439005297"
        ],
        [
         "(Timestamp('2025-04-20 22:34:00'), 'G11')",
         "38.0",
         null,
         null,
         null,
         "26.0",
         null,
         null,
         "81.99592010430383",
         "19.632184145907253"
        ],
        [
         "(Timestamp('2025-04-20 22:34:00'), 'G12')",
         "26.0",
         null,
         null,
         null,
         "28.0",
         null,
         null,
         "-163.43222514853414",
         "25.41722318940909"
        ],
        [
         "(Timestamp('2025-04-20 22:34:00'), 'G13')",
         "37.0",
         null,
         null,
         null,
         null,
         null,
         null,
         "64.16059293205096",
         "51.410707333341094"
        ],
        [
         "(Timestamp('2025-04-20 22:34:00'), 'G15')",
         "48.0",
         null,
         null,
         null,
         "38.0",
         null,
         null,
         "-165.13808970674512",
         "80.56431383981993"
        ],
        [
         "(Timestamp('2025-04-20 22:34:00'), 'G18')",
         "33.0",
         null,
         null,
         null,
         "30.0",
         null,
         null,
         "-43.59138740110377",
         "9.146684304211316"
        ],
        [
         "(Timestamp('2025-04-20 22:34:00'), 'G20')",
         "12.0",
         null,
         null,
         null,
         null,
         null,
         null,
         "42.22000357954389",
         "11.626486577478252"
        ],
        [
         "(Timestamp('2025-04-20 22:34:00'), 'G23')",
         "35.0",
         null,
         null,
         null,
         "27.0",
         null,
         null,
         "-92.33486202207223",
         "23.796402870450464"
        ]
       ],
       "shape": {
        "columns": 9,
        "rows": 95433
       }
      },
      "text/html": [
       "<div>\n",
       "<style scoped>\n",
       "    .dataframe tbody tr th:only-of-type {\n",
       "        vertical-align: middle;\n",
       "    }\n",
       "\n",
       "    .dataframe tbody tr th {\n",
       "        vertical-align: top;\n",
       "    }\n",
       "\n",
       "    .dataframe thead th {\n",
       "        text-align: right;\n",
       "    }\n",
       "</style>\n",
       "<table border=\"1\" class=\"dataframe\">\n",
       "  <thead>\n",
       "    <tr style=\"text-align: right;\">\n",
       "      <th></th>\n",
       "      <th></th>\n",
       "      <th>S1C</th>\n",
       "      <th>S1X</th>\n",
       "      <th>S2C</th>\n",
       "      <th>S2I</th>\n",
       "      <th>S2X</th>\n",
       "      <th>S7I</th>\n",
       "      <th>S7X</th>\n",
       "      <th>Azimuth</th>\n",
       "      <th>Elevation</th>\n",
       "    </tr>\n",
       "    <tr>\n",
       "      <th>Epoch</th>\n",
       "      <th>SV</th>\n",
       "      <th></th>\n",
       "      <th></th>\n",
       "      <th></th>\n",
       "      <th></th>\n",
       "      <th></th>\n",
       "      <th></th>\n",
       "      <th></th>\n",
       "      <th></th>\n",
       "      <th></th>\n",
       "    </tr>\n",
       "  </thead>\n",
       "  <tbody>\n",
       "    <tr>\n",
       "      <th rowspan=\"5\" valign=\"top\">2025-04-20 22:33:30</th>\n",
       "      <th>C23</th>\n",
       "      <td>NaN</td>\n",
       "      <td>NaN</td>\n",
       "      <td>NaN</td>\n",
       "      <td>20.0</td>\n",
       "      <td>NaN</td>\n",
       "      <td>NaN</td>\n",
       "      <td>NaN</td>\n",
       "      <td>166.650442</td>\n",
       "      <td>10.878548</td>\n",
       "    </tr>\n",
       "    <tr>\n",
       "      <th>C27</th>\n",
       "      <td>NaN</td>\n",
       "      <td>NaN</td>\n",
       "      <td>NaN</td>\n",
       "      <td>48.0</td>\n",
       "      <td>NaN</td>\n",
       "      <td>NaN</td>\n",
       "      <td>NaN</td>\n",
       "      <td>-18.417633</td>\n",
       "      <td>39.076360</td>\n",
       "    </tr>\n",
       "    <tr>\n",
       "      <th>C28</th>\n",
       "      <td>NaN</td>\n",
       "      <td>NaN</td>\n",
       "      <td>NaN</td>\n",
       "      <td>40.0</td>\n",
       "      <td>NaN</td>\n",
       "      <td>NaN</td>\n",
       "      <td>NaN</td>\n",
       "      <td>51.844026</td>\n",
       "      <td>63.342841</td>\n",
       "    </tr>\n",
       "    <tr>\n",
       "      <th>C32</th>\n",
       "      <td>NaN</td>\n",
       "      <td>NaN</td>\n",
       "      <td>NaN</td>\n",
       "      <td>36.0</td>\n",
       "      <td>NaN</td>\n",
       "      <td>NaN</td>\n",
       "      <td>NaN</td>\n",
       "      <td>-119.403873</td>\n",
       "      <td>45.994334</td>\n",
       "    </tr>\n",
       "    <tr>\n",
       "      <th>C33</th>\n",
       "      <td>NaN</td>\n",
       "      <td>NaN</td>\n",
       "      <td>NaN</td>\n",
       "      <td>17.0</td>\n",
       "      <td>NaN</td>\n",
       "      <td>NaN</td>\n",
       "      <td>NaN</td>\n",
       "      <td>30.431649</td>\n",
       "      <td>18.276292</td>\n",
       "    </tr>\n",
       "    <tr>\n",
       "      <th>...</th>\n",
       "      <th>...</th>\n",
       "      <td>...</td>\n",
       "      <td>...</td>\n",
       "      <td>...</td>\n",
       "      <td>...</td>\n",
       "      <td>...</td>\n",
       "      <td>...</td>\n",
       "      <td>...</td>\n",
       "      <td>...</td>\n",
       "      <td>...</td>\n",
       "    </tr>\n",
       "    <tr>\n",
       "      <th rowspan=\"5\" valign=\"top\">2025-04-21 22:33:00</th>\n",
       "      <th>R08</th>\n",
       "      <td>27.0</td>\n",
       "      <td>NaN</td>\n",
       "      <td>26.0</td>\n",
       "      <td>NaN</td>\n",
       "      <td>NaN</td>\n",
       "      <td>NaN</td>\n",
       "      <td>NaN</td>\n",
       "      <td>16.126631</td>\n",
       "      <td>39.955684</td>\n",
       "    </tr>\n",
       "    <tr>\n",
       "      <th>R12</th>\n",
       "      <td>19.0</td>\n",
       "      <td>NaN</td>\n",
       "      <td>NaN</td>\n",
       "      <td>NaN</td>\n",
       "      <td>NaN</td>\n",
       "      <td>NaN</td>\n",
       "      <td>NaN</td>\n",
       "      <td>-167.267077</td>\n",
       "      <td>3.436013</td>\n",
       "    </tr>\n",
       "    <tr>\n",
       "      <th>R22</th>\n",
       "      <td>42.0</td>\n",
       "      <td>NaN</td>\n",
       "      <td>33.0</td>\n",
       "      <td>NaN</td>\n",
       "      <td>NaN</td>\n",
       "      <td>NaN</td>\n",
       "      <td>NaN</td>\n",
       "      <td>92.813625</td>\n",
       "      <td>34.655140</td>\n",
       "    </tr>\n",
       "    <tr>\n",
       "      <th>R23</th>\n",
       "      <td>33.0</td>\n",
       "      <td>NaN</td>\n",
       "      <td>NaN</td>\n",
       "      <td>NaN</td>\n",
       "      <td>NaN</td>\n",
       "      <td>NaN</td>\n",
       "      <td>NaN</td>\n",
       "      <td>NaN</td>\n",
       "      <td>NaN</td>\n",
       "    </tr>\n",
       "    <tr>\n",
       "      <th>R24</th>\n",
       "      <td>37.0</td>\n",
       "      <td>NaN</td>\n",
       "      <td>29.0</td>\n",
       "      <td>NaN</td>\n",
       "      <td>NaN</td>\n",
       "      <td>NaN</td>\n",
       "      <td>NaN</td>\n",
       "      <td>-23.953310</td>\n",
       "      <td>8.772009</td>\n",
       "    </tr>\n",
       "  </tbody>\n",
       "</table>\n",
       "<p>95433 rows × 9 columns</p>\n",
       "</div>"
      ],
      "text/plain": [
       "                          S1C  S1X   S2C   S2I  S2X  S7I  S7X     Azimuth  \\\n",
       "Epoch               SV                                                      \n",
       "2025-04-20 22:33:30 C23   NaN  NaN   NaN  20.0  NaN  NaN  NaN  166.650442   \n",
       "                    C27   NaN  NaN   NaN  48.0  NaN  NaN  NaN  -18.417633   \n",
       "                    C28   NaN  NaN   NaN  40.0  NaN  NaN  NaN   51.844026   \n",
       "                    C32   NaN  NaN   NaN  36.0  NaN  NaN  NaN -119.403873   \n",
       "                    C33   NaN  NaN   NaN  17.0  NaN  NaN  NaN   30.431649   \n",
       "...                       ...  ...   ...   ...  ...  ...  ...         ...   \n",
       "2025-04-21 22:33:00 R08  27.0  NaN  26.0   NaN  NaN  NaN  NaN   16.126631   \n",
       "                    R12  19.0  NaN   NaN   NaN  NaN  NaN  NaN -167.267077   \n",
       "                    R22  42.0  NaN  33.0   NaN  NaN  NaN  NaN   92.813625   \n",
       "                    R23  33.0  NaN   NaN   NaN  NaN  NaN  NaN         NaN   \n",
       "                    R24  37.0  NaN  29.0   NaN  NaN  NaN  NaN  -23.953310   \n",
       "\n",
       "                         Elevation  \n",
       "Epoch               SV              \n",
       "2025-04-20 22:33:30 C23  10.878548  \n",
       "                    C27  39.076360  \n",
       "                    C28  63.342841  \n",
       "                    C32  45.994334  \n",
       "                    C33  18.276292  \n",
       "...                            ...  \n",
       "2025-04-21 22:33:00 R08  39.955684  \n",
       "                    R12   3.436013  \n",
       "                    R22  34.655140  \n",
       "                    R23        NaN  \n",
       "                    R24   8.772009  \n",
       "\n",
       "[95433 rows x 9 columns]"
      ]
     },
     "execution_count": 20,
     "metadata": {},
     "output_type": "execute_result"
    }
   ],
   "source": [
    "obs.observation"
   ]
  },
  {
   "cell_type": "markdown",
   "id": "499d87f5",
   "metadata": {},
   "source": [
    "## Save NCs"
   ]
  },
  {
   "cell_type": "code",
   "execution_count": 21,
   "id": "d28b8240",
   "metadata": {},
   "outputs": [
    {
     "name": "stdout",
     "output_type": "stream",
     "text": [
      "Created a temporary directory at C:\\Users\\varga\\AppData\\Local\\Temp\\tmparjp82yl\n",
      "Could not find any files matching the pattern C:\\Users\\varga\\Box\\Data\\RinexZipFiles\\MANCHI\\nc\\\\*.nc\n",
      "C:\\Users\\varga\\Box\\Data\\RinexZipFiles\\MANCHI\\Last\\MANCHI_20250420223245\\MANCHI_raw_20250420223245_RINEX_3_03\\MANCHI_raw_20250420223245.25O exists | Reading...\n",
      "Observation file  C:\\Users\\varga\\Box\\Data\\RinexZipFiles\\MANCHI\\Last\\MANCHI_20250420223245\\MANCHI_raw_20250420223245_RINEX_3_03\\MANCHI_raw_20250420223245.25O  is read in 3.66 seconds.\n",
      "Processing 95 433 individual observations\n",
      "Calculating Azimuth and Elevation\n",
      "This file does not exist: C:\\Users\\varga\\AppData\\Local\\Temp\\tmparjp82yl\\GFZ0MGXRAP_20251100000_01D_05M_ORB.SP3\n",
      "Downloading: ftp://gssc.esa.int/gnss/products/2363//GFZ0MGXRAP_20251100000_01D_05M_ORB.SP3.gz"
     ]
    },
    {
     "name": "stderr",
     "output_type": "stream",
     "text": [
      "GFZ0MGXRAP_20251100000_01D_05M_ORB.SP3.gz: 1.05MB [00:03, 340kB/s]                             \n"
     ]
    },
    {
     "name": "stdout",
     "output_type": "stream",
     "text": [
      " | Download completed for ftp://gssc.esa.int/gnss/products/2363//GFZ0MGXRAP_20251100000_01D_05M_ORB.SP3.gz\n",
      "C:\\Users\\varga\\AppData\\Local\\Temp\\tmparjp82yl\\GFZ0MGXRAP_20251100000_01D_05M_ORB.SP3 file is read in 7.27 seconds\n",
      "This file does not exist: C:\\Users\\varga\\AppData\\Local\\Temp\\tmparjp82yl\\GFZ0MGXRAP_20251110000_01D_05M_ORB.SP3\n",
      "Downloading: ftp://gssc.esa.int/gnss/products/2363//GFZ0MGXRAP_20251110000_01D_05M_ORB.SP3.gz"
     ]
    },
    {
     "name": "stderr",
     "output_type": "stream",
     "text": [
      "GFZ0MGXRAP_20251110000_01D_05M_ORB.SP3.gz: 1.04MB [00:03, 330kB/s]                             \n"
     ]
    },
    {
     "name": "stdout",
     "output_type": "stream",
     "text": [
      " | Download completed for ftp://gssc.esa.int/gnss/products/2363//GFZ0MGXRAP_20251110000_01D_05M_ORB.SP3.gz\n",
      "C:\\Users\\varga\\AppData\\Local\\Temp\\tmparjp82yl\\GFZ0MGXRAP_20251110000_01D_05M_ORB.SP3 file is read in 13.72 seconds\n",
      "This file does not exist: C:\\Users\\varga\\AppData\\Local\\Temp\\tmparjp82yl\\GFZ0MGXRAP_20251120000_01D_05M_ORB.SP3\n",
      "Downloading: ftp://gssc.esa.int/gnss/products/2363//GFZ0MGXRAP_20251120000_01D_05M_ORB.SP3.gz"
     ]
    },
    {
     "name": "stderr",
     "output_type": "stream",
     "text": [
      "GFZ0MGXRAP_20251120000_01D_05M_ORB.SP3.gz: 1.04MB [00:10, 101kB/s]                             \n"
     ]
    },
    {
     "name": "stdout",
     "output_type": "stream",
     "text": [
      " | Download completed for ftp://gssc.esa.int/gnss/products/2363//GFZ0MGXRAP_20251120000_01D_05M_ORB.SP3.gz\n",
      "C:\\Users\\varga\\AppData\\Local\\Temp\\tmparjp82yl\\GFZ0MGXRAP_20251120000_01D_05M_ORB.SP3 file is read in 11.57 seconds\n",
      "This file does not exist: C:\\Users\\varga\\AppData\\Local\\Temp\\tmparjp82yl\\GFZ0MGXRAP_20251100000_01D_30S_CLK.CLK\n",
      "Downloading: GFZ0MGXRAP_20251100000_01D_30S_CLK.CLK.gz"
     ]
    },
    {
     "name": "stderr",
     "output_type": "stream",
     "text": [
      "GFZ0MGXRAP_20251100000_01D_30S_CLK.CLK.gz: 4.84MB [00:03, 1.35MB/s]                            \n"
     ]
    },
    {
     "name": "stdout",
     "output_type": "stream",
     "text": [
      " | Download completed for GFZ0MGXRAP_20251100000_01D_30S_CLK.CLK.gz\n",
      "C:\\Users\\varga\\AppData\\Local\\Temp\\tmparjp82yl\\GFZ0MGXRAP_20251100000_01D_30S_CLK.CLK file is read in 4.02 seconds\n",
      "This file does not exist: C:\\Users\\varga\\AppData\\Local\\Temp\\tmparjp82yl\\GFZ0MGXRAP_20251110000_01D_30S_CLK.CLK\n",
      "Downloading: GFZ0MGXRAP_20251110000_01D_30S_CLK.CLK.gz"
     ]
    },
    {
     "name": "stderr",
     "output_type": "stream",
     "text": [
      "GFZ0MGXRAP_20251110000_01D_30S_CLK.CLK.gz: 4.80MB [00:03, 1.30MB/s]                            \n"
     ]
    },
    {
     "name": "stdout",
     "output_type": "stream",
     "text": [
      " | Download completed for GFZ0MGXRAP_20251110000_01D_30S_CLK.CLK.gz\n",
      "C:\\Users\\varga\\AppData\\Local\\Temp\\tmparjp82yl\\GFZ0MGXRAP_20251110000_01D_30S_CLK.CLK file is read in 31.18 seconds\n",
      "This file does not exist: C:\\Users\\varga\\AppData\\Local\\Temp\\tmparjp82yl\\GFZ0MGXRAP_20251120000_01D_30S_CLK.CLK\n",
      "Downloading: GFZ0MGXRAP_20251120000_01D_30S_CLK.CLK.gz"
     ]
    },
    {
     "name": "stderr",
     "output_type": "stream",
     "text": [
      "GFZ0MGXRAP_20251120000_01D_30S_CLK.CLK.gz: 4.80MB [00:04, 1.04MB/s]                            \n"
     ]
    },
    {
     "name": "stdout",
     "output_type": "stream",
     "text": [
      " | Download completed for GFZ0MGXRAP_20251120000_01D_30S_CLK.CLK.gz\n",
      "C:\\Users\\varga\\AppData\\Local\\Temp\\tmparjp82yl\\GFZ0MGXRAP_20251120000_01D_30S_CLK.CLK file is read in 4.97 seconds\n",
      "SP3 interpolation is done in 33.78 seconds\n",
      "Saved 95 433 individual observations in C:\\Users\\varga\\Box\\Data\\RinexZipFiles\\MANCHI\\nc\\MANCHI_raw_20250420223245.nc\n",
      "Removed the temporary directory at C:\\Users\\varga\\AppData\\Local\\Temp\\tmparjp82yl\n"
     ]
    }
   ],
   "source": [
    "\n",
    "pattern = {\n",
    "    'MANCHI': r'C:\\Users\\varga\\Box\\Data\\RinexZipFiles\\MANCHI\\Last\\MANCHI_20250420223245\\MANCHI_raw_20250420223245_RINEX_3_03\\MANCHI_raw_20250420223245.25O'\n",
    "}\n",
    "outputdir = {\n",
    "    'MANCHI': r'C:\\Users\\varga\\Box\\Data\\RinexZipFiles\\MANCHI\\nc\\\\'\n",
    "}\n",
    "result = gv.preprocess(\n",
    "    pattern,\n",
    "    interval='15s',\n",
    "    keepvars=['S?','S??'],   # SNR típicamente\n",
    "    outputdir=outputdir,\n",
    "    outputresult=True,\n",
    "    # approx_position=approx_position\n",
    ")"
   ]
  }
 ],
 "metadata": {
  "kernelspec": {
   "display_name": "Python 3",
   "language": "python",
   "name": "python3"
  },
  "language_info": {
   "codemirror_mode": {
    "name": "ipython",
    "version": 3
   },
   "file_extension": ".py",
   "mimetype": "text/x-python",
   "name": "python",
   "nbconvert_exporter": "python",
   "pygments_lexer": "ipython3",
   "version": "3.11.9"
  }
 },
 "nbformat": 4,
 "nbformat_minor": 5
}
