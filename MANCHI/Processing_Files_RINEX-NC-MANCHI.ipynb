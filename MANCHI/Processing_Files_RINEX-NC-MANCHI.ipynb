{
 "cells": [
  {
   "cell_type": "markdown",
   "id": "d18b5b0e",
   "metadata": {},
   "source": [
    "\n",
    "# Descomprimir MetStation y reunir archivos `.25O` por estación\n"
   ]
  },
  {
   "cell_type": "code",
   "execution_count": 1,
   "id": "7db03c12",
   "metadata": {},
   "outputs": [
    {
     "data": {
      "text/plain": [
       "(WindowsPath('C:/Users/varga/Box/Data/RinexZipFiles/MANCHI/Last'),\n",
       " WindowsPath('C:/Users/varga/Box/Data/nc Files/MANCHI'),\n",
       " WindowsPath('C:/Users/varga/Box/Data/RinexZipFiles/MANCHI/Last/unzipped'))"
      ]
     },
     "execution_count": 1,
     "metadata": {},
     "output_type": "execute_result"
    }
   ],
   "source": [
    "# === CONFIGURACIÓN DE RUTAS (MANCHI) ===\n",
    "from pathlib import Path\n",
    "\n",
    "# Carpeta con los .zip de MANCHI\n",
    "ZIP_ROOT = Path(r\"C:\\Users\\varga\\Box\\Data\\RinexZipFiles\\MANCHI\\Last\")\n",
    "\n",
    "# Carpeta base donde se crearán subcarpetas por estación\n",
    "DEST_ROOT = Path(r\"C:\\Users\\varga\\Box\\Data\\nc Files\\MANCHI\")\n",
    "\n",
    "# Subcadena para identificar la carpeta RINEX\n",
    "RINEX_SUBSTR = \"RINEX_3_03\"\n",
    "\n",
    "# Patrón de zip a considerar\n",
    "ZIP_PATTERN = \"MANCHI*.zip\"\n",
    "\n",
    "# Carpeta donde se extraerán los zips\n",
    "UNZIP_ROOT = ZIP_ROOT / \"unzipped\"\n",
    "\n",
    "# Política de sobre-escritura de .25O\n",
    "OVERWRITE_25O = False\n",
    "\n",
    "ZIP_ROOT, DEST_ROOT, UNZIP_ROOT\n"
   ]
  },
  {
   "cell_type": "code",
   "execution_count": 2,
   "id": "e56f7806",
   "metadata": {},
   "outputs": [
    {
     "name": "stdout",
     "output_type": "stream",
     "text": [
      "\n",
      "===== RESUMEN (Notebook) =====\n",
      "Zips procesados/existentes: 116\n",
      "Archivos *.25O copiados en total: 0\n",
      "Destino único: C:\\Users\\varga\\Box\\Data\\nc Files\\MANCHI\n"
     ]
    }
   ],
   "source": [
    "# === LÓGICA: extraer zips y copiar TODOS los *.25O a una sola carpeta (MANCHI) ===\n",
    "import zipfile, shutil\n",
    "\n",
    "def safe_extract(zf: zipfile.ZipFile, dest: Path):\n",
    "    for member in zf.infolist():\n",
    "        member_path = dest / member.filename\n",
    "        if not str(member_path.resolve()).startswith(str(dest.resolve())):\n",
    "            raise RuntimeError(f\"Entrada peligrosa en ZIP: {member.filename}\")\n",
    "        zf.extract(member, dest)\n",
    "\n",
    "def extract_all_zips(root: Path, unzip_root: Path, pattern: str):\n",
    "    unzip_root.mkdir(parents=True, exist_ok=True)\n",
    "    zips = sorted(root.glob(pattern), key=lambda p: p.name.lower())\n",
    "    extracted = []\n",
    "    for z in zips:\n",
    "        target_dir = unzip_root / z.stem\n",
    "        if target_dir.exists():\n",
    "            extracted.append(target_dir)\n",
    "            continue\n",
    "        try:\n",
    "            with zipfile.ZipFile(z) as zf:\n",
    "                print(f\"[EXTRACT] {z.name} -> {target_dir.name}\")\n",
    "                target_dir.mkdir(parents=True, exist_ok=True)\n",
    "                safe_extract(zf, target_dir)\n",
    "                extracted.append(target_dir)\n",
    "        except Exception as e:\n",
    "            print(f\"[ERROR] {z.name}: {e}\")\n",
    "    return extracted\n",
    "\n",
    "def find_rinex_dirs(base: Path, substr: str):\n",
    "    sub = substr.lower()\n",
    "    return [p for p in base.rglob(\"*\") if p.is_dir() and sub in p.name.lower()]\n",
    "\n",
    "def copy_25O_flat(unzip_root: Path, dest_root: Path, rinex_substr: str, overwrite=False):\n",
    "    dest_root.mkdir(parents=True, exist_ok=True)\n",
    "    total = 0\n",
    "    for station_dir in sorted(p for p in unzip_root.iterdir() if p.is_dir()):\n",
    "        rinex_dirs = find_rinex_dirs(station_dir, rinex_substr)\n",
    "        if rinex_dirs:\n",
    "            for rdir in rinex_dirs:\n",
    "                for f in rdir.glob(\"*.25O\"):\n",
    "                    df = dest_root / f.name\n",
    "                    if df.exists() and not overwrite:\n",
    "                        continue\n",
    "                    shutil.copy2(f, df)\n",
    "                    total += 1\n",
    "        else:\n",
    "            for f in station_dir.rglob(\"*.25O\"):\n",
    "                df = dest_root / f.name\n",
    "                if df.exists() and not overwrite:\n",
    "                    continue\n",
    "                shutil.copy2(f, df)\n",
    "                total += 1\n",
    "    return total\n",
    "\n",
    "# === Ejecutar flujo ===\n",
    "DEST_ROOT.mkdir(parents=True, exist_ok=True)\n",
    "extracted_dirs = extract_all_zips(ZIP_ROOT, UNZIP_ROOT, ZIP_PATTERN)\n",
    "for p in sorted(UNZIP_ROOT.iterdir() if UNZIP_ROOT.exists() else []):\n",
    "    if p.is_dir() and p not in extracted_dirs:\n",
    "        extracted_dirs.append(p)\n",
    "\n",
    "total_copiados = copy_25O_flat(UNZIP_ROOT, DEST_ROOT, RINEX_SUBSTR, overwrite=OVERWRITE_25O)\n",
    "print(\"\\n===== RESUMEN (Notebook) =====\")\n",
    "print(f\"Zips procesados/existentes: {len(extracted_dirs)}\")\n",
    "print(f\"Archivos *.25O copiados en total: {total_copiados}\")\n",
    "print(f\"Destino único: {DEST_ROOT}\")\n"
   ]
  },
  {
   "cell_type": "markdown",
   "id": "245300be",
   "metadata": {},
   "source": [
    "## Libraries"
   ]
  },
  {
   "cell_type": "code",
   "execution_count": 3,
   "id": "cc85df31",
   "metadata": {},
   "outputs": [],
   "source": [
    "%load_ext autoreload\n",
    "%autoreload 2\n",
    "import gnssvod as gv\n",
    "import numpy as np\n",
    "import pandas as pd\n",
    "import matplotlib.pyplot as plt\n",
    "import matplotlib.dates as mdates\n",
    "import pdb\n",
    "import importlib\n",
    "import zipfile\n",
    "import os\n",
    "import xarray as xr\n",
    "import glob\n",
    "import shutil\n",
    "from gnssvod.hemistats.hemistats import hemibuild\n",
    "#import georinex as gr\n",
    "#import qgrid as interactive table \n",
    "from matplotlib.collections import PatchCollection\n",
    "import matplotlib.dates as mdates\n",
    "import shutil\n",
    "from matplotlib import rcParams\n",
    "from datetime import datetime \n",
    "import shutil\n",
    "from pathlib import Path\n"
   ]
  },
  {
   "cell_type": "markdown",
   "id": "c632cc43",
   "metadata": {},
   "source": [
    "## Presets"
   ]
  },
  {
   "cell_type": "markdown",
   "id": "6029bdb6",
   "metadata": {},
   "source": [
    "### Time intervals"
   ]
  },
  {
   "cell_type": "code",
   "execution_count": 4,
   "id": "13073921",
   "metadata": {},
   "outputs": [
    {
     "data": {
      "text/plain": [
       "IntervalIndex([[2025-04-25 00:00:00, 2025-04-26 00:00:00),\n",
       "               [2025-04-26 00:00:00, 2025-04-27 00:00:00),\n",
       "               [2025-04-27 00:00:00, 2025-04-28 00:00:00),\n",
       "               [2025-04-28 00:00:00, 2025-04-29 00:00:00),\n",
       "               [2025-04-29 00:00:00, 2025-04-30 00:00:00),\n",
       "               [2025-04-30 00:00:00, 2025-05-01 00:00:00),\n",
       "               [2025-05-01 00:00:00, 2025-05-02 00:00:00),\n",
       "               [2025-05-02 00:00:00, 2025-05-03 00:00:00),\n",
       "               [2025-05-03 00:00:00, 2025-05-04 00:00:00),\n",
       "               [2025-05-04 00:00:00, 2025-05-05 00:00:00)],\n",
       "              dtype='interval[datetime64[ns], left]')"
      ]
     },
     "execution_count": 4,
     "metadata": {},
     "output_type": "execute_result"
    }
   ],
   "source": [
    "# Define the start day\n",
    "startday = pd.to_datetime('25-04-2025', format='%d-%m-%Y')\n",
    "# Generate a range of datetime values\n",
    "timeintervals=pd.interval_range(start=startday, periods=10, freq='D', closed='left')\n",
    "timeintervals"
   ]
  },
  {
   "cell_type": "markdown",
   "id": "276dda6e",
   "metadata": {},
   "source": [
    "## Process Rinex Files"
   ]
  },
  {
   "cell_type": "code",
   "execution_count": 5,
   "id": "c913789e",
   "metadata": {},
   "outputs": [
    {
     "name": "stdout",
     "output_type": "stream",
     "text": [
      "Found 116 files:\n",
      "MANCHI_raw_20250413142051.25O\n",
      "MANCHI_raw_20250414142051.25O\n",
      "MANCHI_raw_20250415142052.25O\n",
      "MANCHI_raw_20250415223240.25O\n",
      "MANCHI_raw_20250416223240.25O\n",
      "MANCHI_raw_20250417223241.25O\n",
      "MANCHI_raw_20250418223242.25O\n",
      "MANCHI_raw_20250419223244.25O\n",
      "MANCHI_raw_20250420223245.25O\n",
      "MANCHI_raw_20250421223246.25O\n",
      "MANCHI_raw_20250422223247.25O\n",
      "MANCHI_raw_20250423223248.25O\n",
      "MANCHI_raw_20250424223249.25O\n",
      "MANCHI_raw_20250425223250.25O\n",
      "MANCHI_raw_20250426223251.25O\n",
      "MANCHI_raw_20250427223252.25O\n",
      "MANCHI_raw_20250428223252.25O\n",
      "MANCHI_raw_20250429223253.25O\n",
      "MANCHI_raw_20250502142647.25O\n",
      "MANCHI_raw_20250503142648.25O\n",
      "MANCHI_raw_20250504142649.25O\n",
      "MANCHI_raw_20250505142649.25O\n",
      "MANCHI_raw_20250506142650.25O\n",
      "MANCHI_raw_20250507142651.25O\n",
      "MANCHI_raw_20250508142652.25O\n",
      "MANCHI_raw_20250509142653.25O\n",
      "MANCHI_raw_20250510142653.25O\n",
      "MANCHI_raw_20250511142654.25O\n",
      "MANCHI_raw_20250512142655.25O\n",
      "MANCHI_raw_20250513142656.25O\n",
      "MANCHI_raw_20250514142657.25O\n",
      "MANCHI_raw_20250515142658.25O\n",
      "MANCHI_raw_20250516142658.25O\n",
      "MANCHI_raw_20250517142659.25O\n",
      "MANCHI_raw_20250518142700.25O\n",
      "MANCHI_raw_20250519142700.25O\n",
      "MANCHI_raw_20250520142701.25O\n",
      "MANCHI_raw_20250521142702.25O\n",
      "MANCHI_raw_20250522142702.25O\n",
      "MANCHI_raw_20250523142703.25O\n",
      "MANCHI_raw_20250524142704.25O\n",
      "MANCHI_raw_20250525142705.25O\n",
      "MANCHI_raw_20250526142706.25O\n",
      "MANCHI_raw_20250527142707.25O\n",
      "MANCHI_raw_20250528142707.25O\n",
      "MANCHI_raw_20250529142708.25O\n",
      "MANCHI_raw_20250530142709.25O\n",
      "MANCHI_raw_20250531142710.25O\n",
      "MANCHI_raw_20250605174815.25O\n",
      "MANCHI_raw_20250607200625.25O\n",
      "MANCHI_raw_20250608200627.25O\n",
      "MANCHI_raw_20250609200627.25O\n",
      "MANCHI_raw_20250610200628.25O\n",
      "MANCHI_raw_20250611200629.25O\n",
      "MANCHI_raw_20250612200629.25O\n",
      "MANCHI_raw_20250613200630.25O\n",
      "MANCHI_raw_20250614200631.25O\n",
      "MANCHI_raw_20250615200631.25O\n",
      "MANCHI_raw_20250616200632.25O\n",
      "MANCHI_raw_20250617200633.25O\n",
      "MANCHI_raw_20250618200634.25O\n",
      "MANCHI_raw_20250619200634.25O\n",
      "MANCHI_raw_20250620200635.25O\n",
      "MANCHI_raw_20250621200636.25O\n",
      "MANCHI_raw_20250622200637.25O\n",
      "MANCHI_raw_20250623200637.25O\n",
      "MANCHI_raw_20250624200639.25O\n",
      "MANCHI_raw_20250625200639.25O\n",
      "MANCHI_raw_20250626200640.25O\n",
      "MANCHI_raw_20250627200641.25O\n",
      "MANCHI_raw_20250628200642.25O\n",
      "MANCHI_raw_20250629200642.25O\n",
      "MANCHI_raw_20250702180419.25O\n",
      "MANCHI_raw_20250703142149.25O\n",
      "MANCHI_raw_20250704142150.25O\n",
      "MANCHI_raw_20250705142151.25O\n",
      "MANCHI_raw_20250706142152.25O\n",
      "MANCHI_raw_20250707142153.25O\n",
      "MANCHI_raw_20250708142153.25O\n",
      "MANCHI_raw_20250709142154.25O\n",
      "MANCHI_raw_20250710142155.25O\n",
      "MANCHI_raw_20250711142156.25O\n",
      "MANCHI_raw_20250712142157.25O\n",
      "MANCHI_raw_20250713142158.25O\n",
      "MANCHI_raw_20250714142158.25O\n",
      "MANCHI_raw_20250715142200.25O\n",
      "MANCHI_raw_20250716142200.25O\n",
      "MANCHI_raw_20250717142201.25O\n",
      "MANCHI_raw_20250718142202.25O\n",
      "MANCHI_raw_20250719142203.25O\n",
      "MANCHI_raw_20250720142204.25O\n",
      "MANCHI_raw_20250721142205.25O\n",
      "MANCHI_raw_20250722142205.25O\n",
      "MANCHI_raw_20250723142206.25O\n",
      "MANCHI_raw_20250724142207.25O\n",
      "MANCHI_raw_20250801212325.25O\n",
      "MANCHI_raw_20250804133346.25O\n",
      "MANCHI_raw_20250805133347.25O\n",
      "MANCHI_raw_20250806133348.25O\n",
      "MANCHI_raw_20250807133349.25O\n",
      "MANCHI_raw_20250808133349.25O\n",
      "MANCHI_raw_20250809133351.25O\n",
      "MANCHI_raw_20250810133352.25O\n",
      "MANCHI_raw_20250811133352.25O\n",
      "MANCHI_raw_20250812133353.25O\n",
      "MANCHI_raw_20250813133354.25O\n",
      "MANCHI_raw_20250814133354.25O\n",
      "MANCHI_raw_20250815133355.25O\n",
      "MANCHI_raw_20250816133355.25O\n",
      "MANCHI_raw_20250817133356.25O\n",
      "MANCHI_raw_20250818133357.25O\n",
      "MANCHI_raw_20250819133357.25O\n",
      "MANCHI_raw_20250820133358.25O\n",
      "MANCHI_raw_20250821133358.25O\n",
      "MANCHI_raw_20250822133359.25O\n",
      "MANCHI_raw_20250823133400.25O\n"
     ]
    }
   ],
   "source": [
    "from pathlib import Path\n",
    "\n",
    "# Carpeta única donde se copiaron todos los .25O de MANCHI\n",
    "root = Path(r\"C:\\Users\\varga\\Box\\Data\\nc Files\\MANCHI\")\n",
    "\n",
    "# Buscar todos los archivos con extensión .25O\n",
    "files = list(root.glob(\"*.25O\"))\n",
    "\n",
    "print(\"Found\", len(files), \"files:\")\n",
    "for f in files:\n",
    "    print(f.name)\n"
   ]
  },
  {
   "cell_type": "code",
   "execution_count": 6,
   "id": "0da118ce",
   "metadata": {},
   "outputs": [
    {
     "name": "stdout",
     "output_type": "stream",
     "text": [
      "Found 116 .25O files (showing up to 5): ['C:\\\\Users\\\\varga\\\\Box\\\\Data\\\\nc Files\\\\MANCHI\\\\MANCHI_raw_20250413142051.25O', 'C:\\\\Users\\\\varga\\\\Box\\\\Data\\\\nc Files\\\\MANCHI\\\\MANCHI_raw_20250414142051.25O', 'C:\\\\Users\\\\varga\\\\Box\\\\Data\\\\nc Files\\\\MANCHI\\\\MANCHI_raw_20250415142052.25O', 'C:\\\\Users\\\\varga\\\\Box\\\\Data\\\\nc Files\\\\MANCHI\\\\MANCHI_raw_20250415223240.25O', 'C:\\\\Users\\\\varga\\\\Box\\\\Data\\\\nc Files\\\\MANCHI\\\\MANCHI_raw_20250416223240.25O']\n",
      "Could not find any files matching the pattern C:\\Users\\varga\\Box\\Data\\nc Files\\MANCHI\\processed*.nc\n",
      "C:\\Users\\varga\\Box\\Data\\nc Files\\MANCHI\\MANCHI_raw_20250413142051.25O exists | Reading...\n",
      "Processed 0 out of 2919668 lines (0.0%)\n",
      "Processed 738598 out of 2919668 lines (25.3%)\n",
      "Processed 1271476 out of 2919668 lines (43.5%)\n",
      "Processed 1893488 out of 2919668 lines (64.9%)\n",
      "Processed 2761302 out of 2919668 lines (94.6%)\n",
      "Observation file  C:\\Users\\varga\\Box\\Data\\nc Files\\MANCHI\\MANCHI_raw_20250413142051.25O  is read in 315.47 seconds.\n",
      "Processing 2833268 individual observations\n",
      "Calculating Azimuth and Elevation\n",
      "C:\\Users\\varga\\Box\\Data\\nc Files\\MANCHI\\aux_orbits\\GFZ0MGXRAP_20251030000_01D_05M_ORB.SP3 exists | Reading...\n",
      "C:\\Users\\varga\\Box\\Data\\nc Files\\MANCHI\\aux_orbits\\GFZ0MGXRAP_20251030000_01D_05M_ORB.SP3 file is read in 4.04 seconds\n",
      "C:\\Users\\varga\\Box\\Data\\nc Files\\MANCHI\\aux_orbits\\GFZ0MGXRAP_20251040000_01D_05M_ORB.SP3.gz exists | Extracting...\n",
      "[WARN] Skipping due to error: MANCHI_raw_20250413142051.25O\n",
      "        Compressed file ended before the end-of-stream marker was reached\n",
      "Could not find any files matching the pattern C:\\Users\\varga\\Box\\Data\\nc Files\\MANCHI\\processed*.nc\n",
      "C:\\Users\\varga\\Box\\Data\\nc Files\\MANCHI\\MANCHI_raw_20250414142051.25O exists | Reading...\n",
      "Processed 275672 out of 2902328 lines (9.5%)\n",
      "Processed 1305455 out of 2902328 lines (45.0%)\n",
      "Processed 2233948 out of 2902328 lines (77.0%)\n",
      "Observation file  C:\\Users\\varga\\Box\\Data\\nc Files\\MANCHI\\MANCHI_raw_20250414142051.25O  is read in 239.90 seconds.\n",
      "Processing 2815927 individual observations\n",
      "Calculating Azimuth and Elevation\n",
      "C:\\Users\\varga\\Box\\Data\\nc Files\\MANCHI\\aux_orbits\\GFZ0MGXRAP_20251040000_01D_05M_ORB.SP3.gz exists | Extracting...\n",
      "[WARN] Skipping due to error: MANCHI_raw_20250414142051.25O\n",
      "        Compressed file ended before the end-of-stream marker was reached\n",
      "Could not find any files matching the pattern C:\\Users\\varga\\Box\\Data\\nc Files\\MANCHI\\processed*.nc\n",
      "C:\\Users\\varga\\Box\\Data\\nc Files\\MANCHI\\MANCHI_raw_20250415142052.25O exists | Reading...\n",
      "Processed 640647 out of 1010777 lines (63.4%)\n",
      "Observation file  C:\\Users\\varga\\Box\\Data\\nc Files\\MANCHI\\MANCHI_raw_20250415142052.25O  is read in 44.53 seconds.\n",
      "Processing 981270 individual observations\n",
      "Calculating Azimuth and Elevation\n",
      "This file does not exist: C:\\Users\\varga\\Box\\Data\\nc Files\\MANCHI\\aux_orbits\\GFZ0MGXRAP_20251050000_01D_05M_ORB.SP3\n",
      "Downloading: ftp://gssc.esa.int/gnss/products/2362//GFZ0MGXRAP_20251050000_01D_05M_ORB.SP3.gz"
     ]
    },
    {
     "name": "stderr",
     "output_type": "stream",
     "text": [
      "GFZ0MGXRAP_20251050000_01D_05M_ORB.SP3.gz: 1.04MB [00:03, 313kB/s]                             \n"
     ]
    },
    {
     "name": "stdout",
     "output_type": "stream",
     "text": [
      " | Download completed for ftp://gssc.esa.int/gnss/products/2362//GFZ0MGXRAP_20251050000_01D_05M_ORB.SP3.gz\n",
      "C:\\Users\\varga\\Box\\Data\\nc Files\\MANCHI\\aux_orbits\\GFZ0MGXRAP_20251050000_01D_05M_ORB.SP3 file is read in 8.74 seconds\n",
      "This file does not exist: C:\\Users\\varga\\Box\\Data\\nc Files\\MANCHI\\aux_orbits\\GFZ0MGXRAP_20251060000_01D_05M_ORB.SP3\n",
      "Downloading: ftp://gssc.esa.int/gnss/products/2362//GFZ0MGXRAP_20251060000_01D_05M_ORB.SP3.gz"
     ]
    },
    {
     "name": "stderr",
     "output_type": "stream",
     "text": [
      "GFZ0MGXRAP_20251060000_01D_05M_ORB.SP3.gz: 1.03MB [00:05, 180kB/s]                             \n"
     ]
    },
    {
     "name": "stdout",
     "output_type": "stream",
     "text": [
      " | Download completed for ftp://gssc.esa.int/gnss/products/2362//GFZ0MGXRAP_20251060000_01D_05M_ORB.SP3.gz\n",
      "C:\\Users\\varga\\Box\\Data\\nc Files\\MANCHI\\aux_orbits\\GFZ0MGXRAP_20251060000_01D_05M_ORB.SP3 file is read in 7.70 seconds\n",
      "This file does not exist: C:\\Users\\varga\\Box\\Data\\nc Files\\MANCHI\\aux_orbits\\GFZ0MGXRAP_20251050000_01D_30S_CLK.CLK\n",
      "Downloading: GFZ0MGXRAP_20251050000_01D_30S_CLK.CLK.gz"
     ]
    },
    {
     "name": "stderr",
     "output_type": "stream",
     "text": [
      "GFZ0MGXRAP_20251050000_01D_30S_CLK.CLK.gz: 4.80MB [00:04, 1.21MB/s]                            \n"
     ]
    },
    {
     "name": "stdout",
     "output_type": "stream",
     "text": [
      " | Download completed for GFZ0MGXRAP_20251050000_01D_30S_CLK.CLK.gz\n",
      "C:\\Users\\varga\\Box\\Data\\nc Files\\MANCHI\\aux_orbits\\GFZ0MGXRAP_20251050000_01D_30S_CLK.CLK file is read in 2.05 seconds\n",
      "This file does not exist: C:\\Users\\varga\\Box\\Data\\nc Files\\MANCHI\\aux_orbits\\GFZ0MGXRAP_20251060000_01D_30S_CLK.CLK\n",
      "Downloading: GFZ0MGXRAP_20251060000_01D_30S_CLK.CLK.gz"
     ]
    },
    {
     "name": "stderr",
     "output_type": "stream",
     "text": [
      "GFZ0MGXRAP_20251060000_01D_30S_CLK.CLK.gz: 4.77MB [00:03, 1.33MB/s]                            \n"
     ]
    },
    {
     "name": "stdout",
     "output_type": "stream",
     "text": [
      " | Download completed for GFZ0MGXRAP_20251060000_01D_30S_CLK.CLK.gz\n",
      "C:\\Users\\varga\\Box\\Data\\nc Files\\MANCHI\\aux_orbits\\GFZ0MGXRAP_20251060000_01D_30S_CLK.CLK file is read in 2.11 seconds\n",
      "SP3 interpolation is done in 11.14 seconds\n",
      "Saved 67764 individual observations in C:\\Users\\varga\\Box\\Data\\nc Files\\MANCHI\\processed\\MANCHI_raw_20250415142052.nc\n",
      "[OK] MANCHI_raw_20250415142052.25O\n",
      "Could not find any files matching the pattern C:\\Users\\varga\\Box\\Data\\nc Files\\MANCHI\\processed*.nc\n",
      "C:\\Users\\varga\\Box\\Data\\nc Files\\MANCHI\\MANCHI_raw_20250415223240.25O exists | Reading...\n",
      "Observation file  C:\\Users\\varga\\Box\\Data\\nc Files\\MANCHI\\MANCHI_raw_20250415223240.25O  is read in 3.62 seconds.\n",
      "Processing 94297 individual observations\n",
      "Calculating Azimuth and Elevation\n",
      "C:\\Users\\varga\\Box\\Data\\nc Files\\MANCHI\\aux_orbits\\GFZ0MGXRAP_20251050000_01D_05M_ORB.SP3 exists | Reading...\n",
      "C:\\Users\\varga\\Box\\Data\\nc Files\\MANCHI\\aux_orbits\\GFZ0MGXRAP_20251050000_01D_05M_ORB.SP3 file is read in 0.62 seconds\n",
      "C:\\Users\\varga\\Box\\Data\\nc Files\\MANCHI\\aux_orbits\\GFZ0MGXRAP_20251060000_01D_05M_ORB.SP3 exists | Reading...\n",
      "C:\\Users\\varga\\Box\\Data\\nc Files\\MANCHI\\aux_orbits\\GFZ0MGXRAP_20251060000_01D_05M_ORB.SP3 file is read in 0.83 seconds\n",
      "This file does not exist: C:\\Users\\varga\\Box\\Data\\nc Files\\MANCHI\\aux_orbits\\GFZ0MGXRAP_20251070000_01D_05M_ORB.SP3\n",
      "Downloading: ftp://gssc.esa.int/gnss/products/2362//GFZ0MGXRAP_20251070000_01D_05M_ORB.SP3.gz"
     ]
    },
    {
     "name": "stderr",
     "output_type": "stream",
     "text": [
      "GFZ0MGXRAP_20251070000_01D_05M_ORB.SP3.gz: 1.02MB [00:03, 316kB/s]                             \n"
     ]
    },
    {
     "name": "stdout",
     "output_type": "stream",
     "text": [
      " | Download completed for ftp://gssc.esa.int/gnss/products/2362//GFZ0MGXRAP_20251070000_01D_05M_ORB.SP3.gz\n",
      "C:\\Users\\varga\\Box\\Data\\nc Files\\MANCHI\\aux_orbits\\GFZ0MGXRAP_20251070000_01D_05M_ORB.SP3 file is read in 6.21 seconds\n",
      "C:\\Users\\varga\\Box\\Data\\nc Files\\MANCHI\\aux_orbits\\GFZ0MGXRAP_20251050000_01D_30S_CLK.CLK exists | Reading...\n",
      "C:\\Users\\varga\\Box\\Data\\nc Files\\MANCHI\\aux_orbits\\GFZ0MGXRAP_20251050000_01D_30S_CLK.CLK file is read in 11.76 seconds\n",
      "C:\\Users\\varga\\Box\\Data\\nc Files\\MANCHI\\aux_orbits\\GFZ0MGXRAP_20251060000_01D_30S_CLK.CLK exists | Reading...\n",
      "C:\\Users\\varga\\Box\\Data\\nc Files\\MANCHI\\aux_orbits\\GFZ0MGXRAP_20251060000_01D_30S_CLK.CLK file is read in 1.95 seconds\n",
      "This file does not exist: C:\\Users\\varga\\Box\\Data\\nc Files\\MANCHI\\aux_orbits\\GFZ0MGXRAP_20251070000_01D_30S_CLK.CLK\n",
      "Downloading: GFZ0MGXRAP_20251070000_01D_30S_CLK.CLK.gz"
     ]
    },
    {
     "name": "stderr",
     "output_type": "stream",
     "text": [
      "GFZ0MGXRAP_20251070000_01D_30S_CLK.CLK.gz: 4.71MB [00:04, 1.00MB/s]                            \n"
     ]
    },
    {
     "name": "stdout",
     "output_type": "stream",
     "text": [
      " | Download completed for GFZ0MGXRAP_20251070000_01D_30S_CLK.CLK.gz\n",
      "C:\\Users\\varga\\Box\\Data\\nc Files\\MANCHI\\aux_orbits\\GFZ0MGXRAP_20251070000_01D_30S_CLK.CLK file is read in 1.90 seconds\n",
      "SP3 interpolation is done in 3.39 seconds\n",
      "Saved 94297 individual observations in C:\\Users\\varga\\Box\\Data\\nc Files\\MANCHI\\processed\\MANCHI_raw_20250415223240.nc\n",
      "[OK] MANCHI_raw_20250415223240.25O\n",
      "Could not find any files matching the pattern C:\\Users\\varga\\Box\\Data\\nc Files\\MANCHI\\processed*.nc\n",
      "C:\\Users\\varga\\Box\\Data\\nc Files\\MANCHI\\MANCHI_raw_20250416223240.25O exists | Reading...\n",
      "Observation file  C:\\Users\\varga\\Box\\Data\\nc Files\\MANCHI\\MANCHI_raw_20250416223240.25O  is read in 3.14 seconds.\n",
      "Processing 96545 individual observations\n",
      "Calculating Azimuth and Elevation\n",
      "C:\\Users\\varga\\Box\\Data\\nc Files\\MANCHI\\aux_orbits\\GFZ0MGXRAP_20251060000_01D_05M_ORB.SP3 exists | Reading...\n",
      "C:\\Users\\varga\\Box\\Data\\nc Files\\MANCHI\\aux_orbits\\GFZ0MGXRAP_20251060000_01D_05M_ORB.SP3 file is read in 0.66 seconds\n",
      "C:\\Users\\varga\\Box\\Data\\nc Files\\MANCHI\\aux_orbits\\GFZ0MGXRAP_20251070000_01D_05M_ORB.SP3 exists | Reading...\n",
      "C:\\Users\\varga\\Box\\Data\\nc Files\\MANCHI\\aux_orbits\\GFZ0MGXRAP_20251070000_01D_05M_ORB.SP3 file is read in 0.69 seconds\n",
      "This file does not exist: C:\\Users\\varga\\Box\\Data\\nc Files\\MANCHI\\aux_orbits\\GFZ0MGXRAP_20251080000_01D_05M_ORB.SP3\n",
      "Downloading: ftp://gssc.esa.int/gnss/products/2362//GFZ0MGXRAP_20251080000_01D_05M_ORB.SP3.gz"
     ]
    },
    {
     "name": "stderr",
     "output_type": "stream",
     "text": [
      "GFZ0MGXRAP_20251080000_01D_05M_ORB.SP3.gz: 1.04MB [00:07, 145kB/s]                             \n"
     ]
    },
    {
     "name": "stdout",
     "output_type": "stream",
     "text": [
      " | Download completed for ftp://gssc.esa.int/gnss/products/2362//GFZ0MGXRAP_20251080000_01D_05M_ORB.SP3.gz\n",
      "C:\\Users\\varga\\Box\\Data\\nc Files\\MANCHI\\aux_orbits\\GFZ0MGXRAP_20251080000_01D_05M_ORB.SP3 file is read in 8.21 seconds\n",
      "C:\\Users\\varga\\Box\\Data\\nc Files\\MANCHI\\aux_orbits\\GFZ0MGXRAP_20251060000_01D_30S_CLK.CLK exists | Reading...\n",
      "C:\\Users\\varga\\Box\\Data\\nc Files\\MANCHI\\aux_orbits\\GFZ0MGXRAP_20251060000_01D_30S_CLK.CLK file is read in 2.94 seconds\n",
      "C:\\Users\\varga\\Box\\Data\\nc Files\\MANCHI\\aux_orbits\\GFZ0MGXRAP_20251070000_01D_30S_CLK.CLK exists | Reading...\n",
      "C:\\Users\\varga\\Box\\Data\\nc Files\\MANCHI\\aux_orbits\\GFZ0MGXRAP_20251070000_01D_30S_CLK.CLK file is read in 2.76 seconds\n",
      "This file does not exist: C:\\Users\\varga\\Box\\Data\\nc Files\\MANCHI\\aux_orbits\\GFZ0MGXRAP_20251080000_01D_30S_CLK.CLK\n",
      "Downloading: GFZ0MGXRAP_20251080000_01D_30S_CLK.CLK.gz"
     ]
    },
    {
     "name": "stderr",
     "output_type": "stream",
     "text": [
      "GFZ0MGXRAP_20251080000_01D_30S_CLK.CLK.gz: 4.77MB [00:03, 1.39MB/s]                            \n"
     ]
    },
    {
     "name": "stdout",
     "output_type": "stream",
     "text": [
      " | Download completed for GFZ0MGXRAP_20251080000_01D_30S_CLK.CLK.gz\n",
      "C:\\Users\\varga\\Box\\Data\\nc Files\\MANCHI\\aux_orbits\\GFZ0MGXRAP_20251080000_01D_30S_CLK.CLK file is read in 2.34 seconds\n",
      "SP3 interpolation is done in 5.10 seconds\n",
      "Saved 96545 individual observations in C:\\Users\\varga\\Box\\Data\\nc Files\\MANCHI\\processed\\MANCHI_raw_20250416223240.nc\n",
      "[OK] MANCHI_raw_20250416223240.25O\n",
      "Could not find any files matching the pattern C:\\Users\\varga\\Box\\Data\\nc Files\\MANCHI\\processed*.nc\n",
      "C:\\Users\\varga\\Box\\Data\\nc Files\\MANCHI\\MANCHI_raw_20250417223241.25O exists | Reading...\n",
      "Observation file  C:\\Users\\varga\\Box\\Data\\nc Files\\MANCHI\\MANCHI_raw_20250417223241.25O  is read in 3.16 seconds.\n",
      "Processing 94214 individual observations\n",
      "Calculating Azimuth and Elevation\n",
      "C:\\Users\\varga\\Box\\Data\\nc Files\\MANCHI\\aux_orbits\\GFZ0MGXRAP_20251070000_01D_05M_ORB.SP3 exists | Reading...\n",
      "C:\\Users\\varga\\Box\\Data\\nc Files\\MANCHI\\aux_orbits\\GFZ0MGXRAP_20251070000_01D_05M_ORB.SP3 file is read in 0.40 seconds\n",
      "C:\\Users\\varga\\Box\\Data\\nc Files\\MANCHI\\aux_orbits\\GFZ0MGXRAP_20251080000_01D_05M_ORB.SP3 exists | Reading...\n",
      "C:\\Users\\varga\\Box\\Data\\nc Files\\MANCHI\\aux_orbits\\GFZ0MGXRAP_20251080000_01D_05M_ORB.SP3 file is read in 0.37 seconds\n",
      "This file does not exist: C:\\Users\\varga\\Box\\Data\\nc Files\\MANCHI\\aux_orbits\\GFZ0MGXRAP_20251090000_01D_05M_ORB.SP3\n",
      "Downloading: ftp://gssc.esa.int/gnss/products/2362//GFZ0MGXRAP_20251090000_01D_05M_ORB.SP3.gz"
     ]
    },
    {
     "name": "stderr",
     "output_type": "stream",
     "text": [
      "GFZ0MGXRAP_20251090000_01D_05M_ORB.SP3.gz: 1.04MB [00:06, 167kB/s]                             \n"
     ]
    },
    {
     "name": "stdout",
     "output_type": "stream",
     "text": [
      " | Download completed for ftp://gssc.esa.int/gnss/products/2362//GFZ0MGXRAP_20251090000_01D_05M_ORB.SP3.gz\n",
      "C:\\Users\\varga\\Box\\Data\\nc Files\\MANCHI\\aux_orbits\\GFZ0MGXRAP_20251090000_01D_05M_ORB.SP3 file is read in 7.25 seconds\n",
      "C:\\Users\\varga\\Box\\Data\\nc Files\\MANCHI\\aux_orbits\\GFZ0MGXRAP_20251070000_01D_30S_CLK.CLK exists | Reading...\n",
      "C:\\Users\\varga\\Box\\Data\\nc Files\\MANCHI\\aux_orbits\\GFZ0MGXRAP_20251070000_01D_30S_CLK.CLK file is read in 2.79 seconds\n",
      "C:\\Users\\varga\\Box\\Data\\nc Files\\MANCHI\\aux_orbits\\GFZ0MGXRAP_20251080000_01D_30S_CLK.CLK exists | Reading...\n",
      "C:\\Users\\varga\\Box\\Data\\nc Files\\MANCHI\\aux_orbits\\GFZ0MGXRAP_20251080000_01D_30S_CLK.CLK file is read in 2.26 seconds\n",
      "This file does not exist: C:\\Users\\varga\\Box\\Data\\nc Files\\MANCHI\\aux_orbits\\GFZ0MGXRAP_20251090000_01D_30S_CLK.CLK\n",
      "Downloading: GFZ0MGXRAP_20251090000_01D_30S_CLK.CLK.gz"
     ]
    },
    {
     "name": "stderr",
     "output_type": "stream",
     "text": [
      "GFZ0MGXRAP_20251090000_01D_30S_CLK.CLK.gz: 4.80MB [00:19, 255kB/s]                             \n"
     ]
    },
    {
     "name": "stdout",
     "output_type": "stream",
     "text": [
      " | Download completed for GFZ0MGXRAP_20251090000_01D_30S_CLK.CLK.gz\n",
      "C:\\Users\\varga\\Box\\Data\\nc Files\\MANCHI\\aux_orbits\\GFZ0MGXRAP_20251090000_01D_30S_CLK.CLK file is read in 2.46 seconds\n",
      "SP3 interpolation is done in 3.18 seconds\n",
      "Saved 94214 individual observations in C:\\Users\\varga\\Box\\Data\\nc Files\\MANCHI\\processed\\MANCHI_raw_20250417223241.nc\n",
      "[OK] MANCHI_raw_20250417223241.25O\n",
      "Could not find any files matching the pattern C:\\Users\\varga\\Box\\Data\\nc Files\\MANCHI\\processed*.nc\n",
      "C:\\Users\\varga\\Box\\Data\\nc Files\\MANCHI\\MANCHI_raw_20250418223242.25O exists | Reading...\n",
      "Observation file  C:\\Users\\varga\\Box\\Data\\nc Files\\MANCHI\\MANCHI_raw_20250418223242.25O  is read in 2.77 seconds.\n",
      "Processing 93228 individual observations\n",
      "Calculating Azimuth and Elevation\n",
      "C:\\Users\\varga\\Box\\Data\\nc Files\\MANCHI\\aux_orbits\\GFZ0MGXRAP_20251080000_01D_05M_ORB.SP3 exists | Reading...\n",
      "C:\\Users\\varga\\Box\\Data\\nc Files\\MANCHI\\aux_orbits\\GFZ0MGXRAP_20251080000_01D_05M_ORB.SP3 file is read in 0.70 seconds\n",
      "C:\\Users\\varga\\Box\\Data\\nc Files\\MANCHI\\aux_orbits\\GFZ0MGXRAP_20251090000_01D_05M_ORB.SP3 exists | Reading...\n",
      "C:\\Users\\varga\\Box\\Data\\nc Files\\MANCHI\\aux_orbits\\GFZ0MGXRAP_20251090000_01D_05M_ORB.SP3 file is read in 0.58 seconds\n",
      "This file does not exist: C:\\Users\\varga\\Box\\Data\\nc Files\\MANCHI\\aux_orbits\\GFZ0MGXRAP_20251100000_01D_05M_ORB.SP3\n",
      "Downloading: ftp://gssc.esa.int/gnss/products/2363//GFZ0MGXRAP_20251100000_01D_05M_ORB.SP3.gz"
     ]
    },
    {
     "name": "stderr",
     "output_type": "stream",
     "text": [
      "GFZ0MGXRAP_20251100000_01D_05M_ORB.SP3.gz: 1.05MB [00:03, 352kB/s]                             \n"
     ]
    },
    {
     "name": "stdout",
     "output_type": "stream",
     "text": [
      " | Download completed for ftp://gssc.esa.int/gnss/products/2363//GFZ0MGXRAP_20251100000_01D_05M_ORB.SP3.gz\n",
      "C:\\Users\\varga\\Box\\Data\\nc Files\\MANCHI\\aux_orbits\\GFZ0MGXRAP_20251100000_01D_05M_ORB.SP3 file is read in 3.83 seconds\n",
      "C:\\Users\\varga\\Box\\Data\\nc Files\\MANCHI\\aux_orbits\\GFZ0MGXRAP_20251080000_01D_30S_CLK.CLK exists | Reading...\n",
      "C:\\Users\\varga\\Box\\Data\\nc Files\\MANCHI\\aux_orbits\\GFZ0MGXRAP_20251080000_01D_30S_CLK.CLK file is read in 3.25 seconds\n",
      "C:\\Users\\varga\\Box\\Data\\nc Files\\MANCHI\\aux_orbits\\GFZ0MGXRAP_20251090000_01D_30S_CLK.CLK exists | Reading...\n",
      "C:\\Users\\varga\\Box\\Data\\nc Files\\MANCHI\\aux_orbits\\GFZ0MGXRAP_20251090000_01D_30S_CLK.CLK file is read in 3.44 seconds\n",
      "This file does not exist: C:\\Users\\varga\\Box\\Data\\nc Files\\MANCHI\\aux_orbits\\GFZ0MGXRAP_20251100000_01D_30S_CLK.CLK\n",
      "Downloading: GFZ0MGXRAP_20251100000_01D_30S_CLK.CLK.gz"
     ]
    },
    {
     "name": "stderr",
     "output_type": "stream",
     "text": [
      "GFZ0MGXRAP_20251100000_01D_30S_CLK.CLK.gz: 4.84MB [00:05, 994kB/s]                             \n"
     ]
    },
    {
     "name": "stdout",
     "output_type": "stream",
     "text": [
      " | Download completed for GFZ0MGXRAP_20251100000_01D_30S_CLK.CLK.gz\n",
      "C:\\Users\\varga\\Box\\Data\\nc Files\\MANCHI\\aux_orbits\\GFZ0MGXRAP_20251100000_01D_30S_CLK.CLK file is read in 2.79 seconds\n",
      "SP3 interpolation is done in 3.68 seconds\n",
      "Saved 93228 individual observations in C:\\Users\\varga\\Box\\Data\\nc Files\\MANCHI\\processed\\MANCHI_raw_20250418223242.nc\n",
      "[OK] MANCHI_raw_20250418223242.25O\n",
      "Could not find any files matching the pattern C:\\Users\\varga\\Box\\Data\\nc Files\\MANCHI\\processed*.nc\n",
      "C:\\Users\\varga\\Box\\Data\\nc Files\\MANCHI\\MANCHI_raw_20250419223244.25O exists | Reading...\n",
      "Observation file  C:\\Users\\varga\\Box\\Data\\nc Files\\MANCHI\\MANCHI_raw_20250419223244.25O  is read in 1.94 seconds.\n",
      "Processing 95171 individual observations\n",
      "Calculating Azimuth and Elevation\n",
      "C:\\Users\\varga\\Box\\Data\\nc Files\\MANCHI\\aux_orbits\\GFZ0MGXRAP_20251090000_01D_05M_ORB.SP3 exists | Reading...\n",
      "C:\\Users\\varga\\Box\\Data\\nc Files\\MANCHI\\aux_orbits\\GFZ0MGXRAP_20251090000_01D_05M_ORB.SP3 file is read in 0.35 seconds\n",
      "C:\\Users\\varga\\Box\\Data\\nc Files\\MANCHI\\aux_orbits\\GFZ0MGXRAP_20251100000_01D_05M_ORB.SP3 exists | Reading...\n",
      "C:\\Users\\varga\\Box\\Data\\nc Files\\MANCHI\\aux_orbits\\GFZ0MGXRAP_20251100000_01D_05M_ORB.SP3 file is read in 0.83 seconds\n",
      "This file does not exist: C:\\Users\\varga\\Box\\Data\\nc Files\\MANCHI\\aux_orbits\\GFZ0MGXRAP_20251110000_01D_05M_ORB.SP3\n",
      "Downloading: ftp://gssc.esa.int/gnss/products/2363//GFZ0MGXRAP_20251110000_01D_05M_ORB.SP3.gz"
     ]
    },
    {
     "name": "stderr",
     "output_type": "stream",
     "text": [
      "GFZ0MGXRAP_20251110000_01D_05M_ORB.SP3.gz: 1.04MB [00:03, 336kB/s]                             \n"
     ]
    },
    {
     "name": "stdout",
     "output_type": "stream",
     "text": [
      " | Download completed for ftp://gssc.esa.int/gnss/products/2363//GFZ0MGXRAP_20251110000_01D_05M_ORB.SP3.gz\n",
      "C:\\Users\\varga\\Box\\Data\\nc Files\\MANCHI\\aux_orbits\\GFZ0MGXRAP_20251110000_01D_05M_ORB.SP3 file is read in 4.08 seconds\n",
      "C:\\Users\\varga\\Box\\Data\\nc Files\\MANCHI\\aux_orbits\\GFZ0MGXRAP_20251090000_01D_30S_CLK.CLK exists | Reading...\n",
      "C:\\Users\\varga\\Box\\Data\\nc Files\\MANCHI\\aux_orbits\\GFZ0MGXRAP_20251090000_01D_30S_CLK.CLK file is read in 3.29 seconds\n",
      "C:\\Users\\varga\\Box\\Data\\nc Files\\MANCHI\\aux_orbits\\GFZ0MGXRAP_20251100000_01D_30S_CLK.CLK exists | Reading...\n",
      "C:\\Users\\varga\\Box\\Data\\nc Files\\MANCHI\\aux_orbits\\GFZ0MGXRAP_20251100000_01D_30S_CLK.CLK file is read in 3.24 seconds\n",
      "This file does not exist: C:\\Users\\varga\\Box\\Data\\nc Files\\MANCHI\\aux_orbits\\GFZ0MGXRAP_20251110000_01D_30S_CLK.CLK\n",
      "Downloading: GFZ0MGXRAP_20251110000_01D_30S_CLK.CLK.gz"
     ]
    },
    {
     "name": "stderr",
     "output_type": "stream",
     "text": [
      "GFZ0MGXRAP_20251110000_01D_30S_CLK.CLK.gz: 4.80MB [00:03, 1.30MB/s]                            \n"
     ]
    },
    {
     "name": "stdout",
     "output_type": "stream",
     "text": [
      " | Download completed for GFZ0MGXRAP_20251110000_01D_30S_CLK.CLK.gz\n",
      "C:\\Users\\varga\\Box\\Data\\nc Files\\MANCHI\\aux_orbits\\GFZ0MGXRAP_20251110000_01D_30S_CLK.CLK file is read in 2.81 seconds\n",
      "SP3 interpolation is done in 11.04 seconds\n",
      "Saved 95171 individual observations in C:\\Users\\varga\\Box\\Data\\nc Files\\MANCHI\\processed\\MANCHI_raw_20250419223244.nc\n",
      "[OK] MANCHI_raw_20250419223244.25O\n",
      "Could not find any files matching the pattern C:\\Users\\varga\\Box\\Data\\nc Files\\MANCHI\\processed*.nc\n",
      "C:\\Users\\varga\\Box\\Data\\nc Files\\MANCHI\\MANCHI_raw_20250420223245.25O exists | Reading...\n",
      "Observation file  C:\\Users\\varga\\Box\\Data\\nc Files\\MANCHI\\MANCHI_raw_20250420223245.25O  is read in 1.95 seconds.\n",
      "Processing 95433 individual observations\n",
      "Calculating Azimuth and Elevation\n",
      "C:\\Users\\varga\\Box\\Data\\nc Files\\MANCHI\\aux_orbits\\GFZ0MGXRAP_20251100000_01D_05M_ORB.SP3 exists | Reading...\n",
      "C:\\Users\\varga\\Box\\Data\\nc Files\\MANCHI\\aux_orbits\\GFZ0MGXRAP_20251100000_01D_05M_ORB.SP3 file is read in 0.35 seconds\n",
      "C:\\Users\\varga\\Box\\Data\\nc Files\\MANCHI\\aux_orbits\\GFZ0MGXRAP_20251110000_01D_05M_ORB.SP3 exists | Reading...\n",
      "C:\\Users\\varga\\Box\\Data\\nc Files\\MANCHI\\aux_orbits\\GFZ0MGXRAP_20251110000_01D_05M_ORB.SP3 file is read in 0.42 seconds\n",
      "This file does not exist: C:\\Users\\varga\\Box\\Data\\nc Files\\MANCHI\\aux_orbits\\GFZ0MGXRAP_20251120000_01D_05M_ORB.SP3\n",
      "Downloading: ftp://gssc.esa.int/gnss/products/2363//GFZ0MGXRAP_20251120000_01D_05M_ORB.SP3.gz"
     ]
    },
    {
     "name": "stderr",
     "output_type": "stream",
     "text": [
      "GFZ0MGXRAP_20251120000_01D_05M_ORB.SP3.gz: 1.04MB [00:03, 337kB/s]                             \n"
     ]
    },
    {
     "name": "stdout",
     "output_type": "stream",
     "text": [
      " | Download completed for ftp://gssc.esa.int/gnss/products/2363//GFZ0MGXRAP_20251120000_01D_05M_ORB.SP3.gz\n",
      "C:\\Users\\varga\\Box\\Data\\nc Files\\MANCHI\\aux_orbits\\GFZ0MGXRAP_20251120000_01D_05M_ORB.SP3 file is read in 3.78 seconds\n",
      "C:\\Users\\varga\\Box\\Data\\nc Files\\MANCHI\\aux_orbits\\GFZ0MGXRAP_20251100000_01D_30S_CLK.CLK exists | Reading...\n",
      "C:\\Users\\varga\\Box\\Data\\nc Files\\MANCHI\\aux_orbits\\GFZ0MGXRAP_20251100000_01D_30S_CLK.CLK file is read in 2.12 seconds\n",
      "C:\\Users\\varga\\Box\\Data\\nc Files\\MANCHI\\aux_orbits\\GFZ0MGXRAP_20251110000_01D_30S_CLK.CLK exists | Reading...\n",
      "C:\\Users\\varga\\Box\\Data\\nc Files\\MANCHI\\aux_orbits\\GFZ0MGXRAP_20251110000_01D_30S_CLK.CLK file is read in 3.14 seconds\n",
      "This file does not exist: C:\\Users\\varga\\Box\\Data\\nc Files\\MANCHI\\aux_orbits\\GFZ0MGXRAP_20251120000_01D_30S_CLK.CLK\n",
      "Downloading: GFZ0MGXRAP_20251120000_01D_30S_CLK.CLK.gz"
     ]
    },
    {
     "name": "stderr",
     "output_type": "stream",
     "text": [
      "GFZ0MGXRAP_20251120000_01D_30S_CLK.CLK.gz: 4.80MB [00:03, 1.35MB/s]                            \n"
     ]
    },
    {
     "name": "stdout",
     "output_type": "stream",
     "text": [
      " | Download completed for GFZ0MGXRAP_20251120000_01D_30S_CLK.CLK.gz\n",
      "C:\\Users\\varga\\Box\\Data\\nc Files\\MANCHI\\aux_orbits\\GFZ0MGXRAP_20251120000_01D_30S_CLK.CLK file is read in 2.98 seconds\n",
      "SP3 interpolation is done in 4.92 seconds\n",
      "Saved 95433 individual observations in C:\\Users\\varga\\Box\\Data\\nc Files\\MANCHI\\processed\\MANCHI_raw_20250420223245.nc\n",
      "[OK] MANCHI_raw_20250420223245.25O\n",
      "Could not find any files matching the pattern C:\\Users\\varga\\Box\\Data\\nc Files\\MANCHI\\processed*.nc\n",
      "C:\\Users\\varga\\Box\\Data\\nc Files\\MANCHI\\MANCHI_raw_20250421223246.25O exists | Reading...\n",
      "Observation file  C:\\Users\\varga\\Box\\Data\\nc Files\\MANCHI\\MANCHI_raw_20250421223246.25O  is read in 5.50 seconds.\n",
      "Processing 92319 individual observations\n",
      "Calculating Azimuth and Elevation\n",
      "C:\\Users\\varga\\Box\\Data\\nc Files\\MANCHI\\aux_orbits\\GFZ0MGXRAP_20251110000_01D_05M_ORB.SP3 exists | Reading...\n",
      "C:\\Users\\varga\\Box\\Data\\nc Files\\MANCHI\\aux_orbits\\GFZ0MGXRAP_20251110000_01D_05M_ORB.SP3 file is read in 4.96 seconds\n",
      "C:\\Users\\varga\\Box\\Data\\nc Files\\MANCHI\\aux_orbits\\GFZ0MGXRAP_20251120000_01D_05M_ORB.SP3 exists | Reading...\n",
      "C:\\Users\\varga\\Box\\Data\\nc Files\\MANCHI\\aux_orbits\\GFZ0MGXRAP_20251120000_01D_05M_ORB.SP3 file is read in 2.18 seconds\n",
      "This file does not exist: C:\\Users\\varga\\Box\\Data\\nc Files\\MANCHI\\aux_orbits\\GFZ0MGXRAP_20251130000_01D_05M_ORB.SP3\n",
      "Downloading: ftp://gssc.esa.int/gnss/products/2363//GFZ0MGXRAP_20251130000_01D_05M_ORB.SP3.gz"
     ]
    },
    {
     "name": "stderr",
     "output_type": "stream",
     "text": [
      "GFZ0MGXRAP_20251130000_01D_05M_ORB.SP3.gz: 1.05MB [00:06, 170kB/s]                             \n"
     ]
    },
    {
     "name": "stdout",
     "output_type": "stream",
     "text": [
      " | Download completed for ftp://gssc.esa.int/gnss/products/2363//GFZ0MGXRAP_20251130000_01D_05M_ORB.SP3.gz\n",
      "C:\\Users\\varga\\Box\\Data\\nc Files\\MANCHI\\aux_orbits\\GFZ0MGXRAP_20251130000_01D_05M_ORB.SP3 file is read in 7.06 seconds\n",
      "C:\\Users\\varga\\Box\\Data\\nc Files\\MANCHI\\aux_orbits\\GFZ0MGXRAP_20251110000_01D_30S_CLK.CLK exists | Reading...\n",
      "C:\\Users\\varga\\Box\\Data\\nc Files\\MANCHI\\aux_orbits\\GFZ0MGXRAP_20251110000_01D_30S_CLK.CLK file is read in 1.92 seconds\n",
      "C:\\Users\\varga\\Box\\Data\\nc Files\\MANCHI\\aux_orbits\\GFZ0MGXRAP_20251120000_01D_30S_CLK.CLK exists | Reading...\n",
      "C:\\Users\\varga\\Box\\Data\\nc Files\\MANCHI\\aux_orbits\\GFZ0MGXRAP_20251120000_01D_30S_CLK.CLK file is read in 2.03 seconds\n",
      "This file does not exist: C:\\Users\\varga\\Box\\Data\\nc Files\\MANCHI\\aux_orbits\\GFZ0MGXRAP_20251130000_01D_30S_CLK.CLK\n",
      "Downloading: GFZ0MGXRAP_20251130000_01D_30S_CLK.CLK.gz"
     ]
    },
    {
     "name": "stderr",
     "output_type": "stream",
     "text": [
      "GFZ0MGXRAP_20251130000_01D_30S_CLK.CLK.gz: 4.84MB [00:17, 288kB/s]                             \n"
     ]
    },
    {
     "name": "stdout",
     "output_type": "stream",
     "text": [
      " | Download completed for GFZ0MGXRAP_20251130000_01D_30S_CLK.CLK.gz\n",
      "C:\\Users\\varga\\Box\\Data\\nc Files\\MANCHI\\aux_orbits\\GFZ0MGXRAP_20251130000_01D_30S_CLK.CLK file is read in 1.96 seconds\n",
      "SP3 interpolation is done in 3.10 seconds\n",
      "Saved 92319 individual observations in C:\\Users\\varga\\Box\\Data\\nc Files\\MANCHI\\processed\\MANCHI_raw_20250421223246.nc\n",
      "[OK] MANCHI_raw_20250421223246.25O\n",
      "Could not find any files matching the pattern C:\\Users\\varga\\Box\\Data\\nc Files\\MANCHI\\processed*.nc\n",
      "C:\\Users\\varga\\Box\\Data\\nc Files\\MANCHI\\MANCHI_raw_20250422223247.25O exists | Reading...\n",
      "Observation file  C:\\Users\\varga\\Box\\Data\\nc Files\\MANCHI\\MANCHI_raw_20250422223247.25O  is read in 2.31 seconds.\n",
      "Processing 94579 individual observations\n",
      "Calculating Azimuth and Elevation\n",
      "C:\\Users\\varga\\Box\\Data\\nc Files\\MANCHI\\aux_orbits\\GFZ0MGXRAP_20251120000_01D_05M_ORB.SP3 exists | Reading...\n",
      "C:\\Users\\varga\\Box\\Data\\nc Files\\MANCHI\\aux_orbits\\GFZ0MGXRAP_20251120000_01D_05M_ORB.SP3 file is read in 0.62 seconds\n",
      "C:\\Users\\varga\\Box\\Data\\nc Files\\MANCHI\\aux_orbits\\GFZ0MGXRAP_20251130000_01D_05M_ORB.SP3 exists | Reading...\n",
      "C:\\Users\\varga\\Box\\Data\\nc Files\\MANCHI\\aux_orbits\\GFZ0MGXRAP_20251130000_01D_05M_ORB.SP3 file is read in 0.62 seconds\n",
      "This file does not exist: C:\\Users\\varga\\Box\\Data\\nc Files\\MANCHI\\aux_orbits\\GFZ0MGXRAP_20251140000_01D_05M_ORB.SP3\n",
      "Downloading: ftp://gssc.esa.int/gnss/products/2363//GFZ0MGXRAP_20251140000_01D_05M_ORB.SP3.gz"
     ]
    },
    {
     "name": "stderr",
     "output_type": "stream",
     "text": [
      "GFZ0MGXRAP_20251140000_01D_05M_ORB.SP3.gz: 1.04MB [00:06, 176kB/s]                             \n"
     ]
    },
    {
     "name": "stdout",
     "output_type": "stream",
     "text": [
      " | Download completed for ftp://gssc.esa.int/gnss/products/2363//GFZ0MGXRAP_20251140000_01D_05M_ORB.SP3.gz\n",
      "C:\\Users\\varga\\Box\\Data\\nc Files\\MANCHI\\aux_orbits\\GFZ0MGXRAP_20251140000_01D_05M_ORB.SP3 file is read in 6.71 seconds\n",
      "C:\\Users\\varga\\Box\\Data\\nc Files\\MANCHI\\aux_orbits\\GFZ0MGXRAP_20251120000_01D_30S_CLK.CLK exists | Reading...\n",
      "C:\\Users\\varga\\Box\\Data\\nc Files\\MANCHI\\aux_orbits\\GFZ0MGXRAP_20251120000_01D_30S_CLK.CLK file is read in 2.01 seconds\n",
      "C:\\Users\\varga\\Box\\Data\\nc Files\\MANCHI\\aux_orbits\\GFZ0MGXRAP_20251130000_01D_30S_CLK.CLK exists | Reading...\n",
      "C:\\Users\\varga\\Box\\Data\\nc Files\\MANCHI\\aux_orbits\\GFZ0MGXRAP_20251130000_01D_30S_CLK.CLK file is read in 2.05 seconds\n",
      "This file does not exist: C:\\Users\\varga\\Box\\Data\\nc Files\\MANCHI\\aux_orbits\\GFZ0MGXRAP_20251140000_01D_30S_CLK.CLK\n",
      "Downloading: GFZ0MGXRAP_20251140000_01D_30S_CLK.CLK.gz"
     ]
    },
    {
     "name": "stderr",
     "output_type": "stream",
     "text": [
      "GFZ0MGXRAP_20251140000_01D_30S_CLK.CLK.gz: 4.78MB [00:03, 1.36MB/s]                            \n"
     ]
    },
    {
     "name": "stdout",
     "output_type": "stream",
     "text": [
      " | Download completed for GFZ0MGXRAP_20251140000_01D_30S_CLK.CLK.gz\n",
      "C:\\Users\\varga\\Box\\Data\\nc Files\\MANCHI\\aux_orbits\\GFZ0MGXRAP_20251140000_01D_30S_CLK.CLK file is read in 2.49 seconds\n",
      "SP3 interpolation is done in 4.96 seconds\n",
      "Saved 94579 individual observations in C:\\Users\\varga\\Box\\Data\\nc Files\\MANCHI\\processed\\MANCHI_raw_20250422223247.nc\n",
      "[OK] MANCHI_raw_20250422223247.25O\n",
      "Could not find any files matching the pattern C:\\Users\\varga\\Box\\Data\\nc Files\\MANCHI\\processed*.nc\n",
      "C:\\Users\\varga\\Box\\Data\\nc Files\\MANCHI\\MANCHI_raw_20250423223248.25O exists | Reading...\n",
      "Observation file  C:\\Users\\varga\\Box\\Data\\nc Files\\MANCHI\\MANCHI_raw_20250423223248.25O  is read in 3.33 seconds.\n",
      "Processing 96136 individual observations\n",
      "Calculating Azimuth and Elevation\n",
      "C:\\Users\\varga\\Box\\Data\\nc Files\\MANCHI\\aux_orbits\\GFZ0MGXRAP_20251130000_01D_05M_ORB.SP3 exists | Reading...\n",
      "C:\\Users\\varga\\Box\\Data\\nc Files\\MANCHI\\aux_orbits\\GFZ0MGXRAP_20251130000_01D_05M_ORB.SP3 file is read in 0.59 seconds\n",
      "C:\\Users\\varga\\Box\\Data\\nc Files\\MANCHI\\aux_orbits\\GFZ0MGXRAP_20251140000_01D_05M_ORB.SP3 exists | Reading...\n",
      "C:\\Users\\varga\\Box\\Data\\nc Files\\MANCHI\\aux_orbits\\GFZ0MGXRAP_20251140000_01D_05M_ORB.SP3 file is read in 0.62 seconds\n",
      "This file does not exist: C:\\Users\\varga\\Box\\Data\\nc Files\\MANCHI\\aux_orbits\\GFZ0MGXRAP_20251150000_01D_05M_ORB.SP3\n",
      "Downloading: ftp://gssc.esa.int/gnss/products/2363//GFZ0MGXRAP_20251150000_01D_05M_ORB.SP3.gz"
     ]
    },
    {
     "name": "stderr",
     "output_type": "stream",
     "text": [
      "GFZ0MGXRAP_20251150000_01D_05M_ORB.SP3.gz: 1.03MB [00:04, 267kB/s]                             \n"
     ]
    },
    {
     "name": "stdout",
     "output_type": "stream",
     "text": [
      " | Download completed for ftp://gssc.esa.int/gnss/products/2363//GFZ0MGXRAP_20251150000_01D_05M_ORB.SP3.gz\n",
      "C:\\Users\\varga\\Box\\Data\\nc Files\\MANCHI\\aux_orbits\\GFZ0MGXRAP_20251150000_01D_05M_ORB.SP3 file is read in 4.80 seconds\n",
      "C:\\Users\\varga\\Box\\Data\\nc Files\\MANCHI\\aux_orbits\\GFZ0MGXRAP_20251130000_01D_30S_CLK.CLK exists | Reading...\n",
      "C:\\Users\\varga\\Box\\Data\\nc Files\\MANCHI\\aux_orbits\\GFZ0MGXRAP_20251130000_01D_30S_CLK.CLK file is read in 2.38 seconds\n",
      "C:\\Users\\varga\\Box\\Data\\nc Files\\MANCHI\\aux_orbits\\GFZ0MGXRAP_20251140000_01D_30S_CLK.CLK exists | Reading...\n",
      "C:\\Users\\varga\\Box\\Data\\nc Files\\MANCHI\\aux_orbits\\GFZ0MGXRAP_20251140000_01D_30S_CLK.CLK file is read in 2.13 seconds\n",
      "This file does not exist: C:\\Users\\varga\\Box\\Data\\nc Files\\MANCHI\\aux_orbits\\GFZ0MGXRAP_20251150000_01D_30S_CLK.CLK\n",
      "Downloading: GFZ0MGXRAP_20251150000_01D_30S_CLK.CLK.gz"
     ]
    },
    {
     "name": "stderr",
     "output_type": "stream",
     "text": [
      "GFZ0MGXRAP_20251150000_01D_30S_CLK.CLK.gz: 4.78MB [00:08, 600kB/s]                             \n"
     ]
    },
    {
     "name": "stdout",
     "output_type": "stream",
     "text": [
      " | Download completed for GFZ0MGXRAP_20251150000_01D_30S_CLK.CLK.gz\n",
      "C:\\Users\\varga\\Box\\Data\\nc Files\\MANCHI\\aux_orbits\\GFZ0MGXRAP_20251150000_01D_30S_CLK.CLK file is read in 2.32 seconds\n",
      "SP3 interpolation is done in 5.02 seconds\n",
      "Saved 96136 individual observations in C:\\Users\\varga\\Box\\Data\\nc Files\\MANCHI\\processed\\MANCHI_raw_20250423223248.nc\n",
      "[OK] MANCHI_raw_20250423223248.25O\n",
      "Could not find any files matching the pattern C:\\Users\\varga\\Box\\Data\\nc Files\\MANCHI\\processed*.nc\n",
      "C:\\Users\\varga\\Box\\Data\\nc Files\\MANCHI\\MANCHI_raw_20250424223249.25O exists | Reading...\n",
      "Observation file  C:\\Users\\varga\\Box\\Data\\nc Files\\MANCHI\\MANCHI_raw_20250424223249.25O  is read in 3.01 seconds.\n",
      "Processing 93179 individual observations\n",
      "Calculating Azimuth and Elevation\n",
      "C:\\Users\\varga\\Box\\Data\\nc Files\\MANCHI\\aux_orbits\\GFZ0MGXRAP_20251140000_01D_05M_ORB.SP3 exists | Reading...\n",
      "C:\\Users\\varga\\Box\\Data\\nc Files\\MANCHI\\aux_orbits\\GFZ0MGXRAP_20251140000_01D_05M_ORB.SP3 file is read in 0.54 seconds\n",
      "C:\\Users\\varga\\Box\\Data\\nc Files\\MANCHI\\aux_orbits\\GFZ0MGXRAP_20251150000_01D_05M_ORB.SP3 exists | Reading...\n",
      "C:\\Users\\varga\\Box\\Data\\nc Files\\MANCHI\\aux_orbits\\GFZ0MGXRAP_20251150000_01D_05M_ORB.SP3 file is read in 0.59 seconds\n",
      "This file does not exist: C:\\Users\\varga\\Box\\Data\\nc Files\\MANCHI\\aux_orbits\\GFZ0MGXRAP_20251160000_01D_05M_ORB.SP3\n",
      "Downloading: ftp://gssc.esa.int/gnss/products/2363//GFZ0MGXRAP_20251160000_01D_05M_ORB.SP3.gz"
     ]
    },
    {
     "name": "stderr",
     "output_type": "stream",
     "text": [
      "GFZ0MGXRAP_20251160000_01D_05M_ORB.SP3.gz: 1.05MB [00:03, 344kB/s]                             \n"
     ]
    },
    {
     "name": "stdout",
     "output_type": "stream",
     "text": [
      " | Download completed for ftp://gssc.esa.int/gnss/products/2363//GFZ0MGXRAP_20251160000_01D_05M_ORB.SP3.gz\n",
      "C:\\Users\\varga\\Box\\Data\\nc Files\\MANCHI\\aux_orbits\\GFZ0MGXRAP_20251160000_01D_05M_ORB.SP3 file is read in 3.89 seconds\n",
      "C:\\Users\\varga\\Box\\Data\\nc Files\\MANCHI\\aux_orbits\\GFZ0MGXRAP_20251140000_01D_30S_CLK.CLK exists | Reading...\n",
      "C:\\Users\\varga\\Box\\Data\\nc Files\\MANCHI\\aux_orbits\\GFZ0MGXRAP_20251140000_01D_30S_CLK.CLK file is read in 8.07 seconds\n",
      "C:\\Users\\varga\\Box\\Data\\nc Files\\MANCHI\\aux_orbits\\GFZ0MGXRAP_20251150000_01D_30S_CLK.CLK exists | Reading...\n",
      "C:\\Users\\varga\\Box\\Data\\nc Files\\MANCHI\\aux_orbits\\GFZ0MGXRAP_20251150000_01D_30S_CLK.CLK file is read in 2.06 seconds\n",
      "This file does not exist: C:\\Users\\varga\\Box\\Data\\nc Files\\MANCHI\\aux_orbits\\GFZ0MGXRAP_20251160000_01D_30S_CLK.CLK\n",
      "Downloading: GFZ0MGXRAP_20251160000_01D_30S_CLK.CLK.gz"
     ]
    },
    {
     "name": "stderr",
     "output_type": "stream",
     "text": [
      "GFZ0MGXRAP_20251160000_01D_30S_CLK.CLK.gz: 4.83MB [00:03, 1.38MB/s]                            \n"
     ]
    },
    {
     "name": "stdout",
     "output_type": "stream",
     "text": [
      " | Download completed for GFZ0MGXRAP_20251160000_01D_30S_CLK.CLK.gz\n",
      "C:\\Users\\varga\\Box\\Data\\nc Files\\MANCHI\\aux_orbits\\GFZ0MGXRAP_20251160000_01D_30S_CLK.CLK file is read in 2.04 seconds\n",
      "SP3 interpolation is done in 4.84 seconds\n",
      "Saved 93179 individual observations in C:\\Users\\varga\\Box\\Data\\nc Files\\MANCHI\\processed\\MANCHI_raw_20250424223249.nc\n",
      "[OK] MANCHI_raw_20250424223249.25O\n",
      "Could not find any files matching the pattern C:\\Users\\varga\\Box\\Data\\nc Files\\MANCHI\\processed*.nc\n",
      "C:\\Users\\varga\\Box\\Data\\nc Files\\MANCHI\\MANCHI_raw_20250425223250.25O exists | Reading...\n",
      "Observation file  C:\\Users\\varga\\Box\\Data\\nc Files\\MANCHI\\MANCHI_raw_20250425223250.25O  is read in 1.91 seconds.\n",
      "Processing 94188 individual observations\n",
      "Calculating Azimuth and Elevation\n",
      "C:\\Users\\varga\\Box\\Data\\nc Files\\MANCHI\\aux_orbits\\GFZ0MGXRAP_20251150000_01D_05M_ORB.SP3 exists | Reading...\n",
      "C:\\Users\\varga\\Box\\Data\\nc Files\\MANCHI\\aux_orbits\\GFZ0MGXRAP_20251150000_01D_05M_ORB.SP3 file is read in 0.45 seconds\n",
      "C:\\Users\\varga\\Box\\Data\\nc Files\\MANCHI\\aux_orbits\\GFZ0MGXRAP_20251160000_01D_05M_ORB.SP3 exists | Reading...\n",
      "C:\\Users\\varga\\Box\\Data\\nc Files\\MANCHI\\aux_orbits\\GFZ0MGXRAP_20251160000_01D_05M_ORB.SP3 file is read in 0.35 seconds\n",
      "This file does not exist: C:\\Users\\varga\\Box\\Data\\nc Files\\MANCHI\\aux_orbits\\GFZ0MGXRAP_20251170000_01D_05M_ORB.SP3\n",
      "Downloading: ftp://gssc.esa.int/gnss/products/2364//GFZ0MGXRAP_20251170000_01D_05M_ORB.SP3.gz"
     ]
    },
    {
     "name": "stderr",
     "output_type": "stream",
     "text": [
      "GFZ0MGXRAP_20251170000_01D_05M_ORB.SP3.gz: 1.02MB [00:03, 312kB/s]                             \n"
     ]
    },
    {
     "name": "stdout",
     "output_type": "stream",
     "text": [
      " | Download completed for ftp://gssc.esa.int/gnss/products/2364//GFZ0MGXRAP_20251170000_01D_05M_ORB.SP3.gz\n",
      "C:\\Users\\varga\\Box\\Data\\nc Files\\MANCHI\\aux_orbits\\GFZ0MGXRAP_20251170000_01D_05M_ORB.SP3 file is read in 4.30 seconds\n",
      "C:\\Users\\varga\\Box\\Data\\nc Files\\MANCHI\\aux_orbits\\GFZ0MGXRAP_20251150000_01D_30S_CLK.CLK exists | Reading...\n",
      "C:\\Users\\varga\\Box\\Data\\nc Files\\MANCHI\\aux_orbits\\GFZ0MGXRAP_20251150000_01D_30S_CLK.CLK file is read in 2.96 seconds\n",
      "C:\\Users\\varga\\Box\\Data\\nc Files\\MANCHI\\aux_orbits\\GFZ0MGXRAP_20251160000_01D_30S_CLK.CLK exists | Reading...\n",
      "C:\\Users\\varga\\Box\\Data\\nc Files\\MANCHI\\aux_orbits\\GFZ0MGXRAP_20251160000_01D_30S_CLK.CLK file is read in 3.30 seconds\n",
      "This file does not exist: C:\\Users\\varga\\Box\\Data\\nc Files\\MANCHI\\aux_orbits\\GFZ0MGXRAP_20251170000_01D_30S_CLK.CLK\n",
      "Downloading: GFZ0MGXRAP_20251170000_01D_30S_CLK.CLK.gz"
     ]
    },
    {
     "name": "stderr",
     "output_type": "stream",
     "text": [
      "GFZ0MGXRAP_20251170000_01D_30S_CLK.CLK.gz: 4.74MB [00:03, 1.28MB/s]                            \n"
     ]
    },
    {
     "name": "stdout",
     "output_type": "stream",
     "text": [
      " | Download completed for GFZ0MGXRAP_20251170000_01D_30S_CLK.CLK.gz\n",
      "C:\\Users\\varga\\Box\\Data\\nc Files\\MANCHI\\aux_orbits\\GFZ0MGXRAP_20251170000_01D_30S_CLK.CLK file is read in 2.68 seconds\n",
      "SP3 interpolation is done in 3.13 seconds\n",
      "Saved 94188 individual observations in C:\\Users\\varga\\Box\\Data\\nc Files\\MANCHI\\processed\\MANCHI_raw_20250425223250.nc\n",
      "[OK] MANCHI_raw_20250425223250.25O\n",
      "Could not find any files matching the pattern C:\\Users\\varga\\Box\\Data\\nc Files\\MANCHI\\processed*.nc\n",
      "C:\\Users\\varga\\Box\\Data\\nc Files\\MANCHI\\MANCHI_raw_20250426223251.25O exists | Reading...\n",
      "Observation file  C:\\Users\\varga\\Box\\Data\\nc Files\\MANCHI\\MANCHI_raw_20250426223251.25O  is read in 3.40 seconds.\n",
      "Processing 96090 individual observations\n",
      "Calculating Azimuth and Elevation\n",
      "C:\\Users\\varga\\Box\\Data\\nc Files\\MANCHI\\aux_orbits\\GFZ0MGXRAP_20251160000_01D_05M_ORB.SP3 exists | Reading...\n",
      "C:\\Users\\varga\\Box\\Data\\nc Files\\MANCHI\\aux_orbits\\GFZ0MGXRAP_20251160000_01D_05M_ORB.SP3 file is read in 4.37 seconds\n",
      "C:\\Users\\varga\\Box\\Data\\nc Files\\MANCHI\\aux_orbits\\GFZ0MGXRAP_20251170000_01D_05M_ORB.SP3 exists | Reading...\n",
      "C:\\Users\\varga\\Box\\Data\\nc Files\\MANCHI\\aux_orbits\\GFZ0MGXRAP_20251170000_01D_05M_ORB.SP3 file is read in 4.72 seconds\n",
      "This file does not exist: C:\\Users\\varga\\Box\\Data\\nc Files\\MANCHI\\aux_orbits\\GFZ0MGXRAP_20251180000_01D_05M_ORB.SP3\n",
      "Downloading: ftp://gssc.esa.int/gnss/products/2364//GFZ0MGXRAP_20251180000_01D_05M_ORB.SP3.gz"
     ]
    },
    {
     "name": "stderr",
     "output_type": "stream",
     "text": [
      "GFZ0MGXRAP_20251180000_01D_05M_ORB.SP3.gz: 1.02MB [00:03, 340kB/s]                             \n"
     ]
    },
    {
     "name": "stdout",
     "output_type": "stream",
     "text": [
      " | Download completed for ftp://gssc.esa.int/gnss/products/2364//GFZ0MGXRAP_20251180000_01D_05M_ORB.SP3.gz\n",
      "C:\\Users\\varga\\Box\\Data\\nc Files\\MANCHI\\aux_orbits\\GFZ0MGXRAP_20251180000_01D_05M_ORB.SP3 file is read in 3.70 seconds\n",
      "C:\\Users\\varga\\Box\\Data\\nc Files\\MANCHI\\aux_orbits\\GFZ0MGXRAP_20251160000_01D_30S_CLK.CLK exists | Reading...\n",
      "C:\\Users\\varga\\Box\\Data\\nc Files\\MANCHI\\aux_orbits\\GFZ0MGXRAP_20251160000_01D_30S_CLK.CLK file is read in 2.07 seconds\n",
      "C:\\Users\\varga\\Box\\Data\\nc Files\\MANCHI\\aux_orbits\\GFZ0MGXRAP_20251170000_01D_30S_CLK.CLK exists | Reading...\n",
      "C:\\Users\\varga\\Box\\Data\\nc Files\\MANCHI\\aux_orbits\\GFZ0MGXRAP_20251170000_01D_30S_CLK.CLK file is read in 1.92 seconds\n",
      "This file does not exist: C:\\Users\\varga\\Box\\Data\\nc Files\\MANCHI\\aux_orbits\\GFZ0MGXRAP_20251180000_01D_30S_CLK.CLK\n",
      "Downloading: GFZ0MGXRAP_20251180000_01D_30S_CLK.CLK.gz"
     ]
    },
    {
     "name": "stderr",
     "output_type": "stream",
     "text": [
      "GFZ0MGXRAP_20251180000_01D_30S_CLK.CLK.gz: 4.70MB [00:03, 1.34MB/s]                            \n"
     ]
    },
    {
     "name": "stdout",
     "output_type": "stream",
     "text": [
      " | Download completed for GFZ0MGXRAP_20251180000_01D_30S_CLK.CLK.gz\n",
      "C:\\Users\\varga\\Box\\Data\\nc Files\\MANCHI\\aux_orbits\\GFZ0MGXRAP_20251180000_01D_30S_CLK.CLK file is read in 1.92 seconds\n",
      "SP3 interpolation is done in 3.22 seconds\n",
      "Saved 96090 individual observations in C:\\Users\\varga\\Box\\Data\\nc Files\\MANCHI\\processed\\MANCHI_raw_20250426223251.nc\n",
      "[OK] MANCHI_raw_20250426223251.25O\n",
      "Could not find any files matching the pattern C:\\Users\\varga\\Box\\Data\\nc Files\\MANCHI\\processed*.nc\n",
      "C:\\Users\\varga\\Box\\Data\\nc Files\\MANCHI\\MANCHI_raw_20250427223252.25O exists | Reading...\n",
      "Observation file  C:\\Users\\varga\\Box\\Data\\nc Files\\MANCHI\\MANCHI_raw_20250427223252.25O  is read in 3.61 seconds.\n",
      "Processing 94768 individual observations\n",
      "Calculating Azimuth and Elevation\n",
      "C:\\Users\\varga\\Box\\Data\\nc Files\\MANCHI\\aux_orbits\\GFZ0MGXRAP_20251170000_01D_05M_ORB.SP3 exists | Reading...\n",
      "C:\\Users\\varga\\Box\\Data\\nc Files\\MANCHI\\aux_orbits\\GFZ0MGXRAP_20251170000_01D_05M_ORB.SP3 file is read in 0.66 seconds\n",
      "C:\\Users\\varga\\Box\\Data\\nc Files\\MANCHI\\aux_orbits\\GFZ0MGXRAP_20251180000_01D_05M_ORB.SP3 exists | Reading...\n",
      "C:\\Users\\varga\\Box\\Data\\nc Files\\MANCHI\\aux_orbits\\GFZ0MGXRAP_20251180000_01D_05M_ORB.SP3 file is read in 0.85 seconds\n",
      "This file does not exist: C:\\Users\\varga\\Box\\Data\\nc Files\\MANCHI\\aux_orbits\\GFZ0MGXRAP_20251190000_01D_05M_ORB.SP3\n",
      "Downloading: ftp://gssc.esa.int/gnss/products/2364//GFZ0MGXRAP_20251190000_01D_05M_ORB.SP3.gz"
     ]
    },
    {
     "name": "stderr",
     "output_type": "stream",
     "text": [
      "GFZ0MGXRAP_20251190000_01D_05M_ORB.SP3.gz: 1.04MB [00:03, 289kB/s]                             \n"
     ]
    },
    {
     "name": "stdout",
     "output_type": "stream",
     "text": [
      " | Download completed for ftp://gssc.esa.int/gnss/products/2364//GFZ0MGXRAP_20251190000_01D_05M_ORB.SP3.gz\n",
      "C:\\Users\\varga\\Box\\Data\\nc Files\\MANCHI\\aux_orbits\\GFZ0MGXRAP_20251190000_01D_05M_ORB.SP3 file is read in 4.66 seconds\n",
      "C:\\Users\\varga\\Box\\Data\\nc Files\\MANCHI\\aux_orbits\\GFZ0MGXRAP_20251170000_01D_30S_CLK.CLK exists | Reading...\n",
      "C:\\Users\\varga\\Box\\Data\\nc Files\\MANCHI\\aux_orbits\\GFZ0MGXRAP_20251170000_01D_30S_CLK.CLK file is read in 3.09 seconds\n",
      "C:\\Users\\varga\\Box\\Data\\nc Files\\MANCHI\\aux_orbits\\GFZ0MGXRAP_20251180000_01D_30S_CLK.CLK exists | Reading...\n",
      "C:\\Users\\varga\\Box\\Data\\nc Files\\MANCHI\\aux_orbits\\GFZ0MGXRAP_20251180000_01D_30S_CLK.CLK file is read in 2.85 seconds\n",
      "This file does not exist: C:\\Users\\varga\\Box\\Data\\nc Files\\MANCHI\\aux_orbits\\GFZ0MGXRAP_20251190000_01D_30S_CLK.CLK\n",
      "Downloading: GFZ0MGXRAP_20251190000_01D_30S_CLK.CLK.gz"
     ]
    },
    {
     "name": "stderr",
     "output_type": "stream",
     "text": [
      "GFZ0MGXRAP_20251190000_01D_30S_CLK.CLK.gz: 4.77MB [00:04, 1.09MB/s]                            \n"
     ]
    },
    {
     "name": "stdout",
     "output_type": "stream",
     "text": [
      " | Download completed for GFZ0MGXRAP_20251190000_01D_30S_CLK.CLK.gz\n",
      "C:\\Users\\varga\\Box\\Data\\nc Files\\MANCHI\\aux_orbits\\GFZ0MGXRAP_20251190000_01D_30S_CLK.CLK file is read in 2.68 seconds\n",
      "SP3 interpolation is done in 3.73 seconds\n",
      "Saved 94768 individual observations in C:\\Users\\varga\\Box\\Data\\nc Files\\MANCHI\\processed\\MANCHI_raw_20250427223252.nc\n",
      "[OK] MANCHI_raw_20250427223252.25O\n",
      "Could not find any files matching the pattern C:\\Users\\varga\\Box\\Data\\nc Files\\MANCHI\\processed*.nc\n",
      "C:\\Users\\varga\\Box\\Data\\nc Files\\MANCHI\\MANCHI_raw_20250428223252.25O exists | Reading...\n",
      "Observation file  C:\\Users\\varga\\Box\\Data\\nc Files\\MANCHI\\MANCHI_raw_20250428223252.25O  is read in 2.37 seconds.\n",
      "Processing 93023 individual observations\n",
      "Calculating Azimuth and Elevation\n",
      "C:\\Users\\varga\\Box\\Data\\nc Files\\MANCHI\\aux_orbits\\GFZ0MGXRAP_20251180000_01D_05M_ORB.SP3 exists | Reading...\n",
      "C:\\Users\\varga\\Box\\Data\\nc Files\\MANCHI\\aux_orbits\\GFZ0MGXRAP_20251180000_01D_05M_ORB.SP3 file is read in 0.50 seconds\n",
      "C:\\Users\\varga\\Box\\Data\\nc Files\\MANCHI\\aux_orbits\\GFZ0MGXRAP_20251190000_01D_05M_ORB.SP3 exists | Reading...\n",
      "C:\\Users\\varga\\Box\\Data\\nc Files\\MANCHI\\aux_orbits\\GFZ0MGXRAP_20251190000_01D_05M_ORB.SP3 file is read in 1.13 seconds\n",
      "This file does not exist: C:\\Users\\varga\\Box\\Data\\nc Files\\MANCHI\\aux_orbits\\GFZ0MGXRAP_20251200000_01D_05M_ORB.SP3\n",
      "Downloading: ftp://gssc.esa.int/gnss/products/2364//GFZ0MGXRAP_20251200000_01D_05M_ORB.SP3.gz"
     ]
    },
    {
     "name": "stderr",
     "output_type": "stream",
     "text": [
      "GFZ0MGXRAP_20251200000_01D_05M_ORB.SP3.gz: 1.03MB [00:03, 344kB/s]                             \n"
     ]
    },
    {
     "name": "stdout",
     "output_type": "stream",
     "text": [
      " | Download completed for ftp://gssc.esa.int/gnss/products/2364//GFZ0MGXRAP_20251200000_01D_05M_ORB.SP3.gz\n",
      "C:\\Users\\varga\\Box\\Data\\nc Files\\MANCHI\\aux_orbits\\GFZ0MGXRAP_20251200000_01D_05M_ORB.SP3 file is read in 4.09 seconds\n",
      "C:\\Users\\varga\\Box\\Data\\nc Files\\MANCHI\\aux_orbits\\GFZ0MGXRAP_20251180000_01D_30S_CLK.CLK exists | Reading...\n",
      "C:\\Users\\varga\\Box\\Data\\nc Files\\MANCHI\\aux_orbits\\GFZ0MGXRAP_20251180000_01D_30S_CLK.CLK file is read in 3.05 seconds\n",
      "C:\\Users\\varga\\Box\\Data\\nc Files\\MANCHI\\aux_orbits\\GFZ0MGXRAP_20251190000_01D_30S_CLK.CLK exists | Reading...\n",
      "C:\\Users\\varga\\Box\\Data\\nc Files\\MANCHI\\aux_orbits\\GFZ0MGXRAP_20251190000_01D_30S_CLK.CLK file is read in 12.80 seconds\n",
      "This file does not exist: C:\\Users\\varga\\Box\\Data\\nc Files\\MANCHI\\aux_orbits\\GFZ0MGXRAP_20251200000_01D_30S_CLK.CLK\n",
      "Downloading: GFZ0MGXRAP_20251200000_01D_30S_CLK.CLK.gz"
     ]
    },
    {
     "name": "stderr",
     "output_type": "stream",
     "text": [
      "GFZ0MGXRAP_20251200000_01D_30S_CLK.CLK.gz: 4.74MB [00:17, 284kB/s]                             \n"
     ]
    },
    {
     "name": "stdout",
     "output_type": "stream",
     "text": [
      " | Download completed for GFZ0MGXRAP_20251200000_01D_30S_CLK.CLK.gz\n",
      "C:\\Users\\varga\\Box\\Data\\nc Files\\MANCHI\\aux_orbits\\GFZ0MGXRAP_20251200000_01D_30S_CLK.CLK file is read in 1.93 seconds\n",
      "SP3 interpolation is done in 3.09 seconds\n",
      "Saved 93023 individual observations in C:\\Users\\varga\\Box\\Data\\nc Files\\MANCHI\\processed\\MANCHI_raw_20250428223252.nc\n",
      "[OK] MANCHI_raw_20250428223252.25O\n",
      "Could not find any files matching the pattern C:\\Users\\varga\\Box\\Data\\nc Files\\MANCHI\\processed*.nc\n",
      "C:\\Users\\varga\\Box\\Data\\nc Files\\MANCHI\\MANCHI_raw_20250429223253.25O exists | Reading...\n",
      "Observation file  C:\\Users\\varga\\Box\\Data\\nc Files\\MANCHI\\MANCHI_raw_20250429223253.25O  is read in 1.39 seconds.\n",
      "Processing 65132 individual observations\n",
      "Calculating Azimuth and Elevation\n",
      "C:\\Users\\varga\\Box\\Data\\nc Files\\MANCHI\\aux_orbits\\GFZ0MGXRAP_20251190000_01D_05M_ORB.SP3 exists | Reading...\n",
      "C:\\Users\\varga\\Box\\Data\\nc Files\\MANCHI\\aux_orbits\\GFZ0MGXRAP_20251190000_01D_05M_ORB.SP3 file is read in 0.43 seconds\n",
      "C:\\Users\\varga\\Box\\Data\\nc Files\\MANCHI\\aux_orbits\\GFZ0MGXRAP_20251200000_01D_05M_ORB.SP3 exists | Reading...\n",
      "C:\\Users\\varga\\Box\\Data\\nc Files\\MANCHI\\aux_orbits\\GFZ0MGXRAP_20251200000_01D_05M_ORB.SP3 file is read in 0.82 seconds\n",
      "C:\\Users\\varga\\Box\\Data\\nc Files\\MANCHI\\aux_orbits\\GFZ0MGXRAP_20251190000_01D_30S_CLK.CLK exists | Reading...\n",
      "C:\\Users\\varga\\Box\\Data\\nc Files\\MANCHI\\aux_orbits\\GFZ0MGXRAP_20251190000_01D_30S_CLK.CLK file is read in 2.70 seconds\n",
      "C:\\Users\\varga\\Box\\Data\\nc Files\\MANCHI\\aux_orbits\\GFZ0MGXRAP_20251200000_01D_30S_CLK.CLK exists | Reading...\n",
      "C:\\Users\\varga\\Box\\Data\\nc Files\\MANCHI\\aux_orbits\\GFZ0MGXRAP_20251200000_01D_30S_CLK.CLK file is read in 1.88 seconds\n",
      "SP3 interpolation is done in 2.34 seconds\n",
      "Saved 65132 individual observations in C:\\Users\\varga\\Box\\Data\\nc Files\\MANCHI\\processed\\MANCHI_raw_20250429223253.nc\n",
      "[OK] MANCHI_raw_20250429223253.25O\n",
      "Could not find any files matching the pattern C:\\Users\\varga\\Box\\Data\\nc Files\\MANCHI\\processed*.nc\n",
      "C:\\Users\\varga\\Box\\Data\\nc Files\\MANCHI\\MANCHI_raw_20250502142647.25O exists | Reading...\n",
      "Observation file  C:\\Users\\varga\\Box\\Data\\nc Files\\MANCHI\\MANCHI_raw_20250502142647.25O  is read in 3.12 seconds.\n",
      "Processing 94720 individual observations\n",
      "Calculating Azimuth and Elevation\n",
      "This file does not exist: C:\\Users\\varga\\Box\\Data\\nc Files\\MANCHI\\aux_orbits\\GFZ0MGXRAP_20251220000_01D_05M_ORB.SP3\n",
      "Downloading: ftp://gssc.esa.int/gnss/products/2364//GFZ0MGXRAP_20251220000_01D_05M_ORB.SP3.gz"
     ]
    },
    {
     "name": "stderr",
     "output_type": "stream",
     "text": [
      "GFZ0MGXRAP_20251220000_01D_05M_ORB.SP3.gz: 1.04MB [00:03, 339kB/s]                             \n"
     ]
    },
    {
     "name": "stdout",
     "output_type": "stream",
     "text": [
      " | Download completed for ftp://gssc.esa.int/gnss/products/2364//GFZ0MGXRAP_20251220000_01D_05M_ORB.SP3.gz\n",
      "C:\\Users\\varga\\Box\\Data\\nc Files\\MANCHI\\aux_orbits\\GFZ0MGXRAP_20251220000_01D_05M_ORB.SP3 file is read in 4.06 seconds\n",
      "This file does not exist: C:\\Users\\varga\\Box\\Data\\nc Files\\MANCHI\\aux_orbits\\GFZ0MGXRAP_20251230000_01D_05M_ORB.SP3\n",
      "Downloading: ftp://gssc.esa.int/gnss/products/2364//GFZ0MGXRAP_20251230000_01D_05M_ORB.SP3.gz"
     ]
    },
    {
     "name": "stderr",
     "output_type": "stream",
     "text": [
      "GFZ0MGXRAP_20251230000_01D_05M_ORB.SP3.gz: 1.05MB [00:03, 344kB/s]                             \n"
     ]
    },
    {
     "name": "stdout",
     "output_type": "stream",
     "text": [
      " | Download completed for ftp://gssc.esa.int/gnss/products/2364//GFZ0MGXRAP_20251230000_01D_05M_ORB.SP3.gz\n",
      "C:\\Users\\varga\\Box\\Data\\nc Files\\MANCHI\\aux_orbits\\GFZ0MGXRAP_20251230000_01D_05M_ORB.SP3 file is read in 3.99 seconds\n",
      "This file does not exist: C:\\Users\\varga\\Box\\Data\\nc Files\\MANCHI\\aux_orbits\\GFZ0MGXRAP_20251220000_01D_30S_CLK.CLK\n",
      "Downloading: GFZ0MGXRAP_20251220000_01D_30S_CLK.CLK.gz"
     ]
    },
    {
     "name": "stderr",
     "output_type": "stream",
     "text": [
      "GFZ0MGXRAP_20251220000_01D_30S_CLK.CLK.gz: 4.76MB [00:16, 302kB/s]                             \n"
     ]
    },
    {
     "name": "stdout",
     "output_type": "stream",
     "text": [
      " | Download completed for GFZ0MGXRAP_20251220000_01D_30S_CLK.CLK.gz\n",
      "C:\\Users\\varga\\Box\\Data\\nc Files\\MANCHI\\aux_orbits\\GFZ0MGXRAP_20251220000_01D_30S_CLK.CLK file is read in 1.99 seconds\n",
      "This file does not exist: C:\\Users\\varga\\Box\\Data\\nc Files\\MANCHI\\aux_orbits\\GFZ0MGXRAP_20251230000_01D_30S_CLK.CLK\n",
      "Downloading: GFZ0MGXRAP_20251230000_01D_30S_CLK.CLK.gz"
     ]
    },
    {
     "name": "stderr",
     "output_type": "stream",
     "text": [
      "GFZ0MGXRAP_20251230000_01D_30S_CLK.CLK.gz: 4.84MB [00:19, 266kB/s]                             \n"
     ]
    },
    {
     "name": "stdout",
     "output_type": "stream",
     "text": [
      " | Download completed for GFZ0MGXRAP_20251230000_01D_30S_CLK.CLK.gz\n",
      "C:\\Users\\varga\\Box\\Data\\nc Files\\MANCHI\\aux_orbits\\GFZ0MGXRAP_20251230000_01D_30S_CLK.CLK file is read in 1.91 seconds\n",
      "SP3 interpolation is done in 2.80 seconds\n",
      "Saved 94720 individual observations in C:\\Users\\varga\\Box\\Data\\nc Files\\MANCHI\\processed\\MANCHI_raw_20250502142647.nc\n",
      "[OK] MANCHI_raw_20250502142647.25O\n",
      "Could not find any files matching the pattern C:\\Users\\varga\\Box\\Data\\nc Files\\MANCHI\\processed*.nc\n",
      "C:\\Users\\varga\\Box\\Data\\nc Files\\MANCHI\\MANCHI_raw_20250503142648.25O exists | Reading...\n",
      "Observation file  C:\\Users\\varga\\Box\\Data\\nc Files\\MANCHI\\MANCHI_raw_20250503142648.25O  is read in 2.58 seconds.\n",
      "Processing 94541 individual observations\n",
      "Calculating Azimuth and Elevation\n",
      "C:\\Users\\varga\\Box\\Data\\nc Files\\MANCHI\\aux_orbits\\GFZ0MGXRAP_20251230000_01D_05M_ORB.SP3 exists | Reading...\n",
      "C:\\Users\\varga\\Box\\Data\\nc Files\\MANCHI\\aux_orbits\\GFZ0MGXRAP_20251230000_01D_05M_ORB.SP3 file is read in 0.70 seconds\n",
      "This file does not exist: C:\\Users\\varga\\Box\\Data\\nc Files\\MANCHI\\aux_orbits\\GFZ0MGXRAP_20251240000_01D_05M_ORB.SP3\n",
      "Downloading: ftp://gssc.esa.int/gnss/products/2365//GFZ0MGXRAP_20251240000_01D_05M_ORB.SP3.gz"
     ]
    },
    {
     "name": "stderr",
     "output_type": "stream",
     "text": [
      "GFZ0MGXRAP_20251240000_01D_05M_ORB.SP3.gz: 1.04MB [00:06, 175kB/s]                             \n"
     ]
    },
    {
     "name": "stdout",
     "output_type": "stream",
     "text": [
      " | Download completed for ftp://gssc.esa.int/gnss/products/2365//GFZ0MGXRAP_20251240000_01D_05M_ORB.SP3.gz\n",
      "C:\\Users\\varga\\Box\\Data\\nc Files\\MANCHI\\aux_orbits\\GFZ0MGXRAP_20251240000_01D_05M_ORB.SP3 file is read in 7.13 seconds\n",
      "C:\\Users\\varga\\Box\\Data\\nc Files\\MANCHI\\aux_orbits\\GFZ0MGXRAP_20251230000_01D_30S_CLK.CLK exists | Reading...\n",
      "C:\\Users\\varga\\Box\\Data\\nc Files\\MANCHI\\aux_orbits\\GFZ0MGXRAP_20251230000_01D_30S_CLK.CLK file is read in 2.88 seconds\n",
      "This file does not exist: C:\\Users\\varga\\Box\\Data\\nc Files\\MANCHI\\aux_orbits\\GFZ0MGXRAP_20251240000_01D_30S_CLK.CLK\n",
      "Downloading: GFZ0MGXRAP_20251240000_01D_30S_CLK.CLK.gz"
     ]
    },
    {
     "name": "stderr",
     "output_type": "stream",
     "text": [
      "GFZ0MGXRAP_20251240000_01D_30S_CLK.CLK.gz: 4.80MB [00:17, 283kB/s]                             \n"
     ]
    },
    {
     "name": "stdout",
     "output_type": "stream",
     "text": [
      " | Download completed for GFZ0MGXRAP_20251240000_01D_30S_CLK.CLK.gz\n",
      "C:\\Users\\varga\\Box\\Data\\nc Files\\MANCHI\\aux_orbits\\GFZ0MGXRAP_20251240000_01D_30S_CLK.CLK file is read in 1.91 seconds\n",
      "SP3 interpolation is done in 2.51 seconds\n",
      "Saved 94541 individual observations in C:\\Users\\varga\\Box\\Data\\nc Files\\MANCHI\\processed\\MANCHI_raw_20250503142648.nc\n",
      "[OK] MANCHI_raw_20250503142648.25O\n",
      "Could not find any files matching the pattern C:\\Users\\varga\\Box\\Data\\nc Files\\MANCHI\\processed*.nc\n",
      "C:\\Users\\varga\\Box\\Data\\nc Files\\MANCHI\\MANCHI_raw_20250504142649.25O exists | Reading...\n",
      "Observation file  C:\\Users\\varga\\Box\\Data\\nc Files\\MANCHI\\MANCHI_raw_20250504142649.25O  is read in 1.94 seconds.\n",
      "Processing 92935 individual observations\n",
      "Calculating Azimuth and Elevation\n",
      "C:\\Users\\varga\\Box\\Data\\nc Files\\MANCHI\\aux_orbits\\GFZ0MGXRAP_20251240000_01D_05M_ORB.SP3 exists | Reading...\n",
      "C:\\Users\\varga\\Box\\Data\\nc Files\\MANCHI\\aux_orbits\\GFZ0MGXRAP_20251240000_01D_05M_ORB.SP3 file is read in 0.66 seconds\n",
      "This file does not exist: C:\\Users\\varga\\Box\\Data\\nc Files\\MANCHI\\aux_orbits\\GFZ0MGXRAP_20251250000_01D_05M_ORB.SP3\n",
      "Downloading: ftp://gssc.esa.int/gnss/products/2365//GFZ0MGXRAP_20251250000_01D_05M_ORB.SP3.gz"
     ]
    },
    {
     "name": "stderr",
     "output_type": "stream",
     "text": [
      "GFZ0MGXRAP_20251250000_01D_05M_ORB.SP3.gz: 1.04MB [00:03, 322kB/s]                             \n"
     ]
    },
    {
     "name": "stdout",
     "output_type": "stream",
     "text": [
      " | Download completed for ftp://gssc.esa.int/gnss/products/2365//GFZ0MGXRAP_20251250000_01D_05M_ORB.SP3.gz\n",
      "C:\\Users\\varga\\Box\\Data\\nc Files\\MANCHI\\aux_orbits\\GFZ0MGXRAP_20251250000_01D_05M_ORB.SP3 file is read in 4.18 seconds\n",
      "C:\\Users\\varga\\Box\\Data\\nc Files\\MANCHI\\aux_orbits\\GFZ0MGXRAP_20251240000_01D_30S_CLK.CLK exists | Reading...\n",
      "C:\\Users\\varga\\Box\\Data\\nc Files\\MANCHI\\aux_orbits\\GFZ0MGXRAP_20251240000_01D_30S_CLK.CLK file is read in 2.90 seconds\n",
      "This file does not exist: C:\\Users\\varga\\Box\\Data\\nc Files\\MANCHI\\aux_orbits\\GFZ0MGXRAP_20251250000_01D_30S_CLK.CLK\n",
      "Downloading: GFZ0MGXRAP_20251250000_01D_30S_CLK.CLK.gz"
     ]
    },
    {
     "name": "stderr",
     "output_type": "stream",
     "text": [
      "GFZ0MGXRAP_20251250000_01D_30S_CLK.CLK.gz: 4.80MB [00:03, 1.36MB/s]                            \n"
     ]
    },
    {
     "name": "stdout",
     "output_type": "stream",
     "text": [
      " | Download completed for GFZ0MGXRAP_20251250000_01D_30S_CLK.CLK.gz\n",
      "C:\\Users\\varga\\Box\\Data\\nc Files\\MANCHI\\aux_orbits\\GFZ0MGXRAP_20251250000_01D_30S_CLK.CLK file is read in 2.21 seconds\n",
      "SP3 interpolation is done in 3.12 seconds\n",
      "Saved 92935 individual observations in C:\\Users\\varga\\Box\\Data\\nc Files\\MANCHI\\processed\\MANCHI_raw_20250504142649.nc\n",
      "[OK] MANCHI_raw_20250504142649.25O\n",
      "Could not find any files matching the pattern C:\\Users\\varga\\Box\\Data\\nc Files\\MANCHI\\processed*.nc\n",
      "C:\\Users\\varga\\Box\\Data\\nc Files\\MANCHI\\MANCHI_raw_20250505142649.25O exists | Reading...\n",
      "Observation file  C:\\Users\\varga\\Box\\Data\\nc Files\\MANCHI\\MANCHI_raw_20250505142649.25O  is read in 3.37 seconds.\n",
      "Processing 94365 individual observations\n",
      "Calculating Azimuth and Elevation\n",
      "C:\\Users\\varga\\Box\\Data\\nc Files\\MANCHI\\aux_orbits\\GFZ0MGXRAP_20251250000_01D_05M_ORB.SP3 exists | Reading...\n",
      "C:\\Users\\varga\\Box\\Data\\nc Files\\MANCHI\\aux_orbits\\GFZ0MGXRAP_20251250000_01D_05M_ORB.SP3 file is read in 0.64 seconds\n",
      "This file does not exist: C:\\Users\\varga\\Box\\Data\\nc Files\\MANCHI\\aux_orbits\\GFZ0MGXRAP_20251260000_01D_05M_ORB.SP3\n",
      "Downloading: ftp://gssc.esa.int/gnss/products/2365//GFZ0MGXRAP_20251260000_01D_05M_ORB.SP3.gz"
     ]
    },
    {
     "name": "stderr",
     "output_type": "stream",
     "text": [
      "GFZ0MGXRAP_20251260000_01D_05M_ORB.SP3.gz: 1.04MB [00:04, 270kB/s]                             \n"
     ]
    },
    {
     "name": "stdout",
     "output_type": "stream",
     "text": [
      " | Download completed for ftp://gssc.esa.int/gnss/products/2365//GFZ0MGXRAP_20251260000_01D_05M_ORB.SP3.gz\n",
      "C:\\Users\\varga\\Box\\Data\\nc Files\\MANCHI\\aux_orbits\\GFZ0MGXRAP_20251260000_01D_05M_ORB.SP3 file is read in 4.90 seconds\n",
      "C:\\Users\\varga\\Box\\Data\\nc Files\\MANCHI\\aux_orbits\\GFZ0MGXRAP_20251250000_01D_30S_CLK.CLK exists | Reading...\n",
      "C:\\Users\\varga\\Box\\Data\\nc Files\\MANCHI\\aux_orbits\\GFZ0MGXRAP_20251250000_01D_30S_CLK.CLK file is read in 2.89 seconds\n",
      "This file does not exist: C:\\Users\\varga\\Box\\Data\\nc Files\\MANCHI\\aux_orbits\\GFZ0MGXRAP_20251260000_01D_30S_CLK.CLK\n",
      "Downloading: GFZ0MGXRAP_20251260000_01D_30S_CLK.CLK.gz"
     ]
    },
    {
     "name": "stderr",
     "output_type": "stream",
     "text": [
      "GFZ0MGXRAP_20251260000_01D_30S_CLK.CLK.gz: 4.80MB [00:13, 380kB/s]                             \n"
     ]
    },
    {
     "name": "stdout",
     "output_type": "stream",
     "text": [
      " | Download completed for GFZ0MGXRAP_20251260000_01D_30S_CLK.CLK.gz\n",
      "C:\\Users\\varga\\Box\\Data\\nc Files\\MANCHI\\aux_orbits\\GFZ0MGXRAP_20251260000_01D_30S_CLK.CLK file is read in 2.03 seconds\n",
      "SP3 interpolation is done in 2.50 seconds\n",
      "Saved 94365 individual observations in C:\\Users\\varga\\Box\\Data\\nc Files\\MANCHI\\processed\\MANCHI_raw_20250505142649.nc\n",
      "[OK] MANCHI_raw_20250505142649.25O\n",
      "Could not find any files matching the pattern C:\\Users\\varga\\Box\\Data\\nc Files\\MANCHI\\processed*.nc\n",
      "C:\\Users\\varga\\Box\\Data\\nc Files\\MANCHI\\MANCHI_raw_20250506142650.25O exists | Reading...\n",
      "Observation file  C:\\Users\\varga\\Box\\Data\\nc Files\\MANCHI\\MANCHI_raw_20250506142650.25O  is read in 2.95 seconds.\n",
      "Processing 95200 individual observations\n",
      "Calculating Azimuth and Elevation\n",
      "C:\\Users\\varga\\Box\\Data\\nc Files\\MANCHI\\aux_orbits\\GFZ0MGXRAP_20251260000_01D_05M_ORB.SP3 exists | Reading...\n",
      "C:\\Users\\varga\\Box\\Data\\nc Files\\MANCHI\\aux_orbits\\GFZ0MGXRAP_20251260000_01D_05M_ORB.SP3 file is read in 0.65 seconds\n",
      "This file does not exist: C:\\Users\\varga\\Box\\Data\\nc Files\\MANCHI\\aux_orbits\\GFZ0MGXRAP_20251270000_01D_05M_ORB.SP3\n",
      "Downloading: ftp://gssc.esa.int/gnss/products/2365//GFZ0MGXRAP_20251270000_01D_05M_ORB.SP3.gz"
     ]
    },
    {
     "name": "stderr",
     "output_type": "stream",
     "text": [
      "GFZ0MGXRAP_20251270000_01D_05M_ORB.SP3.gz: 1.04MB [00:06, 168kB/s]                             \n"
     ]
    },
    {
     "name": "stdout",
     "output_type": "stream",
     "text": [
      " | Download completed for ftp://gssc.esa.int/gnss/products/2365//GFZ0MGXRAP_20251270000_01D_05M_ORB.SP3.gz\n",
      "C:\\Users\\varga\\Box\\Data\\nc Files\\MANCHI\\aux_orbits\\GFZ0MGXRAP_20251270000_01D_05M_ORB.SP3 file is read in 7.25 seconds\n",
      "C:\\Users\\varga\\Box\\Data\\nc Files\\MANCHI\\aux_orbits\\GFZ0MGXRAP_20251260000_01D_30S_CLK.CLK exists | Reading...\n",
      "C:\\Users\\varga\\Box\\Data\\nc Files\\MANCHI\\aux_orbits\\GFZ0MGXRAP_20251260000_01D_30S_CLK.CLK file is read in 2.76 seconds\n",
      "This file does not exist: C:\\Users\\varga\\Box\\Data\\nc Files\\MANCHI\\aux_orbits\\GFZ0MGXRAP_20251270000_01D_30S_CLK.CLK\n",
      "Downloading: GFZ0MGXRAP_20251270000_01D_30S_CLK.CLK.gz"
     ]
    },
    {
     "name": "stderr",
     "output_type": "stream",
     "text": [
      "GFZ0MGXRAP_20251270000_01D_30S_CLK.CLK.gz: 4.75MB [00:21, 231kB/s]                             \n"
     ]
    },
    {
     "name": "stdout",
     "output_type": "stream",
     "text": [
      " | Download completed for GFZ0MGXRAP_20251270000_01D_30S_CLK.CLK.gz\n",
      "C:\\Users\\varga\\Box\\Data\\nc Files\\MANCHI\\aux_orbits\\GFZ0MGXRAP_20251270000_01D_30S_CLK.CLK file is read in 2.12 seconds\n",
      "SP3 interpolation is done in 2.47 seconds\n",
      "Saved 95200 individual observations in C:\\Users\\varga\\Box\\Data\\nc Files\\MANCHI\\processed\\MANCHI_raw_20250506142650.nc\n",
      "[OK] MANCHI_raw_20250506142650.25O\n",
      "Could not find any files matching the pattern C:\\Users\\varga\\Box\\Data\\nc Files\\MANCHI\\processed*.nc\n",
      "C:\\Users\\varga\\Box\\Data\\nc Files\\MANCHI\\MANCHI_raw_20250507142651.25O exists | Reading...\n",
      "Observation file  C:\\Users\\varga\\Box\\Data\\nc Files\\MANCHI\\MANCHI_raw_20250507142651.25O  is read in 2.55 seconds.\n",
      "Processing 92820 individual observations\n",
      "Calculating Azimuth and Elevation\n",
      "C:\\Users\\varga\\Box\\Data\\nc Files\\MANCHI\\aux_orbits\\GFZ0MGXRAP_20251270000_01D_05M_ORB.SP3 exists | Reading...\n",
      "C:\\Users\\varga\\Box\\Data\\nc Files\\MANCHI\\aux_orbits\\GFZ0MGXRAP_20251270000_01D_05M_ORB.SP3 file is read in 0.65 seconds\n",
      "This file does not exist: C:\\Users\\varga\\Box\\Data\\nc Files\\MANCHI\\aux_orbits\\GFZ0MGXRAP_20251280000_01D_05M_ORB.SP3\n",
      "Downloading: ftp://gssc.esa.int/gnss/products/2365//GFZ0MGXRAP_20251280000_01D_05M_ORB.SP3.gz"
     ]
    },
    {
     "name": "stderr",
     "output_type": "stream",
     "text": [
      "GFZ0MGXRAP_20251280000_01D_05M_ORB.SP3.gz: 1.03MB [00:03, 337kB/s]                             \n"
     ]
    },
    {
     "name": "stdout",
     "output_type": "stream",
     "text": [
      " | Download completed for ftp://gssc.esa.int/gnss/products/2365//GFZ0MGXRAP_20251280000_01D_05M_ORB.SP3.gz\n",
      "C:\\Users\\varga\\Box\\Data\\nc Files\\MANCHI\\aux_orbits\\GFZ0MGXRAP_20251280000_01D_05M_ORB.SP3 file is read in 3.80 seconds\n",
      "C:\\Users\\varga\\Box\\Data\\nc Files\\MANCHI\\aux_orbits\\GFZ0MGXRAP_20251270000_01D_30S_CLK.CLK exists | Reading...\n",
      "C:\\Users\\varga\\Box\\Data\\nc Files\\MANCHI\\aux_orbits\\GFZ0MGXRAP_20251270000_01D_30S_CLK.CLK file is read in 1.93 seconds\n",
      "This file does not exist: C:\\Users\\varga\\Box\\Data\\nc Files\\MANCHI\\aux_orbits\\GFZ0MGXRAP_20251280000_01D_30S_CLK.CLK\n",
      "Downloading: GFZ0MGXRAP_20251280000_01D_30S_CLK.CLK.gz"
     ]
    },
    {
     "name": "stderr",
     "output_type": "stream",
     "text": [
      "GFZ0MGXRAP_20251280000_01D_30S_CLK.CLK.gz: 4.75MB [00:03, 1.34MB/s]                            \n"
     ]
    },
    {
     "name": "stdout",
     "output_type": "stream",
     "text": [
      " | Download completed for GFZ0MGXRAP_20251280000_01D_30S_CLK.CLK.gz\n",
      "C:\\Users\\varga\\Box\\Data\\nc Files\\MANCHI\\aux_orbits\\GFZ0MGXRAP_20251280000_01D_30S_CLK.CLK file is read in 1.91 seconds\n",
      "SP3 interpolation is done in 2.49 seconds\n",
      "Saved 92820 individual observations in C:\\Users\\varga\\Box\\Data\\nc Files\\MANCHI\\processed\\MANCHI_raw_20250507142651.nc\n",
      "[OK] MANCHI_raw_20250507142651.25O\n",
      "Could not find any files matching the pattern C:\\Users\\varga\\Box\\Data\\nc Files\\MANCHI\\processed*.nc\n",
      "C:\\Users\\varga\\Box\\Data\\nc Files\\MANCHI\\MANCHI_raw_20250508142652.25O exists | Reading...\n",
      "Observation file  C:\\Users\\varga\\Box\\Data\\nc Files\\MANCHI\\MANCHI_raw_20250508142652.25O  is read in 3.51 seconds.\n",
      "Processing 94014 individual observations\n",
      "Calculating Azimuth and Elevation\n",
      "C:\\Users\\varga\\Box\\Data\\nc Files\\MANCHI\\aux_orbits\\GFZ0MGXRAP_20251280000_01D_05M_ORB.SP3 exists | Reading...\n",
      "C:\\Users\\varga\\Box\\Data\\nc Files\\MANCHI\\aux_orbits\\GFZ0MGXRAP_20251280000_01D_05M_ORB.SP3 file is read in 0.68 seconds\n",
      "This file does not exist: C:\\Users\\varga\\Box\\Data\\nc Files\\MANCHI\\aux_orbits\\GFZ0MGXRAP_20251290000_01D_05M_ORB.SP3\n",
      "Downloading: ftp://gssc.esa.int/gnss/products/2365//GFZ0MGXRAP_20251290000_01D_05M_ORB.SP3.gz"
     ]
    },
    {
     "name": "stderr",
     "output_type": "stream",
     "text": [
      "GFZ0MGXRAP_20251290000_01D_05M_ORB.SP3.gz: 1.03MB [00:03, 305kB/s]                             \n"
     ]
    },
    {
     "name": "stdout",
     "output_type": "stream",
     "text": [
      " | Download completed for ftp://gssc.esa.int/gnss/products/2365//GFZ0MGXRAP_20251290000_01D_05M_ORB.SP3.gz\n",
      "C:\\Users\\varga\\Box\\Data\\nc Files\\MANCHI\\aux_orbits\\GFZ0MGXRAP_20251290000_01D_05M_ORB.SP3 file is read in 4.33 seconds\n",
      "C:\\Users\\varga\\Box\\Data\\nc Files\\MANCHI\\aux_orbits\\GFZ0MGXRAP_20251280000_01D_30S_CLK.CLK exists | Reading...\n",
      "C:\\Users\\varga\\Box\\Data\\nc Files\\MANCHI\\aux_orbits\\GFZ0MGXRAP_20251280000_01D_30S_CLK.CLK file is read in 2.79 seconds\n",
      "This file does not exist: C:\\Users\\varga\\Box\\Data\\nc Files\\MANCHI\\aux_orbits\\GFZ0MGXRAP_20251290000_01D_30S_CLK.CLK\n",
      "Downloading: GFZ0MGXRAP_20251290000_01D_30S_CLK.CLK.gz"
     ]
    },
    {
     "name": "stderr",
     "output_type": "stream",
     "text": [
      "GFZ0MGXRAP_20251290000_01D_30S_CLK.CLK.gz: 4.77MB [00:03, 1.33MB/s]                            \n"
     ]
    },
    {
     "name": "stdout",
     "output_type": "stream",
     "text": [
      " | Download completed for GFZ0MGXRAP_20251290000_01D_30S_CLK.CLK.gz\n",
      "C:\\Users\\varga\\Box\\Data\\nc Files\\MANCHI\\aux_orbits\\GFZ0MGXRAP_20251290000_01D_30S_CLK.CLK file is read in 2.82 seconds\n",
      "SP3 interpolation is done in 3.63 seconds\n",
      "Saved 94014 individual observations in C:\\Users\\varga\\Box\\Data\\nc Files\\MANCHI\\processed\\MANCHI_raw_20250508142652.nc\n",
      "[OK] MANCHI_raw_20250508142652.25O\n",
      "Could not find any files matching the pattern C:\\Users\\varga\\Box\\Data\\nc Files\\MANCHI\\processed*.nc\n",
      "C:\\Users\\varga\\Box\\Data\\nc Files\\MANCHI\\MANCHI_raw_20250509142653.25O exists | Reading...\n",
      "Observation file  C:\\Users\\varga\\Box\\Data\\nc Files\\MANCHI\\MANCHI_raw_20250509142653.25O  is read in 2.25 seconds.\n",
      "Processing 93896 individual observations\n",
      "Calculating Azimuth and Elevation\n",
      "C:\\Users\\varga\\Box\\Data\\nc Files\\MANCHI\\aux_orbits\\GFZ0MGXRAP_20251290000_01D_05M_ORB.SP3 exists | Reading...\n",
      "C:\\Users\\varga\\Box\\Data\\nc Files\\MANCHI\\aux_orbits\\GFZ0MGXRAP_20251290000_01D_05M_ORB.SP3 file is read in 0.35 seconds\n",
      "This file does not exist: C:\\Users\\varga\\Box\\Data\\nc Files\\MANCHI\\aux_orbits\\GFZ0MGXRAP_20251300000_01D_05M_ORB.SP3\n",
      "Downloading: ftp://gssc.esa.int/gnss/products/2365//GFZ0MGXRAP_20251300000_01D_05M_ORB.SP3.gz"
     ]
    },
    {
     "name": "stderr",
     "output_type": "stream",
     "text": [
      "GFZ0MGXRAP_20251300000_01D_05M_ORB.SP3.gz: 1.04MB [00:03, 342kB/s]                             \n"
     ]
    },
    {
     "name": "stdout",
     "output_type": "stream",
     "text": [
      " | Download completed for ftp://gssc.esa.int/gnss/products/2365//GFZ0MGXRAP_20251300000_01D_05M_ORB.SP3.gz\n",
      "C:\\Users\\varga\\Box\\Data\\nc Files\\MANCHI\\aux_orbits\\GFZ0MGXRAP_20251300000_01D_05M_ORB.SP3 file is read in 3.78 seconds\n",
      "C:\\Users\\varga\\Box\\Data\\nc Files\\MANCHI\\aux_orbits\\GFZ0MGXRAP_20251290000_01D_30S_CLK.CLK exists | Reading...\n",
      "C:\\Users\\varga\\Box\\Data\\nc Files\\MANCHI\\aux_orbits\\GFZ0MGXRAP_20251290000_01D_30S_CLK.CLK file is read in 1.91 seconds\n",
      "This file does not exist: C:\\Users\\varga\\Box\\Data\\nc Files\\MANCHI\\aux_orbits\\GFZ0MGXRAP_20251300000_01D_30S_CLK.CLK\n",
      "Downloading: GFZ0MGXRAP_20251300000_01D_30S_CLK.CLK.gz"
     ]
    },
    {
     "name": "stderr",
     "output_type": "stream",
     "text": [
      "GFZ0MGXRAP_20251300000_01D_30S_CLK.CLK.gz: 4.80MB [00:03, 1.35MB/s]                            \n"
     ]
    },
    {
     "name": "stdout",
     "output_type": "stream",
     "text": [
      " | Download completed for GFZ0MGXRAP_20251300000_01D_30S_CLK.CLK.gz\n",
      "C:\\Users\\varga\\Box\\Data\\nc Files\\MANCHI\\aux_orbits\\GFZ0MGXRAP_20251300000_01D_30S_CLK.CLK file is read in 2.98 seconds\n",
      "SP3 interpolation is done in 3.98 seconds\n",
      "Saved 93896 individual observations in C:\\Users\\varga\\Box\\Data\\nc Files\\MANCHI\\processed\\MANCHI_raw_20250509142653.nc\n",
      "[OK] MANCHI_raw_20250509142653.25O\n",
      "Could not find any files matching the pattern C:\\Users\\varga\\Box\\Data\\nc Files\\MANCHI\\processed*.nc\n",
      "C:\\Users\\varga\\Box\\Data\\nc Files\\MANCHI\\MANCHI_raw_20250510142653.25O exists | Reading...\n",
      "Observation file  C:\\Users\\varga\\Box\\Data\\nc Files\\MANCHI\\MANCHI_raw_20250510142653.25O  is read in 1.89 seconds.\n",
      "Processing 92975 individual observations\n",
      "Calculating Azimuth and Elevation\n",
      "C:\\Users\\varga\\Box\\Data\\nc Files\\MANCHI\\aux_orbits\\GFZ0MGXRAP_20251300000_01D_05M_ORB.SP3 exists | Reading...\n",
      "C:\\Users\\varga\\Box\\Data\\nc Files\\MANCHI\\aux_orbits\\GFZ0MGXRAP_20251300000_01D_05M_ORB.SP3 file is read in 0.35 seconds\n",
      "This file does not exist: C:\\Users\\varga\\Box\\Data\\nc Files\\MANCHI\\aux_orbits\\GFZ0MGXRAP_20251310000_01D_05M_ORB.SP3\n",
      "Downloading: ftp://gssc.esa.int/gnss/products/2366//GFZ0MGXRAP_20251310000_01D_05M_ORB.SP3.gz"
     ]
    },
    {
     "name": "stderr",
     "output_type": "stream",
     "text": [
      "GFZ0MGXRAP_20251310000_01D_05M_ORB.SP3.gz: 1.05MB [00:03, 342kB/s]                             \n"
     ]
    },
    {
     "name": "stdout",
     "output_type": "stream",
     "text": [
      " | Download completed for ftp://gssc.esa.int/gnss/products/2366//GFZ0MGXRAP_20251310000_01D_05M_ORB.SP3.gz\n",
      "C:\\Users\\varga\\Box\\Data\\nc Files\\MANCHI\\aux_orbits\\GFZ0MGXRAP_20251310000_01D_05M_ORB.SP3 file is read in 3.93 seconds\n",
      "C:\\Users\\varga\\Box\\Data\\nc Files\\MANCHI\\aux_orbits\\GFZ0MGXRAP_20251300000_01D_30S_CLK.CLK exists | Reading...\n",
      "C:\\Users\\varga\\Box\\Data\\nc Files\\MANCHI\\aux_orbits\\GFZ0MGXRAP_20251300000_01D_30S_CLK.CLK file is read in 3.20 seconds\n",
      "This file does not exist: C:\\Users\\varga\\Box\\Data\\nc Files\\MANCHI\\aux_orbits\\GFZ0MGXRAP_20251310000_01D_30S_CLK.CLK\n",
      "Downloading: GFZ0MGXRAP_20251310000_01D_30S_CLK.CLK.gz"
     ]
    },
    {
     "name": "stderr",
     "output_type": "stream",
     "text": [
      "GFZ0MGXRAP_20251310000_01D_30S_CLK.CLK.gz: 4.83MB [00:03, 1.37MB/s]                            \n"
     ]
    },
    {
     "name": "stdout",
     "output_type": "stream",
     "text": [
      " | Download completed for GFZ0MGXRAP_20251310000_01D_30S_CLK.CLK.gz\n",
      "C:\\Users\\varga\\Box\\Data\\nc Files\\MANCHI\\aux_orbits\\GFZ0MGXRAP_20251310000_01D_30S_CLK.CLK file is read in 2.51 seconds\n",
      "SP3 interpolation is done in 2.64 seconds\n",
      "Saved 92975 individual observations in C:\\Users\\varga\\Box\\Data\\nc Files\\MANCHI\\processed\\MANCHI_raw_20250510142653.nc\n",
      "[OK] MANCHI_raw_20250510142653.25O\n",
      "Could not find any files matching the pattern C:\\Users\\varga\\Box\\Data\\nc Files\\MANCHI\\processed*.nc\n",
      "C:\\Users\\varga\\Box\\Data\\nc Files\\MANCHI\\MANCHI_raw_20250511142654.25O exists | Reading...\n",
      "Observation file  C:\\Users\\varga\\Box\\Data\\nc Files\\MANCHI\\MANCHI_raw_20250511142654.25O  is read in 3.16 seconds.\n",
      "Processing 92991 individual observations\n",
      "Calculating Azimuth and Elevation\n",
      "C:\\Users\\varga\\Box\\Data\\nc Files\\MANCHI\\aux_orbits\\GFZ0MGXRAP_20251310000_01D_05M_ORB.SP3 exists | Reading...\n",
      "C:\\Users\\varga\\Box\\Data\\nc Files\\MANCHI\\aux_orbits\\GFZ0MGXRAP_20251310000_01D_05M_ORB.SP3 file is read in 0.71 seconds\n",
      "This file does not exist: C:\\Users\\varga\\Box\\Data\\nc Files\\MANCHI\\aux_orbits\\GFZ0MGXRAP_20251320000_01D_05M_ORB.SP3\n",
      "Downloading: ftp://gssc.esa.int/gnss/products/2366//GFZ0MGXRAP_20251320000_01D_05M_ORB.SP3.gz"
     ]
    },
    {
     "name": "stderr",
     "output_type": "stream",
     "text": [
      "GFZ0MGXRAP_20251320000_01D_05M_ORB.SP3.gz: 1.04MB [00:03, 305kB/s]                             \n"
     ]
    },
    {
     "name": "stdout",
     "output_type": "stream",
     "text": [
      " | Download completed for ftp://gssc.esa.int/gnss/products/2366//GFZ0MGXRAP_20251320000_01D_05M_ORB.SP3.gz\n",
      "C:\\Users\\varga\\Box\\Data\\nc Files\\MANCHI\\aux_orbits\\GFZ0MGXRAP_20251320000_01D_05M_ORB.SP3 file is read in 4.41 seconds\n",
      "C:\\Users\\varga\\Box\\Data\\nc Files\\MANCHI\\aux_orbits\\GFZ0MGXRAP_20251310000_01D_30S_CLK.CLK exists | Reading...\n",
      "C:\\Users\\varga\\Box\\Data\\nc Files\\MANCHI\\aux_orbits\\GFZ0MGXRAP_20251310000_01D_30S_CLK.CLK file is read in 2.93 seconds\n",
      "This file does not exist: C:\\Users\\varga\\Box\\Data\\nc Files\\MANCHI\\aux_orbits\\GFZ0MGXRAP_20251320000_01D_30S_CLK.CLK\n",
      "Downloading: GFZ0MGXRAP_20251320000_01D_30S_CLK.CLK.gz"
     ]
    },
    {
     "name": "stderr",
     "output_type": "stream",
     "text": [
      "GFZ0MGXRAP_20251320000_01D_30S_CLK.CLK.gz: 4.77MB [00:16, 306kB/s]                             \n"
     ]
    },
    {
     "name": "stdout",
     "output_type": "stream",
     "text": [
      " | Download completed for GFZ0MGXRAP_20251320000_01D_30S_CLK.CLK.gz\n",
      "C:\\Users\\varga\\Box\\Data\\nc Files\\MANCHI\\aux_orbits\\GFZ0MGXRAP_20251320000_01D_30S_CLK.CLK file is read in 2.05 seconds\n",
      "SP3 interpolation is done in 2.61 seconds\n",
      "Saved 92991 individual observations in C:\\Users\\varga\\Box\\Data\\nc Files\\MANCHI\\processed\\MANCHI_raw_20250511142654.nc\n",
      "[OK] MANCHI_raw_20250511142654.25O\n",
      "Could not find any files matching the pattern C:\\Users\\varga\\Box\\Data\\nc Files\\MANCHI\\processed*.nc\n",
      "C:\\Users\\varga\\Box\\Data\\nc Files\\MANCHI\\MANCHI_raw_20250512142655.25O exists | Reading...\n",
      "Observation file  C:\\Users\\varga\\Box\\Data\\nc Files\\MANCHI\\MANCHI_raw_20250512142655.25O  is read in 2.18 seconds.\n",
      "Processing 93287 individual observations\n",
      "Calculating Azimuth and Elevation\n",
      "C:\\Users\\varga\\Box\\Data\\nc Files\\MANCHI\\aux_orbits\\GFZ0MGXRAP_20251320000_01D_05M_ORB.SP3 exists | Reading...\n",
      "C:\\Users\\varga\\Box\\Data\\nc Files\\MANCHI\\aux_orbits\\GFZ0MGXRAP_20251320000_01D_05M_ORB.SP3 file is read in 0.61 seconds\n",
      "This file does not exist: C:\\Users\\varga\\Box\\Data\\nc Files\\MANCHI\\aux_orbits\\GFZ0MGXRAP_20251330000_01D_05M_ORB.SP3\n",
      "Downloading: ftp://gssc.esa.int/gnss/products/2366//GFZ0MGXRAP_20251330000_01D_05M_ORB.SP3.gz"
     ]
    },
    {
     "name": "stderr",
     "output_type": "stream",
     "text": [
      "GFZ0MGXRAP_20251330000_01D_05M_ORB.SP3.gz: 1.03MB [00:03, 313kB/s]                             \n"
     ]
    },
    {
     "name": "stdout",
     "output_type": "stream",
     "text": [
      " | Download completed for ftp://gssc.esa.int/gnss/products/2366//GFZ0MGXRAP_20251330000_01D_05M_ORB.SP3.gz\n",
      "C:\\Users\\varga\\Box\\Data\\nc Files\\MANCHI\\aux_orbits\\GFZ0MGXRAP_20251330000_01D_05M_ORB.SP3 file is read in 4.05 seconds\n",
      "C:\\Users\\varga\\Box\\Data\\nc Files\\MANCHI\\aux_orbits\\GFZ0MGXRAP_20251320000_01D_30S_CLK.CLK exists | Reading...\n",
      "C:\\Users\\varga\\Box\\Data\\nc Files\\MANCHI\\aux_orbits\\GFZ0MGXRAP_20251320000_01D_30S_CLK.CLK file is read in 2.91 seconds\n",
      "This file does not exist: C:\\Users\\varga\\Box\\Data\\nc Files\\MANCHI\\aux_orbits\\GFZ0MGXRAP_20251330000_01D_30S_CLK.CLK\n",
      "Downloading: GFZ0MGXRAP_20251330000_01D_30S_CLK.CLK.gz"
     ]
    },
    {
     "name": "stderr",
     "output_type": "stream",
     "text": [
      "GFZ0MGXRAP_20251330000_01D_30S_CLK.CLK.gz: 4.74MB [00:04, 1.15MB/s]                            \n"
     ]
    },
    {
     "name": "stdout",
     "output_type": "stream",
     "text": [
      " | Download completed for GFZ0MGXRAP_20251330000_01D_30S_CLK.CLK.gz\n",
      "C:\\Users\\varga\\Box\\Data\\nc Files\\MANCHI\\aux_orbits\\GFZ0MGXRAP_20251330000_01D_30S_CLK.CLK file is read in 3.24 seconds\n",
      "SP3 interpolation is done in 2.66 seconds\n",
      "Saved 93287 individual observations in C:\\Users\\varga\\Box\\Data\\nc Files\\MANCHI\\processed\\MANCHI_raw_20250512142655.nc\n",
      "[OK] MANCHI_raw_20250512142655.25O\n",
      "Could not find any files matching the pattern C:\\Users\\varga\\Box\\Data\\nc Files\\MANCHI\\processed*.nc\n",
      "C:\\Users\\varga\\Box\\Data\\nc Files\\MANCHI\\MANCHI_raw_20250513142656.25O exists | Reading...\n",
      "Observation file  C:\\Users\\varga\\Box\\Data\\nc Files\\MANCHI\\MANCHI_raw_20250513142656.25O  is read in 2.39 seconds.\n",
      "Processing 94365 individual observations\n",
      "Calculating Azimuth and Elevation\n",
      "C:\\Users\\varga\\Box\\Data\\nc Files\\MANCHI\\aux_orbits\\GFZ0MGXRAP_20251330000_01D_05M_ORB.SP3 exists | Reading...\n",
      "C:\\Users\\varga\\Box\\Data\\nc Files\\MANCHI\\aux_orbits\\GFZ0MGXRAP_20251330000_01D_05M_ORB.SP3 file is read in 0.74 seconds\n",
      "This file does not exist: C:\\Users\\varga\\Box\\Data\\nc Files\\MANCHI\\aux_orbits\\GFZ0MGXRAP_20251340000_01D_05M_ORB.SP3\n",
      "Downloading: ftp://gssc.esa.int/gnss/products/2366//GFZ0MGXRAP_20251340000_01D_05M_ORB.SP3.gz"
     ]
    },
    {
     "name": "stderr",
     "output_type": "stream",
     "text": [
      "GFZ0MGXRAP_20251340000_01D_05M_ORB.SP3.gz: 1.04MB [00:10, 104kB/s]                             \n"
     ]
    },
    {
     "name": "stdout",
     "output_type": "stream",
     "text": [
      " | Download completed for ftp://gssc.esa.int/gnss/products/2366//GFZ0MGXRAP_20251340000_01D_05M_ORB.SP3.gz\n",
      "C:\\Users\\varga\\Box\\Data\\nc Files\\MANCHI\\aux_orbits\\GFZ0MGXRAP_20251340000_01D_05M_ORB.SP3 file is read in 11.09 seconds\n",
      "C:\\Users\\varga\\Box\\Data\\nc Files\\MANCHI\\aux_orbits\\GFZ0MGXRAP_20251330000_01D_30S_CLK.CLK exists | Reading...\n",
      "C:\\Users\\varga\\Box\\Data\\nc Files\\MANCHI\\aux_orbits\\GFZ0MGXRAP_20251330000_01D_30S_CLK.CLK file is read in 2.91 seconds\n",
      "This file does not exist: C:\\Users\\varga\\Box\\Data\\nc Files\\MANCHI\\aux_orbits\\GFZ0MGXRAP_20251340000_01D_30S_CLK.CLK\n",
      "Downloading: GFZ0MGXRAP_20251340000_01D_30S_CLK.CLK.gz"
     ]
    },
    {
     "name": "stderr",
     "output_type": "stream",
     "text": [
      "GFZ0MGXRAP_20251340000_01D_30S_CLK.CLK.gz: 4.77MB [00:04, 1.05MB/s]                            \n"
     ]
    },
    {
     "name": "stdout",
     "output_type": "stream",
     "text": [
      " | Download completed for GFZ0MGXRAP_20251340000_01D_30S_CLK.CLK.gz\n",
      "C:\\Users\\varga\\Box\\Data\\nc Files\\MANCHI\\aux_orbits\\GFZ0MGXRAP_20251340000_01D_30S_CLK.CLK file is read in 5.00 seconds\n",
      "SP3 interpolation is done in 2.57 seconds\n",
      "Saved 94365 individual observations in C:\\Users\\varga\\Box\\Data\\nc Files\\MANCHI\\processed\\MANCHI_raw_20250513142656.nc\n",
      "[OK] MANCHI_raw_20250513142656.25O\n",
      "Could not find any files matching the pattern C:\\Users\\varga\\Box\\Data\\nc Files\\MANCHI\\processed*.nc\n",
      "C:\\Users\\varga\\Box\\Data\\nc Files\\MANCHI\\MANCHI_raw_20250514142657.25O exists | Reading...\n",
      "Observation file  C:\\Users\\varga\\Box\\Data\\nc Files\\MANCHI\\MANCHI_raw_20250514142657.25O  is read in 1.94 seconds.\n",
      "Processing 92564 individual observations\n",
      "Calculating Azimuth and Elevation\n",
      "C:\\Users\\varga\\Box\\Data\\nc Files\\MANCHI\\aux_orbits\\GFZ0MGXRAP_20251340000_01D_05M_ORB.SP3 exists | Reading...\n",
      "C:\\Users\\varga\\Box\\Data\\nc Files\\MANCHI\\aux_orbits\\GFZ0MGXRAP_20251340000_01D_05M_ORB.SP3 file is read in 0.43 seconds\n",
      "This file does not exist: C:\\Users\\varga\\Box\\Data\\nc Files\\MANCHI\\aux_orbits\\GFZ0MGXRAP_20251350000_01D_05M_ORB.SP3\n",
      "Downloading: ftp://gssc.esa.int/gnss/products/2366//GFZ0MGXRAP_20251350000_01D_05M_ORB.SP3.gz"
     ]
    },
    {
     "name": "stderr",
     "output_type": "stream",
     "text": [
      "GFZ0MGXRAP_20251350000_01D_05M_ORB.SP3.gz: 1.05MB [00:03, 342kB/s]                             \n"
     ]
    },
    {
     "name": "stdout",
     "output_type": "stream",
     "text": [
      " | Download completed for ftp://gssc.esa.int/gnss/products/2366//GFZ0MGXRAP_20251350000_01D_05M_ORB.SP3.gz\n",
      "C:\\Users\\varga\\Box\\Data\\nc Files\\MANCHI\\aux_orbits\\GFZ0MGXRAP_20251350000_01D_05M_ORB.SP3 file is read in 4.00 seconds\n",
      "C:\\Users\\varga\\Box\\Data\\nc Files\\MANCHI\\aux_orbits\\GFZ0MGXRAP_20251340000_01D_30S_CLK.CLK exists | Reading...\n",
      "C:\\Users\\varga\\Box\\Data\\nc Files\\MANCHI\\aux_orbits\\GFZ0MGXRAP_20251340000_01D_30S_CLK.CLK file is read in 3.22 seconds\n",
      "This file does not exist: C:\\Users\\varga\\Box\\Data\\nc Files\\MANCHI\\aux_orbits\\GFZ0MGXRAP_20251350000_01D_30S_CLK.CLK\n",
      "Downloading: GFZ0MGXRAP_20251350000_01D_30S_CLK.CLK.gz"
     ]
    },
    {
     "name": "stderr",
     "output_type": "stream",
     "text": [
      "GFZ0MGXRAP_20251350000_01D_30S_CLK.CLK.gz: 4.77MB [00:27, 179kB/s]                             \n"
     ]
    },
    {
     "name": "stdout",
     "output_type": "stream",
     "text": [
      " | Download completed for GFZ0MGXRAP_20251350000_01D_30S_CLK.CLK.gz\n",
      "C:\\Users\\varga\\Box\\Data\\nc Files\\MANCHI\\aux_orbits\\GFZ0MGXRAP_20251350000_01D_30S_CLK.CLK file is read in 1.92 seconds\n",
      "SP3 interpolation is done in 2.49 seconds\n",
      "Saved 92564 individual observations in C:\\Users\\varga\\Box\\Data\\nc Files\\MANCHI\\processed\\MANCHI_raw_20250514142657.nc\n",
      "[OK] MANCHI_raw_20250514142657.25O\n",
      "Could not find any files matching the pattern C:\\Users\\varga\\Box\\Data\\nc Files\\MANCHI\\processed*.nc\n",
      "C:\\Users\\varga\\Box\\Data\\nc Files\\MANCHI\\MANCHI_raw_20250515142658.25O exists | Reading...\n",
      "Observation file  C:\\Users\\varga\\Box\\Data\\nc Files\\MANCHI\\MANCHI_raw_20250515142658.25O  is read in 1.93 seconds.\n",
      "Processing 93569 individual observations\n",
      "Calculating Azimuth and Elevation\n",
      "C:\\Users\\varga\\Box\\Data\\nc Files\\MANCHI\\aux_orbits\\GFZ0MGXRAP_20251350000_01D_05M_ORB.SP3 exists | Reading...\n",
      "C:\\Users\\varga\\Box\\Data\\nc Files\\MANCHI\\aux_orbits\\GFZ0MGXRAP_20251350000_01D_05M_ORB.SP3 file is read in 0.66 seconds\n",
      "This file does not exist: C:\\Users\\varga\\Box\\Data\\nc Files\\MANCHI\\aux_orbits\\GFZ0MGXRAP_20251360000_01D_05M_ORB.SP3\n",
      "Downloading: ftp://gssc.esa.int/gnss/products/2366//GFZ0MGXRAP_20251360000_01D_05M_ORB.SP3.gz"
     ]
    },
    {
     "name": "stderr",
     "output_type": "stream",
     "text": [
      "GFZ0MGXRAP_20251360000_01D_05M_ORB.SP3.gz: 1.03MB [00:04, 233kB/s]                             \n"
     ]
    },
    {
     "name": "stdout",
     "output_type": "stream",
     "text": [
      " | Download completed for ftp://gssc.esa.int/gnss/products/2366//GFZ0MGXRAP_20251360000_01D_05M_ORB.SP3.gz\n",
      "C:\\Users\\varga\\Box\\Data\\nc Files\\MANCHI\\aux_orbits\\GFZ0MGXRAP_20251360000_01D_05M_ORB.SP3 file is read in 5.40 seconds\n",
      "C:\\Users\\varga\\Box\\Data\\nc Files\\MANCHI\\aux_orbits\\GFZ0MGXRAP_20251350000_01D_30S_CLK.CLK exists | Reading...\n",
      "C:\\Users\\varga\\Box\\Data\\nc Files\\MANCHI\\aux_orbits\\GFZ0MGXRAP_20251350000_01D_30S_CLK.CLK file is read in 2.46 seconds\n",
      "This file does not exist: C:\\Users\\varga\\Box\\Data\\nc Files\\MANCHI\\aux_orbits\\GFZ0MGXRAP_20251360000_01D_30S_CLK.CLK\n",
      "Downloading: GFZ0MGXRAP_20251360000_01D_30S_CLK.CLK.gz"
     ]
    },
    {
     "name": "stderr",
     "output_type": "stream",
     "text": [
      "GFZ0MGXRAP_20251360000_01D_30S_CLK.CLK.gz: 4.73MB [00:17, 284kB/s]                             \n"
     ]
    },
    {
     "name": "stdout",
     "output_type": "stream",
     "text": [
      " | Download completed for GFZ0MGXRAP_20251360000_01D_30S_CLK.CLK.gz\n",
      "C:\\Users\\varga\\Box\\Data\\nc Files\\MANCHI\\aux_orbits\\GFZ0MGXRAP_20251360000_01D_30S_CLK.CLK file is read in 1.90 seconds\n",
      "SP3 interpolation is done in 2.43 seconds\n",
      "Saved 93569 individual observations in C:\\Users\\varga\\Box\\Data\\nc Files\\MANCHI\\processed\\MANCHI_raw_20250515142658.nc\n",
      "[OK] MANCHI_raw_20250515142658.25O\n",
      "Could not find any files matching the pattern C:\\Users\\varga\\Box\\Data\\nc Files\\MANCHI\\processed*.nc\n",
      "C:\\Users\\varga\\Box\\Data\\nc Files\\MANCHI\\MANCHI_raw_20250516142658.25O exists | Reading...\n",
      "Observation file  C:\\Users\\varga\\Box\\Data\\nc Files\\MANCHI\\MANCHI_raw_20250516142658.25O  is read in 1.93 seconds.\n",
      "Processing 94097 individual observations\n",
      "Calculating Azimuth and Elevation\n",
      "C:\\Users\\varga\\Box\\Data\\nc Files\\MANCHI\\aux_orbits\\GFZ0MGXRAP_20251360000_01D_05M_ORB.SP3 exists | Reading...\n",
      "C:\\Users\\varga\\Box\\Data\\nc Files\\MANCHI\\aux_orbits\\GFZ0MGXRAP_20251360000_01D_05M_ORB.SP3 file is read in 0.60 seconds\n",
      "This file does not exist: C:\\Users\\varga\\Box\\Data\\nc Files\\MANCHI\\aux_orbits\\GFZ0MGXRAP_20251370000_01D_05M_ORB.SP3\n",
      "Downloading: ftp://gssc.esa.int/gnss/products/2366//GFZ0MGXRAP_20251370000_01D_05M_ORB.SP3.gz"
     ]
    },
    {
     "name": "stderr",
     "output_type": "stream",
     "text": [
      "GFZ0MGXRAP_20251370000_01D_05M_ORB.SP3.gz: 1.03MB [00:06, 160kB/s]                             \n"
     ]
    },
    {
     "name": "stdout",
     "output_type": "stream",
     "text": [
      " | Download completed for ftp://gssc.esa.int/gnss/products/2366//GFZ0MGXRAP_20251370000_01D_05M_ORB.SP3.gz\n",
      "C:\\Users\\varga\\Box\\Data\\nc Files\\MANCHI\\aux_orbits\\GFZ0MGXRAP_20251370000_01D_05M_ORB.SP3 file is read in 7.36 seconds\n",
      "C:\\Users\\varga\\Box\\Data\\nc Files\\MANCHI\\aux_orbits\\GFZ0MGXRAP_20251360000_01D_30S_CLK.CLK exists | Reading...\n",
      "C:\\Users\\varga\\Box\\Data\\nc Files\\MANCHI\\aux_orbits\\GFZ0MGXRAP_20251360000_01D_30S_CLK.CLK file is read in 1.94 seconds\n",
      "This file does not exist: C:\\Users\\varga\\Box\\Data\\nc Files\\MANCHI\\aux_orbits\\GFZ0MGXRAP_20251370000_01D_30S_CLK.CLK\n",
      "Downloading: GFZ0MGXRAP_20251370000_01D_30S_CLK.CLK.gz"
     ]
    },
    {
     "name": "stderr",
     "output_type": "stream",
     "text": [
      "GFZ0MGXRAP_20251370000_01D_30S_CLK.CLK.gz: 4.71MB [00:10, 453kB/s]                             \n"
     ]
    },
    {
     "name": "stdout",
     "output_type": "stream",
     "text": [
      " | Download completed for GFZ0MGXRAP_20251370000_01D_30S_CLK.CLK.gz\n",
      "C:\\Users\\varga\\Box\\Data\\nc Files\\MANCHI\\aux_orbits\\GFZ0MGXRAP_20251370000_01D_30S_CLK.CLK file is read in 1.99 seconds\n",
      "SP3 interpolation is done in 2.41 seconds\n",
      "Saved 94097 individual observations in C:\\Users\\varga\\Box\\Data\\nc Files\\MANCHI\\processed\\MANCHI_raw_20250516142658.nc\n",
      "[OK] MANCHI_raw_20250516142658.25O\n",
      "Could not find any files matching the pattern C:\\Users\\varga\\Box\\Data\\nc Files\\MANCHI\\processed*.nc\n",
      "C:\\Users\\varga\\Box\\Data\\nc Files\\MANCHI\\MANCHI_raw_20250517142659.25O exists | Reading...\n",
      "Observation file  C:\\Users\\varga\\Box\\Data\\nc Files\\MANCHI\\MANCHI_raw_20250517142659.25O  is read in 2.26 seconds.\n",
      "Processing 91037 individual observations\n",
      "Calculating Azimuth and Elevation\n",
      "C:\\Users\\varga\\Box\\Data\\nc Files\\MANCHI\\aux_orbits\\GFZ0MGXRAP_20251370000_01D_05M_ORB.SP3 exists | Reading...\n",
      "C:\\Users\\varga\\Box\\Data\\nc Files\\MANCHI\\aux_orbits\\GFZ0MGXRAP_20251370000_01D_05M_ORB.SP3 file is read in 0.64 seconds\n",
      "This file does not exist: C:\\Users\\varga\\Box\\Data\\nc Files\\MANCHI\\aux_orbits\\GFZ0MGXRAP_20251380000_01D_05M_ORB.SP3\n",
      "Downloading: ftp://gssc.esa.int/gnss/products/2367//GFZ0MGXRAP_20251380000_01D_05M_ORB.SP3.gz"
     ]
    },
    {
     "name": "stderr",
     "output_type": "stream",
     "text": [
      "GFZ0MGXRAP_20251380000_01D_05M_ORB.SP3.gz: 1.05MB [00:08, 132kB/s]                             \n"
     ]
    },
    {
     "name": "stdout",
     "output_type": "stream",
     "text": [
      " | Download completed for ftp://gssc.esa.int/gnss/products/2367//GFZ0MGXRAP_20251380000_01D_05M_ORB.SP3.gz\n",
      "C:\\Users\\varga\\Box\\Data\\nc Files\\MANCHI\\aux_orbits\\GFZ0MGXRAP_20251380000_01D_05M_ORB.SP3 file is read in 8.83 seconds\n",
      "C:\\Users\\varga\\Box\\Data\\nc Files\\MANCHI\\aux_orbits\\GFZ0MGXRAP_20251370000_01D_30S_CLK.CLK exists | Reading...\n",
      "C:\\Users\\varga\\Box\\Data\\nc Files\\MANCHI\\aux_orbits\\GFZ0MGXRAP_20251370000_01D_30S_CLK.CLK file is read in 2.00 seconds\n",
      "This file does not exist: C:\\Users\\varga\\Box\\Data\\nc Files\\MANCHI\\aux_orbits\\GFZ0MGXRAP_20251380000_01D_30S_CLK.CLK\n",
      "Downloading: GFZ0MGXRAP_20251380000_01D_30S_CLK.CLK.gz"
     ]
    },
    {
     "name": "stderr",
     "output_type": "stream",
     "text": [
      "GFZ0MGXRAP_20251380000_01D_30S_CLK.CLK.gz: 4.78MB [00:23, 211kB/s]                             \n"
     ]
    },
    {
     "name": "stdout",
     "output_type": "stream",
     "text": [
      " | Download completed for GFZ0MGXRAP_20251380000_01D_30S_CLK.CLK.gz\n",
      "C:\\Users\\varga\\Box\\Data\\nc Files\\MANCHI\\aux_orbits\\GFZ0MGXRAP_20251380000_01D_30S_CLK.CLK file is read in 2.02 seconds\n",
      "SP3 interpolation is done in 2.44 seconds\n",
      "Saved 91037 individual observations in C:\\Users\\varga\\Box\\Data\\nc Files\\MANCHI\\processed\\MANCHI_raw_20250517142659.nc\n",
      "[OK] MANCHI_raw_20250517142659.25O\n",
      "Could not find any files matching the pattern C:\\Users\\varga\\Box\\Data\\nc Files\\MANCHI\\processed*.nc\n",
      "C:\\Users\\varga\\Box\\Data\\nc Files\\MANCHI\\MANCHI_raw_20250518142700.25O exists | Reading...\n",
      "Observation file  C:\\Users\\varga\\Box\\Data\\nc Files\\MANCHI\\MANCHI_raw_20250518142700.25O  is read in 1.87 seconds.\n",
      "Processing 93115 individual observations\n",
      "Calculating Azimuth and Elevation\n",
      "C:\\Users\\varga\\Box\\Data\\nc Files\\MANCHI\\aux_orbits\\GFZ0MGXRAP_20251380000_01D_05M_ORB.SP3 exists | Reading...\n",
      "C:\\Users\\varga\\Box\\Data\\nc Files\\MANCHI\\aux_orbits\\GFZ0MGXRAP_20251380000_01D_05M_ORB.SP3 file is read in 0.75 seconds\n",
      "This file does not exist: C:\\Users\\varga\\Box\\Data\\nc Files\\MANCHI\\aux_orbits\\GFZ0MGXRAP_20251390000_01D_05M_ORB.SP3\n",
      "Downloading: ftp://gssc.esa.int/gnss/products/2367//GFZ0MGXRAP_20251390000_01D_05M_ORB.SP3.gz"
     ]
    },
    {
     "name": "stderr",
     "output_type": "stream",
     "text": [
      "GFZ0MGXRAP_20251390000_01D_05M_ORB.SP3.gz: 1.05MB [00:03, 319kB/s]                             \n"
     ]
    },
    {
     "name": "stdout",
     "output_type": "stream",
     "text": [
      " | Download completed for ftp://gssc.esa.int/gnss/products/2367//GFZ0MGXRAP_20251390000_01D_05M_ORB.SP3.gz\n",
      "C:\\Users\\varga\\Box\\Data\\nc Files\\MANCHI\\aux_orbits\\GFZ0MGXRAP_20251390000_01D_05M_ORB.SP3 file is read in 3.97 seconds\n",
      "C:\\Users\\varga\\Box\\Data\\nc Files\\MANCHI\\aux_orbits\\GFZ0MGXRAP_20251380000_01D_30S_CLK.CLK exists | Reading...\n",
      "C:\\Users\\varga\\Box\\Data\\nc Files\\MANCHI\\aux_orbits\\GFZ0MGXRAP_20251380000_01D_30S_CLK.CLK file is read in 2.10 seconds\n",
      "This file does not exist: C:\\Users\\varga\\Box\\Data\\nc Files\\MANCHI\\aux_orbits\\GFZ0MGXRAP_20251390000_01D_30S_CLK.CLK\n",
      "Downloading: GFZ0MGXRAP_20251390000_01D_30S_CLK.CLK.gz"
     ]
    },
    {
     "name": "stderr",
     "output_type": "stream",
     "text": [
      "GFZ0MGXRAP_20251390000_01D_30S_CLK.CLK.gz: 4.79MB [00:04, 1.18MB/s]                            \n"
     ]
    },
    {
     "name": "stdout",
     "output_type": "stream",
     "text": [
      " | Download completed for GFZ0MGXRAP_20251390000_01D_30S_CLK.CLK.gz\n",
      "C:\\Users\\varga\\Box\\Data\\nc Files\\MANCHI\\aux_orbits\\GFZ0MGXRAP_20251390000_01D_30S_CLK.CLK file is read in 2.06 seconds\n",
      "SP3 interpolation is done in 3.67 seconds\n",
      "Saved 93115 individual observations in C:\\Users\\varga\\Box\\Data\\nc Files\\MANCHI\\processed\\MANCHI_raw_20250518142700.nc\n",
      "[OK] MANCHI_raw_20250518142700.25O\n",
      "Could not find any files matching the pattern C:\\Users\\varga\\Box\\Data\\nc Files\\MANCHI\\processed*.nc\n",
      "C:\\Users\\varga\\Box\\Data\\nc Files\\MANCHI\\MANCHI_raw_20250519142700.25O exists | Reading...\n",
      "Observation file  C:\\Users\\varga\\Box\\Data\\nc Files\\MANCHI\\MANCHI_raw_20250519142700.25O  is read in 3.23 seconds.\n",
      "Processing 91798 individual observations\n",
      "Calculating Azimuth and Elevation\n",
      "C:\\Users\\varga\\Box\\Data\\nc Files\\MANCHI\\aux_orbits\\GFZ0MGXRAP_20251390000_01D_05M_ORB.SP3 exists | Reading...\n",
      "C:\\Users\\varga\\Box\\Data\\nc Files\\MANCHI\\aux_orbits\\GFZ0MGXRAP_20251390000_01D_05M_ORB.SP3 file is read in 0.85 seconds\n",
      "This file does not exist: C:\\Users\\varga\\Box\\Data\\nc Files\\MANCHI\\aux_orbits\\GFZ0MGXRAP_20251400000_01D_05M_ORB.SP3\n",
      "Downloading: ftp://gssc.esa.int/gnss/products/2367//GFZ0MGXRAP_20251400000_01D_05M_ORB.SP3.gz"
     ]
    },
    {
     "name": "stderr",
     "output_type": "stream",
     "text": [
      "GFZ0MGXRAP_20251400000_01D_05M_ORB.SP3.gz: 1.05MB [00:03, 326kB/s]                             \n"
     ]
    },
    {
     "name": "stdout",
     "output_type": "stream",
     "text": [
      " | Download completed for ftp://gssc.esa.int/gnss/products/2367//GFZ0MGXRAP_20251400000_01D_05M_ORB.SP3.gz\n",
      "C:\\Users\\varga\\Box\\Data\\nc Files\\MANCHI\\aux_orbits\\GFZ0MGXRAP_20251400000_01D_05M_ORB.SP3 file is read in 3.86 seconds\n",
      "C:\\Users\\varga\\Box\\Data\\nc Files\\MANCHI\\aux_orbits\\GFZ0MGXRAP_20251390000_01D_30S_CLK.CLK exists | Reading...\n",
      "C:\\Users\\varga\\Box\\Data\\nc Files\\MANCHI\\aux_orbits\\GFZ0MGXRAP_20251390000_01D_30S_CLK.CLK file is read in 2.04 seconds\n",
      "This file does not exist: C:\\Users\\varga\\Box\\Data\\nc Files\\MANCHI\\aux_orbits\\GFZ0MGXRAP_20251400000_01D_30S_CLK.CLK\n",
      "Downloading: GFZ0MGXRAP_20251400000_01D_30S_CLK.CLK.gz"
     ]
    },
    {
     "name": "stderr",
     "output_type": "stream",
     "text": [
      "GFZ0MGXRAP_20251400000_01D_30S_CLK.CLK.gz: 4.80MB [00:22, 226kB/s]                             \n"
     ]
    },
    {
     "name": "stdout",
     "output_type": "stream",
     "text": [
      " | Download completed for GFZ0MGXRAP_20251400000_01D_30S_CLK.CLK.gz\n",
      "C:\\Users\\varga\\Box\\Data\\nc Files\\MANCHI\\aux_orbits\\GFZ0MGXRAP_20251400000_01D_30S_CLK.CLK file is read in 2.18 seconds\n",
      "SP3 interpolation is done in 2.56 seconds\n",
      "Saved 91798 individual observations in C:\\Users\\varga\\Box\\Data\\nc Files\\MANCHI\\processed\\MANCHI_raw_20250519142700.nc\n",
      "[OK] MANCHI_raw_20250519142700.25O\n",
      "Could not find any files matching the pattern C:\\Users\\varga\\Box\\Data\\nc Files\\MANCHI\\processed*.nc\n",
      "C:\\Users\\varga\\Box\\Data\\nc Files\\MANCHI\\MANCHI_raw_20250520142701.25O exists | Reading...\n",
      "Observation file  C:\\Users\\varga\\Box\\Data\\nc Files\\MANCHI\\MANCHI_raw_20250520142701.25O  is read in 2.17 seconds.\n",
      "Processing 91751 individual observations\n",
      "Calculating Azimuth and Elevation\n",
      "C:\\Users\\varga\\Box\\Data\\nc Files\\MANCHI\\aux_orbits\\GFZ0MGXRAP_20251400000_01D_05M_ORB.SP3 exists | Reading...\n",
      "C:\\Users\\varga\\Box\\Data\\nc Files\\MANCHI\\aux_orbits\\GFZ0MGXRAP_20251400000_01D_05M_ORB.SP3 file is read in 0.69 seconds\n",
      "This file does not exist: C:\\Users\\varga\\Box\\Data\\nc Files\\MANCHI\\aux_orbits\\GFZ0MGXRAP_20251410000_01D_05M_ORB.SP3\n",
      "Downloading: ftp://gssc.esa.int/gnss/products/2367//GFZ0MGXRAP_20251410000_01D_05M_ORB.SP3.gz"
     ]
    },
    {
     "name": "stderr",
     "output_type": "stream",
     "text": [
      "GFZ0MGXRAP_20251410000_01D_05M_ORB.SP3.gz: 1.04MB [00:03, 313kB/s]                             \n"
     ]
    },
    {
     "name": "stdout",
     "output_type": "stream",
     "text": [
      " | Download completed for ftp://gssc.esa.int/gnss/products/2367//GFZ0MGXRAP_20251410000_01D_05M_ORB.SP3.gz\n",
      "C:\\Users\\varga\\Box\\Data\\nc Files\\MANCHI\\aux_orbits\\GFZ0MGXRAP_20251410000_01D_05M_ORB.SP3 file is read in 3.99 seconds\n",
      "C:\\Users\\varga\\Box\\Data\\nc Files\\MANCHI\\aux_orbits\\GFZ0MGXRAP_20251400000_01D_30S_CLK.CLK exists | Reading...\n",
      "C:\\Users\\varga\\Box\\Data\\nc Files\\MANCHI\\aux_orbits\\GFZ0MGXRAP_20251400000_01D_30S_CLK.CLK file is read in 2.03 seconds\n",
      "This file does not exist: C:\\Users\\varga\\Box\\Data\\nc Files\\MANCHI\\aux_orbits\\GFZ0MGXRAP_20251410000_01D_30S_CLK.CLK\n",
      "Downloading: GFZ0MGXRAP_20251410000_01D_30S_CLK.CLK.gz"
     ]
    },
    {
     "name": "stderr",
     "output_type": "stream",
     "text": [
      "GFZ0MGXRAP_20251410000_01D_30S_CLK.CLK.gz: 4.75MB [00:15, 322kB/s]                             \n"
     ]
    },
    {
     "name": "stdout",
     "output_type": "stream",
     "text": [
      " | Download completed for GFZ0MGXRAP_20251410000_01D_30S_CLK.CLK.gz\n",
      "C:\\Users\\varga\\Box\\Data\\nc Files\\MANCHI\\aux_orbits\\GFZ0MGXRAP_20251410000_01D_30S_CLK.CLK file is read in 2.03 seconds\n",
      "SP3 interpolation is done in 2.57 seconds\n",
      "Saved 91751 individual observations in C:\\Users\\varga\\Box\\Data\\nc Files\\MANCHI\\processed\\MANCHI_raw_20250520142701.nc\n",
      "[OK] MANCHI_raw_20250520142701.25O\n",
      "Could not find any files matching the pattern C:\\Users\\varga\\Box\\Data\\nc Files\\MANCHI\\processed*.nc\n",
      "C:\\Users\\varga\\Box\\Data\\nc Files\\MANCHI\\MANCHI_raw_20250521142702.25O exists | Reading...\n",
      "Observation file  C:\\Users\\varga\\Box\\Data\\nc Files\\MANCHI\\MANCHI_raw_20250521142702.25O  is read in 1.87 seconds.\n",
      "Processing 91712 individual observations\n",
      "Calculating Azimuth and Elevation\n",
      "C:\\Users\\varga\\Box\\Data\\nc Files\\MANCHI\\aux_orbits\\GFZ0MGXRAP_20251410000_01D_05M_ORB.SP3 exists | Reading...\n",
      "C:\\Users\\varga\\Box\\Data\\nc Files\\MANCHI\\aux_orbits\\GFZ0MGXRAP_20251410000_01D_05M_ORB.SP3 file is read in 0.70 seconds\n",
      "This file does not exist: C:\\Users\\varga\\Box\\Data\\nc Files\\MANCHI\\aux_orbits\\GFZ0MGXRAP_20251420000_01D_05M_ORB.SP3\n",
      "Downloading: ftp://gssc.esa.int/gnss/products/2367//GFZ0MGXRAP_20251420000_01D_05M_ORB.SP3.gz"
     ]
    },
    {
     "name": "stderr",
     "output_type": "stream",
     "text": [
      "GFZ0MGXRAP_20251420000_01D_05M_ORB.SP3.gz: 1.03MB [00:03, 325kB/s]                             \n"
     ]
    },
    {
     "name": "stdout",
     "output_type": "stream",
     "text": [
      " | Download completed for ftp://gssc.esa.int/gnss/products/2367//GFZ0MGXRAP_20251420000_01D_05M_ORB.SP3.gz\n",
      "C:\\Users\\varga\\Box\\Data\\nc Files\\MANCHI\\aux_orbits\\GFZ0MGXRAP_20251420000_01D_05M_ORB.SP3 file is read in 4.30 seconds\n",
      "C:\\Users\\varga\\Box\\Data\\nc Files\\MANCHI\\aux_orbits\\GFZ0MGXRAP_20251410000_01D_30S_CLK.CLK exists | Reading...\n",
      "C:\\Users\\varga\\Box\\Data\\nc Files\\MANCHI\\aux_orbits\\GFZ0MGXRAP_20251410000_01D_30S_CLK.CLK file is read in 3.71 seconds\n",
      "This file does not exist: C:\\Users\\varga\\Box\\Data\\nc Files\\MANCHI\\aux_orbits\\GFZ0MGXRAP_20251420000_01D_30S_CLK.CLK\n",
      "Downloading: GFZ0MGXRAP_20251420000_01D_30S_CLK.CLK.gz"
     ]
    },
    {
     "name": "stderr",
     "output_type": "stream",
     "text": [
      "GFZ0MGXRAP_20251420000_01D_30S_CLK.CLK.gz: 4.74MB [00:04, 1.02MB/s]                            \n"
     ]
    },
    {
     "name": "stdout",
     "output_type": "stream",
     "text": [
      " | Download completed for GFZ0MGXRAP_20251420000_01D_30S_CLK.CLK.gz\n",
      "C:\\Users\\varga\\Box\\Data\\nc Files\\MANCHI\\aux_orbits\\GFZ0MGXRAP_20251420000_01D_30S_CLK.CLK file is read in 2.52 seconds\n",
      "SP3 interpolation is done in 3.45 seconds\n",
      "Saved 91712 individual observations in C:\\Users\\varga\\Box\\Data\\nc Files\\MANCHI\\processed\\MANCHI_raw_20250521142702.nc\n",
      "[OK] MANCHI_raw_20250521142702.25O\n",
      "Could not find any files matching the pattern C:\\Users\\varga\\Box\\Data\\nc Files\\MANCHI\\processed*.nc\n",
      "C:\\Users\\varga\\Box\\Data\\nc Files\\MANCHI\\MANCHI_raw_20250522142702.25O exists | Reading...\n",
      "Observation file  C:\\Users\\varga\\Box\\Data\\nc Files\\MANCHI\\MANCHI_raw_20250522142702.25O  is read in 3.14 seconds.\n",
      "Processing 92283 individual observations\n",
      "Calculating Azimuth and Elevation\n",
      "C:\\Users\\varga\\Box\\Data\\nc Files\\MANCHI\\aux_orbits\\GFZ0MGXRAP_20251420000_01D_05M_ORB.SP3 exists | Reading...\n",
      "C:\\Users\\varga\\Box\\Data\\nc Files\\MANCHI\\aux_orbits\\GFZ0MGXRAP_20251420000_01D_05M_ORB.SP3 file is read in 0.67 seconds\n",
      "This file does not exist: C:\\Users\\varga\\Box\\Data\\nc Files\\MANCHI\\aux_orbits\\GFZ0MGXRAP_20251430000_01D_05M_ORB.SP3\n",
      "Downloading: ftp://gssc.esa.int/gnss/products/2367//GFZ0MGXRAP_20251430000_01D_05M_ORB.SP3.gz"
     ]
    },
    {
     "name": "stderr",
     "output_type": "stream",
     "text": [
      "GFZ0MGXRAP_20251430000_01D_05M_ORB.SP3.gz: 1.05MB [00:03, 306kB/s]                             \n"
     ]
    },
    {
     "name": "stdout",
     "output_type": "stream",
     "text": [
      " | Download completed for ftp://gssc.esa.int/gnss/products/2367//GFZ0MGXRAP_20251430000_01D_05M_ORB.SP3.gz\n",
      "C:\\Users\\varga\\Box\\Data\\nc Files\\MANCHI\\aux_orbits\\GFZ0MGXRAP_20251430000_01D_05M_ORB.SP3 file is read in 4.26 seconds\n",
      "C:\\Users\\varga\\Box\\Data\\nc Files\\MANCHI\\aux_orbits\\GFZ0MGXRAP_20251420000_01D_30S_CLK.CLK exists | Reading...\n",
      "C:\\Users\\varga\\Box\\Data\\nc Files\\MANCHI\\aux_orbits\\GFZ0MGXRAP_20251420000_01D_30S_CLK.CLK file is read in 2.32 seconds\n",
      "This file does not exist: C:\\Users\\varga\\Box\\Data\\nc Files\\MANCHI\\aux_orbits\\GFZ0MGXRAP_20251430000_01D_30S_CLK.CLK\n",
      "Downloading: GFZ0MGXRAP_20251430000_01D_30S_CLK.CLK.gz"
     ]
    },
    {
     "name": "stderr",
     "output_type": "stream",
     "text": [
      "GFZ0MGXRAP_20251430000_01D_30S_CLK.CLK.gz: 4.78MB [00:04, 1.23MB/s]                            \n"
     ]
    },
    {
     "name": "stdout",
     "output_type": "stream",
     "text": [
      " | Download completed for GFZ0MGXRAP_20251430000_01D_30S_CLK.CLK.gz\n",
      "C:\\Users\\varga\\Box\\Data\\nc Files\\MANCHI\\aux_orbits\\GFZ0MGXRAP_20251430000_01D_30S_CLK.CLK file is read in 2.72 seconds\n",
      "SP3 interpolation is done in 3.09 seconds\n",
      "Saved 92283 individual observations in C:\\Users\\varga\\Box\\Data\\nc Files\\MANCHI\\processed\\MANCHI_raw_20250522142702.nc\n",
      "[OK] MANCHI_raw_20250522142702.25O\n",
      "Could not find any files matching the pattern C:\\Users\\varga\\Box\\Data\\nc Files\\MANCHI\\processed*.nc\n",
      "C:\\Users\\varga\\Box\\Data\\nc Files\\MANCHI\\MANCHI_raw_20250523142703.25O exists | Reading...\n",
      "Observation file  C:\\Users\\varga\\Box\\Data\\nc Files\\MANCHI\\MANCHI_raw_20250523142703.25O  is read in 3.26 seconds.\n",
      "Processing 92292 individual observations\n",
      "Calculating Azimuth and Elevation\n",
      "C:\\Users\\varga\\Box\\Data\\nc Files\\MANCHI\\aux_orbits\\GFZ0MGXRAP_20251430000_01D_05M_ORB.SP3 exists | Reading...\n",
      "C:\\Users\\varga\\Box\\Data\\nc Files\\MANCHI\\aux_orbits\\GFZ0MGXRAP_20251430000_01D_05M_ORB.SP3 file is read in 4.25 seconds\n",
      "This file does not exist: C:\\Users\\varga\\Box\\Data\\nc Files\\MANCHI\\aux_orbits\\GFZ0MGXRAP_20251440000_01D_05M_ORB.SP3\n",
      "Downloading: ftp://gssc.esa.int/gnss/products/2367//GFZ0MGXRAP_20251440000_01D_05M_ORB.SP3.gz"
     ]
    },
    {
     "name": "stderr",
     "output_type": "stream",
     "text": [
      "GFZ0MGXRAP_20251440000_01D_05M_ORB.SP3.gz: 1.05MB [00:03, 330kB/s]                             \n"
     ]
    },
    {
     "name": "stdout",
     "output_type": "stream",
     "text": [
      " | Download completed for ftp://gssc.esa.int/gnss/products/2367//GFZ0MGXRAP_20251440000_01D_05M_ORB.SP3.gz\n",
      "C:\\Users\\varga\\Box\\Data\\nc Files\\MANCHI\\aux_orbits\\GFZ0MGXRAP_20251440000_01D_05M_ORB.SP3 file is read in 5.14 seconds\n",
      "C:\\Users\\varga\\Box\\Data\\nc Files\\MANCHI\\aux_orbits\\GFZ0MGXRAP_20251430000_01D_30S_CLK.CLK exists | Reading...\n",
      "C:\\Users\\varga\\Box\\Data\\nc Files\\MANCHI\\aux_orbits\\GFZ0MGXRAP_20251430000_01D_30S_CLK.CLK file is read in 2.02 seconds\n",
      "This file does not exist: C:\\Users\\varga\\Box\\Data\\nc Files\\MANCHI\\aux_orbits\\GFZ0MGXRAP_20251440000_01D_30S_CLK.CLK\n",
      "Downloading: GFZ0MGXRAP_20251440000_01D_30S_CLK.CLK.gz"
     ]
    },
    {
     "name": "stderr",
     "output_type": "stream",
     "text": [
      "GFZ0MGXRAP_20251440000_01D_30S_CLK.CLK.gz: 4.80MB [00:11, 437kB/s]                             \n"
     ]
    },
    {
     "name": "stdout",
     "output_type": "stream",
     "text": [
      " | Download completed for GFZ0MGXRAP_20251440000_01D_30S_CLK.CLK.gz\n",
      "C:\\Users\\varga\\Box\\Data\\nc Files\\MANCHI\\aux_orbits\\GFZ0MGXRAP_20251440000_01D_30S_CLK.CLK file is read in 2.01 seconds\n",
      "SP3 interpolation is done in 2.42 seconds\n",
      "Saved 92292 individual observations in C:\\Users\\varga\\Box\\Data\\nc Files\\MANCHI\\processed\\MANCHI_raw_20250523142703.nc\n",
      "[OK] MANCHI_raw_20250523142703.25O\n",
      "Could not find any files matching the pattern C:\\Users\\varga\\Box\\Data\\nc Files\\MANCHI\\processed*.nc\n",
      "C:\\Users\\varga\\Box\\Data\\nc Files\\MANCHI\\MANCHI_raw_20250524142704.25O exists | Reading...\n",
      "Observation file  C:\\Users\\varga\\Box\\Data\\nc Files\\MANCHI\\MANCHI_raw_20250524142704.25O  is read in 1.85 seconds.\n",
      "Processing 90246 individual observations\n",
      "Calculating Azimuth and Elevation\n",
      "C:\\Users\\varga\\Box\\Data\\nc Files\\MANCHI\\aux_orbits\\GFZ0MGXRAP_20251440000_01D_05M_ORB.SP3 exists | Reading...\n",
      "C:\\Users\\varga\\Box\\Data\\nc Files\\MANCHI\\aux_orbits\\GFZ0MGXRAP_20251440000_01D_05M_ORB.SP3 file is read in 0.91 seconds\n",
      "This file does not exist: C:\\Users\\varga\\Box\\Data\\nc Files\\MANCHI\\aux_orbits\\GFZ0MGXRAP_20251450000_01D_05M_ORB.SP3\n",
      "Downloading: ftp://gssc.esa.int/gnss/products/2368//GFZ0MGXRAP_20251450000_01D_05M_ORB.SP3.gz"
     ]
    },
    {
     "name": "stderr",
     "output_type": "stream",
     "text": [
      "GFZ0MGXRAP_20251450000_01D_05M_ORB.SP3.gz: 1.05MB [00:03, 337kB/s]                             \n"
     ]
    },
    {
     "name": "stdout",
     "output_type": "stream",
     "text": [
      " | Download completed for ftp://gssc.esa.int/gnss/products/2368//GFZ0MGXRAP_20251450000_01D_05M_ORB.SP3.gz\n",
      "C:\\Users\\varga\\Box\\Data\\nc Files\\MANCHI\\aux_orbits\\GFZ0MGXRAP_20251450000_01D_05M_ORB.SP3 file is read in 4.03 seconds\n",
      "C:\\Users\\varga\\Box\\Data\\nc Files\\MANCHI\\aux_orbits\\GFZ0MGXRAP_20251440000_01D_30S_CLK.CLK exists | Reading...\n",
      "C:\\Users\\varga\\Box\\Data\\nc Files\\MANCHI\\aux_orbits\\GFZ0MGXRAP_20251440000_01D_30S_CLK.CLK file is read in 3.05 seconds\n",
      "This file does not exist: C:\\Users\\varga\\Box\\Data\\nc Files\\MANCHI\\aux_orbits\\GFZ0MGXRAP_20251450000_01D_30S_CLK.CLK\n",
      "Downloading: GFZ0MGXRAP_20251450000_01D_30S_CLK.CLK.gz"
     ]
    },
    {
     "name": "stderr",
     "output_type": "stream",
     "text": [
      "GFZ0MGXRAP_20251450000_01D_30S_CLK.CLK.gz: 4.80MB [00:34, 147kB/s]                             \n"
     ]
    },
    {
     "name": "stdout",
     "output_type": "stream",
     "text": [
      " | Download completed for GFZ0MGXRAP_20251450000_01D_30S_CLK.CLK.gz\n",
      "C:\\Users\\varga\\Box\\Data\\nc Files\\MANCHI\\aux_orbits\\GFZ0MGXRAP_20251450000_01D_30S_CLK.CLK file is read in 2.11 seconds\n",
      "SP3 interpolation is done in 2.56 seconds\n",
      "Saved 90246 individual observations in C:\\Users\\varga\\Box\\Data\\nc Files\\MANCHI\\processed\\MANCHI_raw_20250524142704.nc\n",
      "[OK] MANCHI_raw_20250524142704.25O\n",
      "Could not find any files matching the pattern C:\\Users\\varga\\Box\\Data\\nc Files\\MANCHI\\processed*.nc\n",
      "C:\\Users\\varga\\Box\\Data\\nc Files\\MANCHI\\MANCHI_raw_20250525142705.25O exists | Reading...\n",
      "Observation file  C:\\Users\\varga\\Box\\Data\\nc Files\\MANCHI\\MANCHI_raw_20250525142705.25O  is read in 1.86 seconds.\n",
      "Processing 91149 individual observations\n",
      "Calculating Azimuth and Elevation\n",
      "C:\\Users\\varga\\Box\\Data\\nc Files\\MANCHI\\aux_orbits\\GFZ0MGXRAP_20251450000_01D_05M_ORB.SP3 exists | Reading...\n",
      "C:\\Users\\varga\\Box\\Data\\nc Files\\MANCHI\\aux_orbits\\GFZ0MGXRAP_20251450000_01D_05M_ORB.SP3 file is read in 0.90 seconds\n",
      "This file does not exist: C:\\Users\\varga\\Box\\Data\\nc Files\\MANCHI\\aux_orbits\\GFZ0MGXRAP_20251460000_01D_05M_ORB.SP3\n",
      "Downloading: ftp://gssc.esa.int/gnss/products/2368//GFZ0MGXRAP_20251460000_01D_05M_ORB.SP3.gz"
     ]
    },
    {
     "name": "stderr",
     "output_type": "stream",
     "text": [
      "GFZ0MGXRAP_20251460000_01D_05M_ORB.SP3.gz: 1.03MB [00:03, 333kB/s]                             \n"
     ]
    },
    {
     "name": "stdout",
     "output_type": "stream",
     "text": [
      " | Download completed for ftp://gssc.esa.int/gnss/products/2368//GFZ0MGXRAP_20251460000_01D_05M_ORB.SP3.gz\n",
      "C:\\Users\\varga\\Box\\Data\\nc Files\\MANCHI\\aux_orbits\\GFZ0MGXRAP_20251460000_01D_05M_ORB.SP3 file is read in 3.79 seconds\n",
      "C:\\Users\\varga\\Box\\Data\\nc Files\\MANCHI\\aux_orbits\\GFZ0MGXRAP_20251450000_01D_30S_CLK.CLK exists | Reading...\n",
      "C:\\Users\\varga\\Box\\Data\\nc Files\\MANCHI\\aux_orbits\\GFZ0MGXRAP_20251450000_01D_30S_CLK.CLK file is read in 2.23 seconds\n",
      "This file does not exist: C:\\Users\\varga\\Box\\Data\\nc Files\\MANCHI\\aux_orbits\\GFZ0MGXRAP_20251460000_01D_30S_CLK.CLK\n",
      "Downloading: GFZ0MGXRAP_20251460000_01D_30S_CLK.CLK.gz"
     ]
    },
    {
     "name": "stderr",
     "output_type": "stream",
     "text": [
      "GFZ0MGXRAP_20251460000_01D_30S_CLK.CLK.gz: 4.74MB [00:03, 1.34MB/s]                            \n"
     ]
    },
    {
     "name": "stdout",
     "output_type": "stream",
     "text": [
      " | Download completed for GFZ0MGXRAP_20251460000_01D_30S_CLK.CLK.gz\n",
      "C:\\Users\\varga\\Box\\Data\\nc Files\\MANCHI\\aux_orbits\\GFZ0MGXRAP_20251460000_01D_30S_CLK.CLK file is read in 1.94 seconds\n",
      "SP3 interpolation is done in 2.47 seconds\n",
      "Saved 91149 individual observations in C:\\Users\\varga\\Box\\Data\\nc Files\\MANCHI\\processed\\MANCHI_raw_20250525142705.nc\n",
      "[OK] MANCHI_raw_20250525142705.25O\n",
      "Could not find any files matching the pattern C:\\Users\\varga\\Box\\Data\\nc Files\\MANCHI\\processed*.nc\n",
      "C:\\Users\\varga\\Box\\Data\\nc Files\\MANCHI\\MANCHI_raw_20250526142706.25O exists | Reading...\n",
      "Observation file  C:\\Users\\varga\\Box\\Data\\nc Files\\MANCHI\\MANCHI_raw_20250526142706.25O  is read in 2.32 seconds.\n",
      "Processing 92014 individual observations\n",
      "Calculating Azimuth and Elevation\n",
      "C:\\Users\\varga\\Box\\Data\\nc Files\\MANCHI\\aux_orbits\\GFZ0MGXRAP_20251460000_01D_05M_ORB.SP3 exists | Reading...\n",
      "C:\\Users\\varga\\Box\\Data\\nc Files\\MANCHI\\aux_orbits\\GFZ0MGXRAP_20251460000_01D_05M_ORB.SP3 file is read in 0.72 seconds\n",
      "This file does not exist: C:\\Users\\varga\\Box\\Data\\nc Files\\MANCHI\\aux_orbits\\GFZ0MGXRAP_20251470000_01D_05M_ORB.SP3\n",
      "Downloading: ftp://gssc.esa.int/gnss/products/2368//GFZ0MGXRAP_20251470000_01D_05M_ORB.SP3.gz"
     ]
    },
    {
     "name": "stderr",
     "output_type": "stream",
     "text": [
      "GFZ0MGXRAP_20251470000_01D_05M_ORB.SP3.gz: 1.04MB [00:03, 344kB/s]                             \n"
     ]
    },
    {
     "name": "stdout",
     "output_type": "stream",
     "text": [
      " | Download completed for ftp://gssc.esa.int/gnss/products/2368//GFZ0MGXRAP_20251470000_01D_05M_ORB.SP3.gz\n",
      "C:\\Users\\varga\\Box\\Data\\nc Files\\MANCHI\\aux_orbits\\GFZ0MGXRAP_20251470000_01D_05M_ORB.SP3 file is read in 4.04 seconds\n",
      "C:\\Users\\varga\\Box\\Data\\nc Files\\MANCHI\\aux_orbits\\GFZ0MGXRAP_20251460000_01D_30S_CLK.CLK exists | Reading...\n",
      "C:\\Users\\varga\\Box\\Data\\nc Files\\MANCHI\\aux_orbits\\GFZ0MGXRAP_20251460000_01D_30S_CLK.CLK file is read in 3.05 seconds\n",
      "This file does not exist: C:\\Users\\varga\\Box\\Data\\nc Files\\MANCHI\\aux_orbits\\GFZ0MGXRAP_20251470000_01D_30S_CLK.CLK\n",
      "Downloading: GFZ0MGXRAP_20251470000_01D_30S_CLK.CLK.gz"
     ]
    },
    {
     "name": "stderr",
     "output_type": "stream",
     "text": [
      "GFZ0MGXRAP_20251470000_01D_30S_CLK.CLK.gz: 4.76MB [00:06, 747kB/s]                             \n"
     ]
    },
    {
     "name": "stdout",
     "output_type": "stream",
     "text": [
      " | Download completed for GFZ0MGXRAP_20251470000_01D_30S_CLK.CLK.gz\n",
      "C:\\Users\\varga\\Box\\Data\\nc Files\\MANCHI\\aux_orbits\\GFZ0MGXRAP_20251470000_01D_30S_CLK.CLK file is read in 2.81 seconds\n",
      "SP3 interpolation is done in 3.01 seconds\n",
      "Saved 92014 individual observations in C:\\Users\\varga\\Box\\Data\\nc Files\\MANCHI\\processed\\MANCHI_raw_20250526142706.nc\n",
      "[OK] MANCHI_raw_20250526142706.25O\n",
      "Could not find any files matching the pattern C:\\Users\\varga\\Box\\Data\\nc Files\\MANCHI\\processed*.nc\n",
      "C:\\Users\\varga\\Box\\Data\\nc Files\\MANCHI\\MANCHI_raw_20250527142707.25O exists | Reading...\n",
      "Observation file  C:\\Users\\varga\\Box\\Data\\nc Files\\MANCHI\\MANCHI_raw_20250527142707.25O  is read in 1.83 seconds.\n",
      "Processing 90587 individual observations\n",
      "Calculating Azimuth and Elevation\n",
      "C:\\Users\\varga\\Box\\Data\\nc Files\\MANCHI\\aux_orbits\\GFZ0MGXRAP_20251470000_01D_05M_ORB.SP3 exists | Reading...\n",
      "C:\\Users\\varga\\Box\\Data\\nc Files\\MANCHI\\aux_orbits\\GFZ0MGXRAP_20251470000_01D_05M_ORB.SP3 file is read in 0.36 seconds\n",
      "This file does not exist: C:\\Users\\varga\\Box\\Data\\nc Files\\MANCHI\\aux_orbits\\GFZ0MGXRAP_20251480000_01D_05M_ORB.SP3\n",
      "Downloading: ftp://gssc.esa.int/gnss/products/2368//GFZ0MGXRAP_20251480000_01D_05M_ORB.SP3.gz"
     ]
    },
    {
     "name": "stderr",
     "output_type": "stream",
     "text": [
      "GFZ0MGXRAP_20251480000_01D_05M_ORB.SP3.gz: 1.04MB [00:05, 191kB/s]                             \n"
     ]
    },
    {
     "name": "stdout",
     "output_type": "stream",
     "text": [
      " | Download completed for ftp://gssc.esa.int/gnss/products/2368//GFZ0MGXRAP_20251480000_01D_05M_ORB.SP3.gz\n",
      "C:\\Users\\varga\\Box\\Data\\nc Files\\MANCHI\\aux_orbits\\GFZ0MGXRAP_20251480000_01D_05M_ORB.SP3 file is read in 6.58 seconds\n",
      "C:\\Users\\varga\\Box\\Data\\nc Files\\MANCHI\\aux_orbits\\GFZ0MGXRAP_20251470000_01D_30S_CLK.CLK exists | Reading...\n",
      "C:\\Users\\varga\\Box\\Data\\nc Files\\MANCHI\\aux_orbits\\GFZ0MGXRAP_20251470000_01D_30S_CLK.CLK file is read in 3.02 seconds\n",
      "This file does not exist: C:\\Users\\varga\\Box\\Data\\nc Files\\MANCHI\\aux_orbits\\GFZ0MGXRAP_20251480000_01D_30S_CLK.CLK\n",
      "Downloading: GFZ0MGXRAP_20251480000_01D_30S_CLK.CLK.gz"
     ]
    },
    {
     "name": "stderr",
     "output_type": "stream",
     "text": [
      "GFZ0MGXRAP_20251480000_01D_30S_CLK.CLK.gz: 4.77MB [00:03, 1.37MB/s]                            \n"
     ]
    },
    {
     "name": "stdout",
     "output_type": "stream",
     "text": [
      " | Download completed for GFZ0MGXRAP_20251480000_01D_30S_CLK.CLK.gz\n",
      "C:\\Users\\varga\\Box\\Data\\nc Files\\MANCHI\\aux_orbits\\GFZ0MGXRAP_20251480000_01D_30S_CLK.CLK file is read in 3.00 seconds\n",
      "SP3 interpolation is done in 2.53 seconds\n",
      "Saved 90587 individual observations in C:\\Users\\varga\\Box\\Data\\nc Files\\MANCHI\\processed\\MANCHI_raw_20250527142707.nc\n",
      "[OK] MANCHI_raw_20250527142707.25O\n",
      "Could not find any files matching the pattern C:\\Users\\varga\\Box\\Data\\nc Files\\MANCHI\\processed*.nc\n",
      "C:\\Users\\varga\\Box\\Data\\nc Files\\MANCHI\\MANCHI_raw_20250528142707.25O exists | Reading...\n",
      "Observation file  C:\\Users\\varga\\Box\\Data\\nc Files\\MANCHI\\MANCHI_raw_20250528142707.25O  is read in 3.20 seconds.\n",
      "Processing 92017 individual observations\n",
      "Calculating Azimuth and Elevation\n",
      "C:\\Users\\varga\\Box\\Data\\nc Files\\MANCHI\\aux_orbits\\GFZ0MGXRAP_20251480000_01D_05M_ORB.SP3 exists | Reading...\n",
      "C:\\Users\\varga\\Box\\Data\\nc Files\\MANCHI\\aux_orbits\\GFZ0MGXRAP_20251480000_01D_05M_ORB.SP3 file is read in 0.66 seconds\n",
      "This file does not exist: C:\\Users\\varga\\Box\\Data\\nc Files\\MANCHI\\aux_orbits\\GFZ0MGXRAP_20251490000_01D_05M_ORB.SP3\n",
      "Downloading: ftp://gssc.esa.int/gnss/products/2368//GFZ0MGXRAP_20251490000_01D_05M_ORB.SP3.gz"
     ]
    },
    {
     "name": "stderr",
     "output_type": "stream",
     "text": [
      "GFZ0MGXRAP_20251490000_01D_05M_ORB.SP3.gz: 1.05MB [00:03, 328kB/s]                             \n"
     ]
    },
    {
     "name": "stdout",
     "output_type": "stream",
     "text": [
      " | Download completed for ftp://gssc.esa.int/gnss/products/2368//GFZ0MGXRAP_20251490000_01D_05M_ORB.SP3.gz\n",
      "C:\\Users\\varga\\Box\\Data\\nc Files\\MANCHI\\aux_orbits\\GFZ0MGXRAP_20251490000_01D_05M_ORB.SP3 file is read in 4.08 seconds\n",
      "C:\\Users\\varga\\Box\\Data\\nc Files\\MANCHI\\aux_orbits\\GFZ0MGXRAP_20251480000_01D_30S_CLK.CLK exists | Reading...\n",
      "C:\\Users\\varga\\Box\\Data\\nc Files\\MANCHI\\aux_orbits\\GFZ0MGXRAP_20251480000_01D_30S_CLK.CLK file is read in 6.60 seconds\n",
      "This file does not exist: C:\\Users\\varga\\Box\\Data\\nc Files\\MANCHI\\aux_orbits\\GFZ0MGXRAP_20251490000_01D_30S_CLK.CLK\n",
      "Downloading: GFZ0MGXRAP_20251490000_01D_30S_CLK.CLK.gz"
     ]
    },
    {
     "name": "stderr",
     "output_type": "stream",
     "text": [
      "GFZ0MGXRAP_20251490000_01D_30S_CLK.CLK.gz: 4.80MB [00:03, 1.30MB/s]                            \n"
     ]
    },
    {
     "name": "stdout",
     "output_type": "stream",
     "text": [
      " | Download completed for GFZ0MGXRAP_20251490000_01D_30S_CLK.CLK.gz\n",
      "C:\\Users\\varga\\Box\\Data\\nc Files\\MANCHI\\aux_orbits\\GFZ0MGXRAP_20251490000_01D_30S_CLK.CLK file is read in 1.95 seconds\n",
      "SP3 interpolation is done in 2.63 seconds\n",
      "Saved 92017 individual observations in C:\\Users\\varga\\Box\\Data\\nc Files\\MANCHI\\processed\\MANCHI_raw_20250528142707.nc\n",
      "[OK] MANCHI_raw_20250528142707.25O\n",
      "Could not find any files matching the pattern C:\\Users\\varga\\Box\\Data\\nc Files\\MANCHI\\processed*.nc\n",
      "C:\\Users\\varga\\Box\\Data\\nc Files\\MANCHI\\MANCHI_raw_20250529142708.25O exists | Reading...\n",
      "Observation file  C:\\Users\\varga\\Box\\Data\\nc Files\\MANCHI\\MANCHI_raw_20250529142708.25O  is read in 2.27 seconds.\n",
      "Processing 92009 individual observations\n",
      "Calculating Azimuth and Elevation\n",
      "C:\\Users\\varga\\Box\\Data\\nc Files\\MANCHI\\aux_orbits\\GFZ0MGXRAP_20251490000_01D_05M_ORB.SP3 exists | Reading...\n",
      "C:\\Users\\varga\\Box\\Data\\nc Files\\MANCHI\\aux_orbits\\GFZ0MGXRAP_20251490000_01D_05M_ORB.SP3 file is read in 0.73 seconds\n",
      "This file does not exist: C:\\Users\\varga\\Box\\Data\\nc Files\\MANCHI\\aux_orbits\\GFZ0MGXRAP_20251500000_01D_05M_ORB.SP3\n",
      "Downloading: ftp://gssc.esa.int/gnss/products/2368//GFZ0MGXRAP_20251500000_01D_05M_ORB.SP3.gz"
     ]
    },
    {
     "name": "stderr",
     "output_type": "stream",
     "text": [
      "GFZ0MGXRAP_20251500000_01D_05M_ORB.SP3.gz: 1.05MB [00:04, 269kB/s]                             \n"
     ]
    },
    {
     "name": "stdout",
     "output_type": "stream",
     "text": [
      " | Download completed for ftp://gssc.esa.int/gnss/products/2368//GFZ0MGXRAP_20251500000_01D_05M_ORB.SP3.gz\n",
      "C:\\Users\\varga\\Box\\Data\\nc Files\\MANCHI\\aux_orbits\\GFZ0MGXRAP_20251500000_01D_05M_ORB.SP3 file is read in 4.90 seconds\n",
      "C:\\Users\\varga\\Box\\Data\\nc Files\\MANCHI\\aux_orbits\\GFZ0MGXRAP_20251490000_01D_30S_CLK.CLK exists | Reading...\n",
      "C:\\Users\\varga\\Box\\Data\\nc Files\\MANCHI\\aux_orbits\\GFZ0MGXRAP_20251490000_01D_30S_CLK.CLK file is read in 2.92 seconds\n",
      "This file does not exist: C:\\Users\\varga\\Box\\Data\\nc Files\\MANCHI\\aux_orbits\\GFZ0MGXRAP_20251500000_01D_30S_CLK.CLK\n",
      "Downloading: GFZ0MGXRAP_20251500000_01D_30S_CLK.CLK.gz"
     ]
    },
    {
     "name": "stderr",
     "output_type": "stream",
     "text": [
      "GFZ0MGXRAP_20251500000_01D_30S_CLK.CLK.gz: 4.77MB [00:05, 954kB/s]                             \n"
     ]
    },
    {
     "name": "stdout",
     "output_type": "stream",
     "text": [
      " | Download completed for GFZ0MGXRAP_20251500000_01D_30S_CLK.CLK.gz\n",
      "C:\\Users\\varga\\Box\\Data\\nc Files\\MANCHI\\aux_orbits\\GFZ0MGXRAP_20251500000_01D_30S_CLK.CLK file is read in 2.73 seconds\n",
      "SP3 interpolation is done in 2.59 seconds\n",
      "Saved 92009 individual observations in C:\\Users\\varga\\Box\\Data\\nc Files\\MANCHI\\processed\\MANCHI_raw_20250529142708.nc\n",
      "[OK] MANCHI_raw_20250529142708.25O\n",
      "Could not find any files matching the pattern C:\\Users\\varga\\Box\\Data\\nc Files\\MANCHI\\processed*.nc\n",
      "C:\\Users\\varga\\Box\\Data\\nc Files\\MANCHI\\MANCHI_raw_20250530142709.25O exists | Reading...\n",
      "Observation file  C:\\Users\\varga\\Box\\Data\\nc Files\\MANCHI\\MANCHI_raw_20250530142709.25O  is read in 3.19 seconds.\n",
      "Processing 90787 individual observations\n",
      "Calculating Azimuth and Elevation\n",
      "C:\\Users\\varga\\Box\\Data\\nc Files\\MANCHI\\aux_orbits\\GFZ0MGXRAP_20251500000_01D_05M_ORB.SP3 exists | Reading...\n",
      "C:\\Users\\varga\\Box\\Data\\nc Files\\MANCHI\\aux_orbits\\GFZ0MGXRAP_20251500000_01D_05M_ORB.SP3 file is read in 0.70 seconds\n",
      "This file does not exist: C:\\Users\\varga\\Box\\Data\\nc Files\\MANCHI\\aux_orbits\\GFZ0MGXRAP_20251510000_01D_05M_ORB.SP3\n",
      "Downloading: ftp://gssc.esa.int/gnss/products/2368//GFZ0MGXRAP_20251510000_01D_05M_ORB.SP3.gz"
     ]
    },
    {
     "name": "stderr",
     "output_type": "stream",
     "text": [
      "GFZ0MGXRAP_20251510000_01D_05M_ORB.SP3.gz: 1.05MB [00:04, 265kB/s]                             \n"
     ]
    },
    {
     "name": "stdout",
     "output_type": "stream",
     "text": [
      " | Download completed for ftp://gssc.esa.int/gnss/products/2368//GFZ0MGXRAP_20251510000_01D_05M_ORB.SP3.gz\n",
      "C:\\Users\\varga\\Box\\Data\\nc Files\\MANCHI\\aux_orbits\\GFZ0MGXRAP_20251510000_01D_05M_ORB.SP3 file is read in 4.90 seconds\n",
      "C:\\Users\\varga\\Box\\Data\\nc Files\\MANCHI\\aux_orbits\\GFZ0MGXRAP_20251500000_01D_30S_CLK.CLK exists | Reading...\n",
      "C:\\Users\\varga\\Box\\Data\\nc Files\\MANCHI\\aux_orbits\\GFZ0MGXRAP_20251500000_01D_30S_CLK.CLK file is read in 3.22 seconds\n",
      "This file does not exist: C:\\Users\\varga\\Box\\Data\\nc Files\\MANCHI\\aux_orbits\\GFZ0MGXRAP_20251510000_01D_30S_CLK.CLK\n",
      "Downloading: GFZ0MGXRAP_20251510000_01D_30S_CLK.CLK.gz"
     ]
    },
    {
     "name": "stderr",
     "output_type": "stream",
     "text": [
      "GFZ0MGXRAP_20251510000_01D_30S_CLK.CLK.gz: 4.77MB [00:04, 1.24MB/s]                            \n"
     ]
    },
    {
     "name": "stdout",
     "output_type": "stream",
     "text": [
      " | Download completed for GFZ0MGXRAP_20251510000_01D_30S_CLK.CLK.gz\n",
      "C:\\Users\\varga\\Box\\Data\\nc Files\\MANCHI\\aux_orbits\\GFZ0MGXRAP_20251510000_01D_30S_CLK.CLK file is read in 3.20 seconds\n",
      "SP3 interpolation is done in 2.64 seconds\n",
      "Saved 90787 individual observations in C:\\Users\\varga\\Box\\Data\\nc Files\\MANCHI\\processed\\MANCHI_raw_20250530142709.nc\n",
      "[OK] MANCHI_raw_20250530142709.25O\n",
      "Could not find any files matching the pattern C:\\Users\\varga\\Box\\Data\\nc Files\\MANCHI\\processed*.nc\n",
      "C:\\Users\\varga\\Box\\Data\\nc Files\\MANCHI\\MANCHI_raw_20250531142710.25O exists | Reading...\n",
      "Observation file  C:\\Users\\varga\\Box\\Data\\nc Files\\MANCHI\\MANCHI_raw_20250531142710.25O  is read in 1.40 seconds.\n",
      "Processing 65691 individual observations\n",
      "Calculating Azimuth and Elevation\n",
      "C:\\Users\\varga\\Box\\Data\\nc Files\\MANCHI\\aux_orbits\\GFZ0MGXRAP_20251510000_01D_05M_ORB.SP3 exists | Reading...\n",
      "C:\\Users\\varga\\Box\\Data\\nc Files\\MANCHI\\aux_orbits\\GFZ0MGXRAP_20251510000_01D_05M_ORB.SP3 file is read in 0.76 seconds\n",
      "This file does not exist: C:\\Users\\varga\\Box\\Data\\nc Files\\MANCHI\\aux_orbits\\GFZ0MGXRAP_20251520000_01D_05M_ORB.SP3\n",
      "Downloading: ftp://gssc.esa.int/gnss/products/2369//GFZ0MGXRAP_20251520000_01D_05M_ORB.SP3.gz"
     ]
    },
    {
     "name": "stderr",
     "output_type": "stream",
     "text": [
      "GFZ0MGXRAP_20251520000_01D_05M_ORB.SP3.gz: 1.05MB [00:04, 274kB/s]                             \n"
     ]
    },
    {
     "name": "stdout",
     "output_type": "stream",
     "text": [
      " | Download completed for ftp://gssc.esa.int/gnss/products/2369//GFZ0MGXRAP_20251520000_01D_05M_ORB.SP3.gz\n",
      "C:\\Users\\varga\\Box\\Data\\nc Files\\MANCHI\\aux_orbits\\GFZ0MGXRAP_20251520000_01D_05M_ORB.SP3 file is read in 4.84 seconds\n",
      "C:\\Users\\varga\\Box\\Data\\nc Files\\MANCHI\\aux_orbits\\GFZ0MGXRAP_20251510000_01D_30S_CLK.CLK exists | Reading...\n",
      "C:\\Users\\varga\\Box\\Data\\nc Files\\MANCHI\\aux_orbits\\GFZ0MGXRAP_20251510000_01D_30S_CLK.CLK file is read in 3.04 seconds\n",
      "This file does not exist: C:\\Users\\varga\\Box\\Data\\nc Files\\MANCHI\\aux_orbits\\GFZ0MGXRAP_20251520000_01D_30S_CLK.CLK\n",
      "Downloading: GFZ0MGXRAP_20251520000_01D_30S_CLK.CLK.gz"
     ]
    },
    {
     "name": "stderr",
     "output_type": "stream",
     "text": [
      "GFZ0MGXRAP_20251520000_01D_30S_CLK.CLK.gz: 4.80MB [00:05, 977kB/s]                             \n"
     ]
    },
    {
     "name": "stdout",
     "output_type": "stream",
     "text": [
      " | Download completed for GFZ0MGXRAP_20251520000_01D_30S_CLK.CLK.gz\n",
      "C:\\Users\\varga\\Box\\Data\\nc Files\\MANCHI\\aux_orbits\\GFZ0MGXRAP_20251520000_01D_30S_CLK.CLK file is read in 2.99 seconds\n",
      "SP3 interpolation is done in 6.04 seconds\n",
      "Saved 65691 individual observations in C:\\Users\\varga\\Box\\Data\\nc Files\\MANCHI\\processed\\MANCHI_raw_20250531142710.nc\n",
      "[OK] MANCHI_raw_20250531142710.25O\n",
      "Could not find any files matching the pattern C:\\Users\\varga\\Box\\Data\\nc Files\\MANCHI\\processed*.nc\n",
      "C:\\Users\\varga\\Box\\Data\\nc Files\\MANCHI\\MANCHI_raw_20250605174815.25O exists | Reading...\n",
      "Observation file  C:\\Users\\varga\\Box\\Data\\nc Files\\MANCHI\\MANCHI_raw_20250605174815.25O  is read in 0.01 seconds.\n",
      "Processing 248 individual observations\n",
      "Calculating Azimuth and Elevation\n",
      "This file does not exist: C:\\Users\\varga\\Box\\Data\\nc Files\\MANCHI\\aux_orbits\\GFZ0MGXRAP_20251560000_01D_05M_ORB.SP3\n",
      "Downloading: ftp://gssc.esa.int/gnss/products/2369//GFZ0MGXRAP_20251560000_01D_05M_ORB.SP3.gz"
     ]
    },
    {
     "name": "stderr",
     "output_type": "stream",
     "text": [
      "GFZ0MGXRAP_20251560000_01D_05M_ORB.SP3.gz: 1.05MB [00:03, 306kB/s]                             \n"
     ]
    },
    {
     "name": "stdout",
     "output_type": "stream",
     "text": [
      " | Download completed for ftp://gssc.esa.int/gnss/products/2369//GFZ0MGXRAP_20251560000_01D_05M_ORB.SP3.gz\n",
      "C:\\Users\\varga\\Box\\Data\\nc Files\\MANCHI\\aux_orbits\\GFZ0MGXRAP_20251560000_01D_05M_ORB.SP3 file is read in 4.45 seconds\n",
      "This file does not exist: C:\\Users\\varga\\Box\\Data\\nc Files\\MANCHI\\aux_orbits\\GFZ0MGXRAP_20251560000_01D_30S_CLK.CLK\n",
      "Downloading: GFZ0MGXRAP_20251560000_01D_30S_CLK.CLK.gz"
     ]
    },
    {
     "name": "stderr",
     "output_type": "stream",
     "text": [
      "GFZ0MGXRAP_20251560000_01D_30S_CLK.CLK.gz: 4.79MB [00:13, 384kB/s]                             \n"
     ]
    },
    {
     "name": "stdout",
     "output_type": "stream",
     "text": [
      " | Download completed for GFZ0MGXRAP_20251560000_01D_30S_CLK.CLK.gz\n",
      "C:\\Users\\varga\\Box\\Data\\nc Files\\MANCHI\\aux_orbits\\GFZ0MGXRAP_20251560000_01D_30S_CLK.CLK file is read in 2.07 seconds\n",
      "SP3 interpolation is done in 1.14 seconds\n",
      "Saved 248 individual observations in C:\\Users\\varga\\Box\\Data\\nc Files\\MANCHI\\processed\\MANCHI_raw_20250605174815.nc\n",
      "[OK] MANCHI_raw_20250605174815.25O\n",
      "Could not find any files matching the pattern C:\\Users\\varga\\Box\\Data\\nc Files\\MANCHI\\processed*.nc\n",
      "C:\\Users\\varga\\Box\\Data\\nc Files\\MANCHI\\MANCHI_raw_20250607200625.25O exists | Reading...\n",
      "Observation file  C:\\Users\\varga\\Box\\Data\\nc Files\\MANCHI\\MANCHI_raw_20250607200625.25O  is read in 1.87 seconds.\n",
      "Processing 88984 individual observations\n",
      "Calculating Azimuth and Elevation\n",
      "This file does not exist: C:\\Users\\varga\\Box\\Data\\nc Files\\MANCHI\\aux_orbits\\GFZ0MGXRAP_20251580000_01D_05M_ORB.SP3\n",
      "Downloading: ftp://gssc.esa.int/gnss/products/2369//GFZ0MGXRAP_20251580000_01D_05M_ORB.SP3.gz"
     ]
    },
    {
     "name": "stderr",
     "output_type": "stream",
     "text": [
      "GFZ0MGXRAP_20251580000_01D_05M_ORB.SP3.gz: 1.05MB [00:04, 272kB/s]                             \n"
     ]
    },
    {
     "name": "stdout",
     "output_type": "stream",
     "text": [
      " | Download completed for ftp://gssc.esa.int/gnss/products/2369//GFZ0MGXRAP_20251580000_01D_05M_ORB.SP3.gz\n",
      "C:\\Users\\varga\\Box\\Data\\nc Files\\MANCHI\\aux_orbits\\GFZ0MGXRAP_20251580000_01D_05M_ORB.SP3 file is read in 4.60 seconds\n",
      "This file does not exist: C:\\Users\\varga\\Box\\Data\\nc Files\\MANCHI\\aux_orbits\\GFZ0MGXRAP_20251590000_01D_05M_ORB.SP3\n",
      "Downloading: ftp://gssc.esa.int/gnss/products/2370//GFZ0MGXRAP_20251590000_01D_05M_ORB.SP3.gz"
     ]
    },
    {
     "name": "stderr",
     "output_type": "stream",
     "text": [
      "GFZ0MGXRAP_20251590000_01D_05M_ORB.SP3.gz: 1.05MB [00:06, 172kB/s]                             \n"
     ]
    },
    {
     "name": "stdout",
     "output_type": "stream",
     "text": [
      " | Download completed for ftp://gssc.esa.int/gnss/products/2370//GFZ0MGXRAP_20251590000_01D_05M_ORB.SP3.gz\n",
      "C:\\Users\\varga\\Box\\Data\\nc Files\\MANCHI\\aux_orbits\\GFZ0MGXRAP_20251590000_01D_05M_ORB.SP3 file is read in 6.99 seconds\n",
      "This file does not exist: C:\\Users\\varga\\Box\\Data\\nc Files\\MANCHI\\aux_orbits\\GFZ0MGXRAP_20251580000_01D_30S_CLK.CLK\n",
      "Downloading: GFZ0MGXRAP_20251580000_01D_30S_CLK.CLK.gz"
     ]
    },
    {
     "name": "stderr",
     "output_type": "stream",
     "text": [
      "GFZ0MGXRAP_20251580000_01D_30S_CLK.CLK.gz: 4.80MB [00:20, 251kB/s]                             \n"
     ]
    },
    {
     "name": "stdout",
     "output_type": "stream",
     "text": [
      " | Download completed for GFZ0MGXRAP_20251580000_01D_30S_CLK.CLK.gz\n",
      "C:\\Users\\varga\\Box\\Data\\nc Files\\MANCHI\\aux_orbits\\GFZ0MGXRAP_20251580000_01D_30S_CLK.CLK file is read in 2.18 seconds\n",
      "This file does not exist: C:\\Users\\varga\\Box\\Data\\nc Files\\MANCHI\\aux_orbits\\GFZ0MGXRAP_20251590000_01D_30S_CLK.CLK\n",
      "Downloading: GFZ0MGXRAP_20251590000_01D_30S_CLK.CLK.gz"
     ]
    },
    {
     "name": "stderr",
     "output_type": "stream",
     "text": [
      "GFZ0MGXRAP_20251590000_01D_30S_CLK.CLK.gz: 4.77MB [00:03, 1.32MB/s]                            \n"
     ]
    },
    {
     "name": "stdout",
     "output_type": "stream",
     "text": [
      " | Download completed for GFZ0MGXRAP_20251590000_01D_30S_CLK.CLK.gz\n",
      "C:\\Users\\varga\\Box\\Data\\nc Files\\MANCHI\\aux_orbits\\GFZ0MGXRAP_20251590000_01D_30S_CLK.CLK file is read in 1.99 seconds\n",
      "SP3 interpolation is done in 2.54 seconds\n",
      "Saved 88984 individual observations in C:\\Users\\varga\\Box\\Data\\nc Files\\MANCHI\\processed\\MANCHI_raw_20250607200625.nc\n",
      "[OK] MANCHI_raw_20250607200625.25O\n",
      "Could not find any files matching the pattern C:\\Users\\varga\\Box\\Data\\nc Files\\MANCHI\\processed*.nc\n",
      "C:\\Users\\varga\\Box\\Data\\nc Files\\MANCHI\\MANCHI_raw_20250608200627.25O exists | Reading...\n",
      "Observation file  C:\\Users\\varga\\Box\\Data\\nc Files\\MANCHI\\MANCHI_raw_20250608200627.25O  is read in 1.90 seconds.\n",
      "Processing 91464 individual observations\n",
      "Calculating Azimuth and Elevation\n",
      "C:\\Users\\varga\\Box\\Data\\nc Files\\MANCHI\\aux_orbits\\GFZ0MGXRAP_20251590000_01D_05M_ORB.SP3 exists | Reading...\n",
      "C:\\Users\\varga\\Box\\Data\\nc Files\\MANCHI\\aux_orbits\\GFZ0MGXRAP_20251590000_01D_05M_ORB.SP3 file is read in 0.65 seconds\n",
      "This file does not exist: C:\\Users\\varga\\Box\\Data\\nc Files\\MANCHI\\aux_orbits\\GFZ0MGXRAP_20251600000_01D_05M_ORB.SP3\n",
      "Downloading: ftp://gssc.esa.int/gnss/products/2370//GFZ0MGXRAP_20251600000_01D_05M_ORB.SP3.gz"
     ]
    },
    {
     "name": "stderr",
     "output_type": "stream",
     "text": [
      "GFZ0MGXRAP_20251600000_01D_05M_ORB.SP3.gz: 1.04MB [00:03, 314kB/s]                             \n"
     ]
    },
    {
     "name": "stdout",
     "output_type": "stream",
     "text": [
      " | Download completed for ftp://gssc.esa.int/gnss/products/2370//GFZ0MGXRAP_20251600000_01D_05M_ORB.SP3.gz\n",
      "C:\\Users\\varga\\Box\\Data\\nc Files\\MANCHI\\aux_orbits\\GFZ0MGXRAP_20251600000_01D_05M_ORB.SP3 file is read in 3.96 seconds\n",
      "C:\\Users\\varga\\Box\\Data\\nc Files\\MANCHI\\aux_orbits\\GFZ0MGXRAP_20251590000_01D_30S_CLK.CLK exists | Reading...\n",
      "C:\\Users\\varga\\Box\\Data\\nc Files\\MANCHI\\aux_orbits\\GFZ0MGXRAP_20251590000_01D_30S_CLK.CLK file is read in 1.97 seconds\n",
      "This file does not exist: C:\\Users\\varga\\Box\\Data\\nc Files\\MANCHI\\aux_orbits\\GFZ0MGXRAP_20251600000_01D_30S_CLK.CLK\n",
      "Downloading: GFZ0MGXRAP_20251600000_01D_30S_CLK.CLK.gz"
     ]
    },
    {
     "name": "stderr",
     "output_type": "stream",
     "text": [
      "GFZ0MGXRAP_20251600000_01D_30S_CLK.CLK.gz: 4.72MB [00:11, 425kB/s]                             \n"
     ]
    },
    {
     "name": "stdout",
     "output_type": "stream",
     "text": [
      " | Download completed for GFZ0MGXRAP_20251600000_01D_30S_CLK.CLK.gz\n",
      "C:\\Users\\varga\\Box\\Data\\nc Files\\MANCHI\\aux_orbits\\GFZ0MGXRAP_20251600000_01D_30S_CLK.CLK file is read in 2.06 seconds\n",
      "SP3 interpolation is done in 2.52 seconds\n",
      "Saved 91464 individual observations in C:\\Users\\varga\\Box\\Data\\nc Files\\MANCHI\\processed\\MANCHI_raw_20250608200627.nc\n",
      "[OK] MANCHI_raw_20250608200627.25O\n",
      "Could not find any files matching the pattern C:\\Users\\varga\\Box\\Data\\nc Files\\MANCHI\\processed*.nc\n",
      "C:\\Users\\varga\\Box\\Data\\nc Files\\MANCHI\\MANCHI_raw_20250609200627.25O exists | Reading...\n",
      "Observation file  C:\\Users\\varga\\Box\\Data\\nc Files\\MANCHI\\MANCHI_raw_20250609200627.25O  is read in 3.15 seconds.\n",
      "Processing 91755 individual observations\n",
      "Calculating Azimuth and Elevation\n",
      "C:\\Users\\varga\\Box\\Data\\nc Files\\MANCHI\\aux_orbits\\GFZ0MGXRAP_20251600000_01D_05M_ORB.SP3 exists | Reading...\n",
      "C:\\Users\\varga\\Box\\Data\\nc Files\\MANCHI\\aux_orbits\\GFZ0MGXRAP_20251600000_01D_05M_ORB.SP3 file is read in 0.71 seconds\n",
      "This file does not exist: C:\\Users\\varga\\Box\\Data\\nc Files\\MANCHI\\aux_orbits\\GFZ0MGXRAP_20251610000_01D_05M_ORB.SP3\n",
      "Downloading: ftp://gssc.esa.int/gnss/products/2370//GFZ0MGXRAP_20251610000_01D_05M_ORB.SP3.gz"
     ]
    },
    {
     "name": "stderr",
     "output_type": "stream",
     "text": [
      "GFZ0MGXRAP_20251610000_01D_05M_ORB.SP3.gz: 1.05MB [00:03, 351kB/s]                             \n"
     ]
    },
    {
     "name": "stdout",
     "output_type": "stream",
     "text": [
      " | Download completed for ftp://gssc.esa.int/gnss/products/2370//GFZ0MGXRAP_20251610000_01D_05M_ORB.SP3.gz\n",
      "C:\\Users\\varga\\Box\\Data\\nc Files\\MANCHI\\aux_orbits\\GFZ0MGXRAP_20251610000_01D_05M_ORB.SP3 file is read in 3.83 seconds\n",
      "C:\\Users\\varga\\Box\\Data\\nc Files\\MANCHI\\aux_orbits\\GFZ0MGXRAP_20251600000_01D_30S_CLK.CLK exists | Reading...\n",
      "C:\\Users\\varga\\Box\\Data\\nc Files\\MANCHI\\aux_orbits\\GFZ0MGXRAP_20251600000_01D_30S_CLK.CLK file is read in 2.98 seconds\n",
      "This file does not exist: C:\\Users\\varga\\Box\\Data\\nc Files\\MANCHI\\aux_orbits\\GFZ0MGXRAP_20251610000_01D_30S_CLK.CLK\n",
      "Downloading: GFZ0MGXRAP_20251610000_01D_30S_CLK.CLK.gz"
     ]
    },
    {
     "name": "stderr",
     "output_type": "stream",
     "text": [
      "GFZ0MGXRAP_20251610000_01D_30S_CLK.CLK.gz: 4.76MB [00:03, 1.28MB/s]                            \n"
     ]
    },
    {
     "name": "stdout",
     "output_type": "stream",
     "text": [
      " | Download completed for GFZ0MGXRAP_20251610000_01D_30S_CLK.CLK.gz\n",
      "C:\\Users\\varga\\Box\\Data\\nc Files\\MANCHI\\aux_orbits\\GFZ0MGXRAP_20251610000_01D_30S_CLK.CLK file is read in 1.90 seconds\n",
      "SP3 interpolation is done in 2.59 seconds\n",
      "Saved 91755 individual observations in C:\\Users\\varga\\Box\\Data\\nc Files\\MANCHI\\processed\\MANCHI_raw_20250609200627.nc\n",
      "[OK] MANCHI_raw_20250609200627.25O\n",
      "Could not find any files matching the pattern C:\\Users\\varga\\Box\\Data\\nc Files\\MANCHI\\processed*.nc\n",
      "C:\\Users\\varga\\Box\\Data\\nc Files\\MANCHI\\MANCHI_raw_20250610200628.25O exists | Reading...\n",
      "Observation file  C:\\Users\\varga\\Box\\Data\\nc Files\\MANCHI\\MANCHI_raw_20250610200628.25O  is read in 3.41 seconds.\n",
      "Processing 89090 individual observations\n",
      "Calculating Azimuth and Elevation\n",
      "C:\\Users\\varga\\Box\\Data\\nc Files\\MANCHI\\aux_orbits\\GFZ0MGXRAP_20251610000_01D_05M_ORB.SP3 exists | Reading...\n",
      "C:\\Users\\varga\\Box\\Data\\nc Files\\MANCHI\\aux_orbits\\GFZ0MGXRAP_20251610000_01D_05M_ORB.SP3 file is read in 0.58 seconds\n",
      "This file does not exist: C:\\Users\\varga\\Box\\Data\\nc Files\\MANCHI\\aux_orbits\\GFZ0MGXRAP_20251620000_01D_05M_ORB.SP3\n",
      "Downloading: ftp://gssc.esa.int/gnss/products/2370//GFZ0MGXRAP_20251620000_01D_05M_ORB.SP3.gz"
     ]
    },
    {
     "name": "stderr",
     "output_type": "stream",
     "text": [
      "GFZ0MGXRAP_20251620000_01D_05M_ORB.SP3.gz: 1.03MB [00:06, 168kB/s]                             \n"
     ]
    },
    {
     "name": "stdout",
     "output_type": "stream",
     "text": [
      " | Download completed for ftp://gssc.esa.int/gnss/products/2370//GFZ0MGXRAP_20251620000_01D_05M_ORB.SP3.gz\n",
      "C:\\Users\\varga\\Box\\Data\\nc Files\\MANCHI\\aux_orbits\\GFZ0MGXRAP_20251620000_01D_05M_ORB.SP3 file is read in 7.11 seconds\n",
      "C:\\Users\\varga\\Box\\Data\\nc Files\\MANCHI\\aux_orbits\\GFZ0MGXRAP_20251610000_01D_30S_CLK.CLK exists | Reading...\n",
      "C:\\Users\\varga\\Box\\Data\\nc Files\\MANCHI\\aux_orbits\\GFZ0MGXRAP_20251610000_01D_30S_CLK.CLK file is read in 3.01 seconds\n",
      "This file does not exist: C:\\Users\\varga\\Box\\Data\\nc Files\\MANCHI\\aux_orbits\\GFZ0MGXRAP_20251620000_01D_30S_CLK.CLK\n",
      "Downloading: GFZ0MGXRAP_20251620000_01D_30S_CLK.CLK.gz"
     ]
    },
    {
     "name": "stderr",
     "output_type": "stream",
     "text": [
      "GFZ0MGXRAP_20251620000_01D_30S_CLK.CLK.gz: 4.73MB [00:03, 1.31MB/s]                            \n"
     ]
    },
    {
     "name": "stdout",
     "output_type": "stream",
     "text": [
      " | Download completed for GFZ0MGXRAP_20251620000_01D_30S_CLK.CLK.gz\n",
      "C:\\Users\\varga\\Box\\Data\\nc Files\\MANCHI\\aux_orbits\\GFZ0MGXRAP_20251620000_01D_30S_CLK.CLK file is read in 2.01 seconds\n",
      "SP3 interpolation is done in 2.52 seconds\n",
      "Saved 89090 individual observations in C:\\Users\\varga\\Box\\Data\\nc Files\\MANCHI\\processed\\MANCHI_raw_20250610200628.nc\n",
      "[OK] MANCHI_raw_20250610200628.25O\n",
      "Could not find any files matching the pattern C:\\Users\\varga\\Box\\Data\\nc Files\\MANCHI\\processed*.nc\n",
      "C:\\Users\\varga\\Box\\Data\\nc Files\\MANCHI\\MANCHI_raw_20250611200629.25O exists | Reading...\n",
      "Observation file  C:\\Users\\varga\\Box\\Data\\nc Files\\MANCHI\\MANCHI_raw_20250611200629.25O  is read in 3.56 seconds.\n",
      "Processing 89849 individual observations\n",
      "Calculating Azimuth and Elevation\n",
      "C:\\Users\\varga\\Box\\Data\\nc Files\\MANCHI\\aux_orbits\\GFZ0MGXRAP_20251620000_01D_05M_ORB.SP3 exists | Reading...\n",
      "C:\\Users\\varga\\Box\\Data\\nc Files\\MANCHI\\aux_orbits\\GFZ0MGXRAP_20251620000_01D_05M_ORB.SP3 file is read in 0.95 seconds\n",
      "This file does not exist: C:\\Users\\varga\\Box\\Data\\nc Files\\MANCHI\\aux_orbits\\GFZ0MGXRAP_20251630000_01D_05M_ORB.SP3\n",
      "Downloading: ftp://gssc.esa.int/gnss/products/2370//GFZ0MGXRAP_20251630000_01D_05M_ORB.SP3.gz"
     ]
    },
    {
     "name": "stderr",
     "output_type": "stream",
     "text": [
      "GFZ0MGXRAP_20251630000_01D_05M_ORB.SP3.gz: 1.04MB [00:03, 328kB/s]                             \n"
     ]
    },
    {
     "name": "stdout",
     "output_type": "stream",
     "text": [
      " | Download completed for ftp://gssc.esa.int/gnss/products/2370//GFZ0MGXRAP_20251630000_01D_05M_ORB.SP3.gz\n",
      "C:\\Users\\varga\\Box\\Data\\nc Files\\MANCHI\\aux_orbits\\GFZ0MGXRAP_20251630000_01D_05M_ORB.SP3 file is read in 4.02 seconds\n",
      "C:\\Users\\varga\\Box\\Data\\nc Files\\MANCHI\\aux_orbits\\GFZ0MGXRAP_20251620000_01D_30S_CLK.CLK exists | Reading...\n",
      "C:\\Users\\varga\\Box\\Data\\nc Files\\MANCHI\\aux_orbits\\GFZ0MGXRAP_20251620000_01D_30S_CLK.CLK file is read in 3.11 seconds\n",
      "This file does not exist: C:\\Users\\varga\\Box\\Data\\nc Files\\MANCHI\\aux_orbits\\GFZ0MGXRAP_20251630000_01D_30S_CLK.CLK\n",
      "Downloading: GFZ0MGXRAP_20251630000_01D_30S_CLK.CLK.gz"
     ]
    },
    {
     "name": "stderr",
     "output_type": "stream",
     "text": [
      "GFZ0MGXRAP_20251630000_01D_30S_CLK.CLK.gz: 4.71MB [00:03, 1.33MB/s]                            \n"
     ]
    },
    {
     "name": "stdout",
     "output_type": "stream",
     "text": [
      " | Download completed for GFZ0MGXRAP_20251630000_01D_30S_CLK.CLK.gz\n",
      "C:\\Users\\varga\\Box\\Data\\nc Files\\MANCHI\\aux_orbits\\GFZ0MGXRAP_20251630000_01D_30S_CLK.CLK file is read in 2.62 seconds\n",
      "SP3 interpolation is done in 2.57 seconds\n",
      "Saved 89849 individual observations in C:\\Users\\varga\\Box\\Data\\nc Files\\MANCHI\\processed\\MANCHI_raw_20250611200629.nc\n",
      "[OK] MANCHI_raw_20250611200629.25O\n",
      "Could not find any files matching the pattern C:\\Users\\varga\\Box\\Data\\nc Files\\MANCHI\\processed*.nc\n",
      "C:\\Users\\varga\\Box\\Data\\nc Files\\MANCHI\\MANCHI_raw_20250612200629.25O exists | Reading...\n",
      "Observation file  C:\\Users\\varga\\Box\\Data\\nc Files\\MANCHI\\MANCHI_raw_20250612200629.25O  is read in 3.04 seconds.\n",
      "Processing 90703 individual observations\n",
      "Calculating Azimuth and Elevation\n",
      "C:\\Users\\varga\\Box\\Data\\nc Files\\MANCHI\\aux_orbits\\GFZ0MGXRAP_20251630000_01D_05M_ORB.SP3 exists | Reading...\n",
      "C:\\Users\\varga\\Box\\Data\\nc Files\\MANCHI\\aux_orbits\\GFZ0MGXRAP_20251630000_01D_05M_ORB.SP3 file is read in 0.71 seconds\n",
      "This file does not exist: C:\\Users\\varga\\Box\\Data\\nc Files\\MANCHI\\aux_orbits\\GFZ0MGXRAP_20251640000_01D_05M_ORB.SP3\n",
      "Downloading: ftp://gssc.esa.int/gnss/products/2370//GFZ0MGXRAP_20251640000_01D_05M_ORB.SP3.gz"
     ]
    },
    {
     "name": "stderr",
     "output_type": "stream",
     "text": [
      "GFZ0MGXRAP_20251640000_01D_05M_ORB.SP3.gz: 1.03MB [00:03, 313kB/s]                             \n"
     ]
    },
    {
     "name": "stdout",
     "output_type": "stream",
     "text": [
      " | Download completed for ftp://gssc.esa.int/gnss/products/2370//GFZ0MGXRAP_20251640000_01D_05M_ORB.SP3.gz\n",
      "C:\\Users\\varga\\Box\\Data\\nc Files\\MANCHI\\aux_orbits\\GFZ0MGXRAP_20251640000_01D_05M_ORB.SP3 file is read in 8.20 seconds\n",
      "C:\\Users\\varga\\Box\\Data\\nc Files\\MANCHI\\aux_orbits\\GFZ0MGXRAP_20251630000_01D_30S_CLK.CLK exists | Reading...\n",
      "C:\\Users\\varga\\Box\\Data\\nc Files\\MANCHI\\aux_orbits\\GFZ0MGXRAP_20251630000_01D_30S_CLK.CLK file is read in 2.20 seconds\n",
      "This file does not exist: C:\\Users\\varga\\Box\\Data\\nc Files\\MANCHI\\aux_orbits\\GFZ0MGXRAP_20251640000_01D_30S_CLK.CLK\n",
      "Downloading: GFZ0MGXRAP_20251640000_01D_30S_CLK.CLK.gz"
     ]
    },
    {
     "name": "stderr",
     "output_type": "stream",
     "text": [
      "GFZ0MGXRAP_20251640000_01D_30S_CLK.CLK.gz: 4.73MB [00:03, 1.33MB/s]                            \n"
     ]
    },
    {
     "name": "stdout",
     "output_type": "stream",
     "text": [
      " | Download completed for GFZ0MGXRAP_20251640000_01D_30S_CLK.CLK.gz\n",
      "C:\\Users\\varga\\Box\\Data\\nc Files\\MANCHI\\aux_orbits\\GFZ0MGXRAP_20251640000_01D_30S_CLK.CLK file is read in 1.98 seconds\n",
      "SP3 interpolation is done in 2.59 seconds\n",
      "Saved 90703 individual observations in C:\\Users\\varga\\Box\\Data\\nc Files\\MANCHI\\processed\\MANCHI_raw_20250612200629.nc\n",
      "[OK] MANCHI_raw_20250612200629.25O\n",
      "Could not find any files matching the pattern C:\\Users\\varga\\Box\\Data\\nc Files\\MANCHI\\processed*.nc\n",
      "C:\\Users\\varga\\Box\\Data\\nc Files\\MANCHI\\MANCHI_raw_20250613200630.25O exists | Reading...\n",
      "Observation file  C:\\Users\\varga\\Box\\Data\\nc Files\\MANCHI\\MANCHI_raw_20250613200630.25O  is read in 2.46 seconds.\n",
      "Processing 88488 individual observations\n",
      "Calculating Azimuth and Elevation\n",
      "C:\\Users\\varga\\Box\\Data\\nc Files\\MANCHI\\aux_orbits\\GFZ0MGXRAP_20251640000_01D_05M_ORB.SP3 exists | Reading...\n",
      "C:\\Users\\varga\\Box\\Data\\nc Files\\MANCHI\\aux_orbits\\GFZ0MGXRAP_20251640000_01D_05M_ORB.SP3 file is read in 0.66 seconds\n",
      "This file does not exist: C:\\Users\\varga\\Box\\Data\\nc Files\\MANCHI\\aux_orbits\\GFZ0MGXRAP_20251650000_01D_05M_ORB.SP3\n",
      "Downloading: ftp://gssc.esa.int/gnss/products/2370//GFZ0MGXRAP_20251650000_01D_05M_ORB.SP3.gz"
     ]
    },
    {
     "name": "stderr",
     "output_type": "stream",
     "text": [
      "GFZ0MGXRAP_20251650000_01D_05M_ORB.SP3.gz: 1.05MB [00:05, 188kB/s]                             \n"
     ]
    },
    {
     "name": "stdout",
     "output_type": "stream",
     "text": [
      " | Download completed for ftp://gssc.esa.int/gnss/products/2370//GFZ0MGXRAP_20251650000_01D_05M_ORB.SP3.gz\n",
      "C:\\Users\\varga\\Box\\Data\\nc Files\\MANCHI\\aux_orbits\\GFZ0MGXRAP_20251650000_01D_05M_ORB.SP3 file is read in 6.82 seconds\n",
      "C:\\Users\\varga\\Box\\Data\\nc Files\\MANCHI\\aux_orbits\\GFZ0MGXRAP_20251640000_01D_30S_CLK.CLK exists | Reading...\n",
      "C:\\Users\\varga\\Box\\Data\\nc Files\\MANCHI\\aux_orbits\\GFZ0MGXRAP_20251640000_01D_30S_CLK.CLK file is read in 2.92 seconds\n",
      "This file does not exist: C:\\Users\\varga\\Box\\Data\\nc Files\\MANCHI\\aux_orbits\\GFZ0MGXRAP_20251650000_01D_30S_CLK.CLK\n",
      "Downloading: GFZ0MGXRAP_20251650000_01D_30S_CLK.CLK.gz"
     ]
    },
    {
     "name": "stderr",
     "output_type": "stream",
     "text": [
      "GFZ0MGXRAP_20251650000_01D_30S_CLK.CLK.gz: 4.75MB [00:03, 1.36MB/s]                            \n"
     ]
    },
    {
     "name": "stdout",
     "output_type": "stream",
     "text": [
      " | Download completed for GFZ0MGXRAP_20251650000_01D_30S_CLK.CLK.gz\n",
      "C:\\Users\\varga\\Box\\Data\\nc Files\\MANCHI\\aux_orbits\\GFZ0MGXRAP_20251650000_01D_30S_CLK.CLK file is read in 2.88 seconds\n",
      "SP3 interpolation is done in 2.68 seconds\n",
      "Saved 88488 individual observations in C:\\Users\\varga\\Box\\Data\\nc Files\\MANCHI\\processed\\MANCHI_raw_20250613200630.nc\n",
      "[OK] MANCHI_raw_20250613200630.25O\n",
      "Could not find any files matching the pattern C:\\Users\\varga\\Box\\Data\\nc Files\\MANCHI\\processed*.nc\n",
      "C:\\Users\\varga\\Box\\Data\\nc Files\\MANCHI\\MANCHI_raw_20250614200631.25O exists | Reading...\n",
      "Observation file  C:\\Users\\varga\\Box\\Data\\nc Files\\MANCHI\\MANCHI_raw_20250614200631.25O  is read in 1.90 seconds.\n",
      "Processing 89044 individual observations\n",
      "Calculating Azimuth and Elevation\n",
      "C:\\Users\\varga\\Box\\Data\\nc Files\\MANCHI\\aux_orbits\\GFZ0MGXRAP_20251650000_01D_05M_ORB.SP3 exists | Reading...\n",
      "C:\\Users\\varga\\Box\\Data\\nc Files\\MANCHI\\aux_orbits\\GFZ0MGXRAP_20251650000_01D_05M_ORB.SP3 file is read in 0.78 seconds\n",
      "This file does not exist: C:\\Users\\varga\\Box\\Data\\nc Files\\MANCHI\\aux_orbits\\GFZ0MGXRAP_20251660000_01D_05M_ORB.SP3\n",
      "Downloading: ftp://gssc.esa.int/gnss/products/2371//GFZ0MGXRAP_20251660000_01D_05M_ORB.SP3.gz"
     ]
    },
    {
     "name": "stderr",
     "output_type": "stream",
     "text": [
      "GFZ0MGXRAP_20251660000_01D_05M_ORB.SP3.gz: 1.05MB [00:03, 315kB/s]                             \n"
     ]
    },
    {
     "name": "stdout",
     "output_type": "stream",
     "text": [
      " | Download completed for ftp://gssc.esa.int/gnss/products/2371//GFZ0MGXRAP_20251660000_01D_05M_ORB.SP3.gz\n",
      "C:\\Users\\varga\\Box\\Data\\nc Files\\MANCHI\\aux_orbits\\GFZ0MGXRAP_20251660000_01D_05M_ORB.SP3 file is read in 4.27 seconds\n",
      "C:\\Users\\varga\\Box\\Data\\nc Files\\MANCHI\\aux_orbits\\GFZ0MGXRAP_20251650000_01D_30S_CLK.CLK exists | Reading...\n",
      "C:\\Users\\varga\\Box\\Data\\nc Files\\MANCHI\\aux_orbits\\GFZ0MGXRAP_20251650000_01D_30S_CLK.CLK file is read in 3.11 seconds\n",
      "This file does not exist: C:\\Users\\varga\\Box\\Data\\nc Files\\MANCHI\\aux_orbits\\GFZ0MGXRAP_20251660000_01D_30S_CLK.CLK\n",
      "Downloading: GFZ0MGXRAP_20251660000_01D_30S_CLK.CLK.gz"
     ]
    },
    {
     "name": "stderr",
     "output_type": "stream",
     "text": [
      "GFZ0MGXRAP_20251660000_01D_30S_CLK.CLK.gz: 4.79MB [00:05, 956kB/s]                             \n"
     ]
    },
    {
     "name": "stdout",
     "output_type": "stream",
     "text": [
      " | Download completed for GFZ0MGXRAP_20251660000_01D_30S_CLK.CLK.gz\n",
      "C:\\Users\\varga\\Box\\Data\\nc Files\\MANCHI\\aux_orbits\\GFZ0MGXRAP_20251660000_01D_30S_CLK.CLK file is read in 2.90 seconds\n",
      "SP3 interpolation is done in 11.39 seconds\n",
      "Saved 89044 individual observations in C:\\Users\\varga\\Box\\Data\\nc Files\\MANCHI\\processed\\MANCHI_raw_20250614200631.nc\n",
      "[OK] MANCHI_raw_20250614200631.25O\n",
      "Could not find any files matching the pattern C:\\Users\\varga\\Box\\Data\\nc Files\\MANCHI\\processed*.nc\n",
      "C:\\Users\\varga\\Box\\Data\\nc Files\\MANCHI\\MANCHI_raw_20250615200631.25O exists | Reading...\n",
      "Observation file  C:\\Users\\varga\\Box\\Data\\nc Files\\MANCHI\\MANCHI_raw_20250615200631.25O  is read in 1.91 seconds.\n",
      "Processing 90690 individual observations\n",
      "Calculating Azimuth and Elevation\n",
      "C:\\Users\\varga\\Box\\Data\\nc Files\\MANCHI\\aux_orbits\\GFZ0MGXRAP_20251660000_01D_05M_ORB.SP3 exists | Reading...\n",
      "C:\\Users\\varga\\Box\\Data\\nc Files\\MANCHI\\aux_orbits\\GFZ0MGXRAP_20251660000_01D_05M_ORB.SP3 file is read in 0.42 seconds\n",
      "This file does not exist: C:\\Users\\varga\\Box\\Data\\nc Files\\MANCHI\\aux_orbits\\GFZ0MGXRAP_20251670000_01D_05M_ORB.SP3\n",
      "Downloading: ftp://gssc.esa.int/gnss/products/2371//GFZ0MGXRAP_20251670000_01D_05M_ORB.SP3.gz"
     ]
    },
    {
     "name": "stderr",
     "output_type": "stream",
     "text": [
      "GFZ0MGXRAP_20251670000_01D_05M_ORB.SP3.gz: 1.05MB [00:03, 351kB/s]                             \n"
     ]
    },
    {
     "name": "stdout",
     "output_type": "stream",
     "text": [
      " | Download completed for ftp://gssc.esa.int/gnss/products/2371//GFZ0MGXRAP_20251670000_01D_05M_ORB.SP3.gz\n",
      "C:\\Users\\varga\\Box\\Data\\nc Files\\MANCHI\\aux_orbits\\GFZ0MGXRAP_20251670000_01D_05M_ORB.SP3 file is read in 3.61 seconds\n",
      "C:\\Users\\varga\\Box\\Data\\nc Files\\MANCHI\\aux_orbits\\GFZ0MGXRAP_20251660000_01D_30S_CLK.CLK exists | Reading...\n",
      "C:\\Users\\varga\\Box\\Data\\nc Files\\MANCHI\\aux_orbits\\GFZ0MGXRAP_20251660000_01D_30S_CLK.CLK file is read in 2.07 seconds\n",
      "This file does not exist: C:\\Users\\varga\\Box\\Data\\nc Files\\MANCHI\\aux_orbits\\GFZ0MGXRAP_20251670000_01D_30S_CLK.CLK\n",
      "Downloading: GFZ0MGXRAP_20251670000_01D_30S_CLK.CLK.gz"
     ]
    },
    {
     "name": "stderr",
     "output_type": "stream",
     "text": [
      "GFZ0MGXRAP_20251670000_01D_30S_CLK.CLK.gz: 4.77MB [00:04, 1.23MB/s]                            \n"
     ]
    },
    {
     "name": "stdout",
     "output_type": "stream",
     "text": [
      " | Download completed for GFZ0MGXRAP_20251670000_01D_30S_CLK.CLK.gz\n",
      "C:\\Users\\varga\\Box\\Data\\nc Files\\MANCHI\\aux_orbits\\GFZ0MGXRAP_20251670000_01D_30S_CLK.CLK file is read in 1.97 seconds\n",
      "SP3 interpolation is done in 3.66 seconds\n",
      "Saved 90690 individual observations in C:\\Users\\varga\\Box\\Data\\nc Files\\MANCHI\\processed\\MANCHI_raw_20250615200631.nc\n",
      "[OK] MANCHI_raw_20250615200631.25O\n",
      "Could not find any files matching the pattern C:\\Users\\varga\\Box\\Data\\nc Files\\MANCHI\\processed*.nc\n",
      "C:\\Users\\varga\\Box\\Data\\nc Files\\MANCHI\\MANCHI_raw_20250616200632.25O exists | Reading...\n",
      "Observation file  C:\\Users\\varga\\Box\\Data\\nc Files\\MANCHI\\MANCHI_raw_20250616200632.25O  is read in 2.63 seconds.\n",
      "Processing 88616 individual observations\n",
      "Calculating Azimuth and Elevation\n",
      "C:\\Users\\varga\\Box\\Data\\nc Files\\MANCHI\\aux_orbits\\GFZ0MGXRAP_20251670000_01D_05M_ORB.SP3 exists | Reading...\n",
      "C:\\Users\\varga\\Box\\Data\\nc Files\\MANCHI\\aux_orbits\\GFZ0MGXRAP_20251670000_01D_05M_ORB.SP3 file is read in 0.65 seconds\n",
      "This file does not exist: C:\\Users\\varga\\Box\\Data\\nc Files\\MANCHI\\aux_orbits\\GFZ0MGXRAP_20251680000_01D_05M_ORB.SP3\n",
      "Downloading: ftp://gssc.esa.int/gnss/products/2371//GFZ0MGXRAP_20251680000_01D_05M_ORB.SP3.gz"
     ]
    },
    {
     "name": "stderr",
     "output_type": "stream",
     "text": [
      "GFZ0MGXRAP_20251680000_01D_05M_ORB.SP3.gz: 1.03MB [00:03, 322kB/s]                             \n"
     ]
    },
    {
     "name": "stdout",
     "output_type": "stream",
     "text": [
      " | Download completed for ftp://gssc.esa.int/gnss/products/2371//GFZ0MGXRAP_20251680000_01D_05M_ORB.SP3.gz\n",
      "C:\\Users\\varga\\Box\\Data\\nc Files\\MANCHI\\aux_orbits\\GFZ0MGXRAP_20251680000_01D_05M_ORB.SP3 file is read in 4.16 seconds\n",
      "C:\\Users\\varga\\Box\\Data\\nc Files\\MANCHI\\aux_orbits\\GFZ0MGXRAP_20251670000_01D_30S_CLK.CLK exists | Reading...\n",
      "C:\\Users\\varga\\Box\\Data\\nc Files\\MANCHI\\aux_orbits\\GFZ0MGXRAP_20251670000_01D_30S_CLK.CLK file is read in 3.26 seconds\n",
      "This file does not exist: C:\\Users\\varga\\Box\\Data\\nc Files\\MANCHI\\aux_orbits\\GFZ0MGXRAP_20251680000_01D_30S_CLK.CLK\n",
      "Downloading: GFZ0MGXRAP_20251680000_01D_30S_CLK.CLK.gz"
     ]
    },
    {
     "name": "stderr",
     "output_type": "stream",
     "text": [
      "GFZ0MGXRAP_20251680000_01D_30S_CLK.CLK.gz: 4.70MB [00:05, 970kB/s]                             \n"
     ]
    },
    {
     "name": "stdout",
     "output_type": "stream",
     "text": [
      " | Download completed for GFZ0MGXRAP_20251680000_01D_30S_CLK.CLK.gz\n",
      "C:\\Users\\varga\\Box\\Data\\nc Files\\MANCHI\\aux_orbits\\GFZ0MGXRAP_20251680000_01D_30S_CLK.CLK file is read in 2.84 seconds\n",
      "SP3 interpolation is done in 3.05 seconds\n",
      "Saved 88616 individual observations in C:\\Users\\varga\\Box\\Data\\nc Files\\MANCHI\\processed\\MANCHI_raw_20250616200632.nc\n",
      "[OK] MANCHI_raw_20250616200632.25O\n",
      "Could not find any files matching the pattern C:\\Users\\varga\\Box\\Data\\nc Files\\MANCHI\\processed*.nc\n",
      "C:\\Users\\varga\\Box\\Data\\nc Files\\MANCHI\\MANCHI_raw_20250617200633.25O exists | Reading...\n",
      "Observation file  C:\\Users\\varga\\Box\\Data\\nc Files\\MANCHI\\MANCHI_raw_20250617200633.25O  is read in 2.03 seconds.\n",
      "Processing 87498 individual observations\n",
      "Calculating Azimuth and Elevation\n",
      "C:\\Users\\varga\\Box\\Data\\nc Files\\MANCHI\\aux_orbits\\GFZ0MGXRAP_20251680000_01D_05M_ORB.SP3 exists | Reading...\n",
      "C:\\Users\\varga\\Box\\Data\\nc Files\\MANCHI\\aux_orbits\\GFZ0MGXRAP_20251680000_01D_05M_ORB.SP3 file is read in 1.34 seconds\n",
      "This file does not exist: C:\\Users\\varga\\Box\\Data\\nc Files\\MANCHI\\aux_orbits\\GFZ0MGXRAP_20251690000_01D_05M_ORB.SP3\n",
      "Downloading: ftp://gssc.esa.int/gnss/products/2371//GFZ0MGXRAP_20251690000_01D_05M_ORB.SP3.gz"
     ]
    },
    {
     "name": "stderr",
     "output_type": "stream",
     "text": [
      "GFZ0MGXRAP_20251690000_01D_05M_ORB.SP3.gz: 1.02MB [00:03, 338kB/s]                             \n"
     ]
    },
    {
     "name": "stdout",
     "output_type": "stream",
     "text": [
      " | Download completed for ftp://gssc.esa.int/gnss/products/2371//GFZ0MGXRAP_20251690000_01D_05M_ORB.SP3.gz\n",
      "C:\\Users\\varga\\Box\\Data\\nc Files\\MANCHI\\aux_orbits\\GFZ0MGXRAP_20251690000_01D_05M_ORB.SP3 file is read in 3.89 seconds\n",
      "C:\\Users\\varga\\Box\\Data\\nc Files\\MANCHI\\aux_orbits\\GFZ0MGXRAP_20251680000_01D_30S_CLK.CLK exists | Reading...\n",
      "C:\\Users\\varga\\Box\\Data\\nc Files\\MANCHI\\aux_orbits\\GFZ0MGXRAP_20251680000_01D_30S_CLK.CLK file is read in 3.29 seconds\n",
      "This file does not exist: C:\\Users\\varga\\Box\\Data\\nc Files\\MANCHI\\aux_orbits\\GFZ0MGXRAP_20251690000_01D_30S_CLK.CLK\n",
      "Downloading: GFZ0MGXRAP_20251690000_01D_30S_CLK.CLK.gz"
     ]
    },
    {
     "name": "stderr",
     "output_type": "stream",
     "text": [
      "GFZ0MGXRAP_20251690000_01D_30S_CLK.CLK.gz: 4.71MB [00:03, 1.25MB/s]                            \n"
     ]
    },
    {
     "name": "stdout",
     "output_type": "stream",
     "text": [
      " | Download completed for GFZ0MGXRAP_20251690000_01D_30S_CLK.CLK.gz\n",
      "C:\\Users\\varga\\Box\\Data\\nc Files\\MANCHI\\aux_orbits\\GFZ0MGXRAP_20251690000_01D_30S_CLK.CLK file is read in 2.74 seconds\n"
     ]
    },
    {
     "name": "stderr",
     "output_type": "stream",
     "text": [
      "C:\\Users\\varga\\Documents\\GitHub\\gnssvod\\gnssvod\\position\\interpolation.py:59: FutureWarning: The behavior of pd.concat with len(keys) != len(objs) is deprecated. In a future version this will raise instead of truncating to the smaller of the two sequences\n",
      "  sp3_resampled = _pd.concat(sp3_resampled, keys=svList, names=['SV']).reorder_levels(['Epoch', 'SV']).sort_index(level='Epoch')\n"
     ]
    },
    {
     "name": "stdout",
     "output_type": "stream",
     "text": [
      "SP3 interpolation is done in 11.05 seconds\n",
      "Saved 87498 individual observations in C:\\Users\\varga\\Box\\Data\\nc Files\\MANCHI\\processed\\MANCHI_raw_20250617200633.nc\n",
      "[OK] MANCHI_raw_20250617200633.25O\n",
      "Could not find any files matching the pattern C:\\Users\\varga\\Box\\Data\\nc Files\\MANCHI\\processed*.nc\n",
      "C:\\Users\\varga\\Box\\Data\\nc Files\\MANCHI\\MANCHI_raw_20250618200634.25O exists | Reading...\n",
      "Observation file  C:\\Users\\varga\\Box\\Data\\nc Files\\MANCHI\\MANCHI_raw_20250618200634.25O  is read in 1.91 seconds.\n",
      "Processing 89733 individual observations\n",
      "Calculating Azimuth and Elevation\n",
      "C:\\Users\\varga\\Box\\Data\\nc Files\\MANCHI\\aux_orbits\\GFZ0MGXRAP_20251690000_01D_05M_ORB.SP3 exists | Reading...\n",
      "C:\\Users\\varga\\Box\\Data\\nc Files\\MANCHI\\aux_orbits\\GFZ0MGXRAP_20251690000_01D_05M_ORB.SP3 file is read in 0.43 seconds\n",
      "This file does not exist: C:\\Users\\varga\\Box\\Data\\nc Files\\MANCHI\\aux_orbits\\GFZ0MGXRAP_20251700000_01D_05M_ORB.SP3\n",
      "Downloading: ftp://gssc.esa.int/gnss/products/2371//GFZ0MGXRAP_20251700000_01D_05M_ORB.SP3.gz"
     ]
    },
    {
     "name": "stderr",
     "output_type": "stream",
     "text": [
      "GFZ0MGXRAP_20251700000_01D_05M_ORB.SP3.gz: 1.04MB [00:03, 344kB/s]                             \n"
     ]
    },
    {
     "name": "stdout",
     "output_type": "stream",
     "text": [
      " | Download completed for ftp://gssc.esa.int/gnss/products/2371//GFZ0MGXRAP_20251700000_01D_05M_ORB.SP3.gz\n",
      "C:\\Users\\varga\\Box\\Data\\nc Files\\MANCHI\\aux_orbits\\GFZ0MGXRAP_20251700000_01D_05M_ORB.SP3 file is read in 3.91 seconds\n",
      "C:\\Users\\varga\\Box\\Data\\nc Files\\MANCHI\\aux_orbits\\GFZ0MGXRAP_20251690000_01D_30S_CLK.CLK exists | Reading...\n",
      "C:\\Users\\varga\\Box\\Data\\nc Files\\MANCHI\\aux_orbits\\GFZ0MGXRAP_20251690000_01D_30S_CLK.CLK file is read in 3.28 seconds\n",
      "This file does not exist: C:\\Users\\varga\\Box\\Data\\nc Files\\MANCHI\\aux_orbits\\GFZ0MGXRAP_20251700000_01D_30S_CLK.CLK\n",
      "Downloading: GFZ0MGXRAP_20251700000_01D_30S_CLK.CLK.gz"
     ]
    },
    {
     "name": "stderr",
     "output_type": "stream",
     "text": [
      "GFZ0MGXRAP_20251700000_01D_30S_CLK.CLK.gz: 4.79MB [00:03, 1.34MB/s]                            \n"
     ]
    },
    {
     "name": "stdout",
     "output_type": "stream",
     "text": [
      " | Download completed for GFZ0MGXRAP_20251700000_01D_30S_CLK.CLK.gz\n",
      "C:\\Users\\varga\\Box\\Data\\nc Files\\MANCHI\\aux_orbits\\GFZ0MGXRAP_20251700000_01D_30S_CLK.CLK file is read in 1.92 seconds\n",
      "SP3 interpolation is done in 3.18 seconds\n",
      "Saved 89733 individual observations in C:\\Users\\varga\\Box\\Data\\nc Files\\MANCHI\\processed\\MANCHI_raw_20250618200634.nc\n",
      "[OK] MANCHI_raw_20250618200634.25O\n",
      "Could not find any files matching the pattern C:\\Users\\varga\\Box\\Data\\nc Files\\MANCHI\\processed*.nc\n",
      "C:\\Users\\varga\\Box\\Data\\nc Files\\MANCHI\\MANCHI_raw_20250619200634.25O exists | Reading...\n",
      "Observation file  C:\\Users\\varga\\Box\\Data\\nc Files\\MANCHI\\MANCHI_raw_20250619200634.25O  is read in 3.11 seconds.\n",
      "Processing 90660 individual observations\n",
      "Calculating Azimuth and Elevation\n",
      "C:\\Users\\varga\\Box\\Data\\nc Files\\MANCHI\\aux_orbits\\GFZ0MGXRAP_20251700000_01D_05M_ORB.SP3 exists | Reading...\n",
      "C:\\Users\\varga\\Box\\Data\\nc Files\\MANCHI\\aux_orbits\\GFZ0MGXRAP_20251700000_01D_05M_ORB.SP3 file is read in 0.69 seconds\n",
      "This file does not exist: C:\\Users\\varga\\Box\\Data\\nc Files\\MANCHI\\aux_orbits\\GFZ0MGXRAP_20251710000_01D_05M_ORB.SP3\n",
      "Downloading: ftp://gssc.esa.int/gnss/products/2371//GFZ0MGXRAP_20251710000_01D_05M_ORB.SP3.gz"
     ]
    },
    {
     "name": "stderr",
     "output_type": "stream",
     "text": [
      "GFZ0MGXRAP_20251710000_01D_05M_ORB.SP3.gz: 1.05MB [00:03, 339kB/s]                             \n"
     ]
    },
    {
     "name": "stdout",
     "output_type": "stream",
     "text": [
      " | Download completed for ftp://gssc.esa.int/gnss/products/2371//GFZ0MGXRAP_20251710000_01D_05M_ORB.SP3.gz\n",
      "C:\\Users\\varga\\Box\\Data\\nc Files\\MANCHI\\aux_orbits\\GFZ0MGXRAP_20251710000_01D_05M_ORB.SP3 file is read in 3.98 seconds\n",
      "C:\\Users\\varga\\Box\\Data\\nc Files\\MANCHI\\aux_orbits\\GFZ0MGXRAP_20251700000_01D_30S_CLK.CLK exists | Reading...\n",
      "C:\\Users\\varga\\Box\\Data\\nc Files\\MANCHI\\aux_orbits\\GFZ0MGXRAP_20251700000_01D_30S_CLK.CLK file is read in 2.58 seconds\n",
      "This file does not exist: C:\\Users\\varga\\Box\\Data\\nc Files\\MANCHI\\aux_orbits\\GFZ0MGXRAP_20251710000_01D_30S_CLK.CLK\n",
      "Downloading: GFZ0MGXRAP_20251710000_01D_30S_CLK.CLK.gz"
     ]
    },
    {
     "name": "stderr",
     "output_type": "stream",
     "text": [
      "GFZ0MGXRAP_20251710000_01D_30S_CLK.CLK.gz: 4.83MB [00:14, 355kB/s]                             \n"
     ]
    },
    {
     "name": "stdout",
     "output_type": "stream",
     "text": [
      " | Download completed for GFZ0MGXRAP_20251710000_01D_30S_CLK.CLK.gz\n",
      "C:\\Users\\varga\\Box\\Data\\nc Files\\MANCHI\\aux_orbits\\GFZ0MGXRAP_20251710000_01D_30S_CLK.CLK file is read in 2.03 seconds\n",
      "SP3 interpolation is done in 2.52 seconds\n",
      "Saved 90660 individual observations in C:\\Users\\varga\\Box\\Data\\nc Files\\MANCHI\\processed\\MANCHI_raw_20250619200634.nc\n",
      "[OK] MANCHI_raw_20250619200634.25O\n",
      "Could not find any files matching the pattern C:\\Users\\varga\\Box\\Data\\nc Files\\MANCHI\\processed*.nc\n",
      "C:\\Users\\varga\\Box\\Data\\nc Files\\MANCHI\\MANCHI_raw_20250620200635.25O exists | Reading...\n",
      "Observation file  C:\\Users\\varga\\Box\\Data\\nc Files\\MANCHI\\MANCHI_raw_20250620200635.25O  is read in 2.55 seconds.\n",
      "Processing 88689 individual observations\n",
      "Calculating Azimuth and Elevation\n",
      "C:\\Users\\varga\\Box\\Data\\nc Files\\MANCHI\\aux_orbits\\GFZ0MGXRAP_20251710000_01D_05M_ORB.SP3 exists | Reading...\n",
      "C:\\Users\\varga\\Box\\Data\\nc Files\\MANCHI\\aux_orbits\\GFZ0MGXRAP_20251710000_01D_05M_ORB.SP3 file is read in 0.92 seconds\n",
      "This file does not exist: C:\\Users\\varga\\Box\\Data\\nc Files\\MANCHI\\aux_orbits\\GFZ0MGXRAP_20251720000_01D_05M_ORB.SP3\n",
      "Downloading: ftp://gssc.esa.int/gnss/products/2371//GFZ0MGXRAP_20251720000_01D_05M_ORB.SP3.gz"
     ]
    },
    {
     "name": "stderr",
     "output_type": "stream",
     "text": [
      "GFZ0MGXRAP_20251720000_01D_05M_ORB.SP3.gz: 1.05MB [00:03, 347kB/s]                             \n"
     ]
    },
    {
     "name": "stdout",
     "output_type": "stream",
     "text": [
      " | Download completed for ftp://gssc.esa.int/gnss/products/2371//GFZ0MGXRAP_20251720000_01D_05M_ORB.SP3.gz\n",
      "C:\\Users\\varga\\Box\\Data\\nc Files\\MANCHI\\aux_orbits\\GFZ0MGXRAP_20251720000_01D_05M_ORB.SP3 file is read in 3.99 seconds\n",
      "C:\\Users\\varga\\Box\\Data\\nc Files\\MANCHI\\aux_orbits\\GFZ0MGXRAP_20251710000_01D_30S_CLK.CLK exists | Reading...\n",
      "C:\\Users\\varga\\Box\\Data\\nc Files\\MANCHI\\aux_orbits\\GFZ0MGXRAP_20251710000_01D_30S_CLK.CLK file is read in 3.12 seconds\n",
      "This file does not exist: C:\\Users\\varga\\Box\\Data\\nc Files\\MANCHI\\aux_orbits\\GFZ0MGXRAP_20251720000_01D_30S_CLK.CLK\n",
      "Downloading: GFZ0MGXRAP_20251720000_01D_30S_CLK.CLK.gz"
     ]
    },
    {
     "name": "stderr",
     "output_type": "stream",
     "text": [
      "GFZ0MGXRAP_20251720000_01D_30S_CLK.CLK.gz: 4.83MB [00:14, 350kB/s]                             \n"
     ]
    },
    {
     "name": "stdout",
     "output_type": "stream",
     "text": [
      " | Download completed for GFZ0MGXRAP_20251720000_01D_30S_CLK.CLK.gz\n",
      "C:\\Users\\varga\\Box\\Data\\nc Files\\MANCHI\\aux_orbits\\GFZ0MGXRAP_20251720000_01D_30S_CLK.CLK file is read in 2.01 seconds\n",
      "SP3 interpolation is done in 2.54 seconds\n",
      "Saved 88689 individual observations in C:\\Users\\varga\\Box\\Data\\nc Files\\MANCHI\\processed\\MANCHI_raw_20250620200635.nc\n",
      "[OK] MANCHI_raw_20250620200635.25O\n",
      "Could not find any files matching the pattern C:\\Users\\varga\\Box\\Data\\nc Files\\MANCHI\\processed*.nc\n",
      "C:\\Users\\varga\\Box\\Data\\nc Files\\MANCHI\\MANCHI_raw_20250621200636.25O exists | Reading...\n",
      "Observation file  C:\\Users\\varga\\Box\\Data\\nc Files\\MANCHI\\MANCHI_raw_20250621200636.25O  is read in 1.85 seconds.\n",
      "Processing 88342 individual observations\n",
      "Calculating Azimuth and Elevation\n",
      "C:\\Users\\varga\\Box\\Data\\nc Files\\MANCHI\\aux_orbits\\GFZ0MGXRAP_20251720000_01D_05M_ORB.SP3 exists | Reading...\n",
      "C:\\Users\\varga\\Box\\Data\\nc Files\\MANCHI\\aux_orbits\\GFZ0MGXRAP_20251720000_01D_05M_ORB.SP3 file is read in 0.84 seconds\n",
      "This file does not exist: C:\\Users\\varga\\Box\\Data\\nc Files\\MANCHI\\aux_orbits\\GFZ0MGXRAP_20251730000_01D_05M_ORB.SP3\n",
      "Downloading: ftp://gssc.esa.int/gnss/products/2372//GFZ0MGXRAP_20251730000_01D_05M_ORB.SP3.gz"
     ]
    },
    {
     "name": "stderr",
     "output_type": "stream",
     "text": [
      "GFZ0MGXRAP_20251730000_01D_05M_ORB.SP3.gz: 1.05MB [00:04, 265kB/s]                             \n"
     ]
    },
    {
     "name": "stdout",
     "output_type": "stream",
     "text": [
      " | Download completed for ftp://gssc.esa.int/gnss/products/2372//GFZ0MGXRAP_20251730000_01D_05M_ORB.SP3.gz\n",
      "C:\\Users\\varga\\Box\\Data\\nc Files\\MANCHI\\aux_orbits\\GFZ0MGXRAP_20251730000_01D_05M_ORB.SP3 file is read in 4.90 seconds\n",
      "C:\\Users\\varga\\Box\\Data\\nc Files\\MANCHI\\aux_orbits\\GFZ0MGXRAP_20251720000_01D_30S_CLK.CLK exists | Reading...\n",
      "C:\\Users\\varga\\Box\\Data\\nc Files\\MANCHI\\aux_orbits\\GFZ0MGXRAP_20251720000_01D_30S_CLK.CLK file is read in 2.98 seconds\n",
      "This file does not exist: C:\\Users\\varga\\Box\\Data\\nc Files\\MANCHI\\aux_orbits\\GFZ0MGXRAP_20251730000_01D_30S_CLK.CLK\n",
      "Downloading: GFZ0MGXRAP_20251730000_01D_30S_CLK.CLK.gz"
     ]
    },
    {
     "name": "stderr",
     "output_type": "stream",
     "text": [
      "GFZ0MGXRAP_20251730000_01D_30S_CLK.CLK.gz: 4.86MB [00:07, 658kB/s]                             \n"
     ]
    },
    {
     "name": "stdout",
     "output_type": "stream",
     "text": [
      " | Download completed for GFZ0MGXRAP_20251730000_01D_30S_CLK.CLK.gz\n",
      "C:\\Users\\varga\\Box\\Data\\nc Files\\MANCHI\\aux_orbits\\GFZ0MGXRAP_20251730000_01D_30S_CLK.CLK file is read in 1.98 seconds\n",
      "SP3 interpolation is done in 2.51 seconds\n",
      "Saved 88342 individual observations in C:\\Users\\varga\\Box\\Data\\nc Files\\MANCHI\\processed\\MANCHI_raw_20250621200636.nc\n",
      "[OK] MANCHI_raw_20250621200636.25O\n",
      "Could not find any files matching the pattern C:\\Users\\varga\\Box\\Data\\nc Files\\MANCHI\\processed*.nc\n",
      "C:\\Users\\varga\\Box\\Data\\nc Files\\MANCHI\\MANCHI_raw_20250622200637.25O exists | Reading...\n",
      "Observation file  C:\\Users\\varga\\Box\\Data\\nc Files\\MANCHI\\MANCHI_raw_20250622200637.25O  is read in 2.41 seconds.\n",
      "Processing 91097 individual observations\n",
      "Calculating Azimuth and Elevation\n",
      "C:\\Users\\varga\\Box\\Data\\nc Files\\MANCHI\\aux_orbits\\GFZ0MGXRAP_20251730000_01D_05M_ORB.SP3 exists | Reading...\n",
      "C:\\Users\\varga\\Box\\Data\\nc Files\\MANCHI\\aux_orbits\\GFZ0MGXRAP_20251730000_01D_05M_ORB.SP3 file is read in 0.62 seconds\n",
      "This file does not exist: C:\\Users\\varga\\Box\\Data\\nc Files\\MANCHI\\aux_orbits\\GFZ0MGXRAP_20251740000_01D_05M_ORB.SP3\n",
      "Downloading: ftp://gssc.esa.int/gnss/products/2372//GFZ0MGXRAP_20251740000_01D_05M_ORB.SP3.gz"
     ]
    },
    {
     "name": "stderr",
     "output_type": "stream",
     "text": [
      "GFZ0MGXRAP_20251740000_01D_05M_ORB.SP3.gz: 1.05MB [00:03, 331kB/s]                             \n"
     ]
    },
    {
     "name": "stdout",
     "output_type": "stream",
     "text": [
      " | Download completed for ftp://gssc.esa.int/gnss/products/2372//GFZ0MGXRAP_20251740000_01D_05M_ORB.SP3.gz\n",
      "C:\\Users\\varga\\Box\\Data\\nc Files\\MANCHI\\aux_orbits\\GFZ0MGXRAP_20251740000_01D_05M_ORB.SP3 file is read in 4.10 seconds\n",
      "C:\\Users\\varga\\Box\\Data\\nc Files\\MANCHI\\aux_orbits\\GFZ0MGXRAP_20251730000_01D_30S_CLK.CLK exists | Reading...\n",
      "C:\\Users\\varga\\Box\\Data\\nc Files\\MANCHI\\aux_orbits\\GFZ0MGXRAP_20251730000_01D_30S_CLK.CLK file is read in 3.05 seconds\n",
      "This file does not exist: C:\\Users\\varga\\Box\\Data\\nc Files\\MANCHI\\aux_orbits\\GFZ0MGXRAP_20251740000_01D_30S_CLK.CLK\n",
      "Downloading: GFZ0MGXRAP_20251740000_01D_30S_CLK.CLK.gz"
     ]
    },
    {
     "name": "stderr",
     "output_type": "stream",
     "text": [
      "GFZ0MGXRAP_20251740000_01D_30S_CLK.CLK.gz: 4.80MB [00:03, 1.33MB/s]                            \n"
     ]
    },
    {
     "name": "stdout",
     "output_type": "stream",
     "text": [
      " | Download completed for GFZ0MGXRAP_20251740000_01D_30S_CLK.CLK.gz\n",
      "C:\\Users\\varga\\Box\\Data\\nc Files\\MANCHI\\aux_orbits\\GFZ0MGXRAP_20251740000_01D_30S_CLK.CLK file is read in 2.86 seconds\n",
      "SP3 interpolation is done in 3.76 seconds\n",
      "Saved 91097 individual observations in C:\\Users\\varga\\Box\\Data\\nc Files\\MANCHI\\processed\\MANCHI_raw_20250622200637.nc\n",
      "[OK] MANCHI_raw_20250622200637.25O\n",
      "Could not find any files matching the pattern C:\\Users\\varga\\Box\\Data\\nc Files\\MANCHI\\processed*.nc\n",
      "C:\\Users\\varga\\Box\\Data\\nc Files\\MANCHI\\MANCHI_raw_20250623200637.25O exists | Reading...\n",
      "Observation file  C:\\Users\\varga\\Box\\Data\\nc Files\\MANCHI\\MANCHI_raw_20250623200637.25O  is read in 1.84 seconds.\n",
      "Processing 88275 individual observations\n",
      "Calculating Azimuth and Elevation\n",
      "C:\\Users\\varga\\Box\\Data\\nc Files\\MANCHI\\aux_orbits\\GFZ0MGXRAP_20251740000_01D_05M_ORB.SP3 exists | Reading...\n",
      "C:\\Users\\varga\\Box\\Data\\nc Files\\MANCHI\\aux_orbits\\GFZ0MGXRAP_20251740000_01D_05M_ORB.SP3 file is read in 0.43 seconds\n",
      "This file does not exist: C:\\Users\\varga\\Box\\Data\\nc Files\\MANCHI\\aux_orbits\\GFZ0MGXRAP_20251750000_01D_05M_ORB.SP3\n",
      "Downloading: ftp://gssc.esa.int/gnss/products/2372//GFZ0MGXRAP_20251750000_01D_05M_ORB.SP3.gz"
     ]
    },
    {
     "name": "stderr",
     "output_type": "stream",
     "text": [
      "GFZ0MGXRAP_20251750000_01D_05M_ORB.SP3.gz: 1.05MB [00:03, 325kB/s]                             \n"
     ]
    },
    {
     "name": "stdout",
     "output_type": "stream",
     "text": [
      " | Download completed for ftp://gssc.esa.int/gnss/products/2372//GFZ0MGXRAP_20251750000_01D_05M_ORB.SP3.gz\n",
      "C:\\Users\\varga\\Box\\Data\\nc Files\\MANCHI\\aux_orbits\\GFZ0MGXRAP_20251750000_01D_05M_ORB.SP3 file is read in 4.10 seconds\n",
      "C:\\Users\\varga\\Box\\Data\\nc Files\\MANCHI\\aux_orbits\\GFZ0MGXRAP_20251740000_01D_30S_CLK.CLK exists | Reading...\n",
      "C:\\Users\\varga\\Box\\Data\\nc Files\\MANCHI\\aux_orbits\\GFZ0MGXRAP_20251740000_01D_30S_CLK.CLK file is read in 3.08 seconds\n",
      "This file does not exist: C:\\Users\\varga\\Box\\Data\\nc Files\\MANCHI\\aux_orbits\\GFZ0MGXRAP_20251750000_01D_30S_CLK.CLK\n",
      "Downloading: GFZ0MGXRAP_20251750000_01D_30S_CLK.CLK.gz"
     ]
    },
    {
     "name": "stderr",
     "output_type": "stream",
     "text": [
      "GFZ0MGXRAP_20251750000_01D_30S_CLK.CLK.gz: 4.80MB [00:03, 1.26MB/s]                            \n"
     ]
    },
    {
     "name": "stdout",
     "output_type": "stream",
     "text": [
      " | Download completed for GFZ0MGXRAP_20251750000_01D_30S_CLK.CLK.gz\n",
      "C:\\Users\\varga\\Box\\Data\\nc Files\\MANCHI\\aux_orbits\\GFZ0MGXRAP_20251750000_01D_30S_CLK.CLK file is read in 3.08 seconds\n",
      "SP3 interpolation is done in 3.90 seconds\n",
      "Saved 88275 individual observations in C:\\Users\\varga\\Box\\Data\\nc Files\\MANCHI\\processed\\MANCHI_raw_20250623200637.nc\n",
      "[OK] MANCHI_raw_20250623200637.25O\n",
      "Could not find any files matching the pattern C:\\Users\\varga\\Box\\Data\\nc Files\\MANCHI\\processed*.nc\n",
      "C:\\Users\\varga\\Box\\Data\\nc Files\\MANCHI\\MANCHI_raw_20250624200639.25O exists | Reading...\n",
      "Observation file  C:\\Users\\varga\\Box\\Data\\nc Files\\MANCHI\\MANCHI_raw_20250624200639.25O  is read in 2.48 seconds.\n",
      "Processing 88926 individual observations\n",
      "Calculating Azimuth and Elevation\n",
      "C:\\Users\\varga\\Box\\Data\\nc Files\\MANCHI\\aux_orbits\\GFZ0MGXRAP_20251750000_01D_05M_ORB.SP3 exists | Reading...\n",
      "C:\\Users\\varga\\Box\\Data\\nc Files\\MANCHI\\aux_orbits\\GFZ0MGXRAP_20251750000_01D_05M_ORB.SP3 file is read in 0.41 seconds\n",
      "This file does not exist: C:\\Users\\varga\\Box\\Data\\nc Files\\MANCHI\\aux_orbits\\GFZ0MGXRAP_20251760000_01D_05M_ORB.SP3\n",
      "Downloading: ftp://gssc.esa.int/gnss/products/2372//GFZ0MGXRAP_20251760000_01D_05M_ORB.SP3.gz"
     ]
    },
    {
     "name": "stderr",
     "output_type": "stream",
     "text": [
      "GFZ0MGXRAP_20251760000_01D_05M_ORB.SP3.gz: 1.05MB [00:03, 350kB/s]                             \n"
     ]
    },
    {
     "name": "stdout",
     "output_type": "stream",
     "text": [
      " | Download completed for ftp://gssc.esa.int/gnss/products/2372//GFZ0MGXRAP_20251760000_01D_05M_ORB.SP3.gz\n",
      "C:\\Users\\varga\\Box\\Data\\nc Files\\MANCHI\\aux_orbits\\GFZ0MGXRAP_20251760000_01D_05M_ORB.SP3 file is read in 3.72 seconds\n",
      "C:\\Users\\varga\\Box\\Data\\nc Files\\MANCHI\\aux_orbits\\GFZ0MGXRAP_20251750000_01D_30S_CLK.CLK exists | Reading...\n",
      "C:\\Users\\varga\\Box\\Data\\nc Files\\MANCHI\\aux_orbits\\GFZ0MGXRAP_20251750000_01D_30S_CLK.CLK file is read in 1.96 seconds\n",
      "This file does not exist: C:\\Users\\varga\\Box\\Data\\nc Files\\MANCHI\\aux_orbits\\GFZ0MGXRAP_20251760000_01D_30S_CLK.CLK\n",
      "Downloading: GFZ0MGXRAP_20251760000_01D_30S_CLK.CLK.gz"
     ]
    },
    {
     "name": "stderr",
     "output_type": "stream",
     "text": [
      "GFZ0MGXRAP_20251760000_01D_30S_CLK.CLK.gz: 4.85MB [00:24, 210kB/s]                             \n"
     ]
    },
    {
     "name": "stdout",
     "output_type": "stream",
     "text": [
      " | Download completed for GFZ0MGXRAP_20251760000_01D_30S_CLK.CLK.gz\n",
      "C:\\Users\\varga\\Box\\Data\\nc Files\\MANCHI\\aux_orbits\\GFZ0MGXRAP_20251760000_01D_30S_CLK.CLK file is read in 2.01 seconds\n",
      "SP3 interpolation is done in 2.52 seconds\n",
      "Saved 88926 individual observations in C:\\Users\\varga\\Box\\Data\\nc Files\\MANCHI\\processed\\MANCHI_raw_20250624200639.nc\n",
      "[OK] MANCHI_raw_20250624200639.25O\n",
      "Could not find any files matching the pattern C:\\Users\\varga\\Box\\Data\\nc Files\\MANCHI\\processed*.nc\n",
      "C:\\Users\\varga\\Box\\Data\\nc Files\\MANCHI\\MANCHI_raw_20250625200639.25O exists | Reading...\n",
      "Observation file  C:\\Users\\varga\\Box\\Data\\nc Files\\MANCHI\\MANCHI_raw_20250625200639.25O  is read in 1.83 seconds.\n",
      "Processing 89984 individual observations\n",
      "Calculating Azimuth and Elevation\n",
      "C:\\Users\\varga\\Box\\Data\\nc Files\\MANCHI\\aux_orbits\\GFZ0MGXRAP_20251760000_01D_05M_ORB.SP3 exists | Reading...\n",
      "C:\\Users\\varga\\Box\\Data\\nc Files\\MANCHI\\aux_orbits\\GFZ0MGXRAP_20251760000_01D_05M_ORB.SP3 file is read in 0.58 seconds\n",
      "This file does not exist: C:\\Users\\varga\\Box\\Data\\nc Files\\MANCHI\\aux_orbits\\GFZ0MGXRAP_20251770000_01D_05M_ORB.SP3\n",
      "Downloading: ftp://gssc.esa.int/gnss/products/2372//GFZ0MGXRAP_20251770000_01D_05M_ORB.SP3.gz"
     ]
    },
    {
     "name": "stderr",
     "output_type": "stream",
     "text": [
      "GFZ0MGXRAP_20251770000_01D_05M_ORB.SP3.gz: 1.05MB [00:09, 120kB/s]                             \n"
     ]
    },
    {
     "name": "stdout",
     "output_type": "stream",
     "text": [
      " | Download completed for ftp://gssc.esa.int/gnss/products/2372//GFZ0MGXRAP_20251770000_01D_05M_ORB.SP3.gz\n",
      "C:\\Users\\varga\\Box\\Data\\nc Files\\MANCHI\\aux_orbits\\GFZ0MGXRAP_20251770000_01D_05M_ORB.SP3 file is read in 9.81 seconds\n",
      "C:\\Users\\varga\\Box\\Data\\nc Files\\MANCHI\\aux_orbits\\GFZ0MGXRAP_20251760000_01D_30S_CLK.CLK exists | Reading...\n",
      "C:\\Users\\varga\\Box\\Data\\nc Files\\MANCHI\\aux_orbits\\GFZ0MGXRAP_20251760000_01D_30S_CLK.CLK file is read in 1.98 seconds\n",
      "This file does not exist: C:\\Users\\varga\\Box\\Data\\nc Files\\MANCHI\\aux_orbits\\GFZ0MGXRAP_20251770000_01D_30S_CLK.CLK\n",
      "Downloading: GFZ0MGXRAP_20251770000_01D_30S_CLK.CLK.gz"
     ]
    },
    {
     "name": "stderr",
     "output_type": "stream",
     "text": [
      "GFZ0MGXRAP_20251770000_01D_30S_CLK.CLK.gz: 4.84MB [00:23, 214kB/s]                             \n"
     ]
    },
    {
     "name": "stdout",
     "output_type": "stream",
     "text": [
      " | Download completed for GFZ0MGXRAP_20251770000_01D_30S_CLK.CLK.gz\n",
      "C:\\Users\\varga\\Box\\Data\\nc Files\\MANCHI\\aux_orbits\\GFZ0MGXRAP_20251770000_01D_30S_CLK.CLK file is read in 2.09 seconds\n",
      "SP3 interpolation is done in 2.47 seconds\n",
      "Saved 89984 individual observations in C:\\Users\\varga\\Box\\Data\\nc Files\\MANCHI\\processed\\MANCHI_raw_20250625200639.nc\n",
      "[OK] MANCHI_raw_20250625200639.25O\n",
      "Could not find any files matching the pattern C:\\Users\\varga\\Box\\Data\\nc Files\\MANCHI\\processed*.nc\n",
      "C:\\Users\\varga\\Box\\Data\\nc Files\\MANCHI\\MANCHI_raw_20250626200640.25O exists | Reading...\n",
      "Observation file  C:\\Users\\varga\\Box\\Data\\nc Files\\MANCHI\\MANCHI_raw_20250626200640.25O  is read in 2.06 seconds.\n",
      "Processing 89454 individual observations\n",
      "Calculating Azimuth and Elevation\n",
      "C:\\Users\\varga\\Box\\Data\\nc Files\\MANCHI\\aux_orbits\\GFZ0MGXRAP_20251770000_01D_05M_ORB.SP3 exists | Reading...\n",
      "C:\\Users\\varga\\Box\\Data\\nc Files\\MANCHI\\aux_orbits\\GFZ0MGXRAP_20251770000_01D_05M_ORB.SP3 file is read in 0.65 seconds\n",
      "This file does not exist: C:\\Users\\varga\\Box\\Data\\nc Files\\MANCHI\\aux_orbits\\GFZ0MGXRAP_20251780000_01D_05M_ORB.SP3\n",
      "Downloading: ftp://gssc.esa.int/gnss/products/2372//GFZ0MGXRAP_20251780000_01D_05M_ORB.SP3.gz"
     ]
    },
    {
     "name": "stderr",
     "output_type": "stream",
     "text": [
      "GFZ0MGXRAP_20251780000_01D_05M_ORB.SP3.gz: 1.05MB [00:03, 348kB/s]                             \n"
     ]
    },
    {
     "name": "stdout",
     "output_type": "stream",
     "text": [
      " | Download completed for ftp://gssc.esa.int/gnss/products/2372//GFZ0MGXRAP_20251780000_01D_05M_ORB.SP3.gz\n",
      "C:\\Users\\varga\\Box\\Data\\nc Files\\MANCHI\\aux_orbits\\GFZ0MGXRAP_20251780000_01D_05M_ORB.SP3 file is read in 3.66 seconds\n",
      "C:\\Users\\varga\\Box\\Data\\nc Files\\MANCHI\\aux_orbits\\GFZ0MGXRAP_20251770000_01D_30S_CLK.CLK exists | Reading...\n",
      "C:\\Users\\varga\\Box\\Data\\nc Files\\MANCHI\\aux_orbits\\GFZ0MGXRAP_20251770000_01D_30S_CLK.CLK file is read in 2.08 seconds\n",
      "This file does not exist: C:\\Users\\varga\\Box\\Data\\nc Files\\MANCHI\\aux_orbits\\GFZ0MGXRAP_20251780000_01D_30S_CLK.CLK\n",
      "Downloading: GFZ0MGXRAP_20251780000_01D_30S_CLK.CLK.gz"
     ]
    },
    {
     "name": "stderr",
     "output_type": "stream",
     "text": [
      "GFZ0MGXRAP_20251780000_01D_30S_CLK.CLK.gz: 4.86MB [00:03, 1.37MB/s]                            \n"
     ]
    },
    {
     "name": "stdout",
     "output_type": "stream",
     "text": [
      " | Download completed for GFZ0MGXRAP_20251780000_01D_30S_CLK.CLK.gz\n",
      "C:\\Users\\varga\\Box\\Data\\nc Files\\MANCHI\\aux_orbits\\GFZ0MGXRAP_20251780000_01D_30S_CLK.CLK file is read in 2.15 seconds\n",
      "SP3 interpolation is done in 2.51 seconds\n",
      "Saved 89454 individual observations in C:\\Users\\varga\\Box\\Data\\nc Files\\MANCHI\\processed\\MANCHI_raw_20250626200640.nc\n",
      "[OK] MANCHI_raw_20250626200640.25O\n",
      "Could not find any files matching the pattern C:\\Users\\varga\\Box\\Data\\nc Files\\MANCHI\\processed*.nc\n",
      "C:\\Users\\varga\\Box\\Data\\nc Files\\MANCHI\\MANCHI_raw_20250627200641.25O exists | Reading...\n",
      "Observation file  C:\\Users\\varga\\Box\\Data\\nc Files\\MANCHI\\MANCHI_raw_20250627200641.25O  is read in 3.01 seconds.\n",
      "Processing 88384 individual observations\n",
      "Calculating Azimuth and Elevation\n",
      "C:\\Users\\varga\\Box\\Data\\nc Files\\MANCHI\\aux_orbits\\GFZ0MGXRAP_20251780000_01D_05M_ORB.SP3 exists | Reading...\n",
      "C:\\Users\\varga\\Box\\Data\\nc Files\\MANCHI\\aux_orbits\\GFZ0MGXRAP_20251780000_01D_05M_ORB.SP3 file is read in 0.79 seconds\n",
      "This file does not exist: C:\\Users\\varga\\Box\\Data\\nc Files\\MANCHI\\aux_orbits\\GFZ0MGXRAP_20251790000_01D_05M_ORB.SP3\n",
      "Downloading: ftp://gssc.esa.int/gnss/products/2372//GFZ0MGXRAP_20251790000_01D_05M_ORB.SP3.gz"
     ]
    },
    {
     "name": "stderr",
     "output_type": "stream",
     "text": [
      "GFZ0MGXRAP_20251790000_01D_05M_ORB.SP3.gz: 1.05MB [00:04, 244kB/s]                             \n"
     ]
    },
    {
     "name": "stdout",
     "output_type": "stream",
     "text": [
      " | Download completed for ftp://gssc.esa.int/gnss/products/2372//GFZ0MGXRAP_20251790000_01D_05M_ORB.SP3.gz\n",
      "C:\\Users\\varga\\Box\\Data\\nc Files\\MANCHI\\aux_orbits\\GFZ0MGXRAP_20251790000_01D_05M_ORB.SP3 file is read in 5.33 seconds\n",
      "C:\\Users\\varga\\Box\\Data\\nc Files\\MANCHI\\aux_orbits\\GFZ0MGXRAP_20251780000_01D_30S_CLK.CLK exists | Reading...\n",
      "C:\\Users\\varga\\Box\\Data\\nc Files\\MANCHI\\aux_orbits\\GFZ0MGXRAP_20251780000_01D_30S_CLK.CLK file is read in 3.18 seconds\n",
      "This file does not exist: C:\\Users\\varga\\Box\\Data\\nc Files\\MANCHI\\aux_orbits\\GFZ0MGXRAP_20251790000_01D_30S_CLK.CLK\n",
      "Downloading: GFZ0MGXRAP_20251790000_01D_30S_CLK.CLK.gz"
     ]
    },
    {
     "name": "stderr",
     "output_type": "stream",
     "text": [
      "GFZ0MGXRAP_20251790000_01D_30S_CLK.CLK.gz: 4.84MB [00:03, 1.38MB/s]                            \n"
     ]
    },
    {
     "name": "stdout",
     "output_type": "stream",
     "text": [
      " | Download completed for GFZ0MGXRAP_20251790000_01D_30S_CLK.CLK.gz\n",
      "C:\\Users\\varga\\Box\\Data\\nc Files\\MANCHI\\aux_orbits\\GFZ0MGXRAP_20251790000_01D_30S_CLK.CLK file is read in 2.13 seconds\n",
      "SP3 interpolation is done in 2.67 seconds\n",
      "Saved 88384 individual observations in C:\\Users\\varga\\Box\\Data\\nc Files\\MANCHI\\processed\\MANCHI_raw_20250627200641.nc\n",
      "[OK] MANCHI_raw_20250627200641.25O\n",
      "Could not find any files matching the pattern C:\\Users\\varga\\Box\\Data\\nc Files\\MANCHI\\processed*.nc\n",
      "C:\\Users\\varga\\Box\\Data\\nc Files\\MANCHI\\MANCHI_raw_20250628200642.25O exists | Reading...\n",
      "Observation file  C:\\Users\\varga\\Box\\Data\\nc Files\\MANCHI\\MANCHI_raw_20250628200642.25O  is read in 2.61 seconds.\n",
      "Processing 89564 individual observations\n",
      "Calculating Azimuth and Elevation\n",
      "C:\\Users\\varga\\Box\\Data\\nc Files\\MANCHI\\aux_orbits\\GFZ0MGXRAP_20251790000_01D_05M_ORB.SP3 exists | Reading...\n",
      "C:\\Users\\varga\\Box\\Data\\nc Files\\MANCHI\\aux_orbits\\GFZ0MGXRAP_20251790000_01D_05M_ORB.SP3 file is read in 0.78 seconds\n",
      "This file does not exist: C:\\Users\\varga\\Box\\Data\\nc Files\\MANCHI\\aux_orbits\\GFZ0MGXRAP_20251800000_01D_05M_ORB.SP3\n",
      "Downloading: ftp://gssc.esa.int/gnss/products/2373//GFZ0MGXRAP_20251800000_01D_05M_ORB.SP3.gz"
     ]
    },
    {
     "name": "stderr",
     "output_type": "stream",
     "text": [
      "GFZ0MGXRAP_20251800000_01D_05M_ORB.SP3.gz: 1.05MB [00:11, 97.0kB/s]                            \n"
     ]
    },
    {
     "name": "stdout",
     "output_type": "stream",
     "text": [
      " | Download completed for ftp://gssc.esa.int/gnss/products/2373//GFZ0MGXRAP_20251800000_01D_05M_ORB.SP3.gz\n",
      "C:\\Users\\varga\\Box\\Data\\nc Files\\MANCHI\\aux_orbits\\GFZ0MGXRAP_20251800000_01D_05M_ORB.SP3 file is read in 12.17 seconds\n",
      "C:\\Users\\varga\\Box\\Data\\nc Files\\MANCHI\\aux_orbits\\GFZ0MGXRAP_20251790000_01D_30S_CLK.CLK exists | Reading...\n",
      "C:\\Users\\varga\\Box\\Data\\nc Files\\MANCHI\\aux_orbits\\GFZ0MGXRAP_20251790000_01D_30S_CLK.CLK file is read in 2.93 seconds\n",
      "This file does not exist: C:\\Users\\varga\\Box\\Data\\nc Files\\MANCHI\\aux_orbits\\GFZ0MGXRAP_20251800000_01D_30S_CLK.CLK\n",
      "Downloading: GFZ0MGXRAP_20251800000_01D_30S_CLK.CLK.gz"
     ]
    },
    {
     "name": "stderr",
     "output_type": "stream",
     "text": [
      "GFZ0MGXRAP_20251800000_01D_30S_CLK.CLK.gz: 4.82MB [00:04, 1.04MB/s]                            \n"
     ]
    },
    {
     "name": "stdout",
     "output_type": "stream",
     "text": [
      " | Download completed for GFZ0MGXRAP_20251800000_01D_30S_CLK.CLK.gz\n",
      "C:\\Users\\varga\\Box\\Data\\nc Files\\MANCHI\\aux_orbits\\GFZ0MGXRAP_20251800000_01D_30S_CLK.CLK file is read in 1.98 seconds\n",
      "SP3 interpolation is done in 2.59 seconds\n",
      "Saved 89564 individual observations in C:\\Users\\varga\\Box\\Data\\nc Files\\MANCHI\\processed\\MANCHI_raw_20250628200642.nc\n",
      "[OK] MANCHI_raw_20250628200642.25O\n",
      "Could not find any files matching the pattern C:\\Users\\varga\\Box\\Data\\nc Files\\MANCHI\\processed*.nc\n",
      "C:\\Users\\varga\\Box\\Data\\nc Files\\MANCHI\\MANCHI_raw_20250629200642.25O exists | Reading...\n",
      "Observation file  C:\\Users\\varga\\Box\\Data\\nc Files\\MANCHI\\MANCHI_raw_20250629200642.25O  is read in 2.19 seconds.\n",
      "Processing 86047 individual observations\n",
      "Calculating Azimuth and Elevation\n",
      "C:\\Users\\varga\\Box\\Data\\nc Files\\MANCHI\\aux_orbits\\GFZ0MGXRAP_20251800000_01D_05M_ORB.SP3 exists | Reading...\n",
      "C:\\Users\\varga\\Box\\Data\\nc Files\\MANCHI\\aux_orbits\\GFZ0MGXRAP_20251800000_01D_05M_ORB.SP3 file is read in 0.66 seconds\n",
      "This file does not exist: C:\\Users\\varga\\Box\\Data\\nc Files\\MANCHI\\aux_orbits\\GFZ0MGXRAP_20251810000_01D_05M_ORB.SP3\n",
      "Downloading: ftp://gssc.esa.int/gnss/products/2373//GFZ0MGXRAP_20251810000_01D_05M_ORB.SP3.gz"
     ]
    },
    {
     "name": "stderr",
     "output_type": "stream",
     "text": [
      "GFZ0MGXRAP_20251810000_01D_05M_ORB.SP3.gz: 1.04MB [00:07, 155kB/s]                             \n"
     ]
    },
    {
     "name": "stdout",
     "output_type": "stream",
     "text": [
      " | Download completed for ftp://gssc.esa.int/gnss/products/2373//GFZ0MGXRAP_20251810000_01D_05M_ORB.SP3.gz\n",
      "C:\\Users\\varga\\Box\\Data\\nc Files\\MANCHI\\aux_orbits\\GFZ0MGXRAP_20251810000_01D_05M_ORB.SP3 file is read in 7.90 seconds\n",
      "C:\\Users\\varga\\Box\\Data\\nc Files\\MANCHI\\aux_orbits\\GFZ0MGXRAP_20251800000_01D_30S_CLK.CLK exists | Reading...\n",
      "C:\\Users\\varga\\Box\\Data\\nc Files\\MANCHI\\aux_orbits\\GFZ0MGXRAP_20251800000_01D_30S_CLK.CLK file is read in 3.03 seconds\n",
      "This file does not exist: C:\\Users\\varga\\Box\\Data\\nc Files\\MANCHI\\aux_orbits\\GFZ0MGXRAP_20251810000_01D_30S_CLK.CLK\n",
      "Downloading: GFZ0MGXRAP_20251810000_01D_30S_CLK.CLK.gz"
     ]
    },
    {
     "name": "stderr",
     "output_type": "stream",
     "text": [
      "GFZ0MGXRAP_20251810000_01D_30S_CLK.CLK.gz: 4.78MB [00:04, 1.10MB/s]                            \n"
     ]
    },
    {
     "name": "stdout",
     "output_type": "stream",
     "text": [
      " | Download completed for GFZ0MGXRAP_20251810000_01D_30S_CLK.CLK.gz\n",
      "C:\\Users\\varga\\Box\\Data\\nc Files\\MANCHI\\aux_orbits\\GFZ0MGXRAP_20251810000_01D_30S_CLK.CLK file is read in 2.02 seconds\n",
      "SP3 interpolation is done in 2.58 seconds\n",
      "Saved 86047 individual observations in C:\\Users\\varga\\Box\\Data\\nc Files\\MANCHI\\processed\\MANCHI_raw_20250629200642.nc\n",
      "[OK] MANCHI_raw_20250629200642.25O\n",
      "Could not find any files matching the pattern C:\\Users\\varga\\Box\\Data\\nc Files\\MANCHI\\processed*.nc\n",
      "C:\\Users\\varga\\Box\\Data\\nc Files\\MANCHI\\MANCHI_raw_20250702180419.25O exists | Reading...\n",
      "Observation file  C:\\Users\\varga\\Box\\Data\\nc Files\\MANCHI\\MANCHI_raw_20250702180419.25O  is read in 0.01 seconds.\n",
      "Processing 329 individual observations\n",
      "Calculating Azimuth and Elevation\n",
      "This file does not exist: C:\\Users\\varga\\Box\\Data\\nc Files\\MANCHI\\aux_orbits\\GFZ0MGXRAP_20251830000_01D_05M_ORB.SP3\n",
      "Downloading: ftp://gssc.esa.int/gnss/products/2373//GFZ0MGXRAP_20251830000_01D_05M_ORB.SP3.gz"
     ]
    },
    {
     "name": "stderr",
     "output_type": "stream",
     "text": [
      "GFZ0MGXRAP_20251830000_01D_05M_ORB.SP3.gz: 1.05MB [00:03, 321kB/s]                             \n"
     ]
    },
    {
     "name": "stdout",
     "output_type": "stream",
     "text": [
      " | Download completed for ftp://gssc.esa.int/gnss/products/2373//GFZ0MGXRAP_20251830000_01D_05M_ORB.SP3.gz\n",
      "C:\\Users\\varga\\Box\\Data\\nc Files\\MANCHI\\aux_orbits\\GFZ0MGXRAP_20251830000_01D_05M_ORB.SP3 file is read in 4.27 seconds\n",
      "This file does not exist: C:\\Users\\varga\\Box\\Data\\nc Files\\MANCHI\\aux_orbits\\GFZ0MGXRAP_20251830000_01D_30S_CLK.CLK\n",
      "Downloading: GFZ0MGXRAP_20251830000_01D_30S_CLK.CLK.gz"
     ]
    },
    {
     "name": "stderr",
     "output_type": "stream",
     "text": [
      "GFZ0MGXRAP_20251830000_01D_30S_CLK.CLK.gz: 4.82MB [00:04, 1.26MB/s]                            \n"
     ]
    },
    {
     "name": "stdout",
     "output_type": "stream",
     "text": [
      " | Download completed for GFZ0MGXRAP_20251830000_01D_30S_CLK.CLK.gz\n",
      "C:\\Users\\varga\\Box\\Data\\nc Files\\MANCHI\\aux_orbits\\GFZ0MGXRAP_20251830000_01D_30S_CLK.CLK file is read in 3.79 seconds\n",
      "SP3 interpolation is done in 2.00 seconds\n",
      "Saved 329 individual observations in C:\\Users\\varga\\Box\\Data\\nc Files\\MANCHI\\processed\\MANCHI_raw_20250702180419.nc\n",
      "[OK] MANCHI_raw_20250702180419.25O\n",
      "Could not find any files matching the pattern C:\\Users\\varga\\Box\\Data\\nc Files\\MANCHI\\processed*.nc\n",
      "C:\\Users\\varga\\Box\\Data\\nc Files\\MANCHI\\MANCHI_raw_20250703142149.25O exists | Reading...\n",
      "Observation file  C:\\Users\\varga\\Box\\Data\\nc Files\\MANCHI\\MANCHI_raw_20250703142149.25O  is read in 2.92 seconds.\n",
      "Processing 88092 individual observations\n",
      "Calculating Azimuth and Elevation\n",
      "This file does not exist: C:\\Users\\varga\\Box\\Data\\nc Files\\MANCHI\\aux_orbits\\GFZ0MGXRAP_20251840000_01D_05M_ORB.SP3\n",
      "Downloading: ftp://gssc.esa.int/gnss/products/2373//GFZ0MGXRAP_20251840000_01D_05M_ORB.SP3.gz"
     ]
    },
    {
     "name": "stderr",
     "output_type": "stream",
     "text": [
      "GFZ0MGXRAP_20251840000_01D_05M_ORB.SP3.gz: 1.04MB [00:08, 131kB/s]                             \n"
     ]
    },
    {
     "name": "stdout",
     "output_type": "stream",
     "text": [
      " | Download completed for ftp://gssc.esa.int/gnss/products/2373//GFZ0MGXRAP_20251840000_01D_05M_ORB.SP3.gz\n",
      "C:\\Users\\varga\\Box\\Data\\nc Files\\MANCHI\\aux_orbits\\GFZ0MGXRAP_20251840000_01D_05M_ORB.SP3 file is read in 8.90 seconds\n",
      "This file does not exist: C:\\Users\\varga\\Box\\Data\\nc Files\\MANCHI\\aux_orbits\\GFZ0MGXRAP_20251850000_01D_05M_ORB.SP3\n",
      "Downloading: ftp://gssc.esa.int/gnss/products/2373//GFZ0MGXRAP_20251850000_01D_05M_ORB.SP3.gz"
     ]
    },
    {
     "name": "stderr",
     "output_type": "stream",
     "text": [
      "GFZ0MGXRAP_20251850000_01D_05M_ORB.SP3.gz: 1.04MB [00:04, 260kB/s]                             \n"
     ]
    },
    {
     "name": "stdout",
     "output_type": "stream",
     "text": [
      " | Download completed for ftp://gssc.esa.int/gnss/products/2373//GFZ0MGXRAP_20251850000_01D_05M_ORB.SP3.gz\n",
      "C:\\Users\\varga\\Box\\Data\\nc Files\\MANCHI\\aux_orbits\\GFZ0MGXRAP_20251850000_01D_05M_ORB.SP3 file is read in 4.71 seconds\n",
      "This file does not exist: C:\\Users\\varga\\Box\\Data\\nc Files\\MANCHI\\aux_orbits\\GFZ0MGXRAP_20251840000_01D_30S_CLK.CLK\n",
      "Downloading: GFZ0MGXRAP_20251840000_01D_30S_CLK.CLK.gz"
     ]
    },
    {
     "name": "stderr",
     "output_type": "stream",
     "text": [
      "GFZ0MGXRAP_20251840000_01D_30S_CLK.CLK.gz: 4.77MB [00:03, 1.31MB/s]                            \n"
     ]
    },
    {
     "name": "stdout",
     "output_type": "stream",
     "text": [
      " | Download completed for GFZ0MGXRAP_20251840000_01D_30S_CLK.CLK.gz\n",
      "C:\\Users\\varga\\Box\\Data\\nc Files\\MANCHI\\aux_orbits\\GFZ0MGXRAP_20251840000_01D_30S_CLK.CLK file is read in 2.02 seconds\n",
      "This file does not exist: C:\\Users\\varga\\Box\\Data\\nc Files\\MANCHI\\aux_orbits\\GFZ0MGXRAP_20251850000_01D_30S_CLK.CLK\n",
      "Downloading: GFZ0MGXRAP_20251850000_01D_30S_CLK.CLK.gz"
     ]
    },
    {
     "name": "stderr",
     "output_type": "stream",
     "text": [
      "GFZ0MGXRAP_20251850000_01D_30S_CLK.CLK.gz: 4.79MB [00:03, 1.28MB/s]                            \n"
     ]
    },
    {
     "name": "stdout",
     "output_type": "stream",
     "text": [
      " | Download completed for GFZ0MGXRAP_20251850000_01D_30S_CLK.CLK.gz\n",
      "C:\\Users\\varga\\Box\\Data\\nc Files\\MANCHI\\aux_orbits\\GFZ0MGXRAP_20251850000_01D_30S_CLK.CLK file is read in 2.06 seconds\n",
      "SP3 interpolation is done in 2.55 seconds\n",
      "Saved 88092 individual observations in C:\\Users\\varga\\Box\\Data\\nc Files\\MANCHI\\processed\\MANCHI_raw_20250703142149.nc\n",
      "[OK] MANCHI_raw_20250703142149.25O\n",
      "Could not find any files matching the pattern C:\\Users\\varga\\Box\\Data\\nc Files\\MANCHI\\processed*.nc\n",
      "C:\\Users\\varga\\Box\\Data\\nc Files\\MANCHI\\MANCHI_raw_20250704142150.25O exists | Reading...\n",
      "Observation file  C:\\Users\\varga\\Box\\Data\\nc Files\\MANCHI\\MANCHI_raw_20250704142150.25O  is read in 2.21 seconds.\n",
      "Processing 90301 individual observations\n",
      "Calculating Azimuth and Elevation\n",
      "C:\\Users\\varga\\Box\\Data\\nc Files\\MANCHI\\aux_orbits\\GFZ0MGXRAP_20251850000_01D_05M_ORB.SP3 exists | Reading...\n",
      "C:\\Users\\varga\\Box\\Data\\nc Files\\MANCHI\\aux_orbits\\GFZ0MGXRAP_20251850000_01D_05M_ORB.SP3 file is read in 0.64 seconds\n",
      "This file does not exist: C:\\Users\\varga\\Box\\Data\\nc Files\\MANCHI\\aux_orbits\\GFZ0MGXRAP_20251860000_01D_05M_ORB.SP3\n",
      "Downloading: ftp://gssc.esa.int/gnss/products/2373//GFZ0MGXRAP_20251860000_01D_05M_ORB.SP3.gz"
     ]
    },
    {
     "name": "stderr",
     "output_type": "stream",
     "text": [
      "GFZ0MGXRAP_20251860000_01D_05M_ORB.SP3.gz: 1.05MB [00:03, 319kB/s]                             \n"
     ]
    },
    {
     "name": "stdout",
     "output_type": "stream",
     "text": [
      " | Download completed for ftp://gssc.esa.int/gnss/products/2373//GFZ0MGXRAP_20251860000_01D_05M_ORB.SP3.gz\n",
      "C:\\Users\\varga\\Box\\Data\\nc Files\\MANCHI\\aux_orbits\\GFZ0MGXRAP_20251860000_01D_05M_ORB.SP3 file is read in 4.25 seconds\n",
      "C:\\Users\\varga\\Box\\Data\\nc Files\\MANCHI\\aux_orbits\\GFZ0MGXRAP_20251850000_01D_30S_CLK.CLK exists | Reading...\n",
      "C:\\Users\\varga\\Box\\Data\\nc Files\\MANCHI\\aux_orbits\\GFZ0MGXRAP_20251850000_01D_30S_CLK.CLK file is read in 3.21 seconds\n",
      "This file does not exist: C:\\Users\\varga\\Box\\Data\\nc Files\\MANCHI\\aux_orbits\\GFZ0MGXRAP_20251860000_01D_30S_CLK.CLK\n",
      "Downloading: GFZ0MGXRAP_20251860000_01D_30S_CLK.CLK.gz"
     ]
    },
    {
     "name": "stderr",
     "output_type": "stream",
     "text": [
      "GFZ0MGXRAP_20251860000_01D_30S_CLK.CLK.gz: 4.84MB [00:14, 343kB/s]                             \n"
     ]
    },
    {
     "name": "stdout",
     "output_type": "stream",
     "text": [
      " | Download completed for GFZ0MGXRAP_20251860000_01D_30S_CLK.CLK.gz\n",
      "C:\\Users\\varga\\Box\\Data\\nc Files\\MANCHI\\aux_orbits\\GFZ0MGXRAP_20251860000_01D_30S_CLK.CLK file is read in 2.12 seconds\n",
      "SP3 interpolation is done in 2.79 seconds\n",
      "Saved 90301 individual observations in C:\\Users\\varga\\Box\\Data\\nc Files\\MANCHI\\processed\\MANCHI_raw_20250704142150.nc\n",
      "[OK] MANCHI_raw_20250704142150.25O\n",
      "Could not find any files matching the pattern C:\\Users\\varga\\Box\\Data\\nc Files\\MANCHI\\processed*.nc\n",
      "C:\\Users\\varga\\Box\\Data\\nc Files\\MANCHI\\MANCHI_raw_20250705142151.25O exists | Reading...\n",
      "Observation file  C:\\Users\\varga\\Box\\Data\\nc Files\\MANCHI\\MANCHI_raw_20250705142151.25O  is read in 2.98 seconds.\n",
      "Processing 89573 individual observations\n",
      "Calculating Azimuth and Elevation\n",
      "C:\\Users\\varga\\Box\\Data\\nc Files\\MANCHI\\aux_orbits\\GFZ0MGXRAP_20251860000_01D_05M_ORB.SP3 exists | Reading...\n",
      "C:\\Users\\varga\\Box\\Data\\nc Files\\MANCHI\\aux_orbits\\GFZ0MGXRAP_20251860000_01D_05M_ORB.SP3 file is read in 0.77 seconds\n",
      "This file does not exist: C:\\Users\\varga\\Box\\Data\\nc Files\\MANCHI\\aux_orbits\\GFZ0MGXRAP_20251870000_01D_05M_ORB.SP3\n",
      "Downloading: ftp://gssc.esa.int/gnss/products/2374//GFZ0MGXRAP_20251870000_01D_05M_ORB.SP3.gz"
     ]
    },
    {
     "name": "stderr",
     "output_type": "stream",
     "text": [
      "GFZ0MGXRAP_20251870000_01D_05M_ORB.SP3.gz: 1.04MB [00:03, 320kB/s]                             \n"
     ]
    },
    {
     "name": "stdout",
     "output_type": "stream",
     "text": [
      " | Download completed for ftp://gssc.esa.int/gnss/products/2374//GFZ0MGXRAP_20251870000_01D_05M_ORB.SP3.gz\n",
      "C:\\Users\\varga\\Box\\Data\\nc Files\\MANCHI\\aux_orbits\\GFZ0MGXRAP_20251870000_01D_05M_ORB.SP3 file is read in 4.17 seconds\n",
      "C:\\Users\\varga\\Box\\Data\\nc Files\\MANCHI\\aux_orbits\\GFZ0MGXRAP_20251860000_01D_30S_CLK.CLK exists | Reading...\n",
      "C:\\Users\\varga\\Box\\Data\\nc Files\\MANCHI\\aux_orbits\\GFZ0MGXRAP_20251860000_01D_30S_CLK.CLK file is read in 3.12 seconds\n",
      "This file does not exist: C:\\Users\\varga\\Box\\Data\\nc Files\\MANCHI\\aux_orbits\\GFZ0MGXRAP_20251870000_01D_30S_CLK.CLK\n",
      "Downloading: GFZ0MGXRAP_20251870000_01D_30S_CLK.CLK.gz"
     ]
    },
    {
     "name": "stderr",
     "output_type": "stream",
     "text": [
      "GFZ0MGXRAP_20251870000_01D_30S_CLK.CLK.gz: 4.80MB [00:18, 270kB/s]                             \n"
     ]
    },
    {
     "name": "stdout",
     "output_type": "stream",
     "text": [
      " | Download completed for GFZ0MGXRAP_20251870000_01D_30S_CLK.CLK.gz\n",
      "C:\\Users\\varga\\Box\\Data\\nc Files\\MANCHI\\aux_orbits\\GFZ0MGXRAP_20251870000_01D_30S_CLK.CLK file is read in 1.96 seconds\n",
      "SP3 interpolation is done in 2.50 seconds\n",
      "Saved 89573 individual observations in C:\\Users\\varga\\Box\\Data\\nc Files\\MANCHI\\processed\\MANCHI_raw_20250705142151.nc\n",
      "[OK] MANCHI_raw_20250705142151.25O\n",
      "Could not find any files matching the pattern C:\\Users\\varga\\Box\\Data\\nc Files\\MANCHI\\processed*.nc\n",
      "C:\\Users\\varga\\Box\\Data\\nc Files\\MANCHI\\MANCHI_raw_20250706142152.25O exists | Reading...\n",
      "Observation file  C:\\Users\\varga\\Box\\Data\\nc Files\\MANCHI\\MANCHI_raw_20250706142152.25O  is read in 1.85 seconds.\n",
      "Processing 88359 individual observations\n",
      "Calculating Azimuth and Elevation\n",
      "C:\\Users\\varga\\Box\\Data\\nc Files\\MANCHI\\aux_orbits\\GFZ0MGXRAP_20251870000_01D_05M_ORB.SP3 exists | Reading...\n",
      "C:\\Users\\varga\\Box\\Data\\nc Files\\MANCHI\\aux_orbits\\GFZ0MGXRAP_20251870000_01D_05M_ORB.SP3 file is read in 0.71 seconds\n",
      "This file does not exist: C:\\Users\\varga\\Box\\Data\\nc Files\\MANCHI\\aux_orbits\\GFZ0MGXRAP_20251880000_01D_05M_ORB.SP3\n",
      "Downloading: ftp://gssc.esa.int/gnss/products/2374//GFZ0MGXRAP_20251880000_01D_05M_ORB.SP3.gz"
     ]
    },
    {
     "name": "stderr",
     "output_type": "stream",
     "text": [
      "GFZ0MGXRAP_20251880000_01D_05M_ORB.SP3.gz: 1.03MB [00:03, 338kB/s]                             \n"
     ]
    },
    {
     "name": "stdout",
     "output_type": "stream",
     "text": [
      " | Download completed for ftp://gssc.esa.int/gnss/products/2374//GFZ0MGXRAP_20251880000_01D_05M_ORB.SP3.gz\n",
      "C:\\Users\\varga\\Box\\Data\\nc Files\\MANCHI\\aux_orbits\\GFZ0MGXRAP_20251880000_01D_05M_ORB.SP3 file is read in 3.68 seconds\n",
      "C:\\Users\\varga\\Box\\Data\\nc Files\\MANCHI\\aux_orbits\\GFZ0MGXRAP_20251870000_01D_30S_CLK.CLK exists | Reading...\n",
      "C:\\Users\\varga\\Box\\Data\\nc Files\\MANCHI\\aux_orbits\\GFZ0MGXRAP_20251870000_01D_30S_CLK.CLK file is read in 2.05 seconds\n",
      "This file does not exist: C:\\Users\\varga\\Box\\Data\\nc Files\\MANCHI\\aux_orbits\\GFZ0MGXRAP_20251880000_01D_30S_CLK.CLK\n",
      "Downloading: GFZ0MGXRAP_20251880000_01D_30S_CLK.CLK.gz"
     ]
    },
    {
     "name": "stderr",
     "output_type": "stream",
     "text": [
      "GFZ0MGXRAP_20251880000_01D_30S_CLK.CLK.gz: 4.75MB [00:03, 1.26MB/s]                            \n"
     ]
    },
    {
     "name": "stdout",
     "output_type": "stream",
     "text": [
      " | Download completed for GFZ0MGXRAP_20251880000_01D_30S_CLK.CLK.gz\n",
      "C:\\Users\\varga\\Box\\Data\\nc Files\\MANCHI\\aux_orbits\\GFZ0MGXRAP_20251880000_01D_30S_CLK.CLK file is read in 2.72 seconds\n",
      "SP3 interpolation is done in 2.59 seconds\n",
      "Saved 88359 individual observations in C:\\Users\\varga\\Box\\Data\\nc Files\\MANCHI\\processed\\MANCHI_raw_20250706142152.nc\n",
      "[OK] MANCHI_raw_20250706142152.25O\n",
      "Could not find any files matching the pattern C:\\Users\\varga\\Box\\Data\\nc Files\\MANCHI\\processed*.nc\n",
      "C:\\Users\\varga\\Box\\Data\\nc Files\\MANCHI\\MANCHI_raw_20250707142153.25O exists | Reading...\n",
      "Observation file  C:\\Users\\varga\\Box\\Data\\nc Files\\MANCHI\\MANCHI_raw_20250707142153.25O  is read in 3.00 seconds.\n",
      "Processing 88998 individual observations\n",
      "Calculating Azimuth and Elevation\n",
      "C:\\Users\\varga\\Box\\Data\\nc Files\\MANCHI\\aux_orbits\\GFZ0MGXRAP_20251880000_01D_05M_ORB.SP3 exists | Reading...\n",
      "C:\\Users\\varga\\Box\\Data\\nc Files\\MANCHI\\aux_orbits\\GFZ0MGXRAP_20251880000_01D_05M_ORB.SP3 file is read in 0.61 seconds\n",
      "This file does not exist: C:\\Users\\varga\\Box\\Data\\nc Files\\MANCHI\\aux_orbits\\GFZ0MGXRAP_20251890000_01D_05M_ORB.SP3\n",
      "Downloading: ftp://gssc.esa.int/gnss/products/2374//GFZ0MGXRAP_20251890000_01D_05M_ORB.SP3.gz"
     ]
    },
    {
     "name": "stderr",
     "output_type": "stream",
     "text": [
      "GFZ0MGXRAP_20251890000_01D_05M_ORB.SP3.gz: 1.04MB [00:03, 340kB/s]                             \n"
     ]
    },
    {
     "name": "stdout",
     "output_type": "stream",
     "text": [
      " | Download completed for ftp://gssc.esa.int/gnss/products/2374//GFZ0MGXRAP_20251890000_01D_05M_ORB.SP3.gz\n",
      "C:\\Users\\varga\\Box\\Data\\nc Files\\MANCHI\\aux_orbits\\GFZ0MGXRAP_20251890000_01D_05M_ORB.SP3 file is read in 3.94 seconds\n",
      "C:\\Users\\varga\\Box\\Data\\nc Files\\MANCHI\\aux_orbits\\GFZ0MGXRAP_20251880000_01D_30S_CLK.CLK exists | Reading...\n",
      "C:\\Users\\varga\\Box\\Data\\nc Files\\MANCHI\\aux_orbits\\GFZ0MGXRAP_20251880000_01D_30S_CLK.CLK file is read in 2.89 seconds\n",
      "This file does not exist: C:\\Users\\varga\\Box\\Data\\nc Files\\MANCHI\\aux_orbits\\GFZ0MGXRAP_20251890000_01D_30S_CLK.CLK\n",
      "Downloading: GFZ0MGXRAP_20251890000_01D_30S_CLK.CLK.gz"
     ]
    },
    {
     "name": "stderr",
     "output_type": "stream",
     "text": [
      "GFZ0MGXRAP_20251890000_01D_30S_CLK.CLK.gz: 4.78MB [00:03, 1.34MB/s]                            \n"
     ]
    },
    {
     "name": "stdout",
     "output_type": "stream",
     "text": [
      " | Download completed for GFZ0MGXRAP_20251890000_01D_30S_CLK.CLK.gz\n",
      "C:\\Users\\varga\\Box\\Data\\nc Files\\MANCHI\\aux_orbits\\GFZ0MGXRAP_20251890000_01D_30S_CLK.CLK file is read in 1.94 seconds\n",
      "SP3 interpolation is done in 3.35 seconds\n",
      "Saved 88998 individual observations in C:\\Users\\varga\\Box\\Data\\nc Files\\MANCHI\\processed\\MANCHI_raw_20250707142153.nc\n",
      "[OK] MANCHI_raw_20250707142153.25O\n",
      "Could not find any files matching the pattern C:\\Users\\varga\\Box\\Data\\nc Files\\MANCHI\\processed*.nc\n",
      "C:\\Users\\varga\\Box\\Data\\nc Files\\MANCHI\\MANCHI_raw_20250708142153.25O exists | Reading...\n",
      "Observation file  C:\\Users\\varga\\Box\\Data\\nc Files\\MANCHI\\MANCHI_raw_20250708142153.25O  is read in 3.02 seconds.\n",
      "Processing 89400 individual observations\n",
      "Calculating Azimuth and Elevation\n",
      "C:\\Users\\varga\\Box\\Data\\nc Files\\MANCHI\\aux_orbits\\GFZ0MGXRAP_20251890000_01D_05M_ORB.SP3 exists | Reading...\n",
      "C:\\Users\\varga\\Box\\Data\\nc Files\\MANCHI\\aux_orbits\\GFZ0MGXRAP_20251890000_01D_05M_ORB.SP3 file is read in 0.69 seconds\n",
      "This file does not exist: C:\\Users\\varga\\Box\\Data\\nc Files\\MANCHI\\aux_orbits\\GFZ0MGXRAP_20251900000_01D_05M_ORB.SP3\n",
      "Downloading: ftp://gssc.esa.int/gnss/products/2374//GFZ0MGXRAP_20251900000_01D_05M_ORB.SP3.gz"
     ]
    },
    {
     "name": "stderr",
     "output_type": "stream",
     "text": [
      "GFZ0MGXRAP_20251900000_01D_05M_ORB.SP3.gz: 1.04MB [00:03, 319kB/s]                             \n"
     ]
    },
    {
     "name": "stdout",
     "output_type": "stream",
     "text": [
      " | Download completed for ftp://gssc.esa.int/gnss/products/2374//GFZ0MGXRAP_20251900000_01D_05M_ORB.SP3.gz\n",
      "C:\\Users\\varga\\Box\\Data\\nc Files\\MANCHI\\aux_orbits\\GFZ0MGXRAP_20251900000_01D_05M_ORB.SP3 file is read in 4.11 seconds\n",
      "C:\\Users\\varga\\Box\\Data\\nc Files\\MANCHI\\aux_orbits\\GFZ0MGXRAP_20251890000_01D_30S_CLK.CLK exists | Reading...\n",
      "C:\\Users\\varga\\Box\\Data\\nc Files\\MANCHI\\aux_orbits\\GFZ0MGXRAP_20251890000_01D_30S_CLK.CLK file is read in 2.86 seconds\n",
      "This file does not exist: C:\\Users\\varga\\Box\\Data\\nc Files\\MANCHI\\aux_orbits\\GFZ0MGXRAP_20251900000_01D_30S_CLK.CLK\n",
      "Downloading: GFZ0MGXRAP_20251900000_01D_30S_CLK.CLK.gz"
     ]
    },
    {
     "name": "stderr",
     "output_type": "stream",
     "text": [
      "GFZ0MGXRAP_20251900000_01D_30S_CLK.CLK.gz: 4.79MB [00:04, 1.19MB/s]                            \n"
     ]
    },
    {
     "name": "stdout",
     "output_type": "stream",
     "text": [
      " | Download completed for GFZ0MGXRAP_20251900000_01D_30S_CLK.CLK.gz\n",
      "C:\\Users\\varga\\Box\\Data\\nc Files\\MANCHI\\aux_orbits\\GFZ0MGXRAP_20251900000_01D_30S_CLK.CLK file is read in 1.95 seconds\n",
      "SP3 interpolation is done in 2.53 seconds\n",
      "Saved 89400 individual observations in C:\\Users\\varga\\Box\\Data\\nc Files\\MANCHI\\processed\\MANCHI_raw_20250708142153.nc\n",
      "[OK] MANCHI_raw_20250708142153.25O\n",
      "Could not find any files matching the pattern C:\\Users\\varga\\Box\\Data\\nc Files\\MANCHI\\processed*.nc\n",
      "C:\\Users\\varga\\Box\\Data\\nc Files\\MANCHI\\MANCHI_raw_20250709142154.25O exists | Reading...\n",
      "Observation file  C:\\Users\\varga\\Box\\Data\\nc Files\\MANCHI\\MANCHI_raw_20250709142154.25O  is read in 2.12 seconds.\n",
      "Processing 88679 individual observations\n",
      "Calculating Azimuth and Elevation\n",
      "C:\\Users\\varga\\Box\\Data\\nc Files\\MANCHI\\aux_orbits\\GFZ0MGXRAP_20251900000_01D_05M_ORB.SP3 exists | Reading...\n",
      "C:\\Users\\varga\\Box\\Data\\nc Files\\MANCHI\\aux_orbits\\GFZ0MGXRAP_20251900000_01D_05M_ORB.SP3 file is read in 0.90 seconds\n",
      "This file does not exist: C:\\Users\\varga\\Box\\Data\\nc Files\\MANCHI\\aux_orbits\\GFZ0MGXRAP_20251910000_01D_05M_ORB.SP3\n",
      "Downloading: ftp://gssc.esa.int/gnss/products/2374//GFZ0MGXRAP_20251910000_01D_05M_ORB.SP3.gz"
     ]
    },
    {
     "name": "stderr",
     "output_type": "stream",
     "text": [
      "GFZ0MGXRAP_20251910000_01D_05M_ORB.SP3.gz: 1.02MB [00:06, 168kB/s]                             \n"
     ]
    },
    {
     "name": "stdout",
     "output_type": "stream",
     "text": [
      " | Download completed for ftp://gssc.esa.int/gnss/products/2374//GFZ0MGXRAP_20251910000_01D_05M_ORB.SP3.gz\n",
      "C:\\Users\\varga\\Box\\Data\\nc Files\\MANCHI\\aux_orbits\\GFZ0MGXRAP_20251910000_01D_05M_ORB.SP3 file is read in 7.12 seconds\n",
      "C:\\Users\\varga\\Box\\Data\\nc Files\\MANCHI\\aux_orbits\\GFZ0MGXRAP_20251900000_01D_30S_CLK.CLK exists | Reading...\n",
      "C:\\Users\\varga\\Box\\Data\\nc Files\\MANCHI\\aux_orbits\\GFZ0MGXRAP_20251900000_01D_30S_CLK.CLK file is read in 2.90 seconds\n",
      "This file does not exist: C:\\Users\\varga\\Box\\Data\\nc Files\\MANCHI\\aux_orbits\\GFZ0MGXRAP_20251910000_01D_30S_CLK.CLK\n",
      "Downloading: GFZ0MGXRAP_20251910000_01D_30S_CLK.CLK.gz"
     ]
    },
    {
     "name": "stderr",
     "output_type": "stream",
     "text": [
      "GFZ0MGXRAP_20251910000_01D_30S_CLK.CLK.gz: 4.72MB [00:04, 1.03MB/s]                            \n"
     ]
    },
    {
     "name": "stdout",
     "output_type": "stream",
     "text": [
      " | Download completed for GFZ0MGXRAP_20251910000_01D_30S_CLK.CLK.gz\n",
      "C:\\Users\\varga\\Box\\Data\\nc Files\\MANCHI\\aux_orbits\\GFZ0MGXRAP_20251910000_01D_30S_CLK.CLK file is read in 2.50 seconds\n",
      "SP3 interpolation is done in 3.72 seconds\n",
      "Saved 88679 individual observations in C:\\Users\\varga\\Box\\Data\\nc Files\\MANCHI\\processed\\MANCHI_raw_20250709142154.nc\n",
      "[OK] MANCHI_raw_20250709142154.25O\n",
      "Could not find any files matching the pattern C:\\Users\\varga\\Box\\Data\\nc Files\\MANCHI\\processed*.nc\n",
      "C:\\Users\\varga\\Box\\Data\\nc Files\\MANCHI\\MANCHI_raw_20250710142155.25O exists | Reading...\n",
      "Observation file  C:\\Users\\varga\\Box\\Data\\nc Files\\MANCHI\\MANCHI_raw_20250710142155.25O  is read in 1.79 seconds.\n",
      "Processing 86544 individual observations\n",
      "Calculating Azimuth and Elevation\n",
      "C:\\Users\\varga\\Box\\Data\\nc Files\\MANCHI\\aux_orbits\\GFZ0MGXRAP_20251910000_01D_05M_ORB.SP3 exists | Reading...\n",
      "C:\\Users\\varga\\Box\\Data\\nc Files\\MANCHI\\aux_orbits\\GFZ0MGXRAP_20251910000_01D_05M_ORB.SP3 file is read in 0.36 seconds\n",
      "This file does not exist: C:\\Users\\varga\\Box\\Data\\nc Files\\MANCHI\\aux_orbits\\GFZ0MGXRAP_20251920000_01D_05M_ORB.SP3\n",
      "Downloading: ftp://gssc.esa.int/gnss/products/2374//GFZ0MGXRAP_20251920000_01D_05M_ORB.SP3.gz"
     ]
    },
    {
     "name": "stderr",
     "output_type": "stream",
     "text": [
      "GFZ0MGXRAP_20251920000_01D_05M_ORB.SP3.gz: 1.02MB [00:06, 170kB/s]                             \n"
     ]
    },
    {
     "name": "stdout",
     "output_type": "stream",
     "text": [
      " | Download completed for ftp://gssc.esa.int/gnss/products/2374//GFZ0MGXRAP_20251920000_01D_05M_ORB.SP3.gz\n",
      "C:\\Users\\varga\\Box\\Data\\nc Files\\MANCHI\\aux_orbits\\GFZ0MGXRAP_20251920000_01D_05M_ORB.SP3 file is read in 7.67 seconds\n",
      "C:\\Users\\varga\\Box\\Data\\nc Files\\MANCHI\\aux_orbits\\GFZ0MGXRAP_20251910000_01D_30S_CLK.CLK exists | Reading...\n",
      "C:\\Users\\varga\\Box\\Data\\nc Files\\MANCHI\\aux_orbits\\GFZ0MGXRAP_20251910000_01D_30S_CLK.CLK file is read in 4.71 seconds\n",
      "This file does not exist: C:\\Users\\varga\\Box\\Data\\nc Files\\MANCHI\\aux_orbits\\GFZ0MGXRAP_20251920000_01D_30S_CLK.CLK\n",
      "Downloading: GFZ0MGXRAP_20251920000_01D_30S_CLK.CLK.gz"
     ]
    },
    {
     "name": "stderr",
     "output_type": "stream",
     "text": [
      "GFZ0MGXRAP_20251920000_01D_30S_CLK.CLK.gz: 4.75MB [00:04, 1.10MB/s]                            \n"
     ]
    },
    {
     "name": "stdout",
     "output_type": "stream",
     "text": [
      " | Download completed for GFZ0MGXRAP_20251920000_01D_30S_CLK.CLK.gz\n",
      "C:\\Users\\varga\\Box\\Data\\nc Files\\MANCHI\\aux_orbits\\GFZ0MGXRAP_20251920000_01D_30S_CLK.CLK file is read in 16.92 seconds\n",
      "SP3 interpolation is done in 2.51 seconds\n",
      "Saved 86544 individual observations in C:\\Users\\varga\\Box\\Data\\nc Files\\MANCHI\\processed\\MANCHI_raw_20250710142155.nc\n",
      "[OK] MANCHI_raw_20250710142155.25O\n",
      "Could not find any files matching the pattern C:\\Users\\varga\\Box\\Data\\nc Files\\MANCHI\\processed*.nc\n",
      "C:\\Users\\varga\\Box\\Data\\nc Files\\MANCHI\\MANCHI_raw_20250711142156.25O exists | Reading...\n",
      "Observation file  C:\\Users\\varga\\Box\\Data\\nc Files\\MANCHI\\MANCHI_raw_20250711142156.25O  is read in 1.85 seconds.\n",
      "Processing 89507 individual observations\n",
      "Calculating Azimuth and Elevation\n",
      "C:\\Users\\varga\\Box\\Data\\nc Files\\MANCHI\\aux_orbits\\GFZ0MGXRAP_20251920000_01D_05M_ORB.SP3 exists | Reading...\n",
      "C:\\Users\\varga\\Box\\Data\\nc Files\\MANCHI\\aux_orbits\\GFZ0MGXRAP_20251920000_01D_05M_ORB.SP3 file is read in 0.43 seconds\n",
      "This file does not exist: C:\\Users\\varga\\Box\\Data\\nc Files\\MANCHI\\aux_orbits\\GFZ0MGXRAP_20251930000_01D_05M_ORB.SP3\n",
      "Downloading: ftp://gssc.esa.int/gnss/products/2374//GFZ0MGXRAP_20251930000_01D_05M_ORB.SP3.gz"
     ]
    },
    {
     "name": "stderr",
     "output_type": "stream",
     "text": [
      "GFZ0MGXRAP_20251930000_01D_05M_ORB.SP3.gz: 1.03MB [00:03, 336kB/s]                             \n"
     ]
    },
    {
     "name": "stdout",
     "output_type": "stream",
     "text": [
      " | Download completed for ftp://gssc.esa.int/gnss/products/2374//GFZ0MGXRAP_20251930000_01D_05M_ORB.SP3.gz\n",
      "C:\\Users\\varga\\Box\\Data\\nc Files\\MANCHI\\aux_orbits\\GFZ0MGXRAP_20251930000_01D_05M_ORB.SP3 file is read in 3.95 seconds\n",
      "C:\\Users\\varga\\Box\\Data\\nc Files\\MANCHI\\aux_orbits\\GFZ0MGXRAP_20251920000_01D_30S_CLK.CLK exists | Reading...\n",
      "C:\\Users\\varga\\Box\\Data\\nc Files\\MANCHI\\aux_orbits\\GFZ0MGXRAP_20251920000_01D_30S_CLK.CLK file is read in 2.21 seconds\n",
      "This file does not exist: C:\\Users\\varga\\Box\\Data\\nc Files\\MANCHI\\aux_orbits\\GFZ0MGXRAP_20251930000_01D_30S_CLK.CLK\n",
      "Downloading: GFZ0MGXRAP_20251930000_01D_30S_CLK.CLK.gz"
     ]
    },
    {
     "name": "stderr",
     "output_type": "stream",
     "text": [
      "GFZ0MGXRAP_20251930000_01D_30S_CLK.CLK.gz: 4.78MB [00:07, 687kB/s]                             \n"
     ]
    },
    {
     "name": "stdout",
     "output_type": "stream",
     "text": [
      " | Download completed for GFZ0MGXRAP_20251930000_01D_30S_CLK.CLK.gz\n",
      "C:\\Users\\varga\\Box\\Data\\nc Files\\MANCHI\\aux_orbits\\GFZ0MGXRAP_20251930000_01D_30S_CLK.CLK file is read in 2.20 seconds\n",
      "SP3 interpolation is done in 2.59 seconds\n",
      "Saved 89507 individual observations in C:\\Users\\varga\\Box\\Data\\nc Files\\MANCHI\\processed\\MANCHI_raw_20250711142156.nc\n",
      "[OK] MANCHI_raw_20250711142156.25O\n",
      "Could not find any files matching the pattern C:\\Users\\varga\\Box\\Data\\nc Files\\MANCHI\\processed*.nc\n",
      "C:\\Users\\varga\\Box\\Data\\nc Files\\MANCHI\\MANCHI_raw_20250712142157.25O exists | Reading...\n",
      "Observation file  C:\\Users\\varga\\Box\\Data\\nc Files\\MANCHI\\MANCHI_raw_20250712142157.25O  is read in 1.92 seconds.\n",
      "Processing 89265 individual observations\n",
      "Calculating Azimuth and Elevation\n",
      "C:\\Users\\varga\\Box\\Data\\nc Files\\MANCHI\\aux_orbits\\GFZ0MGXRAP_20251930000_01D_05M_ORB.SP3 exists | Reading...\n",
      "C:\\Users\\varga\\Box\\Data\\nc Files\\MANCHI\\aux_orbits\\GFZ0MGXRAP_20251930000_01D_05M_ORB.SP3 file is read in 0.77 seconds\n",
      "This file does not exist: C:\\Users\\varga\\Box\\Data\\nc Files\\MANCHI\\aux_orbits\\GFZ0MGXRAP_20251940000_01D_05M_ORB.SP3\n",
      "Downloading: ftp://gssc.esa.int/gnss/products/2375//GFZ0MGXRAP_20251940000_01D_05M_ORB.SP3.gz"
     ]
    },
    {
     "name": "stderr",
     "output_type": "stream",
     "text": [
      "GFZ0MGXRAP_20251940000_01D_05M_ORB.SP3.gz: 1.04MB [00:03, 340kB/s]                             \n"
     ]
    },
    {
     "name": "stdout",
     "output_type": "stream",
     "text": [
      " | Download completed for ftp://gssc.esa.int/gnss/products/2375//GFZ0MGXRAP_20251940000_01D_05M_ORB.SP3.gz\n",
      "C:\\Users\\varga\\Box\\Data\\nc Files\\MANCHI\\aux_orbits\\GFZ0MGXRAP_20251940000_01D_05M_ORB.SP3 file is read in 3.97 seconds\n",
      "C:\\Users\\varga\\Box\\Data\\nc Files\\MANCHI\\aux_orbits\\GFZ0MGXRAP_20251930000_01D_30S_CLK.CLK exists | Reading...\n",
      "C:\\Users\\varga\\Box\\Data\\nc Files\\MANCHI\\aux_orbits\\GFZ0MGXRAP_20251930000_01D_30S_CLK.CLK file is read in 3.08 seconds\n",
      "This file does not exist: C:\\Users\\varga\\Box\\Data\\nc Files\\MANCHI\\aux_orbits\\GFZ0MGXRAP_20251940000_01D_30S_CLK.CLK\n",
      "Downloading: GFZ0MGXRAP_20251940000_01D_30S_CLK.CLK.gz"
     ]
    },
    {
     "name": "stderr",
     "output_type": "stream",
     "text": [
      "GFZ0MGXRAP_20251940000_01D_30S_CLK.CLK.gz: 4.82MB [00:16, 311kB/s]                             \n"
     ]
    },
    {
     "name": "stdout",
     "output_type": "stream",
     "text": [
      " | Download completed for GFZ0MGXRAP_20251940000_01D_30S_CLK.CLK.gz\n",
      "C:\\Users\\varga\\Box\\Data\\nc Files\\MANCHI\\aux_orbits\\GFZ0MGXRAP_20251940000_01D_30S_CLK.CLK file is read in 2.15 seconds\n",
      "SP3 interpolation is done in 2.77 seconds\n",
      "Saved 89265 individual observations in C:\\Users\\varga\\Box\\Data\\nc Files\\MANCHI\\processed\\MANCHI_raw_20250712142157.nc\n",
      "[OK] MANCHI_raw_20250712142157.25O\n",
      "Could not find any files matching the pattern C:\\Users\\varga\\Box\\Data\\nc Files\\MANCHI\\processed*.nc\n",
      "C:\\Users\\varga\\Box\\Data\\nc Files\\MANCHI\\MANCHI_raw_20250713142158.25O exists | Reading...\n",
      "Observation file  C:\\Users\\varga\\Box\\Data\\nc Files\\MANCHI\\MANCHI_raw_20250713142158.25O  is read in 2.41 seconds.\n",
      "Processing 88254 individual observations\n",
      "Calculating Azimuth and Elevation\n",
      "C:\\Users\\varga\\Box\\Data\\nc Files\\MANCHI\\aux_orbits\\GFZ0MGXRAP_20251940000_01D_05M_ORB.SP3 exists | Reading...\n",
      "C:\\Users\\varga\\Box\\Data\\nc Files\\MANCHI\\aux_orbits\\GFZ0MGXRAP_20251940000_01D_05M_ORB.SP3 file is read in 0.63 seconds\n",
      "This file does not exist: C:\\Users\\varga\\Box\\Data\\nc Files\\MANCHI\\aux_orbits\\GFZ0MGXRAP_20251950000_01D_05M_ORB.SP3\n",
      "Downloading: ftp://gssc.esa.int/gnss/products/2375//GFZ0MGXRAP_20251950000_01D_05M_ORB.SP3.gz"
     ]
    },
    {
     "name": "stderr",
     "output_type": "stream",
     "text": [
      "GFZ0MGXRAP_20251950000_01D_05M_ORB.SP3.gz: 1.05MB [00:03, 337kB/s]                             \n"
     ]
    },
    {
     "name": "stdout",
     "output_type": "stream",
     "text": [
      " | Download completed for ftp://gssc.esa.int/gnss/products/2375//GFZ0MGXRAP_20251950000_01D_05M_ORB.SP3.gz\n",
      "C:\\Users\\varga\\Box\\Data\\nc Files\\MANCHI\\aux_orbits\\GFZ0MGXRAP_20251950000_01D_05M_ORB.SP3 file is read in 4.08 seconds\n",
      "C:\\Users\\varga\\Box\\Data\\nc Files\\MANCHI\\aux_orbits\\GFZ0MGXRAP_20251940000_01D_30S_CLK.CLK exists | Reading...\n",
      "C:\\Users\\varga\\Box\\Data\\nc Files\\MANCHI\\aux_orbits\\GFZ0MGXRAP_20251940000_01D_30S_CLK.CLK file is read in 2.98 seconds\n",
      "This file does not exist: C:\\Users\\varga\\Box\\Data\\nc Files\\MANCHI\\aux_orbits\\GFZ0MGXRAP_20251950000_01D_30S_CLK.CLK\n",
      "Downloading: GFZ0MGXRAP_20251950000_01D_30S_CLK.CLK.gz"
     ]
    },
    {
     "name": "stderr",
     "output_type": "stream",
     "text": [
      "GFZ0MGXRAP_20251950000_01D_30S_CLK.CLK.gz: 4.84MB [00:17, 287kB/s]                             \n"
     ]
    },
    {
     "name": "stdout",
     "output_type": "stream",
     "text": [
      " | Download completed for GFZ0MGXRAP_20251950000_01D_30S_CLK.CLK.gz\n",
      "C:\\Users\\varga\\Box\\Data\\nc Files\\MANCHI\\aux_orbits\\GFZ0MGXRAP_20251950000_01D_30S_CLK.CLK file is read in 2.11 seconds\n",
      "SP3 interpolation is done in 2.61 seconds\n",
      "Saved 88254 individual observations in C:\\Users\\varga\\Box\\Data\\nc Files\\MANCHI\\processed\\MANCHI_raw_20250713142158.nc\n",
      "[OK] MANCHI_raw_20250713142158.25O\n",
      "Could not find any files matching the pattern C:\\Users\\varga\\Box\\Data\\nc Files\\MANCHI\\processed*.nc\n",
      "C:\\Users\\varga\\Box\\Data\\nc Files\\MANCHI\\MANCHI_raw_20250714142158.25O exists | Reading...\n",
      "Observation file  C:\\Users\\varga\\Box\\Data\\nc Files\\MANCHI\\MANCHI_raw_20250714142158.25O  is read in 1.86 seconds.\n",
      "Processing 89323 individual observations\n",
      "Calculating Azimuth and Elevation\n",
      "C:\\Users\\varga\\Box\\Data\\nc Files\\MANCHI\\aux_orbits\\GFZ0MGXRAP_20251950000_01D_05M_ORB.SP3 exists | Reading...\n",
      "C:\\Users\\varga\\Box\\Data\\nc Files\\MANCHI\\aux_orbits\\GFZ0MGXRAP_20251950000_01D_05M_ORB.SP3 file is read in 0.73 seconds\n",
      "This file does not exist: C:\\Users\\varga\\Box\\Data\\nc Files\\MANCHI\\aux_orbits\\GFZ0MGXRAP_20251960000_01D_05M_ORB.SP3\n",
      "Downloading: ftp://gssc.esa.int/gnss/products/2375//GFZ0MGXRAP_20251960000_01D_05M_ORB.SP3.gz"
     ]
    },
    {
     "name": "stderr",
     "output_type": "stream",
     "text": [
      "GFZ0MGXRAP_20251960000_01D_05M_ORB.SP3.gz: 1.05MB [00:03, 344kB/s]                             \n"
     ]
    },
    {
     "name": "stdout",
     "output_type": "stream",
     "text": [
      " | Download completed for ftp://gssc.esa.int/gnss/products/2375//GFZ0MGXRAP_20251960000_01D_05M_ORB.SP3.gz\n",
      "C:\\Users\\varga\\Box\\Data\\nc Files\\MANCHI\\aux_orbits\\GFZ0MGXRAP_20251960000_01D_05M_ORB.SP3 file is read in 3.69 seconds\n",
      "C:\\Users\\varga\\Box\\Data\\nc Files\\MANCHI\\aux_orbits\\GFZ0MGXRAP_20251950000_01D_30S_CLK.CLK exists | Reading...\n",
      "C:\\Users\\varga\\Box\\Data\\nc Files\\MANCHI\\aux_orbits\\GFZ0MGXRAP_20251950000_01D_30S_CLK.CLK file is read in 2.08 seconds\n",
      "This file does not exist: C:\\Users\\varga\\Box\\Data\\nc Files\\MANCHI\\aux_orbits\\GFZ0MGXRAP_20251960000_01D_30S_CLK.CLK\n",
      "Downloading: GFZ0MGXRAP_20251960000_01D_30S_CLK.CLK.gz"
     ]
    },
    {
     "name": "stderr",
     "output_type": "stream",
     "text": [
      "GFZ0MGXRAP_20251960000_01D_30S_CLK.CLK.gz: 4.84MB [00:05, 982kB/s]                             \n"
     ]
    },
    {
     "name": "stdout",
     "output_type": "stream",
     "text": [
      " | Download completed for GFZ0MGXRAP_20251960000_01D_30S_CLK.CLK.gz\n",
      "C:\\Users\\varga\\Box\\Data\\nc Files\\MANCHI\\aux_orbits\\GFZ0MGXRAP_20251960000_01D_30S_CLK.CLK file is read in 2.79 seconds\n",
      "SP3 interpolation is done in 3.44 seconds\n",
      "Saved 89323 individual observations in C:\\Users\\varga\\Box\\Data\\nc Files\\MANCHI\\processed\\MANCHI_raw_20250714142158.nc\n",
      "[OK] MANCHI_raw_20250714142158.25O\n",
      "Could not find any files matching the pattern C:\\Users\\varga\\Box\\Data\\nc Files\\MANCHI\\processed*.nc\n",
      "C:\\Users\\varga\\Box\\Data\\nc Files\\MANCHI\\MANCHI_raw_20250715142200.25O exists | Reading...\n",
      "Observation file  C:\\Users\\varga\\Box\\Data\\nc Files\\MANCHI\\MANCHI_raw_20250715142200.25O  is read in 1.90 seconds.\n",
      "Processing 90860 individual observations\n",
      "Calculating Azimuth and Elevation\n",
      "C:\\Users\\varga\\Box\\Data\\nc Files\\MANCHI\\aux_orbits\\GFZ0MGXRAP_20251960000_01D_05M_ORB.SP3 exists | Reading...\n",
      "C:\\Users\\varga\\Box\\Data\\nc Files\\MANCHI\\aux_orbits\\GFZ0MGXRAP_20251960000_01D_05M_ORB.SP3 file is read in 0.38 seconds\n",
      "This file does not exist: C:\\Users\\varga\\Box\\Data\\nc Files\\MANCHI\\aux_orbits\\GFZ0MGXRAP_20251970000_01D_05M_ORB.SP3\n",
      "Downloading: ftp://gssc.esa.int/gnss/products/2375//GFZ0MGXRAP_20251970000_01D_05M_ORB.SP3.gz"
     ]
    },
    {
     "name": "stderr",
     "output_type": "stream",
     "text": [
      "GFZ0MGXRAP_20251970000_01D_05M_ORB.SP3.gz: 1.05MB [00:03, 332kB/s]                             \n"
     ]
    },
    {
     "name": "stdout",
     "output_type": "stream",
     "text": [
      " | Download completed for ftp://gssc.esa.int/gnss/products/2375//GFZ0MGXRAP_20251970000_01D_05M_ORB.SP3.gz\n",
      "C:\\Users\\varga\\Box\\Data\\nc Files\\MANCHI\\aux_orbits\\GFZ0MGXRAP_20251970000_01D_05M_ORB.SP3 file is read in 4.10 seconds\n",
      "C:\\Users\\varga\\Box\\Data\\nc Files\\MANCHI\\aux_orbits\\GFZ0MGXRAP_20251960000_01D_30S_CLK.CLK exists | Reading...\n",
      "C:\\Users\\varga\\Box\\Data\\nc Files\\MANCHI\\aux_orbits\\GFZ0MGXRAP_20251960000_01D_30S_CLK.CLK file is read in 2.99 seconds\n",
      "This file does not exist: C:\\Users\\varga\\Box\\Data\\nc Files\\MANCHI\\aux_orbits\\GFZ0MGXRAP_20251970000_01D_30S_CLK.CLK\n",
      "Downloading: GFZ0MGXRAP_20251970000_01D_30S_CLK.CLK.gz"
     ]
    },
    {
     "name": "stderr",
     "output_type": "stream",
     "text": [
      "GFZ0MGXRAP_20251970000_01D_30S_CLK.CLK.gz: 4.84MB [00:03, 1.27MB/s]                            \n"
     ]
    },
    {
     "name": "stdout",
     "output_type": "stream",
     "text": [
      " | Download completed for GFZ0MGXRAP_20251970000_01D_30S_CLK.CLK.gz\n",
      "C:\\Users\\varga\\Box\\Data\\nc Files\\MANCHI\\aux_orbits\\GFZ0MGXRAP_20251970000_01D_30S_CLK.CLK file is read in 2.86 seconds\n",
      "SP3 interpolation is done in 3.18 seconds\n",
      "Saved 90860 individual observations in C:\\Users\\varga\\Box\\Data\\nc Files\\MANCHI\\processed\\MANCHI_raw_20250715142200.nc\n",
      "[OK] MANCHI_raw_20250715142200.25O\n",
      "Could not find any files matching the pattern C:\\Users\\varga\\Box\\Data\\nc Files\\MANCHI\\processed*.nc\n",
      "C:\\Users\\varga\\Box\\Data\\nc Files\\MANCHI\\MANCHI_raw_20250716142200.25O exists | Reading...\n",
      "Observation file  C:\\Users\\varga\\Box\\Data\\nc Files\\MANCHI\\MANCHI_raw_20250716142200.25O  is read in 1.84 seconds.\n",
      "Processing 88478 individual observations\n",
      "Calculating Azimuth and Elevation\n",
      "C:\\Users\\varga\\Box\\Data\\nc Files\\MANCHI\\aux_orbits\\GFZ0MGXRAP_20251970000_01D_05M_ORB.SP3 exists | Reading...\n",
      "C:\\Users\\varga\\Box\\Data\\nc Files\\MANCHI\\aux_orbits\\GFZ0MGXRAP_20251970000_01D_05M_ORB.SP3 file is read in 0.37 seconds\n",
      "This file does not exist: C:\\Users\\varga\\Box\\Data\\nc Files\\MANCHI\\aux_orbits\\GFZ0MGXRAP_20251980000_01D_05M_ORB.SP3\n",
      "Downloading: ftp://gssc.esa.int/gnss/products/2375//GFZ0MGXRAP_20251980000_01D_05M_ORB.SP3.gz"
     ]
    },
    {
     "name": "stderr",
     "output_type": "stream",
     "text": [
      "GFZ0MGXRAP_20251980000_01D_05M_ORB.SP3.gz: 1.04MB [00:03, 342kB/s]                             \n"
     ]
    },
    {
     "name": "stdout",
     "output_type": "stream",
     "text": [
      " | Download completed for ftp://gssc.esa.int/gnss/products/2375//GFZ0MGXRAP_20251980000_01D_05M_ORB.SP3.gz\n",
      "C:\\Users\\varga\\Box\\Data\\nc Files\\MANCHI\\aux_orbits\\GFZ0MGXRAP_20251980000_01D_05M_ORB.SP3 file is read in 4.14 seconds\n",
      "C:\\Users\\varga\\Box\\Data\\nc Files\\MANCHI\\aux_orbits\\GFZ0MGXRAP_20251970000_01D_30S_CLK.CLK exists | Reading...\n",
      "C:\\Users\\varga\\Box\\Data\\nc Files\\MANCHI\\aux_orbits\\GFZ0MGXRAP_20251970000_01D_30S_CLK.CLK file is read in 3.10 seconds\n",
      "This file does not exist: C:\\Users\\varga\\Box\\Data\\nc Files\\MANCHI\\aux_orbits\\GFZ0MGXRAP_20251980000_01D_30S_CLK.CLK\n",
      "Downloading: GFZ0MGXRAP_20251980000_01D_30S_CLK.CLK.gz"
     ]
    },
    {
     "name": "stderr",
     "output_type": "stream",
     "text": [
      "GFZ0MGXRAP_20251980000_01D_30S_CLK.CLK.gz: 4.82MB [00:03, 1.39MB/s]                            \n"
     ]
    },
    {
     "name": "stdout",
     "output_type": "stream",
     "text": [
      " | Download completed for GFZ0MGXRAP_20251980000_01D_30S_CLK.CLK.gz\n",
      "C:\\Users\\varga\\Box\\Data\\nc Files\\MANCHI\\aux_orbits\\GFZ0MGXRAP_20251980000_01D_30S_CLK.CLK file is read in 2.89 seconds\n",
      "SP3 interpolation is done in 3.77 seconds\n",
      "Saved 88478 individual observations in C:\\Users\\varga\\Box\\Data\\nc Files\\MANCHI\\processed\\MANCHI_raw_20250716142200.nc\n",
      "[OK] MANCHI_raw_20250716142200.25O\n",
      "Could not find any files matching the pattern C:\\Users\\varga\\Box\\Data\\nc Files\\MANCHI\\processed*.nc\n",
      "C:\\Users\\varga\\Box\\Data\\nc Files\\MANCHI\\MANCHI_raw_20250717142201.25O exists | Reading...\n",
      "Observation file  C:\\Users\\varga\\Box\\Data\\nc Files\\MANCHI\\MANCHI_raw_20250717142201.25O  is read in 1.78 seconds.\n",
      "Processing 88936 individual observations\n",
      "Calculating Azimuth and Elevation\n",
      "C:\\Users\\varga\\Box\\Data\\nc Files\\MANCHI\\aux_orbits\\GFZ0MGXRAP_20251980000_01D_05M_ORB.SP3 exists | Reading...\n",
      "C:\\Users\\varga\\Box\\Data\\nc Files\\MANCHI\\aux_orbits\\GFZ0MGXRAP_20251980000_01D_05M_ORB.SP3 file is read in 0.46 seconds\n",
      "This file does not exist: C:\\Users\\varga\\Box\\Data\\nc Files\\MANCHI\\aux_orbits\\GFZ0MGXRAP_20251990000_01D_05M_ORB.SP3\n",
      "Downloading: ftp://gssc.esa.int/gnss/products/2375//GFZ0MGXRAP_20251990000_01D_05M_ORB.SP3.gz"
     ]
    },
    {
     "name": "stderr",
     "output_type": "stream",
     "text": [
      "GFZ0MGXRAP_20251990000_01D_05M_ORB.SP3.gz: 1.05MB [00:03, 344kB/s]                             \n"
     ]
    },
    {
     "name": "stdout",
     "output_type": "stream",
     "text": [
      " | Download completed for ftp://gssc.esa.int/gnss/products/2375//GFZ0MGXRAP_20251990000_01D_05M_ORB.SP3.gz\n",
      "C:\\Users\\varga\\Box\\Data\\nc Files\\MANCHI\\aux_orbits\\GFZ0MGXRAP_20251990000_01D_05M_ORB.SP3 file is read in 4.14 seconds\n",
      "C:\\Users\\varga\\Box\\Data\\nc Files\\MANCHI\\aux_orbits\\GFZ0MGXRAP_20251980000_01D_30S_CLK.CLK exists | Reading...\n",
      "C:\\Users\\varga\\Box\\Data\\nc Files\\MANCHI\\aux_orbits\\GFZ0MGXRAP_20251980000_01D_30S_CLK.CLK file is read in 3.55 seconds\n",
      "This file does not exist: C:\\Users\\varga\\Box\\Data\\nc Files\\MANCHI\\aux_orbits\\GFZ0MGXRAP_20251990000_01D_30S_CLK.CLK\n",
      "Downloading: GFZ0MGXRAP_20251990000_01D_30S_CLK.CLK.gz"
     ]
    },
    {
     "name": "stderr",
     "output_type": "stream",
     "text": [
      "GFZ0MGXRAP_20251990000_01D_30S_CLK.CLK.gz: 4.84MB [00:03, 1.38MB/s]                            \n"
     ]
    },
    {
     "name": "stdout",
     "output_type": "stream",
     "text": [
      " | Download completed for GFZ0MGXRAP_20251990000_01D_30S_CLK.CLK.gz\n",
      "C:\\Users\\varga\\Box\\Data\\nc Files\\MANCHI\\aux_orbits\\GFZ0MGXRAP_20251990000_01D_30S_CLK.CLK file is read in 2.76 seconds\n",
      "SP3 interpolation is done in 3.96 seconds\n",
      "Saved 88936 individual observations in C:\\Users\\varga\\Box\\Data\\nc Files\\MANCHI\\processed\\MANCHI_raw_20250717142201.nc\n",
      "[OK] MANCHI_raw_20250717142201.25O\n",
      "Could not find any files matching the pattern C:\\Users\\varga\\Box\\Data\\nc Files\\MANCHI\\processed*.nc\n",
      "C:\\Users\\varga\\Box\\Data\\nc Files\\MANCHI\\MANCHI_raw_20250718142202.25O exists | Reading...\n",
      "Observation file  C:\\Users\\varga\\Box\\Data\\nc Files\\MANCHI\\MANCHI_raw_20250718142202.25O  is read in 2.99 seconds.\n",
      "Processing 90366 individual observations\n",
      "Calculating Azimuth and Elevation\n",
      "C:\\Users\\varga\\Box\\Data\\nc Files\\MANCHI\\aux_orbits\\GFZ0MGXRAP_20251990000_01D_05M_ORB.SP3 exists | Reading...\n",
      "C:\\Users\\varga\\Box\\Data\\nc Files\\MANCHI\\aux_orbits\\GFZ0MGXRAP_20251990000_01D_05M_ORB.SP3 file is read in 0.45 seconds\n",
      "This file does not exist: C:\\Users\\varga\\Box\\Data\\nc Files\\MANCHI\\aux_orbits\\GFZ0MGXRAP_20252000000_01D_05M_ORB.SP3\n",
      "Downloading: ftp://gssc.esa.int/gnss/products/2375//GFZ0MGXRAP_20252000000_01D_05M_ORB.SP3.gz"
     ]
    },
    {
     "name": "stderr",
     "output_type": "stream",
     "text": [
      "GFZ0MGXRAP_20252000000_01D_05M_ORB.SP3.gz: 1.05MB [00:03, 342kB/s]                             \n"
     ]
    },
    {
     "name": "stdout",
     "output_type": "stream",
     "text": [
      " | Download completed for ftp://gssc.esa.int/gnss/products/2375//GFZ0MGXRAP_20252000000_01D_05M_ORB.SP3.gz\n",
      "C:\\Users\\varga\\Box\\Data\\nc Files\\MANCHI\\aux_orbits\\GFZ0MGXRAP_20252000000_01D_05M_ORB.SP3 file is read in 3.72 seconds\n",
      "C:\\Users\\varga\\Box\\Data\\nc Files\\MANCHI\\aux_orbits\\GFZ0MGXRAP_20251990000_01D_30S_CLK.CLK exists | Reading...\n",
      "C:\\Users\\varga\\Box\\Data\\nc Files\\MANCHI\\aux_orbits\\GFZ0MGXRAP_20251990000_01D_30S_CLK.CLK file is read in 2.09 seconds\n",
      "This file does not exist: C:\\Users\\varga\\Box\\Data\\nc Files\\MANCHI\\aux_orbits\\GFZ0MGXRAP_20252000000_01D_30S_CLK.CLK\n",
      "Downloading: GFZ0MGXRAP_20252000000_01D_30S_CLK.CLK.gz"
     ]
    },
    {
     "name": "stderr",
     "output_type": "stream",
     "text": [
      "GFZ0MGXRAP_20252000000_01D_30S_CLK.CLK.gz: 4.83MB [00:04, 1.17MB/s]                            \n"
     ]
    },
    {
     "name": "stdout",
     "output_type": "stream",
     "text": [
      " | Download completed for GFZ0MGXRAP_20252000000_01D_30S_CLK.CLK.gz\n",
      "C:\\Users\\varga\\Box\\Data\\nc Files\\MANCHI\\aux_orbits\\GFZ0MGXRAP_20252000000_01D_30S_CLK.CLK file is read in 2.36 seconds\n",
      "SP3 interpolation is done in 3.02 seconds\n",
      "Saved 90366 individual observations in C:\\Users\\varga\\Box\\Data\\nc Files\\MANCHI\\processed\\MANCHI_raw_20250718142202.nc\n",
      "[OK] MANCHI_raw_20250718142202.25O\n",
      "Could not find any files matching the pattern C:\\Users\\varga\\Box\\Data\\nc Files\\MANCHI\\processed*.nc\n",
      "C:\\Users\\varga\\Box\\Data\\nc Files\\MANCHI\\MANCHI_raw_20250719142203.25O exists | Reading...\n",
      "Observation file  C:\\Users\\varga\\Box\\Data\\nc Files\\MANCHI\\MANCHI_raw_20250719142203.25O  is read in 3.25 seconds.\n",
      "Processing 89717 individual observations\n",
      "Calculating Azimuth and Elevation\n",
      "C:\\Users\\varga\\Box\\Data\\nc Files\\MANCHI\\aux_orbits\\GFZ0MGXRAP_20252000000_01D_05M_ORB.SP3 exists | Reading...\n",
      "C:\\Users\\varga\\Box\\Data\\nc Files\\MANCHI\\aux_orbits\\GFZ0MGXRAP_20252000000_01D_05M_ORB.SP3 file is read in 0.60 seconds\n",
      "This file does not exist: C:\\Users\\varga\\Box\\Data\\nc Files\\MANCHI\\aux_orbits\\GFZ0MGXRAP_20252010000_01D_05M_ORB.SP3\n",
      "Downloading: ftp://gssc.esa.int/gnss/products/2376//GFZ0MGXRAP_20252010000_01D_05M_ORB.SP3.gz"
     ]
    },
    {
     "name": "stderr",
     "output_type": "stream",
     "text": [
      "GFZ0MGXRAP_20252010000_01D_05M_ORB.SP3.gz: 1.05MB [00:03, 351kB/s]                             \n"
     ]
    },
    {
     "name": "stdout",
     "output_type": "stream",
     "text": [
      " | Download completed for ftp://gssc.esa.int/gnss/products/2376//GFZ0MGXRAP_20252010000_01D_05M_ORB.SP3.gz\n",
      "C:\\Users\\varga\\Box\\Data\\nc Files\\MANCHI\\aux_orbits\\GFZ0MGXRAP_20252010000_01D_05M_ORB.SP3 file is read in 3.90 seconds\n",
      "C:\\Users\\varga\\Box\\Data\\nc Files\\MANCHI\\aux_orbits\\GFZ0MGXRAP_20252000000_01D_30S_CLK.CLK exists | Reading...\n",
      "C:\\Users\\varga\\Box\\Data\\nc Files\\MANCHI\\aux_orbits\\GFZ0MGXRAP_20252000000_01D_30S_CLK.CLK file is read in 2.94 seconds\n",
      "This file does not exist: C:\\Users\\varga\\Box\\Data\\nc Files\\MANCHI\\aux_orbits\\GFZ0MGXRAP_20252010000_01D_30S_CLK.CLK\n",
      "Downloading: GFZ0MGXRAP_20252010000_01D_30S_CLK.CLK.gz"
     ]
    },
    {
     "name": "stderr",
     "output_type": "stream",
     "text": [
      "GFZ0MGXRAP_20252010000_01D_30S_CLK.CLK.gz: 4.88MB [00:05, 1.01MB/s]                            \n"
     ]
    },
    {
     "name": "stdout",
     "output_type": "stream",
     "text": [
      " | Download completed for GFZ0MGXRAP_20252010000_01D_30S_CLK.CLK.gz\n",
      "C:\\Users\\varga\\Box\\Data\\nc Files\\MANCHI\\aux_orbits\\GFZ0MGXRAP_20252010000_01D_30S_CLK.CLK file is read in 2.07 seconds\n",
      "SP3 interpolation is done in 2.57 seconds\n",
      "Saved 89717 individual observations in C:\\Users\\varga\\Box\\Data\\nc Files\\MANCHI\\processed\\MANCHI_raw_20250719142203.nc\n",
      "[OK] MANCHI_raw_20250719142203.25O\n",
      "Could not find any files matching the pattern C:\\Users\\varga\\Box\\Data\\nc Files\\MANCHI\\processed*.nc\n",
      "C:\\Users\\varga\\Box\\Data\\nc Files\\MANCHI\\MANCHI_raw_20250720142204.25O exists | Reading...\n",
      "Observation file  C:\\Users\\varga\\Box\\Data\\nc Files\\MANCHI\\MANCHI_raw_20250720142204.25O  is read in 2.44 seconds.\n",
      "Processing 88122 individual observations\n",
      "Calculating Azimuth and Elevation\n",
      "C:\\Users\\varga\\Box\\Data\\nc Files\\MANCHI\\aux_orbits\\GFZ0MGXRAP_20252010000_01D_05M_ORB.SP3 exists | Reading...\n",
      "C:\\Users\\varga\\Box\\Data\\nc Files\\MANCHI\\aux_orbits\\GFZ0MGXRAP_20252010000_01D_05M_ORB.SP3 file is read in 0.74 seconds\n",
      "This file does not exist: C:\\Users\\varga\\Box\\Data\\nc Files\\MANCHI\\aux_orbits\\GFZ0MGXRAP_20252020000_01D_05M_ORB.SP3\n",
      "Downloading: ftp://gssc.esa.int/gnss/products/2376//GFZ0MGXRAP_20252020000_01D_05M_ORB.SP3.gz"
     ]
    },
    {
     "name": "stderr",
     "output_type": "stream",
     "text": [
      "GFZ0MGXRAP_20252020000_01D_05M_ORB.SP3.gz: 1.05MB [00:05, 217kB/s]                             \n"
     ]
    },
    {
     "name": "stdout",
     "output_type": "stream",
     "text": [
      " | Download completed for ftp://gssc.esa.int/gnss/products/2376//GFZ0MGXRAP_20252020000_01D_05M_ORB.SP3.gz\n",
      "C:\\Users\\varga\\Box\\Data\\nc Files\\MANCHI\\aux_orbits\\GFZ0MGXRAP_20252020000_01D_05M_ORB.SP3 file is read in 5.86 seconds\n",
      "C:\\Users\\varga\\Box\\Data\\nc Files\\MANCHI\\aux_orbits\\GFZ0MGXRAP_20252010000_01D_30S_CLK.CLK exists | Reading...\n",
      "C:\\Users\\varga\\Box\\Data\\nc Files\\MANCHI\\aux_orbits\\GFZ0MGXRAP_20252010000_01D_30S_CLK.CLK file is read in 3.18 seconds\n",
      "This file does not exist: C:\\Users\\varga\\Box\\Data\\nc Files\\MANCHI\\aux_orbits\\GFZ0MGXRAP_20252020000_01D_30S_CLK.CLK\n",
      "Downloading: GFZ0MGXRAP_20252020000_01D_30S_CLK.CLK.gz"
     ]
    },
    {
     "name": "stderr",
     "output_type": "stream",
     "text": [
      "GFZ0MGXRAP_20252020000_01D_30S_CLK.CLK.gz: 4.84MB [00:03, 1.32MB/s]                            \n"
     ]
    },
    {
     "name": "stdout",
     "output_type": "stream",
     "text": [
      " | Download completed for GFZ0MGXRAP_20252020000_01D_30S_CLK.CLK.gz\n",
      "C:\\Users\\varga\\Box\\Data\\nc Files\\MANCHI\\aux_orbits\\GFZ0MGXRAP_20252020000_01D_30S_CLK.CLK file is read in 2.87 seconds\n",
      "SP3 interpolation is done in 2.93 seconds\n",
      "Saved 88122 individual observations in C:\\Users\\varga\\Box\\Data\\nc Files\\MANCHI\\processed\\MANCHI_raw_20250720142204.nc\n",
      "[OK] MANCHI_raw_20250720142204.25O\n",
      "Could not find any files matching the pattern C:\\Users\\varga\\Box\\Data\\nc Files\\MANCHI\\processed*.nc\n",
      "C:\\Users\\varga\\Box\\Data\\nc Files\\MANCHI\\MANCHI_raw_20250721142205.25O exists | Reading...\n",
      "Observation file  C:\\Users\\varga\\Box\\Data\\nc Files\\MANCHI\\MANCHI_raw_20250721142205.25O  is read in 3.04 seconds.\n",
      "Processing 89483 individual observations\n",
      "Calculating Azimuth and Elevation\n",
      "C:\\Users\\varga\\Box\\Data\\nc Files\\MANCHI\\aux_orbits\\GFZ0MGXRAP_20252020000_01D_05M_ORB.SP3 exists | Reading...\n",
      "C:\\Users\\varga\\Box\\Data\\nc Files\\MANCHI\\aux_orbits\\GFZ0MGXRAP_20252020000_01D_05M_ORB.SP3 file is read in 0.63 seconds\n",
      "This file does not exist: C:\\Users\\varga\\Box\\Data\\nc Files\\MANCHI\\aux_orbits\\GFZ0MGXRAP_20252030000_01D_05M_ORB.SP3\n",
      "Downloading: ftp://gssc.esa.int/gnss/products/2376//GFZ0MGXRAP_20252030000_01D_05M_ORB.SP3.gz"
     ]
    },
    {
     "name": "stderr",
     "output_type": "stream",
     "text": [
      "GFZ0MGXRAP_20252030000_01D_05M_ORB.SP3.gz: 1.04MB [00:03, 287kB/s]                             \n"
     ]
    },
    {
     "name": "stdout",
     "output_type": "stream",
     "text": [
      " | Download completed for ftp://gssc.esa.int/gnss/products/2376//GFZ0MGXRAP_20252030000_01D_05M_ORB.SP3.gz\n",
      "C:\\Users\\varga\\Box\\Data\\nc Files\\MANCHI\\aux_orbits\\GFZ0MGXRAP_20252030000_01D_05M_ORB.SP3 file is read in 4.34 seconds\n",
      "C:\\Users\\varga\\Box\\Data\\nc Files\\MANCHI\\aux_orbits\\GFZ0MGXRAP_20252020000_01D_30S_CLK.CLK exists | Reading...\n",
      "C:\\Users\\varga\\Box\\Data\\nc Files\\MANCHI\\aux_orbits\\GFZ0MGXRAP_20252020000_01D_30S_CLK.CLK file is read in 3.73 seconds\n",
      "This file does not exist: C:\\Users\\varga\\Box\\Data\\nc Files\\MANCHI\\aux_orbits\\GFZ0MGXRAP_20252030000_01D_30S_CLK.CLK\n",
      "Downloading: GFZ0MGXRAP_20252030000_01D_30S_CLK.CLK.gz"
     ]
    },
    {
     "name": "stderr",
     "output_type": "stream",
     "text": [
      "GFZ0MGXRAP_20252030000_01D_30S_CLK.CLK.gz: 4.79MB [00:03, 1.35MB/s]                            \n"
     ]
    },
    {
     "name": "stdout",
     "output_type": "stream",
     "text": [
      " | Download completed for GFZ0MGXRAP_20252030000_01D_30S_CLK.CLK.gz\n",
      "C:\\Users\\varga\\Box\\Data\\nc Files\\MANCHI\\aux_orbits\\GFZ0MGXRAP_20252030000_01D_30S_CLK.CLK file is read in 4.70 seconds\n",
      "SP3 interpolation is done in 2.76 seconds\n",
      "Saved 89483 individual observations in C:\\Users\\varga\\Box\\Data\\nc Files\\MANCHI\\processed\\MANCHI_raw_20250721142205.nc\n",
      "[OK] MANCHI_raw_20250721142205.25O\n",
      "Could not find any files matching the pattern C:\\Users\\varga\\Box\\Data\\nc Files\\MANCHI\\processed*.nc\n",
      "C:\\Users\\varga\\Box\\Data\\nc Files\\MANCHI\\MANCHI_raw_20250722142205.25O exists | Reading...\n",
      "Observation file  C:\\Users\\varga\\Box\\Data\\nc Files\\MANCHI\\MANCHI_raw_20250722142205.25O  is read in 1.88 seconds.\n",
      "Processing 90262 individual observations\n",
      "Calculating Azimuth and Elevation\n",
      "C:\\Users\\varga\\Box\\Data\\nc Files\\MANCHI\\aux_orbits\\GFZ0MGXRAP_20252030000_01D_05M_ORB.SP3 exists | Reading...\n",
      "C:\\Users\\varga\\Box\\Data\\nc Files\\MANCHI\\aux_orbits\\GFZ0MGXRAP_20252030000_01D_05M_ORB.SP3 file is read in 0.70 seconds\n",
      "This file does not exist: C:\\Users\\varga\\Box\\Data\\nc Files\\MANCHI\\aux_orbits\\GFZ0MGXRAP_20252040000_01D_05M_ORB.SP3\n",
      "Downloading: ftp://gssc.esa.int/gnss/products/2376//GFZ0MGXRAP_20252040000_01D_05M_ORB.SP3.gz"
     ]
    },
    {
     "name": "stderr",
     "output_type": "stream",
     "text": [
      "GFZ0MGXRAP_20252040000_01D_05M_ORB.SP3.gz: 1.05MB [00:03, 326kB/s]                             \n"
     ]
    },
    {
     "name": "stdout",
     "output_type": "stream",
     "text": [
      " | Download completed for ftp://gssc.esa.int/gnss/products/2376//GFZ0MGXRAP_20252040000_01D_05M_ORB.SP3.gz\n",
      "C:\\Users\\varga\\Box\\Data\\nc Files\\MANCHI\\aux_orbits\\GFZ0MGXRAP_20252040000_01D_05M_ORB.SP3 file is read in 4.22 seconds\n",
      "C:\\Users\\varga\\Box\\Data\\nc Files\\MANCHI\\aux_orbits\\GFZ0MGXRAP_20252030000_01D_30S_CLK.CLK exists | Reading...\n",
      "C:\\Users\\varga\\Box\\Data\\nc Files\\MANCHI\\aux_orbits\\GFZ0MGXRAP_20252030000_01D_30S_CLK.CLK file is read in 3.21 seconds\n",
      "This file does not exist: C:\\Users\\varga\\Box\\Data\\nc Files\\MANCHI\\aux_orbits\\GFZ0MGXRAP_20252040000_01D_30S_CLK.CLK\n",
      "Downloading: GFZ0MGXRAP_20252040000_01D_30S_CLK.CLK.gz"
     ]
    },
    {
     "name": "stderr",
     "output_type": "stream",
     "text": [
      "GFZ0MGXRAP_20252040000_01D_30S_CLK.CLK.gz: 4.83MB [00:04, 1.25MB/s]                            \n"
     ]
    },
    {
     "name": "stdout",
     "output_type": "stream",
     "text": [
      " | Download completed for GFZ0MGXRAP_20252040000_01D_30S_CLK.CLK.gz\n",
      "C:\\Users\\varga\\Box\\Data\\nc Files\\MANCHI\\aux_orbits\\GFZ0MGXRAP_20252040000_01D_30S_CLK.CLK file is read in 3.01 seconds\n",
      "SP3 interpolation is done in 5.21 seconds\n",
      "Saved 90262 individual observations in C:\\Users\\varga\\Box\\Data\\nc Files\\MANCHI\\processed\\MANCHI_raw_20250722142205.nc\n",
      "[OK] MANCHI_raw_20250722142205.25O\n",
      "Could not find any files matching the pattern C:\\Users\\varga\\Box\\Data\\nc Files\\MANCHI\\processed*.nc\n",
      "C:\\Users\\varga\\Box\\Data\\nc Files\\MANCHI\\MANCHI_raw_20250723142206.25O exists | Reading...\n",
      "Observation file  C:\\Users\\varga\\Box\\Data\\nc Files\\MANCHI\\MANCHI_raw_20250723142206.25O  is read in 2.90 seconds.\n",
      "Processing 87723 individual observations\n",
      "Calculating Azimuth and Elevation\n",
      "C:\\Users\\varga\\Box\\Data\\nc Files\\MANCHI\\aux_orbits\\GFZ0MGXRAP_20252040000_01D_05M_ORB.SP3 exists | Reading...\n",
      "C:\\Users\\varga\\Box\\Data\\nc Files\\MANCHI\\aux_orbits\\GFZ0MGXRAP_20252040000_01D_05M_ORB.SP3 file is read in 0.66 seconds\n",
      "This file does not exist: C:\\Users\\varga\\Box\\Data\\nc Files\\MANCHI\\aux_orbits\\GFZ0MGXRAP_20252050000_01D_05M_ORB.SP3\n",
      "Downloading: ftp://gssc.esa.int/gnss/products/2376//GFZ0MGXRAP_20252050000_01D_05M_ORB.SP3.gz"
     ]
    },
    {
     "name": "stderr",
     "output_type": "stream",
     "text": [
      "GFZ0MGXRAP_20252050000_01D_05M_ORB.SP3.gz: 1.05MB [00:03, 342kB/s]                             \n"
     ]
    },
    {
     "name": "stdout",
     "output_type": "stream",
     "text": [
      " | Download completed for ftp://gssc.esa.int/gnss/products/2376//GFZ0MGXRAP_20252050000_01D_05M_ORB.SP3.gz\n",
      "C:\\Users\\varga\\Box\\Data\\nc Files\\MANCHI\\aux_orbits\\GFZ0MGXRAP_20252050000_01D_05M_ORB.SP3 file is read in 3.74 seconds\n",
      "C:\\Users\\varga\\Box\\Data\\nc Files\\MANCHI\\aux_orbits\\GFZ0MGXRAP_20252040000_01D_30S_CLK.CLK exists | Reading...\n",
      "C:\\Users\\varga\\Box\\Data\\nc Files\\MANCHI\\aux_orbits\\GFZ0MGXRAP_20252040000_01D_30S_CLK.CLK file is read in 2.94 seconds\n",
      "This file does not exist: C:\\Users\\varga\\Box\\Data\\nc Files\\MANCHI\\aux_orbits\\GFZ0MGXRAP_20252050000_01D_30S_CLK.CLK\n",
      "Downloading: GFZ0MGXRAP_20252050000_01D_30S_CLK.CLK.gz"
     ]
    },
    {
     "name": "stderr",
     "output_type": "stream",
     "text": [
      "GFZ0MGXRAP_20252050000_01D_30S_CLK.CLK.gz: 4.84MB [00:03, 1.36MB/s]                            \n"
     ]
    },
    {
     "name": "stdout",
     "output_type": "stream",
     "text": [
      " | Download completed for GFZ0MGXRAP_20252050000_01D_30S_CLK.CLK.gz\n",
      "C:\\Users\\varga\\Box\\Data\\nc Files\\MANCHI\\aux_orbits\\GFZ0MGXRAP_20252050000_01D_30S_CLK.CLK file is read in 4.12 seconds\n",
      "SP3 interpolation is done in 2.60 seconds\n",
      "Saved 87723 individual observations in C:\\Users\\varga\\Box\\Data\\nc Files\\MANCHI\\processed\\MANCHI_raw_20250723142206.nc\n",
      "[OK] MANCHI_raw_20250723142206.25O\n",
      "Could not find any files matching the pattern C:\\Users\\varga\\Box\\Data\\nc Files\\MANCHI\\processed*.nc\n",
      "C:\\Users\\varga\\Box\\Data\\nc Files\\MANCHI\\MANCHI_raw_20250724142207.25O exists | Reading...\n",
      "Observation file  C:\\Users\\varga\\Box\\Data\\nc Files\\MANCHI\\MANCHI_raw_20250724142207.25O  is read in 1.02 seconds.\n",
      "Processing 28268 individual observations\n",
      "Calculating Azimuth and Elevation\n",
      "C:\\Users\\varga\\Box\\Data\\nc Files\\MANCHI\\aux_orbits\\GFZ0MGXRAP_20252050000_01D_05M_ORB.SP3 exists | Reading...\n",
      "C:\\Users\\varga\\Box\\Data\\nc Files\\MANCHI\\aux_orbits\\GFZ0MGXRAP_20252050000_01D_05M_ORB.SP3 file is read in 0.70 seconds\n",
      "C:\\Users\\varga\\Box\\Data\\nc Files\\MANCHI\\aux_orbits\\GFZ0MGXRAP_20252050000_01D_30S_CLK.CLK exists | Reading...\n",
      "C:\\Users\\varga\\Box\\Data\\nc Files\\MANCHI\\aux_orbits\\GFZ0MGXRAP_20252050000_01D_30S_CLK.CLK file is read in 3.09 seconds\n",
      "SP3 interpolation is done in 2.05 seconds\n",
      "Saved 28268 individual observations in C:\\Users\\varga\\Box\\Data\\nc Files\\MANCHI\\processed\\MANCHI_raw_20250724142207.nc\n",
      "[OK] MANCHI_raw_20250724142207.25O\n",
      "Could not find any files matching the pattern C:\\Users\\varga\\Box\\Data\\nc Files\\MANCHI\\processed*.nc\n",
      "C:\\Users\\varga\\Box\\Data\\nc Files\\MANCHI\\MANCHI_raw_20250801212325.25O exists | Reading...\n",
      "Observation file  C:\\Users\\varga\\Box\\Data\\nc Files\\MANCHI\\MANCHI_raw_20250801212325.25O  is read in 0.02 seconds.\n",
      "Processing 962 individual observations\n",
      "Calculating Azimuth and Elevation\n",
      "This file does not exist: C:\\Users\\varga\\Box\\Data\\nc Files\\MANCHI\\aux_orbits\\GFZ0MGXRAP_20252130000_01D_05M_ORB.SP3\n",
      "Downloading: ftp://gssc.esa.int/gnss/products/2377//GFZ0MGXRAP_20252130000_01D_05M_ORB.SP3.gz"
     ]
    },
    {
     "name": "stderr",
     "output_type": "stream",
     "text": [
      "GFZ0MGXRAP_20252130000_01D_05M_ORB.SP3.gz: 1.05MB [00:05, 199kB/s]                             \n"
     ]
    },
    {
     "name": "stdout",
     "output_type": "stream",
     "text": [
      " | Download completed for ftp://gssc.esa.int/gnss/products/2377//GFZ0MGXRAP_20252130000_01D_05M_ORB.SP3.gz\n",
      "C:\\Users\\varga\\Box\\Data\\nc Files\\MANCHI\\aux_orbits\\GFZ0MGXRAP_20252130000_01D_05M_ORB.SP3 file is read in 6.11 seconds\n",
      "This file does not exist: C:\\Users\\varga\\Box\\Data\\nc Files\\MANCHI\\aux_orbits\\GFZ0MGXRAP_20252130000_01D_30S_CLK.CLK\n",
      "Downloading: GFZ0MGXRAP_20252130000_01D_30S_CLK.CLK.gz"
     ]
    },
    {
     "name": "stderr",
     "output_type": "stream",
     "text": [
      "GFZ0MGXRAP_20252130000_01D_30S_CLK.CLK.gz: 4.84MB [00:17, 298kB/s]                             \n"
     ]
    },
    {
     "name": "stdout",
     "output_type": "stream",
     "text": [
      " | Download completed for GFZ0MGXRAP_20252130000_01D_30S_CLK.CLK.gz\n",
      "C:\\Users\\varga\\Box\\Data\\nc Files\\MANCHI\\aux_orbits\\GFZ0MGXRAP_20252130000_01D_30S_CLK.CLK file is read in 2.00 seconds\n",
      "SP3 interpolation is done in 1.20 seconds\n",
      "Saved 962 individual observations in C:\\Users\\varga\\Box\\Data\\nc Files\\MANCHI\\processed\\MANCHI_raw_20250801212325.nc\n",
      "[OK] MANCHI_raw_20250801212325.25O\n",
      "Could not find any files matching the pattern C:\\Users\\varga\\Box\\Data\\nc Files\\MANCHI\\processed*.nc\n",
      "C:\\Users\\varga\\Box\\Data\\nc Files\\MANCHI\\MANCHI_raw_20250804133346.25O exists | Reading...\n",
      "Observation file  C:\\Users\\varga\\Box\\Data\\nc Files\\MANCHI\\MANCHI_raw_20250804133346.25O  is read in 1.88 seconds.\n",
      "Processing 89645 individual observations\n",
      "Calculating Azimuth and Elevation\n",
      "This file does not exist: C:\\Users\\varga\\Box\\Data\\nc Files\\MANCHI\\aux_orbits\\GFZ0MGXRAP_20252160000_01D_05M_ORB.SP3\n",
      "Downloading: ftp://gssc.esa.int/gnss/products/2378//GFZ0MGXRAP_20252160000_01D_05M_ORB.SP3.gz"
     ]
    },
    {
     "name": "stderr",
     "output_type": "stream",
     "text": [
      "GFZ0MGXRAP_20252160000_01D_05M_ORB.SP3.gz: 1.04MB [00:03, 309kB/s]                             \n"
     ]
    },
    {
     "name": "stdout",
     "output_type": "stream",
     "text": [
      " | Download completed for ftp://gssc.esa.int/gnss/products/2378//GFZ0MGXRAP_20252160000_01D_05M_ORB.SP3.gz\n",
      "C:\\Users\\varga\\Box\\Data\\nc Files\\MANCHI\\aux_orbits\\GFZ0MGXRAP_20252160000_01D_05M_ORB.SP3 file is read in 4.10 seconds\n",
      "This file does not exist: C:\\Users\\varga\\Box\\Data\\nc Files\\MANCHI\\aux_orbits\\GFZ0MGXRAP_20252170000_01D_05M_ORB.SP3\n",
      "Downloading: ftp://gssc.esa.int/gnss/products/2378//GFZ0MGXRAP_20252170000_01D_05M_ORB.SP3.gz"
     ]
    },
    {
     "name": "stderr",
     "output_type": "stream",
     "text": [
      "GFZ0MGXRAP_20252170000_01D_05M_ORB.SP3.gz: 1.03MB [00:03, 324kB/s]                             \n"
     ]
    },
    {
     "name": "stdout",
     "output_type": "stream",
     "text": [
      " | Download completed for ftp://gssc.esa.int/gnss/products/2378//GFZ0MGXRAP_20252170000_01D_05M_ORB.SP3.gz\n",
      "C:\\Users\\varga\\Box\\Data\\nc Files\\MANCHI\\aux_orbits\\GFZ0MGXRAP_20252170000_01D_05M_ORB.SP3 file is read in 3.81 seconds\n",
      "This file does not exist: C:\\Users\\varga\\Box\\Data\\nc Files\\MANCHI\\aux_orbits\\GFZ0MGXRAP_20252160000_01D_30S_CLK.CLK\n",
      "Downloading: GFZ0MGXRAP_20252160000_01D_30S_CLK.CLK.gz"
     ]
    },
    {
     "name": "stderr",
     "output_type": "stream",
     "text": [
      "GFZ0MGXRAP_20252160000_01D_30S_CLK.CLK.gz: 4.82MB [00:18, 277kB/s]                             \n"
     ]
    },
    {
     "name": "stdout",
     "output_type": "stream",
     "text": [
      " | Download completed for GFZ0MGXRAP_20252160000_01D_30S_CLK.CLK.gz\n",
      "C:\\Users\\varga\\Box\\Data\\nc Files\\MANCHI\\aux_orbits\\GFZ0MGXRAP_20252160000_01D_30S_CLK.CLK file is read in 2.02 seconds\n",
      "This file does not exist: C:\\Users\\varga\\Box\\Data\\nc Files\\MANCHI\\aux_orbits\\GFZ0MGXRAP_20252170000_01D_30S_CLK.CLK\n",
      "Downloading: GFZ0MGXRAP_20252170000_01D_30S_CLK.CLK.gz"
     ]
    },
    {
     "name": "stderr",
     "output_type": "stream",
     "text": [
      "GFZ0MGXRAP_20252170000_01D_30S_CLK.CLK.gz: 4.81MB [00:03, 1.31MB/s]                            \n"
     ]
    },
    {
     "name": "stdout",
     "output_type": "stream",
     "text": [
      " | Download completed for GFZ0MGXRAP_20252170000_01D_30S_CLK.CLK.gz\n",
      "C:\\Users\\varga\\Box\\Data\\nc Files\\MANCHI\\aux_orbits\\GFZ0MGXRAP_20252170000_01D_30S_CLK.CLK file is read in 1.97 seconds\n",
      "SP3 interpolation is done in 2.50 seconds\n",
      "Saved 89645 individual observations in C:\\Users\\varga\\Box\\Data\\nc Files\\MANCHI\\processed\\MANCHI_raw_20250804133346.nc\n",
      "[OK] MANCHI_raw_20250804133346.25O\n",
      "Could not find any files matching the pattern C:\\Users\\varga\\Box\\Data\\nc Files\\MANCHI\\processed*.nc\n",
      "C:\\Users\\varga\\Box\\Data\\nc Files\\MANCHI\\MANCHI_raw_20250805133347.25O exists | Reading...\n",
      "Observation file  C:\\Users\\varga\\Box\\Data\\nc Files\\MANCHI\\MANCHI_raw_20250805133347.25O  is read in 2.19 seconds.\n",
      "Processing 88120 individual observations\n",
      "Calculating Azimuth and Elevation\n",
      "C:\\Users\\varga\\Box\\Data\\nc Files\\MANCHI\\aux_orbits\\GFZ0MGXRAP_20252170000_01D_05M_ORB.SP3 exists | Reading...\n",
      "C:\\Users\\varga\\Box\\Data\\nc Files\\MANCHI\\aux_orbits\\GFZ0MGXRAP_20252170000_01D_05M_ORB.SP3 file is read in 0.61 seconds\n",
      "This file does not exist: C:\\Users\\varga\\Box\\Data\\nc Files\\MANCHI\\aux_orbits\\GFZ0MGXRAP_20252180000_01D_05M_ORB.SP3\n",
      "Downloading: ftp://gssc.esa.int/gnss/products/2378//GFZ0MGXRAP_20252180000_01D_05M_ORB.SP3.gz"
     ]
    },
    {
     "name": "stderr",
     "output_type": "stream",
     "text": [
      "GFZ0MGXRAP_20252180000_01D_05M_ORB.SP3.gz: 1.04MB [00:04, 272kB/s]                             \n"
     ]
    },
    {
     "name": "stdout",
     "output_type": "stream",
     "text": [
      " | Download completed for ftp://gssc.esa.int/gnss/products/2378//GFZ0MGXRAP_20252180000_01D_05M_ORB.SP3.gz\n",
      "C:\\Users\\varga\\Box\\Data\\nc Files\\MANCHI\\aux_orbits\\GFZ0MGXRAP_20252180000_01D_05M_ORB.SP3 file is read in 4.59 seconds\n",
      "C:\\Users\\varga\\Box\\Data\\nc Files\\MANCHI\\aux_orbits\\GFZ0MGXRAP_20252170000_01D_30S_CLK.CLK exists | Reading...\n",
      "C:\\Users\\varga\\Box\\Data\\nc Files\\MANCHI\\aux_orbits\\GFZ0MGXRAP_20252170000_01D_30S_CLK.CLK file is read in 1.91 seconds\n",
      "This file does not exist: C:\\Users\\varga\\Box\\Data\\nc Files\\MANCHI\\aux_orbits\\GFZ0MGXRAP_20252180000_01D_30S_CLK.CLK\n",
      "Downloading: GFZ0MGXRAP_20252180000_01D_30S_CLK.CLK.gz"
     ]
    },
    {
     "name": "stderr",
     "output_type": "stream",
     "text": [
      "GFZ0MGXRAP_20252180000_01D_30S_CLK.CLK.gz: 4.80MB [00:03, 1.37MB/s]                            \n"
     ]
    },
    {
     "name": "stdout",
     "output_type": "stream",
     "text": [
      " | Download completed for GFZ0MGXRAP_20252180000_01D_30S_CLK.CLK.gz\n",
      "C:\\Users\\varga\\Box\\Data\\nc Files\\MANCHI\\aux_orbits\\GFZ0MGXRAP_20252180000_01D_30S_CLK.CLK file is read in 2.05 seconds\n",
      "SP3 interpolation is done in 2.49 seconds\n",
      "Saved 88120 individual observations in C:\\Users\\varga\\Box\\Data\\nc Files\\MANCHI\\processed\\MANCHI_raw_20250805133347.nc\n",
      "[OK] MANCHI_raw_20250805133347.25O\n",
      "Could not find any files matching the pattern C:\\Users\\varga\\Box\\Data\\nc Files\\MANCHI\\processed*.nc\n",
      "C:\\Users\\varga\\Box\\Data\\nc Files\\MANCHI\\MANCHI_raw_20250806133348.25O exists | Reading...\n",
      "Observation file  C:\\Users\\varga\\Box\\Data\\nc Files\\MANCHI\\MANCHI_raw_20250806133348.25O  is read in 3.14 seconds.\n",
      "Processing 88681 individual observations\n",
      "Calculating Azimuth and Elevation\n",
      "C:\\Users\\varga\\Box\\Data\\nc Files\\MANCHI\\aux_orbits\\GFZ0MGXRAP_20252180000_01D_05M_ORB.SP3 exists | Reading...\n",
      "C:\\Users\\varga\\Box\\Data\\nc Files\\MANCHI\\aux_orbits\\GFZ0MGXRAP_20252180000_01D_05M_ORB.SP3 file is read in 0.69 seconds\n",
      "This file does not exist: C:\\Users\\varga\\Box\\Data\\nc Files\\MANCHI\\aux_orbits\\GFZ0MGXRAP_20252190000_01D_05M_ORB.SP3\n",
      "Downloading: ftp://gssc.esa.int/gnss/products/2378//GFZ0MGXRAP_20252190000_01D_05M_ORB.SP3.gz"
     ]
    },
    {
     "name": "stderr",
     "output_type": "stream",
     "text": [
      "GFZ0MGXRAP_20252190000_01D_05M_ORB.SP3.gz: 1.02MB [00:03, 314kB/s]                             \n"
     ]
    },
    {
     "name": "stdout",
     "output_type": "stream",
     "text": [
      " | Download completed for ftp://gssc.esa.int/gnss/products/2378//GFZ0MGXRAP_20252190000_01D_05M_ORB.SP3.gz\n",
      "C:\\Users\\varga\\Box\\Data\\nc Files\\MANCHI\\aux_orbits\\GFZ0MGXRAP_20252190000_01D_05M_ORB.SP3 file is read in 4.09 seconds\n",
      "C:\\Users\\varga\\Box\\Data\\nc Files\\MANCHI\\aux_orbits\\GFZ0MGXRAP_20252180000_01D_30S_CLK.CLK exists | Reading...\n",
      "C:\\Users\\varga\\Box\\Data\\nc Files\\MANCHI\\aux_orbits\\GFZ0MGXRAP_20252180000_01D_30S_CLK.CLK file is read in 3.03 seconds\n",
      "This file does not exist: C:\\Users\\varga\\Box\\Data\\nc Files\\MANCHI\\aux_orbits\\GFZ0MGXRAP_20252190000_01D_30S_CLK.CLK\n",
      "Downloading: GFZ0MGXRAP_20252190000_01D_30S_CLK.CLK.gz"
     ]
    },
    {
     "name": "stderr",
     "output_type": "stream",
     "text": [
      "GFZ0MGXRAP_20252190000_01D_30S_CLK.CLK.gz: 4.75MB [00:13, 379kB/s]                             \n"
     ]
    },
    {
     "name": "stdout",
     "output_type": "stream",
     "text": [
      " | Download completed for GFZ0MGXRAP_20252190000_01D_30S_CLK.CLK.gz\n",
      "C:\\Users\\varga\\Box\\Data\\nc Files\\MANCHI\\aux_orbits\\GFZ0MGXRAP_20252190000_01D_30S_CLK.CLK file is read in 1.84 seconds\n",
      "SP3 interpolation is done in 2.47 seconds\n",
      "Saved 88681 individual observations in C:\\Users\\varga\\Box\\Data\\nc Files\\MANCHI\\processed\\MANCHI_raw_20250806133348.nc\n",
      "[OK] MANCHI_raw_20250806133348.25O\n",
      "Could not find any files matching the pattern C:\\Users\\varga\\Box\\Data\\nc Files\\MANCHI\\processed*.nc\n",
      "C:\\Users\\varga\\Box\\Data\\nc Files\\MANCHI\\MANCHI_raw_20250807133349.25O exists | Reading...\n",
      "Observation file  C:\\Users\\varga\\Box\\Data\\nc Files\\MANCHI\\MANCHI_raw_20250807133349.25O  is read in 2.23 seconds.\n",
      "Processing 89979 individual observations\n",
      "Calculating Azimuth and Elevation\n",
      "C:\\Users\\varga\\Box\\Data\\nc Files\\MANCHI\\aux_orbits\\GFZ0MGXRAP_20252190000_01D_05M_ORB.SP3 exists | Reading...\n",
      "C:\\Users\\varga\\Box\\Data\\nc Files\\MANCHI\\aux_orbits\\GFZ0MGXRAP_20252190000_01D_05M_ORB.SP3 file is read in 0.65 seconds\n",
      "This file does not exist: C:\\Users\\varga\\Box\\Data\\nc Files\\MANCHI\\aux_orbits\\GFZ0MGXRAP_20252200000_01D_05M_ORB.SP3\n",
      "Downloading: ftp://gssc.esa.int/gnss/products/2378//GFZ0MGXRAP_20252200000_01D_05M_ORB.SP3.gz"
     ]
    },
    {
     "name": "stderr",
     "output_type": "stream",
     "text": [
      "GFZ0MGXRAP_20252200000_01D_05M_ORB.SP3.gz: 1.02MB [00:03, 324kB/s]                             \n"
     ]
    },
    {
     "name": "stdout",
     "output_type": "stream",
     "text": [
      " | Download completed for ftp://gssc.esa.int/gnss/products/2378//GFZ0MGXRAP_20252200000_01D_05M_ORB.SP3.gz\n",
      "C:\\Users\\varga\\Box\\Data\\nc Files\\MANCHI\\aux_orbits\\GFZ0MGXRAP_20252200000_01D_05M_ORB.SP3 file is read in 4.03 seconds\n",
      "C:\\Users\\varga\\Box\\Data\\nc Files\\MANCHI\\aux_orbits\\GFZ0MGXRAP_20252190000_01D_30S_CLK.CLK exists | Reading...\n",
      "C:\\Users\\varga\\Box\\Data\\nc Files\\MANCHI\\aux_orbits\\GFZ0MGXRAP_20252190000_01D_30S_CLK.CLK file is read in 3.09 seconds\n",
      "This file does not exist: C:\\Users\\varga\\Box\\Data\\nc Files\\MANCHI\\aux_orbits\\GFZ0MGXRAP_20252200000_01D_30S_CLK.CLK\n",
      "Downloading: GFZ0MGXRAP_20252200000_01D_30S_CLK.CLK.gz"
     ]
    },
    {
     "name": "stderr",
     "output_type": "stream",
     "text": [
      "GFZ0MGXRAP_20252200000_01D_30S_CLK.CLK.gz: 4.74MB [00:03, 1.31MB/s]                            \n"
     ]
    },
    {
     "name": "stdout",
     "output_type": "stream",
     "text": [
      " | Download completed for GFZ0MGXRAP_20252200000_01D_30S_CLK.CLK.gz\n",
      "C:\\Users\\varga\\Box\\Data\\nc Files\\MANCHI\\aux_orbits\\GFZ0MGXRAP_20252200000_01D_30S_CLK.CLK file is read in 1.94 seconds\n",
      "SP3 interpolation is done in 3.31 seconds\n",
      "Saved 89979 individual observations in C:\\Users\\varga\\Box\\Data\\nc Files\\MANCHI\\processed\\MANCHI_raw_20250807133349.nc\n",
      "[OK] MANCHI_raw_20250807133349.25O\n",
      "Could not find any files matching the pattern C:\\Users\\varga\\Box\\Data\\nc Files\\MANCHI\\processed*.nc\n",
      "C:\\Users\\varga\\Box\\Data\\nc Files\\MANCHI\\MANCHI_raw_20250808133349.25O exists | Reading...\n",
      "Observation file  C:\\Users\\varga\\Box\\Data\\nc Files\\MANCHI\\MANCHI_raw_20250808133349.25O  is read in 2.26 seconds.\n",
      "Processing 89647 individual observations\n",
      "Calculating Azimuth and Elevation\n",
      "C:\\Users\\varga\\Box\\Data\\nc Files\\MANCHI\\aux_orbits\\GFZ0MGXRAP_20252200000_01D_05M_ORB.SP3 exists | Reading...\n",
      "C:\\Users\\varga\\Box\\Data\\nc Files\\MANCHI\\aux_orbits\\GFZ0MGXRAP_20252200000_01D_05M_ORB.SP3 file is read in 0.61 seconds\n",
      "This file does not exist: C:\\Users\\varga\\Box\\Data\\nc Files\\MANCHI\\aux_orbits\\GFZ0MGXRAP_20252210000_01D_05M_ORB.SP3\n",
      "Downloading: ftp://gssc.esa.int/gnss/products/2378//GFZ0MGXRAP_20252210000_01D_05M_ORB.SP3.gz"
     ]
    },
    {
     "name": "stderr",
     "output_type": "stream",
     "text": [
      "GFZ0MGXRAP_20252210000_01D_05M_ORB.SP3.gz: 1.03MB [00:03, 332kB/s]                             \n"
     ]
    },
    {
     "name": "stdout",
     "output_type": "stream",
     "text": [
      " | Download completed for ftp://gssc.esa.int/gnss/products/2378//GFZ0MGXRAP_20252210000_01D_05M_ORB.SP3.gz\n",
      "C:\\Users\\varga\\Box\\Data\\nc Files\\MANCHI\\aux_orbits\\GFZ0MGXRAP_20252210000_01D_05M_ORB.SP3 file is read in 3.99 seconds\n",
      "C:\\Users\\varga\\Box\\Data\\nc Files\\MANCHI\\aux_orbits\\GFZ0MGXRAP_20252200000_01D_30S_CLK.CLK exists | Reading...\n",
      "C:\\Users\\varga\\Box\\Data\\nc Files\\MANCHI\\aux_orbits\\GFZ0MGXRAP_20252200000_01D_30S_CLK.CLK file is read in 2.96 seconds\n",
      "This file does not exist: C:\\Users\\varga\\Box\\Data\\nc Files\\MANCHI\\aux_orbits\\GFZ0MGXRAP_20252210000_01D_30S_CLK.CLK\n",
      "Downloading: GFZ0MGXRAP_20252210000_01D_30S_CLK.CLK.gz"
     ]
    },
    {
     "name": "stderr",
     "output_type": "stream",
     "text": [
      "GFZ0MGXRAP_20252210000_01D_30S_CLK.CLK.gz: 4.73MB [00:04, 1.05MB/s]                            \n"
     ]
    },
    {
     "name": "stdout",
     "output_type": "stream",
     "text": [
      " | Download completed for GFZ0MGXRAP_20252210000_01D_30S_CLK.CLK.gz\n",
      "C:\\Users\\varga\\Box\\Data\\nc Files\\MANCHI\\aux_orbits\\GFZ0MGXRAP_20252210000_01D_30S_CLK.CLK file is read in 2.09 seconds\n",
      "SP3 interpolation is done in 2.53 seconds\n",
      "Saved 89647 individual observations in C:\\Users\\varga\\Box\\Data\\nc Files\\MANCHI\\processed\\MANCHI_raw_20250808133349.nc\n",
      "[OK] MANCHI_raw_20250808133349.25O\n",
      "Could not find any files matching the pattern C:\\Users\\varga\\Box\\Data\\nc Files\\MANCHI\\processed*.nc\n",
      "C:\\Users\\varga\\Box\\Data\\nc Files\\MANCHI\\MANCHI_raw_20250809133351.25O exists | Reading...\n",
      "Observation file  C:\\Users\\varga\\Box\\Data\\nc Files\\MANCHI\\MANCHI_raw_20250809133351.25O  is read in 2.31 seconds.\n",
      "Processing 86863 individual observations\n",
      "Calculating Azimuth and Elevation\n",
      "C:\\Users\\varga\\Box\\Data\\nc Files\\MANCHI\\aux_orbits\\GFZ0MGXRAP_20252210000_01D_05M_ORB.SP3 exists | Reading...\n",
      "C:\\Users\\varga\\Box\\Data\\nc Files\\MANCHI\\aux_orbits\\GFZ0MGXRAP_20252210000_01D_05M_ORB.SP3 file is read in 0.65 seconds\n",
      "This file does not exist: C:\\Users\\varga\\Box\\Data\\nc Files\\MANCHI\\aux_orbits\\GFZ0MGXRAP_20252220000_01D_05M_ORB.SP3\n",
      "Downloading: ftp://gssc.esa.int/gnss/products/2379//GFZ0MGXRAP_20252220000_01D_05M_ORB.SP3.gz"
     ]
    },
    {
     "name": "stderr",
     "output_type": "stream",
     "text": [
      "GFZ0MGXRAP_20252220000_01D_05M_ORB.SP3.gz: 1.04MB [00:03, 336kB/s]                             \n"
     ]
    },
    {
     "name": "stdout",
     "output_type": "stream",
     "text": [
      " | Download completed for ftp://gssc.esa.int/gnss/products/2379//GFZ0MGXRAP_20252220000_01D_05M_ORB.SP3.gz\n",
      "C:\\Users\\varga\\Box\\Data\\nc Files\\MANCHI\\aux_orbits\\GFZ0MGXRAP_20252220000_01D_05M_ORB.SP3 file is read in 4.06 seconds\n",
      "C:\\Users\\varga\\Box\\Data\\nc Files\\MANCHI\\aux_orbits\\GFZ0MGXRAP_20252210000_01D_30S_CLK.CLK exists | Reading...\n",
      "C:\\Users\\varga\\Box\\Data\\nc Files\\MANCHI\\aux_orbits\\GFZ0MGXRAP_20252210000_01D_30S_CLK.CLK file is read in 2.92 seconds\n",
      "This file does not exist: C:\\Users\\varga\\Box\\Data\\nc Files\\MANCHI\\aux_orbits\\GFZ0MGXRAP_20252220000_01D_30S_CLK.CLK\n",
      "Downloading: GFZ0MGXRAP_20252220000_01D_30S_CLK.CLK.gz"
     ]
    },
    {
     "name": "stderr",
     "output_type": "stream",
     "text": [
      "GFZ0MGXRAP_20252220000_01D_30S_CLK.CLK.gz: 4.80MB [00:03, 1.27MB/s]                            \n"
     ]
    },
    {
     "name": "stdout",
     "output_type": "stream",
     "text": [
      " | Download completed for GFZ0MGXRAP_20252220000_01D_30S_CLK.CLK.gz\n",
      "C:\\Users\\varga\\Box\\Data\\nc Files\\MANCHI\\aux_orbits\\GFZ0MGXRAP_20252220000_01D_30S_CLK.CLK file is read in 2.99 seconds\n",
      "SP3 interpolation is done in 4.07 seconds\n",
      "Saved 86863 individual observations in C:\\Users\\varga\\Box\\Data\\nc Files\\MANCHI\\processed\\MANCHI_raw_20250809133351.nc\n",
      "[OK] MANCHI_raw_20250809133351.25O\n",
      "Could not find any files matching the pattern C:\\Users\\varga\\Box\\Data\\nc Files\\MANCHI\\processed*.nc\n",
      "C:\\Users\\varga\\Box\\Data\\nc Files\\MANCHI\\MANCHI_raw_20250810133352.25O exists | Reading...\n",
      "Observation file  C:\\Users\\varga\\Box\\Data\\nc Files\\MANCHI\\MANCHI_raw_20250810133352.25O  is read in 2.04 seconds.\n",
      "Processing 89582 individual observations\n",
      "Calculating Azimuth and Elevation\n",
      "C:\\Users\\varga\\Box\\Data\\nc Files\\MANCHI\\aux_orbits\\GFZ0MGXRAP_20252220000_01D_05M_ORB.SP3 exists | Reading...\n",
      "C:\\Users\\varga\\Box\\Data\\nc Files\\MANCHI\\aux_orbits\\GFZ0MGXRAP_20252220000_01D_05M_ORB.SP3 file is read in 0.37 seconds\n",
      "This file does not exist: C:\\Users\\varga\\Box\\Data\\nc Files\\MANCHI\\aux_orbits\\GFZ0MGXRAP_20252230000_01D_05M_ORB.SP3\n",
      "Downloading: ftp://gssc.esa.int/gnss/products/2379//GFZ0MGXRAP_20252230000_01D_05M_ORB.SP3.gz"
     ]
    },
    {
     "name": "stderr",
     "output_type": "stream",
     "text": [
      "GFZ0MGXRAP_20252230000_01D_05M_ORB.SP3.gz: 1.03MB [00:03, 340kB/s]                             \n"
     ]
    },
    {
     "name": "stdout",
     "output_type": "stream",
     "text": [
      " | Download completed for ftp://gssc.esa.int/gnss/products/2379//GFZ0MGXRAP_20252230000_01D_05M_ORB.SP3.gz\n",
      "C:\\Users\\varga\\Box\\Data\\nc Files\\MANCHI\\aux_orbits\\GFZ0MGXRAP_20252230000_01D_05M_ORB.SP3 file is read in 3.65 seconds\n",
      "C:\\Users\\varga\\Box\\Data\\nc Files\\MANCHI\\aux_orbits\\GFZ0MGXRAP_20252220000_01D_30S_CLK.CLK exists | Reading...\n",
      "C:\\Users\\varga\\Box\\Data\\nc Files\\MANCHI\\aux_orbits\\GFZ0MGXRAP_20252220000_01D_30S_CLK.CLK file is read in 2.96 seconds\n",
      "This file does not exist: C:\\Users\\varga\\Box\\Data\\nc Files\\MANCHI\\aux_orbits\\GFZ0MGXRAP_20252230000_01D_30S_CLK.CLK\n",
      "Downloading: GFZ0MGXRAP_20252230000_01D_30S_CLK.CLK.gz"
     ]
    },
    {
     "name": "stderr",
     "output_type": "stream",
     "text": [
      "GFZ0MGXRAP_20252230000_01D_30S_CLK.CLK.gz: 4.78MB [00:05, 944kB/s]                             \n"
     ]
    },
    {
     "name": "stdout",
     "output_type": "stream",
     "text": [
      " | Download completed for GFZ0MGXRAP_20252230000_01D_30S_CLK.CLK.gz\n",
      "C:\\Users\\varga\\Box\\Data\\nc Files\\MANCHI\\aux_orbits\\GFZ0MGXRAP_20252230000_01D_30S_CLK.CLK file is read in 2.08 seconds\n",
      "SP3 interpolation is done in 2.60 seconds\n",
      "Saved 89582 individual observations in C:\\Users\\varga\\Box\\Data\\nc Files\\MANCHI\\processed\\MANCHI_raw_20250810133352.nc\n",
      "[OK] MANCHI_raw_20250810133352.25O\n",
      "Could not find any files matching the pattern C:\\Users\\varga\\Box\\Data\\nc Files\\MANCHI\\processed*.nc\n",
      "C:\\Users\\varga\\Box\\Data\\nc Files\\MANCHI\\MANCHI_raw_20250811133352.25O exists | Reading...\n",
      "Observation file  C:\\Users\\varga\\Box\\Data\\nc Files\\MANCHI\\MANCHI_raw_20250811133352.25O  is read in 3.13 seconds.\n",
      "Processing 90195 individual observations\n",
      "Calculating Azimuth and Elevation\n",
      "C:\\Users\\varga\\Box\\Data\\nc Files\\MANCHI\\aux_orbits\\GFZ0MGXRAP_20252230000_01D_05M_ORB.SP3 exists | Reading...\n",
      "C:\\Users\\varga\\Box\\Data\\nc Files\\MANCHI\\aux_orbits\\GFZ0MGXRAP_20252230000_01D_05M_ORB.SP3 file is read in 0.70 seconds\n",
      "This file does not exist: C:\\Users\\varga\\Box\\Data\\nc Files\\MANCHI\\aux_orbits\\GFZ0MGXRAP_20252240000_01D_05M_ORB.SP3\n",
      "Downloading: ftp://gssc.esa.int/gnss/products/2379//GFZ0MGXRAP_20252240000_01D_05M_ORB.SP3.gz"
     ]
    },
    {
     "name": "stderr",
     "output_type": "stream",
     "text": [
      "GFZ0MGXRAP_20252240000_01D_05M_ORB.SP3.gz: 1.03MB [00:03, 337kB/s]                             \n"
     ]
    },
    {
     "name": "stdout",
     "output_type": "stream",
     "text": [
      " | Download completed for ftp://gssc.esa.int/gnss/products/2379//GFZ0MGXRAP_20252240000_01D_05M_ORB.SP3.gz\n",
      "C:\\Users\\varga\\Box\\Data\\nc Files\\MANCHI\\aux_orbits\\GFZ0MGXRAP_20252240000_01D_05M_ORB.SP3 file is read in 3.97 seconds\n",
      "C:\\Users\\varga\\Box\\Data\\nc Files\\MANCHI\\aux_orbits\\GFZ0MGXRAP_20252230000_01D_30S_CLK.CLK exists | Reading...\n",
      "C:\\Users\\varga\\Box\\Data\\nc Files\\MANCHI\\aux_orbits\\GFZ0MGXRAP_20252230000_01D_30S_CLK.CLK file is read in 3.61 seconds\n",
      "This file does not exist: C:\\Users\\varga\\Box\\Data\\nc Files\\MANCHI\\aux_orbits\\GFZ0MGXRAP_20252240000_01D_30S_CLK.CLK\n",
      "Downloading: GFZ0MGXRAP_20252240000_01D_30S_CLK.CLK.gz"
     ]
    },
    {
     "name": "stderr",
     "output_type": "stream",
     "text": [
      "GFZ0MGXRAP_20252240000_01D_30S_CLK.CLK.gz: 4.77MB [00:03, 1.38MB/s]                            \n"
     ]
    },
    {
     "name": "stdout",
     "output_type": "stream",
     "text": [
      " | Download completed for GFZ0MGXRAP_20252240000_01D_30S_CLK.CLK.gz\n",
      "C:\\Users\\varga\\Box\\Data\\nc Files\\MANCHI\\aux_orbits\\GFZ0MGXRAP_20252240000_01D_30S_CLK.CLK file is read in 2.83 seconds\n",
      "SP3 interpolation is done in 3.30 seconds\n",
      "Saved 90195 individual observations in C:\\Users\\varga\\Box\\Data\\nc Files\\MANCHI\\processed\\MANCHI_raw_20250811133352.nc\n",
      "[OK] MANCHI_raw_20250811133352.25O\n",
      "Could not find any files matching the pattern C:\\Users\\varga\\Box\\Data\\nc Files\\MANCHI\\processed*.nc\n",
      "C:\\Users\\varga\\Box\\Data\\nc Files\\MANCHI\\MANCHI_raw_20250812133353.25O exists | Reading...\n",
      "Observation file  C:\\Users\\varga\\Box\\Data\\nc Files\\MANCHI\\MANCHI_raw_20250812133353.25O  is read in 1.79 seconds.\n",
      "Processing 86836 individual observations\n",
      "Calculating Azimuth and Elevation\n",
      "C:\\Users\\varga\\Box\\Data\\nc Files\\MANCHI\\aux_orbits\\GFZ0MGXRAP_20252240000_01D_05M_ORB.SP3 exists | Reading...\n",
      "C:\\Users\\varga\\Box\\Data\\nc Files\\MANCHI\\aux_orbits\\GFZ0MGXRAP_20252240000_01D_05M_ORB.SP3 file is read in 0.43 seconds\n",
      "This file does not exist: C:\\Users\\varga\\Box\\Data\\nc Files\\MANCHI\\aux_orbits\\GFZ0MGXRAP_20252250000_01D_05M_ORB.SP3\n",
      "Downloading: ftp://gssc.esa.int/gnss/products/2379//GFZ0MGXRAP_20252250000_01D_05M_ORB.SP3.gz"
     ]
    },
    {
     "name": "stderr",
     "output_type": "stream",
     "text": [
      "GFZ0MGXRAP_20252250000_01D_05M_ORB.SP3.gz: 1.03MB [00:03, 340kB/s]                             \n"
     ]
    },
    {
     "name": "stdout",
     "output_type": "stream",
     "text": [
      " | Download completed for ftp://gssc.esa.int/gnss/products/2379//GFZ0MGXRAP_20252250000_01D_05M_ORB.SP3.gz\n",
      "C:\\Users\\varga\\Box\\Data\\nc Files\\MANCHI\\aux_orbits\\GFZ0MGXRAP_20252250000_01D_05M_ORB.SP3 file is read in 3.87 seconds\n",
      "C:\\Users\\varga\\Box\\Data\\nc Files\\MANCHI\\aux_orbits\\GFZ0MGXRAP_20252240000_01D_30S_CLK.CLK exists | Reading...\n",
      "C:\\Users\\varga\\Box\\Data\\nc Files\\MANCHI\\aux_orbits\\GFZ0MGXRAP_20252240000_01D_30S_CLK.CLK file is read in 2.20 seconds\n",
      "This file does not exist: C:\\Users\\varga\\Box\\Data\\nc Files\\MANCHI\\aux_orbits\\GFZ0MGXRAP_20252250000_01D_30S_CLK.CLK\n",
      "Downloading: GFZ0MGXRAP_20252250000_01D_30S_CLK.CLK.gz"
     ]
    },
    {
     "name": "stderr",
     "output_type": "stream",
     "text": [
      "GFZ0MGXRAP_20252250000_01D_30S_CLK.CLK.gz: 4.75MB [00:12, 402kB/s]                             \n"
     ]
    },
    {
     "name": "stdout",
     "output_type": "stream",
     "text": [
      " | Download completed for GFZ0MGXRAP_20252250000_01D_30S_CLK.CLK.gz\n",
      "C:\\Users\\varga\\Box\\Data\\nc Files\\MANCHI\\aux_orbits\\GFZ0MGXRAP_20252250000_01D_30S_CLK.CLK file is read in 1.97 seconds\n",
      "SP3 interpolation is done in 2.60 seconds\n",
      "Saved 86836 individual observations in C:\\Users\\varga\\Box\\Data\\nc Files\\MANCHI\\processed\\MANCHI_raw_20250812133353.nc\n",
      "[OK] MANCHI_raw_20250812133353.25O\n",
      "Could not find any files matching the pattern C:\\Users\\varga\\Box\\Data\\nc Files\\MANCHI\\processed*.nc\n",
      "C:\\Users\\varga\\Box\\Data\\nc Files\\MANCHI\\MANCHI_raw_20250813133354.25O exists | Reading...\n",
      "Observation file  C:\\Users\\varga\\Box\\Data\\nc Files\\MANCHI\\MANCHI_raw_20250813133354.25O  is read in 2.59 seconds.\n",
      "Processing 88364 individual observations\n",
      "Calculating Azimuth and Elevation\n",
      "C:\\Users\\varga\\Box\\Data\\nc Files\\MANCHI\\aux_orbits\\GFZ0MGXRAP_20252250000_01D_05M_ORB.SP3 exists | Reading...\n",
      "C:\\Users\\varga\\Box\\Data\\nc Files\\MANCHI\\aux_orbits\\GFZ0MGXRAP_20252250000_01D_05M_ORB.SP3 file is read in 0.56 seconds\n",
      "This file does not exist: C:\\Users\\varga\\Box\\Data\\nc Files\\MANCHI\\aux_orbits\\GFZ0MGXRAP_20252260000_01D_05M_ORB.SP3\n",
      "Downloading: ftp://gssc.esa.int/gnss/products/2379//GFZ0MGXRAP_20252260000_01D_05M_ORB.SP3.gz"
     ]
    },
    {
     "name": "stderr",
     "output_type": "stream",
     "text": [
      "GFZ0MGXRAP_20252260000_01D_05M_ORB.SP3.gz: 1.02MB [00:04, 229kB/s]                             \n"
     ]
    },
    {
     "name": "stdout",
     "output_type": "stream",
     "text": [
      " | Download completed for ftp://gssc.esa.int/gnss/products/2379//GFZ0MGXRAP_20252260000_01D_05M_ORB.SP3.gz\n",
      "C:\\Users\\varga\\Box\\Data\\nc Files\\MANCHI\\aux_orbits\\GFZ0MGXRAP_20252260000_01D_05M_ORB.SP3 file is read in 5.46 seconds\n",
      "C:\\Users\\varga\\Box\\Data\\nc Files\\MANCHI\\aux_orbits\\GFZ0MGXRAP_20252250000_01D_30S_CLK.CLK exists | Reading...\n",
      "C:\\Users\\varga\\Box\\Data\\nc Files\\MANCHI\\aux_orbits\\GFZ0MGXRAP_20252250000_01D_30S_CLK.CLK file is read in 2.83 seconds\n",
      "This file does not exist: C:\\Users\\varga\\Box\\Data\\nc Files\\MANCHI\\aux_orbits\\GFZ0MGXRAP_20252260000_01D_30S_CLK.CLK\n",
      "Downloading: GFZ0MGXRAP_20252260000_01D_30S_CLK.CLK.gz"
     ]
    },
    {
     "name": "stderr",
     "output_type": "stream",
     "text": [
      "GFZ0MGXRAP_20252260000_01D_30S_CLK.CLK.gz: 4.70MB [00:04, 1.01MB/s]                            \n"
     ]
    },
    {
     "name": "stdout",
     "output_type": "stream",
     "text": [
      " | Download completed for GFZ0MGXRAP_20252260000_01D_30S_CLK.CLK.gz\n",
      "C:\\Users\\varga\\Box\\Data\\nc Files\\MANCHI\\aux_orbits\\GFZ0MGXRAP_20252260000_01D_30S_CLK.CLK file is read in 2.60 seconds\n",
      "SP3 interpolation is done in 2.50 seconds\n",
      "Saved 88364 individual observations in C:\\Users\\varga\\Box\\Data\\nc Files\\MANCHI\\processed\\MANCHI_raw_20250813133354.nc\n",
      "[OK] MANCHI_raw_20250813133354.25O\n",
      "Could not find any files matching the pattern C:\\Users\\varga\\Box\\Data\\nc Files\\MANCHI\\processed*.nc\n",
      "C:\\Users\\varga\\Box\\Data\\nc Files\\MANCHI\\MANCHI_raw_20250814133354.25O exists | Reading...\n",
      "Observation file  C:\\Users\\varga\\Box\\Data\\nc Files\\MANCHI\\MANCHI_raw_20250814133354.25O  is read in 2.82 seconds.\n",
      "Processing 89979 individual observations\n",
      "Calculating Azimuth and Elevation\n",
      "C:\\Users\\varga\\Box\\Data\\nc Files\\MANCHI\\aux_orbits\\GFZ0MGXRAP_20252260000_01D_05M_ORB.SP3 exists | Reading...\n",
      "C:\\Users\\varga\\Box\\Data\\nc Files\\MANCHI\\aux_orbits\\GFZ0MGXRAP_20252260000_01D_05M_ORB.SP3 file is read in 0.64 seconds\n",
      "This file does not exist: C:\\Users\\varga\\Box\\Data\\nc Files\\MANCHI\\aux_orbits\\GFZ0MGXRAP_20252270000_01D_05M_ORB.SP3\n",
      "Downloading: ftp://gssc.esa.int/gnss/products/2379//GFZ0MGXRAP_20252270000_01D_05M_ORB.SP3.gz"
     ]
    },
    {
     "name": "stderr",
     "output_type": "stream",
     "text": [
      "GFZ0MGXRAP_20252270000_01D_05M_ORB.SP3.gz: 1.01MB [00:03, 313kB/s]                             \n"
     ]
    },
    {
     "name": "stdout",
     "output_type": "stream",
     "text": [
      " | Download completed for ftp://gssc.esa.int/gnss/products/2379//GFZ0MGXRAP_20252270000_01D_05M_ORB.SP3.gz\n",
      "C:\\Users\\varga\\Box\\Data\\nc Files\\MANCHI\\aux_orbits\\GFZ0MGXRAP_20252270000_01D_05M_ORB.SP3 file is read in 4.11 seconds\n",
      "C:\\Users\\varga\\Box\\Data\\nc Files\\MANCHI\\aux_orbits\\GFZ0MGXRAP_20252260000_01D_30S_CLK.CLK exists | Reading...\n",
      "C:\\Users\\varga\\Box\\Data\\nc Files\\MANCHI\\aux_orbits\\GFZ0MGXRAP_20252260000_01D_30S_CLK.CLK file is read in 2.92 seconds\n",
      "This file does not exist: C:\\Users\\varga\\Box\\Data\\nc Files\\MANCHI\\aux_orbits\\GFZ0MGXRAP_20252270000_01D_30S_CLK.CLK\n",
      "Downloading: GFZ0MGXRAP_20252270000_01D_30S_CLK.CLK.gz"
     ]
    },
    {
     "name": "stderr",
     "output_type": "stream",
     "text": [
      "GFZ0MGXRAP_20252270000_01D_30S_CLK.CLK.gz: 4.69MB [00:04, 1.21MB/s]                            \n"
     ]
    },
    {
     "name": "stdout",
     "output_type": "stream",
     "text": [
      " | Download completed for GFZ0MGXRAP_20252270000_01D_30S_CLK.CLK.gz\n",
      "C:\\Users\\varga\\Box\\Data\\nc Files\\MANCHI\\aux_orbits\\GFZ0MGXRAP_20252270000_01D_30S_CLK.CLK file is read in 5.36 seconds\n",
      "SP3 interpolation is done in 2.76 seconds\n",
      "Saved 89979 individual observations in C:\\Users\\varga\\Box\\Data\\nc Files\\MANCHI\\processed\\MANCHI_raw_20250814133354.nc\n",
      "[OK] MANCHI_raw_20250814133354.25O\n",
      "Could not find any files matching the pattern C:\\Users\\varga\\Box\\Data\\nc Files\\MANCHI\\processed*.nc\n",
      "C:\\Users\\varga\\Box\\Data\\nc Files\\MANCHI\\MANCHI_raw_20250815133355.25O exists | Reading...\n",
      "Observation file  C:\\Users\\varga\\Box\\Data\\nc Files\\MANCHI\\MANCHI_raw_20250815133355.25O  is read in 2.33 seconds.\n",
      "Processing 88502 individual observations\n",
      "Calculating Azimuth and Elevation\n",
      "C:\\Users\\varga\\Box\\Data\\nc Files\\MANCHI\\aux_orbits\\GFZ0MGXRAP_20252270000_01D_05M_ORB.SP3 exists | Reading...\n",
      "C:\\Users\\varga\\Box\\Data\\nc Files\\MANCHI\\aux_orbits\\GFZ0MGXRAP_20252270000_01D_05M_ORB.SP3 file is read in 0.63 seconds\n",
      "This file does not exist: C:\\Users\\varga\\Box\\Data\\nc Files\\MANCHI\\aux_orbits\\GFZ0MGXRAP_20252280000_01D_05M_ORB.SP3\n",
      "Downloading: ftp://gssc.esa.int/gnss/products/2379//GFZ0MGXRAP_20252280000_01D_05M_ORB.SP3.gz"
     ]
    },
    {
     "name": "stderr",
     "output_type": "stream",
     "text": [
      "GFZ0MGXRAP_20252280000_01D_05M_ORB.SP3.gz: 1.03MB [00:03, 335kB/s]                             \n"
     ]
    },
    {
     "name": "stdout",
     "output_type": "stream",
     "text": [
      " | Download completed for ftp://gssc.esa.int/gnss/products/2379//GFZ0MGXRAP_20252280000_01D_05M_ORB.SP3.gz\n",
      "C:\\Users\\varga\\Box\\Data\\nc Files\\MANCHI\\aux_orbits\\GFZ0MGXRAP_20252280000_01D_05M_ORB.SP3 file is read in 4.09 seconds\n",
      "C:\\Users\\varga\\Box\\Data\\nc Files\\MANCHI\\aux_orbits\\GFZ0MGXRAP_20252270000_01D_30S_CLK.CLK exists | Reading...\n",
      "C:\\Users\\varga\\Box\\Data\\nc Files\\MANCHI\\aux_orbits\\GFZ0MGXRAP_20252270000_01D_30S_CLK.CLK file is read in 2.87 seconds\n",
      "This file does not exist: C:\\Users\\varga\\Box\\Data\\nc Files\\MANCHI\\aux_orbits\\GFZ0MGXRAP_20252280000_01D_30S_CLK.CLK\n",
      "Downloading: GFZ0MGXRAP_20252280000_01D_30S_CLK.CLK.gz"
     ]
    },
    {
     "name": "stderr",
     "output_type": "stream",
     "text": [
      "GFZ0MGXRAP_20252280000_01D_30S_CLK.CLK.gz: 4.77MB [00:05, 989kB/s]                             \n"
     ]
    },
    {
     "name": "stdout",
     "output_type": "stream",
     "text": [
      " | Download completed for GFZ0MGXRAP_20252280000_01D_30S_CLK.CLK.gz\n",
      "C:\\Users\\varga\\Box\\Data\\nc Files\\MANCHI\\aux_orbits\\GFZ0MGXRAP_20252280000_01D_30S_CLK.CLK file is read in 2.62 seconds\n",
      "SP3 interpolation is done in 2.40 seconds\n",
      "Saved 88502 individual observations in C:\\Users\\varga\\Box\\Data\\nc Files\\MANCHI\\processed\\MANCHI_raw_20250815133355.nc\n",
      "[OK] MANCHI_raw_20250815133355.25O\n",
      "Could not find any files matching the pattern C:\\Users\\varga\\Box\\Data\\nc Files\\MANCHI\\processed*.nc\n",
      "C:\\Users\\varga\\Box\\Data\\nc Files\\MANCHI\\MANCHI_raw_20250816133355.25O exists | Reading...\n",
      "Observation file  C:\\Users\\varga\\Box\\Data\\nc Files\\MANCHI\\MANCHI_raw_20250816133355.25O  is read in 2.92 seconds.\n",
      "Processing 87709 individual observations\n",
      "Calculating Azimuth and Elevation\n",
      "C:\\Users\\varga\\Box\\Data\\nc Files\\MANCHI\\aux_orbits\\GFZ0MGXRAP_20252280000_01D_05M_ORB.SP3 exists | Reading...\n",
      "C:\\Users\\varga\\Box\\Data\\nc Files\\MANCHI\\aux_orbits\\GFZ0MGXRAP_20252280000_01D_05M_ORB.SP3 file is read in 0.65 seconds\n",
      "This file does not exist: C:\\Users\\varga\\Box\\Data\\nc Files\\MANCHI\\aux_orbits\\GFZ0MGXRAP_20252290000_01D_05M_ORB.SP3\n",
      "Downloading: ftp://gssc.esa.int/gnss/products/2380//GFZ0MGXRAP_20252290000_01D_05M_ORB.SP3.gz"
     ]
    },
    {
     "name": "stderr",
     "output_type": "stream",
     "text": [
      "GFZ0MGXRAP_20252290000_01D_05M_ORB.SP3.gz: 1.02MB [00:07, 151kB/s]                             \n"
     ]
    },
    {
     "name": "stdout",
     "output_type": "stream",
     "text": [
      " | Download completed for ftp://gssc.esa.int/gnss/products/2380//GFZ0MGXRAP_20252290000_01D_05M_ORB.SP3.gz\n",
      "C:\\Users\\varga\\Box\\Data\\nc Files\\MANCHI\\aux_orbits\\GFZ0MGXRAP_20252290000_01D_05M_ORB.SP3 file is read in 7.82 seconds\n",
      "C:\\Users\\varga\\Box\\Data\\nc Files\\MANCHI\\aux_orbits\\GFZ0MGXRAP_20252280000_01D_30S_CLK.CLK exists | Reading...\n",
      "C:\\Users\\varga\\Box\\Data\\nc Files\\MANCHI\\aux_orbits\\GFZ0MGXRAP_20252280000_01D_30S_CLK.CLK file is read in 2.89 seconds\n",
      "This file does not exist: C:\\Users\\varga\\Box\\Data\\nc Files\\MANCHI\\aux_orbits\\GFZ0MGXRAP_20252290000_01D_30S_CLK.CLK\n",
      "Downloading: GFZ0MGXRAP_20252290000_01D_30S_CLK.CLK.gz"
     ]
    },
    {
     "name": "stderr",
     "output_type": "stream",
     "text": [
      "GFZ0MGXRAP_20252290000_01D_30S_CLK.CLK.gz: 4.76MB [00:04, 1.23MB/s]                            \n"
     ]
    },
    {
     "name": "stdout",
     "output_type": "stream",
     "text": [
      " | Download completed for GFZ0MGXRAP_20252290000_01D_30S_CLK.CLK.gz\n",
      "C:\\Users\\varga\\Box\\Data\\nc Files\\MANCHI\\aux_orbits\\GFZ0MGXRAP_20252290000_01D_30S_CLK.CLK file is read in 2.08 seconds\n",
      "SP3 interpolation is done in 2.53 seconds\n",
      "Saved 87709 individual observations in C:\\Users\\varga\\Box\\Data\\nc Files\\MANCHI\\processed\\MANCHI_raw_20250816133355.nc\n",
      "[OK] MANCHI_raw_20250816133355.25O\n",
      "Could not find any files matching the pattern C:\\Users\\varga\\Box\\Data\\nc Files\\MANCHI\\processed*.nc\n",
      "C:\\Users\\varga\\Box\\Data\\nc Files\\MANCHI\\MANCHI_raw_20250817133356.25O exists | Reading...\n",
      "Observation file  C:\\Users\\varga\\Box\\Data\\nc Files\\MANCHI\\MANCHI_raw_20250817133356.25O  is read in 2.21 seconds.\n",
      "Processing 89228 individual observations\n",
      "Calculating Azimuth and Elevation\n",
      "C:\\Users\\varga\\Box\\Data\\nc Files\\MANCHI\\aux_orbits\\GFZ0MGXRAP_20252290000_01D_05M_ORB.SP3 exists | Reading...\n",
      "C:\\Users\\varga\\Box\\Data\\nc Files\\MANCHI\\aux_orbits\\GFZ0MGXRAP_20252290000_01D_05M_ORB.SP3 file is read in 0.85 seconds\n",
      "This file does not exist: C:\\Users\\varga\\Box\\Data\\nc Files\\MANCHI\\aux_orbits\\GFZ0MGXRAP_20252300000_01D_05M_ORB.SP3\n",
      "Downloading: ftp://gssc.esa.int/gnss/products/2380//GFZ0MGXRAP_20252300000_01D_05M_ORB.SP3.gz"
     ]
    },
    {
     "name": "stderr",
     "output_type": "stream",
     "text": [
      "GFZ0MGXRAP_20252300000_01D_05M_ORB.SP3.gz: 1.02MB [00:06, 177kB/s]                             \n"
     ]
    },
    {
     "name": "stdout",
     "output_type": "stream",
     "text": [
      " | Download completed for ftp://gssc.esa.int/gnss/products/2380//GFZ0MGXRAP_20252300000_01D_05M_ORB.SP3.gz\n",
      "C:\\Users\\varga\\Box\\Data\\nc Files\\MANCHI\\aux_orbits\\GFZ0MGXRAP_20252300000_01D_05M_ORB.SP3 file is read in 6.83 seconds\n",
      "C:\\Users\\varga\\Box\\Data\\nc Files\\MANCHI\\aux_orbits\\GFZ0MGXRAP_20252290000_01D_30S_CLK.CLK exists | Reading...\n",
      "C:\\Users\\varga\\Box\\Data\\nc Files\\MANCHI\\aux_orbits\\GFZ0MGXRAP_20252290000_01D_30S_CLK.CLK file is read in 2.75 seconds\n",
      "This file does not exist: C:\\Users\\varga\\Box\\Data\\nc Files\\MANCHI\\aux_orbits\\GFZ0MGXRAP_20252300000_01D_30S_CLK.CLK\n",
      "Downloading: GFZ0MGXRAP_20252300000_01D_30S_CLK.CLK.gz"
     ]
    },
    {
     "name": "stderr",
     "output_type": "stream",
     "text": [
      "GFZ0MGXRAP_20252300000_01D_30S_CLK.CLK.gz: 4.71MB [00:04, 990kB/s]                             \n"
     ]
    },
    {
     "name": "stdout",
     "output_type": "stream",
     "text": [
      " | Download completed for GFZ0MGXRAP_20252300000_01D_30S_CLK.CLK.gz\n",
      "C:\\Users\\varga\\Box\\Data\\nc Files\\MANCHI\\aux_orbits\\GFZ0MGXRAP_20252300000_01D_30S_CLK.CLK file is read in 2.70 seconds\n",
      "SP3 interpolation is done in 2.60 seconds\n",
      "Saved 89228 individual observations in C:\\Users\\varga\\Box\\Data\\nc Files\\MANCHI\\processed\\MANCHI_raw_20250817133356.nc\n",
      "[OK] MANCHI_raw_20250817133356.25O\n",
      "Could not find any files matching the pattern C:\\Users\\varga\\Box\\Data\\nc Files\\MANCHI\\processed*.nc\n",
      "C:\\Users\\varga\\Box\\Data\\nc Files\\MANCHI\\MANCHI_raw_20250818133357.25O exists | Reading...\n",
      "Observation file  C:\\Users\\varga\\Box\\Data\\nc Files\\MANCHI\\MANCHI_raw_20250818133357.25O  is read in 1.95 seconds.\n",
      "Processing 87279 individual observations\n",
      "Calculating Azimuth and Elevation\n",
      "C:\\Users\\varga\\Box\\Data\\nc Files\\MANCHI\\aux_orbits\\GFZ0MGXRAP_20252300000_01D_05M_ORB.SP3 exists | Reading...\n",
      "C:\\Users\\varga\\Box\\Data\\nc Files\\MANCHI\\aux_orbits\\GFZ0MGXRAP_20252300000_01D_05M_ORB.SP3 file is read in 0.70 seconds\n",
      "This file does not exist: C:\\Users\\varga\\Box\\Data\\nc Files\\MANCHI\\aux_orbits\\GFZ0MGXRAP_20252310000_01D_05M_ORB.SP3\n",
      "Downloading: ftp://gssc.esa.int/gnss/products/2380//GFZ0MGXRAP_20252310000_01D_05M_ORB.SP3.gz"
     ]
    },
    {
     "name": "stderr",
     "output_type": "stream",
     "text": [
      "GFZ0MGXRAP_20252310000_01D_05M_ORB.SP3.gz: 1.02MB [00:05, 201kB/s]                             \n"
     ]
    },
    {
     "name": "stdout",
     "output_type": "stream",
     "text": [
      " | Download completed for ftp://gssc.esa.int/gnss/products/2380//GFZ0MGXRAP_20252310000_01D_05M_ORB.SP3.gz\n",
      "C:\\Users\\varga\\Box\\Data\\nc Files\\MANCHI\\aux_orbits\\GFZ0MGXRAP_20252310000_01D_05M_ORB.SP3 file is read in 6.06 seconds\n",
      "C:\\Users\\varga\\Box\\Data\\nc Files\\MANCHI\\aux_orbits\\GFZ0MGXRAP_20252300000_01D_30S_CLK.CLK exists | Reading...\n",
      "C:\\Users\\varga\\Box\\Data\\nc Files\\MANCHI\\aux_orbits\\GFZ0MGXRAP_20252300000_01D_30S_CLK.CLK file is read in 3.05 seconds\n",
      "This file does not exist: C:\\Users\\varga\\Box\\Data\\nc Files\\MANCHI\\aux_orbits\\GFZ0MGXRAP_20252310000_01D_30S_CLK.CLK\n",
      "Downloading: GFZ0MGXRAP_20252310000_01D_30S_CLK.CLK.gz"
     ]
    },
    {
     "name": "stderr",
     "output_type": "stream",
     "text": [
      "GFZ0MGXRAP_20252310000_01D_30S_CLK.CLK.gz: 4.75MB [00:05, 898kB/s]                             \n"
     ]
    },
    {
     "name": "stdout",
     "output_type": "stream",
     "text": [
      " | Download completed for GFZ0MGXRAP_20252310000_01D_30S_CLK.CLK.gz\n",
      "C:\\Users\\varga\\Box\\Data\\nc Files\\MANCHI\\aux_orbits\\GFZ0MGXRAP_20252310000_01D_30S_CLK.CLK file is read in 1.99 seconds\n",
      "SP3 interpolation is done in 2.47 seconds\n",
      "Saved 87279 individual observations in C:\\Users\\varga\\Box\\Data\\nc Files\\MANCHI\\processed\\MANCHI_raw_20250818133357.nc\n",
      "[OK] MANCHI_raw_20250818133357.25O\n",
      "Could not find any files matching the pattern C:\\Users\\varga\\Box\\Data\\nc Files\\MANCHI\\processed*.nc\n",
      "C:\\Users\\varga\\Box\\Data\\nc Files\\MANCHI\\MANCHI_raw_20250819133357.25O exists | Reading...\n",
      "Observation file  C:\\Users\\varga\\Box\\Data\\nc Files\\MANCHI\\MANCHI_raw_20250819133357.25O  is read in 3.07 seconds.\n",
      "Processing 85140 individual observations\n",
      "Calculating Azimuth and Elevation\n",
      "C:\\Users\\varga\\Box\\Data\\nc Files\\MANCHI\\aux_orbits\\GFZ0MGXRAP_20252310000_01D_05M_ORB.SP3 exists | Reading...\n",
      "C:\\Users\\varga\\Box\\Data\\nc Files\\MANCHI\\aux_orbits\\GFZ0MGXRAP_20252310000_01D_05M_ORB.SP3 file is read in 0.61 seconds\n",
      "This file does not exist: C:\\Users\\varga\\Box\\Data\\nc Files\\MANCHI\\aux_orbits\\GFZ0MGXRAP_20252320000_01D_05M_ORB.SP3\n",
      "Downloading: ftp://gssc.esa.int/gnss/products/2380//GFZ0MGXRAP_20252320000_01D_05M_ORB.SP3.gz"
     ]
    },
    {
     "name": "stderr",
     "output_type": "stream",
     "text": [
      "GFZ0MGXRAP_20252320000_01D_05M_ORB.SP3.gz: 1.03MB [00:08, 123kB/s]                             \n"
     ]
    },
    {
     "name": "stdout",
     "output_type": "stream",
     "text": [
      " | Download completed for ftp://gssc.esa.int/gnss/products/2380//GFZ0MGXRAP_20252320000_01D_05M_ORB.SP3.gz\n",
      "C:\\Users\\varga\\Box\\Data\\nc Files\\MANCHI\\aux_orbits\\GFZ0MGXRAP_20252320000_01D_05M_ORB.SP3 file is read in 9.52 seconds\n",
      "C:\\Users\\varga\\Box\\Data\\nc Files\\MANCHI\\aux_orbits\\GFZ0MGXRAP_20252310000_01D_30S_CLK.CLK exists | Reading...\n",
      "C:\\Users\\varga\\Box\\Data\\nc Files\\MANCHI\\aux_orbits\\GFZ0MGXRAP_20252310000_01D_30S_CLK.CLK file is read in 2.12 seconds\n",
      "This file does not exist: C:\\Users\\varga\\Box\\Data\\nc Files\\MANCHI\\aux_orbits\\GFZ0MGXRAP_20252320000_01D_30S_CLK.CLK\n",
      "Downloading: GFZ0MGXRAP_20252320000_01D_30S_CLK.CLK.gz"
     ]
    },
    {
     "name": "stderr",
     "output_type": "stream",
     "text": [
      "GFZ0MGXRAP_20252320000_01D_30S_CLK.CLK.gz: 4.77MB [00:03, 1.35MB/s]                            \n"
     ]
    },
    {
     "name": "stdout",
     "output_type": "stream",
     "text": [
      " | Download completed for GFZ0MGXRAP_20252320000_01D_30S_CLK.CLK.gz\n",
      "C:\\Users\\varga\\Box\\Data\\nc Files\\MANCHI\\aux_orbits\\GFZ0MGXRAP_20252320000_01D_30S_CLK.CLK file is read in 2.24 seconds\n",
      "SP3 interpolation is done in 3.77 seconds\n",
      "Saved 85140 individual observations in C:\\Users\\varga\\Box\\Data\\nc Files\\MANCHI\\processed\\MANCHI_raw_20250819133357.nc\n",
      "[OK] MANCHI_raw_20250819133357.25O\n",
      "Could not find any files matching the pattern C:\\Users\\varga\\Box\\Data\\nc Files\\MANCHI\\processed*.nc\n",
      "C:\\Users\\varga\\Box\\Data\\nc Files\\MANCHI\\MANCHI_raw_20250820133358.25O exists | Reading...\n",
      "Observation file  C:\\Users\\varga\\Box\\Data\\nc Files\\MANCHI\\MANCHI_raw_20250820133358.25O  is read in 2.86 seconds.\n",
      "Processing 88700 individual observations\n",
      "Calculating Azimuth and Elevation\n",
      "C:\\Users\\varga\\Box\\Data\\nc Files\\MANCHI\\aux_orbits\\GFZ0MGXRAP_20252320000_01D_05M_ORB.SP3 exists | Reading...\n",
      "C:\\Users\\varga\\Box\\Data\\nc Files\\MANCHI\\aux_orbits\\GFZ0MGXRAP_20252320000_01D_05M_ORB.SP3 file is read in 0.39 seconds\n",
      "This file does not exist: C:\\Users\\varga\\Box\\Data\\nc Files\\MANCHI\\aux_orbits\\GFZ0MGXRAP_20252330000_01D_05M_ORB.SP3\n",
      "Downloading: ftp://gssc.esa.int/gnss/products/2380//GFZ0MGXRAP_20252330000_01D_05M_ORB.SP3.gz"
     ]
    },
    {
     "name": "stderr",
     "output_type": "stream",
     "text": [
      "GFZ0MGXRAP_20252330000_01D_05M_ORB.SP3.gz: 1.03MB [00:03, 339kB/s]                             \n"
     ]
    },
    {
     "name": "stdout",
     "output_type": "stream",
     "text": [
      " | Download completed for ftp://gssc.esa.int/gnss/products/2380//GFZ0MGXRAP_20252330000_01D_05M_ORB.SP3.gz\n",
      "C:\\Users\\varga\\Box\\Data\\nc Files\\MANCHI\\aux_orbits\\GFZ0MGXRAP_20252330000_01D_05M_ORB.SP3 file is read in 3.71 seconds\n",
      "C:\\Users\\varga\\Box\\Data\\nc Files\\MANCHI\\aux_orbits\\GFZ0MGXRAP_20252320000_01D_30S_CLK.CLK exists | Reading...\n",
      "C:\\Users\\varga\\Box\\Data\\nc Files\\MANCHI\\aux_orbits\\GFZ0MGXRAP_20252320000_01D_30S_CLK.CLK file is read in 2.19 seconds\n",
      "This file does not exist: C:\\Users\\varga\\Box\\Data\\nc Files\\MANCHI\\aux_orbits\\GFZ0MGXRAP_20252330000_01D_30S_CLK.CLK\n",
      "Downloading: GFZ0MGXRAP_20252330000_01D_30S_CLK.CLK.gz"
     ]
    },
    {
     "name": "stderr",
     "output_type": "stream",
     "text": [
      "GFZ0MGXRAP_20252330000_01D_30S_CLK.CLK.gz: 4.76MB [00:20, 248kB/s]                             \n"
     ]
    },
    {
     "name": "stdout",
     "output_type": "stream",
     "text": [
      " | Download completed for GFZ0MGXRAP_20252330000_01D_30S_CLK.CLK.gz\n",
      "C:\\Users\\varga\\Box\\Data\\nc Files\\MANCHI\\aux_orbits\\GFZ0MGXRAP_20252330000_01D_30S_CLK.CLK file is read in 1.97 seconds\n",
      "SP3 interpolation is done in 2.46 seconds\n",
      "Saved 88700 individual observations in C:\\Users\\varga\\Box\\Data\\nc Files\\MANCHI\\processed\\MANCHI_raw_20250820133358.nc\n",
      "[OK] MANCHI_raw_20250820133358.25O\n",
      "Could not find any files matching the pattern C:\\Users\\varga\\Box\\Data\\nc Files\\MANCHI\\processed*.nc\n",
      "C:\\Users\\varga\\Box\\Data\\nc Files\\MANCHI\\MANCHI_raw_20250821133358.25O exists | Reading...\n",
      "Observation file  C:\\Users\\varga\\Box\\Data\\nc Files\\MANCHI\\MANCHI_raw_20250821133358.25O  is read in 1.91 seconds.\n",
      "Processing 89514 individual observations\n",
      "Calculating Azimuth and Elevation\n",
      "C:\\Users\\varga\\Box\\Data\\nc Files\\MANCHI\\aux_orbits\\GFZ0MGXRAP_20252330000_01D_05M_ORB.SP3 exists | Reading...\n",
      "C:\\Users\\varga\\Box\\Data\\nc Files\\MANCHI\\aux_orbits\\GFZ0MGXRAP_20252330000_01D_05M_ORB.SP3 file is read in 0.68 seconds\n",
      "This file does not exist: C:\\Users\\varga\\Box\\Data\\nc Files\\MANCHI\\aux_orbits\\GFZ0MGXRAP_20252340000_01D_05M_ORB.SP3\n",
      "Downloading: ftp://gssc.esa.int/gnss/products/2380//GFZ0MGXRAP_20252340000_01D_05M_ORB.SP3.gz"
     ]
    },
    {
     "name": "stderr",
     "output_type": "stream",
     "text": [
      "GFZ0MGXRAP_20252340000_01D_05M_ORB.SP3.gz: 1.03MB [00:03, 315kB/s]                             \n"
     ]
    },
    {
     "name": "stdout",
     "output_type": "stream",
     "text": [
      " | Download completed for ftp://gssc.esa.int/gnss/products/2380//GFZ0MGXRAP_20252340000_01D_05M_ORB.SP3.gz\n",
      "C:\\Users\\varga\\Box\\Data\\nc Files\\MANCHI\\aux_orbits\\GFZ0MGXRAP_20252340000_01D_05M_ORB.SP3 file is read in 4.01 seconds\n",
      "C:\\Users\\varga\\Box\\Data\\nc Files\\MANCHI\\aux_orbits\\GFZ0MGXRAP_20252330000_01D_30S_CLK.CLK exists | Reading...\n",
      "C:\\Users\\varga\\Box\\Data\\nc Files\\MANCHI\\aux_orbits\\GFZ0MGXRAP_20252330000_01D_30S_CLK.CLK file is read in 2.09 seconds\n",
      "This file does not exist: C:\\Users\\varga\\Box\\Data\\nc Files\\MANCHI\\aux_orbits\\GFZ0MGXRAP_20252340000_01D_30S_CLK.CLK\n",
      "Downloading: GFZ0MGXRAP_20252340000_01D_30S_CLK.CLK.gz"
     ]
    },
    {
     "name": "stderr",
     "output_type": "stream",
     "text": [
      "GFZ0MGXRAP_20252340000_01D_30S_CLK.CLK.gz: 4.79MB [00:03, 1.29MB/s]                            \n"
     ]
    },
    {
     "name": "stdout",
     "output_type": "stream",
     "text": [
      " | Download completed for GFZ0MGXRAP_20252340000_01D_30S_CLK.CLK.gz\n",
      "C:\\Users\\varga\\Box\\Data\\nc Files\\MANCHI\\aux_orbits\\GFZ0MGXRAP_20252340000_01D_30S_CLK.CLK file is read in 2.01 seconds\n",
      "SP3 interpolation is done in 3.23 seconds\n",
      "Saved 89514 individual observations in C:\\Users\\varga\\Box\\Data\\nc Files\\MANCHI\\processed\\MANCHI_raw_20250821133358.nc\n",
      "[OK] MANCHI_raw_20250821133358.25O\n",
      "Could not find any files matching the pattern C:\\Users\\varga\\Box\\Data\\nc Files\\MANCHI\\processed*.nc\n",
      "C:\\Users\\varga\\Box\\Data\\nc Files\\MANCHI\\MANCHI_raw_20250822133359.25O exists | Reading...\n",
      "Observation file  C:\\Users\\varga\\Box\\Data\\nc Files\\MANCHI\\MANCHI_raw_20250822133359.25O  is read in 2.96 seconds.\n",
      "Processing 85948 individual observations\n",
      "Calculating Azimuth and Elevation\n",
      "C:\\Users\\varga\\Box\\Data\\nc Files\\MANCHI\\aux_orbits\\GFZ0MGXRAP_20252340000_01D_05M_ORB.SP3 exists | Reading...\n",
      "C:\\Users\\varga\\Box\\Data\\nc Files\\MANCHI\\aux_orbits\\GFZ0MGXRAP_20252340000_01D_05M_ORB.SP3 file is read in 0.68 seconds\n",
      "This file does not exist: C:\\Users\\varga\\Box\\Data\\nc Files\\MANCHI\\aux_orbits\\GFZ0MGXRAP_20252350000_01D_05M_ORB.SP3\n",
      "Downloading: ftp://gssc.esa.int/gnss/products/2380//GFZ0MGXRAP_20252350000_01D_05M_ORB.SP3.gz"
     ]
    },
    {
     "name": "stderr",
     "output_type": "stream",
     "text": [
      "GFZ0MGXRAP_20252350000_01D_05M_ORB.SP3.gz: 0.00B [00:02, ?B/s]\n"
     ]
    },
    {
     "name": "stdout",
     "output_type": "stream",
     "text": [
      "<urlopen error <urlopen error ftp error: error_perm('550 CWD command failed: directory not found.')>>\n",
      " | Requested file ftp://gssc.esa.int/gnss/products/2380//GFZ0MGXRAP_20252350000_01D_05M_ORB.SP3.gz cannot be not found!\n",
      "[WARN] Skipping due to error: MANCHI_raw_20250822133359.25O\n",
      "        [Errno 2] No such file or directory: 'C:\\\\Users\\\\varga\\\\Box\\\\Data\\\\nc Files\\\\MANCHI\\\\aux_orbits\\\\GFZ0MGXRAP_20252350000_01D_05M_ORB.SP3'\n",
      "Could not find any files matching the pattern C:\\Users\\varga\\Box\\Data\\nc Files\\MANCHI\\processed*.nc\n",
      "C:\\Users\\varga\\Box\\Data\\nc Files\\MANCHI\\MANCHI_raw_20250823133400.25O exists | Reading...\n",
      "Observation file  C:\\Users\\varga\\Box\\Data\\nc Files\\MANCHI\\MANCHI_raw_20250823133400.25O  is read in 1.19 seconds.\n",
      "Processing 50542 individual observations\n",
      "Calculating Azimuth and Elevation\n",
      "This file does not exist: C:\\Users\\varga\\Box\\Data\\nc Files\\MANCHI\\aux_orbits\\GFZ0MGXRAP_20252350000_01D_05M_ORB.SP3\n",
      "Downloading: ftp://gssc.esa.int/gnss/products/2380//GFZ0MGXRAP_20252350000_01D_05M_ORB.SP3.gz"
     ]
    },
    {
     "name": "stderr",
     "output_type": "stream",
     "text": [
      "GFZ0MGXRAP_20252350000_01D_05M_ORB.SP3.gz: 0.00B [00:02, ?B/s]"
     ]
    },
    {
     "name": "stdout",
     "output_type": "stream",
     "text": [
      "<urlopen error <urlopen error ftp error: error_perm('550 CWD command failed: directory not found.')>>\n",
      " | Requested file ftp://gssc.esa.int/gnss/products/2380//GFZ0MGXRAP_20252350000_01D_05M_ORB.SP3.gz cannot be not found!\n",
      "[WARN] Skipping due to error: MANCHI_raw_20250823133400.25O\n",
      "        [Errno 2] No such file or directory: 'C:\\\\Users\\\\varga\\\\Box\\\\Data\\\\nc Files\\\\MANCHI\\\\aux_orbits\\\\GFZ0MGXRAP_20252350000_01D_05M_ORB.SP3'\n",
      "\n",
      "===== SUMMARY =====\n",
      "Processed OK: 112\n",
      "Failed     : 4\n",
      "\n",
      "Files that failed:\n",
      " - C:\\Users\\varga\\Box\\Data\\nc Files\\MANCHI\\MANCHI_raw_20250413142051.25O: Compressed file ended before the end-of-stream marker was reached\n",
      " - C:\\Users\\varga\\Box\\Data\\nc Files\\MANCHI\\MANCHI_raw_20250414142051.25O: Compressed file ended before the end-of-stream marker was reached\n",
      " - C:\\Users\\varga\\Box\\Data\\nc Files\\MANCHI\\MANCHI_raw_20250822133359.25O: [Errno 2] No such file or directory: 'C:\\\\Users\\\\varga\\\\Box\\\\Data\\\\nc Files\\\\MANCHI\\\\aux_orbits\\\\GFZ0MGXRAP_20252350000_01D_05M_ORB.SP3'\n",
      " - C:\\Users\\varga\\Box\\Data\\nc Files\\MANCHI\\MANCHI_raw_20250823133400.25O: [Errno 2] No such file or directory: 'C:\\\\Users\\\\varga\\\\Box\\\\Data\\\\nc Files\\\\MANCHI\\\\aux_orbits\\\\GFZ0MGXRAP_20252350000_01D_05M_ORB.SP3'\n"
     ]
    },
    {
     "name": "stderr",
     "output_type": "stream",
     "text": [
      "\n"
     ]
    }
   ],
   "source": [
    "from pathlib import Path\n",
    "import glob\n",
    "import xarray as xr\n",
    "import gnssvod as gv\n",
    "\n",
    "# Carpeta donde dejaste TODOS los .25O de MANCHI\n",
    "DEST = Path(r\"C:\\Users\\varga\\Box\\Data\\nc Files\\MANCHI\")\n",
    "\n",
    "# 1) Lista de archivos de entrada (RINEX .25O)\n",
    "rinex_files = sorted(glob.glob(str(DEST / '*.25O')))\n",
    "print(f'Found {len(rinex_files)} .25O files (showing up to 5):', rinex_files[:5])\n",
    "if len(rinex_files) == 0:\n",
    "    raise FileNotFoundError(\"No .25O files found in DEST folder. Check DEST and file existence.\")\n",
    "\n",
    "# 2) Carpeta de salida para NetCDF (dentro de MANCHI)\n",
    "outdir = DEST / \"processed\"\n",
    "outdir.mkdir(parents=True, exist_ok=True)\n",
    "\n",
    "# 3) Carpeta persistente para órbitas/relojes\n",
    "aux_dir = DEST / \"aux_orbits\"\n",
    "aux_dir.mkdir(parents=True, exist_ok=True)\n",
    "\n",
    "# 4) Variables a conservar\n",
    "keepvars = ['S?', 'S??']\n",
    "\n",
    "ok, bad = [], []\n",
    "\n",
    "# 5) Procesar uno por uno\n",
    "for rinex in rinex_files:\n",
    "    try:\n",
    "        pattern = {'MANCHI': rinex}\n",
    "        outputdir = {'MANCHI': str(outdir)}\n",
    "\n",
    "        result = gv.preprocess(\n",
    "            pattern,\n",
    "            interval='15s',\n",
    "            keepvars=keepvars,\n",
    "            outputdir=outputdir,\n",
    "            outputresult=True,\n",
    "            aux_path=str(aux_dir)\n",
    "        )\n",
    "\n",
    "        manchi_res = result.get('MANCHI', [])\n",
    "        if isinstance(manchi_res, list):\n",
    "            if not manchi_res:\n",
    "                raise ValueError(f\"No dataset produced for: {rinex}\")\n",
    "            _ = manchi_res[0]\n",
    "        elif isinstance(manchi_res, xr.Dataset):\n",
    "            _ = manchi_res\n",
    "        else:\n",
    "            raise TypeError(f\"Unexpected return type for 'MANCHI': {type(manchi_res)}\")\n",
    "\n",
    "        print(f\"[OK] {Path(rinex).name}\")\n",
    "        ok.append(rinex)\n",
    "\n",
    "    except Exception as e:\n",
    "        print(f\"[WARN] Skipping due to error: {Path(rinex).name}\")\n",
    "        print(\"       \", e)\n",
    "        bad.append((rinex, str(e)))\n",
    "        continue\n",
    "\n",
    "# 6) Resumen final\n",
    "print(\"\\n===== SUMMARY =====\")\n",
    "print(f\"Processed OK: {len(ok)}\")\n",
    "print(f\"Failed     : {len(bad)}\")\n",
    "\n",
    "if bad:\n",
    "    print(\"\\nFiles that failed:\")\n",
    "    for fname, err in bad:\n",
    "        print(f\" - {fname}: {err}\")\n",
    "else:\n",
    "    print(\"\\n¡Todo fue un éxito! 🤙\")\n"
   ]
  }
 ],
 "metadata": {
  "kernelspec": {
   "display_name": "Python 3",
   "language": "python",
   "name": "python3"
  },
  "language_info": {
   "codemirror_mode": {
    "name": "ipython",
    "version": 3
   },
   "file_extension": ".py",
   "mimetype": "text/x-python",
   "name": "python",
   "nbconvert_exporter": "python",
   "pygments_lexer": "ipython3",
   "version": "3.11.9"
  }
 },
 "nbformat": 4,
 "nbformat_minor": 5
}
