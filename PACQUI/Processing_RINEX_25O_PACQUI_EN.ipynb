{
 "cells": [
  {
   "cell_type": "markdown",
   "id": "414d83d5",
   "metadata": {},
   "source": [
    "# RINEX Processing – PACQUI\n",
    "\n",
    "This notebook processes RINEX `.25O` files for the **PACQUI** site.\n",
    "\n",
    "It performs three main steps:\n",
    "1. Defines paths and configuration parameters.\n",
    "2. Extracts ZIP files and consolidates all `.25O` files into one folder.\n",
    "3. Converts RINEX files into NetCDF format using the `gnssvod` library.\n",
    "\n",
    "All logic remains identical to the original Spanish version; only the text and structure are translated and organized for clarity."
   ]
  },
  {
   "cell_type": "markdown",
   "id": "ce0ac99c",
   "metadata": {},
   "source": [
    "## 🧭 1. Path Configuration\n",
    "Defines input/output paths and parameters used by the workflow.\n",
    "- `ZIP_ROOT`: folder containing PACQUI ZIP files.\n",
    "- `DEST_ROOT`: destination folder for consolidated `.25O` files.\n",
    "- `UNZIP_ROOT`: temporary extraction folder.\n",
    "- `RINEX_SUBSTR`: identifier substring for RINEX directories.\n",
    "- `ZIP_PATTERN`: filename pattern for PACQUI ZIPs.\n",
    "- `OVERWRITE_25O`: overwrite policy for `.25O` files."
   ]
  },
  {
   "cell_type": "code",
   "execution_count": 1,
   "id": "d859411e",
   "metadata": {},
   "outputs": [
    {
     "data": {
      "text/plain": [
       "(WindowsPath('C:/Users/varga/Box/Data/RinexZipFiles/PACQUI/Last'),\n",
       " WindowsPath('C:/Users/varga/Box/Data/nc Files/PACQUI'),\n",
       " WindowsPath('C:/Users/varga/Box/Data/RinexZipFiles/PACQUI/Last/unzipped'))"
      ]
     },
     "execution_count": 1,
     "metadata": {},
     "output_type": "execute_result"
    }
   ],
   "source": [
    "# === PATH CONFIGURATION (PACQUI) ===\n",
    "from pathlib import Path\n",
    "\n",
    "# Folder containing PACQUI .zip files\n",
    "ZIP_ROOT = Path(r\"C:\\Users\\varga\\Box\\Data\\RinexZipFiles\\PACQUI\\Last\")\n",
    "\n",
    "# Single destination folder for consolidated .25O files\n",
    "DEST_ROOT = Path(r\"C:\\Users\\varga\\Box\\Data\\nc Files\\PACQUI\")\n",
    "\n",
    "# Substring that identifies the RINEX folder name\n",
    "RINEX_SUBSTR = \"RINEX_3_03\"\n",
    "\n",
    "# ZIP filename pattern for PACQUI\n",
    "ZIP_PATTERN = \"PACQUI*.zip\"\n",
    "\n",
    "# Temporary unzip folder (created next to ZIP_ROOT)\n",
    "UNZIP_ROOT = ZIP_ROOT / \"unzipped\"\n",
    "\n",
    "# Overwrite policy for .25O files\n",
    "OVERWRITE_25O = False\n",
    "\n",
    "ZIP_ROOT, DEST_ROOT, UNZIP_ROOT"
   ]
  },
  {
   "cell_type": "markdown",
   "id": "f279d317",
   "metadata": {},
   "source": [
    "## 📦 2. Extract ZIPs and Copy All `.25O` Files\n",
    "Extracts all PACQUI ZIP files, finds RINEX directories, and copies every `.25O` file into a single flat folder under `DEST_ROOT`. Logic identical to original."
   ]
  },
  {
   "cell_type": "code",
   "execution_count": 2,
   "id": "96bd9a54",
   "metadata": {},
   "outputs": [
    {
     "name": "stdout",
     "output_type": "stream",
     "text": [
      "[EXTRACT] PACQUI_20250418220206.zip -> PACQUI_20250418220206\n",
      "[EXTRACT] PACQUI_20250419220207.zip -> PACQUI_20250419220207\n",
      "[EXTRACT] PACQUI_20250420220208.zip -> PACQUI_20250420220208\n",
      "[EXTRACT] PACQUI_20250421220209.zip -> PACQUI_20250421220209\n",
      "[EXTRACT] PACQUI_20250422220210.zip -> PACQUI_20250422220210\n",
      "[EXTRACT] PACQUI_20250423220211.zip -> PACQUI_20250423220211\n",
      "[EXTRACT] PACQUI_20250424220212.zip -> PACQUI_20250424220212\n",
      "[EXTRACT] PACQUI_20250425220213.zip -> PACQUI_20250425220213\n",
      "[EXTRACT] PACQUI_20250426220214.zip -> PACQUI_20250426220214\n",
      "[EXTRACT] PACQUI_20250427220215.zip -> PACQUI_20250427220215\n",
      "[EXTRACT] PACQUI_20250428220216.zip -> PACQUI_20250428220216\n",
      "[EXTRACT] PACQUI_20250429220217.zip -> PACQUI_20250429220217\n",
      "[EXTRACT] PACQUI_20250430220218.zip -> PACQUI_20250430220218\n",
      "[EXTRACT] PACQUI_20250501220219.zip -> PACQUI_20250501220219\n",
      "[EXTRACT] PACQUI_20250502220220.zip -> PACQUI_20250502220220\n",
      "[EXTRACT] PACQUI_20250503220221.zip -> PACQUI_20250503220221\n",
      "[EXTRACT] PACQUI_20250504220222.zip -> PACQUI_20250504220222\n",
      "[EXTRACT] PACQUI_20250506142454.zip -> PACQUI_20250506142454\n",
      "[EXTRACT] PACQUI_20250507142455.zip -> PACQUI_20250507142455\n",
      "[EXTRACT] PACQUI_20250508142456.zip -> PACQUI_20250508142456\n",
      "[EXTRACT] PACQUI_20250509142457.zip -> PACQUI_20250509142457\n",
      "[EXTRACT] PACQUI_20250510142458.zip -> PACQUI_20250510142458\n",
      "[EXTRACT] PACQUI_20250511142459.zip -> PACQUI_20250511142459\n",
      "[EXTRACT] PACQUI_20250512142501.zip -> PACQUI_20250512142501\n",
      "[EXTRACT] PACQUI_20250513142501.zip -> PACQUI_20250513142501\n",
      "[EXTRACT] PACQUI_20250514142502.zip -> PACQUI_20250514142502\n",
      "[EXTRACT] PACQUI_20250515142503.zip -> PACQUI_20250515142503\n",
      "[EXTRACT] PACQUI_20250516142504.zip -> PACQUI_20250516142504\n",
      "[EXTRACT] PACQUI_20250517142505.zip -> PACQUI_20250517142505\n",
      "[EXTRACT] PACQUI_20250518142506.zip -> PACQUI_20250518142506\n",
      "[EXTRACT] PACQUI_20250519142508.zip -> PACQUI_20250519142508\n",
      "[EXTRACT] PACQUI_20250520142509.zip -> PACQUI_20250520142509\n",
      "[EXTRACT] PACQUI_20250521142510.zip -> PACQUI_20250521142510\n",
      "[EXTRACT] PACQUI_20250522163921.zip -> PACQUI_20250522163921\n",
      "[EXTRACT] PACQUI_20250523163922.zip -> PACQUI_20250523163922\n",
      "[EXTRACT] PACQUI_20250524163923.zip -> PACQUI_20250524163923\n",
      "[EXTRACT] PACQUI_20250525163924.zip -> PACQUI_20250525163924\n",
      "[EXTRACT] PACQUI_20250526163924.zip -> PACQUI_20250526163924\n",
      "[EXTRACT] PACQUI_20250527163925.zip -> PACQUI_20250527163925\n",
      "[EXTRACT] PACQUI_20250528163926.zip -> PACQUI_20250528163926\n",
      "[EXTRACT] PACQUI_20250529163927.zip -> PACQUI_20250529163927\n",
      "[EXTRACT] PACQUI_20250530163928.zip -> PACQUI_20250530163928\n",
      "[EXTRACT] PACQUI_20250531163929.zip -> PACQUI_20250531163929\n",
      "[EXTRACT] PACQUI_20250601163930.zip -> PACQUI_20250601163930\n",
      "[EXTRACT] PACQUI_20250602163931.zip -> PACQUI_20250602163931\n",
      "[EXTRACT] PACQUI_20250603163931.zip -> PACQUI_20250603163931\n",
      "[EXTRACT] PACQUI_20250604163932.zip -> PACQUI_20250604163932\n",
      "[EXTRACT] PACQUI_20250605163933.zip -> PACQUI_20250605163933\n",
      "[EXTRACT] PACQUI_20250606163934.zip -> PACQUI_20250606163934\n",
      "[EXTRACT] PACQUI_20250607163935.zip -> PACQUI_20250607163935\n",
      "[EXTRACT] PACQUI_20250608163936.zip -> PACQUI_20250608163936\n",
      "[EXTRACT] PACQUI_20250610145050.zip -> PACQUI_20250610145050\n",
      "[EXTRACT] PACQUI_20250611145051.zip -> PACQUI_20250611145051\n",
      "[EXTRACT] PACQUI_20250612145052.zip -> PACQUI_20250612145052\n",
      "[EXTRACT] PACQUI_20250613145053.zip -> PACQUI_20250613145053\n",
      "[EXTRACT] PACQUI_20250614145054.zip -> PACQUI_20250614145054\n",
      "[EXTRACT] PACQUI_20250615145055.zip -> PACQUI_20250615145055\n",
      "[EXTRACT] PACQUI_20250616145055.zip -> PACQUI_20250616145055\n",
      "[EXTRACT] PACQUI_20250617145057.zip -> PACQUI_20250617145057\n",
      "[EXTRACT] PACQUI_20250618145058.zip -> PACQUI_20250618145058\n",
      "[EXTRACT] PACQUI_20250619145058.zip -> PACQUI_20250619145058\n",
      "[EXTRACT] PACQUI_20250620145059.zip -> PACQUI_20250620145059\n",
      "[EXTRACT] PACQUI_20250621145100.zip -> PACQUI_20250621145100\n",
      "[EXTRACT] PACQUI_20250622145101.zip -> PACQUI_20250622145101\n",
      "[EXTRACT] PACQUI_20250623145102.zip -> PACQUI_20250623145102\n",
      "[EXTRACT] PACQUI_20250624145103.zip -> PACQUI_20250624145103\n",
      "[EXTRACT] PACQUI_20250625145104.zip -> PACQUI_20250625145104\n",
      "[EXTRACT] PACQUI_20250626145106.zip -> PACQUI_20250626145106\n",
      "[EXTRACT] PACQUI_20250627145107.zip -> PACQUI_20250627145107\n",
      "[EXTRACT] PACQUI_20250628145108.zip -> PACQUI_20250628145108\n",
      "[EXTRACT] PACQUI_20250629145109.zip -> PACQUI_20250629145109\n",
      "[EXTRACT] PACQUI_20250630145110.zip -> PACQUI_20250630145110\n",
      "[EXTRACT] PACQUI_20250701145111.zip -> PACQUI_20250701145111\n",
      "[EXTRACT] PACQUI_20250702145112.zip -> PACQUI_20250702145112\n",
      "[EXTRACT] PACQUI_20250703145112.zip -> PACQUI_20250703145112\n",
      "[EXTRACT] PACQUI_20250704145114.zip -> PACQUI_20250704145114\n",
      "[EXTRACT] PACQUI_20250705145115.zip -> PACQUI_20250705145115\n",
      "[EXTRACT] PACQUI_20250706145116.zip -> PACQUI_20250706145116\n",
      "[EXTRACT] PACQUI_20250707145116.zip -> PACQUI_20250707145116\n",
      "[EXTRACT] PACQUI_20250708145117.zip -> PACQUI_20250708145117\n",
      "[EXTRACT] PACQUI_20250709225550.zip -> PACQUI_20250709225550\n",
      "[EXTRACT] PACQUI_20250710225550.zip -> PACQUI_20250710225550\n",
      "[EXTRACT] PACQUI_20250711225551.zip -> PACQUI_20250711225551\n",
      "[EXTRACT] PACQUI_20250712225552.zip -> PACQUI_20250712225552\n",
      "[EXTRACT] PACQUI_20250713225553.zip -> PACQUI_20250713225553\n",
      "[EXTRACT] PACQUI_20250714225554.zip -> PACQUI_20250714225554\n",
      "[EXTRACT] PACQUI_20250715225556.zip -> PACQUI_20250715225556\n",
      "[EXTRACT] PACQUI_20250716225557.zip -> PACQUI_20250716225557\n",
      "[EXTRACT] PACQUI_20250717225558.zip -> PACQUI_20250717225558\n",
      "[EXTRACT] PACQUI_20250718225559.zip -> PACQUI_20250718225559\n",
      "[EXTRACT] PACQUI_20250719225600.zip -> PACQUI_20250719225600\n",
      "[EXTRACT] PACQUI_20250720225601.zip -> PACQUI_20250720225601\n",
      "[EXTRACT] PACQUI_20250721225602.zip -> PACQUI_20250721225602\n",
      "[EXTRACT] PACQUI_20250722225603.zip -> PACQUI_20250722225603\n",
      "[EXTRACT] PACQUI_20250723225604.zip -> PACQUI_20250723225604\n",
      "[EXTRACT] PACQUI_20250724225605.zip -> PACQUI_20250724225605\n",
      "[EXTRACT] PACQUI_20250725225606.zip -> PACQUI_20250725225606\n",
      "[EXTRACT] PACQUI_20250726225607.zip -> PACQUI_20250726225607\n",
      "[EXTRACT] PACQUI_20250727225608.zip -> PACQUI_20250727225608\n",
      "[EXTRACT] PACQUI_20250728225609.zip -> PACQUI_20250728225609\n",
      "[EXTRACT] PACQUI_20250729225610.zip -> PACQUI_20250729225610\n",
      "[EXTRACT] PACQUI_20250730225611.zip -> PACQUI_20250730225611\n",
      "[EXTRACT] PACQUI_20250801210748.zip -> PACQUI_20250801210748\n",
      "[EXTRACT] PACQUI_20250802210749.zip -> PACQUI_20250802210749\n",
      "[EXTRACT] PACQUI_20250803210750.zip -> PACQUI_20250803210750\n",
      "[EXTRACT] PACQUI_20250804210751.zip -> PACQUI_20250804210751\n",
      "[EXTRACT] PACQUI_20250805210751.zip -> PACQUI_20250805210751\n",
      "[EXTRACT] PACQUI_20250806210752.zip -> PACQUI_20250806210752\n",
      "[EXTRACT] PACQUI_20250807210752.zip -> PACQUI_20250807210752\n",
      "[EXTRACT] PACQUI_20250808210753.zip -> PACQUI_20250808210753\n",
      "[EXTRACT] PACQUI_20250809210754.zip -> PACQUI_20250809210754\n",
      "[EXTRACT] PACQUI_20250810210755.zip -> PACQUI_20250810210755\n",
      "[EXTRACT] PACQUI_20250811210755.zip -> PACQUI_20250811210755\n",
      "[EXTRACT] PACQUI_20250812210756.zip -> PACQUI_20250812210756\n",
      "[EXTRACT] PACQUI_20250813210757.zip -> PACQUI_20250813210757\n",
      "[EXTRACT] PACQUI_20250814210758.zip -> PACQUI_20250814210758\n",
      "[EXTRACT] PACQUI_20250815210758.zip -> PACQUI_20250815210758\n",
      "[EXTRACT] PACQUI_20250816210759.zip -> PACQUI_20250816210759\n",
      "[EXTRACT] PACQUI_20250817210800.zip -> PACQUI_20250817210800\n",
      "[EXTRACT] PACQUI_20250818210801.zip -> PACQUI_20250818210801\n",
      "[EXTRACT] PACQUI_20250819210801.zip -> PACQUI_20250819210801\n",
      "[EXTRACT] PACQUI_20250820210802.zip -> PACQUI_20250820210802\n",
      "[EXTRACT] PACQUI_20250821210803.zip -> PACQUI_20250821210803\n",
      "[EXTRACT] PACQUI_20250822210804.zip -> PACQUI_20250822210804\n",
      "[EXTRACT] PACQUI_20250823210805.zip -> PACQUI_20250823210805\n",
      "\n",
      "===== SUMMARY =====\n",
      "ZIPs processed/existing: 132\n",
      "Total *.25O files copied: 132\n",
      "Destination: C:\\Users\\varga\\Box\\Data\\nc Files\\PACQUI\n"
     ]
    }
   ],
   "source": [
    "# === LOGIC: extract zips and copy ALL *.25O into a single folder (PACQUI) ===\n",
    "import zipfile, shutil\n",
    "from pathlib import Path\n",
    "\n",
    "def safe_extract(zf: zipfile.ZipFile, dest: Path):\n",
    "    for member in zf.infolist():\n",
    "        member_path = dest / member.filename\n",
    "        if not str(member_path.resolve()).startswith(str(dest.resolve())):\n",
    "            raise RuntimeError(f\"Unsafe ZIP entry: {member.filename}\")\n",
    "        zf.extract(member, dest)\n",
    "\n",
    "def extract_all_zips(root: Path, unzip_root: Path, pattern: str):\n",
    "    unzip_root.mkdir(parents=True, exist_ok=True)\n",
    "    zips = sorted(root.glob(pattern), key=lambda p: p.name.lower())\n",
    "    extracted = []\n",
    "    for z in zips:\n",
    "        target_dir = unzip_root / z.stem\n",
    "        if target_dir.exists():\n",
    "            extracted.append(target_dir)\n",
    "            continue\n",
    "        try:\n",
    "            with zipfile.ZipFile(z) as zf:\n",
    "                print(f\"[EXTRACT] {z.name} -> {target_dir.name}\")\n",
    "                target_dir.mkdir(parents=True, exist_ok=True)\n",
    "                safe_extract(zf, target_dir)\n",
    "                extracted.append(target_dir)\n",
    "        except Exception as e:\n",
    "            print(f\"[ERROR] {z.name}: {e}\")\n",
    "    return extracted\n",
    "\n",
    "def find_rinex_dirs(base: Path, substr: str):\n",
    "    sub = substr.lower()\n",
    "    return [p for p in base.rglob(\"*\") if p.is_dir() and sub in p.name.lower()]\n",
    "\n",
    "def copy_25O_flat(unzip_root: Path, dest_root: Path, rinex_substr: str, overwrite=False):\n",
    "    dest_root.mkdir(parents=True, exist_ok=True)\n",
    "    total = 0\n",
    "    for station_dir in sorted(p for p in unzip_root.iterdir() if p.is_dir()):\n",
    "        rinex_dirs = find_rinex_dirs(station_dir, rinex_substr)\n",
    "        if rinex_dirs:\n",
    "            for rdir in rinex_dirs:\n",
    "                for f in rdir.glob(\"*.25O\"):\n",
    "                    df = dest_root / f.name\n",
    "                    if df.exists() and not overwrite:\n",
    "                        continue\n",
    "                    shutil.copy2(f, df)\n",
    "                    total += 1\n",
    "        else:\n",
    "            for f in station_dir.rglob(\"*.25O\"):\n",
    "                df = dest_root / f.name\n",
    "                if df.exists() and not overwrite:\n",
    "                    continue\n",
    "                shutil.copy2(f, df)\n",
    "                total += 1\n",
    "    return total\n",
    "\n",
    "# === Run extraction ===\n",
    "DEST_ROOT.mkdir(parents=True, exist_ok=True)\n",
    "extracted_dirs = extract_all_zips(ZIP_ROOT, UNZIP_ROOT, ZIP_PATTERN)\n",
    "for p in sorted(UNZIP_ROOT.iterdir() if UNZIP_ROOT.exists() else []):\n",
    "    if p.is_dir() and p not in extracted_dirs:\n",
    "        extracted_dirs.append(p)\n",
    "\n",
    "total_copied = copy_25O_flat(UNZIP_ROOT, DEST_ROOT, RINEX_SUBSTR, overwrite=OVERWRITE_25O)\n",
    "print(\"\\n===== SUMMARY =====\")\n",
    "print(f\"ZIPs processed/existing: {len(extracted_dirs)}\")\n",
    "print(f\"Total *.25O files copied: {total_copied}\")\n",
    "print(f\"Destination: {DEST_ROOT}\")"
   ]
  },
  {
   "cell_type": "markdown",
   "id": "63d3a8eb",
   "metadata": {},
   "source": [
    "## 🗂️ 3. List All `.25O` Files\n",
    "Lists all `.25O` files consolidated in the PACQUI folder for verification."
   ]
  },
  {
   "cell_type": "code",
   "execution_count": 3,
   "id": "e6f894f4",
   "metadata": {},
   "outputs": [
    {
     "name": "stdout",
     "output_type": "stream",
     "text": [
      "Found 132 files:\n",
      "PACQUI_raw_20250413171438.25O\n",
      "PACQUI_raw_20250414171440.25O\n",
      "PACQUI_raw_20250415171441.25O\n",
      "PACQUI_raw_20250415215413.25O\n",
      "PACQUI_raw_20250415220203.25O\n",
      "PACQUI_raw_20250416220203.25O\n",
      "PACQUI_raw_20250417220205.25O\n",
      "PACQUI_raw_20250418220206.25O\n",
      "PACQUI_raw_20250419220207.25O\n",
      "PACQUI_raw_20250420220208.25O\n",
      "PACQUI_raw_20250421220209.25O\n",
      "PACQUI_raw_20250422220210.25O\n",
      "PACQUI_raw_20250423220211.25O\n",
      "PACQUI_raw_20250424220212.25O\n",
      "PACQUI_raw_20250425220213.25O\n",
      "PACQUI_raw_20250426220214.25O\n",
      "PACQUI_raw_20250427220215.25O\n",
      "PACQUI_raw_20250428220216.25O\n",
      "PACQUI_raw_20250429220217.25O\n",
      "PACQUI_raw_20250430220218.25O\n",
      "PACQUI_raw_20250501220219.25O\n",
      "PACQUI_raw_20250502220220.25O\n",
      "PACQUI_raw_20250503220221.25O\n",
      "PACQUI_raw_20250504220222.25O\n",
      "PACQUI_raw_20250506142454.25O\n",
      "PACQUI_raw_20250507142455.25O\n",
      "PACQUI_raw_20250508142456.25O\n",
      "PACQUI_raw_20250509142457.25O\n",
      "PACQUI_raw_20250510142458.25O\n",
      "PACQUI_raw_20250511142459.25O\n",
      "PACQUI_raw_20250512142501.25O\n",
      "PACQUI_raw_20250513142501.25O\n",
      "PACQUI_raw_20250514142502.25O\n",
      "PACQUI_raw_20250515142503.25O\n",
      "PACQUI_raw_20250516142504.25O\n",
      "PACQUI_raw_20250517142505.25O\n",
      "PACQUI_raw_20250518142506.25O\n",
      "PACQUI_raw_20250519142508.25O\n",
      "PACQUI_raw_20250520142509.25O\n",
      "PACQUI_raw_20250521142510.25O\n",
      "PACQUI_raw_20250522163921.25O\n",
      "PACQUI_raw_20250523163922.25O\n",
      "PACQUI_raw_20250524163923.25O\n",
      "PACQUI_raw_20250525163924.25O\n",
      "PACQUI_raw_20250526163924.25O\n",
      "PACQUI_raw_20250527163925.25O\n",
      "PACQUI_raw_20250528163926.25O\n",
      "PACQUI_raw_20250529163927.25O\n",
      "PACQUI_raw_20250530163928.25O\n",
      "PACQUI_raw_20250531163929.25O\n",
      "PACQUI_raw_20250601163930.25O\n",
      "PACQUI_raw_20250602163931.25O\n",
      "PACQUI_raw_20250603163931.25O\n",
      "PACQUI_raw_20250604163932.25O\n",
      "PACQUI_raw_20250605163933.25O\n",
      "PACQUI_raw_20250606163934.25O\n",
      "PACQUI_raw_20250607163935.25O\n",
      "PACQUI_raw_20250608163936.25O\n",
      "PACQUI_raw_20250610145050.25O\n",
      "PACQUI_raw_20250611145051.25O\n",
      "PACQUI_raw_20250612145052.25O\n",
      "PACQUI_raw_20250613145053.25O\n",
      "PACQUI_raw_20250614145054.25O\n",
      "PACQUI_raw_20250615145055.25O\n",
      "PACQUI_raw_20250616145055.25O\n",
      "PACQUI_raw_20250617145057.25O\n",
      "PACQUI_raw_20250618145058.25O\n",
      "PACQUI_raw_20250619145058.25O\n",
      "PACQUI_raw_20250620145059.25O\n",
      "PACQUI_raw_20250621145100.25O\n",
      "PACQUI_raw_20250622145101.25O\n",
      "PACQUI_raw_20250623145102.25O\n",
      "PACQUI_raw_20250624145103.25O\n",
      "PACQUI_raw_20250625145104.25O\n",
      "PACQUI_raw_20250626145106.25O\n",
      "PACQUI_raw_20250627145107.25O\n",
      "PACQUI_raw_20250628145108.25O\n",
      "PACQUI_raw_20250629145109.25O\n",
      "PACQUI_raw_20250630145110.25O\n",
      "PACQUI_raw_20250701145111.25O\n",
      "PACQUI_raw_20250702145112.25O\n",
      "PACQUI_raw_20250703145112.25O\n",
      "PACQUI_raw_20250704145114.25O\n",
      "PACQUI_raw_20250705145115.25O\n",
      "PACQUI_raw_20250706145116.25O\n",
      "PACQUI_raw_20250707145116.25O\n",
      "PACQUI_raw_20250708145117.25O\n",
      "PACQUI_raw_20250709225550.25O\n",
      "PACQUI_raw_20250710225550.25O\n",
      "PACQUI_raw_20250711225551.25O\n",
      "PACQUI_raw_20250712225552.25O\n",
      "PACQUI_raw_20250713225553.25O\n",
      "PACQUI_raw_20250714225554.25O\n",
      "PACQUI_raw_20250715225556.25O\n",
      "PACQUI_raw_20250716225557.25O\n",
      "PACQUI_raw_20250717225558.25O\n",
      "PACQUI_raw_20250718225559.25O\n",
      "PACQUI_raw_20250719225600.25O\n",
      "PACQUI_raw_20250720225601.25O\n",
      "PACQUI_raw_20250721225602.25O\n",
      "PACQUI_raw_20250722225603.25O\n",
      "PACQUI_raw_20250723225604.25O\n",
      "PACQUI_raw_20250724225605.25O\n",
      "PACQUI_raw_20250725225606.25O\n",
      "PACQUI_raw_20250726225607.25O\n",
      "PACQUI_raw_20250727225608.25O\n",
      "PACQUI_raw_20250728225609.25O\n",
      "PACQUI_raw_20250729225610.25O\n",
      "PACQUI_raw_20250730225611.25O\n",
      "PACQUI_raw_20250801210748.25O\n",
      "PACQUI_raw_20250802210749.25O\n",
      "PACQUI_raw_20250803210750.25O\n",
      "PACQUI_raw_20250804210751.25O\n",
      "PACQUI_raw_20250805210751.25O\n",
      "PACQUI_raw_20250806210752.25O\n",
      "PACQUI_raw_20250807210752.25O\n",
      "PACQUI_raw_20250808210753.25O\n",
      "PACQUI_raw_20250809210754.25O\n",
      "PACQUI_raw_20250810210755.25O\n",
      "PACQUI_raw_20250811210755.25O\n",
      "PACQUI_raw_20250812210756.25O\n",
      "PACQUI_raw_20250813210757.25O\n",
      "PACQUI_raw_20250814210758.25O\n",
      "PACQUI_raw_20250815210758.25O\n",
      "PACQUI_raw_20250816210759.25O\n",
      "PACQUI_raw_20250817210800.25O\n",
      "PACQUI_raw_20250818210801.25O\n",
      "PACQUI_raw_20250819210801.25O\n",
      "PACQUI_raw_20250820210802.25O\n",
      "PACQUI_raw_20250821210803.25O\n",
      "PACQUI_raw_20250822210804.25O\n",
      "PACQUI_raw_20250823210805.25O\n"
     ]
    }
   ],
   "source": [
    "from pathlib import Path\n",
    "\n",
    "# Folder where all PACQUI .25O files were copied\n",
    "root = Path(r\"C:\\Users\\varga\\Box\\Data\\nc Files\\PACQUI\")\n",
    "\n",
    "# Find all .25O files\n",
    "files = list(root.glob(\"*.25O\"))\n",
    "\n",
    "print(\"Found\", len(files), \"files:\")\n",
    "for f in files:\n",
    "    print(f.name)"
   ]
  },
  {
   "cell_type": "markdown",
   "id": "072729b7",
   "metadata": {},
   "source": [
    "## ⚙️ 4. Convert `.25O` Files to NetCDF\n",
    "Processes `.25O` observation files into NetCDF format using `gnssvod.preprocess()`.\n",
    "- Creates subfolders `processed/` (output) and `aux_orbits/` (for SP3/CLK cache).\n",
    "- Skips files already processed unless `FORCE_REDO=True`.\n",
    "- Reports skipped, successful, and failed files."
   ]
  },
  {
   "cell_type": "code",
   "execution_count": 4,
   "id": "76570e14",
   "metadata": {},
   "outputs": [
    {
     "name": "stdout",
     "output_type": "stream",
     "text": [
      "Found 132 .25O files (showing up to 5): ['C:\\\\Users\\\\varga\\\\Box\\\\Data\\\\nc Files\\\\PACQUI\\\\PACQUI_raw_20250413171438.25O', 'C:\\\\Users\\\\varga\\\\Box\\\\Data\\\\nc Files\\\\PACQUI\\\\PACQUI_raw_20250414171440.25O', 'C:\\\\Users\\\\varga\\\\Box\\\\Data\\\\nc Files\\\\PACQUI\\\\PACQUI_raw_20250415171441.25O', 'C:\\\\Users\\\\varga\\\\Box\\\\Data\\\\nc Files\\\\PACQUI\\\\PACQUI_raw_20250415215413.25O', 'C:\\\\Users\\\\varga\\\\Box\\\\Data\\\\nc Files\\\\PACQUI\\\\PACQUI_raw_20250415220203.25O']\n",
      "Could not find any files matching the pattern C:\\Users\\varga\\Box\\Data\\nc Files\\PACQUI\\processed*.nc\n",
      "C:\\Users\\varga\\Box\\Data\\nc Files\\PACQUI\\PACQUI_raw_20250413171438.25O exists | Reading...\n",
      "Processed 0 out of 3201676 lines (0.0%)\n",
      "Processed 96879 out of 3201676 lines (3.0%)\n",
      "Processed 492748 out of 3201676 lines (15.4%)\n",
      "Processed 950904 out of 3201676 lines (29.7%)\n",
      "Processed 1092446 out of 3201676 lines (34.1%)\n",
      "Processed 1561059 out of 3201676 lines (48.8%)\n",
      "Processed 1644822 out of 3201676 lines (51.4%)\n",
      "Processed 1865708 out of 3201676 lines (58.3%)\n",
      "Processed 2160932 out of 3201676 lines (67.5%)\n",
      "Processed 2582077 out of 3201676 lines (80.6%)\n",
      "Processed 2678815 out of 3201676 lines (83.7%)\n",
      "Processed 2926481 out of 3201676 lines (91.4%)\n",
      "Processed 3052444 out of 3201676 lines (95.3%)\n",
      "Observation file  C:\\Users\\varga\\Box\\Data\\nc Files\\PACQUI\\PACQUI_raw_20250413171438.25O  is read in 1169.22 seconds.\n",
      "Processing 3115274 individual observations\n",
      "Calculating Azimuth and Elevation\n",
      "This file does not exist: C:\\Users\\varga\\Box\\Data\\nc Files\\PACQUI\\aux_orbits\\GFZ0MGXRAP_20251030000_01D_05M_ORB.SP3\n",
      "Downloading: ftp://gssc.esa.int/gnss/products/2362//GFZ0MGXRAP_20251030000_01D_05M_ORB.SP3.gz"
     ]
    },
    {
     "name": "stderr",
     "output_type": "stream",
     "text": [
      "GFZ0MGXRAP_20251030000_01D_05M_ORB.SP3.gz: 1.03MB [00:07, 147kB/s]                             \n"
     ]
    },
    {
     "name": "stdout",
     "output_type": "stream",
     "text": [
      " | Download completed for ftp://gssc.esa.int/gnss/products/2362//GFZ0MGXRAP_20251030000_01D_05M_ORB.SP3.gz\n",
      "C:\\Users\\varga\\Box\\Data\\nc Files\\PACQUI\\aux_orbits\\GFZ0MGXRAP_20251030000_01D_05M_ORB.SP3 file is read in 15.81 seconds\n",
      "This file does not exist: C:\\Users\\varga\\Box\\Data\\nc Files\\PACQUI\\aux_orbits\\GFZ0MGXRAP_20251040000_01D_05M_ORB.SP3\n",
      "Downloading: ftp://gssc.esa.int/gnss/products/2362//GFZ0MGXRAP_20251040000_01D_05M_ORB.SP3.gz"
     ]
    },
    {
     "name": "stderr",
     "output_type": "stream",
     "text": [
      "GFZ0MGXRAP_20251040000_01D_05M_ORB.SP3.gz: 1.03MB [00:03, 316kB/s]                             \n"
     ]
    },
    {
     "name": "stdout",
     "output_type": "stream",
     "text": [
      " | Download completed for ftp://gssc.esa.int/gnss/products/2362//GFZ0MGXRAP_20251040000_01D_05M_ORB.SP3.gz\n",
      "C:\\Users\\varga\\Box\\Data\\nc Files\\PACQUI\\aux_orbits\\GFZ0MGXRAP_20251040000_01D_05M_ORB.SP3 file is read in 10.62 seconds\n",
      "This file does not exist: C:\\Users\\varga\\Box\\Data\\nc Files\\PACQUI\\aux_orbits\\GFZ0MGXRAP_20251030000_01D_30S_CLK.CLK\n",
      "Downloading: GFZ0MGXRAP_20251030000_01D_30S_CLK.CLK.gz"
     ]
    },
    {
     "name": "stderr",
     "output_type": "stream",
     "text": [
      "GFZ0MGXRAP_20251030000_01D_30S_CLK.CLK.gz: 4.73MB [00:04, 1.03MB/s]                            \n"
     ]
    },
    {
     "name": "stdout",
     "output_type": "stream",
     "text": [
      " | Download completed for GFZ0MGXRAP_20251030000_01D_30S_CLK.CLK.gz\n",
      "C:\\Users\\varga\\Box\\Data\\nc Files\\PACQUI\\aux_orbits\\GFZ0MGXRAP_20251030000_01D_30S_CLK.CLK file is read in 7.74 seconds\n",
      "This file does not exist: C:\\Users\\varga\\Box\\Data\\nc Files\\PACQUI\\aux_orbits\\GFZ0MGXRAP_20251040000_01D_30S_CLK.CLK\n",
      "Downloading: GFZ0MGXRAP_20251040000_01D_30S_CLK.CLK.gz"
     ]
    },
    {
     "name": "stderr",
     "output_type": "stream",
     "text": [
      "GFZ0MGXRAP_20251040000_01D_30S_CLK.CLK.gz: 4.74MB [00:06, 733kB/s]                             \n"
     ]
    },
    {
     "name": "stdout",
     "output_type": "stream",
     "text": [
      " | Download completed for GFZ0MGXRAP_20251040000_01D_30S_CLK.CLK.gz\n",
      "C:\\Users\\varga\\Box\\Data\\nc Files\\PACQUI\\aux_orbits\\GFZ0MGXRAP_20251040000_01D_30S_CLK.CLK file is read in 25.63 seconds\n",
      "SP3 interpolation is done in 45.28 seconds\n",
      "Saved 212528 individual observations in C:\\Users\\varga\\Box\\Data\\nc Files\\PACQUI\\processed\\PACQUI_raw_20250413171438.nc\n",
      "[OK] PACQUI_raw_20250413171438.25O\n",
      "Could not find any files matching the pattern C:\\Users\\varga\\Box\\Data\\nc Files\\PACQUI\\processed*.nc\n",
      "C:\\Users\\varga\\Box\\Data\\nc Files\\PACQUI\\PACQUI_raw_20250414171440.25O exists | Reading...\n",
      "Processed 0 out of 3137336 lines (0.0%)\n",
      "Processed 419159 out of 3137336 lines (13.4%)\n",
      "Processed 521858 out of 3137336 lines (16.6%)\n",
      "Processed 1071047 out of 3137336 lines (34.1%)\n",
      "Processed 1188021 out of 3137336 lines (37.9%)\n",
      "Processed 1634847 out of 3137336 lines (52.1%)\n",
      "Processed 2166159 out of 3137336 lines (69.0%)\n",
      "Processed 2255418 out of 3137336 lines (71.9%)\n",
      "Processed 2691167 out of 3137336 lines (85.8%)\n",
      "Processed 2784662 out of 3137336 lines (88.8%)\n",
      "Processed 3127205 out of 3137336 lines (99.7%)\n",
      "Observation file  C:\\Users\\varga\\Box\\Data\\nc Files\\PACQUI\\PACQUI_raw_20250414171440.25O  is read in 726.62 seconds.\n",
      "Processing 3050936 individual observations\n",
      "Calculating Azimuth and Elevation\n",
      "C:\\Users\\varga\\Box\\Data\\nc Files\\PACQUI\\aux_orbits\\GFZ0MGXRAP_20251040000_01D_05M_ORB.SP3 exists | Reading...\n",
      "C:\\Users\\varga\\Box\\Data\\nc Files\\PACQUI\\aux_orbits\\GFZ0MGXRAP_20251040000_01D_05M_ORB.SP3 file is read in 0.59 seconds\n",
      "This file does not exist: C:\\Users\\varga\\Box\\Data\\nc Files\\PACQUI\\aux_orbits\\GFZ0MGXRAP_20251050000_01D_05M_ORB.SP3\n",
      "Downloading: ftp://gssc.esa.int/gnss/products/2362//GFZ0MGXRAP_20251050000_01D_05M_ORB.SP3.gz"
     ]
    },
    {
     "name": "stderr",
     "output_type": "stream",
     "text": [
      "GFZ0MGXRAP_20251050000_01D_05M_ORB.SP3.gz: 1.04MB [00:06, 161kB/s]                             \n"
     ]
    },
    {
     "name": "stdout",
     "output_type": "stream",
     "text": [
      " | Download completed for ftp://gssc.esa.int/gnss/products/2362//GFZ0MGXRAP_20251050000_01D_05M_ORB.SP3.gz\n",
      "C:\\Users\\varga\\Box\\Data\\nc Files\\PACQUI\\aux_orbits\\GFZ0MGXRAP_20251050000_01D_05M_ORB.SP3 file is read in 14.61 seconds\n",
      "C:\\Users\\varga\\Box\\Data\\nc Files\\PACQUI\\aux_orbits\\GFZ0MGXRAP_20251040000_01D_30S_CLK.CLK exists | Reading...\n",
      "C:\\Users\\varga\\Box\\Data\\nc Files\\PACQUI\\aux_orbits\\GFZ0MGXRAP_20251040000_01D_30S_CLK.CLK file is read in 27.47 seconds\n",
      "This file does not exist: C:\\Users\\varga\\Box\\Data\\nc Files\\PACQUI\\aux_orbits\\GFZ0MGXRAP_20251050000_01D_30S_CLK.CLK\n",
      "Downloading: GFZ0MGXRAP_20251050000_01D_30S_CLK.CLK.gz"
     ]
    },
    {
     "name": "stderr",
     "output_type": "stream",
     "text": [
      "GFZ0MGXRAP_20251050000_01D_30S_CLK.CLK.gz: 4.80MB [00:25, 199kB/s]                             \n"
     ]
    },
    {
     "name": "stdout",
     "output_type": "stream",
     "text": [
      " | Download completed for GFZ0MGXRAP_20251050000_01D_30S_CLK.CLK.gz\n",
      "C:\\Users\\varga\\Box\\Data\\nc Files\\PACQUI\\aux_orbits\\GFZ0MGXRAP_20251050000_01D_30S_CLK.CLK file is read in 28.45 seconds\n",
      "SP3 interpolation is done in 8.03 seconds\n",
      "Saved 206999 individual observations in C:\\Users\\varga\\Box\\Data\\nc Files\\PACQUI\\processed\\PACQUI_raw_20250414171440.nc\n",
      "[OK] PACQUI_raw_20250414171440.25O\n",
      "Could not find any files matching the pattern C:\\Users\\varga\\Box\\Data\\nc Files\\PACQUI\\processed*.nc\n",
      "C:\\Users\\varga\\Box\\Data\\nc Files\\PACQUI\\PACQUI_raw_20250415171441.25O exists | Reading...\n",
      "Processed 195922 out of 645478 lines (30.4%)\n",
      "Processed 298388 out of 645478 lines (46.2%)\n",
      "Observation file  C:\\Users\\varga\\Box\\Data\\nc Files\\PACQUI\\PACQUI_raw_20250415171441.25O  is read in 96.15 seconds.\n",
      "Processing 628707 individual observations\n",
      "Calculating Azimuth and Elevation\n",
      "C:\\Users\\varga\\Box\\Data\\nc Files\\PACQUI\\aux_orbits\\GFZ0MGXRAP_20251050000_01D_05M_ORB.SP3 exists | Reading...\n",
      "C:\\Users\\varga\\Box\\Data\\nc Files\\PACQUI\\aux_orbits\\GFZ0MGXRAP_20251050000_01D_05M_ORB.SP3 file is read in 5.97 seconds\n",
      "This file does not exist: C:\\Users\\varga\\Box\\Data\\nc Files\\PACQUI\\aux_orbits\\GFZ0MGXRAP_20251060000_01D_05M_ORB.SP3\n",
      "Downloading: ftp://gssc.esa.int/gnss/products/2362//GFZ0MGXRAP_20251060000_01D_05M_ORB.SP3.gz"
     ]
    },
    {
     "name": "stderr",
     "output_type": "stream",
     "text": [
      "GFZ0MGXRAP_20251060000_01D_05M_ORB.SP3.gz: 1.03MB [00:03, 303kB/s]                             \n"
     ]
    },
    {
     "name": "stdout",
     "output_type": "stream",
     "text": [
      " | Download completed for ftp://gssc.esa.int/gnss/products/2362//GFZ0MGXRAP_20251060000_01D_05M_ORB.SP3.gz\n",
      "C:\\Users\\varga\\Box\\Data\\nc Files\\PACQUI\\aux_orbits\\GFZ0MGXRAP_20251060000_01D_05M_ORB.SP3 file is read in 4.44 seconds\n",
      "C:\\Users\\varga\\Box\\Data\\nc Files\\PACQUI\\aux_orbits\\GFZ0MGXRAP_20251050000_01D_30S_CLK.CLK exists | Reading...\n",
      "C:\\Users\\varga\\Box\\Data\\nc Files\\PACQUI\\aux_orbits\\GFZ0MGXRAP_20251050000_01D_30S_CLK.CLK file is read in 2.82 seconds\n",
      "This file does not exist: C:\\Users\\varga\\Box\\Data\\nc Files\\PACQUI\\aux_orbits\\GFZ0MGXRAP_20251060000_01D_30S_CLK.CLK\n",
      "Downloading: GFZ0MGXRAP_20251060000_01D_30S_CLK.CLK.gz"
     ]
    },
    {
     "name": "stderr",
     "output_type": "stream",
     "text": [
      "GFZ0MGXRAP_20251060000_01D_30S_CLK.CLK.gz: 4.77MB [00:19, 262kB/s]                             \n"
     ]
    },
    {
     "name": "stdout",
     "output_type": "stream",
     "text": [
      " | Download completed for GFZ0MGXRAP_20251060000_01D_30S_CLK.CLK.gz\n",
      "C:\\Users\\varga\\Box\\Data\\nc Files\\PACQUI\\aux_orbits\\GFZ0MGXRAP_20251060000_01D_30S_CLK.CLK file is read in 24.51 seconds\n"
     ]
    },
    {
     "name": "stderr",
     "output_type": "stream",
     "text": [
      "C:\\Users\\varga\\Documents\\GitHub\\gnssvod\\gnssvod\\position\\interpolation.py:59: FutureWarning: The behavior of pd.concat with len(keys) != len(objs) is deprecated. In a future version this will raise instead of truncating to the smaller of the two sequences\n",
      "  sp3_resampled = _pd.concat(sp3_resampled, keys=svList, names=['SV']).reorder_levels(['Epoch', 'SV']).sort_index(level='Epoch')\n"
     ]
    },
    {
     "name": "stdout",
     "output_type": "stream",
     "text": [
      "SP3 interpolation is done in 3.39 seconds\n",
      "Saved 42603 individual observations in C:\\Users\\varga\\Box\\Data\\nc Files\\PACQUI\\processed\\PACQUI_raw_20250415171441.nc\n",
      "[OK] PACQUI_raw_20250415171441.25O\n",
      "Could not find any files matching the pattern C:\\Users\\varga\\Box\\Data\\nc Files\\PACQUI\\processed*.nc\n",
      "C:\\Users\\varga\\Box\\Data\\nc Files\\PACQUI\\PACQUI_raw_20250415215413.25O exists | Reading...\n",
      "Observation file  C:\\Users\\varga\\Box\\Data\\nc Files\\PACQUI\\PACQUI_raw_20250415215413.25O  is read in 1.58 seconds.\n",
      "Processing 3687 individual observations\n",
      "Calculating Azimuth and Elevation\n",
      "C:\\Users\\varga\\Box\\Data\\nc Files\\PACQUI\\aux_orbits\\GFZ0MGXRAP_20251050000_01D_05M_ORB.SP3 exists | Reading...\n",
      "C:\\Users\\varga\\Box\\Data\\nc Files\\PACQUI\\aux_orbits\\GFZ0MGXRAP_20251050000_01D_05M_ORB.SP3 file is read in 7.34 seconds\n",
      "C:\\Users\\varga\\Box\\Data\\nc Files\\PACQUI\\aux_orbits\\GFZ0MGXRAP_20251060000_01D_05M_ORB.SP3 exists | Reading...\n",
      "C:\\Users\\varga\\Box\\Data\\nc Files\\PACQUI\\aux_orbits\\GFZ0MGXRAP_20251060000_01D_05M_ORB.SP3 file is read in 8.48 seconds\n",
      "C:\\Users\\varga\\Box\\Data\\nc Files\\PACQUI\\aux_orbits\\GFZ0MGXRAP_20251050000_01D_30S_CLK.CLK exists | Reading...\n",
      "C:\\Users\\varga\\Box\\Data\\nc Files\\PACQUI\\aux_orbits\\GFZ0MGXRAP_20251050000_01D_30S_CLK.CLK file is read in 18.25 seconds\n",
      "C:\\Users\\varga\\Box\\Data\\nc Files\\PACQUI\\aux_orbits\\GFZ0MGXRAP_20251060000_01D_30S_CLK.CLK exists | Reading...\n",
      "C:\\Users\\varga\\Box\\Data\\nc Files\\PACQUI\\aux_orbits\\GFZ0MGXRAP_20251060000_01D_30S_CLK.CLK file is read in 3.95 seconds\n"
     ]
    },
    {
     "name": "stderr",
     "output_type": "stream",
     "text": [
      "C:\\Users\\varga\\Documents\\GitHub\\gnssvod\\gnssvod\\position\\interpolation.py:59: FutureWarning: The behavior of pd.concat with len(keys) != len(objs) is deprecated. In a future version this will raise instead of truncating to the smaller of the two sequences\n",
      "  sp3_resampled = _pd.concat(sp3_resampled, keys=svList, names=['SV']).reorder_levels(['Epoch', 'SV']).sort_index(level='Epoch')\n"
     ]
    },
    {
     "name": "stdout",
     "output_type": "stream",
     "text": [
      "SP3 interpolation is done in 26.70 seconds\n",
      "Saved 1263 individual observations in C:\\Users\\varga\\Box\\Data\\nc Files\\PACQUI\\processed\\PACQUI_raw_20250415215413.nc\n",
      "[OK] PACQUI_raw_20250415215413.25O\n",
      "Could not find any files matching the pattern C:\\Users\\varga\\Box\\Data\\nc Files\\PACQUI\\processed*.nc\n",
      "C:\\Users\\varga\\Box\\Data\\nc Files\\PACQUI\\PACQUI_raw_20250415220203.25O exists | Reading...\n",
      "Processed 79285 out of 105534 lines (75.1%)\n",
      "Observation file  C:\\Users\\varga\\Box\\Data\\nc Files\\PACQUI\\PACQUI_raw_20250415220203.25O  is read in 31.39 seconds.\n",
      "Processing 102654 individual observations\n",
      "Calculating Azimuth and Elevation\n",
      "C:\\Users\\varga\\Box\\Data\\nc Files\\PACQUI\\aux_orbits\\GFZ0MGXRAP_20251050000_01D_05M_ORB.SP3 exists | Reading...\n",
      "C:\\Users\\varga\\Box\\Data\\nc Files\\PACQUI\\aux_orbits\\GFZ0MGXRAP_20251050000_01D_05M_ORB.SP3 file is read in 0.97 seconds\n",
      "C:\\Users\\varga\\Box\\Data\\nc Files\\PACQUI\\aux_orbits\\GFZ0MGXRAP_20251060000_01D_05M_ORB.SP3 exists | Reading...\n",
      "C:\\Users\\varga\\Box\\Data\\nc Files\\PACQUI\\aux_orbits\\GFZ0MGXRAP_20251060000_01D_05M_ORB.SP3 file is read in 0.76 seconds\n",
      "This file does not exist: C:\\Users\\varga\\Box\\Data\\nc Files\\PACQUI\\aux_orbits\\GFZ0MGXRAP_20251070000_01D_05M_ORB.SP3\n",
      "Downloading: ftp://gssc.esa.int/gnss/products/2362//GFZ0MGXRAP_20251070000_01D_05M_ORB.SP3.gz"
     ]
    },
    {
     "name": "stderr",
     "output_type": "stream",
     "text": [
      "GFZ0MGXRAP_20251070000_01D_05M_ORB.SP3.gz: 1.02MB [00:03, 321kB/s]                             \n"
     ]
    },
    {
     "name": "stdout",
     "output_type": "stream",
     "text": [
      " | Download completed for ftp://gssc.esa.int/gnss/products/2362//GFZ0MGXRAP_20251070000_01D_05M_ORB.SP3.gz\n",
      "C:\\Users\\varga\\Box\\Data\\nc Files\\PACQUI\\aux_orbits\\GFZ0MGXRAP_20251070000_01D_05M_ORB.SP3 file is read in 14.63 seconds\n",
      "C:\\Users\\varga\\Box\\Data\\nc Files\\PACQUI\\aux_orbits\\GFZ0MGXRAP_20251050000_01D_30S_CLK.CLK exists | Reading...\n",
      "C:\\Users\\varga\\Box\\Data\\nc Files\\PACQUI\\aux_orbits\\GFZ0MGXRAP_20251050000_01D_30S_CLK.CLK file is read in 32.48 seconds\n",
      "C:\\Users\\varga\\Box\\Data\\nc Files\\PACQUI\\aux_orbits\\GFZ0MGXRAP_20251060000_01D_30S_CLK.CLK exists | Reading...\n",
      "C:\\Users\\varga\\Box\\Data\\nc Files\\PACQUI\\aux_orbits\\GFZ0MGXRAP_20251060000_01D_30S_CLK.CLK file is read in 9.36 seconds\n",
      "This file does not exist: C:\\Users\\varga\\Box\\Data\\nc Files\\PACQUI\\aux_orbits\\GFZ0MGXRAP_20251070000_01D_30S_CLK.CLK\n",
      "Downloading: GFZ0MGXRAP_20251070000_01D_30S_CLK.CLK.gz"
     ]
    },
    {
     "name": "stderr",
     "output_type": "stream",
     "text": [
      "GFZ0MGXRAP_20251070000_01D_30S_CLK.CLK.gz: 4.71MB [00:04, 1.10MB/s]                            \n"
     ]
    },
    {
     "name": "stdout",
     "output_type": "stream",
     "text": [
      " | Download completed for GFZ0MGXRAP_20251070000_01D_30S_CLK.CLK.gz\n",
      "C:\\Users\\varga\\Box\\Data\\nc Files\\PACQUI\\aux_orbits\\GFZ0MGXRAP_20251070000_01D_30S_CLK.CLK file is read in 26.80 seconds\n",
      "SP3 interpolation is done in 5.61 seconds\n",
      "Saved 102654 individual observations in C:\\Users\\varga\\Box\\Data\\nc Files\\PACQUI\\processed\\PACQUI_raw_20250415220203.nc\n",
      "[OK] PACQUI_raw_20250415220203.25O\n",
      "Could not find any files matching the pattern C:\\Users\\varga\\Box\\Data\\nc Files\\PACQUI\\processed*.nc\n",
      "C:\\Users\\varga\\Box\\Data\\nc Files\\PACQUI\\PACQUI_raw_20250416220203.25O exists | Reading...\n",
      "Observation file  C:\\Users\\varga\\Box\\Data\\nc Files\\PACQUI\\PACQUI_raw_20250416220203.25O  is read in 24.67 seconds.\n",
      "Processing 104840 individual observations\n",
      "Calculating Azimuth and Elevation\n",
      "C:\\Users\\varga\\Box\\Data\\nc Files\\PACQUI\\aux_orbits\\GFZ0MGXRAP_20251060000_01D_05M_ORB.SP3 exists | Reading...\n",
      "C:\\Users\\varga\\Box\\Data\\nc Files\\PACQUI\\aux_orbits\\GFZ0MGXRAP_20251060000_01D_05M_ORB.SP3 file is read in 5.61 seconds\n",
      "C:\\Users\\varga\\Box\\Data\\nc Files\\PACQUI\\aux_orbits\\GFZ0MGXRAP_20251070000_01D_05M_ORB.SP3 exists | Reading...\n",
      "C:\\Users\\varga\\Box\\Data\\nc Files\\PACQUI\\aux_orbits\\GFZ0MGXRAP_20251070000_01D_05M_ORB.SP3 file is read in 6.23 seconds\n",
      "This file does not exist: C:\\Users\\varga\\Box\\Data\\nc Files\\PACQUI\\aux_orbits\\GFZ0MGXRAP_20251080000_01D_05M_ORB.SP3\n",
      "Downloading: ftp://gssc.esa.int/gnss/products/2362//GFZ0MGXRAP_20251080000_01D_05M_ORB.SP3.gz"
     ]
    },
    {
     "name": "stderr",
     "output_type": "stream",
     "text": [
      "GFZ0MGXRAP_20251080000_01D_05M_ORB.SP3.gz: 1.04MB [00:09, 110kB/s]                             \n"
     ]
    },
    {
     "name": "stdout",
     "output_type": "stream",
     "text": [
      " | Download completed for ftp://gssc.esa.int/gnss/products/2362//GFZ0MGXRAP_20251080000_01D_05M_ORB.SP3.gz\n",
      "C:\\Users\\varga\\Box\\Data\\nc Files\\PACQUI\\aux_orbits\\GFZ0MGXRAP_20251080000_01D_05M_ORB.SP3 file is read in 10.55 seconds\n",
      "C:\\Users\\varga\\Box\\Data\\nc Files\\PACQUI\\aux_orbits\\GFZ0MGXRAP_20251060000_01D_30S_CLK.CLK exists | Reading...\n",
      "C:\\Users\\varga\\Box\\Data\\nc Files\\PACQUI\\aux_orbits\\GFZ0MGXRAP_20251060000_01D_30S_CLK.CLK file is read in 2.52 seconds\n",
      "C:\\Users\\varga\\Box\\Data\\nc Files\\PACQUI\\aux_orbits\\GFZ0MGXRAP_20251070000_01D_30S_CLK.CLK exists | Reading...\n",
      "C:\\Users\\varga\\Box\\Data\\nc Files\\PACQUI\\aux_orbits\\GFZ0MGXRAP_20251070000_01D_30S_CLK.CLK file is read in 2.36 seconds\n",
      "This file does not exist: C:\\Users\\varga\\Box\\Data\\nc Files\\PACQUI\\aux_orbits\\GFZ0MGXRAP_20251080000_01D_30S_CLK.CLK\n",
      "Downloading: GFZ0MGXRAP_20251080000_01D_30S_CLK.CLK.gz"
     ]
    },
    {
     "name": "stderr",
     "output_type": "stream",
     "text": [
      "GFZ0MGXRAP_20251080000_01D_30S_CLK.CLK.gz: 4.77MB [00:03, 1.33MB/s]                            \n"
     ]
    },
    {
     "name": "stdout",
     "output_type": "stream",
     "text": [
      " | Download completed for GFZ0MGXRAP_20251080000_01D_30S_CLK.CLK.gz\n",
      "C:\\Users\\varga\\Box\\Data\\nc Files\\PACQUI\\aux_orbits\\GFZ0MGXRAP_20251080000_01D_30S_CLK.CLK file is read in 20.98 seconds\n"
     ]
    },
    {
     "name": "stderr",
     "output_type": "stream",
     "text": [
      "C:\\Users\\varga\\Documents\\GitHub\\gnssvod\\gnssvod\\position\\interpolation.py:59: FutureWarning: The behavior of pd.concat with len(keys) != len(objs) is deprecated. In a future version this will raise instead of truncating to the smaller of the two sequences\n",
      "  sp3_resampled = _pd.concat(sp3_resampled, keys=svList, names=['SV']).reorder_levels(['Epoch', 'SV']).sort_index(level='Epoch')\n"
     ]
    },
    {
     "name": "stdout",
     "output_type": "stream",
     "text": [
      "SP3 interpolation is done in 29.06 seconds\n",
      "Saved 104840 individual observations in C:\\Users\\varga\\Box\\Data\\nc Files\\PACQUI\\processed\\PACQUI_raw_20250416220203.nc\n",
      "[OK] PACQUI_raw_20250416220203.25O\n",
      "Could not find any files matching the pattern C:\\Users\\varga\\Box\\Data\\nc Files\\PACQUI\\processed*.nc\n",
      "C:\\Users\\varga\\Box\\Data\\nc Files\\PACQUI\\PACQUI_raw_20250417220205.25O exists | Reading...\n",
      "Observation file  C:\\Users\\varga\\Box\\Data\\nc Files\\PACQUI\\PACQUI_raw_20250417220205.25O  is read in 2.60 seconds.\n",
      "Processing 102777 individual observations\n",
      "Calculating Azimuth and Elevation\n",
      "C:\\Users\\varga\\Box\\Data\\nc Files\\PACQUI\\aux_orbits\\GFZ0MGXRAP_20251070000_01D_05M_ORB.SP3 exists | Reading...\n",
      "C:\\Users\\varga\\Box\\Data\\nc Files\\PACQUI\\aux_orbits\\GFZ0MGXRAP_20251070000_01D_05M_ORB.SP3 file is read in 0.48 seconds\n",
      "C:\\Users\\varga\\Box\\Data\\nc Files\\PACQUI\\aux_orbits\\GFZ0MGXRAP_20251080000_01D_05M_ORB.SP3 exists | Reading...\n",
      "C:\\Users\\varga\\Box\\Data\\nc Files\\PACQUI\\aux_orbits\\GFZ0MGXRAP_20251080000_01D_05M_ORB.SP3 file is read in 1.65 seconds\n",
      "This file does not exist: C:\\Users\\varga\\Box\\Data\\nc Files\\PACQUI\\aux_orbits\\GFZ0MGXRAP_20251090000_01D_05M_ORB.SP3\n",
      "Downloading: ftp://gssc.esa.int/gnss/products/2362//GFZ0MGXRAP_20251090000_01D_05M_ORB.SP3.gz"
     ]
    },
    {
     "name": "stderr",
     "output_type": "stream",
     "text": [
      "GFZ0MGXRAP_20251090000_01D_05M_ORB.SP3.gz: 1.04MB [00:03, 288kB/s]                             \n"
     ]
    },
    {
     "name": "stdout",
     "output_type": "stream",
     "text": [
      " | Download completed for ftp://gssc.esa.int/gnss/products/2362//GFZ0MGXRAP_20251090000_01D_05M_ORB.SP3.gz\n",
      "C:\\Users\\varga\\Box\\Data\\nc Files\\PACQUI\\aux_orbits\\GFZ0MGXRAP_20251090000_01D_05M_ORB.SP3 file is read in 10.76 seconds\n",
      "C:\\Users\\varga\\Box\\Data\\nc Files\\PACQUI\\aux_orbits\\GFZ0MGXRAP_20251070000_01D_30S_CLK.CLK exists | Reading...\n",
      "C:\\Users\\varga\\Box\\Data\\nc Files\\PACQUI\\aux_orbits\\GFZ0MGXRAP_20251070000_01D_30S_CLK.CLK file is read in 24.20 seconds\n",
      "C:\\Users\\varga\\Box\\Data\\nc Files\\PACQUI\\aux_orbits\\GFZ0MGXRAP_20251080000_01D_30S_CLK.CLK exists | Reading...\n",
      "C:\\Users\\varga\\Box\\Data\\nc Files\\PACQUI\\aux_orbits\\GFZ0MGXRAP_20251080000_01D_30S_CLK.CLK file is read in 19.77 seconds\n",
      "This file does not exist: C:\\Users\\varga\\Box\\Data\\nc Files\\PACQUI\\aux_orbits\\GFZ0MGXRAP_20251090000_01D_30S_CLK.CLK\n",
      "Downloading: GFZ0MGXRAP_20251090000_01D_30S_CLK.CLK.gz"
     ]
    },
    {
     "name": "stderr",
     "output_type": "stream",
     "text": [
      "GFZ0MGXRAP_20251090000_01D_30S_CLK.CLK.gz: 4.80MB [00:13, 371kB/s]                             \n"
     ]
    },
    {
     "name": "stdout",
     "output_type": "stream",
     "text": [
      " | Download completed for GFZ0MGXRAP_20251090000_01D_30S_CLK.CLK.gz\n",
      "C:\\Users\\varga\\Box\\Data\\nc Files\\PACQUI\\aux_orbits\\GFZ0MGXRAP_20251090000_01D_30S_CLK.CLK file is read in 25.09 seconds\n"
     ]
    },
    {
     "name": "stderr",
     "output_type": "stream",
     "text": [
      "C:\\Users\\varga\\Documents\\GitHub\\gnssvod\\gnssvod\\position\\interpolation.py:59: FutureWarning: The behavior of pd.concat with len(keys) != len(objs) is deprecated. In a future version this will raise instead of truncating to the smaller of the two sequences\n",
      "  sp3_resampled = _pd.concat(sp3_resampled, keys=svList, names=['SV']).reorder_levels(['Epoch', 'SV']).sort_index(level='Epoch')\n"
     ]
    },
    {
     "name": "stdout",
     "output_type": "stream",
     "text": [
      "SP3 interpolation is done in 15.47 seconds\n",
      "Saved 102777 individual observations in C:\\Users\\varga\\Box\\Data\\nc Files\\PACQUI\\processed\\PACQUI_raw_20250417220205.nc\n",
      "[OK] PACQUI_raw_20250417220205.25O\n",
      "Could not find any files matching the pattern C:\\Users\\varga\\Box\\Data\\nc Files\\PACQUI\\processed*.nc\n",
      "C:\\Users\\varga\\Box\\Data\\nc Files\\PACQUI\\PACQUI_raw_20250418220206.25O exists | Reading...\n",
      "Observation file  C:\\Users\\varga\\Box\\Data\\nc Files\\PACQUI\\PACQUI_raw_20250418220206.25O  is read in 22.52 seconds.\n",
      "Processing 102446 individual observations\n",
      "Calculating Azimuth and Elevation\n",
      "C:\\Users\\varga\\Box\\Data\\nc Files\\PACQUI\\aux_orbits\\GFZ0MGXRAP_20251080000_01D_05M_ORB.SP3 exists | Reading...\n",
      "C:\\Users\\varga\\Box\\Data\\nc Files\\PACQUI\\aux_orbits\\GFZ0MGXRAP_20251080000_01D_05M_ORB.SP3 file is read in 4.80 seconds\n",
      "C:\\Users\\varga\\Box\\Data\\nc Files\\PACQUI\\aux_orbits\\GFZ0MGXRAP_20251090000_01D_05M_ORB.SP3 exists | Reading...\n",
      "C:\\Users\\varga\\Box\\Data\\nc Files\\PACQUI\\aux_orbits\\GFZ0MGXRAP_20251090000_01D_05M_ORB.SP3 file is read in 5.50 seconds\n",
      "This file does not exist: C:\\Users\\varga\\Box\\Data\\nc Files\\PACQUI\\aux_orbits\\GFZ0MGXRAP_20251100000_01D_05M_ORB.SP3\n",
      "Downloading: ftp://gssc.esa.int/gnss/products/2363//GFZ0MGXRAP_20251100000_01D_05M_ORB.SP3.gz"
     ]
    },
    {
     "name": "stderr",
     "output_type": "stream",
     "text": [
      "GFZ0MGXRAP_20251100000_01D_05M_ORB.SP3.gz: 1.05MB [00:13, 82.2kB/s]                            \n"
     ]
    },
    {
     "name": "stdout",
     "output_type": "stream",
     "text": [
      " | Download completed for ftp://gssc.esa.int/gnss/products/2363//GFZ0MGXRAP_20251100000_01D_05M_ORB.SP3.gz\n",
      "C:\\Users\\varga\\Box\\Data\\nc Files\\PACQUI\\aux_orbits\\GFZ0MGXRAP_20251100000_01D_05M_ORB.SP3 file is read in 14.21 seconds\n",
      "C:\\Users\\varga\\Box\\Data\\nc Files\\PACQUI\\aux_orbits\\GFZ0MGXRAP_20251080000_01D_30S_CLK.CLK exists | Reading...\n",
      "C:\\Users\\varga\\Box\\Data\\nc Files\\PACQUI\\aux_orbits\\GFZ0MGXRAP_20251080000_01D_30S_CLK.CLK file is read in 18.66 seconds\n",
      "C:\\Users\\varga\\Box\\Data\\nc Files\\PACQUI\\aux_orbits\\GFZ0MGXRAP_20251090000_01D_30S_CLK.CLK exists | Reading...\n",
      "C:\\Users\\varga\\Box\\Data\\nc Files\\PACQUI\\aux_orbits\\GFZ0MGXRAP_20251090000_01D_30S_CLK.CLK file is read in 21.75 seconds\n",
      "This file does not exist: C:\\Users\\varga\\Box\\Data\\nc Files\\PACQUI\\aux_orbits\\GFZ0MGXRAP_20251100000_01D_30S_CLK.CLK\n",
      "Downloading: GFZ0MGXRAP_20251100000_01D_30S_CLK.CLK.gz"
     ]
    },
    {
     "name": "stderr",
     "output_type": "stream",
     "text": [
      "GFZ0MGXRAP_20251100000_01D_30S_CLK.CLK.gz: 4.84MB [00:26, 191kB/s]                             \n"
     ]
    },
    {
     "name": "stdout",
     "output_type": "stream",
     "text": [
      " | Download completed for GFZ0MGXRAP_20251100000_01D_30S_CLK.CLK.gz\n",
      "C:\\Users\\varga\\Box\\Data\\nc Files\\PACQUI\\aux_orbits\\GFZ0MGXRAP_20251100000_01D_30S_CLK.CLK file is read in 21.19 seconds\n"
     ]
    },
    {
     "name": "stderr",
     "output_type": "stream",
     "text": [
      "C:\\Users\\varga\\Documents\\GitHub\\gnssvod\\gnssvod\\position\\interpolation.py:59: FutureWarning: The behavior of pd.concat with len(keys) != len(objs) is deprecated. In a future version this will raise instead of truncating to the smaller of the two sequences\n",
      "  sp3_resampled = _pd.concat(sp3_resampled, keys=svList, names=['SV']).reorder_levels(['Epoch', 'SV']).sort_index(level='Epoch')\n"
     ]
    },
    {
     "name": "stdout",
     "output_type": "stream",
     "text": [
      "SP3 interpolation is done in 22.47 seconds\n",
      "Saved 102446 individual observations in C:\\Users\\varga\\Box\\Data\\nc Files\\PACQUI\\processed\\PACQUI_raw_20250418220206.nc\n",
      "[OK] PACQUI_raw_20250418220206.25O\n",
      "Could not find any files matching the pattern C:\\Users\\varga\\Box\\Data\\nc Files\\PACQUI\\processed*.nc\n",
      "C:\\Users\\varga\\Box\\Data\\nc Files\\PACQUI\\PACQUI_raw_20250419220207.25O exists | Reading...\n",
      "Observation file  C:\\Users\\varga\\Box\\Data\\nc Files\\PACQUI\\PACQUI_raw_20250419220207.25O  is read in 8.33 seconds.\n",
      "Processing 104515 individual observations\n",
      "Calculating Azimuth and Elevation\n",
      "C:\\Users\\varga\\Box\\Data\\nc Files\\PACQUI\\aux_orbits\\GFZ0MGXRAP_20251090000_01D_05M_ORB.SP3 exists | Reading...\n",
      "C:\\Users\\varga\\Box\\Data\\nc Files\\PACQUI\\aux_orbits\\GFZ0MGXRAP_20251090000_01D_05M_ORB.SP3 file is read in 5.63 seconds\n",
      "C:\\Users\\varga\\Box\\Data\\nc Files\\PACQUI\\aux_orbits\\GFZ0MGXRAP_20251100000_01D_05M_ORB.SP3 exists | Reading...\n",
      "C:\\Users\\varga\\Box\\Data\\nc Files\\PACQUI\\aux_orbits\\GFZ0MGXRAP_20251100000_01D_05M_ORB.SP3 file is read in 5.01 seconds\n",
      "This file does not exist: C:\\Users\\varga\\Box\\Data\\nc Files\\PACQUI\\aux_orbits\\GFZ0MGXRAP_20251110000_01D_05M_ORB.SP3\n",
      "Downloading: ftp://gssc.esa.int/gnss/products/2363//GFZ0MGXRAP_20251110000_01D_05M_ORB.SP3.gz"
     ]
    },
    {
     "name": "stderr",
     "output_type": "stream",
     "text": [
      "GFZ0MGXRAP_20251110000_01D_05M_ORB.SP3.gz: 1.04MB [00:03, 332kB/s]                             \n"
     ]
    },
    {
     "name": "stdout",
     "output_type": "stream",
     "text": [
      " | Download completed for ftp://gssc.esa.int/gnss/products/2363//GFZ0MGXRAP_20251110000_01D_05M_ORB.SP3.gz\n",
      "C:\\Users\\varga\\Box\\Data\\nc Files\\PACQUI\\aux_orbits\\GFZ0MGXRAP_20251110000_01D_05M_ORB.SP3 file is read in 9.01 seconds\n",
      "C:\\Users\\varga\\Box\\Data\\nc Files\\PACQUI\\aux_orbits\\GFZ0MGXRAP_20251090000_01D_30S_CLK.CLK exists | Reading...\n",
      "C:\\Users\\varga\\Box\\Data\\nc Files\\PACQUI\\aux_orbits\\GFZ0MGXRAP_20251090000_01D_30S_CLK.CLK file is read in 15.98 seconds\n",
      "C:\\Users\\varga\\Box\\Data\\nc Files\\PACQUI\\aux_orbits\\GFZ0MGXRAP_20251100000_01D_30S_CLK.CLK exists | Reading...\n",
      "C:\\Users\\varga\\Box\\Data\\nc Files\\PACQUI\\aux_orbits\\GFZ0MGXRAP_20251100000_01D_30S_CLK.CLK file is read in 2.36 seconds\n",
      "This file does not exist: C:\\Users\\varga\\Box\\Data\\nc Files\\PACQUI\\aux_orbits\\GFZ0MGXRAP_20251110000_01D_30S_CLK.CLK\n",
      "Downloading: GFZ0MGXRAP_20251110000_01D_30S_CLK.CLK.gz"
     ]
    },
    {
     "name": "stderr",
     "output_type": "stream",
     "text": [
      "GFZ0MGXRAP_20251110000_01D_30S_CLK.CLK.gz: 4.80MB [00:29, 172kB/s]                             \n"
     ]
    },
    {
     "name": "stdout",
     "output_type": "stream",
     "text": [
      " | Download completed for GFZ0MGXRAP_20251110000_01D_30S_CLK.CLK.gz\n",
      "C:\\Users\\varga\\Box\\Data\\nc Files\\PACQUI\\aux_orbits\\GFZ0MGXRAP_20251110000_01D_30S_CLK.CLK file is read in 14.67 seconds\n",
      "SP3 interpolation is done in 9.99 seconds\n",
      "Saved 104515 individual observations in C:\\Users\\varga\\Box\\Data\\nc Files\\PACQUI\\processed\\PACQUI_raw_20250419220207.nc\n",
      "[OK] PACQUI_raw_20250419220207.25O\n",
      "Could not find any files matching the pattern C:\\Users\\varga\\Box\\Data\\nc Files\\PACQUI\\processed*.nc\n",
      "C:\\Users\\varga\\Box\\Data\\nc Files\\PACQUI\\PACQUI_raw_20250420220208.25O exists | Reading...\n",
      "Observation file  C:\\Users\\varga\\Box\\Data\\nc Files\\PACQUI\\PACQUI_raw_20250420220208.25O  is read in 2.41 seconds.\n",
      "Processing 103849 individual observations\n",
      "Calculating Azimuth and Elevation\n",
      "C:\\Users\\varga\\Box\\Data\\nc Files\\PACQUI\\aux_orbits\\GFZ0MGXRAP_20251100000_01D_05M_ORB.SP3 exists | Reading...\n",
      "C:\\Users\\varga\\Box\\Data\\nc Files\\PACQUI\\aux_orbits\\GFZ0MGXRAP_20251100000_01D_05M_ORB.SP3 file is read in 0.46 seconds\n",
      "C:\\Users\\varga\\Box\\Data\\nc Files\\PACQUI\\aux_orbits\\GFZ0MGXRAP_20251110000_01D_05M_ORB.SP3 exists | Reading...\n",
      "C:\\Users\\varga\\Box\\Data\\nc Files\\PACQUI\\aux_orbits\\GFZ0MGXRAP_20251110000_01D_05M_ORB.SP3 file is read in 0.48 seconds\n",
      "This file does not exist: C:\\Users\\varga\\Box\\Data\\nc Files\\PACQUI\\aux_orbits\\GFZ0MGXRAP_20251120000_01D_05M_ORB.SP3\n",
      "Downloading: ftp://gssc.esa.int/gnss/products/2363//GFZ0MGXRAP_20251120000_01D_05M_ORB.SP3.gz"
     ]
    },
    {
     "name": "stderr",
     "output_type": "stream",
     "text": [
      "GFZ0MGXRAP_20251120000_01D_05M_ORB.SP3.gz: 1.04MB [00:05, 202kB/s]                             \n"
     ]
    },
    {
     "name": "stdout",
     "output_type": "stream",
     "text": [
      " | Download completed for ftp://gssc.esa.int/gnss/products/2363//GFZ0MGXRAP_20251120000_01D_05M_ORB.SP3.gz\n",
      "C:\\Users\\varga\\Box\\Data\\nc Files\\PACQUI\\aux_orbits\\GFZ0MGXRAP_20251120000_01D_05M_ORB.SP3 file is read in 6.42 seconds\n",
      "C:\\Users\\varga\\Box\\Data\\nc Files\\PACQUI\\aux_orbits\\GFZ0MGXRAP_20251100000_01D_30S_CLK.CLK exists | Reading...\n",
      "C:\\Users\\varga\\Box\\Data\\nc Files\\PACQUI\\aux_orbits\\GFZ0MGXRAP_20251100000_01D_30S_CLK.CLK file is read in 14.25 seconds\n",
      "C:\\Users\\varga\\Box\\Data\\nc Files\\PACQUI\\aux_orbits\\GFZ0MGXRAP_20251110000_01D_30S_CLK.CLK exists | Reading...\n",
      "C:\\Users\\varga\\Box\\Data\\nc Files\\PACQUI\\aux_orbits\\GFZ0MGXRAP_20251110000_01D_30S_CLK.CLK file is read in 20.91 seconds\n",
      "This file does not exist: C:\\Users\\varga\\Box\\Data\\nc Files\\PACQUI\\aux_orbits\\GFZ0MGXRAP_20251120000_01D_30S_CLK.CLK\n",
      "Downloading: GFZ0MGXRAP_20251120000_01D_30S_CLK.CLK.gz"
     ]
    },
    {
     "name": "stderr",
     "output_type": "stream",
     "text": [
      "GFZ0MGXRAP_20251120000_01D_30S_CLK.CLK.gz: 4.80MB [00:18, 275kB/s]                             \n"
     ]
    },
    {
     "name": "stdout",
     "output_type": "stream",
     "text": [
      " | Download completed for GFZ0MGXRAP_20251120000_01D_30S_CLK.CLK.gz\n",
      "C:\\Users\\varga\\Box\\Data\\nc Files\\PACQUI\\aux_orbits\\GFZ0MGXRAP_20251120000_01D_30S_CLK.CLK file is read in 21.72 seconds\n",
      "SP3 interpolation is done in 16.15 seconds\n",
      "Saved 103849 individual observations in C:\\Users\\varga\\Box\\Data\\nc Files\\PACQUI\\processed\\PACQUI_raw_20250420220208.nc\n",
      "[OK] PACQUI_raw_20250420220208.25O\n",
      "Could not find any files matching the pattern C:\\Users\\varga\\Box\\Data\\nc Files\\PACQUI\\processed*.nc\n",
      "C:\\Users\\varga\\Box\\Data\\nc Files\\PACQUI\\PACQUI_raw_20250421220209.25O exists | Reading...\n",
      "Observation file  C:\\Users\\varga\\Box\\Data\\nc Files\\PACQUI\\PACQUI_raw_20250421220209.25O  is read in 14.52 seconds.\n",
      "Processing 101479 individual observations\n",
      "Calculating Azimuth and Elevation\n",
      "C:\\Users\\varga\\Box\\Data\\nc Files\\PACQUI\\aux_orbits\\GFZ0MGXRAP_20251110000_01D_05M_ORB.SP3 exists | Reading...\n",
      "C:\\Users\\varga\\Box\\Data\\nc Files\\PACQUI\\aux_orbits\\GFZ0MGXRAP_20251110000_01D_05M_ORB.SP3 file is read in 5.51 seconds\n",
      "C:\\Users\\varga\\Box\\Data\\nc Files\\PACQUI\\aux_orbits\\GFZ0MGXRAP_20251120000_01D_05M_ORB.SP3 exists | Reading...\n",
      "C:\\Users\\varga\\Box\\Data\\nc Files\\PACQUI\\aux_orbits\\GFZ0MGXRAP_20251120000_01D_05M_ORB.SP3 file is read in 4.64 seconds\n",
      "This file does not exist: C:\\Users\\varga\\Box\\Data\\nc Files\\PACQUI\\aux_orbits\\GFZ0MGXRAP_20251130000_01D_05M_ORB.SP3\n",
      "Downloading: ftp://gssc.esa.int/gnss/products/2363//GFZ0MGXRAP_20251130000_01D_05M_ORB.SP3.gz"
     ]
    },
    {
     "name": "stderr",
     "output_type": "stream",
     "text": [
      "GFZ0MGXRAP_20251130000_01D_05M_ORB.SP3.gz: 1.05MB [00:06, 167kB/s]                             \n"
     ]
    },
    {
     "name": "stdout",
     "output_type": "stream",
     "text": [
      " | Download completed for ftp://gssc.esa.int/gnss/products/2363//GFZ0MGXRAP_20251130000_01D_05M_ORB.SP3.gz\n",
      "C:\\Users\\varga\\Box\\Data\\nc Files\\PACQUI\\aux_orbits\\GFZ0MGXRAP_20251130000_01D_05M_ORB.SP3 file is read in 7.23 seconds\n",
      "C:\\Users\\varga\\Box\\Data\\nc Files\\PACQUI\\aux_orbits\\GFZ0MGXRAP_20251110000_01D_30S_CLK.CLK exists | Reading...\n",
      "C:\\Users\\varga\\Box\\Data\\nc Files\\PACQUI\\aux_orbits\\GFZ0MGXRAP_20251110000_01D_30S_CLK.CLK file is read in 2.12 seconds\n",
      "C:\\Users\\varga\\Box\\Data\\nc Files\\PACQUI\\aux_orbits\\GFZ0MGXRAP_20251120000_01D_30S_CLK.CLK exists | Reading...\n",
      "C:\\Users\\varga\\Box\\Data\\nc Files\\PACQUI\\aux_orbits\\GFZ0MGXRAP_20251120000_01D_30S_CLK.CLK file is read in 2.31 seconds\n",
      "This file does not exist: C:\\Users\\varga\\Box\\Data\\nc Files\\PACQUI\\aux_orbits\\GFZ0MGXRAP_20251130000_01D_30S_CLK.CLK\n",
      "Downloading: GFZ0MGXRAP_20251130000_01D_30S_CLK.CLK.gz"
     ]
    },
    {
     "name": "stderr",
     "output_type": "stream",
     "text": [
      "GFZ0MGXRAP_20251130000_01D_30S_CLK.CLK.gz: 4.84MB [00:03, 1.37MB/s]                            \n"
     ]
    },
    {
     "name": "stdout",
     "output_type": "stream",
     "text": [
      " | Download completed for GFZ0MGXRAP_20251130000_01D_30S_CLK.CLK.gz\n",
      "C:\\Users\\varga\\Box\\Data\\nc Files\\PACQUI\\aux_orbits\\GFZ0MGXRAP_20251130000_01D_30S_CLK.CLK file is read in 3.43 seconds\n"
     ]
    },
    {
     "name": "stderr",
     "output_type": "stream",
     "text": [
      "C:\\Users\\varga\\Documents\\GitHub\\gnssvod\\gnssvod\\position\\interpolation.py:59: FutureWarning: The behavior of pd.concat with len(keys) != len(objs) is deprecated. In a future version this will raise instead of truncating to the smaller of the two sequences\n",
      "  sp3_resampled = _pd.concat(sp3_resampled, keys=svList, names=['SV']).reorder_levels(['Epoch', 'SV']).sort_index(level='Epoch')\n"
     ]
    },
    {
     "name": "stdout",
     "output_type": "stream",
     "text": [
      "SP3 interpolation is done in 6.57 seconds\n",
      "Saved 101479 individual observations in C:\\Users\\varga\\Box\\Data\\nc Files\\PACQUI\\processed\\PACQUI_raw_20250421220209.nc\n",
      "[OK] PACQUI_raw_20250421220209.25O\n",
      "Could not find any files matching the pattern C:\\Users\\varga\\Box\\Data\\nc Files\\PACQUI\\processed*.nc\n",
      "C:\\Users\\varga\\Box\\Data\\nc Files\\PACQUI\\PACQUI_raw_20250422220210.25O exists | Reading...\n",
      "Observation file  C:\\Users\\varga\\Box\\Data\\nc Files\\PACQUI\\PACQUI_raw_20250422220210.25O  is read in 15.11 seconds.\n",
      "Processing 103992 individual observations\n",
      "Calculating Azimuth and Elevation\n",
      "C:\\Users\\varga\\Box\\Data\\nc Files\\PACQUI\\aux_orbits\\GFZ0MGXRAP_20251120000_01D_05M_ORB.SP3 exists | Reading...\n",
      "C:\\Users\\varga\\Box\\Data\\nc Files\\PACQUI\\aux_orbits\\GFZ0MGXRAP_20251120000_01D_05M_ORB.SP3 file is read in 5.08 seconds\n",
      "C:\\Users\\varga\\Box\\Data\\nc Files\\PACQUI\\aux_orbits\\GFZ0MGXRAP_20251130000_01D_05M_ORB.SP3 exists | Reading...\n",
      "C:\\Users\\varga\\Box\\Data\\nc Files\\PACQUI\\aux_orbits\\GFZ0MGXRAP_20251130000_01D_05M_ORB.SP3 file is read in 4.91 seconds\n",
      "This file does not exist: C:\\Users\\varga\\Box\\Data\\nc Files\\PACQUI\\aux_orbits\\GFZ0MGXRAP_20251140000_01D_05M_ORB.SP3\n",
      "Downloading: ftp://gssc.esa.int/gnss/products/2363//GFZ0MGXRAP_20251140000_01D_05M_ORB.SP3.gz"
     ]
    },
    {
     "name": "stderr",
     "output_type": "stream",
     "text": [
      "GFZ0MGXRAP_20251140000_01D_05M_ORB.SP3.gz: 1.04MB [00:03, 325kB/s]                             \n"
     ]
    },
    {
     "name": "stdout",
     "output_type": "stream",
     "text": [
      " | Download completed for ftp://gssc.esa.int/gnss/products/2363//GFZ0MGXRAP_20251140000_01D_05M_ORB.SP3.gz\n",
      "C:\\Users\\varga\\Box\\Data\\nc Files\\PACQUI\\aux_orbits\\GFZ0MGXRAP_20251140000_01D_05M_ORB.SP3 file is read in 4.01 seconds\n",
      "C:\\Users\\varga\\Box\\Data\\nc Files\\PACQUI\\aux_orbits\\GFZ0MGXRAP_20251120000_01D_30S_CLK.CLK exists | Reading...\n",
      "C:\\Users\\varga\\Box\\Data\\nc Files\\PACQUI\\aux_orbits\\GFZ0MGXRAP_20251120000_01D_30S_CLK.CLK file is read in 2.62 seconds\n",
      "C:\\Users\\varga\\Box\\Data\\nc Files\\PACQUI\\aux_orbits\\GFZ0MGXRAP_20251130000_01D_30S_CLK.CLK exists | Reading...\n",
      "C:\\Users\\varga\\Box\\Data\\nc Files\\PACQUI\\aux_orbits\\GFZ0MGXRAP_20251130000_01D_30S_CLK.CLK file is read in 3.96 seconds\n",
      "This file does not exist: C:\\Users\\varga\\Box\\Data\\nc Files\\PACQUI\\aux_orbits\\GFZ0MGXRAP_20251140000_01D_30S_CLK.CLK\n",
      "Downloading: GFZ0MGXRAP_20251140000_01D_30S_CLK.CLK.gz"
     ]
    },
    {
     "name": "stderr",
     "output_type": "stream",
     "text": [
      "GFZ0MGXRAP_20251140000_01D_30S_CLK.CLK.gz: 4.78MB [00:04, 1.08MB/s]                            \n"
     ]
    },
    {
     "name": "stdout",
     "output_type": "stream",
     "text": [
      " | Download completed for GFZ0MGXRAP_20251140000_01D_30S_CLK.CLK.gz\n",
      "C:\\Users\\varga\\Box\\Data\\nc Files\\PACQUI\\aux_orbits\\GFZ0MGXRAP_20251140000_01D_30S_CLK.CLK file is read in 22.22 seconds\n",
      "SP3 interpolation is done in 10.58 seconds\n",
      "Saved 103992 individual observations in C:\\Users\\varga\\Box\\Data\\nc Files\\PACQUI\\processed\\PACQUI_raw_20250422220210.nc\n",
      "[OK] PACQUI_raw_20250422220210.25O\n",
      "Could not find any files matching the pattern C:\\Users\\varga\\Box\\Data\\nc Files\\PACQUI\\processed*.nc\n",
      "C:\\Users\\varga\\Box\\Data\\nc Files\\PACQUI\\PACQUI_raw_20250423220211.25O exists | Reading...\n",
      "Observation file  C:\\Users\\varga\\Box\\Data\\nc Files\\PACQUI\\PACQUI_raw_20250423220211.25O  is read in 7.43 seconds.\n",
      "Processing 104831 individual observations\n",
      "Calculating Azimuth and Elevation\n",
      "C:\\Users\\varga\\Box\\Data\\nc Files\\PACQUI\\aux_orbits\\GFZ0MGXRAP_20251130000_01D_05M_ORB.SP3 exists | Reading...\n",
      "C:\\Users\\varga\\Box\\Data\\nc Files\\PACQUI\\aux_orbits\\GFZ0MGXRAP_20251130000_01D_05M_ORB.SP3 file is read in 5.77 seconds\n",
      "C:\\Users\\varga\\Box\\Data\\nc Files\\PACQUI\\aux_orbits\\GFZ0MGXRAP_20251140000_01D_05M_ORB.SP3 exists | Reading...\n",
      "C:\\Users\\varga\\Box\\Data\\nc Files\\PACQUI\\aux_orbits\\GFZ0MGXRAP_20251140000_01D_05M_ORB.SP3 file is read in 5.66 seconds\n",
      "This file does not exist: C:\\Users\\varga\\Box\\Data\\nc Files\\PACQUI\\aux_orbits\\GFZ0MGXRAP_20251150000_01D_05M_ORB.SP3\n",
      "Downloading: ftp://gssc.esa.int/gnss/products/2363//GFZ0MGXRAP_20251150000_01D_05M_ORB.SP3.gz"
     ]
    },
    {
     "name": "stderr",
     "output_type": "stream",
     "text": [
      "GFZ0MGXRAP_20251150000_01D_05M_ORB.SP3.gz: 1.03MB [00:03, 298kB/s]                             \n"
     ]
    },
    {
     "name": "stdout",
     "output_type": "stream",
     "text": [
      " | Download completed for ftp://gssc.esa.int/gnss/products/2363//GFZ0MGXRAP_20251150000_01D_05M_ORB.SP3.gz\n",
      "C:\\Users\\varga\\Box\\Data\\nc Files\\PACQUI\\aux_orbits\\GFZ0MGXRAP_20251150000_01D_05M_ORB.SP3 file is read in 9.06 seconds\n",
      "C:\\Users\\varga\\Box\\Data\\nc Files\\PACQUI\\aux_orbits\\GFZ0MGXRAP_20251130000_01D_30S_CLK.CLK exists | Reading...\n",
      "C:\\Users\\varga\\Box\\Data\\nc Files\\PACQUI\\aux_orbits\\GFZ0MGXRAP_20251130000_01D_30S_CLK.CLK file is read in 13.96 seconds\n",
      "C:\\Users\\varga\\Box\\Data\\nc Files\\PACQUI\\aux_orbits\\GFZ0MGXRAP_20251140000_01D_30S_CLK.CLK exists | Reading...\n",
      "C:\\Users\\varga\\Box\\Data\\nc Files\\PACQUI\\aux_orbits\\GFZ0MGXRAP_20251140000_01D_30S_CLK.CLK file is read in 2.64 seconds\n",
      "This file does not exist: C:\\Users\\varga\\Box\\Data\\nc Files\\PACQUI\\aux_orbits\\GFZ0MGXRAP_20251150000_01D_30S_CLK.CLK\n",
      "Downloading: GFZ0MGXRAP_20251150000_01D_30S_CLK.CLK.gz"
     ]
    },
    {
     "name": "stderr",
     "output_type": "stream",
     "text": [
      "GFZ0MGXRAP_20251150000_01D_30S_CLK.CLK.gz: 4.78MB [00:10, 466kB/s]                             \n"
     ]
    },
    {
     "name": "stdout",
     "output_type": "stream",
     "text": [
      " | Download completed for GFZ0MGXRAP_20251150000_01D_30S_CLK.CLK.gz\n",
      "C:\\Users\\varga\\Box\\Data\\nc Files\\PACQUI\\aux_orbits\\GFZ0MGXRAP_20251150000_01D_30S_CLK.CLK file is read in 12.59 seconds\n",
      "SP3 interpolation is done in 18.11 seconds\n",
      "Saved 104831 individual observations in C:\\Users\\varga\\Box\\Data\\nc Files\\PACQUI\\processed\\PACQUI_raw_20250423220211.nc\n",
      "[OK] PACQUI_raw_20250423220211.25O\n",
      "Could not find any files matching the pattern C:\\Users\\varga\\Box\\Data\\nc Files\\PACQUI\\processed*.nc\n",
      "C:\\Users\\varga\\Box\\Data\\nc Files\\PACQUI\\PACQUI_raw_20250424220212.25O exists | Reading...\n",
      "Observation file  C:\\Users\\varga\\Box\\Data\\nc Files\\PACQUI\\PACQUI_raw_20250424220212.25O  is read in 3.69 seconds.\n",
      "Processing 101583 individual observations\n",
      "Calculating Azimuth and Elevation\n",
      "C:\\Users\\varga\\Box\\Data\\nc Files\\PACQUI\\aux_orbits\\GFZ0MGXRAP_20251140000_01D_05M_ORB.SP3 exists | Reading...\n",
      "C:\\Users\\varga\\Box\\Data\\nc Files\\PACQUI\\aux_orbits\\GFZ0MGXRAP_20251140000_01D_05M_ORB.SP3 file is read in 1.24 seconds\n",
      "C:\\Users\\varga\\Box\\Data\\nc Files\\PACQUI\\aux_orbits\\GFZ0MGXRAP_20251150000_01D_05M_ORB.SP3 exists | Reading...\n",
      "C:\\Users\\varga\\Box\\Data\\nc Files\\PACQUI\\aux_orbits\\GFZ0MGXRAP_20251150000_01D_05M_ORB.SP3 file is read in 0.94 seconds\n",
      "This file does not exist: C:\\Users\\varga\\Box\\Data\\nc Files\\PACQUI\\aux_orbits\\GFZ0MGXRAP_20251160000_01D_05M_ORB.SP3\n",
      "Downloading: ftp://gssc.esa.int/gnss/products/2363//GFZ0MGXRAP_20251160000_01D_05M_ORB.SP3.gz"
     ]
    },
    {
     "name": "stderr",
     "output_type": "stream",
     "text": [
      "GFZ0MGXRAP_20251160000_01D_05M_ORB.SP3.gz: 1.05MB [00:03, 325kB/s]                             \n"
     ]
    },
    {
     "name": "stdout",
     "output_type": "stream",
     "text": [
      " | Download completed for ftp://gssc.esa.int/gnss/products/2363//GFZ0MGXRAP_20251160000_01D_05M_ORB.SP3.gz\n",
      "C:\\Users\\varga\\Box\\Data\\nc Files\\PACQUI\\aux_orbits\\GFZ0MGXRAP_20251160000_01D_05M_ORB.SP3 file is read in 8.92 seconds\n",
      "C:\\Users\\varga\\Box\\Data\\nc Files\\PACQUI\\aux_orbits\\GFZ0MGXRAP_20251140000_01D_30S_CLK.CLK exists | Reading...\n",
      "C:\\Users\\varga\\Box\\Data\\nc Files\\PACQUI\\aux_orbits\\GFZ0MGXRAP_20251140000_01D_30S_CLK.CLK file is read in 22.82 seconds\n",
      "C:\\Users\\varga\\Box\\Data\\nc Files\\PACQUI\\aux_orbits\\GFZ0MGXRAP_20251150000_01D_30S_CLK.CLK exists | Reading...\n",
      "C:\\Users\\varga\\Box\\Data\\nc Files\\PACQUI\\aux_orbits\\GFZ0MGXRAP_20251150000_01D_30S_CLK.CLK file is read in 9.22 seconds\n",
      "This file does not exist: C:\\Users\\varga\\Box\\Data\\nc Files\\PACQUI\\aux_orbits\\GFZ0MGXRAP_20251160000_01D_30S_CLK.CLK\n",
      "Downloading: GFZ0MGXRAP_20251160000_01D_30S_CLK.CLK.gz"
     ]
    },
    {
     "name": "stderr",
     "output_type": "stream",
     "text": [
      "GFZ0MGXRAP_20251160000_01D_30S_CLK.CLK.gz: 4.83MB [00:17, 294kB/s]                             \n"
     ]
    },
    {
     "name": "stdout",
     "output_type": "stream",
     "text": [
      " | Download completed for GFZ0MGXRAP_20251160000_01D_30S_CLK.CLK.gz\n",
      "C:\\Users\\varga\\Box\\Data\\nc Files\\PACQUI\\aux_orbits\\GFZ0MGXRAP_20251160000_01D_30S_CLK.CLK file is read in 18.73 seconds\n"
     ]
    },
    {
     "name": "stderr",
     "output_type": "stream",
     "text": [
      "C:\\Users\\varga\\Documents\\GitHub\\gnssvod\\gnssvod\\position\\interpolation.py:59: FutureWarning: The behavior of pd.concat with len(keys) != len(objs) is deprecated. In a future version this will raise instead of truncating to the smaller of the two sequences\n",
      "  sp3_resampled = _pd.concat(sp3_resampled, keys=svList, names=['SV']).reorder_levels(['Epoch', 'SV']).sort_index(level='Epoch')\n"
     ]
    },
    {
     "name": "stdout",
     "output_type": "stream",
     "text": [
      "SP3 interpolation is done in 7.59 seconds\n",
      "Saved 101583 individual observations in C:\\Users\\varga\\Box\\Data\\nc Files\\PACQUI\\processed\\PACQUI_raw_20250424220212.nc\n",
      "[OK] PACQUI_raw_20250424220212.25O\n",
      "Could not find any files matching the pattern C:\\Users\\varga\\Box\\Data\\nc Files\\PACQUI\\processed*.nc\n",
      "C:\\Users\\varga\\Box\\Data\\nc Files\\PACQUI\\PACQUI_raw_20250425220213.25O exists | Reading...\n",
      "Observation file  C:\\Users\\varga\\Box\\Data\\nc Files\\PACQUI\\PACQUI_raw_20250425220213.25O  is read in 24.56 seconds.\n",
      "Processing 103411 individual observations\n",
      "Calculating Azimuth and Elevation\n",
      "C:\\Users\\varga\\Box\\Data\\nc Files\\PACQUI\\aux_orbits\\GFZ0MGXRAP_20251150000_01D_05M_ORB.SP3 exists | Reading...\n",
      "C:\\Users\\varga\\Box\\Data\\nc Files\\PACQUI\\aux_orbits\\GFZ0MGXRAP_20251150000_01D_05M_ORB.SP3 file is read in 0.57 seconds\n",
      "C:\\Users\\varga\\Box\\Data\\nc Files\\PACQUI\\aux_orbits\\GFZ0MGXRAP_20251160000_01D_05M_ORB.SP3 exists | Reading...\n",
      "C:\\Users\\varga\\Box\\Data\\nc Files\\PACQUI\\aux_orbits\\GFZ0MGXRAP_20251160000_01D_05M_ORB.SP3 file is read in 0.92 seconds\n",
      "This file does not exist: C:\\Users\\varga\\Box\\Data\\nc Files\\PACQUI\\aux_orbits\\GFZ0MGXRAP_20251170000_01D_05M_ORB.SP3\n",
      "Downloading: ftp://gssc.esa.int/gnss/products/2364//GFZ0MGXRAP_20251170000_01D_05M_ORB.SP3.gz"
     ]
    },
    {
     "name": "stderr",
     "output_type": "stream",
     "text": [
      "GFZ0MGXRAP_20251170000_01D_05M_ORB.SP3.gz: 1.02MB [00:03, 304kB/s]                             \n"
     ]
    },
    {
     "name": "stdout",
     "output_type": "stream",
     "text": [
      " | Download completed for ftp://gssc.esa.int/gnss/products/2364//GFZ0MGXRAP_20251170000_01D_05M_ORB.SP3.gz\n",
      "C:\\Users\\varga\\Box\\Data\\nc Files\\PACQUI\\aux_orbits\\GFZ0MGXRAP_20251170000_01D_05M_ORB.SP3 file is read in 10.36 seconds\n",
      "C:\\Users\\varga\\Box\\Data\\nc Files\\PACQUI\\aux_orbits\\GFZ0MGXRAP_20251150000_01D_30S_CLK.CLK exists | Reading...\n",
      "C:\\Users\\varga\\Box\\Data\\nc Files\\PACQUI\\aux_orbits\\GFZ0MGXRAP_20251150000_01D_30S_CLK.CLK file is read in 8.18 seconds\n",
      "C:\\Users\\varga\\Box\\Data\\nc Files\\PACQUI\\aux_orbits\\GFZ0MGXRAP_20251160000_01D_30S_CLK.CLK exists | Reading...\n",
      "C:\\Users\\varga\\Box\\Data\\nc Files\\PACQUI\\aux_orbits\\GFZ0MGXRAP_20251160000_01D_30S_CLK.CLK file is read in 2.71 seconds\n",
      "This file does not exist: C:\\Users\\varga\\Box\\Data\\nc Files\\PACQUI\\aux_orbits\\GFZ0MGXRAP_20251170000_01D_30S_CLK.CLK\n",
      "Downloading: GFZ0MGXRAP_20251170000_01D_30S_CLK.CLK.gz"
     ]
    },
    {
     "name": "stderr",
     "output_type": "stream",
     "text": [
      "GFZ0MGXRAP_20251170000_01D_30S_CLK.CLK.gz: 4.74MB [00:04, 1.15MB/s]                            \n"
     ]
    },
    {
     "name": "stdout",
     "output_type": "stream",
     "text": [
      " | Download completed for GFZ0MGXRAP_20251170000_01D_30S_CLK.CLK.gz\n",
      "C:\\Users\\varga\\Box\\Data\\nc Files\\PACQUI\\aux_orbits\\GFZ0MGXRAP_20251170000_01D_30S_CLK.CLK file is read in 4.39 seconds\n",
      "SP3 interpolation is done in 20.92 seconds\n",
      "Saved 103411 individual observations in C:\\Users\\varga\\Box\\Data\\nc Files\\PACQUI\\processed\\PACQUI_raw_20250425220213.nc\n",
      "[OK] PACQUI_raw_20250425220213.25O\n",
      "Could not find any files matching the pattern C:\\Users\\varga\\Box\\Data\\nc Files\\PACQUI\\processed*.nc\n",
      "C:\\Users\\varga\\Box\\Data\\nc Files\\PACQUI\\PACQUI_raw_20250426220214.25O exists | Reading...\n",
      "Observation file  C:\\Users\\varga\\Box\\Data\\nc Files\\PACQUI\\PACQUI_raw_20250426220214.25O  is read in 2.59 seconds.\n",
      "Processing 104641 individual observations\n",
      "Calculating Azimuth and Elevation\n",
      "C:\\Users\\varga\\Box\\Data\\nc Files\\PACQUI\\aux_orbits\\GFZ0MGXRAP_20251160000_01D_05M_ORB.SP3 exists | Reading...\n",
      "C:\\Users\\varga\\Box\\Data\\nc Files\\PACQUI\\aux_orbits\\GFZ0MGXRAP_20251160000_01D_05M_ORB.SP3 file is read in 0.45 seconds\n",
      "C:\\Users\\varga\\Box\\Data\\nc Files\\PACQUI\\aux_orbits\\GFZ0MGXRAP_20251170000_01D_05M_ORB.SP3 exists | Reading...\n",
      "C:\\Users\\varga\\Box\\Data\\nc Files\\PACQUI\\aux_orbits\\GFZ0MGXRAP_20251170000_01D_05M_ORB.SP3 file is read in 0.50 seconds\n",
      "This file does not exist: C:\\Users\\varga\\Box\\Data\\nc Files\\PACQUI\\aux_orbits\\GFZ0MGXRAP_20251180000_01D_05M_ORB.SP3\n",
      "Downloading: ftp://gssc.esa.int/gnss/products/2364//GFZ0MGXRAP_20251180000_01D_05M_ORB.SP3.gz"
     ]
    },
    {
     "name": "stderr",
     "output_type": "stream",
     "text": [
      "GFZ0MGXRAP_20251180000_01D_05M_ORB.SP3.gz: 1.02MB [00:04, 266kB/s]                             \n"
     ]
    },
    {
     "name": "stdout",
     "output_type": "stream",
     "text": [
      " | Download completed for ftp://gssc.esa.int/gnss/products/2364//GFZ0MGXRAP_20251180000_01D_05M_ORB.SP3.gz\n",
      "C:\\Users\\varga\\Box\\Data\\nc Files\\PACQUI\\aux_orbits\\GFZ0MGXRAP_20251180000_01D_05M_ORB.SP3 file is read in 5.04 seconds\n",
      "C:\\Users\\varga\\Box\\Data\\nc Files\\PACQUI\\aux_orbits\\GFZ0MGXRAP_20251160000_01D_30S_CLK.CLK exists | Reading...\n",
      "C:\\Users\\varga\\Box\\Data\\nc Files\\PACQUI\\aux_orbits\\GFZ0MGXRAP_20251160000_01D_30S_CLK.CLK file is read in 6.89 seconds\n",
      "C:\\Users\\varga\\Box\\Data\\nc Files\\PACQUI\\aux_orbits\\GFZ0MGXRAP_20251170000_01D_30S_CLK.CLK exists | Reading...\n",
      "C:\\Users\\varga\\Box\\Data\\nc Files\\PACQUI\\aux_orbits\\GFZ0MGXRAP_20251170000_01D_30S_CLK.CLK file is read in 23.21 seconds\n",
      "This file does not exist: C:\\Users\\varga\\Box\\Data\\nc Files\\PACQUI\\aux_orbits\\GFZ0MGXRAP_20251180000_01D_30S_CLK.CLK\n",
      "Downloading: GFZ0MGXRAP_20251180000_01D_30S_CLK.CLK.gz"
     ]
    },
    {
     "name": "stderr",
     "output_type": "stream",
     "text": [
      "GFZ0MGXRAP_20251180000_01D_30S_CLK.CLK.gz: 4.70MB [00:07, 675kB/s]                             \n"
     ]
    },
    {
     "name": "stdout",
     "output_type": "stream",
     "text": [
      " | Download completed for GFZ0MGXRAP_20251180000_01D_30S_CLK.CLK.gz\n",
      "C:\\Users\\varga\\Box\\Data\\nc Files\\PACQUI\\aux_orbits\\GFZ0MGXRAP_20251180000_01D_30S_CLK.CLK file is read in 2.40 seconds\n",
      "SP3 interpolation is done in 3.97 seconds\n",
      "Saved 104641 individual observations in C:\\Users\\varga\\Box\\Data\\nc Files\\PACQUI\\processed\\PACQUI_raw_20250426220214.nc\n",
      "[OK] PACQUI_raw_20250426220214.25O\n",
      "Could not find any files matching the pattern C:\\Users\\varga\\Box\\Data\\nc Files\\PACQUI\\processed*.nc\n",
      "C:\\Users\\varga\\Box\\Data\\nc Files\\PACQUI\\PACQUI_raw_20250427220215.25O exists | Reading...\n",
      "Observation file  C:\\Users\\varga\\Box\\Data\\nc Files\\PACQUI\\PACQUI_raw_20250427220215.25O  is read in 16.93 seconds.\n",
      "Processing 103018 individual observations\n",
      "Calculating Azimuth and Elevation\n",
      "C:\\Users\\varga\\Box\\Data\\nc Files\\PACQUI\\aux_orbits\\GFZ0MGXRAP_20251170000_01D_05M_ORB.SP3 exists | Reading...\n",
      "C:\\Users\\varga\\Box\\Data\\nc Files\\PACQUI\\aux_orbits\\GFZ0MGXRAP_20251170000_01D_05M_ORB.SP3 file is read in 5.34 seconds\n",
      "C:\\Users\\varga\\Box\\Data\\nc Files\\PACQUI\\aux_orbits\\GFZ0MGXRAP_20251180000_01D_05M_ORB.SP3 exists | Reading...\n",
      "C:\\Users\\varga\\Box\\Data\\nc Files\\PACQUI\\aux_orbits\\GFZ0MGXRAP_20251180000_01D_05M_ORB.SP3 file is read in 4.63 seconds\n",
      "This file does not exist: C:\\Users\\varga\\Box\\Data\\nc Files\\PACQUI\\aux_orbits\\GFZ0MGXRAP_20251190000_01D_05M_ORB.SP3\n",
      "Downloading: ftp://gssc.esa.int/gnss/products/2364//GFZ0MGXRAP_20251190000_01D_05M_ORB.SP3.gz"
     ]
    },
    {
     "name": "stderr",
     "output_type": "stream",
     "text": [
      "GFZ0MGXRAP_20251190000_01D_05M_ORB.SP3.gz: 1.04MB [00:03, 333kB/s]                             \n"
     ]
    },
    {
     "name": "stdout",
     "output_type": "stream",
     "text": [
      " | Download completed for ftp://gssc.esa.int/gnss/products/2364//GFZ0MGXRAP_20251190000_01D_05M_ORB.SP3.gz\n",
      "C:\\Users\\varga\\Box\\Data\\nc Files\\PACQUI\\aux_orbits\\GFZ0MGXRAP_20251190000_01D_05M_ORB.SP3 file is read in 8.50 seconds\n",
      "C:\\Users\\varga\\Box\\Data\\nc Files\\PACQUI\\aux_orbits\\GFZ0MGXRAP_20251170000_01D_30S_CLK.CLK exists | Reading...\n",
      "C:\\Users\\varga\\Box\\Data\\nc Files\\PACQUI\\aux_orbits\\GFZ0MGXRAP_20251170000_01D_30S_CLK.CLK file is read in 2.51 seconds\n",
      "C:\\Users\\varga\\Box\\Data\\nc Files\\PACQUI\\aux_orbits\\GFZ0MGXRAP_20251180000_01D_30S_CLK.CLK exists | Reading...\n",
      "C:\\Users\\varga\\Box\\Data\\nc Files\\PACQUI\\aux_orbits\\GFZ0MGXRAP_20251180000_01D_30S_CLK.CLK file is read in 2.59 seconds\n",
      "This file does not exist: C:\\Users\\varga\\Box\\Data\\nc Files\\PACQUI\\aux_orbits\\GFZ0MGXRAP_20251190000_01D_30S_CLK.CLK\n",
      "Downloading: GFZ0MGXRAP_20251190000_01D_30S_CLK.CLK.gz"
     ]
    },
    {
     "name": "stderr",
     "output_type": "stream",
     "text": [
      "GFZ0MGXRAP_20251190000_01D_30S_CLK.CLK.gz: 4.77MB [00:14, 338kB/s]                             \n"
     ]
    },
    {
     "name": "stdout",
     "output_type": "stream",
     "text": [
      " | Download completed for GFZ0MGXRAP_20251190000_01D_30S_CLK.CLK.gz\n",
      "C:\\Users\\varga\\Box\\Data\\nc Files\\PACQUI\\aux_orbits\\GFZ0MGXRAP_20251190000_01D_30S_CLK.CLK file is read in 30.58 seconds\n"
     ]
    },
    {
     "name": "stderr",
     "output_type": "stream",
     "text": [
      "C:\\Users\\varga\\Documents\\GitHub\\gnssvod\\gnssvod\\position\\interpolation.py:59: FutureWarning: The behavior of pd.concat with len(keys) != len(objs) is deprecated. In a future version this will raise instead of truncating to the smaller of the two sequences\n",
      "  sp3_resampled = _pd.concat(sp3_resampled, keys=svList, names=['SV']).reorder_levels(['Epoch', 'SV']).sort_index(level='Epoch')\n"
     ]
    },
    {
     "name": "stdout",
     "output_type": "stream",
     "text": [
      "SP3 interpolation is done in 7.18 seconds\n",
      "Saved 103018 individual observations in C:\\Users\\varga\\Box\\Data\\nc Files\\PACQUI\\processed\\PACQUI_raw_20250427220215.nc\n",
      "[OK] PACQUI_raw_20250427220215.25O\n",
      "Could not find any files matching the pattern C:\\Users\\varga\\Box\\Data\\nc Files\\PACQUI\\processed*.nc\n",
      "C:\\Users\\varga\\Box\\Data\\nc Files\\PACQUI\\PACQUI_raw_20250428220216.25O exists | Reading...\n",
      "Observation file  C:\\Users\\varga\\Box\\Data\\nc Files\\PACQUI\\PACQUI_raw_20250428220216.25O  is read in 20.26 seconds.\n",
      "Processing 101773 individual observations\n",
      "Calculating Azimuth and Elevation\n",
      "C:\\Users\\varga\\Box\\Data\\nc Files\\PACQUI\\aux_orbits\\GFZ0MGXRAP_20251180000_01D_05M_ORB.SP3 exists | Reading...\n",
      "C:\\Users\\varga\\Box\\Data\\nc Files\\PACQUI\\aux_orbits\\GFZ0MGXRAP_20251180000_01D_05M_ORB.SP3 file is read in 0.45 seconds\n",
      "C:\\Users\\varga\\Box\\Data\\nc Files\\PACQUI\\aux_orbits\\GFZ0MGXRAP_20251190000_01D_05M_ORB.SP3 exists | Reading...\n",
      "C:\\Users\\varga\\Box\\Data\\nc Files\\PACQUI\\aux_orbits\\GFZ0MGXRAP_20251190000_01D_05M_ORB.SP3 file is read in 0.49 seconds\n",
      "This file does not exist: C:\\Users\\varga\\Box\\Data\\nc Files\\PACQUI\\aux_orbits\\GFZ0MGXRAP_20251200000_01D_05M_ORB.SP3\n",
      "Downloading: ftp://gssc.esa.int/gnss/products/2364//GFZ0MGXRAP_20251200000_01D_05M_ORB.SP3.gz"
     ]
    },
    {
     "name": "stderr",
     "output_type": "stream",
     "text": [
      "GFZ0MGXRAP_20251200000_01D_05M_ORB.SP3.gz: 1.03MB [00:03, 280kB/s]                             \n"
     ]
    },
    {
     "name": "stdout",
     "output_type": "stream",
     "text": [
      " | Download completed for ftp://gssc.esa.int/gnss/products/2364//GFZ0MGXRAP_20251200000_01D_05M_ORB.SP3.gz\n",
      "C:\\Users\\varga\\Box\\Data\\nc Files\\PACQUI\\aux_orbits\\GFZ0MGXRAP_20251200000_01D_05M_ORB.SP3 file is read in 4.47 seconds\n",
      "C:\\Users\\varga\\Box\\Data\\nc Files\\PACQUI\\aux_orbits\\GFZ0MGXRAP_20251180000_01D_30S_CLK.CLK exists | Reading...\n",
      "C:\\Users\\varga\\Box\\Data\\nc Files\\PACQUI\\aux_orbits\\GFZ0MGXRAP_20251180000_01D_30S_CLK.CLK file is read in 3.08 seconds\n",
      "C:\\Users\\varga\\Box\\Data\\nc Files\\PACQUI\\aux_orbits\\GFZ0MGXRAP_20251190000_01D_30S_CLK.CLK exists | Reading...\n",
      "C:\\Users\\varga\\Box\\Data\\nc Files\\PACQUI\\aux_orbits\\GFZ0MGXRAP_20251190000_01D_30S_CLK.CLK file is read in 3.25 seconds\n",
      "This file does not exist: C:\\Users\\varga\\Box\\Data\\nc Files\\PACQUI\\aux_orbits\\GFZ0MGXRAP_20251200000_01D_30S_CLK.CLK\n",
      "Downloading: GFZ0MGXRAP_20251200000_01D_30S_CLK.CLK.gz"
     ]
    },
    {
     "name": "stderr",
     "output_type": "stream",
     "text": [
      "GFZ0MGXRAP_20251200000_01D_30S_CLK.CLK.gz: 4.74MB [00:03, 1.36MB/s]                            \n"
     ]
    },
    {
     "name": "stdout",
     "output_type": "stream",
     "text": [
      " | Download completed for GFZ0MGXRAP_20251200000_01D_30S_CLK.CLK.gz\n",
      "C:\\Users\\varga\\Box\\Data\\nc Files\\PACQUI\\aux_orbits\\GFZ0MGXRAP_20251200000_01D_30S_CLK.CLK file is read in 2.77 seconds\n",
      "SP3 interpolation is done in 17.54 seconds\n",
      "Saved 101773 individual observations in C:\\Users\\varga\\Box\\Data\\nc Files\\PACQUI\\processed\\PACQUI_raw_20250428220216.nc\n",
      "[OK] PACQUI_raw_20250428220216.25O\n",
      "Could not find any files matching the pattern C:\\Users\\varga\\Box\\Data\\nc Files\\PACQUI\\processed*.nc\n",
      "C:\\Users\\varga\\Box\\Data\\nc Files\\PACQUI\\PACQUI_raw_20250429220217.25O exists | Reading...\n",
      "Observation file  C:\\Users\\varga\\Box\\Data\\nc Files\\PACQUI\\PACQUI_raw_20250429220217.25O  is read in 2.07 seconds.\n",
      "Processing 104336 individual observations\n",
      "Calculating Azimuth and Elevation\n",
      "C:\\Users\\varga\\Box\\Data\\nc Files\\PACQUI\\aux_orbits\\GFZ0MGXRAP_20251190000_01D_05M_ORB.SP3 exists | Reading...\n",
      "C:\\Users\\varga\\Box\\Data\\nc Files\\PACQUI\\aux_orbits\\GFZ0MGXRAP_20251190000_01D_05M_ORB.SP3 file is read in 0.41 seconds\n",
      "C:\\Users\\varga\\Box\\Data\\nc Files\\PACQUI\\aux_orbits\\GFZ0MGXRAP_20251200000_01D_05M_ORB.SP3 exists | Reading...\n",
      "C:\\Users\\varga\\Box\\Data\\nc Files\\PACQUI\\aux_orbits\\GFZ0MGXRAP_20251200000_01D_05M_ORB.SP3 file is read in 0.36 seconds\n",
      "This file does not exist: C:\\Users\\varga\\Box\\Data\\nc Files\\PACQUI\\aux_orbits\\GFZ0MGXRAP_20251210000_01D_05M_ORB.SP3\n",
      "Downloading: ftp://gssc.esa.int/gnss/products/2364//GFZ0MGXRAP_20251210000_01D_05M_ORB.SP3.gz"
     ]
    },
    {
     "name": "stderr",
     "output_type": "stream",
     "text": [
      "GFZ0MGXRAP_20251210000_01D_05M_ORB.SP3.gz: 1.02MB [00:07, 151kB/s]                             \n"
     ]
    },
    {
     "name": "stdout",
     "output_type": "stream",
     "text": [
      " | Download completed for ftp://gssc.esa.int/gnss/products/2364//GFZ0MGXRAP_20251210000_01D_05M_ORB.SP3.gz\n",
      "C:\\Users\\varga\\Box\\Data\\nc Files\\PACQUI\\aux_orbits\\GFZ0MGXRAP_20251210000_01D_05M_ORB.SP3 file is read in 7.79 seconds\n",
      "C:\\Users\\varga\\Box\\Data\\nc Files\\PACQUI\\aux_orbits\\GFZ0MGXRAP_20251190000_01D_30S_CLK.CLK exists | Reading...\n",
      "C:\\Users\\varga\\Box\\Data\\nc Files\\PACQUI\\aux_orbits\\GFZ0MGXRAP_20251190000_01D_30S_CLK.CLK file is read in 2.65 seconds\n",
      "C:\\Users\\varga\\Box\\Data\\nc Files\\PACQUI\\aux_orbits\\GFZ0MGXRAP_20251200000_01D_30S_CLK.CLK exists | Reading...\n",
      "C:\\Users\\varga\\Box\\Data\\nc Files\\PACQUI\\aux_orbits\\GFZ0MGXRAP_20251200000_01D_30S_CLK.CLK file is read in 2.73 seconds\n",
      "This file does not exist: C:\\Users\\varga\\Box\\Data\\nc Files\\PACQUI\\aux_orbits\\GFZ0MGXRAP_20251210000_01D_30S_CLK.CLK\n",
      "Downloading: GFZ0MGXRAP_20251210000_01D_30S_CLK.CLK.gz"
     ]
    },
    {
     "name": "stderr",
     "output_type": "stream",
     "text": [
      "GFZ0MGXRAP_20251210000_01D_30S_CLK.CLK.gz: 4.75MB [00:03, 1.33MB/s]                            \n"
     ]
    },
    {
     "name": "stdout",
     "output_type": "stream",
     "text": [
      " | Download completed for GFZ0MGXRAP_20251210000_01D_30S_CLK.CLK.gz\n",
      "C:\\Users\\varga\\Box\\Data\\nc Files\\PACQUI\\aux_orbits\\GFZ0MGXRAP_20251210000_01D_30S_CLK.CLK file is read in 1.98 seconds\n"
     ]
    },
    {
     "name": "stderr",
     "output_type": "stream",
     "text": [
      "C:\\Users\\varga\\Documents\\GitHub\\gnssvod\\gnssvod\\position\\interpolation.py:59: FutureWarning: The behavior of pd.concat with len(keys) != len(objs) is deprecated. In a future version this will raise instead of truncating to the smaller of the two sequences\n",
      "  sp3_resampled = _pd.concat(sp3_resampled, keys=svList, names=['SV']).reorder_levels(['Epoch', 'SV']).sort_index(level='Epoch')\n"
     ]
    },
    {
     "name": "stdout",
     "output_type": "stream",
     "text": [
      "SP3 interpolation is done in 3.70 seconds\n",
      "Saved 104336 individual observations in C:\\Users\\varga\\Box\\Data\\nc Files\\PACQUI\\processed\\PACQUI_raw_20250429220217.nc\n",
      "[OK] PACQUI_raw_20250429220217.25O\n",
      "Could not find any files matching the pattern C:\\Users\\varga\\Box\\Data\\nc Files\\PACQUI\\processed*.nc\n",
      "C:\\Users\\varga\\Box\\Data\\nc Files\\PACQUI\\PACQUI_raw_20250430220218.25O exists | Reading...\n",
      "Observation file  C:\\Users\\varga\\Box\\Data\\nc Files\\PACQUI\\PACQUI_raw_20250430220218.25O  is read in 5.55 seconds.\n",
      "Processing 104659 individual observations\n",
      "Calculating Azimuth and Elevation\n",
      "C:\\Users\\varga\\Box\\Data\\nc Files\\PACQUI\\aux_orbits\\GFZ0MGXRAP_20251200000_01D_05M_ORB.SP3 exists | Reading...\n",
      "C:\\Users\\varga\\Box\\Data\\nc Files\\PACQUI\\aux_orbits\\GFZ0MGXRAP_20251200000_01D_05M_ORB.SP3 file is read in 0.68 seconds\n",
      "C:\\Users\\varga\\Box\\Data\\nc Files\\PACQUI\\aux_orbits\\GFZ0MGXRAP_20251210000_01D_05M_ORB.SP3 exists | Reading...\n",
      "C:\\Users\\varga\\Box\\Data\\nc Files\\PACQUI\\aux_orbits\\GFZ0MGXRAP_20251210000_01D_05M_ORB.SP3 file is read in 1.14 seconds\n",
      "This file does not exist: C:\\Users\\varga\\Box\\Data\\nc Files\\PACQUI\\aux_orbits\\GFZ0MGXRAP_20251220000_01D_05M_ORB.SP3\n",
      "Downloading: ftp://gssc.esa.int/gnss/products/2364//GFZ0MGXRAP_20251220000_01D_05M_ORB.SP3.gz"
     ]
    },
    {
     "name": "stderr",
     "output_type": "stream",
     "text": [
      "GFZ0MGXRAP_20251220000_01D_05M_ORB.SP3.gz: 1.04MB [00:04, 248kB/s]                             \n"
     ]
    },
    {
     "name": "stdout",
     "output_type": "stream",
     "text": [
      " | Download completed for ftp://gssc.esa.int/gnss/products/2364//GFZ0MGXRAP_20251220000_01D_05M_ORB.SP3.gz\n",
      "C:\\Users\\varga\\Box\\Data\\nc Files\\PACQUI\\aux_orbits\\GFZ0MGXRAP_20251220000_01D_05M_ORB.SP3 file is read in 13.04 seconds\n",
      "C:\\Users\\varga\\Box\\Data\\nc Files\\PACQUI\\aux_orbits\\GFZ0MGXRAP_20251200000_01D_30S_CLK.CLK exists | Reading...\n",
      "C:\\Users\\varga\\Box\\Data\\nc Files\\PACQUI\\aux_orbits\\GFZ0MGXRAP_20251200000_01D_30S_CLK.CLK file is read in 21.70 seconds\n",
      "C:\\Users\\varga\\Box\\Data\\nc Files\\PACQUI\\aux_orbits\\GFZ0MGXRAP_20251210000_01D_30S_CLK.CLK exists | Reading...\n",
      "C:\\Users\\varga\\Box\\Data\\nc Files\\PACQUI\\aux_orbits\\GFZ0MGXRAP_20251210000_01D_30S_CLK.CLK file is read in 2.37 seconds\n",
      "This file does not exist: C:\\Users\\varga\\Box\\Data\\nc Files\\PACQUI\\aux_orbits\\GFZ0MGXRAP_20251220000_01D_30S_CLK.CLK\n",
      "Downloading: GFZ0MGXRAP_20251220000_01D_30S_CLK.CLK.gz"
     ]
    },
    {
     "name": "stderr",
     "output_type": "stream",
     "text": [
      "GFZ0MGXRAP_20251220000_01D_30S_CLK.CLK.gz: 4.76MB [00:04, 1.11MB/s]                            \n"
     ]
    },
    {
     "name": "stdout",
     "output_type": "stream",
     "text": [
      " | Download completed for GFZ0MGXRAP_20251220000_01D_30S_CLK.CLK.gz\n",
      "C:\\Users\\varga\\Box\\Data\\nc Files\\PACQUI\\aux_orbits\\GFZ0MGXRAP_20251220000_01D_30S_CLK.CLK file is read in 19.08 seconds\n"
     ]
    },
    {
     "name": "stderr",
     "output_type": "stream",
     "text": [
      "C:\\Users\\varga\\Documents\\GitHub\\gnssvod\\gnssvod\\position\\interpolation.py:59: FutureWarning: The behavior of pd.concat with len(keys) != len(objs) is deprecated. In a future version this will raise instead of truncating to the smaller of the two sequences\n",
      "  sp3_resampled = _pd.concat(sp3_resampled, keys=svList, names=['SV']).reorder_levels(['Epoch', 'SV']).sort_index(level='Epoch')\n"
     ]
    },
    {
     "name": "stdout",
     "output_type": "stream",
     "text": [
      "SP3 interpolation is done in 29.01 seconds\n",
      "Saved 104659 individual observations in C:\\Users\\varga\\Box\\Data\\nc Files\\PACQUI\\processed\\PACQUI_raw_20250430220218.nc\n",
      "[OK] PACQUI_raw_20250430220218.25O\n",
      "Could not find any files matching the pattern C:\\Users\\varga\\Box\\Data\\nc Files\\PACQUI\\processed*.nc\n",
      "C:\\Users\\varga\\Box\\Data\\nc Files\\PACQUI\\PACQUI_raw_20250501220219.25O exists | Reading...\n",
      "Observation file  C:\\Users\\varga\\Box\\Data\\nc Files\\PACQUI\\PACQUI_raw_20250501220219.25O  is read in 30.52 seconds.\n",
      "Processing 101201 individual observations\n",
      "Calculating Azimuth and Elevation\n",
      "C:\\Users\\varga\\Box\\Data\\nc Files\\PACQUI\\aux_orbits\\GFZ0MGXRAP_20251210000_01D_05M_ORB.SP3 exists | Reading...\n",
      "C:\\Users\\varga\\Box\\Data\\nc Files\\PACQUI\\aux_orbits\\GFZ0MGXRAP_20251210000_01D_05M_ORB.SP3 file is read in 0.87 seconds\n",
      "C:\\Users\\varga\\Box\\Data\\nc Files\\PACQUI\\aux_orbits\\GFZ0MGXRAP_20251220000_01D_05M_ORB.SP3 exists | Reading...\n",
      "C:\\Users\\varga\\Box\\Data\\nc Files\\PACQUI\\aux_orbits\\GFZ0MGXRAP_20251220000_01D_05M_ORB.SP3 file is read in 0.86 seconds\n",
      "This file does not exist: C:\\Users\\varga\\Box\\Data\\nc Files\\PACQUI\\aux_orbits\\GFZ0MGXRAP_20251230000_01D_05M_ORB.SP3\n",
      "Downloading: ftp://gssc.esa.int/gnss/products/2364//GFZ0MGXRAP_20251230000_01D_05M_ORB.SP3.gz"
     ]
    },
    {
     "name": "stderr",
     "output_type": "stream",
     "text": [
      "GFZ0MGXRAP_20251230000_01D_05M_ORB.SP3.gz: 1.05MB [00:03, 332kB/s]                             \n"
     ]
    },
    {
     "name": "stdout",
     "output_type": "stream",
     "text": [
      " | Download completed for ftp://gssc.esa.int/gnss/products/2364//GFZ0MGXRAP_20251230000_01D_05M_ORB.SP3.gz\n",
      "C:\\Users\\varga\\Box\\Data\\nc Files\\PACQUI\\aux_orbits\\GFZ0MGXRAP_20251230000_01D_05M_ORB.SP3 file is read in 11.11 seconds\n",
      "C:\\Users\\varga\\Box\\Data\\nc Files\\PACQUI\\aux_orbits\\GFZ0MGXRAP_20251210000_01D_30S_CLK.CLK exists | Reading...\n",
      "C:\\Users\\varga\\Box\\Data\\nc Files\\PACQUI\\aux_orbits\\GFZ0MGXRAP_20251210000_01D_30S_CLK.CLK file is read in 27.52 seconds\n",
      "C:\\Users\\varga\\Box\\Data\\nc Files\\PACQUI\\aux_orbits\\GFZ0MGXRAP_20251220000_01D_30S_CLK.CLK exists | Reading...\n",
      "C:\\Users\\varga\\Box\\Data\\nc Files\\PACQUI\\aux_orbits\\GFZ0MGXRAP_20251220000_01D_30S_CLK.CLK file is read in 7.66 seconds\n",
      "This file does not exist: C:\\Users\\varga\\Box\\Data\\nc Files\\PACQUI\\aux_orbits\\GFZ0MGXRAP_20251230000_01D_30S_CLK.CLK\n",
      "Downloading: GFZ0MGXRAP_20251230000_01D_30S_CLK.CLK.gz"
     ]
    },
    {
     "name": "stderr",
     "output_type": "stream",
     "text": [
      "GFZ0MGXRAP_20251230000_01D_30S_CLK.CLK.gz: 4.84MB [00:06, 818kB/s]                             \n"
     ]
    },
    {
     "name": "stdout",
     "output_type": "stream",
     "text": [
      " | Download completed for GFZ0MGXRAP_20251230000_01D_30S_CLK.CLK.gz\n",
      "C:\\Users\\varga\\Box\\Data\\nc Files\\PACQUI\\aux_orbits\\GFZ0MGXRAP_20251230000_01D_30S_CLK.CLK file is read in 22.06 seconds\n"
     ]
    },
    {
     "name": "stderr",
     "output_type": "stream",
     "text": [
      "C:\\Users\\varga\\Documents\\GitHub\\gnssvod\\gnssvod\\position\\interpolation.py:59: FutureWarning: The behavior of pd.concat with len(keys) != len(objs) is deprecated. In a future version this will raise instead of truncating to the smaller of the two sequences\n",
      "  sp3_resampled = _pd.concat(sp3_resampled, keys=svList, names=['SV']).reorder_levels(['Epoch', 'SV']).sort_index(level='Epoch')\n"
     ]
    },
    {
     "name": "stdout",
     "output_type": "stream",
     "text": [
      "SP3 interpolation is done in 17.66 seconds\n",
      "Saved 101201 individual observations in C:\\Users\\varga\\Box\\Data\\nc Files\\PACQUI\\processed\\PACQUI_raw_20250501220219.nc\n",
      "[OK] PACQUI_raw_20250501220219.25O\n",
      "Could not find any files matching the pattern C:\\Users\\varga\\Box\\Data\\nc Files\\PACQUI\\processed*.nc\n",
      "C:\\Users\\varga\\Box\\Data\\nc Files\\PACQUI\\PACQUI_raw_20250502220220.25O exists | Reading...\n",
      "Observation file  C:\\Users\\varga\\Box\\Data\\nc Files\\PACQUI\\PACQUI_raw_20250502220220.25O  is read in 3.24 seconds.\n",
      "Processing 104148 individual observations\n",
      "Calculating Azimuth and Elevation\n",
      "C:\\Users\\varga\\Box\\Data\\nc Files\\PACQUI\\aux_orbits\\GFZ0MGXRAP_20251220000_01D_05M_ORB.SP3 exists | Reading...\n",
      "C:\\Users\\varga\\Box\\Data\\nc Files\\PACQUI\\aux_orbits\\GFZ0MGXRAP_20251220000_01D_05M_ORB.SP3 file is read in 0.58 seconds\n",
      "C:\\Users\\varga\\Box\\Data\\nc Files\\PACQUI\\aux_orbits\\GFZ0MGXRAP_20251230000_01D_05M_ORB.SP3 exists | Reading...\n",
      "C:\\Users\\varga\\Box\\Data\\nc Files\\PACQUI\\aux_orbits\\GFZ0MGXRAP_20251230000_01D_05M_ORB.SP3 file is read in 0.55 seconds\n",
      "This file does not exist: C:\\Users\\varga\\Box\\Data\\nc Files\\PACQUI\\aux_orbits\\GFZ0MGXRAP_20251240000_01D_05M_ORB.SP3\n",
      "Downloading: ftp://gssc.esa.int/gnss/products/2365//GFZ0MGXRAP_20251240000_01D_05M_ORB.SP3.gz"
     ]
    },
    {
     "name": "stderr",
     "output_type": "stream",
     "text": [
      "GFZ0MGXRAP_20251240000_01D_05M_ORB.SP3.gz: 1.04MB [00:03, 304kB/s]                             \n"
     ]
    },
    {
     "name": "stdout",
     "output_type": "stream",
     "text": [
      " | Download completed for ftp://gssc.esa.int/gnss/products/2365//GFZ0MGXRAP_20251240000_01D_05M_ORB.SP3.gz\n",
      "C:\\Users\\varga\\Box\\Data\\nc Files\\PACQUI\\aux_orbits\\GFZ0MGXRAP_20251240000_01D_05M_ORB.SP3 file is read in 10.62 seconds\n",
      "C:\\Users\\varga\\Box\\Data\\nc Files\\PACQUI\\aux_orbits\\GFZ0MGXRAP_20251220000_01D_30S_CLK.CLK exists | Reading...\n",
      "C:\\Users\\varga\\Box\\Data\\nc Files\\PACQUI\\aux_orbits\\GFZ0MGXRAP_20251220000_01D_30S_CLK.CLK file is read in 26.32 seconds\n",
      "C:\\Users\\varga\\Box\\Data\\nc Files\\PACQUI\\aux_orbits\\GFZ0MGXRAP_20251230000_01D_30S_CLK.CLK exists | Reading...\n",
      "C:\\Users\\varga\\Box\\Data\\nc Files\\PACQUI\\aux_orbits\\GFZ0MGXRAP_20251230000_01D_30S_CLK.CLK file is read in 7.16 seconds\n",
      "This file does not exist: C:\\Users\\varga\\Box\\Data\\nc Files\\PACQUI\\aux_orbits\\GFZ0MGXRAP_20251240000_01D_30S_CLK.CLK\n",
      "Downloading: GFZ0MGXRAP_20251240000_01D_30S_CLK.CLK.gz"
     ]
    },
    {
     "name": "stderr",
     "output_type": "stream",
     "text": [
      "GFZ0MGXRAP_20251240000_01D_30S_CLK.CLK.gz: 4.80MB [00:03, 1.39MB/s]                            \n"
     ]
    },
    {
     "name": "stdout",
     "output_type": "stream",
     "text": [
      " | Download completed for GFZ0MGXRAP_20251240000_01D_30S_CLK.CLK.gz\n",
      "C:\\Users\\varga\\Box\\Data\\nc Files\\PACQUI\\aux_orbits\\GFZ0MGXRAP_20251240000_01D_30S_CLK.CLK file is read in 17.72 seconds\n",
      "SP3 interpolation is done in 25.94 seconds\n",
      "Saved 104148 individual observations in C:\\Users\\varga\\Box\\Data\\nc Files\\PACQUI\\processed\\PACQUI_raw_20250502220220.nc\n",
      "[OK] PACQUI_raw_20250502220220.25O\n",
      "Could not find any files matching the pattern C:\\Users\\varga\\Box\\Data\\nc Files\\PACQUI\\processed*.nc\n",
      "C:\\Users\\varga\\Box\\Data\\nc Files\\PACQUI\\PACQUI_raw_20250503220221.25O exists | Reading...\n",
      "Observation file  C:\\Users\\varga\\Box\\Data\\nc Files\\PACQUI\\PACQUI_raw_20250503220221.25O  is read in 19.01 seconds.\n",
      "Processing 105342 individual observations\n",
      "Calculating Azimuth and Elevation\n",
      "C:\\Users\\varga\\Box\\Data\\nc Files\\PACQUI\\aux_orbits\\GFZ0MGXRAP_20251230000_01D_05M_ORB.SP3 exists | Reading...\n",
      "C:\\Users\\varga\\Box\\Data\\nc Files\\PACQUI\\aux_orbits\\GFZ0MGXRAP_20251230000_01D_05M_ORB.SP3 file is read in 15.04 seconds\n",
      "C:\\Users\\varga\\Box\\Data\\nc Files\\PACQUI\\aux_orbits\\GFZ0MGXRAP_20251240000_01D_05M_ORB.SP3 exists | Reading...\n",
      "C:\\Users\\varga\\Box\\Data\\nc Files\\PACQUI\\aux_orbits\\GFZ0MGXRAP_20251240000_01D_05M_ORB.SP3 file is read in 11.94 seconds\n",
      "This file does not exist: C:\\Users\\varga\\Box\\Data\\nc Files\\PACQUI\\aux_orbits\\GFZ0MGXRAP_20251250000_01D_05M_ORB.SP3\n",
      "Downloading: ftp://gssc.esa.int/gnss/products/2365//GFZ0MGXRAP_20251250000_01D_05M_ORB.SP3.gz"
     ]
    },
    {
     "name": "stderr",
     "output_type": "stream",
     "text": [
      "GFZ0MGXRAP_20251250000_01D_05M_ORB.SP3.gz: 1.04MB [00:03, 328kB/s]                             \n"
     ]
    },
    {
     "name": "stdout",
     "output_type": "stream",
     "text": [
      " | Download completed for ftp://gssc.esa.int/gnss/products/2365//GFZ0MGXRAP_20251250000_01D_05M_ORB.SP3.gz\n",
      "C:\\Users\\varga\\Box\\Data\\nc Files\\PACQUI\\aux_orbits\\GFZ0MGXRAP_20251250000_01D_05M_ORB.SP3 file is read in 8.99 seconds\n",
      "C:\\Users\\varga\\Box\\Data\\nc Files\\PACQUI\\aux_orbits\\GFZ0MGXRAP_20251230000_01D_30S_CLK.CLK exists | Reading...\n",
      "C:\\Users\\varga\\Box\\Data\\nc Files\\PACQUI\\aux_orbits\\GFZ0MGXRAP_20251230000_01D_30S_CLK.CLK file is read in 28.94 seconds\n",
      "C:\\Users\\varga\\Box\\Data\\nc Files\\PACQUI\\aux_orbits\\GFZ0MGXRAP_20251240000_01D_30S_CLK.CLK exists | Reading...\n",
      "C:\\Users\\varga\\Box\\Data\\nc Files\\PACQUI\\aux_orbits\\GFZ0MGXRAP_20251240000_01D_30S_CLK.CLK file is read in 6.68 seconds\n",
      "This file does not exist: C:\\Users\\varga\\Box\\Data\\nc Files\\PACQUI\\aux_orbits\\GFZ0MGXRAP_20251250000_01D_30S_CLK.CLK\n",
      "Downloading: GFZ0MGXRAP_20251250000_01D_30S_CLK.CLK.gz"
     ]
    },
    {
     "name": "stderr",
     "output_type": "stream",
     "text": [
      "GFZ0MGXRAP_20251250000_01D_30S_CLK.CLK.gz: 4.80MB [00:04, 1.10MB/s]                            \n"
     ]
    },
    {
     "name": "stdout",
     "output_type": "stream",
     "text": [
      " | Download completed for GFZ0MGXRAP_20251250000_01D_30S_CLK.CLK.gz\n",
      "C:\\Users\\varga\\Box\\Data\\nc Files\\PACQUI\\aux_orbits\\GFZ0MGXRAP_20251250000_01D_30S_CLK.CLK file is read in 30.33 seconds\n",
      "SP3 interpolation is done in 7.19 seconds\n",
      "Saved 105342 individual observations in C:\\Users\\varga\\Box\\Data\\nc Files\\PACQUI\\processed\\PACQUI_raw_20250503220221.nc\n",
      "[OK] PACQUI_raw_20250503220221.25O\n",
      "Could not find any files matching the pattern C:\\Users\\varga\\Box\\Data\\nc Files\\PACQUI\\processed*.nc\n",
      "C:\\Users\\varga\\Box\\Data\\nc Files\\PACQUI\\PACQUI_raw_20250504220222.25O exists | Reading...\n",
      "Observation file  C:\\Users\\varga\\Box\\Data\\nc Files\\PACQUI\\PACQUI_raw_20250504220222.25O  is read in 2.62 seconds.\n",
      "Processing 68577 individual observations\n",
      "Calculating Azimuth and Elevation\n",
      "C:\\Users\\varga\\Box\\Data\\nc Files\\PACQUI\\aux_orbits\\GFZ0MGXRAP_20251240000_01D_05M_ORB.SP3 exists | Reading...\n",
      "C:\\Users\\varga\\Box\\Data\\nc Files\\PACQUI\\aux_orbits\\GFZ0MGXRAP_20251240000_01D_05M_ORB.SP3 file is read in 0.69 seconds\n",
      "C:\\Users\\varga\\Box\\Data\\nc Files\\PACQUI\\aux_orbits\\GFZ0MGXRAP_20251250000_01D_05M_ORB.SP3 exists | Reading...\n",
      "C:\\Users\\varga\\Box\\Data\\nc Files\\PACQUI\\aux_orbits\\GFZ0MGXRAP_20251250000_01D_05M_ORB.SP3 file is read in 0.55 seconds\n",
      "C:\\Users\\varga\\Box\\Data\\nc Files\\PACQUI\\aux_orbits\\GFZ0MGXRAP_20251240000_01D_30S_CLK.CLK exists | Reading...\n",
      "C:\\Users\\varga\\Box\\Data\\nc Files\\PACQUI\\aux_orbits\\GFZ0MGXRAP_20251240000_01D_30S_CLK.CLK file is read in 22.78 seconds\n",
      "C:\\Users\\varga\\Box\\Data\\nc Files\\PACQUI\\aux_orbits\\GFZ0MGXRAP_20251250000_01D_30S_CLK.CLK exists | Reading...\n",
      "C:\\Users\\varga\\Box\\Data\\nc Files\\PACQUI\\aux_orbits\\GFZ0MGXRAP_20251250000_01D_30S_CLK.CLK file is read in 11.35 seconds\n",
      "SP3 interpolation is done in 3.37 seconds\n",
      "Saved 68577 individual observations in C:\\Users\\varga\\Box\\Data\\nc Files\\PACQUI\\processed\\PACQUI_raw_20250504220222.nc\n",
      "[OK] PACQUI_raw_20250504220222.25O\n",
      "Could not find any files matching the pattern C:\\Users\\varga\\Box\\Data\\nc Files\\PACQUI\\processed*.nc\n",
      "C:\\Users\\varga\\Box\\Data\\nc Files\\PACQUI\\PACQUI_raw_20250506142454.25O exists | Reading...\n",
      "Observation file  C:\\Users\\varga\\Box\\Data\\nc Files\\PACQUI\\PACQUI_raw_20250506142454.25O  is read in 25.15 seconds.\n",
      "Processing 104362 individual observations\n",
      "Calculating Azimuth and Elevation\n",
      "This file does not exist: C:\\Users\\varga\\Box\\Data\\nc Files\\PACQUI\\aux_orbits\\GFZ0MGXRAP_20251260000_01D_05M_ORB.SP3\n",
      "Downloading: ftp://gssc.esa.int/gnss/products/2365//GFZ0MGXRAP_20251260000_01D_05M_ORB.SP3.gz"
     ]
    },
    {
     "name": "stderr",
     "output_type": "stream",
     "text": [
      "GFZ0MGXRAP_20251260000_01D_05M_ORB.SP3.gz: 1.04MB [00:03, 326kB/s]                             \n"
     ]
    },
    {
     "name": "stdout",
     "output_type": "stream",
     "text": [
      " | Download completed for ftp://gssc.esa.int/gnss/products/2365//GFZ0MGXRAP_20251260000_01D_05M_ORB.SP3.gz\n",
      "C:\\Users\\varga\\Box\\Data\\nc Files\\PACQUI\\aux_orbits\\GFZ0MGXRAP_20251260000_01D_05M_ORB.SP3 file is read in 7.61 seconds\n",
      "This file does not exist: C:\\Users\\varga\\Box\\Data\\nc Files\\PACQUI\\aux_orbits\\GFZ0MGXRAP_20251270000_01D_05M_ORB.SP3\n",
      "Downloading: ftp://gssc.esa.int/gnss/products/2365//GFZ0MGXRAP_20251270000_01D_05M_ORB.SP3.gz"
     ]
    },
    {
     "name": "stderr",
     "output_type": "stream",
     "text": [
      "GFZ0MGXRAP_20251270000_01D_05M_ORB.SP3.gz: 1.04MB [00:05, 196kB/s]                             \n"
     ]
    },
    {
     "name": "stdout",
     "output_type": "stream",
     "text": [
      " | Download completed for ftp://gssc.esa.int/gnss/products/2365//GFZ0MGXRAP_20251270000_01D_05M_ORB.SP3.gz\n",
      "C:\\Users\\varga\\Box\\Data\\nc Files\\PACQUI\\aux_orbits\\GFZ0MGXRAP_20251270000_01D_05M_ORB.SP3 file is read in 8.10 seconds\n",
      "This file does not exist: C:\\Users\\varga\\Box\\Data\\nc Files\\PACQUI\\aux_orbits\\GFZ0MGXRAP_20251260000_01D_30S_CLK.CLK\n",
      "Downloading: GFZ0MGXRAP_20251260000_01D_30S_CLK.CLK.gz"
     ]
    },
    {
     "name": "stderr",
     "output_type": "stream",
     "text": [
      "GFZ0MGXRAP_20251260000_01D_30S_CLK.CLK.gz: 4.80MB [00:05, 942kB/s]                             \n"
     ]
    },
    {
     "name": "stdout",
     "output_type": "stream",
     "text": [
      " | Download completed for GFZ0MGXRAP_20251260000_01D_30S_CLK.CLK.gz\n",
      "C:\\Users\\varga\\Box\\Data\\nc Files\\PACQUI\\aux_orbits\\GFZ0MGXRAP_20251260000_01D_30S_CLK.CLK file is read in 23.40 seconds\n",
      "This file does not exist: C:\\Users\\varga\\Box\\Data\\nc Files\\PACQUI\\aux_orbits\\GFZ0MGXRAP_20251270000_01D_30S_CLK.CLK\n",
      "Downloading: GFZ0MGXRAP_20251270000_01D_30S_CLK.CLK.gz"
     ]
    },
    {
     "name": "stderr",
     "output_type": "stream",
     "text": [
      "GFZ0MGXRAP_20251270000_01D_30S_CLK.CLK.gz: 4.75MB [00:03, 1.33MB/s]                            \n"
     ]
    },
    {
     "name": "stdout",
     "output_type": "stream",
     "text": [
      " | Download completed for GFZ0MGXRAP_20251270000_01D_30S_CLK.CLK.gz\n",
      "C:\\Users\\varga\\Box\\Data\\nc Files\\PACQUI\\aux_orbits\\GFZ0MGXRAP_20251270000_01D_30S_CLK.CLK file is read in 3.54 seconds\n",
      "SP3 interpolation is done in 26.79 seconds\n",
      "Saved 104362 individual observations in C:\\Users\\varga\\Box\\Data\\nc Files\\PACQUI\\processed\\PACQUI_raw_20250506142454.nc\n",
      "[OK] PACQUI_raw_20250506142454.25O\n",
      "Could not find any files matching the pattern C:\\Users\\varga\\Box\\Data\\nc Files\\PACQUI\\processed*.nc\n",
      "C:\\Users\\varga\\Box\\Data\\nc Files\\PACQUI\\PACQUI_raw_20250507142455.25O exists | Reading...\n",
      "Observation file  C:\\Users\\varga\\Box\\Data\\nc Files\\PACQUI\\PACQUI_raw_20250507142455.25O  is read in 6.71 seconds.\n",
      "Processing 102760 individual observations\n",
      "Calculating Azimuth and Elevation\n",
      "C:\\Users\\varga\\Box\\Data\\nc Files\\PACQUI\\aux_orbits\\GFZ0MGXRAP_20251270000_01D_05M_ORB.SP3 exists | Reading...\n",
      "C:\\Users\\varga\\Box\\Data\\nc Files\\PACQUI\\aux_orbits\\GFZ0MGXRAP_20251270000_01D_05M_ORB.SP3 file is read in 5.54 seconds\n",
      "This file does not exist: C:\\Users\\varga\\Box\\Data\\nc Files\\PACQUI\\aux_orbits\\GFZ0MGXRAP_20251280000_01D_05M_ORB.SP3\n",
      "Downloading: ftp://gssc.esa.int/gnss/products/2365//GFZ0MGXRAP_20251280000_01D_05M_ORB.SP3.gz"
     ]
    },
    {
     "name": "stderr",
     "output_type": "stream",
     "text": [
      "GFZ0MGXRAP_20251280000_01D_05M_ORB.SP3.gz: 1.03MB [00:04, 267kB/s]                             \n"
     ]
    },
    {
     "name": "stdout",
     "output_type": "stream",
     "text": [
      " | Download completed for ftp://gssc.esa.int/gnss/products/2365//GFZ0MGXRAP_20251280000_01D_05M_ORB.SP3.gz\n",
      "C:\\Users\\varga\\Box\\Data\\nc Files\\PACQUI\\aux_orbits\\GFZ0MGXRAP_20251280000_01D_05M_ORB.SP3 file is read in 10.13 seconds\n",
      "C:\\Users\\varga\\Box\\Data\\nc Files\\PACQUI\\aux_orbits\\GFZ0MGXRAP_20251270000_01D_30S_CLK.CLK exists | Reading...\n",
      "C:\\Users\\varga\\Box\\Data\\nc Files\\PACQUI\\aux_orbits\\GFZ0MGXRAP_20251270000_01D_30S_CLK.CLK file is read in 11.29 seconds\n",
      "This file does not exist: C:\\Users\\varga\\Box\\Data\\nc Files\\PACQUI\\aux_orbits\\GFZ0MGXRAP_20251280000_01D_30S_CLK.CLK\n",
      "Downloading: GFZ0MGXRAP_20251280000_01D_30S_CLK.CLK.gz"
     ]
    },
    {
     "name": "stderr",
     "output_type": "stream",
     "text": [
      "GFZ0MGXRAP_20251280000_01D_30S_CLK.CLK.gz: 4.75MB [00:03, 1.34MB/s]                            \n"
     ]
    },
    {
     "name": "stdout",
     "output_type": "stream",
     "text": [
      " | Download completed for GFZ0MGXRAP_20251280000_01D_30S_CLK.CLK.gz\n",
      "C:\\Users\\varga\\Box\\Data\\nc Files\\PACQUI\\aux_orbits\\GFZ0MGXRAP_20251280000_01D_30S_CLK.CLK file is read in 5.97 seconds\n",
      "SP3 interpolation is done in 29.91 seconds\n",
      "Saved 102760 individual observations in C:\\Users\\varga\\Box\\Data\\nc Files\\PACQUI\\processed\\PACQUI_raw_20250507142455.nc\n",
      "[OK] PACQUI_raw_20250507142455.25O\n",
      "Could not find any files matching the pattern C:\\Users\\varga\\Box\\Data\\nc Files\\PACQUI\\processed*.nc\n",
      "C:\\Users\\varga\\Box\\Data\\nc Files\\PACQUI\\PACQUI_raw_20250508142456.25O exists | Reading...\n",
      "Observation file  C:\\Users\\varga\\Box\\Data\\nc Files\\PACQUI\\PACQUI_raw_20250508142456.25O  is read in 3.62 seconds.\n",
      "Processing 103957 individual observations\n",
      "Calculating Azimuth and Elevation\n",
      "C:\\Users\\varga\\Box\\Data\\nc Files\\PACQUI\\aux_orbits\\GFZ0MGXRAP_20251280000_01D_05M_ORB.SP3 exists | Reading...\n",
      "C:\\Users\\varga\\Box\\Data\\nc Files\\PACQUI\\aux_orbits\\GFZ0MGXRAP_20251280000_01D_05M_ORB.SP3 file is read in 1.20 seconds\n",
      "This file does not exist: C:\\Users\\varga\\Box\\Data\\nc Files\\PACQUI\\aux_orbits\\GFZ0MGXRAP_20251290000_01D_05M_ORB.SP3\n",
      "Downloading: ftp://gssc.esa.int/gnss/products/2365//GFZ0MGXRAP_20251290000_01D_05M_ORB.SP3.gz"
     ]
    },
    {
     "name": "stderr",
     "output_type": "stream",
     "text": [
      "GFZ0MGXRAP_20251290000_01D_05M_ORB.SP3.gz: 1.03MB [00:03, 338kB/s]                             \n"
     ]
    },
    {
     "name": "stdout",
     "output_type": "stream",
     "text": [
      " | Download completed for ftp://gssc.esa.int/gnss/products/2365//GFZ0MGXRAP_20251290000_01D_05M_ORB.SP3.gz\n",
      "C:\\Users\\varga\\Box\\Data\\nc Files\\PACQUI\\aux_orbits\\GFZ0MGXRAP_20251290000_01D_05M_ORB.SP3 file is read in 4.39 seconds\n",
      "C:\\Users\\varga\\Box\\Data\\nc Files\\PACQUI\\aux_orbits\\GFZ0MGXRAP_20251280000_01D_30S_CLK.CLK exists | Reading...\n",
      "C:\\Users\\varga\\Box\\Data\\nc Files\\PACQUI\\aux_orbits\\GFZ0MGXRAP_20251280000_01D_30S_CLK.CLK file is read in 20.90 seconds\n",
      "This file does not exist: C:\\Users\\varga\\Box\\Data\\nc Files\\PACQUI\\aux_orbits\\GFZ0MGXRAP_20251290000_01D_30S_CLK.CLK\n",
      "Downloading: GFZ0MGXRAP_20251290000_01D_30S_CLK.CLK.gz"
     ]
    },
    {
     "name": "stderr",
     "output_type": "stream",
     "text": [
      "GFZ0MGXRAP_20251290000_01D_30S_CLK.CLK.gz: 4.77MB [00:04, 1.16MB/s]                            \n"
     ]
    },
    {
     "name": "stdout",
     "output_type": "stream",
     "text": [
      " | Download completed for GFZ0MGXRAP_20251290000_01D_30S_CLK.CLK.gz\n",
      "C:\\Users\\varga\\Box\\Data\\nc Files\\PACQUI\\aux_orbits\\GFZ0MGXRAP_20251290000_01D_30S_CLK.CLK file is read in 6.84 seconds\n",
      "SP3 interpolation is done in 4.27 seconds\n",
      "Saved 103957 individual observations in C:\\Users\\varga\\Box\\Data\\nc Files\\PACQUI\\processed\\PACQUI_raw_20250508142456.nc\n",
      "[OK] PACQUI_raw_20250508142456.25O\n",
      "Could not find any files matching the pattern C:\\Users\\varga\\Box\\Data\\nc Files\\PACQUI\\processed*.nc\n",
      "C:\\Users\\varga\\Box\\Data\\nc Files\\PACQUI\\PACQUI_raw_20250509142457.25O exists | Reading...\n",
      "Observation file  C:\\Users\\varga\\Box\\Data\\nc Files\\PACQUI\\PACQUI_raw_20250509142457.25O  is read in 20.00 seconds.\n",
      "Processing 103525 individual observations\n",
      "Calculating Azimuth and Elevation\n",
      "C:\\Users\\varga\\Box\\Data\\nc Files\\PACQUI\\aux_orbits\\GFZ0MGXRAP_20251290000_01D_05M_ORB.SP3 exists | Reading...\n",
      "C:\\Users\\varga\\Box\\Data\\nc Files\\PACQUI\\aux_orbits\\GFZ0MGXRAP_20251290000_01D_05M_ORB.SP3 file is read in 0.61 seconds\n",
      "This file does not exist: C:\\Users\\varga\\Box\\Data\\nc Files\\PACQUI\\aux_orbits\\GFZ0MGXRAP_20251300000_01D_05M_ORB.SP3\n",
      "Downloading: ftp://gssc.esa.int/gnss/products/2365//GFZ0MGXRAP_20251300000_01D_05M_ORB.SP3.gz"
     ]
    },
    {
     "name": "stderr",
     "output_type": "stream",
     "text": [
      "GFZ0MGXRAP_20251300000_01D_05M_ORB.SP3.gz: 1.04MB [00:03, 341kB/s]                             \n"
     ]
    },
    {
     "name": "stdout",
     "output_type": "stream",
     "text": [
      " | Download completed for ftp://gssc.esa.int/gnss/products/2365//GFZ0MGXRAP_20251300000_01D_05M_ORB.SP3.gz\n",
      "C:\\Users\\varga\\Box\\Data\\nc Files\\PACQUI\\aux_orbits\\GFZ0MGXRAP_20251300000_01D_05M_ORB.SP3 file is read in 3.84 seconds\n",
      "C:\\Users\\varga\\Box\\Data\\nc Files\\PACQUI\\aux_orbits\\GFZ0MGXRAP_20251290000_01D_30S_CLK.CLK exists | Reading...\n",
      "C:\\Users\\varga\\Box\\Data\\nc Files\\PACQUI\\aux_orbits\\GFZ0MGXRAP_20251290000_01D_30S_CLK.CLK file is read in 4.63 seconds\n",
      "This file does not exist: C:\\Users\\varga\\Box\\Data\\nc Files\\PACQUI\\aux_orbits\\GFZ0MGXRAP_20251300000_01D_30S_CLK.CLK\n",
      "Downloading: GFZ0MGXRAP_20251300000_01D_30S_CLK.CLK.gz"
     ]
    },
    {
     "name": "stderr",
     "output_type": "stream",
     "text": [
      "GFZ0MGXRAP_20251300000_01D_30S_CLK.CLK.gz: 4.80MB [00:13, 364kB/s]                             \n"
     ]
    },
    {
     "name": "stdout",
     "output_type": "stream",
     "text": [
      " | Download completed for GFZ0MGXRAP_20251300000_01D_30S_CLK.CLK.gz\n",
      "C:\\Users\\varga\\Box\\Data\\nc Files\\PACQUI\\aux_orbits\\GFZ0MGXRAP_20251300000_01D_30S_CLK.CLK file is read in 18.28 seconds\n",
      "SP3 interpolation is done in 3.54 seconds\n",
      "Saved 103525 individual observations in C:\\Users\\varga\\Box\\Data\\nc Files\\PACQUI\\processed\\PACQUI_raw_20250509142457.nc\n",
      "[OK] PACQUI_raw_20250509142457.25O\n",
      "Could not find any files matching the pattern C:\\Users\\varga\\Box\\Data\\nc Files\\PACQUI\\processed*.nc\n",
      "C:\\Users\\varga\\Box\\Data\\nc Files\\PACQUI\\PACQUI_raw_20250510142458.25O exists | Reading...\n",
      "Observation file  C:\\Users\\varga\\Box\\Data\\nc Files\\PACQUI\\PACQUI_raw_20250510142458.25O  is read in 5.44 seconds.\n",
      "Processing 102429 individual observations\n",
      "Calculating Azimuth and Elevation\n",
      "C:\\Users\\varga\\Box\\Data\\nc Files\\PACQUI\\aux_orbits\\GFZ0MGXRAP_20251300000_01D_05M_ORB.SP3 exists | Reading...\n",
      "C:\\Users\\varga\\Box\\Data\\nc Files\\PACQUI\\aux_orbits\\GFZ0MGXRAP_20251300000_01D_05M_ORB.SP3 file is read in 5.63 seconds\n",
      "This file does not exist: C:\\Users\\varga\\Box\\Data\\nc Files\\PACQUI\\aux_orbits\\GFZ0MGXRAP_20251310000_01D_05M_ORB.SP3\n",
      "Downloading: ftp://gssc.esa.int/gnss/products/2366//GFZ0MGXRAP_20251310000_01D_05M_ORB.SP3.gz"
     ]
    },
    {
     "name": "stderr",
     "output_type": "stream",
     "text": [
      "GFZ0MGXRAP_20251310000_01D_05M_ORB.SP3.gz: 1.05MB [00:03, 276kB/s]                             \n"
     ]
    },
    {
     "name": "stdout",
     "output_type": "stream",
     "text": [
      " | Download completed for ftp://gssc.esa.int/gnss/products/2366//GFZ0MGXRAP_20251310000_01D_05M_ORB.SP3.gz\n",
      "C:\\Users\\varga\\Box\\Data\\nc Files\\PACQUI\\aux_orbits\\GFZ0MGXRAP_20251310000_01D_05M_ORB.SP3 file is read in 14.38 seconds\n",
      "C:\\Users\\varga\\Box\\Data\\nc Files\\PACQUI\\aux_orbits\\GFZ0MGXRAP_20251300000_01D_30S_CLK.CLK exists | Reading...\n",
      "C:\\Users\\varga\\Box\\Data\\nc Files\\PACQUI\\aux_orbits\\GFZ0MGXRAP_20251300000_01D_30S_CLK.CLK file is read in 20.26 seconds\n",
      "This file does not exist: C:\\Users\\varga\\Box\\Data\\nc Files\\PACQUI\\aux_orbits\\GFZ0MGXRAP_20251310000_01D_30S_CLK.CLK\n",
      "Downloading: GFZ0MGXRAP_20251310000_01D_30S_CLK.CLK.gz"
     ]
    },
    {
     "name": "stderr",
     "output_type": "stream",
     "text": [
      "GFZ0MGXRAP_20251310000_01D_30S_CLK.CLK.gz: 4.83MB [00:24, 203kB/s]                             \n"
     ]
    },
    {
     "name": "stdout",
     "output_type": "stream",
     "text": [
      " | Download completed for GFZ0MGXRAP_20251310000_01D_30S_CLK.CLK.gz\n",
      "C:\\Users\\varga\\Box\\Data\\nc Files\\PACQUI\\aux_orbits\\GFZ0MGXRAP_20251310000_01D_30S_CLK.CLK file is read in 22.89 seconds\n",
      "SP3 interpolation is done in 3.61 seconds\n",
      "Saved 102429 individual observations in C:\\Users\\varga\\Box\\Data\\nc Files\\PACQUI\\processed\\PACQUI_raw_20250510142458.nc\n",
      "[OK] PACQUI_raw_20250510142458.25O\n",
      "Could not find any files matching the pattern C:\\Users\\varga\\Box\\Data\\nc Files\\PACQUI\\processed*.nc\n",
      "C:\\Users\\varga\\Box\\Data\\nc Files\\PACQUI\\PACQUI_raw_20250511142459.25O exists | Reading...\n",
      "Observation file  C:\\Users\\varga\\Box\\Data\\nc Files\\PACQUI\\PACQUI_raw_20250511142459.25O  is read in 5.36 seconds.\n",
      "Processing 102777 individual observations\n",
      "Calculating Azimuth and Elevation\n",
      "C:\\Users\\varga\\Box\\Data\\nc Files\\PACQUI\\aux_orbits\\GFZ0MGXRAP_20251310000_01D_05M_ORB.SP3 exists | Reading...\n",
      "C:\\Users\\varga\\Box\\Data\\nc Files\\PACQUI\\aux_orbits\\GFZ0MGXRAP_20251310000_01D_05M_ORB.SP3 file is read in 1.52 seconds\n",
      "This file does not exist: C:\\Users\\varga\\Box\\Data\\nc Files\\PACQUI\\aux_orbits\\GFZ0MGXRAP_20251320000_01D_05M_ORB.SP3\n",
      "Downloading: ftp://gssc.esa.int/gnss/products/2366//GFZ0MGXRAP_20251320000_01D_05M_ORB.SP3.gz"
     ]
    },
    {
     "name": "stderr",
     "output_type": "stream",
     "text": [
      "GFZ0MGXRAP_20251320000_01D_05M_ORB.SP3.gz: 1.04MB [00:03, 288kB/s]                             \n"
     ]
    },
    {
     "name": "stdout",
     "output_type": "stream",
     "text": [
      " | Download completed for ftp://gssc.esa.int/gnss/products/2366//GFZ0MGXRAP_20251320000_01D_05M_ORB.SP3.gz\n",
      "C:\\Users\\varga\\Box\\Data\\nc Files\\PACQUI\\aux_orbits\\GFZ0MGXRAP_20251320000_01D_05M_ORB.SP3 file is read in 9.45 seconds\n",
      "C:\\Users\\varga\\Box\\Data\\nc Files\\PACQUI\\aux_orbits\\GFZ0MGXRAP_20251310000_01D_30S_CLK.CLK exists | Reading...\n",
      "C:\\Users\\varga\\Box\\Data\\nc Files\\PACQUI\\aux_orbits\\GFZ0MGXRAP_20251310000_01D_30S_CLK.CLK file is read in 22.58 seconds\n",
      "This file does not exist: C:\\Users\\varga\\Box\\Data\\nc Files\\PACQUI\\aux_orbits\\GFZ0MGXRAP_20251320000_01D_30S_CLK.CLK\n",
      "Downloading: GFZ0MGXRAP_20251320000_01D_30S_CLK.CLK.gz"
     ]
    },
    {
     "name": "stderr",
     "output_type": "stream",
     "text": [
      "GFZ0MGXRAP_20251320000_01D_30S_CLK.CLK.gz: 4.77MB [00:03, 1.28MB/s]                            \n"
     ]
    },
    {
     "name": "stdout",
     "output_type": "stream",
     "text": [
      " | Download completed for GFZ0MGXRAP_20251320000_01D_30S_CLK.CLK.gz\n",
      "C:\\Users\\varga\\Box\\Data\\nc Files\\PACQUI\\aux_orbits\\GFZ0MGXRAP_20251320000_01D_30S_CLK.CLK file is read in 6.83 seconds\n",
      "SP3 interpolation is done in 32.76 seconds\n",
      "Saved 102777 individual observations in C:\\Users\\varga\\Box\\Data\\nc Files\\PACQUI\\processed\\PACQUI_raw_20250511142459.nc\n",
      "[OK] PACQUI_raw_20250511142459.25O\n",
      "Could not find any files matching the pattern C:\\Users\\varga\\Box\\Data\\nc Files\\PACQUI\\processed*.nc\n",
      "C:\\Users\\varga\\Box\\Data\\nc Files\\PACQUI\\PACQUI_raw_20250512142501.25O exists | Reading...\n",
      "Observation file  C:\\Users\\varga\\Box\\Data\\nc Files\\PACQUI\\PACQUI_raw_20250512142501.25O  is read in 3.47 seconds.\n",
      "Processing 103589 individual observations\n",
      "Calculating Azimuth and Elevation\n",
      "C:\\Users\\varga\\Box\\Data\\nc Files\\PACQUI\\aux_orbits\\GFZ0MGXRAP_20251320000_01D_05M_ORB.SP3 exists | Reading...\n",
      "C:\\Users\\varga\\Box\\Data\\nc Files\\PACQUI\\aux_orbits\\GFZ0MGXRAP_20251320000_01D_05M_ORB.SP3 file is read in 1.08 seconds\n",
      "This file does not exist: C:\\Users\\varga\\Box\\Data\\nc Files\\PACQUI\\aux_orbits\\GFZ0MGXRAP_20251330000_01D_05M_ORB.SP3\n",
      "Downloading: ftp://gssc.esa.int/gnss/products/2366//GFZ0MGXRAP_20251330000_01D_05M_ORB.SP3.gz"
     ]
    },
    {
     "name": "stderr",
     "output_type": "stream",
     "text": [
      "GFZ0MGXRAP_20251330000_01D_05M_ORB.SP3.gz: 1.03MB [00:04, 267kB/s]                             \n"
     ]
    },
    {
     "name": "stdout",
     "output_type": "stream",
     "text": [
      " | Download completed for ftp://gssc.esa.int/gnss/products/2366//GFZ0MGXRAP_20251330000_01D_05M_ORB.SP3.gz\n",
      "C:\\Users\\varga\\Box\\Data\\nc Files\\PACQUI\\aux_orbits\\GFZ0MGXRAP_20251330000_01D_05M_ORB.SP3 file is read in 9.27 seconds\n",
      "C:\\Users\\varga\\Box\\Data\\nc Files\\PACQUI\\aux_orbits\\GFZ0MGXRAP_20251320000_01D_30S_CLK.CLK exists | Reading...\n",
      "C:\\Users\\varga\\Box\\Data\\nc Files\\PACQUI\\aux_orbits\\GFZ0MGXRAP_20251320000_01D_30S_CLK.CLK file is read in 23.52 seconds\n",
      "This file does not exist: C:\\Users\\varga\\Box\\Data\\nc Files\\PACQUI\\aux_orbits\\GFZ0MGXRAP_20251330000_01D_30S_CLK.CLK\n",
      "Downloading: GFZ0MGXRAP_20251330000_01D_30S_CLK.CLK.gz"
     ]
    },
    {
     "name": "stderr",
     "output_type": "stream",
     "text": [
      "GFZ0MGXRAP_20251330000_01D_30S_CLK.CLK.gz: 4.74MB [00:04, 1.12MB/s]                            \n"
     ]
    },
    {
     "name": "stdout",
     "output_type": "stream",
     "text": [
      " | Download completed for GFZ0MGXRAP_20251330000_01D_30S_CLK.CLK.gz\n",
      "C:\\Users\\varga\\Box\\Data\\nc Files\\PACQUI\\aux_orbits\\GFZ0MGXRAP_20251330000_01D_30S_CLK.CLK file is read in 3.45 seconds\n",
      "SP3 interpolation is done in 4.31 seconds\n",
      "Saved 103589 individual observations in C:\\Users\\varga\\Box\\Data\\nc Files\\PACQUI\\processed\\PACQUI_raw_20250512142501.nc\n",
      "[OK] PACQUI_raw_20250512142501.25O\n",
      "Could not find any files matching the pattern C:\\Users\\varga\\Box\\Data\\nc Files\\PACQUI\\processed*.nc\n",
      "C:\\Users\\varga\\Box\\Data\\nc Files\\PACQUI\\PACQUI_raw_20250513142501.25O exists | Reading...\n",
      "Observation file  C:\\Users\\varga\\Box\\Data\\nc Files\\PACQUI\\PACQUI_raw_20250513142501.25O  is read in 16.55 seconds.\n",
      "Processing 104044 individual observations\n",
      "Calculating Azimuth and Elevation\n",
      "C:\\Users\\varga\\Box\\Data\\nc Files\\PACQUI\\aux_orbits\\GFZ0MGXRAP_20251330000_01D_05M_ORB.SP3 exists | Reading...\n",
      "C:\\Users\\varga\\Box\\Data\\nc Files\\PACQUI\\aux_orbits\\GFZ0MGXRAP_20251330000_01D_05M_ORB.SP3 file is read in 0.61 seconds\n",
      "This file does not exist: C:\\Users\\varga\\Box\\Data\\nc Files\\PACQUI\\aux_orbits\\GFZ0MGXRAP_20251340000_01D_05M_ORB.SP3\n",
      "Downloading: ftp://gssc.esa.int/gnss/products/2366//GFZ0MGXRAP_20251340000_01D_05M_ORB.SP3.gz"
     ]
    },
    {
     "name": "stderr",
     "output_type": "stream",
     "text": [
      "GFZ0MGXRAP_20251340000_01D_05M_ORB.SP3.gz: 1.04MB [00:03, 348kB/s]                             \n"
     ]
    },
    {
     "name": "stdout",
     "output_type": "stream",
     "text": [
      " | Download completed for ftp://gssc.esa.int/gnss/products/2366//GFZ0MGXRAP_20251340000_01D_05M_ORB.SP3.gz\n",
      "C:\\Users\\varga\\Box\\Data\\nc Files\\PACQUI\\aux_orbits\\GFZ0MGXRAP_20251340000_01D_05M_ORB.SP3 file is read in 4.52 seconds\n",
      "C:\\Users\\varga\\Box\\Data\\nc Files\\PACQUI\\aux_orbits\\GFZ0MGXRAP_20251330000_01D_30S_CLK.CLK exists | Reading...\n",
      "C:\\Users\\varga\\Box\\Data\\nc Files\\PACQUI\\aux_orbits\\GFZ0MGXRAP_20251330000_01D_30S_CLK.CLK file is read in 13.59 seconds\n",
      "This file does not exist: C:\\Users\\varga\\Box\\Data\\nc Files\\PACQUI\\aux_orbits\\GFZ0MGXRAP_20251340000_01D_30S_CLK.CLK\n",
      "Downloading: GFZ0MGXRAP_20251340000_01D_30S_CLK.CLK.gz"
     ]
    },
    {
     "name": "stderr",
     "output_type": "stream",
     "text": [
      "GFZ0MGXRAP_20251340000_01D_30S_CLK.CLK.gz: 4.77MB [00:08, 570kB/s]                             \n"
     ]
    },
    {
     "name": "stdout",
     "output_type": "stream",
     "text": [
      " | Download completed for GFZ0MGXRAP_20251340000_01D_30S_CLK.CLK.gz\n",
      "C:\\Users\\varga\\Box\\Data\\nc Files\\PACQUI\\aux_orbits\\GFZ0MGXRAP_20251340000_01D_30S_CLK.CLK file is read in 18.45 seconds\n",
      "SP3 interpolation is done in 4.48 seconds\n",
      "Saved 104044 individual observations in C:\\Users\\varga\\Box\\Data\\nc Files\\PACQUI\\processed\\PACQUI_raw_20250513142501.nc\n",
      "[OK] PACQUI_raw_20250513142501.25O\n",
      "Could not find any files matching the pattern C:\\Users\\varga\\Box\\Data\\nc Files\\PACQUI\\processed*.nc\n",
      "C:\\Users\\varga\\Box\\Data\\nc Files\\PACQUI\\PACQUI_raw_20250514142502.25O exists | Reading...\n",
      "Observation file  C:\\Users\\varga\\Box\\Data\\nc Files\\PACQUI\\PACQUI_raw_20250514142502.25O  is read in 5.40 seconds.\n",
      "Processing 101539 individual observations\n",
      "Calculating Azimuth and Elevation\n",
      "C:\\Users\\varga\\Box\\Data\\nc Files\\PACQUI\\aux_orbits\\GFZ0MGXRAP_20251340000_01D_05M_ORB.SP3 exists | Reading...\n",
      "C:\\Users\\varga\\Box\\Data\\nc Files\\PACQUI\\aux_orbits\\GFZ0MGXRAP_20251340000_01D_05M_ORB.SP3 file is read in 0.61 seconds\n",
      "This file does not exist: C:\\Users\\varga\\Box\\Data\\nc Files\\PACQUI\\aux_orbits\\GFZ0MGXRAP_20251350000_01D_05M_ORB.SP3\n",
      "Downloading: ftp://gssc.esa.int/gnss/products/2366//GFZ0MGXRAP_20251350000_01D_05M_ORB.SP3.gz"
     ]
    },
    {
     "name": "stderr",
     "output_type": "stream",
     "text": [
      "GFZ0MGXRAP_20251350000_01D_05M_ORB.SP3.gz: 1.05MB [00:03, 343kB/s]                             \n"
     ]
    },
    {
     "name": "stdout",
     "output_type": "stream",
     "text": [
      " | Download completed for ftp://gssc.esa.int/gnss/products/2366//GFZ0MGXRAP_20251350000_01D_05M_ORB.SP3.gz\n",
      "C:\\Users\\varga\\Box\\Data\\nc Files\\PACQUI\\aux_orbits\\GFZ0MGXRAP_20251350000_01D_05M_ORB.SP3 file is read in 9.67 seconds\n",
      "C:\\Users\\varga\\Box\\Data\\nc Files\\PACQUI\\aux_orbits\\GFZ0MGXRAP_20251340000_01D_30S_CLK.CLK exists | Reading...\n",
      "C:\\Users\\varga\\Box\\Data\\nc Files\\PACQUI\\aux_orbits\\GFZ0MGXRAP_20251340000_01D_30S_CLK.CLK file is read in 20.68 seconds\n",
      "This file does not exist: C:\\Users\\varga\\Box\\Data\\nc Files\\PACQUI\\aux_orbits\\GFZ0MGXRAP_20251350000_01D_30S_CLK.CLK\n",
      "Downloading: GFZ0MGXRAP_20251350000_01D_30S_CLK.CLK.gz"
     ]
    },
    {
     "name": "stderr",
     "output_type": "stream",
     "text": [
      "GFZ0MGXRAP_20251350000_01D_30S_CLK.CLK.gz: 4.77MB [00:03, 1.34MB/s]                            \n"
     ]
    },
    {
     "name": "stdout",
     "output_type": "stream",
     "text": [
      " | Download completed for GFZ0MGXRAP_20251350000_01D_30S_CLK.CLK.gz\n",
      "C:\\Users\\varga\\Box\\Data\\nc Files\\PACQUI\\aux_orbits\\GFZ0MGXRAP_20251350000_01D_30S_CLK.CLK file is read in 2.80 seconds\n",
      "SP3 interpolation is done in 6.10 seconds\n",
      "Saved 101539 individual observations in C:\\Users\\varga\\Box\\Data\\nc Files\\PACQUI\\processed\\PACQUI_raw_20250514142502.nc\n",
      "[OK] PACQUI_raw_20250514142502.25O\n",
      "Could not find any files matching the pattern C:\\Users\\varga\\Box\\Data\\nc Files\\PACQUI\\processed*.nc\n",
      "C:\\Users\\varga\\Box\\Data\\nc Files\\PACQUI\\PACQUI_raw_20250515142503.25O exists | Reading...\n",
      "Observation file  C:\\Users\\varga\\Box\\Data\\nc Files\\PACQUI\\PACQUI_raw_20250515142503.25O  is read in 3.90 seconds.\n",
      "Processing 103900 individual observations\n",
      "Calculating Azimuth and Elevation\n",
      "C:\\Users\\varga\\Box\\Data\\nc Files\\PACQUI\\aux_orbits\\GFZ0MGXRAP_20251350000_01D_05M_ORB.SP3 exists | Reading...\n",
      "C:\\Users\\varga\\Box\\Data\\nc Files\\PACQUI\\aux_orbits\\GFZ0MGXRAP_20251350000_01D_05M_ORB.SP3 file is read in 5.99 seconds\n",
      "This file does not exist: C:\\Users\\varga\\Box\\Data\\nc Files\\PACQUI\\aux_orbits\\GFZ0MGXRAP_20251360000_01D_05M_ORB.SP3\n",
      "Downloading: ftp://gssc.esa.int/gnss/products/2366//GFZ0MGXRAP_20251360000_01D_05M_ORB.SP3.gz"
     ]
    },
    {
     "name": "stderr",
     "output_type": "stream",
     "text": [
      "GFZ0MGXRAP_20251360000_01D_05M_ORB.SP3.gz: 1.03MB [00:03, 313kB/s]                             \n"
     ]
    },
    {
     "name": "stdout",
     "output_type": "stream",
     "text": [
      " | Download completed for ftp://gssc.esa.int/gnss/products/2366//GFZ0MGXRAP_20251360000_01D_05M_ORB.SP3.gz\n",
      "C:\\Users\\varga\\Box\\Data\\nc Files\\PACQUI\\aux_orbits\\GFZ0MGXRAP_20251360000_01D_05M_ORB.SP3 file is read in 9.64 seconds\n",
      "C:\\Users\\varga\\Box\\Data\\nc Files\\PACQUI\\aux_orbits\\GFZ0MGXRAP_20251350000_01D_30S_CLK.CLK exists | Reading...\n",
      "C:\\Users\\varga\\Box\\Data\\nc Files\\PACQUI\\aux_orbits\\GFZ0MGXRAP_20251350000_01D_30S_CLK.CLK file is read in 9.10 seconds\n",
      "This file does not exist: C:\\Users\\varga\\Box\\Data\\nc Files\\PACQUI\\aux_orbits\\GFZ0MGXRAP_20251360000_01D_30S_CLK.CLK\n",
      "Downloading: GFZ0MGXRAP_20251360000_01D_30S_CLK.CLK.gz"
     ]
    },
    {
     "name": "stderr",
     "output_type": "stream",
     "text": [
      "GFZ0MGXRAP_20251360000_01D_30S_CLK.CLK.gz: 4.73MB [00:08, 568kB/s]                             \n"
     ]
    },
    {
     "name": "stdout",
     "output_type": "stream",
     "text": [
      " | Download completed for GFZ0MGXRAP_20251360000_01D_30S_CLK.CLK.gz\n",
      "C:\\Users\\varga\\Box\\Data\\nc Files\\PACQUI\\aux_orbits\\GFZ0MGXRAP_20251360000_01D_30S_CLK.CLK file is read in 20.77 seconds\n",
      "SP3 interpolation is done in 7.21 seconds\n",
      "Saved 103900 individual observations in C:\\Users\\varga\\Box\\Data\\nc Files\\PACQUI\\processed\\PACQUI_raw_20250515142503.nc\n",
      "[OK] PACQUI_raw_20250515142503.25O\n",
      "Could not find any files matching the pattern C:\\Users\\varga\\Box\\Data\\nc Files\\PACQUI\\processed*.nc\n",
      "C:\\Users\\varga\\Box\\Data\\nc Files\\PACQUI\\PACQUI_raw_20250516142504.25O exists | Reading...\n",
      "Observation file  C:\\Users\\varga\\Box\\Data\\nc Files\\PACQUI\\PACQUI_raw_20250516142504.25O  is read in 5.86 seconds.\n",
      "Processing 103124 individual observations\n",
      "Calculating Azimuth and Elevation\n",
      "C:\\Users\\varga\\Box\\Data\\nc Files\\PACQUI\\aux_orbits\\GFZ0MGXRAP_20251360000_01D_05M_ORB.SP3 exists | Reading...\n",
      "C:\\Users\\varga\\Box\\Data\\nc Files\\PACQUI\\aux_orbits\\GFZ0MGXRAP_20251360000_01D_05M_ORB.SP3 file is read in 5.77 seconds\n",
      "This file does not exist: C:\\Users\\varga\\Box\\Data\\nc Files\\PACQUI\\aux_orbits\\GFZ0MGXRAP_20251370000_01D_05M_ORB.SP3\n",
      "Downloading: ftp://gssc.esa.int/gnss/products/2366//GFZ0MGXRAP_20251370000_01D_05M_ORB.SP3.gz"
     ]
    },
    {
     "name": "stderr",
     "output_type": "stream",
     "text": [
      "GFZ0MGXRAP_20251370000_01D_05M_ORB.SP3.gz: 1.03MB [00:03, 324kB/s]                             \n"
     ]
    },
    {
     "name": "stdout",
     "output_type": "stream",
     "text": [
      " | Download completed for ftp://gssc.esa.int/gnss/products/2366//GFZ0MGXRAP_20251370000_01D_05M_ORB.SP3.gz\n",
      "C:\\Users\\varga\\Box\\Data\\nc Files\\PACQUI\\aux_orbits\\GFZ0MGXRAP_20251370000_01D_05M_ORB.SP3 file is read in 13.16 seconds\n",
      "C:\\Users\\varga\\Box\\Data\\nc Files\\PACQUI\\aux_orbits\\GFZ0MGXRAP_20251360000_01D_30S_CLK.CLK exists | Reading...\n",
      "C:\\Users\\varga\\Box\\Data\\nc Files\\PACQUI\\aux_orbits\\GFZ0MGXRAP_20251360000_01D_30S_CLK.CLK file is read in 3.16 seconds\n",
      "This file does not exist: C:\\Users\\varga\\Box\\Data\\nc Files\\PACQUI\\aux_orbits\\GFZ0MGXRAP_20251370000_01D_30S_CLK.CLK\n",
      "Downloading: GFZ0MGXRAP_20251370000_01D_30S_CLK.CLK.gz"
     ]
    },
    {
     "name": "stderr",
     "output_type": "stream",
     "text": [
      "GFZ0MGXRAP_20251370000_01D_30S_CLK.CLK.gz: 4.71MB [00:03, 1.34MB/s]                            \n"
     ]
    },
    {
     "name": "stdout",
     "output_type": "stream",
     "text": [
      " | Download completed for GFZ0MGXRAP_20251370000_01D_30S_CLK.CLK.gz\n",
      "C:\\Users\\varga\\Box\\Data\\nc Files\\PACQUI\\aux_orbits\\GFZ0MGXRAP_20251370000_01D_30S_CLK.CLK file is read in 17.74 seconds\n",
      "SP3 interpolation is done in 25.27 seconds\n",
      "Saved 103124 individual observations in C:\\Users\\varga\\Box\\Data\\nc Files\\PACQUI\\processed\\PACQUI_raw_20250516142504.nc\n",
      "[OK] PACQUI_raw_20250516142504.25O\n",
      "Could not find any files matching the pattern C:\\Users\\varga\\Box\\Data\\nc Files\\PACQUI\\processed*.nc\n",
      "C:\\Users\\varga\\Box\\Data\\nc Files\\PACQUI\\PACQUI_raw_20250517142505.25O exists | Reading...\n",
      "Observation file  C:\\Users\\varga\\Box\\Data\\nc Files\\PACQUI\\PACQUI_raw_20250517142505.25O  is read in 6.69 seconds.\n",
      "Processing 100923 individual observations\n",
      "Calculating Azimuth and Elevation\n",
      "C:\\Users\\varga\\Box\\Data\\nc Files\\PACQUI\\aux_orbits\\GFZ0MGXRAP_20251370000_01D_05M_ORB.SP3 exists | Reading...\n",
      "C:\\Users\\varga\\Box\\Data\\nc Files\\PACQUI\\aux_orbits\\GFZ0MGXRAP_20251370000_01D_05M_ORB.SP3 file is read in 4.90 seconds\n",
      "This file does not exist: C:\\Users\\varga\\Box\\Data\\nc Files\\PACQUI\\aux_orbits\\GFZ0MGXRAP_20251380000_01D_05M_ORB.SP3\n",
      "Downloading: ftp://gssc.esa.int/gnss/products/2367//GFZ0MGXRAP_20251380000_01D_05M_ORB.SP3.gz"
     ]
    },
    {
     "name": "stderr",
     "output_type": "stream",
     "text": [
      "GFZ0MGXRAP_20251380000_01D_05M_ORB.SP3.gz: 1.05MB [00:06, 167kB/s]                             \n"
     ]
    },
    {
     "name": "stdout",
     "output_type": "stream",
     "text": [
      " | Download completed for ftp://gssc.esa.int/gnss/products/2367//GFZ0MGXRAP_20251380000_01D_05M_ORB.SP3.gz\n",
      "C:\\Users\\varga\\Box\\Data\\nc Files\\PACQUI\\aux_orbits\\GFZ0MGXRAP_20251380000_01D_05M_ORB.SP3 file is read in 12.84 seconds\n",
      "C:\\Users\\varga\\Box\\Data\\nc Files\\PACQUI\\aux_orbits\\GFZ0MGXRAP_20251370000_01D_30S_CLK.CLK exists | Reading...\n",
      "C:\\Users\\varga\\Box\\Data\\nc Files\\PACQUI\\aux_orbits\\GFZ0MGXRAP_20251370000_01D_30S_CLK.CLK file is read in 10.24 seconds\n",
      "This file does not exist: C:\\Users\\varga\\Box\\Data\\nc Files\\PACQUI\\aux_orbits\\GFZ0MGXRAP_20251380000_01D_30S_CLK.CLK\n",
      "Downloading: GFZ0MGXRAP_20251380000_01D_30S_CLK.CLK.gz"
     ]
    },
    {
     "name": "stderr",
     "output_type": "stream",
     "text": [
      "GFZ0MGXRAP_20251380000_01D_30S_CLK.CLK.gz: 4.78MB [00:12, 390kB/s]                             \n"
     ]
    },
    {
     "name": "stdout",
     "output_type": "stream",
     "text": [
      " | Download completed for GFZ0MGXRAP_20251380000_01D_30S_CLK.CLK.gz\n",
      "C:\\Users\\varga\\Box\\Data\\nc Files\\PACQUI\\aux_orbits\\GFZ0MGXRAP_20251380000_01D_30S_CLK.CLK file is read in 25.51 seconds\n",
      "SP3 interpolation is done in 18.75 seconds\n",
      "Saved 100923 individual observations in C:\\Users\\varga\\Box\\Data\\nc Files\\PACQUI\\processed\\PACQUI_raw_20250517142505.nc\n",
      "[OK] PACQUI_raw_20250517142505.25O\n",
      "Could not find any files matching the pattern C:\\Users\\varga\\Box\\Data\\nc Files\\PACQUI\\processed*.nc\n",
      "C:\\Users\\varga\\Box\\Data\\nc Files\\PACQUI\\PACQUI_raw_20250518142506.25O exists | Reading...\n",
      "Observation file  C:\\Users\\varga\\Box\\Data\\nc Files\\PACQUI\\PACQUI_raw_20250518142506.25O  is read in 23.11 seconds.\n",
      "Processing 103439 individual observations\n",
      "Calculating Azimuth and Elevation\n",
      "C:\\Users\\varga\\Box\\Data\\nc Files\\PACQUI\\aux_orbits\\GFZ0MGXRAP_20251380000_01D_05M_ORB.SP3 exists | Reading...\n",
      "C:\\Users\\varga\\Box\\Data\\nc Files\\PACQUI\\aux_orbits\\GFZ0MGXRAP_20251380000_01D_05M_ORB.SP3 file is read in 1.00 seconds\n",
      "This file does not exist: C:\\Users\\varga\\Box\\Data\\nc Files\\PACQUI\\aux_orbits\\GFZ0MGXRAP_20251390000_01D_05M_ORB.SP3\n",
      "Downloading: ftp://gssc.esa.int/gnss/products/2367//GFZ0MGXRAP_20251390000_01D_05M_ORB.SP3.gz"
     ]
    },
    {
     "name": "stderr",
     "output_type": "stream",
     "text": [
      "GFZ0MGXRAP_20251390000_01D_05M_ORB.SP3.gz: 1.05MB [00:03, 333kB/s]                             \n"
     ]
    },
    {
     "name": "stdout",
     "output_type": "stream",
     "text": [
      " | Download completed for ftp://gssc.esa.int/gnss/products/2367//GFZ0MGXRAP_20251390000_01D_05M_ORB.SP3.gz\n",
      "C:\\Users\\varga\\Box\\Data\\nc Files\\PACQUI\\aux_orbits\\GFZ0MGXRAP_20251390000_01D_05M_ORB.SP3 file is read in 8.04 seconds\n",
      "C:\\Users\\varga\\Box\\Data\\nc Files\\PACQUI\\aux_orbits\\GFZ0MGXRAP_20251380000_01D_30S_CLK.CLK exists | Reading...\n",
      "C:\\Users\\varga\\Box\\Data\\nc Files\\PACQUI\\aux_orbits\\GFZ0MGXRAP_20251380000_01D_30S_CLK.CLK file is read in 36.54 seconds\n",
      "This file does not exist: C:\\Users\\varga\\Box\\Data\\nc Files\\PACQUI\\aux_orbits\\GFZ0MGXRAP_20251390000_01D_30S_CLK.CLK\n",
      "Downloading: GFZ0MGXRAP_20251390000_01D_30S_CLK.CLK.gz"
     ]
    },
    {
     "name": "stderr",
     "output_type": "stream",
     "text": [
      "GFZ0MGXRAP_20251390000_01D_30S_CLK.CLK.gz: 4.79MB [00:15, 326kB/s]                             \n"
     ]
    },
    {
     "name": "stdout",
     "output_type": "stream",
     "text": [
      " | Download completed for GFZ0MGXRAP_20251390000_01D_30S_CLK.CLK.gz\n",
      "C:\\Users\\varga\\Box\\Data\\nc Files\\PACQUI\\aux_orbits\\GFZ0MGXRAP_20251390000_01D_30S_CLK.CLK file is read in 24.49 seconds\n",
      "SP3 interpolation is done in 5.00 seconds\n",
      "Saved 103439 individual observations in C:\\Users\\varga\\Box\\Data\\nc Files\\PACQUI\\processed\\PACQUI_raw_20250518142506.nc\n",
      "[OK] PACQUI_raw_20250518142506.25O\n",
      "Could not find any files matching the pattern C:\\Users\\varga\\Box\\Data\\nc Files\\PACQUI\\processed*.nc\n",
      "C:\\Users\\varga\\Box\\Data\\nc Files\\PACQUI\\PACQUI_raw_20250519142508.25O exists | Reading...\n",
      "Observation file  C:\\Users\\varga\\Box\\Data\\nc Files\\PACQUI\\PACQUI_raw_20250519142508.25O  is read in 10.98 seconds.\n",
      "Processing 102968 individual observations\n",
      "Calculating Azimuth and Elevation\n",
      "C:\\Users\\varga\\Box\\Data\\nc Files\\PACQUI\\aux_orbits\\GFZ0MGXRAP_20251390000_01D_05M_ORB.SP3 exists | Reading...\n",
      "C:\\Users\\varga\\Box\\Data\\nc Files\\PACQUI\\aux_orbits\\GFZ0MGXRAP_20251390000_01D_05M_ORB.SP3 file is read in 11.43 seconds\n",
      "This file does not exist: C:\\Users\\varga\\Box\\Data\\nc Files\\PACQUI\\aux_orbits\\GFZ0MGXRAP_20251400000_01D_05M_ORB.SP3\n",
      "Downloading: ftp://gssc.esa.int/gnss/products/2367//GFZ0MGXRAP_20251400000_01D_05M_ORB.SP3.gz"
     ]
    },
    {
     "name": "stderr",
     "output_type": "stream",
     "text": [
      "GFZ0MGXRAP_20251400000_01D_05M_ORB.SP3.gz: 1.05MB [00:03, 339kB/s]                             \n"
     ]
    },
    {
     "name": "stdout",
     "output_type": "stream",
     "text": [
      " | Download completed for ftp://gssc.esa.int/gnss/products/2367//GFZ0MGXRAP_20251400000_01D_05M_ORB.SP3.gz\n",
      "C:\\Users\\varga\\Box\\Data\\nc Files\\PACQUI\\aux_orbits\\GFZ0MGXRAP_20251400000_01D_05M_ORB.SP3 file is read in 4.20 seconds\n",
      "C:\\Users\\varga\\Box\\Data\\nc Files\\PACQUI\\aux_orbits\\GFZ0MGXRAP_20251390000_01D_30S_CLK.CLK exists | Reading...\n",
      "C:\\Users\\varga\\Box\\Data\\nc Files\\PACQUI\\aux_orbits\\GFZ0MGXRAP_20251390000_01D_30S_CLK.CLK file is read in 3.09 seconds\n",
      "This file does not exist: C:\\Users\\varga\\Box\\Data\\nc Files\\PACQUI\\aux_orbits\\GFZ0MGXRAP_20251400000_01D_30S_CLK.CLK\n",
      "Downloading: GFZ0MGXRAP_20251400000_01D_30S_CLK.CLK.gz"
     ]
    },
    {
     "name": "stderr",
     "output_type": "stream",
     "text": [
      "GFZ0MGXRAP_20251400000_01D_30S_CLK.CLK.gz: 4.80MB [00:13, 376kB/s]                             \n"
     ]
    },
    {
     "name": "stdout",
     "output_type": "stream",
     "text": [
      " | Download completed for GFZ0MGXRAP_20251400000_01D_30S_CLK.CLK.gz\n",
      "C:\\Users\\varga\\Box\\Data\\nc Files\\PACQUI\\aux_orbits\\GFZ0MGXRAP_20251400000_01D_30S_CLK.CLK file is read in 26.28 seconds\n",
      "SP3 interpolation is done in 3.89 seconds\n",
      "Saved 102968 individual observations in C:\\Users\\varga\\Box\\Data\\nc Files\\PACQUI\\processed\\PACQUI_raw_20250519142508.nc\n",
      "[OK] PACQUI_raw_20250519142508.25O\n",
      "Could not find any files matching the pattern C:\\Users\\varga\\Box\\Data\\nc Files\\PACQUI\\processed*.nc\n",
      "C:\\Users\\varga\\Box\\Data\\nc Files\\PACQUI\\PACQUI_raw_20250520142509.25O exists | Reading...\n",
      "Observation file  C:\\Users\\varga\\Box\\Data\\nc Files\\PACQUI\\PACQUI_raw_20250520142509.25O  is read in 19.40 seconds.\n",
      "Processing 102630 individual observations\n",
      "Calculating Azimuth and Elevation\n",
      "C:\\Users\\varga\\Box\\Data\\nc Files\\PACQUI\\aux_orbits\\GFZ0MGXRAP_20251400000_01D_05M_ORB.SP3 exists | Reading...\n",
      "C:\\Users\\varga\\Box\\Data\\nc Files\\PACQUI\\aux_orbits\\GFZ0MGXRAP_20251400000_01D_05M_ORB.SP3 file is read in 0.66 seconds\n",
      "This file does not exist: C:\\Users\\varga\\Box\\Data\\nc Files\\PACQUI\\aux_orbits\\GFZ0MGXRAP_20251410000_01D_05M_ORB.SP3\n",
      "Downloading: ftp://gssc.esa.int/gnss/products/2367//GFZ0MGXRAP_20251410000_01D_05M_ORB.SP3.gz"
     ]
    },
    {
     "name": "stderr",
     "output_type": "stream",
     "text": [
      "GFZ0MGXRAP_20251410000_01D_05M_ORB.SP3.gz: 1.04MB [00:03, 342kB/s]                             \n"
     ]
    },
    {
     "name": "stdout",
     "output_type": "stream",
     "text": [
      " | Download completed for ftp://gssc.esa.int/gnss/products/2367//GFZ0MGXRAP_20251410000_01D_05M_ORB.SP3.gz\n",
      "C:\\Users\\varga\\Box\\Data\\nc Files\\PACQUI\\aux_orbits\\GFZ0MGXRAP_20251410000_01D_05M_ORB.SP3 file is read in 3.93 seconds\n",
      "C:\\Users\\varga\\Box\\Data\\nc Files\\PACQUI\\aux_orbits\\GFZ0MGXRAP_20251400000_01D_30S_CLK.CLK exists | Reading...\n",
      "C:\\Users\\varga\\Box\\Data\\nc Files\\PACQUI\\aux_orbits\\GFZ0MGXRAP_20251400000_01D_30S_CLK.CLK file is read in 14.30 seconds\n",
      "This file does not exist: C:\\Users\\varga\\Box\\Data\\nc Files\\PACQUI\\aux_orbits\\GFZ0MGXRAP_20251410000_01D_30S_CLK.CLK\n",
      "Downloading: GFZ0MGXRAP_20251410000_01D_30S_CLK.CLK.gz"
     ]
    },
    {
     "name": "stderr",
     "output_type": "stream",
     "text": [
      "GFZ0MGXRAP_20251410000_01D_30S_CLK.CLK.gz: 4.75MB [00:04, 1.21MB/s]                            \n"
     ]
    },
    {
     "name": "stdout",
     "output_type": "stream",
     "text": [
      " | Download completed for GFZ0MGXRAP_20251410000_01D_30S_CLK.CLK.gz\n",
      "C:\\Users\\varga\\Box\\Data\\nc Files\\PACQUI\\aux_orbits\\GFZ0MGXRAP_20251410000_01D_30S_CLK.CLK file is read in 24.40 seconds\n",
      "SP3 interpolation is done in 11.16 seconds\n",
      "Saved 102630 individual observations in C:\\Users\\varga\\Box\\Data\\nc Files\\PACQUI\\processed\\PACQUI_raw_20250520142509.nc\n",
      "[OK] PACQUI_raw_20250520142509.25O\n",
      "Could not find any files matching the pattern C:\\Users\\varga\\Box\\Data\\nc Files\\PACQUI\\processed*.nc\n",
      "C:\\Users\\varga\\Box\\Data\\nc Files\\PACQUI\\PACQUI_raw_20250521142510.25O exists | Reading...\n",
      "Observation file  C:\\Users\\varga\\Box\\Data\\nc Files\\PACQUI\\PACQUI_raw_20250521142510.25O  is read in 0.05 seconds.\n",
      "Processing 1439 individual observations\n",
      "Calculating Azimuth and Elevation\n",
      "C:\\Users\\varga\\Box\\Data\\nc Files\\PACQUI\\aux_orbits\\GFZ0MGXRAP_20251410000_01D_05M_ORB.SP3 exists | Reading...\n",
      "C:\\Users\\varga\\Box\\Data\\nc Files\\PACQUI\\aux_orbits\\GFZ0MGXRAP_20251410000_01D_05M_ORB.SP3 file is read in 0.50 seconds\n",
      "C:\\Users\\varga\\Box\\Data\\nc Files\\PACQUI\\aux_orbits\\GFZ0MGXRAP_20251410000_01D_30S_CLK.CLK exists | Reading...\n",
      "C:\\Users\\varga\\Box\\Data\\nc Files\\PACQUI\\aux_orbits\\GFZ0MGXRAP_20251410000_01D_30S_CLK.CLK file is read in 7.09 seconds\n",
      "SP3 interpolation is done in 15.47 seconds\n",
      "Saved 1439 individual observations in C:\\Users\\varga\\Box\\Data\\nc Files\\PACQUI\\processed\\PACQUI_raw_20250521142510.nc\n",
      "[OK] PACQUI_raw_20250521142510.25O\n",
      "Could not find any files matching the pattern C:\\Users\\varga\\Box\\Data\\nc Files\\PACQUI\\processed*.nc\n",
      "C:\\Users\\varga\\Box\\Data\\nc Files\\PACQUI\\PACQUI_raw_20250522163921.25O exists | Reading...\n",
      "Observation file  C:\\Users\\varga\\Box\\Data\\nc Files\\PACQUI\\PACQUI_raw_20250522163921.25O  is read in 19.20 seconds.\n",
      "Processing 103473 individual observations\n",
      "Calculating Azimuth and Elevation\n",
      "This file does not exist: C:\\Users\\varga\\Box\\Data\\nc Files\\PACQUI\\aux_orbits\\GFZ0MGXRAP_20251420000_01D_05M_ORB.SP3\n",
      "Downloading: ftp://gssc.esa.int/gnss/products/2367//GFZ0MGXRAP_20251420000_01D_05M_ORB.SP3.gz"
     ]
    },
    {
     "name": "stderr",
     "output_type": "stream",
     "text": [
      "GFZ0MGXRAP_20251420000_01D_05M_ORB.SP3.gz: 1.03MB [00:03, 342kB/s]                             \n"
     ]
    },
    {
     "name": "stdout",
     "output_type": "stream",
     "text": [
      " | Download completed for ftp://gssc.esa.int/gnss/products/2367//GFZ0MGXRAP_20251420000_01D_05M_ORB.SP3.gz\n",
      "C:\\Users\\varga\\Box\\Data\\nc Files\\PACQUI\\aux_orbits\\GFZ0MGXRAP_20251420000_01D_05M_ORB.SP3 file is read in 4.07 seconds\n",
      "This file does not exist: C:\\Users\\varga\\Box\\Data\\nc Files\\PACQUI\\aux_orbits\\GFZ0MGXRAP_20251430000_01D_05M_ORB.SP3\n",
      "Downloading: ftp://gssc.esa.int/gnss/products/2367//GFZ0MGXRAP_20251430000_01D_05M_ORB.SP3.gz"
     ]
    },
    {
     "name": "stderr",
     "output_type": "stream",
     "text": [
      "GFZ0MGXRAP_20251430000_01D_05M_ORB.SP3.gz: 1.05MB [00:03, 346kB/s]                             \n"
     ]
    },
    {
     "name": "stdout",
     "output_type": "stream",
     "text": [
      " | Download completed for ftp://gssc.esa.int/gnss/products/2367//GFZ0MGXRAP_20251430000_01D_05M_ORB.SP3.gz\n",
      "C:\\Users\\varga\\Box\\Data\\nc Files\\PACQUI\\aux_orbits\\GFZ0MGXRAP_20251430000_01D_05M_ORB.SP3 file is read in 4.58 seconds\n",
      "This file does not exist: C:\\Users\\varga\\Box\\Data\\nc Files\\PACQUI\\aux_orbits\\GFZ0MGXRAP_20251420000_01D_30S_CLK.CLK\n",
      "Downloading: GFZ0MGXRAP_20251420000_01D_30S_CLK.CLK.gz"
     ]
    },
    {
     "name": "stderr",
     "output_type": "stream",
     "text": [
      "GFZ0MGXRAP_20251420000_01D_30S_CLK.CLK.gz: 4.74MB [00:18, 265kB/s]                             \n"
     ]
    },
    {
     "name": "stdout",
     "output_type": "stream",
     "text": [
      " | Download completed for GFZ0MGXRAP_20251420000_01D_30S_CLK.CLK.gz\n",
      "C:\\Users\\varga\\Box\\Data\\nc Files\\PACQUI\\aux_orbits\\GFZ0MGXRAP_20251420000_01D_30S_CLK.CLK file is read in 16.93 seconds\n",
      "This file does not exist: C:\\Users\\varga\\Box\\Data\\nc Files\\PACQUI\\aux_orbits\\GFZ0MGXRAP_20251430000_01D_30S_CLK.CLK\n",
      "Downloading: GFZ0MGXRAP_20251430000_01D_30S_CLK.CLK.gz"
     ]
    },
    {
     "name": "stderr",
     "output_type": "stream",
     "text": [
      "GFZ0MGXRAP_20251430000_01D_30S_CLK.CLK.gz: 4.78MB [00:03, 1.28MB/s]                            \n"
     ]
    },
    {
     "name": "stdout",
     "output_type": "stream",
     "text": [
      " | Download completed for GFZ0MGXRAP_20251430000_01D_30S_CLK.CLK.gz\n",
      "C:\\Users\\varga\\Box\\Data\\nc Files\\PACQUI\\aux_orbits\\GFZ0MGXRAP_20251430000_01D_30S_CLK.CLK file is read in 17.98 seconds\n",
      "SP3 interpolation is done in 14.94 seconds\n",
      "Saved 103473 individual observations in C:\\Users\\varga\\Box\\Data\\nc Files\\PACQUI\\processed\\PACQUI_raw_20250522163921.nc\n",
      "[OK] PACQUI_raw_20250522163921.25O\n",
      "Could not find any files matching the pattern C:\\Users\\varga\\Box\\Data\\nc Files\\PACQUI\\processed*.nc\n",
      "C:\\Users\\varga\\Box\\Data\\nc Files\\PACQUI\\PACQUI_raw_20250523163922.25O exists | Reading...\n",
      "Observation file  C:\\Users\\varga\\Box\\Data\\nc Files\\PACQUI\\PACQUI_raw_20250523163922.25O  is read in 27.74 seconds.\n",
      "Processing 103130 individual observations\n",
      "Calculating Azimuth and Elevation\n",
      "C:\\Users\\varga\\Box\\Data\\nc Files\\PACQUI\\aux_orbits\\GFZ0MGXRAP_20251430000_01D_05M_ORB.SP3 exists | Reading...\n",
      "C:\\Users\\varga\\Box\\Data\\nc Files\\PACQUI\\aux_orbits\\GFZ0MGXRAP_20251430000_01D_05M_ORB.SP3 file is read in 2.49 seconds\n",
      "This file does not exist: C:\\Users\\varga\\Box\\Data\\nc Files\\PACQUI\\aux_orbits\\GFZ0MGXRAP_20251440000_01D_05M_ORB.SP3\n",
      "Downloading: ftp://gssc.esa.int/gnss/products/2367//GFZ0MGXRAP_20251440000_01D_05M_ORB.SP3.gz"
     ]
    },
    {
     "name": "stderr",
     "output_type": "stream",
     "text": [
      "GFZ0MGXRAP_20251440000_01D_05M_ORB.SP3.gz: 1.05MB [00:03, 323kB/s]                             \n"
     ]
    },
    {
     "name": "stdout",
     "output_type": "stream",
     "text": [
      " | Download completed for ftp://gssc.esa.int/gnss/products/2367//GFZ0MGXRAP_20251440000_01D_05M_ORB.SP3.gz\n",
      "C:\\Users\\varga\\Box\\Data\\nc Files\\PACQUI\\aux_orbits\\GFZ0MGXRAP_20251440000_01D_05M_ORB.SP3 file is read in 4.70 seconds\n",
      "C:\\Users\\varga\\Box\\Data\\nc Files\\PACQUI\\aux_orbits\\GFZ0MGXRAP_20251430000_01D_30S_CLK.CLK exists | Reading...\n",
      "C:\\Users\\varga\\Box\\Data\\nc Files\\PACQUI\\aux_orbits\\GFZ0MGXRAP_20251430000_01D_30S_CLK.CLK file is read in 5.51 seconds\n",
      "This file does not exist: C:\\Users\\varga\\Box\\Data\\nc Files\\PACQUI\\aux_orbits\\GFZ0MGXRAP_20251440000_01D_30S_CLK.CLK\n",
      "Downloading: GFZ0MGXRAP_20251440000_01D_30S_CLK.CLK.gz"
     ]
    },
    {
     "name": "stderr",
     "output_type": "stream",
     "text": [
      "GFZ0MGXRAP_20251440000_01D_30S_CLK.CLK.gz: 4.80MB [00:17, 296kB/s]                             \n"
     ]
    },
    {
     "name": "stdout",
     "output_type": "stream",
     "text": [
      " | Download completed for GFZ0MGXRAP_20251440000_01D_30S_CLK.CLK.gz\n",
      "C:\\Users\\varga\\Box\\Data\\nc Files\\PACQUI\\aux_orbits\\GFZ0MGXRAP_20251440000_01D_30S_CLK.CLK file is read in 18.22 seconds\n",
      "SP3 interpolation is done in 3.45 seconds\n",
      "Saved 103130 individual observations in C:\\Users\\varga\\Box\\Data\\nc Files\\PACQUI\\processed\\PACQUI_raw_20250523163922.nc\n",
      "[OK] PACQUI_raw_20250523163922.25O\n",
      "Could not find any files matching the pattern C:\\Users\\varga\\Box\\Data\\nc Files\\PACQUI\\processed*.nc\n",
      "C:\\Users\\varga\\Box\\Data\\nc Files\\PACQUI\\PACQUI_raw_20250524163923.25O exists | Reading...\n",
      "Observation file  C:\\Users\\varga\\Box\\Data\\nc Files\\PACQUI\\PACQUI_raw_20250524163923.25O  is read in 24.73 seconds.\n",
      "Processing 99590 individual observations\n",
      "Calculating Azimuth and Elevation\n",
      "C:\\Users\\varga\\Box\\Data\\nc Files\\PACQUI\\aux_orbits\\GFZ0MGXRAP_20251440000_01D_05M_ORB.SP3 exists | Reading...\n",
      "C:\\Users\\varga\\Box\\Data\\nc Files\\PACQUI\\aux_orbits\\GFZ0MGXRAP_20251440000_01D_05M_ORB.SP3 file is read in 10.47 seconds\n",
      "This file does not exist: C:\\Users\\varga\\Box\\Data\\nc Files\\PACQUI\\aux_orbits\\GFZ0MGXRAP_20251450000_01D_05M_ORB.SP3\n",
      "Downloading: ftp://gssc.esa.int/gnss/products/2368//GFZ0MGXRAP_20251450000_01D_05M_ORB.SP3.gz"
     ]
    },
    {
     "name": "stderr",
     "output_type": "stream",
     "text": [
      "GFZ0MGXRAP_20251450000_01D_05M_ORB.SP3.gz: 1.05MB [00:03, 344kB/s]                             \n"
     ]
    },
    {
     "name": "stdout",
     "output_type": "stream",
     "text": [
      " | Download completed for ftp://gssc.esa.int/gnss/products/2368//GFZ0MGXRAP_20251450000_01D_05M_ORB.SP3.gz\n",
      "C:\\Users\\varga\\Box\\Data\\nc Files\\PACQUI\\aux_orbits\\GFZ0MGXRAP_20251450000_01D_05M_ORB.SP3 file is read in 4.23 seconds\n",
      "C:\\Users\\varga\\Box\\Data\\nc Files\\PACQUI\\aux_orbits\\GFZ0MGXRAP_20251440000_01D_30S_CLK.CLK exists | Reading...\n",
      "C:\\Users\\varga\\Box\\Data\\nc Files\\PACQUI\\aux_orbits\\GFZ0MGXRAP_20251440000_01D_30S_CLK.CLK file is read in 4.29 seconds\n",
      "This file does not exist: C:\\Users\\varga\\Box\\Data\\nc Files\\PACQUI\\aux_orbits\\GFZ0MGXRAP_20251450000_01D_30S_CLK.CLK\n",
      "Downloading: GFZ0MGXRAP_20251450000_01D_30S_CLK.CLK.gz"
     ]
    },
    {
     "name": "stderr",
     "output_type": "stream",
     "text": [
      "GFZ0MGXRAP_20251450000_01D_30S_CLK.CLK.gz: 4.80MB [00:27, 182kB/s]                             \n"
     ]
    },
    {
     "name": "stdout",
     "output_type": "stream",
     "text": [
      " | Download completed for GFZ0MGXRAP_20251450000_01D_30S_CLK.CLK.gz\n",
      "C:\\Users\\varga\\Box\\Data\\nc Files\\PACQUI\\aux_orbits\\GFZ0MGXRAP_20251450000_01D_30S_CLK.CLK file is read in 8.94 seconds\n",
      "SP3 interpolation is done in 7.26 seconds\n",
      "Saved 99590 individual observations in C:\\Users\\varga\\Box\\Data\\nc Files\\PACQUI\\processed\\PACQUI_raw_20250524163923.nc\n",
      "[OK] PACQUI_raw_20250524163923.25O\n",
      "Could not find any files matching the pattern C:\\Users\\varga\\Box\\Data\\nc Files\\PACQUI\\processed*.nc\n",
      "C:\\Users\\varga\\Box\\Data\\nc Files\\PACQUI\\PACQUI_raw_20250525163924.25O exists | Reading...\n",
      "Observation file  C:\\Users\\varga\\Box\\Data\\nc Files\\PACQUI\\PACQUI_raw_20250525163924.25O  is read in 3.57 seconds.\n",
      "Processing 102234 individual observations\n",
      "Calculating Azimuth and Elevation\n",
      "C:\\Users\\varga\\Box\\Data\\nc Files\\PACQUI\\aux_orbits\\GFZ0MGXRAP_20251450000_01D_05M_ORB.SP3 exists | Reading...\n",
      "C:\\Users\\varga\\Box\\Data\\nc Files\\PACQUI\\aux_orbits\\GFZ0MGXRAP_20251450000_01D_05M_ORB.SP3 file is read in 1.38 seconds\n",
      "This file does not exist: C:\\Users\\varga\\Box\\Data\\nc Files\\PACQUI\\aux_orbits\\GFZ0MGXRAP_20251460000_01D_05M_ORB.SP3\n",
      "Downloading: ftp://gssc.esa.int/gnss/products/2368//GFZ0MGXRAP_20251460000_01D_05M_ORB.SP3.gz"
     ]
    },
    {
     "name": "stderr",
     "output_type": "stream",
     "text": [
      "GFZ0MGXRAP_20251460000_01D_05M_ORB.SP3.gz: 1.03MB [00:06, 174kB/s]                             \n"
     ]
    },
    {
     "name": "stdout",
     "output_type": "stream",
     "text": [
      " | Download completed for ftp://gssc.esa.int/gnss/products/2368//GFZ0MGXRAP_20251460000_01D_05M_ORB.SP3.gz\n",
      "C:\\Users\\varga\\Box\\Data\\nc Files\\PACQUI\\aux_orbits\\GFZ0MGXRAP_20251460000_01D_05M_ORB.SP3 file is read in 13.16 seconds\n",
      "C:\\Users\\varga\\Box\\Data\\nc Files\\PACQUI\\aux_orbits\\GFZ0MGXRAP_20251450000_01D_30S_CLK.CLK exists | Reading...\n",
      "C:\\Users\\varga\\Box\\Data\\nc Files\\PACQUI\\aux_orbits\\GFZ0MGXRAP_20251450000_01D_30S_CLK.CLK file is read in 23.53 seconds\n",
      "This file does not exist: C:\\Users\\varga\\Box\\Data\\nc Files\\PACQUI\\aux_orbits\\GFZ0MGXRAP_20251460000_01D_30S_CLK.CLK\n",
      "Downloading: GFZ0MGXRAP_20251460000_01D_30S_CLK.CLK.gz"
     ]
    },
    {
     "name": "stderr",
     "output_type": "stream",
     "text": [
      "GFZ0MGXRAP_20251460000_01D_30S_CLK.CLK.gz: 4.74MB [00:03, 1.32MB/s]                            \n"
     ]
    },
    {
     "name": "stdout",
     "output_type": "stream",
     "text": [
      " | Download completed for GFZ0MGXRAP_20251460000_01D_30S_CLK.CLK.gz\n",
      "C:\\Users\\varga\\Box\\Data\\nc Files\\PACQUI\\aux_orbits\\GFZ0MGXRAP_20251460000_01D_30S_CLK.CLK file is read in 15.50 seconds\n",
      "SP3 interpolation is done in 17.47 seconds\n",
      "Saved 102234 individual observations in C:\\Users\\varga\\Box\\Data\\nc Files\\PACQUI\\processed\\PACQUI_raw_20250525163924.nc\n",
      "[OK] PACQUI_raw_20250525163924.25O\n",
      "Could not find any files matching the pattern C:\\Users\\varga\\Box\\Data\\nc Files\\PACQUI\\processed*.nc\n",
      "C:\\Users\\varga\\Box\\Data\\nc Files\\PACQUI\\PACQUI_raw_20250526163924.25O exists | Reading...\n",
      "Observation file  C:\\Users\\varga\\Box\\Data\\nc Files\\PACQUI\\PACQUI_raw_20250526163924.25O  is read in 13.59 seconds.\n",
      "Processing 102821 individual observations\n",
      "Calculating Azimuth and Elevation\n",
      "C:\\Users\\varga\\Box\\Data\\nc Files\\PACQUI\\aux_orbits\\GFZ0MGXRAP_20251460000_01D_05M_ORB.SP3 exists | Reading...\n",
      "C:\\Users\\varga\\Box\\Data\\nc Files\\PACQUI\\aux_orbits\\GFZ0MGXRAP_20251460000_01D_05M_ORB.SP3 file is read in 7.33 seconds\n",
      "This file does not exist: C:\\Users\\varga\\Box\\Data\\nc Files\\PACQUI\\aux_orbits\\GFZ0MGXRAP_20251470000_01D_05M_ORB.SP3\n",
      "Downloading: ftp://gssc.esa.int/gnss/products/2368//GFZ0MGXRAP_20251470000_01D_05M_ORB.SP3.gz"
     ]
    },
    {
     "name": "stderr",
     "output_type": "stream",
     "text": [
      "GFZ0MGXRAP_20251470000_01D_05M_ORB.SP3.gz: 1.04MB [00:08, 124kB/s]                             \n"
     ]
    },
    {
     "name": "stdout",
     "output_type": "stream",
     "text": [
      " | Download completed for ftp://gssc.esa.int/gnss/products/2368//GFZ0MGXRAP_20251470000_01D_05M_ORB.SP3.gz\n",
      "C:\\Users\\varga\\Box\\Data\\nc Files\\PACQUI\\aux_orbits\\GFZ0MGXRAP_20251470000_01D_05M_ORB.SP3 file is read in 16.31 seconds\n",
      "C:\\Users\\varga\\Box\\Data\\nc Files\\PACQUI\\aux_orbits\\GFZ0MGXRAP_20251460000_01D_30S_CLK.CLK exists | Reading...\n",
      "C:\\Users\\varga\\Box\\Data\\nc Files\\PACQUI\\aux_orbits\\GFZ0MGXRAP_20251460000_01D_30S_CLK.CLK file is read in 9.21 seconds\n",
      "This file does not exist: C:\\Users\\varga\\Box\\Data\\nc Files\\PACQUI\\aux_orbits\\GFZ0MGXRAP_20251470000_01D_30S_CLK.CLK\n",
      "Downloading: GFZ0MGXRAP_20251470000_01D_30S_CLK.CLK.gz"
     ]
    },
    {
     "name": "stderr",
     "output_type": "stream",
     "text": [
      "GFZ0MGXRAP_20251470000_01D_30S_CLK.CLK.gz: 4.76MB [00:04, 1.01MB/s]                            \n"
     ]
    },
    {
     "name": "stdout",
     "output_type": "stream",
     "text": [
      " | Download completed for GFZ0MGXRAP_20251470000_01D_30S_CLK.CLK.gz\n",
      "C:\\Users\\varga\\Box\\Data\\nc Files\\PACQUI\\aux_orbits\\GFZ0MGXRAP_20251470000_01D_30S_CLK.CLK file is read in 13.16 seconds\n",
      "SP3 interpolation is done in 26.12 seconds\n",
      "Saved 102821 individual observations in C:\\Users\\varga\\Box\\Data\\nc Files\\PACQUI\\processed\\PACQUI_raw_20250526163924.nc\n",
      "[OK] PACQUI_raw_20250526163924.25O\n",
      "Could not find any files matching the pattern C:\\Users\\varga\\Box\\Data\\nc Files\\PACQUI\\processed*.nc\n",
      "C:\\Users\\varga\\Box\\Data\\nc Files\\PACQUI\\PACQUI_raw_20250527163925.25O exists | Reading...\n",
      "Observation file  C:\\Users\\varga\\Box\\Data\\nc Files\\PACQUI\\PACQUI_raw_20250527163925.25O  is read in 9.38 seconds.\n",
      "Processing 100746 individual observations\n",
      "Calculating Azimuth and Elevation\n",
      "C:\\Users\\varga\\Box\\Data\\nc Files\\PACQUI\\aux_orbits\\GFZ0MGXRAP_20251470000_01D_05M_ORB.SP3 exists | Reading...\n",
      "C:\\Users\\varga\\Box\\Data\\nc Files\\PACQUI\\aux_orbits\\GFZ0MGXRAP_20251470000_01D_05M_ORB.SP3 file is read in 6.33 seconds\n",
      "This file does not exist: C:\\Users\\varga\\Box\\Data\\nc Files\\PACQUI\\aux_orbits\\GFZ0MGXRAP_20251480000_01D_05M_ORB.SP3\n",
      "Downloading: ftp://gssc.esa.int/gnss/products/2368//GFZ0MGXRAP_20251480000_01D_05M_ORB.SP3.gz"
     ]
    },
    {
     "name": "stderr",
     "output_type": "stream",
     "text": [
      "GFZ0MGXRAP_20251480000_01D_05M_ORB.SP3.gz: 1.04MB [00:08, 135kB/s]                             \n"
     ]
    },
    {
     "name": "stdout",
     "output_type": "stream",
     "text": [
      " | Download completed for ftp://gssc.esa.int/gnss/products/2368//GFZ0MGXRAP_20251480000_01D_05M_ORB.SP3.gz\n",
      "C:\\Users\\varga\\Box\\Data\\nc Files\\PACQUI\\aux_orbits\\GFZ0MGXRAP_20251480000_01D_05M_ORB.SP3 file is read in 14.14 seconds\n",
      "C:\\Users\\varga\\Box\\Data\\nc Files\\PACQUI\\aux_orbits\\GFZ0MGXRAP_20251470000_01D_30S_CLK.CLK exists | Reading...\n",
      "C:\\Users\\varga\\Box\\Data\\nc Files\\PACQUI\\aux_orbits\\GFZ0MGXRAP_20251470000_01D_30S_CLK.CLK file is read in 12.51 seconds\n",
      "This file does not exist: C:\\Users\\varga\\Box\\Data\\nc Files\\PACQUI\\aux_orbits\\GFZ0MGXRAP_20251480000_01D_30S_CLK.CLK\n",
      "Downloading: GFZ0MGXRAP_20251480000_01D_30S_CLK.CLK.gz"
     ]
    },
    {
     "name": "stderr",
     "output_type": "stream",
     "text": [
      "GFZ0MGXRAP_20251480000_01D_30S_CLK.CLK.gz: 4.77MB [00:13, 381kB/s]                             \n"
     ]
    },
    {
     "name": "stdout",
     "output_type": "stream",
     "text": [
      " | Download completed for GFZ0MGXRAP_20251480000_01D_30S_CLK.CLK.gz\n",
      "C:\\Users\\varga\\Box\\Data\\nc Files\\PACQUI\\aux_orbits\\GFZ0MGXRAP_20251480000_01D_30S_CLK.CLK file is read in 23.59 seconds\n",
      "SP3 interpolation is done in 6.82 seconds\n",
      "Saved 100746 individual observations in C:\\Users\\varga\\Box\\Data\\nc Files\\PACQUI\\processed\\PACQUI_raw_20250527163925.nc\n",
      "[OK] PACQUI_raw_20250527163925.25O\n",
      "Could not find any files matching the pattern C:\\Users\\varga\\Box\\Data\\nc Files\\PACQUI\\processed*.nc\n",
      "C:\\Users\\varga\\Box\\Data\\nc Files\\PACQUI\\PACQUI_raw_20250528163926.25O exists | Reading...\n",
      "Observation file  C:\\Users\\varga\\Box\\Data\\nc Files\\PACQUI\\PACQUI_raw_20250528163926.25O  is read in 19.02 seconds.\n",
      "Processing 101791 individual observations\n",
      "Calculating Azimuth and Elevation\n",
      "C:\\Users\\varga\\Box\\Data\\nc Files\\PACQUI\\aux_orbits\\GFZ0MGXRAP_20251480000_01D_05M_ORB.SP3 exists | Reading...\n",
      "C:\\Users\\varga\\Box\\Data\\nc Files\\PACQUI\\aux_orbits\\GFZ0MGXRAP_20251480000_01D_05M_ORB.SP3 file is read in 1.05 seconds\n",
      "This file does not exist: C:\\Users\\varga\\Box\\Data\\nc Files\\PACQUI\\aux_orbits\\GFZ0MGXRAP_20251490000_01D_05M_ORB.SP3\n",
      "Downloading: ftp://gssc.esa.int/gnss/products/2368//GFZ0MGXRAP_20251490000_01D_05M_ORB.SP3.gz"
     ]
    },
    {
     "name": "stderr",
     "output_type": "stream",
     "text": [
      "GFZ0MGXRAP_20251490000_01D_05M_ORB.SP3.gz: 1.05MB [00:03, 352kB/s]                             \n"
     ]
    },
    {
     "name": "stdout",
     "output_type": "stream",
     "text": [
      " | Download completed for ftp://gssc.esa.int/gnss/products/2368//GFZ0MGXRAP_20251490000_01D_05M_ORB.SP3.gz\n",
      "C:\\Users\\varga\\Box\\Data\\nc Files\\PACQUI\\aux_orbits\\GFZ0MGXRAP_20251490000_01D_05M_ORB.SP3 file is read in 3.79 seconds\n",
      "C:\\Users\\varga\\Box\\Data\\nc Files\\PACQUI\\aux_orbits\\GFZ0MGXRAP_20251480000_01D_30S_CLK.CLK exists | Reading...\n",
      "C:\\Users\\varga\\Box\\Data\\nc Files\\PACQUI\\aux_orbits\\GFZ0MGXRAP_20251480000_01D_30S_CLK.CLK file is read in 11.99 seconds\n",
      "This file does not exist: C:\\Users\\varga\\Box\\Data\\nc Files\\PACQUI\\aux_orbits\\GFZ0MGXRAP_20251490000_01D_30S_CLK.CLK\n",
      "Downloading: GFZ0MGXRAP_20251490000_01D_30S_CLK.CLK.gz"
     ]
    },
    {
     "name": "stderr",
     "output_type": "stream",
     "text": [
      "GFZ0MGXRAP_20251490000_01D_30S_CLK.CLK.gz: 4.80MB [00:05, 995kB/s]                             \n"
     ]
    },
    {
     "name": "stdout",
     "output_type": "stream",
     "text": [
      " | Download completed for GFZ0MGXRAP_20251490000_01D_30S_CLK.CLK.gz\n",
      "C:\\Users\\varga\\Box\\Data\\nc Files\\PACQUI\\aux_orbits\\GFZ0MGXRAP_20251490000_01D_30S_CLK.CLK file is read in 19.13 seconds\n",
      "SP3 interpolation is done in 4.79 seconds\n",
      "Saved 101791 individual observations in C:\\Users\\varga\\Box\\Data\\nc Files\\PACQUI\\processed\\PACQUI_raw_20250528163926.nc\n",
      "[OK] PACQUI_raw_20250528163926.25O\n",
      "Could not find any files matching the pattern C:\\Users\\varga\\Box\\Data\\nc Files\\PACQUI\\processed*.nc\n",
      "C:\\Users\\varga\\Box\\Data\\nc Files\\PACQUI\\PACQUI_raw_20250529163927.25O exists | Reading...\n",
      "Observation file  C:\\Users\\varga\\Box\\Data\\nc Files\\PACQUI\\PACQUI_raw_20250529163927.25O  is read in 3.72 seconds.\n",
      "Processing 102265 individual observations\n",
      "Calculating Azimuth and Elevation\n",
      "C:\\Users\\varga\\Box\\Data\\nc Files\\PACQUI\\aux_orbits\\GFZ0MGXRAP_20251490000_01D_05M_ORB.SP3 exists | Reading...\n",
      "C:\\Users\\varga\\Box\\Data\\nc Files\\PACQUI\\aux_orbits\\GFZ0MGXRAP_20251490000_01D_05M_ORB.SP3 file is read in 0.55 seconds\n",
      "This file does not exist: C:\\Users\\varga\\Box\\Data\\nc Files\\PACQUI\\aux_orbits\\GFZ0MGXRAP_20251500000_01D_05M_ORB.SP3\n",
      "Downloading: ftp://gssc.esa.int/gnss/products/2368//GFZ0MGXRAP_20251500000_01D_05M_ORB.SP3.gz"
     ]
    },
    {
     "name": "stderr",
     "output_type": "stream",
     "text": [
      "GFZ0MGXRAP_20251500000_01D_05M_ORB.SP3.gz: 1.05MB [00:03, 340kB/s]                             \n"
     ]
    },
    {
     "name": "stdout",
     "output_type": "stream",
     "text": [
      " | Download completed for ftp://gssc.esa.int/gnss/products/2368//GFZ0MGXRAP_20251500000_01D_05M_ORB.SP3.gz\n",
      "C:\\Users\\varga\\Box\\Data\\nc Files\\PACQUI\\aux_orbits\\GFZ0MGXRAP_20251500000_01D_05M_ORB.SP3 file is read in 4.45 seconds\n",
      "C:\\Users\\varga\\Box\\Data\\nc Files\\PACQUI\\aux_orbits\\GFZ0MGXRAP_20251490000_01D_30S_CLK.CLK exists | Reading...\n",
      "C:\\Users\\varga\\Box\\Data\\nc Files\\PACQUI\\aux_orbits\\GFZ0MGXRAP_20251490000_01D_30S_CLK.CLK file is read in 23.57 seconds\n",
      "This file does not exist: C:\\Users\\varga\\Box\\Data\\nc Files\\PACQUI\\aux_orbits\\GFZ0MGXRAP_20251500000_01D_30S_CLK.CLK\n",
      "Downloading: GFZ0MGXRAP_20251500000_01D_30S_CLK.CLK.gz"
     ]
    },
    {
     "name": "stderr",
     "output_type": "stream",
     "text": [
      "GFZ0MGXRAP_20251500000_01D_30S_CLK.CLK.gz: 4.77MB [00:05, 904kB/s]                             \n"
     ]
    },
    {
     "name": "stdout",
     "output_type": "stream",
     "text": [
      " | Download completed for GFZ0MGXRAP_20251500000_01D_30S_CLK.CLK.gz\n",
      "C:\\Users\\varga\\Box\\Data\\nc Files\\PACQUI\\aux_orbits\\GFZ0MGXRAP_20251500000_01D_30S_CLK.CLK file is read in 10.03 seconds\n",
      "SP3 interpolation is done in 14.81 seconds\n",
      "Saved 102265 individual observations in C:\\Users\\varga\\Box\\Data\\nc Files\\PACQUI\\processed\\PACQUI_raw_20250529163927.nc\n",
      "[OK] PACQUI_raw_20250529163927.25O\n",
      "Could not find any files matching the pattern C:\\Users\\varga\\Box\\Data\\nc Files\\PACQUI\\processed*.nc\n",
      "C:\\Users\\varga\\Box\\Data\\nc Files\\PACQUI\\PACQUI_raw_20250530163928.25O exists | Reading...\n",
      "Observation file  C:\\Users\\varga\\Box\\Data\\nc Files\\PACQUI\\PACQUI_raw_20250530163928.25O  is read in 3.18 seconds.\n",
      "Processing 101906 individual observations\n",
      "Calculating Azimuth and Elevation\n",
      "C:\\Users\\varga\\Box\\Data\\nc Files\\PACQUI\\aux_orbits\\GFZ0MGXRAP_20251500000_01D_05M_ORB.SP3 exists | Reading...\n",
      "C:\\Users\\varga\\Box\\Data\\nc Files\\PACQUI\\aux_orbits\\GFZ0MGXRAP_20251500000_01D_05M_ORB.SP3 file is read in 0.60 seconds\n",
      "This file does not exist: C:\\Users\\varga\\Box\\Data\\nc Files\\PACQUI\\aux_orbits\\GFZ0MGXRAP_20251510000_01D_05M_ORB.SP3\n",
      "Downloading: ftp://gssc.esa.int/gnss/products/2368//GFZ0MGXRAP_20251510000_01D_05M_ORB.SP3.gz"
     ]
    },
    {
     "name": "stderr",
     "output_type": "stream",
     "text": [
      "GFZ0MGXRAP_20251510000_01D_05M_ORB.SP3.gz: 1.05MB [00:04, 227kB/s]                             \n"
     ]
    },
    {
     "name": "stdout",
     "output_type": "stream",
     "text": [
      " | Download completed for ftp://gssc.esa.int/gnss/products/2368//GFZ0MGXRAP_20251510000_01D_05M_ORB.SP3.gz\n",
      "C:\\Users\\varga\\Box\\Data\\nc Files\\PACQUI\\aux_orbits\\GFZ0MGXRAP_20251510000_01D_05M_ORB.SP3 file is read in 6.20 seconds\n",
      "C:\\Users\\varga\\Box\\Data\\nc Files\\PACQUI\\aux_orbits\\GFZ0MGXRAP_20251500000_01D_30S_CLK.CLK exists | Reading...\n",
      "C:\\Users\\varga\\Box\\Data\\nc Files\\PACQUI\\aux_orbits\\GFZ0MGXRAP_20251500000_01D_30S_CLK.CLK file is read in 27.30 seconds\n",
      "This file does not exist: C:\\Users\\varga\\Box\\Data\\nc Files\\PACQUI\\aux_orbits\\GFZ0MGXRAP_20251510000_01D_30S_CLK.CLK\n",
      "Downloading: GFZ0MGXRAP_20251510000_01D_30S_CLK.CLK.gz"
     ]
    },
    {
     "name": "stderr",
     "output_type": "stream",
     "text": [
      "GFZ0MGXRAP_20251510000_01D_30S_CLK.CLK.gz: 4.77MB [00:33, 148kB/s]                             \n"
     ]
    },
    {
     "name": "stdout",
     "output_type": "stream",
     "text": [
      " | Download completed for GFZ0MGXRAP_20251510000_01D_30S_CLK.CLK.gz\n",
      "C:\\Users\\varga\\Box\\Data\\nc Files\\PACQUI\\aux_orbits\\GFZ0MGXRAP_20251510000_01D_30S_CLK.CLK file is read in 24.69 seconds\n",
      "SP3 interpolation is done in 5.59 seconds\n",
      "Saved 101906 individual observations in C:\\Users\\varga\\Box\\Data\\nc Files\\PACQUI\\processed\\PACQUI_raw_20250530163928.nc\n",
      "[OK] PACQUI_raw_20250530163928.25O\n",
      "Could not find any files matching the pattern C:\\Users\\varga\\Box\\Data\\nc Files\\PACQUI\\processed*.nc\n",
      "C:\\Users\\varga\\Box\\Data\\nc Files\\PACQUI\\PACQUI_raw_20250531163929.25O exists | Reading...\n",
      "Observation file  C:\\Users\\varga\\Box\\Data\\nc Files\\PACQUI\\PACQUI_raw_20250531163929.25O  is read in 32.82 seconds.\n",
      "Processing 99975 individual observations\n",
      "Calculating Azimuth and Elevation\n",
      "C:\\Users\\varga\\Box\\Data\\nc Files\\PACQUI\\aux_orbits\\GFZ0MGXRAP_20251510000_01D_05M_ORB.SP3 exists | Reading...\n",
      "C:\\Users\\varga\\Box\\Data\\nc Files\\PACQUI\\aux_orbits\\GFZ0MGXRAP_20251510000_01D_05M_ORB.SP3 file is read in 0.83 seconds\n",
      "This file does not exist: C:\\Users\\varga\\Box\\Data\\nc Files\\PACQUI\\aux_orbits\\GFZ0MGXRAP_20251520000_01D_05M_ORB.SP3\n",
      "Downloading: ftp://gssc.esa.int/gnss/products/2369//GFZ0MGXRAP_20251520000_01D_05M_ORB.SP3.gz"
     ]
    },
    {
     "name": "stderr",
     "output_type": "stream",
     "text": [
      "GFZ0MGXRAP_20251520000_01D_05M_ORB.SP3.gz: 1.05MB [00:05, 187kB/s]                             \n"
     ]
    },
    {
     "name": "stdout",
     "output_type": "stream",
     "text": [
      " | Download completed for ftp://gssc.esa.int/gnss/products/2369//GFZ0MGXRAP_20251520000_01D_05M_ORB.SP3.gz\n",
      "C:\\Users\\varga\\Box\\Data\\nc Files\\PACQUI\\aux_orbits\\GFZ0MGXRAP_20251520000_01D_05M_ORB.SP3 file is read in 7.35 seconds\n",
      "C:\\Users\\varga\\Box\\Data\\nc Files\\PACQUI\\aux_orbits\\GFZ0MGXRAP_20251510000_01D_30S_CLK.CLK exists | Reading...\n",
      "C:\\Users\\varga\\Box\\Data\\nc Files\\PACQUI\\aux_orbits\\GFZ0MGXRAP_20251510000_01D_30S_CLK.CLK file is read in 8.31 seconds\n",
      "This file does not exist: C:\\Users\\varga\\Box\\Data\\nc Files\\PACQUI\\aux_orbits\\GFZ0MGXRAP_20251520000_01D_30S_CLK.CLK\n",
      "Downloading: GFZ0MGXRAP_20251520000_01D_30S_CLK.CLK.gz"
     ]
    },
    {
     "name": "stderr",
     "output_type": "stream",
     "text": [
      "GFZ0MGXRAP_20251520000_01D_30S_CLK.CLK.gz: 4.80MB [00:29, 171kB/s]                             \n"
     ]
    },
    {
     "name": "stdout",
     "output_type": "stream",
     "text": [
      " | Download completed for GFZ0MGXRAP_20251520000_01D_30S_CLK.CLK.gz\n",
      "C:\\Users\\varga\\Box\\Data\\nc Files\\PACQUI\\aux_orbits\\GFZ0MGXRAP_20251520000_01D_30S_CLK.CLK file is read in 2.94 seconds\n",
      "SP3 interpolation is done in 3.65 seconds\n",
      "Saved 99975 individual observations in C:\\Users\\varga\\Box\\Data\\nc Files\\PACQUI\\processed\\PACQUI_raw_20250531163929.nc\n",
      "[OK] PACQUI_raw_20250531163929.25O\n",
      "Could not find any files matching the pattern C:\\Users\\varga\\Box\\Data\\nc Files\\PACQUI\\processed*.nc\n",
      "C:\\Users\\varga\\Box\\Data\\nc Files\\PACQUI\\PACQUI_raw_20250601163930.25O exists | Reading...\n",
      "Processed 91619 out of 104644 lines (87.6%)\n",
      "Observation file  C:\\Users\\varga\\Box\\Data\\nc Files\\PACQUI\\PACQUI_raw_20250601163930.25O  is read in 39.16 seconds.\n",
      "Processing 101764 individual observations\n",
      "Calculating Azimuth and Elevation\n",
      "C:\\Users\\varga\\Box\\Data\\nc Files\\PACQUI\\aux_orbits\\GFZ0MGXRAP_20251520000_01D_05M_ORB.SP3 exists | Reading...\n",
      "C:\\Users\\varga\\Box\\Data\\nc Files\\PACQUI\\aux_orbits\\GFZ0MGXRAP_20251520000_01D_05M_ORB.SP3 file is read in 0.58 seconds\n",
      "This file does not exist: C:\\Users\\varga\\Box\\Data\\nc Files\\PACQUI\\aux_orbits\\GFZ0MGXRAP_20251530000_01D_05M_ORB.SP3\n",
      "Downloading: ftp://gssc.esa.int/gnss/products/2369//GFZ0MGXRAP_20251530000_01D_05M_ORB.SP3.gz"
     ]
    },
    {
     "name": "stderr",
     "output_type": "stream",
     "text": [
      "GFZ0MGXRAP_20251530000_01D_05M_ORB.SP3.gz: 1.05MB [00:06, 164kB/s]                             \n"
     ]
    },
    {
     "name": "stdout",
     "output_type": "stream",
     "text": [
      " | Download completed for ftp://gssc.esa.int/gnss/products/2369//GFZ0MGXRAP_20251530000_01D_05M_ORB.SP3.gz\n",
      "C:\\Users\\varga\\Box\\Data\\nc Files\\PACQUI\\aux_orbits\\GFZ0MGXRAP_20251530000_01D_05M_ORB.SP3 file is read in 9.50 seconds\n",
      "C:\\Users\\varga\\Box\\Data\\nc Files\\PACQUI\\aux_orbits\\GFZ0MGXRAP_20251520000_01D_30S_CLK.CLK exists | Reading...\n",
      "C:\\Users\\varga\\Box\\Data\\nc Files\\PACQUI\\aux_orbits\\GFZ0MGXRAP_20251520000_01D_30S_CLK.CLK file is read in 16.39 seconds\n",
      "This file does not exist: C:\\Users\\varga\\Box\\Data\\nc Files\\PACQUI\\aux_orbits\\GFZ0MGXRAP_20251530000_01D_30S_CLK.CLK\n",
      "Downloading: GFZ0MGXRAP_20251530000_01D_30S_CLK.CLK.gz"
     ]
    },
    {
     "name": "stderr",
     "output_type": "stream",
     "text": [
      "GFZ0MGXRAP_20251530000_01D_30S_CLK.CLK.gz: 4.81MB [00:04, 1.20MB/s]                            \n"
     ]
    },
    {
     "name": "stdout",
     "output_type": "stream",
     "text": [
      " | Download completed for GFZ0MGXRAP_20251530000_01D_30S_CLK.CLK.gz\n",
      "C:\\Users\\varga\\Box\\Data\\nc Files\\PACQUI\\aux_orbits\\GFZ0MGXRAP_20251530000_01D_30S_CLK.CLK file is read in 12.49 seconds\n",
      "SP3 interpolation is done in 7.87 seconds\n",
      "Saved 101764 individual observations in C:\\Users\\varga\\Box\\Data\\nc Files\\PACQUI\\processed\\PACQUI_raw_20250601163930.nc\n",
      "[OK] PACQUI_raw_20250601163930.25O\n",
      "Could not find any files matching the pattern C:\\Users\\varga\\Box\\Data\\nc Files\\PACQUI\\processed*.nc\n",
      "C:\\Users\\varga\\Box\\Data\\nc Files\\PACQUI\\PACQUI_raw_20250602163931.25O exists | Reading...\n",
      "Observation file  C:\\Users\\varga\\Box\\Data\\nc Files\\PACQUI\\PACQUI_raw_20250602163931.25O  is read in 3.51 seconds.\n",
      "Processing 101163 individual observations\n",
      "Calculating Azimuth and Elevation\n",
      "C:\\Users\\varga\\Box\\Data\\nc Files\\PACQUI\\aux_orbits\\GFZ0MGXRAP_20251530000_01D_05M_ORB.SP3 exists | Reading...\n",
      "C:\\Users\\varga\\Box\\Data\\nc Files\\PACQUI\\aux_orbits\\GFZ0MGXRAP_20251530000_01D_05M_ORB.SP3 file is read in 1.06 seconds\n",
      "This file does not exist: C:\\Users\\varga\\Box\\Data\\nc Files\\PACQUI\\aux_orbits\\GFZ0MGXRAP_20251540000_01D_05M_ORB.SP3\n",
      "Downloading: ftp://gssc.esa.int/gnss/products/2369//GFZ0MGXRAP_20251540000_01D_05M_ORB.SP3.gz"
     ]
    },
    {
     "name": "stderr",
     "output_type": "stream",
     "text": [
      "GFZ0MGXRAP_20251540000_01D_05M_ORB.SP3.gz: 1.04MB [00:13, 79.9kB/s]                            \n"
     ]
    },
    {
     "name": "stdout",
     "output_type": "stream",
     "text": [
      " | Download completed for ftp://gssc.esa.int/gnss/products/2369//GFZ0MGXRAP_20251540000_01D_05M_ORB.SP3.gz\n",
      "C:\\Users\\varga\\Box\\Data\\nc Files\\PACQUI\\aux_orbits\\GFZ0MGXRAP_20251540000_01D_05M_ORB.SP3 file is read in 22.66 seconds\n",
      "C:\\Users\\varga\\Box\\Data\\nc Files\\PACQUI\\aux_orbits\\GFZ0MGXRAP_20251530000_01D_30S_CLK.CLK exists | Reading...\n",
      "C:\\Users\\varga\\Box\\Data\\nc Files\\PACQUI\\aux_orbits\\GFZ0MGXRAP_20251530000_01D_30S_CLK.CLK file is read in 15.16 seconds\n",
      "This file does not exist: C:\\Users\\varga\\Box\\Data\\nc Files\\PACQUI\\aux_orbits\\GFZ0MGXRAP_20251540000_01D_30S_CLK.CLK\n",
      "Downloading: GFZ0MGXRAP_20251540000_01D_30S_CLK.CLK.gz"
     ]
    },
    {
     "name": "stderr",
     "output_type": "stream",
     "text": [
      "GFZ0MGXRAP_20251540000_01D_30S_CLK.CLK.gz: 4.75MB [00:14, 353kB/s]                             \n"
     ]
    },
    {
     "name": "stdout",
     "output_type": "stream",
     "text": [
      " | Download completed for GFZ0MGXRAP_20251540000_01D_30S_CLK.CLK.gz\n",
      "C:\\Users\\varga\\Box\\Data\\nc Files\\PACQUI\\aux_orbits\\GFZ0MGXRAP_20251540000_01D_30S_CLK.CLK file is read in 27.37 seconds\n",
      "SP3 interpolation is done in 7.21 seconds\n",
      "Saved 101163 individual observations in C:\\Users\\varga\\Box\\Data\\nc Files\\PACQUI\\processed\\PACQUI_raw_20250602163931.nc\n",
      "[OK] PACQUI_raw_20250602163931.25O\n",
      "Could not find any files matching the pattern C:\\Users\\varga\\Box\\Data\\nc Files\\PACQUI\\processed*.nc\n",
      "C:\\Users\\varga\\Box\\Data\\nc Files\\PACQUI\\PACQUI_raw_20250603163931.25O exists | Reading...\n",
      "Processed 79511 out of 101727 lines (78.2%)\n",
      "Observation file  C:\\Users\\varga\\Box\\Data\\nc Files\\PACQUI\\PACQUI_raw_20250603163931.25O  is read in 41.34 seconds.\n",
      "Processing 98847 individual observations\n",
      "Calculating Azimuth and Elevation\n",
      "C:\\Users\\varga\\Box\\Data\\nc Files\\PACQUI\\aux_orbits\\GFZ0MGXRAP_20251540000_01D_05M_ORB.SP3 exists | Reading...\n",
      "C:\\Users\\varga\\Box\\Data\\nc Files\\PACQUI\\aux_orbits\\GFZ0MGXRAP_20251540000_01D_05M_ORB.SP3 file is read in 0.60 seconds\n",
      "This file does not exist: C:\\Users\\varga\\Box\\Data\\nc Files\\PACQUI\\aux_orbits\\GFZ0MGXRAP_20251550000_01D_05M_ORB.SP3\n",
      "Downloading: ftp://gssc.esa.int/gnss/products/2369//GFZ0MGXRAP_20251550000_01D_05M_ORB.SP3.gz"
     ]
    },
    {
     "name": "stderr",
     "output_type": "stream",
     "text": [
      "GFZ0MGXRAP_20251550000_01D_05M_ORB.SP3.gz: 1.04MB [00:13, 78.0kB/s]                            \n"
     ]
    },
    {
     "name": "stdout",
     "output_type": "stream",
     "text": [
      " | Download completed for ftp://gssc.esa.int/gnss/products/2369//GFZ0MGXRAP_20251550000_01D_05M_ORB.SP3.gz\n",
      "C:\\Users\\varga\\Box\\Data\\nc Files\\PACQUI\\aux_orbits\\GFZ0MGXRAP_20251550000_01D_05M_ORB.SP3 file is read in 20.80 seconds\n",
      "C:\\Users\\varga\\Box\\Data\\nc Files\\PACQUI\\aux_orbits\\GFZ0MGXRAP_20251540000_01D_30S_CLK.CLK exists | Reading...\n",
      "C:\\Users\\varga\\Box\\Data\\nc Files\\PACQUI\\aux_orbits\\GFZ0MGXRAP_20251540000_01D_30S_CLK.CLK file is read in 19.25 seconds\n",
      "This file does not exist: C:\\Users\\varga\\Box\\Data\\nc Files\\PACQUI\\aux_orbits\\GFZ0MGXRAP_20251550000_01D_30S_CLK.CLK\n",
      "Downloading: GFZ0MGXRAP_20251550000_01D_30S_CLK.CLK.gz"
     ]
    },
    {
     "name": "stderr",
     "output_type": "stream",
     "text": [
      "GFZ0MGXRAP_20251550000_01D_30S_CLK.CLK.gz: 4.74MB [00:03, 1.26MB/s]                            \n"
     ]
    },
    {
     "name": "stdout",
     "output_type": "stream",
     "text": [
      " | Download completed for GFZ0MGXRAP_20251550000_01D_30S_CLK.CLK.gz\n",
      "C:\\Users\\varga\\Box\\Data\\nc Files\\PACQUI\\aux_orbits\\GFZ0MGXRAP_20251550000_01D_30S_CLK.CLK file is read in 13.41 seconds\n",
      "SP3 interpolation is done in 30.77 seconds\n",
      "Saved 98847 individual observations in C:\\Users\\varga\\Box\\Data\\nc Files\\PACQUI\\processed\\PACQUI_raw_20250603163931.nc\n",
      "[OK] PACQUI_raw_20250603163931.25O\n",
      "Could not find any files matching the pattern C:\\Users\\varga\\Box\\Data\\nc Files\\PACQUI\\processed*.nc\n",
      "C:\\Users\\varga\\Box\\Data\\nc Files\\PACQUI\\PACQUI_raw_20250604163932.25O exists | Reading...\n",
      "Observation file  C:\\Users\\varga\\Box\\Data\\nc Files\\PACQUI\\PACQUI_raw_20250604163932.25O  is read in 10.77 seconds.\n",
      "Processing 101254 individual observations\n",
      "Calculating Azimuth and Elevation\n",
      "C:\\Users\\varga\\Box\\Data\\nc Files\\PACQUI\\aux_orbits\\GFZ0MGXRAP_20251550000_01D_05M_ORB.SP3 exists | Reading...\n",
      "C:\\Users\\varga\\Box\\Data\\nc Files\\PACQUI\\aux_orbits\\GFZ0MGXRAP_20251550000_01D_05M_ORB.SP3 file is read in 6.14 seconds\n",
      "This file does not exist: C:\\Users\\varga\\Box\\Data\\nc Files\\PACQUI\\aux_orbits\\GFZ0MGXRAP_20251560000_01D_05M_ORB.SP3\n",
      "Downloading: ftp://gssc.esa.int/gnss/products/2369//GFZ0MGXRAP_20251560000_01D_05M_ORB.SP3.gz"
     ]
    },
    {
     "name": "stderr",
     "output_type": "stream",
     "text": [
      "GFZ0MGXRAP_20251560000_01D_05M_ORB.SP3.gz: 1.05MB [00:08, 125kB/s]                             \n"
     ]
    },
    {
     "name": "stdout",
     "output_type": "stream",
     "text": [
      " | Download completed for ftp://gssc.esa.int/gnss/products/2369//GFZ0MGXRAP_20251560000_01D_05M_ORB.SP3.gz\n",
      "C:\\Users\\varga\\Box\\Data\\nc Files\\PACQUI\\aux_orbits\\GFZ0MGXRAP_20251560000_01D_05M_ORB.SP3 file is read in 20.57 seconds\n",
      "C:\\Users\\varga\\Box\\Data\\nc Files\\PACQUI\\aux_orbits\\GFZ0MGXRAP_20251550000_01D_30S_CLK.CLK exists | Reading...\n",
      "C:\\Users\\varga\\Box\\Data\\nc Files\\PACQUI\\aux_orbits\\GFZ0MGXRAP_20251550000_01D_30S_CLK.CLK file is read in 3.71 seconds\n",
      "This file does not exist: C:\\Users\\varga\\Box\\Data\\nc Files\\PACQUI\\aux_orbits\\GFZ0MGXRAP_20251560000_01D_30S_CLK.CLK\n",
      "Downloading: GFZ0MGXRAP_20251560000_01D_30S_CLK.CLK.gz"
     ]
    },
    {
     "name": "stderr",
     "output_type": "stream",
     "text": [
      "GFZ0MGXRAP_20251560000_01D_30S_CLK.CLK.gz: 4.79MB [00:54, 91.6kB/s]                            \n"
     ]
    },
    {
     "name": "stdout",
     "output_type": "stream",
     "text": [
      " | Download completed for GFZ0MGXRAP_20251560000_01D_30S_CLK.CLK.gz\n",
      "C:\\Users\\varga\\Box\\Data\\nc Files\\PACQUI\\aux_orbits\\GFZ0MGXRAP_20251560000_01D_30S_CLK.CLK file is read in 20.68 seconds\n",
      "SP3 interpolation is done in 5.20 seconds\n",
      "Saved 101254 individual observations in C:\\Users\\varga\\Box\\Data\\nc Files\\PACQUI\\processed\\PACQUI_raw_20250604163932.nc\n",
      "[OK] PACQUI_raw_20250604163932.25O\n",
      "Could not find any files matching the pattern C:\\Users\\varga\\Box\\Data\\nc Files\\PACQUI\\processed*.nc\n",
      "C:\\Users\\varga\\Box\\Data\\nc Files\\PACQUI\\PACQUI_raw_20250605163933.25O exists | Reading...\n",
      "Observation file  C:\\Users\\varga\\Box\\Data\\nc Files\\PACQUI\\PACQUI_raw_20250605163933.25O  is read in 3.15 seconds.\n",
      "Processing 102514 individual observations\n",
      "Calculating Azimuth and Elevation\n",
      "C:\\Users\\varga\\Box\\Data\\nc Files\\PACQUI\\aux_orbits\\GFZ0MGXRAP_20251560000_01D_05M_ORB.SP3 exists | Reading...\n",
      "C:\\Users\\varga\\Box\\Data\\nc Files\\PACQUI\\aux_orbits\\GFZ0MGXRAP_20251560000_01D_05M_ORB.SP3 file is read in 4.03 seconds\n",
      "This file does not exist: C:\\Users\\varga\\Box\\Data\\nc Files\\PACQUI\\aux_orbits\\GFZ0MGXRAP_20251570000_01D_05M_ORB.SP3\n",
      "Downloading: ftp://gssc.esa.int/gnss/products/2369//GFZ0MGXRAP_20251570000_01D_05M_ORB.SP3.gz"
     ]
    },
    {
     "name": "stderr",
     "output_type": "stream",
     "text": [
      "GFZ0MGXRAP_20251570000_01D_05M_ORB.SP3.gz: 1.06MB [00:17, 62.3kB/s]                            \n"
     ]
    },
    {
     "name": "stdout",
     "output_type": "stream",
     "text": [
      " | Download completed for ftp://gssc.esa.int/gnss/products/2369//GFZ0MGXRAP_20251570000_01D_05M_ORB.SP3.gz\n",
      "C:\\Users\\varga\\Box\\Data\\nc Files\\PACQUI\\aux_orbits\\GFZ0MGXRAP_20251570000_01D_05M_ORB.SP3 file is read in 24.20 seconds\n",
      "C:\\Users\\varga\\Box\\Data\\nc Files\\PACQUI\\aux_orbits\\GFZ0MGXRAP_20251560000_01D_30S_CLK.CLK exists | Reading...\n",
      "C:\\Users\\varga\\Box\\Data\\nc Files\\PACQUI\\aux_orbits\\GFZ0MGXRAP_20251560000_01D_30S_CLK.CLK file is read in 7.37 seconds\n",
      "This file does not exist: C:\\Users\\varga\\Box\\Data\\nc Files\\PACQUI\\aux_orbits\\GFZ0MGXRAP_20251570000_01D_30S_CLK.CLK\n",
      "Downloading: GFZ0MGXRAP_20251570000_01D_30S_CLK.CLK.gz"
     ]
    },
    {
     "name": "stderr",
     "output_type": "stream",
     "text": [
      "GFZ0MGXRAP_20251570000_01D_30S_CLK.CLK.gz: 4.81MB [00:07, 682kB/s]                             \n"
     ]
    },
    {
     "name": "stdout",
     "output_type": "stream",
     "text": [
      " | Download completed for GFZ0MGXRAP_20251570000_01D_30S_CLK.CLK.gz\n",
      "C:\\Users\\varga\\Box\\Data\\nc Files\\PACQUI\\aux_orbits\\GFZ0MGXRAP_20251570000_01D_30S_CLK.CLK file is read in 23.21 seconds\n",
      "SP3 interpolation is done in 4.71 seconds\n",
      "Saved 102514 individual observations in C:\\Users\\varga\\Box\\Data\\nc Files\\PACQUI\\processed\\PACQUI_raw_20250605163933.nc\n",
      "[OK] PACQUI_raw_20250605163933.25O\n",
      "Could not find any files matching the pattern C:\\Users\\varga\\Box\\Data\\nc Files\\PACQUI\\processed*.nc\n",
      "C:\\Users\\varga\\Box\\Data\\nc Files\\PACQUI\\PACQUI_raw_20250606163934.25O exists | Reading...\n",
      "Observation file  C:\\Users\\varga\\Box\\Data\\nc Files\\PACQUI\\PACQUI_raw_20250606163934.25O  is read in 3.37 seconds.\n",
      "Processing 99076 individual observations\n",
      "Calculating Azimuth and Elevation\n",
      "C:\\Users\\varga\\Box\\Data\\nc Files\\PACQUI\\aux_orbits\\GFZ0MGXRAP_20251570000_01D_05M_ORB.SP3 exists | Reading...\n",
      "C:\\Users\\varga\\Box\\Data\\nc Files\\PACQUI\\aux_orbits\\GFZ0MGXRAP_20251570000_01D_05M_ORB.SP3 file is read in 0.57 seconds\n",
      "This file does not exist: C:\\Users\\varga\\Box\\Data\\nc Files\\PACQUI\\aux_orbits\\GFZ0MGXRAP_20251580000_01D_05M_ORB.SP3\n",
      "Downloading: ftp://gssc.esa.int/gnss/products/2369//GFZ0MGXRAP_20251580000_01D_05M_ORB.SP3.gz"
     ]
    },
    {
     "name": "stderr",
     "output_type": "stream",
     "text": [
      "GFZ0MGXRAP_20251580000_01D_05M_ORB.SP3.gz: 1.05MB [00:07, 147kB/s]                             \n"
     ]
    },
    {
     "name": "stdout",
     "output_type": "stream",
     "text": [
      " | Download completed for ftp://gssc.esa.int/gnss/products/2369//GFZ0MGXRAP_20251580000_01D_05M_ORB.SP3.gz\n",
      "C:\\Users\\varga\\Box\\Data\\nc Files\\PACQUI\\aux_orbits\\GFZ0MGXRAP_20251580000_01D_05M_ORB.SP3 file is read in 19.11 seconds\n",
      "C:\\Users\\varga\\Box\\Data\\nc Files\\PACQUI\\aux_orbits\\GFZ0MGXRAP_20251570000_01D_30S_CLK.CLK exists | Reading...\n",
      "C:\\Users\\varga\\Box\\Data\\nc Files\\PACQUI\\aux_orbits\\GFZ0MGXRAP_20251570000_01D_30S_CLK.CLK file is read in 19.68 seconds\n",
      "This file does not exist: C:\\Users\\varga\\Box\\Data\\nc Files\\PACQUI\\aux_orbits\\GFZ0MGXRAP_20251580000_01D_30S_CLK.CLK\n",
      "Downloading: GFZ0MGXRAP_20251580000_01D_30S_CLK.CLK.gz"
     ]
    },
    {
     "name": "stderr",
     "output_type": "stream",
     "text": [
      "GFZ0MGXRAP_20251580000_01D_30S_CLK.CLK.gz: 4.80MB [00:32, 154kB/s]                             \n"
     ]
    },
    {
     "name": "stdout",
     "output_type": "stream",
     "text": [
      " | Download completed for GFZ0MGXRAP_20251580000_01D_30S_CLK.CLK.gz\n",
      "C:\\Users\\varga\\Box\\Data\\nc Files\\PACQUI\\aux_orbits\\GFZ0MGXRAP_20251580000_01D_30S_CLK.CLK file is read in 14.53 seconds\n",
      "SP3 interpolation is done in 3.99 seconds\n",
      "Saved 99076 individual observations in C:\\Users\\varga\\Box\\Data\\nc Files\\PACQUI\\processed\\PACQUI_raw_20250606163934.nc\n",
      "[OK] PACQUI_raw_20250606163934.25O\n",
      "Could not find any files matching the pattern C:\\Users\\varga\\Box\\Data\\nc Files\\PACQUI\\processed*.nc\n",
      "C:\\Users\\varga\\Box\\Data\\nc Files\\PACQUI\\PACQUI_raw_20250607163935.25O exists | Reading...\n",
      "Observation file  C:\\Users\\varga\\Box\\Data\\nc Files\\PACQUI\\PACQUI_raw_20250607163935.25O  is read in 21.69 seconds.\n",
      "Processing 100302 individual observations\n",
      "Calculating Azimuth and Elevation\n",
      "C:\\Users\\varga\\Box\\Data\\nc Files\\PACQUI\\aux_orbits\\GFZ0MGXRAP_20251580000_01D_05M_ORB.SP3 exists | Reading...\n",
      "C:\\Users\\varga\\Box\\Data\\nc Files\\PACQUI\\aux_orbits\\GFZ0MGXRAP_20251580000_01D_05M_ORB.SP3 file is read in 0.71 seconds\n",
      "This file does not exist: C:\\Users\\varga\\Box\\Data\\nc Files\\PACQUI\\aux_orbits\\GFZ0MGXRAP_20251590000_01D_05M_ORB.SP3\n",
      "Downloading: ftp://gssc.esa.int/gnss/products/2370//GFZ0MGXRAP_20251590000_01D_05M_ORB.SP3.gz"
     ]
    },
    {
     "name": "stderr",
     "output_type": "stream",
     "text": [
      "GFZ0MGXRAP_20251590000_01D_05M_ORB.SP3.gz: 1.05MB [00:03, 311kB/s]                             \n"
     ]
    },
    {
     "name": "stdout",
     "output_type": "stream",
     "text": [
      " | Download completed for ftp://gssc.esa.int/gnss/products/2370//GFZ0MGXRAP_20251590000_01D_05M_ORB.SP3.gz\n",
      "C:\\Users\\varga\\Box\\Data\\nc Files\\PACQUI\\aux_orbits\\GFZ0MGXRAP_20251590000_01D_05M_ORB.SP3 file is read in 10.11 seconds\n",
      "C:\\Users\\varga\\Box\\Data\\nc Files\\PACQUI\\aux_orbits\\GFZ0MGXRAP_20251580000_01D_30S_CLK.CLK exists | Reading...\n",
      "C:\\Users\\varga\\Box\\Data\\nc Files\\PACQUI\\aux_orbits\\GFZ0MGXRAP_20251580000_01D_30S_CLK.CLK file is read in 5.85 seconds\n",
      "This file does not exist: C:\\Users\\varga\\Box\\Data\\nc Files\\PACQUI\\aux_orbits\\GFZ0MGXRAP_20251590000_01D_30S_CLK.CLK\n",
      "Downloading: GFZ0MGXRAP_20251590000_01D_30S_CLK.CLK.gz"
     ]
    },
    {
     "name": "stderr",
     "output_type": "stream",
     "text": [
      "GFZ0MGXRAP_20251590000_01D_30S_CLK.CLK.gz: 4.77MB [00:07, 687kB/s]                             \n"
     ]
    },
    {
     "name": "stdout",
     "output_type": "stream",
     "text": [
      " | Download completed for GFZ0MGXRAP_20251590000_01D_30S_CLK.CLK.gz\n",
      "C:\\Users\\varga\\Box\\Data\\nc Files\\PACQUI\\aux_orbits\\GFZ0MGXRAP_20251590000_01D_30S_CLK.CLK file is read in 25.04 seconds\n",
      "SP3 interpolation is done in 5.70 seconds\n",
      "Saved 100302 individual observations in C:\\Users\\varga\\Box\\Data\\nc Files\\PACQUI\\processed\\PACQUI_raw_20250607163935.nc\n",
      "[OK] PACQUI_raw_20250607163935.25O\n",
      "Could not find any files matching the pattern C:\\Users\\varga\\Box\\Data\\nc Files\\PACQUI\\processed*.nc\n",
      "C:\\Users\\varga\\Box\\Data\\nc Files\\PACQUI\\PACQUI_raw_20250608163936.25O exists | Reading...\n",
      "Observation file  C:\\Users\\varga\\Box\\Data\\nc Files\\PACQUI\\PACQUI_raw_20250608163936.25O  is read in 1.37 seconds.\n",
      "Processing 14703 individual observations\n",
      "Calculating Azimuth and Elevation\n",
      "C:\\Users\\varga\\Box\\Data\\nc Files\\PACQUI\\aux_orbits\\GFZ0MGXRAP_20251590000_01D_05M_ORB.SP3 exists | Reading...\n",
      "C:\\Users\\varga\\Box\\Data\\nc Files\\PACQUI\\aux_orbits\\GFZ0MGXRAP_20251590000_01D_05M_ORB.SP3 file is read in 5.54 seconds\n",
      "C:\\Users\\varga\\Box\\Data\\nc Files\\PACQUI\\aux_orbits\\GFZ0MGXRAP_20251590000_01D_30S_CLK.CLK exists | Reading...\n",
      "C:\\Users\\varga\\Box\\Data\\nc Files\\PACQUI\\aux_orbits\\GFZ0MGXRAP_20251590000_01D_30S_CLK.CLK file is read in 24.44 seconds\n",
      "SP3 interpolation is done in 7.94 seconds\n",
      "Saved 14703 individual observations in C:\\Users\\varga\\Box\\Data\\nc Files\\PACQUI\\processed\\PACQUI_raw_20250608163936.nc\n",
      "[OK] PACQUI_raw_20250608163936.25O\n",
      "Could not find any files matching the pattern C:\\Users\\varga\\Box\\Data\\nc Files\\PACQUI\\processed*.nc\n",
      "C:\\Users\\varga\\Box\\Data\\nc Files\\PACQUI\\PACQUI_raw_20250610145050.25O exists | Reading...\n",
      "Observation file  C:\\Users\\varga\\Box\\Data\\nc Files\\PACQUI\\PACQUI_raw_20250610145050.25O  is read in 3.21 seconds.\n",
      "Processing 99628 individual observations\n",
      "Calculating Azimuth and Elevation\n",
      "This file does not exist: C:\\Users\\varga\\Box\\Data\\nc Files\\PACQUI\\aux_orbits\\GFZ0MGXRAP_20251610000_01D_05M_ORB.SP3\n",
      "Downloading: ftp://gssc.esa.int/gnss/products/2370//GFZ0MGXRAP_20251610000_01D_05M_ORB.SP3.gz"
     ]
    },
    {
     "name": "stderr",
     "output_type": "stream",
     "text": [
      "GFZ0MGXRAP_20251610000_01D_05M_ORB.SP3.gz: 1.05MB [00:03, 338kB/s]                             \n"
     ]
    },
    {
     "name": "stdout",
     "output_type": "stream",
     "text": [
      " | Download completed for ftp://gssc.esa.int/gnss/products/2370//GFZ0MGXRAP_20251610000_01D_05M_ORB.SP3.gz\n",
      "C:\\Users\\varga\\Box\\Data\\nc Files\\PACQUI\\aux_orbits\\GFZ0MGXRAP_20251610000_01D_05M_ORB.SP3 file is read in 9.77 seconds\n",
      "This file does not exist: C:\\Users\\varga\\Box\\Data\\nc Files\\PACQUI\\aux_orbits\\GFZ0MGXRAP_20251620000_01D_05M_ORB.SP3\n",
      "Downloading: ftp://gssc.esa.int/gnss/products/2370//GFZ0MGXRAP_20251620000_01D_05M_ORB.SP3.gz"
     ]
    },
    {
     "name": "stderr",
     "output_type": "stream",
     "text": [
      "GFZ0MGXRAP_20251620000_01D_05M_ORB.SP3.gz: 1.03MB [00:04, 219kB/s]                             \n"
     ]
    },
    {
     "name": "stdout",
     "output_type": "stream",
     "text": [
      " | Download completed for ftp://gssc.esa.int/gnss/products/2370//GFZ0MGXRAP_20251620000_01D_05M_ORB.SP3.gz\n",
      "C:\\Users\\varga\\Box\\Data\\nc Files\\PACQUI\\aux_orbits\\GFZ0MGXRAP_20251620000_01D_05M_ORB.SP3 file is read in 10.82 seconds\n",
      "This file does not exist: C:\\Users\\varga\\Box\\Data\\nc Files\\PACQUI\\aux_orbits\\GFZ0MGXRAP_20251610000_01D_30S_CLK.CLK\n",
      "Downloading: GFZ0MGXRAP_20251610000_01D_30S_CLK.CLK.gz"
     ]
    },
    {
     "name": "stderr",
     "output_type": "stream",
     "text": [
      "GFZ0MGXRAP_20251610000_01D_30S_CLK.CLK.gz: 4.76MB [00:04, 1.11MB/s]                            \n"
     ]
    },
    {
     "name": "stdout",
     "output_type": "stream",
     "text": [
      " | Download completed for GFZ0MGXRAP_20251610000_01D_30S_CLK.CLK.gz\n",
      "C:\\Users\\varga\\Box\\Data\\nc Files\\PACQUI\\aux_orbits\\GFZ0MGXRAP_20251610000_01D_30S_CLK.CLK file is read in 11.53 seconds\n",
      "This file does not exist: C:\\Users\\varga\\Box\\Data\\nc Files\\PACQUI\\aux_orbits\\GFZ0MGXRAP_20251620000_01D_30S_CLK.CLK\n",
      "Downloading: GFZ0MGXRAP_20251620000_01D_30S_CLK.CLK.gz"
     ]
    },
    {
     "name": "stderr",
     "output_type": "stream",
     "text": [
      "GFZ0MGXRAP_20251620000_01D_30S_CLK.CLK.gz: 4.73MB [00:05, 892kB/s]                             \n"
     ]
    },
    {
     "name": "stdout",
     "output_type": "stream",
     "text": [
      " | Download completed for GFZ0MGXRAP_20251620000_01D_30S_CLK.CLK.gz\n",
      "C:\\Users\\varga\\Box\\Data\\nc Files\\PACQUI\\aux_orbits\\GFZ0MGXRAP_20251620000_01D_30S_CLK.CLK file is read in 23.44 seconds\n",
      "SP3 interpolation is done in 8.14 seconds\n",
      "Saved 99628 individual observations in C:\\Users\\varga\\Box\\Data\\nc Files\\PACQUI\\processed\\PACQUI_raw_20250610145050.nc\n",
      "[OK] PACQUI_raw_20250610145050.25O\n",
      "Could not find any files matching the pattern C:\\Users\\varga\\Box\\Data\\nc Files\\PACQUI\\processed*.nc\n",
      "C:\\Users\\varga\\Box\\Data\\nc Files\\PACQUI\\PACQUI_raw_20250611145051.25O exists | Reading...\n",
      "Observation file  C:\\Users\\varga\\Box\\Data\\nc Files\\PACQUI\\PACQUI_raw_20250611145051.25O  is read in 14.52 seconds.\n",
      "Processing 101465 individual observations\n",
      "Calculating Azimuth and Elevation\n",
      "C:\\Users\\varga\\Box\\Data\\nc Files\\PACQUI\\aux_orbits\\GFZ0MGXRAP_20251620000_01D_05M_ORB.SP3 exists | Reading...\n",
      "C:\\Users\\varga\\Box\\Data\\nc Files\\PACQUI\\aux_orbits\\GFZ0MGXRAP_20251620000_01D_05M_ORB.SP3 file is read in 8.47 seconds\n",
      "This file does not exist: C:\\Users\\varga\\Box\\Data\\nc Files\\PACQUI\\aux_orbits\\GFZ0MGXRAP_20251630000_01D_05M_ORB.SP3\n",
      "Downloading: ftp://gssc.esa.int/gnss/products/2370//GFZ0MGXRAP_20251630000_01D_05M_ORB.SP3.gz"
     ]
    },
    {
     "name": "stderr",
     "output_type": "stream",
     "text": [
      "GFZ0MGXRAP_20251630000_01D_05M_ORB.SP3.gz: 1.04MB [00:03, 290kB/s]                             \n"
     ]
    },
    {
     "name": "stdout",
     "output_type": "stream",
     "text": [
      " | Download completed for ftp://gssc.esa.int/gnss/products/2370//GFZ0MGXRAP_20251630000_01D_05M_ORB.SP3.gz\n",
      "C:\\Users\\varga\\Box\\Data\\nc Files\\PACQUI\\aux_orbits\\GFZ0MGXRAP_20251630000_01D_05M_ORB.SP3 file is read in 13.13 seconds\n",
      "C:\\Users\\varga\\Box\\Data\\nc Files\\PACQUI\\aux_orbits\\GFZ0MGXRAP_20251620000_01D_30S_CLK.CLK exists | Reading...\n",
      "C:\\Users\\varga\\Box\\Data\\nc Files\\PACQUI\\aux_orbits\\GFZ0MGXRAP_20251620000_01D_30S_CLK.CLK file is read in 5.42 seconds\n",
      "This file does not exist: C:\\Users\\varga\\Box\\Data\\nc Files\\PACQUI\\aux_orbits\\GFZ0MGXRAP_20251630000_01D_30S_CLK.CLK\n",
      "Downloading: GFZ0MGXRAP_20251630000_01D_30S_CLK.CLK.gz"
     ]
    },
    {
     "name": "stderr",
     "output_type": "stream",
     "text": [
      "GFZ0MGXRAP_20251630000_01D_30S_CLK.CLK.gz: 4.71MB [00:03, 1.37MB/s]                            \n"
     ]
    },
    {
     "name": "stdout",
     "output_type": "stream",
     "text": [
      " | Download completed for GFZ0MGXRAP_20251630000_01D_30S_CLK.CLK.gz\n",
      "C:\\Users\\varga\\Box\\Data\\nc Files\\PACQUI\\aux_orbits\\GFZ0MGXRAP_20251630000_01D_30S_CLK.CLK file is read in 5.78 seconds\n",
      "SP3 interpolation is done in 34.81 seconds\n",
      "Saved 101465 individual observations in C:\\Users\\varga\\Box\\Data\\nc Files\\PACQUI\\processed\\PACQUI_raw_20250611145051.nc\n",
      "[OK] PACQUI_raw_20250611145051.25O\n",
      "Could not find any files matching the pattern C:\\Users\\varga\\Box\\Data\\nc Files\\PACQUI\\processed*.nc\n",
      "C:\\Users\\varga\\Box\\Data\\nc Files\\PACQUI\\PACQUI_raw_20250612145052.25O exists | Reading...\n",
      "Observation file  C:\\Users\\varga\\Box\\Data\\nc Files\\PACQUI\\PACQUI_raw_20250612145052.25O  is read in 3.98 seconds.\n",
      "Processing 100042 individual observations\n",
      "Calculating Azimuth and Elevation\n",
      "C:\\Users\\varga\\Box\\Data\\nc Files\\PACQUI\\aux_orbits\\GFZ0MGXRAP_20251630000_01D_05M_ORB.SP3 exists | Reading...\n",
      "C:\\Users\\varga\\Box\\Data\\nc Files\\PACQUI\\aux_orbits\\GFZ0MGXRAP_20251630000_01D_05M_ORB.SP3 file is read in 1.27 seconds\n",
      "This file does not exist: C:\\Users\\varga\\Box\\Data\\nc Files\\PACQUI\\aux_orbits\\GFZ0MGXRAP_20251640000_01D_05M_ORB.SP3\n",
      "Downloading: ftp://gssc.esa.int/gnss/products/2370//GFZ0MGXRAP_20251640000_01D_05M_ORB.SP3.gz"
     ]
    },
    {
     "name": "stderr",
     "output_type": "stream",
     "text": [
      "GFZ0MGXRAP_20251640000_01D_05M_ORB.SP3.gz: 1.03MB [00:03, 334kB/s]                             \n"
     ]
    },
    {
     "name": "stdout",
     "output_type": "stream",
     "text": [
      " | Download completed for ftp://gssc.esa.int/gnss/products/2370//GFZ0MGXRAP_20251640000_01D_05M_ORB.SP3.gz\n",
      "C:\\Users\\varga\\Box\\Data\\nc Files\\PACQUI\\aux_orbits\\GFZ0MGXRAP_20251640000_01D_05M_ORB.SP3 file is read in 9.48 seconds\n",
      "C:\\Users\\varga\\Box\\Data\\nc Files\\PACQUI\\aux_orbits\\GFZ0MGXRAP_20251630000_01D_30S_CLK.CLK exists | Reading...\n",
      "C:\\Users\\varga\\Box\\Data\\nc Files\\PACQUI\\aux_orbits\\GFZ0MGXRAP_20251630000_01D_30S_CLK.CLK file is read in 25.58 seconds\n",
      "This file does not exist: C:\\Users\\varga\\Box\\Data\\nc Files\\PACQUI\\aux_orbits\\GFZ0MGXRAP_20251640000_01D_30S_CLK.CLK\n",
      "Downloading: GFZ0MGXRAP_20251640000_01D_30S_CLK.CLK.gz"
     ]
    },
    {
     "name": "stderr",
     "output_type": "stream",
     "text": [
      "GFZ0MGXRAP_20251640000_01D_30S_CLK.CLK.gz: 4.73MB [00:03, 1.30MB/s]                            \n"
     ]
    },
    {
     "name": "stdout",
     "output_type": "stream",
     "text": [
      " | Download completed for GFZ0MGXRAP_20251640000_01D_30S_CLK.CLK.gz\n",
      "C:\\Users\\varga\\Box\\Data\\nc Files\\PACQUI\\aux_orbits\\GFZ0MGXRAP_20251640000_01D_30S_CLK.CLK file is read in 4.92 seconds\n",
      "SP3 interpolation is done in 22.83 seconds\n",
      "Saved 100042 individual observations in C:\\Users\\varga\\Box\\Data\\nc Files\\PACQUI\\processed\\PACQUI_raw_20250612145052.nc\n",
      "[OK] PACQUI_raw_20250612145052.25O\n",
      "Could not find any files matching the pattern C:\\Users\\varga\\Box\\Data\\nc Files\\PACQUI\\processed*.nc\n",
      "C:\\Users\\varga\\Box\\Data\\nc Files\\PACQUI\\PACQUI_raw_20250613145053.25O exists | Reading...\n",
      "Observation file  C:\\Users\\varga\\Box\\Data\\nc Files\\PACQUI\\PACQUI_raw_20250613145053.25O  is read in 8.96 seconds.\n",
      "Processing 98332 individual observations\n",
      "Calculating Azimuth and Elevation\n",
      "C:\\Users\\varga\\Box\\Data\\nc Files\\PACQUI\\aux_orbits\\GFZ0MGXRAP_20251640000_01D_05M_ORB.SP3 exists | Reading...\n",
      "C:\\Users\\varga\\Box\\Data\\nc Files\\PACQUI\\aux_orbits\\GFZ0MGXRAP_20251640000_01D_05M_ORB.SP3 file is read in 5.75 seconds\n",
      "This file does not exist: C:\\Users\\varga\\Box\\Data\\nc Files\\PACQUI\\aux_orbits\\GFZ0MGXRAP_20251650000_01D_05M_ORB.SP3\n",
      "Downloading: ftp://gssc.esa.int/gnss/products/2370//GFZ0MGXRAP_20251650000_01D_05M_ORB.SP3.gz"
     ]
    },
    {
     "name": "stderr",
     "output_type": "stream",
     "text": [
      "GFZ0MGXRAP_20251650000_01D_05M_ORB.SP3.gz: 1.05MB [00:03, 333kB/s]                             \n"
     ]
    },
    {
     "name": "stdout",
     "output_type": "stream",
     "text": [
      " | Download completed for ftp://gssc.esa.int/gnss/products/2370//GFZ0MGXRAP_20251650000_01D_05M_ORB.SP3.gz\n",
      "C:\\Users\\varga\\Box\\Data\\nc Files\\PACQUI\\aux_orbits\\GFZ0MGXRAP_20251650000_01D_05M_ORB.SP3 file is read in 9.07 seconds\n",
      "C:\\Users\\varga\\Box\\Data\\nc Files\\PACQUI\\aux_orbits\\GFZ0MGXRAP_20251640000_01D_30S_CLK.CLK exists | Reading...\n",
      "C:\\Users\\varga\\Box\\Data\\nc Files\\PACQUI\\aux_orbits\\GFZ0MGXRAP_20251640000_01D_30S_CLK.CLK file is read in 4.38 seconds\n",
      "This file does not exist: C:\\Users\\varga\\Box\\Data\\nc Files\\PACQUI\\aux_orbits\\GFZ0MGXRAP_20251650000_01D_30S_CLK.CLK\n",
      "Downloading: GFZ0MGXRAP_20251650000_01D_30S_CLK.CLK.gz"
     ]
    },
    {
     "name": "stderr",
     "output_type": "stream",
     "text": [
      "GFZ0MGXRAP_20251650000_01D_30S_CLK.CLK.gz: 4.75MB [00:03, 1.38MB/s]                            \n"
     ]
    },
    {
     "name": "stdout",
     "output_type": "stream",
     "text": [
      " | Download completed for GFZ0MGXRAP_20251650000_01D_30S_CLK.CLK.gz\n",
      "C:\\Users\\varga\\Box\\Data\\nc Files\\PACQUI\\aux_orbits\\GFZ0MGXRAP_20251650000_01D_30S_CLK.CLK file is read in 26.02 seconds\n",
      "SP3 interpolation is done in 10.74 seconds\n",
      "Saved 98332 individual observations in C:\\Users\\varga\\Box\\Data\\nc Files\\PACQUI\\processed\\PACQUI_raw_20250613145053.nc\n",
      "[OK] PACQUI_raw_20250613145053.25O\n",
      "Could not find any files matching the pattern C:\\Users\\varga\\Box\\Data\\nc Files\\PACQUI\\processed*.nc\n",
      "C:\\Users\\varga\\Box\\Data\\nc Files\\PACQUI\\PACQUI_raw_20250614145054.25O exists | Reading...\n",
      "Observation file  C:\\Users\\varga\\Box\\Data\\nc Files\\PACQUI\\PACQUI_raw_20250614145054.25O  is read in 28.74 seconds.\n",
      "Processing 100882 individual observations\n",
      "Calculating Azimuth and Elevation\n",
      "C:\\Users\\varga\\Box\\Data\\nc Files\\PACQUI\\aux_orbits\\GFZ0MGXRAP_20251650000_01D_05M_ORB.SP3 exists | Reading...\n",
      "C:\\Users\\varga\\Box\\Data\\nc Files\\PACQUI\\aux_orbits\\GFZ0MGXRAP_20251650000_01D_05M_ORB.SP3 file is read in 2.47 seconds\n",
      "This file does not exist: C:\\Users\\varga\\Box\\Data\\nc Files\\PACQUI\\aux_orbits\\GFZ0MGXRAP_20251660000_01D_05M_ORB.SP3\n",
      "Downloading: ftp://gssc.esa.int/gnss/products/2371//GFZ0MGXRAP_20251660000_01D_05M_ORB.SP3.gz"
     ]
    },
    {
     "name": "stderr",
     "output_type": "stream",
     "text": [
      "GFZ0MGXRAP_20251660000_01D_05M_ORB.SP3.gz: 1.05MB [00:03, 342kB/s]                             \n"
     ]
    },
    {
     "name": "stdout",
     "output_type": "stream",
     "text": [
      " | Download completed for ftp://gssc.esa.int/gnss/products/2371//GFZ0MGXRAP_20251660000_01D_05M_ORB.SP3.gz\n",
      "C:\\Users\\varga\\Box\\Data\\nc Files\\PACQUI\\aux_orbits\\GFZ0MGXRAP_20251660000_01D_05M_ORB.SP3 file is read in 5.56 seconds\n",
      "C:\\Users\\varga\\Box\\Data\\nc Files\\PACQUI\\aux_orbits\\GFZ0MGXRAP_20251650000_01D_30S_CLK.CLK exists | Reading...\n",
      "C:\\Users\\varga\\Box\\Data\\nc Files\\PACQUI\\aux_orbits\\GFZ0MGXRAP_20251650000_01D_30S_CLK.CLK file is read in 14.16 seconds\n",
      "This file does not exist: C:\\Users\\varga\\Box\\Data\\nc Files\\PACQUI\\aux_orbits\\GFZ0MGXRAP_20251660000_01D_30S_CLK.CLK\n",
      "Downloading: GFZ0MGXRAP_20251660000_01D_30S_CLK.CLK.gz"
     ]
    },
    {
     "name": "stderr",
     "output_type": "stream",
     "text": [
      "GFZ0MGXRAP_20251660000_01D_30S_CLK.CLK.gz: 4.79MB [00:08, 579kB/s]                             \n"
     ]
    },
    {
     "name": "stdout",
     "output_type": "stream",
     "text": [
      " | Download completed for GFZ0MGXRAP_20251660000_01D_30S_CLK.CLK.gz\n",
      "C:\\Users\\varga\\Box\\Data\\nc Files\\PACQUI\\aux_orbits\\GFZ0MGXRAP_20251660000_01D_30S_CLK.CLK file is read in 5.57 seconds\n",
      "SP3 interpolation is done in 4.54 seconds\n",
      "Saved 100882 individual observations in C:\\Users\\varga\\Box\\Data\\nc Files\\PACQUI\\processed\\PACQUI_raw_20250614145054.nc\n",
      "[OK] PACQUI_raw_20250614145054.25O\n",
      "Could not find any files matching the pattern C:\\Users\\varga\\Box\\Data\\nc Files\\PACQUI\\processed*.nc\n",
      "C:\\Users\\varga\\Box\\Data\\nc Files\\PACQUI\\PACQUI_raw_20250615145055.25O exists | Reading...\n",
      "Observation file  C:\\Users\\varga\\Box\\Data\\nc Files\\PACQUI\\PACQUI_raw_20250615145055.25O  is read in 5.49 seconds.\n",
      "Processing 101426 individual observations\n",
      "Calculating Azimuth and Elevation\n",
      "C:\\Users\\varga\\Box\\Data\\nc Files\\PACQUI\\aux_orbits\\GFZ0MGXRAP_20251660000_01D_05M_ORB.SP3 exists | Reading...\n",
      "C:\\Users\\varga\\Box\\Data\\nc Files\\PACQUI\\aux_orbits\\GFZ0MGXRAP_20251660000_01D_05M_ORB.SP3 file is read in 0.62 seconds\n",
      "This file does not exist: C:\\Users\\varga\\Box\\Data\\nc Files\\PACQUI\\aux_orbits\\GFZ0MGXRAP_20251670000_01D_05M_ORB.SP3\n",
      "Downloading: ftp://gssc.esa.int/gnss/products/2371//GFZ0MGXRAP_20251670000_01D_05M_ORB.SP3.gz"
     ]
    },
    {
     "name": "stderr",
     "output_type": "stream",
     "text": [
      "GFZ0MGXRAP_20251670000_01D_05M_ORB.SP3.gz: 1.05MB [00:03, 340kB/s]                             \n"
     ]
    },
    {
     "name": "stdout",
     "output_type": "stream",
     "text": [
      " | Download completed for ftp://gssc.esa.int/gnss/products/2371//GFZ0MGXRAP_20251670000_01D_05M_ORB.SP3.gz\n",
      "C:\\Users\\varga\\Box\\Data\\nc Files\\PACQUI\\aux_orbits\\GFZ0MGXRAP_20251670000_01D_05M_ORB.SP3 file is read in 4.61 seconds\n",
      "C:\\Users\\varga\\Box\\Data\\nc Files\\PACQUI\\aux_orbits\\GFZ0MGXRAP_20251660000_01D_30S_CLK.CLK exists | Reading...\n",
      "C:\\Users\\varga\\Box\\Data\\nc Files\\PACQUI\\aux_orbits\\GFZ0MGXRAP_20251660000_01D_30S_CLK.CLK file is read in 24.39 seconds\n",
      "This file does not exist: C:\\Users\\varga\\Box\\Data\\nc Files\\PACQUI\\aux_orbits\\GFZ0MGXRAP_20251670000_01D_30S_CLK.CLK\n",
      "Downloading: GFZ0MGXRAP_20251670000_01D_30S_CLK.CLK.gz"
     ]
    },
    {
     "name": "stderr",
     "output_type": "stream",
     "text": [
      "GFZ0MGXRAP_20251670000_01D_30S_CLK.CLK.gz: 4.77MB [00:04, 1.23MB/s]                            \n"
     ]
    },
    {
     "name": "stdout",
     "output_type": "stream",
     "text": [
      " | Download completed for GFZ0MGXRAP_20251670000_01D_30S_CLK.CLK.gz\n",
      "C:\\Users\\varga\\Box\\Data\\nc Files\\PACQUI\\aux_orbits\\GFZ0MGXRAP_20251670000_01D_30S_CLK.CLK file is read in 4.29 seconds\n",
      "SP3 interpolation is done in 19.07 seconds\n",
      "Saved 101426 individual observations in C:\\Users\\varga\\Box\\Data\\nc Files\\PACQUI\\processed\\PACQUI_raw_20250615145055.nc\n",
      "[OK] PACQUI_raw_20250615145055.25O\n",
      "Could not find any files matching the pattern C:\\Users\\varga\\Box\\Data\\nc Files\\PACQUI\\processed*.nc\n",
      "C:\\Users\\varga\\Box\\Data\\nc Files\\PACQUI\\PACQUI_raw_20250616145055.25O exists | Reading...\n",
      "Observation file  C:\\Users\\varga\\Box\\Data\\nc Files\\PACQUI\\PACQUI_raw_20250616145055.25O  is read in 25.31 seconds.\n",
      "Processing 98209 individual observations\n",
      "Calculating Azimuth and Elevation\n",
      "C:\\Users\\varga\\Box\\Data\\nc Files\\PACQUI\\aux_orbits\\GFZ0MGXRAP_20251670000_01D_05M_ORB.SP3 exists | Reading...\n",
      "C:\\Users\\varga\\Box\\Data\\nc Files\\PACQUI\\aux_orbits\\GFZ0MGXRAP_20251670000_01D_05M_ORB.SP3 file is read in 5.97 seconds\n",
      "This file does not exist: C:\\Users\\varga\\Box\\Data\\nc Files\\PACQUI\\aux_orbits\\GFZ0MGXRAP_20251680000_01D_05M_ORB.SP3\n",
      "Downloading: ftp://gssc.esa.int/gnss/products/2371//GFZ0MGXRAP_20251680000_01D_05M_ORB.SP3.gz"
     ]
    },
    {
     "name": "stderr",
     "output_type": "stream",
     "text": [
      "GFZ0MGXRAP_20251680000_01D_05M_ORB.SP3.gz: 1.03MB [00:03, 345kB/s]                             \n"
     ]
    },
    {
     "name": "stdout",
     "output_type": "stream",
     "text": [
      " | Download completed for ftp://gssc.esa.int/gnss/products/2371//GFZ0MGXRAP_20251680000_01D_05M_ORB.SP3.gz\n",
      "C:\\Users\\varga\\Box\\Data\\nc Files\\PACQUI\\aux_orbits\\GFZ0MGXRAP_20251680000_01D_05M_ORB.SP3 file is read in 4.53 seconds\n",
      "C:\\Users\\varga\\Box\\Data\\nc Files\\PACQUI\\aux_orbits\\GFZ0MGXRAP_20251670000_01D_30S_CLK.CLK exists | Reading...\n",
      "C:\\Users\\varga\\Box\\Data\\nc Files\\PACQUI\\aux_orbits\\GFZ0MGXRAP_20251670000_01D_30S_CLK.CLK file is read in 4.07 seconds\n",
      "This file does not exist: C:\\Users\\varga\\Box\\Data\\nc Files\\PACQUI\\aux_orbits\\GFZ0MGXRAP_20251680000_01D_30S_CLK.CLK\n",
      "Downloading: GFZ0MGXRAP_20251680000_01D_30S_CLK.CLK.gz"
     ]
    },
    {
     "name": "stderr",
     "output_type": "stream",
     "text": [
      "GFZ0MGXRAP_20251680000_01D_30S_CLK.CLK.gz: 4.70MB [00:07, 678kB/s]                             \n"
     ]
    },
    {
     "name": "stdout",
     "output_type": "stream",
     "text": [
      " | Download completed for GFZ0MGXRAP_20251680000_01D_30S_CLK.CLK.gz\n",
      "C:\\Users\\varga\\Box\\Data\\nc Files\\PACQUI\\aux_orbits\\GFZ0MGXRAP_20251680000_01D_30S_CLK.CLK file is read in 22.01 seconds\n"
     ]
    },
    {
     "name": "stderr",
     "output_type": "stream",
     "text": [
      "C:\\Users\\varga\\Documents\\GitHub\\gnssvod\\gnssvod\\position\\interpolation.py:59: FutureWarning: The behavior of pd.concat with len(keys) != len(objs) is deprecated. In a future version this will raise instead of truncating to the smaller of the two sequences\n",
      "  sp3_resampled = _pd.concat(sp3_resampled, keys=svList, names=['SV']).reorder_levels(['Epoch', 'SV']).sort_index(level='Epoch')\n"
     ]
    },
    {
     "name": "stdout",
     "output_type": "stream",
     "text": [
      "SP3 interpolation is done in 3.98 seconds\n",
      "Saved 98209 individual observations in C:\\Users\\varga\\Box\\Data\\nc Files\\PACQUI\\processed\\PACQUI_raw_20250616145055.nc\n",
      "[OK] PACQUI_raw_20250616145055.25O\n",
      "Could not find any files matching the pattern C:\\Users\\varga\\Box\\Data\\nc Files\\PACQUI\\processed*.nc\n",
      "C:\\Users\\varga\\Box\\Data\\nc Files\\PACQUI\\PACQUI_raw_20250617145057.25O exists | Reading...\n",
      "Observation file  C:\\Users\\varga\\Box\\Data\\nc Files\\PACQUI\\PACQUI_raw_20250617145057.25O  is read in 2.99 seconds.\n",
      "Processing 100133 individual observations\n",
      "Calculating Azimuth and Elevation\n",
      "C:\\Users\\varga\\Box\\Data\\nc Files\\PACQUI\\aux_orbits\\GFZ0MGXRAP_20251680000_01D_05M_ORB.SP3 exists | Reading...\n",
      "C:\\Users\\varga\\Box\\Data\\nc Files\\PACQUI\\aux_orbits\\GFZ0MGXRAP_20251680000_01D_05M_ORB.SP3 file is read in 0.55 seconds\n",
      "This file does not exist: C:\\Users\\varga\\Box\\Data\\nc Files\\PACQUI\\aux_orbits\\GFZ0MGXRAP_20251690000_01D_05M_ORB.SP3\n",
      "Downloading: ftp://gssc.esa.int/gnss/products/2371//GFZ0MGXRAP_20251690000_01D_05M_ORB.SP3.gz"
     ]
    },
    {
     "name": "stderr",
     "output_type": "stream",
     "text": [
      "GFZ0MGXRAP_20251690000_01D_05M_ORB.SP3.gz: 1.02MB [00:03, 328kB/s]                             \n"
     ]
    },
    {
     "name": "stdout",
     "output_type": "stream",
     "text": [
      " | Download completed for ftp://gssc.esa.int/gnss/products/2371//GFZ0MGXRAP_20251690000_01D_05M_ORB.SP3.gz\n",
      "C:\\Users\\varga\\Box\\Data\\nc Files\\PACQUI\\aux_orbits\\GFZ0MGXRAP_20251690000_01D_05M_ORB.SP3 file is read in 6.70 seconds\n",
      "C:\\Users\\varga\\Box\\Data\\nc Files\\PACQUI\\aux_orbits\\GFZ0MGXRAP_20251680000_01D_30S_CLK.CLK exists | Reading...\n",
      "C:\\Users\\varga\\Box\\Data\\nc Files\\PACQUI\\aux_orbits\\GFZ0MGXRAP_20251680000_01D_30S_CLK.CLK file is read in 15.37 seconds\n",
      "This file does not exist: C:\\Users\\varga\\Box\\Data\\nc Files\\PACQUI\\aux_orbits\\GFZ0MGXRAP_20251690000_01D_30S_CLK.CLK\n",
      "Downloading: GFZ0MGXRAP_20251690000_01D_30S_CLK.CLK.gz"
     ]
    },
    {
     "name": "stderr",
     "output_type": "stream",
     "text": [
      "GFZ0MGXRAP_20251690000_01D_30S_CLK.CLK.gz: 4.71MB [00:03, 1.36MB/s]                            \n"
     ]
    },
    {
     "name": "stdout",
     "output_type": "stream",
     "text": [
      " | Download completed for GFZ0MGXRAP_20251690000_01D_30S_CLK.CLK.gz\n",
      "C:\\Users\\varga\\Box\\Data\\nc Files\\PACQUI\\aux_orbits\\GFZ0MGXRAP_20251690000_01D_30S_CLK.CLK file is read in 4.30 seconds\n"
     ]
    },
    {
     "name": "stderr",
     "output_type": "stream",
     "text": [
      "C:\\Users\\varga\\Documents\\GitHub\\gnssvod\\gnssvod\\position\\interpolation.py:59: FutureWarning: The behavior of pd.concat with len(keys) != len(objs) is deprecated. In a future version this will raise instead of truncating to the smaller of the two sequences\n",
      "  sp3_resampled = _pd.concat(sp3_resampled, keys=svList, names=['SV']).reorder_levels(['Epoch', 'SV']).sort_index(level='Epoch')\n"
     ]
    },
    {
     "name": "stdout",
     "output_type": "stream",
     "text": [
      "SP3 interpolation is done in 18.49 seconds\n",
      "Saved 100133 individual observations in C:\\Users\\varga\\Box\\Data\\nc Files\\PACQUI\\processed\\PACQUI_raw_20250617145057.nc\n",
      "[OK] PACQUI_raw_20250617145057.25O\n",
      "Could not find any files matching the pattern C:\\Users\\varga\\Box\\Data\\nc Files\\PACQUI\\processed*.nc\n",
      "C:\\Users\\varga\\Box\\Data\\nc Files\\PACQUI\\PACQUI_raw_20250618145058.25O exists | Reading...\n",
      "Observation file  C:\\Users\\varga\\Box\\Data\\nc Files\\PACQUI\\PACQUI_raw_20250618145058.25O  is read in 4.81 seconds.\n",
      "Processing 100621 individual observations\n",
      "Calculating Azimuth and Elevation\n",
      "C:\\Users\\varga\\Box\\Data\\nc Files\\PACQUI\\aux_orbits\\GFZ0MGXRAP_20251690000_01D_05M_ORB.SP3 exists | Reading...\n",
      "C:\\Users\\varga\\Box\\Data\\nc Files\\PACQUI\\aux_orbits\\GFZ0MGXRAP_20251690000_01D_05M_ORB.SP3 file is read in 0.98 seconds\n",
      "This file does not exist: C:\\Users\\varga\\Box\\Data\\nc Files\\PACQUI\\aux_orbits\\GFZ0MGXRAP_20251700000_01D_05M_ORB.SP3\n",
      "Downloading: ftp://gssc.esa.int/gnss/products/2371//GFZ0MGXRAP_20251700000_01D_05M_ORB.SP3.gz"
     ]
    },
    {
     "name": "stderr",
     "output_type": "stream",
     "text": [
      "GFZ0MGXRAP_20251700000_01D_05M_ORB.SP3.gz: 1.04MB [00:03, 339kB/s]                             \n"
     ]
    },
    {
     "name": "stdout",
     "output_type": "stream",
     "text": [
      " | Download completed for ftp://gssc.esa.int/gnss/products/2371//GFZ0MGXRAP_20251700000_01D_05M_ORB.SP3.gz\n",
      "C:\\Users\\varga\\Box\\Data\\nc Files\\PACQUI\\aux_orbits\\GFZ0MGXRAP_20251700000_01D_05M_ORB.SP3 file is read in 9.08 seconds\n",
      "C:\\Users\\varga\\Box\\Data\\nc Files\\PACQUI\\aux_orbits\\GFZ0MGXRAP_20251690000_01D_30S_CLK.CLK exists | Reading...\n",
      "C:\\Users\\varga\\Box\\Data\\nc Files\\PACQUI\\aux_orbits\\GFZ0MGXRAP_20251690000_01D_30S_CLK.CLK file is read in 13.23 seconds\n",
      "This file does not exist: C:\\Users\\varga\\Box\\Data\\nc Files\\PACQUI\\aux_orbits\\GFZ0MGXRAP_20251700000_01D_30S_CLK.CLK\n",
      "Downloading: GFZ0MGXRAP_20251700000_01D_30S_CLK.CLK.gz"
     ]
    },
    {
     "name": "stderr",
     "output_type": "stream",
     "text": [
      "GFZ0MGXRAP_20251700000_01D_30S_CLK.CLK.gz: 4.79MB [00:03, 1.40MB/s]                            \n"
     ]
    },
    {
     "name": "stdout",
     "output_type": "stream",
     "text": [
      " | Download completed for GFZ0MGXRAP_20251700000_01D_30S_CLK.CLK.gz\n",
      "C:\\Users\\varga\\Box\\Data\\nc Files\\PACQUI\\aux_orbits\\GFZ0MGXRAP_20251700000_01D_30S_CLK.CLK file is read in 3.41 seconds\n",
      "SP3 interpolation is done in 5.89 seconds\n",
      "Saved 100621 individual observations in C:\\Users\\varga\\Box\\Data\\nc Files\\PACQUI\\processed\\PACQUI_raw_20250618145058.nc\n",
      "[OK] PACQUI_raw_20250618145058.25O\n",
      "Could not find any files matching the pattern C:\\Users\\varga\\Box\\Data\\nc Files\\PACQUI\\processed*.nc\n",
      "C:\\Users\\varga\\Box\\Data\\nc Files\\PACQUI\\PACQUI_raw_20250619145058.25O exists | Reading...\n",
      "Observation file  C:\\Users\\varga\\Box\\Data\\nc Files\\PACQUI\\PACQUI_raw_20250619145058.25O  is read in 3.10 seconds.\n",
      "Processing 100474 individual observations\n",
      "Calculating Azimuth and Elevation\n",
      "C:\\Users\\varga\\Box\\Data\\nc Files\\PACQUI\\aux_orbits\\GFZ0MGXRAP_20251700000_01D_05M_ORB.SP3 exists | Reading...\n",
      "C:\\Users\\varga\\Box\\Data\\nc Files\\PACQUI\\aux_orbits\\GFZ0MGXRAP_20251700000_01D_05M_ORB.SP3 file is read in 0.63 seconds\n",
      "This file does not exist: C:\\Users\\varga\\Box\\Data\\nc Files\\PACQUI\\aux_orbits\\GFZ0MGXRAP_20251710000_01D_05M_ORB.SP3\n",
      "Downloading: ftp://gssc.esa.int/gnss/products/2371//GFZ0MGXRAP_20251710000_01D_05M_ORB.SP3.gz"
     ]
    },
    {
     "name": "stderr",
     "output_type": "stream",
     "text": [
      "GFZ0MGXRAP_20251710000_01D_05M_ORB.SP3.gz: 1.05MB [00:03, 334kB/s]                             \n"
     ]
    },
    {
     "name": "stdout",
     "output_type": "stream",
     "text": [
      " | Download completed for ftp://gssc.esa.int/gnss/products/2371//GFZ0MGXRAP_20251710000_01D_05M_ORB.SP3.gz\n",
      "C:\\Users\\varga\\Box\\Data\\nc Files\\PACQUI\\aux_orbits\\GFZ0MGXRAP_20251710000_01D_05M_ORB.SP3 file is read in 4.60 seconds\n",
      "C:\\Users\\varga\\Box\\Data\\nc Files\\PACQUI\\aux_orbits\\GFZ0MGXRAP_20251700000_01D_30S_CLK.CLK exists | Reading...\n",
      "C:\\Users\\varga\\Box\\Data\\nc Files\\PACQUI\\aux_orbits\\GFZ0MGXRAP_20251700000_01D_30S_CLK.CLK file is read in 6.22 seconds\n",
      "This file does not exist: C:\\Users\\varga\\Box\\Data\\nc Files\\PACQUI\\aux_orbits\\GFZ0MGXRAP_20251710000_01D_30S_CLK.CLK\n",
      "Downloading: GFZ0MGXRAP_20251710000_01D_30S_CLK.CLK.gz"
     ]
    },
    {
     "name": "stderr",
     "output_type": "stream",
     "text": [
      "GFZ0MGXRAP_20251710000_01D_30S_CLK.CLK.gz: 4.83MB [00:04, 1.25MB/s]                            \n"
     ]
    },
    {
     "name": "stdout",
     "output_type": "stream",
     "text": [
      " | Download completed for GFZ0MGXRAP_20251710000_01D_30S_CLK.CLK.gz\n",
      "C:\\Users\\varga\\Box\\Data\\nc Files\\PACQUI\\aux_orbits\\GFZ0MGXRAP_20251710000_01D_30S_CLK.CLK file is read in 8.47 seconds\n",
      "SP3 interpolation is done in 3.60 seconds\n",
      "Saved 100474 individual observations in C:\\Users\\varga\\Box\\Data\\nc Files\\PACQUI\\processed\\PACQUI_raw_20250619145058.nc\n",
      "[OK] PACQUI_raw_20250619145058.25O\n",
      "Could not find any files matching the pattern C:\\Users\\varga\\Box\\Data\\nc Files\\PACQUI\\processed*.nc\n",
      "C:\\Users\\varga\\Box\\Data\\nc Files\\PACQUI\\PACQUI_raw_20250620145059.25O exists | Reading...\n",
      "Observation file  C:\\Users\\varga\\Box\\Data\\nc Files\\PACQUI\\PACQUI_raw_20250620145059.25O  is read in 5.35 seconds.\n",
      "Processing 99456 individual observations\n",
      "Calculating Azimuth and Elevation\n",
      "C:\\Users\\varga\\Box\\Data\\nc Files\\PACQUI\\aux_orbits\\GFZ0MGXRAP_20251710000_01D_05M_ORB.SP3 exists | Reading...\n",
      "C:\\Users\\varga\\Box\\Data\\nc Files\\PACQUI\\aux_orbits\\GFZ0MGXRAP_20251710000_01D_05M_ORB.SP3 file is read in 5.31 seconds\n",
      "This file does not exist: C:\\Users\\varga\\Box\\Data\\nc Files\\PACQUI\\aux_orbits\\GFZ0MGXRAP_20251720000_01D_05M_ORB.SP3\n",
      "Downloading: ftp://gssc.esa.int/gnss/products/2371//GFZ0MGXRAP_20251720000_01D_05M_ORB.SP3.gz"
     ]
    },
    {
     "name": "stderr",
     "output_type": "stream",
     "text": [
      "GFZ0MGXRAP_20251720000_01D_05M_ORB.SP3.gz: 1.05MB [00:03, 324kB/s]                             \n"
     ]
    },
    {
     "name": "stdout",
     "output_type": "stream",
     "text": [
      " | Download completed for ftp://gssc.esa.int/gnss/products/2371//GFZ0MGXRAP_20251720000_01D_05M_ORB.SP3.gz\n",
      "C:\\Users\\varga\\Box\\Data\\nc Files\\PACQUI\\aux_orbits\\GFZ0MGXRAP_20251720000_01D_05M_ORB.SP3 file is read in 9.62 seconds\n",
      "C:\\Users\\varga\\Box\\Data\\nc Files\\PACQUI\\aux_orbits\\GFZ0MGXRAP_20251710000_01D_30S_CLK.CLK exists | Reading...\n",
      "C:\\Users\\varga\\Box\\Data\\nc Files\\PACQUI\\aux_orbits\\GFZ0MGXRAP_20251710000_01D_30S_CLK.CLK file is read in 5.74 seconds\n",
      "This file does not exist: C:\\Users\\varga\\Box\\Data\\nc Files\\PACQUI\\aux_orbits\\GFZ0MGXRAP_20251720000_01D_30S_CLK.CLK\n",
      "Downloading: GFZ0MGXRAP_20251720000_01D_30S_CLK.CLK.gz"
     ]
    },
    {
     "name": "stderr",
     "output_type": "stream",
     "text": [
      "GFZ0MGXRAP_20251720000_01D_30S_CLK.CLK.gz: 4.83MB [00:03, 1.32MB/s]                            \n"
     ]
    },
    {
     "name": "stdout",
     "output_type": "stream",
     "text": [
      " | Download completed for GFZ0MGXRAP_20251720000_01D_30S_CLK.CLK.gz\n",
      "C:\\Users\\varga\\Box\\Data\\nc Files\\PACQUI\\aux_orbits\\GFZ0MGXRAP_20251720000_01D_30S_CLK.CLK file is read in 12.13 seconds\n",
      "SP3 interpolation is done in 5.31 seconds\n",
      "Saved 99456 individual observations in C:\\Users\\varga\\Box\\Data\\nc Files\\PACQUI\\processed\\PACQUI_raw_20250620145059.nc\n",
      "[OK] PACQUI_raw_20250620145059.25O\n",
      "Could not find any files matching the pattern C:\\Users\\varga\\Box\\Data\\nc Files\\PACQUI\\processed*.nc\n",
      "C:\\Users\\varga\\Box\\Data\\nc Files\\PACQUI\\PACQUI_raw_20250621145100.25O exists | Reading...\n",
      "Observation file  C:\\Users\\varga\\Box\\Data\\nc Files\\PACQUI\\PACQUI_raw_20250621145100.25O  is read in 9.38 seconds.\n",
      "Processing 100601 individual observations\n",
      "Calculating Azimuth and Elevation\n",
      "C:\\Users\\varga\\Box\\Data\\nc Files\\PACQUI\\aux_orbits\\GFZ0MGXRAP_20251720000_01D_05M_ORB.SP3 exists | Reading...\n",
      "C:\\Users\\varga\\Box\\Data\\nc Files\\PACQUI\\aux_orbits\\GFZ0MGXRAP_20251720000_01D_05M_ORB.SP3 file is read in 5.22 seconds\n",
      "This file does not exist: C:\\Users\\varga\\Box\\Data\\nc Files\\PACQUI\\aux_orbits\\GFZ0MGXRAP_20251730000_01D_05M_ORB.SP3\n",
      "Downloading: ftp://gssc.esa.int/gnss/products/2372//GFZ0MGXRAP_20251730000_01D_05M_ORB.SP3.gz"
     ]
    },
    {
     "name": "stderr",
     "output_type": "stream",
     "text": [
      "GFZ0MGXRAP_20251730000_01D_05M_ORB.SP3.gz: 1.05MB [00:03, 308kB/s]                             \n"
     ]
    },
    {
     "name": "stdout",
     "output_type": "stream",
     "text": [
      " | Download completed for ftp://gssc.esa.int/gnss/products/2372//GFZ0MGXRAP_20251730000_01D_05M_ORB.SP3.gz\n",
      "C:\\Users\\varga\\Box\\Data\\nc Files\\PACQUI\\aux_orbits\\GFZ0MGXRAP_20251730000_01D_05M_ORB.SP3 file is read in 5.47 seconds\n",
      "C:\\Users\\varga\\Box\\Data\\nc Files\\PACQUI\\aux_orbits\\GFZ0MGXRAP_20251720000_01D_30S_CLK.CLK exists | Reading...\n",
      "C:\\Users\\varga\\Box\\Data\\nc Files\\PACQUI\\aux_orbits\\GFZ0MGXRAP_20251720000_01D_30S_CLK.CLK file is read in 4.21 seconds\n",
      "This file does not exist: C:\\Users\\varga\\Box\\Data\\nc Files\\PACQUI\\aux_orbits\\GFZ0MGXRAP_20251730000_01D_30S_CLK.CLK\n",
      "Downloading: GFZ0MGXRAP_20251730000_01D_30S_CLK.CLK.gz"
     ]
    },
    {
     "name": "stderr",
     "output_type": "stream",
     "text": [
      "GFZ0MGXRAP_20251730000_01D_30S_CLK.CLK.gz: 4.86MB [00:03, 1.36MB/s]                            \n"
     ]
    },
    {
     "name": "stdout",
     "output_type": "stream",
     "text": [
      " | Download completed for GFZ0MGXRAP_20251730000_01D_30S_CLK.CLK.gz\n",
      "C:\\Users\\varga\\Box\\Data\\nc Files\\PACQUI\\aux_orbits\\GFZ0MGXRAP_20251730000_01D_30S_CLK.CLK file is read in 3.35 seconds\n",
      "SP3 interpolation is done in 13.39 seconds\n",
      "Saved 100601 individual observations in C:\\Users\\varga\\Box\\Data\\nc Files\\PACQUI\\processed\\PACQUI_raw_20250621145100.nc\n",
      "[OK] PACQUI_raw_20250621145100.25O\n",
      "Could not find any files matching the pattern C:\\Users\\varga\\Box\\Data\\nc Files\\PACQUI\\processed*.nc\n",
      "C:\\Users\\varga\\Box\\Data\\nc Files\\PACQUI\\PACQUI_raw_20250622145101.25O exists | Reading...\n",
      "Observation file  C:\\Users\\varga\\Box\\Data\\nc Files\\PACQUI\\PACQUI_raw_20250622145101.25O  is read in 2.06 seconds.\n",
      "Processing 100396 individual observations\n",
      "Calculating Azimuth and Elevation\n",
      "C:\\Users\\varga\\Box\\Data\\nc Files\\PACQUI\\aux_orbits\\GFZ0MGXRAP_20251730000_01D_05M_ORB.SP3 exists | Reading...\n",
      "C:\\Users\\varga\\Box\\Data\\nc Files\\PACQUI\\aux_orbits\\GFZ0MGXRAP_20251730000_01D_05M_ORB.SP3 file is read in 0.43 seconds\n",
      "This file does not exist: C:\\Users\\varga\\Box\\Data\\nc Files\\PACQUI\\aux_orbits\\GFZ0MGXRAP_20251740000_01D_05M_ORB.SP3\n",
      "Downloading: ftp://gssc.esa.int/gnss/products/2372//GFZ0MGXRAP_20251740000_01D_05M_ORB.SP3.gz"
     ]
    },
    {
     "name": "stderr",
     "output_type": "stream",
     "text": [
      "GFZ0MGXRAP_20251740000_01D_05M_ORB.SP3.gz: 1.05MB [00:03, 345kB/s]                             \n"
     ]
    },
    {
     "name": "stdout",
     "output_type": "stream",
     "text": [
      " | Download completed for ftp://gssc.esa.int/gnss/products/2372//GFZ0MGXRAP_20251740000_01D_05M_ORB.SP3.gz\n",
      "C:\\Users\\varga\\Box\\Data\\nc Files\\PACQUI\\aux_orbits\\GFZ0MGXRAP_20251740000_01D_05M_ORB.SP3 file is read in 3.71 seconds\n",
      "C:\\Users\\varga\\Box\\Data\\nc Files\\PACQUI\\aux_orbits\\GFZ0MGXRAP_20251730000_01D_30S_CLK.CLK exists | Reading...\n",
      "C:\\Users\\varga\\Box\\Data\\nc Files\\PACQUI\\aux_orbits\\GFZ0MGXRAP_20251730000_01D_30S_CLK.CLK file is read in 2.12 seconds\n",
      "This file does not exist: C:\\Users\\varga\\Box\\Data\\nc Files\\PACQUI\\aux_orbits\\GFZ0MGXRAP_20251740000_01D_30S_CLK.CLK\n",
      "Downloading: GFZ0MGXRAP_20251740000_01D_30S_CLK.CLK.gz"
     ]
    },
    {
     "name": "stderr",
     "output_type": "stream",
     "text": [
      "GFZ0MGXRAP_20251740000_01D_30S_CLK.CLK.gz: 4.80MB [00:03, 1.29MB/s]                            \n"
     ]
    },
    {
     "name": "stdout",
     "output_type": "stream",
     "text": [
      " | Download completed for GFZ0MGXRAP_20251740000_01D_30S_CLK.CLK.gz\n",
      "C:\\Users\\varga\\Box\\Data\\nc Files\\PACQUI\\aux_orbits\\GFZ0MGXRAP_20251740000_01D_30S_CLK.CLK file is read in 3.25 seconds\n",
      "SP3 interpolation is done in 4.16 seconds\n",
      "Saved 100396 individual observations in C:\\Users\\varga\\Box\\Data\\nc Files\\PACQUI\\processed\\PACQUI_raw_20250622145101.nc\n",
      "[OK] PACQUI_raw_20250622145101.25O\n",
      "Could not find any files matching the pattern C:\\Users\\varga\\Box\\Data\\nc Files\\PACQUI\\processed*.nc\n",
      "C:\\Users\\varga\\Box\\Data\\nc Files\\PACQUI\\PACQUI_raw_20250623145102.25O exists | Reading...\n",
      "Observation file  C:\\Users\\varga\\Box\\Data\\nc Files\\PACQUI\\PACQUI_raw_20250623145102.25O  is read in 3.02 seconds.\n",
      "Processing 97474 individual observations\n",
      "Calculating Azimuth and Elevation\n",
      "C:\\Users\\varga\\Box\\Data\\nc Files\\PACQUI\\aux_orbits\\GFZ0MGXRAP_20251740000_01D_05M_ORB.SP3 exists | Reading...\n",
      "C:\\Users\\varga\\Box\\Data\\nc Files\\PACQUI\\aux_orbits\\GFZ0MGXRAP_20251740000_01D_05M_ORB.SP3 file is read in 0.62 seconds\n",
      "This file does not exist: C:\\Users\\varga\\Box\\Data\\nc Files\\PACQUI\\aux_orbits\\GFZ0MGXRAP_20251750000_01D_05M_ORB.SP3\n",
      "Downloading: ftp://gssc.esa.int/gnss/products/2372//GFZ0MGXRAP_20251750000_01D_05M_ORB.SP3.gz"
     ]
    },
    {
     "name": "stderr",
     "output_type": "stream",
     "text": [
      "GFZ0MGXRAP_20251750000_01D_05M_ORB.SP3.gz: 1.05MB [00:03, 347kB/s]                             \n"
     ]
    },
    {
     "name": "stdout",
     "output_type": "stream",
     "text": [
      " | Download completed for ftp://gssc.esa.int/gnss/products/2372//GFZ0MGXRAP_20251750000_01D_05M_ORB.SP3.gz\n",
      "C:\\Users\\varga\\Box\\Data\\nc Files\\PACQUI\\aux_orbits\\GFZ0MGXRAP_20251750000_01D_05M_ORB.SP3 file is read in 3.91 seconds\n",
      "C:\\Users\\varga\\Box\\Data\\nc Files\\PACQUI\\aux_orbits\\GFZ0MGXRAP_20251740000_01D_30S_CLK.CLK exists | Reading...\n",
      "C:\\Users\\varga\\Box\\Data\\nc Files\\PACQUI\\aux_orbits\\GFZ0MGXRAP_20251740000_01D_30S_CLK.CLK file is read in 3.73 seconds\n",
      "This file does not exist: C:\\Users\\varga\\Box\\Data\\nc Files\\PACQUI\\aux_orbits\\GFZ0MGXRAP_20251750000_01D_30S_CLK.CLK\n",
      "Downloading: GFZ0MGXRAP_20251750000_01D_30S_CLK.CLK.gz"
     ]
    },
    {
     "name": "stderr",
     "output_type": "stream",
     "text": [
      "GFZ0MGXRAP_20251750000_01D_30S_CLK.CLK.gz: 4.80MB [00:03, 1.32MB/s]                            \n"
     ]
    },
    {
     "name": "stdout",
     "output_type": "stream",
     "text": [
      " | Download completed for GFZ0MGXRAP_20251750000_01D_30S_CLK.CLK.gz\n",
      "C:\\Users\\varga\\Box\\Data\\nc Files\\PACQUI\\aux_orbits\\GFZ0MGXRAP_20251750000_01D_30S_CLK.CLK file is read in 2.14 seconds\n",
      "SP3 interpolation is done in 3.63 seconds\n",
      "Saved 97474 individual observations in C:\\Users\\varga\\Box\\Data\\nc Files\\PACQUI\\processed\\PACQUI_raw_20250623145102.nc\n",
      "[OK] PACQUI_raw_20250623145102.25O\n",
      "Could not find any files matching the pattern C:\\Users\\varga\\Box\\Data\\nc Files\\PACQUI\\processed*.nc\n",
      "C:\\Users\\varga\\Box\\Data\\nc Files\\PACQUI\\PACQUI_raw_20250624145103.25O exists | Reading...\n",
      "Observation file  C:\\Users\\varga\\Box\\Data\\nc Files\\PACQUI\\PACQUI_raw_20250624145103.25O  is read in 3.38 seconds.\n",
      "Processing 100619 individual observations\n",
      "Calculating Azimuth and Elevation\n",
      "C:\\Users\\varga\\Box\\Data\\nc Files\\PACQUI\\aux_orbits\\GFZ0MGXRAP_20251750000_01D_05M_ORB.SP3 exists | Reading...\n",
      "C:\\Users\\varga\\Box\\Data\\nc Files\\PACQUI\\aux_orbits\\GFZ0MGXRAP_20251750000_01D_05M_ORB.SP3 file is read in 0.69 seconds\n",
      "This file does not exist: C:\\Users\\varga\\Box\\Data\\nc Files\\PACQUI\\aux_orbits\\GFZ0MGXRAP_20251760000_01D_05M_ORB.SP3\n",
      "Downloading: ftp://gssc.esa.int/gnss/products/2372//GFZ0MGXRAP_20251760000_01D_05M_ORB.SP3.gz"
     ]
    },
    {
     "name": "stderr",
     "output_type": "stream",
     "text": [
      "GFZ0MGXRAP_20251760000_01D_05M_ORB.SP3.gz: 1.05MB [00:03, 353kB/s]                             \n"
     ]
    },
    {
     "name": "stdout",
     "output_type": "stream",
     "text": [
      " | Download completed for ftp://gssc.esa.int/gnss/products/2372//GFZ0MGXRAP_20251760000_01D_05M_ORB.SP3.gz\n",
      "C:\\Users\\varga\\Box\\Data\\nc Files\\PACQUI\\aux_orbits\\GFZ0MGXRAP_20251760000_01D_05M_ORB.SP3 file is read in 3.88 seconds\n",
      "C:\\Users\\varga\\Box\\Data\\nc Files\\PACQUI\\aux_orbits\\GFZ0MGXRAP_20251750000_01D_30S_CLK.CLK exists | Reading...\n",
      "C:\\Users\\varga\\Box\\Data\\nc Files\\PACQUI\\aux_orbits\\GFZ0MGXRAP_20251750000_01D_30S_CLK.CLK file is read in 11.81 seconds\n",
      "This file does not exist: C:\\Users\\varga\\Box\\Data\\nc Files\\PACQUI\\aux_orbits\\GFZ0MGXRAP_20251760000_01D_30S_CLK.CLK\n",
      "Downloading: GFZ0MGXRAP_20251760000_01D_30S_CLK.CLK.gz"
     ]
    },
    {
     "name": "stderr",
     "output_type": "stream",
     "text": [
      "GFZ0MGXRAP_20251760000_01D_30S_CLK.CLK.gz: 4.85MB [00:03, 1.38MB/s]                            \n"
     ]
    },
    {
     "name": "stdout",
     "output_type": "stream",
     "text": [
      " | Download completed for GFZ0MGXRAP_20251760000_01D_30S_CLK.CLK.gz\n",
      "C:\\Users\\varga\\Box\\Data\\nc Files\\PACQUI\\aux_orbits\\GFZ0MGXRAP_20251760000_01D_30S_CLK.CLK file is read in 2.04 seconds\n",
      "SP3 interpolation is done in 2.63 seconds\n",
      "Saved 100619 individual observations in C:\\Users\\varga\\Box\\Data\\nc Files\\PACQUI\\processed\\PACQUI_raw_20250624145103.nc\n",
      "[OK] PACQUI_raw_20250624145103.25O\n",
      "Could not find any files matching the pattern C:\\Users\\varga\\Box\\Data\\nc Files\\PACQUI\\processed*.nc\n",
      "C:\\Users\\varga\\Box\\Data\\nc Files\\PACQUI\\PACQUI_raw_20250625145104.25O exists | Reading...\n",
      "Observation file  C:\\Users\\varga\\Box\\Data\\nc Files\\PACQUI\\PACQUI_raw_20250625145104.25O  is read in 3.26 seconds.\n",
      "Processing 101129 individual observations\n",
      "Calculating Azimuth and Elevation\n",
      "C:\\Users\\varga\\Box\\Data\\nc Files\\PACQUI\\aux_orbits\\GFZ0MGXRAP_20251760000_01D_05M_ORB.SP3 exists | Reading...\n",
      "C:\\Users\\varga\\Box\\Data\\nc Files\\PACQUI\\aux_orbits\\GFZ0MGXRAP_20251760000_01D_05M_ORB.SP3 file is read in 0.71 seconds\n",
      "This file does not exist: C:\\Users\\varga\\Box\\Data\\nc Files\\PACQUI\\aux_orbits\\GFZ0MGXRAP_20251770000_01D_05M_ORB.SP3\n",
      "Downloading: ftp://gssc.esa.int/gnss/products/2372//GFZ0MGXRAP_20251770000_01D_05M_ORB.SP3.gz"
     ]
    },
    {
     "name": "stderr",
     "output_type": "stream",
     "text": [
      "GFZ0MGXRAP_20251770000_01D_05M_ORB.SP3.gz: 1.05MB [00:03, 347kB/s]                             \n"
     ]
    },
    {
     "name": "stdout",
     "output_type": "stream",
     "text": [
      " | Download completed for ftp://gssc.esa.int/gnss/products/2372//GFZ0MGXRAP_20251770000_01D_05M_ORB.SP3.gz\n",
      "C:\\Users\\varga\\Box\\Data\\nc Files\\PACQUI\\aux_orbits\\GFZ0MGXRAP_20251770000_01D_05M_ORB.SP3 file is read in 3.92 seconds\n",
      "C:\\Users\\varga\\Box\\Data\\nc Files\\PACQUI\\aux_orbits\\GFZ0MGXRAP_20251760000_01D_30S_CLK.CLK exists | Reading...\n",
      "C:\\Users\\varga\\Box\\Data\\nc Files\\PACQUI\\aux_orbits\\GFZ0MGXRAP_20251760000_01D_30S_CLK.CLK file is read in 2.96 seconds\n",
      "This file does not exist: C:\\Users\\varga\\Box\\Data\\nc Files\\PACQUI\\aux_orbits\\GFZ0MGXRAP_20251770000_01D_30S_CLK.CLK\n",
      "Downloading: GFZ0MGXRAP_20251770000_01D_30S_CLK.CLK.gz"
     ]
    },
    {
     "name": "stderr",
     "output_type": "stream",
     "text": [
      "GFZ0MGXRAP_20251770000_01D_30S_CLK.CLK.gz: 4.84MB [00:03, 1.31MB/s]                            \n"
     ]
    },
    {
     "name": "stdout",
     "output_type": "stream",
     "text": [
      " | Download completed for GFZ0MGXRAP_20251770000_01D_30S_CLK.CLK.gz\n",
      "C:\\Users\\varga\\Box\\Data\\nc Files\\PACQUI\\aux_orbits\\GFZ0MGXRAP_20251770000_01D_30S_CLK.CLK file is read in 2.67 seconds\n",
      "SP3 interpolation is done in 3.75 seconds\n",
      "Saved 101129 individual observations in C:\\Users\\varga\\Box\\Data\\nc Files\\PACQUI\\processed\\PACQUI_raw_20250625145104.nc\n",
      "[OK] PACQUI_raw_20250625145104.25O\n",
      "Could not find any files matching the pattern C:\\Users\\varga\\Box\\Data\\nc Files\\PACQUI\\processed*.nc\n",
      "C:\\Users\\varga\\Box\\Data\\nc Files\\PACQUI\\PACQUI_raw_20250626145106.25O exists | Reading...\n",
      "Observation file  C:\\Users\\varga\\Box\\Data\\nc Files\\PACQUI\\PACQUI_raw_20250626145106.25O  is read in 8.00 seconds.\n",
      "Processing 97546 individual observations\n",
      "Calculating Azimuth and Elevation\n",
      "C:\\Users\\varga\\Box\\Data\\nc Files\\PACQUI\\aux_orbits\\GFZ0MGXRAP_20251770000_01D_05M_ORB.SP3 exists | Reading...\n",
      "C:\\Users\\varga\\Box\\Data\\nc Files\\PACQUI\\aux_orbits\\GFZ0MGXRAP_20251770000_01D_05M_ORB.SP3 file is read in 0.61 seconds\n",
      "This file does not exist: C:\\Users\\varga\\Box\\Data\\nc Files\\PACQUI\\aux_orbits\\GFZ0MGXRAP_20251780000_01D_05M_ORB.SP3\n",
      "Downloading: ftp://gssc.esa.int/gnss/products/2372//GFZ0MGXRAP_20251780000_01D_05M_ORB.SP3.gz"
     ]
    },
    {
     "name": "stderr",
     "output_type": "stream",
     "text": [
      "GFZ0MGXRAP_20251780000_01D_05M_ORB.SP3.gz: 1.05MB [00:03, 346kB/s]                             \n"
     ]
    },
    {
     "name": "stdout",
     "output_type": "stream",
     "text": [
      " | Download completed for ftp://gssc.esa.int/gnss/products/2372//GFZ0MGXRAP_20251780000_01D_05M_ORB.SP3.gz\n",
      "C:\\Users\\varga\\Box\\Data\\nc Files\\PACQUI\\aux_orbits\\GFZ0MGXRAP_20251780000_01D_05M_ORB.SP3 file is read in 3.73 seconds\n",
      "C:\\Users\\varga\\Box\\Data\\nc Files\\PACQUI\\aux_orbits\\GFZ0MGXRAP_20251770000_01D_30S_CLK.CLK exists | Reading...\n",
      "C:\\Users\\varga\\Box\\Data\\nc Files\\PACQUI\\aux_orbits\\GFZ0MGXRAP_20251770000_01D_30S_CLK.CLK file is read in 2.04 seconds\n",
      "This file does not exist: C:\\Users\\varga\\Box\\Data\\nc Files\\PACQUI\\aux_orbits\\GFZ0MGXRAP_20251780000_01D_30S_CLK.CLK\n",
      "Downloading: GFZ0MGXRAP_20251780000_01D_30S_CLK.CLK.gz"
     ]
    },
    {
     "name": "stderr",
     "output_type": "stream",
     "text": [
      "GFZ0MGXRAP_20251780000_01D_30S_CLK.CLK.gz: 4.86MB [00:05, 993kB/s]                             \n"
     ]
    },
    {
     "name": "stdout",
     "output_type": "stream",
     "text": [
      " | Download completed for GFZ0MGXRAP_20251780000_01D_30S_CLK.CLK.gz\n",
      "C:\\Users\\varga\\Box\\Data\\nc Files\\PACQUI\\aux_orbits\\GFZ0MGXRAP_20251780000_01D_30S_CLK.CLK file is read in 2.18 seconds\n",
      "SP3 interpolation is done in 2.53 seconds\n",
      "Saved 97546 individual observations in C:\\Users\\varga\\Box\\Data\\nc Files\\PACQUI\\processed\\PACQUI_raw_20250626145106.nc\n",
      "[OK] PACQUI_raw_20250626145106.25O\n",
      "Could not find any files matching the pattern C:\\Users\\varga\\Box\\Data\\nc Files\\PACQUI\\processed*.nc\n",
      "C:\\Users\\varga\\Box\\Data\\nc Files\\PACQUI\\PACQUI_raw_20250627145107.25O exists | Reading...\n",
      "Observation file  C:\\Users\\varga\\Box\\Data\\nc Files\\PACQUI\\PACQUI_raw_20250627145107.25O  is read in 3.42 seconds.\n",
      "Processing 100302 individual observations\n",
      "Calculating Azimuth and Elevation\n",
      "C:\\Users\\varga\\Box\\Data\\nc Files\\PACQUI\\aux_orbits\\GFZ0MGXRAP_20251780000_01D_05M_ORB.SP3 exists | Reading...\n",
      "C:\\Users\\varga\\Box\\Data\\nc Files\\PACQUI\\aux_orbits\\GFZ0MGXRAP_20251780000_01D_05M_ORB.SP3 file is read in 0.74 seconds\n",
      "This file does not exist: C:\\Users\\varga\\Box\\Data\\nc Files\\PACQUI\\aux_orbits\\GFZ0MGXRAP_20251790000_01D_05M_ORB.SP3\n",
      "Downloading: ftp://gssc.esa.int/gnss/products/2372//GFZ0MGXRAP_20251790000_01D_05M_ORB.SP3.gz"
     ]
    },
    {
     "name": "stderr",
     "output_type": "stream",
     "text": [
      "GFZ0MGXRAP_20251790000_01D_05M_ORB.SP3.gz: 1.05MB [00:03, 339kB/s]                             \n"
     ]
    },
    {
     "name": "stdout",
     "output_type": "stream",
     "text": [
      " | Download completed for ftp://gssc.esa.int/gnss/products/2372//GFZ0MGXRAP_20251790000_01D_05M_ORB.SP3.gz\n",
      "C:\\Users\\varga\\Box\\Data\\nc Files\\PACQUI\\aux_orbits\\GFZ0MGXRAP_20251790000_01D_05M_ORB.SP3 file is read in 3.93 seconds\n",
      "C:\\Users\\varga\\Box\\Data\\nc Files\\PACQUI\\aux_orbits\\GFZ0MGXRAP_20251780000_01D_30S_CLK.CLK exists | Reading...\n",
      "C:\\Users\\varga\\Box\\Data\\nc Files\\PACQUI\\aux_orbits\\GFZ0MGXRAP_20251780000_01D_30S_CLK.CLK file is read in 2.95 seconds\n",
      "This file does not exist: C:\\Users\\varga\\Box\\Data\\nc Files\\PACQUI\\aux_orbits\\GFZ0MGXRAP_20251790000_01D_30S_CLK.CLK\n",
      "Downloading: GFZ0MGXRAP_20251790000_01D_30S_CLK.CLK.gz"
     ]
    },
    {
     "name": "stderr",
     "output_type": "stream",
     "text": [
      "GFZ0MGXRAP_20251790000_01D_30S_CLK.CLK.gz: 4.84MB [00:05, 932kB/s]                             \n"
     ]
    },
    {
     "name": "stdout",
     "output_type": "stream",
     "text": [
      " | Download completed for GFZ0MGXRAP_20251790000_01D_30S_CLK.CLK.gz\n",
      "C:\\Users\\varga\\Box\\Data\\nc Files\\PACQUI\\aux_orbits\\GFZ0MGXRAP_20251790000_01D_30S_CLK.CLK file is read in 2.92 seconds\n",
      "SP3 interpolation is done in 3.62 seconds\n",
      "Saved 100302 individual observations in C:\\Users\\varga\\Box\\Data\\nc Files\\PACQUI\\processed\\PACQUI_raw_20250627145107.nc\n",
      "[OK] PACQUI_raw_20250627145107.25O\n",
      "Could not find any files matching the pattern C:\\Users\\varga\\Box\\Data\\nc Files\\PACQUI\\processed*.nc\n",
      "C:\\Users\\varga\\Box\\Data\\nc Files\\PACQUI\\PACQUI_raw_20250628145108.25O exists | Reading...\n",
      "Observation file  C:\\Users\\varga\\Box\\Data\\nc Files\\PACQUI\\PACQUI_raw_20250628145108.25O  is read in 2.04 seconds.\n",
      "Processing 100949 individual observations\n",
      "Calculating Azimuth and Elevation\n",
      "C:\\Users\\varga\\Box\\Data\\nc Files\\PACQUI\\aux_orbits\\GFZ0MGXRAP_20251790000_01D_05M_ORB.SP3 exists | Reading...\n",
      "C:\\Users\\varga\\Box\\Data\\nc Files\\PACQUI\\aux_orbits\\GFZ0MGXRAP_20251790000_01D_05M_ORB.SP3 file is read in 0.45 seconds\n",
      "This file does not exist: C:\\Users\\varga\\Box\\Data\\nc Files\\PACQUI\\aux_orbits\\GFZ0MGXRAP_20251800000_01D_05M_ORB.SP3\n",
      "Downloading: ftp://gssc.esa.int/gnss/products/2373//GFZ0MGXRAP_20251800000_01D_05M_ORB.SP3.gz"
     ]
    },
    {
     "name": "stderr",
     "output_type": "stream",
     "text": [
      "GFZ0MGXRAP_20251800000_01D_05M_ORB.SP3.gz: 1.05MB [00:03, 342kB/s]                             \n"
     ]
    },
    {
     "name": "stdout",
     "output_type": "stream",
     "text": [
      " | Download completed for ftp://gssc.esa.int/gnss/products/2373//GFZ0MGXRAP_20251800000_01D_05M_ORB.SP3.gz\n",
      "C:\\Users\\varga\\Box\\Data\\nc Files\\PACQUI\\aux_orbits\\GFZ0MGXRAP_20251800000_01D_05M_ORB.SP3 file is read in 3.94 seconds\n",
      "C:\\Users\\varga\\Box\\Data\\nc Files\\PACQUI\\aux_orbits\\GFZ0MGXRAP_20251790000_01D_30S_CLK.CLK exists | Reading...\n",
      "C:\\Users\\varga\\Box\\Data\\nc Files\\PACQUI\\aux_orbits\\GFZ0MGXRAP_20251790000_01D_30S_CLK.CLK file is read in 3.09 seconds\n",
      "This file does not exist: C:\\Users\\varga\\Box\\Data\\nc Files\\PACQUI\\aux_orbits\\GFZ0MGXRAP_20251800000_01D_30S_CLK.CLK\n",
      "Downloading: GFZ0MGXRAP_20251800000_01D_30S_CLK.CLK.gz"
     ]
    },
    {
     "name": "stderr",
     "output_type": "stream",
     "text": [
      "GFZ0MGXRAP_20251800000_01D_30S_CLK.CLK.gz: 4.82MB [00:03, 1.31MB/s]                            \n"
     ]
    },
    {
     "name": "stdout",
     "output_type": "stream",
     "text": [
      " | Download completed for GFZ0MGXRAP_20251800000_01D_30S_CLK.CLK.gz\n",
      "C:\\Users\\varga\\Box\\Data\\nc Files\\PACQUI\\aux_orbits\\GFZ0MGXRAP_20251800000_01D_30S_CLK.CLK file is read in 2.95 seconds\n",
      "SP3 interpolation is done in 12.26 seconds\n",
      "Saved 100949 individual observations in C:\\Users\\varga\\Box\\Data\\nc Files\\PACQUI\\processed\\PACQUI_raw_20250628145108.nc\n",
      "[OK] PACQUI_raw_20250628145108.25O\n",
      "Could not find any files matching the pattern C:\\Users\\varga\\Box\\Data\\nc Files\\PACQUI\\processed*.nc\n",
      "C:\\Users\\varga\\Box\\Data\\nc Files\\PACQUI\\PACQUI_raw_20250629145109.25O exists | Reading...\n",
      "Observation file  C:\\Users\\varga\\Box\\Data\\nc Files\\PACQUI\\PACQUI_raw_20250629145109.25O  is read in 2.05 seconds.\n",
      "Processing 99596 individual observations\n",
      "Calculating Azimuth and Elevation\n",
      "C:\\Users\\varga\\Box\\Data\\nc Files\\PACQUI\\aux_orbits\\GFZ0MGXRAP_20251800000_01D_05M_ORB.SP3 exists | Reading...\n",
      "C:\\Users\\varga\\Box\\Data\\nc Files\\PACQUI\\aux_orbits\\GFZ0MGXRAP_20251800000_01D_05M_ORB.SP3 file is read in 0.46 seconds\n",
      "This file does not exist: C:\\Users\\varga\\Box\\Data\\nc Files\\PACQUI\\aux_orbits\\GFZ0MGXRAP_20251810000_01D_05M_ORB.SP3\n",
      "Downloading: ftp://gssc.esa.int/gnss/products/2373//GFZ0MGXRAP_20251810000_01D_05M_ORB.SP3.gz"
     ]
    },
    {
     "name": "stderr",
     "output_type": "stream",
     "text": [
      "GFZ0MGXRAP_20251810000_01D_05M_ORB.SP3.gz: 1.04MB [00:03, 348kB/s]                             \n"
     ]
    },
    {
     "name": "stdout",
     "output_type": "stream",
     "text": [
      " | Download completed for ftp://gssc.esa.int/gnss/products/2373//GFZ0MGXRAP_20251810000_01D_05M_ORB.SP3.gz\n",
      "C:\\Users\\varga\\Box\\Data\\nc Files\\PACQUI\\aux_orbits\\GFZ0MGXRAP_20251810000_01D_05M_ORB.SP3 file is read in 3.62 seconds\n",
      "C:\\Users\\varga\\Box\\Data\\nc Files\\PACQUI\\aux_orbits\\GFZ0MGXRAP_20251800000_01D_30S_CLK.CLK exists | Reading...\n",
      "C:\\Users\\varga\\Box\\Data\\nc Files\\PACQUI\\aux_orbits\\GFZ0MGXRAP_20251800000_01D_30S_CLK.CLK file is read in 2.71 seconds\n",
      "This file does not exist: C:\\Users\\varga\\Box\\Data\\nc Files\\PACQUI\\aux_orbits\\GFZ0MGXRAP_20251810000_01D_30S_CLK.CLK\n",
      "Downloading: GFZ0MGXRAP_20251810000_01D_30S_CLK.CLK.gz"
     ]
    },
    {
     "name": "stderr",
     "output_type": "stream",
     "text": [
      "GFZ0MGXRAP_20251810000_01D_30S_CLK.CLK.gz: 4.78MB [00:03, 1.25MB/s]                            \n"
     ]
    },
    {
     "name": "stdout",
     "output_type": "stream",
     "text": [
      " | Download completed for GFZ0MGXRAP_20251810000_01D_30S_CLK.CLK.gz\n",
      "C:\\Users\\varga\\Box\\Data\\nc Files\\PACQUI\\aux_orbits\\GFZ0MGXRAP_20251810000_01D_30S_CLK.CLK file is read in 2.92 seconds\n",
      "SP3 interpolation is done in 3.93 seconds\n",
      "Saved 99596 individual observations in C:\\Users\\varga\\Box\\Data\\nc Files\\PACQUI\\processed\\PACQUI_raw_20250629145109.nc\n",
      "[OK] PACQUI_raw_20250629145109.25O\n",
      "Could not find any files matching the pattern C:\\Users\\varga\\Box\\Data\\nc Files\\PACQUI\\processed*.nc\n",
      "C:\\Users\\varga\\Box\\Data\\nc Files\\PACQUI\\PACQUI_raw_20250630145110.25O exists | Reading...\n",
      "Observation file  C:\\Users\\varga\\Box\\Data\\nc Files\\PACQUI\\PACQUI_raw_20250630145110.25O  is read in 2.71 seconds.\n",
      "Processing 97682 individual observations\n",
      "Calculating Azimuth and Elevation\n",
      "C:\\Users\\varga\\Box\\Data\\nc Files\\PACQUI\\aux_orbits\\GFZ0MGXRAP_20251810000_01D_05M_ORB.SP3 exists | Reading...\n",
      "C:\\Users\\varga\\Box\\Data\\nc Files\\PACQUI\\aux_orbits\\GFZ0MGXRAP_20251810000_01D_05M_ORB.SP3 file is read in 0.36 seconds\n",
      "This file does not exist: C:\\Users\\varga\\Box\\Data\\nc Files\\PACQUI\\aux_orbits\\GFZ0MGXRAP_20251820000_01D_05M_ORB.SP3\n",
      "Downloading: ftp://gssc.esa.int/gnss/products/2373//GFZ0MGXRAP_20251820000_01D_05M_ORB.SP3.gz"
     ]
    },
    {
     "name": "stderr",
     "output_type": "stream",
     "text": [
      "GFZ0MGXRAP_20251820000_01D_05M_ORB.SP3.gz: 1.03MB [00:03, 338kB/s]                             \n"
     ]
    },
    {
     "name": "stdout",
     "output_type": "stream",
     "text": [
      " | Download completed for ftp://gssc.esa.int/gnss/products/2373//GFZ0MGXRAP_20251820000_01D_05M_ORB.SP3.gz\n",
      "C:\\Users\\varga\\Box\\Data\\nc Files\\PACQUI\\aux_orbits\\GFZ0MGXRAP_20251820000_01D_05M_ORB.SP3 file is read in 3.97 seconds\n",
      "C:\\Users\\varga\\Box\\Data\\nc Files\\PACQUI\\aux_orbits\\GFZ0MGXRAP_20251810000_01D_30S_CLK.CLK exists | Reading...\n",
      "C:\\Users\\varga\\Box\\Data\\nc Files\\PACQUI\\aux_orbits\\GFZ0MGXRAP_20251810000_01D_30S_CLK.CLK file is read in 2.89 seconds\n",
      "This file does not exist: C:\\Users\\varga\\Box\\Data\\nc Files\\PACQUI\\aux_orbits\\GFZ0MGXRAP_20251820000_01D_30S_CLK.CLK\n",
      "Downloading: GFZ0MGXRAP_20251820000_01D_30S_CLK.CLK.gz"
     ]
    },
    {
     "name": "stderr",
     "output_type": "stream",
     "text": [
      "GFZ0MGXRAP_20251820000_01D_30S_CLK.CLK.gz: 4.75MB [00:04, 1.18MB/s]                            \n"
     ]
    },
    {
     "name": "stdout",
     "output_type": "stream",
     "text": [
      " | Download completed for GFZ0MGXRAP_20251820000_01D_30S_CLK.CLK.gz\n",
      "C:\\Users\\varga\\Box\\Data\\nc Files\\PACQUI\\aux_orbits\\GFZ0MGXRAP_20251820000_01D_30S_CLK.CLK file is read in 2.73 seconds\n",
      "SP3 interpolation is done in 2.87 seconds\n",
      "Saved 97682 individual observations in C:\\Users\\varga\\Box\\Data\\nc Files\\PACQUI\\processed\\PACQUI_raw_20250630145110.nc\n",
      "[OK] PACQUI_raw_20250630145110.25O\n",
      "Could not find any files matching the pattern C:\\Users\\varga\\Box\\Data\\nc Files\\PACQUI\\processed*.nc\n",
      "C:\\Users\\varga\\Box\\Data\\nc Files\\PACQUI\\PACQUI_raw_20250701145111.25O exists | Reading...\n",
      "Observation file  C:\\Users\\varga\\Box\\Data\\nc Files\\PACQUI\\PACQUI_raw_20250701145111.25O  is read in 2.06 seconds.\n",
      "Processing 100125 individual observations\n",
      "Calculating Azimuth and Elevation\n",
      "C:\\Users\\varga\\Box\\Data\\nc Files\\PACQUI\\aux_orbits\\GFZ0MGXRAP_20251820000_01D_05M_ORB.SP3 exists | Reading...\n",
      "C:\\Users\\varga\\Box\\Data\\nc Files\\PACQUI\\aux_orbits\\GFZ0MGXRAP_20251820000_01D_05M_ORB.SP3 file is read in 0.39 seconds\n",
      "This file does not exist: C:\\Users\\varga\\Box\\Data\\nc Files\\PACQUI\\aux_orbits\\GFZ0MGXRAP_20251830000_01D_05M_ORB.SP3\n",
      "Downloading: ftp://gssc.esa.int/gnss/products/2373//GFZ0MGXRAP_20251830000_01D_05M_ORB.SP3.gz"
     ]
    },
    {
     "name": "stderr",
     "output_type": "stream",
     "text": [
      "GFZ0MGXRAP_20251830000_01D_05M_ORB.SP3.gz: 1.05MB [00:03, 342kB/s]                             \n"
     ]
    },
    {
     "name": "stdout",
     "output_type": "stream",
     "text": [
      " | Download completed for ftp://gssc.esa.int/gnss/products/2373//GFZ0MGXRAP_20251830000_01D_05M_ORB.SP3.gz\n",
      "C:\\Users\\varga\\Box\\Data\\nc Files\\PACQUI\\aux_orbits\\GFZ0MGXRAP_20251830000_01D_05M_ORB.SP3 file is read in 3.98 seconds\n",
      "C:\\Users\\varga\\Box\\Data\\nc Files\\PACQUI\\aux_orbits\\GFZ0MGXRAP_20251820000_01D_30S_CLK.CLK exists | Reading...\n",
      "C:\\Users\\varga\\Box\\Data\\nc Files\\PACQUI\\aux_orbits\\GFZ0MGXRAP_20251820000_01D_30S_CLK.CLK file is read in 2.96 seconds\n",
      "This file does not exist: C:\\Users\\varga\\Box\\Data\\nc Files\\PACQUI\\aux_orbits\\GFZ0MGXRAP_20251830000_01D_30S_CLK.CLK\n",
      "Downloading: GFZ0MGXRAP_20251830000_01D_30S_CLK.CLK.gz"
     ]
    },
    {
     "name": "stderr",
     "output_type": "stream",
     "text": [
      "GFZ0MGXRAP_20251830000_01D_30S_CLK.CLK.gz: 4.82MB [00:03, 1.32MB/s]                            \n"
     ]
    },
    {
     "name": "stdout",
     "output_type": "stream",
     "text": [
      " | Download completed for GFZ0MGXRAP_20251830000_01D_30S_CLK.CLK.gz\n",
      "C:\\Users\\varga\\Box\\Data\\nc Files\\PACQUI\\aux_orbits\\GFZ0MGXRAP_20251830000_01D_30S_CLK.CLK file is read in 3.02 seconds\n",
      "SP3 interpolation is done in 4.15 seconds\n",
      "Saved 100125 individual observations in C:\\Users\\varga\\Box\\Data\\nc Files\\PACQUI\\processed\\PACQUI_raw_20250701145111.nc\n",
      "[OK] PACQUI_raw_20250701145111.25O\n",
      "Could not find any files matching the pattern C:\\Users\\varga\\Box\\Data\\nc Files\\PACQUI\\processed*.nc\n",
      "C:\\Users\\varga\\Box\\Data\\nc Files\\PACQUI\\PACQUI_raw_20250702145112.25O exists | Reading...\n",
      "Observation file  C:\\Users\\varga\\Box\\Data\\nc Files\\PACQUI\\PACQUI_raw_20250702145112.25O  is read in 3.50 seconds.\n",
      "Processing 100492 individual observations\n",
      "Calculating Azimuth and Elevation\n",
      "C:\\Users\\varga\\Box\\Data\\nc Files\\PACQUI\\aux_orbits\\GFZ0MGXRAP_20251830000_01D_05M_ORB.SP3 exists | Reading...\n",
      "C:\\Users\\varga\\Box\\Data\\nc Files\\PACQUI\\aux_orbits\\GFZ0MGXRAP_20251830000_01D_05M_ORB.SP3 file is read in 0.71 seconds\n",
      "This file does not exist: C:\\Users\\varga\\Box\\Data\\nc Files\\PACQUI\\aux_orbits\\GFZ0MGXRAP_20251840000_01D_05M_ORB.SP3\n",
      "Downloading: ftp://gssc.esa.int/gnss/products/2373//GFZ0MGXRAP_20251840000_01D_05M_ORB.SP3.gz"
     ]
    },
    {
     "name": "stderr",
     "output_type": "stream",
     "text": [
      "GFZ0MGXRAP_20251840000_01D_05M_ORB.SP3.gz: 1.04MB [00:03, 327kB/s]                             \n"
     ]
    },
    {
     "name": "stdout",
     "output_type": "stream",
     "text": [
      " | Download completed for ftp://gssc.esa.int/gnss/products/2373//GFZ0MGXRAP_20251840000_01D_05M_ORB.SP3.gz\n",
      "C:\\Users\\varga\\Box\\Data\\nc Files\\PACQUI\\aux_orbits\\GFZ0MGXRAP_20251840000_01D_05M_ORB.SP3 file is read in 7.18 seconds\n",
      "C:\\Users\\varga\\Box\\Data\\nc Files\\PACQUI\\aux_orbits\\GFZ0MGXRAP_20251830000_01D_30S_CLK.CLK exists | Reading...\n",
      "C:\\Users\\varga\\Box\\Data\\nc Files\\PACQUI\\aux_orbits\\GFZ0MGXRAP_20251830000_01D_30S_CLK.CLK file is read in 8.64 seconds\n",
      "This file does not exist: C:\\Users\\varga\\Box\\Data\\nc Files\\PACQUI\\aux_orbits\\GFZ0MGXRAP_20251840000_01D_30S_CLK.CLK\n",
      "Downloading: GFZ0MGXRAP_20251840000_01D_30S_CLK.CLK.gz"
     ]
    },
    {
     "name": "stderr",
     "output_type": "stream",
     "text": [
      "GFZ0MGXRAP_20251840000_01D_30S_CLK.CLK.gz: 4.77MB [00:03, 1.30MB/s]                            \n"
     ]
    },
    {
     "name": "stdout",
     "output_type": "stream",
     "text": [
      " | Download completed for GFZ0MGXRAP_20251840000_01D_30S_CLK.CLK.gz\n",
      "C:\\Users\\varga\\Box\\Data\\nc Files\\PACQUI\\aux_orbits\\GFZ0MGXRAP_20251840000_01D_30S_CLK.CLK file is read in 1.98 seconds\n",
      "SP3 interpolation is done in 2.59 seconds\n",
      "Saved 100492 individual observations in C:\\Users\\varga\\Box\\Data\\nc Files\\PACQUI\\processed\\PACQUI_raw_20250702145112.nc\n",
      "[OK] PACQUI_raw_20250702145112.25O\n",
      "Could not find any files matching the pattern C:\\Users\\varga\\Box\\Data\\nc Files\\PACQUI\\processed*.nc\n",
      "C:\\Users\\varga\\Box\\Data\\nc Files\\PACQUI\\PACQUI_raw_20250703145112.25O exists | Reading...\n",
      "Observation file  C:\\Users\\varga\\Box\\Data\\nc Files\\PACQUI\\PACQUI_raw_20250703145112.25O  is read in 2.45 seconds.\n",
      "Processing 97756 individual observations\n",
      "Calculating Azimuth and Elevation\n",
      "C:\\Users\\varga\\Box\\Data\\nc Files\\PACQUI\\aux_orbits\\GFZ0MGXRAP_20251840000_01D_05M_ORB.SP3 exists | Reading...\n",
      "C:\\Users\\varga\\Box\\Data\\nc Files\\PACQUI\\aux_orbits\\GFZ0MGXRAP_20251840000_01D_05M_ORB.SP3 file is read in 0.75 seconds\n",
      "This file does not exist: C:\\Users\\varga\\Box\\Data\\nc Files\\PACQUI\\aux_orbits\\GFZ0MGXRAP_20251850000_01D_05M_ORB.SP3\n",
      "Downloading: ftp://gssc.esa.int/gnss/products/2373//GFZ0MGXRAP_20251850000_01D_05M_ORB.SP3.gz"
     ]
    },
    {
     "name": "stderr",
     "output_type": "stream",
     "text": [
      "GFZ0MGXRAP_20251850000_01D_05M_ORB.SP3.gz: 1.04MB [00:03, 346kB/s]                             \n"
     ]
    },
    {
     "name": "stdout",
     "output_type": "stream",
     "text": [
      " | Download completed for ftp://gssc.esa.int/gnss/products/2373//GFZ0MGXRAP_20251850000_01D_05M_ORB.SP3.gz\n",
      "C:\\Users\\varga\\Box\\Data\\nc Files\\PACQUI\\aux_orbits\\GFZ0MGXRAP_20251850000_01D_05M_ORB.SP3 file is read in 3.88 seconds\n",
      "C:\\Users\\varga\\Box\\Data\\nc Files\\PACQUI\\aux_orbits\\GFZ0MGXRAP_20251840000_01D_30S_CLK.CLK exists | Reading...\n",
      "C:\\Users\\varga\\Box\\Data\\nc Files\\PACQUI\\aux_orbits\\GFZ0MGXRAP_20251840000_01D_30S_CLK.CLK file is read in 3.50 seconds\n",
      "This file does not exist: C:\\Users\\varga\\Box\\Data\\nc Files\\PACQUI\\aux_orbits\\GFZ0MGXRAP_20251850000_01D_30S_CLK.CLK\n",
      "Downloading: GFZ0MGXRAP_20251850000_01D_30S_CLK.CLK.gz"
     ]
    },
    {
     "name": "stderr",
     "output_type": "stream",
     "text": [
      "GFZ0MGXRAP_20251850000_01D_30S_CLK.CLK.gz: 4.79MB [00:03, 1.36MB/s]                            \n"
     ]
    },
    {
     "name": "stdout",
     "output_type": "stream",
     "text": [
      " | Download completed for GFZ0MGXRAP_20251850000_01D_30S_CLK.CLK.gz\n",
      "C:\\Users\\varga\\Box\\Data\\nc Files\\PACQUI\\aux_orbits\\GFZ0MGXRAP_20251850000_01D_30S_CLK.CLK file is read in 3.56 seconds\n",
      "SP3 interpolation is done in 11.70 seconds\n",
      "Saved 97756 individual observations in C:\\Users\\varga\\Box\\Data\\nc Files\\PACQUI\\processed\\PACQUI_raw_20250703145112.nc\n",
      "[OK] PACQUI_raw_20250703145112.25O\n",
      "Could not find any files matching the pattern C:\\Users\\varga\\Box\\Data\\nc Files\\PACQUI\\processed*.nc\n",
      "C:\\Users\\varga\\Box\\Data\\nc Files\\PACQUI\\PACQUI_raw_20250704145114.25O exists | Reading...\n",
      "Observation file  C:\\Users\\varga\\Box\\Data\\nc Files\\PACQUI\\PACQUI_raw_20250704145114.25O  is read in 2.10 seconds.\n",
      "Processing 99778 individual observations\n",
      "Calculating Azimuth and Elevation\n",
      "C:\\Users\\varga\\Box\\Data\\nc Files\\PACQUI\\aux_orbits\\GFZ0MGXRAP_20251850000_01D_05M_ORB.SP3 exists | Reading...\n",
      "C:\\Users\\varga\\Box\\Data\\nc Files\\PACQUI\\aux_orbits\\GFZ0MGXRAP_20251850000_01D_05M_ORB.SP3 file is read in 0.47 seconds\n",
      "This file does not exist: C:\\Users\\varga\\Box\\Data\\nc Files\\PACQUI\\aux_orbits\\GFZ0MGXRAP_20251860000_01D_05M_ORB.SP3\n",
      "Downloading: ftp://gssc.esa.int/gnss/products/2373//GFZ0MGXRAP_20251860000_01D_05M_ORB.SP3.gz"
     ]
    },
    {
     "name": "stderr",
     "output_type": "stream",
     "text": [
      "GFZ0MGXRAP_20251860000_01D_05M_ORB.SP3.gz: 1.05MB [00:03, 342kB/s]                             \n"
     ]
    },
    {
     "name": "stdout",
     "output_type": "stream",
     "text": [
      " | Download completed for ftp://gssc.esa.int/gnss/products/2373//GFZ0MGXRAP_20251860000_01D_05M_ORB.SP3.gz\n",
      "C:\\Users\\varga\\Box\\Data\\nc Files\\PACQUI\\aux_orbits\\GFZ0MGXRAP_20251860000_01D_05M_ORB.SP3 file is read in 4.01 seconds\n",
      "C:\\Users\\varga\\Box\\Data\\nc Files\\PACQUI\\aux_orbits\\GFZ0MGXRAP_20251850000_01D_30S_CLK.CLK exists | Reading...\n",
      "C:\\Users\\varga\\Box\\Data\\nc Files\\PACQUI\\aux_orbits\\GFZ0MGXRAP_20251850000_01D_30S_CLK.CLK file is read in 2.83 seconds\n",
      "This file does not exist: C:\\Users\\varga\\Box\\Data\\nc Files\\PACQUI\\aux_orbits\\GFZ0MGXRAP_20251860000_01D_30S_CLK.CLK\n",
      "Downloading: GFZ0MGXRAP_20251860000_01D_30S_CLK.CLK.gz"
     ]
    },
    {
     "name": "stderr",
     "output_type": "stream",
     "text": [
      "GFZ0MGXRAP_20251860000_01D_30S_CLK.CLK.gz: 4.84MB [00:04, 1.26MB/s]                            \n"
     ]
    },
    {
     "name": "stdout",
     "output_type": "stream",
     "text": [
      " | Download completed for GFZ0MGXRAP_20251860000_01D_30S_CLK.CLK.gz\n",
      "C:\\Users\\varga\\Box\\Data\\nc Files\\PACQUI\\aux_orbits\\GFZ0MGXRAP_20251860000_01D_30S_CLK.CLK file is read in 2.29 seconds\n",
      "SP3 interpolation is done in 2.55 seconds\n",
      "Saved 99778 individual observations in C:\\Users\\varga\\Box\\Data\\nc Files\\PACQUI\\processed\\PACQUI_raw_20250704145114.nc\n",
      "[OK] PACQUI_raw_20250704145114.25O\n",
      "Could not find any files matching the pattern C:\\Users\\varga\\Box\\Data\\nc Files\\PACQUI\\processed*.nc\n",
      "C:\\Users\\varga\\Box\\Data\\nc Files\\PACQUI\\PACQUI_raw_20250705145115.25O exists | Reading...\n",
      "Observation file  C:\\Users\\varga\\Box\\Data\\nc Files\\PACQUI\\PACQUI_raw_20250705145115.25O  is read in 3.36 seconds.\n",
      "Processing 99251 individual observations\n",
      "Calculating Azimuth and Elevation\n",
      "C:\\Users\\varga\\Box\\Data\\nc Files\\PACQUI\\aux_orbits\\GFZ0MGXRAP_20251860000_01D_05M_ORB.SP3 exists | Reading...\n",
      "C:\\Users\\varga\\Box\\Data\\nc Files\\PACQUI\\aux_orbits\\GFZ0MGXRAP_20251860000_01D_05M_ORB.SP3 file is read in 0.70 seconds\n",
      "This file does not exist: C:\\Users\\varga\\Box\\Data\\nc Files\\PACQUI\\aux_orbits\\GFZ0MGXRAP_20251870000_01D_05M_ORB.SP3\n",
      "Downloading: ftp://gssc.esa.int/gnss/products/2374//GFZ0MGXRAP_20251870000_01D_05M_ORB.SP3.gz"
     ]
    },
    {
     "name": "stderr",
     "output_type": "stream",
     "text": [
      "GFZ0MGXRAP_20251870000_01D_05M_ORB.SP3.gz: 1.04MB [00:03, 342kB/s]                             \n"
     ]
    },
    {
     "name": "stdout",
     "output_type": "stream",
     "text": [
      " | Download completed for ftp://gssc.esa.int/gnss/products/2374//GFZ0MGXRAP_20251870000_01D_05M_ORB.SP3.gz\n",
      "C:\\Users\\varga\\Box\\Data\\nc Files\\PACQUI\\aux_orbits\\GFZ0MGXRAP_20251870000_01D_05M_ORB.SP3 file is read in 3.89 seconds\n",
      "C:\\Users\\varga\\Box\\Data\\nc Files\\PACQUI\\aux_orbits\\GFZ0MGXRAP_20251860000_01D_30S_CLK.CLK exists | Reading...\n",
      "C:\\Users\\varga\\Box\\Data\\nc Files\\PACQUI\\aux_orbits\\GFZ0MGXRAP_20251860000_01D_30S_CLK.CLK file is read in 3.02 seconds\n",
      "This file does not exist: C:\\Users\\varga\\Box\\Data\\nc Files\\PACQUI\\aux_orbits\\GFZ0MGXRAP_20251870000_01D_30S_CLK.CLK\n",
      "Downloading: GFZ0MGXRAP_20251870000_01D_30S_CLK.CLK.gz"
     ]
    },
    {
     "name": "stderr",
     "output_type": "stream",
     "text": [
      "GFZ0MGXRAP_20251870000_01D_30S_CLK.CLK.gz: 4.80MB [00:03, 1.32MB/s]                            \n"
     ]
    },
    {
     "name": "stdout",
     "output_type": "stream",
     "text": [
      " | Download completed for GFZ0MGXRAP_20251870000_01D_30S_CLK.CLK.gz\n",
      "C:\\Users\\varga\\Box\\Data\\nc Files\\PACQUI\\aux_orbits\\GFZ0MGXRAP_20251870000_01D_30S_CLK.CLK file is read in 2.79 seconds\n",
      "SP3 interpolation is done in 11.70 seconds\n",
      "Saved 99251 individual observations in C:\\Users\\varga\\Box\\Data\\nc Files\\PACQUI\\processed\\PACQUI_raw_20250705145115.nc\n",
      "[OK] PACQUI_raw_20250705145115.25O\n",
      "Could not find any files matching the pattern C:\\Users\\varga\\Box\\Data\\nc Files\\PACQUI\\processed*.nc\n",
      "C:\\Users\\varga\\Box\\Data\\nc Files\\PACQUI\\PACQUI_raw_20250706145116.25O exists | Reading...\n",
      "Observation file  C:\\Users\\varga\\Box\\Data\\nc Files\\PACQUI\\PACQUI_raw_20250706145116.25O  is read in 1.95 seconds.\n",
      "Processing 97529 individual observations\n",
      "Calculating Azimuth and Elevation\n",
      "C:\\Users\\varga\\Box\\Data\\nc Files\\PACQUI\\aux_orbits\\GFZ0MGXRAP_20251870000_01D_05M_ORB.SP3 exists | Reading...\n",
      "C:\\Users\\varga\\Box\\Data\\nc Files\\PACQUI\\aux_orbits\\GFZ0MGXRAP_20251870000_01D_05M_ORB.SP3 file is read in 0.45 seconds\n",
      "This file does not exist: C:\\Users\\varga\\Box\\Data\\nc Files\\PACQUI\\aux_orbits\\GFZ0MGXRAP_20251880000_01D_05M_ORB.SP3\n",
      "Downloading: ftp://gssc.esa.int/gnss/products/2374//GFZ0MGXRAP_20251880000_01D_05M_ORB.SP3.gz"
     ]
    },
    {
     "name": "stderr",
     "output_type": "stream",
     "text": [
      "GFZ0MGXRAP_20251880000_01D_05M_ORB.SP3.gz: 1.03MB [00:03, 344kB/s]                             \n"
     ]
    },
    {
     "name": "stdout",
     "output_type": "stream",
     "text": [
      " | Download completed for ftp://gssc.esa.int/gnss/products/2374//GFZ0MGXRAP_20251880000_01D_05M_ORB.SP3.gz\n",
      "C:\\Users\\varga\\Box\\Data\\nc Files\\PACQUI\\aux_orbits\\GFZ0MGXRAP_20251880000_01D_05M_ORB.SP3 file is read in 3.64 seconds\n",
      "C:\\Users\\varga\\Box\\Data\\nc Files\\PACQUI\\aux_orbits\\GFZ0MGXRAP_20251870000_01D_30S_CLK.CLK exists | Reading...\n",
      "C:\\Users\\varga\\Box\\Data\\nc Files\\PACQUI\\aux_orbits\\GFZ0MGXRAP_20251870000_01D_30S_CLK.CLK file is read in 2.79 seconds\n",
      "This file does not exist: C:\\Users\\varga\\Box\\Data\\nc Files\\PACQUI\\aux_orbits\\GFZ0MGXRAP_20251880000_01D_30S_CLK.CLK\n",
      "Downloading: GFZ0MGXRAP_20251880000_01D_30S_CLK.CLK.gz"
     ]
    },
    {
     "name": "stderr",
     "output_type": "stream",
     "text": [
      "GFZ0MGXRAP_20251880000_01D_30S_CLK.CLK.gz: 4.75MB [00:05, 963kB/s]                             \n"
     ]
    },
    {
     "name": "stdout",
     "output_type": "stream",
     "text": [
      " | Download completed for GFZ0MGXRAP_20251880000_01D_30S_CLK.CLK.gz\n",
      "C:\\Users\\varga\\Box\\Data\\nc Files\\PACQUI\\aux_orbits\\GFZ0MGXRAP_20251880000_01D_30S_CLK.CLK file is read in 2.76 seconds\n",
      "SP3 interpolation is done in 3.20 seconds\n",
      "Saved 97529 individual observations in C:\\Users\\varga\\Box\\Data\\nc Files\\PACQUI\\processed\\PACQUI_raw_20250706145116.nc\n",
      "[OK] PACQUI_raw_20250706145116.25O\n",
      "Could not find any files matching the pattern C:\\Users\\varga\\Box\\Data\\nc Files\\PACQUI\\processed*.nc\n",
      "C:\\Users\\varga\\Box\\Data\\nc Files\\PACQUI\\PACQUI_raw_20250707145116.25O exists | Reading...\n",
      "Observation file  C:\\Users\\varga\\Box\\Data\\nc Files\\PACQUI\\PACQUI_raw_20250707145116.25O  is read in 3.03 seconds.\n",
      "Processing 98777 individual observations\n",
      "Calculating Azimuth and Elevation\n",
      "C:\\Users\\varga\\Box\\Data\\nc Files\\PACQUI\\aux_orbits\\GFZ0MGXRAP_20251880000_01D_05M_ORB.SP3 exists | Reading...\n",
      "C:\\Users\\varga\\Box\\Data\\nc Files\\PACQUI\\aux_orbits\\GFZ0MGXRAP_20251880000_01D_05M_ORB.SP3 file is read in 0.70 seconds\n",
      "This file does not exist: C:\\Users\\varga\\Box\\Data\\nc Files\\PACQUI\\aux_orbits\\GFZ0MGXRAP_20251890000_01D_05M_ORB.SP3\n",
      "Downloading: ftp://gssc.esa.int/gnss/products/2374//GFZ0MGXRAP_20251890000_01D_05M_ORB.SP3.gz"
     ]
    },
    {
     "name": "stderr",
     "output_type": "stream",
     "text": [
      "GFZ0MGXRAP_20251890000_01D_05M_ORB.SP3.gz: 1.04MB [00:03, 350kB/s]                             \n"
     ]
    },
    {
     "name": "stdout",
     "output_type": "stream",
     "text": [
      " | Download completed for ftp://gssc.esa.int/gnss/products/2374//GFZ0MGXRAP_20251890000_01D_05M_ORB.SP3.gz\n",
      "C:\\Users\\varga\\Box\\Data\\nc Files\\PACQUI\\aux_orbits\\GFZ0MGXRAP_20251890000_01D_05M_ORB.SP3 file is read in 3.93 seconds\n",
      "C:\\Users\\varga\\Box\\Data\\nc Files\\PACQUI\\aux_orbits\\GFZ0MGXRAP_20251880000_01D_30S_CLK.CLK exists | Reading...\n",
      "C:\\Users\\varga\\Box\\Data\\nc Files\\PACQUI\\aux_orbits\\GFZ0MGXRAP_20251880000_01D_30S_CLK.CLK file is read in 2.80 seconds\n",
      "This file does not exist: C:\\Users\\varga\\Box\\Data\\nc Files\\PACQUI\\aux_orbits\\GFZ0MGXRAP_20251890000_01D_30S_CLK.CLK\n",
      "Downloading: GFZ0MGXRAP_20251890000_01D_30S_CLK.CLK.gz"
     ]
    },
    {
     "name": "stderr",
     "output_type": "stream",
     "text": [
      "GFZ0MGXRAP_20251890000_01D_30S_CLK.CLK.gz: 4.78MB [00:05, 911kB/s]                             \n"
     ]
    },
    {
     "name": "stdout",
     "output_type": "stream",
     "text": [
      " | Download completed for GFZ0MGXRAP_20251890000_01D_30S_CLK.CLK.gz\n",
      "C:\\Users\\varga\\Box\\Data\\nc Files\\PACQUI\\aux_orbits\\GFZ0MGXRAP_20251890000_01D_30S_CLK.CLK file is read in 5.14 seconds\n",
      "SP3 interpolation is done in 2.65 seconds\n",
      "Saved 98777 individual observations in C:\\Users\\varga\\Box\\Data\\nc Files\\PACQUI\\processed\\PACQUI_raw_20250707145116.nc\n",
      "[OK] PACQUI_raw_20250707145116.25O\n",
      "Could not find any files matching the pattern C:\\Users\\varga\\Box\\Data\\nc Files\\PACQUI\\processed*.nc\n",
      "C:\\Users\\varga\\Box\\Data\\nc Files\\PACQUI\\PACQUI_raw_20250708145117.25O exists | Reading...\n",
      "Observation file  C:\\Users\\varga\\Box\\Data\\nc Files\\PACQUI\\PACQUI_raw_20250708145117.25O  is read in 0.34 seconds.\n",
      "Processing 14841 individual observations\n",
      "Calculating Azimuth and Elevation\n",
      "C:\\Users\\varga\\Box\\Data\\nc Files\\PACQUI\\aux_orbits\\GFZ0MGXRAP_20251890000_01D_05M_ORB.SP3 exists | Reading...\n",
      "C:\\Users\\varga\\Box\\Data\\nc Files\\PACQUI\\aux_orbits\\GFZ0MGXRAP_20251890000_01D_05M_ORB.SP3 file is read in 0.42 seconds\n",
      "C:\\Users\\varga\\Box\\Data\\nc Files\\PACQUI\\aux_orbits\\GFZ0MGXRAP_20251890000_01D_30S_CLK.CLK exists | Reading...\n",
      "C:\\Users\\varga\\Box\\Data\\nc Files\\PACQUI\\aux_orbits\\GFZ0MGXRAP_20251890000_01D_30S_CLK.CLK file is read in 2.71 seconds\n",
      "SP3 interpolation is done in 1.93 seconds\n",
      "Saved 14841 individual observations in C:\\Users\\varga\\Box\\Data\\nc Files\\PACQUI\\processed\\PACQUI_raw_20250708145117.nc\n",
      "[OK] PACQUI_raw_20250708145117.25O\n",
      "Could not find any files matching the pattern C:\\Users\\varga\\Box\\Data\\nc Files\\PACQUI\\processed*.nc\n",
      "C:\\Users\\varga\\Box\\Data\\nc Files\\PACQUI\\PACQUI_raw_20250709225550.25O exists | Reading...\n",
      "Observation file  C:\\Users\\varga\\Box\\Data\\nc Files\\PACQUI\\PACQUI_raw_20250709225550.25O  is read in 3.35 seconds.\n",
      "Processing 99484 individual observations\n",
      "Calculating Azimuth and Elevation\n",
      "This file does not exist: C:\\Users\\varga\\Box\\Data\\nc Files\\PACQUI\\aux_orbits\\GFZ0MGXRAP_20251900000_01D_05M_ORB.SP3\n",
      "Downloading: ftp://gssc.esa.int/gnss/products/2374//GFZ0MGXRAP_20251900000_01D_05M_ORB.SP3.gz"
     ]
    },
    {
     "name": "stderr",
     "output_type": "stream",
     "text": [
      "GFZ0MGXRAP_20251900000_01D_05M_ORB.SP3.gz: 1.04MB [00:03, 350kB/s]                             \n"
     ]
    },
    {
     "name": "stdout",
     "output_type": "stream",
     "text": [
      " | Download completed for ftp://gssc.esa.int/gnss/products/2374//GFZ0MGXRAP_20251900000_01D_05M_ORB.SP3.gz\n",
      "C:\\Users\\varga\\Box\\Data\\nc Files\\PACQUI\\aux_orbits\\GFZ0MGXRAP_20251900000_01D_05M_ORB.SP3 file is read in 3.80 seconds\n",
      "This file does not exist: C:\\Users\\varga\\Box\\Data\\nc Files\\PACQUI\\aux_orbits\\GFZ0MGXRAP_20251910000_01D_05M_ORB.SP3\n",
      "Downloading: ftp://gssc.esa.int/gnss/products/2374//GFZ0MGXRAP_20251910000_01D_05M_ORB.SP3.gz"
     ]
    },
    {
     "name": "stderr",
     "output_type": "stream",
     "text": [
      "GFZ0MGXRAP_20251910000_01D_05M_ORB.SP3.gz: 1.02MB [00:03, 337kB/s]                             \n"
     ]
    },
    {
     "name": "stdout",
     "output_type": "stream",
     "text": [
      " | Download completed for ftp://gssc.esa.int/gnss/products/2374//GFZ0MGXRAP_20251910000_01D_05M_ORB.SP3.gz\n",
      "C:\\Users\\varga\\Box\\Data\\nc Files\\PACQUI\\aux_orbits\\GFZ0MGXRAP_20251910000_01D_05M_ORB.SP3 file is read in 4.05 seconds\n",
      "This file does not exist: C:\\Users\\varga\\Box\\Data\\nc Files\\PACQUI\\aux_orbits\\GFZ0MGXRAP_20251920000_01D_05M_ORB.SP3\n",
      "Downloading: ftp://gssc.esa.int/gnss/products/2374//GFZ0MGXRAP_20251920000_01D_05M_ORB.SP3.gz"
     ]
    },
    {
     "name": "stderr",
     "output_type": "stream",
     "text": [
      "GFZ0MGXRAP_20251920000_01D_05M_ORB.SP3.gz: 1.02MB [00:03, 328kB/s]                             \n"
     ]
    },
    {
     "name": "stdout",
     "output_type": "stream",
     "text": [
      " | Download completed for ftp://gssc.esa.int/gnss/products/2374//GFZ0MGXRAP_20251920000_01D_05M_ORB.SP3.gz\n",
      "C:\\Users\\varga\\Box\\Data\\nc Files\\PACQUI\\aux_orbits\\GFZ0MGXRAP_20251920000_01D_05M_ORB.SP3 file is read in 5.10 seconds\n",
      "This file does not exist: C:\\Users\\varga\\Box\\Data\\nc Files\\PACQUI\\aux_orbits\\GFZ0MGXRAP_20251900000_01D_30S_CLK.CLK\n",
      "Downloading: GFZ0MGXRAP_20251900000_01D_30S_CLK.CLK.gz"
     ]
    },
    {
     "name": "stderr",
     "output_type": "stream",
     "text": [
      "GFZ0MGXRAP_20251900000_01D_30S_CLK.CLK.gz: 4.79MB [00:03, 1.32MB/s]                            \n"
     ]
    },
    {
     "name": "stdout",
     "output_type": "stream",
     "text": [
      " | Download completed for GFZ0MGXRAP_20251900000_01D_30S_CLK.CLK.gz\n",
      "C:\\Users\\varga\\Box\\Data\\nc Files\\PACQUI\\aux_orbits\\GFZ0MGXRAP_20251900000_01D_30S_CLK.CLK file is read in 1.97 seconds\n",
      "This file does not exist: C:\\Users\\varga\\Box\\Data\\nc Files\\PACQUI\\aux_orbits\\GFZ0MGXRAP_20251910000_01D_30S_CLK.CLK\n",
      "Downloading: GFZ0MGXRAP_20251910000_01D_30S_CLK.CLK.gz"
     ]
    },
    {
     "name": "stderr",
     "output_type": "stream",
     "text": [
      "GFZ0MGXRAP_20251910000_01D_30S_CLK.CLK.gz: 4.72MB [00:06, 727kB/s]                             \n"
     ]
    },
    {
     "name": "stdout",
     "output_type": "stream",
     "text": [
      " | Download completed for GFZ0MGXRAP_20251910000_01D_30S_CLK.CLK.gz\n",
      "C:\\Users\\varga\\Box\\Data\\nc Files\\PACQUI\\aux_orbits\\GFZ0MGXRAP_20251910000_01D_30S_CLK.CLK file is read in 1.97 seconds\n",
      "This file does not exist: C:\\Users\\varga\\Box\\Data\\nc Files\\PACQUI\\aux_orbits\\GFZ0MGXRAP_20251920000_01D_30S_CLK.CLK\n",
      "Downloading: GFZ0MGXRAP_20251920000_01D_30S_CLK.CLK.gz"
     ]
    },
    {
     "name": "stderr",
     "output_type": "stream",
     "text": [
      "GFZ0MGXRAP_20251920000_01D_30S_CLK.CLK.gz: 4.75MB [00:04, 1.17MB/s]                            \n"
     ]
    },
    {
     "name": "stdout",
     "output_type": "stream",
     "text": [
      " | Download completed for GFZ0MGXRAP_20251920000_01D_30S_CLK.CLK.gz\n",
      "C:\\Users\\varga\\Box\\Data\\nc Files\\PACQUI\\aux_orbits\\GFZ0MGXRAP_20251920000_01D_30S_CLK.CLK file is read in 2.11 seconds\n",
      "SP3 interpolation is done in 3.14 seconds\n",
      "Saved 99484 individual observations in C:\\Users\\varga\\Box\\Data\\nc Files\\PACQUI\\processed\\PACQUI_raw_20250709225550.nc\n",
      "[OK] PACQUI_raw_20250709225550.25O\n",
      "Could not find any files matching the pattern C:\\Users\\varga\\Box\\Data\\nc Files\\PACQUI\\processed*.nc\n",
      "C:\\Users\\varga\\Box\\Data\\nc Files\\PACQUI\\PACQUI_raw_20250710225550.25O exists | Reading...\n",
      "Observation file  C:\\Users\\varga\\Box\\Data\\nc Files\\PACQUI\\PACQUI_raw_20250710225550.25O  is read in 3.35 seconds.\n",
      "Processing 97886 individual observations\n",
      "Calculating Azimuth and Elevation\n",
      "C:\\Users\\varga\\Box\\Data\\nc Files\\PACQUI\\aux_orbits\\GFZ0MGXRAP_20251910000_01D_05M_ORB.SP3 exists | Reading...\n",
      "C:\\Users\\varga\\Box\\Data\\nc Files\\PACQUI\\aux_orbits\\GFZ0MGXRAP_20251910000_01D_05M_ORB.SP3 file is read in 0.61 seconds\n",
      "C:\\Users\\varga\\Box\\Data\\nc Files\\PACQUI\\aux_orbits\\GFZ0MGXRAP_20251920000_01D_05M_ORB.SP3 exists | Reading...\n",
      "C:\\Users\\varga\\Box\\Data\\nc Files\\PACQUI\\aux_orbits\\GFZ0MGXRAP_20251920000_01D_05M_ORB.SP3 file is read in 0.63 seconds\n",
      "This file does not exist: C:\\Users\\varga\\Box\\Data\\nc Files\\PACQUI\\aux_orbits\\GFZ0MGXRAP_20251930000_01D_05M_ORB.SP3\n",
      "Downloading: ftp://gssc.esa.int/gnss/products/2374//GFZ0MGXRAP_20251930000_01D_05M_ORB.SP3.gz"
     ]
    },
    {
     "name": "stderr",
     "output_type": "stream",
     "text": [
      "GFZ0MGXRAP_20251930000_01D_05M_ORB.SP3.gz: 1.03MB [00:03, 345kB/s]                             \n"
     ]
    },
    {
     "name": "stdout",
     "output_type": "stream",
     "text": [
      " | Download completed for ftp://gssc.esa.int/gnss/products/2374//GFZ0MGXRAP_20251930000_01D_05M_ORB.SP3.gz\n",
      "C:\\Users\\varga\\Box\\Data\\nc Files\\PACQUI\\aux_orbits\\GFZ0MGXRAP_20251930000_01D_05M_ORB.SP3 file is read in 3.88 seconds\n",
      "C:\\Users\\varga\\Box\\Data\\nc Files\\PACQUI\\aux_orbits\\GFZ0MGXRAP_20251910000_01D_30S_CLK.CLK exists | Reading...\n",
      "C:\\Users\\varga\\Box\\Data\\nc Files\\PACQUI\\aux_orbits\\GFZ0MGXRAP_20251910000_01D_30S_CLK.CLK file is read in 2.86 seconds\n",
      "C:\\Users\\varga\\Box\\Data\\nc Files\\PACQUI\\aux_orbits\\GFZ0MGXRAP_20251920000_01D_30S_CLK.CLK exists | Reading...\n",
      "C:\\Users\\varga\\Box\\Data\\nc Files\\PACQUI\\aux_orbits\\GFZ0MGXRAP_20251920000_01D_30S_CLK.CLK file is read in 2.87 seconds\n",
      "This file does not exist: C:\\Users\\varga\\Box\\Data\\nc Files\\PACQUI\\aux_orbits\\GFZ0MGXRAP_20251930000_01D_30S_CLK.CLK\n",
      "Downloading: GFZ0MGXRAP_20251930000_01D_30S_CLK.CLK.gz"
     ]
    },
    {
     "name": "stderr",
     "output_type": "stream",
     "text": [
      "GFZ0MGXRAP_20251930000_01D_30S_CLK.CLK.gz: 4.78MB [00:03, 1.33MB/s]                            \n"
     ]
    },
    {
     "name": "stdout",
     "output_type": "stream",
     "text": [
      " | Download completed for GFZ0MGXRAP_20251930000_01D_30S_CLK.CLK.gz\n",
      "C:\\Users\\varga\\Box\\Data\\nc Files\\PACQUI\\aux_orbits\\GFZ0MGXRAP_20251930000_01D_30S_CLK.CLK file is read in 3.01 seconds\n",
      "SP3 interpolation is done in 4.52 seconds\n",
      "Saved 97886 individual observations in C:\\Users\\varga\\Box\\Data\\nc Files\\PACQUI\\processed\\PACQUI_raw_20250710225550.nc\n",
      "[OK] PACQUI_raw_20250710225550.25O\n",
      "Could not find any files matching the pattern C:\\Users\\varga\\Box\\Data\\nc Files\\PACQUI\\processed*.nc\n",
      "C:\\Users\\varga\\Box\\Data\\nc Files\\PACQUI\\PACQUI_raw_20250711225551.25O exists | Reading...\n",
      "Observation file  C:\\Users\\varga\\Box\\Data\\nc Files\\PACQUI\\PACQUI_raw_20250711225551.25O  is read in 2.29 seconds.\n",
      "Processing 98939 individual observations\n",
      "Calculating Azimuth and Elevation\n",
      "C:\\Users\\varga\\Box\\Data\\nc Files\\PACQUI\\aux_orbits\\GFZ0MGXRAP_20251920000_01D_05M_ORB.SP3 exists | Reading...\n",
      "C:\\Users\\varga\\Box\\Data\\nc Files\\PACQUI\\aux_orbits\\GFZ0MGXRAP_20251920000_01D_05M_ORB.SP3 file is read in 0.43 seconds\n",
      "C:\\Users\\varga\\Box\\Data\\nc Files\\PACQUI\\aux_orbits\\GFZ0MGXRAP_20251930000_01D_05M_ORB.SP3 exists | Reading...\n",
      "C:\\Users\\varga\\Box\\Data\\nc Files\\PACQUI\\aux_orbits\\GFZ0MGXRAP_20251930000_01D_05M_ORB.SP3 file is read in 0.36 seconds\n",
      "This file does not exist: C:\\Users\\varga\\Box\\Data\\nc Files\\PACQUI\\aux_orbits\\GFZ0MGXRAP_20251940000_01D_05M_ORB.SP3\n",
      "Downloading: ftp://gssc.esa.int/gnss/products/2375//GFZ0MGXRAP_20251940000_01D_05M_ORB.SP3.gz"
     ]
    },
    {
     "name": "stderr",
     "output_type": "stream",
     "text": [
      "GFZ0MGXRAP_20251940000_01D_05M_ORB.SP3.gz: 1.04MB [00:03, 343kB/s]                             \n"
     ]
    },
    {
     "name": "stdout",
     "output_type": "stream",
     "text": [
      " | Download completed for ftp://gssc.esa.int/gnss/products/2375//GFZ0MGXRAP_20251940000_01D_05M_ORB.SP3.gz\n",
      "C:\\Users\\varga\\Box\\Data\\nc Files\\PACQUI\\aux_orbits\\GFZ0MGXRAP_20251940000_01D_05M_ORB.SP3 file is read in 4.08 seconds\n",
      "C:\\Users\\varga\\Box\\Data\\nc Files\\PACQUI\\aux_orbits\\GFZ0MGXRAP_20251920000_01D_30S_CLK.CLK exists | Reading...\n",
      "C:\\Users\\varga\\Box\\Data\\nc Files\\PACQUI\\aux_orbits\\GFZ0MGXRAP_20251920000_01D_30S_CLK.CLK file is read in 2.73 seconds\n",
      "C:\\Users\\varga\\Box\\Data\\nc Files\\PACQUI\\aux_orbits\\GFZ0MGXRAP_20251930000_01D_30S_CLK.CLK exists | Reading...\n",
      "C:\\Users\\varga\\Box\\Data\\nc Files\\PACQUI\\aux_orbits\\GFZ0MGXRAP_20251930000_01D_30S_CLK.CLK file is read in 3.02 seconds\n",
      "This file does not exist: C:\\Users\\varga\\Box\\Data\\nc Files\\PACQUI\\aux_orbits\\GFZ0MGXRAP_20251940000_01D_30S_CLK.CLK\n",
      "Downloading: GFZ0MGXRAP_20251940000_01D_30S_CLK.CLK.gz"
     ]
    },
    {
     "name": "stderr",
     "output_type": "stream",
     "text": [
      "GFZ0MGXRAP_20251940000_01D_30S_CLK.CLK.gz: 4.82MB [00:03, 1.38MB/s]                            \n"
     ]
    },
    {
     "name": "stdout",
     "output_type": "stream",
     "text": [
      " | Download completed for GFZ0MGXRAP_20251940000_01D_30S_CLK.CLK.gz\n",
      "C:\\Users\\varga\\Box\\Data\\nc Files\\PACQUI\\aux_orbits\\GFZ0MGXRAP_20251940000_01D_30S_CLK.CLK file is read in 6.55 seconds\n",
      "SP3 interpolation is done in 4.36 seconds\n",
      "Saved 98939 individual observations in C:\\Users\\varga\\Box\\Data\\nc Files\\PACQUI\\processed\\PACQUI_raw_20250711225551.nc\n",
      "[OK] PACQUI_raw_20250711225551.25O\n",
      "Could not find any files matching the pattern C:\\Users\\varga\\Box\\Data\\nc Files\\PACQUI\\processed*.nc\n",
      "C:\\Users\\varga\\Box\\Data\\nc Files\\PACQUI\\PACQUI_raw_20250712225552.25O exists | Reading...\n",
      "Observation file  C:\\Users\\varga\\Box\\Data\\nc Files\\PACQUI\\PACQUI_raw_20250712225552.25O  is read in 2.07 seconds.\n",
      "Processing 99906 individual observations\n",
      "Calculating Azimuth and Elevation\n",
      "C:\\Users\\varga\\Box\\Data\\nc Files\\PACQUI\\aux_orbits\\GFZ0MGXRAP_20251930000_01D_05M_ORB.SP3 exists | Reading...\n",
      "C:\\Users\\varga\\Box\\Data\\nc Files\\PACQUI\\aux_orbits\\GFZ0MGXRAP_20251930000_01D_05M_ORB.SP3 file is read in 0.59 seconds\n",
      "C:\\Users\\varga\\Box\\Data\\nc Files\\PACQUI\\aux_orbits\\GFZ0MGXRAP_20251940000_01D_05M_ORB.SP3 exists | Reading...\n",
      "C:\\Users\\varga\\Box\\Data\\nc Files\\PACQUI\\aux_orbits\\GFZ0MGXRAP_20251940000_01D_05M_ORB.SP3 file is read in 0.63 seconds\n",
      "This file does not exist: C:\\Users\\varga\\Box\\Data\\nc Files\\PACQUI\\aux_orbits\\GFZ0MGXRAP_20251950000_01D_05M_ORB.SP3\n",
      "Downloading: ftp://gssc.esa.int/gnss/products/2375//GFZ0MGXRAP_20251950000_01D_05M_ORB.SP3.gz"
     ]
    },
    {
     "name": "stderr",
     "output_type": "stream",
     "text": [
      "GFZ0MGXRAP_20251950000_01D_05M_ORB.SP3.gz: 1.05MB [00:03, 340kB/s]                             \n"
     ]
    },
    {
     "name": "stdout",
     "output_type": "stream",
     "text": [
      " | Download completed for ftp://gssc.esa.int/gnss/products/2375//GFZ0MGXRAP_20251950000_01D_05M_ORB.SP3.gz\n",
      "C:\\Users\\varga\\Box\\Data\\nc Files\\PACQUI\\aux_orbits\\GFZ0MGXRAP_20251950000_01D_05M_ORB.SP3 file is read in 4.10 seconds\n",
      "C:\\Users\\varga\\Box\\Data\\nc Files\\PACQUI\\aux_orbits\\GFZ0MGXRAP_20251930000_01D_30S_CLK.CLK exists | Reading...\n",
      "C:\\Users\\varga\\Box\\Data\\nc Files\\PACQUI\\aux_orbits\\GFZ0MGXRAP_20251930000_01D_30S_CLK.CLK file is read in 3.04 seconds\n",
      "C:\\Users\\varga\\Box\\Data\\nc Files\\PACQUI\\aux_orbits\\GFZ0MGXRAP_20251940000_01D_30S_CLK.CLK exists | Reading...\n",
      "C:\\Users\\varga\\Box\\Data\\nc Files\\PACQUI\\aux_orbits\\GFZ0MGXRAP_20251940000_01D_30S_CLK.CLK file is read in 2.98 seconds\n",
      "This file does not exist: C:\\Users\\varga\\Box\\Data\\nc Files\\PACQUI\\aux_orbits\\GFZ0MGXRAP_20251950000_01D_30S_CLK.CLK\n",
      "Downloading: GFZ0MGXRAP_20251950000_01D_30S_CLK.CLK.gz"
     ]
    },
    {
     "name": "stderr",
     "output_type": "stream",
     "text": [
      "GFZ0MGXRAP_20251950000_01D_30S_CLK.CLK.gz: 4.84MB [00:03, 1.38MB/s]                            \n"
     ]
    },
    {
     "name": "stdout",
     "output_type": "stream",
     "text": [
      " | Download completed for GFZ0MGXRAP_20251950000_01D_30S_CLK.CLK.gz\n",
      "C:\\Users\\varga\\Box\\Data\\nc Files\\PACQUI\\aux_orbits\\GFZ0MGXRAP_20251950000_01D_30S_CLK.CLK file is read in 3.94 seconds\n",
      "SP3 interpolation is done in 3.27 seconds\n",
      "Saved 99906 individual observations in C:\\Users\\varga\\Box\\Data\\nc Files\\PACQUI\\processed\\PACQUI_raw_20250712225552.nc\n",
      "[OK] PACQUI_raw_20250712225552.25O\n",
      "Could not find any files matching the pattern C:\\Users\\varga\\Box\\Data\\nc Files\\PACQUI\\processed*.nc\n",
      "C:\\Users\\varga\\Box\\Data\\nc Files\\PACQUI\\PACQUI_raw_20250713225553.25O exists | Reading...\n",
      "Observation file  C:\\Users\\varga\\Box\\Data\\nc Files\\PACQUI\\PACQUI_raw_20250713225553.25O  is read in 3.15 seconds.\n",
      "Processing 99982 individual observations\n",
      "Calculating Azimuth and Elevation\n",
      "C:\\Users\\varga\\Box\\Data\\nc Files\\PACQUI\\aux_orbits\\GFZ0MGXRAP_20251940000_01D_05M_ORB.SP3 exists | Reading...\n",
      "C:\\Users\\varga\\Box\\Data\\nc Files\\PACQUI\\aux_orbits\\GFZ0MGXRAP_20251940000_01D_05M_ORB.SP3 file is read in 0.66 seconds\n",
      "C:\\Users\\varga\\Box\\Data\\nc Files\\PACQUI\\aux_orbits\\GFZ0MGXRAP_20251950000_01D_05M_ORB.SP3 exists | Reading...\n",
      "C:\\Users\\varga\\Box\\Data\\nc Files\\PACQUI\\aux_orbits\\GFZ0MGXRAP_20251950000_01D_05M_ORB.SP3 file is read in 0.63 seconds\n",
      "This file does not exist: C:\\Users\\varga\\Box\\Data\\nc Files\\PACQUI\\aux_orbits\\GFZ0MGXRAP_20251960000_01D_05M_ORB.SP3\n",
      "Downloading: ftp://gssc.esa.int/gnss/products/2375//GFZ0MGXRAP_20251960000_01D_05M_ORB.SP3.gz"
     ]
    },
    {
     "name": "stderr",
     "output_type": "stream",
     "text": [
      "GFZ0MGXRAP_20251960000_01D_05M_ORB.SP3.gz: 1.05MB [00:03, 334kB/s]                             \n"
     ]
    },
    {
     "name": "stdout",
     "output_type": "stream",
     "text": [
      " | Download completed for ftp://gssc.esa.int/gnss/products/2375//GFZ0MGXRAP_20251960000_01D_05M_ORB.SP3.gz\n",
      "C:\\Users\\varga\\Box\\Data\\nc Files\\PACQUI\\aux_orbits\\GFZ0MGXRAP_20251960000_01D_05M_ORB.SP3 file is read in 4.93 seconds\n",
      "C:\\Users\\varga\\Box\\Data\\nc Files\\PACQUI\\aux_orbits\\GFZ0MGXRAP_20251940000_01D_30S_CLK.CLK exists | Reading...\n",
      "C:\\Users\\varga\\Box\\Data\\nc Files\\PACQUI\\aux_orbits\\GFZ0MGXRAP_20251940000_01D_30S_CLK.CLK file is read in 9.06 seconds\n",
      "C:\\Users\\varga\\Box\\Data\\nc Files\\PACQUI\\aux_orbits\\GFZ0MGXRAP_20251950000_01D_30S_CLK.CLK exists | Reading...\n",
      "C:\\Users\\varga\\Box\\Data\\nc Files\\PACQUI\\aux_orbits\\GFZ0MGXRAP_20251950000_01D_30S_CLK.CLK file is read in 2.08 seconds\n",
      "This file does not exist: C:\\Users\\varga\\Box\\Data\\nc Files\\PACQUI\\aux_orbits\\GFZ0MGXRAP_20251960000_01D_30S_CLK.CLK\n",
      "Downloading: GFZ0MGXRAP_20251960000_01D_30S_CLK.CLK.gz"
     ]
    },
    {
     "name": "stderr",
     "output_type": "stream",
     "text": [
      "GFZ0MGXRAP_20251960000_01D_30S_CLK.CLK.gz: 4.84MB [00:03, 1.33MB/s]                            \n"
     ]
    },
    {
     "name": "stdout",
     "output_type": "stream",
     "text": [
      " | Download completed for GFZ0MGXRAP_20251960000_01D_30S_CLK.CLK.gz\n",
      "C:\\Users\\varga\\Box\\Data\\nc Files\\PACQUI\\aux_orbits\\GFZ0MGXRAP_20251960000_01D_30S_CLK.CLK file is read in 2.01 seconds\n",
      "SP3 interpolation is done in 3.26 seconds\n",
      "Saved 99982 individual observations in C:\\Users\\varga\\Box\\Data\\nc Files\\PACQUI\\processed\\PACQUI_raw_20250713225553.nc\n",
      "[OK] PACQUI_raw_20250713225553.25O\n",
      "Could not find any files matching the pattern C:\\Users\\varga\\Box\\Data\\nc Files\\PACQUI\\processed*.nc\n",
      "C:\\Users\\varga\\Box\\Data\\nc Files\\PACQUI\\PACQUI_raw_20250714225554.25O exists | Reading...\n",
      "Observation file  C:\\Users\\varga\\Box\\Data\\nc Files\\PACQUI\\PACQUI_raw_20250714225554.25O  is read in 3.30 seconds.\n",
      "Processing 98663 individual observations\n",
      "Calculating Azimuth and Elevation\n",
      "C:\\Users\\varga\\Box\\Data\\nc Files\\PACQUI\\aux_orbits\\GFZ0MGXRAP_20251950000_01D_05M_ORB.SP3 exists | Reading...\n",
      "C:\\Users\\varga\\Box\\Data\\nc Files\\PACQUI\\aux_orbits\\GFZ0MGXRAP_20251950000_01D_05M_ORB.SP3 file is read in 0.70 seconds\n",
      "C:\\Users\\varga\\Box\\Data\\nc Files\\PACQUI\\aux_orbits\\GFZ0MGXRAP_20251960000_01D_05M_ORB.SP3 exists | Reading...\n",
      "C:\\Users\\varga\\Box\\Data\\nc Files\\PACQUI\\aux_orbits\\GFZ0MGXRAP_20251960000_01D_05M_ORB.SP3 file is read in 0.60 seconds\n",
      "This file does not exist: C:\\Users\\varga\\Box\\Data\\nc Files\\PACQUI\\aux_orbits\\GFZ0MGXRAP_20251970000_01D_05M_ORB.SP3\n",
      "Downloading: ftp://gssc.esa.int/gnss/products/2375//GFZ0MGXRAP_20251970000_01D_05M_ORB.SP3.gz"
     ]
    },
    {
     "name": "stderr",
     "output_type": "stream",
     "text": [
      "GFZ0MGXRAP_20251970000_01D_05M_ORB.SP3.gz: 1.05MB [00:03, 342kB/s]                             \n"
     ]
    },
    {
     "name": "stdout",
     "output_type": "stream",
     "text": [
      " | Download completed for ftp://gssc.esa.int/gnss/products/2375//GFZ0MGXRAP_20251970000_01D_05M_ORB.SP3.gz\n",
      "C:\\Users\\varga\\Box\\Data\\nc Files\\PACQUI\\aux_orbits\\GFZ0MGXRAP_20251970000_01D_05M_ORB.SP3 file is read in 3.98 seconds\n",
      "C:\\Users\\varga\\Box\\Data\\nc Files\\PACQUI\\aux_orbits\\GFZ0MGXRAP_20251950000_01D_30S_CLK.CLK exists | Reading...\n",
      "C:\\Users\\varga\\Box\\Data\\nc Files\\PACQUI\\aux_orbits\\GFZ0MGXRAP_20251950000_01D_30S_CLK.CLK file is read in 3.20 seconds\n",
      "C:\\Users\\varga\\Box\\Data\\nc Files\\PACQUI\\aux_orbits\\GFZ0MGXRAP_20251960000_01D_30S_CLK.CLK exists | Reading...\n",
      "C:\\Users\\varga\\Box\\Data\\nc Files\\PACQUI\\aux_orbits\\GFZ0MGXRAP_20251960000_01D_30S_CLK.CLK file is read in 2.85 seconds\n",
      "This file does not exist: C:\\Users\\varga\\Box\\Data\\nc Files\\PACQUI\\aux_orbits\\GFZ0MGXRAP_20251970000_01D_30S_CLK.CLK\n",
      "Downloading: GFZ0MGXRAP_20251970000_01D_30S_CLK.CLK.gz"
     ]
    },
    {
     "name": "stderr",
     "output_type": "stream",
     "text": [
      "GFZ0MGXRAP_20251970000_01D_30S_CLK.CLK.gz: 4.84MB [00:03, 1.38MB/s]                            \n"
     ]
    },
    {
     "name": "stdout",
     "output_type": "stream",
     "text": [
      " | Download completed for GFZ0MGXRAP_20251970000_01D_30S_CLK.CLK.gz\n",
      "C:\\Users\\varga\\Box\\Data\\nc Files\\PACQUI\\aux_orbits\\GFZ0MGXRAP_20251970000_01D_30S_CLK.CLK file is read in 11.19 seconds\n",
      "SP3 interpolation is done in 5.24 seconds\n",
      "Saved 98663 individual observations in C:\\Users\\varga\\Box\\Data\\nc Files\\PACQUI\\processed\\PACQUI_raw_20250714225554.nc\n",
      "[OK] PACQUI_raw_20250714225554.25O\n",
      "Could not find any files matching the pattern C:\\Users\\varga\\Box\\Data\\nc Files\\PACQUI\\processed*.nc\n",
      "C:\\Users\\varga\\Box\\Data\\nc Files\\PACQUI\\PACQUI_raw_20250715225556.25O exists | Reading...\n",
      "Observation file  C:\\Users\\varga\\Box\\Data\\nc Files\\PACQUI\\PACQUI_raw_20250715225556.25O  is read in 2.12 seconds.\n",
      "Processing 100062 individual observations\n",
      "Calculating Azimuth and Elevation\n",
      "C:\\Users\\varga\\Box\\Data\\nc Files\\PACQUI\\aux_orbits\\GFZ0MGXRAP_20251960000_01D_05M_ORB.SP3 exists | Reading...\n",
      "C:\\Users\\varga\\Box\\Data\\nc Files\\PACQUI\\aux_orbits\\GFZ0MGXRAP_20251960000_01D_05M_ORB.SP3 file is read in 0.37 seconds\n",
      "C:\\Users\\varga\\Box\\Data\\nc Files\\PACQUI\\aux_orbits\\GFZ0MGXRAP_20251970000_01D_05M_ORB.SP3 exists | Reading...\n",
      "C:\\Users\\varga\\Box\\Data\\nc Files\\PACQUI\\aux_orbits\\GFZ0MGXRAP_20251970000_01D_05M_ORB.SP3 file is read in 0.41 seconds\n",
      "This file does not exist: C:\\Users\\varga\\Box\\Data\\nc Files\\PACQUI\\aux_orbits\\GFZ0MGXRAP_20251980000_01D_05M_ORB.SP3\n",
      "Downloading: ftp://gssc.esa.int/gnss/products/2375//GFZ0MGXRAP_20251980000_01D_05M_ORB.SP3.gz"
     ]
    },
    {
     "name": "stderr",
     "output_type": "stream",
     "text": [
      "GFZ0MGXRAP_20251980000_01D_05M_ORB.SP3.gz: 1.04MB [00:03, 334kB/s]                             \n"
     ]
    },
    {
     "name": "stdout",
     "output_type": "stream",
     "text": [
      " | Download completed for ftp://gssc.esa.int/gnss/products/2375//GFZ0MGXRAP_20251980000_01D_05M_ORB.SP3.gz\n",
      "C:\\Users\\varga\\Box\\Data\\nc Files\\PACQUI\\aux_orbits\\GFZ0MGXRAP_20251980000_01D_05M_ORB.SP3 file is read in 3.79 seconds\n",
      "C:\\Users\\varga\\Box\\Data\\nc Files\\PACQUI\\aux_orbits\\GFZ0MGXRAP_20251960000_01D_30S_CLK.CLK exists | Reading...\n",
      "C:\\Users\\varga\\Box\\Data\\nc Files\\PACQUI\\aux_orbits\\GFZ0MGXRAP_20251960000_01D_30S_CLK.CLK file is read in 2.13 seconds\n",
      "C:\\Users\\varga\\Box\\Data\\nc Files\\PACQUI\\aux_orbits\\GFZ0MGXRAP_20251970000_01D_30S_CLK.CLK exists | Reading...\n",
      "C:\\Users\\varga\\Box\\Data\\nc Files\\PACQUI\\aux_orbits\\GFZ0MGXRAP_20251970000_01D_30S_CLK.CLK file is read in 3.27 seconds\n",
      "This file does not exist: C:\\Users\\varga\\Box\\Data\\nc Files\\PACQUI\\aux_orbits\\GFZ0MGXRAP_20251980000_01D_30S_CLK.CLK\n",
      "Downloading: GFZ0MGXRAP_20251980000_01D_30S_CLK.CLK.gz"
     ]
    },
    {
     "name": "stderr",
     "output_type": "stream",
     "text": [
      "GFZ0MGXRAP_20251980000_01D_30S_CLK.CLK.gz: 4.82MB [00:03, 1.38MB/s]                            \n"
     ]
    },
    {
     "name": "stdout",
     "output_type": "stream",
     "text": [
      " | Download completed for GFZ0MGXRAP_20251980000_01D_30S_CLK.CLK.gz\n",
      "C:\\Users\\varga\\Box\\Data\\nc Files\\PACQUI\\aux_orbits\\GFZ0MGXRAP_20251980000_01D_30S_CLK.CLK file is read in 4.06 seconds\n",
      "SP3 interpolation is done in 4.50 seconds\n",
      "Saved 100062 individual observations in C:\\Users\\varga\\Box\\Data\\nc Files\\PACQUI\\processed\\PACQUI_raw_20250715225556.nc\n",
      "[OK] PACQUI_raw_20250715225556.25O\n",
      "Could not find any files matching the pattern C:\\Users\\varga\\Box\\Data\\nc Files\\PACQUI\\processed*.nc\n",
      "C:\\Users\\varga\\Box\\Data\\nc Files\\PACQUI\\PACQUI_raw_20250716225557.25O exists | Reading...\n",
      "Observation file  C:\\Users\\varga\\Box\\Data\\nc Files\\PACQUI\\PACQUI_raw_20250716225557.25O  is read in 15.51 seconds.\n",
      "Processing 99790 individual observations\n",
      "Calculating Azimuth and Elevation\n",
      "C:\\Users\\varga\\Box\\Data\\nc Files\\PACQUI\\aux_orbits\\GFZ0MGXRAP_20251970000_01D_05M_ORB.SP3 exists | Reading...\n",
      "C:\\Users\\varga\\Box\\Data\\nc Files\\PACQUI\\aux_orbits\\GFZ0MGXRAP_20251970000_01D_05M_ORB.SP3 file is read in 0.53 seconds\n",
      "C:\\Users\\varga\\Box\\Data\\nc Files\\PACQUI\\aux_orbits\\GFZ0MGXRAP_20251980000_01D_05M_ORB.SP3 exists | Reading...\n",
      "C:\\Users\\varga\\Box\\Data\\nc Files\\PACQUI\\aux_orbits\\GFZ0MGXRAP_20251980000_01D_05M_ORB.SP3 file is read in 0.46 seconds\n",
      "This file does not exist: C:\\Users\\varga\\Box\\Data\\nc Files\\PACQUI\\aux_orbits\\GFZ0MGXRAP_20251990000_01D_05M_ORB.SP3\n",
      "Downloading: ftp://gssc.esa.int/gnss/products/2375//GFZ0MGXRAP_20251990000_01D_05M_ORB.SP3.gz"
     ]
    },
    {
     "name": "stderr",
     "output_type": "stream",
     "text": [
      "GFZ0MGXRAP_20251990000_01D_05M_ORB.SP3.gz: 1.05MB [00:03, 330kB/s]                             \n"
     ]
    },
    {
     "name": "stdout",
     "output_type": "stream",
     "text": [
      " | Download completed for ftp://gssc.esa.int/gnss/products/2375//GFZ0MGXRAP_20251990000_01D_05M_ORB.SP3.gz\n",
      "C:\\Users\\varga\\Box\\Data\\nc Files\\PACQUI\\aux_orbits\\GFZ0MGXRAP_20251990000_01D_05M_ORB.SP3 file is read in 3.89 seconds\n",
      "C:\\Users\\varga\\Box\\Data\\nc Files\\PACQUI\\aux_orbits\\GFZ0MGXRAP_20251970000_01D_30S_CLK.CLK exists | Reading...\n",
      "C:\\Users\\varga\\Box\\Data\\nc Files\\PACQUI\\aux_orbits\\GFZ0MGXRAP_20251970000_01D_30S_CLK.CLK file is read in 2.66 seconds\n",
      "C:\\Users\\varga\\Box\\Data\\nc Files\\PACQUI\\aux_orbits\\GFZ0MGXRAP_20251980000_01D_30S_CLK.CLK exists | Reading...\n",
      "C:\\Users\\varga\\Box\\Data\\nc Files\\PACQUI\\aux_orbits\\GFZ0MGXRAP_20251980000_01D_30S_CLK.CLK file is read in 3.45 seconds\n",
      "This file does not exist: C:\\Users\\varga\\Box\\Data\\nc Files\\PACQUI\\aux_orbits\\GFZ0MGXRAP_20251990000_01D_30S_CLK.CLK\n",
      "Downloading: GFZ0MGXRAP_20251990000_01D_30S_CLK.CLK.gz"
     ]
    },
    {
     "name": "stderr",
     "output_type": "stream",
     "text": [
      "GFZ0MGXRAP_20251990000_01D_30S_CLK.CLK.gz: 4.84MB [00:03, 1.40MB/s]                            \n"
     ]
    },
    {
     "name": "stdout",
     "output_type": "stream",
     "text": [
      " | Download completed for GFZ0MGXRAP_20251990000_01D_30S_CLK.CLK.gz\n",
      "C:\\Users\\varga\\Box\\Data\\nc Files\\PACQUI\\aux_orbits\\GFZ0MGXRAP_20251990000_01D_30S_CLK.CLK file is read in 4.37 seconds\n",
      "SP3 interpolation is done in 19.06 seconds\n",
      "Saved 99790 individual observations in C:\\Users\\varga\\Box\\Data\\nc Files\\PACQUI\\processed\\PACQUI_raw_20250716225557.nc\n",
      "[OK] PACQUI_raw_20250716225557.25O\n",
      "Could not find any files matching the pattern C:\\Users\\varga\\Box\\Data\\nc Files\\PACQUI\\processed*.nc\n",
      "C:\\Users\\varga\\Box\\Data\\nc Files\\PACQUI\\PACQUI_raw_20250717225558.25O exists | Reading...\n",
      "Observation file  C:\\Users\\varga\\Box\\Data\\nc Files\\PACQUI\\PACQUI_raw_20250717225558.25O  is read in 1.99 seconds.\n",
      "Processing 97719 individual observations\n",
      "Calculating Azimuth and Elevation\n",
      "C:\\Users\\varga\\Box\\Data\\nc Files\\PACQUI\\aux_orbits\\GFZ0MGXRAP_20251980000_01D_05M_ORB.SP3 exists | Reading...\n",
      "C:\\Users\\varga\\Box\\Data\\nc Files\\PACQUI\\aux_orbits\\GFZ0MGXRAP_20251980000_01D_05M_ORB.SP3 file is read in 0.38 seconds\n",
      "C:\\Users\\varga\\Box\\Data\\nc Files\\PACQUI\\aux_orbits\\GFZ0MGXRAP_20251990000_01D_05M_ORB.SP3 exists | Reading...\n",
      "C:\\Users\\varga\\Box\\Data\\nc Files\\PACQUI\\aux_orbits\\GFZ0MGXRAP_20251990000_01D_05M_ORB.SP3 file is read in 0.39 seconds\n",
      "This file does not exist: C:\\Users\\varga\\Box\\Data\\nc Files\\PACQUI\\aux_orbits\\GFZ0MGXRAP_20252000000_01D_05M_ORB.SP3\n",
      "Downloading: ftp://gssc.esa.int/gnss/products/2375//GFZ0MGXRAP_20252000000_01D_05M_ORB.SP3.gz"
     ]
    },
    {
     "name": "stderr",
     "output_type": "stream",
     "text": [
      "GFZ0MGXRAP_20252000000_01D_05M_ORB.SP3.gz: 1.05MB [00:03, 352kB/s]                             \n"
     ]
    },
    {
     "name": "stdout",
     "output_type": "stream",
     "text": [
      " | Download completed for ftp://gssc.esa.int/gnss/products/2375//GFZ0MGXRAP_20252000000_01D_05M_ORB.SP3.gz\n",
      "C:\\Users\\varga\\Box\\Data\\nc Files\\PACQUI\\aux_orbits\\GFZ0MGXRAP_20252000000_01D_05M_ORB.SP3 file is read in 3.72 seconds\n",
      "C:\\Users\\varga\\Box\\Data\\nc Files\\PACQUI\\aux_orbits\\GFZ0MGXRAP_20251980000_01D_30S_CLK.CLK exists | Reading...\n",
      "C:\\Users\\varga\\Box\\Data\\nc Files\\PACQUI\\aux_orbits\\GFZ0MGXRAP_20251980000_01D_30S_CLK.CLK file is read in 2.85 seconds\n",
      "C:\\Users\\varga\\Box\\Data\\nc Files\\PACQUI\\aux_orbits\\GFZ0MGXRAP_20251990000_01D_30S_CLK.CLK exists | Reading...\n",
      "C:\\Users\\varga\\Box\\Data\\nc Files\\PACQUI\\aux_orbits\\GFZ0MGXRAP_20251990000_01D_30S_CLK.CLK file is read in 2.94 seconds\n",
      "This file does not exist: C:\\Users\\varga\\Box\\Data\\nc Files\\PACQUI\\aux_orbits\\GFZ0MGXRAP_20252000000_01D_30S_CLK.CLK\n",
      "Downloading: GFZ0MGXRAP_20252000000_01D_30S_CLK.CLK.gz"
     ]
    },
    {
     "name": "stderr",
     "output_type": "stream",
     "text": [
      "GFZ0MGXRAP_20252000000_01D_30S_CLK.CLK.gz: 4.83MB [00:05, 983kB/s]                             \n"
     ]
    },
    {
     "name": "stdout",
     "output_type": "stream",
     "text": [
      " | Download completed for GFZ0MGXRAP_20252000000_01D_30S_CLK.CLK.gz\n",
      "C:\\Users\\varga\\Box\\Data\\nc Files\\PACQUI\\aux_orbits\\GFZ0MGXRAP_20252000000_01D_30S_CLK.CLK file is read in 2.90 seconds\n",
      "SP3 interpolation is done in 4.12 seconds\n",
      "Saved 97719 individual observations in C:\\Users\\varga\\Box\\Data\\nc Files\\PACQUI\\processed\\PACQUI_raw_20250717225558.nc\n",
      "[OK] PACQUI_raw_20250717225558.25O\n",
      "Could not find any files matching the pattern C:\\Users\\varga\\Box\\Data\\nc Files\\PACQUI\\processed*.nc\n",
      "C:\\Users\\varga\\Box\\Data\\nc Files\\PACQUI\\PACQUI_raw_20250718225559.25O exists | Reading...\n",
      "Observation file  C:\\Users\\varga\\Box\\Data\\nc Files\\PACQUI\\PACQUI_raw_20250718225559.25O  is read in 3.22 seconds.\n",
      "Processing 99340 individual observations\n",
      "Calculating Azimuth and Elevation\n",
      "C:\\Users\\varga\\Box\\Data\\nc Files\\PACQUI\\aux_orbits\\GFZ0MGXRAP_20251990000_01D_05M_ORB.SP3 exists | Reading...\n",
      "C:\\Users\\varga\\Box\\Data\\nc Files\\PACQUI\\aux_orbits\\GFZ0MGXRAP_20251990000_01D_05M_ORB.SP3 file is read in 4.84 seconds\n",
      "C:\\Users\\varga\\Box\\Data\\nc Files\\PACQUI\\aux_orbits\\GFZ0MGXRAP_20252000000_01D_05M_ORB.SP3 exists | Reading...\n",
      "C:\\Users\\varga\\Box\\Data\\nc Files\\PACQUI\\aux_orbits\\GFZ0MGXRAP_20252000000_01D_05M_ORB.SP3 file is read in 1.13 seconds\n",
      "This file does not exist: C:\\Users\\varga\\Box\\Data\\nc Files\\PACQUI\\aux_orbits\\GFZ0MGXRAP_20252010000_01D_05M_ORB.SP3\n",
      "Downloading: ftp://gssc.esa.int/gnss/products/2376//GFZ0MGXRAP_20252010000_01D_05M_ORB.SP3.gz"
     ]
    },
    {
     "name": "stderr",
     "output_type": "stream",
     "text": [
      "GFZ0MGXRAP_20252010000_01D_05M_ORB.SP3.gz: 1.05MB [00:03, 342kB/s]                             \n"
     ]
    },
    {
     "name": "stdout",
     "output_type": "stream",
     "text": [
      " | Download completed for ftp://gssc.esa.int/gnss/products/2376//GFZ0MGXRAP_20252010000_01D_05M_ORB.SP3.gz\n",
      "C:\\Users\\varga\\Box\\Data\\nc Files\\PACQUI\\aux_orbits\\GFZ0MGXRAP_20252010000_01D_05M_ORB.SP3 file is read in 3.81 seconds\n",
      "C:\\Users\\varga\\Box\\Data\\nc Files\\PACQUI\\aux_orbits\\GFZ0MGXRAP_20251990000_01D_30S_CLK.CLK exists | Reading...\n",
      "C:\\Users\\varga\\Box\\Data\\nc Files\\PACQUI\\aux_orbits\\GFZ0MGXRAP_20251990000_01D_30S_CLK.CLK file is read in 1.93 seconds\n",
      "C:\\Users\\varga\\Box\\Data\\nc Files\\PACQUI\\aux_orbits\\GFZ0MGXRAP_20252000000_01D_30S_CLK.CLK exists | Reading...\n",
      "C:\\Users\\varga\\Box\\Data\\nc Files\\PACQUI\\aux_orbits\\GFZ0MGXRAP_20252000000_01D_30S_CLK.CLK file is read in 2.09 seconds\n",
      "This file does not exist: C:\\Users\\varga\\Box\\Data\\nc Files\\PACQUI\\aux_orbits\\GFZ0MGXRAP_20252010000_01D_30S_CLK.CLK\n",
      "Downloading: GFZ0MGXRAP_20252010000_01D_30S_CLK.CLK.gz"
     ]
    },
    {
     "name": "stderr",
     "output_type": "stream",
     "text": [
      "GFZ0MGXRAP_20252010000_01D_30S_CLK.CLK.gz: 4.88MB [00:03, 1.35MB/s]                            \n"
     ]
    },
    {
     "name": "stdout",
     "output_type": "stream",
     "text": [
      " | Download completed for GFZ0MGXRAP_20252010000_01D_30S_CLK.CLK.gz\n",
      "C:\\Users\\varga\\Box\\Data\\nc Files\\PACQUI\\aux_orbits\\GFZ0MGXRAP_20252010000_01D_30S_CLK.CLK file is read in 2.02 seconds\n",
      "SP3 interpolation is done in 3.26 seconds\n",
      "Saved 99340 individual observations in C:\\Users\\varga\\Box\\Data\\nc Files\\PACQUI\\processed\\PACQUI_raw_20250718225559.nc\n",
      "[OK] PACQUI_raw_20250718225559.25O\n",
      "Could not find any files matching the pattern C:\\Users\\varga\\Box\\Data\\nc Files\\PACQUI\\processed*.nc\n",
      "C:\\Users\\varga\\Box\\Data\\nc Files\\PACQUI\\PACQUI_raw_20250719225600.25O exists | Reading...\n",
      "Observation file  C:\\Users\\varga\\Box\\Data\\nc Files\\PACQUI\\PACQUI_raw_20250719225600.25O  is read in 3.60 seconds.\n",
      "Processing 100359 individual observations\n",
      "Calculating Azimuth and Elevation\n",
      "C:\\Users\\varga\\Box\\Data\\nc Files\\PACQUI\\aux_orbits\\GFZ0MGXRAP_20252000000_01D_05M_ORB.SP3 exists | Reading...\n",
      "C:\\Users\\varga\\Box\\Data\\nc Files\\PACQUI\\aux_orbits\\GFZ0MGXRAP_20252000000_01D_05M_ORB.SP3 file is read in 0.72 seconds\n",
      "C:\\Users\\varga\\Box\\Data\\nc Files\\PACQUI\\aux_orbits\\GFZ0MGXRAP_20252010000_01D_05M_ORB.SP3 exists | Reading...\n",
      "C:\\Users\\varga\\Box\\Data\\nc Files\\PACQUI\\aux_orbits\\GFZ0MGXRAP_20252010000_01D_05M_ORB.SP3 file is read in 0.57 seconds\n",
      "This file does not exist: C:\\Users\\varga\\Box\\Data\\nc Files\\PACQUI\\aux_orbits\\GFZ0MGXRAP_20252020000_01D_05M_ORB.SP3\n",
      "Downloading: ftp://gssc.esa.int/gnss/products/2376//GFZ0MGXRAP_20252020000_01D_05M_ORB.SP3.gz"
     ]
    },
    {
     "name": "stderr",
     "output_type": "stream",
     "text": [
      "GFZ0MGXRAP_20252020000_01D_05M_ORB.SP3.gz: 1.05MB [00:03, 347kB/s]                             \n"
     ]
    },
    {
     "name": "stdout",
     "output_type": "stream",
     "text": [
      " | Download completed for ftp://gssc.esa.int/gnss/products/2376//GFZ0MGXRAP_20252020000_01D_05M_ORB.SP3.gz\n",
      "C:\\Users\\varga\\Box\\Data\\nc Files\\PACQUI\\aux_orbits\\GFZ0MGXRAP_20252020000_01D_05M_ORB.SP3 file is read in 4.03 seconds\n",
      "C:\\Users\\varga\\Box\\Data\\nc Files\\PACQUI\\aux_orbits\\GFZ0MGXRAP_20252000000_01D_30S_CLK.CLK exists | Reading...\n",
      "C:\\Users\\varga\\Box\\Data\\nc Files\\PACQUI\\aux_orbits\\GFZ0MGXRAP_20252000000_01D_30S_CLK.CLK file is read in 3.11 seconds\n",
      "C:\\Users\\varga\\Box\\Data\\nc Files\\PACQUI\\aux_orbits\\GFZ0MGXRAP_20252010000_01D_30S_CLK.CLK exists | Reading...\n",
      "C:\\Users\\varga\\Box\\Data\\nc Files\\PACQUI\\aux_orbits\\GFZ0MGXRAP_20252010000_01D_30S_CLK.CLK file is read in 3.02 seconds\n",
      "This file does not exist: C:\\Users\\varga\\Box\\Data\\nc Files\\PACQUI\\aux_orbits\\GFZ0MGXRAP_20252020000_01D_30S_CLK.CLK\n",
      "Downloading: GFZ0MGXRAP_20252020000_01D_30S_CLK.CLK.gz"
     ]
    },
    {
     "name": "stderr",
     "output_type": "stream",
     "text": [
      "GFZ0MGXRAP_20252020000_01D_30S_CLK.CLK.gz: 4.84MB [00:03, 1.38MB/s]                            \n"
     ]
    },
    {
     "name": "stdout",
     "output_type": "stream",
     "text": [
      " | Download completed for GFZ0MGXRAP_20252020000_01D_30S_CLK.CLK.gz\n",
      "C:\\Users\\varga\\Box\\Data\\nc Files\\PACQUI\\aux_orbits\\GFZ0MGXRAP_20252020000_01D_30S_CLK.CLK file is read in 3.06 seconds\n",
      "SP3 interpolation is done in 11.74 seconds\n",
      "Saved 100359 individual observations in C:\\Users\\varga\\Box\\Data\\nc Files\\PACQUI\\processed\\PACQUI_raw_20250719225600.nc\n",
      "[OK] PACQUI_raw_20250719225600.25O\n",
      "Could not find any files matching the pattern C:\\Users\\varga\\Box\\Data\\nc Files\\PACQUI\\processed*.nc\n",
      "C:\\Users\\varga\\Box\\Data\\nc Files\\PACQUI\\PACQUI_raw_20250720225601.25O exists | Reading...\n",
      "Observation file  C:\\Users\\varga\\Box\\Data\\nc Files\\PACQUI\\PACQUI_raw_20250720225601.25O  is read in 2.01 seconds.\n",
      "Processing 98436 individual observations\n",
      "Calculating Azimuth and Elevation\n",
      "C:\\Users\\varga\\Box\\Data\\nc Files\\PACQUI\\aux_orbits\\GFZ0MGXRAP_20252010000_01D_05M_ORB.SP3 exists | Reading...\n",
      "C:\\Users\\varga\\Box\\Data\\nc Files\\PACQUI\\aux_orbits\\GFZ0MGXRAP_20252010000_01D_05M_ORB.SP3 file is read in 0.44 seconds\n",
      "C:\\Users\\varga\\Box\\Data\\nc Files\\PACQUI\\aux_orbits\\GFZ0MGXRAP_20252020000_01D_05M_ORB.SP3 exists | Reading...\n",
      "C:\\Users\\varga\\Box\\Data\\nc Files\\PACQUI\\aux_orbits\\GFZ0MGXRAP_20252020000_01D_05M_ORB.SP3 file is read in 0.38 seconds\n",
      "This file does not exist: C:\\Users\\varga\\Box\\Data\\nc Files\\PACQUI\\aux_orbits\\GFZ0MGXRAP_20252030000_01D_05M_ORB.SP3\n",
      "Downloading: ftp://gssc.esa.int/gnss/products/2376//GFZ0MGXRAP_20252030000_01D_05M_ORB.SP3.gz"
     ]
    },
    {
     "name": "stderr",
     "output_type": "stream",
     "text": [
      "GFZ0MGXRAP_20252030000_01D_05M_ORB.SP3.gz: 1.04MB [00:03, 345kB/s]                             \n"
     ]
    },
    {
     "name": "stdout",
     "output_type": "stream",
     "text": [
      " | Download completed for ftp://gssc.esa.int/gnss/products/2376//GFZ0MGXRAP_20252030000_01D_05M_ORB.SP3.gz\n",
      "C:\\Users\\varga\\Box\\Data\\nc Files\\PACQUI\\aux_orbits\\GFZ0MGXRAP_20252030000_01D_05M_ORB.SP3 file is read in 3.96 seconds\n",
      "C:\\Users\\varga\\Box\\Data\\nc Files\\PACQUI\\aux_orbits\\GFZ0MGXRAP_20252010000_01D_30S_CLK.CLK exists | Reading...\n",
      "C:\\Users\\varga\\Box\\Data\\nc Files\\PACQUI\\aux_orbits\\GFZ0MGXRAP_20252010000_01D_30S_CLK.CLK file is read in 2.94 seconds\n",
      "C:\\Users\\varga\\Box\\Data\\nc Files\\PACQUI\\aux_orbits\\GFZ0MGXRAP_20252020000_01D_30S_CLK.CLK exists | Reading...\n",
      "C:\\Users\\varga\\Box\\Data\\nc Files\\PACQUI\\aux_orbits\\GFZ0MGXRAP_20252020000_01D_30S_CLK.CLK file is read in 3.07 seconds\n",
      "This file does not exist: C:\\Users\\varga\\Box\\Data\\nc Files\\PACQUI\\aux_orbits\\GFZ0MGXRAP_20252030000_01D_30S_CLK.CLK\n",
      "Downloading: GFZ0MGXRAP_20252030000_01D_30S_CLK.CLK.gz"
     ]
    },
    {
     "name": "stderr",
     "output_type": "stream",
     "text": [
      "GFZ0MGXRAP_20252030000_01D_30S_CLK.CLK.gz: 4.79MB [00:03, 1.36MB/s]                            \n"
     ]
    },
    {
     "name": "stdout",
     "output_type": "stream",
     "text": [
      " | Download completed for GFZ0MGXRAP_20252030000_01D_30S_CLK.CLK.gz\n",
      "C:\\Users\\varga\\Box\\Data\\nc Files\\PACQUI\\aux_orbits\\GFZ0MGXRAP_20252030000_01D_30S_CLK.CLK file is read in 2.90 seconds\n",
      "SP3 interpolation is done in 8.38 seconds\n",
      "Saved 98436 individual observations in C:\\Users\\varga\\Box\\Data\\nc Files\\PACQUI\\processed\\PACQUI_raw_20250720225601.nc\n",
      "[OK] PACQUI_raw_20250720225601.25O\n",
      "Could not find any files matching the pattern C:\\Users\\varga\\Box\\Data\\nc Files\\PACQUI\\processed*.nc\n",
      "C:\\Users\\varga\\Box\\Data\\nc Files\\PACQUI\\PACQUI_raw_20250721225602.25O exists | Reading...\n",
      "Observation file  C:\\Users\\varga\\Box\\Data\\nc Files\\PACQUI\\PACQUI_raw_20250721225602.25O  is read in 2.03 seconds.\n",
      "Processing 98604 individual observations\n",
      "Calculating Azimuth and Elevation\n",
      "C:\\Users\\varga\\Box\\Data\\nc Files\\PACQUI\\aux_orbits\\GFZ0MGXRAP_20252020000_01D_05M_ORB.SP3 exists | Reading...\n",
      "C:\\Users\\varga\\Box\\Data\\nc Files\\PACQUI\\aux_orbits\\GFZ0MGXRAP_20252020000_01D_05M_ORB.SP3 file is read in 0.40 seconds\n",
      "C:\\Users\\varga\\Box\\Data\\nc Files\\PACQUI\\aux_orbits\\GFZ0MGXRAP_20252030000_01D_05M_ORB.SP3 exists | Reading...\n",
      "C:\\Users\\varga\\Box\\Data\\nc Files\\PACQUI\\aux_orbits\\GFZ0MGXRAP_20252030000_01D_05M_ORB.SP3 file is read in 0.40 seconds\n",
      "This file does not exist: C:\\Users\\varga\\Box\\Data\\nc Files\\PACQUI\\aux_orbits\\GFZ0MGXRAP_20252040000_01D_05M_ORB.SP3\n",
      "Downloading: ftp://gssc.esa.int/gnss/products/2376//GFZ0MGXRAP_20252040000_01D_05M_ORB.SP3.gz"
     ]
    },
    {
     "name": "stderr",
     "output_type": "stream",
     "text": [
      "GFZ0MGXRAP_20252040000_01D_05M_ORB.SP3.gz: 1.05MB [00:03, 340kB/s]                             \n"
     ]
    },
    {
     "name": "stdout",
     "output_type": "stream",
     "text": [
      " | Download completed for ftp://gssc.esa.int/gnss/products/2376//GFZ0MGXRAP_20252040000_01D_05M_ORB.SP3.gz\n",
      "C:\\Users\\varga\\Box\\Data\\nc Files\\PACQUI\\aux_orbits\\GFZ0MGXRAP_20252040000_01D_05M_ORB.SP3 file is read in 3.95 seconds\n",
      "C:\\Users\\varga\\Box\\Data\\nc Files\\PACQUI\\aux_orbits\\GFZ0MGXRAP_20252020000_01D_30S_CLK.CLK exists | Reading...\n",
      "C:\\Users\\varga\\Box\\Data\\nc Files\\PACQUI\\aux_orbits\\GFZ0MGXRAP_20252020000_01D_30S_CLK.CLK file is read in 3.07 seconds\n",
      "C:\\Users\\varga\\Box\\Data\\nc Files\\PACQUI\\aux_orbits\\GFZ0MGXRAP_20252030000_01D_30S_CLK.CLK exists | Reading...\n",
      "C:\\Users\\varga\\Box\\Data\\nc Files\\PACQUI\\aux_orbits\\GFZ0MGXRAP_20252030000_01D_30S_CLK.CLK file is read in 3.05 seconds\n",
      "This file does not exist: C:\\Users\\varga\\Box\\Data\\nc Files\\PACQUI\\aux_orbits\\GFZ0MGXRAP_20252040000_01D_30S_CLK.CLK\n",
      "Downloading: GFZ0MGXRAP_20252040000_01D_30S_CLK.CLK.gz"
     ]
    },
    {
     "name": "stderr",
     "output_type": "stream",
     "text": [
      "GFZ0MGXRAP_20252040000_01D_30S_CLK.CLK.gz: 4.83MB [00:03, 1.39MB/s]                            \n"
     ]
    },
    {
     "name": "stdout",
     "output_type": "stream",
     "text": [
      " | Download completed for GFZ0MGXRAP_20252040000_01D_30S_CLK.CLK.gz\n",
      "C:\\Users\\varga\\Box\\Data\\nc Files\\PACQUI\\aux_orbits\\GFZ0MGXRAP_20252040000_01D_30S_CLK.CLK file is read in 3.01 seconds\n",
      "SP3 interpolation is done in 10.31 seconds\n",
      "Saved 98604 individual observations in C:\\Users\\varga\\Box\\Data\\nc Files\\PACQUI\\processed\\PACQUI_raw_20250721225602.nc\n",
      "[OK] PACQUI_raw_20250721225602.25O\n",
      "Could not find any files matching the pattern C:\\Users\\varga\\Box\\Data\\nc Files\\PACQUI\\processed*.nc\n",
      "C:\\Users\\varga\\Box\\Data\\nc Files\\PACQUI\\PACQUI_raw_20250722225603.25O exists | Reading...\n",
      "Observation file  C:\\Users\\varga\\Box\\Data\\nc Files\\PACQUI\\PACQUI_raw_20250722225603.25O  is read in 2.02 seconds.\n",
      "Processing 100427 individual observations\n",
      "Calculating Azimuth and Elevation\n",
      "C:\\Users\\varga\\Box\\Data\\nc Files\\PACQUI\\aux_orbits\\GFZ0MGXRAP_20252030000_01D_05M_ORB.SP3 exists | Reading...\n",
      "C:\\Users\\varga\\Box\\Data\\nc Files\\PACQUI\\aux_orbits\\GFZ0MGXRAP_20252030000_01D_05M_ORB.SP3 file is read in 0.39 seconds\n",
      "C:\\Users\\varga\\Box\\Data\\nc Files\\PACQUI\\aux_orbits\\GFZ0MGXRAP_20252040000_01D_05M_ORB.SP3 exists | Reading...\n",
      "C:\\Users\\varga\\Box\\Data\\nc Files\\PACQUI\\aux_orbits\\GFZ0MGXRAP_20252040000_01D_05M_ORB.SP3 file is read in 0.41 seconds\n",
      "This file does not exist: C:\\Users\\varga\\Box\\Data\\nc Files\\PACQUI\\aux_orbits\\GFZ0MGXRAP_20252050000_01D_05M_ORB.SP3\n",
      "Downloading: ftp://gssc.esa.int/gnss/products/2376//GFZ0MGXRAP_20252050000_01D_05M_ORB.SP3.gz"
     ]
    },
    {
     "name": "stderr",
     "output_type": "stream",
     "text": [
      "GFZ0MGXRAP_20252050000_01D_05M_ORB.SP3.gz: 1.05MB [00:03, 345kB/s]                             \n"
     ]
    },
    {
     "name": "stdout",
     "output_type": "stream",
     "text": [
      " | Download completed for ftp://gssc.esa.int/gnss/products/2376//GFZ0MGXRAP_20252050000_01D_05M_ORB.SP3.gz\n",
      "C:\\Users\\varga\\Box\\Data\\nc Files\\PACQUI\\aux_orbits\\GFZ0MGXRAP_20252050000_01D_05M_ORB.SP3 file is read in 3.93 seconds\n",
      "C:\\Users\\varga\\Box\\Data\\nc Files\\PACQUI\\aux_orbits\\GFZ0MGXRAP_20252030000_01D_30S_CLK.CLK exists | Reading...\n",
      "C:\\Users\\varga\\Box\\Data\\nc Files\\PACQUI\\aux_orbits\\GFZ0MGXRAP_20252030000_01D_30S_CLK.CLK file is read in 2.95 seconds\n",
      "C:\\Users\\varga\\Box\\Data\\nc Files\\PACQUI\\aux_orbits\\GFZ0MGXRAP_20252040000_01D_30S_CLK.CLK exists | Reading...\n",
      "C:\\Users\\varga\\Box\\Data\\nc Files\\PACQUI\\aux_orbits\\GFZ0MGXRAP_20252040000_01D_30S_CLK.CLK file is read in 2.91 seconds\n",
      "This file does not exist: C:\\Users\\varga\\Box\\Data\\nc Files\\PACQUI\\aux_orbits\\GFZ0MGXRAP_20252050000_01D_30S_CLK.CLK\n",
      "Downloading: GFZ0MGXRAP_20252050000_01D_30S_CLK.CLK.gz"
     ]
    },
    {
     "name": "stderr",
     "output_type": "stream",
     "text": [
      "GFZ0MGXRAP_20252050000_01D_30S_CLK.CLK.gz: 4.84MB [00:03, 1.34MB/s]                            \n"
     ]
    },
    {
     "name": "stdout",
     "output_type": "stream",
     "text": [
      " | Download completed for GFZ0MGXRAP_20252050000_01D_30S_CLK.CLK.gz\n",
      "C:\\Users\\varga\\Box\\Data\\nc Files\\PACQUI\\aux_orbits\\GFZ0MGXRAP_20252050000_01D_30S_CLK.CLK file is read in 3.02 seconds\n",
      "SP3 interpolation is done in 3.30 seconds\n",
      "Saved 100427 individual observations in C:\\Users\\varga\\Box\\Data\\nc Files\\PACQUI\\processed\\PACQUI_raw_20250722225603.nc\n",
      "[OK] PACQUI_raw_20250722225603.25O\n",
      "Could not find any files matching the pattern C:\\Users\\varga\\Box\\Data\\nc Files\\PACQUI\\processed*.nc\n",
      "C:\\Users\\varga\\Box\\Data\\nc Files\\PACQUI\\PACQUI_raw_20250723225604.25O exists | Reading...\n",
      "Observation file  C:\\Users\\varga\\Box\\Data\\nc Files\\PACQUI\\PACQUI_raw_20250723225604.25O  is read in 3.30 seconds.\n",
      "Processing 99314 individual observations\n",
      "Calculating Azimuth and Elevation\n",
      "C:\\Users\\varga\\Box\\Data\\nc Files\\PACQUI\\aux_orbits\\GFZ0MGXRAP_20252040000_01D_05M_ORB.SP3 exists | Reading...\n",
      "C:\\Users\\varga\\Box\\Data\\nc Files\\PACQUI\\aux_orbits\\GFZ0MGXRAP_20252040000_01D_05M_ORB.SP3 file is read in 0.65 seconds\n",
      "C:\\Users\\varga\\Box\\Data\\nc Files\\PACQUI\\aux_orbits\\GFZ0MGXRAP_20252050000_01D_05M_ORB.SP3 exists | Reading...\n",
      "C:\\Users\\varga\\Box\\Data\\nc Files\\PACQUI\\aux_orbits\\GFZ0MGXRAP_20252050000_01D_05M_ORB.SP3 file is read in 0.65 seconds\n",
      "This file does not exist: C:\\Users\\varga\\Box\\Data\\nc Files\\PACQUI\\aux_orbits\\GFZ0MGXRAP_20252060000_01D_05M_ORB.SP3\n",
      "Downloading: ftp://gssc.esa.int/gnss/products/2376//GFZ0MGXRAP_20252060000_01D_05M_ORB.SP3.gz"
     ]
    },
    {
     "name": "stderr",
     "output_type": "stream",
     "text": [
      "GFZ0MGXRAP_20252060000_01D_05M_ORB.SP3.gz: 1.03MB [00:03, 327kB/s]                             \n"
     ]
    },
    {
     "name": "stdout",
     "output_type": "stream",
     "text": [
      " | Download completed for ftp://gssc.esa.int/gnss/products/2376//GFZ0MGXRAP_20252060000_01D_05M_ORB.SP3.gz\n",
      "C:\\Users\\varga\\Box\\Data\\nc Files\\PACQUI\\aux_orbits\\GFZ0MGXRAP_20252060000_01D_05M_ORB.SP3 file is read in 4.08 seconds\n",
      "C:\\Users\\varga\\Box\\Data\\nc Files\\PACQUI\\aux_orbits\\GFZ0MGXRAP_20252040000_01D_30S_CLK.CLK exists | Reading...\n",
      "C:\\Users\\varga\\Box\\Data\\nc Files\\PACQUI\\aux_orbits\\GFZ0MGXRAP_20252040000_01D_30S_CLK.CLK file is read in 2.78 seconds\n",
      "C:\\Users\\varga\\Box\\Data\\nc Files\\PACQUI\\aux_orbits\\GFZ0MGXRAP_20252050000_01D_30S_CLK.CLK exists | Reading...\n",
      "C:\\Users\\varga\\Box\\Data\\nc Files\\PACQUI\\aux_orbits\\GFZ0MGXRAP_20252050000_01D_30S_CLK.CLK file is read in 8.39 seconds\n",
      "This file does not exist: C:\\Users\\varga\\Box\\Data\\nc Files\\PACQUI\\aux_orbits\\GFZ0MGXRAP_20252060000_01D_30S_CLK.CLK\n",
      "Downloading: GFZ0MGXRAP_20252060000_01D_30S_CLK.CLK.gz"
     ]
    },
    {
     "name": "stderr",
     "output_type": "stream",
     "text": [
      "GFZ0MGXRAP_20252060000_01D_30S_CLK.CLK.gz: 4.79MB [00:04, 1.13MB/s]                            \n"
     ]
    },
    {
     "name": "stdout",
     "output_type": "stream",
     "text": [
      " | Download completed for GFZ0MGXRAP_20252060000_01D_30S_CLK.CLK.gz\n",
      "C:\\Users\\varga\\Box\\Data\\nc Files\\PACQUI\\aux_orbits\\GFZ0MGXRAP_20252060000_01D_30S_CLK.CLK file is read in 2.15 seconds\n",
      "SP3 interpolation is done in 3.16 seconds\n",
      "Saved 99314 individual observations in C:\\Users\\varga\\Box\\Data\\nc Files\\PACQUI\\processed\\PACQUI_raw_20250723225604.nc\n",
      "[OK] PACQUI_raw_20250723225604.25O\n",
      "Could not find any files matching the pattern C:\\Users\\varga\\Box\\Data\\nc Files\\PACQUI\\processed*.nc\n",
      "C:\\Users\\varga\\Box\\Data\\nc Files\\PACQUI\\PACQUI_raw_20250724225605.25O exists | Reading...\n",
      "Observation file  C:\\Users\\varga\\Box\\Data\\nc Files\\PACQUI\\PACQUI_raw_20250724225605.25O  is read in 2.65 seconds.\n",
      "Processing 97209 individual observations\n",
      "Calculating Azimuth and Elevation\n",
      "C:\\Users\\varga\\Box\\Data\\nc Files\\PACQUI\\aux_orbits\\GFZ0MGXRAP_20252050000_01D_05M_ORB.SP3 exists | Reading...\n",
      "C:\\Users\\varga\\Box\\Data\\nc Files\\PACQUI\\aux_orbits\\GFZ0MGXRAP_20252050000_01D_05M_ORB.SP3 file is read in 0.57 seconds\n",
      "C:\\Users\\varga\\Box\\Data\\nc Files\\PACQUI\\aux_orbits\\GFZ0MGXRAP_20252060000_01D_05M_ORB.SP3 exists | Reading...\n",
      "C:\\Users\\varga\\Box\\Data\\nc Files\\PACQUI\\aux_orbits\\GFZ0MGXRAP_20252060000_01D_05M_ORB.SP3 file is read in 0.62 seconds\n",
      "This file does not exist: C:\\Users\\varga\\Box\\Data\\nc Files\\PACQUI\\aux_orbits\\GFZ0MGXRAP_20252070000_01D_05M_ORB.SP3\n",
      "Downloading: ftp://gssc.esa.int/gnss/products/2376//GFZ0MGXRAP_20252070000_01D_05M_ORB.SP3.gz"
     ]
    },
    {
     "name": "stderr",
     "output_type": "stream",
     "text": [
      "GFZ0MGXRAP_20252070000_01D_05M_ORB.SP3.gz: 1.04MB [00:03, 335kB/s]                             \n"
     ]
    },
    {
     "name": "stdout",
     "output_type": "stream",
     "text": [
      " | Download completed for ftp://gssc.esa.int/gnss/products/2376//GFZ0MGXRAP_20252070000_01D_05M_ORB.SP3.gz\n",
      "C:\\Users\\varga\\Box\\Data\\nc Files\\PACQUI\\aux_orbits\\GFZ0MGXRAP_20252070000_01D_05M_ORB.SP3 file is read in 4.01 seconds\n",
      "C:\\Users\\varga\\Box\\Data\\nc Files\\PACQUI\\aux_orbits\\GFZ0MGXRAP_20252050000_01D_30S_CLK.CLK exists | Reading...\n",
      "C:\\Users\\varga\\Box\\Data\\nc Files\\PACQUI\\aux_orbits\\GFZ0MGXRAP_20252050000_01D_30S_CLK.CLK file is read in 3.22 seconds\n",
      "C:\\Users\\varga\\Box\\Data\\nc Files\\PACQUI\\aux_orbits\\GFZ0MGXRAP_20252060000_01D_30S_CLK.CLK exists | Reading...\n",
      "C:\\Users\\varga\\Box\\Data\\nc Files\\PACQUI\\aux_orbits\\GFZ0MGXRAP_20252060000_01D_30S_CLK.CLK file is read in 2.91 seconds\n",
      "This file does not exist: C:\\Users\\varga\\Box\\Data\\nc Files\\PACQUI\\aux_orbits\\GFZ0MGXRAP_20252070000_01D_30S_CLK.CLK\n",
      "Downloading: GFZ0MGXRAP_20252070000_01D_30S_CLK.CLK.gz"
     ]
    },
    {
     "name": "stderr",
     "output_type": "stream",
     "text": [
      "GFZ0MGXRAP_20252070000_01D_30S_CLK.CLK.gz: 4.82MB [00:03, 1.27MB/s]                            \n"
     ]
    },
    {
     "name": "stdout",
     "output_type": "stream",
     "text": [
      " | Download completed for GFZ0MGXRAP_20252070000_01D_30S_CLK.CLK.gz\n",
      "C:\\Users\\varga\\Box\\Data\\nc Files\\PACQUI\\aux_orbits\\GFZ0MGXRAP_20252070000_01D_30S_CLK.CLK file is read in 3.65 seconds\n",
      "SP3 interpolation is done in 3.38 seconds\n",
      "Saved 97209 individual observations in C:\\Users\\varga\\Box\\Data\\nc Files\\PACQUI\\processed\\PACQUI_raw_20250724225605.nc\n",
      "[OK] PACQUI_raw_20250724225605.25O\n",
      "Could not find any files matching the pattern C:\\Users\\varga\\Box\\Data\\nc Files\\PACQUI\\processed*.nc\n",
      "C:\\Users\\varga\\Box\\Data\\nc Files\\PACQUI\\PACQUI_raw_20250725225606.25O exists | Reading...\n",
      "Observation file  C:\\Users\\varga\\Box\\Data\\nc Files\\PACQUI\\PACQUI_raw_20250725225606.25O  is read in 3.11 seconds.\n",
      "Processing 98637 individual observations\n",
      "Calculating Azimuth and Elevation\n",
      "C:\\Users\\varga\\Box\\Data\\nc Files\\PACQUI\\aux_orbits\\GFZ0MGXRAP_20252060000_01D_05M_ORB.SP3 exists | Reading...\n",
      "C:\\Users\\varga\\Box\\Data\\nc Files\\PACQUI\\aux_orbits\\GFZ0MGXRAP_20252060000_01D_05M_ORB.SP3 file is read in 0.62 seconds\n",
      "C:\\Users\\varga\\Box\\Data\\nc Files\\PACQUI\\aux_orbits\\GFZ0MGXRAP_20252070000_01D_05M_ORB.SP3 exists | Reading...\n",
      "C:\\Users\\varga\\Box\\Data\\nc Files\\PACQUI\\aux_orbits\\GFZ0MGXRAP_20252070000_01D_05M_ORB.SP3 file is read in 0.62 seconds\n",
      "This file does not exist: C:\\Users\\varga\\Box\\Data\\nc Files\\PACQUI\\aux_orbits\\GFZ0MGXRAP_20252080000_01D_05M_ORB.SP3\n",
      "Downloading: ftp://gssc.esa.int/gnss/products/2377//GFZ0MGXRAP_20252080000_01D_05M_ORB.SP3.gz"
     ]
    },
    {
     "name": "stderr",
     "output_type": "stream",
     "text": [
      "GFZ0MGXRAP_20252080000_01D_05M_ORB.SP3.gz: 1.04MB [00:03, 346kB/s]                             \n"
     ]
    },
    {
     "name": "stdout",
     "output_type": "stream",
     "text": [
      " | Download completed for ftp://gssc.esa.int/gnss/products/2377//GFZ0MGXRAP_20252080000_01D_05M_ORB.SP3.gz\n",
      "C:\\Users\\varga\\Box\\Data\\nc Files\\PACQUI\\aux_orbits\\GFZ0MGXRAP_20252080000_01D_05M_ORB.SP3 file is read in 3.89 seconds\n",
      "C:\\Users\\varga\\Box\\Data\\nc Files\\PACQUI\\aux_orbits\\GFZ0MGXRAP_20252060000_01D_30S_CLK.CLK exists | Reading...\n",
      "C:\\Users\\varga\\Box\\Data\\nc Files\\PACQUI\\aux_orbits\\GFZ0MGXRAP_20252060000_01D_30S_CLK.CLK file is read in 2.84 seconds\n",
      "C:\\Users\\varga\\Box\\Data\\nc Files\\PACQUI\\aux_orbits\\GFZ0MGXRAP_20252070000_01D_30S_CLK.CLK exists | Reading...\n",
      "C:\\Users\\varga\\Box\\Data\\nc Files\\PACQUI\\aux_orbits\\GFZ0MGXRAP_20252070000_01D_30S_CLK.CLK file is read in 9.99 seconds\n",
      "This file does not exist: C:\\Users\\varga\\Box\\Data\\nc Files\\PACQUI\\aux_orbits\\GFZ0MGXRAP_20252080000_01D_30S_CLK.CLK\n",
      "Downloading: GFZ0MGXRAP_20252080000_01D_30S_CLK.CLK.gz"
     ]
    },
    {
     "name": "stderr",
     "output_type": "stream",
     "text": [
      "GFZ0MGXRAP_20252080000_01D_30S_CLK.CLK.gz: 4.82MB [00:03, 1.39MB/s]                            \n"
     ]
    },
    {
     "name": "stdout",
     "output_type": "stream",
     "text": [
      " | Download completed for GFZ0MGXRAP_20252080000_01D_30S_CLK.CLK.gz\n",
      "C:\\Users\\varga\\Box\\Data\\nc Files\\PACQUI\\aux_orbits\\GFZ0MGXRAP_20252080000_01D_30S_CLK.CLK file is read in 2.07 seconds\n",
      "SP3 interpolation is done in 3.29 seconds\n",
      "Saved 98637 individual observations in C:\\Users\\varga\\Box\\Data\\nc Files\\PACQUI\\processed\\PACQUI_raw_20250725225606.nc\n",
      "[OK] PACQUI_raw_20250725225606.25O\n",
      "Could not find any files matching the pattern C:\\Users\\varga\\Box\\Data\\nc Files\\PACQUI\\processed*.nc\n",
      "C:\\Users\\varga\\Box\\Data\\nc Files\\PACQUI\\PACQUI_raw_20250726225607.25O exists | Reading...\n",
      "Observation file  C:\\Users\\varga\\Box\\Data\\nc Files\\PACQUI\\PACQUI_raw_20250726225607.25O  is read in 3.37 seconds.\n",
      "Processing 100852 individual observations\n",
      "Calculating Azimuth and Elevation\n",
      "C:\\Users\\varga\\Box\\Data\\nc Files\\PACQUI\\aux_orbits\\GFZ0MGXRAP_20252070000_01D_05M_ORB.SP3 exists | Reading...\n",
      "C:\\Users\\varga\\Box\\Data\\nc Files\\PACQUI\\aux_orbits\\GFZ0MGXRAP_20252070000_01D_05M_ORB.SP3 file is read in 0.61 seconds\n",
      "C:\\Users\\varga\\Box\\Data\\nc Files\\PACQUI\\aux_orbits\\GFZ0MGXRAP_20252080000_01D_05M_ORB.SP3 exists | Reading...\n",
      "C:\\Users\\varga\\Box\\Data\\nc Files\\PACQUI\\aux_orbits\\GFZ0MGXRAP_20252080000_01D_05M_ORB.SP3 file is read in 0.57 seconds\n",
      "This file does not exist: C:\\Users\\varga\\Box\\Data\\nc Files\\PACQUI\\aux_orbits\\GFZ0MGXRAP_20252090000_01D_05M_ORB.SP3\n",
      "Downloading: ftp://gssc.esa.int/gnss/products/2377//GFZ0MGXRAP_20252090000_01D_05M_ORB.SP3.gz"
     ]
    },
    {
     "name": "stderr",
     "output_type": "stream",
     "text": [
      "GFZ0MGXRAP_20252090000_01D_05M_ORB.SP3.gz: 1.02MB [00:03, 327kB/s]                             \n"
     ]
    },
    {
     "name": "stdout",
     "output_type": "stream",
     "text": [
      " | Download completed for ftp://gssc.esa.int/gnss/products/2377//GFZ0MGXRAP_20252090000_01D_05M_ORB.SP3.gz\n",
      "C:\\Users\\varga\\Box\\Data\\nc Files\\PACQUI\\aux_orbits\\GFZ0MGXRAP_20252090000_01D_05M_ORB.SP3 file is read in 4.01 seconds\n",
      "C:\\Users\\varga\\Box\\Data\\nc Files\\PACQUI\\aux_orbits\\GFZ0MGXRAP_20252070000_01D_30S_CLK.CLK exists | Reading...\n",
      "C:\\Users\\varga\\Box\\Data\\nc Files\\PACQUI\\aux_orbits\\GFZ0MGXRAP_20252070000_01D_30S_CLK.CLK file is read in 3.09 seconds\n",
      "C:\\Users\\varga\\Box\\Data\\nc Files\\PACQUI\\aux_orbits\\GFZ0MGXRAP_20252080000_01D_30S_CLK.CLK exists | Reading...\n",
      "C:\\Users\\varga\\Box\\Data\\nc Files\\PACQUI\\aux_orbits\\GFZ0MGXRAP_20252080000_01D_30S_CLK.CLK file is read in 2.97 seconds\n",
      "This file does not exist: C:\\Users\\varga\\Box\\Data\\nc Files\\PACQUI\\aux_orbits\\GFZ0MGXRAP_20252090000_01D_30S_CLK.CLK\n",
      "Downloading: GFZ0MGXRAP_20252090000_01D_30S_CLK.CLK.gz"
     ]
    },
    {
     "name": "stderr",
     "output_type": "stream",
     "text": [
      "GFZ0MGXRAP_20252090000_01D_30S_CLK.CLK.gz: 4.76MB [00:03, 1.35MB/s]                            \n"
     ]
    },
    {
     "name": "stdout",
     "output_type": "stream",
     "text": [
      " | Download completed for GFZ0MGXRAP_20252090000_01D_30S_CLK.CLK.gz\n",
      "C:\\Users\\varga\\Box\\Data\\nc Files\\PACQUI\\aux_orbits\\GFZ0MGXRAP_20252090000_01D_30S_CLK.CLK file is read in 7.07 seconds\n"
     ]
    },
    {
     "name": "stderr",
     "output_type": "stream",
     "text": [
      "C:\\Users\\varga\\Documents\\GitHub\\gnssvod\\gnssvod\\position\\interpolation.py:59: FutureWarning: The behavior of pd.concat with len(keys) != len(objs) is deprecated. In a future version this will raise instead of truncating to the smaller of the two sequences\n",
      "  sp3_resampled = _pd.concat(sp3_resampled, keys=svList, names=['SV']).reorder_levels(['Epoch', 'SV']).sort_index(level='Epoch')\n"
     ]
    },
    {
     "name": "stdout",
     "output_type": "stream",
     "text": [
      "SP3 interpolation is done in 3.26 seconds\n",
      "Saved 100852 individual observations in C:\\Users\\varga\\Box\\Data\\nc Files\\PACQUI\\processed\\PACQUI_raw_20250726225607.nc\n",
      "[OK] PACQUI_raw_20250726225607.25O\n",
      "Could not find any files matching the pattern C:\\Users\\varga\\Box\\Data\\nc Files\\PACQUI\\processed*.nc\n",
      "C:\\Users\\varga\\Box\\Data\\nc Files\\PACQUI\\PACQUI_raw_20250727225608.25O exists | Reading...\n",
      "Observation file  C:\\Users\\varga\\Box\\Data\\nc Files\\PACQUI\\PACQUI_raw_20250727225608.25O  is read in 2.44 seconds.\n",
      "Processing 98328 individual observations\n",
      "Calculating Azimuth and Elevation\n",
      "C:\\Users\\varga\\Box\\Data\\nc Files\\PACQUI\\aux_orbits\\GFZ0MGXRAP_20252080000_01D_05M_ORB.SP3 exists | Reading...\n",
      "C:\\Users\\varga\\Box\\Data\\nc Files\\PACQUI\\aux_orbits\\GFZ0MGXRAP_20252080000_01D_05M_ORB.SP3 file is read in 0.67 seconds\n",
      "C:\\Users\\varga\\Box\\Data\\nc Files\\PACQUI\\aux_orbits\\GFZ0MGXRAP_20252090000_01D_05M_ORB.SP3 exists | Reading...\n",
      "C:\\Users\\varga\\Box\\Data\\nc Files\\PACQUI\\aux_orbits\\GFZ0MGXRAP_20252090000_01D_05M_ORB.SP3 file is read in 0.68 seconds\n",
      "This file does not exist: C:\\Users\\varga\\Box\\Data\\nc Files\\PACQUI\\aux_orbits\\GFZ0MGXRAP_20252100000_01D_05M_ORB.SP3\n",
      "Downloading: ftp://gssc.esa.int/gnss/products/2377//GFZ0MGXRAP_20252100000_01D_05M_ORB.SP3.gz"
     ]
    },
    {
     "name": "stderr",
     "output_type": "stream",
     "text": [
      "GFZ0MGXRAP_20252100000_01D_05M_ORB.SP3.gz: 1.05MB [00:03, 345kB/s]                             \n"
     ]
    },
    {
     "name": "stdout",
     "output_type": "stream",
     "text": [
      " | Download completed for ftp://gssc.esa.int/gnss/products/2377//GFZ0MGXRAP_20252100000_01D_05M_ORB.SP3.gz\n",
      "C:\\Users\\varga\\Box\\Data\\nc Files\\PACQUI\\aux_orbits\\GFZ0MGXRAP_20252100000_01D_05M_ORB.SP3 file is read in 3.90 seconds\n",
      "C:\\Users\\varga\\Box\\Data\\nc Files\\PACQUI\\aux_orbits\\GFZ0MGXRAP_20252080000_01D_30S_CLK.CLK exists | Reading...\n",
      "C:\\Users\\varga\\Box\\Data\\nc Files\\PACQUI\\aux_orbits\\GFZ0MGXRAP_20252080000_01D_30S_CLK.CLK file is read in 2.98 seconds\n",
      "C:\\Users\\varga\\Box\\Data\\nc Files\\PACQUI\\aux_orbits\\GFZ0MGXRAP_20252090000_01D_30S_CLK.CLK exists | Reading...\n",
      "C:\\Users\\varga\\Box\\Data\\nc Files\\PACQUI\\aux_orbits\\GFZ0MGXRAP_20252090000_01D_30S_CLK.CLK file is read in 3.01 seconds\n",
      "This file does not exist: C:\\Users\\varga\\Box\\Data\\nc Files\\PACQUI\\aux_orbits\\GFZ0MGXRAP_20252100000_01D_30S_CLK.CLK\n",
      "Downloading: GFZ0MGXRAP_20252100000_01D_30S_CLK.CLK.gz"
     ]
    },
    {
     "name": "stderr",
     "output_type": "stream",
     "text": [
      "GFZ0MGXRAP_20252100000_01D_30S_CLK.CLK.gz: 4.82MB [00:03, 1.34MB/s]                            \n"
     ]
    },
    {
     "name": "stdout",
     "output_type": "stream",
     "text": [
      " | Download completed for GFZ0MGXRAP_20252100000_01D_30S_CLK.CLK.gz\n",
      "C:\\Users\\varga\\Box\\Data\\nc Files\\PACQUI\\aux_orbits\\GFZ0MGXRAP_20252100000_01D_30S_CLK.CLK file is read in 10.02 seconds\n",
      "SP3 interpolation is done in 3.04 seconds\n",
      "Saved 98328 individual observations in C:\\Users\\varga\\Box\\Data\\nc Files\\PACQUI\\processed\\PACQUI_raw_20250727225608.nc\n",
      "[OK] PACQUI_raw_20250727225608.25O\n",
      "Could not find any files matching the pattern C:\\Users\\varga\\Box\\Data\\nc Files\\PACQUI\\processed*.nc\n",
      "C:\\Users\\varga\\Box\\Data\\nc Files\\PACQUI\\PACQUI_raw_20250728225609.25O exists | Reading...\n",
      "Observation file  C:\\Users\\varga\\Box\\Data\\nc Files\\PACQUI\\PACQUI_raw_20250728225609.25O  is read in 2.04 seconds.\n",
      "Processing 99491 individual observations\n",
      "Calculating Azimuth and Elevation\n",
      "C:\\Users\\varga\\Box\\Data\\nc Files\\PACQUI\\aux_orbits\\GFZ0MGXRAP_20252090000_01D_05M_ORB.SP3 exists | Reading...\n",
      "C:\\Users\\varga\\Box\\Data\\nc Files\\PACQUI\\aux_orbits\\GFZ0MGXRAP_20252090000_01D_05M_ORB.SP3 file is read in 0.71 seconds\n",
      "C:\\Users\\varga\\Box\\Data\\nc Files\\PACQUI\\aux_orbits\\GFZ0MGXRAP_20252100000_01D_05M_ORB.SP3 exists | Reading...\n",
      "C:\\Users\\varga\\Box\\Data\\nc Files\\PACQUI\\aux_orbits\\GFZ0MGXRAP_20252100000_01D_05M_ORB.SP3 file is read in 0.59 seconds\n",
      "This file does not exist: C:\\Users\\varga\\Box\\Data\\nc Files\\PACQUI\\aux_orbits\\GFZ0MGXRAP_20252110000_01D_05M_ORB.SP3\n",
      "Downloading: ftp://gssc.esa.int/gnss/products/2377//GFZ0MGXRAP_20252110000_01D_05M_ORB.SP3.gz"
     ]
    },
    {
     "name": "stderr",
     "output_type": "stream",
     "text": [
      "GFZ0MGXRAP_20252110000_01D_05M_ORB.SP3.gz: 1.05MB [00:03, 350kB/s]                             \n"
     ]
    },
    {
     "name": "stdout",
     "output_type": "stream",
     "text": [
      " | Download completed for ftp://gssc.esa.int/gnss/products/2377//GFZ0MGXRAP_20252110000_01D_05M_ORB.SP3.gz\n",
      "C:\\Users\\varga\\Box\\Data\\nc Files\\PACQUI\\aux_orbits\\GFZ0MGXRAP_20252110000_01D_05M_ORB.SP3 file is read in 3.90 seconds\n",
      "C:\\Users\\varga\\Box\\Data\\nc Files\\PACQUI\\aux_orbits\\GFZ0MGXRAP_20252090000_01D_30S_CLK.CLK exists | Reading...\n",
      "C:\\Users\\varga\\Box\\Data\\nc Files\\PACQUI\\aux_orbits\\GFZ0MGXRAP_20252090000_01D_30S_CLK.CLK file is read in 2.63 seconds\n",
      "C:\\Users\\varga\\Box\\Data\\nc Files\\PACQUI\\aux_orbits\\GFZ0MGXRAP_20252100000_01D_30S_CLK.CLK exists | Reading...\n",
      "C:\\Users\\varga\\Box\\Data\\nc Files\\PACQUI\\aux_orbits\\GFZ0MGXRAP_20252100000_01D_30S_CLK.CLK file is read in 2.91 seconds\n",
      "This file does not exist: C:\\Users\\varga\\Box\\Data\\nc Files\\PACQUI\\aux_orbits\\GFZ0MGXRAP_20252110000_01D_30S_CLK.CLK\n",
      "Downloading: GFZ0MGXRAP_20252110000_01D_30S_CLK.CLK.gz"
     ]
    },
    {
     "name": "stderr",
     "output_type": "stream",
     "text": [
      "GFZ0MGXRAP_20252110000_01D_30S_CLK.CLK.gz: 4.84MB [00:03, 1.39MB/s]                            \n"
     ]
    },
    {
     "name": "stdout",
     "output_type": "stream",
     "text": [
      " | Download completed for GFZ0MGXRAP_20252110000_01D_30S_CLK.CLK.gz\n",
      "C:\\Users\\varga\\Box\\Data\\nc Files\\PACQUI\\aux_orbits\\GFZ0MGXRAP_20252110000_01D_30S_CLK.CLK file is read in 5.32 seconds\n",
      "SP3 interpolation is done in 3.39 seconds\n",
      "Saved 99491 individual observations in C:\\Users\\varga\\Box\\Data\\nc Files\\PACQUI\\processed\\PACQUI_raw_20250728225609.nc\n",
      "[OK] PACQUI_raw_20250728225609.25O\n",
      "Could not find any files matching the pattern C:\\Users\\varga\\Box\\Data\\nc Files\\PACQUI\\processed*.nc\n",
      "C:\\Users\\varga\\Box\\Data\\nc Files\\PACQUI\\PACQUI_raw_20250729225610.25O exists | Reading...\n",
      "Observation file  C:\\Users\\varga\\Box\\Data\\nc Files\\PACQUI\\PACQUI_raw_20250729225610.25O  is read in 3.07 seconds.\n",
      "Processing 100025 individual observations\n",
      "Calculating Azimuth and Elevation\n",
      "C:\\Users\\varga\\Box\\Data\\nc Files\\PACQUI\\aux_orbits\\GFZ0MGXRAP_20252100000_01D_05M_ORB.SP3 exists | Reading...\n",
      "C:\\Users\\varga\\Box\\Data\\nc Files\\PACQUI\\aux_orbits\\GFZ0MGXRAP_20252100000_01D_05M_ORB.SP3 file is read in 0.64 seconds\n",
      "C:\\Users\\varga\\Box\\Data\\nc Files\\PACQUI\\aux_orbits\\GFZ0MGXRAP_20252110000_01D_05M_ORB.SP3 exists | Reading...\n",
      "C:\\Users\\varga\\Box\\Data\\nc Files\\PACQUI\\aux_orbits\\GFZ0MGXRAP_20252110000_01D_05M_ORB.SP3 file is read in 0.58 seconds\n",
      "This file does not exist: C:\\Users\\varga\\Box\\Data\\nc Files\\PACQUI\\aux_orbits\\GFZ0MGXRAP_20252120000_01D_05M_ORB.SP3\n",
      "Downloading: ftp://gssc.esa.int/gnss/products/2377//GFZ0MGXRAP_20252120000_01D_05M_ORB.SP3.gz"
     ]
    },
    {
     "name": "stderr",
     "output_type": "stream",
     "text": [
      "GFZ0MGXRAP_20252120000_01D_05M_ORB.SP3.gz: 1.04MB [00:03, 342kB/s]                             \n"
     ]
    },
    {
     "name": "stdout",
     "output_type": "stream",
     "text": [
      " | Download completed for ftp://gssc.esa.int/gnss/products/2377//GFZ0MGXRAP_20252120000_01D_05M_ORB.SP3.gz\n",
      "C:\\Users\\varga\\Box\\Data\\nc Files\\PACQUI\\aux_orbits\\GFZ0MGXRAP_20252120000_01D_05M_ORB.SP3 file is read in 3.96 seconds\n",
      "C:\\Users\\varga\\Box\\Data\\nc Files\\PACQUI\\aux_orbits\\GFZ0MGXRAP_20252100000_01D_30S_CLK.CLK exists | Reading...\n",
      "C:\\Users\\varga\\Box\\Data\\nc Files\\PACQUI\\aux_orbits\\GFZ0MGXRAP_20252100000_01D_30S_CLK.CLK file is read in 2.86 seconds\n",
      "C:\\Users\\varga\\Box\\Data\\nc Files\\PACQUI\\aux_orbits\\GFZ0MGXRAP_20252110000_01D_30S_CLK.CLK exists | Reading...\n",
      "C:\\Users\\varga\\Box\\Data\\nc Files\\PACQUI\\aux_orbits\\GFZ0MGXRAP_20252110000_01D_30S_CLK.CLK file is read in 10.50 seconds\n",
      "This file does not exist: C:\\Users\\varga\\Box\\Data\\nc Files\\PACQUI\\aux_orbits\\GFZ0MGXRAP_20252120000_01D_30S_CLK.CLK\n",
      "Downloading: GFZ0MGXRAP_20252120000_01D_30S_CLK.CLK.gz"
     ]
    },
    {
     "name": "stderr",
     "output_type": "stream",
     "text": [
      "GFZ0MGXRAP_20252120000_01D_30S_CLK.CLK.gz: 4.82MB [00:05, 984kB/s]                             \n"
     ]
    },
    {
     "name": "stdout",
     "output_type": "stream",
     "text": [
      " | Download completed for GFZ0MGXRAP_20252120000_01D_30S_CLK.CLK.gz\n",
      "C:\\Users\\varga\\Box\\Data\\nc Files\\PACQUI\\aux_orbits\\GFZ0MGXRAP_20252120000_01D_30S_CLK.CLK file is read in 2.19 seconds\n",
      "SP3 interpolation is done in 3.24 seconds\n",
      "Saved 100025 individual observations in C:\\Users\\varga\\Box\\Data\\nc Files\\PACQUI\\processed\\PACQUI_raw_20250729225610.nc\n",
      "[OK] PACQUI_raw_20250729225610.25O\n",
      "Could not find any files matching the pattern C:\\Users\\varga\\Box\\Data\\nc Files\\PACQUI\\processed*.nc\n",
      "C:\\Users\\varga\\Box\\Data\\nc Files\\PACQUI\\PACQUI_raw_20250730225611.25O exists | Reading...\n",
      "Observation file  C:\\Users\\varga\\Box\\Data\\nc Files\\PACQUI\\PACQUI_raw_20250730225611.25O  is read in 2.04 seconds.\n",
      "Processing 67305 individual observations\n",
      "Calculating Azimuth and Elevation\n",
      "C:\\Users\\varga\\Box\\Data\\nc Files\\PACQUI\\aux_orbits\\GFZ0MGXRAP_20252110000_01D_05M_ORB.SP3 exists | Reading...\n",
      "C:\\Users\\varga\\Box\\Data\\nc Files\\PACQUI\\aux_orbits\\GFZ0MGXRAP_20252110000_01D_05M_ORB.SP3 file is read in 0.76 seconds\n",
      "C:\\Users\\varga\\Box\\Data\\nc Files\\PACQUI\\aux_orbits\\GFZ0MGXRAP_20252120000_01D_05M_ORB.SP3 exists | Reading...\n",
      "C:\\Users\\varga\\Box\\Data\\nc Files\\PACQUI\\aux_orbits\\GFZ0MGXRAP_20252120000_01D_05M_ORB.SP3 file is read in 0.63 seconds\n",
      "C:\\Users\\varga\\Box\\Data\\nc Files\\PACQUI\\aux_orbits\\GFZ0MGXRAP_20252110000_01D_30S_CLK.CLK exists | Reading...\n",
      "C:\\Users\\varga\\Box\\Data\\nc Files\\PACQUI\\aux_orbits\\GFZ0MGXRAP_20252110000_01D_30S_CLK.CLK file is read in 3.08 seconds\n",
      "C:\\Users\\varga\\Box\\Data\\nc Files\\PACQUI\\aux_orbits\\GFZ0MGXRAP_20252120000_01D_30S_CLK.CLK exists | Reading...\n",
      "C:\\Users\\varga\\Box\\Data\\nc Files\\PACQUI\\aux_orbits\\GFZ0MGXRAP_20252120000_01D_30S_CLK.CLK file is read in 2.86 seconds\n",
      "SP3 interpolation is done in 3.35 seconds\n",
      "Saved 67305 individual observations in C:\\Users\\varga\\Box\\Data\\nc Files\\PACQUI\\processed\\PACQUI_raw_20250730225611.nc\n",
      "[OK] PACQUI_raw_20250730225611.25O\n",
      "Could not find any files matching the pattern C:\\Users\\varga\\Box\\Data\\nc Files\\PACQUI\\processed*.nc\n",
      "C:\\Users\\varga\\Box\\Data\\nc Files\\PACQUI\\PACQUI_raw_20250801210748.25O exists | Reading...\n",
      "Observation file  C:\\Users\\varga\\Box\\Data\\nc Files\\PACQUI\\PACQUI_raw_20250801210748.25O  is read in 3.49 seconds.\n",
      "Processing 99744 individual observations\n",
      "Calculating Azimuth and Elevation\n",
      "This file does not exist: C:\\Users\\varga\\Box\\Data\\nc Files\\PACQUI\\aux_orbits\\GFZ0MGXRAP_20252130000_01D_05M_ORB.SP3\n",
      "Downloading: ftp://gssc.esa.int/gnss/products/2377//GFZ0MGXRAP_20252130000_01D_05M_ORB.SP3.gz"
     ]
    },
    {
     "name": "stderr",
     "output_type": "stream",
     "text": [
      "GFZ0MGXRAP_20252130000_01D_05M_ORB.SP3.gz: 1.05MB [00:03, 342kB/s]                             \n"
     ]
    },
    {
     "name": "stdout",
     "output_type": "stream",
     "text": [
      " | Download completed for ftp://gssc.esa.int/gnss/products/2377//GFZ0MGXRAP_20252130000_01D_05M_ORB.SP3.gz\n",
      "C:\\Users\\varga\\Box\\Data\\nc Files\\PACQUI\\aux_orbits\\GFZ0MGXRAP_20252130000_01D_05M_ORB.SP3 file is read in 4.02 seconds\n",
      "This file does not exist: C:\\Users\\varga\\Box\\Data\\nc Files\\PACQUI\\aux_orbits\\GFZ0MGXRAP_20252140000_01D_05M_ORB.SP3\n",
      "Downloading: ftp://gssc.esa.int/gnss/products/2377//GFZ0MGXRAP_20252140000_01D_05M_ORB.SP3.gz"
     ]
    },
    {
     "name": "stderr",
     "output_type": "stream",
     "text": [
      "GFZ0MGXRAP_20252140000_01D_05M_ORB.SP3.gz: 1.05MB [00:03, 340kB/s]                             \n"
     ]
    },
    {
     "name": "stdout",
     "output_type": "stream",
     "text": [
      " | Download completed for ftp://gssc.esa.int/gnss/products/2377//GFZ0MGXRAP_20252140000_01D_05M_ORB.SP3.gz\n",
      "C:\\Users\\varga\\Box\\Data\\nc Files\\PACQUI\\aux_orbits\\GFZ0MGXRAP_20252140000_01D_05M_ORB.SP3 file is read in 5.20 seconds\n",
      "This file does not exist: C:\\Users\\varga\\Box\\Data\\nc Files\\PACQUI\\aux_orbits\\GFZ0MGXRAP_20252130000_01D_30S_CLK.CLK\n",
      "Downloading: GFZ0MGXRAP_20252130000_01D_30S_CLK.CLK.gz"
     ]
    },
    {
     "name": "stderr",
     "output_type": "stream",
     "text": [
      "GFZ0MGXRAP_20252130000_01D_30S_CLK.CLK.gz: 4.84MB [00:05, 879kB/s]                             \n"
     ]
    },
    {
     "name": "stdout",
     "output_type": "stream",
     "text": [
      " | Download completed for GFZ0MGXRAP_20252130000_01D_30S_CLK.CLK.gz\n",
      "C:\\Users\\varga\\Box\\Data\\nc Files\\PACQUI\\aux_orbits\\GFZ0MGXRAP_20252130000_01D_30S_CLK.CLK file is read in 2.09 seconds\n",
      "This file does not exist: C:\\Users\\varga\\Box\\Data\\nc Files\\PACQUI\\aux_orbits\\GFZ0MGXRAP_20252140000_01D_30S_CLK.CLK\n",
      "Downloading: GFZ0MGXRAP_20252140000_01D_30S_CLK.CLK.gz"
     ]
    },
    {
     "name": "stderr",
     "output_type": "stream",
     "text": [
      "GFZ0MGXRAP_20252140000_01D_30S_CLK.CLK.gz: 4.89MB [00:03, 1.41MB/s]                            \n"
     ]
    },
    {
     "name": "stdout",
     "output_type": "stream",
     "text": [
      " | Download completed for GFZ0MGXRAP_20252140000_01D_30S_CLK.CLK.gz\n",
      "C:\\Users\\varga\\Box\\Data\\nc Files\\PACQUI\\aux_orbits\\GFZ0MGXRAP_20252140000_01D_30S_CLK.CLK file is read in 2.07 seconds\n",
      "SP3 interpolation is done in 2.65 seconds\n",
      "Saved 99744 individual observations in C:\\Users\\varga\\Box\\Data\\nc Files\\PACQUI\\processed\\PACQUI_raw_20250801210748.nc\n",
      "[OK] PACQUI_raw_20250801210748.25O\n",
      "Could not find any files matching the pattern C:\\Users\\varga\\Box\\Data\\nc Files\\PACQUI\\processed*.nc\n",
      "C:\\Users\\varga\\Box\\Data\\nc Files\\PACQUI\\PACQUI_raw_20250802210749.25O exists | Reading...\n",
      "Observation file  C:\\Users\\varga\\Box\\Data\\nc Files\\PACQUI\\PACQUI_raw_20250802210749.25O  is read in 3.47 seconds.\n",
      "Processing 99238 individual observations\n",
      "Calculating Azimuth and Elevation\n",
      "C:\\Users\\varga\\Box\\Data\\nc Files\\PACQUI\\aux_orbits\\GFZ0MGXRAP_20252140000_01D_05M_ORB.SP3 exists | Reading...\n",
      "C:\\Users\\varga\\Box\\Data\\nc Files\\PACQUI\\aux_orbits\\GFZ0MGXRAP_20252140000_01D_05M_ORB.SP3 file is read in 0.63 seconds\n",
      "This file does not exist: C:\\Users\\varga\\Box\\Data\\nc Files\\PACQUI\\aux_orbits\\GFZ0MGXRAP_20252150000_01D_05M_ORB.SP3\n",
      "Downloading: ftp://gssc.esa.int/gnss/products/2378//GFZ0MGXRAP_20252150000_01D_05M_ORB.SP3.gz"
     ]
    },
    {
     "name": "stderr",
     "output_type": "stream",
     "text": [
      "GFZ0MGXRAP_20252150000_01D_05M_ORB.SP3.gz: 1.05MB [00:04, 262kB/s]                             \n"
     ]
    },
    {
     "name": "stdout",
     "output_type": "stream",
     "text": [
      " | Download completed for ftp://gssc.esa.int/gnss/products/2378//GFZ0MGXRAP_20252150000_01D_05M_ORB.SP3.gz\n",
      "C:\\Users\\varga\\Box\\Data\\nc Files\\PACQUI\\aux_orbits\\GFZ0MGXRAP_20252150000_01D_05M_ORB.SP3 file is read in 5.02 seconds\n",
      "C:\\Users\\varga\\Box\\Data\\nc Files\\PACQUI\\aux_orbits\\GFZ0MGXRAP_20252140000_01D_30S_CLK.CLK exists | Reading...\n",
      "C:\\Users\\varga\\Box\\Data\\nc Files\\PACQUI\\aux_orbits\\GFZ0MGXRAP_20252140000_01D_30S_CLK.CLK file is read in 3.04 seconds\n",
      "This file does not exist: C:\\Users\\varga\\Box\\Data\\nc Files\\PACQUI\\aux_orbits\\GFZ0MGXRAP_20252150000_01D_30S_CLK.CLK\n",
      "Downloading: GFZ0MGXRAP_20252150000_01D_30S_CLK.CLK.gz"
     ]
    },
    {
     "name": "stderr",
     "output_type": "stream",
     "text": [
      "GFZ0MGXRAP_20252150000_01D_30S_CLK.CLK.gz: 4.86MB [00:03, 1.34MB/s]                            \n"
     ]
    },
    {
     "name": "stdout",
     "output_type": "stream",
     "text": [
      " | Download completed for GFZ0MGXRAP_20252150000_01D_30S_CLK.CLK.gz\n",
      "C:\\Users\\varga\\Box\\Data\\nc Files\\PACQUI\\aux_orbits\\GFZ0MGXRAP_20252150000_01D_30S_CLK.CLK file is read in 2.81 seconds\n",
      "SP3 interpolation is done in 2.68 seconds\n",
      "Saved 99238 individual observations in C:\\Users\\varga\\Box\\Data\\nc Files\\PACQUI\\processed\\PACQUI_raw_20250802210749.nc\n",
      "[OK] PACQUI_raw_20250802210749.25O\n",
      "Could not find any files matching the pattern C:\\Users\\varga\\Box\\Data\\nc Files\\PACQUI\\processed*.nc\n",
      "C:\\Users\\varga\\Box\\Data\\nc Files\\PACQUI\\PACQUI_raw_20250803210750.25O exists | Reading...\n",
      "Observation file  C:\\Users\\varga\\Box\\Data\\nc Files\\PACQUI\\PACQUI_raw_20250803210750.25O  is read in 3.18 seconds.\n",
      "Processing 98431 individual observations\n",
      "Calculating Azimuth and Elevation\n",
      "C:\\Users\\varga\\Box\\Data\\nc Files\\PACQUI\\aux_orbits\\GFZ0MGXRAP_20252150000_01D_05M_ORB.SP3 exists | Reading...\n",
      "C:\\Users\\varga\\Box\\Data\\nc Files\\PACQUI\\aux_orbits\\GFZ0MGXRAP_20252150000_01D_05M_ORB.SP3 file is read in 0.67 seconds\n",
      "This file does not exist: C:\\Users\\varga\\Box\\Data\\nc Files\\PACQUI\\aux_orbits\\GFZ0MGXRAP_20252160000_01D_05M_ORB.SP3\n",
      "Downloading: ftp://gssc.esa.int/gnss/products/2378//GFZ0MGXRAP_20252160000_01D_05M_ORB.SP3.gz"
     ]
    },
    {
     "name": "stderr",
     "output_type": "stream",
     "text": [
      "GFZ0MGXRAP_20252160000_01D_05M_ORB.SP3.gz: 1.04MB [00:03, 342kB/s]                             \n"
     ]
    },
    {
     "name": "stdout",
     "output_type": "stream",
     "text": [
      " | Download completed for ftp://gssc.esa.int/gnss/products/2378//GFZ0MGXRAP_20252160000_01D_05M_ORB.SP3.gz\n",
      "C:\\Users\\varga\\Box\\Data\\nc Files\\PACQUI\\aux_orbits\\GFZ0MGXRAP_20252160000_01D_05M_ORB.SP3 file is read in 3.92 seconds\n",
      "C:\\Users\\varga\\Box\\Data\\nc Files\\PACQUI\\aux_orbits\\GFZ0MGXRAP_20252150000_01D_30S_CLK.CLK exists | Reading...\n",
      "C:\\Users\\varga\\Box\\Data\\nc Files\\PACQUI\\aux_orbits\\GFZ0MGXRAP_20252150000_01D_30S_CLK.CLK file is read in 2.89 seconds\n",
      "This file does not exist: C:\\Users\\varga\\Box\\Data\\nc Files\\PACQUI\\aux_orbits\\GFZ0MGXRAP_20252160000_01D_30S_CLK.CLK\n",
      "Downloading: GFZ0MGXRAP_20252160000_01D_30S_CLK.CLK.gz"
     ]
    },
    {
     "name": "stderr",
     "output_type": "stream",
     "text": [
      "GFZ0MGXRAP_20252160000_01D_30S_CLK.CLK.gz: 4.82MB [00:03, 1.39MB/s]                            \n"
     ]
    },
    {
     "name": "stdout",
     "output_type": "stream",
     "text": [
      " | Download completed for GFZ0MGXRAP_20252160000_01D_30S_CLK.CLK.gz\n",
      "C:\\Users\\varga\\Box\\Data\\nc Files\\PACQUI\\aux_orbits\\GFZ0MGXRAP_20252160000_01D_30S_CLK.CLK file is read in 8.45 seconds\n",
      "SP3 interpolation is done in 4.63 seconds\n",
      "Saved 98431 individual observations in C:\\Users\\varga\\Box\\Data\\nc Files\\PACQUI\\processed\\PACQUI_raw_20250803210750.nc\n",
      "[OK] PACQUI_raw_20250803210750.25O\n",
      "Could not find any files matching the pattern C:\\Users\\varga\\Box\\Data\\nc Files\\PACQUI\\processed*.nc\n",
      "C:\\Users\\varga\\Box\\Data\\nc Files\\PACQUI\\PACQUI_raw_20250804210751.25O exists | Reading...\n",
      "Observation file  C:\\Users\\varga\\Box\\Data\\nc Files\\PACQUI\\PACQUI_raw_20250804210751.25O  is read in 2.00 seconds.\n",
      "Processing 98908 individual observations\n",
      "Calculating Azimuth and Elevation\n",
      "C:\\Users\\varga\\Box\\Data\\nc Files\\PACQUI\\aux_orbits\\GFZ0MGXRAP_20252160000_01D_05M_ORB.SP3 exists | Reading...\n",
      "C:\\Users\\varga\\Box\\Data\\nc Files\\PACQUI\\aux_orbits\\GFZ0MGXRAP_20252160000_01D_05M_ORB.SP3 file is read in 0.42 seconds\n",
      "This file does not exist: C:\\Users\\varga\\Box\\Data\\nc Files\\PACQUI\\aux_orbits\\GFZ0MGXRAP_20252170000_01D_05M_ORB.SP3\n",
      "Downloading: ftp://gssc.esa.int/gnss/products/2378//GFZ0MGXRAP_20252170000_01D_05M_ORB.SP3.gz"
     ]
    },
    {
     "name": "stderr",
     "output_type": "stream",
     "text": [
      "GFZ0MGXRAP_20252170000_01D_05M_ORB.SP3.gz: 1.03MB [00:03, 333kB/s]                             \n"
     ]
    },
    {
     "name": "stdout",
     "output_type": "stream",
     "text": [
      " | Download completed for ftp://gssc.esa.int/gnss/products/2378//GFZ0MGXRAP_20252170000_01D_05M_ORB.SP3.gz\n",
      "C:\\Users\\varga\\Box\\Data\\nc Files\\PACQUI\\aux_orbits\\GFZ0MGXRAP_20252170000_01D_05M_ORB.SP3 file is read in 4.17 seconds\n",
      "C:\\Users\\varga\\Box\\Data\\nc Files\\PACQUI\\aux_orbits\\GFZ0MGXRAP_20252160000_01D_30S_CLK.CLK exists | Reading...\n",
      "C:\\Users\\varga\\Box\\Data\\nc Files\\PACQUI\\aux_orbits\\GFZ0MGXRAP_20252160000_01D_30S_CLK.CLK file is read in 3.47 seconds\n",
      "This file does not exist: C:\\Users\\varga\\Box\\Data\\nc Files\\PACQUI\\aux_orbits\\GFZ0MGXRAP_20252170000_01D_30S_CLK.CLK\n",
      "Downloading: GFZ0MGXRAP_20252170000_01D_30S_CLK.CLK.gz"
     ]
    },
    {
     "name": "stderr",
     "output_type": "stream",
     "text": [
      "GFZ0MGXRAP_20252170000_01D_30S_CLK.CLK.gz: 4.81MB [00:04, 1.12MB/s]                            \n"
     ]
    },
    {
     "name": "stdout",
     "output_type": "stream",
     "text": [
      " | Download completed for GFZ0MGXRAP_20252170000_01D_30S_CLK.CLK.gz\n",
      "C:\\Users\\varga\\Box\\Data\\nc Files\\PACQUI\\aux_orbits\\GFZ0MGXRAP_20252170000_01D_30S_CLK.CLK file is read in 3.17 seconds\n",
      "SP3 interpolation is done in 9.04 seconds\n",
      "Saved 98908 individual observations in C:\\Users\\varga\\Box\\Data\\nc Files\\PACQUI\\processed\\PACQUI_raw_20250804210751.nc\n",
      "[OK] PACQUI_raw_20250804210751.25O\n",
      "Could not find any files matching the pattern C:\\Users\\varga\\Box\\Data\\nc Files\\PACQUI\\processed*.nc\n",
      "C:\\Users\\varga\\Box\\Data\\nc Files\\PACQUI\\PACQUI_raw_20250805210751.25O exists | Reading...\n",
      "Observation file  C:\\Users\\varga\\Box\\Data\\nc Files\\PACQUI\\PACQUI_raw_20250805210751.25O  is read in 2.03 seconds.\n",
      "Processing 99440 individual observations\n",
      "Calculating Azimuth and Elevation\n",
      "C:\\Users\\varga\\Box\\Data\\nc Files\\PACQUI\\aux_orbits\\GFZ0MGXRAP_20252170000_01D_05M_ORB.SP3 exists | Reading...\n",
      "C:\\Users\\varga\\Box\\Data\\nc Files\\PACQUI\\aux_orbits\\GFZ0MGXRAP_20252170000_01D_05M_ORB.SP3 file is read in 0.43 seconds\n",
      "This file does not exist: C:\\Users\\varga\\Box\\Data\\nc Files\\PACQUI\\aux_orbits\\GFZ0MGXRAP_20252180000_01D_05M_ORB.SP3\n",
      "Downloading: ftp://gssc.esa.int/gnss/products/2378//GFZ0MGXRAP_20252180000_01D_05M_ORB.SP3.gz"
     ]
    },
    {
     "name": "stderr",
     "output_type": "stream",
     "text": [
      "GFZ0MGXRAP_20252180000_01D_05M_ORB.SP3.gz: 1.04MB [00:03, 337kB/s]                             \n"
     ]
    },
    {
     "name": "stdout",
     "output_type": "stream",
     "text": [
      " | Download completed for ftp://gssc.esa.int/gnss/products/2378//GFZ0MGXRAP_20252180000_01D_05M_ORB.SP3.gz\n",
      "C:\\Users\\varga\\Box\\Data\\nc Files\\PACQUI\\aux_orbits\\GFZ0MGXRAP_20252180000_01D_05M_ORB.SP3 file is read in 3.95 seconds\n",
      "C:\\Users\\varga\\Box\\Data\\nc Files\\PACQUI\\aux_orbits\\GFZ0MGXRAP_20252170000_01D_30S_CLK.CLK exists | Reading...\n",
      "C:\\Users\\varga\\Box\\Data\\nc Files\\PACQUI\\aux_orbits\\GFZ0MGXRAP_20252170000_01D_30S_CLK.CLK file is read in 3.06 seconds\n",
      "This file does not exist: C:\\Users\\varga\\Box\\Data\\nc Files\\PACQUI\\aux_orbits\\GFZ0MGXRAP_20252180000_01D_30S_CLK.CLK\n",
      "Downloading: GFZ0MGXRAP_20252180000_01D_30S_CLK.CLK.gz"
     ]
    },
    {
     "name": "stderr",
     "output_type": "stream",
     "text": [
      "GFZ0MGXRAP_20252180000_01D_30S_CLK.CLK.gz: 4.80MB [00:03, 1.34MB/s]                            \n"
     ]
    },
    {
     "name": "stdout",
     "output_type": "stream",
     "text": [
      " | Download completed for GFZ0MGXRAP_20252180000_01D_30S_CLK.CLK.gz\n",
      "C:\\Users\\varga\\Box\\Data\\nc Files\\PACQUI\\aux_orbits\\GFZ0MGXRAP_20252180000_01D_30S_CLK.CLK file is read in 2.65 seconds\n",
      "SP3 interpolation is done in 2.59 seconds\n",
      "Saved 99440 individual observations in C:\\Users\\varga\\Box\\Data\\nc Files\\PACQUI\\processed\\PACQUI_raw_20250805210751.nc\n",
      "[OK] PACQUI_raw_20250805210751.25O\n",
      "Could not find any files matching the pattern C:\\Users\\varga\\Box\\Data\\nc Files\\PACQUI\\processed*.nc\n",
      "C:\\Users\\varga\\Box\\Data\\nc Files\\PACQUI\\PACQUI_raw_20250806210752.25O exists | Reading...\n",
      "Observation file  C:\\Users\\varga\\Box\\Data\\nc Files\\PACQUI\\PACQUI_raw_20250806210752.25O  is read in 2.55 seconds.\n",
      "Processing 97116 individual observations\n",
      "Calculating Azimuth and Elevation\n",
      "C:\\Users\\varga\\Box\\Data\\nc Files\\PACQUI\\aux_orbits\\GFZ0MGXRAP_20252180000_01D_05M_ORB.SP3 exists | Reading...\n",
      "C:\\Users\\varga\\Box\\Data\\nc Files\\PACQUI\\aux_orbits\\GFZ0MGXRAP_20252180000_01D_05M_ORB.SP3 file is read in 0.72 seconds\n",
      "This file does not exist: C:\\Users\\varga\\Box\\Data\\nc Files\\PACQUI\\aux_orbits\\GFZ0MGXRAP_20252190000_01D_05M_ORB.SP3\n",
      "Downloading: ftp://gssc.esa.int/gnss/products/2378//GFZ0MGXRAP_20252190000_01D_05M_ORB.SP3.gz"
     ]
    },
    {
     "name": "stderr",
     "output_type": "stream",
     "text": [
      "GFZ0MGXRAP_20252190000_01D_05M_ORB.SP3.gz: 1.02MB [00:03, 342kB/s]                             \n"
     ]
    },
    {
     "name": "stdout",
     "output_type": "stream",
     "text": [
      " | Download completed for ftp://gssc.esa.int/gnss/products/2378//GFZ0MGXRAP_20252190000_01D_05M_ORB.SP3.gz\n",
      "C:\\Users\\varga\\Box\\Data\\nc Files\\PACQUI\\aux_orbits\\GFZ0MGXRAP_20252190000_01D_05M_ORB.SP3 file is read in 3.85 seconds\n",
      "C:\\Users\\varga\\Box\\Data\\nc Files\\PACQUI\\aux_orbits\\GFZ0MGXRAP_20252180000_01D_30S_CLK.CLK exists | Reading...\n",
      "C:\\Users\\varga\\Box\\Data\\nc Files\\PACQUI\\aux_orbits\\GFZ0MGXRAP_20252180000_01D_30S_CLK.CLK file is read in 3.00 seconds\n",
      "This file does not exist: C:\\Users\\varga\\Box\\Data\\nc Files\\PACQUI\\aux_orbits\\GFZ0MGXRAP_20252190000_01D_30S_CLK.CLK\n",
      "Downloading: GFZ0MGXRAP_20252190000_01D_30S_CLK.CLK.gz"
     ]
    },
    {
     "name": "stderr",
     "output_type": "stream",
     "text": [
      "GFZ0MGXRAP_20252190000_01D_30S_CLK.CLK.gz: 4.75MB [00:03, 1.32MB/s]                            \n"
     ]
    },
    {
     "name": "stdout",
     "output_type": "stream",
     "text": [
      " | Download completed for GFZ0MGXRAP_20252190000_01D_30S_CLK.CLK.gz\n",
      "C:\\Users\\varga\\Box\\Data\\nc Files\\PACQUI\\aux_orbits\\GFZ0MGXRAP_20252190000_01D_30S_CLK.CLK file is read in 10.01 seconds\n",
      "SP3 interpolation is done in 2.54 seconds\n",
      "Saved 97116 individual observations in C:\\Users\\varga\\Box\\Data\\nc Files\\PACQUI\\processed\\PACQUI_raw_20250806210752.nc\n",
      "[OK] PACQUI_raw_20250806210752.25O\n",
      "Could not find any files matching the pattern C:\\Users\\varga\\Box\\Data\\nc Files\\PACQUI\\processed*.nc\n",
      "C:\\Users\\varga\\Box\\Data\\nc Files\\PACQUI\\PACQUI_raw_20250807210752.25O exists | Reading...\n",
      "Observation file  C:\\Users\\varga\\Box\\Data\\nc Files\\PACQUI\\PACQUI_raw_20250807210752.25O  is read in 1.99 seconds.\n",
      "Processing 98718 individual observations\n",
      "Calculating Azimuth and Elevation\n",
      "C:\\Users\\varga\\Box\\Data\\nc Files\\PACQUI\\aux_orbits\\GFZ0MGXRAP_20252190000_01D_05M_ORB.SP3 exists | Reading...\n",
      "C:\\Users\\varga\\Box\\Data\\nc Files\\PACQUI\\aux_orbits\\GFZ0MGXRAP_20252190000_01D_05M_ORB.SP3 file is read in 0.41 seconds\n",
      "This file does not exist: C:\\Users\\varga\\Box\\Data\\nc Files\\PACQUI\\aux_orbits\\GFZ0MGXRAP_20252200000_01D_05M_ORB.SP3\n",
      "Downloading: ftp://gssc.esa.int/gnss/products/2378//GFZ0MGXRAP_20252200000_01D_05M_ORB.SP3.gz"
     ]
    },
    {
     "name": "stderr",
     "output_type": "stream",
     "text": [
      "GFZ0MGXRAP_20252200000_01D_05M_ORB.SP3.gz: 1.02MB [00:03, 341kB/s]                             \n"
     ]
    },
    {
     "name": "stdout",
     "output_type": "stream",
     "text": [
      " | Download completed for ftp://gssc.esa.int/gnss/products/2378//GFZ0MGXRAP_20252200000_01D_05M_ORB.SP3.gz\n",
      "C:\\Users\\varga\\Box\\Data\\nc Files\\PACQUI\\aux_orbits\\GFZ0MGXRAP_20252200000_01D_05M_ORB.SP3 file is read in 3.91 seconds\n",
      "C:\\Users\\varga\\Box\\Data\\nc Files\\PACQUI\\aux_orbits\\GFZ0MGXRAP_20252190000_01D_30S_CLK.CLK exists | Reading...\n",
      "C:\\Users\\varga\\Box\\Data\\nc Files\\PACQUI\\aux_orbits\\GFZ0MGXRAP_20252190000_01D_30S_CLK.CLK file is read in 2.86 seconds\n",
      "This file does not exist: C:\\Users\\varga\\Box\\Data\\nc Files\\PACQUI\\aux_orbits\\GFZ0MGXRAP_20252200000_01D_30S_CLK.CLK\n",
      "Downloading: GFZ0MGXRAP_20252200000_01D_30S_CLK.CLK.gz"
     ]
    },
    {
     "name": "stderr",
     "output_type": "stream",
     "text": [
      "GFZ0MGXRAP_20252200000_01D_30S_CLK.CLK.gz: 4.74MB [00:03, 1.38MB/s]                            \n"
     ]
    },
    {
     "name": "stdout",
     "output_type": "stream",
     "text": [
      " | Download completed for GFZ0MGXRAP_20252200000_01D_30S_CLK.CLK.gz\n",
      "C:\\Users\\varga\\Box\\Data\\nc Files\\PACQUI\\aux_orbits\\GFZ0MGXRAP_20252200000_01D_30S_CLK.CLK file is read in 3.06 seconds\n",
      "SP3 interpolation is done in 9.51 seconds\n",
      "Saved 98718 individual observations in C:\\Users\\varga\\Box\\Data\\nc Files\\PACQUI\\processed\\PACQUI_raw_20250807210752.nc\n",
      "[OK] PACQUI_raw_20250807210752.25O\n",
      "Could not find any files matching the pattern C:\\Users\\varga\\Box\\Data\\nc Files\\PACQUI\\processed*.nc\n",
      "C:\\Users\\varga\\Box\\Data\\nc Files\\PACQUI\\PACQUI_raw_20250808210753.25O exists | Reading...\n",
      "Observation file  C:\\Users\\varga\\Box\\Data\\nc Files\\PACQUI\\PACQUI_raw_20250808210753.25O  is read in 2.03 seconds.\n",
      "Processing 99717 individual observations\n",
      "Calculating Azimuth and Elevation\n",
      "C:\\Users\\varga\\Box\\Data\\nc Files\\PACQUI\\aux_orbits\\GFZ0MGXRAP_20252200000_01D_05M_ORB.SP3 exists | Reading...\n",
      "C:\\Users\\varga\\Box\\Data\\nc Files\\PACQUI\\aux_orbits\\GFZ0MGXRAP_20252200000_01D_05M_ORB.SP3 file is read in 0.42 seconds\n",
      "This file does not exist: C:\\Users\\varga\\Box\\Data\\nc Files\\PACQUI\\aux_orbits\\GFZ0MGXRAP_20252210000_01D_05M_ORB.SP3\n",
      "Downloading: ftp://gssc.esa.int/gnss/products/2378//GFZ0MGXRAP_20252210000_01D_05M_ORB.SP3.gz"
     ]
    },
    {
     "name": "stderr",
     "output_type": "stream",
     "text": [
      "GFZ0MGXRAP_20252210000_01D_05M_ORB.SP3.gz: 1.03MB [00:03, 339kB/s]                             \n"
     ]
    },
    {
     "name": "stdout",
     "output_type": "stream",
     "text": [
      " | Download completed for ftp://gssc.esa.int/gnss/products/2378//GFZ0MGXRAP_20252210000_01D_05M_ORB.SP3.gz\n",
      "C:\\Users\\varga\\Box\\Data\\nc Files\\PACQUI\\aux_orbits\\GFZ0MGXRAP_20252210000_01D_05M_ORB.SP3 file is read in 3.89 seconds\n",
      "C:\\Users\\varga\\Box\\Data\\nc Files\\PACQUI\\aux_orbits\\GFZ0MGXRAP_20252200000_01D_30S_CLK.CLK exists | Reading...\n",
      "C:\\Users\\varga\\Box\\Data\\nc Files\\PACQUI\\aux_orbits\\GFZ0MGXRAP_20252200000_01D_30S_CLK.CLK file is read in 2.86 seconds\n",
      "This file does not exist: C:\\Users\\varga\\Box\\Data\\nc Files\\PACQUI\\aux_orbits\\GFZ0MGXRAP_20252210000_01D_30S_CLK.CLK\n",
      "Downloading: GFZ0MGXRAP_20252210000_01D_30S_CLK.CLK.gz"
     ]
    },
    {
     "name": "stderr",
     "output_type": "stream",
     "text": [
      "GFZ0MGXRAP_20252210000_01D_30S_CLK.CLK.gz: 4.73MB [00:03, 1.31MB/s]                            \n"
     ]
    },
    {
     "name": "stdout",
     "output_type": "stream",
     "text": [
      " | Download completed for GFZ0MGXRAP_20252210000_01D_30S_CLK.CLK.gz\n",
      "C:\\Users\\varga\\Box\\Data\\nc Files\\PACQUI\\aux_orbits\\GFZ0MGXRAP_20252210000_01D_30S_CLK.CLK file is read in 2.91 seconds\n",
      "SP3 interpolation is done in 2.96 seconds\n",
      "Saved 99717 individual observations in C:\\Users\\varga\\Box\\Data\\nc Files\\PACQUI\\processed\\PACQUI_raw_20250808210753.nc\n",
      "[OK] PACQUI_raw_20250808210753.25O\n",
      "Could not find any files matching the pattern C:\\Users\\varga\\Box\\Data\\nc Files\\PACQUI\\processed*.nc\n",
      "C:\\Users\\varga\\Box\\Data\\nc Files\\PACQUI\\PACQUI_raw_20250809210754.25O exists | Reading...\n",
      "Observation file  C:\\Users\\varga\\Box\\Data\\nc Files\\PACQUI\\PACQUI_raw_20250809210754.25O  is read in 3.38 seconds.\n",
      "Processing 97721 individual observations\n",
      "Calculating Azimuth and Elevation\n",
      "C:\\Users\\varga\\Box\\Data\\nc Files\\PACQUI\\aux_orbits\\GFZ0MGXRAP_20252210000_01D_05M_ORB.SP3 exists | Reading...\n",
      "C:\\Users\\varga\\Box\\Data\\nc Files\\PACQUI\\aux_orbits\\GFZ0MGXRAP_20252210000_01D_05M_ORB.SP3 file is read in 0.61 seconds\n",
      "This file does not exist: C:\\Users\\varga\\Box\\Data\\nc Files\\PACQUI\\aux_orbits\\GFZ0MGXRAP_20252220000_01D_05M_ORB.SP3\n",
      "Downloading: ftp://gssc.esa.int/gnss/products/2379//GFZ0MGXRAP_20252220000_01D_05M_ORB.SP3.gz"
     ]
    },
    {
     "name": "stderr",
     "output_type": "stream",
     "text": [
      "GFZ0MGXRAP_20252220000_01D_05M_ORB.SP3.gz: 1.04MB [00:03, 344kB/s]                             \n"
     ]
    },
    {
     "name": "stdout",
     "output_type": "stream",
     "text": [
      " | Download completed for ftp://gssc.esa.int/gnss/products/2379//GFZ0MGXRAP_20252220000_01D_05M_ORB.SP3.gz\n",
      "C:\\Users\\varga\\Box\\Data\\nc Files\\PACQUI\\aux_orbits\\GFZ0MGXRAP_20252220000_01D_05M_ORB.SP3 file is read in 3.88 seconds\n",
      "C:\\Users\\varga\\Box\\Data\\nc Files\\PACQUI\\aux_orbits\\GFZ0MGXRAP_20252210000_01D_30S_CLK.CLK exists | Reading...\n",
      "C:\\Users\\varga\\Box\\Data\\nc Files\\PACQUI\\aux_orbits\\GFZ0MGXRAP_20252210000_01D_30S_CLK.CLK file is read in 2.72 seconds\n",
      "This file does not exist: C:\\Users\\varga\\Box\\Data\\nc Files\\PACQUI\\aux_orbits\\GFZ0MGXRAP_20252220000_01D_30S_CLK.CLK\n",
      "Downloading: GFZ0MGXRAP_20252220000_01D_30S_CLK.CLK.gz"
     ]
    },
    {
     "name": "stderr",
     "output_type": "stream",
     "text": [
      "GFZ0MGXRAP_20252220000_01D_30S_CLK.CLK.gz: 4.80MB [00:04, 1.13MB/s]                            \n"
     ]
    },
    {
     "name": "stdout",
     "output_type": "stream",
     "text": [
      " | Download completed for GFZ0MGXRAP_20252220000_01D_30S_CLK.CLK.gz\n",
      "C:\\Users\\varga\\Box\\Data\\nc Files\\PACQUI\\aux_orbits\\GFZ0MGXRAP_20252220000_01D_30S_CLK.CLK file is read in 4.55 seconds\n",
      "SP3 interpolation is done in 2.67 seconds\n",
      "Saved 97721 individual observations in C:\\Users\\varga\\Box\\Data\\nc Files\\PACQUI\\processed\\PACQUI_raw_20250809210754.nc\n",
      "[OK] PACQUI_raw_20250809210754.25O\n",
      "Could not find any files matching the pattern C:\\Users\\varga\\Box\\Data\\nc Files\\PACQUI\\processed*.nc\n",
      "C:\\Users\\varga\\Box\\Data\\nc Files\\PACQUI\\PACQUI_raw_20250810210755.25O exists | Reading...\n",
      "Observation file  C:\\Users\\varga\\Box\\Data\\nc Files\\PACQUI\\PACQUI_raw_20250810210755.25O  is read in 2.82 seconds.\n",
      "Processing 97894 individual observations\n",
      "Calculating Azimuth and Elevation\n",
      "C:\\Users\\varga\\Box\\Data\\nc Files\\PACQUI\\aux_orbits\\GFZ0MGXRAP_20252220000_01D_05M_ORB.SP3 exists | Reading...\n",
      "C:\\Users\\varga\\Box\\Data\\nc Files\\PACQUI\\aux_orbits\\GFZ0MGXRAP_20252220000_01D_05M_ORB.SP3 file is read in 0.69 seconds\n",
      "This file does not exist: C:\\Users\\varga\\Box\\Data\\nc Files\\PACQUI\\aux_orbits\\GFZ0MGXRAP_20252230000_01D_05M_ORB.SP3\n",
      "Downloading: ftp://gssc.esa.int/gnss/products/2379//GFZ0MGXRAP_20252230000_01D_05M_ORB.SP3.gz"
     ]
    },
    {
     "name": "stderr",
     "output_type": "stream",
     "text": [
      "GFZ0MGXRAP_20252230000_01D_05M_ORB.SP3.gz: 1.03MB [00:03, 339kB/s]                             \n"
     ]
    },
    {
     "name": "stdout",
     "output_type": "stream",
     "text": [
      " | Download completed for ftp://gssc.esa.int/gnss/products/2379//GFZ0MGXRAP_20252230000_01D_05M_ORB.SP3.gz\n",
      "C:\\Users\\varga\\Box\\Data\\nc Files\\PACQUI\\aux_orbits\\GFZ0MGXRAP_20252230000_01D_05M_ORB.SP3 file is read in 3.86 seconds\n",
      "C:\\Users\\varga\\Box\\Data\\nc Files\\PACQUI\\aux_orbits\\GFZ0MGXRAP_20252220000_01D_30S_CLK.CLK exists | Reading...\n",
      "C:\\Users\\varga\\Box\\Data\\nc Files\\PACQUI\\aux_orbits\\GFZ0MGXRAP_20252220000_01D_30S_CLK.CLK file is read in 3.00 seconds\n",
      "This file does not exist: C:\\Users\\varga\\Box\\Data\\nc Files\\PACQUI\\aux_orbits\\GFZ0MGXRAP_20252230000_01D_30S_CLK.CLK\n",
      "Downloading: GFZ0MGXRAP_20252230000_01D_30S_CLK.CLK.gz"
     ]
    },
    {
     "name": "stderr",
     "output_type": "stream",
     "text": [
      "GFZ0MGXRAP_20252230000_01D_30S_CLK.CLK.gz: 4.78MB [00:03, 1.31MB/s]                            \n"
     ]
    },
    {
     "name": "stdout",
     "output_type": "stream",
     "text": [
      " | Download completed for GFZ0MGXRAP_20252230000_01D_30S_CLK.CLK.gz\n",
      "C:\\Users\\varga\\Box\\Data\\nc Files\\PACQUI\\aux_orbits\\GFZ0MGXRAP_20252230000_01D_30S_CLK.CLK file is read in 10.61 seconds\n",
      "SP3 interpolation is done in 3.85 seconds\n",
      "Saved 97894 individual observations in C:\\Users\\varga\\Box\\Data\\nc Files\\PACQUI\\processed\\PACQUI_raw_20250810210755.nc\n",
      "[OK] PACQUI_raw_20250810210755.25O\n",
      "Could not find any files matching the pattern C:\\Users\\varga\\Box\\Data\\nc Files\\PACQUI\\processed*.nc\n",
      "C:\\Users\\varga\\Box\\Data\\nc Files\\PACQUI\\PACQUI_raw_20250811210755.25O exists | Reading...\n",
      "Observation file  C:\\Users\\varga\\Box\\Data\\nc Files\\PACQUI\\PACQUI_raw_20250811210755.25O  is read in 17.19 seconds.\n",
      "Processing 99855 individual observations\n",
      "Calculating Azimuth and Elevation\n",
      "C:\\Users\\varga\\Box\\Data\\nc Files\\PACQUI\\aux_orbits\\GFZ0MGXRAP_20252230000_01D_05M_ORB.SP3 exists | Reading...\n",
      "C:\\Users\\varga\\Box\\Data\\nc Files\\PACQUI\\aux_orbits\\GFZ0MGXRAP_20252230000_01D_05M_ORB.SP3 file is read in 0.42 seconds\n",
      "This file does not exist: C:\\Users\\varga\\Box\\Data\\nc Files\\PACQUI\\aux_orbits\\GFZ0MGXRAP_20252240000_01D_05M_ORB.SP3\n",
      "Downloading: ftp://gssc.esa.int/gnss/products/2379//GFZ0MGXRAP_20252240000_01D_05M_ORB.SP3.gz"
     ]
    },
    {
     "name": "stderr",
     "output_type": "stream",
     "text": [
      "GFZ0MGXRAP_20252240000_01D_05M_ORB.SP3.gz: 1.03MB [00:03, 343kB/s]                             \n"
     ]
    },
    {
     "name": "stdout",
     "output_type": "stream",
     "text": [
      " | Download completed for ftp://gssc.esa.int/gnss/products/2379//GFZ0MGXRAP_20252240000_01D_05M_ORB.SP3.gz\n",
      "C:\\Users\\varga\\Box\\Data\\nc Files\\PACQUI\\aux_orbits\\GFZ0MGXRAP_20252240000_01D_05M_ORB.SP3 file is read in 3.64 seconds\n",
      "C:\\Users\\varga\\Box\\Data\\nc Files\\PACQUI\\aux_orbits\\GFZ0MGXRAP_20252230000_01D_30S_CLK.CLK exists | Reading...\n",
      "C:\\Users\\varga\\Box\\Data\\nc Files\\PACQUI\\aux_orbits\\GFZ0MGXRAP_20252230000_01D_30S_CLK.CLK file is read in 1.94 seconds\n",
      "This file does not exist: C:\\Users\\varga\\Box\\Data\\nc Files\\PACQUI\\aux_orbits\\GFZ0MGXRAP_20252240000_01D_30S_CLK.CLK\n",
      "Downloading: GFZ0MGXRAP_20252240000_01D_30S_CLK.CLK.gz"
     ]
    },
    {
     "name": "stderr",
     "output_type": "stream",
     "text": [
      "GFZ0MGXRAP_20252240000_01D_30S_CLK.CLK.gz: 4.77MB [00:04, 1.15MB/s]                            \n"
     ]
    },
    {
     "name": "stdout",
     "output_type": "stream",
     "text": [
      " | Download completed for GFZ0MGXRAP_20252240000_01D_30S_CLK.CLK.gz\n",
      "C:\\Users\\varga\\Box\\Data\\nc Files\\PACQUI\\aux_orbits\\GFZ0MGXRAP_20252240000_01D_30S_CLK.CLK file is read in 1.91 seconds\n",
      "SP3 interpolation is done in 2.49 seconds\n",
      "Saved 99855 individual observations in C:\\Users\\varga\\Box\\Data\\nc Files\\PACQUI\\processed\\PACQUI_raw_20250811210755.nc\n",
      "[OK] PACQUI_raw_20250811210755.25O\n",
      "Could not find any files matching the pattern C:\\Users\\varga\\Box\\Data\\nc Files\\PACQUI\\processed*.nc\n",
      "C:\\Users\\varga\\Box\\Data\\nc Files\\PACQUI\\PACQUI_raw_20250812210756.25O exists | Reading...\n",
      "Observation file  C:\\Users\\varga\\Box\\Data\\nc Files\\PACQUI\\PACQUI_raw_20250812210756.25O  is read in 1.94 seconds.\n",
      "Processing 98033 individual observations\n",
      "Calculating Azimuth and Elevation\n",
      "C:\\Users\\varga\\Box\\Data\\nc Files\\PACQUI\\aux_orbits\\GFZ0MGXRAP_20252240000_01D_05M_ORB.SP3 exists | Reading...\n",
      "C:\\Users\\varga\\Box\\Data\\nc Files\\PACQUI\\aux_orbits\\GFZ0MGXRAP_20252240000_01D_05M_ORB.SP3 file is read in 0.72 seconds\n",
      "This file does not exist: C:\\Users\\varga\\Box\\Data\\nc Files\\PACQUI\\aux_orbits\\GFZ0MGXRAP_20252250000_01D_05M_ORB.SP3\n",
      "Downloading: ftp://gssc.esa.int/gnss/products/2379//GFZ0MGXRAP_20252250000_01D_05M_ORB.SP3.gz"
     ]
    },
    {
     "name": "stderr",
     "output_type": "stream",
     "text": [
      "GFZ0MGXRAP_20252250000_01D_05M_ORB.SP3.gz: 1.03MB [00:03, 340kB/s]                             \n"
     ]
    },
    {
     "name": "stdout",
     "output_type": "stream",
     "text": [
      " | Download completed for ftp://gssc.esa.int/gnss/products/2379//GFZ0MGXRAP_20252250000_01D_05M_ORB.SP3.gz\n",
      "C:\\Users\\varga\\Box\\Data\\nc Files\\PACQUI\\aux_orbits\\GFZ0MGXRAP_20252250000_01D_05M_ORB.SP3 file is read in 3.86 seconds\n",
      "C:\\Users\\varga\\Box\\Data\\nc Files\\PACQUI\\aux_orbits\\GFZ0MGXRAP_20252240000_01D_30S_CLK.CLK exists | Reading...\n",
      "C:\\Users\\varga\\Box\\Data\\nc Files\\PACQUI\\aux_orbits\\GFZ0MGXRAP_20252240000_01D_30S_CLK.CLK file is read in 2.99 seconds\n",
      "This file does not exist: C:\\Users\\varga\\Box\\Data\\nc Files\\PACQUI\\aux_orbits\\GFZ0MGXRAP_20252250000_01D_30S_CLK.CLK\n",
      "Downloading: GFZ0MGXRAP_20252250000_01D_30S_CLK.CLK.gz"
     ]
    },
    {
     "name": "stderr",
     "output_type": "stream",
     "text": [
      "GFZ0MGXRAP_20252250000_01D_30S_CLK.CLK.gz: 4.75MB [00:03, 1.27MB/s]                            \n"
     ]
    },
    {
     "name": "stdout",
     "output_type": "stream",
     "text": [
      " | Download completed for GFZ0MGXRAP_20252250000_01D_30S_CLK.CLK.gz\n",
      "C:\\Users\\varga\\Box\\Data\\nc Files\\PACQUI\\aux_orbits\\GFZ0MGXRAP_20252250000_01D_30S_CLK.CLK file is read in 3.06 seconds\n",
      "SP3 interpolation is done in 3.79 seconds\n",
      "Saved 98033 individual observations in C:\\Users\\varga\\Box\\Data\\nc Files\\PACQUI\\processed\\PACQUI_raw_20250812210756.nc\n",
      "[OK] PACQUI_raw_20250812210756.25O\n",
      "Could not find any files matching the pattern C:\\Users\\varga\\Box\\Data\\nc Files\\PACQUI\\processed*.nc\n",
      "C:\\Users\\varga\\Box\\Data\\nc Files\\PACQUI\\PACQUI_raw_20250813210757.25O exists | Reading...\n",
      "Observation file  C:\\Users\\varga\\Box\\Data\\nc Files\\PACQUI\\PACQUI_raw_20250813210757.25O  is read in 2.93 seconds.\n",
      "Processing 96636 individual observations\n",
      "Calculating Azimuth and Elevation\n",
      "C:\\Users\\varga\\Box\\Data\\nc Files\\PACQUI\\aux_orbits\\GFZ0MGXRAP_20252250000_01D_05M_ORB.SP3 exists | Reading...\n",
      "C:\\Users\\varga\\Box\\Data\\nc Files\\PACQUI\\aux_orbits\\GFZ0MGXRAP_20252250000_01D_05M_ORB.SP3 file is read in 3.92 seconds\n",
      "This file does not exist: C:\\Users\\varga\\Box\\Data\\nc Files\\PACQUI\\aux_orbits\\GFZ0MGXRAP_20252260000_01D_05M_ORB.SP3\n",
      "Downloading: ftp://gssc.esa.int/gnss/products/2379//GFZ0MGXRAP_20252260000_01D_05M_ORB.SP3.gz"
     ]
    },
    {
     "name": "stderr",
     "output_type": "stream",
     "text": [
      "GFZ0MGXRAP_20252260000_01D_05M_ORB.SP3.gz: 1.02MB [00:03, 327kB/s]                             \n"
     ]
    },
    {
     "name": "stdout",
     "output_type": "stream",
     "text": [
      " | Download completed for ftp://gssc.esa.int/gnss/products/2379//GFZ0MGXRAP_20252260000_01D_05M_ORB.SP3.gz\n",
      "C:\\Users\\varga\\Box\\Data\\nc Files\\PACQUI\\aux_orbits\\GFZ0MGXRAP_20252260000_01D_05M_ORB.SP3 file is read in 5.57 seconds\n",
      "C:\\Users\\varga\\Box\\Data\\nc Files\\PACQUI\\aux_orbits\\GFZ0MGXRAP_20252250000_01D_30S_CLK.CLK exists | Reading...\n",
      "C:\\Users\\varga\\Box\\Data\\nc Files\\PACQUI\\aux_orbits\\GFZ0MGXRAP_20252250000_01D_30S_CLK.CLK file is read in 2.16 seconds\n",
      "This file does not exist: C:\\Users\\varga\\Box\\Data\\nc Files\\PACQUI\\aux_orbits\\GFZ0MGXRAP_20252260000_01D_30S_CLK.CLK\n",
      "Downloading: GFZ0MGXRAP_20252260000_01D_30S_CLK.CLK.gz"
     ]
    },
    {
     "name": "stderr",
     "output_type": "stream",
     "text": [
      "GFZ0MGXRAP_20252260000_01D_30S_CLK.CLK.gz: 4.70MB [00:03, 1.32MB/s]                            \n"
     ]
    },
    {
     "name": "stdout",
     "output_type": "stream",
     "text": [
      " | Download completed for GFZ0MGXRAP_20252260000_01D_30S_CLK.CLK.gz\n",
      "C:\\Users\\varga\\Box\\Data\\nc Files\\PACQUI\\aux_orbits\\GFZ0MGXRAP_20252260000_01D_30S_CLK.CLK file is read in 1.94 seconds\n",
      "SP3 interpolation is done in 3.13 seconds\n",
      "Saved 96636 individual observations in C:\\Users\\varga\\Box\\Data\\nc Files\\PACQUI\\processed\\PACQUI_raw_20250813210757.nc\n",
      "[OK] PACQUI_raw_20250813210757.25O\n",
      "Could not find any files matching the pattern C:\\Users\\varga\\Box\\Data\\nc Files\\PACQUI\\processed*.nc\n",
      "C:\\Users\\varga\\Box\\Data\\nc Files\\PACQUI\\PACQUI_raw_20250814210758.25O exists | Reading...\n",
      "Observation file  C:\\Users\\varga\\Box\\Data\\nc Files\\PACQUI\\PACQUI_raw_20250814210758.25O  is read in 3.13 seconds.\n",
      "Processing 99171 individual observations\n",
      "Calculating Azimuth and Elevation\n",
      "C:\\Users\\varga\\Box\\Data\\nc Files\\PACQUI\\aux_orbits\\GFZ0MGXRAP_20252260000_01D_05M_ORB.SP3 exists | Reading...\n",
      "C:\\Users\\varga\\Box\\Data\\nc Files\\PACQUI\\aux_orbits\\GFZ0MGXRAP_20252260000_01D_05M_ORB.SP3 file is read in 0.61 seconds\n",
      "This file does not exist: C:\\Users\\varga\\Box\\Data\\nc Files\\PACQUI\\aux_orbits\\GFZ0MGXRAP_20252270000_01D_05M_ORB.SP3\n",
      "Downloading: ftp://gssc.esa.int/gnss/products/2379//GFZ0MGXRAP_20252270000_01D_05M_ORB.SP3.gz"
     ]
    },
    {
     "name": "stderr",
     "output_type": "stream",
     "text": [
      "GFZ0MGXRAP_20252270000_01D_05M_ORB.SP3.gz: 1.01MB [00:03, 323kB/s]                             \n"
     ]
    },
    {
     "name": "stdout",
     "output_type": "stream",
     "text": [
      " | Download completed for ftp://gssc.esa.int/gnss/products/2379//GFZ0MGXRAP_20252270000_01D_05M_ORB.SP3.gz\n",
      "C:\\Users\\varga\\Box\\Data\\nc Files\\PACQUI\\aux_orbits\\GFZ0MGXRAP_20252270000_01D_05M_ORB.SP3 file is read in 3.90 seconds\n",
      "C:\\Users\\varga\\Box\\Data\\nc Files\\PACQUI\\aux_orbits\\GFZ0MGXRAP_20252260000_01D_30S_CLK.CLK exists | Reading...\n",
      "C:\\Users\\varga\\Box\\Data\\nc Files\\PACQUI\\aux_orbits\\GFZ0MGXRAP_20252260000_01D_30S_CLK.CLK file is read in 2.59 seconds\n",
      "This file does not exist: C:\\Users\\varga\\Box\\Data\\nc Files\\PACQUI\\aux_orbits\\GFZ0MGXRAP_20252270000_01D_30S_CLK.CLK\n",
      "Downloading: GFZ0MGXRAP_20252270000_01D_30S_CLK.CLK.gz"
     ]
    },
    {
     "name": "stderr",
     "output_type": "stream",
     "text": [
      "GFZ0MGXRAP_20252270000_01D_30S_CLK.CLK.gz: 4.69MB [00:04, 1.02MB/s]                            \n"
     ]
    },
    {
     "name": "stdout",
     "output_type": "stream",
     "text": [
      " | Download completed for GFZ0MGXRAP_20252270000_01D_30S_CLK.CLK.gz\n",
      "C:\\Users\\varga\\Box\\Data\\nc Files\\PACQUI\\aux_orbits\\GFZ0MGXRAP_20252270000_01D_30S_CLK.CLK file is read in 2.56 seconds\n",
      "SP3 interpolation is done in 6.20 seconds\n",
      "Saved 99171 individual observations in C:\\Users\\varga\\Box\\Data\\nc Files\\PACQUI\\processed\\PACQUI_raw_20250814210758.nc\n",
      "[OK] PACQUI_raw_20250814210758.25O\n",
      "Could not find any files matching the pattern C:\\Users\\varga\\Box\\Data\\nc Files\\PACQUI\\processed*.nc\n",
      "C:\\Users\\varga\\Box\\Data\\nc Files\\PACQUI\\PACQUI_raw_20250815210758.25O exists | Reading...\n",
      "Observation file  C:\\Users\\varga\\Box\\Data\\nc Files\\PACQUI\\PACQUI_raw_20250815210758.25O  is read in 2.01 seconds.\n",
      "Processing 99937 individual observations\n",
      "Calculating Azimuth and Elevation\n",
      "C:\\Users\\varga\\Box\\Data\\nc Files\\PACQUI\\aux_orbits\\GFZ0MGXRAP_20252270000_01D_05M_ORB.SP3 exists | Reading...\n",
      "C:\\Users\\varga\\Box\\Data\\nc Files\\PACQUI\\aux_orbits\\GFZ0MGXRAP_20252270000_01D_05M_ORB.SP3 file is read in 0.76 seconds\n",
      "This file does not exist: C:\\Users\\varga\\Box\\Data\\nc Files\\PACQUI\\aux_orbits\\GFZ0MGXRAP_20252280000_01D_05M_ORB.SP3\n",
      "Downloading: ftp://gssc.esa.int/gnss/products/2379//GFZ0MGXRAP_20252280000_01D_05M_ORB.SP3.gz"
     ]
    },
    {
     "name": "stderr",
     "output_type": "stream",
     "text": [
      "GFZ0MGXRAP_20252280000_01D_05M_ORB.SP3.gz: 1.03MB [00:03, 337kB/s]                             \n"
     ]
    },
    {
     "name": "stdout",
     "output_type": "stream",
     "text": [
      " | Download completed for ftp://gssc.esa.int/gnss/products/2379//GFZ0MGXRAP_20252280000_01D_05M_ORB.SP3.gz\n",
      "C:\\Users\\varga\\Box\\Data\\nc Files\\PACQUI\\aux_orbits\\GFZ0MGXRAP_20252280000_01D_05M_ORB.SP3 file is read in 3.93 seconds\n",
      "C:\\Users\\varga\\Box\\Data\\nc Files\\PACQUI\\aux_orbits\\GFZ0MGXRAP_20252270000_01D_30S_CLK.CLK exists | Reading...\n",
      "C:\\Users\\varga\\Box\\Data\\nc Files\\PACQUI\\aux_orbits\\GFZ0MGXRAP_20252270000_01D_30S_CLK.CLK file is read in 2.66 seconds\n",
      "This file does not exist: C:\\Users\\varga\\Box\\Data\\nc Files\\PACQUI\\aux_orbits\\GFZ0MGXRAP_20252280000_01D_30S_CLK.CLK\n",
      "Downloading: GFZ0MGXRAP_20252280000_01D_30S_CLK.CLK.gz"
     ]
    },
    {
     "name": "stderr",
     "output_type": "stream",
     "text": [
      "GFZ0MGXRAP_20252280000_01D_30S_CLK.CLK.gz: 4.77MB [00:04, 1.20MB/s]                            \n"
     ]
    },
    {
     "name": "stdout",
     "output_type": "stream",
     "text": [
      " | Download completed for GFZ0MGXRAP_20252280000_01D_30S_CLK.CLK.gz\n",
      "C:\\Users\\varga\\Box\\Data\\nc Files\\PACQUI\\aux_orbits\\GFZ0MGXRAP_20252280000_01D_30S_CLK.CLK file is read in 2.55 seconds\n",
      "SP3 interpolation is done in 3.40 seconds\n",
      "Saved 99937 individual observations in C:\\Users\\varga\\Box\\Data\\nc Files\\PACQUI\\processed\\PACQUI_raw_20250815210758.nc\n",
      "[OK] PACQUI_raw_20250815210758.25O\n",
      "Could not find any files matching the pattern C:\\Users\\varga\\Box\\Data\\nc Files\\PACQUI\\processed*.nc\n",
      "C:\\Users\\varga\\Box\\Data\\nc Files\\PACQUI\\PACQUI_raw_20250816210759.25O exists | Reading...\n",
      "Observation file  C:\\Users\\varga\\Box\\Data\\nc Files\\PACQUI\\PACQUI_raw_20250816210759.25O  is read in 1.89 seconds.\n",
      "Processing 97157 individual observations\n",
      "Calculating Azimuth and Elevation\n",
      "C:\\Users\\varga\\Box\\Data\\nc Files\\PACQUI\\aux_orbits\\GFZ0MGXRAP_20252280000_01D_05M_ORB.SP3 exists | Reading...\n",
      "C:\\Users\\varga\\Box\\Data\\nc Files\\PACQUI\\aux_orbits\\GFZ0MGXRAP_20252280000_01D_05M_ORB.SP3 file is read in 0.38 seconds\n",
      "This file does not exist: C:\\Users\\varga\\Box\\Data\\nc Files\\PACQUI\\aux_orbits\\GFZ0MGXRAP_20252290000_01D_05M_ORB.SP3\n",
      "Downloading: ftp://gssc.esa.int/gnss/products/2380//GFZ0MGXRAP_20252290000_01D_05M_ORB.SP3.gz"
     ]
    },
    {
     "name": "stderr",
     "output_type": "stream",
     "text": [
      "GFZ0MGXRAP_20252290000_01D_05M_ORB.SP3.gz: 1.02MB [00:03, 312kB/s]                             \n"
     ]
    },
    {
     "name": "stdout",
     "output_type": "stream",
     "text": [
      " | Download completed for ftp://gssc.esa.int/gnss/products/2380//GFZ0MGXRAP_20252290000_01D_05M_ORB.SP3.gz\n",
      "C:\\Users\\varga\\Box\\Data\\nc Files\\PACQUI\\aux_orbits\\GFZ0MGXRAP_20252290000_01D_05M_ORB.SP3 file is read in 4.10 seconds\n",
      "C:\\Users\\varga\\Box\\Data\\nc Files\\PACQUI\\aux_orbits\\GFZ0MGXRAP_20252280000_01D_30S_CLK.CLK exists | Reading...\n",
      "C:\\Users\\varga\\Box\\Data\\nc Files\\PACQUI\\aux_orbits\\GFZ0MGXRAP_20252280000_01D_30S_CLK.CLK file is read in 2.76 seconds\n",
      "This file does not exist: C:\\Users\\varga\\Box\\Data\\nc Files\\PACQUI\\aux_orbits\\GFZ0MGXRAP_20252290000_01D_30S_CLK.CLK\n",
      "Downloading: GFZ0MGXRAP_20252290000_01D_30S_CLK.CLK.gz"
     ]
    },
    {
     "name": "stderr",
     "output_type": "stream",
     "text": [
      "GFZ0MGXRAP_20252290000_01D_30S_CLK.CLK.gz: 4.76MB [00:04, 1.21MB/s]                            \n"
     ]
    },
    {
     "name": "stdout",
     "output_type": "stream",
     "text": [
      " | Download completed for GFZ0MGXRAP_20252290000_01D_30S_CLK.CLK.gz\n",
      "C:\\Users\\varga\\Box\\Data\\nc Files\\PACQUI\\aux_orbits\\GFZ0MGXRAP_20252290000_01D_30S_CLK.CLK file is read in 2.06 seconds\n",
      "SP3 interpolation is done in 2.89 seconds\n",
      "Saved 97157 individual observations in C:\\Users\\varga\\Box\\Data\\nc Files\\PACQUI\\processed\\PACQUI_raw_20250816210759.nc\n",
      "[OK] PACQUI_raw_20250816210759.25O\n",
      "Could not find any files matching the pattern C:\\Users\\varga\\Box\\Data\\nc Files\\PACQUI\\processed*.nc\n",
      "C:\\Users\\varga\\Box\\Data\\nc Files\\PACQUI\\PACQUI_raw_20250817210800.25O exists | Reading...\n",
      "Observation file  C:\\Users\\varga\\Box\\Data\\nc Files\\PACQUI\\PACQUI_raw_20250817210800.25O  is read in 2.89 seconds.\n",
      "Processing 98148 individual observations\n",
      "Calculating Azimuth and Elevation\n",
      "C:\\Users\\varga\\Box\\Data\\nc Files\\PACQUI\\aux_orbits\\GFZ0MGXRAP_20252290000_01D_05M_ORB.SP3 exists | Reading...\n",
      "C:\\Users\\varga\\Box\\Data\\nc Files\\PACQUI\\aux_orbits\\GFZ0MGXRAP_20252290000_01D_05M_ORB.SP3 file is read in 0.58 seconds\n",
      "This file does not exist: C:\\Users\\varga\\Box\\Data\\nc Files\\PACQUI\\aux_orbits\\GFZ0MGXRAP_20252300000_01D_05M_ORB.SP3\n",
      "Downloading: ftp://gssc.esa.int/gnss/products/2380//GFZ0MGXRAP_20252300000_01D_05M_ORB.SP3.gz"
     ]
    },
    {
     "name": "stderr",
     "output_type": "stream",
     "text": [
      "GFZ0MGXRAP_20252300000_01D_05M_ORB.SP3.gz: 1.02MB [00:03, 319kB/s]                             \n"
     ]
    },
    {
     "name": "stdout",
     "output_type": "stream",
     "text": [
      " | Download completed for ftp://gssc.esa.int/gnss/products/2380//GFZ0MGXRAP_20252300000_01D_05M_ORB.SP3.gz\n",
      "C:\\Users\\varga\\Box\\Data\\nc Files\\PACQUI\\aux_orbits\\GFZ0MGXRAP_20252300000_01D_05M_ORB.SP3 file is read in 4.01 seconds\n",
      "C:\\Users\\varga\\Box\\Data\\nc Files\\PACQUI\\aux_orbits\\GFZ0MGXRAP_20252290000_01D_30S_CLK.CLK exists | Reading...\n",
      "C:\\Users\\varga\\Box\\Data\\nc Files\\PACQUI\\aux_orbits\\GFZ0MGXRAP_20252290000_01D_30S_CLK.CLK file is read in 2.64 seconds\n",
      "This file does not exist: C:\\Users\\varga\\Box\\Data\\nc Files\\PACQUI\\aux_orbits\\GFZ0MGXRAP_20252300000_01D_30S_CLK.CLK\n",
      "Downloading: GFZ0MGXRAP_20252300000_01D_30S_CLK.CLK.gz"
     ]
    },
    {
     "name": "stderr",
     "output_type": "stream",
     "text": [
      "GFZ0MGXRAP_20252300000_01D_30S_CLK.CLK.gz: 4.71MB [00:04, 1.16MB/s]                            \n"
     ]
    },
    {
     "name": "stdout",
     "output_type": "stream",
     "text": [
      " | Download completed for GFZ0MGXRAP_20252300000_01D_30S_CLK.CLK.gz\n",
      "C:\\Users\\varga\\Box\\Data\\nc Files\\PACQUI\\aux_orbits\\GFZ0MGXRAP_20252300000_01D_30S_CLK.CLK file is read in 1.79 seconds\n",
      "SP3 interpolation is done in 2.54 seconds\n",
      "Saved 98148 individual observations in C:\\Users\\varga\\Box\\Data\\nc Files\\PACQUI\\processed\\PACQUI_raw_20250817210800.nc\n",
      "[OK] PACQUI_raw_20250817210800.25O\n",
      "Could not find any files matching the pattern C:\\Users\\varga\\Box\\Data\\nc Files\\PACQUI\\processed*.nc\n",
      "C:\\Users\\varga\\Box\\Data\\nc Files\\PACQUI\\PACQUI_raw_20250818210801.25O exists | Reading...\n",
      "Observation file  C:\\Users\\varga\\Box\\Data\\nc Files\\PACQUI\\PACQUI_raw_20250818210801.25O  is read in 1.97 seconds.\n",
      "Processing 98696 individual observations\n",
      "Calculating Azimuth and Elevation\n",
      "C:\\Users\\varga\\Box\\Data\\nc Files\\PACQUI\\aux_orbits\\GFZ0MGXRAP_20252300000_01D_05M_ORB.SP3 exists | Reading...\n",
      "C:\\Users\\varga\\Box\\Data\\nc Files\\PACQUI\\aux_orbits\\GFZ0MGXRAP_20252300000_01D_05M_ORB.SP3 file is read in 0.66 seconds\n",
      "This file does not exist: C:\\Users\\varga\\Box\\Data\\nc Files\\PACQUI\\aux_orbits\\GFZ0MGXRAP_20252310000_01D_05M_ORB.SP3\n",
      "Downloading: ftp://gssc.esa.int/gnss/products/2380//GFZ0MGXRAP_20252310000_01D_05M_ORB.SP3.gz"
     ]
    },
    {
     "name": "stderr",
     "output_type": "stream",
     "text": [
      "GFZ0MGXRAP_20252310000_01D_05M_ORB.SP3.gz: 1.02MB [00:03, 311kB/s]                             \n"
     ]
    },
    {
     "name": "stdout",
     "output_type": "stream",
     "text": [
      " | Download completed for ftp://gssc.esa.int/gnss/products/2380//GFZ0MGXRAP_20252310000_01D_05M_ORB.SP3.gz\n",
      "C:\\Users\\varga\\Box\\Data\\nc Files\\PACQUI\\aux_orbits\\GFZ0MGXRAP_20252310000_01D_05M_ORB.SP3 file is read in 4.17 seconds\n",
      "C:\\Users\\varga\\Box\\Data\\nc Files\\PACQUI\\aux_orbits\\GFZ0MGXRAP_20252300000_01D_30S_CLK.CLK exists | Reading...\n",
      "C:\\Users\\varga\\Box\\Data\\nc Files\\PACQUI\\aux_orbits\\GFZ0MGXRAP_20252300000_01D_30S_CLK.CLK file is read in 2.76 seconds\n",
      "This file does not exist: C:\\Users\\varga\\Box\\Data\\nc Files\\PACQUI\\aux_orbits\\GFZ0MGXRAP_20252310000_01D_30S_CLK.CLK\n",
      "Downloading: GFZ0MGXRAP_20252310000_01D_30S_CLK.CLK.gz"
     ]
    },
    {
     "name": "stderr",
     "output_type": "stream",
     "text": [
      "GFZ0MGXRAP_20252310000_01D_30S_CLK.CLK.gz: 4.75MB [00:03, 1.25MB/s]                            \n"
     ]
    },
    {
     "name": "stdout",
     "output_type": "stream",
     "text": [
      " | Download completed for GFZ0MGXRAP_20252310000_01D_30S_CLK.CLK.gz\n",
      "C:\\Users\\varga\\Box\\Data\\nc Files\\PACQUI\\aux_orbits\\GFZ0MGXRAP_20252310000_01D_30S_CLK.CLK file is read in 2.66 seconds\n",
      "SP3 interpolation is done in 13.49 seconds\n",
      "Saved 98696 individual observations in C:\\Users\\varga\\Box\\Data\\nc Files\\PACQUI\\processed\\PACQUI_raw_20250818210801.nc\n",
      "[OK] PACQUI_raw_20250818210801.25O\n",
      "Could not find any files matching the pattern C:\\Users\\varga\\Box\\Data\\nc Files\\PACQUI\\processed*.nc\n",
      "C:\\Users\\varga\\Box\\Data\\nc Files\\PACQUI\\PACQUI_raw_20250819210801.25O exists | Reading...\n",
      "Observation file  C:\\Users\\varga\\Box\\Data\\nc Files\\PACQUI\\PACQUI_raw_20250819210801.25O  is read in 1.88 seconds.\n",
      "Processing 96559 individual observations\n",
      "Calculating Azimuth and Elevation\n",
      "C:\\Users\\varga\\Box\\Data\\nc Files\\PACQUI\\aux_orbits\\GFZ0MGXRAP_20252310000_01D_05M_ORB.SP3 exists | Reading...\n",
      "C:\\Users\\varga\\Box\\Data\\nc Files\\PACQUI\\aux_orbits\\GFZ0MGXRAP_20252310000_01D_05M_ORB.SP3 file is read in 0.38 seconds\n",
      "This file does not exist: C:\\Users\\varga\\Box\\Data\\nc Files\\PACQUI\\aux_orbits\\GFZ0MGXRAP_20252320000_01D_05M_ORB.SP3\n",
      "Downloading: ftp://gssc.esa.int/gnss/products/2380//GFZ0MGXRAP_20252320000_01D_05M_ORB.SP3.gz"
     ]
    },
    {
     "name": "stderr",
     "output_type": "stream",
     "text": [
      "GFZ0MGXRAP_20252320000_01D_05M_ORB.SP3.gz: 1.03MB [01:22, 13.1kB/s]                            \n"
     ]
    },
    {
     "name": "stdout",
     "output_type": "stream",
     "text": [
      " | Download completed for ftp://gssc.esa.int/gnss/products/2380//GFZ0MGXRAP_20252320000_01D_05M_ORB.SP3.gz\n",
      "C:\\Users\\varga\\Box\\Data\\nc Files\\PACQUI\\aux_orbits\\GFZ0MGXRAP_20252320000_01D_05M_ORB.SP3 file is read in 82.92 seconds\n",
      "C:\\Users\\varga\\Box\\Data\\nc Files\\PACQUI\\aux_orbits\\GFZ0MGXRAP_20252310000_01D_30S_CLK.CLK exists | Reading...\n",
      "C:\\Users\\varga\\Box\\Data\\nc Files\\PACQUI\\aux_orbits\\GFZ0MGXRAP_20252310000_01D_30S_CLK.CLK file is read in 1.90 seconds\n",
      "This file does not exist: C:\\Users\\varga\\Box\\Data\\nc Files\\PACQUI\\aux_orbits\\GFZ0MGXRAP_20252320000_01D_30S_CLK.CLK\n",
      "Downloading: GFZ0MGXRAP_20252320000_01D_30S_CLK.CLK.gz"
     ]
    },
    {
     "name": "stderr",
     "output_type": "stream",
     "text": [
      "GFZ0MGXRAP_20252320000_01D_30S_CLK.CLK.gz: 4.77MB [00:03, 1.28MB/s]                            \n"
     ]
    },
    {
     "name": "stdout",
     "output_type": "stream",
     "text": [
      " | Download completed for GFZ0MGXRAP_20252320000_01D_30S_CLK.CLK.gz\n",
      "C:\\Users\\varga\\Box\\Data\\nc Files\\PACQUI\\aux_orbits\\GFZ0MGXRAP_20252320000_01D_30S_CLK.CLK file is read in 2.05 seconds\n",
      "SP3 interpolation is done in 2.68 seconds\n",
      "Saved 96559 individual observations in C:\\Users\\varga\\Box\\Data\\nc Files\\PACQUI\\processed\\PACQUI_raw_20250819210801.nc\n",
      "[OK] PACQUI_raw_20250819210801.25O\n",
      "Could not find any files matching the pattern C:\\Users\\varga\\Box\\Data\\nc Files\\PACQUI\\processed*.nc\n",
      "C:\\Users\\varga\\Box\\Data\\nc Files\\PACQUI\\PACQUI_raw_20250820210802.25O exists | Reading...\n",
      "Observation file  C:\\Users\\varga\\Box\\Data\\nc Files\\PACQUI\\PACQUI_raw_20250820210802.25O  is read in 1.94 seconds.\n",
      "Processing 97282 individual observations\n",
      "Calculating Azimuth and Elevation\n",
      "C:\\Users\\varga\\Box\\Data\\nc Files\\PACQUI\\aux_orbits\\GFZ0MGXRAP_20252320000_01D_05M_ORB.SP3 exists | Reading...\n",
      "C:\\Users\\varga\\Box\\Data\\nc Files\\PACQUI\\aux_orbits\\GFZ0MGXRAP_20252320000_01D_05M_ORB.SP3 file is read in 0.49 seconds\n",
      "This file does not exist: C:\\Users\\varga\\Box\\Data\\nc Files\\PACQUI\\aux_orbits\\GFZ0MGXRAP_20252330000_01D_05M_ORB.SP3\n",
      "Downloading: ftp://gssc.esa.int/gnss/products/2380//GFZ0MGXRAP_20252330000_01D_05M_ORB.SP3.gz"
     ]
    },
    {
     "name": "stderr",
     "output_type": "stream",
     "text": [
      "GFZ0MGXRAP_20252330000_01D_05M_ORB.SP3.gz: 1.03MB [00:03, 316kB/s]                             \n"
     ]
    },
    {
     "name": "stdout",
     "output_type": "stream",
     "text": [
      " | Download completed for ftp://gssc.esa.int/gnss/products/2380//GFZ0MGXRAP_20252330000_01D_05M_ORB.SP3.gz\n",
      "C:\\Users\\varga\\Box\\Data\\nc Files\\PACQUI\\aux_orbits\\GFZ0MGXRAP_20252330000_01D_05M_ORB.SP3 file is read in 3.98 seconds\n",
      "C:\\Users\\varga\\Box\\Data\\nc Files\\PACQUI\\aux_orbits\\GFZ0MGXRAP_20252320000_01D_30S_CLK.CLK exists | Reading...\n",
      "C:\\Users\\varga\\Box\\Data\\nc Files\\PACQUI\\aux_orbits\\GFZ0MGXRAP_20252320000_01D_30S_CLK.CLK file is read in 2.03 seconds\n",
      "This file does not exist: C:\\Users\\varga\\Box\\Data\\nc Files\\PACQUI\\aux_orbits\\GFZ0MGXRAP_20252330000_01D_30S_CLK.CLK\n",
      "Downloading: GFZ0MGXRAP_20252330000_01D_30S_CLK.CLK.gz"
     ]
    },
    {
     "name": "stderr",
     "output_type": "stream",
     "text": [
      "GFZ0MGXRAP_20252330000_01D_30S_CLK.CLK.gz: 4.76MB [00:04, 1.04MB/s]                            \n"
     ]
    },
    {
     "name": "stdout",
     "output_type": "stream",
     "text": [
      " | Download completed for GFZ0MGXRAP_20252330000_01D_30S_CLK.CLK.gz\n",
      "C:\\Users\\varga\\Box\\Data\\nc Files\\PACQUI\\aux_orbits\\GFZ0MGXRAP_20252330000_01D_30S_CLK.CLK file is read in 2.05 seconds\n",
      "SP3 interpolation is done in 2.56 seconds\n",
      "Saved 97282 individual observations in C:\\Users\\varga\\Box\\Data\\nc Files\\PACQUI\\processed\\PACQUI_raw_20250820210802.nc\n",
      "[OK] PACQUI_raw_20250820210802.25O\n",
      "Could not find any files matching the pattern C:\\Users\\varga\\Box\\Data\\nc Files\\PACQUI\\processed*.nc\n",
      "C:\\Users\\varga\\Box\\Data\\nc Files\\PACQUI\\PACQUI_raw_20250821210803.25O exists | Reading...\n",
      "Observation file  C:\\Users\\varga\\Box\\Data\\nc Files\\PACQUI\\PACQUI_raw_20250821210803.25O  is read in 2.06 seconds.\n",
      "Processing 98862 individual observations\n",
      "Calculating Azimuth and Elevation\n",
      "C:\\Users\\varga\\Box\\Data\\nc Files\\PACQUI\\aux_orbits\\GFZ0MGXRAP_20252330000_01D_05M_ORB.SP3 exists | Reading...\n",
      "C:\\Users\\varga\\Box\\Data\\nc Files\\PACQUI\\aux_orbits\\GFZ0MGXRAP_20252330000_01D_05M_ORB.SP3 file is read in 0.63 seconds\n",
      "This file does not exist: C:\\Users\\varga\\Box\\Data\\nc Files\\PACQUI\\aux_orbits\\GFZ0MGXRAP_20252340000_01D_05M_ORB.SP3\n",
      "Downloading: ftp://gssc.esa.int/gnss/products/2380//GFZ0MGXRAP_20252340000_01D_05M_ORB.SP3.gz"
     ]
    },
    {
     "name": "stderr",
     "output_type": "stream",
     "text": [
      "GFZ0MGXRAP_20252340000_01D_05M_ORB.SP3.gz: 1.03MB [00:03, 334kB/s]                             \n"
     ]
    },
    {
     "name": "stdout",
     "output_type": "stream",
     "text": [
      " | Download completed for ftp://gssc.esa.int/gnss/products/2380//GFZ0MGXRAP_20252340000_01D_05M_ORB.SP3.gz\n",
      "C:\\Users\\varga\\Box\\Data\\nc Files\\PACQUI\\aux_orbits\\GFZ0MGXRAP_20252340000_01D_05M_ORB.SP3 file is read in 3.71 seconds\n",
      "C:\\Users\\varga\\Box\\Data\\nc Files\\PACQUI\\aux_orbits\\GFZ0MGXRAP_20252330000_01D_30S_CLK.CLK exists | Reading...\n",
      "C:\\Users\\varga\\Box\\Data\\nc Files\\PACQUI\\aux_orbits\\GFZ0MGXRAP_20252330000_01D_30S_CLK.CLK file is read in 2.03 seconds\n",
      "This file does not exist: C:\\Users\\varga\\Box\\Data\\nc Files\\PACQUI\\aux_orbits\\GFZ0MGXRAP_20252340000_01D_30S_CLK.CLK\n",
      "Downloading: GFZ0MGXRAP_20252340000_01D_30S_CLK.CLK.gz"
     ]
    },
    {
     "name": "stderr",
     "output_type": "stream",
     "text": [
      "GFZ0MGXRAP_20252340000_01D_30S_CLK.CLK.gz: 4.79MB [00:04, 1.14MB/s]                            \n"
     ]
    },
    {
     "name": "stdout",
     "output_type": "stream",
     "text": [
      " | Download completed for GFZ0MGXRAP_20252340000_01D_30S_CLK.CLK.gz\n",
      "C:\\Users\\varga\\Box\\Data\\nc Files\\PACQUI\\aux_orbits\\GFZ0MGXRAP_20252340000_01D_30S_CLK.CLK file is read in 2.20 seconds\n",
      "SP3 interpolation is done in 3.05 seconds\n",
      "Saved 98862 individual observations in C:\\Users\\varga\\Box\\Data\\nc Files\\PACQUI\\processed\\PACQUI_raw_20250821210803.nc\n",
      "[OK] PACQUI_raw_20250821210803.25O\n",
      "Could not find any files matching the pattern C:\\Users\\varga\\Box\\Data\\nc Files\\PACQUI\\processed*.nc\n",
      "C:\\Users\\varga\\Box\\Data\\nc Files\\PACQUI\\PACQUI_raw_20250822210804.25O exists | Reading...\n",
      "Observation file  C:\\Users\\varga\\Box\\Data\\nc Files\\PACQUI\\PACQUI_raw_20250822210804.25O  is read in 3.14 seconds.\n",
      "Processing 97577 individual observations\n",
      "Calculating Azimuth and Elevation\n",
      "C:\\Users\\varga\\Box\\Data\\nc Files\\PACQUI\\aux_orbits\\GFZ0MGXRAP_20252340000_01D_05M_ORB.SP3 exists | Reading...\n",
      "C:\\Users\\varga\\Box\\Data\\nc Files\\PACQUI\\aux_orbits\\GFZ0MGXRAP_20252340000_01D_05M_ORB.SP3 file is read in 0.64 seconds\n",
      "This file does not exist: C:\\Users\\varga\\Box\\Data\\nc Files\\PACQUI\\aux_orbits\\GFZ0MGXRAP_20252350000_01D_05M_ORB.SP3\n",
      "Downloading: ftp://gssc.esa.int/gnss/products/2380//GFZ0MGXRAP_20252350000_01D_05M_ORB.SP3.gz"
     ]
    },
    {
     "name": "stderr",
     "output_type": "stream",
     "text": [
      "GFZ0MGXRAP_20252350000_01D_05M_ORB.SP3.gz: 0.00B [00:02, ?B/s]\n"
     ]
    },
    {
     "name": "stdout",
     "output_type": "stream",
     "text": [
      "<urlopen error <urlopen error ftp error: error_perm('550 CWD command failed: directory not found.')>>\n",
      " | Requested file ftp://gssc.esa.int/gnss/products/2380//GFZ0MGXRAP_20252350000_01D_05M_ORB.SP3.gz cannot be not found!\n",
      "[WARN] Skipping due to error: PACQUI_raw_20250822210804.25O\n",
      "        [Errno 2] No such file or directory: 'C:\\\\Users\\\\varga\\\\Box\\\\Data\\\\nc Files\\\\PACQUI\\\\aux_orbits\\\\GFZ0MGXRAP_20252350000_01D_05M_ORB.SP3'\n",
      "Could not find any files matching the pattern C:\\Users\\varga\\Box\\Data\\nc Files\\PACQUI\\processed*.nc\n",
      "C:\\Users\\varga\\Box\\Data\\nc Files\\PACQUI\\PACQUI_raw_20250823210805.25O exists | Reading...\n",
      "Observation file  C:\\Users\\varga\\Box\\Data\\nc Files\\PACQUI\\PACQUI_raw_20250823210805.25O  is read in 0.18 seconds.\n",
      "Processing 6144 individual observations\n",
      "Calculating Azimuth and Elevation\n",
      "This file does not exist: C:\\Users\\varga\\Box\\Data\\nc Files\\PACQUI\\aux_orbits\\GFZ0MGXRAP_20252350000_01D_05M_ORB.SP3\n",
      "Downloading: ftp://gssc.esa.int/gnss/products/2380//GFZ0MGXRAP_20252350000_01D_05M_ORB.SP3.gz"
     ]
    },
    {
     "name": "stderr",
     "output_type": "stream",
     "text": [
      "GFZ0MGXRAP_20252350000_01D_05M_ORB.SP3.gz: 0.00B [00:02, ?B/s]"
     ]
    },
    {
     "name": "stdout",
     "output_type": "stream",
     "text": [
      "<urlopen error <urlopen error ftp error: error_perm('550 CWD command failed: directory not found.')>>\n",
      " | Requested file ftp://gssc.esa.int/gnss/products/2380//GFZ0MGXRAP_20252350000_01D_05M_ORB.SP3.gz cannot be not found!\n",
      "[WARN] Skipping due to error: PACQUI_raw_20250823210805.25O\n",
      "        [Errno 2] No such file or directory: 'C:\\\\Users\\\\varga\\\\Box\\\\Data\\\\nc Files\\\\PACQUI\\\\aux_orbits\\\\GFZ0MGXRAP_20252350000_01D_05M_ORB.SP3'\n",
      "\n",
      "===== SUMMARY =====\n",
      "Processed OK: 130\n",
      "Skipped    : 0 (already had output)\n",
      "Failed     : 2\n",
      "\n",
      "Files that failed:\n",
      " - C:\\Users\\varga\\Box\\Data\\nc Files\\PACQUI\\PACQUI_raw_20250822210804.25O: [Errno 2] No such file or directory: 'C:\\\\Users\\\\varga\\\\Box\\\\Data\\\\nc Files\\\\PACQUI\\\\aux_orbits\\\\GFZ0MGXRAP_20252350000_01D_05M_ORB.SP3'\n",
      " - C:\\Users\\varga\\Box\\Data\\nc Files\\PACQUI\\PACQUI_raw_20250823210805.25O: [Errno 2] No such file or directory: 'C:\\\\Users\\\\varga\\\\Box\\\\Data\\\\nc Files\\\\PACQUI\\\\aux_orbits\\\\GFZ0MGXRAP_20252350000_01D_05M_ORB.SP3'\n"
     ]
    },
    {
     "name": "stderr",
     "output_type": "stream",
     "text": [
      "\n"
     ]
    }
   ],
   "source": [
    "from pathlib import Path\n",
    "import glob\n",
    "import os\n",
    "import xarray as xr\n",
    "import gnssvod as gv\n",
    "\n",
    "# ==== Configuration ====\n",
    "FORCE_REDO = False  # set True to reprocess even if output exists\n",
    "\n",
    "# Folder containing all PACQUI .25O files\n",
    "DEST = Path(r\"C:\\Users\\varga\\Box\\Data\\nc Files\\PACQUI\")\n",
    "\n",
    "# 1) Input RINEX file list\n",
    "rinex_files = sorted(glob.glob(str(DEST / '*.25O')))\n",
    "print(f'Found {len(rinex_files)} .25O files (showing up to 5):', rinex_files[:5])\n",
    "if len(rinex_files) == 0:\n",
    "    raise FileNotFoundError(\"No .25O files found in DEST folder. Check DEST and file existence.\")\n",
    "\n",
    "# 2) Output folder for NetCDF files\n",
    "outdir = DEST / \"processed\"\n",
    "outdir.mkdir(parents=True, exist_ok=True)\n",
    "\n",
    "# 3) Persistent folder for orbits/clocks\n",
    "aux_dir = DEST / \"aux_orbits\"\n",
    "aux_dir.mkdir(parents=True, exist_ok=True)\n",
    "\n",
    "# 4) Variables to keep (SNR)\n",
    "keepvars = ['S?', 'S??']\n",
    "\n",
    "# ---- Utility functions to decide whether processing is needed ----\n",
    "def has_output_for(stem: str) -> bool:\n",
    "    nc_hits = list(outdir.glob(f\"{stem}*.nc\"))\n",
    "    zarr_hits = list(outdir.glob(f\"{stem}*.zarr\"))\n",
    "    return (len(nc_hits) + len(zarr_hits)) > 0\n",
    "\n",
    "def needs_processing(rinex_path: str) -> bool:\n",
    "    if FORCE_REDO:\n",
    "        return True\n",
    "    stem = Path(rinex_path).stem\n",
    "    return not has_output_for(stem)\n",
    "\n",
    "ok, bad, skipped = [], [], []\n",
    "\n",
    "# 5) Process each file with error handling\n",
    "for rinex in rinex_files:\n",
    "    stem = Path(rinex).stem\n",
    "\n",
    "    if not needs_processing(rinex):\n",
    "        print(f\"[SKIP] {stem} (output already exists in '{outdir.name}')\")\n",
    "        skipped.append(rinex)\n",
    "        continue\n",
    "\n",
    "    try:\n",
    "        # Pattern and output for this file\n",
    "        pattern = {'PACQUI': rinex}\n",
    "        outputdir = {'PACQUI': str(outdir)}\n",
    "\n",
    "        result = gv.preprocess(\n",
    "            pattern,\n",
    "            interval='15s',\n",
    "            keepvars=keepvars,\n",
    "            outputdir=outputdir,\n",
    "            outputresult=True,\n",
    "            aux_path=str(aux_dir)\n",
    "        )\n",
    "\n",
    "        # Basic validation of the result\n",
    "        pacqui_res = result.get('PACQUI', [])\n",
    "        if isinstance(pacqui_res, list):\n",
    "            if not pacqui_res:\n",
    "                raise ValueError(f\"No dataset produced for: {rinex}\")\n",
    "            _ = pacqui_res[0]\n",
    "        elif isinstance(pacqui_res, xr.Dataset):\n",
    "            _ = pacqui_res\n",
    "        else:\n",
    "            raise TypeError(f\"Unexpected return type for 'PACQUI': {type(pacqui_res)}\")\n",
    "\n",
    "        print(f\"[OK] {Path(rinex).name}\")\n",
    "        ok.append(rinex)\n",
    "\n",
    "    except Exception as e:\n",
    "        print(f\"[WARN] Skipping due to error: {Path(rinex).name}\")\n",
    "        print(\"       \", e)\n",
    "        bad.append((rinex, str(e)))\n",
    "        continue\n",
    "\n",
    "# 6) Final summary\n",
    "print(\"\\n===== SUMMARY =====\")\n",
    "print(f\"Processed OK: {len(ok)}\")\n",
    "print(f\"Skipped    : {len(skipped)} (already had output)\")\n",
    "print(f\"Failed     : {len(bad)}\")\n",
    "\n",
    "if bad:\n",
    "    print(\"\\nFiles that failed:\")\n",
    "    for fname, err in bad:\n",
    "        print(f\" - {fname}: {err}\")\n",
    "else:\n",
    "    print(\"\\nAll files processed successfully! 🤙\")"
   ]
  }
 ],
 "metadata": {
  "kernelspec": {
   "display_name": "Python 3",
   "language": "python",
   "name": "python3"
  },
  "language_info": {
   "codemirror_mode": {
    "name": "ipython",
    "version": 3
   },
   "file_extension": ".py",
   "mimetype": "text/x-python",
   "name": "python",
   "nbconvert_exporter": "python",
   "pygments_lexer": "ipython3",
   "version": "3.11.9"
  }
 },
 "nbformat": 4,
 "nbformat_minor": 5
}
